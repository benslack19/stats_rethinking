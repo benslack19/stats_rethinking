{
 "cells": [
  {
   "cell_type": "code",
   "execution_count": 1,
   "id": "complicated-hampton",
   "metadata": {
    "ExecuteTime": {
     "end_time": "2021-02-26T16:12:40.443376Z",
     "start_time": "2021-02-26T16:12:37.541Z"
    }
   },
   "outputs": [
    {
     "name": "stderr",
     "output_type": "stream",
     "text": [
      "Loading required package: rstan\n",
      "\n",
      "Loading required package: StanHeaders\n",
      "\n",
      "Loading required package: ggplot2\n",
      "\n",
      "rstan (Version 2.21.2, GitRev: 2e1f913d3ca3)\n",
      "\n",
      "For execution on a local, multicore CPU with excess RAM we recommend calling\n",
      "options(mc.cores = parallel::detectCores()).\n",
      "To avoid recompilation of unchanged Stan programs, we recommend calling\n",
      "rstan_options(auto_write = TRUE)\n",
      "\n",
      "Loading required package: parallel\n",
      "\n",
      "rethinking (Version 2.13)\n",
      "\n",
      "\n",
      "Attaching package: ‘rethinking’\n",
      "\n",
      "\n",
      "The following object is masked from ‘package:stats’:\n",
      "\n",
      "    rstudent\n",
      "\n",
      "\n",
      "── \u001b[1mAttaching packages\u001b[22m ─────────────────────────────────────── tidyverse 1.3.0 ──\n",
      "\n",
      "\u001b[32m✔\u001b[39m \u001b[34mtibble \u001b[39m 3.0.5     \u001b[32m✔\u001b[39m \u001b[34mdplyr  \u001b[39m 1.0.3\n",
      "\u001b[32m✔\u001b[39m \u001b[34mtidyr  \u001b[39m 1.1.2     \u001b[32m✔\u001b[39m \u001b[34mstringr\u001b[39m 1.4.0\n",
      "\u001b[32m✔\u001b[39m \u001b[34mreadr  \u001b[39m 1.4.0     \u001b[32m✔\u001b[39m \u001b[34mforcats\u001b[39m 0.5.0\n",
      "\u001b[32m✔\u001b[39m \u001b[34mpurrr  \u001b[39m 0.3.4     \n",
      "\n",
      "── \u001b[1mConflicts\u001b[22m ────────────────────────────────────────── tidyverse_conflicts() ──\n",
      "\u001b[31m✖\u001b[39m \u001b[34mtidyr\u001b[39m::\u001b[32mextract()\u001b[39m masks \u001b[34mrstan\u001b[39m::extract()\n",
      "\u001b[31m✖\u001b[39m \u001b[34mdplyr\u001b[39m::\u001b[32mfilter()\u001b[39m  masks \u001b[34mstats\u001b[39m::filter()\n",
      "\u001b[31m✖\u001b[39m \u001b[34mdplyr\u001b[39m::\u001b[32mlag()\u001b[39m     masks \u001b[34mstats\u001b[39m::lag()\n",
      "\u001b[31m✖\u001b[39m \u001b[34mpurrr\u001b[39m::\u001b[32mmap()\u001b[39m     masks \u001b[34mrethinking\u001b[39m::map()\n",
      "\n"
     ]
    }
   ],
   "source": [
    "library(rethinking)\n",
    "library(tidyverse)\n",
    "data(Howell1)"
   ]
  },
  {
   "cell_type": "code",
   "execution_count": null,
   "id": "sustained-magic",
   "metadata": {
    "ExecuteTime": {
     "end_time": "2021-02-26T16:13:10.559586Z",
     "start_time": "2021-02-26T16:13:10.524Z"
    }
   },
   "outputs": [],
   "source": [
    "d <- Howell1\n",
    "d2 <- d[ d$age >= 18 , ]\n",
    "xbar <- mean(d2$weight)"
   ]
  },
  {
   "cell_type": "code",
   "execution_count": 4,
   "id": "difficult-essay",
   "metadata": {
    "ExecuteTime": {
     "end_time": "2021-02-26T16:14:11.014128Z",
     "start_time": "2021-02-26T16:14:10.991Z"
    }
   },
   "outputs": [
    {
     "data": {
      "text/html": [
       "<table>\n",
       "<caption>A data.frame: 6 × 4</caption>\n",
       "<thead>\n",
       "\t<tr><th></th><th scope=col>height</th><th scope=col>weight</th><th scope=col>age</th><th scope=col>male</th></tr>\n",
       "\t<tr><th></th><th scope=col>&lt;dbl&gt;</th><th scope=col>&lt;dbl&gt;</th><th scope=col>&lt;dbl&gt;</th><th scope=col>&lt;int&gt;</th></tr>\n",
       "</thead>\n",
       "<tbody>\n",
       "\t<tr><th scope=row>1</th><td>151.765</td><td>47.82561</td><td>63</td><td>1</td></tr>\n",
       "\t<tr><th scope=row>2</th><td>139.700</td><td>36.48581</td><td>63</td><td>0</td></tr>\n",
       "\t<tr><th scope=row>3</th><td>136.525</td><td>31.86484</td><td>65</td><td>0</td></tr>\n",
       "\t<tr><th scope=row>4</th><td>156.845</td><td>53.04191</td><td>41</td><td>1</td></tr>\n",
       "\t<tr><th scope=row>5</th><td>145.415</td><td>41.27687</td><td>51</td><td>0</td></tr>\n",
       "\t<tr><th scope=row>6</th><td>163.830</td><td>62.99259</td><td>35</td><td>1</td></tr>\n",
       "</tbody>\n",
       "</table>\n"
      ],
      "text/latex": [
       "A data.frame: 6 × 4\n",
       "\\begin{tabular}{r|llll}\n",
       "  & height & weight & age & male\\\\\n",
       "  & <dbl> & <dbl> & <dbl> & <int>\\\\\n",
       "\\hline\n",
       "\t1 & 151.765 & 47.82561 & 63 & 1\\\\\n",
       "\t2 & 139.700 & 36.48581 & 63 & 0\\\\\n",
       "\t3 & 136.525 & 31.86484 & 65 & 0\\\\\n",
       "\t4 & 156.845 & 53.04191 & 41 & 1\\\\\n",
       "\t5 & 145.415 & 41.27687 & 51 & 0\\\\\n",
       "\t6 & 163.830 & 62.99259 & 35 & 1\\\\\n",
       "\\end{tabular}\n"
      ],
      "text/markdown": [
       "\n",
       "A data.frame: 6 × 4\n",
       "\n",
       "| <!--/--> | height &lt;dbl&gt; | weight &lt;dbl&gt; | age &lt;dbl&gt; | male &lt;int&gt; |\n",
       "|---|---|---|---|---|\n",
       "| 1 | 151.765 | 47.82561 | 63 | 1 |\n",
       "| 2 | 139.700 | 36.48581 | 63 | 0 |\n",
       "| 3 | 136.525 | 31.86484 | 65 | 0 |\n",
       "| 4 | 156.845 | 53.04191 | 41 | 1 |\n",
       "| 5 | 145.415 | 41.27687 | 51 | 0 |\n",
       "| 6 | 163.830 | 62.99259 | 35 | 1 |\n",
       "\n"
      ],
      "text/plain": [
       "  height  weight   age male\n",
       "1 151.765 47.82561 63  1   \n",
       "2 139.700 36.48581 63  0   \n",
       "3 136.525 31.86484 65  0   \n",
       "4 156.845 53.04191 41  1   \n",
       "5 145.415 41.27687 51  0   \n",
       "6 163.830 62.99259 35  1   "
      ]
     },
     "metadata": {},
     "output_type": "display_data"
    }
   ],
   "source": [
    "head(d2)"
   ]
  },
  {
   "cell_type": "code",
   "execution_count": 5,
   "id": "rental-aruba",
   "metadata": {
    "ExecuteTime": {
     "end_time": "2021-02-26T16:14:15.370762Z",
     "start_time": "2021-02-26T16:14:15.310Z"
    }
   },
   "outputs": [],
   "source": [
    "m4.3 <- quap(\n",
    "    alist(\n",
    "        height ~ dnorm( mu , sigma ) ,\n",
    "        mu <- a + b*( weight - xbar ) ,\n",
    "        a ~ dnorm( 178 , 20 ) ,\n",
    "        b ~ dlnorm( 0 , 1 ) ,\n",
    "        sigma ~ dunif( 0 , 50 )\n",
    "    ) , data=d2 )"
   ]
  },
  {
   "cell_type": "code",
   "execution_count": 6,
   "id": "arabic-cover",
   "metadata": {
    "ExecuteTime": {
     "end_time": "2021-02-26T16:14:31.386691Z",
     "start_time": "2021-02-26T16:14:31.226Z"
    }
   },
   "outputs": [],
   "source": [
    "dat <- data.frame( weight=c(45,40,65,31) )\n",
    "h_sim <- sim( m4.3 , data=dat )\n",
    "Eh <- apply(h_sim,2,mean)\n",
    "h_ci <- apply(h_sim,2,PI,prob=0.89)"
   ]
  },
  {
   "cell_type": "code",
   "execution_count": 7,
   "id": "stunning-smart",
   "metadata": {
    "ExecuteTime": {
     "end_time": "2021-02-26T16:14:40.822052Z",
     "start_time": "2021-02-26T16:14:40.797Z"
    }
   },
   "outputs": [
    {
     "data": {
      "text/html": [
       "<table>\n",
       "<caption>A data.frame: 4 × 4</caption>\n",
       "<thead>\n",
       "\t<tr><th scope=col>weight</th><th scope=col>Eh</th><th scope=col>L89</th><th scope=col>U89</th></tr>\n",
       "\t<tr><th scope=col>&lt;dbl&gt;</th><th scope=col>&lt;dbl&gt;</th><th scope=col>&lt;dbl&gt;</th><th scope=col>&lt;dbl&gt;</th></tr>\n",
       "</thead>\n",
       "<tbody>\n",
       "\t<tr><td>45</td><td>154.5</td><td>146.4</td><td>162.3</td></tr>\n",
       "\t<tr><td>40</td><td>150.0</td><td>142.0</td><td>158.1</td></tr>\n",
       "\t<tr><td>65</td><td>172.6</td><td>164.5</td><td>181.1</td></tr>\n",
       "\t<tr><td>31</td><td>141.8</td><td>133.3</td><td>150.2</td></tr>\n",
       "</tbody>\n",
       "</table>\n"
      ],
      "text/latex": [
       "A data.frame: 4 × 4\n",
       "\\begin{tabular}{llll}\n",
       " weight & Eh & L89 & U89\\\\\n",
       " <dbl> & <dbl> & <dbl> & <dbl>\\\\\n",
       "\\hline\n",
       "\t 45 & 154.5 & 146.4 & 162.3\\\\\n",
       "\t 40 & 150.0 & 142.0 & 158.1\\\\\n",
       "\t 65 & 172.6 & 164.5 & 181.1\\\\\n",
       "\t 31 & 141.8 & 133.3 & 150.2\\\\\n",
       "\\end{tabular}\n"
      ],
      "text/markdown": [
       "\n",
       "A data.frame: 4 × 4\n",
       "\n",
       "| weight &lt;dbl&gt; | Eh &lt;dbl&gt; | L89 &lt;dbl&gt; | U89 &lt;dbl&gt; |\n",
       "|---|---|---|---|\n",
       "| 45 | 154.5 | 146.4 | 162.3 |\n",
       "| 40 | 150.0 | 142.0 | 158.1 |\n",
       "| 65 | 172.6 | 164.5 | 181.1 |\n",
       "| 31 | 141.8 | 133.3 | 150.2 |\n",
       "\n"
      ],
      "text/plain": [
       "  weight Eh    L89   U89  \n",
       "1 45     154.5 146.4 162.3\n",
       "2 40     150.0 142.0 158.1\n",
       "3 65     172.6 164.5 181.1\n",
       "4 31     141.8 133.3 150.2"
      ]
     },
     "metadata": {},
     "output_type": "display_data"
    }
   ],
   "source": [
    "dat$Eh <- Eh\n",
    "dat$L89 <- h_ci[1,]\n",
    "dat$U89 <- h_ci[2,]\n",
    "round(dat,1)"
   ]
  },
  {
   "cell_type": "code",
   "execution_count": 9,
   "id": "beautiful-december",
   "metadata": {
    "ExecuteTime": {
     "end_time": "2021-02-26T17:17:43.882218Z",
     "start_time": "2021-02-26T17:17:43.867Z"
    }
   },
   "outputs": [
    {
     "data": {
      "text/html": [
       "<pre class=language-r><code>function (samples, prob = 0.89) \n",
       "{\n",
       "<span style=white-space:pre-wrap>    x &lt;- sapply(prob, function(p) {</span>\n",
       "<span style=white-space:pre-wrap>        a &lt;- (1 - p)/2</span>\n",
       "<span style=white-space:pre-wrap>        quantile(samples, probs = c(a, 1 - a))</span>\n",
       "<span style=white-space:pre-wrap>    })</span>\n",
       "<span style=white-space:pre-wrap>    n &lt;- length(prob)</span>\n",
       "<span style=white-space:pre-wrap>    result &lt;- rep(0, n * 2)</span>\n",
       "<span style=white-space:pre-wrap>    for (i in 1:n) {</span>\n",
       "<span style=white-space:pre-wrap>        low_idx &lt;- n + 1 - i</span>\n",
       "<span style=white-space:pre-wrap>        up_idx &lt;- n + i</span>\n",
       "<span style=white-space:pre-wrap>        result[low_idx] &lt;- x[1, i]</span>\n",
       "<span style=white-space:pre-wrap>        result[up_idx] &lt;- x[2, i]</span>\n",
       "<span style=white-space:pre-wrap>        a &lt;- (1 - prob[i])/2</span>\n",
       "<span style=white-space:pre-wrap>        names(result)[low_idx] &lt;- concat(round(a * 100, 0), \"%\")</span>\n",
       "<span style=white-space:pre-wrap>        names(result)[up_idx] &lt;- concat(round((1 - a) * 100, </span>\n",
       "<span style=white-space:pre-wrap>            0), \"%\")</span>\n",
       "<span style=white-space:pre-wrap>    }</span>\n",
       "<span style=white-space:pre-wrap>    return(result)</span>\n",
       "}</code></pre>"
      ],
      "text/latex": [
       "\\begin{minted}{r}\n",
       "function (samples, prob = 0.89) \n",
       "\\{\n",
       "    x <- sapply(prob, function(p) \\{\n",
       "        a <- (1 - p)/2\n",
       "        quantile(samples, probs = c(a, 1 - a))\n",
       "    \\})\n",
       "    n <- length(prob)\n",
       "    result <- rep(0, n * 2)\n",
       "    for (i in 1:n) \\{\n",
       "        low\\_idx <- n + 1 - i\n",
       "        up\\_idx <- n + i\n",
       "        result{[}low\\_idx{]} <- x{[}1, i{]}\n",
       "        result{[}up\\_idx{]} <- x{[}2, i{]}\n",
       "        a <- (1 - prob{[}i{]})/2\n",
       "        names(result){[}low\\_idx{]} <- concat(round(a * 100, 0), \"\\%\")\n",
       "        names(result){[}up\\_idx{]} <- concat(round((1 - a) * 100, \n",
       "            0), \"\\%\")\n",
       "    \\}\n",
       "    return(result)\n",
       "\\}\n",
       "\\end{minted}"
      ],
      "text/markdown": [
       "```r\n",
       "function (samples, prob = 0.89) \n",
       "{\n",
       "    x <- sapply(prob, function(p) {\n",
       "        a <- (1 - p)/2\n",
       "        quantile(samples, probs = c(a, 1 - a))\n",
       "    })\n",
       "    n <- length(prob)\n",
       "    result <- rep(0, n * 2)\n",
       "    for (i in 1:n) {\n",
       "        low_idx <- n + 1 - i\n",
       "        up_idx <- n + i\n",
       "        result[low_idx] <- x[1, i]\n",
       "        result[up_idx] <- x[2, i]\n",
       "        a <- (1 - prob[i])/2\n",
       "        names(result)[low_idx] <- concat(round(a * 100, 0), \"%\")\n",
       "        names(result)[up_idx] <- concat(round((1 - a) * 100, \n",
       "            0), \"%\")\n",
       "    }\n",
       "    return(result)\n",
       "}\n",
       "```"
      ],
      "text/plain": [
       "function (samples, prob = 0.89) \n",
       "{\n",
       "    x <- sapply(prob, function(p) {\n",
       "        a <- (1 - p)/2\n",
       "        quantile(samples, probs = c(a, 1 - a))\n",
       "    })\n",
       "    n <- length(prob)\n",
       "    result <- rep(0, n * 2)\n",
       "    for (i in 1:n) {\n",
       "        low_idx <- n + 1 - i\n",
       "        up_idx <- n + i\n",
       "        result[low_idx] <- x[1, i]\n",
       "        result[up_idx] <- x[2, i]\n",
       "        a <- (1 - prob[i])/2\n",
       "        names(result)[low_idx] <- concat(round(a * 100, 0), \"%\")\n",
       "        names(result)[up_idx] <- concat(round((1 - a) * 100, \n",
       "            0), \"%\")\n",
       "    }\n",
       "    return(result)\n",
       "}\n",
       "<bytecode: 0x7f8896a4b708>\n",
       "<environment: namespace:rethinking>"
      ]
     },
     "metadata": {},
     "output_type": "display_data"
    }
   ],
   "source": [
    "PI"
   ]
  },
  {
   "cell_type": "code",
   "execution_count": null,
   "id": "duplicate-desperate",
   "metadata": {},
   "outputs": [],
   "source": []
  }
 ],
 "metadata": {
  "kernelspec": {
   "display_name": "R",
   "language": "R",
   "name": "ir"
  },
  "latex_envs": {
   "LaTeX_envs_menu_present": true,
   "autoclose": false,
   "autocomplete": true,
   "bibliofile": "biblio.bib",
   "cite_by": "apalike",
   "current_citInitial": 1,
   "eqLabelWithNumbers": true,
   "eqNumInitial": 1,
   "hotkeys": {
    "equation": "Ctrl-E",
    "itemize": "Ctrl-I"
   },
   "labels_anchors": false,
   "latex_user_defs": false,
   "report_style_numbering": false,
   "user_envs_cfg": false
  },
  "toc": {
   "base_numbering": 1,
   "nav_menu": {},
   "number_sections": true,
   "sideBar": true,
   "skip_h1_title": false,
   "title_cell": "Table of Contents",
   "title_sidebar": "Contents",
   "toc_cell": false,
   "toc_position": {},
   "toc_section_display": true,
   "toc_window_display": false
  },
  "varInspector": {
   "cols": {
    "lenName": 16,
    "lenType": 16,
    "lenVar": 40
   },
   "kernels_config": {
    "python": {
     "delete_cmd_postfix": "",
     "delete_cmd_prefix": "del ",
     "library": "var_list.py",
     "varRefreshCmd": "print(var_dic_list())"
    },
    "r": {
     "delete_cmd_postfix": ") ",
     "delete_cmd_prefix": "rm(",
     "library": "var_list.r",
     "varRefreshCmd": "cat(var_dic_list()) "
    }
   },
   "types_to_exclude": [
    "module",
    "function",
    "builtin_function_or_method",
    "instance",
    "_Feature"
   ],
   "window_display": false
  }
 },
 "nbformat": 4,
 "nbformat_minor": 5
}
