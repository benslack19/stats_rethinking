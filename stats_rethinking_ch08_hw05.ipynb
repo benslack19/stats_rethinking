{
 "cells": [
  {
   "cell_type": "markdown",
   "id": "thirty-zambia",
   "metadata": {},
   "source": [
    "This is Week 5 homework from [Winter 2020 of Statistical Rethinking](https://github.com/rmcelreath/stat_rethinking_2020/tree/main/homework) using Python. A public repo using `pmyc3` has been created [here](https://github.com/pymc-devs/resources/tree/master/Rethinking_2) that also uses Python. It will helpful for me to do these exercises myself, but that repo will serve as a helpful reference."
   ]
  },
  {
   "cell_type": "code",
   "execution_count": 1,
   "id": "neural-bachelor",
   "metadata": {
    "ExecuteTime": {
     "end_time": "2021-05-28T00:20:58.434915Z",
     "start_time": "2021-05-28T00:20:53.566018Z"
    }
   },
   "outputs": [],
   "source": [
    "import arviz as az\n",
    "import matplotlib.pyplot as plt\n",
    "import numpy as np\n",
    "import os\n",
    "import pandas as pd\n",
    "import pymc3 as pm\n",
    "import scipy.stats as stats\n",
    "import seaborn as sns\n",
    "\n",
    "from scipy.optimize import curve_fit"
   ]
  },
  {
   "cell_type": "code",
   "execution_count": 2,
   "id": "municipal-casino",
   "metadata": {
    "ExecuteTime": {
     "end_time": "2021-05-28T00:21:00.040584Z",
     "start_time": "2021-05-28T00:20:59.940070Z"
    }
   },
   "outputs": [
    {
     "data": {
      "application/javascript": [
       "\n",
       "            setTimeout(function() {\n",
       "                var nbb_cell_id = 2;\n",
       "                var nbb_unformatted_code = \"%load_ext nb_black\\n%config InlineBackend.figure_format = 'retina'\\n%load_ext watermark\\nRANDOM_SEED = 8927\\nnp.random.seed(RANDOM_SEED)\\naz.style.use(\\\"arviz-darkgrid\\\")\\naz.rcParams[\\\"stats.hdi_prob\\\"] = 0.89  # sets default credible interval used by arviz\";\n",
       "                var nbb_formatted_code = \"%load_ext nb_black\\n%config InlineBackend.figure_format = 'retina'\\n%load_ext watermark\\nRANDOM_SEED = 8927\\nnp.random.seed(RANDOM_SEED)\\naz.style.use(\\\"arviz-darkgrid\\\")\\naz.rcParams[\\\"stats.hdi_prob\\\"] = 0.89  # sets default credible interval used by arviz\";\n",
       "                var nbb_cells = Jupyter.notebook.get_cells();\n",
       "                for (var i = 0; i < nbb_cells.length; ++i) {\n",
       "                    if (nbb_cells[i].input_prompt_number == nbb_cell_id) {\n",
       "                        if (nbb_cells[i].get_text() == nbb_unformatted_code) {\n",
       "                             nbb_cells[i].set_text(nbb_formatted_code);\n",
       "                        }\n",
       "                        break;\n",
       "                    }\n",
       "                }\n",
       "            }, 500);\n",
       "            "
      ],
      "text/plain": [
       "<IPython.core.display.Javascript object>"
      ]
     },
     "metadata": {},
     "output_type": "display_data"
    }
   ],
   "source": [
    "%load_ext nb_black\n",
    "%config InlineBackend.figure_format = 'retina'\n",
    "%load_ext watermark\n",
    "RANDOM_SEED = 8927\n",
    "np.random.seed(RANDOM_SEED)\n",
    "az.style.use(\"arviz-darkgrid\")\n",
    "az.rcParams[\"stats.hdi_prob\"] = 0.89  # sets default credible interval used by arviz"
   ]
  },
  {
   "cell_type": "code",
   "execution_count": 3,
   "id": "martial-effect",
   "metadata": {
    "ExecuteTime": {
     "end_time": "2021-05-28T00:21:02.702448Z",
     "start_time": "2021-05-28T00:21:02.696205Z"
    }
   },
   "outputs": [
    {
     "data": {
      "application/javascript": [
       "\n",
       "            setTimeout(function() {\n",
       "                var nbb_cell_id = 3;\n",
       "                var nbb_unformatted_code = \"sns.set_context(\\\"talk\\\")\";\n",
       "                var nbb_formatted_code = \"sns.set_context(\\\"talk\\\")\";\n",
       "                var nbb_cells = Jupyter.notebook.get_cells();\n",
       "                for (var i = 0; i < nbb_cells.length; ++i) {\n",
       "                    if (nbb_cells[i].input_prompt_number == nbb_cell_id) {\n",
       "                        if (nbb_cells[i].get_text() == nbb_unformatted_code) {\n",
       "                             nbb_cells[i].set_text(nbb_formatted_code);\n",
       "                        }\n",
       "                        break;\n",
       "                    }\n",
       "                }\n",
       "            }, 500);\n",
       "            "
      ],
      "text/plain": [
       "<IPython.core.display.Javascript object>"
      ]
     },
     "metadata": {},
     "output_type": "display_data"
    }
   ],
   "source": [
    "sns.set_context(\"talk\")"
   ]
  },
  {
   "cell_type": "markdown",
   "id": "occupied-jonathan",
   "metadata": {},
   "source": [
    "# Question 1 (8H5)\n",
    "\n",
    "Consider the data(Wines2012) data table. These data are expert ratings\n",
    "of 20 different French and American wines by 9 different French and American\n",
    "judges. Your goal is to model score, the subjective rating assigned by\n",
    "each judge to each wine. I recommend standardizing it.\n",
    "In this first problem, consider only variation among judges and wines.\n",
    "Construct index variables of judge and wine and then use these index variables\n",
    "to construct a linear regression model. Justify your priors. You should\n",
    "end up with 9 judge parameters and 20 wine parameters. Use ulam instead\n",
    "of quap to build this model, and be sure to check the chains for convergence.\n",
    "If you’d rather build the model directly in Stan or PyMC3 or Julia (Turing is\n",
    "a good choice!), go ahead. I just want you to use MCMC instead of quadratic\n",
    "approximation.\n",
    "How do you interpret the variation among individual judges and individual\n",
    "wines? Do you notice any patterns, just by plotting the differences?\n",
    "Which judges gave the highest/lowest ratings? Which wines were rated worst/\n",
    "best on average?"
   ]
  },
  {
   "cell_type": "code",
   "execution_count": 4,
   "id": "liquid-passenger",
   "metadata": {
    "ExecuteTime": {
     "end_time": "2021-05-28T00:21:12.725394Z",
     "start_time": "2021-05-28T00:21:12.718224Z"
    }
   },
   "outputs": [
    {
     "data": {
      "text/plain": [
       "'/Users/blacar/Documents/ds_projects/stats_rethinking/repo'"
      ]
     },
     "execution_count": 4,
     "metadata": {},
     "output_type": "execute_result"
    },
    {
     "data": {
      "application/javascript": [
       "\n",
       "            setTimeout(function() {\n",
       "                var nbb_cell_id = 4;\n",
       "                var nbb_unformatted_code = \"os.getcwd()\";\n",
       "                var nbb_formatted_code = \"os.getcwd()\";\n",
       "                var nbb_cells = Jupyter.notebook.get_cells();\n",
       "                for (var i = 0; i < nbb_cells.length; ++i) {\n",
       "                    if (nbb_cells[i].input_prompt_number == nbb_cell_id) {\n",
       "                        if (nbb_cells[i].get_text() == nbb_unformatted_code) {\n",
       "                             nbb_cells[i].set_text(nbb_formatted_code);\n",
       "                        }\n",
       "                        break;\n",
       "                    }\n",
       "                }\n",
       "            }, 500);\n",
       "            "
      ],
      "text/plain": [
       "<IPython.core.display.Javascript object>"
      ]
     },
     "metadata": {},
     "output_type": "display_data"
    }
   ],
   "source": [
    "os.getcwd()"
   ]
  },
  {
   "cell_type": "code",
   "execution_count": 5,
   "id": "perceived-florida",
   "metadata": {
    "ExecuteTime": {
     "end_time": "2021-05-28T00:21:13.292673Z",
     "start_time": "2021-05-28T00:21:13.285987Z"
    }
   },
   "outputs": [
    {
     "data": {
      "application/javascript": [
       "\n",
       "            setTimeout(function() {\n",
       "                var nbb_cell_id = 5;\n",
       "                var nbb_unformatted_code = \"def standardize(x):\\n    x = (x - np.mean(x)) / np.std(x)\\n    return x\";\n",
       "                var nbb_formatted_code = \"def standardize(x):\\n    x = (x - np.mean(x)) / np.std(x)\\n    return x\";\n",
       "                var nbb_cells = Jupyter.notebook.get_cells();\n",
       "                for (var i = 0; i < nbb_cells.length; ++i) {\n",
       "                    if (nbb_cells[i].input_prompt_number == nbb_cell_id) {\n",
       "                        if (nbb_cells[i].get_text() == nbb_unformatted_code) {\n",
       "                             nbb_cells[i].set_text(nbb_formatted_code);\n",
       "                        }\n",
       "                        break;\n",
       "                    }\n",
       "                }\n",
       "            }, 500);\n",
       "            "
      ],
      "text/plain": [
       "<IPython.core.display.Javascript object>"
      ]
     },
     "metadata": {},
     "output_type": "display_data"
    }
   ],
   "source": [
    "def standardize(x):\n",
    "    x = (x - np.mean(x)) / np.std(x)\n",
    "    return x"
   ]
  },
  {
   "cell_type": "code",
   "execution_count": 6,
   "id": "solid-grove",
   "metadata": {
    "ExecuteTime": {
     "end_time": "2021-05-28T00:21:15.108406Z",
     "start_time": "2021-05-28T00:21:15.087002Z"
    }
   },
   "outputs": [
    {
     "data": {
      "text/html": [
       "<div>\n",
       "<style scoped>\n",
       "    .dataframe tbody tr th:only-of-type {\n",
       "        vertical-align: middle;\n",
       "    }\n",
       "\n",
       "    .dataframe tbody tr th {\n",
       "        vertical-align: top;\n",
       "    }\n",
       "\n",
       "    .dataframe thead th {\n",
       "        text-align: right;\n",
       "    }\n",
       "</style>\n",
       "<table border=\"1\" class=\"dataframe\">\n",
       "  <thead>\n",
       "    <tr style=\"text-align: right;\">\n",
       "      <th></th>\n",
       "      <th>judge</th>\n",
       "      <th>flight</th>\n",
       "      <th>wine</th>\n",
       "      <th>score</th>\n",
       "      <th>wine.amer</th>\n",
       "      <th>judge.amer</th>\n",
       "      <th>score_std</th>\n",
       "    </tr>\n",
       "  </thead>\n",
       "  <tbody>\n",
       "    <tr>\n",
       "      <th>0</th>\n",
       "      <td>Jean-M Cardebat</td>\n",
       "      <td>white</td>\n",
       "      <td>A1</td>\n",
       "      <td>10.0</td>\n",
       "      <td>1</td>\n",
       "      <td>0</td>\n",
       "      <td>-1.581002</td>\n",
       "    </tr>\n",
       "    <tr>\n",
       "      <th>1</th>\n",
       "      <td>Jean-M Cardebat</td>\n",
       "      <td>white</td>\n",
       "      <td>B1</td>\n",
       "      <td>13.0</td>\n",
       "      <td>1</td>\n",
       "      <td>0</td>\n",
       "      <td>-0.451715</td>\n",
       "    </tr>\n",
       "    <tr>\n",
       "      <th>2</th>\n",
       "      <td>Jean-M Cardebat</td>\n",
       "      <td>white</td>\n",
       "      <td>C1</td>\n",
       "      <td>14.0</td>\n",
       "      <td>0</td>\n",
       "      <td>0</td>\n",
       "      <td>-0.075286</td>\n",
       "    </tr>\n",
       "    <tr>\n",
       "      <th>3</th>\n",
       "      <td>Jean-M Cardebat</td>\n",
       "      <td>white</td>\n",
       "      <td>D1</td>\n",
       "      <td>15.0</td>\n",
       "      <td>0</td>\n",
       "      <td>0</td>\n",
       "      <td>0.301143</td>\n",
       "    </tr>\n",
       "    <tr>\n",
       "      <th>4</th>\n",
       "      <td>Jean-M Cardebat</td>\n",
       "      <td>white</td>\n",
       "      <td>E1</td>\n",
       "      <td>8.0</td>\n",
       "      <td>1</td>\n",
       "      <td>0</td>\n",
       "      <td>-2.333860</td>\n",
       "    </tr>\n",
       "  </tbody>\n",
       "</table>\n",
       "</div>"
      ],
      "text/plain": [
       "             judge flight wine  score  wine.amer  judge.amer  score_std\n",
       "0  Jean-M Cardebat  white   A1   10.0          1           0  -1.581002\n",
       "1  Jean-M Cardebat  white   B1   13.0          1           0  -0.451715\n",
       "2  Jean-M Cardebat  white   C1   14.0          0           0  -0.075286\n",
       "3  Jean-M Cardebat  white   D1   15.0          0           0   0.301143\n",
       "4  Jean-M Cardebat  white   E1    8.0          1           0  -2.333860"
      ]
     },
     "execution_count": 6,
     "metadata": {},
     "output_type": "execute_result"
    },
    {
     "data": {
      "application/javascript": [
       "\n",
       "            setTimeout(function() {\n",
       "                var nbb_cell_id = 6;\n",
       "                var nbb_unformatted_code = \"df_wines = pd.read_csv(\\\"other_data/Wines2012.csv\\\")\\ndf_wines[\\\"score_std\\\"] = standardize(df_wines[\\\"score\\\"])\\ndf_wines.head()\";\n",
       "                var nbb_formatted_code = \"df_wines = pd.read_csv(\\\"other_data/Wines2012.csv\\\")\\ndf_wines[\\\"score_std\\\"] = standardize(df_wines[\\\"score\\\"])\\ndf_wines.head()\";\n",
       "                var nbb_cells = Jupyter.notebook.get_cells();\n",
       "                for (var i = 0; i < nbb_cells.length; ++i) {\n",
       "                    if (nbb_cells[i].input_prompt_number == nbb_cell_id) {\n",
       "                        if (nbb_cells[i].get_text() == nbb_unformatted_code) {\n",
       "                             nbb_cells[i].set_text(nbb_formatted_code);\n",
       "                        }\n",
       "                        break;\n",
       "                    }\n",
       "                }\n",
       "            }, 500);\n",
       "            "
      ],
      "text/plain": [
       "<IPython.core.display.Javascript object>"
      ]
     },
     "metadata": {},
     "output_type": "display_data"
    }
   ],
   "source": [
    "df_wines = pd.read_csv(\"other_data/Wines2012.csv\")\n",
    "df_wines[\"score_std\"] = standardize(df_wines[\"score\"])\n",
    "df_wines.head()"
   ]
  },
  {
   "cell_type": "code",
   "execution_count": 7,
   "id": "subsequent-munich",
   "metadata": {
    "ExecuteTime": {
     "end_time": "2021-05-28T00:21:15.618815Z",
     "start_time": "2021-05-28T00:21:15.611181Z"
    }
   },
   "outputs": [
    {
     "data": {
      "text/plain": [
       "array(['Jean-M Cardebat', 'Tyler Colman', 'John Foy', 'Olivier Gergaud',\n",
       "       'Robert Hodgson', 'Linda Murphy', 'Daniele Meulder',\n",
       "       'Jamal Rayyis', 'Francis Schott'], dtype=object)"
      ]
     },
     "execution_count": 7,
     "metadata": {},
     "output_type": "execute_result"
    },
    {
     "data": {
      "application/javascript": [
       "\n",
       "            setTimeout(function() {\n",
       "                var nbb_cell_id = 7;\n",
       "                var nbb_unformatted_code = \"df_wines[\\\"judge\\\"].unique()\";\n",
       "                var nbb_formatted_code = \"df_wines[\\\"judge\\\"].unique()\";\n",
       "                var nbb_cells = Jupyter.notebook.get_cells();\n",
       "                for (var i = 0; i < nbb_cells.length; ++i) {\n",
       "                    if (nbb_cells[i].input_prompt_number == nbb_cell_id) {\n",
       "                        if (nbb_cells[i].get_text() == nbb_unformatted_code) {\n",
       "                             nbb_cells[i].set_text(nbb_formatted_code);\n",
       "                        }\n",
       "                        break;\n",
       "                    }\n",
       "                }\n",
       "            }, 500);\n",
       "            "
      ],
      "text/plain": [
       "<IPython.core.display.Javascript object>"
      ]
     },
     "metadata": {},
     "output_type": "display_data"
    }
   ],
   "source": [
    "df_wines[\"judge\"].unique()"
   ]
  },
  {
   "cell_type": "code",
   "execution_count": 8,
   "id": "offshore-banking",
   "metadata": {
    "ExecuteTime": {
     "end_time": "2021-05-28T00:21:17.792125Z",
     "start_time": "2021-05-28T00:21:17.786541Z"
    }
   },
   "outputs": [
    {
     "data": {
      "text/plain": [
       "array(['A1', 'B1', 'C1', 'D1', 'E1', 'F1', 'G1', 'H1', 'I1', 'J1', 'A2',\n",
       "       'B2', 'C2', 'D2', 'E2', 'F2', 'G2', 'H2', 'I2', 'J2'], dtype=object)"
      ]
     },
     "execution_count": 8,
     "metadata": {},
     "output_type": "execute_result"
    },
    {
     "data": {
      "application/javascript": [
       "\n",
       "            setTimeout(function() {\n",
       "                var nbb_cell_id = 8;\n",
       "                var nbb_unformatted_code = \"df_wines[\\\"wine\\\"].unique()\";\n",
       "                var nbb_formatted_code = \"df_wines[\\\"wine\\\"].unique()\";\n",
       "                var nbb_cells = Jupyter.notebook.get_cells();\n",
       "                for (var i = 0; i < nbb_cells.length; ++i) {\n",
       "                    if (nbb_cells[i].input_prompt_number == nbb_cell_id) {\n",
       "                        if (nbb_cells[i].get_text() == nbb_unformatted_code) {\n",
       "                             nbb_cells[i].set_text(nbb_formatted_code);\n",
       "                        }\n",
       "                        break;\n",
       "                    }\n",
       "                }\n",
       "            }, 500);\n",
       "            "
      ],
      "text/plain": [
       "<IPython.core.display.Javascript object>"
      ]
     },
     "metadata": {},
     "output_type": "display_data"
    }
   ],
   "source": [
    "df_wines[\"wine\"].unique()"
   ]
  },
  {
   "cell_type": "markdown",
   "id": "sixth-neighborhood",
   "metadata": {},
   "source": [
    "## My approach\n",
    "\n",
    "- Create index variables for `judge` and `wine`.\n",
    "- Create a linear model that uses these index variables only.\n",
    "- Inspect the summary."
   ]
  },
  {
   "cell_type": "markdown",
   "id": "going-photographer",
   "metadata": {},
   "source": [
    "## Create index variables"
   ]
  },
  {
   "cell_type": "markdown",
   "id": "considered-evans",
   "metadata": {},
   "source": [
    "### Manual method"
   ]
  },
  {
   "cell_type": "code",
   "execution_count": 9,
   "id": "administrative-period",
   "metadata": {
    "ExecuteTime": {
     "end_time": "2021-05-28T00:21:19.154336Z",
     "start_time": "2021-05-28T00:21:19.145108Z"
    }
   },
   "outputs": [
    {
     "data": {
      "application/javascript": [
       "\n",
       "            setTimeout(function() {\n",
       "                var nbb_cell_id = 9;\n",
       "                var nbb_unformatted_code = \"judge_dict = dict()\\ncount = 0\\nfor judge in sorted(df_wines[\\\"judge\\\"].unique()):\\n    judge_dict[judge] = count\\n    count += 1\";\n",
       "                var nbb_formatted_code = \"judge_dict = dict()\\ncount = 0\\nfor judge in sorted(df_wines[\\\"judge\\\"].unique()):\\n    judge_dict[judge] = count\\n    count += 1\";\n",
       "                var nbb_cells = Jupyter.notebook.get_cells();\n",
       "                for (var i = 0; i < nbb_cells.length; ++i) {\n",
       "                    if (nbb_cells[i].input_prompt_number == nbb_cell_id) {\n",
       "                        if (nbb_cells[i].get_text() == nbb_unformatted_code) {\n",
       "                             nbb_cells[i].set_text(nbb_formatted_code);\n",
       "                        }\n",
       "                        break;\n",
       "                    }\n",
       "                }\n",
       "            }, 500);\n",
       "            "
      ],
      "text/plain": [
       "<IPython.core.display.Javascript object>"
      ]
     },
     "metadata": {},
     "output_type": "display_data"
    }
   ],
   "source": [
    "judge_dict = dict()\n",
    "count = 0\n",
    "for judge in sorted(df_wines[\"judge\"].unique()):\n",
    "    judge_dict[judge] = count\n",
    "    count += 1"
   ]
  },
  {
   "cell_type": "code",
   "execution_count": 10,
   "id": "fifteen-oxford",
   "metadata": {
    "ExecuteTime": {
     "end_time": "2021-05-28T00:21:19.549659Z",
     "start_time": "2021-05-28T00:21:19.542599Z"
    }
   },
   "outputs": [
    {
     "data": {
      "application/javascript": [
       "\n",
       "            setTimeout(function() {\n",
       "                var nbb_cell_id = 10;\n",
       "                var nbb_unformatted_code = \"wine_dict = dict()\\ncount = 0\\nfor wine in sorted(df_wines[\\\"wine\\\"].unique()):\\n    wine_dict[wine] = count\\n    count += 1\";\n",
       "                var nbb_formatted_code = \"wine_dict = dict()\\ncount = 0\\nfor wine in sorted(df_wines[\\\"wine\\\"].unique()):\\n    wine_dict[wine] = count\\n    count += 1\";\n",
       "                var nbb_cells = Jupyter.notebook.get_cells();\n",
       "                for (var i = 0; i < nbb_cells.length; ++i) {\n",
       "                    if (nbb_cells[i].input_prompt_number == nbb_cell_id) {\n",
       "                        if (nbb_cells[i].get_text() == nbb_unformatted_code) {\n",
       "                             nbb_cells[i].set_text(nbb_formatted_code);\n",
       "                        }\n",
       "                        break;\n",
       "                    }\n",
       "                }\n",
       "            }, 500);\n",
       "            "
      ],
      "text/plain": [
       "<IPython.core.display.Javascript object>"
      ]
     },
     "metadata": {},
     "output_type": "display_data"
    }
   ],
   "source": [
    "wine_dict = dict()\n",
    "count = 0\n",
    "for wine in sorted(df_wines[\"wine\"].unique()):\n",
    "    wine_dict[wine] = count\n",
    "    count += 1"
   ]
  },
  {
   "cell_type": "code",
   "execution_count": 11,
   "id": "waiting-capital",
   "metadata": {
    "ExecuteTime": {
     "end_time": "2021-05-28T00:21:22.135454Z",
     "start_time": "2021-05-28T00:21:22.121908Z"
    }
   },
   "outputs": [
    {
     "data": {
      "application/javascript": [
       "\n",
       "            setTimeout(function() {\n",
       "                var nbb_cell_id = 11;\n",
       "                var nbb_unformatted_code = \"df_wines[\\\"judge_index\\\"] = df_wines[\\\"judge\\\"].copy().replace(judge_dict)\\ndf_wines[\\\"wine_index\\\"] = df_wines[\\\"wine\\\"].copy().replace(wine_dict)\";\n",
       "                var nbb_formatted_code = \"df_wines[\\\"judge_index\\\"] = df_wines[\\\"judge\\\"].copy().replace(judge_dict)\\ndf_wines[\\\"wine_index\\\"] = df_wines[\\\"wine\\\"].copy().replace(wine_dict)\";\n",
       "                var nbb_cells = Jupyter.notebook.get_cells();\n",
       "                for (var i = 0; i < nbb_cells.length; ++i) {\n",
       "                    if (nbb_cells[i].input_prompt_number == nbb_cell_id) {\n",
       "                        if (nbb_cells[i].get_text() == nbb_unformatted_code) {\n",
       "                             nbb_cells[i].set_text(nbb_formatted_code);\n",
       "                        }\n",
       "                        break;\n",
       "                    }\n",
       "                }\n",
       "            }, 500);\n",
       "            "
      ],
      "text/plain": [
       "<IPython.core.display.Javascript object>"
      ]
     },
     "metadata": {},
     "output_type": "display_data"
    }
   ],
   "source": [
    "df_wines[\"judge_index\"] = df_wines[\"judge\"].copy().replace(judge_dict)\n",
    "df_wines[\"wine_index\"] = df_wines[\"wine\"].copy().replace(wine_dict)"
   ]
  },
  {
   "cell_type": "code",
   "execution_count": 12,
   "id": "systematic-singles",
   "metadata": {
    "ExecuteTime": {
     "end_time": "2021-05-28T00:21:22.851762Z",
     "start_time": "2021-05-28T00:21:22.841034Z"
    }
   },
   "outputs": [
    {
     "data": {
      "text/html": [
       "<div>\n",
       "<style scoped>\n",
       "    .dataframe tbody tr th:only-of-type {\n",
       "        vertical-align: middle;\n",
       "    }\n",
       "\n",
       "    .dataframe tbody tr th {\n",
       "        vertical-align: top;\n",
       "    }\n",
       "\n",
       "    .dataframe thead th {\n",
       "        text-align: right;\n",
       "    }\n",
       "</style>\n",
       "<table border=\"1\" class=\"dataframe\">\n",
       "  <thead>\n",
       "    <tr style=\"text-align: right;\">\n",
       "      <th></th>\n",
       "      <th>judge</th>\n",
       "      <th>flight</th>\n",
       "      <th>wine</th>\n",
       "      <th>score</th>\n",
       "      <th>wine.amer</th>\n",
       "      <th>judge.amer</th>\n",
       "      <th>score_std</th>\n",
       "      <th>judge_index</th>\n",
       "      <th>wine_index</th>\n",
       "    </tr>\n",
       "  </thead>\n",
       "  <tbody>\n",
       "    <tr>\n",
       "      <th>0</th>\n",
       "      <td>Jean-M Cardebat</td>\n",
       "      <td>white</td>\n",
       "      <td>A1</td>\n",
       "      <td>10.0</td>\n",
       "      <td>1</td>\n",
       "      <td>0</td>\n",
       "      <td>-1.581002</td>\n",
       "      <td>3</td>\n",
       "      <td>0</td>\n",
       "    </tr>\n",
       "    <tr>\n",
       "      <th>1</th>\n",
       "      <td>Jean-M Cardebat</td>\n",
       "      <td>white</td>\n",
       "      <td>B1</td>\n",
       "      <td>13.0</td>\n",
       "      <td>1</td>\n",
       "      <td>0</td>\n",
       "      <td>-0.451715</td>\n",
       "      <td>3</td>\n",
       "      <td>2</td>\n",
       "    </tr>\n",
       "    <tr>\n",
       "      <th>2</th>\n",
       "      <td>Jean-M Cardebat</td>\n",
       "      <td>white</td>\n",
       "      <td>C1</td>\n",
       "      <td>14.0</td>\n",
       "      <td>0</td>\n",
       "      <td>0</td>\n",
       "      <td>-0.075286</td>\n",
       "      <td>3</td>\n",
       "      <td>4</td>\n",
       "    </tr>\n",
       "    <tr>\n",
       "      <th>3</th>\n",
       "      <td>Jean-M Cardebat</td>\n",
       "      <td>white</td>\n",
       "      <td>D1</td>\n",
       "      <td>15.0</td>\n",
       "      <td>0</td>\n",
       "      <td>0</td>\n",
       "      <td>0.301143</td>\n",
       "      <td>3</td>\n",
       "      <td>6</td>\n",
       "    </tr>\n",
       "    <tr>\n",
       "      <th>4</th>\n",
       "      <td>Jean-M Cardebat</td>\n",
       "      <td>white</td>\n",
       "      <td>E1</td>\n",
       "      <td>8.0</td>\n",
       "      <td>1</td>\n",
       "      <td>0</td>\n",
       "      <td>-2.333860</td>\n",
       "      <td>3</td>\n",
       "      <td>8</td>\n",
       "    </tr>\n",
       "  </tbody>\n",
       "</table>\n",
       "</div>"
      ],
      "text/plain": [
       "             judge flight wine  score  wine.amer  judge.amer  score_std  \\\n",
       "0  Jean-M Cardebat  white   A1   10.0          1           0  -1.581002   \n",
       "1  Jean-M Cardebat  white   B1   13.0          1           0  -0.451715   \n",
       "2  Jean-M Cardebat  white   C1   14.0          0           0  -0.075286   \n",
       "3  Jean-M Cardebat  white   D1   15.0          0           0   0.301143   \n",
       "4  Jean-M Cardebat  white   E1    8.0          1           0  -2.333860   \n",
       "\n",
       "   judge_index  wine_index  \n",
       "0            3           0  \n",
       "1            3           2  \n",
       "2            3           4  \n",
       "3            3           6  \n",
       "4            3           8  "
      ]
     },
     "execution_count": 12,
     "metadata": {},
     "output_type": "execute_result"
    },
    {
     "data": {
      "application/javascript": [
       "\n",
       "            setTimeout(function() {\n",
       "                var nbb_cell_id = 12;\n",
       "                var nbb_unformatted_code = \"df_wines.head()\";\n",
       "                var nbb_formatted_code = \"df_wines.head()\";\n",
       "                var nbb_cells = Jupyter.notebook.get_cells();\n",
       "                for (var i = 0; i < nbb_cells.length; ++i) {\n",
       "                    if (nbb_cells[i].input_prompt_number == nbb_cell_id) {\n",
       "                        if (nbb_cells[i].get_text() == nbb_unformatted_code) {\n",
       "                             nbb_cells[i].set_text(nbb_formatted_code);\n",
       "                        }\n",
       "                        break;\n",
       "                    }\n",
       "                }\n",
       "            }, 500);\n",
       "            "
      ],
      "text/plain": [
       "<IPython.core.display.Javascript object>"
      ]
     },
     "metadata": {},
     "output_type": "display_data"
    }
   ],
   "source": [
    "df_wines.head()"
   ]
  },
  {
   "cell_type": "markdown",
   "id": "certified-ready",
   "metadata": {},
   "source": [
    "### Using `pm.Categorical`"
   ]
  },
  {
   "cell_type": "code",
   "execution_count": 13,
   "id": "incorporate-equivalent",
   "metadata": {
    "ExecuteTime": {
     "end_time": "2021-05-28T00:21:23.892981Z",
     "start_time": "2021-05-28T00:21:23.877360Z"
    }
   },
   "outputs": [
    {
     "data": {
      "text/html": [
       "<div>\n",
       "<style scoped>\n",
       "    .dataframe tbody tr th:only-of-type {\n",
       "        vertical-align: middle;\n",
       "    }\n",
       "\n",
       "    .dataframe tbody tr th {\n",
       "        vertical-align: top;\n",
       "    }\n",
       "\n",
       "    .dataframe thead th {\n",
       "        text-align: right;\n",
       "    }\n",
       "</style>\n",
       "<table border=\"1\" class=\"dataframe\">\n",
       "  <thead>\n",
       "    <tr style=\"text-align: right;\">\n",
       "      <th></th>\n",
       "      <th>judge</th>\n",
       "      <th>flight</th>\n",
       "      <th>wine</th>\n",
       "      <th>score</th>\n",
       "      <th>wine.amer</th>\n",
       "      <th>judge.amer</th>\n",
       "      <th>score_std</th>\n",
       "      <th>judge_index</th>\n",
       "      <th>wine_index</th>\n",
       "    </tr>\n",
       "  </thead>\n",
       "  <tbody>\n",
       "    <tr>\n",
       "      <th>0</th>\n",
       "      <td>Jean-M Cardebat</td>\n",
       "      <td>white</td>\n",
       "      <td>A1</td>\n",
       "      <td>10.0</td>\n",
       "      <td>1</td>\n",
       "      <td>0</td>\n",
       "      <td>-1.581002</td>\n",
       "      <td>3</td>\n",
       "      <td>0</td>\n",
       "    </tr>\n",
       "    <tr>\n",
       "      <th>1</th>\n",
       "      <td>Jean-M Cardebat</td>\n",
       "      <td>white</td>\n",
       "      <td>B1</td>\n",
       "      <td>13.0</td>\n",
       "      <td>1</td>\n",
       "      <td>0</td>\n",
       "      <td>-0.451715</td>\n",
       "      <td>3</td>\n",
       "      <td>2</td>\n",
       "    </tr>\n",
       "    <tr>\n",
       "      <th>2</th>\n",
       "      <td>Jean-M Cardebat</td>\n",
       "      <td>white</td>\n",
       "      <td>C1</td>\n",
       "      <td>14.0</td>\n",
       "      <td>0</td>\n",
       "      <td>0</td>\n",
       "      <td>-0.075286</td>\n",
       "      <td>3</td>\n",
       "      <td>4</td>\n",
       "    </tr>\n",
       "    <tr>\n",
       "      <th>3</th>\n",
       "      <td>Jean-M Cardebat</td>\n",
       "      <td>white</td>\n",
       "      <td>D1</td>\n",
       "      <td>15.0</td>\n",
       "      <td>0</td>\n",
       "      <td>0</td>\n",
       "      <td>0.301143</td>\n",
       "      <td>3</td>\n",
       "      <td>6</td>\n",
       "    </tr>\n",
       "    <tr>\n",
       "      <th>4</th>\n",
       "      <td>Jean-M Cardebat</td>\n",
       "      <td>white</td>\n",
       "      <td>E1</td>\n",
       "      <td>8.0</td>\n",
       "      <td>1</td>\n",
       "      <td>0</td>\n",
       "      <td>-2.333860</td>\n",
       "      <td>3</td>\n",
       "      <td>8</td>\n",
       "    </tr>\n",
       "  </tbody>\n",
       "</table>\n",
       "</div>"
      ],
      "text/plain": [
       "             judge flight wine  score  wine.amer  judge.amer  score_std  \\\n",
       "0  Jean-M Cardebat  white   A1   10.0          1           0  -1.581002   \n",
       "1  Jean-M Cardebat  white   B1   13.0          1           0  -0.451715   \n",
       "2  Jean-M Cardebat  white   C1   14.0          0           0  -0.075286   \n",
       "3  Jean-M Cardebat  white   D1   15.0          0           0   0.301143   \n",
       "4  Jean-M Cardebat  white   E1    8.0          1           0  -2.333860   \n",
       "\n",
       "   judge_index  wine_index  \n",
       "0            3           0  \n",
       "1            3           2  \n",
       "2            3           4  \n",
       "3            3           6  \n",
       "4            3           8  "
      ]
     },
     "execution_count": 13,
     "metadata": {},
     "output_type": "execute_result"
    },
    {
     "data": {
      "application/javascript": [
       "\n",
       "            setTimeout(function() {\n",
       "                var nbb_cell_id = 13;\n",
       "                var nbb_unformatted_code = \"df_wines[\\\"judge_index\\\"] = pd.Categorical(df_wines[\\\"judge\\\"]).codes\\ndf_wines[\\\"wine_index\\\"] = pd.Categorical(df_wines[\\\"wine\\\"]).codes\\n\\ndf_wines.head()\";\n",
       "                var nbb_formatted_code = \"df_wines[\\\"judge_index\\\"] = pd.Categorical(df_wines[\\\"judge\\\"]).codes\\ndf_wines[\\\"wine_index\\\"] = pd.Categorical(df_wines[\\\"wine\\\"]).codes\\n\\ndf_wines.head()\";\n",
       "                var nbb_cells = Jupyter.notebook.get_cells();\n",
       "                for (var i = 0; i < nbb_cells.length; ++i) {\n",
       "                    if (nbb_cells[i].input_prompt_number == nbb_cell_id) {\n",
       "                        if (nbb_cells[i].get_text() == nbb_unformatted_code) {\n",
       "                             nbb_cells[i].set_text(nbb_formatted_code);\n",
       "                        }\n",
       "                        break;\n",
       "                    }\n",
       "                }\n",
       "            }, 500);\n",
       "            "
      ],
      "text/plain": [
       "<IPython.core.display.Javascript object>"
      ]
     },
     "metadata": {},
     "output_type": "display_data"
    }
   ],
   "source": [
    "df_wines[\"judge_index\"] = pd.Categorical(df_wines[\"judge\"]).codes\n",
    "df_wines[\"wine_index\"] = pd.Categorical(df_wines[\"wine\"]).codes\n",
    "\n",
    "df_wines.head()"
   ]
  },
  {
   "cell_type": "markdown",
   "id": "unusual-registrar",
   "metadata": {},
   "source": [
    "## Create a linear model that uses these judge, wine index variables\n",
    "\n",
    "Even though judge and wine are both categorical variables, the model is built similarly, using index notation. The score is standardized in this case.\n",
    "\n",
    "\n",
    "\\(\\text{score}_i$ ~ Normal($\\mu_i, \\sigma\\))\n",
    "<br>\n",
    "\\(\\mu_i = judge_i[i] + wine_i[j]\\)\n",
    "<br>\n",
    "\\(judge\\) ~ \\(\\text{Normal}(0, 2)\\)\n",
    "<br>\n",
    "\\(wine\\) ~ \\(\\text{Normal}(0, 2)\\)\n",
    "<br>\n",
    "\\(\\sigma\\) ~ \\(\\text{Exp}(1)\\)"
   ]
  },
  {
   "cell_type": "markdown",
   "id": "annual-floor",
   "metadata": {},
   "source": [
    "To create the model with two categorical variables and using the index variable approach, I referenced page 158, R code 5.54 and also the [chapter 5 pymc repo](https://github.com/pymc-devs/resources/blob/master/Rethinking_2/Chp_05.ipynb) which is shown below.\n",
    "\n",
    "```\n",
    "with pm.Model() as m5_10:\n",
    "    sigma = pm.Exponential(\"sigma\", 1)\n",
    "    mu_house = pm.Normal(\"mu_house\", 0, 0.5, shape=d[\"house\"].max() + 1)\n",
    "    mu_clade = pm.Normal(\"mu_clade\", 0, 0.5, shape=d[\"clade_id\"].max() + 1)\n",
    "    mu = mu_clade[d[\"clade_id\"].values] + mu_house[d[\"house\"].values]\n",
    "\n",
    "    K = pm.Normal(\"K\", mu, sigma, observed=d[\"K\"])\n",
    "\n",
    "    m5_9_trace = pm.sample()\n",
    "\n",
    "az.summary(m5_9_trace, var_names=[\"mu_clade\", \"mu_house\"])\n",
    "```\n",
    "\n",
    "I was curious about the shape parameter and found [this discussion](https://discourse.pymc.io/t/pm-normal-what-is-the-shape-parameter-for-a-normal-distribution/1851). It is basically the number of unique values for that category."
   ]
  },
  {
   "cell_type": "code",
   "execution_count": 21,
   "id": "japanese-responsibility",
   "metadata": {
    "ExecuteTime": {
     "end_time": "2021-05-28T00:35:10.793185Z",
     "start_time": "2021-05-28T00:34:53.782869Z"
    }
   },
   "outputs": [
    {
     "name": "stderr",
     "output_type": "stream",
     "text": [
      "Auto-assigning NUTS sampler...\n",
      "Initializing NUTS using jitter+adapt_diag...\n",
      "Multiprocess sampling (4 chains in 4 jobs)\n",
      "NUTS: [sigma, wine, judge]\n"
     ]
    },
    {
     "data": {
      "text/html": [
       "\n",
       "    <div>\n",
       "        <style>\n",
       "            /* Turns off some styling */\n",
       "            progress {\n",
       "                /* gets rid of default border in Firefox and Opera. */\n",
       "                border: none;\n",
       "                /* Needs to be in here for Safari polyfill so background images work as expected. */\n",
       "                background-size: auto;\n",
       "            }\n",
       "            .progress-bar-interrupted, .progress-bar-interrupted::-webkit-progress-bar {\n",
       "                background: #F44336;\n",
       "            }\n",
       "        </style>\n",
       "      <progress value='8000' class='' max='8000' style='width:300px; height:20px; vertical-align: middle;'></progress>\n",
       "      100.00% [8000/8000 00:04<00:00 Sampling 4 chains, 0 divergences]\n",
       "    </div>\n",
       "    "
      ],
      "text/plain": [
       "<IPython.core.display.HTML object>"
      ]
     },
     "metadata": {},
     "output_type": "display_data"
    },
    {
     "name": "stderr",
     "output_type": "stream",
     "text": [
      "Sampling 4 chains for 1_000 tune and 1_000 draw iterations (4_000 + 4_000 draws total) took 14 seconds.\n",
      "The number of effective samples is smaller than 10% for some parameters.\n"
     ]
    },
    {
     "data": {
      "application/javascript": [
       "\n",
       "            setTimeout(function() {\n",
       "                var nbb_cell_id = 21;\n",
       "                var nbb_unformatted_code = \"with pm.Model() as wine_model:\\n\\n    # Priors are variables judge, wine (kind of like alpha) and sigma\\n    # the shape parameter is a way to get multiple indexes represented\\n    judge = pm.Normal(\\\"judge\\\", mu=0, sd=2, shape=len(df_wines[\\\"judge_index\\\"].unique()))\\n    wine = pm.Normal(\\\"wine\\\", mu=0, sd=2, shape=len(df_wines[\\\"wine_index\\\"].unique()))\\n    sigma = pm.Exponential(\\\"sigma\\\", 1)\\n\\n    # Linear model\\n    mu = judge[df_wines[\\\"judge_index\\\"].values] + wine[df_wines[\\\"wine_index\\\"].values]\\n\\n    # Likelihood is score_std variable, which is also observed\\n    s = pm.Normal(\\\"s\\\", mu=mu, sd=sigma, observed=df_wines[\\\"score_std\\\"])\\n\\n    # Fitting and sampling all at once.\\n    trace = pm.sample(1000, tune=1000, return_inferencedata=True)\";\n",
       "                var nbb_formatted_code = \"with pm.Model() as wine_model:\\n\\n    # Priors are variables judge, wine (kind of like alpha) and sigma\\n    # the shape parameter is a way to get multiple indexes represented\\n    judge = pm.Normal(\\\"judge\\\", mu=0, sd=2, shape=len(df_wines[\\\"judge_index\\\"].unique()))\\n    wine = pm.Normal(\\\"wine\\\", mu=0, sd=2, shape=len(df_wines[\\\"wine_index\\\"].unique()))\\n    sigma = pm.Exponential(\\\"sigma\\\", 1)\\n\\n    # Linear model\\n    mu = judge[df_wines[\\\"judge_index\\\"].values] + wine[df_wines[\\\"wine_index\\\"].values]\\n\\n    # Likelihood is score_std variable, which is also observed\\n    s = pm.Normal(\\\"s\\\", mu=mu, sd=sigma, observed=df_wines[\\\"score_std\\\"])\\n\\n    # Fitting and sampling all at once.\\n    trace = pm.sample(1000, tune=1000, return_inferencedata=True)\";\n",
       "                var nbb_cells = Jupyter.notebook.get_cells();\n",
       "                for (var i = 0; i < nbb_cells.length; ++i) {\n",
       "                    if (nbb_cells[i].input_prompt_number == nbb_cell_id) {\n",
       "                        if (nbb_cells[i].get_text() == nbb_unformatted_code) {\n",
       "                             nbb_cells[i].set_text(nbb_formatted_code);\n",
       "                        }\n",
       "                        break;\n",
       "                    }\n",
       "                }\n",
       "            }, 500);\n",
       "            "
      ],
      "text/plain": [
       "<IPython.core.display.Javascript object>"
      ]
     },
     "metadata": {},
     "output_type": "display_data"
    }
   ],
   "source": [
    "with pm.Model() as wine_model:\n",
    "\n",
    "    # Priors are variables judge, wine (kind of like alpha) and sigma\n",
    "    # the shape parameter is a way to get multiple indexes represented\n",
    "    judge = pm.Normal(\"judge\", mu=0, sd=2, shape=len(df_wines[\"judge_index\"].unique()))\n",
    "    wine = pm.Normal(\"wine\", mu=0, sd=2, shape=len(df_wines[\"wine_index\"].unique()))\n",
    "    sigma = pm.Exponential(\"sigma\", 1)\n",
    "\n",
    "    # Linear model\n",
    "    mu = judge[df_wines[\"judge_index\"].values] + wine[df_wines[\"wine_index\"].values]\n",
    "\n",
    "    # Likelihood is score_std variable, which is also observed\n",
    "    s = pm.Normal(\"s\", mu=mu, sd=sigma, observed=df_wines[\"score_std\"])\n",
    "\n",
    "    # Fitting and sampling all at once.\n",
    "    trace = pm.sample(1000, tune=1000, return_inferencedata=True)"
   ]
  },
  {
   "cell_type": "code",
   "execution_count": 22,
   "id": "settled-internship",
   "metadata": {
    "ExecuteTime": {
     "end_time": "2021-05-28T00:35:21.480957Z",
     "start_time": "2021-05-28T00:35:21.204757Z"
    }
   },
   "outputs": [
    {
     "data": {
      "text/html": [
       "<div>\n",
       "<style scoped>\n",
       "    .dataframe tbody tr th:only-of-type {\n",
       "        vertical-align: middle;\n",
       "    }\n",
       "\n",
       "    .dataframe tbody tr th {\n",
       "        vertical-align: top;\n",
       "    }\n",
       "\n",
       "    .dataframe thead th {\n",
       "        text-align: right;\n",
       "    }\n",
       "</style>\n",
       "<table border=\"1\" class=\"dataframe\">\n",
       "  <thead>\n",
       "    <tr style=\"text-align: right;\">\n",
       "      <th></th>\n",
       "      <th>mean</th>\n",
       "      <th>sd</th>\n",
       "      <th>hdi_5.5%</th>\n",
       "      <th>hdi_94.5%</th>\n",
       "      <th>mcse_mean</th>\n",
       "      <th>mcse_sd</th>\n",
       "      <th>ess_mean</th>\n",
       "      <th>ess_sd</th>\n",
       "      <th>ess_bulk</th>\n",
       "      <th>ess_tail</th>\n",
       "      <th>r_hat</th>\n",
       "    </tr>\n",
       "  </thead>\n",
       "  <tbody>\n",
       "    <tr>\n",
       "      <th>judge[0]</th>\n",
       "      <td>-0.338</td>\n",
       "      <td>0.416</td>\n",
       "      <td>-1.022</td>\n",
       "      <td>0.303</td>\n",
       "      <td>0.024</td>\n",
       "      <td>0.017</td>\n",
       "      <td>293.0</td>\n",
       "      <td>293.0</td>\n",
       "      <td>296.0</td>\n",
       "      <td>644.0</td>\n",
       "      <td>1.02</td>\n",
       "    </tr>\n",
       "    <tr>\n",
       "      <th>judge[1]</th>\n",
       "      <td>0.215</td>\n",
       "      <td>0.419</td>\n",
       "      <td>-0.442</td>\n",
       "      <td>0.881</td>\n",
       "      <td>0.026</td>\n",
       "      <td>0.018</td>\n",
       "      <td>260.0</td>\n",
       "      <td>260.0</td>\n",
       "      <td>259.0</td>\n",
       "      <td>699.0</td>\n",
       "      <td>1.02</td>\n",
       "    </tr>\n",
       "    <tr>\n",
       "      <th>judge[2]</th>\n",
       "      <td>0.205</td>\n",
       "      <td>0.418</td>\n",
       "      <td>-0.494</td>\n",
       "      <td>0.835</td>\n",
       "      <td>0.023</td>\n",
       "      <td>0.017</td>\n",
       "      <td>319.0</td>\n",
       "      <td>319.0</td>\n",
       "      <td>319.0</td>\n",
       "      <td>715.0</td>\n",
       "      <td>1.02</td>\n",
       "    </tr>\n",
       "    <tr>\n",
       "      <th>judge[3]</th>\n",
       "      <td>-0.641</td>\n",
       "      <td>0.417</td>\n",
       "      <td>-1.279</td>\n",
       "      <td>0.050</td>\n",
       "      <td>0.026</td>\n",
       "      <td>0.018</td>\n",
       "      <td>255.0</td>\n",
       "      <td>255.0</td>\n",
       "      <td>255.0</td>\n",
       "      <td>649.0</td>\n",
       "      <td>1.02</td>\n",
       "    </tr>\n",
       "    <tr>\n",
       "      <th>judge[4]</th>\n",
       "      <td>0.873</td>\n",
       "      <td>0.418</td>\n",
       "      <td>0.192</td>\n",
       "      <td>1.514</td>\n",
       "      <td>0.025</td>\n",
       "      <td>0.018</td>\n",
       "      <td>270.0</td>\n",
       "      <td>270.0</td>\n",
       "      <td>269.0</td>\n",
       "      <td>619.0</td>\n",
       "      <td>1.02</td>\n",
       "    </tr>\n",
       "    <tr>\n",
       "      <th>judge[5]</th>\n",
       "      <td>0.512</td>\n",
       "      <td>0.421</td>\n",
       "      <td>-0.118</td>\n",
       "      <td>1.234</td>\n",
       "      <td>0.024</td>\n",
       "      <td>0.017</td>\n",
       "      <td>299.0</td>\n",
       "      <td>299.0</td>\n",
       "      <td>300.0</td>\n",
       "      <td>630.0</td>\n",
       "      <td>1.02</td>\n",
       "    </tr>\n",
       "    <tr>\n",
       "      <th>judge[6]</th>\n",
       "      <td>0.125</td>\n",
       "      <td>0.423</td>\n",
       "      <td>-0.538</td>\n",
       "      <td>0.788</td>\n",
       "      <td>0.026</td>\n",
       "      <td>0.018</td>\n",
       "      <td>265.0</td>\n",
       "      <td>265.0</td>\n",
       "      <td>264.0</td>\n",
       "      <td>550.0</td>\n",
       "      <td>1.02</td>\n",
       "    </tr>\n",
       "    <tr>\n",
       "      <th>judge[7]</th>\n",
       "      <td>-0.770</td>\n",
       "      <td>0.420</td>\n",
       "      <td>-1.413</td>\n",
       "      <td>-0.085</td>\n",
       "      <td>0.025</td>\n",
       "      <td>0.018</td>\n",
       "      <td>276.0</td>\n",
       "      <td>276.0</td>\n",
       "      <td>276.0</td>\n",
       "      <td>591.0</td>\n",
       "      <td>1.02</td>\n",
       "    </tr>\n",
       "    <tr>\n",
       "      <th>judge[8]</th>\n",
       "      <td>-0.418</td>\n",
       "      <td>0.418</td>\n",
       "      <td>-1.080</td>\n",
       "      <td>0.235</td>\n",
       "      <td>0.025</td>\n",
       "      <td>0.018</td>\n",
       "      <td>273.0</td>\n",
       "      <td>273.0</td>\n",
       "      <td>270.0</td>\n",
       "      <td>651.0</td>\n",
       "      <td>1.02</td>\n",
       "    </tr>\n",
       "    <tr>\n",
       "      <th>wine[0]</th>\n",
       "      <td>0.173</td>\n",
       "      <td>0.463</td>\n",
       "      <td>-0.559</td>\n",
       "      <td>0.908</td>\n",
       "      <td>0.025</td>\n",
       "      <td>0.018</td>\n",
       "      <td>332.0</td>\n",
       "      <td>332.0</td>\n",
       "      <td>331.0</td>\n",
       "      <td>1003.0</td>\n",
       "      <td>1.01</td>\n",
       "    </tr>\n",
       "    <tr>\n",
       "      <th>wine[1]</th>\n",
       "      <td>0.139</td>\n",
       "      <td>0.466</td>\n",
       "      <td>-0.593</td>\n",
       "      <td>0.898</td>\n",
       "      <td>0.022</td>\n",
       "      <td>0.016</td>\n",
       "      <td>449.0</td>\n",
       "      <td>449.0</td>\n",
       "      <td>447.0</td>\n",
       "      <td>873.0</td>\n",
       "      <td>1.01</td>\n",
       "    </tr>\n",
       "    <tr>\n",
       "      <th>wine[2]</th>\n",
       "      <td>0.317</td>\n",
       "      <td>0.465</td>\n",
       "      <td>-0.407</td>\n",
       "      <td>1.074</td>\n",
       "      <td>0.023</td>\n",
       "      <td>0.016</td>\n",
       "      <td>405.0</td>\n",
       "      <td>405.0</td>\n",
       "      <td>406.0</td>\n",
       "      <td>857.0</td>\n",
       "      <td>1.01</td>\n",
       "    </tr>\n",
       "    <tr>\n",
       "      <th>wine[3]</th>\n",
       "      <td>0.632</td>\n",
       "      <td>0.469</td>\n",
       "      <td>-0.113</td>\n",
       "      <td>1.357</td>\n",
       "      <td>0.024</td>\n",
       "      <td>0.017</td>\n",
       "      <td>370.0</td>\n",
       "      <td>370.0</td>\n",
       "      <td>370.0</td>\n",
       "      <td>919.0</td>\n",
       "      <td>1.01</td>\n",
       "    </tr>\n",
       "    <tr>\n",
       "      <th>wine[4]</th>\n",
       "      <td>-0.112</td>\n",
       "      <td>0.466</td>\n",
       "      <td>-0.811</td>\n",
       "      <td>0.661</td>\n",
       "      <td>0.025</td>\n",
       "      <td>0.018</td>\n",
       "      <td>349.0</td>\n",
       "      <td>349.0</td>\n",
       "      <td>350.0</td>\n",
       "      <td>790.0</td>\n",
       "      <td>1.01</td>\n",
       "    </tr>\n",
       "    <tr>\n",
       "      <th>wine[5]</th>\n",
       "      <td>-0.370</td>\n",
       "      <td>0.463</td>\n",
       "      <td>-1.078</td>\n",
       "      <td>0.369</td>\n",
       "      <td>0.024</td>\n",
       "      <td>0.017</td>\n",
       "      <td>378.0</td>\n",
       "      <td>378.0</td>\n",
       "      <td>375.0</td>\n",
       "      <td>867.0</td>\n",
       "      <td>1.01</td>\n",
       "    </tr>\n",
       "    <tr>\n",
       "      <th>wine[6]</th>\n",
       "      <td>0.347</td>\n",
       "      <td>0.464</td>\n",
       "      <td>-0.409</td>\n",
       "      <td>1.059</td>\n",
       "      <td>0.023</td>\n",
       "      <td>0.016</td>\n",
       "      <td>404.0</td>\n",
       "      <td>404.0</td>\n",
       "      <td>399.0</td>\n",
       "      <td>874.0</td>\n",
       "      <td>1.01</td>\n",
       "    </tr>\n",
       "    <tr>\n",
       "      <th>wine[7]</th>\n",
       "      <td>0.322</td>\n",
       "      <td>0.468</td>\n",
       "      <td>-0.371</td>\n",
       "      <td>1.105</td>\n",
       "      <td>0.023</td>\n",
       "      <td>0.016</td>\n",
       "      <td>410.0</td>\n",
       "      <td>410.0</td>\n",
       "      <td>412.0</td>\n",
       "      <td>893.0</td>\n",
       "      <td>1.01</td>\n",
       "    </tr>\n",
       "    <tr>\n",
       "      <th>wine[8]</th>\n",
       "      <td>0.119</td>\n",
       "      <td>0.468</td>\n",
       "      <td>-0.673</td>\n",
       "      <td>0.814</td>\n",
       "      <td>0.024</td>\n",
       "      <td>0.017</td>\n",
       "      <td>378.0</td>\n",
       "      <td>378.0</td>\n",
       "      <td>376.0</td>\n",
       "      <td>737.0</td>\n",
       "      <td>1.01</td>\n",
       "    </tr>\n",
       "    <tr>\n",
       "      <th>wine[9]</th>\n",
       "      <td>0.164</td>\n",
       "      <td>0.458</td>\n",
       "      <td>-0.593</td>\n",
       "      <td>0.861</td>\n",
       "      <td>0.025</td>\n",
       "      <td>0.018</td>\n",
       "      <td>324.0</td>\n",
       "      <td>324.0</td>\n",
       "      <td>321.0</td>\n",
       "      <td>775.0</td>\n",
       "      <td>1.01</td>\n",
       "    </tr>\n",
       "    <tr>\n",
       "      <th>wine[10]</th>\n",
       "      <td>0.012</td>\n",
       "      <td>0.464</td>\n",
       "      <td>-0.663</td>\n",
       "      <td>0.805</td>\n",
       "      <td>0.024</td>\n",
       "      <td>0.017</td>\n",
       "      <td>377.0</td>\n",
       "      <td>377.0</td>\n",
       "      <td>376.0</td>\n",
       "      <td>754.0</td>\n",
       "      <td>1.01</td>\n",
       "    </tr>\n",
       "    <tr>\n",
       "      <th>wine[11]</th>\n",
       "      <td>-0.002</td>\n",
       "      <td>0.464</td>\n",
       "      <td>-0.705</td>\n",
       "      <td>0.750</td>\n",
       "      <td>0.025</td>\n",
       "      <td>0.018</td>\n",
       "      <td>346.0</td>\n",
       "      <td>346.0</td>\n",
       "      <td>341.0</td>\n",
       "      <td>780.0</td>\n",
       "      <td>1.01</td>\n",
       "    </tr>\n",
       "    <tr>\n",
       "      <th>wine[12]</th>\n",
       "      <td>-0.086</td>\n",
       "      <td>0.463</td>\n",
       "      <td>-0.887</td>\n",
       "      <td>0.582</td>\n",
       "      <td>0.024</td>\n",
       "      <td>0.017</td>\n",
       "      <td>361.0</td>\n",
       "      <td>361.0</td>\n",
       "      <td>360.0</td>\n",
       "      <td>829.0</td>\n",
       "      <td>1.01</td>\n",
       "    </tr>\n",
       "    <tr>\n",
       "      <th>wine[13]</th>\n",
       "      <td>0.034</td>\n",
       "      <td>0.467</td>\n",
       "      <td>-0.735</td>\n",
       "      <td>0.759</td>\n",
       "      <td>0.022</td>\n",
       "      <td>0.016</td>\n",
       "      <td>453.0</td>\n",
       "      <td>453.0</td>\n",
       "      <td>449.0</td>\n",
       "      <td>834.0</td>\n",
       "      <td>1.01</td>\n",
       "    </tr>\n",
       "    <tr>\n",
       "      <th>wine[14]</th>\n",
       "      <td>-0.205</td>\n",
       "      <td>0.463</td>\n",
       "      <td>-0.929</td>\n",
       "      <td>0.538</td>\n",
       "      <td>0.023</td>\n",
       "      <td>0.016</td>\n",
       "      <td>397.0</td>\n",
       "      <td>397.0</td>\n",
       "      <td>397.0</td>\n",
       "      <td>822.0</td>\n",
       "      <td>1.01</td>\n",
       "    </tr>\n",
       "    <tr>\n",
       "      <th>wine[15]</th>\n",
       "      <td>-0.189</td>\n",
       "      <td>0.464</td>\n",
       "      <td>-0.896</td>\n",
       "      <td>0.567</td>\n",
       "      <td>0.025</td>\n",
       "      <td>0.017</td>\n",
       "      <td>355.0</td>\n",
       "      <td>355.0</td>\n",
       "      <td>354.0</td>\n",
       "      <td>774.0</td>\n",
       "      <td>1.01</td>\n",
       "    </tr>\n",
       "    <tr>\n",
       "      <th>wine[16]</th>\n",
       "      <td>-0.129</td>\n",
       "      <td>0.465</td>\n",
       "      <td>-0.891</td>\n",
       "      <td>0.594</td>\n",
       "      <td>0.024</td>\n",
       "      <td>0.017</td>\n",
       "      <td>384.0</td>\n",
       "      <td>384.0</td>\n",
       "      <td>385.0</td>\n",
       "      <td>835.0</td>\n",
       "      <td>1.01</td>\n",
       "    </tr>\n",
       "    <tr>\n",
       "      <th>wine[17]</th>\n",
       "      <td>-0.909</td>\n",
       "      <td>0.466</td>\n",
       "      <td>-1.668</td>\n",
       "      <td>-0.209</td>\n",
       "      <td>0.024</td>\n",
       "      <td>0.017</td>\n",
       "      <td>373.0</td>\n",
       "      <td>373.0</td>\n",
       "      <td>366.0</td>\n",
       "      <td>777.0</td>\n",
       "      <td>1.01</td>\n",
       "    </tr>\n",
       "    <tr>\n",
       "      <th>wine[18]</th>\n",
       "      <td>-0.148</td>\n",
       "      <td>0.462</td>\n",
       "      <td>-0.920</td>\n",
       "      <td>0.531</td>\n",
       "      <td>0.025</td>\n",
       "      <td>0.018</td>\n",
       "      <td>345.0</td>\n",
       "      <td>345.0</td>\n",
       "      <td>346.0</td>\n",
       "      <td>794.0</td>\n",
       "      <td>1.01</td>\n",
       "    </tr>\n",
       "    <tr>\n",
       "      <th>wine[19]</th>\n",
       "      <td>0.447</td>\n",
       "      <td>0.468</td>\n",
       "      <td>-0.284</td>\n",
       "      <td>1.201</td>\n",
       "      <td>0.025</td>\n",
       "      <td>0.018</td>\n",
       "      <td>343.0</td>\n",
       "      <td>343.0</td>\n",
       "      <td>343.0</td>\n",
       "      <td>791.0</td>\n",
       "      <td>1.01</td>\n",
       "    </tr>\n",
       "    <tr>\n",
       "      <th>sigma</th>\n",
       "      <td>0.855</td>\n",
       "      <td>0.049</td>\n",
       "      <td>0.779</td>\n",
       "      <td>0.933</td>\n",
       "      <td>0.001</td>\n",
       "      <td>0.001</td>\n",
       "      <td>3136.0</td>\n",
       "      <td>3136.0</td>\n",
       "      <td>3081.0</td>\n",
       "      <td>2448.0</td>\n",
       "      <td>1.00</td>\n",
       "    </tr>\n",
       "  </tbody>\n",
       "</table>\n",
       "</div>"
      ],
      "text/plain": [
       "           mean     sd  hdi_5.5%  hdi_94.5%  mcse_mean  mcse_sd  ess_mean  \\\n",
       "judge[0] -0.338  0.416    -1.022      0.303      0.024    0.017     293.0   \n",
       "judge[1]  0.215  0.419    -0.442      0.881      0.026    0.018     260.0   \n",
       "judge[2]  0.205  0.418    -0.494      0.835      0.023    0.017     319.0   \n",
       "judge[3] -0.641  0.417    -1.279      0.050      0.026    0.018     255.0   \n",
       "judge[4]  0.873  0.418     0.192      1.514      0.025    0.018     270.0   \n",
       "judge[5]  0.512  0.421    -0.118      1.234      0.024    0.017     299.0   \n",
       "judge[6]  0.125  0.423    -0.538      0.788      0.026    0.018     265.0   \n",
       "judge[7] -0.770  0.420    -1.413     -0.085      0.025    0.018     276.0   \n",
       "judge[8] -0.418  0.418    -1.080      0.235      0.025    0.018     273.0   \n",
       "wine[0]   0.173  0.463    -0.559      0.908      0.025    0.018     332.0   \n",
       "wine[1]   0.139  0.466    -0.593      0.898      0.022    0.016     449.0   \n",
       "wine[2]   0.317  0.465    -0.407      1.074      0.023    0.016     405.0   \n",
       "wine[3]   0.632  0.469    -0.113      1.357      0.024    0.017     370.0   \n",
       "wine[4]  -0.112  0.466    -0.811      0.661      0.025    0.018     349.0   \n",
       "wine[5]  -0.370  0.463    -1.078      0.369      0.024    0.017     378.0   \n",
       "wine[6]   0.347  0.464    -0.409      1.059      0.023    0.016     404.0   \n",
       "wine[7]   0.322  0.468    -0.371      1.105      0.023    0.016     410.0   \n",
       "wine[8]   0.119  0.468    -0.673      0.814      0.024    0.017     378.0   \n",
       "wine[9]   0.164  0.458    -0.593      0.861      0.025    0.018     324.0   \n",
       "wine[10]  0.012  0.464    -0.663      0.805      0.024    0.017     377.0   \n",
       "wine[11] -0.002  0.464    -0.705      0.750      0.025    0.018     346.0   \n",
       "wine[12] -0.086  0.463    -0.887      0.582      0.024    0.017     361.0   \n",
       "wine[13]  0.034  0.467    -0.735      0.759      0.022    0.016     453.0   \n",
       "wine[14] -0.205  0.463    -0.929      0.538      0.023    0.016     397.0   \n",
       "wine[15] -0.189  0.464    -0.896      0.567      0.025    0.017     355.0   \n",
       "wine[16] -0.129  0.465    -0.891      0.594      0.024    0.017     384.0   \n",
       "wine[17] -0.909  0.466    -1.668     -0.209      0.024    0.017     373.0   \n",
       "wine[18] -0.148  0.462    -0.920      0.531      0.025    0.018     345.0   \n",
       "wine[19]  0.447  0.468    -0.284      1.201      0.025    0.018     343.0   \n",
       "sigma     0.855  0.049     0.779      0.933      0.001    0.001    3136.0   \n",
       "\n",
       "          ess_sd  ess_bulk  ess_tail  r_hat  \n",
       "judge[0]   293.0     296.0     644.0   1.02  \n",
       "judge[1]   260.0     259.0     699.0   1.02  \n",
       "judge[2]   319.0     319.0     715.0   1.02  \n",
       "judge[3]   255.0     255.0     649.0   1.02  \n",
       "judge[4]   270.0     269.0     619.0   1.02  \n",
       "judge[5]   299.0     300.0     630.0   1.02  \n",
       "judge[6]   265.0     264.0     550.0   1.02  \n",
       "judge[7]   276.0     276.0     591.0   1.02  \n",
       "judge[8]   273.0     270.0     651.0   1.02  \n",
       "wine[0]    332.0     331.0    1003.0   1.01  \n",
       "wine[1]    449.0     447.0     873.0   1.01  \n",
       "wine[2]    405.0     406.0     857.0   1.01  \n",
       "wine[3]    370.0     370.0     919.0   1.01  \n",
       "wine[4]    349.0     350.0     790.0   1.01  \n",
       "wine[5]    378.0     375.0     867.0   1.01  \n",
       "wine[6]    404.0     399.0     874.0   1.01  \n",
       "wine[7]    410.0     412.0     893.0   1.01  \n",
       "wine[8]    378.0     376.0     737.0   1.01  \n",
       "wine[9]    324.0     321.0     775.0   1.01  \n",
       "wine[10]   377.0     376.0     754.0   1.01  \n",
       "wine[11]   346.0     341.0     780.0   1.01  \n",
       "wine[12]   361.0     360.0     829.0   1.01  \n",
       "wine[13]   453.0     449.0     834.0   1.01  \n",
       "wine[14]   397.0     397.0     822.0   1.01  \n",
       "wine[15]   355.0     354.0     774.0   1.01  \n",
       "wine[16]   384.0     385.0     835.0   1.01  \n",
       "wine[17]   373.0     366.0     777.0   1.01  \n",
       "wine[18]   345.0     346.0     794.0   1.01  \n",
       "wine[19]   343.0     343.0     791.0   1.01  \n",
       "sigma     3136.0    3081.0    2448.0   1.00  "
      ]
     },
     "execution_count": 22,
     "metadata": {},
     "output_type": "execute_result"
    },
    {
     "data": {
      "application/javascript": [
       "\n",
       "            setTimeout(function() {\n",
       "                var nbb_cell_id = 22;\n",
       "                var nbb_unformatted_code = \"az.summary(trace)\";\n",
       "                var nbb_formatted_code = \"az.summary(trace)\";\n",
       "                var nbb_cells = Jupyter.notebook.get_cells();\n",
       "                for (var i = 0; i < nbb_cells.length; ++i) {\n",
       "                    if (nbb_cells[i].input_prompt_number == nbb_cell_id) {\n",
       "                        if (nbb_cells[i].get_text() == nbb_unformatted_code) {\n",
       "                             nbb_cells[i].set_text(nbb_formatted_code);\n",
       "                        }\n",
       "                        break;\n",
       "                    }\n",
       "                }\n",
       "            }, 500);\n",
       "            "
      ],
      "text/plain": [
       "<IPython.core.display.Javascript object>"
      ]
     },
     "metadata": {},
     "output_type": "display_data"
    }
   ],
   "source": [
    "az.summary(trace)"
   ]
  },
  {
   "cell_type": "code",
   "execution_count": 23,
   "id": "developed-snowboard",
   "metadata": {
    "ExecuteTime": {
     "end_time": "2021-05-28T00:35:28.910365Z",
     "start_time": "2021-05-28T00:35:28.236164Z"
    }
   },
   "outputs": [
    {
     "data": {
      "text/plain": [
       "array([<AxesSubplot:title={'center':'89.0% HDI'}>], dtype=object)"
      ]
     },
     "execution_count": 23,
     "metadata": {},
     "output_type": "execute_result"
    },
    {
     "data": {
      "image/png": "[encoded data removed]",
      "text/plain": [
       "<Figure size 600x900 with 1 Axes>"
      ]
     },
     "metadata": {
      "image/png": {
       "height": 911,
       "width": 611
      }
     },
     "output_type": "display_data"
    },
    {
     "data": {
      "application/javascript": [
       "\n",
       "            setTimeout(function() {\n",
       "                var nbb_cell_id = 23;\n",
       "                var nbb_unformatted_code = \"az.plot_forest(trace, combined=True)\";\n",
       "                var nbb_formatted_code = \"az.plot_forest(trace, combined=True)\";\n",
       "                var nbb_cells = Jupyter.notebook.get_cells();\n",
       "                for (var i = 0; i < nbb_cells.length; ++i) {\n",
       "                    if (nbb_cells[i].input_prompt_number == nbb_cell_id) {\n",
       "                        if (nbb_cells[i].get_text() == nbb_unformatted_code) {\n",
       "                             nbb_cells[i].set_text(nbb_formatted_code);\n",
       "                        }\n",
       "                        break;\n",
       "                    }\n",
       "                }\n",
       "            }, 500);\n",
       "            "
      ],
      "text/plain": [
       "<IPython.core.display.Javascript object>"
      ]
     },
     "metadata": {},
     "output_type": "display_data"
    }
   ],
   "source": [
    "az.plot_forest(trace, combined=True)"
   ]
  },
  {
   "cell_type": "markdown",
   "id": "abroad-bookmark",
   "metadata": {},
   "source": [
    "### Assess patterns"
   ]
  },
  {
   "cell_type": "markdown",
   "id": "sealed-fishing",
   "metadata": {},
   "source": [
    "**Which judges gave the highest/lowest ratings?**"
   ]
  },
  {
   "cell_type": "code",
   "execution_count": 30,
   "id": "interim-meter",
   "metadata": {
    "ExecuteTime": {
     "end_time": "2021-05-28T00:39:45.777218Z",
     "start_time": "2021-05-28T00:39:45.280309Z"
    }
   },
   "outputs": [
    {
     "data": {
      "text/html": [
       "<div>\n",
       "<style scoped>\n",
       "    .dataframe tbody tr th:only-of-type {\n",
       "        vertical-align: middle;\n",
       "    }\n",
       "\n",
       "    .dataframe tbody tr th {\n",
       "        vertical-align: top;\n",
       "    }\n",
       "\n",
       "    .dataframe thead th {\n",
       "        text-align: right;\n",
       "    }\n",
       "</style>\n",
       "<table border=\"1\" class=\"dataframe\">\n",
       "  <thead>\n",
       "    <tr style=\"text-align: right;\">\n",
       "      <th></th>\n",
       "      <th>mean</th>\n",
       "      <th>sd</th>\n",
       "      <th>hdi_5.5%</th>\n",
       "      <th>hdi_94.5%</th>\n",
       "      <th>mcse_mean</th>\n",
       "      <th>mcse_sd</th>\n",
       "      <th>ess_mean</th>\n",
       "      <th>ess_sd</th>\n",
       "      <th>ess_bulk</th>\n",
       "      <th>ess_tail</th>\n",
       "      <th>r_hat</th>\n",
       "    </tr>\n",
       "  </thead>\n",
       "  <tbody>\n",
       "    <tr>\n",
       "      <th>judge[4]</th>\n",
       "      <td>0.873</td>\n",
       "      <td>0.418</td>\n",
       "      <td>0.192</td>\n",
       "      <td>1.514</td>\n",
       "      <td>0.025</td>\n",
       "      <td>0.018</td>\n",
       "      <td>270.0</td>\n",
       "      <td>270.0</td>\n",
       "      <td>269.0</td>\n",
       "      <td>619.0</td>\n",
       "      <td>1.02</td>\n",
       "    </tr>\n",
       "    <tr>\n",
       "      <th>judge[5]</th>\n",
       "      <td>0.512</td>\n",
       "      <td>0.421</td>\n",
       "      <td>-0.118</td>\n",
       "      <td>1.234</td>\n",
       "      <td>0.024</td>\n",
       "      <td>0.017</td>\n",
       "      <td>299.0</td>\n",
       "      <td>299.0</td>\n",
       "      <td>300.0</td>\n",
       "      <td>630.0</td>\n",
       "      <td>1.02</td>\n",
       "    </tr>\n",
       "    <tr>\n",
       "      <th>judge[1]</th>\n",
       "      <td>0.215</td>\n",
       "      <td>0.419</td>\n",
       "      <td>-0.442</td>\n",
       "      <td>0.881</td>\n",
       "      <td>0.026</td>\n",
       "      <td>0.018</td>\n",
       "      <td>260.0</td>\n",
       "      <td>260.0</td>\n",
       "      <td>259.0</td>\n",
       "      <td>699.0</td>\n",
       "      <td>1.02</td>\n",
       "    </tr>\n",
       "    <tr>\n",
       "      <th>judge[2]</th>\n",
       "      <td>0.205</td>\n",
       "      <td>0.418</td>\n",
       "      <td>-0.494</td>\n",
       "      <td>0.835</td>\n",
       "      <td>0.023</td>\n",
       "      <td>0.017</td>\n",
       "      <td>319.0</td>\n",
       "      <td>319.0</td>\n",
       "      <td>319.0</td>\n",
       "      <td>715.0</td>\n",
       "      <td>1.02</td>\n",
       "    </tr>\n",
       "    <tr>\n",
       "      <th>judge[6]</th>\n",
       "      <td>0.125</td>\n",
       "      <td>0.423</td>\n",
       "      <td>-0.538</td>\n",
       "      <td>0.788</td>\n",
       "      <td>0.026</td>\n",
       "      <td>0.018</td>\n",
       "      <td>265.0</td>\n",
       "      <td>265.0</td>\n",
       "      <td>264.0</td>\n",
       "      <td>550.0</td>\n",
       "      <td>1.02</td>\n",
       "    </tr>\n",
       "    <tr>\n",
       "      <th>judge[0]</th>\n",
       "      <td>-0.338</td>\n",
       "      <td>0.416</td>\n",
       "      <td>-1.022</td>\n",
       "      <td>0.303</td>\n",
       "      <td>0.024</td>\n",
       "      <td>0.017</td>\n",
       "      <td>293.0</td>\n",
       "      <td>293.0</td>\n",
       "      <td>296.0</td>\n",
       "      <td>644.0</td>\n",
       "      <td>1.02</td>\n",
       "    </tr>\n",
       "    <tr>\n",
       "      <th>judge[8]</th>\n",
       "      <td>-0.418</td>\n",
       "      <td>0.418</td>\n",
       "      <td>-1.080</td>\n",
       "      <td>0.235</td>\n",
       "      <td>0.025</td>\n",
       "      <td>0.018</td>\n",
       "      <td>273.0</td>\n",
       "      <td>273.0</td>\n",
       "      <td>270.0</td>\n",
       "      <td>651.0</td>\n",
       "      <td>1.02</td>\n",
       "    </tr>\n",
       "    <tr>\n",
       "      <th>judge[3]</th>\n",
       "      <td>-0.641</td>\n",
       "      <td>0.417</td>\n",
       "      <td>-1.279</td>\n",
       "      <td>0.050</td>\n",
       "      <td>0.026</td>\n",
       "      <td>0.018</td>\n",
       "      <td>255.0</td>\n",
       "      <td>255.0</td>\n",
       "      <td>255.0</td>\n",
       "      <td>649.0</td>\n",
       "      <td>1.02</td>\n",
       "    </tr>\n",
       "    <tr>\n",
       "      <th>judge[7]</th>\n",
       "      <td>-0.770</td>\n",
       "      <td>0.420</td>\n",
       "      <td>-1.413</td>\n",
       "      <td>-0.085</td>\n",
       "      <td>0.025</td>\n",
       "      <td>0.018</td>\n",
       "      <td>276.0</td>\n",
       "      <td>276.0</td>\n",
       "      <td>276.0</td>\n",
       "      <td>591.0</td>\n",
       "      <td>1.02</td>\n",
       "    </tr>\n",
       "  </tbody>\n",
       "</table>\n",
       "</div>"
      ],
      "text/plain": [
       "           mean     sd  hdi_5.5%  hdi_94.5%  mcse_mean  mcse_sd  ess_mean  \\\n",
       "judge[4]  0.873  0.418     0.192      1.514      0.025    0.018     270.0   \n",
       "judge[5]  0.512  0.421    -0.118      1.234      0.024    0.017     299.0   \n",
       "judge[1]  0.215  0.419    -0.442      0.881      0.026    0.018     260.0   \n",
       "judge[2]  0.205  0.418    -0.494      0.835      0.023    0.017     319.0   \n",
       "judge[6]  0.125  0.423    -0.538      0.788      0.026    0.018     265.0   \n",
       "judge[0] -0.338  0.416    -1.022      0.303      0.024    0.017     293.0   \n",
       "judge[8] -0.418  0.418    -1.080      0.235      0.025    0.018     273.0   \n",
       "judge[3] -0.641  0.417    -1.279      0.050      0.026    0.018     255.0   \n",
       "judge[7] -0.770  0.420    -1.413     -0.085      0.025    0.018     276.0   \n",
       "\n",
       "          ess_sd  ess_bulk  ess_tail  r_hat  \n",
       "judge[4]   270.0     269.0     619.0   1.02  \n",
       "judge[5]   299.0     300.0     630.0   1.02  \n",
       "judge[1]   260.0     259.0     699.0   1.02  \n",
       "judge[2]   319.0     319.0     715.0   1.02  \n",
       "judge[6]   265.0     264.0     550.0   1.02  \n",
       "judge[0]   293.0     296.0     644.0   1.02  \n",
       "judge[8]   273.0     270.0     651.0   1.02  \n",
       "judge[3]   255.0     255.0     649.0   1.02  \n",
       "judge[7]   276.0     276.0     591.0   1.02  "
      ]
     },
     "execution_count": 30,
     "metadata": {},
     "output_type": "execute_result"
    },
    {
     "data": {
      "application/javascript": [
       "\n",
       "            setTimeout(function() {\n",
       "                var nbb_cell_id = 30;\n",
       "                var nbb_unformatted_code = \"az.summary(trace)[az.summary(trace).index.str.contains(\\\"judge\\\")].sort_values(by=\\\"mean\\\", ascending=False)\";\n",
       "                var nbb_formatted_code = \"az.summary(trace)[az.summary(trace).index.str.contains(\\\"judge\\\")].sort_values(\\n    by=\\\"mean\\\", ascending=False\\n)\";\n",
       "                var nbb_cells = Jupyter.notebook.get_cells();\n",
       "                for (var i = 0; i < nbb_cells.length; ++i) {\n",
       "                    if (nbb_cells[i].input_prompt_number == nbb_cell_id) {\n",
       "                        if (nbb_cells[i].get_text() == nbb_unformatted_code) {\n",
       "                             nbb_cells[i].set_text(nbb_formatted_code);\n",
       "                        }\n",
       "                        break;\n",
       "                    }\n",
       "                }\n",
       "            }, 500);\n",
       "            "
      ],
      "text/plain": [
       "<IPython.core.display.Javascript object>"
      ]
     },
     "metadata": {},
     "output_type": "display_data"
    }
   ],
   "source": [
    "az.summary(trace)[az.summary(trace).index.str.contains(\"judge\")].sort_values(\n",
    "    by=\"mean\", ascending=False\n",
    ")"
   ]
  },
  {
   "cell_type": "code",
   "execution_count": 35,
   "id": "revolutionary-candidate",
   "metadata": {
    "ExecuteTime": {
     "end_time": "2021-05-28T00:42:34.268173Z",
     "start_time": "2021-05-28T00:42:33.965810Z"
    }
   },
   "outputs": [
    {
     "data": {
      "text/plain": [
       "array([<AxesSubplot:title={'center':'89.0% HDI'}>], dtype=object)"
      ]
     },
     "execution_count": 35,
     "metadata": {},
     "output_type": "execute_result"
    },
    {
     "data": {
      "image/png": "[encoded data removed]",
      "text/plain": [
       "<Figure size 600x490 with 1 Axes>"
      ]
     },
     "metadata": {
      "image/png": {
       "height": 501,
       "width": 611
      }
     },
     "output_type": "display_data"
    },
    {
     "data": {
      "application/javascript": [
       "\n",
       "            setTimeout(function() {\n",
       "                var nbb_cell_id = 35;\n",
       "                var nbb_unformatted_code = \"az.plot_forest(data=trace, var_names=\\\"judge\\\", combined=True)\";\n",
       "                var nbb_formatted_code = \"az.plot_forest(data=trace, var_names=\\\"judge\\\", combined=True)\";\n",
       "                var nbb_cells = Jupyter.notebook.get_cells();\n",
       "                for (var i = 0; i < nbb_cells.length; ++i) {\n",
       "                    if (nbb_cells[i].input_prompt_number == nbb_cell_id) {\n",
       "                        if (nbb_cells[i].get_text() == nbb_unformatted_code) {\n",
       "                             nbb_cells[i].set_text(nbb_formatted_code);\n",
       "                        }\n",
       "                        break;\n",
       "                    }\n",
       "                }\n",
       "            }, 500);\n",
       "            "
      ],
      "text/plain": [
       "<IPython.core.display.Javascript object>"
      ]
     },
     "metadata": {},
     "output_type": "display_data"
    }
   ],
   "source": [
    "az.plot_forest(data=trace, var_names=\"judge\", combined=True)"
   ]
  },
  {
   "cell_type": "markdown",
   "id": "documented-isolation",
   "metadata": {},
   "source": [
    "**Which wines were rated worst/best on average?**"
   ]
  },
  {
   "cell_type": "code",
   "execution_count": 37,
   "id": "coordinate-sessions",
   "metadata": {
    "ExecuteTime": {
     "end_time": "2021-05-28T00:43:14.026489Z",
     "start_time": "2021-05-28T00:43:13.520038Z"
    }
   },
   "outputs": [
    {
     "data": {
      "text/html": [
       "<div>\n",
       "<style scoped>\n",
       "    .dataframe tbody tr th:only-of-type {\n",
       "        vertical-align: middle;\n",
       "    }\n",
       "\n",
       "    .dataframe tbody tr th {\n",
       "        vertical-align: top;\n",
       "    }\n",
       "\n",
       "    .dataframe thead th {\n",
       "        text-align: right;\n",
       "    }\n",
       "</style>\n",
       "<table border=\"1\" class=\"dataframe\">\n",
       "  <thead>\n",
       "    <tr style=\"text-align: right;\">\n",
       "      <th></th>\n",
       "      <th>mean</th>\n",
       "      <th>sd</th>\n",
       "      <th>hdi_5.5%</th>\n",
       "      <th>hdi_94.5%</th>\n",
       "      <th>mcse_mean</th>\n",
       "      <th>mcse_sd</th>\n",
       "      <th>ess_mean</th>\n",
       "      <th>ess_sd</th>\n",
       "      <th>ess_bulk</th>\n",
       "      <th>ess_tail</th>\n",
       "      <th>r_hat</th>\n",
       "    </tr>\n",
       "  </thead>\n",
       "  <tbody>\n",
       "    <tr>\n",
       "      <th>wine[3]</th>\n",
       "      <td>0.632</td>\n",
       "      <td>0.469</td>\n",
       "      <td>-0.113</td>\n",
       "      <td>1.357</td>\n",
       "      <td>0.024</td>\n",
       "      <td>0.017</td>\n",
       "      <td>370.0</td>\n",
       "      <td>370.0</td>\n",
       "      <td>370.0</td>\n",
       "      <td>919.0</td>\n",
       "      <td>1.01</td>\n",
       "    </tr>\n",
       "    <tr>\n",
       "      <th>wine[19]</th>\n",
       "      <td>0.447</td>\n",
       "      <td>0.468</td>\n",
       "      <td>-0.284</td>\n",
       "      <td>1.201</td>\n",
       "      <td>0.025</td>\n",
       "      <td>0.018</td>\n",
       "      <td>343.0</td>\n",
       "      <td>343.0</td>\n",
       "      <td>343.0</td>\n",
       "      <td>791.0</td>\n",
       "      <td>1.01</td>\n",
       "    </tr>\n",
       "    <tr>\n",
       "      <th>wine[6]</th>\n",
       "      <td>0.347</td>\n",
       "      <td>0.464</td>\n",
       "      <td>-0.409</td>\n",
       "      <td>1.059</td>\n",
       "      <td>0.023</td>\n",
       "      <td>0.016</td>\n",
       "      <td>404.0</td>\n",
       "      <td>404.0</td>\n",
       "      <td>399.0</td>\n",
       "      <td>874.0</td>\n",
       "      <td>1.01</td>\n",
       "    </tr>\n",
       "    <tr>\n",
       "      <th>wine[7]</th>\n",
       "      <td>0.322</td>\n",
       "      <td>0.468</td>\n",
       "      <td>-0.371</td>\n",
       "      <td>1.105</td>\n",
       "      <td>0.023</td>\n",
       "      <td>0.016</td>\n",
       "      <td>410.0</td>\n",
       "      <td>410.0</td>\n",
       "      <td>412.0</td>\n",
       "      <td>893.0</td>\n",
       "      <td>1.01</td>\n",
       "    </tr>\n",
       "    <tr>\n",
       "      <th>wine[2]</th>\n",
       "      <td>0.317</td>\n",
       "      <td>0.465</td>\n",
       "      <td>-0.407</td>\n",
       "      <td>1.074</td>\n",
       "      <td>0.023</td>\n",
       "      <td>0.016</td>\n",
       "      <td>405.0</td>\n",
       "      <td>405.0</td>\n",
       "      <td>406.0</td>\n",
       "      <td>857.0</td>\n",
       "      <td>1.01</td>\n",
       "    </tr>\n",
       "    <tr>\n",
       "      <th>wine[0]</th>\n",
       "      <td>0.173</td>\n",
       "      <td>0.463</td>\n",
       "      <td>-0.559</td>\n",
       "      <td>0.908</td>\n",
       "      <td>0.025</td>\n",
       "      <td>0.018</td>\n",
       "      <td>332.0</td>\n",
       "      <td>332.0</td>\n",
       "      <td>331.0</td>\n",
       "      <td>1003.0</td>\n",
       "      <td>1.01</td>\n",
       "    </tr>\n",
       "    <tr>\n",
       "      <th>wine[9]</th>\n",
       "      <td>0.164</td>\n",
       "      <td>0.458</td>\n",
       "      <td>-0.593</td>\n",
       "      <td>0.861</td>\n",
       "      <td>0.025</td>\n",
       "      <td>0.018</td>\n",
       "      <td>324.0</td>\n",
       "      <td>324.0</td>\n",
       "      <td>321.0</td>\n",
       "      <td>775.0</td>\n",
       "      <td>1.01</td>\n",
       "    </tr>\n",
       "    <tr>\n",
       "      <th>wine[1]</th>\n",
       "      <td>0.139</td>\n",
       "      <td>0.466</td>\n",
       "      <td>-0.593</td>\n",
       "      <td>0.898</td>\n",
       "      <td>0.022</td>\n",
       "      <td>0.016</td>\n",
       "      <td>449.0</td>\n",
       "      <td>449.0</td>\n",
       "      <td>447.0</td>\n",
       "      <td>873.0</td>\n",
       "      <td>1.01</td>\n",
       "    </tr>\n",
       "    <tr>\n",
       "      <th>wine[8]</th>\n",
       "      <td>0.119</td>\n",
       "      <td>0.468</td>\n",
       "      <td>-0.673</td>\n",
       "      <td>0.814</td>\n",
       "      <td>0.024</td>\n",
       "      <td>0.017</td>\n",
       "      <td>378.0</td>\n",
       "      <td>378.0</td>\n",
       "      <td>376.0</td>\n",
       "      <td>737.0</td>\n",
       "      <td>1.01</td>\n",
       "    </tr>\n",
       "    <tr>\n",
       "      <th>wine[13]</th>\n",
       "      <td>0.034</td>\n",
       "      <td>0.467</td>\n",
       "      <td>-0.735</td>\n",
       "      <td>0.759</td>\n",
       "      <td>0.022</td>\n",
       "      <td>0.016</td>\n",
       "      <td>453.0</td>\n",
       "      <td>453.0</td>\n",
       "      <td>449.0</td>\n",
       "      <td>834.0</td>\n",
       "      <td>1.01</td>\n",
       "    </tr>\n",
       "    <tr>\n",
       "      <th>wine[10]</th>\n",
       "      <td>0.012</td>\n",
       "      <td>0.464</td>\n",
       "      <td>-0.663</td>\n",
       "      <td>0.805</td>\n",
       "      <td>0.024</td>\n",
       "      <td>0.017</td>\n",
       "      <td>377.0</td>\n",
       "      <td>377.0</td>\n",
       "      <td>376.0</td>\n",
       "      <td>754.0</td>\n",
       "      <td>1.01</td>\n",
       "    </tr>\n",
       "    <tr>\n",
       "      <th>wine[11]</th>\n",
       "      <td>-0.002</td>\n",
       "      <td>0.464</td>\n",
       "      <td>-0.705</td>\n",
       "      <td>0.750</td>\n",
       "      <td>0.025</td>\n",
       "      <td>0.018</td>\n",
       "      <td>346.0</td>\n",
       "      <td>346.0</td>\n",
       "      <td>341.0</td>\n",
       "      <td>780.0</td>\n",
       "      <td>1.01</td>\n",
       "    </tr>\n",
       "    <tr>\n",
       "      <th>wine[12]</th>\n",
       "      <td>-0.086</td>\n",
       "      <td>0.463</td>\n",
       "      <td>-0.887</td>\n",
       "      <td>0.582</td>\n",
       "      <td>0.024</td>\n",
       "      <td>0.017</td>\n",
       "      <td>361.0</td>\n",
       "      <td>361.0</td>\n",
       "      <td>360.0</td>\n",
       "      <td>829.0</td>\n",
       "      <td>1.01</td>\n",
       "    </tr>\n",
       "    <tr>\n",
       "      <th>wine[4]</th>\n",
       "      <td>-0.112</td>\n",
       "      <td>0.466</td>\n",
       "      <td>-0.811</td>\n",
       "      <td>0.661</td>\n",
       "      <td>0.025</td>\n",
       "      <td>0.018</td>\n",
       "      <td>349.0</td>\n",
       "      <td>349.0</td>\n",
       "      <td>350.0</td>\n",
       "      <td>790.0</td>\n",
       "      <td>1.01</td>\n",
       "    </tr>\n",
       "    <tr>\n",
       "      <th>wine[16]</th>\n",
       "      <td>-0.129</td>\n",
       "      <td>0.465</td>\n",
       "      <td>-0.891</td>\n",
       "      <td>0.594</td>\n",
       "      <td>0.024</td>\n",
       "      <td>0.017</td>\n",
       "      <td>384.0</td>\n",
       "      <td>384.0</td>\n",
       "      <td>385.0</td>\n",
       "      <td>835.0</td>\n",
       "      <td>1.01</td>\n",
       "    </tr>\n",
       "    <tr>\n",
       "      <th>wine[18]</th>\n",
       "      <td>-0.148</td>\n",
       "      <td>0.462</td>\n",
       "      <td>-0.920</td>\n",
       "      <td>0.531</td>\n",
       "      <td>0.025</td>\n",
       "      <td>0.018</td>\n",
       "      <td>345.0</td>\n",
       "      <td>345.0</td>\n",
       "      <td>346.0</td>\n",
       "      <td>794.0</td>\n",
       "      <td>1.01</td>\n",
       "    </tr>\n",
       "    <tr>\n",
       "      <th>wine[15]</th>\n",
       "      <td>-0.189</td>\n",
       "      <td>0.464</td>\n",
       "      <td>-0.896</td>\n",
       "      <td>0.567</td>\n",
       "      <td>0.025</td>\n",
       "      <td>0.017</td>\n",
       "      <td>355.0</td>\n",
       "      <td>355.0</td>\n",
       "      <td>354.0</td>\n",
       "      <td>774.0</td>\n",
       "      <td>1.01</td>\n",
       "    </tr>\n",
       "    <tr>\n",
       "      <th>wine[14]</th>\n",
       "      <td>-0.205</td>\n",
       "      <td>0.463</td>\n",
       "      <td>-0.929</td>\n",
       "      <td>0.538</td>\n",
       "      <td>0.023</td>\n",
       "      <td>0.016</td>\n",
       "      <td>397.0</td>\n",
       "      <td>397.0</td>\n",
       "      <td>397.0</td>\n",
       "      <td>822.0</td>\n",
       "      <td>1.01</td>\n",
       "    </tr>\n",
       "    <tr>\n",
       "      <th>wine[5]</th>\n",
       "      <td>-0.370</td>\n",
       "      <td>0.463</td>\n",
       "      <td>-1.078</td>\n",
       "      <td>0.369</td>\n",
       "      <td>0.024</td>\n",
       "      <td>0.017</td>\n",
       "      <td>378.0</td>\n",
       "      <td>378.0</td>\n",
       "      <td>375.0</td>\n",
       "      <td>867.0</td>\n",
       "      <td>1.01</td>\n",
       "    </tr>\n",
       "    <tr>\n",
       "      <th>wine[17]</th>\n",
       "      <td>-0.909</td>\n",
       "      <td>0.466</td>\n",
       "      <td>-1.668</td>\n",
       "      <td>-0.209</td>\n",
       "      <td>0.024</td>\n",
       "      <td>0.017</td>\n",
       "      <td>373.0</td>\n",
       "      <td>373.0</td>\n",
       "      <td>366.0</td>\n",
       "      <td>777.0</td>\n",
       "      <td>1.01</td>\n",
       "    </tr>\n",
       "  </tbody>\n",
       "</table>\n",
       "</div>"
      ],
      "text/plain": [
       "           mean     sd  hdi_5.5%  hdi_94.5%  mcse_mean  mcse_sd  ess_mean  \\\n",
       "wine[3]   0.632  0.469    -0.113      1.357      0.024    0.017     370.0   \n",
       "wine[19]  0.447  0.468    -0.284      1.201      0.025    0.018     343.0   \n",
       "wine[6]   0.347  0.464    -0.409      1.059      0.023    0.016     404.0   \n",
       "wine[7]   0.322  0.468    -0.371      1.105      0.023    0.016     410.0   \n",
       "wine[2]   0.317  0.465    -0.407      1.074      0.023    0.016     405.0   \n",
       "wine[0]   0.173  0.463    -0.559      0.908      0.025    0.018     332.0   \n",
       "wine[9]   0.164  0.458    -0.593      0.861      0.025    0.018     324.0   \n",
       "wine[1]   0.139  0.466    -0.593      0.898      0.022    0.016     449.0   \n",
       "wine[8]   0.119  0.468    -0.673      0.814      0.024    0.017     378.0   \n",
       "wine[13]  0.034  0.467    -0.735      0.759      0.022    0.016     453.0   \n",
       "wine[10]  0.012  0.464    -0.663      0.805      0.024    0.017     377.0   \n",
       "wine[11] -0.002  0.464    -0.705      0.750      0.025    0.018     346.0   \n",
       "wine[12] -0.086  0.463    -0.887      0.582      0.024    0.017     361.0   \n",
       "wine[4]  -0.112  0.466    -0.811      0.661      0.025    0.018     349.0   \n",
       "wine[16] -0.129  0.465    -0.891      0.594      0.024    0.017     384.0   \n",
       "wine[18] -0.148  0.462    -0.920      0.531      0.025    0.018     345.0   \n",
       "wine[15] -0.189  0.464    -0.896      0.567      0.025    0.017     355.0   \n",
       "wine[14] -0.205  0.463    -0.929      0.538      0.023    0.016     397.0   \n",
       "wine[5]  -0.370  0.463    -1.078      0.369      0.024    0.017     378.0   \n",
       "wine[17] -0.909  0.466    -1.668     -0.209      0.024    0.017     373.0   \n",
       "\n",
       "          ess_sd  ess_bulk  ess_tail  r_hat  \n",
       "wine[3]    370.0     370.0     919.0   1.01  \n",
       "wine[19]   343.0     343.0     791.0   1.01  \n",
       "wine[6]    404.0     399.0     874.0   1.01  \n",
       "wine[7]    410.0     412.0     893.0   1.01  \n",
       "wine[2]    405.0     406.0     857.0   1.01  \n",
       "wine[0]    332.0     331.0    1003.0   1.01  \n",
       "wine[9]    324.0     321.0     775.0   1.01  \n",
       "wine[1]    449.0     447.0     873.0   1.01  \n",
       "wine[8]    378.0     376.0     737.0   1.01  \n",
       "wine[13]   453.0     449.0     834.0   1.01  \n",
       "wine[10]   377.0     376.0     754.0   1.01  \n",
       "wine[11]   346.0     341.0     780.0   1.01  \n",
       "wine[12]   361.0     360.0     829.0   1.01  \n",
       "wine[4]    349.0     350.0     790.0   1.01  \n",
       "wine[16]   384.0     385.0     835.0   1.01  \n",
       "wine[18]   345.0     346.0     794.0   1.01  \n",
       "wine[15]   355.0     354.0     774.0   1.01  \n",
       "wine[14]   397.0     397.0     822.0   1.01  \n",
       "wine[5]    378.0     375.0     867.0   1.01  \n",
       "wine[17]   373.0     366.0     777.0   1.01  "
      ]
     },
     "execution_count": 37,
     "metadata": {},
     "output_type": "execute_result"
    },
    {
     "data": {
      "application/javascript": [
       "\n",
       "            setTimeout(function() {\n",
       "                var nbb_cell_id = 37;\n",
       "                var nbb_unformatted_code = \"az.summary(trace)[az.summary(trace).index.str.contains(\\\"wine\\\")].sort_values(\\n    by=\\\"mean\\\", ascending=False\\n)\";\n",
       "                var nbb_formatted_code = \"az.summary(trace)[az.summary(trace).index.str.contains(\\\"wine\\\")].sort_values(\\n    by=\\\"mean\\\", ascending=False\\n)\";\n",
       "                var nbb_cells = Jupyter.notebook.get_cells();\n",
       "                for (var i = 0; i < nbb_cells.length; ++i) {\n",
       "                    if (nbb_cells[i].input_prompt_number == nbb_cell_id) {\n",
       "                        if (nbb_cells[i].get_text() == nbb_unformatted_code) {\n",
       "                             nbb_cells[i].set_text(nbb_formatted_code);\n",
       "                        }\n",
       "                        break;\n",
       "                    }\n",
       "                }\n",
       "            }, 500);\n",
       "            "
      ],
      "text/plain": [
       "<IPython.core.display.Javascript object>"
      ]
     },
     "metadata": {},
     "output_type": "display_data"
    }
   ],
   "source": [
    "az.summary(trace)[az.summary(trace).index.str.contains(\"wine\")].sort_values(\n",
    "    by=\"mean\", ascending=False\n",
    ")"
   ]
  },
  {
   "cell_type": "code",
   "execution_count": 36,
   "id": "spiritual-spray",
   "metadata": {
    "ExecuteTime": {
     "end_time": "2021-05-28T00:42:54.657619Z",
     "start_time": "2021-05-28T00:42:54.215059Z"
    }
   },
   "outputs": [
    {
     "data": {
      "text/plain": [
       "array([<AxesSubplot:title={'center':'89.0% HDI'}>], dtype=object)"
      ]
     },
     "execution_count": 36,
     "metadata": {},
     "output_type": "execute_result"
    },
    {
     "data": {
      "image/png": "[encoded data removed]",
      "text/plain": [
       "<Figure size 600x600 with 1 Axes>"
      ]
     },
     "metadata": {
      "image/png": {
       "height": 611,
       "width": 594
      }
     },
     "output_type": "display_data"
    },
    {
     "data": {
      "application/javascript": [
       "\n",
       "            setTimeout(function() {\n",
       "                var nbb_cell_id = 36;\n",
       "                var nbb_unformatted_code = \"az.plot_forest(data=trace, var_names=\\\"wine\\\", combined=True)\";\n",
       "                var nbb_formatted_code = \"az.plot_forest(data=trace, var_names=\\\"wine\\\", combined=True)\";\n",
       "                var nbb_cells = Jupyter.notebook.get_cells();\n",
       "                for (var i = 0; i < nbb_cells.length; ++i) {\n",
       "                    if (nbb_cells[i].input_prompt_number == nbb_cell_id) {\n",
       "                        if (nbb_cells[i].get_text() == nbb_unformatted_code) {\n",
       "                             nbb_cells[i].set_text(nbb_formatted_code);\n",
       "                        }\n",
       "                        break;\n",
       "                    }\n",
       "                }\n",
       "            }, 500);\n",
       "            "
      ],
      "text/plain": [
       "<IPython.core.display.Javascript object>"
      ]
     },
     "metadata": {},
     "output_type": "display_data"
    }
   ],
   "source": [
    "az.plot_forest(data=trace, var_names=\"wine\", combined=True)"
   ]
  },
  {
   "cell_type": "code",
   "execution_count": null,
   "id": "viral-services",
   "metadata": {},
   "outputs": [],
   "source": []
  },
  {
   "cell_type": "markdown",
   "id": "sought-birthday",
   "metadata": {},
   "source": [
    "# Question 2 (8H6)\n",
    "\n",
    "Now consider three features of the wines and judges:\n",
    "(1) flight: Whether the wine is red or white.\n",
    "(2) wine.amer: Indicator variable for American wines.\n",
    "(3) judge.amer: Indicator variable for American judges.\n",
    "Use indicator or index variables to model the influence of these features on\n",
    "the scores. Omit the individual judge and wine index variables from Problem 1. Do not include interaction effects yet. Again use ulam, justify your priors,\n",
    "and be sure to check the chains. What do you conclude about the differences\n",
    "among the wines and judges? Try to relate the results to the inferences in\n",
    "Problem 1."
   ]
  },
  {
   "cell_type": "code",
   "execution_count": null,
   "id": "administrative-karma",
   "metadata": {},
   "outputs": [],
   "source": []
  },
  {
   "cell_type": "code",
   "execution_count": 43,
   "id": "upset-saturday",
   "metadata": {
    "ExecuteTime": {
     "end_time": "2021-05-26T15:42:53.830745Z",
     "start_time": "2021-05-26T15:42:52.698477Z"
    }
   },
   "outputs": [
    {
     "name": "stderr",
     "output_type": "stream",
     "text": [
      "/Users/blacar/opt/anaconda3/envs/stats_rethinking/lib/python3.8/site-packages/seaborn/axisgrid.py:64: UserWarning: This figure was using constrained_layout==True, but that is incompatible with subplots_adjust and or tight_layout: setting constrained_layout==False. \n",
      "  self.fig.tight_layout(*args, **kwargs)\n"
     ]
    },
    {
     "data": {
      "text/plain": [
       "<seaborn.axisgrid.PairGrid at 0x14c0b31c0>"
      ]
     },
     "execution_count": 43,
     "metadata": {},
     "output_type": "execute_result"
    },
    {
     "data": {
      "image/png": "[encoded data removed]",
      "text/plain": [
       "<Figure size 750x750 with 12 Axes>"
      ]
     },
     "metadata": {
      "image/png": {
       "height": 728,
       "width": 729
      }
     },
     "output_type": "display_data"
    },
    {
     "data": {
      "application/javascript": [
       "\n",
       "            setTimeout(function() {\n",
       "                var nbb_cell_id = 43;\n",
       "                var nbb_unformatted_code = \"sns.pairplot(df_wines[[\\\"score_std\\\", \\\"wine.amer\\\", \\\"judge.amer\\\"]])\";\n",
       "                var nbb_formatted_code = \"sns.pairplot(df_wines[[\\\"score_std\\\", \\\"wine.amer\\\", \\\"judge.amer\\\"]])\";\n",
       "                var nbb_cells = Jupyter.notebook.get_cells();\n",
       "                for (var i = 0; i < nbb_cells.length; ++i) {\n",
       "                    if (nbb_cells[i].input_prompt_number == nbb_cell_id) {\n",
       "                        if (nbb_cells[i].get_text() == nbb_unformatted_code) {\n",
       "                             nbb_cells[i].set_text(nbb_formatted_code);\n",
       "                        }\n",
       "                        break;\n",
       "                    }\n",
       "                }\n",
       "            }, 500);\n",
       "            "
      ],
      "text/plain": [
       "<IPython.core.display.Javascript object>"
      ]
     },
     "metadata": {},
     "output_type": "display_data"
    }
   ],
   "source": [
    "sns.pairplot(df_wines[[\"score_std\", \"wine.amer\", \"judge.amer\"]])"
   ]
  },
  {
   "cell_type": "code",
   "execution_count": null,
   "id": "recent-reserve",
   "metadata": {},
   "outputs": [],
   "source": []
  },
  {
   "cell_type": "code",
   "execution_count": null,
   "id": "mature-position",
   "metadata": {},
   "outputs": [],
   "source": []
  },
  {
   "cell_type": "markdown",
   "id": "caring-wages",
   "metadata": {},
   "source": [
    "# Question 3 (8H70\n",
    "\n",
    "Now consider two-way interactions among the three features. You should\n",
    "end up with three different interaction terms in your model. These will be\n",
    "easier to build, if you use indicator variables. Again use ulam, justify your\n",
    "priors, and be sure to check the chains. Explain what each interaction means.\n",
    "Be sure to interpret the model’s predictions on the outcome scale (mu, the\n",
    "expected score), not on the scale of individual parameters. You can use link\n",
    "to help with this, or just use your knowledge of the linear model instead.\n",
    "What do you conclude about the features and the scores? Can you relate\n",
    "the results of your model(s) to the individual judge and wine inferences from\n",
    "Problem 1?"
   ]
  },
  {
   "cell_type": "markdown",
   "id": "seeing-overall",
   "metadata": {},
   "source": [
    "Appendix: Environment and system parameters"
   ]
  },
  {
   "cell_type": "code",
   "execution_count": 3,
   "id": "ethical-template",
   "metadata": {
    "ExecuteTime": {
     "end_time": "2021-05-26T15:05:12.224233Z",
     "start_time": "2021-05-26T15:05:12.203517Z"
    }
   },
   "outputs": [
    {
     "name": "stdout",
     "output_type": "stream",
     "text": [
      "Last updated: Wed May 26 2021\n",
      "\n",
      "Python implementation: CPython\n",
      "Python version       : 3.8.6\n",
      "IPython version      : 7.20.0\n",
      "\n",
      "scipy     : 1.6.0\n",
      "pandas    : 1.2.1\n",
      "arviz     : 0.11.1\n",
      "json      : 2.0.9\n",
      "matplotlib: 3.3.4\n",
      "pymc3     : 3.11.0\n",
      "seaborn   : 0.11.1\n",
      "numpy     : 1.20.1\n",
      "\n",
      "Watermark: 2.1.0\n",
      "\n"
     ]
    },
    {
     "data": {
      "application/javascript": [
       "\n",
       "            setTimeout(function() {\n",
       "                var nbb_cell_id = 3;\n",
       "                var nbb_unformatted_code = \"%watermark -n -u -v -iv -w\";\n",
       "                var nbb_formatted_code = \"%watermark -n -u -v -iv -w\";\n",
       "                var nbb_cells = Jupyter.notebook.get_cells();\n",
       "                for (var i = 0; i < nbb_cells.length; ++i) {\n",
       "                    if (nbb_cells[i].input_prompt_number == nbb_cell_id) {\n",
       "                        if (nbb_cells[i].get_text() == nbb_unformatted_code) {\n",
       "                             nbb_cells[i].set_text(nbb_formatted_code);\n",
       "                        }\n",
       "                        break;\n",
       "                    }\n",
       "                }\n",
       "            }, 500);\n",
       "            "
      ],
      "text/plain": [
       "<IPython.core.display.Javascript object>"
      ]
     },
     "metadata": {},
     "output_type": "display_data"
    }
   ],
   "source": [
    "%watermark -n -u -v -iv -w"
   ]
  }
 ],
 "metadata": {
  "kernelspec": {
   "display_name": "Python 3",
   "language": "python",
   "name": "python3"
  },
  "language_info": {
   "codemirror_mode": {
    "name": "ipython",
    "version": 3
   },
   "file_extension": ".py",
   "mimetype": "text/x-python",
   "name": "python",
   "nbconvert_exporter": "python",
   "pygments_lexer": "ipython3",
   "version": "3.8.6"
  },
  "latex_envs": {
   "LaTeX_envs_menu_present": true,
   "autoclose": false,
   "autocomplete": true,
   "bibliofile": "biblio.bib",
   "cite_by": "apalike",
   "current_citInitial": 1,
   "eqLabelWithNumbers": true,
   "eqNumInitial": 1,
   "hotkeys": {
    "equation": "Ctrl-E",
    "itemize": "Ctrl-I"
   },
   "labels_anchors": false,
   "latex_user_defs": false,
   "report_style_numbering": false,
   "user_envs_cfg": false
  },
  "toc": {
   "base_numbering": 1,
   "nav_menu": {},
   "number_sections": true,
   "sideBar": true,
   "skip_h1_title": false,
   "title_cell": "Table of Contents",
   "title_sidebar": "Contents",
   "toc_cell": false,
   "toc_position": {
    "height": "calc(100% - 180px)",
    "left": "10px",
    "top": "150px",
    "width": "288px"
   },
   "toc_section_display": true,
   "toc_window_display": true
  },
  "varInspector": {
   "cols": {
    "lenName": 16,
    "lenType": 16,
    "lenVar": 40
   },
   "kernels_config": {
    "python": {
     "delete_cmd_postfix": "",
     "delete_cmd_prefix": "del ",
     "library": "var_list.py",
     "varRefreshCmd": "print(var_dic_list())"
    },
    "r": {
     "delete_cmd_postfix": ") ",
     "delete_cmd_prefix": "rm(",
     "library": "var_list.r",
     "varRefreshCmd": "cat(var_dic_list()) "
    }
   },
   "types_to_exclude": [
    "module",
    "function",
    "builtin_function_or_method",
    "instance",
    "_Feature"
   ],
   "window_display": false
  }
 },
 "nbformat": 4,
 "nbformat_minor": 5
}
