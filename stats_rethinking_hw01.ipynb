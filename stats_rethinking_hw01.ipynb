{
 "cells": [
  {
   "cell_type": "markdown",
   "id": "metallic-weekend",
   "metadata": {},
   "source": [
    "The purpose of this notebook is to do the Statistical Rethinking [homework](https://github.com/rmcelreath/stat_rethinking_2020/tree/main/homework) using Python. (I will do the winter 2020 assignments but lectures from 2019 seem to still be okay.) Given the Bayesian preference of the course, it will be helpful for me to use my prior experience with Bayesian stats as a jumping off point. I wrote a series of blog posts starting with [this one](https://benslack19.github.io/data%20science/statistics/a-bertrands-box/). However, a public repo has been created [here](https://github.com/pymc-devs/resources/tree/master/Rethinking_2) that also uses Python. It will helpful for me to do these exercises myself, but that repo will serve as a helpful reference. Seeing the packages used in that repo is already helpful. Based on looking at package repos and [this post](https://towardsdatascience.com/hands-on-bayesian-statistics-with-python-pymc3-arviz-499db9a59501), I will start learning `arviz` and `pymc3`.\n",
    "\n",
    "This notebook will be for the Week 1 and 2 homework.\n",
    "\n",
    "I encountered issues simply importing those packages which made me go down another direction for employing virtual environments, finding notebook extensions, employing code formatting tools, writing scripts to make the envirionment transparent, and managing this all with `git`."
   ]
  },
  {
   "cell_type": "code",
   "execution_count": 14,
   "id": "overall-samba",
   "metadata": {
    "ExecuteTime": {
     "end_time": "2021-02-09T04:11:59.028685Z",
     "start_time": "2021-02-09T04:11:59.021271Z"
    }
   },
   "outputs": [
    {
     "data": {
      "application/javascript": [
       "\n",
       "            setTimeout(function() {\n",
       "                var nbb_cell_id = 14;\n",
       "                var nbb_unformatted_code = \"import arviz as az\\nimport matplotlib.pyplot as plt\\nimport numpy as np\\nimport os\\nimport pandas as pd\\nimport pymc3 as pm\\nimport scipy.stats as stats\\nimport seaborn as sns\";\n",
       "                var nbb_formatted_code = \"import arviz as az\\nimport matplotlib.pyplot as plt\\nimport numpy as np\\nimport os\\nimport pandas as pd\\nimport pymc3 as pm\\nimport scipy.stats as stats\\nimport seaborn as sns\";\n",
       "                var nbb_cells = Jupyter.notebook.get_cells();\n",
       "                for (var i = 0; i < nbb_cells.length; ++i) {\n",
       "                    if (nbb_cells[i].input_prompt_number == nbb_cell_id) {\n",
       "                        if (nbb_cells[i].get_text() == nbb_unformatted_code) {\n",
       "                             nbb_cells[i].set_text(nbb_formatted_code);\n",
       "                        }\n",
       "                        break;\n",
       "                    }\n",
       "                }\n",
       "            }, 500);\n",
       "            "
      ],
      "text/plain": [
       "<IPython.core.display.Javascript object>"
      ]
     },
     "metadata": {},
     "output_type": "display_data"
    }
   ],
   "source": [
    "import arviz as az\n",
    "import matplotlib.pyplot as plt\n",
    "import numpy as np\n",
    "import os\n",
    "import pandas as pd\n",
    "import pymc3 as pm\n",
    "import scipy.stats as stats\n",
    "import seaborn as sns"
   ]
  },
  {
   "cell_type": "code",
   "execution_count": 15,
   "id": "legal-attitude",
   "metadata": {
    "ExecuteTime": {
     "end_time": "2021-02-09T04:11:59.579666Z",
     "start_time": "2021-02-09T04:11:59.561121Z"
    }
   },
   "outputs": [
    {
     "name": "stdout",
     "output_type": "stream",
     "text": [
      "The nb_black extension is already loaded. To reload it, use:\n",
      "  %reload_ext nb_black\n",
      "The watermark extension is already loaded. To reload it, use:\n",
      "  %reload_ext watermark\n"
     ]
    },
    {
     "data": {
      "application/javascript": [
       "\n",
       "            setTimeout(function() {\n",
       "                var nbb_cell_id = 15;\n",
       "                var nbb_unformatted_code = \"%load_ext nb_black\\n%config InlineBackend.figure_format = 'retina'\\n%load_ext watermark\\nRANDOM_SEED = 8927\\nnp.random.seed(RANDOM_SEED)\\naz.style.use(\\\"arviz-darkgrid\\\")\";\n",
       "                var nbb_formatted_code = \"%load_ext nb_black\\n%config InlineBackend.figure_format = 'retina'\\n%load_ext watermark\\nRANDOM_SEED = 8927\\nnp.random.seed(RANDOM_SEED)\\naz.style.use(\\\"arviz-darkgrid\\\")\";\n",
       "                var nbb_cells = Jupyter.notebook.get_cells();\n",
       "                for (var i = 0; i < nbb_cells.length; ++i) {\n",
       "                    if (nbb_cells[i].input_prompt_number == nbb_cell_id) {\n",
       "                        if (nbb_cells[i].get_text() == nbb_unformatted_code) {\n",
       "                             nbb_cells[i].set_text(nbb_formatted_code);\n",
       "                        }\n",
       "                        break;\n",
       "                    }\n",
       "                }\n",
       "            }, 500);\n",
       "            "
      ],
      "text/plain": [
       "<IPython.core.display.Javascript object>"
      ]
     },
     "metadata": {},
     "output_type": "display_data"
    }
   ],
   "source": [
    "%load_ext nb_black\n",
    "%config InlineBackend.figure_format = 'retina'\n",
    "%load_ext watermark\n",
    "RANDOM_SEED = 8927\n",
    "np.random.seed(RANDOM_SEED)\n",
    "az.style.use(\"arviz-darkgrid\")"
   ]
  },
  {
   "cell_type": "markdown",
   "id": "growing-cancer",
   "metadata": {},
   "source": [
    "# Week 1 homework"
   ]
  },
  {
   "cell_type": "markdown",
   "id": "acute-sudan",
   "metadata": {},
   "source": [
    "## Question 1\n",
    "\n",
    "**Suppose the globe tossing data (Chapter 2) had turned out to be 8 water in 15 tosses. Construct the posterior distribution, using grid approximation. Use the same flat prior as in the book.**"
   ]
  },
  {
   "cell_type": "markdown",
   "id": "extra-nickel",
   "metadata": {},
   "source": [
    "The grid approximation is another way of saying that this is a discrete probability distribution. In this scenario, the x-axis are the possible values of the probability of water on the globe. The y-axis is the probability that *the water probability value* can occur. This is a potential point of confusion which I want to highlight: both x- and y-axes are probabilities, but representing different things."
   ]
  },
  {
   "cell_type": "markdown",
   "id": "viral-pricing",
   "metadata": {},
   "source": [
    "**Small number of points in the grid, using bar plot (probability mass function, PMF)**\n",
    "\n",
    "Let's start off using five points for the grid approximation, between 0 and 1, with the boundaries inclusive."
   ]
  },
  {
   "cell_type": "code",
   "execution_count": 168,
   "id": "complicated-export",
   "metadata": {
    "ExecuteTime": {
     "end_time": "2021-02-10T02:15:52.076867Z",
     "start_time": "2021-02-10T02:15:52.069136Z"
    }
   },
   "outputs": [
    {
     "name": "stdout",
     "output_type": "stream",
     "text": [
      "[0.   0.25 0.5  0.75 1.  ]\n"
     ]
    },
    {
     "data": {
      "application/javascript": [
       "\n",
       "            setTimeout(function() {\n",
       "                var nbb_cell_id = 168;\n",
       "                var nbb_unformatted_code = \"# Define grid\\ngrid_points = 5\\nwater_prob_vals = np.linspace(0, 1, grid_points)\\nprint(water_prob_vals)\";\n",
       "                var nbb_formatted_code = \"# Define grid\\ngrid_points = 5\\nwater_prob_vals = np.linspace(0, 1, grid_points)\\nprint(water_prob_vals)\";\n",
       "                var nbb_cells = Jupyter.notebook.get_cells();\n",
       "                for (var i = 0; i < nbb_cells.length; ++i) {\n",
       "                    if (nbb_cells[i].input_prompt_number == nbb_cell_id) {\n",
       "                        if (nbb_cells[i].get_text() == nbb_unformatted_code) {\n",
       "                             nbb_cells[i].set_text(nbb_formatted_code);\n",
       "                        }\n",
       "                        break;\n",
       "                    }\n",
       "                }\n",
       "            }, 500);\n",
       "            "
      ],
      "text/plain": [
       "<IPython.core.display.Javascript object>"
      ]
     },
     "metadata": {},
     "output_type": "display_data"
    }
   ],
   "source": [
    "# Define grid\n",
    "grid_points = 5\n",
    "water_prob_vals = np.linspace(0, 1, grid_points)\n",
    "print(water_prob_vals)"
   ]
  },
  {
   "cell_type": "markdown",
   "id": "republican-learning",
   "metadata": {},
   "source": [
    "Then define the probabilities at each water probability value. When we say that it is a flat prior, that means all values are equally likely. In other words, *before looking at data*, what would we guess it could be? A flat prior means all water probability values are possible. Since the probabilities must sum to 1, it is straightforward to know what the height of each bar should be in the probability mass function."
   ]
  },
  {
   "cell_type": "code",
   "execution_count": 169,
   "id": "refined-liberty",
   "metadata": {
    "ExecuteTime": {
     "end_time": "2021-02-10T02:15:56.863610Z",
     "start_time": "2021-02-10T02:15:56.858076Z"
    }
   },
   "outputs": [
    {
     "name": "stdout",
     "output_type": "stream",
     "text": [
      "[0.2 0.2 0.2 0.2 0.2]\n"
     ]
    },
    {
     "data": {
      "application/javascript": [
       "\n",
       "            setTimeout(function() {\n",
       "                var nbb_cell_id = 169;\n",
       "                var nbb_unformatted_code = \"# Define prior\\nprior_vals = np.repeat(1 / grid_points, grid_points)\\nprint(prior_vals)\";\n",
       "                var nbb_formatted_code = \"# Define prior\\nprior_vals = np.repeat(1 / grid_points, grid_points)\\nprint(prior_vals)\";\n",
       "                var nbb_cells = Jupyter.notebook.get_cells();\n",
       "                for (var i = 0; i < nbb_cells.length; ++i) {\n",
       "                    if (nbb_cells[i].input_prompt_number == nbb_cell_id) {\n",
       "                        if (nbb_cells[i].get_text() == nbb_unformatted_code) {\n",
       "                             nbb_cells[i].set_text(nbb_formatted_code);\n",
       "                        }\n",
       "                        break;\n",
       "                    }\n",
       "                }\n",
       "            }, 500);\n",
       "            "
      ],
      "text/plain": [
       "<IPython.core.display.Javascript object>"
      ]
     },
     "metadata": {},
     "output_type": "display_data"
    }
   ],
   "source": [
    "# Define prior\n",
    "prior_vals = np.repeat(1 / grid_points, grid_points)\n",
    "print(prior_vals)"
   ]
  },
  {
   "cell_type": "markdown",
   "id": "encouraging-material",
   "metadata": {},
   "source": [
    "The globe tosses that resulted in 8 water in 15 tosses is a binomial distribution (likelihood). We can calculate the posterior values at each water probability value."
   ]
  },
  {
   "cell_type": "code",
   "execution_count": 170,
   "id": "swiss-refund",
   "metadata": {
    "ExecuteTime": {
     "end_time": "2021-02-10T02:16:03.330831Z",
     "start_time": "2021-02-10T02:16:03.324583Z"
    }
   },
   "outputs": [
    {
     "name": "stdout",
     "output_type": "stream",
     "text": [
      "Expected mean using only the likelihood distribution: 0.5333\n"
     ]
    },
    {
     "data": {
      "application/javascript": [
       "\n",
       "            setTimeout(function() {\n",
       "                var nbb_cell_id = 170;\n",
       "                var nbb_unformatted_code = \"mu = 8 / 15\\nprint(\\\"Expected mean using only the likelihood distribution: {0:0.4f}\\\".format(mu))\";\n",
       "                var nbb_formatted_code = \"mu = 8 / 15\\nprint(\\\"Expected mean using only the likelihood distribution: {0:0.4f}\\\".format(mu))\";\n",
       "                var nbb_cells = Jupyter.notebook.get_cells();\n",
       "                for (var i = 0; i < nbb_cells.length; ++i) {\n",
       "                    if (nbb_cells[i].input_prompt_number == nbb_cell_id) {\n",
       "                        if (nbb_cells[i].get_text() == nbb_unformatted_code) {\n",
       "                             nbb_cells[i].set_text(nbb_formatted_code);\n",
       "                        }\n",
       "                        break;\n",
       "                    }\n",
       "                }\n",
       "            }, 500);\n",
       "            "
      ],
      "text/plain": [
       "<IPython.core.display.Javascript object>"
      ]
     },
     "metadata": {},
     "output_type": "display_data"
    }
   ],
   "source": [
    "mu = 8 / 15\n",
    "print(\"Expected mean using only the likelihood distribution: {0:0.4f}\".format(mu))"
   ]
  },
  {
   "cell_type": "markdown",
   "id": "nuclear-riverside",
   "metadata": {},
   "source": [
    "Compute likelihood at each value in the grid."
   ]
  },
  {
   "cell_type": "code",
   "execution_count": 171,
   "id": "cosmetic-density",
   "metadata": {
    "ExecuteTime": {
     "end_time": "2021-02-10T02:16:10.523386Z",
     "start_time": "2021-02-10T02:16:10.515973Z"
    }
   },
   "outputs": [
    {
     "name": "stdout",
     "output_type": "stream",
     "text": [
      "[0.         0.01310682 0.19638062 0.03932047 0.        ]\n"
     ]
    },
    {
     "data": {
      "application/javascript": [
       "\n",
       "            setTimeout(function() {\n",
       "                var nbb_cell_id = 171;\n",
       "                var nbb_unformatted_code = \"likelihood = stats.binom.pmf(8, 15, water_prob_vals)\\nprint(likelihood)\";\n",
       "                var nbb_formatted_code = \"likelihood = stats.binom.pmf(8, 15, water_prob_vals)\\nprint(likelihood)\";\n",
       "                var nbb_cells = Jupyter.notebook.get_cells();\n",
       "                for (var i = 0; i < nbb_cells.length; ++i) {\n",
       "                    if (nbb_cells[i].input_prompt_number == nbb_cell_id) {\n",
       "                        if (nbb_cells[i].get_text() == nbb_unformatted_code) {\n",
       "                             nbb_cells[i].set_text(nbb_formatted_code);\n",
       "                        }\n",
       "                        break;\n",
       "                    }\n",
       "                }\n",
       "            }, 500);\n",
       "            "
      ],
      "text/plain": [
       "<IPython.core.display.Javascript object>"
      ]
     },
     "metadata": {},
     "output_type": "display_data"
    }
   ],
   "source": [
    "likelihood = stats.binom.pmf(8, 15, water_prob_vals)\n",
    "print(likelihood)"
   ]
  },
  {
   "cell_type": "markdown",
   "id": "sensitive-devil",
   "metadata": {},
   "source": [
    "Compute product of likelihood and prior."
   ]
  },
  {
   "cell_type": "code",
   "execution_count": 172,
   "id": "violent-greenhouse",
   "metadata": {
    "ExecuteTime": {
     "end_time": "2021-02-10T02:16:12.492313Z",
     "start_time": "2021-02-10T02:16:12.486880Z"
    }
   },
   "outputs": [
    {
     "name": "stdout",
     "output_type": "stream",
     "text": [
      "[0.         0.00262136 0.03927612 0.00786409 0.        ]\n"
     ]
    },
    {
     "data": {
      "application/javascript": [
       "\n",
       "            setTimeout(function() {\n",
       "                var nbb_cell_id = 172;\n",
       "                var nbb_unformatted_code = \"unstd_posterior = likelihood * prior_vals\\nprint(unstd_posterior)\";\n",
       "                var nbb_formatted_code = \"unstd_posterior = likelihood * prior_vals\\nprint(unstd_posterior)\";\n",
       "                var nbb_cells = Jupyter.notebook.get_cells();\n",
       "                for (var i = 0; i < nbb_cells.length; ++i) {\n",
       "                    if (nbb_cells[i].input_prompt_number == nbb_cell_id) {\n",
       "                        if (nbb_cells[i].get_text() == nbb_unformatted_code) {\n",
       "                             nbb_cells[i].set_text(nbb_formatted_code);\n",
       "                        }\n",
       "                        break;\n",
       "                    }\n",
       "                }\n",
       "            }, 500);\n",
       "            "
      ],
      "text/plain": [
       "<IPython.core.display.Javascript object>"
      ]
     },
     "metadata": {},
     "output_type": "display_data"
    }
   ],
   "source": [
    "unstd_posterior = likelihood * prior_vals\n",
    "print(unstd_posterior)"
   ]
  },
  {
   "cell_type": "markdown",
   "id": "twenty-section",
   "metadata": {},
   "source": [
    "Standardize the posterior, so it sums to 1."
   ]
  },
  {
   "cell_type": "code",
   "execution_count": 173,
   "id": "vulnerable-flesh",
   "metadata": {
    "ExecuteTime": {
     "end_time": "2021-02-10T02:16:15.379598Z",
     "start_time": "2021-02-10T02:16:15.374050Z"
    }
   },
   "outputs": [
    {
     "data": {
      "application/javascript": [
       "\n",
       "            setTimeout(function() {\n",
       "                var nbb_cell_id = 173;\n",
       "                var nbb_unformatted_code = \"std_posterior = unstd_posterior / np.sum(unstd_posterior)\";\n",
       "                var nbb_formatted_code = \"std_posterior = unstd_posterior / np.sum(unstd_posterior)\";\n",
       "                var nbb_cells = Jupyter.notebook.get_cells();\n",
       "                for (var i = 0; i < nbb_cells.length; ++i) {\n",
       "                    if (nbb_cells[i].input_prompt_number == nbb_cell_id) {\n",
       "                        if (nbb_cells[i].get_text() == nbb_unformatted_code) {\n",
       "                             nbb_cells[i].set_text(nbb_formatted_code);\n",
       "                        }\n",
       "                        break;\n",
       "                    }\n",
       "                }\n",
       "            }, 500);\n",
       "            "
      ],
      "text/plain": [
       "<IPython.core.display.Javascript object>"
      ]
     },
     "metadata": {},
     "output_type": "display_data"
    }
   ],
   "source": [
    "std_posterior = unstd_posterior / np.sum(unstd_posterior)"
   ]
  },
  {
   "cell_type": "code",
   "execution_count": 174,
   "id": "sudden-essay",
   "metadata": {
    "ExecuteTime": {
     "end_time": "2021-02-10T02:16:15.915630Z",
     "start_time": "2021-02-10T02:16:15.903197Z"
    }
   },
   "outputs": [
    {
     "data": {
      "text/html": [
       "<div>\n",
       "<style scoped>\n",
       "    .dataframe tbody tr th:only-of-type {\n",
       "        vertical-align: middle;\n",
       "    }\n",
       "\n",
       "    .dataframe tbody tr th {\n",
       "        vertical-align: top;\n",
       "    }\n",
       "\n",
       "    .dataframe thead th {\n",
       "        text-align: right;\n",
       "    }\n",
       "</style>\n",
       "<table border=\"1\" class=\"dataframe\">\n",
       "  <thead>\n",
       "    <tr style=\"text-align: right;\">\n",
       "      <th></th>\n",
       "      <th>water_prob_vals</th>\n",
       "      <th>prior_vals</th>\n",
       "      <th>likelihood</th>\n",
       "      <th>unstd_posterior</th>\n",
       "      <th>std_posterior</th>\n",
       "    </tr>\n",
       "  </thead>\n",
       "  <tbody>\n",
       "    <tr>\n",
       "      <th>0</th>\n",
       "      <td>0.00</td>\n",
       "      <td>0.2</td>\n",
       "      <td>0.000000</td>\n",
       "      <td>0.000000</td>\n",
       "      <td>0.000000</td>\n",
       "    </tr>\n",
       "    <tr>\n",
       "      <th>1</th>\n",
       "      <td>0.25</td>\n",
       "      <td>0.2</td>\n",
       "      <td>0.013107</td>\n",
       "      <td>0.002621</td>\n",
       "      <td>0.052678</td>\n",
       "    </tr>\n",
       "    <tr>\n",
       "      <th>2</th>\n",
       "      <td>0.50</td>\n",
       "      <td>0.2</td>\n",
       "      <td>0.196381</td>\n",
       "      <td>0.039276</td>\n",
       "      <td>0.789286</td>\n",
       "    </tr>\n",
       "    <tr>\n",
       "      <th>3</th>\n",
       "      <td>0.75</td>\n",
       "      <td>0.2</td>\n",
       "      <td>0.039320</td>\n",
       "      <td>0.007864</td>\n",
       "      <td>0.158035</td>\n",
       "    </tr>\n",
       "    <tr>\n",
       "      <th>4</th>\n",
       "      <td>1.00</td>\n",
       "      <td>0.2</td>\n",
       "      <td>0.000000</td>\n",
       "      <td>0.000000</td>\n",
       "      <td>0.000000</td>\n",
       "    </tr>\n",
       "  </tbody>\n",
       "</table>\n",
       "</div>"
      ],
      "text/plain": [
       "   water_prob_vals  prior_vals  likelihood  unstd_posterior  std_posterior\n",
       "0             0.00         0.2    0.000000         0.000000       0.000000\n",
       "1             0.25         0.2    0.013107         0.002621       0.052678\n",
       "2             0.50         0.2    0.196381         0.039276       0.789286\n",
       "3             0.75         0.2    0.039320         0.007864       0.158035\n",
       "4             1.00         0.2    0.000000         0.000000       0.000000"
      ]
     },
     "execution_count": 174,
     "metadata": {},
     "output_type": "execute_result"
    },
    {
     "data": {
      "application/javascript": [
       "\n",
       "            setTimeout(function() {\n",
       "                var nbb_cell_id = 174;\n",
       "                var nbb_unformatted_code = \"df = pd.DataFrame(\\n    {\\n        \\\"water_prob_vals\\\": water_prob_vals,\\n        \\\"prior_vals\\\": prior_vals,\\n        \\\"likelihood\\\": likelihood,\\n        \\\"unstd_posterior\\\": unstd_posterior,\\n        \\\"std_posterior\\\": std_posterior,\\n    }\\n)\\n\\ndf\";\n",
       "                var nbb_formatted_code = \"df = pd.DataFrame(\\n    {\\n        \\\"water_prob_vals\\\": water_prob_vals,\\n        \\\"prior_vals\\\": prior_vals,\\n        \\\"likelihood\\\": likelihood,\\n        \\\"unstd_posterior\\\": unstd_posterior,\\n        \\\"std_posterior\\\": std_posterior,\\n    }\\n)\\n\\ndf\";\n",
       "                var nbb_cells = Jupyter.notebook.get_cells();\n",
       "                for (var i = 0; i < nbb_cells.length; ++i) {\n",
       "                    if (nbb_cells[i].input_prompt_number == nbb_cell_id) {\n",
       "                        if (nbb_cells[i].get_text() == nbb_unformatted_code) {\n",
       "                             nbb_cells[i].set_text(nbb_formatted_code);\n",
       "                        }\n",
       "                        break;\n",
       "                    }\n",
       "                }\n",
       "            }, 500);\n",
       "            "
      ],
      "text/plain": [
       "<IPython.core.display.Javascript object>"
      ]
     },
     "metadata": {},
     "output_type": "display_data"
    }
   ],
   "source": [
    "df = pd.DataFrame(\n",
    "    {\n",
    "        \"water_prob_vals\": water_prob_vals,\n",
    "        \"prior_vals\": prior_vals,\n",
    "        \"likelihood\": likelihood,\n",
    "        \"unstd_posterior\": unstd_posterior,\n",
    "        \"std_posterior\": std_posterior,\n",
    "    }\n",
    ")\n",
    "\n",
    "df"
   ]
  },
  {
   "cell_type": "code",
   "execution_count": 176,
   "id": "statewide-holocaust",
   "metadata": {
    "ExecuteTime": {
     "end_time": "2021-02-10T02:16:43.142921Z",
     "start_time": "2021-02-10T02:16:42.843681Z"
    }
   },
   "outputs": [
    {
     "data": {
      "text/plain": [
       "<matplotlib.legend.Legend at 0x14b81fdf0>"
      ]
     },
     "execution_count": 176,
     "metadata": {},
     "output_type": "execute_result"
    },
    {
     "data": {
      "image/png": "[encoded data removed]",
      "text/plain": [
       "<Figure size 600x400 with 1 Axes>"
      ]
     },
     "metadata": {
      "image/png": {
       "height": 411,
       "width": 611
      }
     },
     "output_type": "display_data"
    },
    {
     "data": {
      "application/javascript": [
       "\n",
       "            setTimeout(function() {\n",
       "                var nbb_cell_id = 176;\n",
       "                var nbb_unformatted_code = \"f, ax1 = plt.subplots(figsize=(6, 4))\\n\\nax1.bar(\\n    data=df,\\n    x=water_prob_vals,\\n    height=prior_vals,\\n    width=0.1,\\n    color=\\\"gray\\\",\\n    alpha=0.5,\\n    label=\\\"prior\\\",\\n    align=\\\"center\\\",\\n)\\n\\nax1.bar(\\n    data=df,\\n    x=water_prob_vals,\\n    height=std_posterior,\\n    width=0.1,\\n    color=\\\"red\\\",\\n    alpha=0.5,\\n    label=\\\"posterior\\\",\\n    align=\\\"edge\\\",\\n)\\n\\nax1.set_ylabel(\\\"probability\\\")\\nax1.set_xlabel(\\\"percentage of water\\\")\\nax1.set_ylim([None, 1])\\nax1.legend()\";\n",
       "                var nbb_formatted_code = \"f, ax1 = plt.subplots(figsize=(6, 4))\\n\\nax1.bar(\\n    data=df,\\n    x=water_prob_vals,\\n    height=prior_vals,\\n    width=0.1,\\n    color=\\\"gray\\\",\\n    alpha=0.5,\\n    label=\\\"prior\\\",\\n    align=\\\"center\\\",\\n)\\n\\nax1.bar(\\n    data=df,\\n    x=water_prob_vals,\\n    height=std_posterior,\\n    width=0.1,\\n    color=\\\"red\\\",\\n    alpha=0.5,\\n    label=\\\"posterior\\\",\\n    align=\\\"edge\\\",\\n)\\n\\nax1.set_ylabel(\\\"probability\\\")\\nax1.set_xlabel(\\\"percentage of water\\\")\\nax1.set_ylim([None, 1])\\nax1.legend()\";\n",
       "                var nbb_cells = Jupyter.notebook.get_cells();\n",
       "                for (var i = 0; i < nbb_cells.length; ++i) {\n",
       "                    if (nbb_cells[i].input_prompt_number == nbb_cell_id) {\n",
       "                        if (nbb_cells[i].get_text() == nbb_unformatted_code) {\n",
       "                             nbb_cells[i].set_text(nbb_formatted_code);\n",
       "                        }\n",
       "                        break;\n",
       "                    }\n",
       "                }\n",
       "            }, 500);\n",
       "            "
      ],
      "text/plain": [
       "<IPython.core.display.Javascript object>"
      ]
     },
     "metadata": {},
     "output_type": "display_data"
    }
   ],
   "source": [
    "f, ax1 = plt.subplots(figsize=(6, 4))\n",
    "\n",
    "ax1.bar(\n",
    "    data=df,\n",
    "    x=water_prob_vals,\n",
    "    height=prior_vals,\n",
    "    width=0.1,\n",
    "    color=\"gray\",\n",
    "    alpha=0.5,\n",
    "    label=\"prior\",\n",
    "    align=\"center\",\n",
    ")\n",
    "\n",
    "ax1.bar(\n",
    "    data=df,\n",
    "    x=water_prob_vals,\n",
    "    height=std_posterior,\n",
    "    width=0.1,\n",
    "    color=\"red\",\n",
    "    alpha=0.5,\n",
    "    label=\"posterior\",\n",
    "    align=\"edge\",\n",
    ")\n",
    "\n",
    "ax1.set_ylabel(\"probability\")\n",
    "ax1.set_xlabel(\"percentage of water\")\n",
    "ax1.set_ylim([None, 1])\n",
    "ax1.legend()"
   ]
  },
  {
   "cell_type": "markdown",
   "id": "modified-evolution",
   "metadata": {},
   "source": [
    "## Question 2\n",
    "\n",
    "Start over in 1, but now use a prior that is zero below p = 0.5 and a constant above p = 0.5. This corresponds to prior information that a majority of the Earth’s surface is water. What difference does the better prior make?"
   ]
  },
  {
   "cell_type": "markdown",
   "id": "continent-reporter",
   "metadata": {},
   "source": [
    "**Larger number of points in the grid.**"
   ]
  },
  {
   "cell_type": "code",
   "execution_count": 177,
   "id": "loose-virtue",
   "metadata": {
    "ExecuteTime": {
     "end_time": "2021-02-10T02:17:31.603078Z",
     "start_time": "2021-02-10T02:17:31.588653Z"
    }
   },
   "outputs": [
    {
     "data": {
      "application/javascript": [
       "\n",
       "            setTimeout(function() {\n",
       "                var nbb_cell_id = 177;\n",
       "                var nbb_unformatted_code = \"def create_df_bayes(gp):\\n    \\\"\\\"\\\"\\n    Use above code and specify the number of gridpoints.\\n    \\\"\\\"\\\"\\n\\n    wat_prob_vals = np.linspace(0, 1, gp)\\n    prior_vals = np.where(wat_prob_vals < 0.5, 0, 1)  # specific to this question\\n    likelihood_vals = stats.binom.pmf(8, 15, wat_prob_vals)\\n    unstd_posterior_vals = likelihood_vals * prior_vals\\n    std_posterior_vals = unstd_posterior_vals / np.sum(unstd_posterior_vals)\\n    df_bayes = pd.DataFrame(\\n        {\\n            \\\"wat_prob_vals\\\": wat_prob_vals,\\n            \\\"prior_vals\\\": prior_vals,\\n            \\\"likelihood_vals\\\": likelihood_vals,\\n            \\\"unstd_posterior_vals\\\": unstd_posterior_vals,\\n            \\\"std_posterior_vals\\\": std_posterior_vals,\\n        }\\n    )\\n\\n    return df_bayes\";\n",
       "                var nbb_formatted_code = \"def create_df_bayes(gp):\\n    \\\"\\\"\\\"\\n    Use above code and specify the number of gridpoints.\\n    \\\"\\\"\\\"\\n\\n    wat_prob_vals = np.linspace(0, 1, gp)\\n    prior_vals = np.where(wat_prob_vals < 0.5, 0, 1)  # specific to this question\\n    likelihood_vals = stats.binom.pmf(8, 15, wat_prob_vals)\\n    unstd_posterior_vals = likelihood_vals * prior_vals\\n    std_posterior_vals = unstd_posterior_vals / np.sum(unstd_posterior_vals)\\n    df_bayes = pd.DataFrame(\\n        {\\n            \\\"wat_prob_vals\\\": wat_prob_vals,\\n            \\\"prior_vals\\\": prior_vals,\\n            \\\"likelihood_vals\\\": likelihood_vals,\\n            \\\"unstd_posterior_vals\\\": unstd_posterior_vals,\\n            \\\"std_posterior_vals\\\": std_posterior_vals,\\n        }\\n    )\\n\\n    return df_bayes\";\n",
       "                var nbb_cells = Jupyter.notebook.get_cells();\n",
       "                for (var i = 0; i < nbb_cells.length; ++i) {\n",
       "                    if (nbb_cells[i].input_prompt_number == nbb_cell_id) {\n",
       "                        if (nbb_cells[i].get_text() == nbb_unformatted_code) {\n",
       "                             nbb_cells[i].set_text(nbb_formatted_code);\n",
       "                        }\n",
       "                        break;\n",
       "                    }\n",
       "                }\n",
       "            }, 500);\n",
       "            "
      ],
      "text/plain": [
       "<IPython.core.display.Javascript object>"
      ]
     },
     "metadata": {},
     "output_type": "display_data"
    }
   ],
   "source": [
    "def create_df_bayes(gp):\n",
    "    \"\"\"\n",
    "    Use above code and specify the number of gridpoints.\n",
    "    \"\"\"\n",
    "\n",
    "    wat_prob_vals = np.linspace(0, 1, gp)\n",
    "    prior_vals = np.where(wat_prob_vals < 0.5, 0, 1)  # specific to this question\n",
    "    likelihood_vals = stats.binom.pmf(8, 15, wat_prob_vals)\n",
    "    unstd_posterior_vals = likelihood_vals * prior_vals\n",
    "    std_posterior_vals = unstd_posterior_vals / np.sum(unstd_posterior_vals)\n",
    "    df_bayes = pd.DataFrame(\n",
    "        {\n",
    "            \"wat_prob_vals\": wat_prob_vals,\n",
    "            \"prior_vals\": prior_vals,\n",
    "            \"likelihood_vals\": likelihood_vals,\n",
    "            \"unstd_posterior_vals\": unstd_posterior_vals,\n",
    "            \"std_posterior_vals\": std_posterior_vals,\n",
    "        }\n",
    "    )\n",
    "\n",
    "    return df_bayes"
   ]
  },
  {
   "cell_type": "code",
   "execution_count": 178,
   "id": "alleged-mitchell",
   "metadata": {
    "ExecuteTime": {
     "end_time": "2021-02-10T02:17:32.250831Z",
     "start_time": "2021-02-10T02:17:32.234297Z"
    }
   },
   "outputs": [
    {
     "data": {
      "text/html": [
       "<div>\n",
       "<style scoped>\n",
       "    .dataframe tbody tr th:only-of-type {\n",
       "        vertical-align: middle;\n",
       "    }\n",
       "\n",
       "    .dataframe tbody tr th {\n",
       "        vertical-align: top;\n",
       "    }\n",
       "\n",
       "    .dataframe thead th {\n",
       "        text-align: right;\n",
       "    }\n",
       "</style>\n",
       "<table border=\"1\" class=\"dataframe\">\n",
       "  <thead>\n",
       "    <tr style=\"text-align: right;\">\n",
       "      <th></th>\n",
       "      <th>wat_prob_vals</th>\n",
       "      <th>prior_vals</th>\n",
       "      <th>likelihood_vals</th>\n",
       "      <th>unstd_posterior_vals</th>\n",
       "      <th>std_posterior_vals</th>\n",
       "    </tr>\n",
       "  </thead>\n",
       "  <tbody>\n",
       "    <tr>\n",
       "      <th>0</th>\n",
       "      <td>0.000000</td>\n",
       "      <td>0</td>\n",
       "      <td>0.000000e+00</td>\n",
       "      <td>0.000000e+00</td>\n",
       "      <td>0.000000e+00</td>\n",
       "    </tr>\n",
       "    <tr>\n",
       "      <th>1</th>\n",
       "      <td>0.010101</td>\n",
       "      <td>0</td>\n",
       "      <td>6.495359e-13</td>\n",
       "      <td>0.000000e+00</td>\n",
       "      <td>0.000000e+00</td>\n",
       "    </tr>\n",
       "    <tr>\n",
       "      <th>2</th>\n",
       "      <td>0.020202</td>\n",
       "      <td>0</td>\n",
       "      <td>1.547614e-10</td>\n",
       "      <td>0.000000e+00</td>\n",
       "      <td>0.000000e+00</td>\n",
       "    </tr>\n",
       "    <tr>\n",
       "      <th>3</th>\n",
       "      <td>0.030303</td>\n",
       "      <td>0</td>\n",
       "      <td>3.688836e-09</td>\n",
       "      <td>0.000000e+00</td>\n",
       "      <td>0.000000e+00</td>\n",
       "    </tr>\n",
       "    <tr>\n",
       "      <th>4</th>\n",
       "      <td>0.040404</td>\n",
       "      <td>0</td>\n",
       "      <td>3.424253e-08</td>\n",
       "      <td>0.000000e+00</td>\n",
       "      <td>0.000000e+00</td>\n",
       "    </tr>\n",
       "    <tr>\n",
       "      <th>...</th>\n",
       "      <td>...</td>\n",
       "      <td>...</td>\n",
       "      <td>...</td>\n",
       "      <td>...</td>\n",
       "      <td>...</td>\n",
       "    </tr>\n",
       "    <tr>\n",
       "      <th>95</th>\n",
       "      <td>0.959596</td>\n",
       "      <td>1</td>\n",
       "      <td>8.132600e-07</td>\n",
       "      <td>8.132600e-07</td>\n",
       "      <td>2.197128e-07</td>\n",
       "    </tr>\n",
       "    <tr>\n",
       "      <th>96</th>\n",
       "      <td>0.969697</td>\n",
       "      <td>1</td>\n",
       "      <td>1.180427e-07</td>\n",
       "      <td>1.180427e-07</td>\n",
       "      <td>3.189079e-08</td>\n",
       "    </tr>\n",
       "    <tr>\n",
       "      <th>97</th>\n",
       "      <td>0.979798</td>\n",
       "      <td>1</td>\n",
       "      <td>7.505929e-09</td>\n",
       "      <td>7.505929e-09</td>\n",
       "      <td>2.027825e-09</td>\n",
       "    </tr>\n",
       "    <tr>\n",
       "      <th>98</th>\n",
       "      <td>0.989899</td>\n",
       "      <td>1</td>\n",
       "      <td>6.365452e-11</td>\n",
       "      <td>6.365452e-11</td>\n",
       "      <td>1.719710e-11</td>\n",
       "    </tr>\n",
       "    <tr>\n",
       "      <th>99</th>\n",
       "      <td>1.000000</td>\n",
       "      <td>1</td>\n",
       "      <td>0.000000e+00</td>\n",
       "      <td>0.000000e+00</td>\n",
       "      <td>0.000000e+00</td>\n",
       "    </tr>\n",
       "  </tbody>\n",
       "</table>\n",
       "<p>100 rows × 5 columns</p>\n",
       "</div>"
      ],
      "text/plain": [
       "    wat_prob_vals  prior_vals  likelihood_vals  unstd_posterior_vals  \\\n",
       "0        0.000000           0     0.000000e+00          0.000000e+00   \n",
       "1        0.010101           0     6.495359e-13          0.000000e+00   \n",
       "2        0.020202           0     1.547614e-10          0.000000e+00   \n",
       "3        0.030303           0     3.688836e-09          0.000000e+00   \n",
       "4        0.040404           0     3.424253e-08          0.000000e+00   \n",
       "..            ...         ...              ...                   ...   \n",
       "95       0.959596           1     8.132600e-07          8.132600e-07   \n",
       "96       0.969697           1     1.180427e-07          1.180427e-07   \n",
       "97       0.979798           1     7.505929e-09          7.505929e-09   \n",
       "98       0.989899           1     6.365452e-11          6.365452e-11   \n",
       "99       1.000000           1     0.000000e+00          0.000000e+00   \n",
       "\n",
       "    std_posterior_vals  \n",
       "0         0.000000e+00  \n",
       "1         0.000000e+00  \n",
       "2         0.000000e+00  \n",
       "3         0.000000e+00  \n",
       "4         0.000000e+00  \n",
       "..                 ...  \n",
       "95        2.197128e-07  \n",
       "96        3.189079e-08  \n",
       "97        2.027825e-09  \n",
       "98        1.719710e-11  \n",
       "99        0.000000e+00  \n",
       "\n",
       "[100 rows x 5 columns]"
      ]
     },
     "execution_count": 178,
     "metadata": {},
     "output_type": "execute_result"
    },
    {
     "data": {
      "application/javascript": [
       "\n",
       "            setTimeout(function() {\n",
       "                var nbb_cell_id = 178;\n",
       "                var nbb_unformatted_code = \"df2 = create_df_bayes(100)\\ndf2\";\n",
       "                var nbb_formatted_code = \"df2 = create_df_bayes(100)\\ndf2\";\n",
       "                var nbb_cells = Jupyter.notebook.get_cells();\n",
       "                for (var i = 0; i < nbb_cells.length; ++i) {\n",
       "                    if (nbb_cells[i].input_prompt_number == nbb_cell_id) {\n",
       "                        if (nbb_cells[i].get_text() == nbb_unformatted_code) {\n",
       "                             nbb_cells[i].set_text(nbb_formatted_code);\n",
       "                        }\n",
       "                        break;\n",
       "                    }\n",
       "                }\n",
       "            }, 500);\n",
       "            "
      ],
      "text/plain": [
       "<IPython.core.display.Javascript object>"
      ]
     },
     "metadata": {},
     "output_type": "display_data"
    }
   ],
   "source": [
    "df2 = create_df_bayes(100)\n",
    "df2"
   ]
  },
  {
   "cell_type": "code",
   "execution_count": 179,
   "id": "mounted-logan",
   "metadata": {
    "ExecuteTime": {
     "end_time": "2021-02-10T02:17:35.526248Z",
     "start_time": "2021-02-10T02:17:35.245366Z"
    }
   },
   "outputs": [
    {
     "data": {
      "text/plain": [
       "<AxesSubplot:xlabel='wat_prob_vals', ylabel='std_posterior_vals'>"
      ]
     },
     "execution_count": 179,
     "metadata": {},
     "output_type": "execute_result"
    },
    {
     "data": {
      "image/png": "[encoded data removed]",
      "text/plain": [
       "<Figure size 600x400 with 1 Axes>"
      ]
     },
     "metadata": {
      "image/png": {
       "height": 411,
       "width": 611
      }
     },
     "output_type": "display_data"
    },
    {
     "data": {
      "application/javascript": [
       "\n",
       "            setTimeout(function() {\n",
       "                var nbb_cell_id = 179;\n",
       "                var nbb_unformatted_code = \"f, ax1 = plt.subplots(figsize=(6, 4))\\nsns.scatterplot(data=df2, x=\\\"wat_prob_vals\\\", y=\\\"std_posterior_vals\\\", ax=ax1)\\nsns.lineplot(data=df2, x=\\\"wat_prob_vals\\\", y=\\\"std_posterior_vals\\\", ax=ax1)\";\n",
       "                var nbb_formatted_code = \"f, ax1 = plt.subplots(figsize=(6, 4))\\nsns.scatterplot(data=df2, x=\\\"wat_prob_vals\\\", y=\\\"std_posterior_vals\\\", ax=ax1)\\nsns.lineplot(data=df2, x=\\\"wat_prob_vals\\\", y=\\\"std_posterior_vals\\\", ax=ax1)\";\n",
       "                var nbb_cells = Jupyter.notebook.get_cells();\n",
       "                for (var i = 0; i < nbb_cells.length; ++i) {\n",
       "                    if (nbb_cells[i].input_prompt_number == nbb_cell_id) {\n",
       "                        if (nbb_cells[i].get_text() == nbb_unformatted_code) {\n",
       "                             nbb_cells[i].set_text(nbb_formatted_code);\n",
       "                        }\n",
       "                        break;\n",
       "                    }\n",
       "                }\n",
       "            }, 500);\n",
       "            "
      ],
      "text/plain": [
       "<IPython.core.display.Javascript object>"
      ]
     },
     "metadata": {},
     "output_type": "display_data"
    }
   ],
   "source": [
    "f, ax1 = plt.subplots(figsize=(6, 4))\n",
    "sns.scatterplot(data=df2, x=\"wat_prob_vals\", y=\"std_posterior_vals\", ax=ax1)\n",
    "sns.lineplot(data=df2, x=\"wat_prob_vals\", y=\"std_posterior_vals\", ax=ax1)"
   ]
  },
  {
   "cell_type": "markdown",
   "id": "urban-paper",
   "metadata": {},
   "source": [
    "The new prior specifies clearly what values shouldn't really be considered at all, even before looking at data."
   ]
  },
  {
   "cell_type": "markdown",
   "id": "natural-america",
   "metadata": {},
   "source": [
    "## Question 3\n",
    "\n",
    "For the posterior distribution from 2, compute 89% percentile and HPDI intervals. Compare the widths of these intervals. Which is wider? Why? If you had only the information in the interval, what might you misunderstand about the shape of the posterior distribution?"
   ]
  },
  {
   "cell_type": "markdown",
   "id": "apart-stack",
   "metadata": {},
   "source": [
    "This makes use of the `pymc3` function for quadratic approximation that is available in the R `rethinking` package (`quap`).\n",
    "\n",
    "This is about sampling randomly from the posterior to visualize uncertainty, computing confidence intervals, and simulating observations. MCMC produces only samples, so good to get used to this now. **Above all, it's easier to think with samples** and transforms a hard calculus problem into an easy data summary problem."
   ]
  },
  {
   "cell_type": "markdown",
   "id": "occasional-string",
   "metadata": {},
   "source": [
    "For using `pymc3`, an explanation is shown [here](https://docs.pymc.io/notebooks/getting_started.html)."
   ]
  },
  {
   "cell_type": "markdown",
   "id": "after-singapore",
   "metadata": {
    "ExecuteTime": {
     "end_time": "2021-02-09T22:27:25.336182Z",
     "start_time": "2021-02-09T22:27:24.138958Z"
    }
   },
   "source": [
    "### Run R code to help compare\n",
    "\n",
    "Taken from [here](https://github.com/rmcelreath/statrethinking_winter2019/blob/master/homework/week01_solutions.pdf)."
   ]
  },
  {
   "cell_type": "code",
   "execution_count": 152,
   "id": "perfect-globe",
   "metadata": {
    "ExecuteTime": {
     "end_time": "2021-02-09T22:29:42.224329Z",
     "start_time": "2021-02-09T22:29:42.219693Z"
    }
   },
   "outputs": [
    {
     "name": "stdout",
     "output_type": "stream",
     "text": [
      "The rpy2.ipython extension is already loaded. To reload it, use:\n",
      "  %reload_ext rpy2.ipython\n"
     ]
    },
    {
     "data": {
      "application/javascript": [
       "\n",
       "            setTimeout(function() {\n",
       "                var nbb_cell_id = 152;\n",
       "                var nbb_unformatted_code = \"%load_ext rpy2.ipython\";\n",
       "                var nbb_formatted_code = \"%load_ext rpy2.ipython\";\n",
       "                var nbb_cells = Jupyter.notebook.get_cells();\n",
       "                for (var i = 0; i < nbb_cells.length; ++i) {\n",
       "                    if (nbb_cells[i].input_prompt_number == nbb_cell_id) {\n",
       "                        if (nbb_cells[i].get_text() == nbb_unformatted_code) {\n",
       "                             nbb_cells[i].set_text(nbb_formatted_code);\n",
       "                        }\n",
       "                        break;\n",
       "                    }\n",
       "                }\n",
       "            }, 500);\n",
       "            "
      ],
      "text/plain": [
       "<IPython.core.display.Javascript object>"
      ]
     },
     "metadata": {},
     "output_type": "display_data"
    }
   ],
   "source": [
    "%load_ext rpy2.ipython"
   ]
  },
  {
   "cell_type": "code",
   "execution_count": 156,
   "id": "determined-matthew",
   "metadata": {
    "ExecuteTime": {
     "end_time": "2021-02-10T01:59:57.792827Z",
     "start_time": "2021-02-10T01:59:57.784988Z"
    }
   },
   "outputs": [
    {
     "data": {
      "application/javascript": [
       "\n",
       "            setTimeout(function() {\n",
       "                var nbb_cell_id = 156;\n",
       "                var nbb_unformatted_code = \"%%R\\nsuppressMessages(library(tidyverse))\\nsuppressMessages(library(rethinking))\";\n",
       "                var nbb_formatted_code = \"%%R\\nsuppressMessages(library(tidyverse))\\nsuppressMessages(library(rethinking))\";\n",
       "                var nbb_cells = Jupyter.notebook.get_cells();\n",
       "                for (var i = 0; i < nbb_cells.length; ++i) {\n",
       "                    if (nbb_cells[i].input_prompt_number == nbb_cell_id) {\n",
       "                        if (nbb_cells[i].get_text() == nbb_unformatted_code) {\n",
       "                             nbb_cells[i].set_text(nbb_formatted_code);\n",
       "                        }\n",
       "                        break;\n",
       "                    }\n",
       "                }\n",
       "            }, 500);\n",
       "            "
      ],
      "text/plain": [
       "<IPython.core.display.Javascript object>"
      ]
     },
     "metadata": {},
     "output_type": "display_data"
    }
   ],
   "source": [
    "%%R\n",
    "suppressMessages(library(tidyverse))\n",
    "suppressMessages(library(rethinking))"
   ]
  },
  {
   "cell_type": "code",
   "execution_count": 196,
   "id": "patient-delight",
   "metadata": {
    "ExecuteTime": {
     "end_time": "2021-02-10T02:26:09.984913Z",
     "start_time": "2021-02-10T02:26:09.973636Z"
    }
   },
   "outputs": [
    {
     "name": "stdout",
     "output_type": "stream",
     "text": [
      "[1] 15\n"
     ]
    },
    {
     "data": {
      "application/javascript": [
       "\n",
       "            setTimeout(function() {\n",
       "                var nbb_cell_id = 196;\n",
       "                var nbb_unformatted_code = \"%%R\\n\\nprint(W)\";\n",
       "                var nbb_formatted_code = \"%%R\\n\\nprint(W)\";\n",
       "                var nbb_cells = Jupyter.notebook.get_cells();\n",
       "                for (var i = 0; i < nbb_cells.length; ++i) {\n",
       "                    if (nbb_cells[i].input_prompt_number == nbb_cell_id) {\n",
       "                        if (nbb_cells[i].get_text() == nbb_unformatted_code) {\n",
       "                             nbb_cells[i].set_text(nbb_formatted_code);\n",
       "                        }\n",
       "                        break;\n",
       "                    }\n",
       "                }\n",
       "            }, 500);\n",
       "            "
      ],
      "text/plain": [
       "<IPython.core.display.Javascript object>"
      ]
     },
     "metadata": {},
     "output_type": "display_data"
    }
   ],
   "source": [
    "%%R\n",
    "\n",
    "print(W)"
   ]
  },
  {
   "cell_type": "code",
   "execution_count": 192,
   "id": "corrected-royal",
   "metadata": {
    "ExecuteTime": {
     "end_time": "2021-02-10T02:23:20.496618Z",
     "start_time": "2021-02-10T02:23:20.483634Z"
    }
   },
   "outputs": [
    {
     "name": "stdout",
     "output_type": "stream",
     "text": [
      "[1] 0.4544595\n"
     ]
    },
    {
     "data": {
      "application/javascript": [
       "\n",
       "            setTimeout(function() {\n",
       "                var nbb_cell_id = 192;\n",
       "                var nbb_unformatted_code = \"%%R\\n\\nset.seed(100)\\nN <- 20\\np_true <- 0.7\\nW <- rbinom(1, size=N, prob=p_true)\\np_grid <- seq(from=0, to=1, length.out=1000)\\nprior <- rep(1, 1000)\\nprob_data <- dbinom(W, size=N, prob=p_grid)\\nposterior <- prob_data * prior\\nposterior <- posterior/sum(posterior)\\nsamples <- sample(p_grid, prob=posterior, size=1e4, replace=TRUE)\\nPI99 <- PI(samples, 0.99)\\nas.numeric(PI99[2] - PI99[1])\";\n",
       "                var nbb_formatted_code = \"%%R\\n\\nset.seed(100)\\nN <- 20\\np_true <- 0.7\\nW <- rbinom(1, size=N, prob=p_true)\\np_grid <- seq(from=0, to=1, length.out=1000)\\nprior <- rep(1, 1000)\\nprob_data <- dbinom(W, size=N, prob=p_grid)\\nposterior <- prob_data * prior\\nposterior <- posterior/sum(posterior)\\nsamples <- sample(p_grid, prob=posterior, size=1e4, replace=TRUE)\\nPI99 <- PI(samples, 0.99)\\nas.numeric(PI99[2] - PI99[1])\";\n",
       "                var nbb_cells = Jupyter.notebook.get_cells();\n",
       "                for (var i = 0; i < nbb_cells.length; ++i) {\n",
       "                    if (nbb_cells[i].input_prompt_number == nbb_cell_id) {\n",
       "                        if (nbb_cells[i].get_text() == nbb_unformatted_code) {\n",
       "                             nbb_cells[i].set_text(nbb_formatted_code);\n",
       "                        }\n",
       "                        break;\n",
       "                    }\n",
       "                }\n",
       "            }, 500);\n",
       "            "
      ],
      "text/plain": [
       "<IPython.core.display.Javascript object>"
      ]
     },
     "metadata": {},
     "output_type": "display_data"
    }
   ],
   "source": [
    "%%R\n",
    "\n",
    "set.seed(100)\n",
    "N <- 20\n",
    "p_true <- 0.7\n",
    "W <- rbinom(1, size=N, prob=p_true)\n",
    "p_grid <- seq(from=0, to=1, length.out=1000)\n",
    "prior <- rep(1, 1000)\n",
    "prob_data <- dbinom(W, size=N, prob=p_grid)\n",
    "posterior <- prob_data * prior\n",
    "posterior <- posterior/sum(posterior)\n",
    "samples <- sample(p_grid, prob=posterior, size=1e4, replace=TRUE)\n",
    "PI99 <- PI(samples, 0.99)\n",
    "as.numeric(PI99[2] - PI99[1])"
   ]
  },
  {
   "cell_type": "markdown",
   "id": "administrative-rwanda",
   "metadata": {},
   "source": [
    "### Python code\n",
    "\n",
    "See [here](https://docs.pymc.io/api/distributions/continuous.html#pymc3.distributions.continuous.Uniform) for syntax when specifying uniform prior."
   ]
  },
  {
   "cell_type": "code",
   "execution_count": 193,
   "id": "neither-british",
   "metadata": {
    "ExecuteTime": {
     "end_time": "2021-02-10T02:25:41.060865Z",
     "start_time": "2021-02-10T02:25:39.597589Z"
    }
   },
   "outputs": [
    {
     "data": {
      "text/html": [
       "\n",
       "    <div>\n",
       "        <style>\n",
       "            /* Turns off some styling */\n",
       "            progress {\n",
       "                /* gets rid of default border in Firefox and Opera. */\n",
       "                border: none;\n",
       "                /* Needs to be in here for Safari polyfill so background images work as expected. */\n",
       "                background-size: auto;\n",
       "            }\n",
       "            .progress-bar-interrupted, .progress-bar-interrupted::-webkit-progress-bar {\n",
       "                background: #F44336;\n",
       "            }\n",
       "        </style>\n",
       "      <progress value='8' class='' max='8' style='width:300px; height:20px; vertical-align: middle;'></progress>\n",
       "      100.00% [8/8 00:00<00:00 logp = -2.3287, ||grad|| = 2.1667]\n",
       "    </div>\n",
       "    "
      ],
      "text/plain": [
       "<IPython.core.display.HTML object>"
      ]
     },
     "metadata": {},
     "output_type": "display_data"
    },
    {
     "name": "stdout",
     "output_type": "stream",
     "text": [
      "\n",
      "  Mean, Standard deviation\n",
      "p 0.58, 0.11\n"
     ]
    },
    {
     "data": {
      "application/javascript": [
       "\n",
       "            setTimeout(function() {\n",
       "                var nbb_cell_id = 193;\n",
       "                var nbb_unformatted_code = \"data = np.repeat((0, 1), (8, 11))\\nwith pm.Model() as normal_approximation:\\n    p = pm.Uniform(\\\"p\\\", lower=0.5, upper=1)                      # uniform priors\\n    w = pm.Binomial(\\\"w\\\", n=len(data), p=p, observed=data.sum())  # binomial likelihood\\n    mean_q = pm.find_MAP()\\n    std_q = ((1 / pm.find_hessian(mean_q, vars=[p])) ** 0.5)[0]\\n\\n# display summary of quadratic approximation\\nprint(\\\"  Mean, Standard deviation\\\\np {:.2}, {:.2}\\\".format(mean_q[\\\"p\\\"], std_q[0]))\";\n",
       "                var nbb_formatted_code = \"data = np.repeat((0, 1), (8, 11))\\nwith pm.Model() as normal_approximation:\\n    p = pm.Uniform(\\\"p\\\", lower=0.5, upper=1)  # uniform priors\\n    w = pm.Binomial(\\\"w\\\", n=len(data), p=p, observed=data.sum())  # binomial likelihood\\n    mean_q = pm.find_MAP()\\n    std_q = ((1 / pm.find_hessian(mean_q, vars=[p])) ** 0.5)[0]\\n\\n# display summary of quadratic approximation\\nprint(\\\"  Mean, Standard deviation\\\\np {:.2}, {:.2}\\\".format(mean_q[\\\"p\\\"], std_q[0]))\";\n",
       "                var nbb_cells = Jupyter.notebook.get_cells();\n",
       "                for (var i = 0; i < nbb_cells.length; ++i) {\n",
       "                    if (nbb_cells[i].input_prompt_number == nbb_cell_id) {\n",
       "                        if (nbb_cells[i].get_text() == nbb_unformatted_code) {\n",
       "                             nbb_cells[i].set_text(nbb_formatted_code);\n",
       "                        }\n",
       "                        break;\n",
       "                    }\n",
       "                }\n",
       "            }, 500);\n",
       "            "
      ],
      "text/plain": [
       "<IPython.core.display.Javascript object>"
      ]
     },
     "metadata": {},
     "output_type": "display_data"
    }
   ],
   "source": [
    "data = np.repeat((0, 1), (8, 11))\n",
    "with pm.Model() as normal_approximation:\n",
    "    p = pm.Uniform(\"p\", lower=0.5, upper=1)  # uniform priors\n",
    "    w = pm.Binomial(\"w\", n=len(data), p=p, observed=data.sum())  # binomial likelihood\n",
    "    mean_q = pm.find_MAP()\n",
    "    std_q = ((1 / pm.find_hessian(mean_q, vars=[p])) ** 0.5)[0]\n",
    "\n",
    "# display summary of quadratic approximation\n",
    "print(\"  Mean, Standard deviation\\np {:.2}, {:.2}\".format(mean_q[\"p\"], std_q[0]))"
   ]
  },
  {
   "cell_type": "code",
   "execution_count": 197,
   "id": "modular-condition",
   "metadata": {
    "ExecuteTime": {
     "end_time": "2021-02-10T02:27:02.288060Z",
     "start_time": "2021-02-10T02:27:02.275691Z"
    }
   },
   "outputs": [
    {
     "name": "stdout",
     "output_type": "stream",
     "text": [
      "5.5%, 94.5% \n",
      "0.29, 0.87\n"
     ]
    },
    {
     "data": {
      "application/javascript": [
       "\n",
       "            setTimeout(function() {\n",
       "                var nbb_cell_id = 197;\n",
       "                var nbb_unformatted_code = \"# Compute the 89% percentile interval\\nnorm = stats.norm(mean_q, std_q)\\nprob = 0.99\\nz = stats.norm.ppf([(1 - prob) / 2, (1 + prob) / 2])\\npi = mean_q[\\\"p\\\"] + std_q * z\\nprint(\\\"5.5%, 94.5% \\\\n{:.2}, {:.2}\\\".format(pi[0], pi[1]))\";\n",
       "                var nbb_formatted_code = \"# Compute the 89% percentile interval\\nnorm = stats.norm(mean_q, std_q)\\nprob = 0.99\\nz = stats.norm.ppf([(1 - prob) / 2, (1 + prob) / 2])\\npi = mean_q[\\\"p\\\"] + std_q * z\\nprint(\\\"5.5%, 94.5% \\\\n{:.2}, {:.2}\\\".format(pi[0], pi[1]))\";\n",
       "                var nbb_cells = Jupyter.notebook.get_cells();\n",
       "                for (var i = 0; i < nbb_cells.length; ++i) {\n",
       "                    if (nbb_cells[i].input_prompt_number == nbb_cell_id) {\n",
       "                        if (nbb_cells[i].get_text() == nbb_unformatted_code) {\n",
       "                             nbb_cells[i].set_text(nbb_formatted_code);\n",
       "                        }\n",
       "                        break;\n",
       "                    }\n",
       "                }\n",
       "            }, 500);\n",
       "            "
      ],
      "text/plain": [
       "<IPython.core.display.Javascript object>"
      ]
     },
     "metadata": {},
     "output_type": "display_data"
    }
   ],
   "source": [
    "# Compute the 89% percentile interval\n",
    "norm = stats.norm(mean_q, std_q)\n",
    "prob = 0.99\n",
    "z = stats.norm.ppf([(1 - prob) / 2, (1 + prob) / 2])\n",
    "pi = mean_q[\"p\"] + std_q * z\n",
    "print(\"5.5%, 94.5% \\n{:.2}, {:.2}\".format(pi[0], pi[1]))"
   ]
  },
  {
   "cell_type": "markdown",
   "id": "innovative-naples",
   "metadata": {},
   "source": [
    "I don't think this syntax is alright, but basically the distribution will get tighter and taller as more tosses are made."
   ]
  },
  {
   "cell_type": "markdown",
   "id": "republican-carnival",
   "metadata": {},
   "source": [
    "See about posterior predictive distributions."
   ]
  },
  {
   "cell_type": "markdown",
   "id": "clinical-street",
   "metadata": {},
   "source": [
    "# Appendix: Environment and system parameters"
   ]
  },
  {
   "cell_type": "code",
   "execution_count": 157,
   "id": "piano-oriental",
   "metadata": {
    "ExecuteTime": {
     "end_time": "2021-02-10T02:03:32.249011Z",
     "start_time": "2021-02-10T02:03:32.227102Z"
    }
   },
   "outputs": [
    {
     "name": "stdout",
     "output_type": "stream",
     "text": [
      "Last updated: Tue Feb 09 2021\n",
      "\n",
      "Python implementation: CPython\n",
      "Python version       : 3.8.6\n",
      "IPython version      : 7.20.0\n",
      "\n",
      "pandas    : 1.2.1\n",
      "seaborn   : 0.11.1\n",
      "matplotlib: 3.3.4\n",
      "json      : 2.0.9\n",
      "pymc3     : 3.11.0\n",
      "scipy     : 1.6.0\n",
      "numpy     : 1.20.1\n",
      "arviz     : 0.11.1\n",
      "\n",
      "Watermark: 2.1.0\n",
      "\n"
     ]
    },
    {
     "data": {
      "application/javascript": [
       "\n",
       "            setTimeout(function() {\n",
       "                var nbb_cell_id = 157;\n",
       "                var nbb_unformatted_code = \"%watermark -n -u -v -iv -w\";\n",
       "                var nbb_formatted_code = \"%watermark -n -u -v -iv -w\";\n",
       "                var nbb_cells = Jupyter.notebook.get_cells();\n",
       "                for (var i = 0; i < nbb_cells.length; ++i) {\n",
       "                    if (nbb_cells[i].input_prompt_number == nbb_cell_id) {\n",
       "                        if (nbb_cells[i].get_text() == nbb_unformatted_code) {\n",
       "                             nbb_cells[i].set_text(nbb_formatted_code);\n",
       "                        }\n",
       "                        break;\n",
       "                    }\n",
       "                }\n",
       "            }, 500);\n",
       "            "
      ],
      "text/plain": [
       "<IPython.core.display.Javascript object>"
      ]
     },
     "metadata": {},
     "output_type": "display_data"
    }
   ],
   "source": [
    "%watermark -n -u -v -iv -w"
   ]
  },
  {
   "cell_type": "code",
   "execution_count": 158,
   "id": "opponent-lewis",
   "metadata": {
    "ExecuteTime": {
     "end_time": "2021-02-10T02:03:39.913778Z",
     "start_time": "2021-02-10T02:03:39.076803Z"
    }
   },
   "outputs": [
    {
     "name": "stdout",
     "output_type": "stream",
     "text": [
      "# Name                    Version                   Build  Channel\n",
      "arviz                     0.11.1                   pypi_0    pypi\n",
      "matplotlib                3.3.4                    pypi_0    pypi\n",
      "numpy                     1.20.1                   pypi_0    pypi\n",
      "pandas                    1.2.1                    pypi_0    pypi\n",
      "pymc3                     3.11.0                   pypi_0    pypi\n",
      "scipy                     1.6.0                    pypi_0    pypi\n",
      "seaborn                   0.11.1                   pypi_0    pypi\n"
     ]
    },
    {
     "data": {
      "application/javascript": [
       "\n",
       "            setTimeout(function() {\n",
       "                var nbb_cell_id = 158;\n",
       "                var nbb_unformatted_code = \"# Custom scripts to show packages and versions in this notebook\\ndef imports():\\n    import types\\n\\n    for name, val in globals().items():\\n        if isinstance(val, types.ModuleType):\\n            yield val.__name__\\n\\n\\nimported_packages = list(imports())\\n\\nfrom active_pkg import show_pkg_vers_in_nb\\n\\nshow_pkg_vers_in_nb(imported_packages)\";\n",
       "                var nbb_formatted_code = \"# Custom scripts to show packages and versions in this notebook\\ndef imports():\\n    import types\\n\\n    for name, val in globals().items():\\n        if isinstance(val, types.ModuleType):\\n            yield val.__name__\\n\\n\\nimported_packages = list(imports())\\n\\nfrom active_pkg import show_pkg_vers_in_nb\\n\\nshow_pkg_vers_in_nb(imported_packages)\";\n",
       "                var nbb_cells = Jupyter.notebook.get_cells();\n",
       "                for (var i = 0; i < nbb_cells.length; ++i) {\n",
       "                    if (nbb_cells[i].input_prompt_number == nbb_cell_id) {\n",
       "                        if (nbb_cells[i].get_text() == nbb_unformatted_code) {\n",
       "                             nbb_cells[i].set_text(nbb_formatted_code);\n",
       "                        }\n",
       "                        break;\n",
       "                    }\n",
       "                }\n",
       "            }, 500);\n",
       "            "
      ],
      "text/plain": [
       "<IPython.core.display.Javascript object>"
      ]
     },
     "metadata": {},
     "output_type": "display_data"
    }
   ],
   "source": [
    "# Custom scripts to show packages and versions in this notebook\n",
    "def imports():\n",
    "    import types\n",
    "\n",
    "    for name, val in globals().items():\n",
    "        if isinstance(val, types.ModuleType):\n",
    "            yield val.__name__\n",
    "\n",
    "\n",
    "imported_packages = list(imports())\n",
    "\n",
    "from active_pkg import show_pkg_vers_in_nb\n",
    "\n",
    "show_pkg_vers_in_nb(imported_packages)"
   ]
  }
 ],
 "metadata": {
  "kernelspec": {
   "display_name": "Python 3",
   "language": "python",
   "name": "python3"
  },
  "language_info": {
   "codemirror_mode": {
    "name": "ipython",
    "version": 3
   },
   "file_extension": ".py",
   "mimetype": "text/x-python",
   "name": "python",
   "nbconvert_exporter": "python",
   "pygments_lexer": "ipython3",
   "version": "3.8.6"
  },
  "latex_envs": {
   "LaTeX_envs_menu_present": true,
   "autoclose": false,
   "autocomplete": true,
   "bibliofile": "biblio.bib",
   "cite_by": "apalike",
   "current_citInitial": 1,
   "eqLabelWithNumbers": true,
   "eqNumInitial": 1,
   "hotkeys": {
    "equation": "Ctrl-E",
    "itemize": "Ctrl-I"
   },
   "labels_anchors": false,
   "latex_user_defs": false,
   "report_style_numbering": false,
   "user_envs_cfg": false
  },
  "toc": {
   "base_numbering": 1,
   "nav_menu": {},
   "number_sections": true,
   "sideBar": true,
   "skip_h1_title": false,
   "title_cell": "Table of Contents",
   "title_sidebar": "Contents",
   "toc_cell": false,
   "toc_position": {},
   "toc_section_display": true,
   "toc_window_display": true
  },
  "varInspector": {
   "cols": {
    "lenName": 16,
    "lenType": 16,
    "lenVar": 40
   },
   "kernels_config": {
    "python": {
     "delete_cmd_postfix": "",
     "delete_cmd_prefix": "del ",
     "library": "var_list.py",
     "varRefreshCmd": "print(var_dic_list())"
    },
    "r": {
     "delete_cmd_postfix": ") ",
     "delete_cmd_prefix": "rm(",
     "library": "var_list.r",
     "varRefreshCmd": "cat(var_dic_list()) "
    }
   },
   "types_to_exclude": [
    "module",
    "function",
    "builtin_function_or_method",
    "instance",
    "_Feature"
   ],
   "window_display": false
  }
 },
 "nbformat": 4,
 "nbformat_minor": 5
}
