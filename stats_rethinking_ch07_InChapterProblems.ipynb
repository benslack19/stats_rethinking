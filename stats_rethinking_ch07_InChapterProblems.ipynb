{
 "cells": [
  {
   "cell_type": "markdown",
   "id": "standard-square",
   "metadata": {},
   "source": [
    "**Chapter 7, in-chapter problems**\n"
   ]
  },
  {
   "cell_type": "code",
   "execution_count": 1,
   "id": "mental-presence",
   "metadata": {
    "ExecuteTime": {
     "end_time": "2021-05-10T16:37:30.058969Z",
     "start_time": "2021-05-10T16:37:25.853260Z"
    }
   },
   "outputs": [],
   "source": [
    "import arviz as az\n",
    "import matplotlib.pyplot as plt\n",
    "import numpy as np\n",
    "import os\n",
    "import pandas as pd\n",
    "import pymc3 as pm\n",
    "import scipy.stats as stats\n",
    "import seaborn as sns\n",
    "import daft\n",
    "from causalgraphicalmodels import CausalGraphicalModel\n",
    "\n",
    "from scipy.interpolate import griddata"
   ]
  },
  {
   "cell_type": "code",
   "execution_count": 2,
   "id": "israeli-insurance",
   "metadata": {
    "ExecuteTime": {
     "end_time": "2021-05-10T16:37:30.219925Z",
     "start_time": "2021-05-10T16:37:30.066428Z"
    }
   },
   "outputs": [
    {
     "data": {
      "application/javascript": [
       "\n",
       "            setTimeout(function() {\n",
       "                var nbb_cell_id = 2;\n",
       "                var nbb_unformatted_code = \"%load_ext nb_black\\n%config InlineBackend.figure_format = 'retina'\\n%load_ext watermark\\nRANDOM_SEED = 8927\\nnp.random.seed(RANDOM_SEED)\\naz.style.use(\\\"arviz-darkgrid\\\")\\naz.rcParams[\\\"stats.hdi_prob\\\"] = 0.89  # sets default credible interval used by arviz\";\n",
       "                var nbb_formatted_code = \"%load_ext nb_black\\n%config InlineBackend.figure_format = 'retina'\\n%load_ext watermark\\nRANDOM_SEED = 8927\\nnp.random.seed(RANDOM_SEED)\\naz.style.use(\\\"arviz-darkgrid\\\")\\naz.rcParams[\\\"stats.hdi_prob\\\"] = 0.89  # sets default credible interval used by arviz\";\n",
       "                var nbb_cells = Jupyter.notebook.get_cells();\n",
       "                for (var i = 0; i < nbb_cells.length; ++i) {\n",
       "                    if (nbb_cells[i].input_prompt_number == nbb_cell_id) {\n",
       "                        if (nbb_cells[i].get_text() == nbb_unformatted_code) {\n",
       "                             nbb_cells[i].set_text(nbb_formatted_code);\n",
       "                        }\n",
       "                        break;\n",
       "                    }\n",
       "                }\n",
       "            }, 500);\n",
       "            "
      ],
      "text/plain": [
       "<IPython.core.display.Javascript object>"
      ]
     },
     "metadata": {},
     "output_type": "display_data"
    }
   ],
   "source": [
    "%load_ext nb_black\n",
    "%config InlineBackend.figure_format = 'retina'\n",
    "%load_ext watermark\n",
    "RANDOM_SEED = 8927\n",
    "np.random.seed(RANDOM_SEED)\n",
    "az.style.use(\"arviz-darkgrid\")\n",
    "az.rcParams[\"stats.hdi_prob\"] = 0.89  # sets default credible interval used by arviz"
   ]
  },
  {
   "cell_type": "code",
   "execution_count": 3,
   "id": "future-agent",
   "metadata": {
    "ExecuteTime": {
     "end_time": "2021-05-10T16:37:30.235867Z",
     "start_time": "2021-05-10T16:37:30.231259Z"
    }
   },
   "outputs": [
    {
     "data": {
      "application/javascript": [
       "\n",
       "            setTimeout(function() {\n",
       "                var nbb_cell_id = 3;\n",
       "                var nbb_unformatted_code = \"def standardize(vec):\\n    return vec - np.mean(vec) / np.std(vec)\";\n",
       "                var nbb_formatted_code = \"def standardize(vec):\\n    return vec - np.mean(vec) / np.std(vec)\";\n",
       "                var nbb_cells = Jupyter.notebook.get_cells();\n",
       "                for (var i = 0; i < nbb_cells.length; ++i) {\n",
       "                    if (nbb_cells[i].input_prompt_number == nbb_cell_id) {\n",
       "                        if (nbb_cells[i].get_text() == nbb_unformatted_code) {\n",
       "                             nbb_cells[i].set_text(nbb_formatted_code);\n",
       "                        }\n",
       "                        break;\n",
       "                    }\n",
       "                }\n",
       "            }, 500);\n",
       "            "
      ],
      "text/plain": [
       "<IPython.core.display.Javascript object>"
      ]
     },
     "metadata": {},
     "output_type": "display_data"
    }
   ],
   "source": [
    "def standardize(vec):\n",
    "    return vec - np.mean(vec) / np.std(vec)"
   ]
  },
  {
   "cell_type": "markdown",
   "id": "pacific-eclipse",
   "metadata": {},
   "source": [
    "# Log-score and LPPD\n",
    "\n",
    "It's unclear to me how this can be used to say whether a model is better or not. One way to think of it is that this R^2 for the training set. The book uses model m_7.1 as the example."
   ]
  },
  {
   "cell_type": "code",
   "execution_count": 5,
   "id": "waiting-convergence",
   "metadata": {
    "ExecuteTime": {
     "end_time": "2021-05-11T14:37:56.851226Z",
     "start_time": "2021-05-11T14:37:56.823592Z"
    }
   },
   "outputs": [
    {
     "data": {
      "text/html": [
       "<div>\n",
       "<style scoped>\n",
       "    .dataframe tbody tr th:only-of-type {\n",
       "        vertical-align: middle;\n",
       "    }\n",
       "\n",
       "    .dataframe tbody tr th {\n",
       "        vertical-align: top;\n",
       "    }\n",
       "\n",
       "    .dataframe thead th {\n",
       "        text-align: right;\n",
       "    }\n",
       "</style>\n",
       "<table border=\"1\" class=\"dataframe\">\n",
       "  <thead>\n",
       "    <tr style=\"text-align: right;\">\n",
       "      <th></th>\n",
       "      <th>species</th>\n",
       "      <th>brain</th>\n",
       "      <th>mass</th>\n",
       "    </tr>\n",
       "  </thead>\n",
       "  <tbody>\n",
       "    <tr>\n",
       "      <th>0</th>\n",
       "      <td>afarensis</td>\n",
       "      <td>438</td>\n",
       "      <td>37.0</td>\n",
       "    </tr>\n",
       "    <tr>\n",
       "      <th>1</th>\n",
       "      <td>africanus</td>\n",
       "      <td>452</td>\n",
       "      <td>35.5</td>\n",
       "    </tr>\n",
       "    <tr>\n",
       "      <th>2</th>\n",
       "      <td>habilis</td>\n",
       "      <td>612</td>\n",
       "      <td>34.5</td>\n",
       "    </tr>\n",
       "    <tr>\n",
       "      <th>3</th>\n",
       "      <td>boisei</td>\n",
       "      <td>521</td>\n",
       "      <td>41.5</td>\n",
       "    </tr>\n",
       "    <tr>\n",
       "      <th>4</th>\n",
       "      <td>rudolfensis</td>\n",
       "      <td>752</td>\n",
       "      <td>55.5</td>\n",
       "    </tr>\n",
       "    <tr>\n",
       "      <th>5</th>\n",
       "      <td>ergaster</td>\n",
       "      <td>871</td>\n",
       "      <td>61.0</td>\n",
       "    </tr>\n",
       "    <tr>\n",
       "      <th>6</th>\n",
       "      <td>sapiens</td>\n",
       "      <td>1350</td>\n",
       "      <td>53.5</td>\n",
       "    </tr>\n",
       "  </tbody>\n",
       "</table>\n",
       "</div>"
      ],
      "text/plain": [
       "       species  brain  mass\n",
       "0    afarensis    438  37.0\n",
       "1    africanus    452  35.5\n",
       "2      habilis    612  34.5\n",
       "3       boisei    521  41.5\n",
       "4  rudolfensis    752  55.5\n",
       "5     ergaster    871  61.0\n",
       "6      sapiens   1350  53.5"
      ]
     },
     "execution_count": 5,
     "metadata": {},
     "output_type": "execute_result"
    },
    {
     "data": {
      "application/javascript": [
       "\n",
       "            setTimeout(function() {\n",
       "                var nbb_cell_id = 5;\n",
       "                var nbb_unformatted_code = \"# code modified from the repo\\n\\n\\ndf_brains = pd.DataFrame(\\n    {\\n        \\\"species\\\": [\\n            \\\"afarensis\\\",\\n            \\\"africanus\\\",\\n            \\\"habilis\\\",\\n            \\\"boisei\\\",\\n            \\\"rudolfensis\\\",\\n            \\\"ergaster\\\",\\n            \\\"sapiens\\\",\\n        ],\\n        \\\"brain\\\": [438, 452, 612, 521, 752, 871, 1350],  # volume in cc\\n        \\\"mass\\\": [37.0, 35.5, 34.5, 41.5, 55.5, 61.0, 53.5],  # mass in kg\\n    }\\n)\\n\\ndf_brains\";\n",
       "                var nbb_formatted_code = \"# code modified from the repo\\n\\n\\ndf_brains = pd.DataFrame(\\n    {\\n        \\\"species\\\": [\\n            \\\"afarensis\\\",\\n            \\\"africanus\\\",\\n            \\\"habilis\\\",\\n            \\\"boisei\\\",\\n            \\\"rudolfensis\\\",\\n            \\\"ergaster\\\",\\n            \\\"sapiens\\\",\\n        ],\\n        \\\"brain\\\": [438, 452, 612, 521, 752, 871, 1350],  # volume in cc\\n        \\\"mass\\\": [37.0, 35.5, 34.5, 41.5, 55.5, 61.0, 53.5],  # mass in kg\\n    }\\n)\\n\\ndf_brains\";\n",
       "                var nbb_cells = Jupyter.notebook.get_cells();\n",
       "                for (var i = 0; i < nbb_cells.length; ++i) {\n",
       "                    if (nbb_cells[i].input_prompt_number == nbb_cell_id) {\n",
       "                        if (nbb_cells[i].get_text() == nbb_unformatted_code) {\n",
       "                             nbb_cells[i].set_text(nbb_formatted_code);\n",
       "                        }\n",
       "                        break;\n",
       "                    }\n",
       "                }\n",
       "            }, 500);\n",
       "            "
      ],
      "text/plain": [
       "<IPython.core.display.Javascript object>"
      ]
     },
     "metadata": {},
     "output_type": "display_data"
    }
   ],
   "source": [
    "# code modified from the repo\n",
    "\n",
    "\n",
    "df_brains = pd.DataFrame(\n",
    "    {\n",
    "        \"species\": [\n",
    "            \"afarensis\",\n",
    "            \"africanus\",\n",
    "            \"habilis\",\n",
    "            \"boisei\",\n",
    "            \"rudolfensis\",\n",
    "            \"ergaster\",\n",
    "            \"sapiens\",\n",
    "        ],\n",
    "        \"brain\": [438, 452, 612, 521, 752, 871, 1350],  # volume in cc\n",
    "        \"mass\": [37.0, 35.5, 34.5, 41.5, 55.5, 61.0, 53.5],  # mass in kg\n",
    "    }\n",
    ")\n",
    "\n",
    "df_brains"
   ]
  },
  {
   "cell_type": "code",
   "execution_count": 9,
   "id": "going-candle",
   "metadata": {
    "ExecuteTime": {
     "end_time": "2021-05-11T14:39:39.112405Z",
     "start_time": "2021-05-11T14:39:38.795404Z"
    }
   },
   "outputs": [
    {
     "data": {
      "text/plain": [
       "Text(0, 0.5, 'brain volume (cc)')"
      ]
     },
     "execution_count": 9,
     "metadata": {},
     "output_type": "execute_result"
    },
    {
     "data": {
      "image/png": "[encoded data removed]",
      "text/plain": [
       "<Figure size 720x480 with 1 Axes>"
      ]
     },
     "metadata": {
      "image/png": {
       "height": 491,
       "width": 731
      }
     },
     "output_type": "display_data"
    },
    {
     "data": {
      "application/javascript": [
       "\n",
       "            setTimeout(function() {\n",
       "                var nbb_cell_id = 9;\n",
       "                var nbb_unformatted_code = \"# Figure 7.2, modified from repo\\n\\nf, ax1 = plt.subplots()\\n\\nax1.scatter(df_brains[\\\"mass\\\"], df_brains[\\\"brain\\\"])\\n\\n# point labels\\nfor i, r in df_brains.iterrows():\\n    if r.species == \\\"afarensis\\\":\\n        ax1.text(r.mass + 0.5, r.brain, r.species, ha=\\\"left\\\", va=\\\"center\\\")\\n    elif r.species == \\\"sapiens\\\":\\n        ax1.text(r.mass, r.brain - 25, r.species, ha=\\\"center\\\", va=\\\"top\\\")\\n    else:\\n        ax1.text(r.mass, r.brain + 25, r.species, ha=\\\"center\\\")\\n\\nax1.set_xlabel(\\\"body mass (kg)\\\")\\nax1.set_ylabel(\\\"brain volume (cc)\\\")\";\n",
       "                var nbb_formatted_code = \"# Figure 7.2, modified from repo\\n\\nf, ax1 = plt.subplots()\\n\\nax1.scatter(df_brains[\\\"mass\\\"], df_brains[\\\"brain\\\"])\\n\\n# point labels\\nfor i, r in df_brains.iterrows():\\n    if r.species == \\\"afarensis\\\":\\n        ax1.text(r.mass + 0.5, r.brain, r.species, ha=\\\"left\\\", va=\\\"center\\\")\\n    elif r.species == \\\"sapiens\\\":\\n        ax1.text(r.mass, r.brain - 25, r.species, ha=\\\"center\\\", va=\\\"top\\\")\\n    else:\\n        ax1.text(r.mass, r.brain + 25, r.species, ha=\\\"center\\\")\\n\\nax1.set_xlabel(\\\"body mass (kg)\\\")\\nax1.set_ylabel(\\\"brain volume (cc)\\\")\";\n",
       "                var nbb_cells = Jupyter.notebook.get_cells();\n",
       "                for (var i = 0; i < nbb_cells.length; ++i) {\n",
       "                    if (nbb_cells[i].input_prompt_number == nbb_cell_id) {\n",
       "                        if (nbb_cells[i].get_text() == nbb_unformatted_code) {\n",
       "                             nbb_cells[i].set_text(nbb_formatted_code);\n",
       "                        }\n",
       "                        break;\n",
       "                    }\n",
       "                }\n",
       "            }, 500);\n",
       "            "
      ],
      "text/plain": [
       "<IPython.core.display.Javascript object>"
      ]
     },
     "metadata": {},
     "output_type": "display_data"
    }
   ],
   "source": [
    "# Figure 7.2, modified from repo\n",
    "\n",
    "f, ax1 = plt.subplots()\n",
    "\n",
    "ax1.scatter(df_brains[\"mass\"], df_brains[\"brain\"])\n",
    "\n",
    "# point labels\n",
    "for i, r in df_brains.iterrows():\n",
    "    if r.species == \"afarensis\":\n",
    "        ax1.text(r.mass + 0.5, r.brain, r.species, ha=\"left\", va=\"center\")\n",
    "    elif r.species == \"sapiens\":\n",
    "        ax1.text(r.mass, r.brain - 25, r.species, ha=\"center\", va=\"top\")\n",
    "    else:\n",
    "        ax1.text(r.mass, r.brain + 25, r.species, ha=\"center\")\n",
    "\n",
    "ax1.set_xlabel(\"body mass (kg)\")\n",
    "ax1.set_ylabel(\"brain volume (cc)\")"
   ]
  },
  {
   "cell_type": "code",
   "execution_count": 14,
   "id": "available-queensland",
   "metadata": {
    "ExecuteTime": {
     "end_time": "2021-05-11T14:42:56.934605Z",
     "start_time": "2021-05-11T14:42:56.923316Z"
    }
   },
   "outputs": [
    {
     "data": {
      "text/html": [
       "<div>\n",
       "<style scoped>\n",
       "    .dataframe tbody tr th:only-of-type {\n",
       "        vertical-align: middle;\n",
       "    }\n",
       "\n",
       "    .dataframe tbody tr th {\n",
       "        vertical-align: top;\n",
       "    }\n",
       "\n",
       "    .dataframe thead th {\n",
       "        text-align: right;\n",
       "    }\n",
       "</style>\n",
       "<table border=\"1\" class=\"dataframe\">\n",
       "  <thead>\n",
       "    <tr style=\"text-align: right;\">\n",
       "      <th></th>\n",
       "      <th>species</th>\n",
       "      <th>brain</th>\n",
       "      <th>mass</th>\n",
       "      <th>brain_std</th>\n",
       "      <th>mass_std</th>\n",
       "    </tr>\n",
       "  </thead>\n",
       "  <tbody>\n",
       "    <tr>\n",
       "      <th>0</th>\n",
       "      <td>afarensis</td>\n",
       "      <td>438</td>\n",
       "      <td>37.0</td>\n",
       "      <td>0.324444</td>\n",
       "      <td>32.49325</td>\n",
       "    </tr>\n",
       "    <tr>\n",
       "      <th>1</th>\n",
       "      <td>africanus</td>\n",
       "      <td>452</td>\n",
       "      <td>35.5</td>\n",
       "      <td>0.334815</td>\n",
       "      <td>30.99325</td>\n",
       "    </tr>\n",
       "    <tr>\n",
       "      <th>2</th>\n",
       "      <td>habilis</td>\n",
       "      <td>612</td>\n",
       "      <td>34.5</td>\n",
       "      <td>0.453333</td>\n",
       "      <td>29.99325</td>\n",
       "    </tr>\n",
       "    <tr>\n",
       "      <th>3</th>\n",
       "      <td>boisei</td>\n",
       "      <td>521</td>\n",
       "      <td>41.5</td>\n",
       "      <td>0.385926</td>\n",
       "      <td>36.99325</td>\n",
       "    </tr>\n",
       "    <tr>\n",
       "      <th>4</th>\n",
       "      <td>rudolfensis</td>\n",
       "      <td>752</td>\n",
       "      <td>55.5</td>\n",
       "      <td>0.557037</td>\n",
       "      <td>50.99325</td>\n",
       "    </tr>\n",
       "  </tbody>\n",
       "</table>\n",
       "</div>"
      ],
      "text/plain": [
       "       species  brain  mass  brain_std  mass_std\n",
       "0    afarensis    438  37.0   0.324444  32.49325\n",
       "1    africanus    452  35.5   0.334815  30.99325\n",
       "2      habilis    612  34.5   0.453333  29.99325\n",
       "3       boisei    521  41.5   0.385926  36.99325\n",
       "4  rudolfensis    752  55.5   0.557037  50.99325"
      ]
     },
     "execution_count": 14,
     "metadata": {},
     "output_type": "execute_result"
    },
    {
     "data": {
      "application/javascript": [
       "\n",
       "            setTimeout(function() {\n",
       "                var nbb_cell_id = 14;\n",
       "                var nbb_unformatted_code = \"df_brains.head()\";\n",
       "                var nbb_formatted_code = \"df_brains.head()\";\n",
       "                var nbb_cells = Jupyter.notebook.get_cells();\n",
       "                for (var i = 0; i < nbb_cells.length; ++i) {\n",
       "                    if (nbb_cells[i].input_prompt_number == nbb_cell_id) {\n",
       "                        if (nbb_cells[i].get_text() == nbb_unformatted_code) {\n",
       "                             nbb_cells[i].set_text(nbb_formatted_code);\n",
       "                        }\n",
       "                        break;\n",
       "                    }\n",
       "                }\n",
       "            }, 500);\n",
       "            "
      ],
      "text/plain": [
       "<IPython.core.display.Javascript object>"
      ]
     },
     "metadata": {},
     "output_type": "display_data"
    }
   ],
   "source": [
    "df_brains.head()"
   ]
  },
  {
   "cell_type": "code",
   "execution_count": 13,
   "id": "cognitive-cargo",
   "metadata": {
    "ExecuteTime": {
     "end_time": "2021-05-11T14:42:54.106696Z",
     "start_time": "2021-05-11T14:42:54.097966Z"
    }
   },
   "outputs": [
    {
     "data": {
      "application/javascript": [
       "\n",
       "            setTimeout(function() {\n",
       "                var nbb_cell_id = 13;\n",
       "                var nbb_unformatted_code = \"df_brains[\\\"brain_std\\\"] = df_brains[\\\"brain\\\"] /  df_brains[\\\"brain\\\"].max()  # min-max scaling (min at 0)\\ndf_brains[\\\"mass_std\\\"] = standardize(df_brains[\\\"mass\\\"])     # standardized\";\n",
       "                var nbb_formatted_code = \"df_brains[\\\"brain_std\\\"] = (\\n    df_brains[\\\"brain\\\"] / df_brains[\\\"brain\\\"].max()\\n)  # min-max scaling (min at 0)\\ndf_brains[\\\"mass_std\\\"] = standardize(df_brains[\\\"mass\\\"])  # standardized\";\n",
       "                var nbb_cells = Jupyter.notebook.get_cells();\n",
       "                for (var i = 0; i < nbb_cells.length; ++i) {\n",
       "                    if (nbb_cells[i].input_prompt_number == nbb_cell_id) {\n",
       "                        if (nbb_cells[i].get_text() == nbb_unformatted_code) {\n",
       "                             nbb_cells[i].set_text(nbb_formatted_code);\n",
       "                        }\n",
       "                        break;\n",
       "                    }\n",
       "                }\n",
       "            }, 500);\n",
       "            "
      ],
      "text/plain": [
       "<IPython.core.display.Javascript object>"
      ]
     },
     "metadata": {},
     "output_type": "display_data"
    }
   ],
   "source": [
    "# Standardize variables (min-max scale)\n",
    "df_brains[\"brain_std\"] = (\n",
    "    df_brains[\"brain\"] / df_brains[\"brain\"].max()\n",
    ")  # min-max scaling (min at 0)\n",
    "df_brains[\"mass_std\"] = standardize(df_brains[\"mass\"])  # standardized"
   ]
  },
  {
   "cell_type": "markdown",
   "id": "defensive-milan",
   "metadata": {},
   "source": [
    "Create the model. Here are the variables.\n",
    "\n",
    "$b_i$ ~ $\\text{Normal}(\\mu_i, \\sigma)$\n",
    "<br>\n",
    "$\\mu_i$ = $\\alpha + \\beta m_i$\n",
    "<br>\n",
    "$\\alpha$ ~ $\\text{Normal}(0.5, 1)$\n",
    "<br>\n",
    "$\\beta$ ~ $\\text{Normal}(0, 10)$\n",
    "<br>\n",
    "$\\sigma$ ~ $\\text{Log-Normal}(0, 1)$"
   ]
  },
  {
   "cell_type": "code",
   "execution_count": 17,
   "id": "exceptional-projection",
   "metadata": {
    "ExecuteTime": {
     "end_time": "2021-05-11T16:25:55.686382Z",
     "start_time": "2021-05-11T16:25:39.777472Z"
    }
   },
   "outputs": [
    {
     "name": "stderr",
     "output_type": "stream",
     "text": [
      "Auto-assigning NUTS sampler...\n",
      "Initializing NUTS using jitter+adapt_diag...\n",
      "Multiprocess sampling (4 chains in 4 jobs)\n",
      "NUTS: [log_sigma, b, a]\n"
     ]
    },
    {
     "data": {
      "text/html": [
       "\n",
       "    <div>\n",
       "        <style>\n",
       "            /* Turns off some styling */\n",
       "            progress {\n",
       "                /* gets rid of default border in Firefox and Opera. */\n",
       "                border: none;\n",
       "                /* Needs to be in here for Safari polyfill so background images work as expected. */\n",
       "                background-size: auto;\n",
       "            }\n",
       "            .progress-bar-interrupted, .progress-bar-interrupted::-webkit-progress-bar {\n",
       "                background: #F44336;\n",
       "            }\n",
       "        </style>\n",
       "      <progress value='8000' class='' max='8000' style='width:300px; height:20px; vertical-align: middle;'></progress>\n",
       "      100.00% [8000/8000 00:04<00:00 Sampling 4 chains, 103 divergences]\n",
       "    </div>\n",
       "    "
      ],
      "text/plain": [
       "<IPython.core.display.HTML object>"
      ]
     },
     "metadata": {},
     "output_type": "display_data"
    },
    {
     "name": "stderr",
     "output_type": "stream",
     "text": [
      "Sampling 4 chains for 1_000 tune and 1_000 draw iterations (4_000 + 4_000 draws total) took 14 seconds.\n",
      "There were 73 divergences after tuning. Increase `target_accept` or reparameterize.\n",
      "The acceptance probability does not match the target. It is 0.678061473479929, but should be close to 0.8. Try to increase the number of tuning steps.\n",
      "There were 16 divergences after tuning. Increase `target_accept` or reparameterize.\n",
      "There were 5 divergences after tuning. Increase `target_accept` or reparameterize.\n",
      "There were 9 divergences after tuning. Increase `target_accept` or reparameterize.\n",
      "The number of effective samples is smaller than 25% for some parameters.\n"
     ]
    },
    {
     "data": {
      "application/javascript": [
       "\n",
       "            setTimeout(function() {\n",
       "                var nbb_cell_id = 17;\n",
       "                var nbb_unformatted_code = \"with pm.Model() as m7_1:\\n    a = pm.Normal(\\\"a\\\", mu=0.5, sd=1)\\n    b = pm.Normal(\\\"b\\\", mu=0, sd=10)\\n    log_sigma = pm.Normal(\\\"log_sigma\\\", mu=0, sd=1)\\n    mu = a + b * df_brains[\\\"mass_std\\\"]\\n    brain_std = pm.Normal(\\n        \\\"brain_std\\\", mu=mu, sd=np.exp(log_sigma), observed=df_brains[\\\"brain_std\\\"]\\n    )\\n\\n    sample = pm.sample(1000, tune=1000, return_inferencedata=True)\";\n",
       "                var nbb_formatted_code = \"with pm.Model() as m7_1:\\n    a = pm.Normal(\\\"a\\\", mu=0.5, sd=1)\\n    b = pm.Normal(\\\"b\\\", mu=0, sd=10)\\n    log_sigma = pm.Normal(\\\"log_sigma\\\", mu=0, sd=1)\\n    mu = a + b * df_brains[\\\"mass_std\\\"]\\n    brain_std = pm.Normal(\\n        \\\"brain_std\\\", mu=mu, sd=np.exp(log_sigma), observed=df_brains[\\\"brain_std\\\"]\\n    )\\n\\n    sample = pm.sample(1000, tune=1000, return_inferencedata=True)\";\n",
       "                var nbb_cells = Jupyter.notebook.get_cells();\n",
       "                for (var i = 0; i < nbb_cells.length; ++i) {\n",
       "                    if (nbb_cells[i].input_prompt_number == nbb_cell_id) {\n",
       "                        if (nbb_cells[i].get_text() == nbb_unformatted_code) {\n",
       "                             nbb_cells[i].set_text(nbb_formatted_code);\n",
       "                        }\n",
       "                        break;\n",
       "                    }\n",
       "                }\n",
       "            }, 500);\n",
       "            "
      ],
      "text/plain": [
       "<IPython.core.display.Javascript object>"
      ]
     },
     "metadata": {},
     "output_type": "display_data"
    }
   ],
   "source": [
    "with pm.Model() as m7_1:\n",
    "    a = pm.Normal(\"a\", mu=0.5, sd=1)\n",
    "    b = pm.Normal(\"b\", mu=0, sd=10)\n",
    "    log_sigma = pm.Normal(\"log_sigma\", mu=0, sd=1)\n",
    "    mu = a + b * df_brains[\"mass_std\"]\n",
    "    brain_std = pm.Normal(\n",
    "        \"brain_std\", mu=mu, sd=np.exp(log_sigma), observed=df_brains[\"brain_std\"]\n",
    "    )\n",
    "\n",
    "    sample = pm.sample(1000, tune=1000, return_inferencedata=True)"
   ]
  },
  {
   "cell_type": "code",
   "execution_count": 23,
   "id": "specified-complexity",
   "metadata": {
    "ExecuteTime": {
     "end_time": "2021-05-11T16:31:04.541103Z",
     "start_time": "2021-05-11T16:31:04.486704Z"
    }
   },
   "outputs": [
    {
     "data": {
      "text/html": [
       "<div>\n",
       "<style scoped>\n",
       "    .dataframe tbody tr th:only-of-type {\n",
       "        vertical-align: middle;\n",
       "    }\n",
       "\n",
       "    .dataframe tbody tr th {\n",
       "        vertical-align: top;\n",
       "    }\n",
       "\n",
       "    .dataframe thead th {\n",
       "        text-align: right;\n",
       "    }\n",
       "</style>\n",
       "<table border=\"1\" class=\"dataframe\">\n",
       "  <thead>\n",
       "    <tr style=\"text-align: right;\">\n",
       "      <th></th>\n",
       "      <th>mean</th>\n",
       "      <th>sd</th>\n",
       "      <th>hdi_5.5%</th>\n",
       "      <th>hdi_94.5%</th>\n",
       "      <th>mcse_mean</th>\n",
       "      <th>mcse_sd</th>\n",
       "      <th>ess_mean</th>\n",
       "      <th>ess_sd</th>\n",
       "      <th>ess_bulk</th>\n",
       "      <th>ess_tail</th>\n",
       "      <th>r_hat</th>\n",
       "    </tr>\n",
       "  </thead>\n",
       "  <tbody>\n",
       "    <tr>\n",
       "      <th>a</th>\n",
       "      <td>-0.022</td>\n",
       "      <td>0.440</td>\n",
       "      <td>-0.686</td>\n",
       "      <td>0.655</td>\n",
       "      <td>0.019</td>\n",
       "      <td>0.014</td>\n",
       "      <td>520.0</td>\n",
       "      <td>520.0</td>\n",
       "      <td>509.0</td>\n",
       "      <td>785.0</td>\n",
       "      <td>1.02</td>\n",
       "    </tr>\n",
       "    <tr>\n",
       "      <th>b</th>\n",
       "      <td>0.014</td>\n",
       "      <td>0.011</td>\n",
       "      <td>-0.002</td>\n",
       "      <td>0.030</td>\n",
       "      <td>0.000</td>\n",
       "      <td>0.000</td>\n",
       "      <td>562.0</td>\n",
       "      <td>562.0</td>\n",
       "      <td>544.0</td>\n",
       "      <td>798.0</td>\n",
       "      <td>1.01</td>\n",
       "    </tr>\n",
       "    <tr>\n",
       "      <th>log_sigma</th>\n",
       "      <td>-1.393</td>\n",
       "      <td>0.368</td>\n",
       "      <td>-2.022</td>\n",
       "      <td>-0.867</td>\n",
       "      <td>0.015</td>\n",
       "      <td>0.011</td>\n",
       "      <td>589.0</td>\n",
       "      <td>538.0</td>\n",
       "      <td>539.0</td>\n",
       "      <td>339.0</td>\n",
       "      <td>1.00</td>\n",
       "    </tr>\n",
       "  </tbody>\n",
       "</table>\n",
       "</div>"
      ],
      "text/plain": [
       "            mean     sd  hdi_5.5%  hdi_94.5%  mcse_mean  mcse_sd  ess_mean  \\\n",
       "a         -0.022  0.440    -0.686      0.655      0.019    0.014     520.0   \n",
       "b          0.014  0.011    -0.002      0.030      0.000    0.000     562.0   \n",
       "log_sigma -1.393  0.368    -2.022     -0.867      0.015    0.011     589.0   \n",
       "\n",
       "           ess_sd  ess_bulk  ess_tail  r_hat  \n",
       "a           520.0     509.0     785.0   1.02  \n",
       "b           562.0     544.0     798.0   1.01  \n",
       "log_sigma   538.0     539.0     339.0   1.00  "
      ]
     },
     "execution_count": 23,
     "metadata": {},
     "output_type": "execute_result"
    },
    {
     "data": {
      "application/javascript": [
       "\n",
       "            setTimeout(function() {\n",
       "                var nbb_cell_id = 23;\n",
       "                var nbb_unformatted_code = \"az.summary(sample)\";\n",
       "                var nbb_formatted_code = \"az.summary(sample)\";\n",
       "                var nbb_cells = Jupyter.notebook.get_cells();\n",
       "                for (var i = 0; i < nbb_cells.length; ++i) {\n",
       "                    if (nbb_cells[i].input_prompt_number == nbb_cell_id) {\n",
       "                        if (nbb_cells[i].get_text() == nbb_unformatted_code) {\n",
       "                             nbb_cells[i].set_text(nbb_formatted_code);\n",
       "                        }\n",
       "                        break;\n",
       "                    }\n",
       "                }\n",
       "            }, 500);\n",
       "            "
      ],
      "text/plain": [
       "<IPython.core.display.Javascript object>"
      ]
     },
     "metadata": {},
     "output_type": "display_data"
    }
   ],
   "source": [
    "az.summary(sample)"
   ]
  },
  {
   "cell_type": "code",
   "execution_count": 22,
   "id": "comparable-specification",
   "metadata": {
    "ExecuteTime": {
     "end_time": "2021-05-11T16:30:20.778913Z",
     "start_time": "2021-05-11T16:30:19.936527Z"
    }
   },
   "outputs": [
    {
     "data": {
      "text/html": [
       "\n",
       "    <div>\n",
       "        <style>\n",
       "            /* Turns off some styling */\n",
       "            progress {\n",
       "                /* gets rid of default border in Firefox and Opera. */\n",
       "                border: none;\n",
       "                /* Needs to be in here for Safari polyfill so background images work as expected. */\n",
       "                background-size: auto;\n",
       "            }\n",
       "            .progress-bar-interrupted, .progress-bar-interrupted::-webkit-progress-bar {\n",
       "                background: #F44336;\n",
       "            }\n",
       "        </style>\n",
       "      <progress value='29' class='' max='29' style='width:300px; height:20px; vertical-align: middle;'></progress>\n",
       "      100.00% [29/29 00:00<00:00 logp = -4.8035, ||grad|| = 307.26]\n",
       "    </div>\n",
       "    "
      ],
      "text/plain": [
       "<IPython.core.display.HTML object>"
      ]
     },
     "metadata": {},
     "output_type": "display_data"
    },
    {
     "name": "stdout",
     "output_type": "stream",
     "text": [
      "\n"
     ]
    },
    {
     "data": {
      "text/plain": [
       "{'a': array(-0.05379328),\n",
       " 'b': array(0.01427277),\n",
       " 'log_sigma': array(-1.70451573)}"
      ]
     },
     "execution_count": 22,
     "metadata": {},
     "output_type": "execute_result"
    },
    {
     "data": {
      "application/javascript": [
       "\n",
       "            setTimeout(function() {\n",
       "                var nbb_cell_id = 22;\n",
       "                var nbb_unformatted_code = \"pm.find_MAP(model=m7_1)\";\n",
       "                var nbb_formatted_code = \"pm.find_MAP(model=m7_1)\";\n",
       "                var nbb_cells = Jupyter.notebook.get_cells();\n",
       "                for (var i = 0; i < nbb_cells.length; ++i) {\n",
       "                    if (nbb_cells[i].input_prompt_number == nbb_cell_id) {\n",
       "                        if (nbb_cells[i].get_text() == nbb_unformatted_code) {\n",
       "                             nbb_cells[i].set_text(nbb_formatted_code);\n",
       "                        }\n",
       "                        break;\n",
       "                    }\n",
       "                }\n",
       "            }, 500);\n",
       "            "
      ],
      "text/plain": [
       "<IPython.core.display.Javascript object>"
      ]
     },
     "metadata": {},
     "output_type": "display_data"
    }
   ],
   "source": [
    "pm.find_MAP(model=m7_1)"
   ]
  },
  {
   "cell_type": "code",
   "execution_count": null,
   "id": "optical-daniel",
   "metadata": {},
   "outputs": [],
   "source": [
    "n_samples = 3000\n",
    "\n",
    "intercept, slope = stats.multivariate_normal(m_7_1.params, m_7_1.cov_params()).rvs(n_samples).T\n"
   ]
  },
  {
   "cell_type": "code",
   "execution_count": null,
   "id": "strange-layout",
   "metadata": {},
   "outputs": [],
   "source": []
  },
  {
   "cell_type": "markdown",
   "id": "recreational-violence",
   "metadata": {},
   "source": [
    "# Appendix: Environment and system parameters"
   ]
  },
  {
   "cell_type": "code",
   "execution_count": 12,
   "id": "white-bread",
   "metadata": {
    "ExecuteTime": {
     "end_time": "2021-02-18T16:20:38.883025Z",
     "start_time": "2021-02-18T16:20:38.858077Z"
    }
   },
   "outputs": [
    {
     "name": "stdout",
     "output_type": "stream",
     "text": [
      "Last updated: Thu Feb 18 2021\n",
      "\n",
      "Python implementation: CPython\n",
      "Python version       : 3.8.6\n",
      "IPython version      : 7.20.0\n",
      "\n",
      "numpy     : 1.20.1\n",
      "matplotlib: 3.3.4\n",
      "arviz     : 0.11.1\n",
      "pandas    : 1.2.1\n",
      "seaborn   : 0.11.1\n",
      "json      : 2.0.9\n",
      "pymc3     : 3.11.0\n",
      "scipy     : 1.6.0\n",
      "\n",
      "Watermark: 2.1.0\n",
      "\n"
     ]
    },
    {
     "data": {
      "application/javascript": [
       "\n",
       "            setTimeout(function() {\n",
       "                var nbb_cell_id = 12;\n",
       "                var nbb_unformatted_code = \"%watermark -n -u -v -iv -w\";\n",
       "                var nbb_formatted_code = \"%watermark -n -u -v -iv -w\";\n",
       "                var nbb_cells = Jupyter.notebook.get_cells();\n",
       "                for (var i = 0; i < nbb_cells.length; ++i) {\n",
       "                    if (nbb_cells[i].input_prompt_number == nbb_cell_id) {\n",
       "                        if (nbb_cells[i].get_text() == nbb_unformatted_code) {\n",
       "                             nbb_cells[i].set_text(nbb_formatted_code);\n",
       "                        }\n",
       "                        break;\n",
       "                    }\n",
       "                }\n",
       "            }, 500);\n",
       "            "
      ],
      "text/plain": [
       "<IPython.core.display.Javascript object>"
      ]
     },
     "metadata": {},
     "output_type": "display_data"
    }
   ],
   "source": [
    "%watermark -n -u -v -iv -w"
   ]
  },
  {
   "cell_type": "code",
   "execution_count": 13,
   "id": "hispanic-reserve",
   "metadata": {
    "ExecuteTime": {
     "end_time": "2021-02-18T16:20:40.577331Z",
     "start_time": "2021-02-18T16:20:39.466238Z"
    }
   },
   "outputs": [
    {
     "name": "stdout",
     "output_type": "stream",
     "text": [
      "# Name                    Version                   Build  Channel\n",
      "arviz                     0.11.1                   pypi_0    pypi\n",
      "matplotlib                3.3.4                    pypi_0    pypi\n",
      "numpy                     1.20.1                   pypi_0    pypi\n",
      "pandas                    1.2.1                    pypi_0    pypi\n",
      "pymc3                     3.11.0                   pypi_0    pypi\n",
      "scipy                     1.6.0                    pypi_0    pypi\n",
      "seaborn                   0.11.1                   pypi_0    pypi\n"
     ]
    },
    {
     "data": {
      "application/javascript": [
       "\n",
       "            setTimeout(function() {\n",
       "                var nbb_cell_id = 13;\n",
       "                var nbb_unformatted_code = \"# Custom scripts to show packages and versions in this notebook\\ndef imports():\\n    import types\\n\\n    for name, val in globals().items():\\n        if isinstance(val, types.ModuleType):\\n            yield val.__name__\\n\\n\\nimported_packages = list(imports())\\n\\nfrom active_pkg import show_pkg_vers_in_nb\\n\\nshow_pkg_vers_in_nb(imported_packages)\";\n",
       "                var nbb_formatted_code = \"# Custom scripts to show packages and versions in this notebook\\ndef imports():\\n    import types\\n\\n    for name, val in globals().items():\\n        if isinstance(val, types.ModuleType):\\n            yield val.__name__\\n\\n\\nimported_packages = list(imports())\\n\\nfrom active_pkg import show_pkg_vers_in_nb\\n\\nshow_pkg_vers_in_nb(imported_packages)\";\n",
       "                var nbb_cells = Jupyter.notebook.get_cells();\n",
       "                for (var i = 0; i < nbb_cells.length; ++i) {\n",
       "                    if (nbb_cells[i].input_prompt_number == nbb_cell_id) {\n",
       "                        if (nbb_cells[i].get_text() == nbb_unformatted_code) {\n",
       "                             nbb_cells[i].set_text(nbb_formatted_code);\n",
       "                        }\n",
       "                        break;\n",
       "                    }\n",
       "                }\n",
       "            }, 500);\n",
       "            "
      ],
      "text/plain": [
       "<IPython.core.display.Javascript object>"
      ]
     },
     "metadata": {},
     "output_type": "display_data"
    }
   ],
   "source": [
    "# Custom scripts to show packages and versions in this notebook\n",
    "def imports():\n",
    "    import types\n",
    "\n",
    "    for name, val in globals().items():\n",
    "        if isinstance(val, types.ModuleType):\n",
    "            yield val.__name__\n",
    "\n",
    "\n",
    "imported_packages = list(imports())\n",
    "\n",
    "from active_pkg import show_pkg_vers_in_nb\n",
    "\n",
    "show_pkg_vers_in_nb(imported_packages)"
   ]
  },
  {
   "cell_type": "code",
   "execution_count": null,
   "id": "instructional-transportation",
   "metadata": {},
   "outputs": [],
   "source": []
  }
 ],
 "metadata": {
  "kernelspec": {
   "display_name": "Python 3",
   "language": "python",
   "name": "python3"
  },
  "language_info": {
   "codemirror_mode": {
    "name": "ipython",
    "version": 3
   },
   "file_extension": ".py",
   "mimetype": "text/x-python",
   "name": "python",
   "nbconvert_exporter": "python",
   "pygments_lexer": "ipython3",
   "version": "3.8.6"
  },
  "latex_envs": {
   "LaTeX_envs_menu_present": true,
   "autoclose": false,
   "autocomplete": true,
   "bibliofile": "biblio.bib",
   "cite_by": "apalike",
   "current_citInitial": 1,
   "eqLabelWithNumbers": true,
   "eqNumInitial": 1,
   "hotkeys": {
    "equation": "Ctrl-E",
    "itemize": "Ctrl-I"
   },
   "labels_anchors": false,
   "latex_user_defs": false,
   "report_style_numbering": false,
   "user_envs_cfg": false
  },
  "toc": {
   "base_numbering": 1,
   "nav_menu": {},
   "number_sections": true,
   "sideBar": true,
   "skip_h1_title": false,
   "title_cell": "Table of Contents",
   "title_sidebar": "Contents",
   "toc_cell": false,
   "toc_position": {
    "height": "calc(100% - 180px)",
    "left": "10px",
    "top": "150px",
    "width": "212.4px"
   },
   "toc_section_display": true,
   "toc_window_display": true
  },
  "varInspector": {
   "cols": {
    "lenName": 16,
    "lenType": 16,
    "lenVar": 40
   },
   "kernels_config": {
    "python": {
     "delete_cmd_postfix": "",
     "delete_cmd_prefix": "del ",
     "library": "var_list.py",
     "varRefreshCmd": "print(var_dic_list())"
    },
    "r": {
     "delete_cmd_postfix": ") ",
     "delete_cmd_prefix": "rm(",
     "library": "var_list.r",
     "varRefreshCmd": "cat(var_dic_list()) "
    }
   },
   "types_to_exclude": [
    "module",
    "function",
    "builtin_function_or_method",
    "instance",
    "_Feature"
   ],
   "window_display": false
  }
 },
 "nbformat": 4,
 "nbformat_minor": 5
}
