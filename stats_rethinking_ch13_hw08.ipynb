{
 "cells": [
  {
   "cell_type": "markdown",
   "id": "thirty-zambia",
   "metadata": {},
   "source": [
    "This is for Chapter 13 and Week 8 homework from [Winter 2020 of Statistical Rethinking](https://github.com/rmcelreath/stat_rethinking_2020/tree/main/homework) using Python. A public repo using `pmyc3` has been created [here](https://github.com/pymc-devs/resources/tree/master/Rethinking_2) that also uses Python."
   ]
  },
  {
   "cell_type": "code",
   "execution_count": 1,
   "id": "neural-bachelor",
   "metadata": {
    "ExecuteTime": {
     "end_time": "2021-07-29T17:56:43.358434Z",
     "start_time": "2021-07-29T17:56:37.307310Z"
    }
   },
   "outputs": [],
   "source": [
    "import arviz as az\n",
    "import matplotlib.pyplot as plt\n",
    "import numpy as np\n",
    "import os\n",
    "import pandas as pd\n",
    "import pymc3 as pm\n",
    "import scipy.stats as stats\n",
    "import seaborn as sns\n",
    "from scipy.special import expit as logistic\n",
    "import daft\n",
    "from causalgraphicalmodels import CausalGraphicalModel\n",
    "\n",
    "from scipy.optimize import curve_fit"
   ]
  },
  {
   "cell_type": "code",
   "execution_count": 2,
   "id": "municipal-casino",
   "metadata": {
    "ExecuteTime": {
     "end_time": "2021-07-29T17:56:44.263887Z",
     "start_time": "2021-07-29T17:56:44.136106Z"
    }
   },
   "outputs": [
    {
     "data": {
      "application/javascript": [
       "\n",
       "            setTimeout(function() {\n",
       "                var nbb_cell_id = 2;\n",
       "                var nbb_unformatted_code = \"%load_ext nb_black\\n%config InlineBackend.figure_format = 'retina'\\n%load_ext watermark\\nRANDOM_SEED = 8927\\nnp.random.seed(RANDOM_SEED)\\naz.style.use(\\\"arviz-darkgrid\\\")\\naz.rcParams[\\\"stats.hdi_prob\\\"] = 0.89  # sets default credible interval used by arviz\";\n",
       "                var nbb_formatted_code = \"%load_ext nb_black\\n%config InlineBackend.figure_format = 'retina'\\n%load_ext watermark\\nRANDOM_SEED = 8927\\nnp.random.seed(RANDOM_SEED)\\naz.style.use(\\\"arviz-darkgrid\\\")\\naz.rcParams[\\\"stats.hdi_prob\\\"] = 0.89  # sets default credible interval used by arviz\";\n",
       "                var nbb_cells = Jupyter.notebook.get_cells();\n",
       "                for (var i = 0; i < nbb_cells.length; ++i) {\n",
       "                    if (nbb_cells[i].input_prompt_number == nbb_cell_id) {\n",
       "                        if (nbb_cells[i].get_text() == nbb_unformatted_code) {\n",
       "                             nbb_cells[i].set_text(nbb_formatted_code);\n",
       "                        }\n",
       "                        break;\n",
       "                    }\n",
       "                }\n",
       "            }, 500);\n",
       "            "
      ],
      "text/plain": [
       "<IPython.core.display.Javascript object>"
      ]
     },
     "metadata": {},
     "output_type": "display_data"
    }
   ],
   "source": [
    "%load_ext nb_black\n",
    "%config InlineBackend.figure_format = 'retina'\n",
    "%load_ext watermark\n",
    "RANDOM_SEED = 8927\n",
    "np.random.seed(RANDOM_SEED)\n",
    "az.style.use(\"arviz-darkgrid\")\n",
    "az.rcParams[\"stats.hdi_prob\"] = 0.89  # sets default credible interval used by arviz"
   ]
  },
  {
   "cell_type": "code",
   "execution_count": 3,
   "id": "martial-effect",
   "metadata": {
    "ExecuteTime": {
     "end_time": "2021-07-29T17:56:44.423141Z",
     "start_time": "2021-07-29T17:56:44.419384Z"
    }
   },
   "outputs": [
    {
     "data": {
      "application/javascript": [
       "\n",
       "            setTimeout(function() {\n",
       "                var nbb_cell_id = 3;\n",
       "                var nbb_unformatted_code = \"sns.set_context(\\\"talk\\\")\";\n",
       "                var nbb_formatted_code = \"sns.set_context(\\\"talk\\\")\";\n",
       "                var nbb_cells = Jupyter.notebook.get_cells();\n",
       "                for (var i = 0; i < nbb_cells.length; ++i) {\n",
       "                    if (nbb_cells[i].input_prompt_number == nbb_cell_id) {\n",
       "                        if (nbb_cells[i].get_text() == nbb_unformatted_code) {\n",
       "                             nbb_cells[i].set_text(nbb_formatted_code);\n",
       "                        }\n",
       "                        break;\n",
       "                    }\n",
       "                }\n",
       "            }, 500);\n",
       "            "
      ],
      "text/plain": [
       "<IPython.core.display.Javascript object>"
      ]
     },
     "metadata": {},
     "output_type": "display_data"
    }
   ],
   "source": [
    "sns.set_context(\"talk\")"
   ]
  },
  {
   "cell_type": "code",
   "execution_count": 4,
   "id": "aa9acb00",
   "metadata": {
    "ExecuteTime": {
     "end_time": "2021-07-29T17:56:44.844003Z",
     "start_time": "2021-07-29T17:56:44.838382Z"
    }
   },
   "outputs": [
    {
     "data": {
      "application/javascript": [
       "\n",
       "            setTimeout(function() {\n",
       "                var nbb_cell_id = 4;\n",
       "                var nbb_unformatted_code = \"def standardize(x):\\n    x = (x - np.mean(x)) / np.std(x)\\n    return x\";\n",
       "                var nbb_formatted_code = \"def standardize(x):\\n    x = (x - np.mean(x)) / np.std(x)\\n    return x\";\n",
       "                var nbb_cells = Jupyter.notebook.get_cells();\n",
       "                for (var i = 0; i < nbb_cells.length; ++i) {\n",
       "                    if (nbb_cells[i].input_prompt_number == nbb_cell_id) {\n",
       "                        if (nbb_cells[i].get_text() == nbb_unformatted_code) {\n",
       "                             nbb_cells[i].set_text(nbb_formatted_code);\n",
       "                        }\n",
       "                        break;\n",
       "                    }\n",
       "                }\n",
       "            }, 500);\n",
       "            "
      ],
      "text/plain": [
       "<IPython.core.display.Javascript object>"
      ]
     },
     "metadata": {},
     "output_type": "display_data"
    }
   ],
   "source": [
    "def standardize(x):\n",
    "    x = (x - np.mean(x)) / np.std(x)\n",
    "    return x"
   ]
  },
  {
   "cell_type": "markdown",
   "id": "occupied-jonathan",
   "metadata": {},
   "source": [
    "# Question 1 (13H4)\n",
    "\n",
    "Revisit the Reed frog survival data, `data(reedfrogs)`, and add the `predation` and `size` treatment variables to the varying intercepts model. Consider models with either predictor alone, both predictors, as well as a model including their interaction. What do you infer about the causal influence of these predictor variables? Also focus on the inferred variation across tanks (the σ across tanks). Explain why it changes as it does across models with different predictors included."
   ]
  },
  {
   "cell_type": "markdown",
   "id": "e5ebf1cf",
   "metadata": {},
   "source": [
    "## Data exploration and setup"
   ]
  },
  {
   "cell_type": "code",
   "execution_count": 6,
   "id": "7f49e286",
   "metadata": {
    "ExecuteTime": {
     "end_time": "2021-07-30T22:06:04.682797Z",
     "start_time": "2021-07-30T22:06:04.669781Z"
    }
   },
   "outputs": [
    {
     "data": {
      "text/html": [
       "<div>\n",
       "<style scoped>\n",
       "    .dataframe tbody tr th:only-of-type {\n",
       "        vertical-align: middle;\n",
       "    }\n",
       "\n",
       "    .dataframe tbody tr th {\n",
       "        vertical-align: top;\n",
       "    }\n",
       "\n",
       "    .dataframe thead th {\n",
       "        text-align: right;\n",
       "    }\n",
       "</style>\n",
       "<table border=\"1\" class=\"dataframe\">\n",
       "  <thead>\n",
       "    <tr style=\"text-align: right;\">\n",
       "      <th></th>\n",
       "      <th>density</th>\n",
       "      <th>pred</th>\n",
       "      <th>size</th>\n",
       "      <th>surv</th>\n",
       "      <th>propsurv</th>\n",
       "    </tr>\n",
       "  </thead>\n",
       "  <tbody>\n",
       "    <tr>\n",
       "      <th>0</th>\n",
       "      <td>10</td>\n",
       "      <td>no</td>\n",
       "      <td>big</td>\n",
       "      <td>9</td>\n",
       "      <td>0.9</td>\n",
       "    </tr>\n",
       "    <tr>\n",
       "      <th>1</th>\n",
       "      <td>10</td>\n",
       "      <td>no</td>\n",
       "      <td>big</td>\n",
       "      <td>10</td>\n",
       "      <td>1.0</td>\n",
       "    </tr>\n",
       "    <tr>\n",
       "      <th>2</th>\n",
       "      <td>10</td>\n",
       "      <td>no</td>\n",
       "      <td>big</td>\n",
       "      <td>7</td>\n",
       "      <td>0.7</td>\n",
       "    </tr>\n",
       "    <tr>\n",
       "      <th>3</th>\n",
       "      <td>10</td>\n",
       "      <td>no</td>\n",
       "      <td>big</td>\n",
       "      <td>10</td>\n",
       "      <td>1.0</td>\n",
       "    </tr>\n",
       "    <tr>\n",
       "      <th>4</th>\n",
       "      <td>10</td>\n",
       "      <td>no</td>\n",
       "      <td>small</td>\n",
       "      <td>9</td>\n",
       "      <td>0.9</td>\n",
       "    </tr>\n",
       "  </tbody>\n",
       "</table>\n",
       "</div>"
      ],
      "text/plain": [
       "   density pred   size  surv  propsurv\n",
       "0       10   no    big     9       0.9\n",
       "1       10   no    big    10       1.0\n",
       "2       10   no    big     7       0.7\n",
       "3       10   no    big    10       1.0\n",
       "4       10   no  small     9       0.9"
      ]
     },
     "execution_count": 6,
     "metadata": {},
     "output_type": "execute_result"
    },
    {
     "data": {
      "application/javascript": [
       "\n",
       "            setTimeout(function() {\n",
       "                var nbb_cell_id = 6;\n",
       "                var nbb_unformatted_code = \"df_frogs = pd.read_csv(\\n    \\\"../pymc3_ed_resources/resources/Rethinking_2/Data/reedfrogs.csv\\\",\\n    delimiter=\\\",\\\",\\n)\\ndf_frogs.head()\";\n",
       "                var nbb_formatted_code = \"df_frogs = pd.read_csv(\\n    \\\"../pymc3_ed_resources/resources/Rethinking_2/Data/reedfrogs.csv\\\",\\n    delimiter=\\\",\\\",\\n)\\ndf_frogs.head()\";\n",
       "                var nbb_cells = Jupyter.notebook.get_cells();\n",
       "                for (var i = 0; i < nbb_cells.length; ++i) {\n",
       "                    if (nbb_cells[i].input_prompt_number == nbb_cell_id) {\n",
       "                        if (nbb_cells[i].get_text() == nbb_unformatted_code) {\n",
       "                             nbb_cells[i].set_text(nbb_formatted_code);\n",
       "                        }\n",
       "                        break;\n",
       "                    }\n",
       "                }\n",
       "            }, 500);\n",
       "            "
      ],
      "text/plain": [
       "<IPython.core.display.Javascript object>"
      ]
     },
     "metadata": {},
     "output_type": "display_data"
    }
   ],
   "source": [
    "df_frogs = pd.read_csv(\n",
    "    \"../pymc3_ed_resources/resources/Rethinking_2/Data/reedfrogs.csv\",\n",
    "    delimiter=\",\",\n",
    ")\n",
    "df_frogs.head()"
   ]
  },
  {
   "cell_type": "code",
   "execution_count": 7,
   "id": "solid-grove",
   "metadata": {
    "ExecuteTime": {
     "end_time": "2021-07-30T22:06:13.034870Z",
     "start_time": "2021-07-30T22:06:13.029102Z"
    }
   },
   "outputs": [
    {
     "name": "stdout",
     "output_type": "stream",
     "text": [
      "shape of df:  (48, 5)\n"
     ]
    },
    {
     "data": {
      "application/javascript": [
       "\n",
       "            setTimeout(function() {\n",
       "                var nbb_cell_id = 7;\n",
       "                var nbb_unformatted_code = \"print(\\\"shape of df: \\\", df_frogs.shape)\";\n",
       "                var nbb_formatted_code = \"print(\\\"shape of df: \\\", df_frogs.shape)\";\n",
       "                var nbb_cells = Jupyter.notebook.get_cells();\n",
       "                for (var i = 0; i < nbb_cells.length; ++i) {\n",
       "                    if (nbb_cells[i].input_prompt_number == nbb_cell_id) {\n",
       "                        if (nbb_cells[i].get_text() == nbb_unformatted_code) {\n",
       "                             nbb_cells[i].set_text(nbb_formatted_code);\n",
       "                        }\n",
       "                        break;\n",
       "                    }\n",
       "                }\n",
       "            }, 500);\n",
       "            "
      ],
      "text/plain": [
       "<IPython.core.display.Javascript object>"
      ]
     },
     "metadata": {},
     "output_type": "display_data"
    }
   ],
   "source": [
    "print(\"shape of df: \", df_frogs.shape)"
   ]
  },
  {
   "cell_type": "markdown",
   "id": "2abb06eb",
   "metadata": {},
   "source": [
    "## Setup code from book chapter"
   ]
  },
  {
   "cell_type": "markdown",
   "id": "bd8f7c0c",
   "metadata": {},
   "source": [
    "**Model 13.2 equation**: the varying intercepts model.\n",
    "\n",
    "$$S_i \\text{ ~ } \\text{Binomial}(N_i,p_i)$$\n",
    "\n",
    "$$\\text{logit}(p_i) = \\alpha_{\\text{TANK}[i]}$$\n",
    "\n",
    "$$\\alpha_j \\text{ ~ } \\text{Normal}(\\bar{\\alpha}, \\sigma) \\tag{adaptive prior}$$\n",
    "\n",
    "$$\\bar{\\alpha} \\text{ ~ } \\text{Normal}(0, 1.5) \\tag{prior for average tank}$$\n",
    "\n",
    "$$\\sigma \\text{ ~ } \\text{Exponential}(1) \\tag{prior for standard deviation of tanks}$$"
   ]
  },
  {
   "cell_type": "code",
   "execution_count": 13,
   "id": "4444d6da",
   "metadata": {
    "ExecuteTime": {
     "end_time": "2021-07-30T22:52:24.989266Z",
     "start_time": "2021-07-30T22:52:24.982413Z"
    }
   },
   "outputs": [
    {
     "data": {
      "application/javascript": [
       "\n",
       "            setTimeout(function() {\n",
       "                var nbb_cell_id = 13;\n",
       "                var nbb_unformatted_code = \"# make the tank cluster variable\\ntank = np.arange(df_frogs.shape[0])\\nn_tanks = df_frogs.shape[0]\";\n",
       "                var nbb_formatted_code = \"# make the tank cluster variable\\ntank = np.arange(df_frogs.shape[0])\\nn_tanks = df_frogs.shape[0]\";\n",
       "                var nbb_cells = Jupyter.notebook.get_cells();\n",
       "                for (var i = 0; i < nbb_cells.length; ++i) {\n",
       "                    if (nbb_cells[i].input_prompt_number == nbb_cell_id) {\n",
       "                        if (nbb_cells[i].get_text() == nbb_unformatted_code) {\n",
       "                             nbb_cells[i].set_text(nbb_formatted_code);\n",
       "                        }\n",
       "                        break;\n",
       "                    }\n",
       "                }\n",
       "            }, 500);\n",
       "            "
      ],
      "text/plain": [
       "<IPython.core.display.Javascript object>"
      ]
     },
     "metadata": {},
     "output_type": "display_data"
    }
   ],
   "source": [
    "# make the tank cluster variable\n",
    "tank = np.arange(df_frogs.shape[0])\n",
    "n_tanks = df_frogs.shape[0]"
   ]
  },
  {
   "cell_type": "code",
   "execution_count": 16,
   "id": "780fc9ef",
   "metadata": {
    "ExecuteTime": {
     "end_time": "2021-07-30T22:54:06.864252Z",
     "start_time": "2021-07-30T22:52:58.674857Z"
    }
   },
   "outputs": [
    {
     "name": "stderr",
     "output_type": "stream",
     "text": [
      "Auto-assigning NUTS sampler...\n",
      "Initializing NUTS using jitter+adapt_diag...\n",
      "Multiprocess sampling (4 chains in 4 jobs)\n",
      "NUTS: [a, sigma, a_bar]\n"
     ]
    },
    {
     "data": {
      "text/html": [
       "\n",
       "    <div>\n",
       "        <style>\n",
       "            /* Turns off some styling */\n",
       "            progress {\n",
       "                /* gets rid of default border in Firefox and Opera. */\n",
       "                border: none;\n",
       "                /* Needs to be in here for Safari polyfill so background images work as expected. */\n",
       "                background-size: auto;\n",
       "            }\n",
       "            .progress-bar-interrupted, .progress-bar-interrupted::-webkit-progress-bar {\n",
       "                background: #F44336;\n",
       "            }\n",
       "        </style>\n",
       "      <progress value='8000' class='' max='8000' style='width:300px; height:20px; vertical-align: middle;'></progress>\n",
       "      100.00% [8000/8000 00:03<00:00 Sampling 4 chains, 0 divergences]\n",
       "    </div>\n",
       "    "
      ],
      "text/plain": [
       "<IPython.core.display.HTML object>"
      ]
     },
     "metadata": {},
     "output_type": "display_data"
    },
    {
     "name": "stderr",
     "output_type": "stream",
     "text": [
      "Sampling 4 chains for 1_000 tune and 1_000 draw iterations (4_000 + 4_000 draws total) took 20 seconds.\n"
     ]
    },
    {
     "data": {
      "application/javascript": [
       "\n",
       "            setTimeout(function() {\n",
       "                var nbb_cell_id = 16;\n",
       "                var nbb_unformatted_code = \"# modified from repo\\nwith pm.Model() as m_13_2:\\n    # adaptive prior\\n    a_bar = pm.Normal(\\\"a_bar\\\", 0.0, 1.5)\\n\\n    # prior for SD of tanks\\n    sigma = pm.Exponential(\\\"sigma\\\", 1.0)\\n\\n    # adaptive prior\\n    a = pm.Normal(\\\"a\\\", a_bar, sigma, shape=n_tanks)\\n\\n    p = pm.math.invlogit(a[tank])\\n\\n    S = pm.Binomial(\\\"S\\\", n=df_frogs[\\\"density\\\"], p=p, observed=df_frogs[\\\"surv\\\"])\\n\\n    trace_13_2 = pm.sample(draws=1000, random_seed=19, return_inferencedata=True)\";\n",
       "                var nbb_formatted_code = \"# modified from repo\\nwith pm.Model() as m_13_2:\\n    # adaptive prior\\n    a_bar = pm.Normal(\\\"a_bar\\\", 0.0, 1.5)\\n\\n    # prior for SD of tanks\\n    sigma = pm.Exponential(\\\"sigma\\\", 1.0)\\n\\n    # adaptive prior\\n    a = pm.Normal(\\\"a\\\", a_bar, sigma, shape=n_tanks)\\n\\n    p = pm.math.invlogit(a[tank])\\n\\n    S = pm.Binomial(\\\"S\\\", n=df_frogs[\\\"density\\\"], p=p, observed=df_frogs[\\\"surv\\\"])\\n\\n    trace_13_2 = pm.sample(draws=1000, random_seed=19, return_inferencedata=True)\";\n",
       "                var nbb_cells = Jupyter.notebook.get_cells();\n",
       "                for (var i = 0; i < nbb_cells.length; ++i) {\n",
       "                    if (nbb_cells[i].input_prompt_number == nbb_cell_id) {\n",
       "                        if (nbb_cells[i].get_text() == nbb_unformatted_code) {\n",
       "                             nbb_cells[i].set_text(nbb_formatted_code);\n",
       "                        }\n",
       "                        break;\n",
       "                    }\n",
       "                }\n",
       "            }, 500);\n",
       "            "
      ],
      "text/plain": [
       "<IPython.core.display.Javascript object>"
      ]
     },
     "metadata": {},
     "output_type": "display_data"
    }
   ],
   "source": [
    "# modified from repo\n",
    "with pm.Model() as m_13_2:\n",
    "    # adaptive prior\n",
    "    a_bar = pm.Normal(\"a_bar\", 0.0, 1.5)\n",
    "\n",
    "    # prior for SD of tanks\n",
    "    sigma = pm.Exponential(\"sigma\", 1.0)\n",
    "\n",
    "    # adaptive prior\n",
    "    a = pm.Normal(\"a\", a_bar, sigma, shape=n_tanks)\n",
    "\n",
    "    p = pm.math.invlogit(a[tank])\n",
    "\n",
    "    S = pm.Binomial(\"S\", n=df_frogs[\"density\"], p=p, observed=df_frogs[\"surv\"])\n",
    "\n",
    "    trace_13_2 = pm.sample(draws=1000, random_seed=19, return_inferencedata=True)"
   ]
  },
  {
   "cell_type": "code",
   "execution_count": 18,
   "id": "e5a5e22e",
   "metadata": {
    "ExecuteTime": {
     "end_time": "2021-07-30T22:55:05.655293Z",
     "start_time": "2021-07-30T22:55:05.282491Z"
    }
   },
   "outputs": [
    {
     "data": {
      "text/html": [
       "<div>\n",
       "<style scoped>\n",
       "    .dataframe tbody tr th:only-of-type {\n",
       "        vertical-align: middle;\n",
       "    }\n",
       "\n",
       "    .dataframe tbody tr th {\n",
       "        vertical-align: top;\n",
       "    }\n",
       "\n",
       "    .dataframe thead th {\n",
       "        text-align: right;\n",
       "    }\n",
       "</style>\n",
       "<table border=\"1\" class=\"dataframe\">\n",
       "  <thead>\n",
       "    <tr style=\"text-align: right;\">\n",
       "      <th></th>\n",
       "      <th>mean</th>\n",
       "      <th>sd</th>\n",
       "      <th>hdi_5.5%</th>\n",
       "      <th>hdi_94.5%</th>\n",
       "      <th>mcse_mean</th>\n",
       "      <th>mcse_sd</th>\n",
       "      <th>ess_mean</th>\n",
       "      <th>ess_sd</th>\n",
       "      <th>ess_bulk</th>\n",
       "      <th>ess_tail</th>\n",
       "      <th>r_hat</th>\n",
       "    </tr>\n",
       "  </thead>\n",
       "  <tbody>\n",
       "    <tr>\n",
       "      <th>a_bar</th>\n",
       "      <td>1.352</td>\n",
       "      <td>0.254</td>\n",
       "      <td>0.952</td>\n",
       "      <td>1.758</td>\n",
       "      <td>0.003</td>\n",
       "      <td>0.002</td>\n",
       "      <td>5715.665</td>\n",
       "      <td>5470.315</td>\n",
       "      <td>5711.172</td>\n",
       "      <td>3386.714</td>\n",
       "      <td>0.999</td>\n",
       "    </tr>\n",
       "    <tr>\n",
       "      <th>a[0]</th>\n",
       "      <td>2.139</td>\n",
       "      <td>0.882</td>\n",
       "      <td>0.816</td>\n",
       "      <td>3.580</td>\n",
       "      <td>0.011</td>\n",
       "      <td>0.010</td>\n",
       "      <td>6662.886</td>\n",
       "      <td>4232.009</td>\n",
       "      <td>7503.335</td>\n",
       "      <td>3125.399</td>\n",
       "      <td>1.000</td>\n",
       "    </tr>\n",
       "    <tr>\n",
       "      <th>a[1]</th>\n",
       "      <td>3.112</td>\n",
       "      <td>1.137</td>\n",
       "      <td>1.318</td>\n",
       "      <td>4.841</td>\n",
       "      <td>0.015</td>\n",
       "      <td>0.012</td>\n",
       "      <td>5957.781</td>\n",
       "      <td>4310.665</td>\n",
       "      <td>6777.537</td>\n",
       "      <td>3037.606</td>\n",
       "      <td>1.001</td>\n",
       "    </tr>\n",
       "    <tr>\n",
       "      <th>a[2]</th>\n",
       "      <td>1.005</td>\n",
       "      <td>0.679</td>\n",
       "      <td>-0.101</td>\n",
       "      <td>2.018</td>\n",
       "      <td>0.008</td>\n",
       "      <td>0.007</td>\n",
       "      <td>7801.412</td>\n",
       "      <td>4315.975</td>\n",
       "      <td>7989.760</td>\n",
       "      <td>3004.607</td>\n",
       "      <td>1.000</td>\n",
       "    </tr>\n",
       "    <tr>\n",
       "      <th>a[3]</th>\n",
       "      <td>3.092</td>\n",
       "      <td>1.126</td>\n",
       "      <td>1.254</td>\n",
       "      <td>4.744</td>\n",
       "      <td>0.015</td>\n",
       "      <td>0.012</td>\n",
       "      <td>5809.783</td>\n",
       "      <td>4096.342</td>\n",
       "      <td>6746.887</td>\n",
       "      <td>2344.202</td>\n",
       "      <td>1.000</td>\n",
       "    </tr>\n",
       "    <tr>\n",
       "      <th>a[4]</th>\n",
       "      <td>2.145</td>\n",
       "      <td>0.876</td>\n",
       "      <td>0.790</td>\n",
       "      <td>3.528</td>\n",
       "      <td>0.011</td>\n",
       "      <td>0.009</td>\n",
       "      <td>6883.972</td>\n",
       "      <td>4502.372</td>\n",
       "      <td>7969.451</td>\n",
       "      <td>3021.223</td>\n",
       "      <td>1.002</td>\n",
       "    </tr>\n",
       "    <tr>\n",
       "      <th>a[5]</th>\n",
       "      <td>2.131</td>\n",
       "      <td>0.898</td>\n",
       "      <td>0.768</td>\n",
       "      <td>3.527</td>\n",
       "      <td>0.011</td>\n",
       "      <td>0.010</td>\n",
       "      <td>6615.501</td>\n",
       "      <td>3982.368</td>\n",
       "      <td>7701.853</td>\n",
       "      <td>2687.314</td>\n",
       "      <td>1.001</td>\n",
       "    </tr>\n",
       "    <tr>\n",
       "      <th>a[6]</th>\n",
       "      <td>3.073</td>\n",
       "      <td>1.078</td>\n",
       "      <td>1.304</td>\n",
       "      <td>4.697</td>\n",
       "      <td>0.015</td>\n",
       "      <td>0.013</td>\n",
       "      <td>4981.800</td>\n",
       "      <td>3476.427</td>\n",
       "      <td>5834.499</td>\n",
       "      <td>2545.804</td>\n",
       "      <td>1.004</td>\n",
       "    </tr>\n",
       "    <tr>\n",
       "      <th>a[7]</th>\n",
       "      <td>2.131</td>\n",
       "      <td>0.840</td>\n",
       "      <td>0.741</td>\n",
       "      <td>3.382</td>\n",
       "      <td>0.011</td>\n",
       "      <td>0.009</td>\n",
       "      <td>6043.148</td>\n",
       "      <td>4222.362</td>\n",
       "      <td>6739.969</td>\n",
       "      <td>2994.378</td>\n",
       "      <td>1.000</td>\n",
       "    </tr>\n",
       "    <tr>\n",
       "      <th>a[8]</th>\n",
       "      <td>-0.165</td>\n",
       "      <td>0.623</td>\n",
       "      <td>-1.175</td>\n",
       "      <td>0.823</td>\n",
       "      <td>0.007</td>\n",
       "      <td>0.010</td>\n",
       "      <td>8418.216</td>\n",
       "      <td>1779.258</td>\n",
       "      <td>8466.938</td>\n",
       "      <td>2807.689</td>\n",
       "      <td>1.002</td>\n",
       "    </tr>\n",
       "    <tr>\n",
       "      <th>a[9]</th>\n",
       "      <td>2.145</td>\n",
       "      <td>0.896</td>\n",
       "      <td>0.655</td>\n",
       "      <td>3.424</td>\n",
       "      <td>0.011</td>\n",
       "      <td>0.010</td>\n",
       "      <td>6316.129</td>\n",
       "      <td>4116.964</td>\n",
       "      <td>7136.755</td>\n",
       "      <td>2763.653</td>\n",
       "      <td>1.000</td>\n",
       "    </tr>\n",
       "    <tr>\n",
       "      <th>a[10]</th>\n",
       "      <td>0.999</td>\n",
       "      <td>0.663</td>\n",
       "      <td>-0.045</td>\n",
       "      <td>2.016</td>\n",
       "      <td>0.007</td>\n",
       "      <td>0.008</td>\n",
       "      <td>8079.857</td>\n",
       "      <td>3489.991</td>\n",
       "      <td>8570.412</td>\n",
       "      <td>3042.798</td>\n",
       "      <td>1.000</td>\n",
       "    </tr>\n",
       "    <tr>\n",
       "      <th>a[11]</th>\n",
       "      <td>0.580</td>\n",
       "      <td>0.621</td>\n",
       "      <td>-0.453</td>\n",
       "      <td>1.501</td>\n",
       "      <td>0.007</td>\n",
       "      <td>0.008</td>\n",
       "      <td>8965.098</td>\n",
       "      <td>3158.998</td>\n",
       "      <td>9035.174</td>\n",
       "      <td>2786.312</td>\n",
       "      <td>1.000</td>\n",
       "    </tr>\n",
       "    <tr>\n",
       "      <th>a[12]</th>\n",
       "      <td>0.991</td>\n",
       "      <td>0.648</td>\n",
       "      <td>-0.016</td>\n",
       "      <td>2.015</td>\n",
       "      <td>0.008</td>\n",
       "      <td>0.007</td>\n",
       "      <td>7075.675</td>\n",
       "      <td>3811.141</td>\n",
       "      <td>7382.376</td>\n",
       "      <td>2768.892</td>\n",
       "      <td>1.002</td>\n",
       "    </tr>\n",
       "    <tr>\n",
       "      <th>a[13]</th>\n",
       "      <td>0.197</td>\n",
       "      <td>0.627</td>\n",
       "      <td>-0.810</td>\n",
       "      <td>1.167</td>\n",
       "      <td>0.007</td>\n",
       "      <td>0.010</td>\n",
       "      <td>8255.152</td>\n",
       "      <td>1854.707</td>\n",
       "      <td>8264.970</td>\n",
       "      <td>2984.890</td>\n",
       "      <td>1.001</td>\n",
       "    </tr>\n",
       "    <tr>\n",
       "      <th>a[14]</th>\n",
       "      <td>2.144</td>\n",
       "      <td>0.870</td>\n",
       "      <td>0.803</td>\n",
       "      <td>3.473</td>\n",
       "      <td>0.011</td>\n",
       "      <td>0.009</td>\n",
       "      <td>6433.667</td>\n",
       "      <td>4413.496</td>\n",
       "      <td>7393.017</td>\n",
       "      <td>3027.149</td>\n",
       "      <td>1.002</td>\n",
       "    </tr>\n",
       "    <tr>\n",
       "      <th>a[15]</th>\n",
       "      <td>2.126</td>\n",
       "      <td>0.867</td>\n",
       "      <td>0.841</td>\n",
       "      <td>3.554</td>\n",
       "      <td>0.009</td>\n",
       "      <td>0.009</td>\n",
       "      <td>8406.236</td>\n",
       "      <td>5043.598</td>\n",
       "      <td>9447.075</td>\n",
       "      <td>2853.811</td>\n",
       "      <td>1.001</td>\n",
       "    </tr>\n",
       "    <tr>\n",
       "      <th>a[16]</th>\n",
       "      <td>2.913</td>\n",
       "      <td>0.814</td>\n",
       "      <td>1.618</td>\n",
       "      <td>4.198</td>\n",
       "      <td>0.011</td>\n",
       "      <td>0.009</td>\n",
       "      <td>5990.874</td>\n",
       "      <td>4492.372</td>\n",
       "      <td>6902.813</td>\n",
       "      <td>2616.349</td>\n",
       "      <td>1.001</td>\n",
       "    </tr>\n",
       "    <tr>\n",
       "      <th>a[17]</th>\n",
       "      <td>2.409</td>\n",
       "      <td>0.698</td>\n",
       "      <td>1.257</td>\n",
       "      <td>3.436</td>\n",
       "      <td>0.009</td>\n",
       "      <td>0.007</td>\n",
       "      <td>6429.586</td>\n",
       "      <td>4552.191</td>\n",
       "      <td>7429.661</td>\n",
       "      <td>2585.443</td>\n",
       "      <td>1.003</td>\n",
       "    </tr>\n",
       "    <tr>\n",
       "      <th>a[18]</th>\n",
       "      <td>2.020</td>\n",
       "      <td>0.609</td>\n",
       "      <td>1.111</td>\n",
       "      <td>3.034</td>\n",
       "      <td>0.007</td>\n",
       "      <td>0.006</td>\n",
       "      <td>7586.520</td>\n",
       "      <td>5505.881</td>\n",
       "      <td>8355.449</td>\n",
       "      <td>2875.831</td>\n",
       "      <td>1.000</td>\n",
       "    </tr>\n",
       "    <tr>\n",
       "      <th>a[19]</th>\n",
       "      <td>3.674</td>\n",
       "      <td>1.007</td>\n",
       "      <td>2.082</td>\n",
       "      <td>5.211</td>\n",
       "      <td>0.014</td>\n",
       "      <td>0.011</td>\n",
       "      <td>5319.405</td>\n",
       "      <td>4167.531</td>\n",
       "      <td>6189.045</td>\n",
       "      <td>2912.226</td>\n",
       "      <td>1.001</td>\n",
       "    </tr>\n",
       "    <tr>\n",
       "      <th>a[20]</th>\n",
       "      <td>2.400</td>\n",
       "      <td>0.675</td>\n",
       "      <td>1.362</td>\n",
       "      <td>3.500</td>\n",
       "      <td>0.009</td>\n",
       "      <td>0.007</td>\n",
       "      <td>6198.313</td>\n",
       "      <td>4582.958</td>\n",
       "      <td>6905.342</td>\n",
       "      <td>2610.903</td>\n",
       "      <td>1.002</td>\n",
       "    </tr>\n",
       "    <tr>\n",
       "      <th>a[21]</th>\n",
       "      <td>2.400</td>\n",
       "      <td>0.653</td>\n",
       "      <td>1.357</td>\n",
       "      <td>3.411</td>\n",
       "      <td>0.008</td>\n",
       "      <td>0.007</td>\n",
       "      <td>6044.702</td>\n",
       "      <td>4320.449</td>\n",
       "      <td>6874.656</td>\n",
       "      <td>2638.170</td>\n",
       "      <td>1.000</td>\n",
       "    </tr>\n",
       "    <tr>\n",
       "      <th>a[22]</th>\n",
       "      <td>2.397</td>\n",
       "      <td>0.684</td>\n",
       "      <td>1.355</td>\n",
       "      <td>3.485</td>\n",
       "      <td>0.008</td>\n",
       "      <td>0.007</td>\n",
       "      <td>6803.267</td>\n",
       "      <td>4758.982</td>\n",
       "      <td>7414.284</td>\n",
       "      <td>2667.219</td>\n",
       "      <td>1.000</td>\n",
       "    </tr>\n",
       "    <tr>\n",
       "      <th>a[23]</th>\n",
       "      <td>1.715</td>\n",
       "      <td>0.531</td>\n",
       "      <td>0.819</td>\n",
       "      <td>2.492</td>\n",
       "      <td>0.006</td>\n",
       "      <td>0.006</td>\n",
       "      <td>6738.905</td>\n",
       "      <td>4602.148</td>\n",
       "      <td>7629.746</td>\n",
       "      <td>2894.729</td>\n",
       "      <td>1.002</td>\n",
       "    </tr>\n",
       "    <tr>\n",
       "      <th>a[24]</th>\n",
       "      <td>-1.009</td>\n",
       "      <td>0.452</td>\n",
       "      <td>-1.720</td>\n",
       "      <td>-0.306</td>\n",
       "      <td>0.006</td>\n",
       "      <td>0.005</td>\n",
       "      <td>6754.237</td>\n",
       "      <td>4697.011</td>\n",
       "      <td>6809.804</td>\n",
       "      <td>2769.433</td>\n",
       "      <td>1.001</td>\n",
       "    </tr>\n",
       "    <tr>\n",
       "      <th>a[25]</th>\n",
       "      <td>0.164</td>\n",
       "      <td>0.404</td>\n",
       "      <td>-0.484</td>\n",
       "      <td>0.785</td>\n",
       "      <td>0.004</td>\n",
       "      <td>0.007</td>\n",
       "      <td>9089.510</td>\n",
       "      <td>1759.372</td>\n",
       "      <td>9313.183</td>\n",
       "      <td>2711.355</td>\n",
       "      <td>1.000</td>\n",
       "    </tr>\n",
       "    <tr>\n",
       "      <th>a[26]</th>\n",
       "      <td>-1.429</td>\n",
       "      <td>0.493</td>\n",
       "      <td>-2.191</td>\n",
       "      <td>-0.629</td>\n",
       "      <td>0.006</td>\n",
       "      <td>0.005</td>\n",
       "      <td>7209.728</td>\n",
       "      <td>5553.965</td>\n",
       "      <td>7398.740</td>\n",
       "      <td>2974.696</td>\n",
       "      <td>1.002</td>\n",
       "    </tr>\n",
       "    <tr>\n",
       "      <th>a[27]</th>\n",
       "      <td>-0.476</td>\n",
       "      <td>0.401</td>\n",
       "      <td>-1.110</td>\n",
       "      <td>0.145</td>\n",
       "      <td>0.004</td>\n",
       "      <td>0.005</td>\n",
       "      <td>8833.154</td>\n",
       "      <td>3941.889</td>\n",
       "      <td>8892.204</td>\n",
       "      <td>2945.975</td>\n",
       "      <td>1.002</td>\n",
       "    </tr>\n",
       "    <tr>\n",
       "      <th>a[28]</th>\n",
       "      <td>0.155</td>\n",
       "      <td>0.398</td>\n",
       "      <td>-0.462</td>\n",
       "      <td>0.803</td>\n",
       "      <td>0.004</td>\n",
       "      <td>0.006</td>\n",
       "      <td>9066.728</td>\n",
       "      <td>2046.777</td>\n",
       "      <td>8999.646</td>\n",
       "      <td>3246.396</td>\n",
       "      <td>1.003</td>\n",
       "    </tr>\n",
       "    <tr>\n",
       "      <th>a[29]</th>\n",
       "      <td>1.444</td>\n",
       "      <td>0.491</td>\n",
       "      <td>0.645</td>\n",
       "      <td>2.196</td>\n",
       "      <td>0.006</td>\n",
       "      <td>0.005</td>\n",
       "      <td>7725.787</td>\n",
       "      <td>5324.195</td>\n",
       "      <td>8286.019</td>\n",
       "      <td>3156.663</td>\n",
       "      <td>1.001</td>\n",
       "    </tr>\n",
       "    <tr>\n",
       "      <th>a[30]</th>\n",
       "      <td>-0.640</td>\n",
       "      <td>0.410</td>\n",
       "      <td>-1.332</td>\n",
       "      <td>-0.011</td>\n",
       "      <td>0.004</td>\n",
       "      <td>0.004</td>\n",
       "      <td>9216.224</td>\n",
       "      <td>4599.602</td>\n",
       "      <td>9509.493</td>\n",
       "      <td>3215.103</td>\n",
       "      <td>1.001</td>\n",
       "    </tr>\n",
       "    <tr>\n",
       "      <th>a[31]</th>\n",
       "      <td>-0.304</td>\n",
       "      <td>0.401</td>\n",
       "      <td>-0.949</td>\n",
       "      <td>0.319</td>\n",
       "      <td>0.004</td>\n",
       "      <td>0.006</td>\n",
       "      <td>8008.613</td>\n",
       "      <td>2475.423</td>\n",
       "      <td>8028.298</td>\n",
       "      <td>3086.812</td>\n",
       "      <td>1.001</td>\n",
       "    </tr>\n",
       "    <tr>\n",
       "      <th>a[32]</th>\n",
       "      <td>3.212</td>\n",
       "      <td>0.783</td>\n",
       "      <td>1.987</td>\n",
       "      <td>4.429</td>\n",
       "      <td>0.011</td>\n",
       "      <td>0.009</td>\n",
       "      <td>5408.682</td>\n",
       "      <td>4132.346</td>\n",
       "      <td>6451.555</td>\n",
       "      <td>2564.586</td>\n",
       "      <td>1.000</td>\n",
       "    </tr>\n",
       "    <tr>\n",
       "      <th>a[33]</th>\n",
       "      <td>2.704</td>\n",
       "      <td>0.625</td>\n",
       "      <td>1.619</td>\n",
       "      <td>3.602</td>\n",
       "      <td>0.007</td>\n",
       "      <td>0.006</td>\n",
       "      <td>7118.571</td>\n",
       "      <td>5652.144</td>\n",
       "      <td>7977.046</td>\n",
       "      <td>2916.151</td>\n",
       "      <td>1.000</td>\n",
       "    </tr>\n",
       "    <tr>\n",
       "      <th>a[34]</th>\n",
       "      <td>2.709</td>\n",
       "      <td>0.639</td>\n",
       "      <td>1.671</td>\n",
       "      <td>3.698</td>\n",
       "      <td>0.008</td>\n",
       "      <td>0.006</td>\n",
       "      <td>6790.323</td>\n",
       "      <td>5448.160</td>\n",
       "      <td>7569.255</td>\n",
       "      <td>2967.828</td>\n",
       "      <td>1.001</td>\n",
       "    </tr>\n",
       "    <tr>\n",
       "      <th>a[35]</th>\n",
       "      <td>2.060</td>\n",
       "      <td>0.505</td>\n",
       "      <td>1.195</td>\n",
       "      <td>2.779</td>\n",
       "      <td>0.006</td>\n",
       "      <td>0.005</td>\n",
       "      <td>7389.613</td>\n",
       "      <td>5820.303</td>\n",
       "      <td>8022.660</td>\n",
       "      <td>3168.388</td>\n",
       "      <td>1.001</td>\n",
       "    </tr>\n",
       "    <tr>\n",
       "      <th>a[36]</th>\n",
       "      <td>2.062</td>\n",
       "      <td>0.502</td>\n",
       "      <td>1.235</td>\n",
       "      <td>2.825</td>\n",
       "      <td>0.006</td>\n",
       "      <td>0.005</td>\n",
       "      <td>7827.542</td>\n",
       "      <td>5925.242</td>\n",
       "      <td>8491.457</td>\n",
       "      <td>3081.924</td>\n",
       "      <td>1.000</td>\n",
       "    </tr>\n",
       "    <tr>\n",
       "      <th>a[37]</th>\n",
       "      <td>3.905</td>\n",
       "      <td>0.962</td>\n",
       "      <td>2.413</td>\n",
       "      <td>5.334</td>\n",
       "      <td>0.013</td>\n",
       "      <td>0.010</td>\n",
       "      <td>5669.701</td>\n",
       "      <td>4583.142</td>\n",
       "      <td>6690.681</td>\n",
       "      <td>3133.657</td>\n",
       "      <td>1.002</td>\n",
       "    </tr>\n",
       "    <tr>\n",
       "      <th>a[38]</th>\n",
       "      <td>2.721</td>\n",
       "      <td>0.652</td>\n",
       "      <td>1.628</td>\n",
       "      <td>3.702</td>\n",
       "      <td>0.007</td>\n",
       "      <td>0.006</td>\n",
       "      <td>7637.631</td>\n",
       "      <td>6124.119</td>\n",
       "      <td>8120.496</td>\n",
       "      <td>2989.926</td>\n",
       "      <td>1.000</td>\n",
       "    </tr>\n",
       "    <tr>\n",
       "      <th>a[39]</th>\n",
       "      <td>2.347</td>\n",
       "      <td>0.581</td>\n",
       "      <td>1.428</td>\n",
       "      <td>3.225</td>\n",
       "      <td>0.007</td>\n",
       "      <td>0.006</td>\n",
       "      <td>7701.888</td>\n",
       "      <td>4926.663</td>\n",
       "      <td>8096.321</td>\n",
       "      <td>2579.971</td>\n",
       "      <td>1.000</td>\n",
       "    </tr>\n",
       "    <tr>\n",
       "      <th>a[40]</th>\n",
       "      <td>-1.820</td>\n",
       "      <td>0.489</td>\n",
       "      <td>-2.571</td>\n",
       "      <td>-1.035</td>\n",
       "      <td>0.006</td>\n",
       "      <td>0.005</td>\n",
       "      <td>6878.612</td>\n",
       "      <td>5132.570</td>\n",
       "      <td>7399.875</td>\n",
       "      <td>2609.710</td>\n",
       "      <td>1.000</td>\n",
       "    </tr>\n",
       "    <tr>\n",
       "      <th>a[41]</th>\n",
       "      <td>-0.564</td>\n",
       "      <td>0.350</td>\n",
       "      <td>-1.134</td>\n",
       "      <td>-0.018</td>\n",
       "      <td>0.004</td>\n",
       "      <td>0.004</td>\n",
       "      <td>7220.564</td>\n",
       "      <td>4970.927</td>\n",
       "      <td>7142.543</td>\n",
       "      <td>3241.138</td>\n",
       "      <td>1.002</td>\n",
       "    </tr>\n",
       "    <tr>\n",
       "      <th>a[42]</th>\n",
       "      <td>-0.453</td>\n",
       "      <td>0.346</td>\n",
       "      <td>-1.001</td>\n",
       "      <td>0.102</td>\n",
       "      <td>0.004</td>\n",
       "      <td>0.004</td>\n",
       "      <td>8775.069</td>\n",
       "      <td>4581.730</td>\n",
       "      <td>8769.581</td>\n",
       "      <td>3003.845</td>\n",
       "      <td>1.000</td>\n",
       "    </tr>\n",
       "    <tr>\n",
       "      <th>a[43]</th>\n",
       "      <td>-0.335</td>\n",
       "      <td>0.337</td>\n",
       "      <td>-0.901</td>\n",
       "      <td>0.177</td>\n",
       "      <td>0.004</td>\n",
       "      <td>0.004</td>\n",
       "      <td>7918.434</td>\n",
       "      <td>3105.216</td>\n",
       "      <td>7976.869</td>\n",
       "      <td>2744.053</td>\n",
       "      <td>1.001</td>\n",
       "    </tr>\n",
       "    <tr>\n",
       "      <th>a[44]</th>\n",
       "      <td>0.581</td>\n",
       "      <td>0.354</td>\n",
       "      <td>0.044</td>\n",
       "      <td>1.172</td>\n",
       "      <td>0.004</td>\n",
       "      <td>0.004</td>\n",
       "      <td>8112.046</td>\n",
       "      <td>4007.897</td>\n",
       "      <td>8134.022</td>\n",
       "      <td>2841.942</td>\n",
       "      <td>1.001</td>\n",
       "    </tr>\n",
       "    <tr>\n",
       "      <th>a[45]</th>\n",
       "      <td>-0.572</td>\n",
       "      <td>0.347</td>\n",
       "      <td>-1.145</td>\n",
       "      <td>-0.039</td>\n",
       "      <td>0.004</td>\n",
       "      <td>0.004</td>\n",
       "      <td>7747.868</td>\n",
       "      <td>4484.074</td>\n",
       "      <td>7805.739</td>\n",
       "      <td>3246.654</td>\n",
       "      <td>1.003</td>\n",
       "    </tr>\n",
       "    <tr>\n",
       "      <th>a[46]</th>\n",
       "      <td>2.063</td>\n",
       "      <td>0.507</td>\n",
       "      <td>1.242</td>\n",
       "      <td>2.818</td>\n",
       "      <td>0.006</td>\n",
       "      <td>0.005</td>\n",
       "      <td>7472.957</td>\n",
       "      <td>5978.381</td>\n",
       "      <td>7978.589</td>\n",
       "      <td>3102.092</td>\n",
       "      <td>1.002</td>\n",
       "    </tr>\n",
       "    <tr>\n",
       "      <th>a[47]</th>\n",
       "      <td>0.005</td>\n",
       "      <td>0.342</td>\n",
       "      <td>-0.549</td>\n",
       "      <td>0.538</td>\n",
       "      <td>0.003</td>\n",
       "      <td>0.006</td>\n",
       "      <td>9692.132</td>\n",
       "      <td>1449.609</td>\n",
       "      <td>9719.306</td>\n",
       "      <td>2916.337</td>\n",
       "      <td>1.000</td>\n",
       "    </tr>\n",
       "    <tr>\n",
       "      <th>sigma</th>\n",
       "      <td>1.623</td>\n",
       "      <td>0.216</td>\n",
       "      <td>1.281</td>\n",
       "      <td>1.952</td>\n",
       "      <td>0.004</td>\n",
       "      <td>0.003</td>\n",
       "      <td>3005.109</td>\n",
       "      <td>3005.109</td>\n",
       "      <td>2867.876</td>\n",
       "      <td>2945.312</td>\n",
       "      <td>1.001</td>\n",
       "    </tr>\n",
       "  </tbody>\n",
       "</table>\n",
       "</div>"
      ],
      "text/plain": [
       "        mean     sd  hdi_5.5%  hdi_94.5%  mcse_mean  mcse_sd  ess_mean  \\\n",
       "a_bar  1.352  0.254     0.952      1.758      0.003    0.002  5715.665   \n",
       "a[0]   2.139  0.882     0.816      3.580      0.011    0.010  6662.886   \n",
       "a[1]   3.112  1.137     1.318      4.841      0.015    0.012  5957.781   \n",
       "a[2]   1.005  0.679    -0.101      2.018      0.008    0.007  7801.412   \n",
       "a[3]   3.092  1.126     1.254      4.744      0.015    0.012  5809.783   \n",
       "a[4]   2.145  0.876     0.790      3.528      0.011    0.009  6883.972   \n",
       "a[5]   2.131  0.898     0.768      3.527      0.011    0.010  6615.501   \n",
       "a[6]   3.073  1.078     1.304      4.697      0.015    0.013  4981.800   \n",
       "a[7]   2.131  0.840     0.741      3.382      0.011    0.009  6043.148   \n",
       "a[8]  -0.165  0.623    -1.175      0.823      0.007    0.010  8418.216   \n",
       "a[9]   2.145  0.896     0.655      3.424      0.011    0.010  6316.129   \n",
       "a[10]  0.999  0.663    -0.045      2.016      0.007    0.008  8079.857   \n",
       "a[11]  0.580  0.621    -0.453      1.501      0.007    0.008  8965.098   \n",
       "a[12]  0.991  0.648    -0.016      2.015      0.008    0.007  7075.675   \n",
       "a[13]  0.197  0.627    -0.810      1.167      0.007    0.010  8255.152   \n",
       "a[14]  2.144  0.870     0.803      3.473      0.011    0.009  6433.667   \n",
       "a[15]  2.126  0.867     0.841      3.554      0.009    0.009  8406.236   \n",
       "a[16]  2.913  0.814     1.618      4.198      0.011    0.009  5990.874   \n",
       "a[17]  2.409  0.698     1.257      3.436      0.009    0.007  6429.586   \n",
       "a[18]  2.020  0.609     1.111      3.034      0.007    0.006  7586.520   \n",
       "a[19]  3.674  1.007     2.082      5.211      0.014    0.011  5319.405   \n",
       "a[20]  2.400  0.675     1.362      3.500      0.009    0.007  6198.313   \n",
       "a[21]  2.400  0.653     1.357      3.411      0.008    0.007  6044.702   \n",
       "a[22]  2.397  0.684     1.355      3.485      0.008    0.007  6803.267   \n",
       "a[23]  1.715  0.531     0.819      2.492      0.006    0.006  6738.905   \n",
       "a[24] -1.009  0.452    -1.720     -0.306      0.006    0.005  6754.237   \n",
       "a[25]  0.164  0.404    -0.484      0.785      0.004    0.007  9089.510   \n",
       "a[26] -1.429  0.493    -2.191     -0.629      0.006    0.005  7209.728   \n",
       "a[27] -0.476  0.401    -1.110      0.145      0.004    0.005  8833.154   \n",
       "a[28]  0.155  0.398    -0.462      0.803      0.004    0.006  9066.728   \n",
       "a[29]  1.444  0.491     0.645      2.196      0.006    0.005  7725.787   \n",
       "a[30] -0.640  0.410    -1.332     -0.011      0.004    0.004  9216.224   \n",
       "a[31] -0.304  0.401    -0.949      0.319      0.004    0.006  8008.613   \n",
       "a[32]  3.212  0.783     1.987      4.429      0.011    0.009  5408.682   \n",
       "a[33]  2.704  0.625     1.619      3.602      0.007    0.006  7118.571   \n",
       "a[34]  2.709  0.639     1.671      3.698      0.008    0.006  6790.323   \n",
       "a[35]  2.060  0.505     1.195      2.779      0.006    0.005  7389.613   \n",
       "a[36]  2.062  0.502     1.235      2.825      0.006    0.005  7827.542   \n",
       "a[37]  3.905  0.962     2.413      5.334      0.013    0.010  5669.701   \n",
       "a[38]  2.721  0.652     1.628      3.702      0.007    0.006  7637.631   \n",
       "a[39]  2.347  0.581     1.428      3.225      0.007    0.006  7701.888   \n",
       "a[40] -1.820  0.489    -2.571     -1.035      0.006    0.005  6878.612   \n",
       "a[41] -0.564  0.350    -1.134     -0.018      0.004    0.004  7220.564   \n",
       "a[42] -0.453  0.346    -1.001      0.102      0.004    0.004  8775.069   \n",
       "a[43] -0.335  0.337    -0.901      0.177      0.004    0.004  7918.434   \n",
       "a[44]  0.581  0.354     0.044      1.172      0.004    0.004  8112.046   \n",
       "a[45] -0.572  0.347    -1.145     -0.039      0.004    0.004  7747.868   \n",
       "a[46]  2.063  0.507     1.242      2.818      0.006    0.005  7472.957   \n",
       "a[47]  0.005  0.342    -0.549      0.538      0.003    0.006  9692.132   \n",
       "sigma  1.623  0.216     1.281      1.952      0.004    0.003  3005.109   \n",
       "\n",
       "         ess_sd  ess_bulk  ess_tail  r_hat  \n",
       "a_bar  5470.315  5711.172  3386.714  0.999  \n",
       "a[0]   4232.009  7503.335  3125.399  1.000  \n",
       "a[1]   4310.665  6777.537  3037.606  1.001  \n",
       "a[2]   4315.975  7989.760  3004.607  1.000  \n",
       "a[3]   4096.342  6746.887  2344.202  1.000  \n",
       "a[4]   4502.372  7969.451  3021.223  1.002  \n",
       "a[5]   3982.368  7701.853  2687.314  1.001  \n",
       "a[6]   3476.427  5834.499  2545.804  1.004  \n",
       "a[7]   4222.362  6739.969  2994.378  1.000  \n",
       "a[8]   1779.258  8466.938  2807.689  1.002  \n",
       "a[9]   4116.964  7136.755  2763.653  1.000  \n",
       "a[10]  3489.991  8570.412  3042.798  1.000  \n",
       "a[11]  3158.998  9035.174  2786.312  1.000  \n",
       "a[12]  3811.141  7382.376  2768.892  1.002  \n",
       "a[13]  1854.707  8264.970  2984.890  1.001  \n",
       "a[14]  4413.496  7393.017  3027.149  1.002  \n",
       "a[15]  5043.598  9447.075  2853.811  1.001  \n",
       "a[16]  4492.372  6902.813  2616.349  1.001  \n",
       "a[17]  4552.191  7429.661  2585.443  1.003  \n",
       "a[18]  5505.881  8355.449  2875.831  1.000  \n",
       "a[19]  4167.531  6189.045  2912.226  1.001  \n",
       "a[20]  4582.958  6905.342  2610.903  1.002  \n",
       "a[21]  4320.449  6874.656  2638.170  1.000  \n",
       "a[22]  4758.982  7414.284  2667.219  1.000  \n",
       "a[23]  4602.148  7629.746  2894.729  1.002  \n",
       "a[24]  4697.011  6809.804  2769.433  1.001  \n",
       "a[25]  1759.372  9313.183  2711.355  1.000  \n",
       "a[26]  5553.965  7398.740  2974.696  1.002  \n",
       "a[27]  3941.889  8892.204  2945.975  1.002  \n",
       "a[28]  2046.777  8999.646  3246.396  1.003  \n",
       "a[29]  5324.195  8286.019  3156.663  1.001  \n",
       "a[30]  4599.602  9509.493  3215.103  1.001  \n",
       "a[31]  2475.423  8028.298  3086.812  1.001  \n",
       "a[32]  4132.346  6451.555  2564.586  1.000  \n",
       "a[33]  5652.144  7977.046  2916.151  1.000  \n",
       "a[34]  5448.160  7569.255  2967.828  1.001  \n",
       "a[35]  5820.303  8022.660  3168.388  1.001  \n",
       "a[36]  5925.242  8491.457  3081.924  1.000  \n",
       "a[37]  4583.142  6690.681  3133.657  1.002  \n",
       "a[38]  6124.119  8120.496  2989.926  1.000  \n",
       "a[39]  4926.663  8096.321  2579.971  1.000  \n",
       "a[40]  5132.570  7399.875  2609.710  1.000  \n",
       "a[41]  4970.927  7142.543  3241.138  1.002  \n",
       "a[42]  4581.730  8769.581  3003.845  1.000  \n",
       "a[43]  3105.216  7976.869  2744.053  1.001  \n",
       "a[44]  4007.897  8134.022  2841.942  1.001  \n",
       "a[45]  4484.074  7805.739  3246.654  1.003  \n",
       "a[46]  5978.381  7978.589  3102.092  1.002  \n",
       "a[47]  1449.609  9719.306  2916.337  1.000  \n",
       "sigma  3005.109  2867.876  2945.312  1.001  "
      ]
     },
     "execution_count": 18,
     "metadata": {},
     "output_type": "execute_result"
    },
    {
     "data": {
      "application/javascript": [
       "\n",
       "            setTimeout(function() {\n",
       "                var nbb_cell_id = 18;\n",
       "                var nbb_unformatted_code = \"az.summary(trace_13_2, round_to=3)\";\n",
       "                var nbb_formatted_code = \"az.summary(trace_13_2, round_to=3)\";\n",
       "                var nbb_cells = Jupyter.notebook.get_cells();\n",
       "                for (var i = 0; i < nbb_cells.length; ++i) {\n",
       "                    if (nbb_cells[i].input_prompt_number == nbb_cell_id) {\n",
       "                        if (nbb_cells[i].get_text() == nbb_unformatted_code) {\n",
       "                             nbb_cells[i].set_text(nbb_formatted_code);\n",
       "                        }\n",
       "                        break;\n",
       "                    }\n",
       "                }\n",
       "            }, 500);\n",
       "            "
      ],
      "text/plain": [
       "<IPython.core.display.Javascript object>"
      ]
     },
     "metadata": {},
     "output_type": "display_data"
    }
   ],
   "source": [
    "az.summary(trace_13_2, round_to=3)"
   ]
  },
  {
   "cell_type": "markdown",
   "id": "b92fc6a0",
   "metadata": {},
   "source": [
    "## Model with `predation` alone"
   ]
  },
  {
   "cell_type": "markdown",
   "id": "7b30037f",
   "metadata": {},
   "source": [
    "**Model 13.2p equation**\n",
    "\n",
    "$$S_i \\text{ ~ } \\text{Binomial}(N_i,p_i)$$\n",
    "\n",
    "$$\\text{logit}(p_i) = \\alpha_{\\text{TANK}[i]} + \\beta_{\\text{PREDATION}[i]}$$\n",
    "\n",
    "$$\\alpha_j \\text{ ~ } \\text{Normal}(\\bar{\\alpha}, \\sigma) \\tag{adaptive prior}$$\n",
    "\n",
    "$$\\beta_j \\text{ ~ } \\text{Normal}(0, 1) \\tag{regularizing prior}$$\n",
    "\n",
    "$$\\bar{\\alpha} \\text{ ~ } \\text{Normal}(0, 1.5) \\tag{prior for average tank}$$\n",
    "\n",
    "$$\\sigma \\text{ ~ } \\text{Exponential}(1) \\tag{prior for standard deviation of tanks}$$"
   ]
  },
  {
   "cell_type": "code",
   "execution_count": 21,
   "id": "b0adeebc",
   "metadata": {
    "ExecuteTime": {
     "end_time": "2021-07-30T23:27:15.147531Z",
     "start_time": "2021-07-30T23:27:15.135196Z"
    }
   },
   "outputs": [
    {
     "data": {
      "text/html": [
       "<div>\n",
       "<style scoped>\n",
       "    .dataframe tbody tr th:only-of-type {\n",
       "        vertical-align: middle;\n",
       "    }\n",
       "\n",
       "    .dataframe tbody tr th {\n",
       "        vertical-align: top;\n",
       "    }\n",
       "\n",
       "    .dataframe thead th {\n",
       "        text-align: right;\n",
       "    }\n",
       "</style>\n",
       "<table border=\"1\" class=\"dataframe\">\n",
       "  <thead>\n",
       "    <tr style=\"text-align: right;\">\n",
       "      <th></th>\n",
       "      <th>density</th>\n",
       "      <th>pred</th>\n",
       "      <th>size</th>\n",
       "      <th>surv</th>\n",
       "      <th>propsurv</th>\n",
       "      <th>pred_code</th>\n",
       "    </tr>\n",
       "  </thead>\n",
       "  <tbody>\n",
       "    <tr>\n",
       "      <th>0</th>\n",
       "      <td>10</td>\n",
       "      <td>no</td>\n",
       "      <td>big</td>\n",
       "      <td>9</td>\n",
       "      <td>0.9</td>\n",
       "      <td>0</td>\n",
       "    </tr>\n",
       "    <tr>\n",
       "      <th>1</th>\n",
       "      <td>10</td>\n",
       "      <td>no</td>\n",
       "      <td>big</td>\n",
       "      <td>10</td>\n",
       "      <td>1.0</td>\n",
       "      <td>0</td>\n",
       "    </tr>\n",
       "    <tr>\n",
       "      <th>2</th>\n",
       "      <td>10</td>\n",
       "      <td>no</td>\n",
       "      <td>big</td>\n",
       "      <td>7</td>\n",
       "      <td>0.7</td>\n",
       "      <td>0</td>\n",
       "    </tr>\n",
       "    <tr>\n",
       "      <th>3</th>\n",
       "      <td>10</td>\n",
       "      <td>no</td>\n",
       "      <td>big</td>\n",
       "      <td>10</td>\n",
       "      <td>1.0</td>\n",
       "      <td>0</td>\n",
       "    </tr>\n",
       "    <tr>\n",
       "      <th>4</th>\n",
       "      <td>10</td>\n",
       "      <td>no</td>\n",
       "      <td>small</td>\n",
       "      <td>9</td>\n",
       "      <td>0.9</td>\n",
       "      <td>0</td>\n",
       "    </tr>\n",
       "  </tbody>\n",
       "</table>\n",
       "</div>"
      ],
      "text/plain": [
       "   density pred   size  surv  propsurv  pred_code\n",
       "0       10   no    big     9       0.9          0\n",
       "1       10   no    big    10       1.0          0\n",
       "2       10   no    big     7       0.7          0\n",
       "3       10   no    big    10       1.0          0\n",
       "4       10   no  small     9       0.9          0"
      ]
     },
     "execution_count": 21,
     "metadata": {},
     "output_type": "execute_result"
    },
    {
     "data": {
      "application/javascript": [
       "\n",
       "            setTimeout(function() {\n",
       "                var nbb_cell_id = 21;\n",
       "                var nbb_unformatted_code = \"df_frogs[\\\"pred_code\\\"] = pd.Categorical(df_frogs[\\\"pred\\\"]).codes\\ndf_frogs.head()\";\n",
       "                var nbb_formatted_code = \"df_frogs[\\\"pred_code\\\"] = pd.Categorical(df_frogs[\\\"pred\\\"]).codes\\ndf_frogs.head()\";\n",
       "                var nbb_cells = Jupyter.notebook.get_cells();\n",
       "                for (var i = 0; i < nbb_cells.length; ++i) {\n",
       "                    if (nbb_cells[i].input_prompt_number == nbb_cell_id) {\n",
       "                        if (nbb_cells[i].get_text() == nbb_unformatted_code) {\n",
       "                             nbb_cells[i].set_text(nbb_formatted_code);\n",
       "                        }\n",
       "                        break;\n",
       "                    }\n",
       "                }\n",
       "            }, 500);\n",
       "            "
      ],
      "text/plain": [
       "<IPython.core.display.Javascript object>"
      ]
     },
     "metadata": {},
     "output_type": "display_data"
    }
   ],
   "source": [
    "# Make predation an index variable\n",
    "df_frogs[\"pred_code\"] = pd.Categorical(df_frogs[\"pred\"]).codes\n",
    "df_frogs.head()"
   ]
  },
  {
   "cell_type": "code",
   "execution_count": 22,
   "id": "fa6ac332",
   "metadata": {
    "ExecuteTime": {
     "end_time": "2021-07-30T23:31:07.294291Z",
     "start_time": "2021-07-30T23:31:07.287959Z"
    }
   },
   "outputs": [
    {
     "data": {
      "text/plain": [
       "array([0, 1], dtype=int8)"
      ]
     },
     "execution_count": 22,
     "metadata": {},
     "output_type": "execute_result"
    },
    {
     "data": {
      "application/javascript": [
       "\n",
       "            setTimeout(function() {\n",
       "                var nbb_cell_id = 22;\n",
       "                var nbb_unformatted_code = \"df_frogs[\\\"pred_code\\\"].unique()\";\n",
       "                var nbb_formatted_code = \"df_frogs[\\\"pred_code\\\"].unique()\";\n",
       "                var nbb_cells = Jupyter.notebook.get_cells();\n",
       "                for (var i = 0; i < nbb_cells.length; ++i) {\n",
       "                    if (nbb_cells[i].input_prompt_number == nbb_cell_id) {\n",
       "                        if (nbb_cells[i].get_text() == nbb_unformatted_code) {\n",
       "                             nbb_cells[i].set_text(nbb_formatted_code);\n",
       "                        }\n",
       "                        break;\n",
       "                    }\n",
       "                }\n",
       "            }, 500);\n",
       "            "
      ],
      "text/plain": [
       "<IPython.core.display.Javascript object>"
      ]
     },
     "metadata": {},
     "output_type": "display_data"
    }
   ],
   "source": [
    "df_frogs[\"pred_code\"].unique()"
   ]
  },
  {
   "cell_type": "code",
   "execution_count": 23,
   "id": "21772f25",
   "metadata": {
    "ExecuteTime": {
     "end_time": "2021-07-30T23:33:29.466880Z",
     "start_time": "2021-07-30T23:33:01.730542Z"
    }
   },
   "outputs": [
    {
     "name": "stderr",
     "output_type": "stream",
     "text": [
      "Auto-assigning NUTS sampler...\n",
      "Initializing NUTS using jitter+adapt_diag...\n",
      "Multiprocess sampling (4 chains in 4 jobs)\n",
      "NUTS: [bp, a, sigma, a_bar]\n"
     ]
    },
    {
     "data": {
      "text/html": [
       "\n",
       "    <div>\n",
       "        <style>\n",
       "            /* Turns off some styling */\n",
       "            progress {\n",
       "                /* gets rid of default border in Firefox and Opera. */\n",
       "                border: none;\n",
       "                /* Needs to be in here for Safari polyfill so background images work as expected. */\n",
       "                background-size: auto;\n",
       "            }\n",
       "            .progress-bar-interrupted, .progress-bar-interrupted::-webkit-progress-bar {\n",
       "                background: #F44336;\n",
       "            }\n",
       "        </style>\n",
       "      <progress value='8000' class='' max='8000' style='width:300px; height:20px; vertical-align: middle;'></progress>\n",
       "      100.00% [8000/8000 00:05<00:00 Sampling 4 chains, 9 divergences]\n",
       "    </div>\n",
       "    "
      ],
      "text/plain": [
       "<IPython.core.display.HTML object>"
      ]
     },
     "metadata": {},
     "output_type": "display_data"
    },
    {
     "name": "stderr",
     "output_type": "stream",
     "text": [
      "Sampling 4 chains for 1_000 tune and 1_000 draw iterations (4_000 + 4_000 draws total) took 17 seconds.\n",
      "There were 5 divergences after tuning. Increase `target_accept` or reparameterize.\n",
      "The acceptance probability does not match the target. It is 0.5539824831307071, but should be close to 0.8. Try to increase the number of tuning steps.\n",
      "There were 3 divergences after tuning. Increase `target_accept` or reparameterize.\n",
      "The acceptance probability does not match the target. It is 0.6334738283771231, but should be close to 0.8. Try to increase the number of tuning steps.\n",
      "There was 1 divergence after tuning. Increase `target_accept` or reparameterize.\n",
      "The rhat statistic is larger than 1.05 for some parameters. This indicates slight problems during sampling.\n",
      "The estimated number of effective samples is smaller than 200 for some parameters.\n"
     ]
    },
    {
     "data": {
      "application/javascript": [
       "\n",
       "            setTimeout(function() {\n",
       "                var nbb_cell_id = 23;\n",
       "                var nbb_unformatted_code = \"# modified from repo\\nwith pm.Model() as m_13_2p:\\n    # adaptive prior\\n    a_bar = pm.Normal(\\\"a_bar\\\", 0.0, 1.5)\\n\\n    # prior for SD of tanks\\n    sigma = pm.Exponential(\\\"sigma\\\", 1.0)\\n\\n    # adaptive prior\\n    a = pm.Normal(\\\"a\\\", a_bar, sigma, shape=n_tanks)\\n    \\n    # regularizing prior (assume shape will be 2)\\n    bp = pm.Normal(\\\"bp\\\", 0, 1, shape=len(df_frogs[\\\"pred_code\\\"].unique()))\\n\\n    p = pm.math.invlogit(a[tank] + bp[df_frogs[\\\"pred_code\\\"]])\\n\\n    S = pm.Binomial(\\\"S\\\", n=df_frogs[\\\"density\\\"], p=p, observed=df_frogs[\\\"surv\\\"])\\n\\n    trace_13_2p = pm.sample(draws=1000, random_seed=19, return_inferencedata=True)\";\n",
       "                var nbb_formatted_code = \"# modified from repo\\nwith pm.Model() as m_13_2p:\\n    # adaptive prior\\n    a_bar = pm.Normal(\\\"a_bar\\\", 0.0, 1.5)\\n\\n    # prior for SD of tanks\\n    sigma = pm.Exponential(\\\"sigma\\\", 1.0)\\n\\n    # adaptive prior\\n    a = pm.Normal(\\\"a\\\", a_bar, sigma, shape=n_tanks)\\n\\n    # regularizing prior (assume shape will be 2)\\n    bp = pm.Normal(\\\"bp\\\", 0, 1, shape=len(df_frogs[\\\"pred_code\\\"].unique()))\\n\\n    p = pm.math.invlogit(a[tank] + bp[df_frogs[\\\"pred_code\\\"]])\\n\\n    S = pm.Binomial(\\\"S\\\", n=df_frogs[\\\"density\\\"], p=p, observed=df_frogs[\\\"surv\\\"])\\n\\n    trace_13_2p = pm.sample(draws=1000, random_seed=19, return_inferencedata=True)\";\n",
       "                var nbb_cells = Jupyter.notebook.get_cells();\n",
       "                for (var i = 0; i < nbb_cells.length; ++i) {\n",
       "                    if (nbb_cells[i].input_prompt_number == nbb_cell_id) {\n",
       "                        if (nbb_cells[i].get_text() == nbb_unformatted_code) {\n",
       "                             nbb_cells[i].set_text(nbb_formatted_code);\n",
       "                        }\n",
       "                        break;\n",
       "                    }\n",
       "                }\n",
       "            }, 500);\n",
       "            "
      ],
      "text/plain": [
       "<IPython.core.display.Javascript object>"
      ]
     },
     "metadata": {},
     "output_type": "display_data"
    }
   ],
   "source": [
    "# modified from repo\n",
    "with pm.Model() as m_13_2p:\n",
    "    # prior for average tank\n",
    "    a_bar = pm.Normal(\"a_bar\", 0.0, 1.5)\n",
    "\n",
    "    # prior for SD of tanks\n",
    "    sigma = pm.Exponential(\"sigma\", 1.0)\n",
    "\n",
    "    # adaptive prior\n",
    "    a = pm.Normal(\"a\", a_bar, sigma, shape=n_tanks)\n",
    "\n",
    "    # regularizing prior (assume shape will be 2)\n",
    "    bp = pm.Normal(\"bp\", 0, 1, shape=len(df_frogs[\"pred_code\"].unique()))\n",
    "\n",
    "    p = pm.math.invlogit(a[tank] + bp[df_frogs[\"pred_code\"]])\n",
    "\n",
    "    S = pm.Binomial(\"S\", n=df_frogs[\"density\"], p=p, observed=df_frogs[\"surv\"])\n",
    "\n",
    "    trace_13_2p = pm.sample(draws=1000, random_seed=19, return_inferencedata=True)"
   ]
  },
  {
   "cell_type": "code",
   "execution_count": 30,
   "id": "2293e944",
   "metadata": {
    "ExecuteTime": {
     "end_time": "2021-07-31T00:08:49.535561Z",
     "start_time": "2021-07-31T00:08:49.457945Z"
    }
   },
   "outputs": [
    {
     "data": {
      "text/html": [
       "<div>\n",
       "<style scoped>\n",
       "    .dataframe tbody tr th:only-of-type {\n",
       "        vertical-align: middle;\n",
       "    }\n",
       "\n",
       "    .dataframe tbody tr th {\n",
       "        vertical-align: top;\n",
       "    }\n",
       "\n",
       "    .dataframe thead th {\n",
       "        text-align: right;\n",
       "    }\n",
       "</style>\n",
       "<table border=\"1\" class=\"dataframe\">\n",
       "  <thead>\n",
       "    <tr style=\"text-align: right;\">\n",
       "      <th></th>\n",
       "      <th>mean</th>\n",
       "      <th>sd</th>\n",
       "      <th>hdi_5.5%</th>\n",
       "      <th>hdi_94.5%</th>\n",
       "      <th>mcse_mean</th>\n",
       "      <th>mcse_sd</th>\n",
       "      <th>ess_mean</th>\n",
       "      <th>ess_sd</th>\n",
       "      <th>ess_bulk</th>\n",
       "      <th>ess_tail</th>\n",
       "      <th>r_hat</th>\n",
       "    </tr>\n",
       "  </thead>\n",
       "  <tbody>\n",
       "    <tr>\n",
       "      <th>bp[0]</th>\n",
       "      <td>1.451</td>\n",
       "      <td>0.637</td>\n",
       "      <td>0.373</td>\n",
       "      <td>2.432</td>\n",
       "      <td>0.088</td>\n",
       "      <td>0.063</td>\n",
       "      <td>52.0</td>\n",
       "      <td>52.0</td>\n",
       "      <td>53.0</td>\n",
       "      <td>190.0</td>\n",
       "      <td>1.07</td>\n",
       "    </tr>\n",
       "    <tr>\n",
       "      <th>bp[1]</th>\n",
       "      <td>-1.093</td>\n",
       "      <td>0.635</td>\n",
       "      <td>-2.154</td>\n",
       "      <td>-0.142</td>\n",
       "      <td>0.096</td>\n",
       "      <td>0.069</td>\n",
       "      <td>43.0</td>\n",
       "      <td>43.0</td>\n",
       "      <td>44.0</td>\n",
       "      <td>158.0</td>\n",
       "      <td>1.07</td>\n",
       "    </tr>\n",
       "  </tbody>\n",
       "</table>\n",
       "</div>"
      ],
      "text/plain": [
       "        mean     sd  hdi_5.5%  hdi_94.5%  mcse_mean  mcse_sd  ess_mean  \\\n",
       "bp[0]  1.451  0.637     0.373      2.432      0.088    0.063      52.0   \n",
       "bp[1] -1.093  0.635    -2.154     -0.142      0.096    0.069      43.0   \n",
       "\n",
       "       ess_sd  ess_bulk  ess_tail  r_hat  \n",
       "bp[0]    52.0      53.0     190.0   1.07  \n",
       "bp[1]    43.0      44.0     158.0   1.07  "
      ]
     },
     "execution_count": 30,
     "metadata": {},
     "output_type": "execute_result"
    },
    {
     "data": {
      "application/javascript": [
       "\n",
       "            setTimeout(function() {\n",
       "                var nbb_cell_id = 30;\n",
       "                var nbb_unformatted_code = \"# Check values to compare with re-parameterized\\naz.summary(trace_13_2p, var_names=[\\\"bp\\\"])\";\n",
       "                var nbb_formatted_code = \"# Check values to compare with re-parameterized\\naz.summary(trace_13_2p, var_names=[\\\"bp\\\"])\";\n",
       "                var nbb_cells = Jupyter.notebook.get_cells();\n",
       "                for (var i = 0; i < nbb_cells.length; ++i) {\n",
       "                    if (nbb_cells[i].input_prompt_number == nbb_cell_id) {\n",
       "                        if (nbb_cells[i].get_text() == nbb_unformatted_code) {\n",
       "                             nbb_cells[i].set_text(nbb_formatted_code);\n",
       "                        }\n",
       "                        break;\n",
       "                    }\n",
       "                }\n",
       "            }, 500);\n",
       "            "
      ],
      "text/plain": [
       "<IPython.core.display.Javascript object>"
      ]
     },
     "metadata": {},
     "output_type": "display_data"
    }
   ],
   "source": [
    "# Check values to compare with re-parameterized\n",
    "az.summary(trace_13_2p, var_names=[\"bp\"])"
   ]
  },
  {
   "cell_type": "markdown",
   "id": "7cafbb22",
   "metadata": {},
   "source": [
    "### Re-parameterize"
   ]
  },
  {
   "cell_type": "markdown",
   "id": "91ab6e61",
   "metadata": {},
   "source": [
    "**Model 13.2p equation (centered)**\n",
    "\n",
    "$$S_i \\text{ ~ } \\text{Binomial}(N_i,p_i)$$\n",
    "\n",
    "$$\\text{logit}(p_i) = \\alpha_{\\text{TANK}[i]} + \\beta_{\\text{PREDATION}[i]}$$\n",
    "\n",
    "$$\\alpha_j \\text{ ~ } \\text{Normal}(\\bar{\\alpha}, \\sigma) \\tag{adaptive prior}$$\n",
    "\n",
    "$$\\beta_j \\text{ ~ } \\text{Normal}(0, 1) \\tag{regularizing prior}$$\n",
    "\n",
    "$$\\bar{\\alpha} \\text{ ~ } \\text{Normal}(0, 1.5) \\tag{prior for average tank}$$\n",
    "\n",
    "$$\\sigma \\text{ ~ } \\text{Exponential}(1) \\tag{prior for standard deviation of tanks}$$"
   ]
  },
  {
   "cell_type": "markdown",
   "id": "c8dc092d",
   "metadata": {},
   "source": [
    "**Model 13.2pr equation (non-centered)**\n",
    "\n",
    "$$S_i \\text{ ~ } \\text{Binomial}(N_i,p_i)$$\n",
    "\n",
    "$$\\text{logit}(p_i) = \\bar{\\alpha} + z_{\\text{TANK}[i]}\\sigma + \\beta_{\\text{PREDATION}[i]}$$\n",
    "\n",
    "$$z_j \\text{ ~ } \\text{Normal}(0, 1) \\tag{standardized tank intercepts}$$\n",
    "\n",
    "$$\\beta_j \\text{ ~ } \\text{Normal}(0, 1) \\tag{regularizing prior}$$\n",
    "\n",
    "$$\\bar{\\alpha} \\text{ ~ } \\text{Normal}(0, 1.5) \\tag{prior for average tank}$$\n",
    "\n",
    "$$\\sigma \\text{ ~ } \\text{Exponential}(1) \\tag{prior for standard deviation of tanks}$$"
   ]
  },
  {
   "cell_type": "code",
   "execution_count": 25,
   "id": "47648e63",
   "metadata": {
    "ExecuteTime": {
     "end_time": "2021-07-31T00:07:53.084016Z",
     "start_time": "2021-07-31T00:07:13.161155Z"
    }
   },
   "outputs": [
    {
     "name": "stderr",
     "output_type": "stream",
     "text": [
      "Auto-assigning NUTS sampler...\n",
      "Initializing NUTS using jitter+adapt_diag...\n",
      "Multiprocess sampling (4 chains in 4 jobs)\n",
      "NUTS: [bp, z, sigma, a_bar]\n"
     ]
    },
    {
     "data": {
      "text/html": [
       "\n",
       "    <div>\n",
       "        <style>\n",
       "            /* Turns off some styling */\n",
       "            progress {\n",
       "                /* gets rid of default border in Firefox and Opera. */\n",
       "                border: none;\n",
       "                /* Needs to be in here for Safari polyfill so background images work as expected. */\n",
       "                background-size: auto;\n",
       "            }\n",
       "            .progress-bar-interrupted, .progress-bar-interrupted::-webkit-progress-bar {\n",
       "                background: #F44336;\n",
       "            }\n",
       "        </style>\n",
       "      <progress value='8000' class='' max='8000' style='width:300px; height:20px; vertical-align: middle;'></progress>\n",
       "      100.00% [8000/8000 00:12<00:00 Sampling 4 chains, 0 divergences]\n",
       "    </div>\n",
       "    "
      ],
      "text/plain": [
       "<IPython.core.display.HTML object>"
      ]
     },
     "metadata": {},
     "output_type": "display_data"
    },
    {
     "name": "stderr",
     "output_type": "stream",
     "text": [
      "Sampling 4 chains for 1_000 tune and 1_000 draw iterations (4_000 + 4_000 draws total) took 26 seconds.\n"
     ]
    },
    {
     "data": {
      "application/javascript": [
       "\n",
       "            setTimeout(function() {\n",
       "                var nbb_cell_id = 25;\n",
       "                var nbb_unformatted_code = \"with pm.Model() as m_13_2pr:\\n    # prior for average tank\\n    a_bar = pm.Normal(\\\"a_bar\\\", 0.0, 1.5)\\n\\n    # prior for SD of tanks\\n    sigma = pm.Exponential(\\\"sigma\\\", 1.0)\\n\\n    # standardized tank intercepts\\n    z = pm.Normal(\\\"z\\\", 0, 1, shape=n_tanks)\\n\\n    # regularizing prior (assume shape will be 2)\\n    bp = pm.Normal(\\\"bp\\\", 0, 1, shape=len(df_frogs[\\\"pred_code\\\"].unique()))\\n\\n    p = pm.math.invlogit(a_bar + z[tank] * sigma + bp[df_frogs[\\\"pred_code\\\"]])\\n\\n    S = pm.Binomial(\\\"S\\\", n=df_frogs[\\\"density\\\"], p=p, observed=df_frogs[\\\"surv\\\"])\\n\\n    trace_13_2pr = pm.sample(draws=1000, random_seed=19, return_inferencedata=True)\";\n",
       "                var nbb_formatted_code = \"with pm.Model() as m_13_2pr:\\n    # prior for average tank\\n    a_bar = pm.Normal(\\\"a_bar\\\", 0.0, 1.5)\\n\\n    # prior for SD of tanks\\n    sigma = pm.Exponential(\\\"sigma\\\", 1.0)\\n\\n    # standardized tank intercepts\\n    z = pm.Normal(\\\"z\\\", 0, 1, shape=n_tanks)\\n\\n    # regularizing prior (assume shape will be 2)\\n    bp = pm.Normal(\\\"bp\\\", 0, 1, shape=len(df_frogs[\\\"pred_code\\\"].unique()))\\n\\n    p = pm.math.invlogit(a_bar + z[tank] * sigma + bp[df_frogs[\\\"pred_code\\\"]])\\n\\n    S = pm.Binomial(\\\"S\\\", n=df_frogs[\\\"density\\\"], p=p, observed=df_frogs[\\\"surv\\\"])\\n\\n    trace_13_2pr = pm.sample(draws=1000, random_seed=19, return_inferencedata=True)\";\n",
       "                var nbb_cells = Jupyter.notebook.get_cells();\n",
       "                for (var i = 0; i < nbb_cells.length; ++i) {\n",
       "                    if (nbb_cells[i].input_prompt_number == nbb_cell_id) {\n",
       "                        if (nbb_cells[i].get_text() == nbb_unformatted_code) {\n",
       "                             nbb_cells[i].set_text(nbb_formatted_code);\n",
       "                        }\n",
       "                        break;\n",
       "                    }\n",
       "                }\n",
       "            }, 500);\n",
       "            "
      ],
      "text/plain": [
       "<IPython.core.display.Javascript object>"
      ]
     },
     "metadata": {},
     "output_type": "display_data"
    }
   ],
   "source": [
    "with pm.Model() as m_13_2pr:\n",
    "    # prior for average tank\n",
    "    a_bar = pm.Normal(\"a_bar\", 0.0, 1.5)\n",
    "\n",
    "    # prior for SD of tanks\n",
    "    sigma = pm.Exponential(\"sigma\", 1.0)\n",
    "\n",
    "    # standardized tank intercepts\n",
    "    z = pm.Normal(\"z\", 0, 1, shape=n_tanks)\n",
    "\n",
    "    # regularizing prior (assume shape will be 2)\n",
    "    bp = pm.Normal(\"bp\", 0, 1, shape=len(df_frogs[\"pred_code\"].unique()))\n",
    "\n",
    "    p = pm.math.invlogit(a_bar + z[tank] * sigma + bp[df_frogs[\"pred_code\"]])\n",
    "\n",
    "    S = pm.Binomial(\"S\", n=df_frogs[\"density\"], p=p, observed=df_frogs[\"surv\"])\n",
    "\n",
    "    trace_13_2pr = pm.sample(draws=1000, random_seed=19, return_inferencedata=True)"
   ]
  },
  {
   "cell_type": "markdown",
   "id": "8411d2f3",
   "metadata": {},
   "source": [
    "No warnings observed."
   ]
  },
  {
   "cell_type": "markdown",
   "id": "9931a67f",
   "metadata": {},
   "source": [
    "### Compare centered and non-centered models"
   ]
  },
  {
   "cell_type": "code",
   "execution_count": 52,
   "id": "9ed1a6c6",
   "metadata": {
    "ExecuteTime": {
     "end_time": "2021-07-31T00:26:21.688062Z",
     "start_time": "2021-07-31T00:26:21.598799Z"
    }
   },
   "outputs": [
    {
     "data": {
      "text/html": [
       "<div>\n",
       "<style scoped>\n",
       "    .dataframe tbody tr th:only-of-type {\n",
       "        vertical-align: middle;\n",
       "    }\n",
       "\n",
       "    .dataframe tbody tr th {\n",
       "        vertical-align: top;\n",
       "    }\n",
       "\n",
       "    .dataframe thead th {\n",
       "        text-align: right;\n",
       "    }\n",
       "</style>\n",
       "<table border=\"1\" class=\"dataframe\">\n",
       "  <thead>\n",
       "    <tr style=\"text-align: right;\">\n",
       "      <th></th>\n",
       "      <th>mean</th>\n",
       "      <th>sd</th>\n",
       "      <th>hdi_5.5%</th>\n",
       "      <th>hdi_94.5%</th>\n",
       "      <th>mcse_mean</th>\n",
       "      <th>mcse_sd</th>\n",
       "      <th>ess_mean</th>\n",
       "      <th>ess_sd</th>\n",
       "      <th>ess_bulk</th>\n",
       "      <th>ess_tail</th>\n",
       "      <th>r_hat</th>\n",
       "    </tr>\n",
       "  </thead>\n",
       "  <tbody>\n",
       "    <tr>\n",
       "      <th>bp[0]</th>\n",
       "      <td>1.451</td>\n",
       "      <td>0.637</td>\n",
       "      <td>0.373</td>\n",
       "      <td>2.432</td>\n",
       "      <td>0.088</td>\n",
       "      <td>0.063</td>\n",
       "      <td>52.0</td>\n",
       "      <td>52.0</td>\n",
       "      <td>53.0</td>\n",
       "      <td>190.0</td>\n",
       "      <td>1.07</td>\n",
       "    </tr>\n",
       "    <tr>\n",
       "      <th>bp[1]</th>\n",
       "      <td>-1.093</td>\n",
       "      <td>0.635</td>\n",
       "      <td>-2.154</td>\n",
       "      <td>-0.142</td>\n",
       "      <td>0.096</td>\n",
       "      <td>0.069</td>\n",
       "      <td>43.0</td>\n",
       "      <td>43.0</td>\n",
       "      <td>44.0</td>\n",
       "      <td>158.0</td>\n",
       "      <td>1.07</td>\n",
       "    </tr>\n",
       "    <tr>\n",
       "      <th>sigma</th>\n",
       "      <td>0.827</td>\n",
       "      <td>0.144</td>\n",
       "      <td>0.580</td>\n",
       "      <td>1.038</td>\n",
       "      <td>0.009</td>\n",
       "      <td>0.006</td>\n",
       "      <td>259.0</td>\n",
       "      <td>259.0</td>\n",
       "      <td>247.0</td>\n",
       "      <td>340.0</td>\n",
       "      <td>1.02</td>\n",
       "    </tr>\n",
       "  </tbody>\n",
       "</table>\n",
       "</div>"
      ],
      "text/plain": [
       "        mean     sd  hdi_5.5%  hdi_94.5%  mcse_mean  mcse_sd  ess_mean  \\\n",
       "bp[0]  1.451  0.637     0.373      2.432      0.088    0.063      52.0   \n",
       "bp[1] -1.093  0.635    -2.154     -0.142      0.096    0.069      43.0   \n",
       "sigma  0.827  0.144     0.580      1.038      0.009    0.006     259.0   \n",
       "\n",
       "       ess_sd  ess_bulk  ess_tail  r_hat  \n",
       "bp[0]    52.0      53.0     190.0   1.07  \n",
       "bp[1]    43.0      44.0     158.0   1.07  \n",
       "sigma   259.0     247.0     340.0   1.02  "
      ]
     },
     "execution_count": 52,
     "metadata": {},
     "output_type": "execute_result"
    },
    {
     "data": {
      "application/javascript": [
       "\n",
       "            setTimeout(function() {\n",
       "                var nbb_cell_id = 52;\n",
       "                var nbb_unformatted_code = \"az.summary(trace_13_2p, var_names=[\\\"bp\\\", \\\"sigma\\\"])\";\n",
       "                var nbb_formatted_code = \"az.summary(trace_13_2p, var_names=[\\\"bp\\\", \\\"sigma\\\"])\";\n",
       "                var nbb_cells = Jupyter.notebook.get_cells();\n",
       "                for (var i = 0; i < nbb_cells.length; ++i) {\n",
       "                    if (nbb_cells[i].input_prompt_number == nbb_cell_id) {\n",
       "                        if (nbb_cells[i].get_text() == nbb_unformatted_code) {\n",
       "                             nbb_cells[i].set_text(nbb_formatted_code);\n",
       "                        }\n",
       "                        break;\n",
       "                    }\n",
       "                }\n",
       "            }, 500);\n",
       "            "
      ],
      "text/plain": [
       "<IPython.core.display.Javascript object>"
      ]
     },
     "metadata": {},
     "output_type": "display_data"
    }
   ],
   "source": [
    "az.summary(trace_13_2p, var_names=[\"bp\", \"sigma\"])"
   ]
  },
  {
   "cell_type": "code",
   "execution_count": 53,
   "id": "84222e40",
   "metadata": {
    "ExecuteTime": {
     "end_time": "2021-07-31T00:26:26.964712Z",
     "start_time": "2021-07-31T00:26:26.921443Z"
    }
   },
   "outputs": [
    {
     "data": {
      "text/html": [
       "<div>\n",
       "<style scoped>\n",
       "    .dataframe tbody tr th:only-of-type {\n",
       "        vertical-align: middle;\n",
       "    }\n",
       "\n",
       "    .dataframe tbody tr th {\n",
       "        vertical-align: top;\n",
       "    }\n",
       "\n",
       "    .dataframe thead th {\n",
       "        text-align: right;\n",
       "    }\n",
       "</style>\n",
       "<table border=\"1\" class=\"dataframe\">\n",
       "  <thead>\n",
       "    <tr style=\"text-align: right;\">\n",
       "      <th></th>\n",
       "      <th>mean</th>\n",
       "      <th>sd</th>\n",
       "      <th>hdi_5.5%</th>\n",
       "      <th>hdi_94.5%</th>\n",
       "      <th>mcse_mean</th>\n",
       "      <th>mcse_sd</th>\n",
       "      <th>ess_mean</th>\n",
       "      <th>ess_sd</th>\n",
       "      <th>ess_bulk</th>\n",
       "      <th>ess_tail</th>\n",
       "      <th>r_hat</th>\n",
       "    </tr>\n",
       "  </thead>\n",
       "  <tbody>\n",
       "    <tr>\n",
       "      <th>bp[0]</th>\n",
       "      <td>1.520</td>\n",
       "      <td>0.671</td>\n",
       "      <td>0.471</td>\n",
       "      <td>2.617</td>\n",
       "      <td>0.012</td>\n",
       "      <td>0.008</td>\n",
       "      <td>3341.0</td>\n",
       "      <td>3235.0</td>\n",
       "      <td>3339.0</td>\n",
       "      <td>2852.0</td>\n",
       "      <td>1.0</td>\n",
       "    </tr>\n",
       "    <tr>\n",
       "      <th>bp[1]</th>\n",
       "      <td>-1.033</td>\n",
       "      <td>0.666</td>\n",
       "      <td>-2.053</td>\n",
       "      <td>0.085</td>\n",
       "      <td>0.012</td>\n",
       "      <td>0.009</td>\n",
       "      <td>3237.0</td>\n",
       "      <td>2853.0</td>\n",
       "      <td>3235.0</td>\n",
       "      <td>2826.0</td>\n",
       "      <td>1.0</td>\n",
       "    </tr>\n",
       "    <tr>\n",
       "      <th>sigma</th>\n",
       "      <td>0.820</td>\n",
       "      <td>0.140</td>\n",
       "      <td>0.605</td>\n",
       "      <td>1.044</td>\n",
       "      <td>0.003</td>\n",
       "      <td>0.002</td>\n",
       "      <td>1753.0</td>\n",
       "      <td>1753.0</td>\n",
       "      <td>1772.0</td>\n",
       "      <td>3063.0</td>\n",
       "      <td>1.0</td>\n",
       "    </tr>\n",
       "  </tbody>\n",
       "</table>\n",
       "</div>"
      ],
      "text/plain": [
       "        mean     sd  hdi_5.5%  hdi_94.5%  mcse_mean  mcse_sd  ess_mean  \\\n",
       "bp[0]  1.520  0.671     0.471      2.617      0.012    0.008    3341.0   \n",
       "bp[1] -1.033  0.666    -2.053      0.085      0.012    0.009    3237.0   \n",
       "sigma  0.820  0.140     0.605      1.044      0.003    0.002    1753.0   \n",
       "\n",
       "       ess_sd  ess_bulk  ess_tail  r_hat  \n",
       "bp[0]  3235.0    3339.0    2852.0    1.0  \n",
       "bp[1]  2853.0    3235.0    2826.0    1.0  \n",
       "sigma  1753.0    1772.0    3063.0    1.0  "
      ]
     },
     "execution_count": 53,
     "metadata": {},
     "output_type": "execute_result"
    },
    {
     "data": {
      "application/javascript": [
       "\n",
       "            setTimeout(function() {\n",
       "                var nbb_cell_id = 53;\n",
       "                var nbb_unformatted_code = \"# Check values to compare with centered model.\\naz.summary(trace_13_2pr, var_names=[\\\"bp\\\", \\\"sigma\\\"])\";\n",
       "                var nbb_formatted_code = \"# Check values to compare with centered model.\\naz.summary(trace_13_2pr, var_names=[\\\"bp\\\", \\\"sigma\\\"])\";\n",
       "                var nbb_cells = Jupyter.notebook.get_cells();\n",
       "                for (var i = 0; i < nbb_cells.length; ++i) {\n",
       "                    if (nbb_cells[i].input_prompt_number == nbb_cell_id) {\n",
       "                        if (nbb_cells[i].get_text() == nbb_unformatted_code) {\n",
       "                             nbb_cells[i].set_text(nbb_formatted_code);\n",
       "                        }\n",
       "                        break;\n",
       "                    }\n",
       "                }\n",
       "            }, 500);\n",
       "            "
      ],
      "text/plain": [
       "<IPython.core.display.Javascript object>"
      ]
     },
     "metadata": {},
     "output_type": "display_data"
    }
   ],
   "source": [
    "# Check values to compare with centered model.\n",
    "az.summary(trace_13_2pr, var_names=[\"bp\", \"sigma\"])"
   ]
  },
  {
   "cell_type": "markdown",
   "id": "3353fafb",
   "metadata": {},
   "source": [
    "The number of effective samples (ess = effective sample size) is much larger in the non-centered model! Let's look  more closely at the parameter estimates too."
   ]
  },
  {
   "cell_type": "code",
   "execution_count": 35,
   "id": "eb3d9e47",
   "metadata": {
    "ExecuteTime": {
     "end_time": "2021-07-31T00:11:24.997395Z",
     "start_time": "2021-07-31T00:11:21.993108Z"
    }
   },
   "outputs": [
    {
     "data": {
      "text/plain": [
       "Text(0.5, 1.0, 'non-centered')"
      ]
     },
     "execution_count": 35,
     "metadata": {},
     "output_type": "execute_result"
    },
    {
     "data": {
      "image/png": "[encoded data removed]",
      "text/plain": [
       "<Figure size 1200x1200 with 2 Axes>"
      ]
     },
     "metadata": {
      "image/png": {
       "height": 1211,
       "width": 1211
      }
     },
     "output_type": "display_data"
    },
    {
     "data": {
      "application/javascript": [
       "\n",
       "            setTimeout(function() {\n",
       "                var nbb_cell_id = 35;\n",
       "                var nbb_unformatted_code = \"f, (ax1, ax2) = plt.subplots(1, 2, figsize=(12, 12), sharex=True)\\naz.plot_forest(trace_13_2p, combined=True, ax=ax1)\\naz.plot_forest(trace_13_2pr, combined=True, ax=ax2)\\nax1.set_title('centered')\\nax2.set_title('non-centered')\";\n",
       "                var nbb_formatted_code = \"f, (ax1, ax2) = plt.subplots(1, 2, figsize=(12, 12), sharex=True)\\naz.plot_forest(trace_13_2p, combined=True, ax=ax1)\\naz.plot_forest(trace_13_2pr, combined=True, ax=ax2)\\nax1.set_title(\\\"centered\\\")\\nax2.set_title(\\\"non-centered\\\")\";\n",
       "                var nbb_cells = Jupyter.notebook.get_cells();\n",
       "                for (var i = 0; i < nbb_cells.length; ++i) {\n",
       "                    if (nbb_cells[i].input_prompt_number == nbb_cell_id) {\n",
       "                        if (nbb_cells[i].get_text() == nbb_unformatted_code) {\n",
       "                             nbb_cells[i].set_text(nbb_formatted_code);\n",
       "                        }\n",
       "                        break;\n",
       "                    }\n",
       "                }\n",
       "            }, 500);\n",
       "            "
      ],
      "text/plain": [
       "<IPython.core.display.Javascript object>"
      ]
     },
     "metadata": {},
     "output_type": "display_data"
    }
   ],
   "source": [
    "f, (ax1, ax2) = plt.subplots(1, 2, figsize=(12, 12), sharex=True)\n",
    "az.plot_forest(trace_13_2p, combined=True, ax=ax1)\n",
    "az.plot_forest(trace_13_2pr, combined=True, ax=ax2)\n",
    "ax1.set_title('centered')\n",
    "ax2.set_title('non-centered')\n"
   ]
  },
  {
   "cell_type": "markdown",
   "id": "c27a3812",
   "metadata": {},
   "source": [
    "Patterns are largely similar between centered and non-centered parameters but there's some subtlety (see tank 47). The variability also appears tighter."
   ]
  },
  {
   "cell_type": "code",
   "execution_count": 47,
   "id": "aecf9d4b",
   "metadata": {
    "ExecuteTime": {
     "end_time": "2021-07-31T00:21:52.553374Z",
     "start_time": "2021-07-31T00:21:50.954594Z"
    }
   },
   "outputs": [
    {
     "data": {
      "text/plain": [
       "[Text(0.5, 0, 'centered'),\n",
       " Text(0, 0.5, 'non-centered'),\n",
       " Text(0.5, 1.0, 'Impact of re-parameterization\\non parameter variability')]"
      ]
     },
     "execution_count": 47,
     "metadata": {},
     "output_type": "execute_result"
    },
    {
     "data": {
      "image/png": "[encoded data removed]",
      "text/plain": [
       "<Figure size 600x600 with 1 Axes>"
      ]
     },
     "metadata": {
      "image/png": {
       "height": 611,
       "width": 611
      }
     },
     "output_type": "display_data"
    },
    {
     "data": {
      "application/javascript": [
       "\n",
       "            setTimeout(function() {\n",
       "                var nbb_cell_id = 47;\n",
       "                var nbb_unformatted_code = \"f, ax1 = plt.subplots(figsize=(6, 6))\\nax1.scatter(x=az.summary(trace_13_2p)[\\\"sd\\\"], y=az.summary(trace_13_2pr)[\\\"sd\\\"])\\nax1.set_xlim(0, 1.2)\\nax1.set_ylim(0, 1.2)\\nax1.axline((0, 0), (1, 1), linewidth=1, linestyle=\\\"dashed\\\", color=\\\"gray\\\")\\nax1.set(\\n    xlabel=\\\"centered\\\",\\n    ylabel=\\\"non-centered\\\",\\n    title=\\\"Impact of re-parameterization\\\\non parameter variability\\\",\\n)\";\n",
       "                var nbb_formatted_code = \"f, ax1 = plt.subplots(figsize=(6, 6))\\nax1.scatter(x=az.summary(trace_13_2p)[\\\"sd\\\"], y=az.summary(trace_13_2pr)[\\\"sd\\\"])\\nax1.set_xlim(0, 1.2)\\nax1.set_ylim(0, 1.2)\\nax1.axline((0, 0), (1, 1), linewidth=1, linestyle=\\\"dashed\\\", color=\\\"gray\\\")\\nax1.set(\\n    xlabel=\\\"centered\\\",\\n    ylabel=\\\"non-centered\\\",\\n    title=\\\"Impact of re-parameterization\\\\non parameter variability\\\",\\n)\";\n",
       "                var nbb_cells = Jupyter.notebook.get_cells();\n",
       "                for (var i = 0; i < nbb_cells.length; ++i) {\n",
       "                    if (nbb_cells[i].input_prompt_number == nbb_cell_id) {\n",
       "                        if (nbb_cells[i].get_text() == nbb_unformatted_code) {\n",
       "                             nbb_cells[i].set_text(nbb_formatted_code);\n",
       "                        }\n",
       "                        break;\n",
       "                    }\n",
       "                }\n",
       "            }, 500);\n",
       "            "
      ],
      "text/plain": [
       "<IPython.core.display.Javascript object>"
      ]
     },
     "metadata": {},
     "output_type": "display_data"
    }
   ],
   "source": [
    "f, ax1 = plt.subplots(figsize=(6, 6))\n",
    "ax1.scatter(x=az.summary(trace_13_2p)[\"sd\"], y=az.summary(trace_13_2pr)[\"sd\"])\n",
    "ax1.set_xlim(0, 1.2)\n",
    "ax1.set_ylim(0, 1.2)\n",
    "ax1.axline((0, 0), (1, 1), linewidth=1, linestyle=\"dashed\", color=\"gray\")\n",
    "ax1.set(\n",
    "    xlabel=\"centered\",\n",
    "    ylabel=\"non-centered\",\n",
    "    title=\"Impact of re-parameterization\\non parameter variability\",\n",
    ")"
   ]
  },
  {
   "cell_type": "markdown",
   "id": "98381daa",
   "metadata": {},
   "source": [
    "### Impact of predation"
   ]
  },
  {
   "cell_type": "code",
   "execution_count": 51,
   "id": "4831946c",
   "metadata": {
    "ExecuteTime": {
     "end_time": "2021-07-31T00:24:09.136917Z",
     "start_time": "2021-07-31T00:24:08.917209Z"
    }
   },
   "outputs": [
    {
     "data": {
      "text/plain": [
       "Text(0.5, 0, 'log-odds survival')"
      ]
     },
     "execution_count": 51,
     "metadata": {},
     "output_type": "execute_result"
    },
    {
     "data": {
      "image/png": "[encoded data removed]",
      "text/plain": [
       "<Figure size 600x420 with 1 Axes>"
      ]
     },
     "metadata": {
      "image/png": {
       "height": 431,
       "width": 611
      }
     },
     "output_type": "display_data"
    },
    {
     "data": {
      "application/javascript": [
       "\n",
       "            setTimeout(function() {\n",
       "                var nbb_cell_id = 51;\n",
       "                var nbb_unformatted_code = \"# Check values to compare with centered model.\\naz.plot_forest(trace_13_2pr, var_names=[\\\"bp\\\"], combined=True)\\nplt.xlabel(\\\"log-odds survival\\\")\";\n",
       "                var nbb_formatted_code = \"# Check values to compare with centered model.\\naz.plot_forest(trace_13_2pr, var_names=[\\\"bp\\\"], combined=True)\\nplt.xlabel(\\\"log-odds survival\\\")\";\n",
       "                var nbb_cells = Jupyter.notebook.get_cells();\n",
       "                for (var i = 0; i < nbb_cells.length; ++i) {\n",
       "                    if (nbb_cells[i].input_prompt_number == nbb_cell_id) {\n",
       "                        if (nbb_cells[i].get_text() == nbb_unformatted_code) {\n",
       "                             nbb_cells[i].set_text(nbb_formatted_code);\n",
       "                        }\n",
       "                        break;\n",
       "                    }\n",
       "                }\n",
       "            }, 500);\n",
       "            "
      ],
      "text/plain": [
       "<IPython.core.display.Javascript object>"
      ]
     },
     "metadata": {},
     "output_type": "display_data"
    }
   ],
   "source": [
    "# Check values to compare with centered model.\n",
    "az.plot_forest(trace_13_2pr, var_names=[\"bp\"], combined=True)\n",
    "plt.xlabel(\"log-odds survival\")"
   ]
  },
  {
   "cell_type": "markdown",
   "id": "80666b91",
   "metadata": {},
   "source": [
    "Not surprisingly, the presence of predation significantly reduces the probability of survival."
   ]
  },
  {
   "cell_type": "markdown",
   "id": "beffeba6",
   "metadata": {},
   "source": [
    "## Model with `size` alone"
   ]
  },
  {
   "cell_type": "markdown",
   "id": "6b4a7bf2",
   "metadata": {},
   "source": [
    "**Model 13.2s equation**\n",
    "\n",
    "$$S_i \\text{ ~ } \\text{Binomial}(N_i,p_i)$$\n",
    "\n",
    "$$\\text{logit}(p_i) = \\alpha_{\\text{TANK}[i]} + \\beta_{\\text{SIZE}[i]}$$\n",
    "\n",
    "$$\\alpha_j \\text{ ~ } \\text{Normal}(\\bar{\\alpha}, \\sigma) \\tag{adaptive prior}$$\n",
    "\n",
    "$$\\beta_j \\text{ ~ } \\text{Normal}(0, 1) \\tag{regularizing prior}$$\n",
    "\n",
    "$$\\bar{\\alpha} \\text{ ~ } \\text{Normal}(0, 1.5) \\tag{prior for average tank}$$\n",
    "\n",
    "$$\\sigma \\text{ ~ } \\text{Exponential}(1) \\tag{prior for standard deviation of tanks}$$"
   ]
  },
  {
   "cell_type": "markdown",
   "id": "a34d4f30",
   "metadata": {},
   "source": [
    "**Model 13.2sr equation (non-centered)**\n",
    "\n",
    "$$S_i \\text{ ~ } \\text{Binomial}(N_i,p_i)$$\n",
    "\n",
    "$$\\text{logit}(p_i) = \\bar{\\alpha} + z_{\\text{TANK}[i]}\\sigma + \\beta_{\\text{SIZE}[i]}$$\n",
    "\n",
    "$$z_j \\text{ ~ } \\text{Normal}(0, 1) \\tag{standardized tank intercepts}$$\n",
    "\n",
    "$$\\beta_j \\text{ ~ } \\text{Normal}(0, 1) \\tag{regularizing prior}$$\n",
    "\n",
    "$$\\bar{\\alpha} \\text{ ~ } \\text{Normal}(0, 1.5) \\tag{prior for average tank}$$\n",
    "\n",
    "$$\\sigma \\text{ ~ } \\text{Exponential}(1) \\tag{prior for standard deviation of tanks}$$"
   ]
  },
  {
   "cell_type": "code",
   "execution_count": 59,
   "id": "22f5dba0",
   "metadata": {
    "ExecuteTime": {
     "end_time": "2021-07-31T00:31:00.007814Z",
     "start_time": "2021-07-31T00:30:59.999708Z"
    }
   },
   "outputs": [
    {
     "data": {
      "application/javascript": [
       "\n",
       "            setTimeout(function() {\n",
       "                var nbb_cell_id = 59;\n",
       "                var nbb_unformatted_code = \"df_frogs[\\\"size_code\\\"] = pd.Categorical(df_frogs[\\\"size\\\"], categories=[\\\"small\\\", \\\"big\\\"]).codes\";\n",
       "                var nbb_formatted_code = \"df_frogs[\\\"size_code\\\"] = pd.Categorical(\\n    df_frogs[\\\"size\\\"], categories=[\\\"small\\\", \\\"big\\\"]\\n).codes\";\n",
       "                var nbb_cells = Jupyter.notebook.get_cells();\n",
       "                for (var i = 0; i < nbb_cells.length; ++i) {\n",
       "                    if (nbb_cells[i].input_prompt_number == nbb_cell_id) {\n",
       "                        if (nbb_cells[i].get_text() == nbb_unformatted_code) {\n",
       "                             nbb_cells[i].set_text(nbb_formatted_code);\n",
       "                        }\n",
       "                        break;\n",
       "                    }\n",
       "                }\n",
       "            }, 500);\n",
       "            "
      ],
      "text/plain": [
       "<IPython.core.display.Javascript object>"
      ]
     },
     "metadata": {},
     "output_type": "display_data"
    }
   ],
   "source": [
    "df_frogs[\"size_code\"] = pd.Categorical(\n",
    "    df_frogs[\"size\"], categories=[\"small\", \"big\"]\n",
    ").codes"
   ]
  },
  {
   "cell_type": "code",
   "execution_count": 60,
   "id": "7c211f96",
   "metadata": {
    "ExecuteTime": {
     "end_time": "2021-07-31T00:31:01.855379Z",
     "start_time": "2021-07-31T00:31:01.844708Z"
    }
   },
   "outputs": [
    {
     "data": {
      "text/html": [
       "<div>\n",
       "<style scoped>\n",
       "    .dataframe tbody tr th:only-of-type {\n",
       "        vertical-align: middle;\n",
       "    }\n",
       "\n",
       "    .dataframe tbody tr th {\n",
       "        vertical-align: top;\n",
       "    }\n",
       "\n",
       "    .dataframe thead th {\n",
       "        text-align: right;\n",
       "    }\n",
       "</style>\n",
       "<table border=\"1\" class=\"dataframe\">\n",
       "  <thead>\n",
       "    <tr style=\"text-align: right;\">\n",
       "      <th></th>\n",
       "      <th>density</th>\n",
       "      <th>pred</th>\n",
       "      <th>size</th>\n",
       "      <th>surv</th>\n",
       "      <th>propsurv</th>\n",
       "      <th>pred_code</th>\n",
       "      <th>size_code</th>\n",
       "    </tr>\n",
       "  </thead>\n",
       "  <tbody>\n",
       "    <tr>\n",
       "      <th>0</th>\n",
       "      <td>10</td>\n",
       "      <td>no</td>\n",
       "      <td>big</td>\n",
       "      <td>9</td>\n",
       "      <td>0.9</td>\n",
       "      <td>0</td>\n",
       "      <td>1</td>\n",
       "    </tr>\n",
       "    <tr>\n",
       "      <th>1</th>\n",
       "      <td>10</td>\n",
       "      <td>no</td>\n",
       "      <td>big</td>\n",
       "      <td>10</td>\n",
       "      <td>1.0</td>\n",
       "      <td>0</td>\n",
       "      <td>1</td>\n",
       "    </tr>\n",
       "    <tr>\n",
       "      <th>2</th>\n",
       "      <td>10</td>\n",
       "      <td>no</td>\n",
       "      <td>big</td>\n",
       "      <td>7</td>\n",
       "      <td>0.7</td>\n",
       "      <td>0</td>\n",
       "      <td>1</td>\n",
       "    </tr>\n",
       "    <tr>\n",
       "      <th>3</th>\n",
       "      <td>10</td>\n",
       "      <td>no</td>\n",
       "      <td>big</td>\n",
       "      <td>10</td>\n",
       "      <td>1.0</td>\n",
       "      <td>0</td>\n",
       "      <td>1</td>\n",
       "    </tr>\n",
       "    <tr>\n",
       "      <th>4</th>\n",
       "      <td>10</td>\n",
       "      <td>no</td>\n",
       "      <td>small</td>\n",
       "      <td>9</td>\n",
       "      <td>0.9</td>\n",
       "      <td>0</td>\n",
       "      <td>0</td>\n",
       "    </tr>\n",
       "  </tbody>\n",
       "</table>\n",
       "</div>"
      ],
      "text/plain": [
       "   density pred   size  surv  propsurv  pred_code  size_code\n",
       "0       10   no    big     9       0.9          0          1\n",
       "1       10   no    big    10       1.0          0          1\n",
       "2       10   no    big     7       0.7          0          1\n",
       "3       10   no    big    10       1.0          0          1\n",
       "4       10   no  small     9       0.9          0          0"
      ]
     },
     "execution_count": 60,
     "metadata": {},
     "output_type": "execute_result"
    },
    {
     "data": {
      "application/javascript": [
       "\n",
       "            setTimeout(function() {\n",
       "                var nbb_cell_id = 60;\n",
       "                var nbb_unformatted_code = \"df_frogs.head()\";\n",
       "                var nbb_formatted_code = \"df_frogs.head()\";\n",
       "                var nbb_cells = Jupyter.notebook.get_cells();\n",
       "                for (var i = 0; i < nbb_cells.length; ++i) {\n",
       "                    if (nbb_cells[i].input_prompt_number == nbb_cell_id) {\n",
       "                        if (nbb_cells[i].get_text() == nbb_unformatted_code) {\n",
       "                             nbb_cells[i].set_text(nbb_formatted_code);\n",
       "                        }\n",
       "                        break;\n",
       "                    }\n",
       "                }\n",
       "            }, 500);\n",
       "            "
      ],
      "text/plain": [
       "<IPython.core.display.Javascript object>"
      ]
     },
     "metadata": {},
     "output_type": "display_data"
    }
   ],
   "source": [
    "df_frogs.head()"
   ]
  },
  {
   "cell_type": "code",
   "execution_count": 62,
   "id": "58efa1ef",
   "metadata": {
    "ExecuteTime": {
     "end_time": "2021-07-31T00:35:06.972467Z",
     "start_time": "2021-07-31T00:34:35.829730Z"
    },
    "scrolled": true
   },
   "outputs": [
    {
     "name": "stderr",
     "output_type": "stream",
     "text": [
      "Auto-assigning NUTS sampler...\n",
      "Initializing NUTS using jitter+adapt_diag...\n",
      "Multiprocess sampling (4 chains in 4 jobs)\n",
      "NUTS: [bs, z, sigma, a_bar]\n"
     ]
    },
    {
     "data": {
      "text/html": [
       "\n",
       "    <div>\n",
       "        <style>\n",
       "            /* Turns off some styling */\n",
       "            progress {\n",
       "                /* gets rid of default border in Firefox and Opera. */\n",
       "                border: none;\n",
       "                /* Needs to be in here for Safari polyfill so background images work as expected. */\n",
       "                background-size: auto;\n",
       "            }\n",
       "            .progress-bar-interrupted, .progress-bar-interrupted::-webkit-progress-bar {\n",
       "                background: #F44336;\n",
       "            }\n",
       "        </style>\n",
       "      <progress value='8000' class='' max='8000' style='width:300px; height:20px; vertical-align: middle;'></progress>\n",
       "      100.00% [8000/8000 00:09<00:00 Sampling 4 chains, 0 divergences]\n",
       "    </div>\n",
       "    "
      ],
      "text/plain": [
       "<IPython.core.display.HTML object>"
      ]
     },
     "metadata": {},
     "output_type": "display_data"
    },
    {
     "name": "stderr",
     "output_type": "stream",
     "text": [
      "Sampling 4 chains for 1_000 tune and 1_000 draw iterations (4_000 + 4_000 draws total) took 27 seconds.\n"
     ]
    },
    {
     "data": {
      "application/javascript": [
       "\n",
       "            setTimeout(function() {\n",
       "                var nbb_cell_id = 62;\n",
       "                var nbb_unformatted_code = \"# non-centered version\\nwith pm.Model() as m_13_2sr:\\n    # prior for average tank\\n    a_bar = pm.Normal(\\\"a_bar\\\", 0.0, 1.5)\\n\\n    # prior for SD of tanks\\n    sigma = pm.Exponential(\\\"sigma\\\", 1.0)\\n\\n    # standardized tank intercepts\\n    z = pm.Normal(\\\"z\\\", 0, 1, shape=n_tanks)\\n\\n    # regularizing prior\\n    bs = pm.Normal(\\\"bs\\\", 0, 1, shape=len(df_frogs[\\\"size_code\\\"].unique()))\\n\\n    p = pm.math.invlogit(a_bar + z[tank] * sigma + bs[df_frogs[\\\"size_code\\\"]])\\n\\n    S = pm.Binomial(\\\"S\\\", n=df_frogs[\\\"density\\\"], p=p, observed=df_frogs[\\\"surv\\\"])\\n\\n    trace_13_2sr = pm.sample(draws=1000, random_seed=19, return_inferencedata=True)\";\n",
       "                var nbb_formatted_code = \"# non-centered version\\nwith pm.Model() as m_13_2sr:\\n    # prior for average tank\\n    a_bar = pm.Normal(\\\"a_bar\\\", 0.0, 1.5)\\n\\n    # prior for SD of tanks\\n    sigma = pm.Exponential(\\\"sigma\\\", 1.0)\\n\\n    # standardized tank intercepts\\n    z = pm.Normal(\\\"z\\\", 0, 1, shape=n_tanks)\\n\\n    # regularizing prior\\n    bs = pm.Normal(\\\"bs\\\", 0, 1, shape=len(df_frogs[\\\"size_code\\\"].unique()))\\n\\n    p = pm.math.invlogit(a_bar + z[tank] * sigma + bs[df_frogs[\\\"size_code\\\"]])\\n\\n    S = pm.Binomial(\\\"S\\\", n=df_frogs[\\\"density\\\"], p=p, observed=df_frogs[\\\"surv\\\"])\\n\\n    trace_13_2sr = pm.sample(draws=1000, random_seed=19, return_inferencedata=True)\";\n",
       "                var nbb_cells = Jupyter.notebook.get_cells();\n",
       "                for (var i = 0; i < nbb_cells.length; ++i) {\n",
       "                    if (nbb_cells[i].input_prompt_number == nbb_cell_id) {\n",
       "                        if (nbb_cells[i].get_text() == nbb_unformatted_code) {\n",
       "                             nbb_cells[i].set_text(nbb_formatted_code);\n",
       "                        }\n",
       "                        break;\n",
       "                    }\n",
       "                }\n",
       "            }, 500);\n",
       "            "
      ],
      "text/plain": [
       "<IPython.core.display.Javascript object>"
      ]
     },
     "metadata": {},
     "output_type": "display_data"
    }
   ],
   "source": [
    "# non-centered version\n",
    "with pm.Model() as m_13_2sr:\n",
    "    # prior for average tank\n",
    "    a_bar = pm.Normal(\"a_bar\", 0.0, 1.5)\n",
    "\n",
    "    # prior for SD of tanks\n",
    "    sigma = pm.Exponential(\"sigma\", 1.0)\n",
    "\n",
    "    # standardized tank intercepts\n",
    "    z = pm.Normal(\"z\", 0, 1, shape=n_tanks)\n",
    "\n",
    "    # regularizing prior\n",
    "    bs = pm.Normal(\"bs\", 0, 1, shape=len(df_frogs[\"size_code\"].unique()))\n",
    "\n",
    "    p = pm.math.invlogit(a_bar + z[tank] * sigma + bs[df_frogs[\"size_code\"]])\n",
    "\n",
    "    S = pm.Binomial(\"S\", n=df_frogs[\"density\"], p=p, observed=df_frogs[\"surv\"])\n",
    "\n",
    "    trace_13_2sr = pm.sample(draws=1000, random_seed=19, return_inferencedata=True)"
   ]
  },
  {
   "cell_type": "markdown",
   "id": "139de0aa",
   "metadata": {},
   "source": [
    "### Impact of size"
   ]
  },
  {
   "cell_type": "code",
   "execution_count": 64,
   "id": "86fb007a",
   "metadata": {
    "ExecuteTime": {
     "end_time": "2021-07-31T00:37:20.348919Z",
     "start_time": "2021-07-31T00:37:19.889113Z"
    },
    "scrolled": false
   },
   "outputs": [
    {
     "data": {
      "text/plain": [
       "Text(0.5, 0, 'log-odds survival')"
      ]
     },
     "execution_count": 64,
     "metadata": {},
     "output_type": "execute_result"
    },
    {
     "data": {
      "image/png": "[encoded data removed]",
      "text/plain": [
       "<Figure size 600x420 with 1 Axes>"
      ]
     },
     "metadata": {
      "image/png": {
       "height": 431,
       "width": 611
      }
     },
     "output_type": "display_data"
    },
    {
     "data": {
      "application/javascript": [
       "\n",
       "            setTimeout(function() {\n",
       "                var nbb_cell_id = 64;\n",
       "                var nbb_unformatted_code = \"# Check values to compare with centered model.\\naz.plot_forest(trace_13_2sr, var_names=[\\\"bs\\\"], combined=True)\\nplt.xlabel(\\\"log-odds survival\\\")\";\n",
       "                var nbb_formatted_code = \"# Check values to compare with centered model.\\naz.plot_forest(trace_13_2sr, var_names=[\\\"bs\\\"], combined=True)\\nplt.xlabel(\\\"log-odds survival\\\")\";\n",
       "                var nbb_cells = Jupyter.notebook.get_cells();\n",
       "                for (var i = 0; i < nbb_cells.length; ++i) {\n",
       "                    if (nbb_cells[i].input_prompt_number == nbb_cell_id) {\n",
       "                        if (nbb_cells[i].get_text() == nbb_unformatted_code) {\n",
       "                             nbb_cells[i].set_text(nbb_formatted_code);\n",
       "                        }\n",
       "                        break;\n",
       "                    }\n",
       "                }\n",
       "            }, 500);\n",
       "            "
      ],
      "text/plain": [
       "<IPython.core.display.Javascript object>"
      ]
     },
     "metadata": {},
     "output_type": "display_data"
    }
   ],
   "source": [
    "# Check values to compare with centered model.\n",
    "az.plot_forest(trace_13_2sr, var_names=[\"bs\"], combined=True)\n",
    "plt.xlabel(\"log-odds survival\")"
   ]
  },
  {
   "cell_type": "markdown",
   "id": "e9eda81d",
   "metadata": {},
   "source": [
    "Size does not make a big impact on survival rate."
   ]
  },
  {
   "cell_type": "markdown",
   "id": "86b61489",
   "metadata": {},
   "source": [
    "## Model with both predictors"
   ]
  },
  {
   "cell_type": "markdown",
   "id": "ffe7242e",
   "metadata": {},
   "source": [
    "**Model 13.2both equation (non-centered)**\n",
    "\n",
    "$$S_i \\text{ ~ } \\text{Binomial}(N_i,p_i)$$\n",
    "\n",
    "$$\\text{logit}(p_i) = \\bar{\\alpha} + z_{\\text{TANK}[i]}\\sigma + \\beta_{\\text{SIZE}[i]} + \\beta_{\\text{PRED}[i]}$$\n",
    "\n",
    "$$z_j \\text{ ~ } \\text{Normal}(0, 1) \\tag{standardized tank intercepts}$$\n",
    "\n",
    "$$\\beta_{\\text{SIZE}[j]} \\text{ ~ } \\text{Normal}(0, 1) \\tag{regularizing prior for size}$$\n",
    "\n",
    "$$\\beta_{\\text{PRED}[j]} \\text{ ~ } \\text{Normal}(0, 1) \\tag{regularizing prior for predation}$$\n",
    "\n",
    "$$\\bar{\\alpha} \\text{ ~ } \\text{Normal}(0, 1.5) \\tag{prior for average tank}$$\n",
    "\n",
    "$$\\sigma \\text{ ~ } \\text{Exponential}(1) \\tag{prior for standard deviation of tanks}$$"
   ]
  },
  {
   "cell_type": "code",
   "execution_count": 66,
   "id": "13b18bc6",
   "metadata": {
    "ExecuteTime": {
     "end_time": "2021-07-31T00:58:16.931608Z",
     "start_time": "2021-07-31T00:57:37.991582Z"
    }
   },
   "outputs": [
    {
     "name": "stderr",
     "output_type": "stream",
     "text": [
      "Auto-assigning NUTS sampler...\n",
      "Initializing NUTS using jitter+adapt_diag...\n",
      "Multiprocess sampling (4 chains in 4 jobs)\n",
      "NUTS: [bp, bs, z, sigma, a_bar]\n"
     ]
    },
    {
     "data": {
      "text/html": [
       "\n",
       "    <div>\n",
       "        <style>\n",
       "            /* Turns off some styling */\n",
       "            progress {\n",
       "                /* gets rid of default border in Firefox and Opera. */\n",
       "                border: none;\n",
       "                /* Needs to be in here for Safari polyfill so background images work as expected. */\n",
       "                background-size: auto;\n",
       "            }\n",
       "            .progress-bar-interrupted, .progress-bar-interrupted::-webkit-progress-bar {\n",
       "                background: #F44336;\n",
       "            }\n",
       "        </style>\n",
       "      <progress value='8000' class='' max='8000' style='width:300px; height:20px; vertical-align: middle;'></progress>\n",
       "      100.00% [8000/8000 00:13<00:00 Sampling 4 chains, 0 divergences]\n",
       "    </div>\n",
       "    "
      ],
      "text/plain": [
       "<IPython.core.display.HTML object>"
      ]
     },
     "metadata": {},
     "output_type": "display_data"
    },
    {
     "name": "stderr",
     "output_type": "stream",
     "text": [
      "Sampling 4 chains for 1_000 tune and 1_000 draw iterations (4_000 + 4_000 draws total) took 26 seconds.\n"
     ]
    },
    {
     "data": {
      "application/javascript": [
       "\n",
       "            setTimeout(function() {\n",
       "                var nbb_cell_id = 66;\n",
       "                var nbb_unformatted_code = \"# non-centered version\\nwith pm.Model() as m_13_2both:\\n    # prior for average tank\\n    a_bar = pm.Normal(\\\"a_bar\\\", 0.0, 1.5)\\n\\n    # prior for SD of tanks\\n    sigma = pm.Exponential(\\\"sigma\\\", 1.0)\\n\\n    # standardized tank intercepts\\n    z = pm.Normal(\\\"z\\\", 0, 1, shape=n_tanks)\\n\\n    # regularizing priors\\n    bs = pm.Normal(\\\"bs\\\", 0, 1, shape=len(df_frogs[\\\"size_code\\\"].unique()))\\n    bp = pm.Normal(\\\"bp\\\", 0, 1, shape=len(df_frogs[\\\"pred_code\\\"].unique()))\\n\\n    p = pm.math.invlogit(a_bar + z[tank] * sigma + bs[df_frogs[\\\"size_code\\\"]] + bp[df_frogs[\\\"pred_code\\\"]])\\n\\n    S = pm.Binomial(\\\"S\\\", n=df_frogs[\\\"density\\\"], p=p, observed=df_frogs[\\\"surv\\\"])\\n\\n    trace_13_2both = pm.sample(draws=1000, random_seed=19, return_inferencedata=True)\";\n",
       "                var nbb_formatted_code = \"# non-centered version\\nwith pm.Model() as m_13_2both:\\n    # prior for average tank\\n    a_bar = pm.Normal(\\\"a_bar\\\", 0.0, 1.5)\\n\\n    # prior for SD of tanks\\n    sigma = pm.Exponential(\\\"sigma\\\", 1.0)\\n\\n    # standardized tank intercepts\\n    z = pm.Normal(\\\"z\\\", 0, 1, shape=n_tanks)\\n\\n    # regularizing priors\\n    bs = pm.Normal(\\\"bs\\\", 0, 1, shape=len(df_frogs[\\\"size_code\\\"].unique()))\\n    bp = pm.Normal(\\\"bp\\\", 0, 1, shape=len(df_frogs[\\\"pred_code\\\"].unique()))\\n\\n    p = pm.math.invlogit(\\n        a_bar + z[tank] * sigma + bs[df_frogs[\\\"size_code\\\"]] + bp[df_frogs[\\\"pred_code\\\"]]\\n    )\\n\\n    S = pm.Binomial(\\\"S\\\", n=df_frogs[\\\"density\\\"], p=p, observed=df_frogs[\\\"surv\\\"])\\n\\n    trace_13_2both = pm.sample(draws=1000, random_seed=19, return_inferencedata=True)\";\n",
       "                var nbb_cells = Jupyter.notebook.get_cells();\n",
       "                for (var i = 0; i < nbb_cells.length; ++i) {\n",
       "                    if (nbb_cells[i].input_prompt_number == nbb_cell_id) {\n",
       "                        if (nbb_cells[i].get_text() == nbb_unformatted_code) {\n",
       "                             nbb_cells[i].set_text(nbb_formatted_code);\n",
       "                        }\n",
       "                        break;\n",
       "                    }\n",
       "                }\n",
       "            }, 500);\n",
       "            "
      ],
      "text/plain": [
       "<IPython.core.display.Javascript object>"
      ]
     },
     "metadata": {},
     "output_type": "display_data"
    }
   ],
   "source": [
    "# non-centered version\n",
    "with pm.Model() as m_13_2both:\n",
    "    # prior for average tank\n",
    "    a_bar = pm.Normal(\"a_bar\", 0.0, 1.5)\n",
    "\n",
    "    # prior for SD of tanks\n",
    "    sigma = pm.Exponential(\"sigma\", 1.0)\n",
    "\n",
    "    # standardized tank intercepts\n",
    "    z = pm.Normal(\"z\", 0, 1, shape=n_tanks)\n",
    "\n",
    "    # regularizing priors\n",
    "    bs = pm.Normal(\"bs\", 0, 1, shape=len(df_frogs[\"size_code\"].unique()))\n",
    "    bp = pm.Normal(\"bp\", 0, 1, shape=len(df_frogs[\"pred_code\"].unique()))\n",
    "\n",
    "    p = pm.math.invlogit(\n",
    "        a_bar + z[tank] * sigma + bs[df_frogs[\"size_code\"]] + bp[df_frogs[\"pred_code\"]]\n",
    "    )\n",
    "\n",
    "    S = pm.Binomial(\"S\", n=df_frogs[\"density\"], p=p, observed=df_frogs[\"surv\"])\n",
    "\n",
    "    trace_13_2both = pm.sample(draws=1000, random_seed=19, return_inferencedata=True)"
   ]
  },
  {
   "cell_type": "markdown",
   "id": "1bf4ee29",
   "metadata": {},
   "source": [
    "## Model with interaction"
   ]
  },
  {
   "cell_type": "code",
   "execution_count": 71,
   "id": "616a99c1",
   "metadata": {
    "ExecuteTime": {
     "end_time": "2021-07-31T01:09:09.555820Z",
     "start_time": "2021-07-31T01:08:36.223373Z"
    }
   },
   "outputs": [
    {
     "name": "stderr",
     "output_type": "stream",
     "text": [
      "Auto-assigning NUTS sampler...\n",
      "Initializing NUTS using jitter+adapt_diag...\n",
      "Multiprocess sampling (4 chains in 4 jobs)\n",
      "NUTS: [bp, bs, z, sigma, a_bar]\n"
     ]
    },
    {
     "data": {
      "text/html": [
       "\n",
       "    <div>\n",
       "        <style>\n",
       "            /* Turns off some styling */\n",
       "            progress {\n",
       "                /* gets rid of default border in Firefox and Opera. */\n",
       "                border: none;\n",
       "                /* Needs to be in here for Safari polyfill so background images work as expected. */\n",
       "                background-size: auto;\n",
       "            }\n",
       "            .progress-bar-interrupted, .progress-bar-interrupted::-webkit-progress-bar {\n",
       "                background: #F44336;\n",
       "            }\n",
       "        </style>\n",
       "      <progress value='8000' class='' max='8000' style='width:300px; height:20px; vertical-align: middle;'></progress>\n",
       "      100.00% [8000/8000 00:10<00:00 Sampling 4 chains, 0 divergences]\n",
       "    </div>\n",
       "    "
      ],
      "text/plain": [
       "<IPython.core.display.HTML object>"
      ]
     },
     "metadata": {},
     "output_type": "display_data"
    },
    {
     "name": "stderr",
     "output_type": "stream",
     "text": [
      "Sampling 4 chains for 1_000 tune and 1_000 draw iterations (4_000 + 4_000 draws total) took 23 seconds.\n"
     ]
    },
    {
     "data": {
      "application/javascript": [
       "\n",
       "            setTimeout(function() {\n",
       "                var nbb_cell_id = 71;\n",
       "                var nbb_unformatted_code = \"# adapted R homework solution but not 100% sure it's correct\\nwith pm.Model() as m_13_2int:\\n    # prior for average tank\\n    a_bar = pm.Normal(\\\"a_bar\\\", 0.0, 1.5)\\n\\n    # prior for SD of tanks\\n    sigma = pm.Exponential(\\\"sigma\\\", 1.0)\\n\\n    # standardized tank intercepts\\n    z = pm.Normal(\\\"z\\\", 0, 1, shape=n_tanks)\\n\\n    # regularizing priors\\n    bs = pm.Normal(\\\"bs\\\", 0, 1, shape=len(df_frogs[\\\"size_code\\\"].unique()))\\n    bp = pm.Normal(\\\"bp\\\", 0, 1, shape=len(df_frogs[\\\"pred_code\\\"].unique()))\\n\\n    p = pm.math.invlogit(\\n        a_bar + z[tank] * sigma + bs[df_frogs[\\\"size_code\\\"]] + bp[df_frogs[\\\"pred_code\\\"]]*df_frogs[\\\"size_code\\\"]\\n    )\\n\\n    S = pm.Binomial(\\\"S\\\", n=df_frogs[\\\"density\\\"], p=p, observed=df_frogs[\\\"surv\\\"])\\n\\n    trace_13_2int = pm.sample(draws=1000, random_seed=19, return_inferencedata=True)\";\n",
       "                var nbb_formatted_code = \"# adapted R homework solution but not 100% sure it's correct\\nwith pm.Model() as m_13_2int:\\n    # prior for average tank\\n    a_bar = pm.Normal(\\\"a_bar\\\", 0.0, 1.5)\\n\\n    # prior for SD of tanks\\n    sigma = pm.Exponential(\\\"sigma\\\", 1.0)\\n\\n    # standardized tank intercepts\\n    z = pm.Normal(\\\"z\\\", 0, 1, shape=n_tanks)\\n\\n    # regularizing priors\\n    bs = pm.Normal(\\\"bs\\\", 0, 1, shape=len(df_frogs[\\\"size_code\\\"].unique()))\\n    bp = pm.Normal(\\\"bp\\\", 0, 1, shape=len(df_frogs[\\\"pred_code\\\"].unique()))\\n\\n    p = pm.math.invlogit(\\n        a_bar\\n        + z[tank] * sigma\\n        + bs[df_frogs[\\\"size_code\\\"]]\\n        + bp[df_frogs[\\\"pred_code\\\"]] * df_frogs[\\\"size_code\\\"]\\n    )\\n\\n    S = pm.Binomial(\\\"S\\\", n=df_frogs[\\\"density\\\"], p=p, observed=df_frogs[\\\"surv\\\"])\\n\\n    trace_13_2int = pm.sample(draws=1000, random_seed=19, return_inferencedata=True)\";\n",
       "                var nbb_cells = Jupyter.notebook.get_cells();\n",
       "                for (var i = 0; i < nbb_cells.length; ++i) {\n",
       "                    if (nbb_cells[i].input_prompt_number == nbb_cell_id) {\n",
       "                        if (nbb_cells[i].get_text() == nbb_unformatted_code) {\n",
       "                             nbb_cells[i].set_text(nbb_formatted_code);\n",
       "                        }\n",
       "                        break;\n",
       "                    }\n",
       "                }\n",
       "            }, 500);\n",
       "            "
      ],
      "text/plain": [
       "<IPython.core.display.Javascript object>"
      ]
     },
     "metadata": {},
     "output_type": "display_data"
    }
   ],
   "source": [
    "# adapted R homework solution but not 100% sure it's correct\n",
    "with pm.Model() as m_13_2int:\n",
    "    # prior for average tank\n",
    "    a_bar = pm.Normal(\"a_bar\", 0.0, 1.5)\n",
    "\n",
    "    # prior for SD of tanks\n",
    "    sigma = pm.Exponential(\"sigma\", 1.0)\n",
    "\n",
    "    # standardized tank intercepts\n",
    "    z = pm.Normal(\"z\", 0, 1, shape=n_tanks)\n",
    "\n",
    "    # regularizing priors\n",
    "    bs = pm.Normal(\"bs\", 0, 1, shape=len(df_frogs[\"size_code\"].unique()))\n",
    "    bp = pm.Normal(\"bp\", 0, 1, shape=len(df_frogs[\"pred_code\"].unique()))\n",
    "\n",
    "    p = pm.math.invlogit(\n",
    "        a_bar\n",
    "        + z[tank] * sigma\n",
    "        + bs[df_frogs[\"size_code\"]]\n",
    "        + bp[df_frogs[\"pred_code\"]] * df_frogs[\"size_code\"]\n",
    "    )\n",
    "\n",
    "    S = pm.Binomial(\"S\", n=df_frogs[\"density\"], p=p, observed=df_frogs[\"surv\"])\n",
    "\n",
    "    trace_13_2int = pm.sample(draws=1000, random_seed=19, return_inferencedata=True)"
   ]
  },
  {
   "cell_type": "code",
   "execution_count": null,
   "id": "cf90ca3f",
   "metadata": {},
   "outputs": [],
   "source": []
  },
  {
   "cell_type": "code",
   "execution_count": null,
   "id": "187b5438",
   "metadata": {},
   "outputs": [],
   "source": []
  },
  {
   "cell_type": "markdown",
   "id": "3d2aa103",
   "metadata": {},
   "source": [
    "## Comparison of sigma terms"
   ]
  },
  {
   "cell_type": "code",
   "execution_count": 69,
   "id": "1875017b",
   "metadata": {
    "ExecuteTime": {
     "end_time": "2021-07-31T01:00:18.800289Z",
     "start_time": "2021-07-31T01:00:18.770087Z"
    }
   },
   "outputs": [
    {
     "data": {
      "text/html": [
       "<div>\n",
       "<style scoped>\n",
       "    .dataframe tbody tr th:only-of-type {\n",
       "        vertical-align: middle;\n",
       "    }\n",
       "\n",
       "    .dataframe tbody tr th {\n",
       "        vertical-align: top;\n",
       "    }\n",
       "\n",
       "    .dataframe thead th {\n",
       "        text-align: right;\n",
       "    }\n",
       "</style>\n",
       "<table border=\"1\" class=\"dataframe\">\n",
       "  <thead>\n",
       "    <tr style=\"text-align: right;\">\n",
       "      <th></th>\n",
       "      <th>mean</th>\n",
       "      <th>sd</th>\n",
       "      <th>hdi_5.5%</th>\n",
       "      <th>hdi_94.5%</th>\n",
       "      <th>mcse_mean</th>\n",
       "      <th>mcse_sd</th>\n",
       "      <th>ess_mean</th>\n",
       "      <th>ess_sd</th>\n",
       "      <th>ess_bulk</th>\n",
       "      <th>ess_tail</th>\n",
       "      <th>r_hat</th>\n",
       "    </tr>\n",
       "  </thead>\n",
       "  <tbody>\n",
       "    <tr>\n",
       "      <th>sigma</th>\n",
       "      <td>0.82</td>\n",
       "      <td>0.14</td>\n",
       "      <td>0.605</td>\n",
       "      <td>1.044</td>\n",
       "      <td>0.003</td>\n",
       "      <td>0.002</td>\n",
       "      <td>1753.0</td>\n",
       "      <td>1753.0</td>\n",
       "      <td>1772.0</td>\n",
       "      <td>3063.0</td>\n",
       "      <td>1.0</td>\n",
       "    </tr>\n",
       "  </tbody>\n",
       "</table>\n",
       "</div>"
      ],
      "text/plain": [
       "       mean    sd  hdi_5.5%  hdi_94.5%  mcse_mean  mcse_sd  ess_mean  ess_sd  \\\n",
       "sigma  0.82  0.14     0.605      1.044      0.003    0.002    1753.0  1753.0   \n",
       "\n",
       "       ess_bulk  ess_tail  r_hat  \n",
       "sigma    1772.0    3063.0    1.0  "
      ]
     },
     "execution_count": 69,
     "metadata": {},
     "output_type": "execute_result"
    },
    {
     "data": {
      "application/javascript": [
       "\n",
       "            setTimeout(function() {\n",
       "                var nbb_cell_id = 69;\n",
       "                var nbb_unformatted_code = \"az.summary(trace_13_2pr, var_names=[\\\"sigma\\\"])\";\n",
       "                var nbb_formatted_code = \"az.summary(trace_13_2pr, var_names=[\\\"sigma\\\"])\";\n",
       "                var nbb_cells = Jupyter.notebook.get_cells();\n",
       "                for (var i = 0; i < nbb_cells.length; ++i) {\n",
       "                    if (nbb_cells[i].input_prompt_number == nbb_cell_id) {\n",
       "                        if (nbb_cells[i].get_text() == nbb_unformatted_code) {\n",
       "                             nbb_cells[i].set_text(nbb_formatted_code);\n",
       "                        }\n",
       "                        break;\n",
       "                    }\n",
       "                }\n",
       "            }, 500);\n",
       "            "
      ],
      "text/plain": [
       "<IPython.core.display.Javascript object>"
      ]
     },
     "metadata": {},
     "output_type": "display_data"
    }
   ],
   "source": [
    "az.summary(trace_13_2pr, var_names=[\"sigma\"])"
   ]
  },
  {
   "cell_type": "code",
   "execution_count": 70,
   "id": "26b173ed",
   "metadata": {
    "ExecuteTime": {
     "end_time": "2021-07-31T01:00:26.662539Z",
     "start_time": "2021-07-31T01:00:26.636042Z"
    }
   },
   "outputs": [
    {
     "data": {
      "text/html": [
       "<div>\n",
       "<style scoped>\n",
       "    .dataframe tbody tr th:only-of-type {\n",
       "        vertical-align: middle;\n",
       "    }\n",
       "\n",
       "    .dataframe tbody tr th {\n",
       "        vertical-align: top;\n",
       "    }\n",
       "\n",
       "    .dataframe thead th {\n",
       "        text-align: right;\n",
       "    }\n",
       "</style>\n",
       "<table border=\"1\" class=\"dataframe\">\n",
       "  <thead>\n",
       "    <tr style=\"text-align: right;\">\n",
       "      <th></th>\n",
       "      <th>mean</th>\n",
       "      <th>sd</th>\n",
       "      <th>hdi_5.5%</th>\n",
       "      <th>hdi_94.5%</th>\n",
       "      <th>mcse_mean</th>\n",
       "      <th>mcse_sd</th>\n",
       "      <th>ess_mean</th>\n",
       "      <th>ess_sd</th>\n",
       "      <th>ess_bulk</th>\n",
       "      <th>ess_tail</th>\n",
       "      <th>r_hat</th>\n",
       "    </tr>\n",
       "  </thead>\n",
       "  <tbody>\n",
       "    <tr>\n",
       "      <th>sigma</th>\n",
       "      <td>1.626</td>\n",
       "      <td>0.222</td>\n",
       "      <td>1.278</td>\n",
       "      <td>1.966</td>\n",
       "      <td>0.007</td>\n",
       "      <td>0.005</td>\n",
       "      <td>1014.0</td>\n",
       "      <td>990.0</td>\n",
       "      <td>1061.0</td>\n",
       "      <td>1510.0</td>\n",
       "      <td>1.0</td>\n",
       "    </tr>\n",
       "  </tbody>\n",
       "</table>\n",
       "</div>"
      ],
      "text/plain": [
       "        mean     sd  hdi_5.5%  hdi_94.5%  mcse_mean  mcse_sd  ess_mean  \\\n",
       "sigma  1.626  0.222     1.278      1.966      0.007    0.005    1014.0   \n",
       "\n",
       "       ess_sd  ess_bulk  ess_tail  r_hat  \n",
       "sigma   990.0    1061.0    1510.0    1.0  "
      ]
     },
     "execution_count": 70,
     "metadata": {},
     "output_type": "execute_result"
    },
    {
     "data": {
      "application/javascript": [
       "\n",
       "            setTimeout(function() {\n",
       "                var nbb_cell_id = 70;\n",
       "                var nbb_unformatted_code = \"az.summary(trace_13_2sr, var_names=[\\\"sigma\\\"])\";\n",
       "                var nbb_formatted_code = \"az.summary(trace_13_2sr, var_names=[\\\"sigma\\\"])\";\n",
       "                var nbb_cells = Jupyter.notebook.get_cells();\n",
       "                for (var i = 0; i < nbb_cells.length; ++i) {\n",
       "                    if (nbb_cells[i].input_prompt_number == nbb_cell_id) {\n",
       "                        if (nbb_cells[i].get_text() == nbb_unformatted_code) {\n",
       "                             nbb_cells[i].set_text(nbb_formatted_code);\n",
       "                        }\n",
       "                        break;\n",
       "                    }\n",
       "                }\n",
       "            }, 500);\n",
       "            "
      ],
      "text/plain": [
       "<IPython.core.display.Javascript object>"
      ]
     },
     "metadata": {},
     "output_type": "display_data"
    }
   ],
   "source": [
    "az.summary(trace_13_2sr, var_names=[\"sigma\"])"
   ]
  },
  {
   "cell_type": "code",
   "execution_count": 68,
   "id": "675f2659",
   "metadata": {
    "ExecuteTime": {
     "end_time": "2021-07-31T00:59:24.764193Z",
     "start_time": "2021-07-31T00:59:24.738019Z"
    }
   },
   "outputs": [
    {
     "data": {
      "text/html": [
       "<div>\n",
       "<style scoped>\n",
       "    .dataframe tbody tr th:only-of-type {\n",
       "        vertical-align: middle;\n",
       "    }\n",
       "\n",
       "    .dataframe tbody tr th {\n",
       "        vertical-align: top;\n",
       "    }\n",
       "\n",
       "    .dataframe thead th {\n",
       "        text-align: right;\n",
       "    }\n",
       "</style>\n",
       "<table border=\"1\" class=\"dataframe\">\n",
       "  <thead>\n",
       "    <tr style=\"text-align: right;\">\n",
       "      <th></th>\n",
       "      <th>mean</th>\n",
       "      <th>sd</th>\n",
       "      <th>hdi_5.5%</th>\n",
       "      <th>hdi_94.5%</th>\n",
       "      <th>mcse_mean</th>\n",
       "      <th>mcse_sd</th>\n",
       "      <th>ess_mean</th>\n",
       "      <th>ess_sd</th>\n",
       "      <th>ess_bulk</th>\n",
       "      <th>ess_tail</th>\n",
       "      <th>r_hat</th>\n",
       "    </tr>\n",
       "  </thead>\n",
       "  <tbody>\n",
       "    <tr>\n",
       "      <th>sigma</th>\n",
       "      <td>0.772</td>\n",
       "      <td>0.147</td>\n",
       "      <td>0.549</td>\n",
       "      <td>0.999</td>\n",
       "      <td>0.003</td>\n",
       "      <td>0.002</td>\n",
       "      <td>1775.0</td>\n",
       "      <td>1775.0</td>\n",
       "      <td>1799.0</td>\n",
       "      <td>2288.0</td>\n",
       "      <td>1.0</td>\n",
       "    </tr>\n",
       "  </tbody>\n",
       "</table>\n",
       "</div>"
      ],
      "text/plain": [
       "        mean     sd  hdi_5.5%  hdi_94.5%  mcse_mean  mcse_sd  ess_mean  \\\n",
       "sigma  0.772  0.147     0.549      0.999      0.003    0.002    1775.0   \n",
       "\n",
       "       ess_sd  ess_bulk  ess_tail  r_hat  \n",
       "sigma  1775.0    1799.0    2288.0    1.0  "
      ]
     },
     "execution_count": 68,
     "metadata": {},
     "output_type": "execute_result"
    },
    {
     "data": {
      "application/javascript": [
       "\n",
       "            setTimeout(function() {\n",
       "                var nbb_cell_id = 68;\n",
       "                var nbb_unformatted_code = \"az.summary(trace_13_2both, var_names=['sigma'])\";\n",
       "                var nbb_formatted_code = \"az.summary(trace_13_2both, var_names=[\\\"sigma\\\"])\";\n",
       "                var nbb_cells = Jupyter.notebook.get_cells();\n",
       "                for (var i = 0; i < nbb_cells.length; ++i) {\n",
       "                    if (nbb_cells[i].input_prompt_number == nbb_cell_id) {\n",
       "                        if (nbb_cells[i].get_text() == nbb_unformatted_code) {\n",
       "                             nbb_cells[i].set_text(nbb_formatted_code);\n",
       "                        }\n",
       "                        break;\n",
       "                    }\n",
       "                }\n",
       "            }, 500);\n",
       "            "
      ],
      "text/plain": [
       "<IPython.core.display.Javascript object>"
      ]
     },
     "metadata": {},
     "output_type": "display_data"
    }
   ],
   "source": [
    "az.summary(trace_13_2both, var_names=[\"sigma\"])"
   ]
  },
  {
   "cell_type": "code",
   "execution_count": null,
   "id": "ccf7a856",
   "metadata": {},
   "outputs": [],
   "source": []
  },
  {
   "cell_type": "code",
   "execution_count": null,
   "id": "a893b5fd",
   "metadata": {},
   "outputs": [],
   "source": []
  },
  {
   "cell_type": "code",
   "execution_count": null,
   "id": "d874889f",
   "metadata": {},
   "outputs": [],
   "source": []
  },
  {
   "cell_type": "markdown",
   "id": "7fd2e888",
   "metadata": {},
   "source": [
    "# Question 2 (13H1)\n",
    "\n",
    "In 1980, a typical Bengali woman could have 5 or more children in her lifetime. By the year 2000, a typical Bengali woman had only 2 or 3. You’re going to look at a historical set of data, when contraception was widely available but many families chose not to use it. These data reside in `data(bangladesh)` and come from the 1988 Bangladesh Fertility Survey. Each row is one of 1934 women. There are six variables, but you can focus on two of them for this practice problem:\n",
    "\n",
    "1. `district`: ID number of administrative district each woman resided in\n",
    "2. `use.contraception`: An indicator (0/1) of whether the woman was using contraception\n",
    "\n",
    "The first thing to do is ensure that the cluster variable, `district`, is a contiguous set of integers. Recall that these values will be index values inside the model. If there are gaps, you’ll have parameters for which there is no data to inform them. Worse, the model probably won’t run. Look at the unique values of the `district` variable:\n",
    "\n",
    "```\n",
    "# R code 13.40\n",
    "sort(unique(d$district)) \n",
    "[1] 1 2 3 4 5 ... 51 52 53 55 56 57.... 61\n",
    "```\n",
    "\n",
    "District 54 is absent. So `district` isn’t yet a good index variable, because it’s not contiguous. This is easy to fix. Just make a new variable that is contiguous. This is enough to do it:\n",
    "\n",
    "```\n",
    "# R code 13.41\n",
    "d$district_id  <-as.integer(as.factor(d$district))\n",
    "sort(unique(d$district_id))\n",
    "[1] 1 2 3 4 5 ... 60\n",
    "```\n",
    "\n",
    "Now there are 60 values, contiguous integers 1 to 60. Now, focus on predicting `use.contraception`, clustered by `district_id`. Fit both (1) a traditional fixed-effects model that uses an index variable for district and (2) a multilevel model with varying intercepts for district. Plot the predicted proportions of women in each district using contraception, for both the fixed-effects model and the varying-effects model. That is, make a plot in which district ID is on the horizontal axis and expected proportion using contraception is on the vertical. Make one plot for each model, or layer the monthe same plot, as you prefer. How do the models disagree? Can you explain the pattern of disagreement? In particular, can you explain the most extreme cases of disagreement, both why they happen where they do and why the models reach different inferences?"
   ]
  },
  {
   "cell_type": "markdown",
   "id": "04337c40",
   "metadata": {},
   "source": [
    "## Data exploration and setup"
   ]
  },
  {
   "cell_type": "code",
   "execution_count": 9,
   "id": "8b01f289",
   "metadata": {
    "ExecuteTime": {
     "end_time": "2021-07-30T22:15:34.860991Z",
     "start_time": "2021-07-30T22:15:34.845733Z"
    }
   },
   "outputs": [
    {
     "data": {
      "text/html": [
       "<div>\n",
       "<style scoped>\n",
       "    .dataframe tbody tr th:only-of-type {\n",
       "        vertical-align: middle;\n",
       "    }\n",
       "\n",
       "    .dataframe tbody tr th {\n",
       "        vertical-align: top;\n",
       "    }\n",
       "\n",
       "    .dataframe thead th {\n",
       "        text-align: right;\n",
       "    }\n",
       "</style>\n",
       "<table border=\"1\" class=\"dataframe\">\n",
       "  <thead>\n",
       "    <tr style=\"text-align: right;\">\n",
       "      <th></th>\n",
       "      <th>woman</th>\n",
       "      <th>district</th>\n",
       "      <th>use.contraception</th>\n",
       "      <th>living.children</th>\n",
       "      <th>age.centered</th>\n",
       "      <th>urban</th>\n",
       "    </tr>\n",
       "  </thead>\n",
       "  <tbody>\n",
       "    <tr>\n",
       "      <th>0</th>\n",
       "      <td>1</td>\n",
       "      <td>1</td>\n",
       "      <td>0</td>\n",
       "      <td>4</td>\n",
       "      <td>18.4400</td>\n",
       "      <td>1</td>\n",
       "    </tr>\n",
       "    <tr>\n",
       "      <th>1</th>\n",
       "      <td>2</td>\n",
       "      <td>1</td>\n",
       "      <td>0</td>\n",
       "      <td>1</td>\n",
       "      <td>-5.5599</td>\n",
       "      <td>1</td>\n",
       "    </tr>\n",
       "    <tr>\n",
       "      <th>2</th>\n",
       "      <td>3</td>\n",
       "      <td>1</td>\n",
       "      <td>0</td>\n",
       "      <td>3</td>\n",
       "      <td>1.4400</td>\n",
       "      <td>1</td>\n",
       "    </tr>\n",
       "    <tr>\n",
       "      <th>3</th>\n",
       "      <td>4</td>\n",
       "      <td>1</td>\n",
       "      <td>0</td>\n",
       "      <td>4</td>\n",
       "      <td>8.4400</td>\n",
       "      <td>1</td>\n",
       "    </tr>\n",
       "    <tr>\n",
       "      <th>4</th>\n",
       "      <td>5</td>\n",
       "      <td>1</td>\n",
       "      <td>0</td>\n",
       "      <td>1</td>\n",
       "      <td>-13.5590</td>\n",
       "      <td>1</td>\n",
       "    </tr>\n",
       "  </tbody>\n",
       "</table>\n",
       "</div>"
      ],
      "text/plain": [
       "   woman  district  use.contraception  living.children  age.centered  urban\n",
       "0      1         1                  0                4       18.4400      1\n",
       "1      2         1                  0                1       -5.5599      1\n",
       "2      3         1                  0                3        1.4400      1\n",
       "3      4         1                  0                4        8.4400      1\n",
       "4      5         1                  0                1      -13.5590      1"
      ]
     },
     "execution_count": 9,
     "metadata": {},
     "output_type": "execute_result"
    },
    {
     "data": {
      "application/javascript": [
       "\n",
       "            setTimeout(function() {\n",
       "                var nbb_cell_id = 9;\n",
       "                var nbb_unformatted_code = \"df_bangladesh = pd.read_csv(\\n    \\\"../pymc3_ed_resources/resources/Rethinking/Data/bangladesh.csv\\\",\\n    delimiter=\\\";\\\",\\n)\\ndf_bangladesh.head()\";\n",
       "                var nbb_formatted_code = \"df_bangladesh = pd.read_csv(\\n    \\\"../pymc3_ed_resources/resources/Rethinking/Data/bangladesh.csv\\\",\\n    delimiter=\\\";\\\",\\n)\\ndf_bangladesh.head()\";\n",
       "                var nbb_cells = Jupyter.notebook.get_cells();\n",
       "                for (var i = 0; i < nbb_cells.length; ++i) {\n",
       "                    if (nbb_cells[i].input_prompt_number == nbb_cell_id) {\n",
       "                        if (nbb_cells[i].get_text() == nbb_unformatted_code) {\n",
       "                             nbb_cells[i].set_text(nbb_formatted_code);\n",
       "                        }\n",
       "                        break;\n",
       "                    }\n",
       "                }\n",
       "            }, 500);\n",
       "            "
      ],
      "text/plain": [
       "<IPython.core.display.Javascript object>"
      ]
     },
     "metadata": {},
     "output_type": "display_data"
    }
   ],
   "source": [
    "df_bangladesh = pd.read_csv(\n",
    "    \"../pymc3_ed_resources/resources/Rethinking/Data/bangladesh.csv\",\n",
    "    delimiter=\";\",\n",
    ")\n",
    "df_bangladesh.head()"
   ]
  },
  {
   "cell_type": "code",
   "execution_count": 7,
   "id": "8347491f",
   "metadata": {
    "ExecuteTime": {
     "end_time": "2021-07-30T22:06:13.034870Z",
     "start_time": "2021-07-30T22:06:13.029102Z"
    }
   },
   "outputs": [
    {
     "name": "stdout",
     "output_type": "stream",
     "text": [
      "shape of df:  (48, 5)\n"
     ]
    },
    {
     "data": {
      "application/javascript": [
       "\n",
       "            setTimeout(function() {\n",
       "                var nbb_cell_id = 7;\n",
       "                var nbb_unformatted_code = \"print(\\\"shape of df: \\\", df_frogs.shape)\";\n",
       "                var nbb_formatted_code = \"print(\\\"shape of df: \\\", df_frogs.shape)\";\n",
       "                var nbb_cells = Jupyter.notebook.get_cells();\n",
       "                for (var i = 0; i < nbb_cells.length; ++i) {\n",
       "                    if (nbb_cells[i].input_prompt_number == nbb_cell_id) {\n",
       "                        if (nbb_cells[i].get_text() == nbb_unformatted_code) {\n",
       "                             nbb_cells[i].set_text(nbb_formatted_code);\n",
       "                        }\n",
       "                        break;\n",
       "                    }\n",
       "                }\n",
       "            }, 500);\n",
       "            "
      ],
      "text/plain": [
       "<IPython.core.display.Javascript object>"
      ]
     },
     "metadata": {},
     "output_type": "display_data"
    }
   ],
   "source": [
    "print(\"shape of df: \", df_frogs.shape)"
   ]
  },
  {
   "cell_type": "code",
   "execution_count": null,
   "id": "4905c893",
   "metadata": {},
   "outputs": [],
   "source": []
  },
  {
   "cell_type": "code",
   "execution_count": null,
   "id": "a04b29b4",
   "metadata": {},
   "outputs": [],
   "source": []
  },
  {
   "cell_type": "markdown",
   "id": "74ac2ef7",
   "metadata": {},
   "source": [
    "# Question 3 (13H2)\n",
    "\n",
    "Return to the Trolley data, data(Trolley), from Chapter 12. Define and fit a\n",
    "varying intercepts model for these data. By this I mean to add an intercept parameter\n",
    "for the individual to the linear model. Cluster the varying intercepts on individual\n",
    "participants, as indicated by the unique values in the id variable. Include action,\n",
    "intention, and contact as before. Compare the varying intercepts model and a\n",
    "model that ignores individuals, using both WAIC/LOO and posterior predictions.\n",
    "What is the impact of individual variation in these data?"
   ]
  },
  {
   "cell_type": "code",
   "execution_count": null,
   "id": "21c3e090",
   "metadata": {},
   "outputs": [],
   "source": []
  },
  {
   "cell_type": "code",
   "execution_count": null,
   "id": "d248497f",
   "metadata": {},
   "outputs": [],
   "source": []
  },
  {
   "cell_type": "code",
   "execution_count": null,
   "id": "3cabb1f6",
   "metadata": {},
   "outputs": [],
   "source": []
  },
  {
   "cell_type": "code",
   "execution_count": null,
   "id": "e0e706b6",
   "metadata": {},
   "outputs": [],
   "source": []
  },
  {
   "cell_type": "markdown",
   "id": "5ad96582",
   "metadata": {},
   "source": [
    "## DAG"
   ]
  },
  {
   "cell_type": "code",
   "execution_count": 8,
   "id": "9009d084",
   "metadata": {
    "ExecuteTime": {
     "end_time": "2021-07-27T15:25:14.063276Z",
     "start_time": "2021-07-27T15:25:13.943706Z"
    }
   },
   "outputs": [
    {
     "data": {
      "text/plain": [
       "<matplotlib.axes._axes.Axes at 0x7f81385b6e50>"
      ]
     },
     "execution_count": 8,
     "metadata": {},
     "output_type": "execute_result"
    },
    {
     "name": "stderr",
     "output_type": "stream",
     "text": [
      "/Users/blacar/opt/anaconda3/envs/stats_rethinking/lib/python3.8/site-packages/IPython/core/pylabtools.py:132: UserWarning: Calling figure.constrained_layout, but figure not setup to do constrained layout.  You either called GridSpec without the fig keyword, you are using plt.subplot, or you need to call figure or subplots with the constrained_layout=True kwarg.\n",
      "  fig.canvas.print_figure(bytes_io, **kw)\n"
     ]
    },
    {
     "data": {
      "image/png": "[encoded data removed]",
      "text/plain": [
       "<Figure size 212.598x133.858 with 1 Axes>"
      ]
     },
     "metadata": {
      "image/png": {
       "height": 153,
       "width": 232
      }
     },
     "output_type": "display_data"
    },
    {
     "data": {
      "application/javascript": [
       "\n",
       "            setTimeout(function() {\n",
       "                var nbb_cell_id = 8;\n",
       "                var nbb_unformatted_code = \"pipe_dag = CausalGraphicalModel(\\n    nodes=[\\\"E\\\", \\\"A\\\", \\\"R\\\"],\\n    edges=[\\n        (\\\"E\\\", \\\"A\\\"),\\n        (\\\"A\\\", \\\"R\\\"),\\n        (\\\"E\\\", \\\"R\\\"),\\n    ],\\n)\\npgm = daft.PGM()\\n\\ncoordinates = {\\n    \\\"E\\\": (0, 0),\\n    \\\"A\\\": (1, 1),\\n    \\\"R\\\": (2, 0),\\n}\\nfor node in pipe_dag.dag.nodes:\\n    pgm.add_node(node, node, *coordinates[node])\\nfor edge in pipe_dag.dag.edges:\\n    pgm.add_edge(*edge)\\npgm.render()\";\n",
       "                var nbb_formatted_code = \"pipe_dag = CausalGraphicalModel(\\n    nodes=[\\\"E\\\", \\\"A\\\", \\\"R\\\"],\\n    edges=[\\n        (\\\"E\\\", \\\"A\\\"),\\n        (\\\"A\\\", \\\"R\\\"),\\n        (\\\"E\\\", \\\"R\\\"),\\n    ],\\n)\\npgm = daft.PGM()\\n\\ncoordinates = {\\n    \\\"E\\\": (0, 0),\\n    \\\"A\\\": (1, 1),\\n    \\\"R\\\": (2, 0),\\n}\\nfor node in pipe_dag.dag.nodes:\\n    pgm.add_node(node, node, *coordinates[node])\\nfor edge in pipe_dag.dag.edges:\\n    pgm.add_edge(*edge)\\npgm.render()\";\n",
       "                var nbb_cells = Jupyter.notebook.get_cells();\n",
       "                for (var i = 0; i < nbb_cells.length; ++i) {\n",
       "                    if (nbb_cells[i].input_prompt_number == nbb_cell_id) {\n",
       "                        if (nbb_cells[i].get_text() == nbb_unformatted_code) {\n",
       "                             nbb_cells[i].set_text(nbb_formatted_code);\n",
       "                        }\n",
       "                        break;\n",
       "                    }\n",
       "                }\n",
       "            }, 500);\n",
       "            "
      ],
      "text/plain": [
       "<IPython.core.display.Javascript object>"
      ]
     },
     "metadata": {},
     "output_type": "display_data"
    }
   ],
   "source": [
    "pipe_dag = CausalGraphicalModel(\n",
    "    nodes=[\"E\", \"A\", \"R\"],\n",
    "    edges=[\n",
    "        (\"E\", \"A\"),\n",
    "        (\"A\", \"R\"),\n",
    "        (\"E\", \"R\"),\n",
    "    ],\n",
    ")\n",
    "pgm = daft.PGM()\n",
    "\n",
    "coordinates = {\n",
    "    \"E\": (0, 0),\n",
    "    \"A\": (1, 1),\n",
    "    \"R\": (2, 0),\n",
    "}\n",
    "for node in pipe_dag.dag.nodes:\n",
    "    pgm.add_node(node, node, *coordinates[node])\n",
    "for edge in pipe_dag.dag.edges:\n",
    "    pgm.add_edge(*edge)\n",
    "pgm.render()\n"
   ]
  },
  {
   "cell_type": "code",
   "execution_count": null,
   "id": "24ab5dfd",
   "metadata": {},
   "outputs": [],
   "source": []
  },
  {
   "cell_type": "code",
   "execution_count": null,
   "id": "4cd7db58",
   "metadata": {},
   "outputs": [],
   "source": []
  },
  {
   "cell_type": "code",
   "execution_count": null,
   "id": "b48f05a4",
   "metadata": {},
   "outputs": [],
   "source": []
  },
  {
   "cell_type": "code",
   "execution_count": null,
   "id": "476f40e0",
   "metadata": {},
   "outputs": [],
   "source": []
  },
  {
   "cell_type": "code",
   "execution_count": null,
   "id": "64b6f7d4",
   "metadata": {},
   "outputs": [],
   "source": []
  },
  {
   "cell_type": "code",
   "execution_count": null,
   "id": "3640639d",
   "metadata": {},
   "outputs": [],
   "source": []
  },
  {
   "cell_type": "code",
   "execution_count": null,
   "id": "ea77f63f",
   "metadata": {},
   "outputs": [],
   "source": []
  },
  {
   "cell_type": "markdown",
   "id": "seeing-overall",
   "metadata": {},
   "source": [
    "Appendix: Environment and system parameters"
   ]
  },
  {
   "cell_type": "code",
   "execution_count": 33,
   "id": "ethical-template",
   "metadata": {
    "ExecuteTime": {
     "end_time": "2021-07-02T15:19:32.555542Z",
     "start_time": "2021-07-02T15:19:32.526271Z"
    },
    "scrolled": true
   },
   "outputs": [
    {
     "name": "stdout",
     "output_type": "stream",
     "text": [
      "Last updated: Fri Jul 02 2021\n",
      "\n",
      "Python implementation: CPython\n",
      "Python version       : 3.8.6\n",
      "IPython version      : 7.20.0\n",
      "\n",
      "pandas    : 1.2.1\n",
      "matplotlib: 3.3.4\n",
      "arviz     : 0.11.1\n",
      "pymc3     : 3.11.0\n",
      "daft      : 0.1.0\n",
      "json      : 2.0.9\n",
      "numpy     : 1.20.1\n",
      "seaborn   : 0.11.1\n",
      "scipy     : 1.6.0\n",
      "\n",
      "Watermark: 2.1.0\n",
      "\n"
     ]
    },
    {
     "data": {
      "application/javascript": [
       "\n",
       "            setTimeout(function() {\n",
       "                var nbb_cell_id = 33;\n",
       "                var nbb_unformatted_code = \"%watermark -n -u -v -iv -w\";\n",
       "                var nbb_formatted_code = \"%watermark -n -u -v -iv -w\";\n",
       "                var nbb_cells = Jupyter.notebook.get_cells();\n",
       "                for (var i = 0; i < nbb_cells.length; ++i) {\n",
       "                    if (nbb_cells[i].input_prompt_number == nbb_cell_id) {\n",
       "                        if (nbb_cells[i].get_text() == nbb_unformatted_code) {\n",
       "                             nbb_cells[i].set_text(nbb_formatted_code);\n",
       "                        }\n",
       "                        break;\n",
       "                    }\n",
       "                }\n",
       "            }, 500);\n",
       "            "
      ],
      "text/plain": [
       "<IPython.core.display.Javascript object>"
      ]
     },
     "metadata": {},
     "output_type": "display_data"
    }
   ],
   "source": [
    "%watermark -n -u -v -iv -w"
   ]
  },
  {
   "cell_type": "code",
   "execution_count": null,
   "id": "be8e540e",
   "metadata": {},
   "outputs": [],
   "source": []
  }
 ],
 "metadata": {
  "kernelspec": {
   "display_name": "Python 3",
   "language": "python",
   "name": "python3"
  },
  "language_info": {
   "codemirror_mode": {
    "name": "ipython",
    "version": 3
   },
   "file_extension": ".py",
   "mimetype": "text/x-python",
   "name": "python",
   "nbconvert_exporter": "python",
   "pygments_lexer": "ipython3",
   "version": "3.8.6"
  },
  "latex_envs": {
   "LaTeX_envs_menu_present": true,
   "autoclose": false,
   "autocomplete": true,
   "bibliofile": "biblio.bib",
   "cite_by": "apalike",
   "current_citInitial": 1,
   "eqLabelWithNumbers": true,
   "eqNumInitial": 1,
   "hotkeys": {
    "equation": "Ctrl-E",
    "itemize": "Ctrl-I"
   },
   "labels_anchors": false,
   "latex_user_defs": false,
   "report_style_numbering": false,
   "user_envs_cfg": false
  },
  "toc": {
   "base_numbering": 1,
   "nav_menu": {},
   "number_sections": true,
   "sideBar": true,
   "skip_h1_title": false,
   "title_cell": "Table of Contents",
   "title_sidebar": "Contents",
   "toc_cell": false,
   "toc_position": {
    "height": "calc(100% - 180px)",
    "left": "10px",
    "top": "150px",
    "width": "248px"
   },
   "toc_section_display": true,
   "toc_window_display": true
  },
  "varInspector": {
   "cols": {
    "lenName": 16,
    "lenType": 16,
    "lenVar": 40
   },
   "kernels_config": {
    "python": {
     "delete_cmd_postfix": "",
     "delete_cmd_prefix": "del ",
     "library": "var_list.py",
     "varRefreshCmd": "print(var_dic_list())"
    },
    "r": {
     "delete_cmd_postfix": ") ",
     "delete_cmd_prefix": "rm(",
     "library": "var_list.r",
     "varRefreshCmd": "cat(var_dic_list()) "
    }
   },
   "types_to_exclude": [
    "module",
    "function",
    "builtin_function_or_method",
    "instance",
    "_Feature"
   ],
   "window_display": false
  }
 },
 "nbformat": 4,
 "nbformat_minor": 5
}
