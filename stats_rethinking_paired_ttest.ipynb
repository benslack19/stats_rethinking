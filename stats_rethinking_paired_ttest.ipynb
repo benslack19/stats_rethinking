{
 "cells": [
  {
   "cell_type": "markdown",
   "id": "thirty-zambia",
   "metadata": {},
   "source": [
    "---\n",
    "title: \"Connecting a paired t-test with a Bayesian multilevel model (DRAFT)\"\n",
    "toc: true\n",
    "toc_sticky: true\n",
    "mathjax: true\n",
    "---\n",
    "\n",
    "I wondered how to get the same numerical answer for the t-statistic when calculating by hand, using a `scipy.stats` function, and using a Bayesian multilevel model.\n",
    "\n",
    "Dr. McElreath states:\n",
    "> I think about it like this: ANOVA etc are procedures applied to\n",
    "specific linear models. Those models are neither Bayesian nor\n",
    "non-Bayesian. One can justify those models from different\n",
    "perspectives: measurement or causal identification. And then how to\n",
    "construct an estimator for the piece of the model that you want is yet\n",
    "another step.\n",
    "\n",
    "> Many non-Bayesian estimators can be understood as approximations of\n",
    "the posterior distribution. But lots of non-Bayesian estimators are\n",
    "just quantities derived from specific models. There is no general\n",
    "theory for them. A paired t-test for example is a particular estimator\n",
    "for a specific kind of mixed model."
   ]
  },
  {
   "cell_type": "code",
   "execution_count": 13,
   "id": "neural-bachelor",
   "metadata": {
    "ExecuteTime": {
     "end_time": "2021-08-05T14:41:29.629407Z",
     "start_time": "2021-08-05T14:41:29.620840Z"
    }
   },
   "outputs": [
    {
     "data": {
      "application/javascript": [
       "\n",
       "            setTimeout(function() {\n",
       "                var nbb_cell_id = 13;\n",
       "                var nbb_unformatted_code = \"import arviz as az\\nimport matplotlib.pyplot as plt\\nimport numpy as np\\nimport pandas as pd\\nimport pymc3 as pm\\nimport scipy.stats as stats\\nimport seaborn as sns\\nimport daft\\nfrom causalgraphicalmodels import CausalGraphicalModel\\n\\nfrom scipy.optimize import curve_fit\";\n",
       "                var nbb_formatted_code = \"import arviz as az\\nimport matplotlib.pyplot as plt\\nimport numpy as np\\nimport pandas as pd\\nimport pymc3 as pm\\nimport scipy.stats as stats\\nimport seaborn as sns\\nimport daft\\nfrom causalgraphicalmodels import CausalGraphicalModel\\n\\nfrom scipy.optimize import curve_fit\";\n",
       "                var nbb_cells = Jupyter.notebook.get_cells();\n",
       "                for (var i = 0; i < nbb_cells.length; ++i) {\n",
       "                    if (nbb_cells[i].input_prompt_number == nbb_cell_id) {\n",
       "                        if (nbb_cells[i].get_text() == nbb_unformatted_code) {\n",
       "                             nbb_cells[i].set_text(nbb_formatted_code);\n",
       "                        }\n",
       "                        break;\n",
       "                    }\n",
       "                }\n",
       "            }, 500);\n",
       "            "
      ],
      "text/plain": [
       "<IPython.core.display.Javascript object>"
      ]
     },
     "metadata": {},
     "output_type": "display_data"
    }
   ],
   "source": [
    "import arviz as az\n",
    "import matplotlib.pyplot as plt\n",
    "import numpy as np\n",
    "import pandas as pd\n",
    "import pymc3 as pm\n",
    "import scipy.stats as stats\n",
    "import seaborn as sns\n",
    "import daft\n",
    "from causalgraphicalmodels import CausalGraphicalModel\n",
    "\n",
    "from scipy.optimize import curve_fit"
   ]
  },
  {
   "cell_type": "code",
   "execution_count": 14,
   "id": "municipal-casino",
   "metadata": {
    "ExecuteTime": {
     "end_time": "2021-08-05T14:41:30.703337Z",
     "start_time": "2021-08-05T14:41:30.682298Z"
    }
   },
   "outputs": [
    {
     "name": "stdout",
     "output_type": "stream",
     "text": [
      "The nb_black extension is already loaded. To reload it, use:\n",
      "  %reload_ext nb_black\n",
      "The watermark extension is already loaded. To reload it, use:\n",
      "  %reload_ext watermark\n"
     ]
    },
    {
     "data": {
      "application/javascript": [
       "\n",
       "            setTimeout(function() {\n",
       "                var nbb_cell_id = 14;\n",
       "                var nbb_unformatted_code = \"%load_ext nb_black\\n%config InlineBackend.figure_format = 'retina'\\n%load_ext watermark\\nRANDOM_SEED = 8927\\nnp.random.seed(RANDOM_SEED)\\naz.style.use(\\\"arviz-darkgrid\\\")\\naz.rcParams[\\\"stats.hdi_prob\\\"] = 0.89  # sets default credible interval used by arviz\";\n",
       "                var nbb_formatted_code = \"%load_ext nb_black\\n%config InlineBackend.figure_format = 'retina'\\n%load_ext watermark\\nRANDOM_SEED = 8927\\nnp.random.seed(RANDOM_SEED)\\naz.style.use(\\\"arviz-darkgrid\\\")\\naz.rcParams[\\\"stats.hdi_prob\\\"] = 0.89  # sets default credible interval used by arviz\";\n",
       "                var nbb_cells = Jupyter.notebook.get_cells();\n",
       "                for (var i = 0; i < nbb_cells.length; ++i) {\n",
       "                    if (nbb_cells[i].input_prompt_number == nbb_cell_id) {\n",
       "                        if (nbb_cells[i].get_text() == nbb_unformatted_code) {\n",
       "                             nbb_cells[i].set_text(nbb_formatted_code);\n",
       "                        }\n",
       "                        break;\n",
       "                    }\n",
       "                }\n",
       "            }, 500);\n",
       "            "
      ],
      "text/plain": [
       "<IPython.core.display.Javascript object>"
      ]
     },
     "metadata": {},
     "output_type": "display_data"
    }
   ],
   "source": [
    "%load_ext nb_black\n",
    "%config InlineBackend.figure_format = 'retina'\n",
    "%load_ext watermark\n",
    "RANDOM_SEED = 8927\n",
    "np.random.seed(RANDOM_SEED)\n",
    "az.style.use(\"arviz-darkgrid\")\n",
    "az.rcParams[\"stats.hdi_prob\"] = 0.89  # sets default credible interval used by arviz"
   ]
  },
  {
   "cell_type": "code",
   "execution_count": 15,
   "id": "martial-effect",
   "metadata": {
    "ExecuteTime": {
     "end_time": "2021-08-05T14:41:32.005607Z",
     "start_time": "2021-08-05T14:41:32.001439Z"
    }
   },
   "outputs": [
    {
     "data": {
      "application/javascript": [
       "\n",
       "            setTimeout(function() {\n",
       "                var nbb_cell_id = 15;\n",
       "                var nbb_unformatted_code = \"sns.set_context(\\\"talk\\\")\";\n",
       "                var nbb_formatted_code = \"sns.set_context(\\\"talk\\\")\";\n",
       "                var nbb_cells = Jupyter.notebook.get_cells();\n",
       "                for (var i = 0; i < nbb_cells.length; ++i) {\n",
       "                    if (nbb_cells[i].input_prompt_number == nbb_cell_id) {\n",
       "                        if (nbb_cells[i].get_text() == nbb_unformatted_code) {\n",
       "                             nbb_cells[i].set_text(nbb_formatted_code);\n",
       "                        }\n",
       "                        break;\n",
       "                    }\n",
       "                }\n",
       "            }, 500);\n",
       "            "
      ],
      "text/plain": [
       "<IPython.core.display.Javascript object>"
      ]
     },
     "metadata": {},
     "output_type": "display_data"
    }
   ],
   "source": [
    "sns.set_context(\"talk\")"
   ]
  },
  {
   "cell_type": "code",
   "execution_count": 16,
   "id": "aa9acb00",
   "metadata": {
    "ExecuteTime": {
     "end_time": "2021-08-05T14:41:32.346676Z",
     "start_time": "2021-08-05T14:41:32.340282Z"
    }
   },
   "outputs": [
    {
     "data": {
      "application/javascript": [
       "\n",
       "            setTimeout(function() {\n",
       "                var nbb_cell_id = 16;\n",
       "                var nbb_unformatted_code = \"def standardize(x):\\n    x = (x - np.mean(x)) / np.std(x)\\n    return x\";\n",
       "                var nbb_formatted_code = \"def standardize(x):\\n    x = (x - np.mean(x)) / np.std(x)\\n    return x\";\n",
       "                var nbb_cells = Jupyter.notebook.get_cells();\n",
       "                for (var i = 0; i < nbb_cells.length; ++i) {\n",
       "                    if (nbb_cells[i].input_prompt_number == nbb_cell_id) {\n",
       "                        if (nbb_cells[i].get_text() == nbb_unformatted_code) {\n",
       "                             nbb_cells[i].set_text(nbb_formatted_code);\n",
       "                        }\n",
       "                        break;\n",
       "                    }\n",
       "                }\n",
       "            }, 500);\n",
       "            "
      ],
      "text/plain": [
       "<IPython.core.display.Javascript object>"
      ]
     },
     "metadata": {},
     "output_type": "display_data"
    }
   ],
   "source": [
    "def standardize(x):\n",
    "    x = (x - np.mean(x)) / np.std(x)\n",
    "    return x"
   ]
  },
  {
   "cell_type": "markdown",
   "id": "c19972c8",
   "metadata": {},
   "source": [
    "# A simple dataset taken from Wikipedia\n",
    "\n",
    "The data I'll use is taken from [Wikipedia's entry on the paired t-test](https://en.wikipedia.org/wiki/Student%27s_t-test#Dependent_t-test_for_paired_samples). It's a simple set with four subjects taking a test twice, an example of repeated measures.  Interestingly, in the Chapter 1 introduction and in Chapter 13, Dr. McElreath highlights multi-level models as a way to get \"improved estimates for repeat sampling\"."
   ]
  },
  {
   "cell_type": "code",
   "execution_count": 17,
   "id": "6eeca65e",
   "metadata": {
    "ExecuteTime": {
     "end_time": "2021-08-05T14:41:35.250357Z",
     "start_time": "2021-08-05T14:41:35.240101Z"
    }
   },
   "outputs": [
    {
     "data": {
      "application/javascript": [
       "\n",
       "            setTimeout(function() {\n",
       "                var nbb_cell_id = 17;\n",
       "                var nbb_unformatted_code = \"df_tests = pd.DataFrame(\\n    {\\n        \\\"Name\\\": [\\\"Mike\\\", \\\"Melanie\\\", \\\"Melissa\\\", \\\"Mitchell\\\"],\\n        \\\"Test_1\\\": [35, 50, 90, 78],\\n        \\\"Test_2\\\": [67, 46, 86, 91],\\n    }\\n)\";\n",
       "                var nbb_formatted_code = \"df_tests = pd.DataFrame(\\n    {\\n        \\\"Name\\\": [\\\"Mike\\\", \\\"Melanie\\\", \\\"Melissa\\\", \\\"Mitchell\\\"],\\n        \\\"Test_1\\\": [35, 50, 90, 78],\\n        \\\"Test_2\\\": [67, 46, 86, 91],\\n    }\\n)\";\n",
       "                var nbb_cells = Jupyter.notebook.get_cells();\n",
       "                for (var i = 0; i < nbb_cells.length; ++i) {\n",
       "                    if (nbb_cells[i].input_prompt_number == nbb_cell_id) {\n",
       "                        if (nbb_cells[i].get_text() == nbb_unformatted_code) {\n",
       "                             nbb_cells[i].set_text(nbb_formatted_code);\n",
       "                        }\n",
       "                        break;\n",
       "                    }\n",
       "                }\n",
       "            }, 500);\n",
       "            "
      ],
      "text/plain": [
       "<IPython.core.display.Javascript object>"
      ]
     },
     "metadata": {},
     "output_type": "display_data"
    }
   ],
   "source": [
    "df_tests = pd.DataFrame(\n",
    "    {\n",
    "        \"Name\": [\"Mike\", \"Melanie\", \"Melissa\", \"Mitchell\"],\n",
    "        \"Test_1\": [35, 50, 90, 78],\n",
    "        \"Test_2\": [67, 46, 86, 91],\n",
    "    }\n",
    ")"
   ]
  },
  {
   "cell_type": "code",
   "execution_count": 18,
   "id": "8a53c997",
   "metadata": {
    "ExecuteTime": {
     "end_time": "2021-08-05T14:41:35.665961Z",
     "start_time": "2021-08-05T14:41:35.657656Z"
    }
   },
   "outputs": [
    {
     "data": {
      "text/html": [
       "<div>\n",
       "<style scoped>\n",
       "    .dataframe tbody tr th:only-of-type {\n",
       "        vertical-align: middle;\n",
       "    }\n",
       "\n",
       "    .dataframe tbody tr th {\n",
       "        vertical-align: top;\n",
       "    }\n",
       "\n",
       "    .dataframe thead th {\n",
       "        text-align: right;\n",
       "    }\n",
       "</style>\n",
       "<table border=\"1\" class=\"dataframe\">\n",
       "  <thead>\n",
       "    <tr style=\"text-align: right;\">\n",
       "      <th></th>\n",
       "      <th>Name</th>\n",
       "      <th>Test_1</th>\n",
       "      <th>Test_2</th>\n",
       "    </tr>\n",
       "  </thead>\n",
       "  <tbody>\n",
       "    <tr>\n",
       "      <th>0</th>\n",
       "      <td>Mike</td>\n",
       "      <td>35</td>\n",
       "      <td>67</td>\n",
       "    </tr>\n",
       "    <tr>\n",
       "      <th>1</th>\n",
       "      <td>Melanie</td>\n",
       "      <td>50</td>\n",
       "      <td>46</td>\n",
       "    </tr>\n",
       "    <tr>\n",
       "      <th>2</th>\n",
       "      <td>Melissa</td>\n",
       "      <td>90</td>\n",
       "      <td>86</td>\n",
       "    </tr>\n",
       "    <tr>\n",
       "      <th>3</th>\n",
       "      <td>Mitchell</td>\n",
       "      <td>78</td>\n",
       "      <td>91</td>\n",
       "    </tr>\n",
       "  </tbody>\n",
       "</table>\n",
       "</div>"
      ],
      "text/plain": [
       "       Name  Test_1  Test_2\n",
       "0      Mike      35      67\n",
       "1   Melanie      50      46\n",
       "2   Melissa      90      86\n",
       "3  Mitchell      78      91"
      ]
     },
     "execution_count": 18,
     "metadata": {},
     "output_type": "execute_result"
    },
    {
     "data": {
      "application/javascript": [
       "\n",
       "            setTimeout(function() {\n",
       "                var nbb_cell_id = 18;\n",
       "                var nbb_unformatted_code = \"df_tests\";\n",
       "                var nbb_formatted_code = \"df_tests\";\n",
       "                var nbb_cells = Jupyter.notebook.get_cells();\n",
       "                for (var i = 0; i < nbb_cells.length; ++i) {\n",
       "                    if (nbb_cells[i].input_prompt_number == nbb_cell_id) {\n",
       "                        if (nbb_cells[i].get_text() == nbb_unformatted_code) {\n",
       "                             nbb_cells[i].set_text(nbb_formatted_code);\n",
       "                        }\n",
       "                        break;\n",
       "                    }\n",
       "                }\n",
       "            }, 500);\n",
       "            "
      ],
      "text/plain": [
       "<IPython.core.display.Javascript object>"
      ]
     },
     "metadata": {},
     "output_type": "display_data"
    }
   ],
   "source": [
    "df_tests"
   ]
  },
  {
   "cell_type": "markdown",
   "id": "2d71122a",
   "metadata": {},
   "source": [
    "# Calculate the t-statistic\n",
    "\n",
    "The paired t-test is calculating whether the average of the difference is significantly different. We can get this quickly with a Python function."
   ]
  },
  {
   "cell_type": "markdown",
   "id": "4f3428ec",
   "metadata": {},
   "source": [
    "## T-statistic using scipy.stats"
   ]
  },
  {
   "cell_type": "code",
   "execution_count": 19,
   "id": "94e0cdf7",
   "metadata": {
    "ExecuteTime": {
     "end_time": "2021-08-05T14:41:36.520951Z",
     "start_time": "2021-08-05T14:41:36.514184Z"
    }
   },
   "outputs": [
    {
     "data": {
      "text/plain": [
       "Ttest_relResult(statistic=-1.0784834690588145, pvalue=0.3598054860063756)"
      ]
     },
     "execution_count": 19,
     "metadata": {},
     "output_type": "execute_result"
    },
    {
     "data": {
      "application/javascript": [
       "\n",
       "            setTimeout(function() {\n",
       "                var nbb_cell_id = 19;\n",
       "                var nbb_unformatted_code = \"stats.ttest_rel(df_tests[\\\"Test_1\\\"], df_tests[\\\"Test_2\\\"])\";\n",
       "                var nbb_formatted_code = \"stats.ttest_rel(df_tests[\\\"Test_1\\\"], df_tests[\\\"Test_2\\\"])\";\n",
       "                var nbb_cells = Jupyter.notebook.get_cells();\n",
       "                for (var i = 0; i < nbb_cells.length; ++i) {\n",
       "                    if (nbb_cells[i].input_prompt_number == nbb_cell_id) {\n",
       "                        if (nbb_cells[i].get_text() == nbb_unformatted_code) {\n",
       "                             nbb_cells[i].set_text(nbb_formatted_code);\n",
       "                        }\n",
       "                        break;\n",
       "                    }\n",
       "                }\n",
       "            }, 500);\n",
       "            "
      ],
      "text/plain": [
       "<IPython.core.display.Javascript object>"
      ]
     },
     "metadata": {},
     "output_type": "display_data"
    }
   ],
   "source": [
    "stats.ttest_rel(df_tests[\"Test_1\"], df_tests[\"Test_2\"])"
   ]
  },
  {
   "cell_type": "markdown",
   "id": "06e3b397",
   "metadata": {},
   "source": [
    "## T-statistic calculated manually\n",
    "\n",
    "The formula for the t-statistic is given on the same Wikipedia page."
   ]
  },
  {
   "cell_type": "markdown",
   "id": "9e516ca3",
   "metadata": {},
   "source": [
    "$$t = \\frac{\\bar{X}_D - \\mu_0}{s_D / \\sqrt{n}}$$\n",
    "\n",
    "where $\\bar{X}_D$ is the average of the differences between all pairs and $s_D$ is the standard deviation of the differences. We can set $mu_0$ to 0 if we want to test whether the average is significantly different. This is straightforward to calculate."
   ]
  },
  {
   "cell_type": "code",
   "execution_count": 20,
   "id": "b0443d9c",
   "metadata": {
    "ExecuteTime": {
     "end_time": "2021-08-05T14:41:39.295304Z",
     "start_time": "2021-08-05T14:41:39.290078Z"
    }
   },
   "outputs": [
    {
     "data": {
      "application/javascript": [
       "\n",
       "            setTimeout(function() {\n",
       "                var nbb_cell_id = 20;\n",
       "                var nbb_unformatted_code = \"diff = df_tests[\\\"Test_1\\\"] - df_tests[\\\"Test_2\\\"]\";\n",
       "                var nbb_formatted_code = \"diff = df_tests[\\\"Test_1\\\"] - df_tests[\\\"Test_2\\\"]\";\n",
       "                var nbb_cells = Jupyter.notebook.get_cells();\n",
       "                for (var i = 0; i < nbb_cells.length; ++i) {\n",
       "                    if (nbb_cells[i].input_prompt_number == nbb_cell_id) {\n",
       "                        if (nbb_cells[i].get_text() == nbb_unformatted_code) {\n",
       "                             nbb_cells[i].set_text(nbb_formatted_code);\n",
       "                        }\n",
       "                        break;\n",
       "                    }\n",
       "                }\n",
       "            }, 500);\n",
       "            "
      ],
      "text/plain": [
       "<IPython.core.display.Javascript object>"
      ]
     },
     "metadata": {},
     "output_type": "display_data"
    }
   ],
   "source": [
    "diff = df_tests[\"Test_1\"] - df_tests[\"Test_2\"]"
   ]
  },
  {
   "cell_type": "code",
   "execution_count": 21,
   "id": "6d1eafeb",
   "metadata": {
    "ExecuteTime": {
     "end_time": "2021-08-05T14:41:39.447135Z",
     "start_time": "2021-08-05T14:41:39.438890Z"
    }
   },
   "outputs": [
    {
     "name": "stdout",
     "output_type": "stream",
     "text": [
      "Manual calculated t-statistic:  -1.0784834690588145\n"
     ]
    },
    {
     "data": {
      "application/javascript": [
       "\n",
       "            setTimeout(function() {\n",
       "                var nbb_cell_id = 21;\n",
       "                var nbb_unformatted_code = \"t_stat = diff.mean() / (diff.std() / np.sqrt(len(df_tests)))\\nprint(\\\"Manual calculated t-statistic: \\\", t_stat)\";\n",
       "                var nbb_formatted_code = \"t_stat = diff.mean() / (diff.std() / np.sqrt(len(df_tests)))\\nprint(\\\"Manual calculated t-statistic: \\\", t_stat)\";\n",
       "                var nbb_cells = Jupyter.notebook.get_cells();\n",
       "                for (var i = 0; i < nbb_cells.length; ++i) {\n",
       "                    if (nbb_cells[i].input_prompt_number == nbb_cell_id) {\n",
       "                        if (nbb_cells[i].get_text() == nbb_unformatted_code) {\n",
       "                             nbb_cells[i].set_text(nbb_formatted_code);\n",
       "                        }\n",
       "                        break;\n",
       "                    }\n",
       "                }\n",
       "            }, 500);\n",
       "            "
      ],
      "text/plain": [
       "<IPython.core.display.Javascript object>"
      ]
     },
     "metadata": {},
     "output_type": "display_data"
    }
   ],
   "source": [
    "t_stat = diff.mean() / (diff.std() / np.sqrt(len(df_tests)))\n",
    "print(\"Manual calculated t-statistic: \", t_stat)"
   ]
  },
  {
   "cell_type": "markdown",
   "id": "6b6d0bba",
   "metadata": {},
   "source": [
    "We get exactly the same answer as `scipy.stats` so that is comforting."
   ]
  },
  {
   "cell_type": "markdown",
   "id": "b9e23d3a",
   "metadata": {},
   "source": [
    "# Calculate the t-statistic with a Bayesian approach\n",
    "\n",
    "Now the fun part. We can set this up as a Bayesian multi-level linear model. A non-Bayesian approach for connecting the paired t-test to a linear mixed model was described [here](https://vasishth.github.io/Freq_CogSci/from-the-paired-t-test-to-the-linear-mixed-model.html).\n",
    "\n",
    "First, let's do some table reformatting, so that we can use it in our model. We'll represent name and times into numerical codes and standardize the test scores."
   ]
  },
  {
   "cell_type": "code",
   "execution_count": 23,
   "id": "fd15bedd",
   "metadata": {
    "ExecuteTime": {
     "end_time": "2021-08-05T14:49:15.580341Z",
     "start_time": "2021-08-05T14:49:15.556091Z"
    }
   },
   "outputs": [
    {
     "data": {
      "text/html": [
       "<div>\n",
       "<style scoped>\n",
       "    .dataframe tbody tr th:only-of-type {\n",
       "        vertical-align: middle;\n",
       "    }\n",
       "\n",
       "    .dataframe tbody tr th {\n",
       "        vertical-align: top;\n",
       "    }\n",
       "\n",
       "    .dataframe thead th {\n",
       "        text-align: right;\n",
       "    }\n",
       "</style>\n",
       "<table border=\"1\" class=\"dataframe\">\n",
       "  <thead>\n",
       "    <tr style=\"text-align: right;\">\n",
       "      <th></th>\n",
       "      <th>Name</th>\n",
       "      <th>Time</th>\n",
       "      <th>Score</th>\n",
       "      <th>Name_code</th>\n",
       "      <th>Time_code</th>\n",
       "      <th>Score_std</th>\n",
       "    </tr>\n",
       "  </thead>\n",
       "  <tbody>\n",
       "    <tr>\n",
       "      <th>0</th>\n",
       "      <td>Mike</td>\n",
       "      <td>Test_1</td>\n",
       "      <td>35</td>\n",
       "      <td>2</td>\n",
       "      <td>0</td>\n",
       "      <td>-1.610167</td>\n",
       "    </tr>\n",
       "    <tr>\n",
       "      <th>1</th>\n",
       "      <td>Melanie</td>\n",
       "      <td>Test_1</td>\n",
       "      <td>50</td>\n",
       "      <td>0</td>\n",
       "      <td>0</td>\n",
       "      <td>-0.875490</td>\n",
       "    </tr>\n",
       "    <tr>\n",
       "      <th>2</th>\n",
       "      <td>Melissa</td>\n",
       "      <td>Test_1</td>\n",
       "      <td>90</td>\n",
       "      <td>1</td>\n",
       "      <td>0</td>\n",
       "      <td>1.083649</td>\n",
       "    </tr>\n",
       "    <tr>\n",
       "      <th>3</th>\n",
       "      <td>Mitchell</td>\n",
       "      <td>Test_1</td>\n",
       "      <td>78</td>\n",
       "      <td>3</td>\n",
       "      <td>0</td>\n",
       "      <td>0.495907</td>\n",
       "    </tr>\n",
       "    <tr>\n",
       "      <th>4</th>\n",
       "      <td>Mike</td>\n",
       "      <td>Test_2</td>\n",
       "      <td>67</td>\n",
       "      <td>2</td>\n",
       "      <td>1</td>\n",
       "      <td>-0.042856</td>\n",
       "    </tr>\n",
       "    <tr>\n",
       "      <th>5</th>\n",
       "      <td>Melanie</td>\n",
       "      <td>Test_2</td>\n",
       "      <td>46</td>\n",
       "      <td>0</td>\n",
       "      <td>1</td>\n",
       "      <td>-1.071404</td>\n",
       "    </tr>\n",
       "    <tr>\n",
       "      <th>6</th>\n",
       "      <td>Melissa</td>\n",
       "      <td>Test_2</td>\n",
       "      <td>86</td>\n",
       "      <td>1</td>\n",
       "      <td>1</td>\n",
       "      <td>0.887735</td>\n",
       "    </tr>\n",
       "    <tr>\n",
       "      <th>7</th>\n",
       "      <td>Mitchell</td>\n",
       "      <td>Test_2</td>\n",
       "      <td>91</td>\n",
       "      <td>3</td>\n",
       "      <td>1</td>\n",
       "      <td>1.132627</td>\n",
       "    </tr>\n",
       "  </tbody>\n",
       "</table>\n",
       "</div>"
      ],
      "text/plain": [
       "       Name    Time  Score  Name_code  Time_code  Score_std\n",
       "0      Mike  Test_1     35          2          0  -1.610167\n",
       "1   Melanie  Test_1     50          0          0  -0.875490\n",
       "2   Melissa  Test_1     90          1          0   1.083649\n",
       "3  Mitchell  Test_1     78          3          0   0.495907\n",
       "4      Mike  Test_2     67          2          1  -0.042856\n",
       "5   Melanie  Test_2     46          0          1  -1.071404\n",
       "6   Melissa  Test_2     86          1          1   0.887735\n",
       "7  Mitchell  Test_2     91          3          1   1.132627"
      ]
     },
     "execution_count": 23,
     "metadata": {},
     "output_type": "execute_result"
    },
    {
     "data": {
      "application/javascript": [
       "\n",
       "            setTimeout(function() {\n",
       "                var nbb_cell_id = 23;\n",
       "                var nbb_unformatted_code = \"df_tests2 = pd.melt(df_tests, id_vars=\\\"Name\\\")\\ndf_tests2.columns = [\\\"Name\\\", \\\"Time\\\", \\\"Score\\\"]\\ndf_tests2[\\\"Name_code\\\"] = pd.Categorical(df_tests2[\\\"Name\\\"]).codes\\ndf_tests2[\\\"Time_code\\\"] = pd.Categorical(df_tests2[\\\"Time\\\"]).codes\\ndf_tests2[\\\"Score_std\\\"] = standardize(df_tests2[\\\"Score\\\"])\\ndf_tests2\";\n",
       "                var nbb_formatted_code = \"df_tests2 = pd.melt(df_tests, id_vars=\\\"Name\\\")\\ndf_tests2.columns = [\\\"Name\\\", \\\"Time\\\", \\\"Score\\\"]\\ndf_tests2[\\\"Name_code\\\"] = pd.Categorical(df_tests2[\\\"Name\\\"]).codes\\ndf_tests2[\\\"Time_code\\\"] = pd.Categorical(df_tests2[\\\"Time\\\"]).codes\\ndf_tests2[\\\"Score_std\\\"] = standardize(df_tests2[\\\"Score\\\"])\\ndf_tests2\";\n",
       "                var nbb_cells = Jupyter.notebook.get_cells();\n",
       "                for (var i = 0; i < nbb_cells.length; ++i) {\n",
       "                    if (nbb_cells[i].input_prompt_number == nbb_cell_id) {\n",
       "                        if (nbb_cells[i].get_text() == nbb_unformatted_code) {\n",
       "                             nbb_cells[i].set_text(nbb_formatted_code);\n",
       "                        }\n",
       "                        break;\n",
       "                    }\n",
       "                }\n",
       "            }, 500);\n",
       "            "
      ],
      "text/plain": [
       "<IPython.core.display.Javascript object>"
      ]
     },
     "metadata": {},
     "output_type": "display_data"
    }
   ],
   "source": [
    "df_tests2 = pd.melt(df_tests, id_vars=\"Name\")\n",
    "df_tests2.columns = [\"Name\", \"Time\", \"Score\"]\n",
    "df_tests2[\"Name_code\"] = pd.Categorical(df_tests2[\"Name\"]).codes\n",
    "df_tests2[\"Time_code\"] = pd.Categorical(df_tests2[\"Time\"]).codes\n",
    "df_tests2[\"Score_std\"] = standardize(df_tests2[\"Score\"])\n",
    "df_tests2"
   ]
  },
  {
   "cell_type": "markdown",
   "id": "464938ab",
   "metadata": {},
   "source": [
    "There are different \"clusters\" here. On one level, is time, whether it was the first or second test. On another level are the individual subjects."
   ]
  },
  {
   "cell_type": "markdown",
   "id": "c38e41ba",
   "metadata": {},
   "source": [
    "## Non multi-level model with time as an indexed, categorical variable\n",
    "\n",
    "Let's start without a multi-level model. Since the main question is whether there are differences between the first and second tests, we'll use only time as a cluster for now and ignore the subject cluster. This is an intercept only model, with time represented as an indexed categorical variable."
   ]
  },
  {
   "cell_type": "markdown",
   "id": "895d9651",
   "metadata": {
    "ExecuteTime": {
     "end_time": "2021-08-05T15:06:24.183101Z",
     "start_time": "2021-08-05T15:06:24.174513Z"
    }
   },
   "source": [
    "<span style=\"color:red\">Not sure if I set this up right. I think we'd still use a Normal here but should I use a Student t distribution instead. Also I used a flat prior since non-Bayesians wouldn't regularize </span>."
   ]
  },
  {
   "cell_type": "markdown",
   "id": "8ae3d37e",
   "metadata": {},
   "source": [
    "$$\\text{score}_i \\text{ ~ Normal}(\\mu_i, \\sigma) $$\n",
    "$$\\mu_i = \\alpha_{\\text{TIME}}$$\n",
    "$$\\alpha_j \\text{ ∼ Normal}(0, 10)$$\n",
    "$$\\sigma \\text{ ~ Exp}(1)$$"
   ]
  },
  {
   "cell_type": "code",
   "execution_count": 44,
   "id": "b2bfd0a1",
   "metadata": {
    "ExecuteTime": {
     "end_time": "2021-08-05T15:11:15.712820Z",
     "start_time": "2021-08-05T15:10:58.531004Z"
    }
   },
   "outputs": [
    {
     "name": "stderr",
     "output_type": "stream",
     "text": [
      "Auto-assigning NUTS sampler...\n",
      "INFO:pymc3:Auto-assigning NUTS sampler...\n",
      "Initializing NUTS using jitter+adapt_diag...\n",
      "INFO:pymc3:Initializing NUTS using jitter+adapt_diag...\n",
      "Multiprocess sampling (4 chains in 4 jobs)\n",
      "INFO:pymc3:Multiprocess sampling (4 chains in 4 jobs)\n",
      "NUTS: [a, sigma]\n",
      "INFO:pymc3:NUTS: [a, sigma]\n",
      "Sampling 4 chains for 1_000 tune and 1_000 draw iterations (4_000 + 4_000 draws total) took 15 seconds.\n",
      "INFO:pymc3:Sampling 4 chains for 1_000 tune and 1_000 draw iterations (4_000 + 4_000 draws total) took 15 seconds.\n"
     ]
    },
    {
     "data": {
      "application/javascript": [
       "\n",
       "            setTimeout(function() {\n",
       "                var nbb_cell_id = 44;\n",
       "                var nbb_unformatted_code = \"with pm.Model() as m1:\\n\\n    # prior for SD of testers\\n    sigma = pm.Exponential(\\\"sigma\\\", 1.0)\\n\\n    # regularizing prior\\n    a = pm.Normal(\\\"a\\\", 0, 10, shape=2)  # two time points\\n\\n    # mu is deterministic, equivalent to alpha indexed by time\\n    mu = a[df_tests2[\\\"Time_code\\\"]]\\n\\n    # likelihood\\n    score = pm.Normal(\\\"score\\\", mu=mu, sd=sigma, observed=df_tests2[\\\"Score_std\\\"])\\n\\n    trace_m1 = pm.sample(\\n        draws=1000, random_seed=19, return_inferencedata=True, progressbar=False\\n    )\";\n",
       "                var nbb_formatted_code = \"with pm.Model() as m1:\\n\\n    # prior for SD of testers\\n    sigma = pm.Exponential(\\\"sigma\\\", 1.0)\\n\\n    # regularizing prior\\n    a = pm.Normal(\\\"a\\\", 0, 10, shape=2)  # two time points\\n\\n    # mu is deterministic, equivalent to alpha indexed by time\\n    mu = a[df_tests2[\\\"Time_code\\\"]]\\n\\n    # likelihood\\n    score = pm.Normal(\\\"score\\\", mu=mu, sd=sigma, observed=df_tests2[\\\"Score_std\\\"])\\n\\n    trace_m1 = pm.sample(\\n        draws=1000, random_seed=19, return_inferencedata=True, progressbar=False\\n    )\";\n",
       "                var nbb_cells = Jupyter.notebook.get_cells();\n",
       "                for (var i = 0; i < nbb_cells.length; ++i) {\n",
       "                    if (nbb_cells[i].input_prompt_number == nbb_cell_id) {\n",
       "                        if (nbb_cells[i].get_text() == nbb_unformatted_code) {\n",
       "                             nbb_cells[i].set_text(nbb_formatted_code);\n",
       "                        }\n",
       "                        break;\n",
       "                    }\n",
       "                }\n",
       "            }, 500);\n",
       "            "
      ],
      "text/plain": [
       "<IPython.core.display.Javascript object>"
      ]
     },
     "metadata": {},
     "output_type": "display_data"
    }
   ],
   "source": [
    "with pm.Model() as m1:\n",
    "\n",
    "    # prior for SD of testers\n",
    "    sigma = pm.Exponential(\"sigma\", 1.0)\n",
    "\n",
    "    # regularizing prior\n",
    "    a = pm.Normal(\"a\", 0, 10, shape=2)  # two time points\n",
    "\n",
    "    # mu is deterministic, equivalent to alpha indexed by time\n",
    "    mu = a[df_tests2[\"Time_code\"]]\n",
    "\n",
    "    # likelihood\n",
    "    score = pm.Normal(\"score\", mu=mu, sd=sigma, observed=df_tests2[\"Score_std\"])\n",
    "\n",
    "    trace_m1 = pm.sample(\n",
    "        draws=1000, random_seed=19, return_inferencedata=True, progressbar=False\n",
    "    )"
   ]
  },
  {
   "cell_type": "code",
   "execution_count": 45,
   "id": "4fa96111",
   "metadata": {
    "ExecuteTime": {
     "end_time": "2021-08-05T15:11:15.859746Z",
     "start_time": "2021-08-05T15:11:15.813063Z"
    }
   },
   "outputs": [
    {
     "data": {
      "text/html": [
       "<div>\n",
       "<style scoped>\n",
       "    .dataframe tbody tr th:only-of-type {\n",
       "        vertical-align: middle;\n",
       "    }\n",
       "\n",
       "    .dataframe tbody tr th {\n",
       "        vertical-align: top;\n",
       "    }\n",
       "\n",
       "    .dataframe thead th {\n",
       "        text-align: right;\n",
       "    }\n",
       "</style>\n",
       "<table border=\"1\" class=\"dataframe\">\n",
       "  <thead>\n",
       "    <tr style=\"text-align: right;\">\n",
       "      <th></th>\n",
       "      <th>mean</th>\n",
       "      <th>sd</th>\n",
       "      <th>hdi_5.5%</th>\n",
       "      <th>hdi_94.5%</th>\n",
       "      <th>mcse_mean</th>\n",
       "      <th>mcse_sd</th>\n",
       "      <th>ess_mean</th>\n",
       "      <th>ess_sd</th>\n",
       "      <th>ess_bulk</th>\n",
       "      <th>ess_tail</th>\n",
       "      <th>r_hat</th>\n",
       "    </tr>\n",
       "  </thead>\n",
       "  <tbody>\n",
       "    <tr>\n",
       "      <th>a[0]</th>\n",
       "      <td>-0.235</td>\n",
       "      <td>0.638</td>\n",
       "      <td>-1.242</td>\n",
       "      <td>0.741</td>\n",
       "      <td>0.013</td>\n",
       "      <td>0.011</td>\n",
       "      <td>2353.0</td>\n",
       "      <td>1753.0</td>\n",
       "      <td>2439.0</td>\n",
       "      <td>2051.0</td>\n",
       "      <td>1.0</td>\n",
       "    </tr>\n",
       "    <tr>\n",
       "      <th>a[1]</th>\n",
       "      <td>0.239</td>\n",
       "      <td>0.644</td>\n",
       "      <td>-0.723</td>\n",
       "      <td>1.308</td>\n",
       "      <td>0.012</td>\n",
       "      <td>0.011</td>\n",
       "      <td>2907.0</td>\n",
       "      <td>1690.0</td>\n",
       "      <td>2995.0</td>\n",
       "      <td>2179.0</td>\n",
       "      <td>1.0</td>\n",
       "    </tr>\n",
       "    <tr>\n",
       "      <th>sigma</th>\n",
       "      <td>1.238</td>\n",
       "      <td>0.381</td>\n",
       "      <td>0.703</td>\n",
       "      <td>1.730</td>\n",
       "      <td>0.009</td>\n",
       "      <td>0.006</td>\n",
       "      <td>1965.0</td>\n",
       "      <td>1917.0</td>\n",
       "      <td>2084.0</td>\n",
       "      <td>1943.0</td>\n",
       "      <td>1.0</td>\n",
       "    </tr>\n",
       "  </tbody>\n",
       "</table>\n",
       "</div>"
      ],
      "text/plain": [
       "        mean     sd  hdi_5.5%  hdi_94.5%  mcse_mean  mcse_sd  ess_mean  \\\n",
       "a[0]  -0.235  0.638    -1.242      0.741      0.013    0.011    2353.0   \n",
       "a[1]   0.239  0.644    -0.723      1.308      0.012    0.011    2907.0   \n",
       "sigma  1.238  0.381     0.703      1.730      0.009    0.006    1965.0   \n",
       "\n",
       "       ess_sd  ess_bulk  ess_tail  r_hat  \n",
       "a[0]   1753.0    2439.0    2051.0    1.0  \n",
       "a[1]   1690.0    2995.0    2179.0    1.0  \n",
       "sigma  1917.0    2084.0    1943.0    1.0  "
      ]
     },
     "execution_count": 45,
     "metadata": {},
     "output_type": "execute_result"
    },
    {
     "data": {
      "application/javascript": [
       "\n",
       "            setTimeout(function() {\n",
       "                var nbb_cell_id = 45;\n",
       "                var nbb_unformatted_code = \"az.summary(trace_m1)\";\n",
       "                var nbb_formatted_code = \"az.summary(trace_m1)\";\n",
       "                var nbb_cells = Jupyter.notebook.get_cells();\n",
       "                for (var i = 0; i < nbb_cells.length; ++i) {\n",
       "                    if (nbb_cells[i].input_prompt_number == nbb_cell_id) {\n",
       "                        if (nbb_cells[i].get_text() == nbb_unformatted_code) {\n",
       "                             nbb_cells[i].set_text(nbb_formatted_code);\n",
       "                        }\n",
       "                        break;\n",
       "                    }\n",
       "                }\n",
       "            }, 500);\n",
       "            "
      ],
      "text/plain": [
       "<IPython.core.display.Javascript object>"
      ]
     },
     "metadata": {},
     "output_type": "display_data"
    }
   ],
   "source": [
    "az.summary(trace_m1)"
   ]
  },
  {
   "cell_type": "markdown",
   "id": "6330d2b9",
   "metadata": {
    "ExecuteTime": {
     "end_time": "2021-08-05T15:06:24.183101Z",
     "start_time": "2021-08-05T15:06:24.174513Z"
    }
   },
   "source": [
    "<span style=\"color:red\">Not sure if I set this up right and even if I did, I'm not sure what to do next</span>."
   ]
  },
  {
   "cell_type": "markdown",
   "id": "2d9dcdcb",
   "metadata": {},
   "source": [
    "Now let's calculate the contrast between the alpha parameters representing the two timepoints (??)"
   ]
  },
  {
   "cell_type": "code",
   "execution_count": 55,
   "id": "e00b1159",
   "metadata": {
    "ExecuteTime": {
     "end_time": "2021-08-05T15:23:40.651477Z",
     "start_time": "2021-08-05T15:23:40.581540Z"
    }
   },
   "outputs": [
    {
     "data": {
      "application/javascript": [
       "\n",
       "            setTimeout(function() {\n",
       "                var nbb_cell_id = 55;\n",
       "                var nbb_unformatted_code = \"# Put the trace object in a dataframe so we can pull out the posteriors\\ntrace_m1_df = trace_m1.to_dataframe()\\n\\n# calculate contrast\\npost_diff = (\\n    trace_m1_df[(\\\"posterior\\\", \\\"a[0]\\\", 0)] - trace_m1_df[(\\\"posterior\\\", \\\"a[1]\\\", 1)]\\n)\";\n",
       "                var nbb_formatted_code = \"# Put the trace object in a dataframe so we can pull out the posteriors\\ntrace_m1_df = trace_m1.to_dataframe()\\n\\n# calculate contrast\\npost_diff = (\\n    trace_m1_df[(\\\"posterior\\\", \\\"a[0]\\\", 0)] - trace_m1_df[(\\\"posterior\\\", \\\"a[1]\\\", 1)]\\n)\";\n",
       "                var nbb_cells = Jupyter.notebook.get_cells();\n",
       "                for (var i = 0; i < nbb_cells.length; ++i) {\n",
       "                    if (nbb_cells[i].input_prompt_number == nbb_cell_id) {\n",
       "                        if (nbb_cells[i].get_text() == nbb_unformatted_code) {\n",
       "                             nbb_cells[i].set_text(nbb_formatted_code);\n",
       "                        }\n",
       "                        break;\n",
       "                    }\n",
       "                }\n",
       "            }, 500);\n",
       "            "
      ],
      "text/plain": [
       "<IPython.core.display.Javascript object>"
      ]
     },
     "metadata": {},
     "output_type": "display_data"
    }
   ],
   "source": [
    "# Put the trace object in a dataframe so we can pull out the posteriors\n",
    "trace_m1_df = trace_m1.to_dataframe()\n",
    "\n",
    "# calculate contrast\n",
    "post_diff = (\n",
    "    trace_m1_df[(\"posterior\", \"a[0]\", 0)] - trace_m1_df[(\"posterior\", \"a[1]\", 1)]\n",
    ")"
   ]
  },
  {
   "cell_type": "markdown",
   "id": "ebfb369b",
   "metadata": {
    "ExecuteTime": {
     "end_time": "2021-08-05T15:10:25.063508Z",
     "start_time": "2021-08-05T15:10:25.058577Z"
    }
   },
   "source": [
    "<span style=\"color:red\">I'm just using the t-statistic equation here</span>."
   ]
  },
  {
   "cell_type": "code",
   "execution_count": 60,
   "id": "bab068b8",
   "metadata": {
    "ExecuteTime": {
     "end_time": "2021-08-05T15:24:39.247953Z",
     "start_time": "2021-08-05T15:24:39.240821Z"
    }
   },
   "outputs": [
    {
     "data": {
      "text/plain": [
       "-1.0553808889820766"
      ]
     },
     "execution_count": 60,
     "metadata": {},
     "output_type": "execute_result"
    },
    {
     "data": {
      "application/javascript": [
       "\n",
       "            setTimeout(function() {\n",
       "                var nbb_cell_id = 60;\n",
       "                var nbb_unformatted_code = \"post_diff.mean() / (post_diff.std() / np.sqrt(4))\";\n",
       "                var nbb_formatted_code = \"post_diff.mean() / (post_diff.std() / np.sqrt(4))\";\n",
       "                var nbb_cells = Jupyter.notebook.get_cells();\n",
       "                for (var i = 0; i < nbb_cells.length; ++i) {\n",
       "                    if (nbb_cells[i].input_prompt_number == nbb_cell_id) {\n",
       "                        if (nbb_cells[i].get_text() == nbb_unformatted_code) {\n",
       "                             nbb_cells[i].set_text(nbb_formatted_code);\n",
       "                        }\n",
       "                        break;\n",
       "                    }\n",
       "                }\n",
       "            }, 500);\n",
       "            "
      ],
      "text/plain": [
       "<IPython.core.display.Javascript object>"
      ]
     },
     "metadata": {},
     "output_type": "display_data"
    }
   ],
   "source": [
    "post_diff.mean() / (post_diff.std() / np.sqrt(4))"
   ]
  },
  {
   "cell_type": "markdown",
   "id": "6f6381de",
   "metadata": {
    "ExecuteTime": {
     "end_time": "2021-08-05T15:12:01.238264Z",
     "start_time": "2021-08-05T15:12:01.232541Z"
    }
   },
   "source": [
    "<span style=\"color:red\">With a pretty flat prior (what non-Bayesians would do), I got pretty close to the answer, but not sure if I just lucky</span>."
   ]
  },
  {
   "cell_type": "markdown",
   "id": "fa2a5b57",
   "metadata": {},
   "source": [
    "## Multi-level model\n",
    "\n",
    "We can now recognize both clusters and let the model do adaptive regularization."
   ]
  },
  {
   "cell_type": "markdown",
   "id": "448987d6",
   "metadata": {
    "ExecuteTime": {
     "end_time": "2021-08-05T15:06:24.183101Z",
     "start_time": "2021-08-05T15:06:24.174513Z"
    }
   },
   "source": [
    "<span style=\"color:red\">Not sure if I set this up right. I'm unsure what the top line sigma would be for example.</span>"
   ]
  },
  {
   "cell_type": "markdown",
   "id": "7737a017",
   "metadata": {},
   "source": [
    "$$\\text{score}_i \\text{ ~ Normal}(\\mu_i, \\sigma) $$\n",
    "<br>\n",
    "$$\\mu_i = \\alpha_{\\text{TIME}} + \\gamma_{\\text{SUBJECT}} $$\n",
    "<br>\n",
    "$$\\alpha_j \\text{ ∼ Normal}(\\bar{\\alpha}, \\sigma_\\alpha)$$\n",
    "<br>\n",
    "$$\\gamma_j \\text{ ∼ Normal}(0, \\sigma_\\gamma) $$\n",
    "<br>\n",
    "$$\\bar{\\alpha} \\text{ ∼ Normal}(0, 10)$$\n",
    "<br>\n",
    "$$\\sigma_\\alpha \\text{ ~ Exp}(1)$$\n",
    "<br>\n",
    "$$\\sigma_\\gamma \\text{ ~ Exp}(1)$$\n",
    "\n",
    "\n",
    "Alpha is using an adaptive prior for time (j=1,2) and gamma is using adaptive prior for subject (j = 1..4). We'll use one global mean parameter (\"bar_alpha\") since each varying intercept type will be added to the same linear prediction. This global mean parameter is essentially the average across all tests and subjects. Like in the previous model, it is pretty wide to represent the non-Bayesian perspective. Each cluster also gets its own sigma."
   ]
  },
  {
   "cell_type": "code",
   "execution_count": 53,
   "id": "49d172ae",
   "metadata": {
    "ExecuteTime": {
     "end_time": "2021-08-05T15:22:11.374278Z",
     "start_time": "2021-08-05T15:21:52.537008Z"
    }
   },
   "outputs": [
    {
     "name": "stderr",
     "output_type": "stream",
     "text": [
      "Auto-assigning NUTS sampler...\n",
      "INFO:pymc3:Auto-assigning NUTS sampler...\n",
      "Initializing NUTS using jitter+adapt_diag...\n",
      "INFO:pymc3:Initializing NUTS using jitter+adapt_diag...\n",
      "Multiprocess sampling (4 chains in 4 jobs)\n",
      "INFO:pymc3:Multiprocess sampling (4 chains in 4 jobs)\n",
      "NUTS: [g, a, sigma_g, sigma_a, a_bar, sigma]\n",
      "INFO:pymc3:NUTS: [g, a, sigma_g, sigma_a, a_bar, sigma]\n",
      "Sampling 4 chains for 1_000 tune and 1_000 draw iterations (4_000 + 4_000 draws total) took 14 seconds.\n",
      "INFO:pymc3:Sampling 4 chains for 1_000 tune and 1_000 draw iterations (4_000 + 4_000 draws total) took 14 seconds.\n",
      "There were 88 divergences after tuning. Increase `target_accept` or reparameterize.\n",
      "ERROR:pymc3:There were 88 divergences after tuning. Increase `target_accept` or reparameterize.\n",
      "There were 118 divergences after tuning. Increase `target_accept` or reparameterize.\n",
      "ERROR:pymc3:There were 118 divergences after tuning. Increase `target_accept` or reparameterize.\n",
      "There were 96 divergences after tuning. Increase `target_accept` or reparameterize.\n",
      "ERROR:pymc3:There were 96 divergences after tuning. Increase `target_accept` or reparameterize.\n",
      "There were 125 divergences after tuning. Increase `target_accept` or reparameterize.\n",
      "ERROR:pymc3:There were 125 divergences after tuning. Increase `target_accept` or reparameterize.\n",
      "The acceptance probability does not match the target. It is 0.7129996194220574, but should be close to 0.8. Try to increase the number of tuning steps.\n",
      "WARNING:pymc3:The acceptance probability does not match the target. It is 0.7129996194220574, but should be close to 0.8. Try to increase the number of tuning steps.\n",
      "The number of effective samples is smaller than 10% for some parameters.\n",
      "WARNING:pymc3:The number of effective samples is smaller than 10% for some parameters.\n"
     ]
    },
    {
     "data": {
      "application/javascript": [
       "\n",
       "            setTimeout(function() {\n",
       "                var nbb_cell_id = 53;\n",
       "                var nbb_unformatted_code = \"with pm.Model() as m2:\\n    # Top line sigma (not sure if this is right)\\n    sigma = pm.Exponential(\\\"sigma\\\", 1.0)\\n\\n    # prior for average person and timepoint\\n    a_bar = pm.Normal(\\\"a_bar\\\", 0.0, 10)\\n\\n    # prior for SD of testers and time\\n    sigma_a = pm.Exponential(\\\"sigma_a\\\", 1.0)\\n    sigma_g = pm.Exponential(\\\"sigma_g\\\", 1.0)\\n\\n    # adaptive priors?\\n    a = pm.Normal(\\\"a\\\", a_bar, sigma_a, shape=2)  # 2 time points\\n    g = pm.Normal(\\\"g\\\", 0, sigma_g, shape=4)  # 4 subjects\\n\\n    mu = a[df_tests2[\\\"Time_code\\\"]] + g[df_tests2[\\\"Name_code\\\"]]\\n\\n    # likelihood\\n    score = pm.Normal(\\\"score\\\", mu=mu, sd=sigma, observed=df_tests2[\\\"Score_std\\\"])\\n\\n    trace_m2 = pm.sample(\\n        draws=1000, random_seed=19, return_inferencedata=True, progressbar=False\\n    )\";\n",
       "                var nbb_formatted_code = \"with pm.Model() as m2:\\n    # Top line sigma (not sure if this is right)\\n    sigma = pm.Exponential(\\\"sigma\\\", 1.0)\\n\\n    # prior for average person and timepoint\\n    a_bar = pm.Normal(\\\"a_bar\\\", 0.0, 10)\\n\\n    # prior for SD of testers and time\\n    sigma_a = pm.Exponential(\\\"sigma_a\\\", 1.0)\\n    sigma_g = pm.Exponential(\\\"sigma_g\\\", 1.0)\\n\\n    # adaptive priors?\\n    a = pm.Normal(\\\"a\\\", a_bar, sigma_a, shape=2)  # 2 time points\\n    g = pm.Normal(\\\"g\\\", 0, sigma_g, shape=4)  # 4 subjects\\n\\n    mu = a[df_tests2[\\\"Time_code\\\"]] + g[df_tests2[\\\"Name_code\\\"]]\\n\\n    # likelihood\\n    score = pm.Normal(\\\"score\\\", mu=mu, sd=sigma, observed=df_tests2[\\\"Score_std\\\"])\\n\\n    trace_m2 = pm.sample(\\n        draws=1000, random_seed=19, return_inferencedata=True, progressbar=False\\n    )\";\n",
       "                var nbb_cells = Jupyter.notebook.get_cells();\n",
       "                for (var i = 0; i < nbb_cells.length; ++i) {\n",
       "                    if (nbb_cells[i].input_prompt_number == nbb_cell_id) {\n",
       "                        if (nbb_cells[i].get_text() == nbb_unformatted_code) {\n",
       "                             nbb_cells[i].set_text(nbb_formatted_code);\n",
       "                        }\n",
       "                        break;\n",
       "                    }\n",
       "                }\n",
       "            }, 500);\n",
       "            "
      ],
      "text/plain": [
       "<IPython.core.display.Javascript object>"
      ]
     },
     "metadata": {},
     "output_type": "display_data"
    }
   ],
   "source": [
    "with pm.Model() as m2:\n",
    "    # Top line sigma (not sure if this is right)\n",
    "    sigma = pm.Exponential(\"sigma\", 1.0)\n",
    "\n",
    "    # prior for average person and timepoint\n",
    "    a_bar = pm.Normal(\"a_bar\", 0.0, 10)\n",
    "\n",
    "    # prior for SD of testers and time\n",
    "    sigma_a = pm.Exponential(\"sigma_a\", 1.0)\n",
    "    sigma_g = pm.Exponential(\"sigma_g\", 1.0)\n",
    "\n",
    "    # adaptive priors?\n",
    "    a = pm.Normal(\"a\", a_bar, sigma_a, shape=2)  # 2 time points\n",
    "    g = pm.Normal(\"g\", 0, sigma_g, shape=4)  # 4 subjects\n",
    "\n",
    "    mu = a[df_tests2[\"Time_code\"]] + g[df_tests2[\"Name_code\"]]\n",
    "\n",
    "    # likelihood\n",
    "    score = pm.Normal(\"score\", mu=mu, sd=sigma, observed=df_tests2[\"Score_std\"])\n",
    "\n",
    "    trace_m2 = pm.sample(\n",
    "        draws=1000, random_seed=19, return_inferencedata=True, progressbar=False\n",
    "    )"
   ]
  },
  {
   "cell_type": "markdown",
   "id": "401db263",
   "metadata": {
    "ExecuteTime": {
     "end_time": "2021-08-05T15:06:24.183101Z",
     "start_time": "2021-08-05T15:06:24.174513Z"
    }
   },
   "source": [
    "<span style=\"color:red\">The divergences indicate I need to re-paramaterize, but let me know if my overall approach is right</span>"
   ]
  },
  {
   "cell_type": "code",
   "execution_count": 54,
   "id": "a15055b2",
   "metadata": {
    "ExecuteTime": {
     "end_time": "2021-08-05T15:23:08.175919Z",
     "start_time": "2021-08-05T15:23:08.059726Z"
    },
    "scrolled": false
   },
   "outputs": [
    {
     "data": {
      "text/html": [
       "<div>\n",
       "<style scoped>\n",
       "    .dataframe tbody tr th:only-of-type {\n",
       "        vertical-align: middle;\n",
       "    }\n",
       "\n",
       "    .dataframe tbody tr th {\n",
       "        vertical-align: top;\n",
       "    }\n",
       "\n",
       "    .dataframe thead th {\n",
       "        text-align: right;\n",
       "    }\n",
       "</style>\n",
       "<table border=\"1\" class=\"dataframe\">\n",
       "  <thead>\n",
       "    <tr style=\"text-align: right;\">\n",
       "      <th></th>\n",
       "      <th>mean</th>\n",
       "      <th>sd</th>\n",
       "      <th>hdi_5.5%</th>\n",
       "      <th>hdi_94.5%</th>\n",
       "      <th>mcse_mean</th>\n",
       "      <th>mcse_sd</th>\n",
       "      <th>ess_mean</th>\n",
       "      <th>ess_sd</th>\n",
       "      <th>ess_bulk</th>\n",
       "      <th>ess_tail</th>\n",
       "      <th>r_hat</th>\n",
       "    </tr>\n",
       "  </thead>\n",
       "  <tbody>\n",
       "    <tr>\n",
       "      <th>a_bar</th>\n",
       "      <td>-0.038</td>\n",
       "      <td>0.926</td>\n",
       "      <td>-1.355</td>\n",
       "      <td>1.272</td>\n",
       "      <td>0.040</td>\n",
       "      <td>0.028</td>\n",
       "      <td>549.0</td>\n",
       "      <td>549.0</td>\n",
       "      <td>529.0</td>\n",
       "      <td>924.0</td>\n",
       "      <td>1.01</td>\n",
       "    </tr>\n",
       "    <tr>\n",
       "      <th>a[0]</th>\n",
       "      <td>-0.162</td>\n",
       "      <td>0.630</td>\n",
       "      <td>-1.103</td>\n",
       "      <td>0.822</td>\n",
       "      <td>0.026</td>\n",
       "      <td>0.019</td>\n",
       "      <td>575.0</td>\n",
       "      <td>575.0</td>\n",
       "      <td>565.0</td>\n",
       "      <td>820.0</td>\n",
       "      <td>1.01</td>\n",
       "    </tr>\n",
       "    <tr>\n",
       "      <th>a[1]</th>\n",
       "      <td>0.126</td>\n",
       "      <td>0.634</td>\n",
       "      <td>-0.873</td>\n",
       "      <td>1.082</td>\n",
       "      <td>0.027</td>\n",
       "      <td>0.019</td>\n",
       "      <td>544.0</td>\n",
       "      <td>544.0</td>\n",
       "      <td>532.0</td>\n",
       "      <td>846.0</td>\n",
       "      <td>1.00</td>\n",
       "    </tr>\n",
       "    <tr>\n",
       "      <th>g[0]</th>\n",
       "      <td>-0.617</td>\n",
       "      <td>0.682</td>\n",
       "      <td>-1.603</td>\n",
       "      <td>0.413</td>\n",
       "      <td>0.028</td>\n",
       "      <td>0.020</td>\n",
       "      <td>589.0</td>\n",
       "      <td>589.0</td>\n",
       "      <td>601.0</td>\n",
       "      <td>836.0</td>\n",
       "      <td>1.00</td>\n",
       "    </tr>\n",
       "    <tr>\n",
       "      <th>g[1]</th>\n",
       "      <td>0.675</td>\n",
       "      <td>0.683</td>\n",
       "      <td>-0.322</td>\n",
       "      <td>1.739</td>\n",
       "      <td>0.029</td>\n",
       "      <td>0.021</td>\n",
       "      <td>548.0</td>\n",
       "      <td>528.0</td>\n",
       "      <td>556.0</td>\n",
       "      <td>888.0</td>\n",
       "      <td>1.01</td>\n",
       "    </tr>\n",
       "    <tr>\n",
       "      <th>g[2]</th>\n",
       "      <td>-0.531</td>\n",
       "      <td>0.670</td>\n",
       "      <td>-1.614</td>\n",
       "      <td>0.395</td>\n",
       "      <td>0.027</td>\n",
       "      <td>0.020</td>\n",
       "      <td>612.0</td>\n",
       "      <td>568.0</td>\n",
       "      <td>647.0</td>\n",
       "      <td>751.0</td>\n",
       "      <td>1.00</td>\n",
       "    </tr>\n",
       "    <tr>\n",
       "      <th>g[3]</th>\n",
       "      <td>0.535</td>\n",
       "      <td>0.659</td>\n",
       "      <td>-0.388</td>\n",
       "      <td>1.611</td>\n",
       "      <td>0.029</td>\n",
       "      <td>0.021</td>\n",
       "      <td>529.0</td>\n",
       "      <td>486.0</td>\n",
       "      <td>533.0</td>\n",
       "      <td>506.0</td>\n",
       "      <td>1.01</td>\n",
       "    </tr>\n",
       "    <tr>\n",
       "      <th>sigma</th>\n",
       "      <td>0.784</td>\n",
       "      <td>0.338</td>\n",
       "      <td>0.324</td>\n",
       "      <td>1.210</td>\n",
       "      <td>0.013</td>\n",
       "      <td>0.009</td>\n",
       "      <td>682.0</td>\n",
       "      <td>682.0</td>\n",
       "      <td>620.0</td>\n",
       "      <td>809.0</td>\n",
       "      <td>1.00</td>\n",
       "    </tr>\n",
       "    <tr>\n",
       "      <th>sigma_a</th>\n",
       "      <td>0.749</td>\n",
       "      <td>0.692</td>\n",
       "      <td>0.107</td>\n",
       "      <td>1.527</td>\n",
       "      <td>0.030</td>\n",
       "      <td>0.021</td>\n",
       "      <td>527.0</td>\n",
       "      <td>527.0</td>\n",
       "      <td>246.0</td>\n",
       "      <td>169.0</td>\n",
       "      <td>1.01</td>\n",
       "    </tr>\n",
       "    <tr>\n",
       "      <th>sigma_g</th>\n",
       "      <td>0.943</td>\n",
       "      <td>0.548</td>\n",
       "      <td>0.127</td>\n",
       "      <td>1.631</td>\n",
       "      <td>0.020</td>\n",
       "      <td>0.014</td>\n",
       "      <td>751.0</td>\n",
       "      <td>751.0</td>\n",
       "      <td>574.0</td>\n",
       "      <td>598.0</td>\n",
       "      <td>1.01</td>\n",
       "    </tr>\n",
       "  </tbody>\n",
       "</table>\n",
       "</div>"
      ],
      "text/plain": [
       "          mean     sd  hdi_5.5%  hdi_94.5%  mcse_mean  mcse_sd  ess_mean  \\\n",
       "a_bar   -0.038  0.926    -1.355      1.272      0.040    0.028     549.0   \n",
       "a[0]    -0.162  0.630    -1.103      0.822      0.026    0.019     575.0   \n",
       "a[1]     0.126  0.634    -0.873      1.082      0.027    0.019     544.0   \n",
       "g[0]    -0.617  0.682    -1.603      0.413      0.028    0.020     589.0   \n",
       "g[1]     0.675  0.683    -0.322      1.739      0.029    0.021     548.0   \n",
       "g[2]    -0.531  0.670    -1.614      0.395      0.027    0.020     612.0   \n",
       "g[3]     0.535  0.659    -0.388      1.611      0.029    0.021     529.0   \n",
       "sigma    0.784  0.338     0.324      1.210      0.013    0.009     682.0   \n",
       "sigma_a  0.749  0.692     0.107      1.527      0.030    0.021     527.0   \n",
       "sigma_g  0.943  0.548     0.127      1.631      0.020    0.014     751.0   \n",
       "\n",
       "         ess_sd  ess_bulk  ess_tail  r_hat  \n",
       "a_bar     549.0     529.0     924.0   1.01  \n",
       "a[0]      575.0     565.0     820.0   1.01  \n",
       "a[1]      544.0     532.0     846.0   1.00  \n",
       "g[0]      589.0     601.0     836.0   1.00  \n",
       "g[1]      528.0     556.0     888.0   1.01  \n",
       "g[2]      568.0     647.0     751.0   1.00  \n",
       "g[3]      486.0     533.0     506.0   1.01  \n",
       "sigma     682.0     620.0     809.0   1.00  \n",
       "sigma_a   527.0     246.0     169.0   1.01  \n",
       "sigma_g   751.0     574.0     598.0   1.01  "
      ]
     },
     "execution_count": 54,
     "metadata": {},
     "output_type": "execute_result"
    },
    {
     "data": {
      "application/javascript": [
       "\n",
       "            setTimeout(function() {\n",
       "                var nbb_cell_id = 54;\n",
       "                var nbb_unformatted_code = \"az.summary(trace_m2)\";\n",
       "                var nbb_formatted_code = \"az.summary(trace_m2)\";\n",
       "                var nbb_cells = Jupyter.notebook.get_cells();\n",
       "                for (var i = 0; i < nbb_cells.length; ++i) {\n",
       "                    if (nbb_cells[i].input_prompt_number == nbb_cell_id) {\n",
       "                        if (nbb_cells[i].get_text() == nbb_unformatted_code) {\n",
       "                             nbb_cells[i].set_text(nbb_formatted_code);\n",
       "                        }\n",
       "                        break;\n",
       "                    }\n",
       "                }\n",
       "            }, 500);\n",
       "            "
      ],
      "text/plain": [
       "<IPython.core.display.Javascript object>"
      ]
     },
     "metadata": {},
     "output_type": "display_data"
    }
   ],
   "source": [
    "az.summary(trace_m2)"
   ]
  },
  {
   "cell_type": "code",
   "execution_count": 56,
   "id": "cfdb1175",
   "metadata": {
    "ExecuteTime": {
     "end_time": "2021-08-05T15:24:15.040568Z",
     "start_time": "2021-08-05T15:24:14.967859Z"
    }
   },
   "outputs": [
    {
     "data": {
      "application/javascript": [
       "\n",
       "            setTimeout(function() {\n",
       "                var nbb_cell_id = 56;\n",
       "                var nbb_unformatted_code = \"# Put the trace object in a dataframe so we can pull out the posteriors\\ntrace_m2_df = trace_m2.to_dataframe()\\n\\n# calculate contrast\\npost_diff2 = (\\n    trace_m2_df[(\\\"posterior\\\", \\\"a[0]\\\", 0)] - trace_m2_df[(\\\"posterior\\\", \\\"a[1]\\\", 1)]\\n)\";\n",
       "                var nbb_formatted_code = \"# Put the trace object in a dataframe so we can pull out the posteriors\\ntrace_m2_df = trace_m2.to_dataframe()\\n\\n# calculate contrast\\npost_diff2 = (\\n    trace_m2_df[(\\\"posterior\\\", \\\"a[0]\\\", 0)] - trace_m2_df[(\\\"posterior\\\", \\\"a[1]\\\", 1)]\\n)\";\n",
       "                var nbb_cells = Jupyter.notebook.get_cells();\n",
       "                for (var i = 0; i < nbb_cells.length; ++i) {\n",
       "                    if (nbb_cells[i].input_prompt_number == nbb_cell_id) {\n",
       "                        if (nbb_cells[i].get_text() == nbb_unformatted_code) {\n",
       "                             nbb_cells[i].set_text(nbb_formatted_code);\n",
       "                        }\n",
       "                        break;\n",
       "                    }\n",
       "                }\n",
       "            }, 500);\n",
       "            "
      ],
      "text/plain": [
       "<IPython.core.display.Javascript object>"
      ]
     },
     "metadata": {},
     "output_type": "display_data"
    }
   ],
   "source": [
    "# Put the trace object in a dataframe so we can pull out the posteriors\n",
    "trace_m2_df = trace_m2.to_dataframe()\n",
    "\n",
    "# calculate contrast\n",
    "post_diff2 = (\n",
    "    trace_m2_df[(\"posterior\", \"a[0]\", 0)] - trace_m2_df[(\"posterior\", \"a[1]\", 1)]\n",
    ")"
   ]
  },
  {
   "cell_type": "markdown",
   "id": "4d2b47e8",
   "metadata": {
    "ExecuteTime": {
     "end_time": "2021-08-05T15:10:25.063508Z",
     "start_time": "2021-08-05T15:10:25.058577Z"
    }
   },
   "source": [
    "<span style=\"color:red\">Again, I'm just using the t-statistic equation here</span>."
   ]
  },
  {
   "cell_type": "code",
   "execution_count": 61,
   "id": "c1e8b0ca",
   "metadata": {
    "ExecuteTime": {
     "end_time": "2021-08-05T15:25:06.653343Z",
     "start_time": "2021-08-05T15:25:06.645783Z"
    }
   },
   "outputs": [
    {
     "data": {
      "text/plain": [
       "-1.2088091266973582"
      ]
     },
     "execution_count": 61,
     "metadata": {},
     "output_type": "execute_result"
    },
    {
     "data": {
      "application/javascript": [
       "\n",
       "            setTimeout(function() {\n",
       "                var nbb_cell_id = 61;\n",
       "                var nbb_unformatted_code = \"post_diff2.mean() / (post_diff2.std() / np.sqrt(4))\";\n",
       "                var nbb_formatted_code = \"post_diff2.mean() / (post_diff2.std() / np.sqrt(4))\";\n",
       "                var nbb_cells = Jupyter.notebook.get_cells();\n",
       "                for (var i = 0; i < nbb_cells.length; ++i) {\n",
       "                    if (nbb_cells[i].input_prompt_number == nbb_cell_id) {\n",
       "                        if (nbb_cells[i].get_text() == nbb_unformatted_code) {\n",
       "                             nbb_cells[i].set_text(nbb_formatted_code);\n",
       "                        }\n",
       "                        break;\n",
       "                    }\n",
       "                }\n",
       "            }, 500);\n",
       "            "
      ],
      "text/plain": [
       "<IPython.core.display.Javascript object>"
      ]
     },
     "metadata": {},
     "output_type": "display_data"
    }
   ],
   "source": [
    "post_diff2.mean() / (post_diff2.std() / np.sqrt(4))"
   ]
  },
  {
   "cell_type": "markdown",
   "id": "6f98d054",
   "metadata": {
    "ExecuteTime": {
     "end_time": "2021-08-05T15:12:01.238264Z",
     "start_time": "2021-08-05T15:12:01.232541Z"
    }
   },
   "source": [
    "<span style=\"color:red\">I get an answer further than the previous model but in the right direction. Again, not sure if I had done something incorrect</span>"
   ]
  },
  {
   "cell_type": "code",
   "execution_count": null,
   "id": "b1800408",
   "metadata": {},
   "outputs": [],
   "source": []
  },
  {
   "cell_type": "code",
   "execution_count": null,
   "id": "3e65c019",
   "metadata": {},
   "outputs": [],
   "source": []
  },
  {
   "cell_type": "markdown",
   "id": "seeing-overall",
   "metadata": {},
   "source": [
    "Appendix: Environment and system parameters"
   ]
  },
  {
   "cell_type": "code",
   "execution_count": 123,
   "id": "ethical-template",
   "metadata": {
    "ExecuteTime": {
     "end_time": "2021-08-05T05:48:32.098364Z",
     "start_time": "2021-08-05T05:48:32.070597Z"
    },
    "scrolled": true
   },
   "outputs": [
    {
     "name": "stdout",
     "output_type": "stream",
     "text": [
      "Last updated: Wed Aug 04 2021\n",
      "\n",
      "Python implementation: CPython\n",
      "Python version       : 3.8.6\n",
      "IPython version      : 7.20.0\n",
      "\n",
      "seaborn   : 0.11.1\n",
      "scipy     : 1.6.0\n",
      "matplotlib: 3.3.4\n",
      "arviz     : 0.11.1\n",
      "daft      : 0.1.0\n",
      "pandas    : 1.2.1\n",
      "pymc3     : 3.11.0\n",
      "json      : 2.0.9\n",
      "numpy     : 1.20.1\n",
      "\n",
      "Watermark: 2.1.0\n",
      "\n"
     ]
    },
    {
     "data": {
      "application/javascript": [
       "\n",
       "            setTimeout(function() {\n",
       "                var nbb_cell_id = 123;\n",
       "                var nbb_unformatted_code = \"%watermark -n -u -v -iv -w\";\n",
       "                var nbb_formatted_code = \"%watermark -n -u -v -iv -w\";\n",
       "                var nbb_cells = Jupyter.notebook.get_cells();\n",
       "                for (var i = 0; i < nbb_cells.length; ++i) {\n",
       "                    if (nbb_cells[i].input_prompt_number == nbb_cell_id) {\n",
       "                        if (nbb_cells[i].get_text() == nbb_unformatted_code) {\n",
       "                             nbb_cells[i].set_text(nbb_formatted_code);\n",
       "                        }\n",
       "                        break;\n",
       "                    }\n",
       "                }\n",
       "            }, 500);\n",
       "            "
      ],
      "text/plain": [
       "<IPython.core.display.Javascript object>"
      ]
     },
     "metadata": {},
     "output_type": "display_data"
    }
   ],
   "source": [
    "%watermark -n -u -v -iv -w"
   ]
  }
 ],
 "metadata": {
  "kernelspec": {
   "display_name": "Python 3",
   "language": "python",
   "name": "python3"
  },
  "language_info": {
   "codemirror_mode": {
    "name": "ipython",
    "version": 3
   },
   "file_extension": ".py",
   "mimetype": "text/x-python",
   "name": "python",
   "nbconvert_exporter": "python",
   "pygments_lexer": "ipython3",
   "version": "3.8.6"
  },
  "latex_envs": {
   "LaTeX_envs_menu_present": true,
   "autoclose": false,
   "autocomplete": true,
   "bibliofile": "biblio.bib",
   "cite_by": "apalike",
   "current_citInitial": 1,
   "eqLabelWithNumbers": true,
   "eqNumInitial": 1,
   "hotkeys": {
    "equation": "Ctrl-E",
    "itemize": "Ctrl-I"
   },
   "labels_anchors": false,
   "latex_user_defs": false,
   "report_style_numbering": false,
   "user_envs_cfg": false
  },
  "toc": {
   "base_numbering": 1,
   "nav_menu": {},
   "number_sections": true,
   "sideBar": true,
   "skip_h1_title": false,
   "title_cell": "Table of Contents",
   "title_sidebar": "Contents",
   "toc_cell": false,
   "toc_position": {
    "height": "calc(100% - 180px)",
    "left": "10px",
    "top": "150px",
    "width": "248px"
   },
   "toc_section_display": true,
   "toc_window_display": true
  },
  "varInspector": {
   "cols": {
    "lenName": 16,
    "lenType": 16,
    "lenVar": 40
   },
   "kernels_config": {
    "python": {
     "delete_cmd_postfix": "",
     "delete_cmd_prefix": "del ",
     "library": "var_list.py",
     "varRefreshCmd": "print(var_dic_list())"
    },
    "r": {
     "delete_cmd_postfix": ") ",
     "delete_cmd_prefix": "rm(",
     "library": "var_list.r",
     "varRefreshCmd": "cat(var_dic_list()) "
    }
   },
   "types_to_exclude": [
    "module",
    "function",
    "builtin_function_or_method",
    "instance",
    "_Feature"
   ],
   "window_display": false
  }
 },
 "nbformat": 4,
 "nbformat_minor": 5
}
