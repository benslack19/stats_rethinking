{
 "cells": [
  {
   "cell_type": "markdown",
   "id": "metallic-weekend",
   "metadata": {},
   "source": [
    "This is Week homework from [Statistical Rethinking](https://github.com/rmcelreath/stat_rethinking_2020/tree/main/homework) using Python. (A public repo using `pmyc3` has been created [here](https://github.com/pymc-devs/resources/tree/master/Rethinking_2) that also uses Python. It will helpful for me to do these exercises myself, but that repo will serve as a helpful reference."
   ]
  },
  {
   "cell_type": "code",
   "execution_count": 3,
   "id": "overall-samba",
   "metadata": {
    "ExecuteTime": {
     "end_time": "2021-06-12T15:00:36.760607Z",
     "start_time": "2021-06-12T15:00:36.752731Z"
    }
   },
   "outputs": [
    {
     "data": {
      "application/javascript": [
       "\n",
       "            setTimeout(function() {\n",
       "                var nbb_cell_id = 3;\n",
       "                var nbb_unformatted_code = \"import arviz as az\\nimport matplotlib.pyplot as plt\\nimport numpy as np\\nimport os\\nimport pandas as pd\\nimport pymc3 as pm\\nimport scipy.stats as stats\\nimport seaborn as sns\\n\\nfrom scipy.optimize import curve_fit\";\n",
       "                var nbb_formatted_code = \"import arviz as az\\nimport matplotlib.pyplot as plt\\nimport numpy as np\\nimport os\\nimport pandas as pd\\nimport pymc3 as pm\\nimport scipy.stats as stats\\nimport seaborn as sns\\n\\nfrom scipy.optimize import curve_fit\";\n",
       "                var nbb_cells = Jupyter.notebook.get_cells();\n",
       "                for (var i = 0; i < nbb_cells.length; ++i) {\n",
       "                    if (nbb_cells[i].input_prompt_number == nbb_cell_id) {\n",
       "                        if (nbb_cells[i].get_text() == nbb_unformatted_code) {\n",
       "                             nbb_cells[i].set_text(nbb_formatted_code);\n",
       "                        }\n",
       "                        break;\n",
       "                    }\n",
       "                }\n",
       "            }, 500);\n",
       "            "
      ],
      "text/plain": [
       "<IPython.core.display.Javascript object>"
      ]
     },
     "metadata": {},
     "output_type": "display_data"
    }
   ],
   "source": [
    "import arviz as az\n",
    "import matplotlib.pyplot as plt\n",
    "import numpy as np\n",
    "import os\n",
    "import pandas as pd\n",
    "import pymc3 as pm\n",
    "import scipy.stats as stats\n",
    "import seaborn as sns\n",
    "\n",
    "from scipy.optimize import curve_fit"
   ]
  },
  {
   "cell_type": "code",
   "execution_count": 4,
   "id": "legal-attitude",
   "metadata": {
    "ExecuteTime": {
     "end_time": "2021-06-12T15:00:37.481220Z",
     "start_time": "2021-06-12T15:00:37.461343Z"
    }
   },
   "outputs": [
    {
     "name": "stdout",
     "output_type": "stream",
     "text": [
      "The nb_black extension is already loaded. To reload it, use:\n",
      "  %reload_ext nb_black\n",
      "The watermark extension is already loaded. To reload it, use:\n",
      "  %reload_ext watermark\n"
     ]
    },
    {
     "data": {
      "application/javascript": [
       "\n",
       "            setTimeout(function() {\n",
       "                var nbb_cell_id = 4;\n",
       "                var nbb_unformatted_code = \"%load_ext nb_black\\n%config InlineBackend.figure_format = 'retina'\\n%load_ext watermark\\nRANDOM_SEED = 8927\\nnp.random.seed(RANDOM_SEED)\\naz.style.use(\\\"arviz-darkgrid\\\")\\naz.rcParams[\\\"stats.hdi_prob\\\"] = 0.89  # sets default credible interval used by arviz\";\n",
       "                var nbb_formatted_code = \"%load_ext nb_black\\n%config InlineBackend.figure_format = 'retina'\\n%load_ext watermark\\nRANDOM_SEED = 8927\\nnp.random.seed(RANDOM_SEED)\\naz.style.use(\\\"arviz-darkgrid\\\")\\naz.rcParams[\\\"stats.hdi_prob\\\"] = 0.89  # sets default credible interval used by arviz\";\n",
       "                var nbb_cells = Jupyter.notebook.get_cells();\n",
       "                for (var i = 0; i < nbb_cells.length; ++i) {\n",
       "                    if (nbb_cells[i].input_prompt_number == nbb_cell_id) {\n",
       "                        if (nbb_cells[i].get_text() == nbb_unformatted_code) {\n",
       "                             nbb_cells[i].set_text(nbb_formatted_code);\n",
       "                        }\n",
       "                        break;\n",
       "                    }\n",
       "                }\n",
       "            }, 500);\n",
       "            "
      ],
      "text/plain": [
       "<IPython.core.display.Javascript object>"
      ]
     },
     "metadata": {},
     "output_type": "display_data"
    }
   ],
   "source": [
    "%load_ext nb_black\n",
    "%config InlineBackend.figure_format = 'retina'\n",
    "%load_ext watermark\n",
    "RANDOM_SEED = 8927\n",
    "np.random.seed(RANDOM_SEED)\n",
    "az.style.use(\"arviz-darkgrid\")\n",
    "az.rcParams[\"stats.hdi_prob\"] = 0.89  # sets default credible interval used by arviz"
   ]
  },
  {
   "cell_type": "markdown",
   "id": "comfortable-skill",
   "metadata": {},
   "source": [
    "# Question 1 (7H3)\n",
    "\n",
    "Consider three fictional Polynesian islands. On each there is a Royal Ornithologist charged by the king with surveying the birb population. They have each found the following proportions of 5 important birb species:"
   ]
  },
  {
   "cell_type": "code",
   "execution_count": 5,
   "id": "featured-fundamentals",
   "metadata": {
    "ExecuteTime": {
     "end_time": "2021-06-12T15:00:38.645155Z",
     "start_time": "2021-06-12T15:00:38.622561Z"
    }
   },
   "outputs": [
    {
     "data": {
      "text/html": [
       "<div>\n",
       "<style scoped>\n",
       "    .dataframe tbody tr th:only-of-type {\n",
       "        vertical-align: middle;\n",
       "    }\n",
       "\n",
       "    .dataframe tbody tr th {\n",
       "        vertical-align: top;\n",
       "    }\n",
       "\n",
       "    .dataframe thead th {\n",
       "        text-align: right;\n",
       "    }\n",
       "</style>\n",
       "<table border=\"1\" class=\"dataframe\">\n",
       "  <thead>\n",
       "    <tr style=\"text-align: right;\">\n",
       "      <th></th>\n",
       "      <th>Birb A</th>\n",
       "      <th>Birb B</th>\n",
       "      <th>Birb C</th>\n",
       "      <th>Birb D</th>\n",
       "      <th>Birb E</th>\n",
       "    </tr>\n",
       "  </thead>\n",
       "  <tbody>\n",
       "    <tr>\n",
       "      <th>Island 1</th>\n",
       "      <td>0.20</td>\n",
       "      <td>0.20</td>\n",
       "      <td>0.20</td>\n",
       "      <td>0.200</td>\n",
       "      <td>0.200</td>\n",
       "    </tr>\n",
       "    <tr>\n",
       "      <th>Island 2</th>\n",
       "      <td>0.80</td>\n",
       "      <td>0.10</td>\n",
       "      <td>0.05</td>\n",
       "      <td>0.025</td>\n",
       "      <td>0.025</td>\n",
       "    </tr>\n",
       "    <tr>\n",
       "      <th>Island 3</th>\n",
       "      <td>0.05</td>\n",
       "      <td>0.15</td>\n",
       "      <td>0.70</td>\n",
       "      <td>0.050</td>\n",
       "      <td>0.050</td>\n",
       "    </tr>\n",
       "  </tbody>\n",
       "</table>\n",
       "</div>"
      ],
      "text/plain": [
       "          Birb A  Birb B  Birb C  Birb D  Birb E\n",
       "Island 1    0.20    0.20    0.20   0.200   0.200\n",
       "Island 2    0.80    0.10    0.05   0.025   0.025\n",
       "Island 3    0.05    0.15    0.70   0.050   0.050"
      ]
     },
     "execution_count": 5,
     "metadata": {},
     "output_type": "execute_result"
    },
    {
     "data": {
      "application/javascript": [
       "\n",
       "            setTimeout(function() {\n",
       "                var nbb_cell_id = 5;\n",
       "                var nbb_unformatted_code = \"df_birb = pd.DataFrame(\\n    {\\n        \\\"Birb A\\\": [0.2, 0.8, 0.05],\\n        \\\"Birb B\\\": [0.2, 0.1, 0.15],\\n        \\\"Birb C\\\": [0.2, 0.05, 0.7],\\n        \\\"Birb D\\\": [0.2, 0.025, 0.05],\\n        \\\"Birb E\\\": [0.2, 0.025, 0.05],\\n    },\\n    index=[\\\"Island 1\\\", \\\"Island 2\\\", \\\"Island 3\\\"],\\n)\\n\\ndf_birb\";\n",
       "                var nbb_formatted_code = \"df_birb = pd.DataFrame(\\n    {\\n        \\\"Birb A\\\": [0.2, 0.8, 0.05],\\n        \\\"Birb B\\\": [0.2, 0.1, 0.15],\\n        \\\"Birb C\\\": [0.2, 0.05, 0.7],\\n        \\\"Birb D\\\": [0.2, 0.025, 0.05],\\n        \\\"Birb E\\\": [0.2, 0.025, 0.05],\\n    },\\n    index=[\\\"Island 1\\\", \\\"Island 2\\\", \\\"Island 3\\\"],\\n)\\n\\ndf_birb\";\n",
       "                var nbb_cells = Jupyter.notebook.get_cells();\n",
       "                for (var i = 0; i < nbb_cells.length; ++i) {\n",
       "                    if (nbb_cells[i].input_prompt_number == nbb_cell_id) {\n",
       "                        if (nbb_cells[i].get_text() == nbb_unformatted_code) {\n",
       "                             nbb_cells[i].set_text(nbb_formatted_code);\n",
       "                        }\n",
       "                        break;\n",
       "                    }\n",
       "                }\n",
       "            }, 500);\n",
       "            "
      ],
      "text/plain": [
       "<IPython.core.display.Javascript object>"
      ]
     },
     "metadata": {},
     "output_type": "display_data"
    }
   ],
   "source": [
    "df_birb = pd.DataFrame(\n",
    "    {\n",
    "        \"Birb A\": [0.2, 0.8, 0.05],\n",
    "        \"Birb B\": [0.2, 0.1, 0.15],\n",
    "        \"Birb C\": [0.2, 0.05, 0.7],\n",
    "        \"Birb D\": [0.2, 0.025, 0.05],\n",
    "        \"Birb E\": [0.2, 0.025, 0.05],\n",
    "    },\n",
    "    index=[\"Island 1\", \"Island 2\", \"Island 3\"],\n",
    ")\n",
    "\n",
    "df_birb"
   ]
  },
  {
   "cell_type": "markdown",
   "id": "floating-standing",
   "metadata": {
    "ExecuteTime": {
     "end_time": "2021-03-13T15:39:42.473501Z",
     "start_time": "2021-03-13T15:39:42.092062Z"
    }
   },
   "source": [
    "- Notice that each row sums to 1, all the birbs. This problem has two parts. It is not computationally complicated. But it is conceptually tricky.\n",
    "- First, compute the entropy of each island’s birb distribution. Interpret these entropy values.\n",
    "- Second, use each island’s birb distribution to predict the other two. This means to compute the K-L Divergence of each island from the others, treating each island as if it were a statistical model of the other islands. You should end up with 6 different K-L Divergence values. Which island predicts the others best? Why?\n"
   ]
  },
  {
   "cell_type": "markdown",
   "id": "linear-explosion",
   "metadata": {},
   "source": [
    "## Compute entropy\n",
    "\n",
    "**From looking at the values, I would predict that Island 1 has the higher information entropy.**\n",
    "\n",
    "Shannon's information entropy equation:\n",
    "\n",
    "$H(p) = -\\text{E}\\log(p_i) = - \\displaystyle \\sum_{i=1}^n p_i\\log(p_i)$\n",
    "\n",
    "In words: *Uncertainty in a probability distribution is average (minus) log-probability of an event.*\n",
    "\n",
    "$p_i$ is a **vector** of probability of different events. In this case, it would be a row in the table above."
   ]
  },
  {
   "cell_type": "code",
   "execution_count": 6,
   "id": "vulnerable-adobe",
   "metadata": {
    "ExecuteTime": {
     "end_time": "2021-06-12T15:00:43.613896Z",
     "start_time": "2021-06-12T15:00:43.610287Z"
    }
   },
   "outputs": [
    {
     "data": {
      "application/javascript": [
       "\n",
       "            setTimeout(function() {\n",
       "                var nbb_cell_id = 6;\n",
       "                var nbb_unformatted_code = \"# Didn't get the right answer with this code\\n\\n# def calc_entropy(vector_i):\\n#     for i in vector_i:\\n#         holder = list()\\n#         print(i)\\n#         holder.append(i * np.log(i))\\n\\n#     return -(np.sum(holder))\";\n",
       "                var nbb_formatted_code = \"# Didn't get the right answer with this code\\n\\n# def calc_entropy(vector_i):\\n#     for i in vector_i:\\n#         holder = list()\\n#         print(i)\\n#         holder.append(i * np.log(i))\\n\\n#     return -(np.sum(holder))\";\n",
       "                var nbb_cells = Jupyter.notebook.get_cells();\n",
       "                for (var i = 0; i < nbb_cells.length; ++i) {\n",
       "                    if (nbb_cells[i].input_prompt_number == nbb_cell_id) {\n",
       "                        if (nbb_cells[i].get_text() == nbb_unformatted_code) {\n",
       "                             nbb_cells[i].set_text(nbb_formatted_code);\n",
       "                        }\n",
       "                        break;\n",
       "                    }\n",
       "                }\n",
       "            }, 500);\n",
       "            "
      ],
      "text/plain": [
       "<IPython.core.display.Javascript object>"
      ]
     },
     "metadata": {},
     "output_type": "display_data"
    }
   ],
   "source": [
    "# Didn't get the right answer with this code\n",
    "\n",
    "# def calc_entropy(vector_i):\n",
    "#     for i in vector_i:\n",
    "#         holder = list()\n",
    "#         print(i)\n",
    "#         holder.append(i * np.log(i))\n",
    "\n",
    "#     return -(np.sum(holder))"
   ]
  },
  {
   "cell_type": "code",
   "execution_count": 7,
   "id": "broadband-present",
   "metadata": {
    "ExecuteTime": {
     "end_time": "2021-06-12T15:00:51.647008Z",
     "start_time": "2021-06-12T15:00:51.641333Z"
    }
   },
   "outputs": [
    {
     "data": {
      "application/javascript": [
       "\n",
       "            setTimeout(function() {\n",
       "                var nbb_cell_id = 7;\n",
       "                var nbb_unformatted_code = \"def calc_entropy(vector_i):\\n    return -np.sum(vector_i * np.log(vector_i))\";\n",
       "                var nbb_formatted_code = \"def calc_entropy(vector_i):\\n    return -np.sum(vector_i * np.log(vector_i))\";\n",
       "                var nbb_cells = Jupyter.notebook.get_cells();\n",
       "                for (var i = 0; i < nbb_cells.length; ++i) {\n",
       "                    if (nbb_cells[i].input_prompt_number == nbb_cell_id) {\n",
       "                        if (nbb_cells[i].get_text() == nbb_unformatted_code) {\n",
       "                             nbb_cells[i].set_text(nbb_formatted_code);\n",
       "                        }\n",
       "                        break;\n",
       "                    }\n",
       "                }\n",
       "            }, 500);\n",
       "            "
      ],
      "text/plain": [
       "<IPython.core.display.Javascript object>"
      ]
     },
     "metadata": {},
     "output_type": "display_data"
    }
   ],
   "source": [
    "def calc_entropy(vector_i):\n",
    "    return -np.sum(vector_i * np.log(vector_i))"
   ]
  },
  {
   "cell_type": "code",
   "execution_count": 8,
   "id": "saving-edmonton",
   "metadata": {
    "ExecuteTime": {
     "end_time": "2021-06-12T15:00:52.233434Z",
     "start_time": "2021-06-12T15:00:52.221944Z"
    }
   },
   "outputs": [
    {
     "data": {
      "text/plain": [
       "1.6094379124341005"
      ]
     },
     "execution_count": 8,
     "metadata": {},
     "output_type": "execute_result"
    },
    {
     "data": {
      "application/javascript": [
       "\n",
       "            setTimeout(function() {\n",
       "                var nbb_cell_id = 8;\n",
       "                var nbb_unformatted_code = \"calc_entropy(df_birb.loc[\\\"Island 1\\\", :])\";\n",
       "                var nbb_formatted_code = \"calc_entropy(df_birb.loc[\\\"Island 1\\\", :])\";\n",
       "                var nbb_cells = Jupyter.notebook.get_cells();\n",
       "                for (var i = 0; i < nbb_cells.length; ++i) {\n",
       "                    if (nbb_cells[i].input_prompt_number == nbb_cell_id) {\n",
       "                        if (nbb_cells[i].get_text() == nbb_unformatted_code) {\n",
       "                             nbb_cells[i].set_text(nbb_formatted_code);\n",
       "                        }\n",
       "                        break;\n",
       "                    }\n",
       "                }\n",
       "            }, 500);\n",
       "            "
      ],
      "text/plain": [
       "<IPython.core.display.Javascript object>"
      ]
     },
     "metadata": {},
     "output_type": "display_data"
    }
   ],
   "source": [
    "calc_entropy(df_birb.loc[\"Island 1\", :])"
   ]
  },
  {
   "cell_type": "code",
   "execution_count": 9,
   "id": "digital-viewer",
   "metadata": {
    "ExecuteTime": {
     "end_time": "2021-06-12T15:00:52.809236Z",
     "start_time": "2021-06-12T15:00:52.801857Z"
    }
   },
   "outputs": [
    {
     "data": {
      "text/plain": [
       "0.7430039367341686"
      ]
     },
     "execution_count": 9,
     "metadata": {},
     "output_type": "execute_result"
    },
    {
     "data": {
      "application/javascript": [
       "\n",
       "            setTimeout(function() {\n",
       "                var nbb_cell_id = 9;\n",
       "                var nbb_unformatted_code = \"calc_entropy(df_birb.loc[\\\"Island 2\\\", :])\";\n",
       "                var nbb_formatted_code = \"calc_entropy(df_birb.loc[\\\"Island 2\\\", :])\";\n",
       "                var nbb_cells = Jupyter.notebook.get_cells();\n",
       "                for (var i = 0; i < nbb_cells.length; ++i) {\n",
       "                    if (nbb_cells[i].input_prompt_number == nbb_cell_id) {\n",
       "                        if (nbb_cells[i].get_text() == nbb_unformatted_code) {\n",
       "                             nbb_cells[i].set_text(nbb_formatted_code);\n",
       "                        }\n",
       "                        break;\n",
       "                    }\n",
       "                }\n",
       "            }, 500);\n",
       "            "
      ],
      "text/plain": [
       "<IPython.core.display.Javascript object>"
      ]
     },
     "metadata": {},
     "output_type": "display_data"
    }
   ],
   "source": [
    "calc_entropy(df_birb.loc[\"Island 2\", :])"
   ]
  },
  {
   "cell_type": "code",
   "execution_count": 10,
   "id": "twenty-glance",
   "metadata": {
    "ExecuteTime": {
     "end_time": "2021-06-12T15:00:54.171496Z",
     "start_time": "2021-06-12T15:00:54.164440Z"
    }
   },
   "outputs": [
    {
     "data": {
      "text/plain": [
       "0.9836002995230935"
      ]
     },
     "execution_count": 10,
     "metadata": {},
     "output_type": "execute_result"
    },
    {
     "data": {
      "application/javascript": [
       "\n",
       "            setTimeout(function() {\n",
       "                var nbb_cell_id = 10;\n",
       "                var nbb_unformatted_code = \"calc_entropy(df_birb.loc[\\\"Island 3\\\", :])\";\n",
       "                var nbb_formatted_code = \"calc_entropy(df_birb.loc[\\\"Island 3\\\", :])\";\n",
       "                var nbb_cells = Jupyter.notebook.get_cells();\n",
       "                for (var i = 0; i < nbb_cells.length; ++i) {\n",
       "                    if (nbb_cells[i].input_prompt_number == nbb_cell_id) {\n",
       "                        if (nbb_cells[i].get_text() == nbb_unformatted_code) {\n",
       "                             nbb_cells[i].set_text(nbb_formatted_code);\n",
       "                        }\n",
       "                        break;\n",
       "                    }\n",
       "                }\n",
       "            }, 500);\n",
       "            "
      ],
      "text/plain": [
       "<IPython.core.display.Javascript object>"
      ]
     },
     "metadata": {},
     "output_type": "display_data"
    }
   ],
   "source": [
    "calc_entropy(df_birb.loc[\"Island 3\", :])"
   ]
  },
  {
   "cell_type": "markdown",
   "id": "average-assault",
   "metadata": {},
   "source": [
    "**We can see that Island 1 has the highest information entropy. The raw values at first glance might be harder to guess of what would be higher entropy from Island 3 and Island 2, but I saw that Island 3 has slightly fewer extreme values.**"
   ]
  },
  {
   "cell_type": "markdown",
   "id": "injured-implement",
   "metadata": {},
   "source": [
    "## Compute K-L Divergence"
   ]
  },
  {
   "cell_type": "markdown",
   "id": "varied-trail",
   "metadata": {},
   "source": [
    "**I would predict that Island 1 has smaller information distance than the others. It has higher entropy.**\n",
    "\n",
    "The Kullback-Leibler Divergence (KLD) score is given by the equation:\n",
    "\n",
    "$D_\\text{KL}(p, q) = \\displaystyle \\sum_{i}p_i(\\log(p_i) - \\log(q_i))$\n",
    "\n",
    "The lecture and text stated that *p* is assigned to the \"truth\" but in this case we will use it for each island, when it serves as a reference model.\n",
    "\n",
    "In the lecture equation, the code to calculate KLD inputted a set of values from 0.01 to 0.99 but here, I will rely on the fact that the vectors being compared are equal."
   ]
  },
  {
   "cell_type": "code",
   "execution_count": 11,
   "id": "disturbed-dispute",
   "metadata": {
    "ExecuteTime": {
     "end_time": "2021-06-12T15:01:00.074173Z",
     "start_time": "2021-06-12T15:01:00.070698Z"
    }
   },
   "outputs": [
    {
     "data": {
      "application/javascript": [
       "\n",
       "            setTimeout(function() {\n",
       "                var nbb_cell_id = 11;\n",
       "                var nbb_unformatted_code = \"# Not the right answer with this function\\n\\n# def calc_kld(vector_p, vector_q):\\n#     \\\"\\\"\\\"\\n#     Calculate K-L divergence. p is the reference vector.\\n#     This assumes both vectors are equal length.\\n#     \\\"\\\"\\\"\\n#     for i in range(len(vector_p)):\\n#         holder = list()\\n#         holder.append(vector_p[i] * (np.log(vector_p[i]) - np.log(vector_q[i])))\\n\\n#     return np.sum(holder)\";\n",
       "                var nbb_formatted_code = \"# Not the right answer with this function\\n\\n# def calc_kld(vector_p, vector_q):\\n#     \\\"\\\"\\\"\\n#     Calculate K-L divergence. p is the reference vector.\\n#     This assumes both vectors are equal length.\\n#     \\\"\\\"\\\"\\n#     for i in range(len(vector_p)):\\n#         holder = list()\\n#         holder.append(vector_p[i] * (np.log(vector_p[i]) - np.log(vector_q[i])))\\n\\n#     return np.sum(holder)\";\n",
       "                var nbb_cells = Jupyter.notebook.get_cells();\n",
       "                for (var i = 0; i < nbb_cells.length; ++i) {\n",
       "                    if (nbb_cells[i].input_prompt_number == nbb_cell_id) {\n",
       "                        if (nbb_cells[i].get_text() == nbb_unformatted_code) {\n",
       "                             nbb_cells[i].set_text(nbb_formatted_code);\n",
       "                        }\n",
       "                        break;\n",
       "                    }\n",
       "                }\n",
       "            }, 500);\n",
       "            "
      ],
      "text/plain": [
       "<IPython.core.display.Javascript object>"
      ]
     },
     "metadata": {},
     "output_type": "display_data"
    }
   ],
   "source": [
    "# Not the right answer with this function\n",
    "\n",
    "# def calc_kld(vector_p, vector_q):\n",
    "#     \"\"\"\n",
    "#     Calculate K-L divergence. p is the reference vector.\n",
    "#     This assumes both vectors are equal length.\n",
    "#     \"\"\"\n",
    "#     for i in range(len(vector_p)):\n",
    "#         holder = list()\n",
    "#         holder.append(vector_p[i] * (np.log(vector_p[i]) - np.log(vector_q[i])))\n",
    "\n",
    "#     return np.sum(holder)"
   ]
  },
  {
   "cell_type": "code",
   "execution_count": 12,
   "id": "chief-scoop",
   "metadata": {
    "ExecuteTime": {
     "end_time": "2021-06-12T15:01:02.571047Z",
     "start_time": "2021-06-12T15:01:02.565060Z"
    }
   },
   "outputs": [
    {
     "data": {
      "application/javascript": [
       "\n",
       "            setTimeout(function() {\n",
       "                var nbb_cell_id = 12;\n",
       "                var nbb_unformatted_code = \"def calc_kld(vector_p, vector_q):\\n    \\\"\\\"\\\"\\n    Calculate K-L divergence. p is the reference vector.\\n    The order of the vectors being inputted matters.\\n    \\\"\\\"\\\"\\n    return np.sum(vector_p * (np.log(vector_p) - np.log(vector_q)))\";\n",
       "                var nbb_formatted_code = \"def calc_kld(vector_p, vector_q):\\n    \\\"\\\"\\\"\\n    Calculate K-L divergence. p is the reference vector.\\n    The order of the vectors being inputted matters.\\n    \\\"\\\"\\\"\\n    return np.sum(vector_p * (np.log(vector_p) - np.log(vector_q)))\";\n",
       "                var nbb_cells = Jupyter.notebook.get_cells();\n",
       "                for (var i = 0; i < nbb_cells.length; ++i) {\n",
       "                    if (nbb_cells[i].input_prompt_number == nbb_cell_id) {\n",
       "                        if (nbb_cells[i].get_text() == nbb_unformatted_code) {\n",
       "                             nbb_cells[i].set_text(nbb_formatted_code);\n",
       "                        }\n",
       "                        break;\n",
       "                    }\n",
       "                }\n",
       "            }, 500);\n",
       "            "
      ],
      "text/plain": [
       "<IPython.core.display.Javascript object>"
      ]
     },
     "metadata": {},
     "output_type": "display_data"
    }
   ],
   "source": [
    "def calc_kld(vector_p, vector_q):\n",
    "    \"\"\"\n",
    "    Calculate K-L divergence. p is the reference vector.\n",
    "    The order of the vectors being inputted matters.\n",
    "    \"\"\"\n",
    "    return np.sum(vector_p * (np.log(vector_p) - np.log(vector_q)))"
   ]
  },
  {
   "cell_type": "code",
   "execution_count": 13,
   "id": "guided-emerald",
   "metadata": {
    "ExecuteTime": {
     "end_time": "2021-06-12T15:01:03.259336Z",
     "start_time": "2021-06-12T15:01:03.255688Z"
    }
   },
   "outputs": [
    {
     "data": {
      "application/javascript": [
       "\n",
       "            setTimeout(function() {\n",
       "                var nbb_cell_id = 13;\n",
       "                var nbb_unformatted_code = \"# def calc_kld(vector_p, vector_q):\\n#     \\\"\\\"\\\"\\n#     Alternate forumula, gives same answer.\\n#     \\\"\\\"\\\"\\n#     return np.sum(vector_p * (np.log(vector_p / vector_q)))\";\n",
       "                var nbb_formatted_code = \"# def calc_kld(vector_p, vector_q):\\n#     \\\"\\\"\\\"\\n#     Alternate forumula, gives same answer.\\n#     \\\"\\\"\\\"\\n#     return np.sum(vector_p * (np.log(vector_p / vector_q)))\";\n",
       "                var nbb_cells = Jupyter.notebook.get_cells();\n",
       "                for (var i = 0; i < nbb_cells.length; ++i) {\n",
       "                    if (nbb_cells[i].input_prompt_number == nbb_cell_id) {\n",
       "                        if (nbb_cells[i].get_text() == nbb_unformatted_code) {\n",
       "                             nbb_cells[i].set_text(nbb_formatted_code);\n",
       "                        }\n",
       "                        break;\n",
       "                    }\n",
       "                }\n",
       "            }, 500);\n",
       "            "
      ],
      "text/plain": [
       "<IPython.core.display.Javascript object>"
      ]
     },
     "metadata": {},
     "output_type": "display_data"
    }
   ],
   "source": [
    "# def calc_kld(vector_p, vector_q):\n",
    "#     \"\"\"\n",
    "#     Alternate forumula, gives same answer.\n",
    "#     \"\"\"\n",
    "#     return np.sum(vector_p * (np.log(vector_p / vector_q)))"
   ]
  },
  {
   "cell_type": "markdown",
   "id": "driving-leadership",
   "metadata": {},
   "source": [
    "**Island 1 as reference**"
   ]
  },
  {
   "cell_type": "code",
   "execution_count": 14,
   "id": "healthy-tenant",
   "metadata": {
    "ExecuteTime": {
     "end_time": "2021-06-12T15:01:03.857926Z",
     "start_time": "2021-06-12T15:01:03.849348Z"
    }
   },
   "outputs": [
    {
     "data": {
      "text/plain": [
       "0.9704060527839236"
      ]
     },
     "execution_count": 14,
     "metadata": {},
     "output_type": "execute_result"
    },
    {
     "data": {
      "application/javascript": [
       "\n",
       "            setTimeout(function() {\n",
       "                var nbb_cell_id = 14;\n",
       "                var nbb_unformatted_code = \"calc_kld(df_birb.loc[\\\"Island 1\\\", :], df_birb.loc[\\\"Island 2\\\", :])\";\n",
       "                var nbb_formatted_code = \"calc_kld(df_birb.loc[\\\"Island 1\\\", :], df_birb.loc[\\\"Island 2\\\", :])\";\n",
       "                var nbb_cells = Jupyter.notebook.get_cells();\n",
       "                for (var i = 0; i < nbb_cells.length; ++i) {\n",
       "                    if (nbb_cells[i].input_prompt_number == nbb_cell_id) {\n",
       "                        if (nbb_cells[i].get_text() == nbb_unformatted_code) {\n",
       "                             nbb_cells[i].set_text(nbb_formatted_code);\n",
       "                        }\n",
       "                        break;\n",
       "                    }\n",
       "                }\n",
       "            }, 500);\n",
       "            "
      ],
      "text/plain": [
       "<IPython.core.display.Javascript object>"
      ]
     },
     "metadata": {},
     "output_type": "display_data"
    }
   ],
   "source": [
    "calc_kld(df_birb.loc[\"Island 1\", :], df_birb.loc[\"Island 2\", :])"
   ]
  },
  {
   "cell_type": "code",
   "execution_count": 15,
   "id": "optional-horizon",
   "metadata": {
    "ExecuteTime": {
     "end_time": "2021-06-12T15:01:04.438154Z",
     "start_time": "2021-06-12T15:01:04.431285Z"
    }
   },
   "outputs": [
    {
     "data": {
      "text/plain": [
       "0.638760437463217"
      ]
     },
     "execution_count": 15,
     "metadata": {},
     "output_type": "execute_result"
    },
    {
     "data": {
      "application/javascript": [
       "\n",
       "            setTimeout(function() {\n",
       "                var nbb_cell_id = 15;\n",
       "                var nbb_unformatted_code = \"calc_kld(df_birb.loc[\\\"Island 1\\\", :], df_birb.loc[\\\"Island 3\\\", :])\";\n",
       "                var nbb_formatted_code = \"calc_kld(df_birb.loc[\\\"Island 1\\\", :], df_birb.loc[\\\"Island 3\\\", :])\";\n",
       "                var nbb_cells = Jupyter.notebook.get_cells();\n",
       "                for (var i = 0; i < nbb_cells.length; ++i) {\n",
       "                    if (nbb_cells[i].input_prompt_number == nbb_cell_id) {\n",
       "                        if (nbb_cells[i].get_text() == nbb_unformatted_code) {\n",
       "                             nbb_cells[i].set_text(nbb_formatted_code);\n",
       "                        }\n",
       "                        break;\n",
       "                    }\n",
       "                }\n",
       "            }, 500);\n",
       "            "
      ],
      "text/plain": [
       "<IPython.core.display.Javascript object>"
      ]
     },
     "metadata": {},
     "output_type": "display_data"
    }
   ],
   "source": [
    "calc_kld(df_birb.loc[\"Island 1\", :], df_birb.loc[\"Island 3\", :])"
   ]
  },
  {
   "cell_type": "markdown",
   "id": "eight-mandate",
   "metadata": {},
   "source": [
    "**Island 2 as reference**"
   ]
  },
  {
   "cell_type": "code",
   "execution_count": 16,
   "id": "essential-development",
   "metadata": {
    "ExecuteTime": {
     "end_time": "2021-06-12T15:01:06.273191Z",
     "start_time": "2021-06-12T15:01:06.266398Z"
    }
   },
   "outputs": [
    {
     "data": {
      "text/plain": [
       "0.8664339756999315"
      ]
     },
     "execution_count": 16,
     "metadata": {},
     "output_type": "execute_result"
    },
    {
     "data": {
      "application/javascript": [
       "\n",
       "            setTimeout(function() {\n",
       "                var nbb_cell_id = 16;\n",
       "                var nbb_unformatted_code = \"calc_kld(df_birb.loc[\\\"Island 2\\\", :], df_birb.loc[\\\"Island 1\\\", :])\";\n",
       "                var nbb_formatted_code = \"calc_kld(df_birb.loc[\\\"Island 2\\\", :], df_birb.loc[\\\"Island 1\\\", :])\";\n",
       "                var nbb_cells = Jupyter.notebook.get_cells();\n",
       "                for (var i = 0; i < nbb_cells.length; ++i) {\n",
       "                    if (nbb_cells[i].input_prompt_number == nbb_cell_id) {\n",
       "                        if (nbb_cells[i].get_text() == nbb_unformatted_code) {\n",
       "                             nbb_cells[i].set_text(nbb_formatted_code);\n",
       "                        }\n",
       "                        break;\n",
       "                    }\n",
       "                }\n",
       "            }, 500);\n",
       "            "
      ],
      "text/plain": [
       "<IPython.core.display.Javascript object>"
      ]
     },
     "metadata": {},
     "output_type": "display_data"
    }
   ],
   "source": [
    "calc_kld(df_birb.loc[\"Island 2\", :], df_birb.loc[\"Island 1\", :])"
   ]
  },
  {
   "cell_type": "code",
   "execution_count": 17,
   "id": "continuing-bullet",
   "metadata": {
    "ExecuteTime": {
     "end_time": "2021-06-12T15:01:06.520706Z",
     "start_time": "2021-06-12T15:01:06.513560Z"
    }
   },
   "outputs": [
    {
     "data": {
      "text/plain": [
       "2.010914241472248"
      ]
     },
     "execution_count": 17,
     "metadata": {},
     "output_type": "execute_result"
    },
    {
     "data": {
      "application/javascript": [
       "\n",
       "            setTimeout(function() {\n",
       "                var nbb_cell_id = 17;\n",
       "                var nbb_unformatted_code = \"calc_kld(df_birb.loc[\\\"Island 2\\\", :], df_birb.loc[\\\"Island 3\\\", :])\";\n",
       "                var nbb_formatted_code = \"calc_kld(df_birb.loc[\\\"Island 2\\\", :], df_birb.loc[\\\"Island 3\\\", :])\";\n",
       "                var nbb_cells = Jupyter.notebook.get_cells();\n",
       "                for (var i = 0; i < nbb_cells.length; ++i) {\n",
       "                    if (nbb_cells[i].input_prompt_number == nbb_cell_id) {\n",
       "                        if (nbb_cells[i].get_text() == nbb_unformatted_code) {\n",
       "                             nbb_cells[i].set_text(nbb_formatted_code);\n",
       "                        }\n",
       "                        break;\n",
       "                    }\n",
       "                }\n",
       "            }, 500);\n",
       "            "
      ],
      "text/plain": [
       "<IPython.core.display.Javascript object>"
      ]
     },
     "metadata": {},
     "output_type": "display_data"
    }
   ],
   "source": [
    "calc_kld(df_birb.loc[\"Island 2\", :], df_birb.loc[\"Island 3\", :])"
   ]
  },
  {
   "cell_type": "markdown",
   "id": "accomplished-cooling",
   "metadata": {},
   "source": [
    "**Island 3 as reference**"
   ]
  },
  {
   "cell_type": "code",
   "execution_count": 18,
   "id": "excessive-security",
   "metadata": {
    "ExecuteTime": {
     "end_time": "2021-06-12T15:01:09.483508Z",
     "start_time": "2021-06-12T15:01:09.474251Z"
    }
   },
   "outputs": [
    {
     "data": {
      "text/plain": [
       "0.6258376129110066"
      ]
     },
     "execution_count": 18,
     "metadata": {},
     "output_type": "execute_result"
    },
    {
     "data": {
      "application/javascript": [
       "\n",
       "            setTimeout(function() {\n",
       "                var nbb_cell_id = 18;\n",
       "                var nbb_unformatted_code = \"calc_kld(df_birb.loc[\\\"Island 3\\\", :], df_birb.loc[\\\"Island 1\\\", :])\";\n",
       "                var nbb_formatted_code = \"calc_kld(df_birb.loc[\\\"Island 3\\\", :], df_birb.loc[\\\"Island 1\\\", :])\";\n",
       "                var nbb_cells = Jupyter.notebook.get_cells();\n",
       "                for (var i = 0; i < nbb_cells.length; ++i) {\n",
       "                    if (nbb_cells[i].input_prompt_number == nbb_cell_id) {\n",
       "                        if (nbb_cells[i].get_text() == nbb_unformatted_code) {\n",
       "                             nbb_cells[i].set_text(nbb_formatted_code);\n",
       "                        }\n",
       "                        break;\n",
       "                    }\n",
       "                }\n",
       "            }, 500);\n",
       "            "
      ],
      "text/plain": [
       "<IPython.core.display.Javascript object>"
      ]
     },
     "metadata": {},
     "output_type": "display_data"
    }
   ],
   "source": [
    "calc_kld(df_birb.loc[\"Island 3\", :], df_birb.loc[\"Island 1\", :])"
   ]
  },
  {
   "cell_type": "code",
   "execution_count": 19,
   "id": "collective-louisiana",
   "metadata": {
    "ExecuteTime": {
     "end_time": "2021-06-12T15:01:09.942975Z",
     "start_time": "2021-06-12T15:01:09.935461Z"
    }
   },
   "outputs": [
    {
     "data": {
      "text/plain": [
       "1.8388451788909108"
      ]
     },
     "execution_count": 19,
     "metadata": {},
     "output_type": "execute_result"
    },
    {
     "data": {
      "application/javascript": [
       "\n",
       "            setTimeout(function() {\n",
       "                var nbb_cell_id = 19;\n",
       "                var nbb_unformatted_code = \"calc_kld(df_birb.loc[\\\"Island 3\\\", :], df_birb.loc[\\\"Island 2\\\", :])\";\n",
       "                var nbb_formatted_code = \"calc_kld(df_birb.loc[\\\"Island 3\\\", :], df_birb.loc[\\\"Island 2\\\", :])\";\n",
       "                var nbb_cells = Jupyter.notebook.get_cells();\n",
       "                for (var i = 0; i < nbb_cells.length; ++i) {\n",
       "                    if (nbb_cells[i].input_prompt_number == nbb_cell_id) {\n",
       "                        if (nbb_cells[i].get_text() == nbb_unformatted_code) {\n",
       "                             nbb_cells[i].set_text(nbb_formatted_code);\n",
       "                        }\n",
       "                        break;\n",
       "                    }\n",
       "                }\n",
       "            }, 500);\n",
       "            "
      ],
      "text/plain": [
       "<IPython.core.display.Javascript object>"
      ]
     },
     "metadata": {},
     "output_type": "display_data"
    }
   ],
   "source": [
    "calc_kld(df_birb.loc[\"Island 3\", :], df_birb.loc[\"Island 2\", :])"
   ]
  },
  {
   "cell_type": "markdown",
   "id": "seeing-register",
   "metadata": {},
   "source": [
    "**Here we see that Island 1 has smaller information distance than the others in most cases, consistent with our expectation since it has higher entropy. What is interesting is going from Island 3 to Island 1. It's smaller than the other way around. This isn't explained in the homework solutions!**\n"
   ]
  },
  {
   "cell_type": "markdown",
   "id": "decb9bf9",
   "metadata": {},
   "source": [
    "## Another way of thinking about this\n",
    "\n",
    "Another way of thinking it is that a distribution is a point in space. And in this case, Island 1 is in the middle... closer to the other islands than the other islands are to each other."
   ]
  },
  {
   "cell_type": "markdown",
   "id": "acute-sudan",
   "metadata": {},
   "source": [
    "# Question 2 (7H4)\n",
    "\n",
    "**Recall the marriage, age, and happiness collider bias example from Chapter 6. Run models `m6.9` and `m6.10` again. Compare these two models using WAIC (or LOO, they will produce identical results). Which model is expected to make better predictions? Which model provides the correct causal inference about the influence of age on happiness? Can you explain why the answers to these two questions disagree?**"
   ]
  },
  {
   "cell_type": "markdown",
   "id": "spectacular-press",
   "metadata": {},
   "source": [
    "Let's briefly take a look at the data to remind ourselves about what this set entails. The relied on simulated data so that we *know* the true relationship between `age` and `happiness` (there is none)."
   ]
  },
  {
   "cell_type": "code",
   "execution_count": 20,
   "id": "comfortable-transmission",
   "metadata": {
    "ExecuteTime": {
     "end_time": "2021-03-24T14:37:54.385075Z",
     "start_time": "2021-03-24T14:37:54.354971Z"
    },
    "code_folding": []
   },
   "outputs": [
    {
     "data": {
      "application/javascript": [
       "\n",
       "            setTimeout(function() {\n",
       "                var nbb_cell_id = 20;\n",
       "                var nbb_unformatted_code = \"# Some functions taken from repo to produce the data\\n\\ndef inv_logit(x):\\n    return np.exp(x) / (1 + np.exp(x))\\n\\n\\ndef sim_happiness(N_years=100, seed=1234):\\n    np.random.seed(seed)\\n\\n    popn = pd.DataFrame(np.zeros((20 * 65, 3)), columns=[\\\"age\\\", \\\"happiness\\\", \\\"married\\\"])\\n    popn.loc[:, \\\"age\\\"] = np.repeat(np.arange(65), 20)\\n    popn.loc[:, \\\"happiness\\\"] = np.repeat(np.linspace(-2, 2, 20), 65)\\n    popn.loc[:, \\\"married\\\"] = np.array(popn.loc[:, \\\"married\\\"].values, dtype=\\\"bool\\\")\\n\\n    for i in range(N_years):\\n        # age population\\n        popn.loc[:, \\\"age\\\"] += 1\\n        # replace old folk with new folk\\n        ind = popn.age == 65\\n        popn.loc[ind, \\\"age\\\"] = 0\\n        popn.loc[ind, \\\"married\\\"] = False\\n        popn.loc[ind, \\\"happiness\\\"] = np.linspace(-2, 2, 20)\\n\\n        # do the work\\n        elligible = (popn.married == 0) & (popn.age >= 18)\\n        marry = (\\n            np.random.binomial(1, inv_logit(popn.loc[elligible, \\\"happiness\\\"] - 4)) == 1\\n        )\\n        popn.loc[elligible, \\\"married\\\"] = marry\\n\\n    popn.sort_values(\\\"age\\\", inplace=True, ignore_index=True)\\n\\n    return popn\";\n",
       "                var nbb_formatted_code = \"# Some functions taken from repo to produce the data\\n\\n\\ndef inv_logit(x):\\n    return np.exp(x) / (1 + np.exp(x))\\n\\n\\ndef sim_happiness(N_years=100, seed=1234):\\n    np.random.seed(seed)\\n\\n    popn = pd.DataFrame(np.zeros((20 * 65, 3)), columns=[\\\"age\\\", \\\"happiness\\\", \\\"married\\\"])\\n    popn.loc[:, \\\"age\\\"] = np.repeat(np.arange(65), 20)\\n    popn.loc[:, \\\"happiness\\\"] = np.repeat(np.linspace(-2, 2, 20), 65)\\n    popn.loc[:, \\\"married\\\"] = np.array(popn.loc[:, \\\"married\\\"].values, dtype=\\\"bool\\\")\\n\\n    for i in range(N_years):\\n        # age population\\n        popn.loc[:, \\\"age\\\"] += 1\\n        # replace old folk with new folk\\n        ind = popn.age == 65\\n        popn.loc[ind, \\\"age\\\"] = 0\\n        popn.loc[ind, \\\"married\\\"] = False\\n        popn.loc[ind, \\\"happiness\\\"] = np.linspace(-2, 2, 20)\\n\\n        # do the work\\n        elligible = (popn.married == 0) & (popn.age >= 18)\\n        marry = (\\n            np.random.binomial(1, inv_logit(popn.loc[elligible, \\\"happiness\\\"] - 4)) == 1\\n        )\\n        popn.loc[elligible, \\\"married\\\"] = marry\\n\\n    popn.sort_values(\\\"age\\\", inplace=True, ignore_index=True)\\n\\n    return popn\";\n",
       "                var nbb_cells = Jupyter.notebook.get_cells();\n",
       "                for (var i = 0; i < nbb_cells.length; ++i) {\n",
       "                    if (nbb_cells[i].input_prompt_number == nbb_cell_id) {\n",
       "                        if (nbb_cells[i].get_text() == nbb_unformatted_code) {\n",
       "                             nbb_cells[i].set_text(nbb_formatted_code);\n",
       "                        }\n",
       "                        break;\n",
       "                    }\n",
       "                }\n",
       "            }, 500);\n",
       "            "
      ],
      "text/plain": [
       "<IPython.core.display.Javascript object>"
      ]
     },
     "metadata": {},
     "output_type": "display_data"
    }
   ],
   "source": [
    "# Some functions taken from repo to produce the data\n",
    "\n",
    "\n",
    "def inv_logit(x):\n",
    "    return np.exp(x) / (1 + np.exp(x))\n",
    "\n",
    "\n",
    "def sim_happiness(N_years=100, seed=1234):\n",
    "    np.random.seed(seed)\n",
    "\n",
    "    popn = pd.DataFrame(np.zeros((20 * 65, 3)), columns=[\"age\", \"happiness\", \"married\"])\n",
    "    popn.loc[:, \"age\"] = np.repeat(np.arange(65), 20)\n",
    "    popn.loc[:, \"happiness\"] = np.repeat(np.linspace(-2, 2, 20), 65)\n",
    "    popn.loc[:, \"married\"] = np.array(popn.loc[:, \"married\"].values, dtype=\"bool\")\n",
    "\n",
    "    for i in range(N_years):\n",
    "        # age population\n",
    "        popn.loc[:, \"age\"] += 1\n",
    "        # replace old folk with new folk\n",
    "        ind = popn.age == 65\n",
    "        popn.loc[ind, \"age\"] = 0\n",
    "        popn.loc[ind, \"married\"] = False\n",
    "        popn.loc[ind, \"happiness\"] = np.linspace(-2, 2, 20)\n",
    "\n",
    "        # do the work\n",
    "        elligible = (popn.married == 0) & (popn.age >= 18)\n",
    "        marry = (\n",
    "            np.random.binomial(1, inv_logit(popn.loc[elligible, \"happiness\"] - 4)) == 1\n",
    "        )\n",
    "        popn.loc[elligible, \"married\"] = marry\n",
    "\n",
    "    popn.sort_values(\"age\", inplace=True, ignore_index=True)\n",
    "\n",
    "    return popn"
   ]
  },
  {
   "cell_type": "code",
   "execution_count": 21,
   "id": "expired-lloyd",
   "metadata": {
    "ExecuteTime": {
     "end_time": "2021-03-24T14:37:56.677968Z",
     "start_time": "2021-03-24T14:37:56.403850Z"
    }
   },
   "outputs": [
    {
     "data": {
      "text/html": [
       "<div>\n",
       "<style scoped>\n",
       "    .dataframe tbody tr th:only-of-type {\n",
       "        vertical-align: middle;\n",
       "    }\n",
       "\n",
       "    .dataframe tbody tr th {\n",
       "        vertical-align: top;\n",
       "    }\n",
       "\n",
       "    .dataframe thead th {\n",
       "        text-align: right;\n",
       "    }\n",
       "</style>\n",
       "<table border=\"1\" class=\"dataframe\">\n",
       "  <thead>\n",
       "    <tr style=\"text-align: right;\">\n",
       "      <th></th>\n",
       "      <th>age</th>\n",
       "      <th>happiness</th>\n",
       "      <th>married</th>\n",
       "      <th>A</th>\n",
       "    </tr>\n",
       "  </thead>\n",
       "  <tbody>\n",
       "    <tr>\n",
       "      <th>360</th>\n",
       "      <td>18</td>\n",
       "      <td>0.526316</td>\n",
       "      <td>True</td>\n",
       "      <td>0.0</td>\n",
       "    </tr>\n",
       "    <tr>\n",
       "      <th>361</th>\n",
       "      <td>18</td>\n",
       "      <td>0.736842</td>\n",
       "      <td>False</td>\n",
       "      <td>0.0</td>\n",
       "    </tr>\n",
       "    <tr>\n",
       "      <th>362</th>\n",
       "      <td>18</td>\n",
       "      <td>0.947368</td>\n",
       "      <td>False</td>\n",
       "      <td>0.0</td>\n",
       "    </tr>\n",
       "    <tr>\n",
       "      <th>363</th>\n",
       "      <td>18</td>\n",
       "      <td>1.157895</td>\n",
       "      <td>False</td>\n",
       "      <td>0.0</td>\n",
       "    </tr>\n",
       "    <tr>\n",
       "      <th>364</th>\n",
       "      <td>18</td>\n",
       "      <td>2.000000</td>\n",
       "      <td>False</td>\n",
       "      <td>0.0</td>\n",
       "    </tr>\n",
       "  </tbody>\n",
       "</table>\n",
       "</div>"
      ],
      "text/plain": [
       "     age  happiness  married    A\n",
       "360   18   0.526316     True  0.0\n",
       "361   18   0.736842    False  0.0\n",
       "362   18   0.947368    False  0.0\n",
       "363   18   1.157895    False  0.0\n",
       "364   18   2.000000    False  0.0"
      ]
     },
     "execution_count": 21,
     "metadata": {},
     "output_type": "execute_result"
    },
    {
     "data": {
      "application/javascript": [
       "\n",
       "            setTimeout(function() {\n",
       "                var nbb_cell_id = 21;\n",
       "                var nbb_unformatted_code = \"d = sim_happiness()\\nd2 = d.copy().loc[d.age > 17]\\nd2[\\\"A\\\"] = (d2[\\\"age\\\"].copy() - 18) / (65 - 18)  # standardizes age\\nd2.head()\";\n",
       "                var nbb_formatted_code = \"d = sim_happiness()\\nd2 = d.copy().loc[d.age > 17]\\nd2[\\\"A\\\"] = (d2[\\\"age\\\"].copy() - 18) / (65 - 18)  # standardizes age\\nd2.head()\";\n",
       "                var nbb_cells = Jupyter.notebook.get_cells();\n",
       "                for (var i = 0; i < nbb_cells.length; ++i) {\n",
       "                    if (nbb_cells[i].input_prompt_number == nbb_cell_id) {\n",
       "                        if (nbb_cells[i].get_text() == nbb_unformatted_code) {\n",
       "                             nbb_cells[i].set_text(nbb_formatted_code);\n",
       "                        }\n",
       "                        break;\n",
       "                    }\n",
       "                }\n",
       "            }, 500);\n",
       "            "
      ],
      "text/plain": [
       "<IPython.core.display.Javascript object>"
      ]
     },
     "metadata": {},
     "output_type": "display_data"
    }
   ],
   "source": [
    "d = sim_happiness()\n",
    "d2 = d.copy().loc[d.age > 17]\n",
    "d2[\"A\"] = (d2[\"age\"].copy() - 18) / (65 - 18)  # standardizes age\n",
    "d2.head()"
   ]
  },
  {
   "cell_type": "markdown",
   "id": "reverse-restoration",
   "metadata": {},
   "source": [
    "## Re-visiting the models"
   ]
  },
  {
   "cell_type": "markdown",
   "id": "conscious-tobacco",
   "metadata": {},
   "source": [
    "As a reminder, both of these models have to do with how `marriage` status influences our interpretation of `age` on `happiness`. The purpose of these models is to show how conditioning on a collider will generate a spurious association. Model `m6.9` includes marriage `status` while model `m6.10` omits it.\n",
    "\n",
    "Here are the two models, with variables defined:\n",
    "\n",
    "\n",
    "Model `m6.9`\n",
    "<br>\n",
    "$\\text{happiness}_i$ ~ Normal($\\mu_i, \\sigma$)\n",
    "<br>\n",
    "$\\mu_i(\\text{mid}) = \\alpha(\\text{mid}) + \\beta(x_i  - \\bar{x})$\n",
    "<br>\n",
    "$\\alpha(\\text{mid}) $ ~ $\\text{Normal}(0, 1)$\n",
    "<br>\n",
    "$\\beta_\\text{age}$ ~ $\\text{Normal}(0, 2)$\n",
    "<br>\n",
    "$\\sigma$ ~ $\\text{Exp}(1)$\n",
    "\n",
    "\n",
    "Model `m6.10`\n",
    "<br>\n",
    "$\\text{happiness}_i$ ~ Normal($\\mu_i, \\sigma$)\n",
    "<br>\n",
    "$\\mu_i = \\alpha + \\beta(x_i  - \\bar{x})$\n",
    "<br>\n",
    "$\\alpha $ ~ $\\text{Normal}(0, 1)$\n",
    "<br>\n",
    "$\\beta_\\text{age}$ ~ $\\text{Normal}(0, 2)$\n",
    "<br>\n",
    "$\\sigma$ ~ $\\text{Exp}(1)$\n",
    "\n",
    "\n",
    "The notation is showing marriage status as an indexed categorical variable. Let's add that into the dataframe."
   ]
  },
  {
   "cell_type": "code",
   "execution_count": 22,
   "id": "electoral-detroit",
   "metadata": {
    "ExecuteTime": {
     "end_time": "2021-03-24T14:40:02.128835Z",
     "start_time": "2021-03-24T14:40:02.113226Z"
    }
   },
   "outputs": [
    {
     "data": {
      "text/html": [
       "<div>\n",
       "<style scoped>\n",
       "    .dataframe tbody tr th:only-of-type {\n",
       "        vertical-align: middle;\n",
       "    }\n",
       "\n",
       "    .dataframe tbody tr th {\n",
       "        vertical-align: top;\n",
       "    }\n",
       "\n",
       "    .dataframe thead th {\n",
       "        text-align: right;\n",
       "    }\n",
       "</style>\n",
       "<table border=\"1\" class=\"dataframe\">\n",
       "  <thead>\n",
       "    <tr style=\"text-align: right;\">\n",
       "      <th></th>\n",
       "      <th>age</th>\n",
       "      <th>happiness</th>\n",
       "      <th>married</th>\n",
       "      <th>A</th>\n",
       "      <th>mid</th>\n",
       "    </tr>\n",
       "  </thead>\n",
       "  <tbody>\n",
       "    <tr>\n",
       "      <th>360</th>\n",
       "      <td>18</td>\n",
       "      <td>0.526316</td>\n",
       "      <td>True</td>\n",
       "      <td>0.0</td>\n",
       "      <td>1</td>\n",
       "    </tr>\n",
       "    <tr>\n",
       "      <th>361</th>\n",
       "      <td>18</td>\n",
       "      <td>0.736842</td>\n",
       "      <td>False</td>\n",
       "      <td>0.0</td>\n",
       "      <td>0</td>\n",
       "    </tr>\n",
       "    <tr>\n",
       "      <th>362</th>\n",
       "      <td>18</td>\n",
       "      <td>0.947368</td>\n",
       "      <td>False</td>\n",
       "      <td>0.0</td>\n",
       "      <td>0</td>\n",
       "    </tr>\n",
       "    <tr>\n",
       "      <th>363</th>\n",
       "      <td>18</td>\n",
       "      <td>1.157895</td>\n",
       "      <td>False</td>\n",
       "      <td>0.0</td>\n",
       "      <td>0</td>\n",
       "    </tr>\n",
       "    <tr>\n",
       "      <th>364</th>\n",
       "      <td>18</td>\n",
       "      <td>2.000000</td>\n",
       "      <td>False</td>\n",
       "      <td>0.0</td>\n",
       "      <td>0</td>\n",
       "    </tr>\n",
       "  </tbody>\n",
       "</table>\n",
       "</div>"
      ],
      "text/plain": [
       "     age  happiness  married    A mid\n",
       "360   18   0.526316     True  0.0   1\n",
       "361   18   0.736842    False  0.0   0\n",
       "362   18   0.947368    False  0.0   0\n",
       "363   18   1.157895    False  0.0   0\n",
       "364   18   2.000000    False  0.0   0"
      ]
     },
     "execution_count": 22,
     "metadata": {},
     "output_type": "execute_result"
    },
    {
     "data": {
      "application/javascript": [
       "\n",
       "            setTimeout(function() {\n",
       "                var nbb_cell_id = 22;\n",
       "                var nbb_unformatted_code = \"d2[\\\"mid\\\"] = pd.Categorical(d2.loc[:, \\\"married\\\"].astype(int))  # Code modified from repo.\\nd2.head()\";\n",
       "                var nbb_formatted_code = \"d2[\\\"mid\\\"] = pd.Categorical(d2.loc[:, \\\"married\\\"].astype(int))  # Code modified from repo.\\nd2.head()\";\n",
       "                var nbb_cells = Jupyter.notebook.get_cells();\n",
       "                for (var i = 0; i < nbb_cells.length; ++i) {\n",
       "                    if (nbb_cells[i].input_prompt_number == nbb_cell_id) {\n",
       "                        if (nbb_cells[i].get_text() == nbb_unformatted_code) {\n",
       "                             nbb_cells[i].set_text(nbb_formatted_code);\n",
       "                        }\n",
       "                        break;\n",
       "                    }\n",
       "                }\n",
       "            }, 500);\n",
       "            "
      ],
      "text/plain": [
       "<IPython.core.display.Javascript object>"
      ]
     },
     "metadata": {},
     "output_type": "display_data"
    }
   ],
   "source": [
    "d2[\"mid\"] = pd.Categorical(d2.loc[:, \"married\"].astype(int))  # Code modified from repo.\n",
    "d2.head()"
   ]
  },
  {
   "cell_type": "markdown",
   "id": "structured-nerve",
   "metadata": {},
   "source": [
    "Now let's look at both models and their results again. (Note that code was modified from pymc repo.)"
   ]
  },
  {
   "cell_type": "code",
   "execution_count": 84,
   "id": "afraid-liquid",
   "metadata": {
    "ExecuteTime": {
     "end_time": "2021-03-25T16:28:43.904386Z",
     "start_time": "2021-03-25T16:28:29.871530Z"
    }
   },
   "outputs": [
    {
     "name": "stderr",
     "output_type": "stream",
     "text": [
      "Auto-assigning NUTS sampler...\n",
      "INFO:pymc3:Auto-assigning NUTS sampler...\n",
      "Initializing NUTS using jitter+adapt_diag...\n",
      "INFO:pymc3:Initializing NUTS using jitter+adapt_diag...\n",
      "Multiprocess sampling (4 chains in 4 jobs)\n",
      "INFO:pymc3:Multiprocess sampling (4 chains in 4 jobs)\n",
      "NUTS: [sigma, b_age, a]\n",
      "INFO:pymc3:NUTS: [sigma, b_age, a]\n"
     ]
    },
    {
     "data": {
      "text/html": [
       "\n",
       "    <div>\n",
       "        <style>\n",
       "            /* Turns off some styling */\n",
       "            progress {\n",
       "                /* gets rid of default border in Firefox and Opera. */\n",
       "                border: none;\n",
       "                /* Needs to be in here for Safari polyfill so background images work as expected. */\n",
       "                background-size: auto;\n",
       "            }\n",
       "            .progress-bar-interrupted, .progress-bar-interrupted::-webkit-progress-bar {\n",
       "                background: #F44336;\n",
       "            }\n",
       "        </style>\n",
       "      <progress value='8000' class='' max='8000' style='width:300px; height:20px; vertical-align: middle;'></progress>\n",
       "      100.00% [8000/8000 00:04<00:00 Sampling 4 chains, 0 divergences]\n",
       "    </div>\n",
       "    "
      ],
      "text/plain": [
       "<IPython.core.display.HTML object>"
      ]
     },
     "metadata": {},
     "output_type": "display_data"
    },
    {
     "name": "stderr",
     "output_type": "stream",
     "text": [
      "Sampling 4 chains for 1_000 tune and 1_000 draw iterations (4_000 + 4_000 draws total) took 11 seconds.\n",
      "INFO:pymc3:Sampling 4 chains for 1_000 tune and 1_000 draw iterations (4_000 + 4_000 draws total) took 11 seconds.\n",
      "/Users/blacar/opt/anaconda3/envs/stats_rethinking_min/lib/python3.8/site-packages/arviz/data/io_pymc3.py:88: FutureWarning: Using `from_pymc3` without the model will be deprecated in a future release. Not using the model will return less accurate and less useful results. Make sure you use the model argument or call from_pymc3 within a model context.\n",
      "  warnings.warn(\n"
     ]
    },
    {
     "data": {
      "text/html": [
       "<div>\n",
       "<style scoped>\n",
       "    .dataframe tbody tr th:only-of-type {\n",
       "        vertical-align: middle;\n",
       "    }\n",
       "\n",
       "    .dataframe tbody tr th {\n",
       "        vertical-align: top;\n",
       "    }\n",
       "\n",
       "    .dataframe thead th {\n",
       "        text-align: right;\n",
       "    }\n",
       "</style>\n",
       "<table border=\"1\" class=\"dataframe\">\n",
       "  <thead>\n",
       "    <tr style=\"text-align: right;\">\n",
       "      <th></th>\n",
       "      <th>mean</th>\n",
       "      <th>sd</th>\n",
       "      <th>hdi_5.5%</th>\n",
       "      <th>hdi_94.5%</th>\n",
       "      <th>mcse_mean</th>\n",
       "      <th>mcse_sd</th>\n",
       "      <th>ess_mean</th>\n",
       "      <th>ess_sd</th>\n",
       "      <th>ess_bulk</th>\n",
       "      <th>ess_tail</th>\n",
       "      <th>r_hat</th>\n",
       "    </tr>\n",
       "  </thead>\n",
       "  <tbody>\n",
       "    <tr>\n",
       "      <th>a[0]</th>\n",
       "      <td>-0.20</td>\n",
       "      <td>0.07</td>\n",
       "      <td>-0.31</td>\n",
       "      <td>-0.10</td>\n",
       "      <td>0.0</td>\n",
       "      <td>0.0</td>\n",
       "      <td>1678.67</td>\n",
       "      <td>1673.02</td>\n",
       "      <td>1684.67</td>\n",
       "      <td>2148.68</td>\n",
       "      <td>1.0</td>\n",
       "    </tr>\n",
       "    <tr>\n",
       "      <th>a[1]</th>\n",
       "      <td>1.21</td>\n",
       "      <td>0.09</td>\n",
       "      <td>1.07</td>\n",
       "      <td>1.36</td>\n",
       "      <td>0.0</td>\n",
       "      <td>0.0</td>\n",
       "      <td>1745.09</td>\n",
       "      <td>1745.09</td>\n",
       "      <td>1744.06</td>\n",
       "      <td>2111.52</td>\n",
       "      <td>1.0</td>\n",
       "    </tr>\n",
       "    <tr>\n",
       "      <th>b_age</th>\n",
       "      <td>-0.71</td>\n",
       "      <td>0.12</td>\n",
       "      <td>-0.91</td>\n",
       "      <td>-0.51</td>\n",
       "      <td>0.0</td>\n",
       "      <td>0.0</td>\n",
       "      <td>1575.31</td>\n",
       "      <td>1575.31</td>\n",
       "      <td>1575.44</td>\n",
       "      <td>1733.99</td>\n",
       "      <td>1.0</td>\n",
       "    </tr>\n",
       "    <tr>\n",
       "      <th>sigma</th>\n",
       "      <td>1.02</td>\n",
       "      <td>0.02</td>\n",
       "      <td>0.99</td>\n",
       "      <td>1.06</td>\n",
       "      <td>0.0</td>\n",
       "      <td>0.0</td>\n",
       "      <td>2412.71</td>\n",
       "      <td>2412.71</td>\n",
       "      <td>2410.87</td>\n",
       "      <td>2275.24</td>\n",
       "      <td>1.0</td>\n",
       "    </tr>\n",
       "  </tbody>\n",
       "</table>\n",
       "</div>"
      ],
      "text/plain": [
       "       mean    sd  hdi_5.5%  hdi_94.5%  mcse_mean  mcse_sd  ess_mean   ess_sd  \\\n",
       "a[0]  -0.20  0.07     -0.31      -0.10        0.0      0.0   1678.67  1673.02   \n",
       "a[1]   1.21  0.09      1.07       1.36        0.0      0.0   1745.09  1745.09   \n",
       "b_age -0.71  0.12     -0.91      -0.51        0.0      0.0   1575.31  1575.31   \n",
       "sigma  1.02  0.02      0.99       1.06        0.0      0.0   2412.71  2412.71   \n",
       "\n",
       "       ess_bulk  ess_tail  r_hat  \n",
       "a[0]    1684.67   2148.68    1.0  \n",
       "a[1]    1744.06   2111.52    1.0  \n",
       "b_age   1575.44   1733.99    1.0  \n",
       "sigma   2410.87   2275.24    1.0  "
      ]
     },
     "execution_count": 84,
     "metadata": {},
     "output_type": "execute_result"
    },
    {
     "data": {
      "application/javascript": [
       "\n",
       "            setTimeout(function() {\n",
       "                var nbb_cell_id = 84;\n",
       "                var nbb_unformatted_code = \"with pm.Model() as m_6_9:\\n    \\\"\\\"\\\"\\n    Model with marriage status included in the model.\\n    \\\"\\\"\\\"\\n    # Note that the shape parameter is is a way to get both marriage statuses represented in the alpha prior\\n    a = pm.Normal(\\\"a\\\", 0, 1, shape=2)\\n    b_age = pm.Normal(\\\"b_age\\\", 0, 2)\\n\\n    mu = a[d2[\\\"mid\\\"]] + b_age * d2[\\\"A\\\"]\\n    sigma = pm.Exponential(\\\"sigma\\\", 1)\\n\\n    happiness = pm.Normal(\\\"happiness\\\", mu, sigma, observed=d2[\\\"happiness\\\"])\\n\\n    m_6_9_trace = pm.sample(1000, return_inferencedata=False)\\n\\naz.summary(m_6_9_trace, round_to=2)\";\n",
       "                var nbb_formatted_code = \"with pm.Model() as m_6_9:\\n    \\\"\\\"\\\"\\n    Model with marriage status included in the model.\\n    \\\"\\\"\\\"\\n    # Note that the shape parameter is is a way to get both marriage statuses represented in the alpha prior\\n    a = pm.Normal(\\\"a\\\", 0, 1, shape=2)\\n    b_age = pm.Normal(\\\"b_age\\\", 0, 2)\\n\\n    mu = a[d2[\\\"mid\\\"]] + b_age * d2[\\\"A\\\"]\\n    sigma = pm.Exponential(\\\"sigma\\\", 1)\\n\\n    happiness = pm.Normal(\\\"happiness\\\", mu, sigma, observed=d2[\\\"happiness\\\"])\\n\\n    m_6_9_trace = pm.sample(1000, return_inferencedata=False)\\n\\naz.summary(m_6_9_trace, round_to=2)\";\n",
       "                var nbb_cells = Jupyter.notebook.get_cells();\n",
       "                for (var i = 0; i < nbb_cells.length; ++i) {\n",
       "                    if (nbb_cells[i].input_prompt_number == nbb_cell_id) {\n",
       "                        if (nbb_cells[i].get_text() == nbb_unformatted_code) {\n",
       "                             nbb_cells[i].set_text(nbb_formatted_code);\n",
       "                        }\n",
       "                        break;\n",
       "                    }\n",
       "                }\n",
       "            }, 500);\n",
       "            "
      ],
      "text/plain": [
       "<IPython.core.display.Javascript object>"
      ]
     },
     "metadata": {},
     "output_type": "display_data"
    }
   ],
   "source": [
    "with pm.Model() as m_6_9:\n",
    "    \"\"\"\n",
    "    Model with marriage status included in the model.\n",
    "    \"\"\"\n",
    "    # Note that the shape parameter is is a way to get both marriage statuses represented in the alpha prior\n",
    "    a = pm.Normal(\"a\", 0, 1, shape=2)\n",
    "    b_age = pm.Normal(\"b_age\", 0, 2)\n",
    "\n",
    "    mu = a[d2[\"mid\"]] + b_age * d2[\"A\"]\n",
    "    sigma = pm.Exponential(\"sigma\", 1)\n",
    "\n",
    "    happiness = pm.Normal(\"happiness\", mu, sigma, observed=d2[\"happiness\"])\n",
    "\n",
    "    m_6_9_trace = pm.sample(1000, return_inferencedata=False)\n",
    "\n",
    "az.summary(m_6_9_trace, round_to=2)"
   ]
  },
  {
   "cell_type": "markdown",
   "id": "opposed-scheme",
   "metadata": {},
   "source": [
    "My answers are close to what was in the book. Note that I got the following warning but I will ignore it for now.\n",
    "```\n",
    "The acceptance probability does not match the target. It is 0.8805062183114042, but should be close to 0.8. Try to increase the number of tuning steps.\n",
    "WARNING:pymc3:The acceptance probability does not match the target. It is 0.8805062183114042, but should be close to 0.8. Try to increase the number of tuning steps.\n",
    "```"
   ]
  },
  {
   "cell_type": "code",
   "execution_count": 83,
   "id": "decent-arthur",
   "metadata": {
    "ExecuteTime": {
     "end_time": "2021-03-25T16:28:25.293503Z",
     "start_time": "2021-03-25T16:28:11.329820Z"
    }
   },
   "outputs": [
    {
     "name": "stderr",
     "output_type": "stream",
     "text": [
      "Auto-assigning NUTS sampler...\n",
      "INFO:pymc3:Auto-assigning NUTS sampler...\n",
      "Initializing NUTS using jitter+adapt_diag...\n",
      "INFO:pymc3:Initializing NUTS using jitter+adapt_diag...\n",
      "Multiprocess sampling (4 chains in 4 jobs)\n",
      "INFO:pymc3:Multiprocess sampling (4 chains in 4 jobs)\n",
      "NUTS: [sigma, b_age, a]\n",
      "INFO:pymc3:NUTS: [sigma, b_age, a]\n"
     ]
    },
    {
     "data": {
      "text/html": [
       "\n",
       "    <div>\n",
       "        <style>\n",
       "            /* Turns off some styling */\n",
       "            progress {\n",
       "                /* gets rid of default border in Firefox and Opera. */\n",
       "                border: none;\n",
       "                /* Needs to be in here for Safari polyfill so background images work as expected. */\n",
       "                background-size: auto;\n",
       "            }\n",
       "            .progress-bar-interrupted, .progress-bar-interrupted::-webkit-progress-bar {\n",
       "                background: #F44336;\n",
       "            }\n",
       "        </style>\n",
       "      <progress value='8000' class='' max='8000' style='width:300px; height:20px; vertical-align: middle;'></progress>\n",
       "      100.00% [8000/8000 00:03<00:00 Sampling 4 chains, 0 divergences]\n",
       "    </div>\n",
       "    "
      ],
      "text/plain": [
       "<IPython.core.display.HTML object>"
      ]
     },
     "metadata": {},
     "output_type": "display_data"
    },
    {
     "name": "stderr",
     "output_type": "stream",
     "text": [
      "Sampling 4 chains for 1_000 tune and 1_000 draw iterations (4_000 + 4_000 draws total) took 11 seconds.\n",
      "INFO:pymc3:Sampling 4 chains for 1_000 tune and 1_000 draw iterations (4_000 + 4_000 draws total) took 11 seconds.\n",
      "The acceptance probability does not match the target. It is 0.8820845982550845, but should be close to 0.8. Try to increase the number of tuning steps.\n",
      "WARNING:pymc3:The acceptance probability does not match the target. It is 0.8820845982550845, but should be close to 0.8. Try to increase the number of tuning steps.\n",
      "The acceptance probability does not match the target. It is 0.8829043675742148, but should be close to 0.8. Try to increase the number of tuning steps.\n",
      "WARNING:pymc3:The acceptance probability does not match the target. It is 0.8829043675742148, but should be close to 0.8. Try to increase the number of tuning steps.\n",
      "/Users/blacar/opt/anaconda3/envs/stats_rethinking_min/lib/python3.8/site-packages/arviz/data/io_pymc3.py:88: FutureWarning: Using `from_pymc3` without the model will be deprecated in a future release. Not using the model will return less accurate and less useful results. Make sure you use the model argument or call from_pymc3 within a model context.\n",
      "  warnings.warn(\n"
     ]
    },
    {
     "data": {
      "text/html": [
       "<div>\n",
       "<style scoped>\n",
       "    .dataframe tbody tr th:only-of-type {\n",
       "        vertical-align: middle;\n",
       "    }\n",
       "\n",
       "    .dataframe tbody tr th {\n",
       "        vertical-align: top;\n",
       "    }\n",
       "\n",
       "    .dataframe thead th {\n",
       "        text-align: right;\n",
       "    }\n",
       "</style>\n",
       "<table border=\"1\" class=\"dataframe\">\n",
       "  <thead>\n",
       "    <tr style=\"text-align: right;\">\n",
       "      <th></th>\n",
       "      <th>mean</th>\n",
       "      <th>sd</th>\n",
       "      <th>hdi_5.5%</th>\n",
       "      <th>hdi_94.5%</th>\n",
       "      <th>mcse_mean</th>\n",
       "      <th>mcse_sd</th>\n",
       "      <th>ess_mean</th>\n",
       "      <th>ess_sd</th>\n",
       "      <th>ess_bulk</th>\n",
       "      <th>ess_tail</th>\n",
       "      <th>r_hat</th>\n",
       "    </tr>\n",
       "  </thead>\n",
       "  <tbody>\n",
       "    <tr>\n",
       "      <th>a[0]</th>\n",
       "      <td>-0.00</td>\n",
       "      <td>0.08</td>\n",
       "      <td>-0.14</td>\n",
       "      <td>0.12</td>\n",
       "      <td>0.0</td>\n",
       "      <td>0.0</td>\n",
       "      <td>1684.17</td>\n",
       "      <td>1431.66</td>\n",
       "      <td>1680.26</td>\n",
       "      <td>1703.42</td>\n",
       "      <td>1.0</td>\n",
       "    </tr>\n",
       "    <tr>\n",
       "      <th>b_age</th>\n",
       "      <td>0.00</td>\n",
       "      <td>0.14</td>\n",
       "      <td>-0.22</td>\n",
       "      <td>0.23</td>\n",
       "      <td>0.0</td>\n",
       "      <td>0.0</td>\n",
       "      <td>1697.19</td>\n",
       "      <td>1317.57</td>\n",
       "      <td>1697.78</td>\n",
       "      <td>1913.61</td>\n",
       "      <td>1.0</td>\n",
       "    </tr>\n",
       "    <tr>\n",
       "      <th>sigma</th>\n",
       "      <td>1.22</td>\n",
       "      <td>0.03</td>\n",
       "      <td>1.17</td>\n",
       "      <td>1.26</td>\n",
       "      <td>0.0</td>\n",
       "      <td>0.0</td>\n",
       "      <td>2030.64</td>\n",
       "      <td>2030.64</td>\n",
       "      <td>2016.57</td>\n",
       "      <td>2247.87</td>\n",
       "      <td>1.0</td>\n",
       "    </tr>\n",
       "  </tbody>\n",
       "</table>\n",
       "</div>"
      ],
      "text/plain": [
       "       mean    sd  hdi_5.5%  hdi_94.5%  mcse_mean  mcse_sd  ess_mean   ess_sd  \\\n",
       "a[0]  -0.00  0.08     -0.14       0.12        0.0      0.0   1684.17  1431.66   \n",
       "b_age  0.00  0.14     -0.22       0.23        0.0      0.0   1697.19  1317.57   \n",
       "sigma  1.22  0.03      1.17       1.26        0.0      0.0   2030.64  2030.64   \n",
       "\n",
       "       ess_bulk  ess_tail  r_hat  \n",
       "a[0]    1680.26   1703.42    1.0  \n",
       "b_age   1697.78   1913.61    1.0  \n",
       "sigma   2016.57   2247.87    1.0  "
      ]
     },
     "execution_count": 83,
     "metadata": {},
     "output_type": "execute_result"
    },
    {
     "data": {
      "application/javascript": [
       "\n",
       "            setTimeout(function() {\n",
       "                var nbb_cell_id = 83;\n",
       "                var nbb_unformatted_code = \"with pm.Model() as m_6_10:\\n    \\\"\\\"\\\"\\n    Model with marriage status OMITTED from the model.\\n    \\\"\\\"\\\"\\n    # Changed the shape parameter to 1, but could probably omit.\\n    a = pm.Normal(\\\"a\\\", 0, 1, shape=1)\\n    b_age = pm.Normal(\\\"b_age\\\", 0, 2)\\n\\n    mu = a + b_age * d2[\\\"A\\\"]\\n    sigma = pm.Exponential(\\\"sigma\\\", 1)\\n\\n    happiness = pm.Normal(\\\"happiness\\\", mu, sigma, observed=d2[\\\"happiness\\\"])\\n\\n    m_6_10_trace = pm.sample(1000, return_inferencedata=False)\\n\\naz.summary(m_6_10_trace, round_to=2)\";\n",
       "                var nbb_formatted_code = \"with pm.Model() as m_6_10:\\n    \\\"\\\"\\\"\\n    Model with marriage status OMITTED from the model.\\n    \\\"\\\"\\\"\\n    # Changed the shape parameter to 1, but could probably omit.\\n    a = pm.Normal(\\\"a\\\", 0, 1, shape=1)\\n    b_age = pm.Normal(\\\"b_age\\\", 0, 2)\\n\\n    mu = a + b_age * d2[\\\"A\\\"]\\n    sigma = pm.Exponential(\\\"sigma\\\", 1)\\n\\n    happiness = pm.Normal(\\\"happiness\\\", mu, sigma, observed=d2[\\\"happiness\\\"])\\n\\n    m_6_10_trace = pm.sample(1000, return_inferencedata=False)\\n\\naz.summary(m_6_10_trace, round_to=2)\";\n",
       "                var nbb_cells = Jupyter.notebook.get_cells();\n",
       "                for (var i = 0; i < nbb_cells.length; ++i) {\n",
       "                    if (nbb_cells[i].input_prompt_number == nbb_cell_id) {\n",
       "                        if (nbb_cells[i].get_text() == nbb_unformatted_code) {\n",
       "                             nbb_cells[i].set_text(nbb_formatted_code);\n",
       "                        }\n",
       "                        break;\n",
       "                    }\n",
       "                }\n",
       "            }, 500);\n",
       "            "
      ],
      "text/plain": [
       "<IPython.core.display.Javascript object>"
      ]
     },
     "metadata": {},
     "output_type": "display_data"
    }
   ],
   "source": [
    "with pm.Model() as m_6_10:\n",
    "    \"\"\"\n",
    "    Model with marriage status OMITTED from the model.\n",
    "    \"\"\"\n",
    "    # Changed the shape parameter to 1, but could probably omit.\n",
    "    a = pm.Normal(\"a\", 0, 1, shape=1)\n",
    "    b_age = pm.Normal(\"b_age\", 0, 2)\n",
    "\n",
    "    mu = a + b_age * d2[\"A\"]\n",
    "    sigma = pm.Exponential(\"sigma\", 1)\n",
    "\n",
    "    happiness = pm.Normal(\"happiness\", mu, sigma, observed=d2[\"happiness\"])\n",
    "\n",
    "    m_6_10_trace = pm.sample(1000, return_inferencedata=False)\n",
    "\n",
    "az.summary(m_6_10_trace, round_to=2)"
   ]
  },
  {
   "cell_type": "markdown",
   "id": "falling-hacker",
   "metadata": {},
   "source": [
    "We're able to replicate the result from the book where we have no association between `age` and `happiness` as we predicted (since we created the data by simulation)."
   ]
  },
  {
   "cell_type": "markdown",
   "id": "covered-saturday",
   "metadata": {},
   "source": [
    "Before we move on to calculating WAIC, we can already start anticipating answers to the questions:\n",
    "\n",
    "- **Which model is expected to make better predictions?** In the linear regression setting, we would expect model `m_6_9`, the model with more parameters, to make better predictions, even though inference would be incorrect.\n",
    "- **Which model provides the correct causal inference about the influence of age on happiness?** Model `m_6_10` has correctly accounted for the DAG, to make interpretation of causal inference more accurate.\n",
    "- Can you explain why the answers to these two questions disagree?"
   ]
  },
  {
   "cell_type": "markdown",
   "id": "corrected-melbourne",
   "metadata": {},
   "source": [
    "## Calculating WAIC for each model\n",
    "\n",
    "The equation of WAIC is the following:\n",
    "\n",
    "$\\text{WAIC}(y, \\Theta) = 2(\\text{lppd} - \\displaystyle \\sum_{i=1} \\text{var}_\\Theta p(y_i | \\Theta)$ )\n",
    "\n",
    "where `lppd` is the log-pointwise-predictive-density\n",
    "\n",
    "$\\text{lppd}(y, \\Theta) = \\displaystyle \\sum_{i=1} \\text{log} \\frac{1}{\\text{S}} \\displaystyle \\sum_{s}p(y_i | \\Theta_s) $ \n",
    "\n",
    "\n",
    "$\\Theta$ is our posterior distribution and $y$ represents data. The lower case *s* means for a set of parameters. For both models, we have the parametrs `a`, `b`, and `sigma`, but remember that model `m_6_9` has two levels represented, one for each marriage status.\n",
    "\n",
    "What does that practically mean in our calculation?\n",
    "\n",
    "We can get the posterior values for each parameter and calculate for each."
   ]
  },
  {
   "cell_type": "code",
   "execution_count": 104,
   "id": "peaceful-generic",
   "metadata": {
    "ExecuteTime": {
     "end_time": "2021-03-25T16:49:52.553997Z",
     "start_time": "2021-03-25T16:49:52.539249Z"
    }
   },
   "outputs": [
    {
     "data": {
      "application/javascript": [
       "\n",
       "            setTimeout(function() {\n",
       "                var nbb_cell_id = 104;\n",
       "                var nbb_unformatted_code = \"def get_logprob_m10(model_trace, n_samples):\\n    \\\"\\\"\\\"\\n    Calculating log probability for each model.\\n    This assumes that pm.sample(return_inferencedata=True).\\n    Example usage: get_logprob(m_6_10_trace)\\n    Code includes adaptation of R code 7.20, 7.21\\n    \\\"\\\"\\\"\\n    \\n    n_samples = 1000\\n    n_cases = d2.shape[0]\\n    logprob = np.zeros((n_cases, n_samples))\\n\\n    for s in range(0, n_samples):\\n        mu = m_6_10_trace[\\\"a\\\"][s] + m_6_10_trace[\\\"b_age\\\"][s] * d2[\\\"age\\\"]\\n        p_ = stats.norm.logpdf(d2[\\\"happiness\\\"], loc=mu, scale=m_6_10_trace[\\\"sigma\\\"][s])\\n        logprob[:, s] = p_\\n\\n    \\n    #logprob = stats.norm.logpdf(d2[\\\"happiness\\\"], loc=mu, scale=post[\\\"sigma\\\"])\\n    \\n    return logprob\\n    \\n    #return mu\";\n",
       "                var nbb_formatted_code = \"def get_logprob_m10(model_trace, n_samples):\\n    \\\"\\\"\\\"\\n    Calculating log probability for each model.\\n    This assumes that pm.sample(return_inferencedata=True).\\n    Example usage: get_logprob(m_6_10_trace)\\n    Code includes adaptation of R code 7.20, 7.21\\n    \\\"\\\"\\\"\\n\\n    n_samples = 1000\\n    n_cases = d2.shape[0]\\n    logprob = np.zeros((n_cases, n_samples))\\n\\n    for s in range(0, n_samples):\\n        mu = m_6_10_trace[\\\"a\\\"][s] + m_6_10_trace[\\\"b_age\\\"][s] * d2[\\\"age\\\"]\\n        p_ = stats.norm.logpdf(d2[\\\"happiness\\\"], loc=mu, scale=m_6_10_trace[\\\"sigma\\\"][s])\\n        logprob[:, s] = p_\\n\\n    # logprob = stats.norm.logpdf(d2[\\\"happiness\\\"], loc=mu, scale=post[\\\"sigma\\\"])\\n\\n    return logprob\\n\\n    # return mu\";\n",
       "                var nbb_cells = Jupyter.notebook.get_cells();\n",
       "                for (var i = 0; i < nbb_cells.length; ++i) {\n",
       "                    if (nbb_cells[i].input_prompt_number == nbb_cell_id) {\n",
       "                        if (nbb_cells[i].get_text() == nbb_unformatted_code) {\n",
       "                             nbb_cells[i].set_text(nbb_formatted_code);\n",
       "                        }\n",
       "                        break;\n",
       "                    }\n",
       "                }\n",
       "            }, 500);\n",
       "            "
      ],
      "text/plain": [
       "<IPython.core.display.Javascript object>"
      ]
     },
     "metadata": {},
     "output_type": "display_data"
    }
   ],
   "source": [
    "def get_logprob_m10(model_trace, n_samples):\n",
    "    \"\"\"\n",
    "    Calculating log probability for each model.\n",
    "    This assumes that pm.sample(return_inferencedata=True).\n",
    "    Example usage: get_logprob(m_6_10_trace)\n",
    "    Code includes adaptation of R code 7.20, 7.21\n",
    "    \"\"\"\n",
    "    \n",
    "    n_samples = 1000\n",
    "    n_cases = d2.shape[0]\n",
    "    logprob = np.zeros((n_cases, n_samples))\n",
    "\n",
    "    for s in range(0, n_samples):\n",
    "        mu = m_6_10_trace[\"a\"][s] + m_6_10_trace[\"b_age\"][s] * d2[\"age\"]\n",
    "        p_ = stats.norm.logpdf(d2[\"happiness\"], loc=mu, scale=m_6_10_trace[\"sigma\"][s])\n",
    "        logprob[:, s] = p_\n",
    "    \n",
    "    return logprob"
   ]
  },
  {
   "cell_type": "code",
   "execution_count": 105,
   "id": "joined-reform",
   "metadata": {
    "ExecuteTime": {
     "end_time": "2021-03-25T16:49:53.462326Z",
     "start_time": "2021-03-25T16:49:52.973091Z"
    }
   },
   "outputs": [
    {
     "data": {
      "text/plain": [
       "array([[ -2.24060183,  -1.24357517,  -1.32767587, ...,  -1.3564565 ,\n",
       "         -1.14747191,  -2.93372002],\n",
       "       [ -2.52688581,  -1.33457905,  -1.43804055, ...,  -1.48621756,\n",
       "         -1.13212372,  -2.61036344],\n",
       "       [ -2.8448601 ,  -1.45406065,  -1.57589065, ...,  -1.64511252,\n",
       "         -1.14571258,  -2.31823495],\n",
       "       ...,\n",
       "       [ -3.43285573,  -2.17468866,  -1.65146533, ...,  -1.32996449,\n",
       "         -8.47033326, -53.04046049],\n",
       "       [ -8.18689514,  -1.14333663,  -1.28208713, ...,  -1.53530528,\n",
       "         -3.77712147, -38.094261  ],\n",
       "       [-16.47974046,  -2.70277297,  -3.48278105, ...,  -4.53118214,\n",
       "         -1.31146042, -24.45404084]])"
      ]
     },
     "execution_count": 105,
     "metadata": {},
     "output_type": "execute_result"
    },
    {
     "data": {
      "application/javascript": [
       "\n",
       "            setTimeout(function() {\n",
       "                var nbb_cell_id = 105;\n",
       "                var nbb_unformatted_code = \"get_logprob_m10(m_6_10_trace, 1000)\";\n",
       "                var nbb_formatted_code = \"get_logprob_m10(m_6_10_trace, 1000)\";\n",
       "                var nbb_cells = Jupyter.notebook.get_cells();\n",
       "                for (var i = 0; i < nbb_cells.length; ++i) {\n",
       "                    if (nbb_cells[i].input_prompt_number == nbb_cell_id) {\n",
       "                        if (nbb_cells[i].get_text() == nbb_unformatted_code) {\n",
       "                             nbb_cells[i].set_text(nbb_formatted_code);\n",
       "                        }\n",
       "                        break;\n",
       "                    }\n",
       "                }\n",
       "            }, 500);\n",
       "            "
      ],
      "text/plain": [
       "<IPython.core.display.Javascript object>"
      ]
     },
     "metadata": {},
     "output_type": "display_data"
    }
   ],
   "source": [
    "get_logprob_m10(m_6_10_trace, 1000)"
   ]
  },
  {
   "cell_type": "markdown",
   "id": "pregnant-still",
   "metadata": {},
   "source": [
    "**I realized I don't have to do these calculations. There's a `compare` function in arviz.**\n",
    "\n",
    "This function documentation is [here](https://arviz-devs.github.io/arviz/api/generated/arviz.compare.html)."
   ]
  },
  {
   "cell_type": "code",
   "execution_count": 106,
   "id": "unexpected-buddy",
   "metadata": {
    "ExecuteTime": {
     "end_time": "2021-03-25T17:02:00.445896Z",
     "start_time": "2021-03-25T17:01:59.612168Z"
    }
   },
   "outputs": [
    {
     "name": "stderr",
     "output_type": "stream",
     "text": [
      "/Users/blacar/opt/anaconda3/envs/stats_rethinking_min/lib/python3.8/site-packages/arviz/stats/stats.py:146: UserWarning: The default method used to estimate the weights for each model,has changed from BB-pseudo-BMA to stacking\n",
      "  warnings.warn(\n",
      "/Users/blacar/opt/anaconda3/envs/stats_rethinking_min/lib/python3.8/site-packages/arviz/data/io_pymc3.py:88: FutureWarning: Using `from_pymc3` without the model will be deprecated in a future release. Not using the model will return less accurate and less useful results. Make sure you use the model argument or call from_pymc3 within a model context.\n",
      "  warnings.warn(\n",
      "/Users/blacar/opt/anaconda3/envs/stats_rethinking_min/lib/python3.8/site-packages/arviz/data/io_pymc3.py:88: FutureWarning: Using `from_pymc3` without the model will be deprecated in a future release. Not using the model will return less accurate and less useful results. Make sure you use the model argument or call from_pymc3 within a model context.\n",
      "  warnings.warn(\n"
     ]
    },
    {
     "data": {
      "text/html": [
       "<div>\n",
       "<style scoped>\n",
       "    .dataframe tbody tr th:only-of-type {\n",
       "        vertical-align: middle;\n",
       "    }\n",
       "\n",
       "    .dataframe tbody tr th {\n",
       "        vertical-align: top;\n",
       "    }\n",
       "\n",
       "    .dataframe thead th {\n",
       "        text-align: right;\n",
       "    }\n",
       "</style>\n",
       "<table border=\"1\" class=\"dataframe\">\n",
       "  <thead>\n",
       "    <tr style=\"text-align: right;\">\n",
       "      <th></th>\n",
       "      <th>rank</th>\n",
       "      <th>waic</th>\n",
       "      <th>p_waic</th>\n",
       "      <th>d_waic</th>\n",
       "      <th>weight</th>\n",
       "      <th>se</th>\n",
       "      <th>dse</th>\n",
       "      <th>warning</th>\n",
       "      <th>waic_scale</th>\n",
       "    </tr>\n",
       "  </thead>\n",
       "  <tbody>\n",
       "    <tr>\n",
       "      <th>m_6_9</th>\n",
       "      <td>0</td>\n",
       "      <td>2710.831368</td>\n",
       "      <td>3.593085</td>\n",
       "      <td>0.000000</td>\n",
       "      <td>1.000000e+00</td>\n",
       "      <td>37.276599</td>\n",
       "      <td>0.000000</td>\n",
       "      <td>False</td>\n",
       "      <td>deviance</td>\n",
       "    </tr>\n",
       "    <tr>\n",
       "      <th>m_6_10</th>\n",
       "      <td>1</td>\n",
       "      <td>3037.606104</td>\n",
       "      <td>2.447729</td>\n",
       "      <td>326.774736</td>\n",
       "      <td>1.100950e-71</td>\n",
       "      <td>27.330610</td>\n",
       "      <td>33.008913</td>\n",
       "      <td>False</td>\n",
       "      <td>deviance</td>\n",
       "    </tr>\n",
       "  </tbody>\n",
       "</table>\n",
       "</div>"
      ],
      "text/plain": [
       "        rank         waic    p_waic      d_waic        weight         se  \\\n",
       "m_6_9      0  2710.831368  3.593085    0.000000  1.000000e+00  37.276599   \n",
       "m_6_10     1  3037.606104  2.447729  326.774736  1.100950e-71  27.330610   \n",
       "\n",
       "              dse  warning waic_scale  \n",
       "m_6_9    0.000000    False   deviance  \n",
       "m_6_10  33.008913    False   deviance  "
      ]
     },
     "execution_count": 106,
     "metadata": {},
     "output_type": "execute_result"
    },
    {
     "data": {
      "application/javascript": [
       "\n",
       "            setTimeout(function() {\n",
       "                var nbb_cell_id = 106;\n",
       "                var nbb_unformatted_code = \"compare_df = az.compare(\\n    {\\n        \\\"m_6_9\\\": m_6_9_trace,\\n        \\\"m_6_10\\\": m_6_10_trace,\\n    },\\n    method=\\\"pseudo-BMA\\\",\\n    ic=\\\"waic\\\",\\n    scale=\\\"deviance\\\",\\n)\\ncompare_df\";\n",
       "                var nbb_formatted_code = \"compare_df = az.compare(\\n    {\\n        \\\"m_6_9\\\": m_6_9_trace,\\n        \\\"m_6_10\\\": m_6_10_trace,\\n    },\\n    method=\\\"pseudo-BMA\\\",\\n    ic=\\\"waic\\\",\\n    scale=\\\"deviance\\\",\\n)\\ncompare_df\";\n",
       "                var nbb_cells = Jupyter.notebook.get_cells();\n",
       "                for (var i = 0; i < nbb_cells.length; ++i) {\n",
       "                    if (nbb_cells[i].input_prompt_number == nbb_cell_id) {\n",
       "                        if (nbb_cells[i].get_text() == nbb_unformatted_code) {\n",
       "                             nbb_cells[i].set_text(nbb_formatted_code);\n",
       "                        }\n",
       "                        break;\n",
       "                    }\n",
       "                }\n",
       "            }, 500);\n",
       "            "
      ],
      "text/plain": [
       "<IPython.core.display.Javascript object>"
      ]
     },
     "metadata": {},
     "output_type": "display_data"
    }
   ],
   "source": [
    "compare_df = az.compare(\n",
    "    {\n",
    "        \"m_6_9\": m_6_9_trace,\n",
    "        \"m_6_10\": m_6_10_trace,\n",
    "    },\n",
    "    method=\"pseudo-BMA\",\n",
    "    ic=\"waic\",\n",
    "    scale=\"deviance\",\n",
    ")\n",
    "compare_df"
   ]
  },
  {
   "cell_type": "markdown",
   "id": "clear-subdivision",
   "metadata": {},
   "source": [
    "WAIC generally estimates out-of-sample deviance and therefore a lower score is representative of better prediction. As we expected, model `m_6_9`, the model with more parameters, made better predictions, even though inference would be incorrect. Model `m_6_10` by this metric makes worse predictions but has the more representative causal relationship."
   ]
  },
  {
   "cell_type": "markdown",
   "id": "civic-brooklyn",
   "metadata": {},
   "source": [
    "# Question 3 (7H5)\n",
    "\n",
    "**Reconsider the urban fox analysis from last week’s homework. Use WAIC or LOO based model comparison on five different models, each using weight as the outcome, and containing these sets of predictor variables:**\n",
    "\n",
    "1. avgfood + groupsize + area\n",
    "2. avgfood + groupsize\n",
    "3. groupsize + area\n",
    "4. avgfood\n",
    "5. area\n",
    "\n",
    "**Can you explain the relative differences in WAIC scores, using the fox DAG from last week’s homework? Be sure to pay attention to the standard error of the score differences (dSE).**"
   ]
  },
  {
   "cell_type": "code",
   "execution_count": 107,
   "id": "analyzed-ivory",
   "metadata": {
    "ExecuteTime": {
     "end_time": "2021-03-25T17:15:38.197255Z",
     "start_time": "2021-03-25T17:15:38.171336Z"
    }
   },
   "outputs": [
    {
     "data": {
      "text/html": [
       "<div>\n",
       "<style scoped>\n",
       "    .dataframe tbody tr th:only-of-type {\n",
       "        vertical-align: middle;\n",
       "    }\n",
       "\n",
       "    .dataframe tbody tr th {\n",
       "        vertical-align: top;\n",
       "    }\n",
       "\n",
       "    .dataframe thead th {\n",
       "        text-align: right;\n",
       "    }\n",
       "</style>\n",
       "<table border=\"1\" class=\"dataframe\">\n",
       "  <thead>\n",
       "    <tr style=\"text-align: right;\">\n",
       "      <th></th>\n",
       "      <th>group</th>\n",
       "      <th>avgfood</th>\n",
       "      <th>groupsize</th>\n",
       "      <th>area</th>\n",
       "      <th>weight</th>\n",
       "    </tr>\n",
       "  </thead>\n",
       "  <tbody>\n",
       "    <tr>\n",
       "      <th>0</th>\n",
       "      <td>1</td>\n",
       "      <td>-1.924829</td>\n",
       "      <td>-1.524089</td>\n",
       "      <td>-2.239596</td>\n",
       "      <td>0.414135</td>\n",
       "    </tr>\n",
       "    <tr>\n",
       "      <th>1</th>\n",
       "      <td>1</td>\n",
       "      <td>-1.924829</td>\n",
       "      <td>-1.524089</td>\n",
       "      <td>-2.239596</td>\n",
       "      <td>-1.427046</td>\n",
       "    </tr>\n",
       "    <tr>\n",
       "      <th>2</th>\n",
       "      <td>2</td>\n",
       "      <td>-1.118035</td>\n",
       "      <td>-1.524089</td>\n",
       "      <td>-1.205508</td>\n",
       "      <td>0.675954</td>\n",
       "    </tr>\n",
       "    <tr>\n",
       "      <th>3</th>\n",
       "      <td>2</td>\n",
       "      <td>-1.118035</td>\n",
       "      <td>-1.524089</td>\n",
       "      <td>-1.205508</td>\n",
       "      <td>1.300942</td>\n",
       "    </tr>\n",
       "    <tr>\n",
       "      <th>4</th>\n",
       "      <td>3</td>\n",
       "      <td>-1.319734</td>\n",
       "      <td>-1.524089</td>\n",
       "      <td>-1.130106</td>\n",
       "      <td>1.115135</td>\n",
       "    </tr>\n",
       "  </tbody>\n",
       "</table>\n",
       "</div>"
      ],
      "text/plain": [
       "   group   avgfood  groupsize      area    weight\n",
       "0      1 -1.924829  -1.524089 -2.239596  0.414135\n",
       "1      1 -1.924829  -1.524089 -2.239596 -1.427046\n",
       "2      2 -1.118035  -1.524089 -1.205508  0.675954\n",
       "3      2 -1.118035  -1.524089 -1.205508  1.300942\n",
       "4      3 -1.319734  -1.524089 -1.130106  1.115135"
      ]
     },
     "execution_count": 107,
     "metadata": {},
     "output_type": "execute_result"
    },
    {
     "data": {
      "application/javascript": [
       "\n",
       "            setTimeout(function() {\n",
       "                var nbb_cell_id = 107;\n",
       "                var nbb_unformatted_code = \"# Read in data\\nd = pd.read_csv(\\\"../data/a_input/foxes.csv\\\", header=0)\\nd2 = d.copy()\\ncol2standardize = [\\\"avgfood\\\", \\\"groupsize\\\", \\\"area\\\", \\\"weight\\\"]\\nd2[col2standardize] = (d[col2standardize] - d[col2standardize].mean()) / d[\\n    col2standardize\\n].std()\\n\\nd2.head()\";\n",
       "                var nbb_formatted_code = \"# Read in data\\nd = pd.read_csv(\\\"../data/a_input/foxes.csv\\\", header=0)\\nd2 = d.copy()\\ncol2standardize = [\\\"avgfood\\\", \\\"groupsize\\\", \\\"area\\\", \\\"weight\\\"]\\nd2[col2standardize] = (d[col2standardize] - d[col2standardize].mean()) / d[\\n    col2standardize\\n].std()\\n\\nd2.head()\";\n",
       "                var nbb_cells = Jupyter.notebook.get_cells();\n",
       "                for (var i = 0; i < nbb_cells.length; ++i) {\n",
       "                    if (nbb_cells[i].input_prompt_number == nbb_cell_id) {\n",
       "                        if (nbb_cells[i].get_text() == nbb_unformatted_code) {\n",
       "                             nbb_cells[i].set_text(nbb_formatted_code);\n",
       "                        }\n",
       "                        break;\n",
       "                    }\n",
       "                }\n",
       "            }, 500);\n",
       "            "
      ],
      "text/plain": [
       "<IPython.core.display.Javascript object>"
      ]
     },
     "metadata": {},
     "output_type": "display_data"
    }
   ],
   "source": [
    "# Read in and standardize data\n",
    "d = pd.read_csv(\"../data/a_input/foxes.csv\", header=0)\n",
    "d2 = d.copy()\n",
    "col2standardize = [\"avgfood\", \"groupsize\", \"area\", \"weight\"]\n",
    "d2[col2standardize] = (d[col2standardize] - d[col2standardize].mean()) / d[\n",
    "    col2standardize\n",
    "].std()\n",
    "\n",
    "d2.head()"
   ]
  },
  {
   "cell_type": "code",
   "execution_count": 108,
   "id": "considerable-deadline",
   "metadata": {
    "ExecuteTime": {
     "end_time": "2021-03-25T17:16:56.756290Z",
     "start_time": "2021-03-25T17:16:37.182971Z"
    }
   },
   "outputs": [
    {
     "name": "stderr",
     "output_type": "stream",
     "text": [
      "Auto-assigning NUTS sampler...\n",
      "INFO:pymc3:Auto-assigning NUTS sampler...\n",
      "Initializing NUTS using jitter+adapt_diag...\n",
      "INFO:pymc3:Initializing NUTS using jitter+adapt_diag...\n",
      "Multiprocess sampling (4 chains in 4 jobs)\n",
      "INFO:pymc3:Multiprocess sampling (4 chains in 4 jobs)\n",
      "NUTS: [sigma, b_area, b_groupsize, b_avgfood, a]\n",
      "INFO:pymc3:NUTS: [sigma, b_area, b_groupsize, b_avgfood, a]\n"
     ]
    },
    {
     "data": {
      "text/html": [
       "\n",
       "    <div>\n",
       "        <style>\n",
       "            /* Turns off some styling */\n",
       "            progress {\n",
       "                /* gets rid of default border in Firefox and Opera. */\n",
       "                border: none;\n",
       "                /* Needs to be in here for Safari polyfill so background images work as expected. */\n",
       "                background-size: auto;\n",
       "            }\n",
       "            .progress-bar-interrupted, .progress-bar-interrupted::-webkit-progress-bar {\n",
       "                background: #F44336;\n",
       "            }\n",
       "        </style>\n",
       "      <progress value='8000' class='' max='8000' style='width:300px; height:20px; vertical-align: middle;'></progress>\n",
       "      100.00% [8000/8000 00:04<00:00 Sampling 4 chains, 0 divergences]\n",
       "    </div>\n",
       "    "
      ],
      "text/plain": [
       "<IPython.core.display.HTML object>"
      ]
     },
     "metadata": {},
     "output_type": "display_data"
    },
    {
     "name": "stderr",
     "output_type": "stream",
     "text": [
      "Sampling 4 chains for 1_000 tune and 1_000 draw iterations (4_000 + 4_000 draws total) took 11 seconds.\n",
      "INFO:pymc3:Sampling 4 chains for 1_000 tune and 1_000 draw iterations (4_000 + 4_000 draws total) took 11 seconds.\n",
      "The acceptance probability does not match the target. It is 0.8833778668238687, but should be close to 0.8. Try to increase the number of tuning steps.\n",
      "WARNING:pymc3:The acceptance probability does not match the target. It is 0.8833778668238687, but should be close to 0.8. Try to increase the number of tuning steps.\n"
     ]
    },
    {
     "data": {
      "application/javascript": [
       "\n",
       "            setTimeout(function() {\n",
       "                var nbb_cell_id = 108;\n",
       "                var nbb_unformatted_code = \"with pm.Model() as weights_model1:\\n\\n    # Priors\\n    a = pm.Normal(\\\"a\\\", mu=0, sd=0.2)\\n    b_avgfood = pm.Normal(\\\"b_avgfood\\\", mu=0, sd=0.5)\\n    b_groupsize = pm.Normal(\\\"b_groupsize\\\", mu=0, sd=0.5)\\n    b_area = pm.Normal(\\\"b_area\\\", mu=0, sd=0.5)\\n    sigma = pm.Exponential(\\\"sigma\\\", 1)\\n\\n    # Linear model\\n    mu = a + b_avgfood * (d2[\\\"avgfood\\\"]) + b_groupsize * (d2[\\\"groupsize\\\"]) + b_area * (d2[\\\"area\\\"])\\n\\n    weight = pm.Normal(\\\"weight\\\", mu=mu, sd=sigma, observed=d2[\\\"weight\\\"])\\n\\n    # This next line is doing the fitting and sampling all at once.\\n    # Using return_inferencedata = True to use arviz objects directly\\n    trace_m1 = pm.sample(1000, tune=1000, return_inferencedata=True)\";\n",
       "                var nbb_formatted_code = \"with pm.Model() as weights_model1:\\n\\n    # Priors\\n    a = pm.Normal(\\\"a\\\", mu=0, sd=0.2)\\n    b_avgfood = pm.Normal(\\\"b_avgfood\\\", mu=0, sd=0.5)\\n    b_groupsize = pm.Normal(\\\"b_groupsize\\\", mu=0, sd=0.5)\\n    b_area = pm.Normal(\\\"b_area\\\", mu=0, sd=0.5)\\n    sigma = pm.Exponential(\\\"sigma\\\", 1)\\n\\n    # Linear model\\n    mu = (\\n        a\\n        + b_avgfood * (d2[\\\"avgfood\\\"])\\n        + b_groupsize * (d2[\\\"groupsize\\\"])\\n        + b_area * (d2[\\\"area\\\"])\\n    )\\n\\n    weight = pm.Normal(\\\"weight\\\", mu=mu, sd=sigma, observed=d2[\\\"weight\\\"])\\n\\n    # This next line is doing the fitting and sampling all at once.\\n    # Using return_inferencedata = True to use arviz objects directly\\n    trace_m1 = pm.sample(1000, tune=1000, return_inferencedata=True)\";\n",
       "                var nbb_cells = Jupyter.notebook.get_cells();\n",
       "                for (var i = 0; i < nbb_cells.length; ++i) {\n",
       "                    if (nbb_cells[i].input_prompt_number == nbb_cell_id) {\n",
       "                        if (nbb_cells[i].get_text() == nbb_unformatted_code) {\n",
       "                             nbb_cells[i].set_text(nbb_formatted_code);\n",
       "                        }\n",
       "                        break;\n",
       "                    }\n",
       "                }\n",
       "            }, 500);\n",
       "            "
      ],
      "text/plain": [
       "<IPython.core.display.Javascript object>"
      ]
     },
     "metadata": {},
     "output_type": "display_data"
    }
   ],
   "source": [
    "with pm.Model() as weights_model1:\n",
    "\n",
    "    # Priors\n",
    "    a = pm.Normal(\"a\", mu=0, sd=0.2)\n",
    "    b_avgfood = pm.Normal(\"b_avgfood\", mu=0, sd=0.5)\n",
    "    b_groupsize = pm.Normal(\"b_groupsize\", mu=0, sd=0.5)\n",
    "    b_area = pm.Normal(\"b_area\", mu=0, sd=0.5)\n",
    "    sigma = pm.Exponential(\"sigma\", 1)\n",
    "\n",
    "    # Linear model\n",
    "    mu = (\n",
    "        a\n",
    "        + b_avgfood * (d2[\"avgfood\"])\n",
    "        + b_groupsize * (d2[\"groupsize\"])\n",
    "        + b_area * (d2[\"area\"])\n",
    "    )\n",
    "\n",
    "    weight = pm.Normal(\"weight\", mu=mu, sd=sigma, observed=d2[\"weight\"])\n",
    "\n",
    "    # This next line is doing the fitting and sampling all at once.\n",
    "    # Using return_inferencedata = True to use arviz objects directly\n",
    "    trace_m1 = pm.sample(1000, tune=1000, return_inferencedata=True)"
   ]
  },
  {
   "cell_type": "code",
   "execution_count": 109,
   "id": "modern-rebecca",
   "metadata": {
    "ExecuteTime": {
     "end_time": "2021-03-25T17:18:14.152627Z",
     "start_time": "2021-03-25T17:18:02.758361Z"
    }
   },
   "outputs": [
    {
     "name": "stderr",
     "output_type": "stream",
     "text": [
      "Auto-assigning NUTS sampler...\n",
      "INFO:pymc3:Auto-assigning NUTS sampler...\n",
      "Initializing NUTS using jitter+adapt_diag...\n",
      "INFO:pymc3:Initializing NUTS using jitter+adapt_diag...\n",
      "Multiprocess sampling (4 chains in 4 jobs)\n",
      "INFO:pymc3:Multiprocess sampling (4 chains in 4 jobs)\n",
      "NUTS: [sigma, b_groupsize, b_avgfood, a]\n",
      "INFO:pymc3:NUTS: [sigma, b_groupsize, b_avgfood, a]\n"
     ]
    },
    {
     "data": {
      "text/html": [
       "\n",
       "    <div>\n",
       "        <style>\n",
       "            /* Turns off some styling */\n",
       "            progress {\n",
       "                /* gets rid of default border in Firefox and Opera. */\n",
       "                border: none;\n",
       "                /* Needs to be in here for Safari polyfill so background images work as expected. */\n",
       "                background-size: auto;\n",
       "            }\n",
       "            .progress-bar-interrupted, .progress-bar-interrupted::-webkit-progress-bar {\n",
       "                background: #F44336;\n",
       "            }\n",
       "        </style>\n",
       "      <progress value='8000' class='' max='8000' style='width:300px; height:20px; vertical-align: middle;'></progress>\n",
       "      100.00% [8000/8000 00:03<00:00 Sampling 4 chains, 0 divergences]\n",
       "    </div>\n",
       "    "
      ],
      "text/plain": [
       "<IPython.core.display.HTML object>"
      ]
     },
     "metadata": {},
     "output_type": "display_data"
    },
    {
     "name": "stderr",
     "output_type": "stream",
     "text": [
      "Sampling 4 chains for 1_000 tune and 1_000 draw iterations (4_000 + 4_000 draws total) took 10 seconds.\n",
      "INFO:pymc3:Sampling 4 chains for 1_000 tune and 1_000 draw iterations (4_000 + 4_000 draws total) took 10 seconds.\n",
      "The acceptance probability does not match the target. It is 0.8893726334273497, but should be close to 0.8. Try to increase the number of tuning steps.\n",
      "WARNING:pymc3:The acceptance probability does not match the target. It is 0.8893726334273497, but should be close to 0.8. Try to increase the number of tuning steps.\n"
     ]
    },
    {
     "data": {
      "application/javascript": [
       "\n",
       "            setTimeout(function() {\n",
       "                var nbb_cell_id = 109;\n",
       "                var nbb_unformatted_code = \"with pm.Model() as weights_model2:\\n\\n    # Priors\\n    a = pm.Normal(\\\"a\\\", mu=0, sd=0.2)\\n    b_avgfood = pm.Normal(\\\"b_avgfood\\\", mu=0, sd=0.5)\\n    b_groupsize = pm.Normal(\\\"b_groupsize\\\", mu=0, sd=0.5)\\n    sigma = pm.Exponential(\\\"sigma\\\", 1)\\n\\n    # Linear model\\n    mu = a + b_avgfood * (d2[\\\"avgfood\\\"]) + b_groupsize * (d2[\\\"groupsize\\\"])\\n\\n    weight = pm.Normal(\\\"weight\\\", mu=mu, sd=sigma, observed=d2[\\\"weight\\\"])\\n\\n    # This next line is doing the fitting and sampling all at once.\\n    # Using return_inferencedata = True to use arviz objects directly\\n    trace_m2 = pm.sample(1000, tune=1000, return_inferencedata=True)\";\n",
       "                var nbb_formatted_code = \"with pm.Model() as weights_model2:\\n\\n    # Priors\\n    a = pm.Normal(\\\"a\\\", mu=0, sd=0.2)\\n    b_avgfood = pm.Normal(\\\"b_avgfood\\\", mu=0, sd=0.5)\\n    b_groupsize = pm.Normal(\\\"b_groupsize\\\", mu=0, sd=0.5)\\n    sigma = pm.Exponential(\\\"sigma\\\", 1)\\n\\n    # Linear model\\n    mu = a + b_avgfood * (d2[\\\"avgfood\\\"]) + b_groupsize * (d2[\\\"groupsize\\\"])\\n\\n    weight = pm.Normal(\\\"weight\\\", mu=mu, sd=sigma, observed=d2[\\\"weight\\\"])\\n\\n    # This next line is doing the fitting and sampling all at once.\\n    # Using return_inferencedata = True to use arviz objects directly\\n    trace_m2 = pm.sample(1000, tune=1000, return_inferencedata=True)\";\n",
       "                var nbb_cells = Jupyter.notebook.get_cells();\n",
       "                for (var i = 0; i < nbb_cells.length; ++i) {\n",
       "                    if (nbb_cells[i].input_prompt_number == nbb_cell_id) {\n",
       "                        if (nbb_cells[i].get_text() == nbb_unformatted_code) {\n",
       "                             nbb_cells[i].set_text(nbb_formatted_code);\n",
       "                        }\n",
       "                        break;\n",
       "                    }\n",
       "                }\n",
       "            }, 500);\n",
       "            "
      ],
      "text/plain": [
       "<IPython.core.display.Javascript object>"
      ]
     },
     "metadata": {},
     "output_type": "display_data"
    }
   ],
   "source": [
    "with pm.Model() as weights_model2:\n",
    "\n",
    "    # Priors\n",
    "    a = pm.Normal(\"a\", mu=0, sd=0.2)\n",
    "    b_avgfood = pm.Normal(\"b_avgfood\", mu=0, sd=0.5)\n",
    "    b_groupsize = pm.Normal(\"b_groupsize\", mu=0, sd=0.5)\n",
    "    sigma = pm.Exponential(\"sigma\", 1)\n",
    "\n",
    "    # Linear model\n",
    "    mu = a + b_avgfood * (d2[\"avgfood\"]) + b_groupsize * (d2[\"groupsize\"])\n",
    "\n",
    "    weight = pm.Normal(\"weight\", mu=mu, sd=sigma, observed=d2[\"weight\"])\n",
    "\n",
    "    # This next line is doing the fitting and sampling all at once.\n",
    "    # Using return_inferencedata = True to use arviz objects directly\n",
    "    trace_m2 = pm.sample(1000, tune=1000, return_inferencedata=True)"
   ]
  },
  {
   "cell_type": "code",
   "execution_count": 110,
   "id": "collaborative-laundry",
   "metadata": {
    "ExecuteTime": {
     "end_time": "2021-03-25T17:18:25.840006Z",
     "start_time": "2021-03-25T17:18:14.281500Z"
    }
   },
   "outputs": [
    {
     "name": "stderr",
     "output_type": "stream",
     "text": [
      "Auto-assigning NUTS sampler...\n",
      "INFO:pymc3:Auto-assigning NUTS sampler...\n",
      "Initializing NUTS using jitter+adapt_diag...\n",
      "INFO:pymc3:Initializing NUTS using jitter+adapt_diag...\n",
      "Multiprocess sampling (4 chains in 4 jobs)\n",
      "INFO:pymc3:Multiprocess sampling (4 chains in 4 jobs)\n",
      "NUTS: [sigma, b_area, b_groupsize, a]\n",
      "INFO:pymc3:NUTS: [sigma, b_area, b_groupsize, a]\n"
     ]
    },
    {
     "data": {
      "text/html": [
       "\n",
       "    <div>\n",
       "        <style>\n",
       "            /* Turns off some styling */\n",
       "            progress {\n",
       "                /* gets rid of default border in Firefox and Opera. */\n",
       "                border: none;\n",
       "                /* Needs to be in here for Safari polyfill so background images work as expected. */\n",
       "                background-size: auto;\n",
       "            }\n",
       "            .progress-bar-interrupted, .progress-bar-interrupted::-webkit-progress-bar {\n",
       "                background: #F44336;\n",
       "            }\n",
       "        </style>\n",
       "      <progress value='8000' class='' max='8000' style='width:300px; height:20px; vertical-align: middle;'></progress>\n",
       "      100.00% [8000/8000 00:03<00:00 Sampling 4 chains, 0 divergences]\n",
       "    </div>\n",
       "    "
      ],
      "text/plain": [
       "<IPython.core.display.HTML object>"
      ]
     },
     "metadata": {},
     "output_type": "display_data"
    },
    {
     "name": "stderr",
     "output_type": "stream",
     "text": [
      "Sampling 4 chains for 1_000 tune and 1_000 draw iterations (4_000 + 4_000 draws total) took 10 seconds.\n",
      "INFO:pymc3:Sampling 4 chains for 1_000 tune and 1_000 draw iterations (4_000 + 4_000 draws total) took 10 seconds.\n"
     ]
    },
    {
     "data": {
      "application/javascript": [
       "\n",
       "            setTimeout(function() {\n",
       "                var nbb_cell_id = 110;\n",
       "                var nbb_unformatted_code = \"with pm.Model() as weights_model3:\\n\\n    # Priors\\n    a = pm.Normal(\\\"a\\\", mu=0, sd=0.2)\\n    b_groupsize = pm.Normal(\\\"b_groupsize\\\", mu=0, sd=0.5)\\n    b_area = pm.Normal(\\\"b_area\\\", mu=0, sd=0.5)\\n    sigma = pm.Exponential(\\\"sigma\\\", 1)\\n\\n    # Linear model\\n    mu = a + b_groupsize * (d2[\\\"groupsize\\\"]) + b_area * (d2[\\\"area\\\"])\\n\\n    weight = pm.Normal(\\\"weight\\\", mu=mu, sd=sigma, observed=d2[\\\"weight\\\"])\\n\\n    # This next line is doing the fitting and sampling all at once.\\n    # Using return_inferencedata = True to use arviz objects directly\\n    trace_m3 = pm.sample(1000, tune=1000, return_inferencedata=True)\";\n",
       "                var nbb_formatted_code = \"with pm.Model() as weights_model3:\\n\\n    # Priors\\n    a = pm.Normal(\\\"a\\\", mu=0, sd=0.2)\\n    b_groupsize = pm.Normal(\\\"b_groupsize\\\", mu=0, sd=0.5)\\n    b_area = pm.Normal(\\\"b_area\\\", mu=0, sd=0.5)\\n    sigma = pm.Exponential(\\\"sigma\\\", 1)\\n\\n    # Linear model\\n    mu = a + b_groupsize * (d2[\\\"groupsize\\\"]) + b_area * (d2[\\\"area\\\"])\\n\\n    weight = pm.Normal(\\\"weight\\\", mu=mu, sd=sigma, observed=d2[\\\"weight\\\"])\\n\\n    # This next line is doing the fitting and sampling all at once.\\n    # Using return_inferencedata = True to use arviz objects directly\\n    trace_m3 = pm.sample(1000, tune=1000, return_inferencedata=True)\";\n",
       "                var nbb_cells = Jupyter.notebook.get_cells();\n",
       "                for (var i = 0; i < nbb_cells.length; ++i) {\n",
       "                    if (nbb_cells[i].input_prompt_number == nbb_cell_id) {\n",
       "                        if (nbb_cells[i].get_text() == nbb_unformatted_code) {\n",
       "                             nbb_cells[i].set_text(nbb_formatted_code);\n",
       "                        }\n",
       "                        break;\n",
       "                    }\n",
       "                }\n",
       "            }, 500);\n",
       "            "
      ],
      "text/plain": [
       "<IPython.core.display.Javascript object>"
      ]
     },
     "metadata": {},
     "output_type": "display_data"
    }
   ],
   "source": [
    "with pm.Model() as weights_model3:\n",
    "\n",
    "    # Priors\n",
    "    a = pm.Normal(\"a\", mu=0, sd=0.2)\n",
    "    b_groupsize = pm.Normal(\"b_groupsize\", mu=0, sd=0.5)a\n",
    "    b_area = pm.Normal(\"b_area\", mu=0, sd=0.5)\n",
    "    sigma = pm.Exponential(\"sigma\", 1)\n",
    "\n",
    "    # Linear model\n",
    "    mu = a + b_groupsize * (d2[\"groupsize\"]) + b_area * (d2[\"area\"])\n",
    "\n",
    "    weight = pm.Normal(\"weight\", mu=mu, sd=sigma, observed=d2[\"weight\"])\n",
    "\n",
    "    # This next line is doing the fitting and sampling all at once.\n",
    "    # Using return_inferencedata = True to use arviz objects directly\n",
    "    trace_m3 = pm.sample(1000, tune=1000, return_inferencedata=True)"
   ]
  },
  {
   "cell_type": "code",
   "execution_count": null,
   "id": "useful-retro",
   "metadata": {},
   "outputs": [],
   "source": []
  },
  {
   "cell_type": "code",
   "execution_count": 111,
   "id": "imposed-feedback",
   "metadata": {
    "ExecuteTime": {
     "end_time": "2021-03-25T17:18:14.152627Z",
     "start_time": "2021-03-25T17:18:02.758361Z"
    }
   },
   "outputs": [
    {
     "name": "stderr",
     "output_type": "stream",
     "text": [
      "Auto-assigning NUTS sampler...\n",
      "INFO:pymc3:Auto-assigning NUTS sampler...\n",
      "Initializing NUTS using jitter+adapt_diag...\n",
      "INFO:pymc3:Initializing NUTS using jitter+adapt_diag...\n",
      "Multiprocess sampling (4 chains in 4 jobs)\n",
      "INFO:pymc3:Multiprocess sampling (4 chains in 4 jobs)\n",
      "NUTS: [sigma, b_avgfood, a]\n",
      "INFO:pymc3:NUTS: [sigma, b_avgfood, a]\n"
     ]
    },
    {
     "data": {
      "text/html": [
       "\n",
       "    <div>\n",
       "        <style>\n",
       "            /* Turns off some styling */\n",
       "            progress {\n",
       "                /* gets rid of default border in Firefox and Opera. */\n",
       "                border: none;\n",
       "                /* Needs to be in here for Safari polyfill so background images work as expected. */\n",
       "                background-size: auto;\n",
       "            }\n",
       "            .progress-bar-interrupted, .progress-bar-interrupted::-webkit-progress-bar {\n",
       "                background: #F44336;\n",
       "            }\n",
       "        </style>\n",
       "      <progress value='8000' class='' max='8000' style='width:300px; height:20px; vertical-align: middle;'></progress>\n",
       "      100.00% [8000/8000 00:02<00:00 Sampling 4 chains, 0 divergences]\n",
       "    </div>\n",
       "    "
      ],
      "text/plain": [
       "<IPython.core.display.HTML object>"
      ]
     },
     "metadata": {},
     "output_type": "display_data"
    },
    {
     "name": "stderr",
     "output_type": "stream",
     "text": [
      "Sampling 4 chains for 1_000 tune and 1_000 draw iterations (4_000 + 4_000 draws total) took 9 seconds.\n",
      "INFO:pymc3:Sampling 4 chains for 1_000 tune and 1_000 draw iterations (4_000 + 4_000 draws total) took 9 seconds.\n"
     ]
    },
    {
     "data": {
      "application/javascript": [
       "\n",
       "            setTimeout(function() {\n",
       "                var nbb_cell_id = 111;\n",
       "                var nbb_unformatted_code = \"with pm.Model() as weights_model4:\\n\\n    # Priors\\n    a = pm.Normal(\\\"a\\\", mu=0, sd=0.2)\\n    b_avgfood = pm.Normal(\\\"b_avgfood\\\", mu=0, sd=0.5)\\n    sigma = pm.Exponential(\\\"sigma\\\", 1)\\n\\n    # Linear model\\n    mu = (\\n        a\\n        + b_avgfood * (d2[\\\"avgfood\\\"])\\n    )\\n\\n    weight = pm.Normal(\\\"weight\\\", mu=mu, sd=sigma, observed=d2[\\\"weight\\\"])\\n\\n    # This next line is doing the fitting and sampling all at once.\\n    # Using return_inferencedata = True to use arviz objects directly\\n    trace_m4 = pm.sample(1000, tune=1000, return_inferencedata=True)\";\n",
       "                var nbb_formatted_code = \"with pm.Model() as weights_model4:\\n\\n    # Priors\\n    a = pm.Normal(\\\"a\\\", mu=0, sd=0.2)\\n    b_avgfood = pm.Normal(\\\"b_avgfood\\\", mu=0, sd=0.5)\\n    sigma = pm.Exponential(\\\"sigma\\\", 1)\\n\\n    # Linear model\\n    mu = a + b_avgfood * (d2[\\\"avgfood\\\"])\\n\\n    weight = pm.Normal(\\\"weight\\\", mu=mu, sd=sigma, observed=d2[\\\"weight\\\"])\\n\\n    # This next line is doing the fitting and sampling all at once.\\n    # Using return_inferencedata = True to use arviz objects directly\\n    trace_m4 = pm.sample(1000, tune=1000, return_inferencedata=True)\";\n",
       "                var nbb_cells = Jupyter.notebook.get_cells();\n",
       "                for (var i = 0; i < nbb_cells.length; ++i) {\n",
       "                    if (nbb_cells[i].input_prompt_number == nbb_cell_id) {\n",
       "                        if (nbb_cells[i].get_text() == nbb_unformatted_code) {\n",
       "                             nbb_cells[i].set_text(nbb_formatted_code);\n",
       "                        }\n",
       "                        break;\n",
       "                    }\n",
       "                }\n",
       "            }, 500);\n",
       "            "
      ],
      "text/plain": [
       "<IPython.core.display.Javascript object>"
      ]
     },
     "metadata": {},
     "output_type": "display_data"
    }
   ],
   "source": [
    "with pm.Model() as weights_model4:\n",
    "\n",
    "    # Priors\n",
    "    a = pm.Normal(\"a\", mu=0, sd=0.2)\n",
    "    b_avgfood = pm.Normal(\"b_avgfood\", mu=0, sd=0.5)\n",
    "    sigma = pm.Exponential(\"sigma\", 1)\n",
    "\n",
    "    # Linear model\n",
    "    mu = a + b_avgfood * (d2[\"avgfood\"])\n",
    "\n",
    "    weight = pm.Normal(\"weight\", mu=mu, sd=sigma, observed=d2[\"weight\"])\n",
    "\n",
    "    # This next line is doing the fitting and sampling all at once.\n",
    "    # Using return_inferencedata = True to use arviz objects directly\n",
    "    trace_m4 = pm.sample(1000, tune=1000, return_inferencedata=True)"
   ]
  },
  {
   "cell_type": "code",
   "execution_count": 112,
   "id": "sensitive-jaguar",
   "metadata": {
    "ExecuteTime": {
     "end_time": "2021-03-25T17:18:25.840006Z",
     "start_time": "2021-03-25T17:18:14.281500Z"
    }
   },
   "outputs": [
    {
     "name": "stderr",
     "output_type": "stream",
     "text": [
      "Auto-assigning NUTS sampler...\n",
      "INFO:pymc3:Auto-assigning NUTS sampler...\n",
      "Initializing NUTS using jitter+adapt_diag...\n",
      "INFO:pymc3:Initializing NUTS using jitter+adapt_diag...\n",
      "Multiprocess sampling (4 chains in 4 jobs)\n",
      "INFO:pymc3:Multiprocess sampling (4 chains in 4 jobs)\n",
      "NUTS: [sigma, b_area, a]\n",
      "INFO:pymc3:NUTS: [sigma, b_area, a]\n"
     ]
    },
    {
     "data": {
      "text/html": [
       "\n",
       "    <div>\n",
       "        <style>\n",
       "            /* Turns off some styling */\n",
       "            progress {\n",
       "                /* gets rid of default border in Firefox and Opera. */\n",
       "                border: none;\n",
       "                /* Needs to be in here for Safari polyfill so background images work as expected. */\n",
       "                background-size: auto;\n",
       "            }\n",
       "            .progress-bar-interrupted, .progress-bar-interrupted::-webkit-progress-bar {\n",
       "                background: #F44336;\n",
       "            }\n",
       "        </style>\n",
       "      <progress value='8000' class='' max='8000' style='width:300px; height:20px; vertical-align: middle;'></progress>\n",
       "      100.00% [8000/8000 00:02<00:00 Sampling 4 chains, 0 divergences]\n",
       "    </div>\n",
       "    "
      ],
      "text/plain": [
       "<IPython.core.display.HTML object>"
      ]
     },
     "metadata": {},
     "output_type": "display_data"
    },
    {
     "name": "stderr",
     "output_type": "stream",
     "text": [
      "Sampling 4 chains for 1_000 tune and 1_000 draw iterations (4_000 + 4_000 draws total) took 10 seconds.\n",
      "INFO:pymc3:Sampling 4 chains for 1_000 tune and 1_000 draw iterations (4_000 + 4_000 draws total) took 10 seconds.\n"
     ]
    },
    {
     "data": {
      "application/javascript": [
       "\n",
       "            setTimeout(function() {\n",
       "                var nbb_cell_id = 112;\n",
       "                var nbb_unformatted_code = \"with pm.Model() as weights_model5:\\n\\n    # Priors\\n    a = pm.Normal(\\\"a\\\", mu=0, sd=0.2)\\n    b_area = pm.Normal(\\\"b_area\\\", mu=0, sd=0.5)\\n    sigma = pm.Exponential(\\\"sigma\\\", 1)\\n\\n    # Linear model\\n    mu = a + b_area * (d2[\\\"area\\\"])\\n\\n    weight = pm.Normal(\\\"weight\\\", mu=mu, sd=sigma, observed=d2[\\\"weight\\\"])\\n\\n    # This next line is doing the fitting and sampling all at once.\\n    # Using return_inferencedata = True to use arviz objects directly\\n    trace_m5 = pm.sample(1000, tune=1000, return_inferencedata=True)\";\n",
       "                var nbb_formatted_code = \"with pm.Model() as weights_model5:\\n\\n    # Priors\\n    a = pm.Normal(\\\"a\\\", mu=0, sd=0.2)\\n    b_area = pm.Normal(\\\"b_area\\\", mu=0, sd=0.5)\\n    sigma = pm.Exponential(\\\"sigma\\\", 1)\\n\\n    # Linear model\\n    mu = a + b_area * (d2[\\\"area\\\"])\\n\\n    weight = pm.Normal(\\\"weight\\\", mu=mu, sd=sigma, observed=d2[\\\"weight\\\"])\\n\\n    # This next line is doing the fitting and sampling all at once.\\n    # Using return_inferencedata = True to use arviz objects directly\\n    trace_m5 = pm.sample(1000, tune=1000, return_inferencedata=True)\";\n",
       "                var nbb_cells = Jupyter.notebook.get_cells();\n",
       "                for (var i = 0; i < nbb_cells.length; ++i) {\n",
       "                    if (nbb_cells[i].input_prompt_number == nbb_cell_id) {\n",
       "                        if (nbb_cells[i].get_text() == nbb_unformatted_code) {\n",
       "                             nbb_cells[i].set_text(nbb_formatted_code);\n",
       "                        }\n",
       "                        break;\n",
       "                    }\n",
       "                }\n",
       "            }, 500);\n",
       "            "
      ],
      "text/plain": [
       "<IPython.core.display.Javascript object>"
      ]
     },
     "metadata": {},
     "output_type": "display_data"
    }
   ],
   "source": [
    "with pm.Model() as weights_model5:\n",
    "\n",
    "    # Priors\n",
    "    a = pm.Normal(\"a\", mu=0, sd=0.2)\n",
    "    b_area = pm.Normal(\"b_area\", mu=0, sd=0.5)\n",
    "    sigma = pm.Exponential(\"sigma\", 1)\n",
    "\n",
    "    # Linear model\n",
    "    mu = a + b_area * (d2[\"area\"])\n",
    "\n",
    "    weight = pm.Normal(\"weight\", mu=mu, sd=sigma, observed=d2[\"weight\"])\n",
    "\n",
    "    # This next line is doing the fitting and sampling all at once.\n",
    "    # Using return_inferencedata = True to use arviz objects directly\n",
    "    trace_m5 = pm.sample(1000, tune=1000, return_inferencedata=True)"
   ]
  },
  {
   "cell_type": "code",
   "execution_count": null,
   "id": "64ad07e7",
   "metadata": {},
   "outputs": [],
   "source": []
  },
  {
   "cell_type": "code",
   "execution_count": 113,
   "id": "opened-cuisine",
   "metadata": {
    "ExecuteTime": {
     "end_time": "2021-03-25T17:19:57.489925Z",
     "start_time": "2021-03-25T17:19:57.373273Z"
    }
   },
   "outputs": [
    {
     "name": "stderr",
     "output_type": "stream",
     "text": [
      "/Users/blacar/opt/anaconda3/envs/stats_rethinking_min/lib/python3.8/site-packages/arviz/stats/stats.py:146: UserWarning: The default method used to estimate the weights for each model,has changed from BB-pseudo-BMA to stacking\n",
      "  warnings.warn(\n",
      "/Users/blacar/opt/anaconda3/envs/stats_rethinking_min/lib/python3.8/site-packages/arviz/stats/stats.py:1466: UserWarning: For one or more samples the posterior variance of the log predictive densities exceeds 0.4. This could be indication of WAIC starting to fail. \n",
      "See http://arxiv.org/abs/1507.04544 for details\n",
      "  warnings.warn(\n",
      "/Users/blacar/opt/anaconda3/envs/stats_rethinking_min/lib/python3.8/site-packages/arviz/stats/stats.py:1466: UserWarning: For one or more samples the posterior variance of the log predictive densities exceeds 0.4. This could be indication of WAIC starting to fail. \n",
      "See http://arxiv.org/abs/1507.04544 for details\n",
      "  warnings.warn(\n"
     ]
    },
    {
     "data": {
      "text/html": [
       "<div>\n",
       "<style scoped>\n",
       "    .dataframe tbody tr th:only-of-type {\n",
       "        vertical-align: middle;\n",
       "    }\n",
       "\n",
       "    .dataframe tbody tr th {\n",
       "        vertical-align: top;\n",
       "    }\n",
       "\n",
       "    .dataframe thead th {\n",
       "        text-align: right;\n",
       "    }\n",
       "</style>\n",
       "<table border=\"1\" class=\"dataframe\">\n",
       "  <thead>\n",
       "    <tr style=\"text-align: right;\">\n",
       "      <th></th>\n",
       "      <th>rank</th>\n",
       "      <th>waic</th>\n",
       "      <th>p_waic</th>\n",
       "      <th>d_waic</th>\n",
       "      <th>weight</th>\n",
       "      <th>se</th>\n",
       "      <th>dse</th>\n",
       "      <th>warning</th>\n",
       "      <th>waic_scale</th>\n",
       "    </tr>\n",
       "  </thead>\n",
       "  <tbody>\n",
       "    <tr>\n",
       "      <th>trace_m1</th>\n",
       "      <td>0</td>\n",
       "      <td>322.835233</td>\n",
       "      <td>4.445843</td>\n",
       "      <td>0.000000</td>\n",
       "      <td>0.426590</td>\n",
       "      <td>15.432747</td>\n",
       "      <td>0.000000</td>\n",
       "      <td>True</td>\n",
       "      <td>deviance</td>\n",
       "    </tr>\n",
       "    <tr>\n",
       "      <th>trace_m2</th>\n",
       "      <td>1</td>\n",
       "      <td>323.527631</td>\n",
       "      <td>3.426055</td>\n",
       "      <td>0.692398</td>\n",
       "      <td>0.301758</td>\n",
       "      <td>15.260702</td>\n",
       "      <td>3.348358</td>\n",
       "      <td>False</td>\n",
       "      <td>deviance</td>\n",
       "    </tr>\n",
       "    <tr>\n",
       "      <th>trace_m3</th>\n",
       "      <td>2</td>\n",
       "      <td>323.767506</td>\n",
       "      <td>3.549287</td>\n",
       "      <td>0.932273</td>\n",
       "      <td>0.267652</td>\n",
       "      <td>15.059754</td>\n",
       "      <td>2.731694</td>\n",
       "      <td>True</td>\n",
       "      <td>deviance</td>\n",
       "    </tr>\n",
       "    <tr>\n",
       "      <th>trace_m4</th>\n",
       "      <td>3</td>\n",
       "      <td>333.459466</td>\n",
       "      <td>2.351284</td>\n",
       "      <td>10.624233</td>\n",
       "      <td>0.002104</td>\n",
       "      <td>13.307354</td>\n",
       "      <td>6.706350</td>\n",
       "      <td>False</td>\n",
       "      <td>deviance</td>\n",
       "    </tr>\n",
       "    <tr>\n",
       "      <th>trace_m5</th>\n",
       "      <td>4</td>\n",
       "      <td>333.666564</td>\n",
       "      <td>2.565375</td>\n",
       "      <td>10.831330</td>\n",
       "      <td>0.001897</td>\n",
       "      <td>13.302716</td>\n",
       "      <td>6.754878</td>\n",
       "      <td>False</td>\n",
       "      <td>deviance</td>\n",
       "    </tr>\n",
       "  </tbody>\n",
       "</table>\n",
       "</div>"
      ],
      "text/plain": [
       "          rank        waic    p_waic     d_waic    weight         se  \\\n",
       "trace_m1     0  322.835233  4.445843   0.000000  0.426590  15.432747   \n",
       "trace_m2     1  323.527631  3.426055   0.692398  0.301758  15.260702   \n",
       "trace_m3     2  323.767506  3.549287   0.932273  0.267652  15.059754   \n",
       "trace_m4     3  333.459466  2.351284  10.624233  0.002104  13.307354   \n",
       "trace_m5     4  333.666564  2.565375  10.831330  0.001897  13.302716   \n",
       "\n",
       "               dse  warning waic_scale  \n",
       "trace_m1  0.000000     True   deviance  \n",
       "trace_m2  3.348358    False   deviance  \n",
       "trace_m3  2.731694     True   deviance  \n",
       "trace_m4  6.706350    False   deviance  \n",
       "trace_m5  6.754878    False   deviance  "
      ]
     },
     "execution_count": 113,
     "metadata": {},
     "output_type": "execute_result"
    },
    {
     "data": {
      "application/javascript": [
       "\n",
       "            setTimeout(function() {\n",
       "                var nbb_cell_id = 113;\n",
       "                var nbb_unformatted_code = \"compare_df = az.compare(\\n    {\\n        \\\"trace_m1\\\": trace_m1,\\n        \\\"trace_m2\\\": trace_m2,\\n        \\\"trace_m3\\\": trace_m3,\\n        \\\"trace_m4\\\": trace_m4,\\n        \\\"trace_m5\\\": trace_m5,\\n    },\\n    method=\\\"pseudo-BMA\\\",\\n    ic=\\\"waic\\\",\\n    scale=\\\"deviance\\\",\\n)\\ncompare_df\";\n",
       "                var nbb_formatted_code = \"compare_df = az.compare(\\n    {\\n        \\\"trace_m1\\\": trace_m1,\\n        \\\"trace_m2\\\": trace_m2,\\n        \\\"trace_m3\\\": trace_m3,\\n        \\\"trace_m4\\\": trace_m4,\\n        \\\"trace_m5\\\": trace_m5,\\n    },\\n    method=\\\"pseudo-BMA\\\",\\n    ic=\\\"waic\\\",\\n    scale=\\\"deviance\\\",\\n)\\ncompare_df\";\n",
       "                var nbb_cells = Jupyter.notebook.get_cells();\n",
       "                for (var i = 0; i < nbb_cells.length; ++i) {\n",
       "                    if (nbb_cells[i].input_prompt_number == nbb_cell_id) {\n",
       "                        if (nbb_cells[i].get_text() == nbb_unformatted_code) {\n",
       "                             nbb_cells[i].set_text(nbb_formatted_code);\n",
       "                        }\n",
       "                        break;\n",
       "                    }\n",
       "                }\n",
       "            }, 500);\n",
       "            "
      ],
      "text/plain": [
       "<IPython.core.display.Javascript object>"
      ]
     },
     "metadata": {},
     "output_type": "display_data"
    }
   ],
   "source": [
    "compare_df = az.compare(\n",
    "    {\n",
    "        \"trace_m1\": trace_m1,\n",
    "        \"trace_m2\": trace_m2,\n",
    "        \"trace_m3\": trace_m3,\n",
    "        \"trace_m4\": trace_m4,\n",
    "        \"trace_m5\": trace_m5,\n",
    "    },\n",
    "    method=\"pseudo-BMA\",\n",
    "    ic=\"waic\",\n",
    "    scale=\"deviance\",\n",
    ")\n",
    "compare_df"
   ]
  },
  {
   "cell_type": "markdown",
   "id": "characteristic-terrorism",
   "metadata": {},
   "source": [
    "My interpretation of this starts with examining the model that has the lowest WAIC score, which is model 1, the one with the most predictors. But looking at all other WAIC scores, there is little absolute difference. The `dse` or standard error of the score differences gives more indication about how much better the first model is ompared to the others."
   ]
  },
  {
   "cell_type": "markdown",
   "id": "pediatric-deviation",
   "metadata": {},
   "source": [
    "## HW solution answer"
   ]
  },
  {
   "cell_type": "code",
   "execution_count": 1,
   "id": "sexual-brother",
   "metadata": {
    "ExecuteTime": {
     "end_time": "2021-04-27T15:56:48.805972Z",
     "start_time": "2021-04-27T15:56:48.107230Z"
    }
   },
   "outputs": [
    {
     "data": {
      "text/plain": [
       "<matplotlib.axes._axes.Axes at 0x7fa408c5d2b0>"
      ]
     },
     "execution_count": 1,
     "metadata": {},
     "output_type": "execute_result"
    },
    {
     "data": {
      "image/png": "[encoded data removed]",
      "text/plain": [
       "<Figure size 153.071x153.071 with 1 Axes>"
      ]
     },
     "metadata": {},
     "output_type": "display_data"
    }
   ],
   "source": [
    "import daft\n",
    "from causalgraphicalmodels import CausalGraphicalModel\n",
    "\n",
    "fox_dag = CausalGraphicalModel(\n",
    "    nodes=[\"area\", \"avgfood\", \"groupsize\", \"weight\"],\n",
    "    edges=[\n",
    "        (\"area\", \"avgfood\"),\n",
    "        (\"avgfood\", \"groupsize\"),\n",
    "        (\"avgfood\", \"weight\"),\n",
    "        (\"groupsize\", \"weight\"),\n",
    "    ],\n",
    ")\n",
    "pgm = daft.PGM()\n",
    "coordinates = {\n",
    "    \"area\": (1, 1),\n",
    "    \"avgfood\": (0, 0),\n",
    "    \"groupsize\": (2, 0),\n",
    "    \"weight\": (1, -1),\n",
    "}\n",
    "for node in fox_dag.dag.nodes:\n",
    "    pgm.add_node(node, node, *coordinates[node])\n",
    "for edge in fox_dag.dag.edges:\n",
    "    pgm.add_edge(*edge)\n",
    "pgm.render()\n",
    "# plt.gca().invert_yaxis()"
   ]
  },
  {
   "cell_type": "markdown",
   "id": "senior-keyboard",
   "metadata": {
    "ExecuteTime": {
     "end_time": "2021-04-27T15:57:27.181693Z",
     "start_time": "2021-04-27T15:57:27.178165Z"
    }
   },
   "source": [
    "See [causalgraphicalmodels repo](https://github.com/ijmbarr/causalgraphicalmodels/blob/master/notebooks/cgm-examples.ipynb) as well."
   ]
  },
  {
   "cell_type": "code",
   "execution_count": 3,
   "id": "essential-example",
   "metadata": {
    "ExecuteTime": {
     "end_time": "2021-04-27T15:57:50.996836Z",
     "start_time": "2021-04-27T15:57:50.994183Z"
    }
   },
   "outputs": [
    {
     "name": "stdout",
     "output_type": "stream",
     "text": [
      "P(area)P(avgfood|area)P(groupsize|avgfood)P(weight|avgfood,groupsize)\n"
     ]
    }
   ],
   "source": [
    "# get the distribution implied by the graph\n",
    "print(fox_dag.get_distribution())"
   ]
  },
  {
   "cell_type": "code",
   "execution_count": null,
   "id": "inclusive-photograph",
   "metadata": {},
   "outputs": [],
   "source": [
    "# check for d-seperation of two nodes\n",
    "# sprinkler.is_d_separated(\"slippery\", \"season\", {\"wet\"})"
   ]
  },
  {
   "cell_type": "code",
   "execution_count": 4,
   "id": "insured-edward",
   "metadata": {
    "ExecuteTime": {
     "end_time": "2021-04-27T15:58:41.603132Z",
     "start_time": "2021-04-27T15:58:41.598829Z"
    }
   },
   "outputs": [
    {
     "data": {
      "text/plain": [
       "[('groupsize', 'area', {'avgfood'}),\n",
       " ('groupsize', 'area', {'avgfood', 'weight'}),\n",
       " ('area', 'weight', {'avgfood'}),\n",
       " ('area', 'weight', {'avgfood', 'groupsize'})]"
      ]
     },
     "execution_count": 4,
     "metadata": {},
     "output_type": "execute_result"
    }
   ],
   "source": [
    "# get all the conditional independence relationships implied by a CGM\n",
    "fox_dag.get_all_independence_relationships()"
   ]
  },
  {
   "cell_type": "code",
   "execution_count": 5,
   "id": "partial-miller",
   "metadata": {
    "ExecuteTime": {
     "end_time": "2021-04-27T15:59:18.714374Z",
     "start_time": "2021-04-27T15:59:18.711093Z"
    }
   },
   "outputs": [
    {
     "data": {
      "text/plain": [
       "False"
      ]
     },
     "execution_count": 5,
     "metadata": {},
     "output_type": "execute_result"
    }
   ],
   "source": [
    "# check backdoor adjustment set\n",
    "fox_dag.is_valid_backdoor_adjustment_set(\"avgfood\", \"weight\", {\"groupsize\"})"
   ]
  },
  {
   "cell_type": "code",
   "execution_count": null,
   "id": "simple-peoples",
   "metadata": {},
   "outputs": [],
   "source": []
  },
  {
   "cell_type": "markdown",
   "id": "subsequent-memorial",
   "metadata": {},
   "source": [
    "> Notice that the top three models are m1, m3, and m2. They have very similar WAIC values. The differences are small and smaller in all cases than the standard error of the difference. WAIC sees these models are tied. This makes sense, given the DAG, because as long as a model has groupsize in it, we can include either avgfood or area or both and get the same inferences. Another way to think of this is that the influence of food, adjusting for group size, is (according to the DAG) the same as the influence of area, adjusting for group size, because the influence of area is routed entirely through food and group size. There are no backdoor paths.\n",
    "\n",
    "> What about the other two models, m4 and m5? These models are tied with one another, and both omit group size. Again, the influence of area passes entirely through food. So including only food or only area should produce the same inference—the total causal influence of area (or food) is just about zero. That’s indeed what the posterior distributions suggest:"
   ]
  },
  {
   "cell_type": "code",
   "execution_count": null,
   "id": "disturbed-accessory",
   "metadata": {},
   "outputs": [],
   "source": []
  },
  {
   "cell_type": "code",
   "execution_count": null,
   "id": "similar-spring",
   "metadata": {},
   "outputs": [],
   "source": []
  },
  {
   "cell_type": "code",
   "execution_count": 121,
   "id": "agreed-transition",
   "metadata": {
    "ExecuteTime": {
     "end_time": "2021-03-25T17:31:23.490547Z",
     "start_time": "2021-03-25T17:31:23.443685Z"
    }
   },
   "outputs": [
    {
     "data": {
      "text/html": [
       "<div>\n",
       "<style scoped>\n",
       "    .dataframe tbody tr th:only-of-type {\n",
       "        vertical-align: middle;\n",
       "    }\n",
       "\n",
       "    .dataframe tbody tr th {\n",
       "        vertical-align: top;\n",
       "    }\n",
       "\n",
       "    .dataframe thead th {\n",
       "        text-align: right;\n",
       "    }\n",
       "</style>\n",
       "<table border=\"1\" class=\"dataframe\">\n",
       "  <thead>\n",
       "    <tr style=\"text-align: right;\">\n",
       "      <th></th>\n",
       "      <th>mean</th>\n",
       "      <th>sd</th>\n",
       "      <th>hdi_5.5%</th>\n",
       "      <th>hdi_94.5%</th>\n",
       "      <th>mcse_mean</th>\n",
       "      <th>mcse_sd</th>\n",
       "      <th>ess_mean</th>\n",
       "      <th>ess_sd</th>\n",
       "      <th>ess_bulk</th>\n",
       "      <th>ess_tail</th>\n",
       "      <th>r_hat</th>\n",
       "    </tr>\n",
       "  </thead>\n",
       "  <tbody>\n",
       "    <tr>\n",
       "      <th>a</th>\n",
       "      <td>0.002</td>\n",
       "      <td>0.085</td>\n",
       "      <td>-0.138</td>\n",
       "      <td>0.132</td>\n",
       "      <td>0.001</td>\n",
       "      <td>0.001</td>\n",
       "      <td>5109.0</td>\n",
       "      <td>1895.0</td>\n",
       "      <td>5137.0</td>\n",
       "      <td>2947.0</td>\n",
       "      <td>1.0</td>\n",
       "    </tr>\n",
       "    <tr>\n",
       "      <th>b_avgfood</th>\n",
       "      <td>-0.023</td>\n",
       "      <td>0.096</td>\n",
       "      <td>-0.179</td>\n",
       "      <td>0.130</td>\n",
       "      <td>0.001</td>\n",
       "      <td>0.001</td>\n",
       "      <td>5462.0</td>\n",
       "      <td>2151.0</td>\n",
       "      <td>5461.0</td>\n",
       "      <td>2866.0</td>\n",
       "      <td>1.0</td>\n",
       "    </tr>\n",
       "    <tr>\n",
       "      <th>sigma</th>\n",
       "      <td>1.010</td>\n",
       "      <td>0.068</td>\n",
       "      <td>0.901</td>\n",
       "      <td>1.115</td>\n",
       "      <td>0.001</td>\n",
       "      <td>0.001</td>\n",
       "      <td>4746.0</td>\n",
       "      <td>4744.0</td>\n",
       "      <td>4691.0</td>\n",
       "      <td>2664.0</td>\n",
       "      <td>1.0</td>\n",
       "    </tr>\n",
       "  </tbody>\n",
       "</table>\n",
       "</div>"
      ],
      "text/plain": [
       "            mean     sd  hdi_5.5%  hdi_94.5%  mcse_mean  mcse_sd  ess_mean  \\\n",
       "a          0.002  0.085    -0.138      0.132      0.001    0.001    5109.0   \n",
       "b_avgfood -0.023  0.096    -0.179      0.130      0.001    0.001    5462.0   \n",
       "sigma      1.010  0.068     0.901      1.115      0.001    0.001    4746.0   \n",
       "\n",
       "           ess_sd  ess_bulk  ess_tail  r_hat  \n",
       "a          1895.0    5137.0    2947.0    1.0  \n",
       "b_avgfood  2151.0    5461.0    2866.0    1.0  \n",
       "sigma      4744.0    4691.0    2664.0    1.0  "
      ]
     },
     "execution_count": 121,
     "metadata": {},
     "output_type": "execute_result"
    },
    {
     "data": {
      "application/javascript": [
       "\n",
       "            setTimeout(function() {\n",
       "                var nbb_cell_id = 121;\n",
       "                var nbb_unformatted_code = \"az.summary(trace_m4)\";\n",
       "                var nbb_formatted_code = \"az.summary(trace_m4)\";\n",
       "                var nbb_cells = Jupyter.notebook.get_cells();\n",
       "                for (var i = 0; i < nbb_cells.length; ++i) {\n",
       "                    if (nbb_cells[i].input_prompt_number == nbb_cell_id) {\n",
       "                        if (nbb_cells[i].get_text() == nbb_unformatted_code) {\n",
       "                             nbb_cells[i].set_text(nbb_formatted_code);\n",
       "                        }\n",
       "                        break;\n",
       "                    }\n",
       "                }\n",
       "            }, 500);\n",
       "            "
      ],
      "text/plain": [
       "<IPython.core.display.Javascript object>"
      ]
     },
     "metadata": {},
     "output_type": "display_data"
    }
   ],
   "source": [
    "az.summary(trace_m4)"
   ]
  },
  {
   "cell_type": "code",
   "execution_count": 122,
   "id": "contained-system",
   "metadata": {
    "ExecuteTime": {
     "end_time": "2021-03-25T17:31:30.884075Z",
     "start_time": "2021-03-25T17:31:30.837798Z"
    }
   },
   "outputs": [
    {
     "data": {
      "text/html": [
       "<div>\n",
       "<style scoped>\n",
       "    .dataframe tbody tr th:only-of-type {\n",
       "        vertical-align: middle;\n",
       "    }\n",
       "\n",
       "    .dataframe tbody tr th {\n",
       "        vertical-align: top;\n",
       "    }\n",
       "\n",
       "    .dataframe thead th {\n",
       "        text-align: right;\n",
       "    }\n",
       "</style>\n",
       "<table border=\"1\" class=\"dataframe\">\n",
       "  <thead>\n",
       "    <tr style=\"text-align: right;\">\n",
       "      <th></th>\n",
       "      <th>mean</th>\n",
       "      <th>sd</th>\n",
       "      <th>hdi_5.5%</th>\n",
       "      <th>hdi_94.5%</th>\n",
       "      <th>mcse_mean</th>\n",
       "      <th>mcse_sd</th>\n",
       "      <th>ess_mean</th>\n",
       "      <th>ess_sd</th>\n",
       "      <th>ess_bulk</th>\n",
       "      <th>ess_tail</th>\n",
       "      <th>r_hat</th>\n",
       "    </tr>\n",
       "  </thead>\n",
       "  <tbody>\n",
       "    <tr>\n",
       "      <th>a</th>\n",
       "      <td>-0.001</td>\n",
       "      <td>0.085</td>\n",
       "      <td>-0.134</td>\n",
       "      <td>0.138</td>\n",
       "      <td>0.001</td>\n",
       "      <td>0.001</td>\n",
       "      <td>4672.0</td>\n",
       "      <td>1945.0</td>\n",
       "      <td>4678.0</td>\n",
       "      <td>2680.0</td>\n",
       "      <td>1.0</td>\n",
       "    </tr>\n",
       "    <tr>\n",
       "      <th>b_area</th>\n",
       "      <td>0.020</td>\n",
       "      <td>0.096</td>\n",
       "      <td>-0.131</td>\n",
       "      <td>0.172</td>\n",
       "      <td>0.001</td>\n",
       "      <td>0.002</td>\n",
       "      <td>5028.0</td>\n",
       "      <td>1690.0</td>\n",
       "      <td>5027.0</td>\n",
       "      <td>2716.0</td>\n",
       "      <td>1.0</td>\n",
       "    </tr>\n",
       "    <tr>\n",
       "      <th>sigma</th>\n",
       "      <td>1.009</td>\n",
       "      <td>0.067</td>\n",
       "      <td>0.901</td>\n",
       "      <td>1.111</td>\n",
       "      <td>0.001</td>\n",
       "      <td>0.001</td>\n",
       "      <td>5496.0</td>\n",
       "      <td>5496.0</td>\n",
       "      <td>5350.0</td>\n",
       "      <td>2971.0</td>\n",
       "      <td>1.0</td>\n",
       "    </tr>\n",
       "  </tbody>\n",
       "</table>\n",
       "</div>"
      ],
      "text/plain": [
       "         mean     sd  hdi_5.5%  hdi_94.5%  mcse_mean  mcse_sd  ess_mean  \\\n",
       "a      -0.001  0.085    -0.134      0.138      0.001    0.001    4672.0   \n",
       "b_area  0.020  0.096    -0.131      0.172      0.001    0.002    5028.0   \n",
       "sigma   1.009  0.067     0.901      1.111      0.001    0.001    5496.0   \n",
       "\n",
       "        ess_sd  ess_bulk  ess_tail  r_hat  \n",
       "a       1945.0    4678.0    2680.0    1.0  \n",
       "b_area  1690.0    5027.0    2716.0    1.0  \n",
       "sigma   5496.0    5350.0    2971.0    1.0  "
      ]
     },
     "execution_count": 122,
     "metadata": {},
     "output_type": "execute_result"
    },
    {
     "data": {
      "application/javascript": [
       "\n",
       "            setTimeout(function() {\n",
       "                var nbb_cell_id = 122;\n",
       "                var nbb_unformatted_code = \"az.summary(trace_m5)\";\n",
       "                var nbb_formatted_code = \"az.summary(trace_m5)\";\n",
       "                var nbb_cells = Jupyter.notebook.get_cells();\n",
       "                for (var i = 0; i < nbb_cells.length; ++i) {\n",
       "                    if (nbb_cells[i].input_prompt_number == nbb_cell_id) {\n",
       "                        if (nbb_cells[i].get_text() == nbb_unformatted_code) {\n",
       "                             nbb_cells[i].set_text(nbb_formatted_code);\n",
       "                        }\n",
       "                        break;\n",
       "                    }\n",
       "                }\n",
       "            }, 500);\n",
       "            "
      ],
      "text/plain": [
       "<IPython.core.display.Javascript object>"
      ]
     },
     "metadata": {},
     "output_type": "display_data"
    }
   ],
   "source": [
    "az.summary(trace_m5)"
   ]
  },
  {
   "cell_type": "markdown",
   "id": "instant-absolute",
   "metadata": {},
   "source": [
    "The important thing from my perspective is understanding what features can be redundant since some features \"pass through\"other features.\n"
   ]
  },
  {
   "cell_type": "markdown",
   "id": "clinical-street",
   "metadata": {},
   "source": [
    "Appendix: Environment and system parameters"
   ]
  },
  {
   "cell_type": "code",
   "execution_count": 25,
   "id": "piano-oriental",
   "metadata": {
    "ExecuteTime": {
     "end_time": "2021-03-13T20:40:49.038119Z",
     "start_time": "2021-03-13T20:40:49.017535Z"
    }
   },
   "outputs": [
    {
     "name": "stdout",
     "output_type": "stream",
     "text": [
      "Last updated: Sat Mar 13 2021\n",
      "\n",
      "Python implementation: CPython\n",
      "Python version       : 3.8.6\n",
      "IPython version      : 7.20.0\n",
      "\n",
      "numpy     : 1.20.1\n",
      "seaborn   : 0.11.1\n",
      "arviz     : 0.11.1\n",
      "matplotlib: 3.3.4\n",
      "daft      : 0.1.0\n",
      "scipy     : 1.6.0\n",
      "json      : 2.0.9\n",
      "pymc3     : 3.11.0\n",
      "pandas    : 1.2.1\n",
      "\n",
      "Watermark: 2.1.0\n",
      "\n"
     ]
    },
    {
     "data": {
      "application/javascript": [
       "\n",
       "            setTimeout(function() {\n",
       "                var nbb_cell_id = 25;\n",
       "                var nbb_unformatted_code = \"%watermark -n -u -v -iv -w\";\n",
       "                var nbb_formatted_code = \"%watermark -n -u -v -iv -w\";\n",
       "                var nbb_cells = Jupyter.notebook.get_cells();\n",
       "                for (var i = 0; i < nbb_cells.length; ++i) {\n",
       "                    if (nbb_cells[i].input_prompt_number == nbb_cell_id) {\n",
       "                        if (nbb_cells[i].get_text() == nbb_unformatted_code) {\n",
       "                             nbb_cells[i].set_text(nbb_formatted_code);\n",
       "                        }\n",
       "                        break;\n",
       "                    }\n",
       "                }\n",
       "            }, 500);\n",
       "            "
      ],
      "text/plain": [
       "<IPython.core.display.Javascript object>"
      ]
     },
     "metadata": {},
     "output_type": "display_data"
    }
   ],
   "source": [
    "%watermark -n -u -v -iv -w"
   ]
  },
  {
   "cell_type": "code",
   "execution_count": 26,
   "id": "opponent-lewis",
   "metadata": {
    "ExecuteTime": {
     "end_time": "2021-03-13T20:40:51.663546Z",
     "start_time": "2021-03-13T20:40:50.324427Z"
    }
   },
   "outputs": [
    {
     "name": "stdout",
     "output_type": "stream",
     "text": [
      "# Name                    Version                   Build  Channel\n",
      "arviz                     0.11.1                   pypi_0    pypi\n",
      "daft                      0.1.0                    pypi_0    pypi\n",
      "matplotlib                3.3.4                    pypi_0    pypi\n",
      "numpy                     1.20.1                   pypi_0    pypi\n",
      "pandas                    1.2.1                    pypi_0    pypi\n",
      "pymc3                     3.11.0                   pypi_0    pypi\n",
      "scipy                     1.6.0                    pypi_0    pypi\n",
      "seaborn                   0.11.1                   pypi_0    pypi\n"
     ]
    },
    {
     "data": {
      "application/javascript": [
       "\n",
       "            setTimeout(function() {\n",
       "                var nbb_cell_id = 26;\n",
       "                var nbb_unformatted_code = \"# Custom scripts to show packages and versions in this notebook\\ndef imports():\\n    import types\\n\\n    for name, val in globals().items():\\n        if isinstance(val, types.ModuleType):\\n            yield val.__name__\\n\\n\\nimported_packages = list(imports())\\n\\nfrom active_pkg import show_pkg_vers_in_nb\\n\\nshow_pkg_vers_in_nb(imported_packages)\";\n",
       "                var nbb_formatted_code = \"# Custom scripts to show packages and versions in this notebook\\ndef imports():\\n    import types\\n\\n    for name, val in globals().items():\\n        if isinstance(val, types.ModuleType):\\n            yield val.__name__\\n\\n\\nimported_packages = list(imports())\\n\\nfrom active_pkg import show_pkg_vers_in_nb\\n\\nshow_pkg_vers_in_nb(imported_packages)\";\n",
       "                var nbb_cells = Jupyter.notebook.get_cells();\n",
       "                for (var i = 0; i < nbb_cells.length; ++i) {\n",
       "                    if (nbb_cells[i].input_prompt_number == nbb_cell_id) {\n",
       "                        if (nbb_cells[i].get_text() == nbb_unformatted_code) {\n",
       "                             nbb_cells[i].set_text(nbb_formatted_code);\n",
       "                        }\n",
       "                        break;\n",
       "                    }\n",
       "                }\n",
       "            }, 500);\n",
       "            "
      ],
      "text/plain": [
       "<IPython.core.display.Javascript object>"
      ]
     },
     "metadata": {},
     "output_type": "display_data"
    }
   ],
   "source": [
    "# Custom scripts to show packages and versions in this notebook\n",
    "def imports():\n",
    "    import types\n",
    "\n",
    "    for name, val in globals().items():\n",
    "        if isinstance(val, types.ModuleType):\n",
    "            yield val.__name__\n",
    "\n",
    "\n",
    "imported_packages = list(imports())\n",
    "\n",
    "from active_pkg import show_pkg_vers_in_nb\n",
    "\n",
    "show_pkg_vers_in_nb(imported_packages)"
   ]
  },
  {
   "cell_type": "code",
   "execution_count": null,
   "id": "fifty-diagram",
   "metadata": {},
   "outputs": [],
   "source": []
  }
 ],
 "metadata": {
  "kernelspec": {
   "display_name": "Python 3",
   "language": "python",
   "name": "python3"
  },
  "language_info": {
   "codemirror_mode": {
    "name": "ipython",
    "version": 3
   },
   "file_extension": ".py",
   "mimetype": "text/x-python",
   "name": "python",
   "nbconvert_exporter": "python",
   "pygments_lexer": "ipython3",
   "version": "3.8.6"
  },
  "latex_envs": {
   "LaTeX_envs_menu_present": true,
   "autoclose": false,
   "autocomplete": true,
   "bibliofile": "biblio.bib",
   "cite_by": "apalike",
   "current_citInitial": 1,
   "eqLabelWithNumbers": true,
   "eqNumInitial": 1,
   "hotkeys": {
    "equation": "Ctrl-E",
    "itemize": "Ctrl-I"
   },
   "labels_anchors": false,
   "latex_user_defs": false,
   "report_style_numbering": false,
   "user_envs_cfg": false
  },
  "toc": {
   "base_numbering": 1,
   "nav_menu": {},
   "number_sections": true,
   "sideBar": true,
   "skip_h1_title": false,
   "title_cell": "Table of Contents",
   "title_sidebar": "Contents",
   "toc_cell": false,
   "toc_position": {
    "height": "calc(100% - 180px)",
    "left": "10px",
    "top": "150px",
    "width": "280.4px"
   },
   "toc_section_display": true,
   "toc_window_display": true
  },
  "varInspector": {
   "cols": {
    "lenName": 16,
    "lenType": 16,
    "lenVar": 40
   },
   "kernels_config": {
    "python": {
     "delete_cmd_postfix": "",
     "delete_cmd_prefix": "del ",
     "library": "var_list.py",
     "varRefreshCmd": "print(var_dic_list())"
    },
    "r": {
     "delete_cmd_postfix": ") ",
     "delete_cmd_prefix": "rm(",
     "library": "var_list.r",
     "varRefreshCmd": "cat(var_dic_list()) "
    }
   },
   "types_to_exclude": [
    "module",
    "function",
    "builtin_function_or_method",
    "instance",
    "_Feature"
   ],
   "window_display": false
  }
 },
 "nbformat": 4,
 "nbformat_minor": 5
}
