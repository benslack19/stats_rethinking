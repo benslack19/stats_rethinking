{
 "cells": [
  {
   "cell_type": "markdown",
   "id": "metallic-weekend",
   "metadata": {},
   "source": [
    "The purpose of this notebook is to do the Statistical Rethinking [homework](https://github.com/rmcelreath/stat_rethinking_2020/tree/main/homework) using Python. (I will do the winter 2020 assignments but lectures from 2019 seem to still be okay.) Given the Bayesian preference of the course, it will be helpful for me to use my prior experience with Bayesian stats as a jumping off point. I wrote a series of blog posts starting with [this one](https://benslack19.github.io/data%20science/statistics/a-bertrands-box/). However, a public repo has been created [here](https://github.com/pymc-devs/resources/tree/master/Rethinking_2) that also uses Python. It will helpful for me to do these exercises myself, but that repo will serve as a helpful reference. Seeing the packages used in that repo is already helpful. Based on looking at package repos and [this post](https://towardsdatascience.com/hands-on-bayesian-statistics-with-python-pymc3-arviz-499db9a59501), I will start learning `arviz` and `pymc3`.\n",
    "\n",
    "This notebook will be for the Week 2 homework."
   ]
  },
  {
   "cell_type": "code",
   "execution_count": 1,
   "id": "overall-samba",
   "metadata": {
    "ExecuteTime": {
     "end_time": "2021-03-01T15:55:04.631503Z",
     "start_time": "2021-03-01T15:55:02.038609Z"
    }
   },
   "outputs": [],
   "source": [
    "import arviz as az\n",
    "import matplotlib.pyplot as plt\n",
    "import numpy as np\n",
    "import os\n",
    "import pandas as pd\n",
    "import pymc3 as pm\n",
    "import scipy.stats as stats\n",
    "import seaborn as sns"
   ]
  },
  {
   "cell_type": "code",
   "execution_count": 2,
   "id": "legal-attitude",
   "metadata": {
    "ExecuteTime": {
     "end_time": "2021-03-01T15:55:05.584815Z",
     "start_time": "2021-03-01T15:55:05.436131Z"
    }
   },
   "outputs": [
    {
     "data": {
      "application/javascript": [
       "\n",
       "            setTimeout(function() {\n",
       "                var nbb_cell_id = 2;\n",
       "                var nbb_unformatted_code = \"%load_ext nb_black\\n%config InlineBackend.figure_format = 'retina'\\n%load_ext watermark\\nRANDOM_SEED = 8927\\nnp.random.seed(RANDOM_SEED)\\naz.style.use(\\\"arviz-darkgrid\\\")\";\n",
       "                var nbb_formatted_code = \"%load_ext nb_black\\n%config InlineBackend.figure_format = 'retina'\\n%load_ext watermark\\nRANDOM_SEED = 8927\\nnp.random.seed(RANDOM_SEED)\\naz.style.use(\\\"arviz-darkgrid\\\")\";\n",
       "                var nbb_cells = Jupyter.notebook.get_cells();\n",
       "                for (var i = 0; i < nbb_cells.length; ++i) {\n",
       "                    if (nbb_cells[i].input_prompt_number == nbb_cell_id) {\n",
       "                        if (nbb_cells[i].get_text() == nbb_unformatted_code) {\n",
       "                             nbb_cells[i].set_text(nbb_formatted_code);\n",
       "                        }\n",
       "                        break;\n",
       "                    }\n",
       "                }\n",
       "            }, 500);\n",
       "            "
      ],
      "text/plain": [
       "<IPython.core.display.Javascript object>"
      ]
     },
     "metadata": {},
     "output_type": "display_data"
    }
   ],
   "source": [
    "%load_ext nb_black\n",
    "%config InlineBackend.figure_format = 'retina'\n",
    "%load_ext watermark\n",
    "RANDOM_SEED = 8927\n",
    "np.random.seed(RANDOM_SEED)\n",
    "az.style.use(\"arviz-darkgrid\")"
   ]
  },
  {
   "cell_type": "markdown",
   "id": "acute-sudan",
   "metadata": {},
   "source": [
    "# Question 1\n",
    "\n",
    "**The weights listed below were recorded in the !Kung census, but heights were not recorded for these individuals. Provide predicted heights and 89% compatibility intervals for each of these individuals. That is, fill in the table below, using model-based predictions.**\n",
    "\n",
    "| Individual | weight | expected height | 89% interval |\n",
    "| ------ | ------ | -------- | ---------- |\n",
    "| 1|  45  |  |\n",
    "| 2 | 40 |  |  |\n",
    "| 3 | 65 | |  |\n",
    "|4  | 31  |  |  |"
   ]
  },
  {
   "cell_type": "markdown",
   "id": "manual-acrylic",
   "metadata": {},
   "source": [
    "## Setting up the variables, producing model and trace object"
   ]
  },
  {
   "cell_type": "markdown",
   "id": "greenhouse-ethernet",
   "metadata": {},
   "source": [
    "First, I'll need to generate the posterior distribution from the entire dataset. I'll define the variables:\n",
    "\n",
    "$\\text{height}_i$ ~ Normal($\\mu_i, \\sigma$)\n",
    "<br>\n",
    "$\\mu_i = \\alpha + \\beta(x_i  - \\bar{x})$\n",
    "<br>\n",
    "$\\alpha$ ~ $\\text{Normal}(178, 20)$\n",
    "<br>\n",
    "$\\beta$ ~ $\\text{Log-Normal}(0, 1)$\n",
    "<br>\n",
    "$\\sigma$ ~ $\\text{Uniform}(0, 50)$\n",
    "\n",
    "Important things to note:\n",
    "- Whether the subscript *i* is there for a given variable matters. We'll come back to this later.\n",
    "- The tilde versus the equals sign matters. The former represents a stochastic relationship while the latter is deterministic.\n",
    "- I used a prior for beta that will have a sensical relationship, such as being all positive. One way to accomplish this is to use lognormal.\n",
    "\n"
   ]
  },
  {
   "cell_type": "code",
   "execution_count": 3,
   "id": "pharmaceutical-gateway",
   "metadata": {
    "ExecuteTime": {
     "end_time": "2021-03-01T15:55:30.186497Z",
     "start_time": "2021-03-01T15:55:30.165694Z"
    }
   },
   "outputs": [
    {
     "data": {
      "text/html": [
       "<div>\n",
       "<style scoped>\n",
       "    .dataframe tbody tr th:only-of-type {\n",
       "        vertical-align: middle;\n",
       "    }\n",
       "\n",
       "    .dataframe tbody tr th {\n",
       "        vertical-align: top;\n",
       "    }\n",
       "\n",
       "    .dataframe thead th {\n",
       "        text-align: right;\n",
       "    }\n",
       "</style>\n",
       "<table border=\"1\" class=\"dataframe\">\n",
       "  <thead>\n",
       "    <tr style=\"text-align: right;\">\n",
       "      <th></th>\n",
       "      <th>height</th>\n",
       "      <th>weight</th>\n",
       "      <th>age</th>\n",
       "      <th>male</th>\n",
       "    </tr>\n",
       "  </thead>\n",
       "  <tbody>\n",
       "    <tr>\n",
       "      <th>0</th>\n",
       "      <td>151.765</td>\n",
       "      <td>47.825606</td>\n",
       "      <td>63.0</td>\n",
       "      <td>1</td>\n",
       "    </tr>\n",
       "    <tr>\n",
       "      <th>1</th>\n",
       "      <td>139.700</td>\n",
       "      <td>36.485807</td>\n",
       "      <td>63.0</td>\n",
       "      <td>0</td>\n",
       "    </tr>\n",
       "    <tr>\n",
       "      <th>2</th>\n",
       "      <td>136.525</td>\n",
       "      <td>31.864838</td>\n",
       "      <td>65.0</td>\n",
       "      <td>0</td>\n",
       "    </tr>\n",
       "    <tr>\n",
       "      <th>3</th>\n",
       "      <td>156.845</td>\n",
       "      <td>53.041914</td>\n",
       "      <td>41.0</td>\n",
       "      <td>1</td>\n",
       "    </tr>\n",
       "    <tr>\n",
       "      <th>4</th>\n",
       "      <td>145.415</td>\n",
       "      <td>41.276872</td>\n",
       "      <td>51.0</td>\n",
       "      <td>0</td>\n",
       "    </tr>\n",
       "  </tbody>\n",
       "</table>\n",
       "</div>"
      ],
      "text/plain": [
       "    height     weight   age  male\n",
       "0  151.765  47.825606  63.0     1\n",
       "1  139.700  36.485807  63.0     0\n",
       "2  136.525  31.864838  65.0     0\n",
       "3  156.845  53.041914  41.0     1\n",
       "4  145.415  41.276872  51.0     0"
      ]
     },
     "execution_count": 3,
     "metadata": {},
     "output_type": "execute_result"
    },
    {
     "data": {
      "application/javascript": [
       "\n",
       "            setTimeout(function() {\n",
       "                var nbb_cell_id = 3;\n",
       "                var nbb_unformatted_code = \"d = pd.read_csv(\\\"../data/a_input/Howell1.csv\\\", sep=\\\";\\\", header=0)\\nd2 = d[d.age >= 18]  # filter to get only adults\\n\\nd2.head()\";\n",
       "                var nbb_formatted_code = \"d = pd.read_csv(\\\"../data/a_input/Howell1.csv\\\", sep=\\\";\\\", header=0)\\nd2 = d[d.age >= 18]  # filter to get only adults\\n\\nd2.head()\";\n",
       "                var nbb_cells = Jupyter.notebook.get_cells();\n",
       "                for (var i = 0; i < nbb_cells.length; ++i) {\n",
       "                    if (nbb_cells[i].input_prompt_number == nbb_cell_id) {\n",
       "                        if (nbb_cells[i].get_text() == nbb_unformatted_code) {\n",
       "                             nbb_cells[i].set_text(nbb_formatted_code);\n",
       "                        }\n",
       "                        break;\n",
       "                    }\n",
       "                }\n",
       "            }, 500);\n",
       "            "
      ],
      "text/plain": [
       "<IPython.core.display.Javascript object>"
      ]
     },
     "metadata": {},
     "output_type": "display_data"
    }
   ],
   "source": [
    "d = pd.read_csv(\"../data/a_input/Howell1.csv\", sep=\";\", header=0)\n",
    "d2 = d[d.age >= 18]  # filter to get only adults\n",
    "\n",
    "d2.head()"
   ]
  },
  {
   "cell_type": "code",
   "execution_count": 4,
   "id": "young-argentina",
   "metadata": {
    "ExecuteTime": {
     "end_time": "2021-03-01T15:55:31.608637Z",
     "start_time": "2021-03-01T15:55:31.604564Z"
    }
   },
   "outputs": [
    {
     "data": {
      "application/javascript": [
       "\n",
       "            setTimeout(function() {\n",
       "                var nbb_cell_id = 4;\n",
       "                var nbb_unformatted_code = \"# Get the average weight as part of the model definition\\nxbar = d2.weight.mean()\";\n",
       "                var nbb_formatted_code = \"# Get the average weight as part of the model definition\\nxbar = d2.weight.mean()\";\n",
       "                var nbb_cells = Jupyter.notebook.get_cells();\n",
       "                for (var i = 0; i < nbb_cells.length; ++i) {\n",
       "                    if (nbb_cells[i].input_prompt_number == nbb_cell_id) {\n",
       "                        if (nbb_cells[i].get_text() == nbb_unformatted_code) {\n",
       "                             nbb_cells[i].set_text(nbb_formatted_code);\n",
       "                        }\n",
       "                        break;\n",
       "                    }\n",
       "                }\n",
       "            }, 500);\n",
       "            "
      ],
      "text/plain": [
       "<IPython.core.display.Javascript object>"
      ]
     },
     "metadata": {},
     "output_type": "display_data"
    }
   ],
   "source": [
    "# Get the average weight as part of the model definition\n",
    "xbar = d2.weight.mean()"
   ]
  },
  {
   "cell_type": "code",
   "execution_count": 5,
   "id": "informal-appearance",
   "metadata": {
    "ExecuteTime": {
     "end_time": "2021-03-01T15:55:34.761545Z",
     "start_time": "2021-03-01T15:55:33.915644Z"
    }
   },
   "outputs": [
    {
     "name": "stdout",
     "output_type": "stream",
     "text": [
      "\n",
      "You can find the C code in this temporary file: /var/folders/tw/b9j0wcdj6_9cyljwt364lx7c0000gn/T/theano_compilation_error_l6qa0kvw\n"
     ]
    },
    {
     "ename": "Exception",
     "evalue": "(\"Compilation failed (return status=1): In file included from /Users/blacar/.theano/compiledir_macOS-10.15.7-x86_64-i386-64bit-i386-3.8.6-64/tmpg977r51z/mod.cpp:1:. In file included from /Users/blacar/opt/anaconda3/envs/stats_rethinking/include/python3.8/Python.h:25:. /Users/blacar/opt/anaconda3/bin/../include/c++/v1/stdio.h:107:15: fatal error: 'stdio.h' file not found. #include_next <stdio.h>.               ^~~~~~~~~. 1 error generated.. \", 'FunctionGraph(Elemwise{true_div,no_inplace}(TensorConstant{1.0}, TensorConstant{0.0025}))')",
     "output_type": "error",
     "traceback": [
      "\u001b[0;31m---------------------------------------------------------------------------\u001b[0m",
      "\u001b[0;31mException\u001b[0m                                 Traceback (most recent call last)",
      "\u001b[0;32m<ipython-input-5-8f27014810e9>\u001b[0m in \u001b[0;36m<module>\u001b[0;34m\u001b[0m\n\u001b[1;32m      3\u001b[0m     \u001b[0;31m# Priors are variables a, b, sigma\u001b[0m\u001b[0;34m\u001b[0m\u001b[0;34m\u001b[0m\u001b[0;34m\u001b[0m\u001b[0m\n\u001b[1;32m      4\u001b[0m     \u001b[0;31m# using pm.Normal is a way to represent the stochastic relationship the left has to right side of equation\u001b[0m\u001b[0;34m\u001b[0m\u001b[0;34m\u001b[0m\u001b[0;34m\u001b[0m\u001b[0m\n\u001b[0;32m----> 5\u001b[0;31m     \u001b[0ma\u001b[0m \u001b[0;34m=\u001b[0m \u001b[0mpm\u001b[0m\u001b[0;34m.\u001b[0m\u001b[0mNormal\u001b[0m\u001b[0;34m(\u001b[0m\u001b[0;34m\"a\"\u001b[0m\u001b[0;34m,\u001b[0m \u001b[0mmu\u001b[0m\u001b[0;34m=\u001b[0m\u001b[0;36m178\u001b[0m\u001b[0;34m,\u001b[0m \u001b[0msd\u001b[0m\u001b[0;34m=\u001b[0m\u001b[0;36m20\u001b[0m\u001b[0;34m)\u001b[0m\u001b[0;34m\u001b[0m\u001b[0;34m\u001b[0m\u001b[0m\n\u001b[0m\u001b[1;32m      6\u001b[0m     \u001b[0mb\u001b[0m \u001b[0;34m=\u001b[0m \u001b[0mpm\u001b[0m\u001b[0;34m.\u001b[0m\u001b[0mLognormal\u001b[0m\u001b[0;34m(\u001b[0m\u001b[0;34m\"b\"\u001b[0m\u001b[0;34m,\u001b[0m \u001b[0mmu\u001b[0m\u001b[0;34m=\u001b[0m\u001b[0;36m0\u001b[0m\u001b[0;34m,\u001b[0m \u001b[0msd\u001b[0m\u001b[0;34m=\u001b[0m\u001b[0;36m1\u001b[0m\u001b[0;34m)\u001b[0m\u001b[0;34m\u001b[0m\u001b[0;34m\u001b[0m\u001b[0m\n\u001b[1;32m      7\u001b[0m     \u001b[0msigma\u001b[0m \u001b[0;34m=\u001b[0m \u001b[0mpm\u001b[0m\u001b[0;34m.\u001b[0m\u001b[0mUniform\u001b[0m\u001b[0;34m(\u001b[0m\u001b[0;34m\"sigma\"\u001b[0m\u001b[0;34m,\u001b[0m \u001b[0;36m0\u001b[0m\u001b[0;34m,\u001b[0m \u001b[0;36m50\u001b[0m\u001b[0;34m)\u001b[0m\u001b[0;34m\u001b[0m\u001b[0;34m\u001b[0m\u001b[0m\n",
      "\u001b[0;32m~/opt/anaconda3/envs/stats_rethinking/lib/python3.8/site-packages/pymc3/distributions/distribution.py\u001b[0m in \u001b[0;36m__new__\u001b[0;34m(cls, name, *args, **kwargs)\u001b[0m\n\u001b[1;32m    119\u001b[0m             \u001b[0mdist\u001b[0m \u001b[0;34m=\u001b[0m \u001b[0mcls\u001b[0m\u001b[0;34m.\u001b[0m\u001b[0mdist\u001b[0m\u001b[0;34m(\u001b[0m\u001b[0;34m*\u001b[0m\u001b[0margs\u001b[0m\u001b[0;34m,\u001b[0m \u001b[0;34m**\u001b[0m\u001b[0mkwargs\u001b[0m\u001b[0;34m,\u001b[0m \u001b[0mshape\u001b[0m\u001b[0;34m=\u001b[0m\u001b[0mshape\u001b[0m\u001b[0;34m)\u001b[0m\u001b[0;34m\u001b[0m\u001b[0;34m\u001b[0m\u001b[0m\n\u001b[1;32m    120\u001b[0m         \u001b[0;32melse\u001b[0m\u001b[0;34m:\u001b[0m\u001b[0;34m\u001b[0m\u001b[0;34m\u001b[0m\u001b[0m\n\u001b[0;32m--> 121\u001b[0;31m             \u001b[0mdist\u001b[0m \u001b[0;34m=\u001b[0m \u001b[0mcls\u001b[0m\u001b[0;34m.\u001b[0m\u001b[0mdist\u001b[0m\u001b[0;34m(\u001b[0m\u001b[0;34m*\u001b[0m\u001b[0margs\u001b[0m\u001b[0;34m,\u001b[0m \u001b[0;34m**\u001b[0m\u001b[0mkwargs\u001b[0m\u001b[0;34m)\u001b[0m\u001b[0;34m\u001b[0m\u001b[0;34m\u001b[0m\u001b[0m\n\u001b[0m\u001b[1;32m    122\u001b[0m         \u001b[0;32mreturn\u001b[0m \u001b[0mmodel\u001b[0m\u001b[0;34m.\u001b[0m\u001b[0mVar\u001b[0m\u001b[0;34m(\u001b[0m\u001b[0mname\u001b[0m\u001b[0;34m,\u001b[0m \u001b[0mdist\u001b[0m\u001b[0;34m,\u001b[0m \u001b[0mdata\u001b[0m\u001b[0;34m,\u001b[0m \u001b[0mtotal_size\u001b[0m\u001b[0;34m,\u001b[0m \u001b[0mdims\u001b[0m\u001b[0;34m=\u001b[0m\u001b[0mdims\u001b[0m\u001b[0;34m)\u001b[0m\u001b[0;34m\u001b[0m\u001b[0;34m\u001b[0m\u001b[0m\n\u001b[1;32m    123\u001b[0m \u001b[0;34m\u001b[0m\u001b[0m\n",
      "\u001b[0;32m~/opt/anaconda3/envs/stats_rethinking/lib/python3.8/site-packages/pymc3/distributions/distribution.py\u001b[0m in \u001b[0;36mdist\u001b[0;34m(cls, *args, **kwargs)\u001b[0m\n\u001b[1;32m    128\u001b[0m     \u001b[0;32mdef\u001b[0m \u001b[0mdist\u001b[0m\u001b[0;34m(\u001b[0m\u001b[0mcls\u001b[0m\u001b[0;34m,\u001b[0m \u001b[0;34m*\u001b[0m\u001b[0margs\u001b[0m\u001b[0;34m,\u001b[0m \u001b[0;34m**\u001b[0m\u001b[0mkwargs\u001b[0m\u001b[0;34m)\u001b[0m\u001b[0;34m:\u001b[0m\u001b[0;34m\u001b[0m\u001b[0;34m\u001b[0m\u001b[0m\n\u001b[1;32m    129\u001b[0m         \u001b[0mdist\u001b[0m \u001b[0;34m=\u001b[0m \u001b[0mobject\u001b[0m\u001b[0;34m.\u001b[0m\u001b[0m__new__\u001b[0m\u001b[0;34m(\u001b[0m\u001b[0mcls\u001b[0m\u001b[0;34m)\u001b[0m\u001b[0;34m\u001b[0m\u001b[0;34m\u001b[0m\u001b[0m\n\u001b[0;32m--> 130\u001b[0;31m         \u001b[0mdist\u001b[0m\u001b[0;34m.\u001b[0m\u001b[0m__init__\u001b[0m\u001b[0;34m(\u001b[0m\u001b[0;34m*\u001b[0m\u001b[0margs\u001b[0m\u001b[0;34m,\u001b[0m \u001b[0;34m**\u001b[0m\u001b[0mkwargs\u001b[0m\u001b[0;34m)\u001b[0m\u001b[0;34m\u001b[0m\u001b[0;34m\u001b[0m\u001b[0m\n\u001b[0m\u001b[1;32m    131\u001b[0m         \u001b[0;32mreturn\u001b[0m \u001b[0mdist\u001b[0m\u001b[0;34m\u001b[0m\u001b[0;34m\u001b[0m\u001b[0m\n\u001b[1;32m    132\u001b[0m \u001b[0;34m\u001b[0m\u001b[0m\n",
      "\u001b[0;32m~/opt/anaconda3/envs/stats_rethinking/lib/python3.8/site-packages/pymc3/distributions/continuous.py\u001b[0m in \u001b[0;36m__init__\u001b[0;34m(self, mu, sigma, tau, sd, **kwargs)\u001b[0m\n\u001b[1;32m    487\u001b[0m \u001b[0;34m\u001b[0m\u001b[0m\n\u001b[1;32m    488\u001b[0m         \u001b[0mself\u001b[0m\u001b[0;34m.\u001b[0m\u001b[0mmean\u001b[0m \u001b[0;34m=\u001b[0m \u001b[0mself\u001b[0m\u001b[0;34m.\u001b[0m\u001b[0mmedian\u001b[0m \u001b[0;34m=\u001b[0m \u001b[0mself\u001b[0m\u001b[0;34m.\u001b[0m\u001b[0mmode\u001b[0m \u001b[0;34m=\u001b[0m \u001b[0mself\u001b[0m\u001b[0;34m.\u001b[0m\u001b[0mmu\u001b[0m \u001b[0;34m=\u001b[0m \u001b[0mmu\u001b[0m \u001b[0;34m=\u001b[0m \u001b[0mtt\u001b[0m\u001b[0;34m.\u001b[0m\u001b[0mas_tensor_variable\u001b[0m\u001b[0;34m(\u001b[0m\u001b[0mfloatX\u001b[0m\u001b[0;34m(\u001b[0m\u001b[0mmu\u001b[0m\u001b[0;34m)\u001b[0m\u001b[0;34m)\u001b[0m\u001b[0;34m\u001b[0m\u001b[0;34m\u001b[0m\u001b[0m\n\u001b[0;32m--> 489\u001b[0;31m         \u001b[0mself\u001b[0m\u001b[0;34m.\u001b[0m\u001b[0mvariance\u001b[0m \u001b[0;34m=\u001b[0m \u001b[0;36m1.0\u001b[0m \u001b[0;34m/\u001b[0m \u001b[0mself\u001b[0m\u001b[0;34m.\u001b[0m\u001b[0mtau\u001b[0m\u001b[0;34m\u001b[0m\u001b[0;34m\u001b[0m\u001b[0m\n\u001b[0m\u001b[1;32m    490\u001b[0m \u001b[0;34m\u001b[0m\u001b[0m\n\u001b[1;32m    491\u001b[0m         \u001b[0massert_negative_support\u001b[0m\u001b[0;34m(\u001b[0m\u001b[0msigma\u001b[0m\u001b[0;34m,\u001b[0m \u001b[0;34m\"sigma\"\u001b[0m\u001b[0;34m,\u001b[0m \u001b[0;34m\"Normal\"\u001b[0m\u001b[0;34m)\u001b[0m\u001b[0;34m\u001b[0m\u001b[0;34m\u001b[0m\u001b[0m\n",
      "\u001b[0;32m~/opt/anaconda3/envs/stats_rethinking/lib/python3.8/site-packages/theano/tensor/var.py\u001b[0m in \u001b[0;36m__rtruediv__\u001b[0;34m(self, other)\u001b[0m\n\u001b[1;32m    174\u001b[0m \u001b[0;34m\u001b[0m\u001b[0m\n\u001b[1;32m    175\u001b[0m     \u001b[0;32mdef\u001b[0m \u001b[0m__rtruediv__\u001b[0m\u001b[0;34m(\u001b[0m\u001b[0mself\u001b[0m\u001b[0;34m,\u001b[0m \u001b[0mother\u001b[0m\u001b[0;34m)\u001b[0m\u001b[0;34m:\u001b[0m\u001b[0;34m\u001b[0m\u001b[0;34m\u001b[0m\u001b[0m\n\u001b[0;32m--> 176\u001b[0;31m         \u001b[0;32mreturn\u001b[0m \u001b[0mtheano\u001b[0m\u001b[0;34m.\u001b[0m\u001b[0mtensor\u001b[0m\u001b[0;34m.\u001b[0m\u001b[0mbasic\u001b[0m\u001b[0;34m.\u001b[0m\u001b[0mtrue_div\u001b[0m\u001b[0;34m(\u001b[0m\u001b[0mother\u001b[0m\u001b[0;34m,\u001b[0m \u001b[0mself\u001b[0m\u001b[0;34m)\u001b[0m\u001b[0;34m\u001b[0m\u001b[0;34m\u001b[0m\u001b[0m\n\u001b[0m\u001b[1;32m    177\u001b[0m \u001b[0;34m\u001b[0m\u001b[0m\n\u001b[1;32m    178\u001b[0m     \u001b[0;32mdef\u001b[0m \u001b[0m__rfloordiv__\u001b[0m\u001b[0;34m(\u001b[0m\u001b[0mself\u001b[0m\u001b[0;34m,\u001b[0m \u001b[0mother\u001b[0m\u001b[0;34m)\u001b[0m\u001b[0;34m:\u001b[0m\u001b[0;34m\u001b[0m\u001b[0;34m\u001b[0m\u001b[0m\n",
      "\u001b[0;32m~/opt/anaconda3/envs/stats_rethinking/lib/python3.8/site-packages/theano/graph/op.py\u001b[0m in \u001b[0;36m__call__\u001b[0;34m(self, *inputs, **kwargs)\u001b[0m\n\u001b[1;32m    251\u001b[0m \u001b[0;34m\u001b[0m\u001b[0m\n\u001b[1;32m    252\u001b[0m         \u001b[0;32mif\u001b[0m \u001b[0mconfig\u001b[0m\u001b[0;34m.\u001b[0m\u001b[0mcompute_test_value\u001b[0m \u001b[0;34m!=\u001b[0m \u001b[0;34m\"off\"\u001b[0m\u001b[0;34m:\u001b[0m\u001b[0;34m\u001b[0m\u001b[0;34m\u001b[0m\u001b[0m\n\u001b[0;32m--> 253\u001b[0;31m             \u001b[0mcompute_test_value\u001b[0m\u001b[0;34m(\u001b[0m\u001b[0mnode\u001b[0m\u001b[0;34m)\u001b[0m\u001b[0;34m\u001b[0m\u001b[0;34m\u001b[0m\u001b[0m\n\u001b[0m\u001b[1;32m    254\u001b[0m \u001b[0;34m\u001b[0m\u001b[0m\n\u001b[1;32m    255\u001b[0m         \u001b[0;32mif\u001b[0m \u001b[0mself\u001b[0m\u001b[0;34m.\u001b[0m\u001b[0mdefault_output\u001b[0m \u001b[0;32mis\u001b[0m \u001b[0;32mnot\u001b[0m \u001b[0;32mNone\u001b[0m\u001b[0;34m:\u001b[0m\u001b[0;34m\u001b[0m\u001b[0;34m\u001b[0m\u001b[0m\n",
      "\u001b[0;32m~/opt/anaconda3/envs/stats_rethinking/lib/python3.8/site-packages/theano/graph/op.py\u001b[0m in \u001b[0;36mcompute_test_value\u001b[0;34m(node)\u001b[0m\n\u001b[1;32m    124\u001b[0m \u001b[0;34m\u001b[0m\u001b[0m\n\u001b[1;32m    125\u001b[0m     \u001b[0;31m# Create a thunk that performs the computation\u001b[0m\u001b[0;34m\u001b[0m\u001b[0;34m\u001b[0m\u001b[0;34m\u001b[0m\u001b[0m\n\u001b[0;32m--> 126\u001b[0;31m     \u001b[0mthunk\u001b[0m \u001b[0;34m=\u001b[0m \u001b[0mnode\u001b[0m\u001b[0;34m.\u001b[0m\u001b[0mop\u001b[0m\u001b[0;34m.\u001b[0m\u001b[0mmake_thunk\u001b[0m\u001b[0;34m(\u001b[0m\u001b[0mnode\u001b[0m\u001b[0;34m,\u001b[0m \u001b[0mstorage_map\u001b[0m\u001b[0;34m,\u001b[0m \u001b[0mcompute_map\u001b[0m\u001b[0;34m,\u001b[0m \u001b[0mno_recycling\u001b[0m\u001b[0;34m=\u001b[0m\u001b[0;34m[\u001b[0m\u001b[0;34m]\u001b[0m\u001b[0;34m)\u001b[0m\u001b[0;34m\u001b[0m\u001b[0;34m\u001b[0m\u001b[0m\n\u001b[0m\u001b[1;32m    127\u001b[0m     \u001b[0mthunk\u001b[0m\u001b[0;34m.\u001b[0m\u001b[0minputs\u001b[0m \u001b[0;34m=\u001b[0m \u001b[0;34m[\u001b[0m\u001b[0mstorage_map\u001b[0m\u001b[0;34m[\u001b[0m\u001b[0mv\u001b[0m\u001b[0;34m]\u001b[0m \u001b[0;32mfor\u001b[0m \u001b[0mv\u001b[0m \u001b[0;32min\u001b[0m \u001b[0mnode\u001b[0m\u001b[0;34m.\u001b[0m\u001b[0minputs\u001b[0m\u001b[0;34m]\u001b[0m\u001b[0;34m\u001b[0m\u001b[0;34m\u001b[0m\u001b[0m\n\u001b[1;32m    128\u001b[0m     \u001b[0mthunk\u001b[0m\u001b[0;34m.\u001b[0m\u001b[0moutputs\u001b[0m \u001b[0;34m=\u001b[0m \u001b[0;34m[\u001b[0m\u001b[0mstorage_map\u001b[0m\u001b[0;34m[\u001b[0m\u001b[0mv\u001b[0m\u001b[0;34m]\u001b[0m \u001b[0;32mfor\u001b[0m \u001b[0mv\u001b[0m \u001b[0;32min\u001b[0m \u001b[0mnode\u001b[0m\u001b[0;34m.\u001b[0m\u001b[0moutputs\u001b[0m\u001b[0;34m]\u001b[0m\u001b[0;34m\u001b[0m\u001b[0;34m\u001b[0m\u001b[0m\n",
      "\u001b[0;32m~/opt/anaconda3/envs/stats_rethinking/lib/python3.8/site-packages/theano/graph/op.py\u001b[0m in \u001b[0;36mmake_thunk\u001b[0;34m(self, node, storage_map, compute_map, no_recycling, impl)\u001b[0m\n\u001b[1;32m    632\u001b[0m             )\n\u001b[1;32m    633\u001b[0m             \u001b[0;32mtry\u001b[0m\u001b[0;34m:\u001b[0m\u001b[0;34m\u001b[0m\u001b[0;34m\u001b[0m\u001b[0m\n\u001b[0;32m--> 634\u001b[0;31m                 \u001b[0;32mreturn\u001b[0m \u001b[0mself\u001b[0m\u001b[0;34m.\u001b[0m\u001b[0mmake_c_thunk\u001b[0m\u001b[0;34m(\u001b[0m\u001b[0mnode\u001b[0m\u001b[0;34m,\u001b[0m \u001b[0mstorage_map\u001b[0m\u001b[0;34m,\u001b[0m \u001b[0mcompute_map\u001b[0m\u001b[0;34m,\u001b[0m \u001b[0mno_recycling\u001b[0m\u001b[0;34m)\u001b[0m\u001b[0;34m\u001b[0m\u001b[0;34m\u001b[0m\u001b[0m\n\u001b[0m\u001b[1;32m    635\u001b[0m             \u001b[0;32mexcept\u001b[0m \u001b[0;34m(\u001b[0m\u001b[0mNotImplementedError\u001b[0m\u001b[0;34m,\u001b[0m \u001b[0mMethodNotDefined\u001b[0m\u001b[0;34m)\u001b[0m\u001b[0;34m:\u001b[0m\u001b[0;34m\u001b[0m\u001b[0;34m\u001b[0m\u001b[0m\n\u001b[1;32m    636\u001b[0m                 \u001b[0;31m# We requested the c code, so don't catch the error.\u001b[0m\u001b[0;34m\u001b[0m\u001b[0;34m\u001b[0m\u001b[0;34m\u001b[0m\u001b[0m\n",
      "\u001b[0;32m~/opt/anaconda3/envs/stats_rethinking/lib/python3.8/site-packages/theano/graph/op.py\u001b[0m in \u001b[0;36mmake_c_thunk\u001b[0;34m(self, node, storage_map, compute_map, no_recycling)\u001b[0m\n\u001b[1;32m    598\u001b[0m                 \u001b[0mprint\u001b[0m\u001b[0;34m(\u001b[0m\u001b[0;34mf\"Disabling C code for {self} due to unsupported float16\"\u001b[0m\u001b[0;34m)\u001b[0m\u001b[0;34m\u001b[0m\u001b[0;34m\u001b[0m\u001b[0m\n\u001b[1;32m    599\u001b[0m                 \u001b[0;32mraise\u001b[0m \u001b[0mNotImplementedError\u001b[0m\u001b[0;34m(\u001b[0m\u001b[0;34m\"float16\"\u001b[0m\u001b[0;34m)\u001b[0m\u001b[0;34m\u001b[0m\u001b[0;34m\u001b[0m\u001b[0m\n\u001b[0;32m--> 600\u001b[0;31m         outputs = cl.make_thunk(\n\u001b[0m\u001b[1;32m    601\u001b[0m             \u001b[0minput_storage\u001b[0m\u001b[0;34m=\u001b[0m\u001b[0mnode_input_storage\u001b[0m\u001b[0;34m,\u001b[0m \u001b[0moutput_storage\u001b[0m\u001b[0;34m=\u001b[0m\u001b[0mnode_output_storage\u001b[0m\u001b[0;34m\u001b[0m\u001b[0;34m\u001b[0m\u001b[0m\n\u001b[1;32m    602\u001b[0m         )\n",
      "\u001b[0;32m~/opt/anaconda3/envs/stats_rethinking/lib/python3.8/site-packages/theano/link/c/basic.py\u001b[0m in \u001b[0;36mmake_thunk\u001b[0;34m(self, input_storage, output_storage, storage_map)\u001b[0m\n\u001b[1;32m   1201\u001b[0m         \"\"\"\n\u001b[1;32m   1202\u001b[0m         \u001b[0minit_tasks\u001b[0m\u001b[0;34m,\u001b[0m \u001b[0mtasks\u001b[0m \u001b[0;34m=\u001b[0m \u001b[0mself\u001b[0m\u001b[0;34m.\u001b[0m\u001b[0mget_init_tasks\u001b[0m\u001b[0;34m(\u001b[0m\u001b[0;34m)\u001b[0m\u001b[0;34m\u001b[0m\u001b[0;34m\u001b[0m\u001b[0m\n\u001b[0;32m-> 1203\u001b[0;31m         cthunk, module, in_storage, out_storage, error_storage = self.__compile__(\n\u001b[0m\u001b[1;32m   1204\u001b[0m             \u001b[0minput_storage\u001b[0m\u001b[0;34m,\u001b[0m \u001b[0moutput_storage\u001b[0m\u001b[0;34m,\u001b[0m \u001b[0mstorage_map\u001b[0m\u001b[0;34m\u001b[0m\u001b[0;34m\u001b[0m\u001b[0m\n\u001b[1;32m   1205\u001b[0m         )\n",
      "\u001b[0;32m~/opt/anaconda3/envs/stats_rethinking/lib/python3.8/site-packages/theano/link/c/basic.py\u001b[0m in \u001b[0;36m__compile__\u001b[0;34m(self, input_storage, output_storage, storage_map)\u001b[0m\n\u001b[1;32m   1136\u001b[0m         \u001b[0minput_storage\u001b[0m \u001b[0;34m=\u001b[0m \u001b[0mtuple\u001b[0m\u001b[0;34m(\u001b[0m\u001b[0minput_storage\u001b[0m\u001b[0;34m)\u001b[0m\u001b[0;34m\u001b[0m\u001b[0;34m\u001b[0m\u001b[0m\n\u001b[1;32m   1137\u001b[0m         \u001b[0moutput_storage\u001b[0m \u001b[0;34m=\u001b[0m \u001b[0mtuple\u001b[0m\u001b[0;34m(\u001b[0m\u001b[0moutput_storage\u001b[0m\u001b[0;34m)\u001b[0m\u001b[0;34m\u001b[0m\u001b[0;34m\u001b[0m\u001b[0m\n\u001b[0;32m-> 1138\u001b[0;31m         thunk, module = self.cthunk_factory(\n\u001b[0m\u001b[1;32m   1139\u001b[0m             \u001b[0merror_storage\u001b[0m\u001b[0;34m,\u001b[0m\u001b[0;34m\u001b[0m\u001b[0;34m\u001b[0m\u001b[0m\n\u001b[1;32m   1140\u001b[0m             \u001b[0minput_storage\u001b[0m\u001b[0;34m,\u001b[0m\u001b[0;34m\u001b[0m\u001b[0;34m\u001b[0m\u001b[0m\n",
      "\u001b[0;32m~/opt/anaconda3/envs/stats_rethinking/lib/python3.8/site-packages/theano/link/c/basic.py\u001b[0m in \u001b[0;36mcthunk_factory\u001b[0;34m(self, error_storage, in_storage, out_storage, storage_map)\u001b[0m\n\u001b[1;32m   1632\u001b[0m             \u001b[0;32mfor\u001b[0m \u001b[0mnode\u001b[0m \u001b[0;32min\u001b[0m \u001b[0mself\u001b[0m\u001b[0;34m.\u001b[0m\u001b[0mnode_order\u001b[0m\u001b[0;34m:\u001b[0m\u001b[0;34m\u001b[0m\u001b[0;34m\u001b[0m\u001b[0m\n\u001b[1;32m   1633\u001b[0m                 \u001b[0mnode\u001b[0m\u001b[0;34m.\u001b[0m\u001b[0mop\u001b[0m\u001b[0;34m.\u001b[0m\u001b[0mprepare_node\u001b[0m\u001b[0;34m(\u001b[0m\u001b[0mnode\u001b[0m\u001b[0;34m,\u001b[0m \u001b[0mstorage_map\u001b[0m\u001b[0;34m,\u001b[0m \u001b[0;32mNone\u001b[0m\u001b[0;34m,\u001b[0m \u001b[0;34m\"c\"\u001b[0m\u001b[0;34m)\u001b[0m\u001b[0;34m\u001b[0m\u001b[0;34m\u001b[0m\u001b[0m\n\u001b[0;32m-> 1634\u001b[0;31m             \u001b[0mmodule\u001b[0m \u001b[0;34m=\u001b[0m \u001b[0mget_module_cache\u001b[0m\u001b[0;34m(\u001b[0m\u001b[0;34m)\u001b[0m\u001b[0;34m.\u001b[0m\u001b[0mmodule_from_key\u001b[0m\u001b[0;34m(\u001b[0m\u001b[0mkey\u001b[0m\u001b[0;34m=\u001b[0m\u001b[0mkey\u001b[0m\u001b[0;34m,\u001b[0m \u001b[0mlnk\u001b[0m\u001b[0;34m=\u001b[0m\u001b[0mself\u001b[0m\u001b[0;34m)\u001b[0m\u001b[0;34m\u001b[0m\u001b[0;34m\u001b[0m\u001b[0m\n\u001b[0m\u001b[1;32m   1635\u001b[0m \u001b[0;34m\u001b[0m\u001b[0m\n\u001b[1;32m   1636\u001b[0m         \u001b[0mvars\u001b[0m \u001b[0;34m=\u001b[0m \u001b[0mself\u001b[0m\u001b[0;34m.\u001b[0m\u001b[0minputs\u001b[0m \u001b[0;34m+\u001b[0m \u001b[0mself\u001b[0m\u001b[0;34m.\u001b[0m\u001b[0moutputs\u001b[0m \u001b[0;34m+\u001b[0m \u001b[0mself\u001b[0m\u001b[0;34m.\u001b[0m\u001b[0morphans\u001b[0m\u001b[0;34m\u001b[0m\u001b[0;34m\u001b[0m\u001b[0m\n",
      "\u001b[0;32m~/opt/anaconda3/envs/stats_rethinking/lib/python3.8/site-packages/theano/link/c/cmodule.py\u001b[0m in \u001b[0;36mmodule_from_key\u001b[0;34m(self, key, lnk)\u001b[0m\n\u001b[1;32m   1189\u001b[0m             \u001b[0;32mtry\u001b[0m\u001b[0;34m:\u001b[0m\u001b[0;34m\u001b[0m\u001b[0;34m\u001b[0m\u001b[0m\n\u001b[1;32m   1190\u001b[0m                 \u001b[0mlocation\u001b[0m \u001b[0;34m=\u001b[0m \u001b[0mdlimport_workdir\u001b[0m\u001b[0;34m(\u001b[0m\u001b[0mself\u001b[0m\u001b[0;34m.\u001b[0m\u001b[0mdirname\u001b[0m\u001b[0;34m)\u001b[0m\u001b[0;34m\u001b[0m\u001b[0;34m\u001b[0m\u001b[0m\n\u001b[0;32m-> 1191\u001b[0;31m                 \u001b[0mmodule\u001b[0m \u001b[0;34m=\u001b[0m \u001b[0mlnk\u001b[0m\u001b[0;34m.\u001b[0m\u001b[0mcompile_cmodule\u001b[0m\u001b[0;34m(\u001b[0m\u001b[0mlocation\u001b[0m\u001b[0;34m)\u001b[0m\u001b[0;34m\u001b[0m\u001b[0;34m\u001b[0m\u001b[0m\n\u001b[0m\u001b[1;32m   1192\u001b[0m                 \u001b[0mname\u001b[0m \u001b[0;34m=\u001b[0m \u001b[0mmodule\u001b[0m\u001b[0;34m.\u001b[0m\u001b[0m__file__\u001b[0m\u001b[0;34m\u001b[0m\u001b[0;34m\u001b[0m\u001b[0m\n\u001b[1;32m   1193\u001b[0m                 \u001b[0;32massert\u001b[0m \u001b[0mname\u001b[0m\u001b[0;34m.\u001b[0m\u001b[0mstartswith\u001b[0m\u001b[0;34m(\u001b[0m\u001b[0mlocation\u001b[0m\u001b[0;34m)\u001b[0m\u001b[0;34m\u001b[0m\u001b[0;34m\u001b[0m\u001b[0m\n",
      "\u001b[0;32m~/opt/anaconda3/envs/stats_rethinking/lib/python3.8/site-packages/theano/link/c/basic.py\u001b[0m in \u001b[0;36mcompile_cmodule\u001b[0;34m(self, location)\u001b[0m\n\u001b[1;32m   1541\u001b[0m             \u001b[0;32mtry\u001b[0m\u001b[0;34m:\u001b[0m\u001b[0;34m\u001b[0m\u001b[0;34m\u001b[0m\u001b[0m\n\u001b[1;32m   1542\u001b[0m                 \u001b[0m_logger\u001b[0m\u001b[0;34m.\u001b[0m\u001b[0mdebug\u001b[0m\u001b[0;34m(\u001b[0m\u001b[0;34mf\"LOCATION {location}\"\u001b[0m\u001b[0;34m)\u001b[0m\u001b[0;34m\u001b[0m\u001b[0;34m\u001b[0m\u001b[0m\n\u001b[0;32m-> 1543\u001b[0;31m                 module = c_compiler.compile_str(\n\u001b[0m\u001b[1;32m   1544\u001b[0m                     \u001b[0mmodule_name\u001b[0m\u001b[0;34m=\u001b[0m\u001b[0mmod\u001b[0m\u001b[0;34m.\u001b[0m\u001b[0mcode_hash\u001b[0m\u001b[0;34m,\u001b[0m\u001b[0;34m\u001b[0m\u001b[0;34m\u001b[0m\u001b[0m\n\u001b[1;32m   1545\u001b[0m                     \u001b[0msrc_code\u001b[0m\u001b[0;34m=\u001b[0m\u001b[0msrc_code\u001b[0m\u001b[0;34m,\u001b[0m\u001b[0;34m\u001b[0m\u001b[0;34m\u001b[0m\u001b[0m\n",
      "\u001b[0;32m~/opt/anaconda3/envs/stats_rethinking/lib/python3.8/site-packages/theano/link/c/cmodule.py\u001b[0m in \u001b[0;36mcompile_str\u001b[0;34m(module_name, src_code, location, include_dirs, lib_dirs, libs, preargs, py_module, hide_symbols)\u001b[0m\n\u001b[1;32m   2544\u001b[0m             \u001b[0;31m# difficult to read.\u001b[0m\u001b[0;34m\u001b[0m\u001b[0;34m\u001b[0m\u001b[0;34m\u001b[0m\u001b[0m\n\u001b[1;32m   2545\u001b[0m             \u001b[0mcompile_stderr\u001b[0m \u001b[0;34m=\u001b[0m \u001b[0mcompile_stderr\u001b[0m\u001b[0;34m.\u001b[0m\u001b[0mreplace\u001b[0m\u001b[0;34m(\u001b[0m\u001b[0;34m\"\\n\"\u001b[0m\u001b[0;34m,\u001b[0m \u001b[0;34m\". \"\u001b[0m\u001b[0;34m)\u001b[0m\u001b[0;34m\u001b[0m\u001b[0;34m\u001b[0m\u001b[0m\n\u001b[0;32m-> 2546\u001b[0;31m             raise Exception(\n\u001b[0m\u001b[1;32m   2547\u001b[0m                 \u001b[0;34mf\"Compilation failed (return status={status}): {compile_stderr}\"\u001b[0m\u001b[0;34m\u001b[0m\u001b[0;34m\u001b[0m\u001b[0m\n\u001b[1;32m   2548\u001b[0m             )\n",
      "\u001b[0;31mException\u001b[0m: (\"Compilation failed (return status=1): In file included from /Users/blacar/.theano/compiledir_macOS-10.15.7-x86_64-i386-64bit-i386-3.8.6-64/tmpg977r51z/mod.cpp:1:. In file included from /Users/blacar/opt/anaconda3/envs/stats_rethinking/include/python3.8/Python.h:25:. /Users/blacar/opt/anaconda3/bin/../include/c++/v1/stdio.h:107:15: fatal error: 'stdio.h' file not found. #include_next <stdio.h>.               ^~~~~~~~~. 1 error generated.. \", 'FunctionGraph(Elemwise{true_div,no_inplace}(TensorConstant{1.0}, TensorConstant{0.0025}))')"
     ]
    },
    {
     "data": {
      "application/javascript": [
       "\n",
       "            setTimeout(function() {\n",
       "                var nbb_cell_id = 5;\n",
       "                var nbb_unformatted_code = \"with pm.Model() as heights_model:\\n\\n    # Priors are variables a, b, sigma\\n    # using pm.Normal is a way to represent the stochastic relationship the left has to right side of equation\\n    a = pm.Normal(\\\"a\\\", mu=178, sd=20)\\n    b = pm.Lognormal(\\\"b\\\", mu=0, sd=1)\\n    sigma = pm.Uniform(\\\"sigma\\\", 0, 50)\\n\\n    # This is a linear model (not really a prior or likelihood?)\\n    # Data included here (d2.weight, which is observed)\\n    # Mu is deterministic, but a and b are stochastic\\n    mu = a + b * (d2.weight - xbar)\\n\\n    # Likelihood is height variable, which is also observed (data included here, d2.height))\\n    # Height is dependent on deterministic and stochastic variables\\n    height = pm.Normal(\\\"height\\\", mu=mu, sd=sigma, observed=d2.height)\\n\\n    # This next line is doing the fitting and sampling all at once.\\n    trace_m = pm.sample(1000, tune=1000)\";\n",
       "                var nbb_formatted_code = \"with pm.Model() as heights_model:\\n\\n    # Priors are variables a, b, sigma\\n    # using pm.Normal is a way to represent the stochastic relationship the left has to right side of equation\\n    a = pm.Normal(\\\"a\\\", mu=178, sd=20)\\n    b = pm.Lognormal(\\\"b\\\", mu=0, sd=1)\\n    sigma = pm.Uniform(\\\"sigma\\\", 0, 50)\\n\\n    # This is a linear model (not really a prior or likelihood?)\\n    # Data included here (d2.weight, which is observed)\\n    # Mu is deterministic, but a and b are stochastic\\n    mu = a + b * (d2.weight - xbar)\\n\\n    # Likelihood is height variable, which is also observed (data included here, d2.height))\\n    # Height is dependent on deterministic and stochastic variables\\n    height = pm.Normal(\\\"height\\\", mu=mu, sd=sigma, observed=d2.height)\\n\\n    # This next line is doing the fitting and sampling all at once.\\n    trace_m = pm.sample(1000, tune=1000)\";\n",
       "                var nbb_cells = Jupyter.notebook.get_cells();\n",
       "                for (var i = 0; i < nbb_cells.length; ++i) {\n",
       "                    if (nbb_cells[i].input_prompt_number == nbb_cell_id) {\n",
       "                        if (nbb_cells[i].get_text() == nbb_unformatted_code) {\n",
       "                             nbb_cells[i].set_text(nbb_formatted_code);\n",
       "                        }\n",
       "                        break;\n",
       "                    }\n",
       "                }\n",
       "            }, 500);\n",
       "            "
      ],
      "text/plain": [
       "<IPython.core.display.Javascript object>"
      ]
     },
     "metadata": {},
     "output_type": "display_data"
    }
   ],
   "source": [
    "with pm.Model() as heights_model:\n",
    "\n",
    "    # Priors are variables a, b, sigma\n",
    "    # using pm.Normal is a way to represent the stochastic relationship the left has to right side of equation\n",
    "    a = pm.Normal(\"a\", mu=178, sd=20)\n",
    "    b = pm.Lognormal(\"b\", mu=0, sd=1)\n",
    "    sigma = pm.Uniform(\"sigma\", 0, 50)\n",
    "\n",
    "    # This is a linear model (not really a prior or likelihood?)\n",
    "    # Data included here (d2.weight, which is observed)\n",
    "    # Mu is deterministic, but a and b are stochastic\n",
    "    mu = a + b * (d2.weight - xbar)\n",
    "\n",
    "    # Likelihood is height variable, which is also observed (data included here, d2.height))\n",
    "    # Height is dependent on deterministic and stochastic variables\n",
    "    height = pm.Normal(\"height\", mu=mu, sd=sigma, observed=d2.height)\n",
    "\n",
    "    # This next line is doing the fitting and sampling all at once.\n",
    "    trace_m = pm.sample(1000, tune=1000)"
   ]
  },
  {
   "cell_type": "markdown",
   "id": "vietnamese-diesel",
   "metadata": {},
   "source": [
    "## Inspecting the `pymc3` objects\n",
    "\n",
    "Before going through the rest of the exercise, it is helpful to dive deep and understand the objects in this call."
   ]
  },
  {
   "cell_type": "markdown",
   "id": "comfortable-burlington",
   "metadata": {},
   "source": [
    "### Inspecting the `model` object"
   ]
  },
  {
   "cell_type": "code",
   "execution_count": null,
   "id": "flexible-effects",
   "metadata": {
    "ExecuteTime": {
     "end_time": "2021-03-01T15:15:02.603653Z",
     "start_time": "2021-03-01T15:14:56.849Z"
    }
   },
   "outputs": [],
   "source": [
    "heights_model"
   ]
  },
  {
   "cell_type": "markdown",
   "id": "velvet-buyer",
   "metadata": {},
   "source": [
    "#### Side code\n",
    "\n",
    "Using python lambda and filter as shown [here](https://www.geeksforgeeks.org/filter-in-python/)."
   ]
  },
  {
   "cell_type": "code",
   "execution_count": null,
   "id": "curious-apparel",
   "metadata": {
    "ExecuteTime": {
     "end_time": "2021-03-01T15:15:02.604652Z",
     "start_time": "2021-03-01T15:14:56.938Z"
    }
   },
   "outputs": [],
   "source": [
    "# Dir returns list of the attributes and methods of any object\n",
    "dir(heights_model)"
   ]
  },
  {
   "cell_type": "code",
   "execution_count": null,
   "id": "african-minutes",
   "metadata": {
    "ExecuteTime": {
     "end_time": "2021-03-01T15:15:02.605622Z",
     "start_time": "2021-03-01T15:14:56.942Z"
    }
   },
   "outputs": [],
   "source": [
    "# But this is a way to limit the attributes to inspect\n",
    "heights_model_methods2check = list(filter(lambda x: \"__\" not in x, dir(heights_model)))\n",
    "heights_model_methods2check"
   ]
  },
  {
   "cell_type": "code",
   "execution_count": null,
   "id": "selected-aging",
   "metadata": {
    "ExecuteTime": {
     "end_time": "2021-03-01T15:15:02.606627Z",
     "start_time": "2021-03-01T15:14:56.947Z"
    }
   },
   "outputs": [],
   "source": [
    "heights_model.basic_RVs"
   ]
  },
  {
   "cell_type": "code",
   "execution_count": null,
   "id": "competent-asset",
   "metadata": {
    "ExecuteTime": {
     "end_time": "2021-03-01T15:15:02.607755Z",
     "start_time": "2021-03-01T15:14:56.952Z"
    }
   },
   "outputs": [],
   "source": [
    "d2[\"weight\"]"
   ]
  },
  {
   "cell_type": "code",
   "execution_count": null,
   "id": "behavioral-klein",
   "metadata": {
    "ExecuteTime": {
     "end_time": "2021-03-01T15:15:02.608614Z",
     "start_time": "2021-03-01T15:14:56.957Z"
    }
   },
   "outputs": [],
   "source": [
    "len(d2[\"weight\"])"
   ]
  },
  {
   "cell_type": "code",
   "execution_count": null,
   "id": "painful-christopher",
   "metadata": {
    "ExecuteTime": {
     "end_time": "2021-03-01T15:15:02.609509Z",
     "start_time": "2021-03-01T15:14:56.964Z"
    }
   },
   "outputs": [],
   "source": [
    "heights_model.Var"
   ]
  },
  {
   "cell_type": "markdown",
   "id": "stunning-shame",
   "metadata": {},
   "source": [
    "### Inspecting the `trace` object\n",
    "\n",
    "The `trace` object contains the samples collected, in the order they were collected per the [getting started](https://docs.pymc.io/notebooks/getting_started.html) tutorial. This is an important object so I wanted to dive deeper into it."
   ]
  },
  {
   "cell_type": "code",
   "execution_count": null,
   "id": "weekly-huntington",
   "metadata": {
    "ExecuteTime": {
     "end_time": "2021-03-01T15:15:02.610487Z",
     "start_time": "2021-03-01T15:14:57.056Z"
    }
   },
   "outputs": [],
   "source": [
    "trace_m"
   ]
  },
  {
   "cell_type": "code",
   "execution_count": null,
   "id": "extreme-boutique",
   "metadata": {
    "ExecuteTime": {
     "end_time": "2021-03-01T15:15:02.611426Z",
     "start_time": "2021-03-01T15:14:57.060Z"
    }
   },
   "outputs": [],
   "source": [
    "type(trace_m)"
   ]
  },
  {
   "cell_type": "markdown",
   "id": "judicial-language",
   "metadata": {},
   "source": [
    "It is much clearer to see this concretely when we use the `trace_to_dataframe` method."
   ]
  },
  {
   "cell_type": "code",
   "execution_count": null,
   "id": "numerous-istanbul",
   "metadata": {
    "ExecuteTime": {
     "end_time": "2021-03-01T15:15:02.612372Z",
     "start_time": "2021-03-01T15:14:57.155Z"
    }
   },
   "outputs": [],
   "source": [
    "trace_m_df = pm.trace_to_dataframe(trace_m)\n",
    "trace_m_df"
   ]
  },
  {
   "cell_type": "code",
   "execution_count": null,
   "id": "sapphire-essay",
   "metadata": {
    "ExecuteTime": {
     "end_time": "2021-03-01T15:15:02.613294Z",
     "start_time": "2021-03-01T15:14:57.160Z"
    }
   },
   "outputs": [],
   "source": [
    "# Get the attributes of object to check\n",
    "trace_m_methods2check = list(filter(lambda x: \"__\" not in x, dir(trace_m)))\n",
    "trace_m_methods2check"
   ]
  },
  {
   "cell_type": "markdown",
   "id": "cordless-enough",
   "metadata": {},
   "source": [
    "The last few attributes looked important."
   ]
  },
  {
   "cell_type": "code",
   "execution_count": null,
   "id": "formal-uzbekistan",
   "metadata": {
    "ExecuteTime": {
     "end_time": "2021-03-01T15:15:02.614266Z",
     "start_time": "2021-03-01T15:14:57.256Z"
    }
   },
   "outputs": [],
   "source": [
    "# Trace object's variable names\n",
    "trace_m.varnames"
   ]
  },
  {
   "cell_type": "code",
   "execution_count": null,
   "id": "adaptive-culture",
   "metadata": {
    "ExecuteTime": {
     "end_time": "2021-03-01T15:15:02.615221Z",
     "start_time": "2021-03-01T15:14:57.260Z"
    }
   },
   "outputs": [],
   "source": [
    "# Inspect samples, which are parameters\n",
    "print(\"a samples: \", trace_m[\"a\"][0:5])\n",
    "print(\"b samples: \", trace_m[\"b\"][0:5])\n",
    "print(\"sigma samples: \", trace_m[\"sigma\"][0:5])\n",
    "# print(\"mu samples: \", trace_m[\"mu\"][0:5])\n",
    "# print(\"height samples: \", trace_m[\"height\"][0:5])\n",
    "\n",
    "print(\"mu and height are deterministic or dependent on deterministic variables\")"
   ]
  },
  {
   "cell_type": "code",
   "execution_count": null,
   "id": "bronze-repository",
   "metadata": {
    "ExecuteTime": {
     "end_time": "2021-03-01T15:15:02.616176Z",
     "start_time": "2021-03-01T15:14:57.265Z"
    }
   },
   "outputs": [],
   "source": [
    "# Another way to inspect\n",
    "trace_m.get_values(\"a\")[0:5]"
   ]
  },
  {
   "cell_type": "code",
   "execution_count": null,
   "id": "incident-perspective",
   "metadata": {
    "ExecuteTime": {
     "end_time": "2021-03-01T15:15:02.617128Z",
     "start_time": "2021-03-01T15:14:57.269Z"
    }
   },
   "outputs": [],
   "source": [
    "# I don't know what this is yet, but presumably has to do with Markov Chain Monte Carlo\n",
    "trace_m.chains"
   ]
  },
  {
   "cell_type": "markdown",
   "id": "declared-washington",
   "metadata": {},
   "source": [
    "A chain is a single run of MCMC. I don't get this yet, but it is explained [here](https://stackoverflow.com/questions/49825216/what-is-a-chain-in-pymc3)."
   ]
  },
  {
   "cell_type": "code",
   "execution_count": null,
   "id": "talented-present",
   "metadata": {
    "ExecuteTime": {
     "end_time": "2021-03-01T15:15:02.618084Z",
     "start_time": "2021-03-01T15:14:57.368Z"
    }
   },
   "outputs": [],
   "source": [
    "# Not sure how to use this yet\n",
    "trace_m.get_sampler_stats\n",
    "# trace_m.get_sampler_stats(\"a\")"
   ]
  },
  {
   "cell_type": "code",
   "execution_count": null,
   "id": "inside-tsunami",
   "metadata": {
    "ExecuteTime": {
     "end_time": "2021-03-01T15:15:02.618992Z",
     "start_time": "2021-03-01T15:14:57.373Z"
    }
   },
   "outputs": [],
   "source": [
    "# Not sure how to use this yet\n",
    "# trace_m.report[\"a\"]\n",
    "trace_m.report"
   ]
  },
  {
   "cell_type": "code",
   "execution_count": null,
   "id": "affecting-wildlife",
   "metadata": {
    "ExecuteTime": {
     "end_time": "2021-03-01T15:15:02.619910Z",
     "start_time": "2021-03-01T15:14:57.377Z"
    }
   },
   "outputs": [],
   "source": [
    "# not sure how to use this yet\n",
    "trace_m.stat_names"
   ]
  },
  {
   "cell_type": "markdown",
   "id": "identical-joseph",
   "metadata": {},
   "source": [
    "## Code explanation"
   ]
  },
  {
   "cell_type": "markdown",
   "id": "extra-uncertainty",
   "metadata": {},
   "source": [
    "**With regards to the sampling in the code above. This is taken from the PyMC example notebook.**\n",
    "\n",
    "We could use a quadratic approximation like McElreath does in his book and we did in code 2.6. But Using PyMC3 is really simple to just sample from the model using a \"sampler method\". Most common sampler methods are members of the Markov Chain Monte Carlo Method (MCMC) family (for details read Section 2.4.3 and Chapter 8 of Statistical Rethinking).\n",
    "\n",
    "PyMC3 comes with various samplers. Some samplers are more suited than others for certain type of variable (and/or problems). For now we are going to let PyMC3 choose the sampler for us. PyMC3 also tries to provide a reasonable starting point for the simulation. By default PyMC3 uses the same adaptive procedure as in STAN `'jitter+adapt_diag'`, which starts with a identity mass matrix and then adapts a diagonal based on the variance of the tuning samples.\n",
    "\n",
    "You can read more details of PyMC3 [here](https://docs.pymc.io/notebooks/getting_started.html).\n",
    "\n",
    "This is taken from the link which helps explain the code.\n",
    "\n",
    "**Gradient-based sampling methods**\n",
    "\n",
    "PyMC3 has the standard sampling algorithms like adaptive Metropolis-Hastings and adaptive slice sampling, but PyMC3’s most capable step method is the No-U-Turn Sampler. NUTS is especially useful on models that have many continuous parameters, a situation where other MCMC algorithms work very slowly. It takes advantage of information about where regions of higher probability are, based on the gradient of the log posterior-density. This helps it achieve dramatically faster convergence on large problems than traditional sampling methods achieve. PyMC3 relies on Theano to analytically compute model gradients via automatic differentiation of the posterior density. NUTS also has several self-tuning strategies for adaptively setting the tunable parameters of Hamiltonian Monte Carlo. For random variables that are undifferentiable (namely, discrete variables) NUTS cannot be used, but it may still be used on the differentiable variables in a model that contains undifferentiable variables.\n",
    "\n",
    "NUTS requires a scaling matrix parameter, which is analogous to the variance parameter for the jump proposal distribution in Metropolis-Hastings, although NUTS uses it somewhat differently. The matrix gives the rough shape of the distribution so that NUTS does not make jumps that are too large in some directions and too small in other directions. It is important to set this scaling parameter to a reasonable value to facilitate efficient sampling. This is especially true for models that have many unobserved stochastic random variables or models with highly non-normal posterior distributions. Poor scaling parameters will slow down NUTS significantly, sometimes almost stopping it completely. A reasonable starting point for sampling can also be important for efficient sampling, but not as often.\n",
    "\n",
    "PyMC3 automatically initializes NUTS to reasonable values based on the variance of the samples obtained during a tuning phase. A little bit of noise is added to ensure different, parallel, chains start from different points. Also, PyMC3 will automatically assign an appropriate sampler if we don’t supply it via the step keyword argument (see below for an example of how to explicitly assign step methods)."
   ]
  },
  {
   "cell_type": "markdown",
   "id": "alike-avatar",
   "metadata": {},
   "source": [
    "## Interpreting the posterior distribution\n",
    "\n",
    "Interpretation can be helped by generating tables and making plots of simulated data. The latter will be more helpful to know:\n",
    "1. Whether the model fit procedure worked correctly\n",
    "2. Gaining a sense for whether the absolute magnitude, and not just the relative magnitude, of a relationship between outcome and predictor.\n",
    "3. The uncertainty surrounding an average relationship\n",
    "4. The uncertainty surrounding the implied predictions of the model, as there are distinct from mere parameter uncertainty"
   ]
  },
  {
   "cell_type": "markdown",
   "id": "attractive-squad",
   "metadata": {},
   "source": [
    "### Tables of marginal distributions\n",
    "\n",
    "The tables here look like summary statistics but the term \"marginal\" here refers to “averaging over the other parameters.” "
   ]
  },
  {
   "cell_type": "markdown",
   "id": "future-prevention",
   "metadata": {},
   "source": [
    "While the next bit of code doesn't help directly answer the question above, we can get some helpful summaries for model inspection.\n",
    "\n",
    "The next set of code gives summary statistics for $\\alpha, \\beta$, and $\\sigma$."
   ]
  },
  {
   "cell_type": "markdown",
   "id": "embedded-scottish",
   "metadata": {},
   "source": [
    "While not as useful, we can also find the maximum a posteri estimate for the model."
   ]
  },
  {
   "cell_type": "code",
   "execution_count": null,
   "id": "massive-housing",
   "metadata": {
    "ExecuteTime": {
     "end_time": "2021-03-01T15:15:02.620833Z",
     "start_time": "2021-03-01T15:14:57.966Z"
    }
   },
   "outputs": [],
   "source": [
    "pm.find_MAP(model=heights_model)"
   ]
  },
  {
   "cell_type": "markdown",
   "id": "unusual-transition",
   "metadata": {},
   "source": [
    "The next set of code gives both the MAP as well as providing a sense of the variance of the data, which is more useful."
   ]
  },
  {
   "cell_type": "code",
   "execution_count": null,
   "id": "fiscal-gardening",
   "metadata": {
    "ExecuteTime": {
     "end_time": "2021-03-01T15:15:02.621712Z",
     "start_time": "2021-03-01T15:14:58.063Z"
    }
   },
   "outputs": [],
   "source": [
    "az.rcParams[\"stats.hdi_prob\"] = 0.89  # sets default credible interval used by arviz\n",
    "az.summary(trace_m, round_to=3, kind=\"stats\")"
   ]
  },
  {
   "cell_type": "markdown",
   "id": "through-sailing",
   "metadata": {
    "ExecuteTime": {
     "end_time": "2021-02-23T16:57:48.575421Z",
     "start_time": "2021-02-23T16:57:48.566972Z"
    }
   },
   "source": [
    "This gives the covariances among the parameters (variance-covariance matrix)."
   ]
  },
  {
   "cell_type": "code",
   "execution_count": null,
   "id": "adopted-facility",
   "metadata": {
    "ExecuteTime": {
     "end_time": "2021-03-01T15:15:02.622653Z",
     "start_time": "2021-03-01T15:14:58.152Z"
    }
   },
   "outputs": [],
   "source": [
    "trace_m_df = pm.trace_to_dataframe(trace_m)\n",
    "trace_m_df.cov().round(3)"
   ]
  },
  {
   "cell_type": "markdown",
   "id": "armed-practice",
   "metadata": {},
   "source": [
    "The other way of looking at it this variance-covariance matrix is to break it down into two elements:\n",
    "1. A vector of variances for the parameters.\n",
    "2. A correlation matrix that tells how changes in any parameter lead to correlated changes in the others."
   ]
  },
  {
   "cell_type": "code",
   "execution_count": null,
   "id": "portuguese-heritage",
   "metadata": {
    "ExecuteTime": {
     "end_time": "2021-03-01T15:15:02.623602Z",
     "start_time": "2021-03-01T15:14:58.239Z"
    }
   },
   "outputs": [],
   "source": [
    "# The vector of variances for the parameters\n",
    "# Note how the function call is reflected in the numbers above\n",
    "print(\"Variances of parameters: \", np.diag(trace_m_df.cov()))"
   ]
  },
  {
   "cell_type": "markdown",
   "id": "devoted-dealer",
   "metadata": {},
   "source": [
    "These are a vector of variances so taking the square root for each will give the same standard deviations in the `az.summary` call above."
   ]
  },
  {
   "cell_type": "code",
   "execution_count": null,
   "id": "hungarian-zealand",
   "metadata": {
    "ExecuteTime": {
     "end_time": "2021-03-01T15:15:02.624480Z",
     "start_time": "2021-03-01T15:14:58.328Z"
    }
   },
   "outputs": [],
   "source": [
    "# Get the standard deviations back\n",
    "print(\"Standard deviations of parameters: \", np.sqrt(np.diag(trace_m_df.cov())))"
   ]
  },
  {
   "cell_type": "code",
   "execution_count": null,
   "id": "pacific-argentina",
   "metadata": {
    "ExecuteTime": {
     "end_time": "2021-03-01T15:15:02.625487Z",
     "start_time": "2021-03-01T15:14:58.331Z"
    }
   },
   "outputs": [],
   "source": [
    "np.sqrt(np.diag(trace_m_df.cov()))"
   ]
  },
  {
   "cell_type": "code",
   "execution_count": null,
   "id": "israeli-casting",
   "metadata": {
    "ExecuteTime": {
     "end_time": "2021-03-01T15:15:02.626328Z",
     "start_time": "2021-03-01T15:14:58.334Z"
    }
   },
   "outputs": [],
   "source": [
    "# Correlation matrix can show how changing one parameter affects another\n",
    "trace_m_df.corr()"
   ]
  },
  {
   "cell_type": "markdown",
   "id": "boring-virgin",
   "metadata": {},
   "source": [
    "Like in the book: \"Very little covariation among the parameters in this case. Using pairs(m4.3) shows both the marginal posteriors and the covariance. In the practice problems at the end of the chapter, you’ll see that the lack of covariance among the parameters results from CENTERING.\""
   ]
  },
  {
   "cell_type": "markdown",
   "id": "varied-serial",
   "metadata": {},
   "source": [
    "### Visualize the posterior\n",
    "\n",
    "Plotting can be very helpful for model diagnostics."
   ]
  },
  {
   "cell_type": "code",
   "execution_count": null,
   "id": "loose-locator",
   "metadata": {
    "ExecuteTime": {
     "end_time": "2021-03-01T15:15:02.627240Z",
     "start_time": "2021-03-01T15:14:58.516Z"
    }
   },
   "outputs": [],
   "source": [
    "with heights_model:\n",
    "    az.plot_trace(trace_m)"
   ]
  },
  {
   "cell_type": "markdown",
   "id": "decent-mortality",
   "metadata": {},
   "source": [
    "Per the PyMC documentation: \"The left column consists of a smoothed histogram (using kernel density estimation) of the marginal posteriors of each stochastic random variable while the right column contains the samples of the Markov chain plotted in sequential order. The beta variable, being vector-valued, produces two histograms and two sample traces, corresponding to both predictor coefficients.\""
   ]
  },
  {
   "cell_type": "markdown",
   "id": "french-bobby",
   "metadata": {},
   "source": [
    "### Plot the posterior inference against the data.\n",
    "\n",
    "*I believe when it says \"plotting the posterior inference\" that refers to the parameters, the fitted line.*"
   ]
  },
  {
   "cell_type": "code",
   "execution_count": null,
   "id": "attractive-export",
   "metadata": {
    "ExecuteTime": {
     "end_time": "2021-03-01T15:15:02.628228Z",
     "start_time": "2021-03-01T15:14:58.689Z"
    }
   },
   "outputs": [],
   "source": [
    "plt.plot(d2.weight, d2.height, \".\")\n",
    "plt.plot(\n",
    "    d2.weight,\n",
    "    trace_m[\"a\"].mean() + trace_m[\"b\"].mean() * (d2.weight - xbar),\n",
    "    label=\"posterior *mean* line\",\n",
    ")\n",
    "plt.xlabel(d2.columns[1])\n",
    "plt.ylabel(d2.columns[0])\n",
    "plt.legend()"
   ]
  },
  {
   "cell_type": "markdown",
   "id": "neutral-membrane",
   "metadata": {},
   "source": [
    "It's important to remember that the line drawn represents the posterior **mean** line. It is the most plausible line, but it's helpful to keep in mind that there's uncertainty and other lines are plausible (albeit with lower probability).\n",
    "\n",
    "### Add uncertainty around the mean\n",
    "\n",
    "But remember each parameter isn't really a single number. Each parameter has its own distribution and so we can take uncertainty into account. From the book: \"So how can we get that uncertainty onto the plot? Together, a combination of α and β define a line. And so we could sample a bunch of lines from the posterior distribution. Then we could display those lines on the plot, to visualize the uncertainty in the regression relationship.\""
   ]
  },
  {
   "cell_type": "code",
   "execution_count": null,
   "id": "fossil-underground",
   "metadata": {
    "ExecuteTime": {
     "end_time": "2021-03-01T15:15:02.629057Z",
     "start_time": "2021-03-01T15:14:58.804Z"
    }
   },
   "outputs": [],
   "source": [
    "# Inspect sampled parameters\n",
    "df_sampled_params = pd.DataFrame(\n",
    "    {\n",
    "        \"a\": trace_m.get_values(\"a\"),\n",
    "        \"b\": trace_m.get_values(\"b\"),\n",
    "        \"sigma\": trace_m.get_values(\"sigma\"),\n",
    "    }\n",
    ")\n",
    "\n",
    "df_sampled_params.head()"
   ]
  },
  {
   "cell_type": "code",
   "execution_count": null,
   "id": "phantom-fundamentals",
   "metadata": {
    "ExecuteTime": {
     "end_time": "2021-03-01T15:15:02.629962Z",
     "start_time": "2021-03-01T15:14:58.808Z"
    }
   },
   "outputs": [],
   "source": [
    "trace_m_df.head()"
   ]
  },
  {
   "cell_type": "markdown",
   "id": "insured-dairy",
   "metadata": {},
   "source": [
    "One thing I noticed is that there are 4000 rows but the figure above shows it going to 1000. When looking at some of the earlier code, it can be explained by some of these lines:\n",
    "\n",
    "This was in the initial model fitting:\n",
    "<br>\n",
    "`trace_m = pm.sample(1000, tune=1000)`\n",
    "<br>\n",
    "`Multiprocess sampling (4 chains in 4 jobs)`\n",
    "\n",
    "\n",
    "I don't know how to take into account this multiprocess sampling, so I'll treat the 4000 rows as simply being different samples drawn from the posterior distribution.\n",
    "\n",
    "Maybe looking at the summary statistics will help?"
   ]
  },
  {
   "cell_type": "code",
   "execution_count": null,
   "id": "magnetic-blond",
   "metadata": {
    "ExecuteTime": {
     "end_time": "2021-03-01T15:15:02.630859Z",
     "start_time": "2021-03-01T15:14:58.903Z"
    }
   },
   "outputs": [],
   "source": [
    "df_sampled_params.mean()"
   ]
  },
  {
   "cell_type": "code",
   "execution_count": null,
   "id": "lovely-affair",
   "metadata": {
    "ExecuteTime": {
     "end_time": "2021-03-01T15:15:02.631768Z",
     "start_time": "2021-03-01T15:14:58.907Z"
    }
   },
   "outputs": [],
   "source": [
    "df_sampled_params.std()"
   ]
  },
  {
   "cell_type": "code",
   "execution_count": null,
   "id": "three-diesel",
   "metadata": {
    "ExecuteTime": {
     "end_time": "2021-03-01T15:15:02.632744Z",
     "start_time": "2021-03-01T15:14:58.911Z"
    }
   },
   "outputs": [],
   "source": [
    "# Reminder of what the summary stats returned\n",
    "az.summary(trace_m, round_to=3, kind=\"stats\")"
   ]
  },
  {
   "cell_type": "markdown",
   "id": "tested-activation",
   "metadata": {},
   "source": [
    "Looking at the summary statistics didn't really help."
   ]
  },
  {
   "cell_type": "code",
   "execution_count": null,
   "id": "physical-stylus",
   "metadata": {
    "ExecuteTime": {
     "end_time": "2021-03-01T15:15:02.633702Z",
     "start_time": "2021-03-01T15:14:59.046Z"
    }
   },
   "outputs": [],
   "source": [
    "d2.head()"
   ]
  },
  {
   "cell_type": "code",
   "execution_count": null,
   "id": "split-monthly",
   "metadata": {
    "ExecuteTime": {
     "end_time": "2021-03-01T15:15:02.634653Z",
     "start_time": "2021-03-01T15:14:59.051Z"
    }
   },
   "outputs": [],
   "source": [
    "f, ax1 = plt.subplots()\n",
    "\n",
    "for i in range(100):\n",
    "    ax1.plot(\n",
    "        d2[\"weight\"],\n",
    "        df_sampled_params[\"a\"][i] + df_sampled_params[\"b\"][i] * (d2[\"weight\"] - xbar),\n",
    "        color=\"gray\",\n",
    "        linewidth=0.5,\n",
    "        linestyle=\"dashed\"\n",
    "        # label=\"randomly sampled parameter\",\n",
    "    )\n",
    "\n",
    "ax1.plot(\n",
    "    d2[\"weight\"],\n",
    "    df_sampled_params[\"a\"][i] + df_sampled_params[\"b\"][i] * (d2[\"weight\"] - xbar),\n",
    "    color=\"gray\",\n",
    "    linewidth=0.5,\n",
    "    linestyle=\"dashed\",\n",
    "    label=r\"a line for each of 100 randomly $\\alpha$ and $\\beta$ sampled parameter values\",\n",
    ")\n",
    "\n",
    "ax1.plot(d2[\"weight\"], d2[\"height\"], \".\")  # think I need the \".\" for the scatter\n",
    "ax1.plot(\n",
    "    d2[\"weight\"],\n",
    "    trace_m[\"a\"].mean() + trace_m[\"b\"].mean() * (d2.weight - xbar),\n",
    "    label=\"posterior *mean* line\",\n",
    ")\n",
    "\n",
    "ax1.set_xlabel(d2.columns[1])\n",
    "ax1.set_ylabel(d2.columns[0])\n",
    "ax1.legend(fontsize=11)"
   ]
  },
  {
   "cell_type": "markdown",
   "id": "desperate-athletics",
   "metadata": {},
   "source": [
    "Even with these 100 lines, you can see how tight the approximations are. (Note that this is showing something different than what's on page 103.) Nevertheless, there's still uncertainty."
   ]
  },
  {
   "cell_type": "markdown",
   "id": "naked-skill",
   "metadata": {},
   "source": [
    "## Making predictions with given values\n",
    "\n",
    "Now that we have a good grasp of the data, we can make *posterior* predictions. Functionally, what we are doing is  taking into account the probability distributions of each parameter (alpha, beta, sigma) when making the prediction.\n",
    "\n",
    "However, it was not intuitive to me to see how to carry this out mechanically using `pymc`. Let's walk through this step-by-step since there are different ways we can capture uncertainty.\n",
    "\n",
    "One thing that I had some trouble grasping was the distinction in these two equations:\n",
    "\n",
    "$\\text{height}_i$ ~ Normal($\\mu_i, \\sigma$)\n",
    "<br>\n",
    "$\\mu_i = \\alpha + \\beta(x_i  - \\bar{x})$\n",
    "\n",
    "The first line is *actual* height, that incorporates the uncertainty of all parameters. The second line is *average* height. Note that $\\sigma$ is not represented but $\\alpha$ and $\\beta$ are both vectors so $\\mu_i$ will also be a vector for a single weight value (or a matrix when looking at all weight values, see below). It's taken me time to grasp the difference but we'll work with this now.\n",
    "\n",
    "### Predictions for average or expected height\n",
    "\n",
    "The first step is looking at the uncertainty for $\\mu_i$ or average height *ignoring* $\\sigma$ for now. It is represented in this formula:\n",
    "<br>\n",
    "$\\mu_i = \\alpha + \\beta(x_i - \\bar{x}$)\n",
    "\n",
    "We'll look first at a single weight value before looking at all weight values"
   ]
  },
  {
   "cell_type": "markdown",
   "id": "surprised-discovery",
   "metadata": {},
   "source": [
    "#### Look only at single weight value\n",
    "The first is focusing on a single weight value. Let's take the first weight, 45. We can use the formula for our line and simply plug in the value of 45 for $x_i$. We will get back a vector of predicted means since $\\alpha$ and $\\beta$ are vectors."
   ]
  },
  {
   "cell_type": "code",
   "execution_count": null,
   "id": "existing-static",
   "metadata": {
    "ExecuteTime": {
     "end_time": "2021-03-01T15:15:02.635534Z",
     "start_time": "2021-03-01T15:14:59.388Z"
    }
   },
   "outputs": [],
   "source": [
    "mu_at_45 = df_sampled_params[\"a\"] + df_sampled_params[\"b\"] * (45 - xbar)\n",
    "mu_at_45"
   ]
  },
  {
   "cell_type": "code",
   "execution_count": null,
   "id": "secondary-swing",
   "metadata": {
    "ExecuteTime": {
     "end_time": "2021-03-01T15:15:02.636499Z",
     "start_time": "2021-03-01T15:14:59.392Z"
    }
   },
   "outputs": [],
   "source": [
    "type(mu_at_45)"
   ]
  },
  {
   "cell_type": "code",
   "execution_count": null,
   "id": "seventh-covering",
   "metadata": {
    "ExecuteTime": {
     "end_time": "2021-03-01T15:15:02.637477Z",
     "start_time": "2021-03-01T15:14:59.397Z"
    }
   },
   "outputs": [],
   "source": [
    "# Just showing both ways\n",
    "f, (ax1, ax2) = plt.subplots(2, 1, sharex=True)\n",
    "sns.kdeplot(mu_at_45, ax=ax1)\n",
    "ax1.set_title(\"KDE with seaborn\")\n",
    "\n",
    "az.plot_kde(mu_at_45, ax=ax2)\n",
    "ax2.set_title(\"KDE with arviz\")\n",
    "ax2.set_ylabel(\"density\")\n",
    "ax2.set_xlabel(\"mu|weight=45\")"
   ]
  },
  {
   "cell_type": "code",
   "execution_count": null,
   "id": "unique-interview",
   "metadata": {
    "ExecuteTime": {
     "end_time": "2021-03-01T15:15:02.638419Z",
     "start_time": "2021-03-01T15:14:59.402Z"
    }
   },
   "outputs": [],
   "source": [
    "# Get 89% compatibility interval\n",
    "az.hpd(np.array(mu_at_45))"
   ]
  },
  {
   "cell_type": "markdown",
   "id": "diverse-chess",
   "metadata": {},
   "source": [
    "#### All weight values drawing 89% intervals around the average slope\n",
    "\n",
    "This is taken from the repo: \"We are doing manually, in the book is done using the `link` function. In the book on code 4.58 the following operations are performed manually.\"\n",
    "\n",
    "The line for `mu_pred` can be explained. Unlike the example above where `mu` was a vector when evaluating at had for a single weight value, we will now return a matrix. Note: When we initialize the matrix, we multiply by nchains to represent all the valid MCMC samples. This [Stack Overflow link](https://stackoverflow.com/questions/49825216/what-is-a-chain-in-pymc3) was included above but it explains how MCMC uses multiple chains."
   ]
  },
  {
   "cell_type": "code",
   "execution_count": null,
   "id": "monetary-lending",
   "metadata": {
    "ExecuteTime": {
     "end_time": "2021-03-01T15:15:02.639373Z",
     "start_time": "2021-03-01T15:14:59.530Z"
    }
   },
   "outputs": [],
   "source": [
    "weight_seq = np.arange(25, 71)\n",
    "\n",
    "# Given that we have a lot of samples we can use less of them for plotting (or we can use all!)\n",
    "trace_m_thinned = trace_m[::10]\n",
    "\n",
    "# See note above about the next line\n",
    "mu_pred = np.zeros((len(weight_seq), len(trace_m_thinned) * trace_m.nchains))\n",
    "\n",
    "# Fill out the matrix in this loop\n",
    "for i, w in enumerate(weight_seq):\n",
    "    mu_pred[i] = trace_m_thinned[\"a\"] + trace_m_thinned[\"b\"] * (w - d2.weight.mean())"
   ]
  },
  {
   "cell_type": "code",
   "execution_count": null,
   "id": "dirty-volleyball",
   "metadata": {
    "ExecuteTime": {
     "end_time": "2021-03-01T15:15:02.640311Z",
     "start_time": "2021-03-01T15:14:59.534Z"
    }
   },
   "outputs": [],
   "source": [
    "mu_pred.shape"
   ]
  },
  {
   "cell_type": "code",
   "execution_count": null,
   "id": "photographic-moderator",
   "metadata": {
    "ExecuteTime": {
     "end_time": "2021-03-01T15:15:02.641305Z",
     "start_time": "2021-03-01T15:14:59.538Z"
    }
   },
   "outputs": [],
   "source": [
    "mu_pred[0:5, :]"
   ]
  },
  {
   "cell_type": "markdown",
   "id": "unknown-couple",
   "metadata": {},
   "source": [
    "#### Side code for inspection"
   ]
  },
  {
   "cell_type": "markdown",
   "id": "exterior-processor",
   "metadata": {},
   "source": [
    "Instead of a vector as we had for a single weight value, we now have a matrix."
   ]
  },
  {
   "cell_type": "code",
   "execution_count": null,
   "id": "hairy-breath",
   "metadata": {
    "ExecuteTime": {
     "end_time": "2021-03-01T15:15:02.642190Z",
     "start_time": "2021-03-01T15:14:59.797Z"
    }
   },
   "outputs": [],
   "source": [
    "# Inspecting the trace_m[::10]\n",
    "len(trace_m[::10][\"a\"])"
   ]
  },
  {
   "cell_type": "code",
   "execution_count": null,
   "id": "otherwise-springer",
   "metadata": {
    "ExecuteTime": {
     "end_time": "2021-03-01T15:15:02.643157Z",
     "start_time": "2021-03-01T15:14:59.802Z"
    }
   },
   "outputs": [],
   "source": [
    "# https://stackoverflow.com/questions/49825216/what-is-a-chain-in-pymc3\n",
    "trace_m.nchains"
   ]
  },
  {
   "cell_type": "code",
   "execution_count": null,
   "id": "powerful-north",
   "metadata": {
    "ExecuteTime": {
     "end_time": "2021-03-01T15:15:02.644136Z",
     "start_time": "2021-03-01T15:14:59.806Z"
    }
   },
   "outputs": [],
   "source": [
    "# A way to take every nth value\n",
    "[\"a\", \"b\", \"c\", \"d\", \"e\", \"f\"][::2]"
   ]
  },
  {
   "cell_type": "markdown",
   "id": "responsible-testament",
   "metadata": {},
   "source": [
    "#### Plot uncertainty for $\\mu$"
   ]
  },
  {
   "cell_type": "code",
   "execution_count": null,
   "id": "living-wallpaper",
   "metadata": {
    "ExecuteTime": {
     "end_time": "2021-03-01T15:15:02.645063Z",
     "start_time": "2021-03-01T15:14:59.937Z"
    }
   },
   "outputs": [],
   "source": [
    "plt.plot(weight_seq, mu_pred, \"C0.\", alpha=0.1)\n",
    "plt.xlabel(\"weight\")\n",
    "plt.ylabel(\"height (mu)\")\n",
    "plt.title(r\"Uncertainty of $\\mu_i$, the linear model of the mean\")"
   ]
  },
  {
   "cell_type": "markdown",
   "id": "affecting-emergency",
   "metadata": {},
   "source": [
    "Show numerical values for $\\mu_i$ at each weight."
   ]
  },
  {
   "cell_type": "code",
   "execution_count": null,
   "id": "corporate-genome",
   "metadata": {
    "ExecuteTime": {
     "end_time": "2021-03-01T15:15:02.646075Z",
     "start_time": "2021-03-01T15:15:00.083Z"
    }
   },
   "outputs": [],
   "source": [
    "mu_mean = mu_pred.mean(1)\n",
    "# mu_hpd = az.hpd(mu_pred.T)\n",
    "mu_hpd = az.hdi(mu_pred.T)  # az.hdi is replacing az.hpd (gives same answer)\n",
    "\n",
    "pred_table = pd.DataFrame(\n",
    "    {\n",
    "        \"weight\": weight_seq,\n",
    "        \"mu_mean\": mu_mean,\n",
    "        \"5perc\": mu_hpd[:, 0],\n",
    "        \"94perc\": mu_hpd[:, 1],\n",
    "        \"89perc_range\": mu_hpd[:, 1] - mu_hpd[:, 0],\n",
    "    }\n",
    ")\n",
    "pred_table"
   ]
  },
  {
   "cell_type": "code",
   "execution_count": null,
   "id": "revolutionary-poetry",
   "metadata": {
    "ExecuteTime": {
     "end_time": "2021-03-01T15:15:02.647053Z",
     "start_time": "2021-03-01T15:15:00.087Z"
    }
   },
   "outputs": [],
   "source": [
    "az.plot_hdi(weight_seq, mu_pred.T)  # Plots the shaded region for 89% PI\n",
    "plt.scatter(\n",
    "    d2.weight, d2.height, alpha=0.5\n",
    ")  # Scatter plot with alpha set to see overlap\n",
    "plt.plot(weight_seq, mu_mean, \"k\")  # MAP line (aka mean mu for each weight)\n",
    "plt.xlabel(\"weight\")\n",
    "plt.ylabel(\"height\")\n",
    "plt.title(r\"$\\mu_i$ with shaded 89% PI\")\n",
    "plt.xlim(d2.weight.min(), d2.weight.max())"
   ]
  },
  {
   "cell_type": "markdown",
   "id": "herbal-steel",
   "metadata": {},
   "source": [
    "**A summary of \"the recipe\" for generating predictions and intervals for $\\mu_i$**\n",
    "\n",
    "(1) Generate distributions of posterior values for μ. The default behavior of `link` (his package) is to use the original data, so you have to pass it a list of new horizontal axis values you want to plot posterior predictions across.\n",
    "\n",
    "(2) Use summary functions like mean or PI to find averages and lower and upper bounds of μ for each value of the predictor variable.\n",
    "\n",
    "(3) Finally, use plotting functions like lines and shade to draw the lines and intervals. Or you might plot the distributions of the predictions, or do further numerical calculations with them. It’s really up to you.\n",
    "\n",
    "\"This recipe works for every model we fit in the book. As long as you know the structure of the model—how parameters relate to the data—you can use samples from the posterior to describe any aspect of the model’s behavior.\""
   ]
  },
  {
   "cell_type": "markdown",
   "id": "activated-measurement",
   "metadata": {},
   "source": [
    "### Predictions for actual height\n",
    "\n",
    "We return now to the original problem where we are seeking predictions for actual height. We will produce compatability intervals where we'd expect to see *any* observed height (note how the uncertainty region for $\\mu_i$ as shown above is much narrower than where the points are.)\n",
    "\n",
    "We will do something similar as what we did above but this time incorporating $\\sigma$.\n",
    "\n",
    "$\\text{height}_i$ ~ Normal($\\mu_i, \\sigma$)\n",
    "\n",
    "The strategy to do this will depend on simulations. PyMC has a function `sample_posterior_predictive` that can use the trace object and model that we defined above.\n",
    "\n",
    "Documentation is [here](https://docs.pymc.io/notebooks/posterior_predictive.html) and discussions are [here](https://discourse.pymc.io/t/how-to-predict-new-values-on-hold-out-data/2568/3) and [here, although mostly old](https://stackoverflow.com/questions/33249122/generating-predictions-from-inferred-parameters-in-pymc3).\n",
    "\n",
    "This is in the PyMC Jupyter notebook for this code: \"Now we are going to use sample_posterior_predictive() from PyCM3. This function gives us posterior predictive samples, that is for each value of the input variable we get a sample (from the posterior) of the output variable. Thus in the following example the shape of `height_pred['height'].shape` is (200, 352).\" The original weights are inherently part of the model."
   ]
  },
  {
   "cell_type": "code",
   "execution_count": null,
   "id": "blessed-nightlife",
   "metadata": {
    "ExecuteTime": {
     "end_time": "2021-03-01T15:15:02.648184Z",
     "start_time": "2021-03-01T15:15:00.357Z"
    }
   },
   "outputs": [],
   "source": [
    "# Predict heights\n",
    "\n",
    "# set parameter to 200 to match the notebook example\n",
    "# could set to 400 to match the samples and nchains\n",
    "height_pred = pm.sample_posterior_predictive(trace_m_thinned, 200, heights_model)\n",
    "height_pred"
   ]
  },
  {
   "cell_type": "code",
   "execution_count": null,
   "id": "robust-adolescent",
   "metadata": {
    "ExecuteTime": {
     "end_time": "2021-03-01T15:15:02.649037Z",
     "start_time": "2021-03-01T15:15:00.360Z"
    }
   },
   "outputs": [],
   "source": [
    "height_pred[\"height\"].shape"
   ]
  },
  {
   "cell_type": "markdown",
   "id": "statewide-mount",
   "metadata": {
    "ExecuteTime": {
     "end_time": "2021-02-25T17:33:00.564808Z",
     "start_time": "2021-02-25T17:33:00.558939Z"
    }
   },
   "source": [
    "The 352 comes from the dimensions of the dataframe `d2`."
   ]
  },
  {
   "cell_type": "code",
   "execution_count": null,
   "id": "expensive-laptop",
   "metadata": {
    "ExecuteTime": {
     "end_time": "2021-03-01T15:15:02.650059Z",
     "start_time": "2021-03-01T15:15:00.494Z"
    }
   },
   "outputs": [],
   "source": [
    "d2.shape"
   ]
  },
  {
   "cell_type": "code",
   "execution_count": null,
   "id": "obvious-amount",
   "metadata": {
    "ExecuteTime": {
     "end_time": "2021-03-01T15:15:02.651020Z",
     "start_time": "2021-03-01T15:15:00.498Z"
    }
   },
   "outputs": [],
   "source": [
    "# height_pred_hpd = az.hpd(height_pred[\"height\"])\n",
    "height_pred_hpd = az.hdi(height_pred[\"height\"])  # hdi replacing hpd function\n",
    "height_pred_hpd"
   ]
  },
  {
   "cell_type": "markdown",
   "id": "initial-tackle",
   "metadata": {},
   "source": [
    "Note that in our `pred_table` ( ($\\mu_i$ means and intervals), we inputted the weights, but here we are using the original input values."
   ]
  },
  {
   "cell_type": "code",
   "execution_count": null,
   "id": "fiscal-growing",
   "metadata": {
    "ExecuteTime": {
     "end_time": "2021-03-01T15:15:02.652068Z",
     "start_time": "2021-03-01T15:15:00.643Z"
    }
   },
   "outputs": [],
   "source": [
    "ax = az.plot_hdi(weight_seq, mu_pred.T)\n",
    "az.plot_hdi(d2.weight, height_pred[\"height\"], ax=ax)\n",
    "plt.scatter(d2.weight, d2.height)\n",
    "plt.plot(weight_seq, mu_mean, \"k\")\n",
    "plt.xlabel(\"weight\")\n",
    "plt.ylabel(\"height\")\n",
    "plt.title(r\"Uncertainty for actual heights\")\n",
    "plt.xlim(d2.weight.min(), d2.weight.max())"
   ]
  },
  {
   "cell_type": "markdown",
   "id": "deluxe-fleet",
   "metadata": {},
   "source": [
    "#### How do we input new values?\n",
    "\n",
    "The problem however is that so far, we have not inputted new input values. I had to look really closely at the example notebook from the `pymc` repo. This was the most proximal code.\n",
    "\n",
    "```\n",
    "# define the data\n",
    "individuals = np.linspace(1, 4, 4)\n",
    "weight = np.array([45, 40, 65, 31])\n",
    "# compute the mean predictions\n",
    "map_estimates = map_estimates[\"alpha\"] + map_estimates[\"beta\"] * weight\n",
    "# compute the prediction intervals\n",
    "pred_intervals = np.array(\n",
    "    [az.hdi(np.random.normal(loc=compute_mu(x), scale=post_samples[:, 2])) for x in weight]\n",
    ")\n",
    "data_dict = {\n",
    "    \"Individual\": individuals,\n",
    "    \"Weight\": weight,\n",
    "    \"Expected height\": means,\n",
    "    \"Low_interval\": pred_intervals[:, 0],\n",
    "    \"Upper_interval\": pred_intervals[:, 1],\n",
    "}\n",
    "```\n",
    "\n",
    "But some lines were not fully defined, especially the `pred_intervals`. I basically looked at the code and kept backtracking to trace where things came from."
   ]
  },
  {
   "cell_type": "markdown",
   "id": "unnecessary-treat",
   "metadata": {},
   "source": [
    "Let's start with one of the easier things. Getting the means at each point was easy because we can simply use the linear model. I'm going to call mine `map_estimates` whereas in the repo code, it ws called `means`."
   ]
  },
  {
   "cell_type": "code",
   "execution_count": null,
   "id": "bacterial-seven",
   "metadata": {
    "ExecuteTime": {
     "end_time": "2021-03-01T15:15:02.652900Z",
     "start_time": "2021-03-01T15:15:00.955Z"
    }
   },
   "outputs": [],
   "source": [
    "map_estimates = pm.find_MAP(model=heights_model)\n",
    "map_estimates"
   ]
  },
  {
   "cell_type": "markdown",
   "id": "fiscal-cleaning",
   "metadata": {},
   "source": [
    "#### Breaking down repo code for `pred_intervals`"
   ]
  },
  {
   "cell_type": "markdown",
   "id": "varied-bermuda",
   "metadata": {},
   "source": [
    "Getting variance is hard and I basically looked at the code and kept backtracking to trace where things came from. Here again is the line:\n",
    "\n",
    "```\n",
    "pred_intervals = np.array(\n",
    "    [az.hdi(np.random.normal(loc=compute_mu(x), scale=post_samples[:, 2])) for x in weight]\n",
    ")\n",
    "```\n",
    "\n",
    "Let's start with `compute_mu`.\n",
    "\n",
    "```\n",
    "# define a function to compute mu for all posterior samples at given value of x\n",
    "def compute_mu(x):\n",
    "    return post_samples[:, 0] + post_samples[:, 1] * (x)\n",
    "```\n",
    "\n",
    "As you can see, the code looks straightforward, but we are still relying on an object that we haven't defined yet: `post_samples`.\n",
    "\n",
    "We can see where it's defined:\n",
    "\n",
    "```\n",
    "# resample for posterior for 10,000 sample\n",
    "post_samples = np.random.multivariate_normal(map_estimates, var_cov, size=10000)\n",
    "```\n",
    "\n",
    "Ok, now we're getting somewhere. I haven't used the numpy method `random.multivariate_normal`, so let's look it up [here](https://numpy.org/doc/stable/reference/random/generated/numpy.random.multivariate_normal.html). The description is straightforward:\n",
    "*\"Draw random samples from a multivariate normal distribution. The multivariate normal, multinormal or Gaussian distribution is a generalization of the one-dimensional normal distribution to higher dimensions. Such a distribution is specified by its mean and covariance matrix. These parameters are analogous to the mean (average or “center”) and variance (standard deviation, or “width,” squared) of the one-dimensional normal distribution.\"*\n",
    "\n",
    "Let's play around with numpy's 1D function `random.normal` [here](https://numpy.org/doc/stable/reference/random/generated/numpy.random.normal.html). I have not used this functon a lot but even if I have, it is only to generate samples around one mean and standard deviation."
   ]
  },
  {
   "cell_type": "code",
   "execution_count": null,
   "id": "bottom-declaration",
   "metadata": {
    "ExecuteTime": {
     "end_time": "2021-03-01T15:15:02.653866Z",
     "start_time": "2021-03-01T15:15:01.219Z"
    }
   },
   "outputs": [],
   "source": [
    "np.random.normal(loc=0, scale=1, size=10)"
   ]
  },
  {
   "cell_type": "markdown",
   "id": "incorporate-force",
   "metadata": {},
   "source": [
    "It occurred to me that in a [post](https://benslack19.github.io/prior-likelihood-posterior-predictive/), I had used the `scipy.stats` version to get random variates from a binomial distribution. It does not really matter whether I use the `numpy` or the `scipy.stats` version, but it helps to know that there are options and that these  functions are doing similar things."
   ]
  },
  {
   "cell_type": "code",
   "execution_count": null,
   "id": "egyptian-rates",
   "metadata": {
    "ExecuteTime": {
     "end_time": "2021-03-01T15:15:02.654748Z",
     "start_time": "2021-03-01T15:15:01.379Z"
    }
   },
   "outputs": [],
   "source": [
    "stats.norm.rvs(loc=0, scale=1, size=10)"
   ]
  },
  {
   "cell_type": "markdown",
   "id": "incorporate-insight",
   "metadata": {},
   "source": [
    "The key realization from inspecting the `pymc` code is that this function can be leveraged to have different mean and standard deviation for each draw. That is, `loc` and `scale` can be vectors. I'll vary the vectors for each so that you can appreciate the resulting vector."
   ]
  },
  {
   "cell_type": "code",
   "execution_count": null,
   "id": "sufficient-dictionary",
   "metadata": {
    "ExecuteTime": {
     "end_time": "2021-03-01T15:15:02.655804Z",
     "start_time": "2021-03-01T15:15:01.534Z"
    }
   },
   "outputs": [],
   "source": [
    "stats.norm.rvs(\n",
    "    loc=[1, 1, 1, 10, 10, 10, 20, 20, 20], scale=[0.5, 1, 2, 0.5, 1, 2, 0.5, 1, 2]\n",
    ")"
   ]
  },
  {
   "cell_type": "markdown",
   "id": "corresponding-lexington",
   "metadata": {},
   "source": [
    "Now let's look at the [multivariate version](https://docs.scipy.org/doc/scipy/reference/generated/scipy.stats.multivariate_normal.html) of this function. The main difference is that the `scale` parameter which represents the standard deviation in the 1D function, is replaced with the `cov` parameter which represents the covariance matrix. Otherwise, the syntax is similar.\n",
    "\n",
    "`stats.multivariate_normal.rvs(mean=None, cov=1)    # We'll substitute later`   \n",
    "\n",
    "In the homework question, we got the covariance matrix way at the beginning from the `pymc` `trace` object (after being converted to a dataframe). Here it is again."
   ]
  },
  {
   "cell_type": "code",
   "execution_count": null,
   "id": "lonely-maine",
   "metadata": {
    "ExecuteTime": {
     "end_time": "2021-03-01T15:15:02.656588Z",
     "start_time": "2021-03-01T15:15:01.669Z"
    }
   },
   "outputs": [],
   "source": [
    "trace_m_df.cov().round(3)"
   ]
  },
  {
   "cell_type": "markdown",
   "id": "saving-expert",
   "metadata": {},
   "source": [
    "Remember that the `trace_dm_df` object is just an array of all the samples and their parameters."
   ]
  },
  {
   "cell_type": "code",
   "execution_count": null,
   "id": "eight-income",
   "metadata": {
    "ExecuteTime": {
     "end_time": "2021-03-01T15:15:02.657649Z",
     "start_time": "2021-03-01T15:15:01.821Z"
    }
   },
   "outputs": [],
   "source": [
    "trace_m_df"
   ]
  },
  {
   "cell_type": "markdown",
   "id": "exciting-sellers",
   "metadata": {},
   "source": [
    "Great - now what do we put for the `loc` parameter? We can simply use the linear equation that we used when evaluating the uncertainty for $\\mu_i$. (Up above, I manually created a dataframe called `df_sampled_params` before I realized that `trace_m_df` was exactly the same thing. I'll use the latter in this code since that's what I'll likely use moving forward.\n",
    "\n",
    "Let's look at the first weight value. A reminder that since $\\alpha$ and $\\beta$ are vectors, the output is also a vector."
   ]
  },
  {
   "cell_type": "code",
   "execution_count": null,
   "id": "adolescent-siemens",
   "metadata": {
    "ExecuteTime": {
     "end_time": "2021-03-01T15:15:02.658636Z",
     "start_time": "2021-03-01T15:15:01.974Z"
    }
   },
   "outputs": [],
   "source": [
    "trace_m_df[\"a\"] + trace_m_df[\"b\"] * (45 - xbar)"
   ]
  },
  {
   "cell_type": "markdown",
   "id": "enhanced-cuisine",
   "metadata": {},
   "source": [
    "The `pymc` repo places this in a function, but I will leave it this way since it is clearer to me where things come from.\n",
    "\n",
    "We now have all of our pieces to input the appropriate parameters to `stats.multivariate_normal.rvs`."
   ]
  },
  {
   "cell_type": "markdown",
   "id": "occupied-valuable",
   "metadata": {},
   "source": [
    "#### Getting the answer"
   ]
  },
  {
   "cell_type": "code",
   "execution_count": null,
   "id": "sporting-contemporary",
   "metadata": {
    "ExecuteTime": {
     "end_time": "2021-03-01T15:15:02.659573Z",
     "start_time": "2021-03-01T15:15:02.274Z"
    }
   },
   "outputs": [],
   "source": [
    "trace_m_thinned_df = pm.trace_to_dataframe(trace_m_thinned)\n",
    "trace_m_thinned_df"
   ]
  },
  {
   "cell_type": "code",
   "execution_count": null,
   "id": "focal-reminder",
   "metadata": {
    "ExecuteTime": {
     "end_time": "2021-03-01T15:15:02.660590Z",
     "start_time": "2021-03-01T15:15:02.280Z"
    }
   },
   "outputs": [],
   "source": [
    "trace_m_df.head()"
   ]
  },
  {
   "cell_type": "code",
   "execution_count": null,
   "id": "limited-whole",
   "metadata": {
    "ExecuteTime": {
     "end_time": "2021-03-01T15:15:02.661628Z",
     "start_time": "2021-03-01T15:15:02.285Z"
    }
   },
   "outputs": [],
   "source": [
    "weights = [45, 40, 65, 31]\n",
    "\n",
    "for weight in weights:\n",
    "\n",
    "    draw_mvs = stats.multivariate_normal.rvs(\n",
    "        mean=trace_m_thinned_df[\"a\"] + trace_m_thinned_df[\"b\"] * (weight - xbar),\n",
    "        cov=trace_m_thinned_df[\"sigma\"],\n",
    "    )\n",
    "\n",
    "    print(\"weight: \", weight, \"mean: \", draw_mvs.mean(), \"HPD: \", az.hdi(draw_mvs))"
   ]
  },
  {
   "cell_type": "markdown",
   "id": "varied-faculty",
   "metadata": {},
   "source": [
    "I am confused because, while the means match the answer key, my intervals do not. This is from the answer key.\n",
    "\n",
    "```\n",
    "weight Eh L89 U89\n",
    "45 154.7 146.7 162.8\n",
    "40 150.4 142.3 158.7\n",
    "65 172.6 163.9 180.9\n",
    "31 142.0 134.3 150.1\n",
    "```"
   ]
  },
  {
   "cell_type": "markdown",
   "id": "global-employment",
   "metadata": {},
   "source": [
    "#### Something unexpected happened\n",
    "My intervals are narrower than the expected result. I think I realized what happened. I was going directly from sampled parameters to predicting heights when I should have used `stats.multivariate_normal.rvs` to *simulate* parameters further. **Still unclear why this is needed...**"
   ]
  },
  {
   "cell_type": "code",
   "execution_count": null,
   "id": "baking-princeton",
   "metadata": {
    "ExecuteTime": {
     "end_time": "2021-03-01T15:15:02.662594Z",
     "start_time": "2021-03-01T15:15:02.561Z"
    }
   },
   "outputs": [],
   "source": [
    "map_estimates"
   ]
  },
  {
   "cell_type": "code",
   "execution_count": null,
   "id": "level-reservoir",
   "metadata": {
    "ExecuteTime": {
     "end_time": "2021-03-01T15:15:02.663525Z",
     "start_time": "2021-03-01T15:15:02.564Z"
    }
   },
   "outputs": [],
   "source": [
    "[map_estimates[var] for var in [\"a\", \"b\", \"sigma\"]]"
   ]
  },
  {
   "cell_type": "code",
   "execution_count": null,
   "id": "descending-paper",
   "metadata": {
    "ExecuteTime": {
     "end_time": "2021-03-01T15:15:02.664463Z",
     "start_time": "2021-03-01T15:15:02.568Z"
    }
   },
   "outputs": [],
   "source": [
    "# resample for posterior for 10,000 sample\n",
    "\n",
    "post_samples = np.random.multivariate_normal(\n",
    "    mean=[map_estimates[var] for var in [\"a\", \"b\", \"sigma\"]],\n",
    "    cov=trace_m_df.cov(),\n",
    "    size=10 ** 4,\n",
    ")\n",
    "\n",
    "post_samples = pd.DataFrame(post_samples, columns=[\"alpha\", \"beta\", \"sigma\"])\n",
    "post_samples"
   ]
  },
  {
   "cell_type": "code",
   "execution_count": null,
   "id": "municipal-astronomy",
   "metadata": {
    "ExecuteTime": {
     "end_time": "2021-03-01T15:15:02.665411Z",
     "start_time": "2021-03-01T15:15:02.572Z"
    }
   },
   "outputs": [],
   "source": [
    "weights = [45, 40, 65, 31]\n",
    "\n",
    "for weight in weights:\n",
    "    draw = stats.norm.rvs(\n",
    "        loc=post_samples[\"alpha\"] + post_samples[\"beta\"] * (weight - xbar),\n",
    "        scale=post_samples[\"sigma\"],\n",
    "    )\n",
    "\n",
    "    print(\"weight: \", weight, \"mean: \", draw.mean(), \"HPD: \", az.hdi(draw))"
   ]
  },
  {
   "cell_type": "markdown",
   "id": "sticky-warrant",
   "metadata": {},
   "source": [
    "#### A lesson about uncertainty in parameter values and uncertainty in the sampling process\n",
    "\n",
    "I get the \"right\" answer now, but I have to keep this straight in my head. This was in the book.\n",
    "\n",
    "**Rethinking: Two kinds of uncertainty.** In the procedure above, we encountered both uncertainty in parameter values and uncertainty in a sampling process. These are distinct concepts, even though they are processed much the same way and end up blended together in the posterior predictive simulation. The posterior distribution is a ranking of the relative plausibilities of every possible combination of parameter values. The distribution of simulated outcomes, like height, is instead a distribution that includes sampling variation from some process that generates Gaussian random variables. This sampling variation is still a model assumption. It’s no more or less objective than the posterior distribution. Both kinds of uncertainty matter, at least sometimes. But it’s important to keep them straight, because they depend upon different model assumptions. Furthermore, it’s possible to view the Gaussian likelihood as a purely epistemological assumption (a device for estimating the mean and variance of a variable), rather than an ontological assumption about what future data will look like. In that case, it may not make complete sense to simulate outcomes."
   ]
  },
  {
   "cell_type": "markdown",
   "id": "revolutionary-depth",
   "metadata": {},
   "source": [
    "The best thing for me now is to stop and think about it later. Good job."
   ]
  },
  {
   "cell_type": "markdown",
   "id": "historic-jacob",
   "metadata": {},
   "source": [
    "### Revisiting 2/27/21 - finding a more straightforward solution\n",
    "\n",
    "This was still confusing to me. It didn't make sense why you'd have to resample parameters again. I went back and used the one-dimensional `stats.norm` function off of the parameters that came with the original `trace` object."
   ]
  },
  {
   "cell_type": "code",
   "execution_count": 6,
   "id": "invalid-trinidad",
   "metadata": {
    "ExecuteTime": {
     "end_time": "2021-03-01T15:15:03.048668Z",
     "start_time": "2021-03-01T15:15:03.038862Z"
    }
   },
   "outputs": [
    {
     "ename": "NameError",
     "evalue": "name 'trace_m_df' is not defined",
     "output_type": "error",
     "traceback": [
      "\u001b[0;31m---------------------------------------------------------------------------\u001b[0m",
      "\u001b[0;31mNameError\u001b[0m                                 Traceback (most recent call last)",
      "\u001b[0;32m<ipython-input-6-95d7e98c2699>\u001b[0m in \u001b[0;36m<module>\u001b[0;34m\u001b[0m\n\u001b[0;32m----> 1\u001b[0;31m \u001b[0mtrace_m_df\u001b[0m\u001b[0;34m.\u001b[0m\u001b[0mhead\u001b[0m\u001b[0;34m(\u001b[0m\u001b[0;34m)\u001b[0m\u001b[0;34m\u001b[0m\u001b[0;34m\u001b[0m\u001b[0m\n\u001b[0m",
      "\u001b[0;31mNameError\u001b[0m: name 'trace_m_df' is not defined"
     ]
    },
    {
     "data": {
      "application/javascript": [
       "\n",
       "            setTimeout(function() {\n",
       "                var nbb_cell_id = 6;\n",
       "                var nbb_unformatted_code = \"trace_m_df.head()\";\n",
       "                var nbb_formatted_code = \"trace_m_df.head()\";\n",
       "                var nbb_cells = Jupyter.notebook.get_cells();\n",
       "                for (var i = 0; i < nbb_cells.length; ++i) {\n",
       "                    if (nbb_cells[i].input_prompt_number == nbb_cell_id) {\n",
       "                        if (nbb_cells[i].get_text() == nbb_unformatted_code) {\n",
       "                             nbb_cells[i].set_text(nbb_formatted_code);\n",
       "                        }\n",
       "                        break;\n",
       "                    }\n",
       "                }\n",
       "            }, 500);\n",
       "            "
      ],
      "text/plain": [
       "<IPython.core.display.Javascript object>"
      ]
     },
     "metadata": {},
     "output_type": "display_data"
    }
   ],
   "source": [
    "trace_m_df.head()"
   ]
  },
  {
   "cell_type": "code",
   "execution_count": null,
   "id": "significant-module",
   "metadata": {
    "ExecuteTime": {
     "end_time": "2021-03-01T15:15:03.050237Z",
     "start_time": "2021-03-01T15:15:03.041Z"
    }
   },
   "outputs": [],
   "source": [
    "# Using 1D stats.norm function\n",
    "\n",
    "weights = [45, 40, 65, 31]\n",
    "\n",
    "for weight in weights:\n",
    "\n",
    "    draw_1d = stats.norm.rvs(\n",
    "        loc=trace_m_df[\"a\"] + trace_m_df[\"b\"] * (weight - xbar),\n",
    "        scale=trace_m_df[\"sigma\"],\n",
    "    )\n",
    "\n",
    "    print(\"weight: \", weight, \"mean: \", draw_1d.mean(), \"HPD: \", az.hdi(draw_1d))"
   ]
  },
  {
   "cell_type": "markdown",
   "id": "amended-commerce",
   "metadata": {},
   "source": [
    "I think this could be a more straightforward solution then what is on the repo."
   ]
  },
  {
   "cell_type": "code",
   "execution_count": 7,
   "id": "nominated-muscle",
   "metadata": {
    "ExecuteTime": {
     "end_time": "2021-03-01T15:15:03.206757Z",
     "start_time": "2021-03-01T15:15:03.190792Z"
    }
   },
   "outputs": [
    {
     "ename": "NameError",
     "evalue": "name 'trace_m_df' is not defined",
     "output_type": "error",
     "traceback": [
      "\u001b[0;31m---------------------------------------------------------------------------\u001b[0m",
      "\u001b[0;31mNameError\u001b[0m                                 Traceback (most recent call last)",
      "\u001b[0;32m<ipython-input-7-be7495ffae69>\u001b[0m in \u001b[0;36m<module>\u001b[0;34m\u001b[0m\n\u001b[1;32m      6\u001b[0m \u001b[0;34m\u001b[0m\u001b[0m\n\u001b[1;32m      7\u001b[0m     draw_1d = np.random.normal(\n\u001b[0;32m----> 8\u001b[0;31m         \u001b[0mloc\u001b[0m\u001b[0;34m=\u001b[0m\u001b[0mtrace_m_df\u001b[0m\u001b[0;34m[\u001b[0m\u001b[0;34m\"a\"\u001b[0m\u001b[0;34m]\u001b[0m \u001b[0;34m+\u001b[0m \u001b[0mtrace_m_df\u001b[0m\u001b[0;34m[\u001b[0m\u001b[0;34m\"b\"\u001b[0m\u001b[0;34m]\u001b[0m \u001b[0;34m*\u001b[0m \u001b[0;34m(\u001b[0m\u001b[0mweight\u001b[0m \u001b[0;34m-\u001b[0m \u001b[0mxbar\u001b[0m\u001b[0;34m)\u001b[0m\u001b[0;34m,\u001b[0m\u001b[0;34m\u001b[0m\u001b[0;34m\u001b[0m\u001b[0m\n\u001b[0m\u001b[1;32m      9\u001b[0m         \u001b[0mscale\u001b[0m\u001b[0;34m=\u001b[0m\u001b[0mtrace_m_df\u001b[0m\u001b[0;34m[\u001b[0m\u001b[0;34m\"sigma\"\u001b[0m\u001b[0;34m]\u001b[0m\u001b[0;34m,\u001b[0m\u001b[0;34m\u001b[0m\u001b[0;34m\u001b[0m\u001b[0m\n\u001b[1;32m     10\u001b[0m     )\n",
      "\u001b[0;31mNameError\u001b[0m: name 'trace_m_df' is not defined"
     ]
    },
    {
     "data": {
      "application/javascript": [
       "\n",
       "            setTimeout(function() {\n",
       "                var nbb_cell_id = 7;\n",
       "                var nbb_unformatted_code = \"# To match the repo syntax, you can use numpy.random.normal\\n\\nweights = [45, 40, 65, 31]\\n\\nfor weight in weights:\\n\\n    draw_1d = np.random.normal(\\n        loc=trace_m_df[\\\"a\\\"] + trace_m_df[\\\"b\\\"] * (weight - xbar),\\n        scale=trace_m_df[\\\"sigma\\\"],\\n    )\\n\\n    print(\\\"weight: \\\", weight, \\\"mean: \\\", draw_1d.mean(), \\\"HPD: \\\", az.hdi(draw_1d))\";\n",
       "                var nbb_formatted_code = \"# To match the repo syntax, you can use numpy.random.normal\\n\\nweights = [45, 40, 65, 31]\\n\\nfor weight in weights:\\n\\n    draw_1d = np.random.normal(\\n        loc=trace_m_df[\\\"a\\\"] + trace_m_df[\\\"b\\\"] * (weight - xbar),\\n        scale=trace_m_df[\\\"sigma\\\"],\\n    )\\n\\n    print(\\\"weight: \\\", weight, \\\"mean: \\\", draw_1d.mean(), \\\"HPD: \\\", az.hdi(draw_1d))\";\n",
       "                var nbb_cells = Jupyter.notebook.get_cells();\n",
       "                for (var i = 0; i < nbb_cells.length; ++i) {\n",
       "                    if (nbb_cells[i].input_prompt_number == nbb_cell_id) {\n",
       "                        if (nbb_cells[i].get_text() == nbb_unformatted_code) {\n",
       "                             nbb_cells[i].set_text(nbb_formatted_code);\n",
       "                        }\n",
       "                        break;\n",
       "                    }\n",
       "                }\n",
       "            }, 500);\n",
       "            "
      ],
      "text/plain": [
       "<IPython.core.display.Javascript object>"
      ]
     },
     "metadata": {},
     "output_type": "display_data"
    }
   ],
   "source": [
    "# To match the repo syntax, you can use numpy.random.normal\n",
    "\n",
    "weights = [45, 40, 65, 31]\n",
    "\n",
    "for weight in weights:\n",
    "\n",
    "    draw_1d = np.random.normal(\n",
    "        loc=trace_m_df[\"a\"] + trace_m_df[\"b\"] * (weight - xbar),\n",
    "        scale=trace_m_df[\"sigma\"],\n",
    "    )\n",
    "\n",
    "    print(\"weight: \", weight, \"mean: \", draw_1d.mean(), \"HPD: \", az.hdi(draw_1d))"
   ]
  },
  {
   "cell_type": "code",
   "execution_count": null,
   "id": "patent-gathering",
   "metadata": {
    "ExecuteTime": {
     "end_time": "2021-03-01T15:15:03.208353Z",
     "start_time": "2021-03-01T15:15:03.192Z"
    }
   },
   "outputs": [],
   "source": [
    "draw_1d.shape"
   ]
  },
  {
   "cell_type": "markdown",
   "id": "limiting-mandate",
   "metadata": {},
   "source": [
    "I'd like to verify that R code is doing the same thing. It looks like it is.\n",
    "\n",
    "The `quap` function does not look like it produces output of all the samples like the `trace` object here. But you can get samples using `extract.samples` with 10,000 samples being the default. If you look at R code 4.63, then it is doing something similar as what I did above."
   ]
  },
  {
   "cell_type": "code",
   "execution_count": null,
   "id": "british-longitude",
   "metadata": {},
   "outputs": [],
   "source": []
  },
  {
   "cell_type": "code",
   "execution_count": null,
   "id": "empty-litigation",
   "metadata": {},
   "outputs": [],
   "source": []
  },
  {
   "cell_type": "markdown",
   "id": "modified-evolution",
   "metadata": {},
   "source": [
    "# Question 2\n",
    "\n",
    "Start over in 1, but now use a prior that is zero below p = 0.5 and a constant above p = 0.5. This corresponds to prior information that a majority of the Earth’s surface is water. What difference does the better prior make?"
   ]
  },
  {
   "cell_type": "markdown",
   "id": "continent-reporter",
   "metadata": {},
   "source": [
    "**Larger number of points in the grid.**"
   ]
  },
  {
   "cell_type": "code",
   "execution_count": 177,
   "id": "loose-virtue",
   "metadata": {
    "ExecuteTime": {
     "end_time": "2021-02-10T02:17:31.603078Z",
     "start_time": "2021-02-10T02:17:31.588653Z"
    }
   },
   "outputs": [
    {
     "data": {
      "application/javascript": [
       "\n",
       "            setTimeout(function() {\n",
       "                var nbb_cell_id = 177;\n",
       "                var nbb_unformatted_code = \"def create_df_bayes(gp):\\n    \\\"\\\"\\\"\\n    Use above code and specify the number of gridpoints.\\n    \\\"\\\"\\\"\\n\\n    wat_prob_vals = np.linspace(0, 1, gp)\\n    prior_vals = np.where(wat_prob_vals < 0.5, 0, 1)  # specific to this question\\n    likelihood_vals = stats.binom.pmf(8, 15, wat_prob_vals)\\n    unstd_posterior_vals = likelihood_vals * prior_vals\\n    std_posterior_vals = unstd_posterior_vals / np.sum(unstd_posterior_vals)\\n    df_bayes = pd.DataFrame(\\n        {\\n            \\\"wat_prob_vals\\\": wat_prob_vals,\\n            \\\"prior_vals\\\": prior_vals,\\n            \\\"likelihood_vals\\\": likelihood_vals,\\n            \\\"unstd_posterior_vals\\\": unstd_posterior_vals,\\n            \\\"std_posterior_vals\\\": std_posterior_vals,\\n        }\\n    )\\n\\n    return df_bayes\";\n",
       "                var nbb_formatted_code = \"def create_df_bayes(gp):\\n    \\\"\\\"\\\"\\n    Use above code and specify the number of gridpoints.\\n    \\\"\\\"\\\"\\n\\n    wat_prob_vals = np.linspace(0, 1, gp)\\n    prior_vals = np.where(wat_prob_vals < 0.5, 0, 1)  # specific to this question\\n    likelihood_vals = stats.binom.pmf(8, 15, wat_prob_vals)\\n    unstd_posterior_vals = likelihood_vals * prior_vals\\n    std_posterior_vals = unstd_posterior_vals / np.sum(unstd_posterior_vals)\\n    df_bayes = pd.DataFrame(\\n        {\\n            \\\"wat_prob_vals\\\": wat_prob_vals,\\n            \\\"prior_vals\\\": prior_vals,\\n            \\\"likelihood_vals\\\": likelihood_vals,\\n            \\\"unstd_posterior_vals\\\": unstd_posterior_vals,\\n            \\\"std_posterior_vals\\\": std_posterior_vals,\\n        }\\n    )\\n\\n    return df_bayes\";\n",
       "                var nbb_cells = Jupyter.notebook.get_cells();\n",
       "                for (var i = 0; i < nbb_cells.length; ++i) {\n",
       "                    if (nbb_cells[i].input_prompt_number == nbb_cell_id) {\n",
       "                        if (nbb_cells[i].get_text() == nbb_unformatted_code) {\n",
       "                             nbb_cells[i].set_text(nbb_formatted_code);\n",
       "                        }\n",
       "                        break;\n",
       "                    }\n",
       "                }\n",
       "            }, 500);\n",
       "            "
      ],
      "text/plain": [
       "<IPython.core.display.Javascript object>"
      ]
     },
     "metadata": {},
     "output_type": "display_data"
    }
   ],
   "source": [
    "def create_df_bayes(gp):\n",
    "    \"\"\"\n",
    "    Use above code and specify the number of gridpoints.\n",
    "    \"\"\"\n",
    "\n",
    "    wat_prob_vals = np.linspace(0, 1, gp)\n",
    "    prior_vals = np.where(wat_prob_vals < 0.5, 0, 1)  # specific to this question\n",
    "    likelihood_vals = stats.binom.pmf(8, 15, wat_prob_vals)\n",
    "    unstd_posterior_vals = likelihood_vals * prior_vals\n",
    "    std_posterior_vals = unstd_posterior_vals / np.sum(unstd_posterior_vals)\n",
    "    df_bayes = pd.DataFrame(\n",
    "        {\n",
    "            \"wat_prob_vals\": wat_prob_vals,\n",
    "            \"prior_vals\": prior_vals,\n",
    "            \"likelihood_vals\": likelihood_vals,\n",
    "            \"unstd_posterior_vals\": unstd_posterior_vals,\n",
    "            \"std_posterior_vals\": std_posterior_vals,\n",
    "        }\n",
    "    )\n",
    "\n",
    "    return df_bayes"
   ]
  },
  {
   "cell_type": "code",
   "execution_count": 178,
   "id": "alleged-mitchell",
   "metadata": {
    "ExecuteTime": {
     "end_time": "2021-02-10T02:17:32.250831Z",
     "start_time": "2021-02-10T02:17:32.234297Z"
    }
   },
   "outputs": [
    {
     "data": {
      "text/html": [
       "<div>\n",
       "<style scoped>\n",
       "    .dataframe tbody tr th:only-of-type {\n",
       "        vertical-align: middle;\n",
       "    }\n",
       "\n",
       "    .dataframe tbody tr th {\n",
       "        vertical-align: top;\n",
       "    }\n",
       "\n",
       "    .dataframe thead th {\n",
       "        text-align: right;\n",
       "    }\n",
       "</style>\n",
       "<table border=\"1\" class=\"dataframe\">\n",
       "  <thead>\n",
       "    <tr style=\"text-align: right;\">\n",
       "      <th></th>\n",
       "      <th>wat_prob_vals</th>\n",
       "      <th>prior_vals</th>\n",
       "      <th>likelihood_vals</th>\n",
       "      <th>unstd_posterior_vals</th>\n",
       "      <th>std_posterior_vals</th>\n",
       "    </tr>\n",
       "  </thead>\n",
       "  <tbody>\n",
       "    <tr>\n",
       "      <th>0</th>\n",
       "      <td>0.000000</td>\n",
       "      <td>0</td>\n",
       "      <td>0.000000e+00</td>\n",
       "      <td>0.000000e+00</td>\n",
       "      <td>0.000000e+00</td>\n",
       "    </tr>\n",
       "    <tr>\n",
       "      <th>1</th>\n",
       "      <td>0.010101</td>\n",
       "      <td>0</td>\n",
       "      <td>6.495359e-13</td>\n",
       "      <td>0.000000e+00</td>\n",
       "      <td>0.000000e+00</td>\n",
       "    </tr>\n",
       "    <tr>\n",
       "      <th>2</th>\n",
       "      <td>0.020202</td>\n",
       "      <td>0</td>\n",
       "      <td>1.547614e-10</td>\n",
       "      <td>0.000000e+00</td>\n",
       "      <td>0.000000e+00</td>\n",
       "    </tr>\n",
       "    <tr>\n",
       "      <th>3</th>\n",
       "      <td>0.030303</td>\n",
       "      <td>0</td>\n",
       "      <td>3.688836e-09</td>\n",
       "      <td>0.000000e+00</td>\n",
       "      <td>0.000000e+00</td>\n",
       "    </tr>\n",
       "    <tr>\n",
       "      <th>4</th>\n",
       "      <td>0.040404</td>\n",
       "      <td>0</td>\n",
       "      <td>3.424253e-08</td>\n",
       "      <td>0.000000e+00</td>\n",
       "      <td>0.000000e+00</td>\n",
       "    </tr>\n",
       "    <tr>\n",
       "      <th>...</th>\n",
       "      <td>...</td>\n",
       "      <td>...</td>\n",
       "      <td>...</td>\n",
       "      <td>...</td>\n",
       "      <td>...</td>\n",
       "    </tr>\n",
       "    <tr>\n",
       "      <th>95</th>\n",
       "      <td>0.959596</td>\n",
       "      <td>1</td>\n",
       "      <td>8.132600e-07</td>\n",
       "      <td>8.132600e-07</td>\n",
       "      <td>2.197128e-07</td>\n",
       "    </tr>\n",
       "    <tr>\n",
       "      <th>96</th>\n",
       "      <td>0.969697</td>\n",
       "      <td>1</td>\n",
       "      <td>1.180427e-07</td>\n",
       "      <td>1.180427e-07</td>\n",
       "      <td>3.189079e-08</td>\n",
       "    </tr>\n",
       "    <tr>\n",
       "      <th>97</th>\n",
       "      <td>0.979798</td>\n",
       "      <td>1</td>\n",
       "      <td>7.505929e-09</td>\n",
       "      <td>7.505929e-09</td>\n",
       "      <td>2.027825e-09</td>\n",
       "    </tr>\n",
       "    <tr>\n",
       "      <th>98</th>\n",
       "      <td>0.989899</td>\n",
       "      <td>1</td>\n",
       "      <td>6.365452e-11</td>\n",
       "      <td>6.365452e-11</td>\n",
       "      <td>1.719710e-11</td>\n",
       "    </tr>\n",
       "    <tr>\n",
       "      <th>99</th>\n",
       "      <td>1.000000</td>\n",
       "      <td>1</td>\n",
       "      <td>0.000000e+00</td>\n",
       "      <td>0.000000e+00</td>\n",
       "      <td>0.000000e+00</td>\n",
       "    </tr>\n",
       "  </tbody>\n",
       "</table>\n",
       "<p>100 rows × 5 columns</p>\n",
       "</div>"
      ],
      "text/plain": [
       "    wat_prob_vals  prior_vals  likelihood_vals  unstd_posterior_vals  \\\n",
       "0        0.000000           0     0.000000e+00          0.000000e+00   \n",
       "1        0.010101           0     6.495359e-13          0.000000e+00   \n",
       "2        0.020202           0     1.547614e-10          0.000000e+00   \n",
       "3        0.030303           0     3.688836e-09          0.000000e+00   \n",
       "4        0.040404           0     3.424253e-08          0.000000e+00   \n",
       "..            ...         ...              ...                   ...   \n",
       "95       0.959596           1     8.132600e-07          8.132600e-07   \n",
       "96       0.969697           1     1.180427e-07          1.180427e-07   \n",
       "97       0.979798           1     7.505929e-09          7.505929e-09   \n",
       "98       0.989899           1     6.365452e-11          6.365452e-11   \n",
       "99       1.000000           1     0.000000e+00          0.000000e+00   \n",
       "\n",
       "    std_posterior_vals  \n",
       "0         0.000000e+00  \n",
       "1         0.000000e+00  \n",
       "2         0.000000e+00  \n",
       "3         0.000000e+00  \n",
       "4         0.000000e+00  \n",
       "..                 ...  \n",
       "95        2.197128e-07  \n",
       "96        3.189079e-08  \n",
       "97        2.027825e-09  \n",
       "98        1.719710e-11  \n",
       "99        0.000000e+00  \n",
       "\n",
       "[100 rows x 5 columns]"
      ]
     },
     "execution_count": 178,
     "metadata": {},
     "output_type": "execute_result"
    },
    {
     "data": {
      "application/javascript": [
       "\n",
       "            setTimeout(function() {\n",
       "                var nbb_cell_id = 178;\n",
       "                var nbb_unformatted_code = \"df2 = create_df_bayes(100)\\ndf2\";\n",
       "                var nbb_formatted_code = \"df2 = create_df_bayes(100)\\ndf2\";\n",
       "                var nbb_cells = Jupyter.notebook.get_cells();\n",
       "                for (var i = 0; i < nbb_cells.length; ++i) {\n",
       "                    if (nbb_cells[i].input_prompt_number == nbb_cell_id) {\n",
       "                        if (nbb_cells[i].get_text() == nbb_unformatted_code) {\n",
       "                             nbb_cells[i].set_text(nbb_formatted_code);\n",
       "                        }\n",
       "                        break;\n",
       "                    }\n",
       "                }\n",
       "            }, 500);\n",
       "            "
      ],
      "text/plain": [
       "<IPython.core.display.Javascript object>"
      ]
     },
     "metadata": {},
     "output_type": "display_data"
    }
   ],
   "source": [
    "df2 = create_df_bayes(100)\n",
    "df2"
   ]
  },
  {
   "cell_type": "code",
   "execution_count": 179,
   "id": "mounted-logan",
   "metadata": {
    "ExecuteTime": {
     "end_time": "2021-02-10T02:17:35.526248Z",
     "start_time": "2021-02-10T02:17:35.245366Z"
    }
   },
   "outputs": [
    {
     "data": {
      "text/plain": [
       "<AxesSubplot:xlabel='wat_prob_vals', ylabel='std_posterior_vals'>"
      ]
     },
     "execution_count": 179,
     "metadata": {},
     "output_type": "execute_result"
    },
    {
     "data": {
      "image/png": "[encoded data removed]",
      "text/plain": [
       "<Figure size 600x400 with 1 Axes>"
      ]
     },
     "metadata": {
      "image/png": {
       "height": 411,
       "width": 611
      }
     },
     "output_type": "display_data"
    },
    {
     "data": {
      "application/javascript": [
       "\n",
       "            setTimeout(function() {\n",
       "                var nbb_cell_id = 179;\n",
       "                var nbb_unformatted_code = \"f, ax1 = plt.subplots(figsize=(6, 4))\\nsns.scatterplot(data=df2, x=\\\"wat_prob_vals\\\", y=\\\"std_posterior_vals\\\", ax=ax1)\\nsns.lineplot(data=df2, x=\\\"wat_prob_vals\\\", y=\\\"std_posterior_vals\\\", ax=ax1)\";\n",
       "                var nbb_formatted_code = \"f, ax1 = plt.subplots(figsize=(6, 4))\\nsns.scatterplot(data=df2, x=\\\"wat_prob_vals\\\", y=\\\"std_posterior_vals\\\", ax=ax1)\\nsns.lineplot(data=df2, x=\\\"wat_prob_vals\\\", y=\\\"std_posterior_vals\\\", ax=ax1)\";\n",
       "                var nbb_cells = Jupyter.notebook.get_cells();\n",
       "                for (var i = 0; i < nbb_cells.length; ++i) {\n",
       "                    if (nbb_cells[i].input_prompt_number == nbb_cell_id) {\n",
       "                        if (nbb_cells[i].get_text() == nbb_unformatted_code) {\n",
       "                             nbb_cells[i].set_text(nbb_formatted_code);\n",
       "                        }\n",
       "                        break;\n",
       "                    }\n",
       "                }\n",
       "            }, 500);\n",
       "            "
      ],
      "text/plain": [
       "<IPython.core.display.Javascript object>"
      ]
     },
     "metadata": {},
     "output_type": "display_data"
    }
   ],
   "source": [
    "f, ax1 = plt.subplots(figsize=(6, 4))\n",
    "sns.scatterplot(data=df2, x=\"wat_prob_vals\", y=\"std_posterior_vals\", ax=ax1)\n",
    "sns.lineplot(data=df2, x=\"wat_prob_vals\", y=\"std_posterior_vals\", ax=ax1)"
   ]
  },
  {
   "cell_type": "markdown",
   "id": "urban-paper",
   "metadata": {},
   "source": [
    "The new prior specifies clearly what values shouldn't really be considered at all, even before looking at data."
   ]
  },
  {
   "cell_type": "markdown",
   "id": "natural-america",
   "metadata": {},
   "source": [
    "# Question 3\n",
    "\n",
    "For the posterior distribution from 2, compute 89% percentile and HPDI intervals. Compare the widths of these intervals. Which is wider? Why? If you had only the information in the interval, what might you misunderstand about the shape of the posterior distribution?"
   ]
  },
  {
   "cell_type": "markdown",
   "id": "apart-stack",
   "metadata": {},
   "source": [
    "This makes use of the `pymc3` function for quadratic approximation that is available in the R `rethinking` package (`quap`).\n",
    "\n",
    "This is about sampling randomly from the posterior to visualize uncertainty, computing confidence intervals, and simulating observations. MCMC produces only samples, so good to get used to this now. **Above all, it's easier to think with samples** and transforms a hard calculus problem into an easy data summary problem."
   ]
  },
  {
   "cell_type": "markdown",
   "id": "occasional-string",
   "metadata": {},
   "source": [
    "For using `pymc3`, an explanation is shown [here](https://docs.pymc.io/notebooks/getting_started.html)."
   ]
  },
  {
   "cell_type": "markdown",
   "id": "after-singapore",
   "metadata": {
    "ExecuteTime": {
     "end_time": "2021-02-09T22:27:25.336182Z",
     "start_time": "2021-02-09T22:27:24.138958Z"
    }
   },
   "source": [
    "## Run R code to help compare\n",
    "\n",
    "Taken from [here](https://github.com/rmcelreath/statrethinking_winter2019/blob/master/homework/week01_solutions.pdf)."
   ]
  },
  {
   "cell_type": "code",
   "execution_count": 3,
   "id": "perfect-globe",
   "metadata": {
    "ExecuteTime": {
     "end_time": "2021-02-11T16:12:51.764644Z",
     "start_time": "2021-02-11T16:12:51.272983Z"
    }
   },
   "outputs": [
    {
     "data": {
      "application/javascript": [
       "\n",
       "            setTimeout(function() {\n",
       "                var nbb_cell_id = 3;\n",
       "                var nbb_unformatted_code = \"%load_ext rpy2.ipython\";\n",
       "                var nbb_formatted_code = \"%load_ext rpy2.ipython\";\n",
       "                var nbb_cells = Jupyter.notebook.get_cells();\n",
       "                for (var i = 0; i < nbb_cells.length; ++i) {\n",
       "                    if (nbb_cells[i].input_prompt_number == nbb_cell_id) {\n",
       "                        if (nbb_cells[i].get_text() == nbb_unformatted_code) {\n",
       "                             nbb_cells[i].set_text(nbb_formatted_code);\n",
       "                        }\n",
       "                        break;\n",
       "                    }\n",
       "                }\n",
       "            }, 500);\n",
       "            "
      ],
      "text/plain": [
       "<IPython.core.display.Javascript object>"
      ]
     },
     "metadata": {},
     "output_type": "display_data"
    }
   ],
   "source": [
    "%load_ext rpy2.ipython"
   ]
  },
  {
   "cell_type": "code",
   "execution_count": 4,
   "id": "determined-matthew",
   "metadata": {
    "ExecuteTime": {
     "end_time": "2021-02-11T16:12:54.290680Z",
     "start_time": "2021-02-11T16:12:52.339393Z"
    }
   },
   "outputs": [
    {
     "data": {
      "application/javascript": [
       "\n",
       "            setTimeout(function() {\n",
       "                var nbb_cell_id = 4;\n",
       "                var nbb_unformatted_code = \"%%R\\nsuppressMessages(library(tidyverse))\\nsuppressMessages(library(rethinking))\";\n",
       "                var nbb_formatted_code = \"%%R\\nsuppressMessages(library(tidyverse))\\nsuppressMessages(library(rethinking))\";\n",
       "                var nbb_cells = Jupyter.notebook.get_cells();\n",
       "                for (var i = 0; i < nbb_cells.length; ++i) {\n",
       "                    if (nbb_cells[i].input_prompt_number == nbb_cell_id) {\n",
       "                        if (nbb_cells[i].get_text() == nbb_unformatted_code) {\n",
       "                             nbb_cells[i].set_text(nbb_formatted_code);\n",
       "                        }\n",
       "                        break;\n",
       "                    }\n",
       "                }\n",
       "            }, 500);\n",
       "            "
      ],
      "text/plain": [
       "<IPython.core.display.Javascript object>"
      ]
     },
     "metadata": {},
     "output_type": "display_data"
    }
   ],
   "source": [
    "%%R\n",
    "suppressMessages(library(tidyverse))\n",
    "suppressMessages(library(rethinking))"
   ]
  },
  {
   "cell_type": "code",
   "execution_count": 5,
   "id": "patient-delight",
   "metadata": {
    "ExecuteTime": {
     "end_time": "2021-02-11T16:12:54.835452Z",
     "start_time": "2021-02-11T16:12:54.826674Z"
    }
   },
   "outputs": [
    {
     "name": "stderr",
     "output_type": "stream",
     "text": [
      "R[write to console]: Error in print(W) : object 'W' not found\n",
      "\n"
     ]
    },
    {
     "name": "stdout",
     "output_type": "stream",
     "text": [
      "\n",
      "Error in print(W) : object 'W' not found\n"
     ]
    },
    {
     "data": {
      "application/javascript": [
       "\n",
       "            setTimeout(function() {\n",
       "                var nbb_cell_id = 5;\n",
       "                var nbb_unformatted_code = \"%%R\\n\\nprint(W)\";\n",
       "                var nbb_formatted_code = \"%%R\\n\\nprint(W)\";\n",
       "                var nbb_cells = Jupyter.notebook.get_cells();\n",
       "                for (var i = 0; i < nbb_cells.length; ++i) {\n",
       "                    if (nbb_cells[i].input_prompt_number == nbb_cell_id) {\n",
       "                        if (nbb_cells[i].get_text() == nbb_unformatted_code) {\n",
       "                             nbb_cells[i].set_text(nbb_formatted_code);\n",
       "                        }\n",
       "                        break;\n",
       "                    }\n",
       "                }\n",
       "            }, 500);\n",
       "            "
      ],
      "text/plain": [
       "<IPython.core.display.Javascript object>"
      ]
     },
     "metadata": {},
     "output_type": "display_data"
    }
   ],
   "source": [
    "%%R\n",
    "\n",
    "print(W)"
   ]
  },
  {
   "cell_type": "code",
   "execution_count": 6,
   "id": "corrected-royal",
   "metadata": {
    "ExecuteTime": {
     "end_time": "2021-02-11T16:13:00.257442Z",
     "start_time": "2021-02-11T16:13:00.241779Z"
    }
   },
   "outputs": [
    {
     "name": "stdout",
     "output_type": "stream",
     "text": [
      "[1] 0.4544595\n"
     ]
    },
    {
     "data": {
      "application/javascript": [
       "\n",
       "            setTimeout(function() {\n",
       "                var nbb_cell_id = 6;\n",
       "                var nbb_unformatted_code = \"%%R\\n\\nset.seed(100)\\nN <- 20\\np_true <- 0.7\\nW <- rbinom(1, size=N, prob=p_true)\\np_grid <- seq(from=0, to=1, length.out=1000)\\nprior <- rep(1, 1000)\\nprob_data <- dbinom(W, size=N, prob=p_grid)\\nposterior <- prob_data * prior\\nposterior <- posterior/sum(posterior)\\nsamples <- sample(p_grid, prob=posterior, size=1e4, replace=TRUE)\\nPI99 <- PI(samples, 0.99)\\nas.numeric(PI99[2] - PI99[1])\";\n",
       "                var nbb_formatted_code = \"%%R\\n\\nset.seed(100)\\nN <- 20\\np_true <- 0.7\\nW <- rbinom(1, size=N, prob=p_true)\\np_grid <- seq(from=0, to=1, length.out=1000)\\nprior <- rep(1, 1000)\\nprob_data <- dbinom(W, size=N, prob=p_grid)\\nposterior <- prob_data * prior\\nposterior <- posterior/sum(posterior)\\nsamples <- sample(p_grid, prob=posterior, size=1e4, replace=TRUE)\\nPI99 <- PI(samples, 0.99)\\nas.numeric(PI99[2] - PI99[1])\";\n",
       "                var nbb_cells = Jupyter.notebook.get_cells();\n",
       "                for (var i = 0; i < nbb_cells.length; ++i) {\n",
       "                    if (nbb_cells[i].input_prompt_number == nbb_cell_id) {\n",
       "                        if (nbb_cells[i].get_text() == nbb_unformatted_code) {\n",
       "                             nbb_cells[i].set_text(nbb_formatted_code);\n",
       "                        }\n",
       "                        break;\n",
       "                    }\n",
       "                }\n",
       "            }, 500);\n",
       "            "
      ],
      "text/plain": [
       "<IPython.core.display.Javascript object>"
      ]
     },
     "metadata": {},
     "output_type": "display_data"
    }
   ],
   "source": [
    "%%R\n",
    "\n",
    "set.seed(100)\n",
    "N <- 20\n",
    "p_true <- 0.7\n",
    "W <- rbinom(1, size=N, prob=p_true)\n",
    "p_grid <- seq(from=0, to=1, length.out=1000)\n",
    "prior <- rep(1, 1000)\n",
    "prob_data <- dbinom(W, size=N, prob=p_grid)\n",
    "posterior <- prob_data * prior\n",
    "posterior <- posterior/sum(posterior)\n",
    "samples <- sample(p_grid, prob=posterior, size=1e4, replace=TRUE)\n",
    "PI99 <- PI(samples, 0.99)\n",
    "as.numeric(PI99[2] - PI99[1])"
   ]
  },
  {
   "cell_type": "code",
   "execution_count": 9,
   "id": "liberal-strand",
   "metadata": {
    "ExecuteTime": {
     "end_time": "2021-02-11T16:13:36.833084Z",
     "start_time": "2021-02-11T16:13:36.806226Z"
    }
   },
   "outputs": [
    {
     "name": "stdout",
     "output_type": "stream",
     "text": [
      " [1] 0.7117117 0.6236236 0.6796797 0.7177177 0.6996997 0.7197197 0.7097097\n",
      " [8] 0.8378378 0.9029029 0.7937938 0.7117117 0.6886887 0.6766767 0.7227227\n",
      "[15] 0.7927928 0.7287287 0.8368368 0.6916917 0.7647648 0.7507508\n"
     ]
    },
    {
     "data": {
      "application/javascript": [
       "\n",
       "            setTimeout(function() {\n",
       "                var nbb_cell_id = 9;\n",
       "                var nbb_unformatted_code = \"%%R\\n\\n# Get 20 samples from the new posterior distribution\\nhead(samples, 20)\";\n",
       "                var nbb_formatted_code = \"%%R\\n\\n# Get 20 samples from the new posterior distribution\\nhead(samples, 20)\";\n",
       "                var nbb_cells = Jupyter.notebook.get_cells();\n",
       "                for (var i = 0; i < nbb_cells.length; ++i) {\n",
       "                    if (nbb_cells[i].input_prompt_number == nbb_cell_id) {\n",
       "                        if (nbb_cells[i].get_text() == nbb_unformatted_code) {\n",
       "                             nbb_cells[i].set_text(nbb_formatted_code);\n",
       "                        }\n",
       "                        break;\n",
       "                    }\n",
       "                }\n",
       "            }, 500);\n",
       "            "
      ],
      "text/plain": [
       "<IPython.core.display.Javascript object>"
      ]
     },
     "metadata": {},
     "output_type": "display_data"
    }
   ],
   "source": [
    "%%R\n",
    "\n",
    "# Get 20 samples from the new posterior distribution\n",
    "head(samples, 20)"
   ]
  },
  {
   "cell_type": "markdown",
   "id": "administrative-rwanda",
   "metadata": {},
   "source": [
    "### Python code\n",
    "\n",
    "See [here](https://docs.pymc.io/api/distributions/continuous.html#pymc3.distributions.continuous.Uniform) for syntax when specifying uniform prior."
   ]
  },
  {
   "cell_type": "code",
   "execution_count": 7,
   "id": "neither-british",
   "metadata": {
    "ExecuteTime": {
     "end_time": "2021-02-11T16:19:45.213291Z",
     "start_time": "2021-02-11T16:19:39.446843Z"
    }
   },
   "outputs": [
    {
     "data": {
      "text/html": [
       "\n",
       "    <div>\n",
       "        <style>\n",
       "            /* Turns off some styling */\n",
       "            progress {\n",
       "                /* gets rid of default border in Firefox and Opera. */\n",
       "                border: none;\n",
       "                /* Needs to be in here for Safari polyfill so background images work as expected. */\n",
       "                background-size: auto;\n",
       "            }\n",
       "            .progress-bar-interrupted, .progress-bar-interrupted::-webkit-progress-bar {\n",
       "                background: #F44336;\n",
       "            }\n",
       "        </style>\n",
       "      <progress value='8' class='' max='8' style='width:300px; height:20px; vertical-align: middle;'></progress>\n",
       "      100.00% [8/8 00:00<00:00 logp = -2.3287, ||grad|| = 2.1667]\n",
       "    </div>\n",
       "    "
      ],
      "text/plain": [
       "<IPython.core.display.HTML object>"
      ]
     },
     "metadata": {},
     "output_type": "display_data"
    },
    {
     "name": "stdout",
     "output_type": "stream",
     "text": [
      "\n",
      "  Mean, Standard deviation\n",
      "p 0.58, 0.11\n"
     ]
    },
    {
     "data": {
      "application/javascript": [
       "\n",
       "            setTimeout(function() {\n",
       "                var nbb_cell_id = 7;\n",
       "                var nbb_unformatted_code = \"data = np.repeat((0, 1), (8, 11))\\nwith pm.Model() as normal_approximation:\\n    p = pm.Uniform(\\\"p\\\", lower=0.5, upper=1)  # uniform priors\\n    w = pm.Binomial(\\\"w\\\", n=len(data), p=p, observed=data.sum())  # binomial likelihood\\n    mean_q = pm.find_MAP()\\n    std_q = ((1 / pm.find_hessian(mean_q, vars=[p])) ** 0.5)[0]\\n    \\n    \\n# display summary of quadratic approximation\\nprint(\\\"  Mean, Standard deviation\\\\np {:.2}, {:.2}\\\".format(mean_q[\\\"p\\\"], std_q[0]))\";\n",
       "                var nbb_formatted_code = \"data = np.repeat((0, 1), (8, 11))\\nwith pm.Model() as normal_approximation:\\n    p = pm.Uniform(\\\"p\\\", lower=0.5, upper=1)  # uniform priors\\n    w = pm.Binomial(\\\"w\\\", n=len(data), p=p, observed=data.sum())  # binomial likelihood\\n    mean_q = pm.find_MAP()\\n    std_q = ((1 / pm.find_hessian(mean_q, vars=[p])) ** 0.5)[0]\\n\\n\\n# display summary of quadratic approximation\\nprint(\\\"  Mean, Standard deviation\\\\np {:.2}, {:.2}\\\".format(mean_q[\\\"p\\\"], std_q[0]))\";\n",
       "                var nbb_cells = Jupyter.notebook.get_cells();\n",
       "                for (var i = 0; i < nbb_cells.length; ++i) {\n",
       "                    if (nbb_cells[i].input_prompt_number == nbb_cell_id) {\n",
       "                        if (nbb_cells[i].get_text() == nbb_unformatted_code) {\n",
       "                             nbb_cells[i].set_text(nbb_formatted_code);\n",
       "                        }\n",
       "                        break;\n",
       "                    }\n",
       "                }\n",
       "            }, 500);\n",
       "            "
      ],
      "text/plain": [
       "<IPython.core.display.Javascript object>"
      ]
     },
     "metadata": {},
     "output_type": "display_data"
    }
   ],
   "source": [
    "data = np.repeat((0, 1), (8, 11))\n",
    "with pm.Model() as normal_approximation:\n",
    "    p = pm.Uniform(\"p\", lower=0.5, upper=1)  # uniform priors\n",
    "    w = pm.Binomial(\"w\", n=len(data), p=p, observed=data.sum())  # binomial likelihood\n",
    "    mean_q = pm.find_MAP()\n",
    "    std_q = ((1 / pm.find_hessian(mean_q, vars=[p])) ** 0.5)[0]\n",
    "\n",
    "\n",
    "# display summary of quadratic approximation\n",
    "print(\"  Mean, Standard deviation\\np {:.2}, {:.2}\".format(mean_q[\"p\"], std_q[0]))"
   ]
  },
  {
   "cell_type": "code",
   "execution_count": 8,
   "id": "based-advocacy",
   "metadata": {
    "ExecuteTime": {
     "end_time": "2021-02-11T16:20:02.971215Z",
     "start_time": "2021-02-11T16:19:50.410462Z"
    }
   },
   "outputs": [
    {
     "name": "stderr",
     "output_type": "stream",
     "text": [
      "Only 100 samples in chain.\n",
      "Auto-assigning NUTS sampler...\n",
      "Initializing NUTS using jitter+adapt_diag...\n",
      "Multiprocess sampling (4 chains in 4 jobs)\n",
      "NUTS: [p]\n"
     ]
    },
    {
     "data": {
      "text/html": [
       "\n",
       "    <div>\n",
       "        <style>\n",
       "            /* Turns off some styling */\n",
       "            progress {\n",
       "                /* gets rid of default border in Firefox and Opera. */\n",
       "                border: none;\n",
       "                /* Needs to be in here for Safari polyfill so background images work as expected. */\n",
       "                background-size: auto;\n",
       "            }\n",
       "            .progress-bar-interrupted, .progress-bar-interrupted::-webkit-progress-bar {\n",
       "                background: #F44336;\n",
       "            }\n",
       "        </style>\n",
       "      <progress value='8400' class='' max='8400' style='width:300px; height:20px; vertical-align: middle;'></progress>\n",
       "      100.00% [8400/8400 00:01<00:00 Sampling 4 chains, 0 divergences]\n",
       "    </div>\n",
       "    "
      ],
      "text/plain": [
       "<IPython.core.display.HTML object>"
      ]
     },
     "metadata": {},
     "output_type": "display_data"
    },
    {
     "name": "stderr",
     "output_type": "stream",
     "text": [
      "Sampling 4 chains for 2_000 tune and 100 draw iterations (8_000 + 400 draws total) took 10 seconds.\n"
     ]
    },
    {
     "data": {
      "application/javascript": [
       "\n",
       "            setTimeout(function() {\n",
       "                var nbb_cell_id = 8;\n",
       "                var nbb_unformatted_code = \"# next line is not part of assignment, but I was wondering how to sample\\n# saw this https://docs.pymc.io/notebooks/posterior_predictive.html\\nwith normal_approximation as model:\\n    samples = pm.sample(100, tune=2000, random_seed=100, return_inferencedata=True)\";\n",
       "                var nbb_formatted_code = \"# next line is not part of assignment, but I was wondering how to sample\\n# saw this https://docs.pymc.io/notebooks/posterior_predictive.html\\nwith normal_approximation as model:\\n    samples = pm.sample(100, tune=2000, random_seed=100, return_inferencedata=True)\";\n",
       "                var nbb_cells = Jupyter.notebook.get_cells();\n",
       "                for (var i = 0; i < nbb_cells.length; ++i) {\n",
       "                    if (nbb_cells[i].input_prompt_number == nbb_cell_id) {\n",
       "                        if (nbb_cells[i].get_text() == nbb_unformatted_code) {\n",
       "                             nbb_cells[i].set_text(nbb_formatted_code);\n",
       "                        }\n",
       "                        break;\n",
       "                    }\n",
       "                }\n",
       "            }, 500);\n",
       "            "
      ],
      "text/plain": [
       "<IPython.core.display.Javascript object>"
      ]
     },
     "metadata": {},
     "output_type": "display_data"
    }
   ],
   "source": [
    "# next line is not part of assignment, but I was wondering how to sample\n",
    "# saw this https://docs.pymc.io/notebooks/posterior_predictive.html\n",
    "with normal_approximation as model:\n",
    "    samples = pm.sample(100, tune=2000, random_seed=100, return_inferencedata=True)\n"
   ]
  },
  {
   "cell_type": "code",
   "execution_count": 10,
   "id": "ethical-technician",
   "metadata": {
    "ExecuteTime": {
     "end_time": "2021-02-11T16:20:15.195359Z",
     "start_time": "2021-02-11T16:20:15.102085Z"
    }
   },
   "outputs": [
    {
     "data": {
      "text/html": [
       "\n",
       "            <div>\n",
       "              <div class='xr-header'>\n",
       "                <div class=\"xr-obj-type\">arviz.InferenceData</div>\n",
       "              </div>\n",
       "              <ul class=\"xr-sections group-sections\">\n",
       "              \n",
       "            <li class = \"xr-section-item\">\n",
       "                  <input id=\"idata_posteriorc2a9807e-248a-4ade-aebb-78985df9ab76\" class=\"xr-section-summary-in\" type=\"checkbox\">\n",
       "                  <label for=\"idata_posteriorc2a9807e-248a-4ade-aebb-78985df9ab76\" class = \"xr-section-summary\">posterior</label>\n",
       "                  <div class=\"xr-section-inline-details\"></div>\n",
       "                  <div class=\"xr-section-details\">\n",
       "                      <ul id=\"xr-dataset-coord-list\" class=\"xr-var-list\">\n",
       "                          <div style=\"padding-left:2rem;\"><div><svg style=\"position: absolute; width: 0; height: 0; overflow: hidden\">\n",
       "<defs>\n",
       "<symbol id=\"icon-database\" viewBox=\"0 0 32 32\">\n",
       "<path d=\"M16 0c-8.837 0-16 2.239-16 5v4c0 2.761 7.163 5 16 5s16-2.239 16-5v-4c0-2.761-7.163-5-16-5z\"></path>\n",
       "<path d=\"M16 17c-8.837 0-16-2.239-16-5v6c0 2.761 7.163 5 16 5s16-2.239 16-5v-6c0 2.761-7.163 5-16 5z\"></path>\n",
       "<path d=\"M16 26c-8.837 0-16-2.239-16-5v6c0 2.761 7.163 5 16 5s16-2.239 16-5v-6c0 2.761-7.163 5-16 5z\"></path>\n",
       "</symbol>\n",
       "<symbol id=\"icon-file-text2\" viewBox=\"0 0 32 32\">\n",
       "<path d=\"M28.681 7.159c-0.694-0.947-1.662-2.053-2.724-3.116s-2.169-2.030-3.116-2.724c-1.612-1.182-2.393-1.319-2.841-1.319h-15.5c-1.378 0-2.5 1.121-2.5 2.5v27c0 1.378 1.122 2.5 2.5 2.5h23c1.378 0 2.5-1.122 2.5-2.5v-19.5c0-0.448-0.137-1.23-1.319-2.841zM24.543 5.457c0.959 0.959 1.712 1.825 2.268 2.543h-4.811v-4.811c0.718 0.556 1.584 1.309 2.543 2.268zM28 29.5c0 0.271-0.229 0.5-0.5 0.5h-23c-0.271 0-0.5-0.229-0.5-0.5v-27c0-0.271 0.229-0.5 0.5-0.5 0 0 15.499-0 15.5 0v7c0 0.552 0.448 1 1 1h7v19.5z\"></path>\n",
       "<path d=\"M23 26h-14c-0.552 0-1-0.448-1-1s0.448-1 1-1h14c0.552 0 1 0.448 1 1s-0.448 1-1 1z\"></path>\n",
       "<path d=\"M23 22h-14c-0.552 0-1-0.448-1-1s0.448-1 1-1h14c0.552 0 1 0.448 1 1s-0.448 1-1 1z\"></path>\n",
       "<path d=\"M23 18h-14c-0.552 0-1-0.448-1-1s0.448-1 1-1h14c0.552 0 1 0.448 1 1s-0.448 1-1 1z\"></path>\n",
       "</symbol>\n",
       "</defs>\n",
       "</svg>\n",
       "<style>/* CSS stylesheet for displaying xarray objects in jupyterlab.\n",
       " *\n",
       " */\n",
       "\n",
       ":root {\n",
       "  --xr-font-color0: var(--jp-content-font-color0, rgba(0, 0, 0, 1));\n",
       "  --xr-font-color2: var(--jp-content-font-color2, rgba(0, 0, 0, 0.54));\n",
       "  --xr-font-color3: var(--jp-content-font-color3, rgba(0, 0, 0, 0.38));\n",
       "  --xr-border-color: var(--jp-border-color2, #e0e0e0);\n",
       "  --xr-disabled-color: var(--jp-layout-color3, #bdbdbd);\n",
       "  --xr-background-color: var(--jp-layout-color0, white);\n",
       "  --xr-background-color-row-even: var(--jp-layout-color1, white);\n",
       "  --xr-background-color-row-odd: var(--jp-layout-color2, #eeeeee);\n",
       "}\n",
       "\n",
       "html[theme=dark],\n",
       "body.vscode-dark {\n",
       "  --xr-font-color0: rgba(255, 255, 255, 1);\n",
       "  --xr-font-color2: rgba(255, 255, 255, 0.54);\n",
       "  --xr-font-color3: rgba(255, 255, 255, 0.38);\n",
       "  --xr-border-color: #1F1F1F;\n",
       "  --xr-disabled-color: #515151;\n",
       "  --xr-background-color: #111111;\n",
       "  --xr-background-color-row-even: #111111;\n",
       "  --xr-background-color-row-odd: #313131;\n",
       "}\n",
       "\n",
       ".xr-wrap {\n",
       "  display: block;\n",
       "  min-width: 300px;\n",
       "  max-width: 700px;\n",
       "}\n",
       "\n",
       ".xr-text-repr-fallback {\n",
       "  /* fallback to plain text repr when CSS is not injected (untrusted notebook) */\n",
       "  display: none;\n",
       "}\n",
       "\n",
       ".xr-header {\n",
       "  padding-top: 6px;\n",
       "  padding-bottom: 6px;\n",
       "  margin-bottom: 4px;\n",
       "  border-bottom: solid 1px var(--xr-border-color);\n",
       "}\n",
       "\n",
       ".xr-header > div,\n",
       ".xr-header > ul {\n",
       "  display: inline;\n",
       "  margin-top: 0;\n",
       "  margin-bottom: 0;\n",
       "}\n",
       "\n",
       ".xr-obj-type,\n",
       ".xr-array-name {\n",
       "  margin-left: 2px;\n",
       "  margin-right: 10px;\n",
       "}\n",
       "\n",
       ".xr-obj-type {\n",
       "  color: var(--xr-font-color2);\n",
       "}\n",
       "\n",
       ".xr-sections {\n",
       "  padding-left: 0 !important;\n",
       "  display: grid;\n",
       "  grid-template-columns: 150px auto auto 1fr 20px 20px;\n",
       "}\n",
       "\n",
       ".xr-section-item {\n",
       "  display: contents;\n",
       "}\n",
       "\n",
       ".xr-section-item input {\n",
       "  display: none;\n",
       "}\n",
       "\n",
       ".xr-section-item input + label {\n",
       "  color: var(--xr-disabled-color);\n",
       "}\n",
       "\n",
       ".xr-section-item input:enabled + label {\n",
       "  cursor: pointer;\n",
       "  color: var(--xr-font-color2);\n",
       "}\n",
       "\n",
       ".xr-section-item input:enabled + label:hover {\n",
       "  color: var(--xr-font-color0);\n",
       "}\n",
       "\n",
       ".xr-section-summary {\n",
       "  grid-column: 1;\n",
       "  color: var(--xr-font-color2);\n",
       "  font-weight: 500;\n",
       "}\n",
       "\n",
       ".xr-section-summary > span {\n",
       "  display: inline-block;\n",
       "  padding-left: 0.5em;\n",
       "}\n",
       "\n",
       ".xr-section-summary-in:disabled + label {\n",
       "  color: var(--xr-font-color2);\n",
       "}\n",
       "\n",
       ".xr-section-summary-in + label:before {\n",
       "  display: inline-block;\n",
       "  content: '►';\n",
       "  font-size: 11px;\n",
       "  width: 15px;\n",
       "  text-align: center;\n",
       "}\n",
       "\n",
       ".xr-section-summary-in:disabled + label:before {\n",
       "  color: var(--xr-disabled-color);\n",
       "}\n",
       "\n",
       ".xr-section-summary-in:checked + label:before {\n",
       "  content: '▼';\n",
       "}\n",
       "\n",
       ".xr-section-summary-in:checked + label > span {\n",
       "  display: none;\n",
       "}\n",
       "\n",
       ".xr-section-summary,\n",
       ".xr-section-inline-details {\n",
       "  padding-top: 4px;\n",
       "  padding-bottom: 4px;\n",
       "}\n",
       "\n",
       ".xr-section-inline-details {\n",
       "  grid-column: 2 / -1;\n",
       "}\n",
       "\n",
       ".xr-section-details {\n",
       "  display: none;\n",
       "  grid-column: 1 / -1;\n",
       "  margin-bottom: 5px;\n",
       "}\n",
       "\n",
       ".xr-section-summary-in:checked ~ .xr-section-details {\n",
       "  display: contents;\n",
       "}\n",
       "\n",
       ".xr-array-wrap {\n",
       "  grid-column: 1 / -1;\n",
       "  display: grid;\n",
       "  grid-template-columns: 20px auto;\n",
       "}\n",
       "\n",
       ".xr-array-wrap > label {\n",
       "  grid-column: 1;\n",
       "  vertical-align: top;\n",
       "}\n",
       "\n",
       ".xr-preview {\n",
       "  color: var(--xr-font-color3);\n",
       "}\n",
       "\n",
       ".xr-array-preview,\n",
       ".xr-array-data {\n",
       "  padding: 0 5px !important;\n",
       "  grid-column: 2;\n",
       "}\n",
       "\n",
       ".xr-array-data,\n",
       ".xr-array-in:checked ~ .xr-array-preview {\n",
       "  display: none;\n",
       "}\n",
       "\n",
       ".xr-array-in:checked ~ .xr-array-data,\n",
       ".xr-array-preview {\n",
       "  display: inline-block;\n",
       "}\n",
       "\n",
       ".xr-dim-list {\n",
       "  display: inline-block !important;\n",
       "  list-style: none;\n",
       "  padding: 0 !important;\n",
       "  margin: 0;\n",
       "}\n",
       "\n",
       ".xr-dim-list li {\n",
       "  display: inline-block;\n",
       "  padding: 0;\n",
       "  margin: 0;\n",
       "}\n",
       "\n",
       ".xr-dim-list:before {\n",
       "  content: '(';\n",
       "}\n",
       "\n",
       ".xr-dim-list:after {\n",
       "  content: ')';\n",
       "}\n",
       "\n",
       ".xr-dim-list li:not(:last-child):after {\n",
       "  content: ',';\n",
       "  padding-right: 5px;\n",
       "}\n",
       "\n",
       ".xr-has-index {\n",
       "  font-weight: bold;\n",
       "}\n",
       "\n",
       ".xr-var-list,\n",
       ".xr-var-item {\n",
       "  display: contents;\n",
       "}\n",
       "\n",
       ".xr-var-item > div,\n",
       ".xr-var-item label,\n",
       ".xr-var-item > .xr-var-name span {\n",
       "  background-color: var(--xr-background-color-row-even);\n",
       "  margin-bottom: 0;\n",
       "}\n",
       "\n",
       ".xr-var-item > .xr-var-name:hover span {\n",
       "  padding-right: 5px;\n",
       "}\n",
       "\n",
       ".xr-var-list > li:nth-child(odd) > div,\n",
       ".xr-var-list > li:nth-child(odd) > label,\n",
       ".xr-var-list > li:nth-child(odd) > .xr-var-name span {\n",
       "  background-color: var(--xr-background-color-row-odd);\n",
       "}\n",
       "\n",
       ".xr-var-name {\n",
       "  grid-column: 1;\n",
       "}\n",
       "\n",
       ".xr-var-dims {\n",
       "  grid-column: 2;\n",
       "}\n",
       "\n",
       ".xr-var-dtype {\n",
       "  grid-column: 3;\n",
       "  text-align: right;\n",
       "  color: var(--xr-font-color2);\n",
       "}\n",
       "\n",
       ".xr-var-preview {\n",
       "  grid-column: 4;\n",
       "}\n",
       "\n",
       ".xr-var-name,\n",
       ".xr-var-dims,\n",
       ".xr-var-dtype,\n",
       ".xr-preview,\n",
       ".xr-attrs dt {\n",
       "  white-space: nowrap;\n",
       "  overflow: hidden;\n",
       "  text-overflow: ellipsis;\n",
       "  padding-right: 10px;\n",
       "}\n",
       "\n",
       ".xr-var-name:hover,\n",
       ".xr-var-dims:hover,\n",
       ".xr-var-dtype:hover,\n",
       ".xr-attrs dt:hover {\n",
       "  overflow: visible;\n",
       "  width: auto;\n",
       "  z-index: 1;\n",
       "}\n",
       "\n",
       ".xr-var-attrs,\n",
       ".xr-var-data {\n",
       "  display: none;\n",
       "  background-color: var(--xr-background-color) !important;\n",
       "  padding-bottom: 5px !important;\n",
       "}\n",
       "\n",
       ".xr-var-attrs-in:checked ~ .xr-var-attrs,\n",
       ".xr-var-data-in:checked ~ .xr-var-data {\n",
       "  display: block;\n",
       "}\n",
       "\n",
       ".xr-var-data > table {\n",
       "  float: right;\n",
       "}\n",
       "\n",
       ".xr-var-name span,\n",
       ".xr-var-data,\n",
       ".xr-attrs {\n",
       "  padding-left: 25px !important;\n",
       "}\n",
       "\n",
       ".xr-attrs,\n",
       ".xr-var-attrs,\n",
       ".xr-var-data {\n",
       "  grid-column: 1 / -1;\n",
       "}\n",
       "\n",
       "dl.xr-attrs {\n",
       "  padding: 0;\n",
       "  margin: 0;\n",
       "  display: grid;\n",
       "  grid-template-columns: 125px auto;\n",
       "}\n",
       "\n",
       ".xr-attrs dt,\n",
       ".xr-attrs dd {\n",
       "  padding: 0;\n",
       "  margin: 0;\n",
       "  float: left;\n",
       "  padding-right: 10px;\n",
       "  width: auto;\n",
       "}\n",
       "\n",
       ".xr-attrs dt {\n",
       "  font-weight: normal;\n",
       "  grid-column: 1;\n",
       "}\n",
       "\n",
       ".xr-attrs dt:hover span {\n",
       "  display: inline-block;\n",
       "  background: var(--xr-background-color);\n",
       "  padding-right: 10px;\n",
       "}\n",
       "\n",
       ".xr-attrs dd {\n",
       "  grid-column: 2;\n",
       "  white-space: pre-wrap;\n",
       "  word-break: break-all;\n",
       "}\n",
       "\n",
       ".xr-icon-database,\n",
       ".xr-icon-file-text2 {\n",
       "  display: inline-block;\n",
       "  vertical-align: middle;\n",
       "  width: 1em;\n",
       "  height: 1.5em !important;\n",
       "  stroke-width: 0;\n",
       "  stroke: currentColor;\n",
       "  fill: currentColor;\n",
       "}\n",
       "</style><pre class='xr-text-repr-fallback'>&lt;xarray.Dataset&gt;\n",
       "Dimensions:  (chain: 4, draw: 100)\n",
       "Coordinates:\n",
       "  * chain    (chain) int64 0 1 2 3\n",
       "  * draw     (draw) int64 0 1 2 3 4 5 6 7 8 9 ... 90 91 92 93 94 95 96 97 98 99\n",
       "Data variables:\n",
       "    p        (chain, draw) float64 0.6475 0.6071 0.6071 ... 0.5366 0.5377 0.5577\n",
       "Attributes:\n",
       "    created_at:                 2021-02-11T16:20:02.893656\n",
       "    arviz_version:              0.11.1\n",
       "    inference_library:          pymc3\n",
       "    inference_library_version:  3.11.0\n",
       "    sampling_time:              10.408515691757202\n",
       "    tuning_steps:               2000</pre><div class='xr-wrap' hidden><div class='xr-header'><div class='xr-obj-type'>xarray.Dataset</div></div><ul class='xr-sections'><li class='xr-section-item'><input id='section-5cb81b65-0bc3-4fca-b1fe-dfb1ff3eac6f' class='xr-section-summary-in' type='checkbox' disabled ><label for='section-5cb81b65-0bc3-4fca-b1fe-dfb1ff3eac6f' class='xr-section-summary'  title='Expand/collapse section'>Dimensions:</label><div class='xr-section-inline-details'><ul class='xr-dim-list'><li><span class='xr-has-index'>chain</span>: 4</li><li><span class='xr-has-index'>draw</span>: 100</li></ul></div><div class='xr-section-details'></div></li><li class='xr-section-item'><input id='section-ee69a4be-2882-41e4-951a-19fae91acee1' class='xr-section-summary-in' type='checkbox'  checked><label for='section-ee69a4be-2882-41e4-951a-19fae91acee1' class='xr-section-summary' >Coordinates: <span>(2)</span></label><div class='xr-section-inline-details'></div><div class='xr-section-details'><ul class='xr-var-list'><li class='xr-var-item'><div class='xr-var-name'><span class='xr-has-index'>chain</span></div><div class='xr-var-dims'>(chain)</div><div class='xr-var-dtype'>int64</div><div class='xr-var-preview xr-preview'>0 1 2 3</div><input id='attrs-780d9dee-aa55-474b-9029-d7bb90c69deb' class='xr-var-attrs-in' type='checkbox' disabled><label for='attrs-780d9dee-aa55-474b-9029-d7bb90c69deb' title='Show/Hide attributes'><svg class='icon xr-icon-file-text2'><use xlink:href='#icon-file-text2'></use></svg></label><input id='data-ab4b2598-9c9e-40a4-9ffa-95cafbfe6b2b' class='xr-var-data-in' type='checkbox'><label for='data-ab4b2598-9c9e-40a4-9ffa-95cafbfe6b2b' title='Show/Hide data repr'><svg class='icon xr-icon-database'><use xlink:href='#icon-database'></use></svg></label><div class='xr-var-attrs'><dl class='xr-attrs'></dl></div><div class='xr-var-data'><pre>array([0, 1, 2, 3])</pre></div></li><li class='xr-var-item'><div class='xr-var-name'><span class='xr-has-index'>draw</span></div><div class='xr-var-dims'>(draw)</div><div class='xr-var-dtype'>int64</div><div class='xr-var-preview xr-preview'>0 1 2 3 4 5 6 ... 94 95 96 97 98 99</div><input id='attrs-06ad25ad-91e7-4cdf-b972-124bbc169be2' class='xr-var-attrs-in' type='checkbox' disabled><label for='attrs-06ad25ad-91e7-4cdf-b972-124bbc169be2' title='Show/Hide attributes'><svg class='icon xr-icon-file-text2'><use xlink:href='#icon-file-text2'></use></svg></label><input id='data-34b0933c-93a8-420d-bfad-3d40bd5f0d1b' class='xr-var-data-in' type='checkbox'><label for='data-34b0933c-93a8-420d-bfad-3d40bd5f0d1b' title='Show/Hide data repr'><svg class='icon xr-icon-database'><use xlink:href='#icon-database'></use></svg></label><div class='xr-var-attrs'><dl class='xr-attrs'></dl></div><div class='xr-var-data'><pre>array([ 0,  1,  2,  3,  4,  5,  6,  7,  8,  9, 10, 11, 12, 13, 14, 15, 16, 17,\n",
       "       18, 19, 20, 21, 22, 23, 24, 25, 26, 27, 28, 29, 30, 31, 32, 33, 34, 35,\n",
       "       36, 37, 38, 39, 40, 41, 42, 43, 44, 45, 46, 47, 48, 49, 50, 51, 52, 53,\n",
       "       54, 55, 56, 57, 58, 59, 60, 61, 62, 63, 64, 65, 66, 67, 68, 69, 70, 71,\n",
       "       72, 73, 74, 75, 76, 77, 78, 79, 80, 81, 82, 83, 84, 85, 86, 87, 88, 89,\n",
       "       90, 91, 92, 93, 94, 95, 96, 97, 98, 99])</pre></div></li></ul></div></li><li class='xr-section-item'><input id='section-95c4b7c7-01d3-4670-95f9-c75d1505a951' class='xr-section-summary-in' type='checkbox'  checked><label for='section-95c4b7c7-01d3-4670-95f9-c75d1505a951' class='xr-section-summary' >Data variables: <span>(1)</span></label><div class='xr-section-inline-details'></div><div class='xr-section-details'><ul class='xr-var-list'><li class='xr-var-item'><div class='xr-var-name'><span>p</span></div><div class='xr-var-dims'>(chain, draw)</div><div class='xr-var-dtype'>float64</div><div class='xr-var-preview xr-preview'>0.6475 0.6071 ... 0.5377 0.5577</div><input id='attrs-8500504a-c361-42a2-99b3-9f369f468052' class='xr-var-attrs-in' type='checkbox' disabled><label for='attrs-8500504a-c361-42a2-99b3-9f369f468052' title='Show/Hide attributes'><svg class='icon xr-icon-file-text2'><use xlink:href='#icon-file-text2'></use></svg></label><input id='data-4fcddce2-1dce-4e62-a5be-9057c79af6f5' class='xr-var-data-in' type='checkbox'><label for='data-4fcddce2-1dce-4e62-a5be-9057c79af6f5' title='Show/Hide data repr'><svg class='icon xr-icon-database'><use xlink:href='#icon-database'></use></svg></label><div class='xr-var-attrs'><dl class='xr-attrs'></dl></div><div class='xr-var-data'><pre>array([[0.6474774 , 0.60707057, 0.60707057, 0.67356263, 0.54213282,\n",
       "        0.60262611, 0.73010854, 0.63099734, 0.61131272, 0.52039167,\n",
       "        0.51551514, 0.57646825, 0.62188389, 0.74213922, 0.7072291 ,\n",
       "        0.55623814, 0.78329765, 0.83219765, 0.61067499, 0.59204435,\n",
       "        0.60161756, 0.60161756, 0.580444  , 0.59067409, 0.57971592,\n",
       "        0.71748954, 0.71748954, 0.67581793, 0.6558152 , 0.64132079,\n",
       "        0.80990985, 0.62665174, 0.59600728, 0.58245156, 0.58245156,\n",
       "        0.66838456, 0.66838456, 0.64968529, 0.75284543, 0.5536398 ,\n",
       "        0.74360675, 0.56715831, 0.51545697, 0.52292472, 0.59133292,\n",
       "        0.59133292, 0.55776746, 0.62925461, 0.53291115, 0.54882582,\n",
       "        0.51681704, 0.53311785, 0.62437141, 0.77878352, 0.69489125,\n",
       "        0.67721034, 0.67721034, 0.64071538, 0.64071538, 0.64525396,\n",
       "        0.64525396, 0.61338066, 0.61338066, 0.60533273, 0.53063006,\n",
       "        0.70846221, 0.55814359, 0.54430213, 0.5092037 , 0.5132019 ,\n",
       "        0.51392087, 0.5230795 , 0.51474372, 0.5185767 , 0.57875791,\n",
       "        0.58160498, 0.57110543, 0.53540091, 0.63598576, 0.62964068,\n",
       "        0.5330276 , 0.66267191, 0.66267191, 0.66267191, 0.68950895,\n",
       "        0.76498772, 0.74687946, 0.62390208, 0.57673636, 0.65744979,\n",
       "        0.73406575, 0.73406575, 0.6694347 , 0.56676526, 0.61955993,\n",
       "        0.55298988, 0.52314951, 0.50971212, 0.51018039, 0.50268445],\n",
       "...\n",
       "       [0.80939884, 0.64745329, 0.69012884, 0.71529407, 0.60748207,\n",
       "        0.61060113, 0.51954685, 0.51339184, 0.51803376, 0.56709916,\n",
       "        0.54094632, 0.53266501, 0.67528161, 0.64313719, 0.59802601,\n",
       "        0.59179329, 0.61950979, 0.5299055 , 0.53838203, 0.68791364,\n",
       "        0.56007795, 0.57356277, 0.52628931, 0.52617487, 0.52100123,\n",
       "        0.65157871, 0.64590431, 0.60413974, 0.58168987, 0.56235813,\n",
       "        0.50973947, 0.51510063, 0.5596757 , 0.63122192, 0.63612941,\n",
       "        0.63612941, 0.76349036, 0.70735139, 0.71471737, 0.6137331 ,\n",
       "        0.63866444, 0.63866444, 0.64744524, 0.65515984, 0.68540626,\n",
       "        0.63066816, 0.63066816, 0.66465432, 0.51690672, 0.51895341,\n",
       "        0.52982519, 0.52951025, 0.53456628, 0.54156288, 0.54858208,\n",
       "        0.53539663, 0.54409013, 0.51902792, 0.51992934, 0.52320778,\n",
       "        0.50451526, 0.50693401, 0.50375845, 0.50245301, 0.50884851,\n",
       "        0.6326363 , 0.61544688, 0.61544688, 0.53114471, 0.51478886,\n",
       "        0.54473928, 0.50466064, 0.52348103, 0.67307774, 0.6532621 ,\n",
       "        0.54586645, 0.70462552, 0.5692256 , 0.5692256 , 0.5692256 ,\n",
       "        0.65195131, 0.64258788, 0.64258788, 0.64258788, 0.65626325,\n",
       "        0.70449563, 0.70449563, 0.51917932, 0.62919451, 0.71415363,\n",
       "        0.62588509, 0.63552131, 0.71417184, 0.71417184, 0.71417184,\n",
       "        0.5694036 , 0.54429942, 0.53663993, 0.5376746 , 0.55768506]])</pre></div></li></ul></div></li><li class='xr-section-item'><input id='section-7a4f55e4-3be0-4874-b6f3-206984be0e54' class='xr-section-summary-in' type='checkbox'  checked><label for='section-7a4f55e4-3be0-4874-b6f3-206984be0e54' class='xr-section-summary' >Attributes: <span>(6)</span></label><div class='xr-section-inline-details'></div><div class='xr-section-details'><dl class='xr-attrs'><dt><span>created_at :</span></dt><dd>2021-02-11T16:20:02.893656</dd><dt><span>arviz_version :</span></dt><dd>0.11.1</dd><dt><span>inference_library :</span></dt><dd>pymc3</dd><dt><span>inference_library_version :</span></dt><dd>3.11.0</dd><dt><span>sampling_time :</span></dt><dd>10.408515691757202</dd><dt><span>tuning_steps :</span></dt><dd>2000</dd></dl></div></li></ul></div></div><br></div>\n",
       "                      </ul>\n",
       "                  </div>\n",
       "            </li>\n",
       "            \n",
       "            <li class = \"xr-section-item\">\n",
       "                  <input id=\"idata_log_likelihood34d60ef3-18ec-48fa-93de-624d42fce0fb\" class=\"xr-section-summary-in\" type=\"checkbox\">\n",
       "                  <label for=\"idata_log_likelihood34d60ef3-18ec-48fa-93de-624d42fce0fb\" class = \"xr-section-summary\">log_likelihood</label>\n",
       "                  <div class=\"xr-section-inline-details\"></div>\n",
       "                  <div class=\"xr-section-details\">\n",
       "                      <ul id=\"xr-dataset-coord-list\" class=\"xr-var-list\">\n",
       "                          <div style=\"padding-left:2rem;\"><div><svg style=\"position: absolute; width: 0; height: 0; overflow: hidden\">\n",
       "<defs>\n",
       "<symbol id=\"icon-database\" viewBox=\"0 0 32 32\">\n",
       "<path d=\"M16 0c-8.837 0-16 2.239-16 5v4c0 2.761 7.163 5 16 5s16-2.239 16-5v-4c0-2.761-7.163-5-16-5z\"></path>\n",
       "<path d=\"M16 17c-8.837 0-16-2.239-16-5v6c0 2.761 7.163 5 16 5s16-2.239 16-5v-6c0 2.761-7.163 5-16 5z\"></path>\n",
       "<path d=\"M16 26c-8.837 0-16-2.239-16-5v6c0 2.761 7.163 5 16 5s16-2.239 16-5v-6c0 2.761-7.163 5-16 5z\"></path>\n",
       "</symbol>\n",
       "<symbol id=\"icon-file-text2\" viewBox=\"0 0 32 32\">\n",
       "<path d=\"M28.681 7.159c-0.694-0.947-1.662-2.053-2.724-3.116s-2.169-2.030-3.116-2.724c-1.612-1.182-2.393-1.319-2.841-1.319h-15.5c-1.378 0-2.5 1.121-2.5 2.5v27c0 1.378 1.122 2.5 2.5 2.5h23c1.378 0 2.5-1.122 2.5-2.5v-19.5c0-0.448-0.137-1.23-1.319-2.841zM24.543 5.457c0.959 0.959 1.712 1.825 2.268 2.543h-4.811v-4.811c0.718 0.556 1.584 1.309 2.543 2.268zM28 29.5c0 0.271-0.229 0.5-0.5 0.5h-23c-0.271 0-0.5-0.229-0.5-0.5v-27c0-0.271 0.229-0.5 0.5-0.5 0 0 15.499-0 15.5 0v7c0 0.552 0.448 1 1 1h7v19.5z\"></path>\n",
       "<path d=\"M23 26h-14c-0.552 0-1-0.448-1-1s0.448-1 1-1h14c0.552 0 1 0.448 1 1s-0.448 1-1 1z\"></path>\n",
       "<path d=\"M23 22h-14c-0.552 0-1-0.448-1-1s0.448-1 1-1h14c0.552 0 1 0.448 1 1s-0.448 1-1 1z\"></path>\n",
       "<path d=\"M23 18h-14c-0.552 0-1-0.448-1-1s0.448-1 1-1h14c0.552 0 1 0.448 1 1s-0.448 1-1 1z\"></path>\n",
       "</symbol>\n",
       "</defs>\n",
       "</svg>\n",
       "<style>/* CSS stylesheet for displaying xarray objects in jupyterlab.\n",
       " *\n",
       " */\n",
       "\n",
       ":root {\n",
       "  --xr-font-color0: var(--jp-content-font-color0, rgba(0, 0, 0, 1));\n",
       "  --xr-font-color2: var(--jp-content-font-color2, rgba(0, 0, 0, 0.54));\n",
       "  --xr-font-color3: var(--jp-content-font-color3, rgba(0, 0, 0, 0.38));\n",
       "  --xr-border-color: var(--jp-border-color2, #e0e0e0);\n",
       "  --xr-disabled-color: var(--jp-layout-color3, #bdbdbd);\n",
       "  --xr-background-color: var(--jp-layout-color0, white);\n",
       "  --xr-background-color-row-even: var(--jp-layout-color1, white);\n",
       "  --xr-background-color-row-odd: var(--jp-layout-color2, #eeeeee);\n",
       "}\n",
       "\n",
       "html[theme=dark],\n",
       "body.vscode-dark {\n",
       "  --xr-font-color0: rgba(255, 255, 255, 1);\n",
       "  --xr-font-color2: rgba(255, 255, 255, 0.54);\n",
       "  --xr-font-color3: rgba(255, 255, 255, 0.38);\n",
       "  --xr-border-color: #1F1F1F;\n",
       "  --xr-disabled-color: #515151;\n",
       "  --xr-background-color: #111111;\n",
       "  --xr-background-color-row-even: #111111;\n",
       "  --xr-background-color-row-odd: #313131;\n",
       "}\n",
       "\n",
       ".xr-wrap {\n",
       "  display: block;\n",
       "  min-width: 300px;\n",
       "  max-width: 700px;\n",
       "}\n",
       "\n",
       ".xr-text-repr-fallback {\n",
       "  /* fallback to plain text repr when CSS is not injected (untrusted notebook) */\n",
       "  display: none;\n",
       "}\n",
       "\n",
       ".xr-header {\n",
       "  padding-top: 6px;\n",
       "  padding-bottom: 6px;\n",
       "  margin-bottom: 4px;\n",
       "  border-bottom: solid 1px var(--xr-border-color);\n",
       "}\n",
       "\n",
       ".xr-header > div,\n",
       ".xr-header > ul {\n",
       "  display: inline;\n",
       "  margin-top: 0;\n",
       "  margin-bottom: 0;\n",
       "}\n",
       "\n",
       ".xr-obj-type,\n",
       ".xr-array-name {\n",
       "  margin-left: 2px;\n",
       "  margin-right: 10px;\n",
       "}\n",
       "\n",
       ".xr-obj-type {\n",
       "  color: var(--xr-font-color2);\n",
       "}\n",
       "\n",
       ".xr-sections {\n",
       "  padding-left: 0 !important;\n",
       "  display: grid;\n",
       "  grid-template-columns: 150px auto auto 1fr 20px 20px;\n",
       "}\n",
       "\n",
       ".xr-section-item {\n",
       "  display: contents;\n",
       "}\n",
       "\n",
       ".xr-section-item input {\n",
       "  display: none;\n",
       "}\n",
       "\n",
       ".xr-section-item input + label {\n",
       "  color: var(--xr-disabled-color);\n",
       "}\n",
       "\n",
       ".xr-section-item input:enabled + label {\n",
       "  cursor: pointer;\n",
       "  color: var(--xr-font-color2);\n",
       "}\n",
       "\n",
       ".xr-section-item input:enabled + label:hover {\n",
       "  color: var(--xr-font-color0);\n",
       "}\n",
       "\n",
       ".xr-section-summary {\n",
       "  grid-column: 1;\n",
       "  color: var(--xr-font-color2);\n",
       "  font-weight: 500;\n",
       "}\n",
       "\n",
       ".xr-section-summary > span {\n",
       "  display: inline-block;\n",
       "  padding-left: 0.5em;\n",
       "}\n",
       "\n",
       ".xr-section-summary-in:disabled + label {\n",
       "  color: var(--xr-font-color2);\n",
       "}\n",
       "\n",
       ".xr-section-summary-in + label:before {\n",
       "  display: inline-block;\n",
       "  content: '►';\n",
       "  font-size: 11px;\n",
       "  width: 15px;\n",
       "  text-align: center;\n",
       "}\n",
       "\n",
       ".xr-section-summary-in:disabled + label:before {\n",
       "  color: var(--xr-disabled-color);\n",
       "}\n",
       "\n",
       ".xr-section-summary-in:checked + label:before {\n",
       "  content: '▼';\n",
       "}\n",
       "\n",
       ".xr-section-summary-in:checked + label > span {\n",
       "  display: none;\n",
       "}\n",
       "\n",
       ".xr-section-summary,\n",
       ".xr-section-inline-details {\n",
       "  padding-top: 4px;\n",
       "  padding-bottom: 4px;\n",
       "}\n",
       "\n",
       ".xr-section-inline-details {\n",
       "  grid-column: 2 / -1;\n",
       "}\n",
       "\n",
       ".xr-section-details {\n",
       "  display: none;\n",
       "  grid-column: 1 / -1;\n",
       "  margin-bottom: 5px;\n",
       "}\n",
       "\n",
       ".xr-section-summary-in:checked ~ .xr-section-details {\n",
       "  display: contents;\n",
       "}\n",
       "\n",
       ".xr-array-wrap {\n",
       "  grid-column: 1 / -1;\n",
       "  display: grid;\n",
       "  grid-template-columns: 20px auto;\n",
       "}\n",
       "\n",
       ".xr-array-wrap > label {\n",
       "  grid-column: 1;\n",
       "  vertical-align: top;\n",
       "}\n",
       "\n",
       ".xr-preview {\n",
       "  color: var(--xr-font-color3);\n",
       "}\n",
       "\n",
       ".xr-array-preview,\n",
       ".xr-array-data {\n",
       "  padding: 0 5px !important;\n",
       "  grid-column: 2;\n",
       "}\n",
       "\n",
       ".xr-array-data,\n",
       ".xr-array-in:checked ~ .xr-array-preview {\n",
       "  display: none;\n",
       "}\n",
       "\n",
       ".xr-array-in:checked ~ .xr-array-data,\n",
       ".xr-array-preview {\n",
       "  display: inline-block;\n",
       "}\n",
       "\n",
       ".xr-dim-list {\n",
       "  display: inline-block !important;\n",
       "  list-style: none;\n",
       "  padding: 0 !important;\n",
       "  margin: 0;\n",
       "}\n",
       "\n",
       ".xr-dim-list li {\n",
       "  display: inline-block;\n",
       "  padding: 0;\n",
       "  margin: 0;\n",
       "}\n",
       "\n",
       ".xr-dim-list:before {\n",
       "  content: '(';\n",
       "}\n",
       "\n",
       ".xr-dim-list:after {\n",
       "  content: ')';\n",
       "}\n",
       "\n",
       ".xr-dim-list li:not(:last-child):after {\n",
       "  content: ',';\n",
       "  padding-right: 5px;\n",
       "}\n",
       "\n",
       ".xr-has-index {\n",
       "  font-weight: bold;\n",
       "}\n",
       "\n",
       ".xr-var-list,\n",
       ".xr-var-item {\n",
       "  display: contents;\n",
       "}\n",
       "\n",
       ".xr-var-item > div,\n",
       ".xr-var-item label,\n",
       ".xr-var-item > .xr-var-name span {\n",
       "  background-color: var(--xr-background-color-row-even);\n",
       "  margin-bottom: 0;\n",
       "}\n",
       "\n",
       ".xr-var-item > .xr-var-name:hover span {\n",
       "  padding-right: 5px;\n",
       "}\n",
       "\n",
       ".xr-var-list > li:nth-child(odd) > div,\n",
       ".xr-var-list > li:nth-child(odd) > label,\n",
       ".xr-var-list > li:nth-child(odd) > .xr-var-name span {\n",
       "  background-color: var(--xr-background-color-row-odd);\n",
       "}\n",
       "\n",
       ".xr-var-name {\n",
       "  grid-column: 1;\n",
       "}\n",
       "\n",
       ".xr-var-dims {\n",
       "  grid-column: 2;\n",
       "}\n",
       "\n",
       ".xr-var-dtype {\n",
       "  grid-column: 3;\n",
       "  text-align: right;\n",
       "  color: var(--xr-font-color2);\n",
       "}\n",
       "\n",
       ".xr-var-preview {\n",
       "  grid-column: 4;\n",
       "}\n",
       "\n",
       ".xr-var-name,\n",
       ".xr-var-dims,\n",
       ".xr-var-dtype,\n",
       ".xr-preview,\n",
       ".xr-attrs dt {\n",
       "  white-space: nowrap;\n",
       "  overflow: hidden;\n",
       "  text-overflow: ellipsis;\n",
       "  padding-right: 10px;\n",
       "}\n",
       "\n",
       ".xr-var-name:hover,\n",
       ".xr-var-dims:hover,\n",
       ".xr-var-dtype:hover,\n",
       ".xr-attrs dt:hover {\n",
       "  overflow: visible;\n",
       "  width: auto;\n",
       "  z-index: 1;\n",
       "}\n",
       "\n",
       ".xr-var-attrs,\n",
       ".xr-var-data {\n",
       "  display: none;\n",
       "  background-color: var(--xr-background-color) !important;\n",
       "  padding-bottom: 5px !important;\n",
       "}\n",
       "\n",
       ".xr-var-attrs-in:checked ~ .xr-var-attrs,\n",
       ".xr-var-data-in:checked ~ .xr-var-data {\n",
       "  display: block;\n",
       "}\n",
       "\n",
       ".xr-var-data > table {\n",
       "  float: right;\n",
       "}\n",
       "\n",
       ".xr-var-name span,\n",
       ".xr-var-data,\n",
       ".xr-attrs {\n",
       "  padding-left: 25px !important;\n",
       "}\n",
       "\n",
       ".xr-attrs,\n",
       ".xr-var-attrs,\n",
       ".xr-var-data {\n",
       "  grid-column: 1 / -1;\n",
       "}\n",
       "\n",
       "dl.xr-attrs {\n",
       "  padding: 0;\n",
       "  margin: 0;\n",
       "  display: grid;\n",
       "  grid-template-columns: 125px auto;\n",
       "}\n",
       "\n",
       ".xr-attrs dt,\n",
       ".xr-attrs dd {\n",
       "  padding: 0;\n",
       "  margin: 0;\n",
       "  float: left;\n",
       "  padding-right: 10px;\n",
       "  width: auto;\n",
       "}\n",
       "\n",
       ".xr-attrs dt {\n",
       "  font-weight: normal;\n",
       "  grid-column: 1;\n",
       "}\n",
       "\n",
       ".xr-attrs dt:hover span {\n",
       "  display: inline-block;\n",
       "  background: var(--xr-background-color);\n",
       "  padding-right: 10px;\n",
       "}\n",
       "\n",
       ".xr-attrs dd {\n",
       "  grid-column: 2;\n",
       "  white-space: pre-wrap;\n",
       "  word-break: break-all;\n",
       "}\n",
       "\n",
       ".xr-icon-database,\n",
       ".xr-icon-file-text2 {\n",
       "  display: inline-block;\n",
       "  vertical-align: middle;\n",
       "  width: 1em;\n",
       "  height: 1.5em !important;\n",
       "  stroke-width: 0;\n",
       "  stroke: currentColor;\n",
       "  fill: currentColor;\n",
       "}\n",
       "</style><pre class='xr-text-repr-fallback'>&lt;xarray.Dataset&gt;\n",
       "Dimensions:  (chain: 4, draw: 100, w_dim_0: 1)\n",
       "Coordinates:\n",
       "  * chain    (chain) int64 0 1 2 3\n",
       "  * draw     (draw) int64 0 1 2 3 4 5 6 7 8 9 ... 90 91 92 93 94 95 96 97 98 99\n",
       "  * w_dim_0  (w_dim_0) int64 0\n",
       "Data variables:\n",
       "    w        (chain, draw, w_dim_0) float64 -1.89 -1.73 -1.73 ... -1.764 -1.716\n",
       "Attributes:\n",
       "    created_at:                 2021-02-11T16:20:02.962106\n",
       "    arviz_version:              0.11.1\n",
       "    inference_library:          pymc3\n",
       "    inference_library_version:  3.11.0</pre><div class='xr-wrap' hidden><div class='xr-header'><div class='xr-obj-type'>xarray.Dataset</div></div><ul class='xr-sections'><li class='xr-section-item'><input id='section-36d6e90b-5860-4f72-b51f-277633a8c940' class='xr-section-summary-in' type='checkbox' disabled ><label for='section-36d6e90b-5860-4f72-b51f-277633a8c940' class='xr-section-summary'  title='Expand/collapse section'>Dimensions:</label><div class='xr-section-inline-details'><ul class='xr-dim-list'><li><span class='xr-has-index'>chain</span>: 4</li><li><span class='xr-has-index'>draw</span>: 100</li><li><span class='xr-has-index'>w_dim_0</span>: 1</li></ul></div><div class='xr-section-details'></div></li><li class='xr-section-item'><input id='section-6e653dee-1f88-42e3-9d4f-917ac1af2f0f' class='xr-section-summary-in' type='checkbox'  checked><label for='section-6e653dee-1f88-42e3-9d4f-917ac1af2f0f' class='xr-section-summary' >Coordinates: <span>(3)</span></label><div class='xr-section-inline-details'></div><div class='xr-section-details'><ul class='xr-var-list'><li class='xr-var-item'><div class='xr-var-name'><span class='xr-has-index'>chain</span></div><div class='xr-var-dims'>(chain)</div><div class='xr-var-dtype'>int64</div><div class='xr-var-preview xr-preview'>0 1 2 3</div><input id='attrs-ac8c89ca-204e-4196-9246-ac656299cb47' class='xr-var-attrs-in' type='checkbox' disabled><label for='attrs-ac8c89ca-204e-4196-9246-ac656299cb47' title='Show/Hide attributes'><svg class='icon xr-icon-file-text2'><use xlink:href='#icon-file-text2'></use></svg></label><input id='data-5d95d812-c931-4d5b-b38b-d79117bf6993' class='xr-var-data-in' type='checkbox'><label for='data-5d95d812-c931-4d5b-b38b-d79117bf6993' title='Show/Hide data repr'><svg class='icon xr-icon-database'><use xlink:href='#icon-database'></use></svg></label><div class='xr-var-attrs'><dl class='xr-attrs'></dl></div><div class='xr-var-data'><pre>array([0, 1, 2, 3])</pre></div></li><li class='xr-var-item'><div class='xr-var-name'><span class='xr-has-index'>draw</span></div><div class='xr-var-dims'>(draw)</div><div class='xr-var-dtype'>int64</div><div class='xr-var-preview xr-preview'>0 1 2 3 4 5 6 ... 94 95 96 97 98 99</div><input id='attrs-cdb11b46-6861-4bc5-ab94-d97db37546b3' class='xr-var-attrs-in' type='checkbox' disabled><label for='attrs-cdb11b46-6861-4bc5-ab94-d97db37546b3' title='Show/Hide attributes'><svg class='icon xr-icon-file-text2'><use xlink:href='#icon-file-text2'></use></svg></label><input id='data-c8d573b2-8b6b-4a49-9299-c374c986ca66' class='xr-var-data-in' type='checkbox'><label for='data-c8d573b2-8b6b-4a49-9299-c374c986ca66' title='Show/Hide data repr'><svg class='icon xr-icon-database'><use xlink:href='#icon-database'></use></svg></label><div class='xr-var-attrs'><dl class='xr-attrs'></dl></div><div class='xr-var-data'><pre>array([ 0,  1,  2,  3,  4,  5,  6,  7,  8,  9, 10, 11, 12, 13, 14, 15, 16, 17,\n",
       "       18, 19, 20, 21, 22, 23, 24, 25, 26, 27, 28, 29, 30, 31, 32, 33, 34, 35,\n",
       "       36, 37, 38, 39, 40, 41, 42, 43, 44, 45, 46, 47, 48, 49, 50, 51, 52, 53,\n",
       "       54, 55, 56, 57, 58, 59, 60, 61, 62, 63, 64, 65, 66, 67, 68, 69, 70, 71,\n",
       "       72, 73, 74, 75, 76, 77, 78, 79, 80, 81, 82, 83, 84, 85, 86, 87, 88, 89,\n",
       "       90, 91, 92, 93, 94, 95, 96, 97, 98, 99])</pre></div></li><li class='xr-var-item'><div class='xr-var-name'><span class='xr-has-index'>w_dim_0</span></div><div class='xr-var-dims'>(w_dim_0)</div><div class='xr-var-dtype'>int64</div><div class='xr-var-preview xr-preview'>0</div><input id='attrs-a433ab97-048c-44bc-a5a9-d1a6478248b3' class='xr-var-attrs-in' type='checkbox' disabled><label for='attrs-a433ab97-048c-44bc-a5a9-d1a6478248b3' title='Show/Hide attributes'><svg class='icon xr-icon-file-text2'><use xlink:href='#icon-file-text2'></use></svg></label><input id='data-5c7001f9-a080-4a60-b919-a51903e74e7f' class='xr-var-data-in' type='checkbox'><label for='data-5c7001f9-a080-4a60-b919-a51903e74e7f' title='Show/Hide data repr'><svg class='icon xr-icon-database'><use xlink:href='#icon-database'></use></svg></label><div class='xr-var-attrs'><dl class='xr-attrs'></dl></div><div class='xr-var-data'><pre>array([0])</pre></div></li></ul></div></li><li class='xr-section-item'><input id='section-c1eac78c-0ea3-41ef-b4fb-46f9d2cc8271' class='xr-section-summary-in' type='checkbox'  checked><label for='section-c1eac78c-0ea3-41ef-b4fb-46f9d2cc8271' class='xr-section-summary' >Data variables: <span>(1)</span></label><div class='xr-section-inline-details'></div><div class='xr-section-details'><ul class='xr-var-list'><li class='xr-var-item'><div class='xr-var-name'><span>w</span></div><div class='xr-var-dims'>(chain, draw, w_dim_0)</div><div class='xr-var-dtype'>float64</div><div class='xr-var-preview xr-preview'>-1.89 -1.73 -1.73 ... -1.764 -1.716</div><input id='attrs-97f80cb3-320e-4d2e-acb6-99f7bd826583' class='xr-var-attrs-in' type='checkbox' disabled><label for='attrs-97f80cb3-320e-4d2e-acb6-99f7bd826583' title='Show/Hide attributes'><svg class='icon xr-icon-file-text2'><use xlink:href='#icon-file-text2'></use></svg></label><input id='data-b1f70319-eda1-44d6-b702-8ae867e6fae5' class='xr-var-data-in' type='checkbox'><label for='data-b1f70319-eda1-44d6-b702-8ae867e6fae5' title='Show/Hide data repr'><svg class='icon xr-icon-database'><use xlink:href='#icon-database'></use></svg></label><div class='xr-var-attrs'><dl class='xr-attrs'></dl></div><div class='xr-var-data'><pre>array([[[-1.88953621],\n",
       "        [-1.73024116],\n",
       "        [-1.73024116],\n",
       "        [-2.07008116],\n",
       "        [-1.75112242],\n",
       "        [-1.72108936],\n",
       "        [-2.7050925 ],\n",
       "        [-1.80762791],\n",
       "        [-1.74048086],\n",
       "        [-1.83021941],\n",
       "        [-1.85285398],\n",
       "        [-1.6992261 ],\n",
       "        [-1.77247889],\n",
       "        [-2.89011286],\n",
       "        [-2.40435244],\n",
       "        [-1.7189107 ],\n",
       "        [-3.68753843],\n",
       "        [-5.06731288],\n",
       "        [-1.73884714],\n",
       "        [-1.70571209],\n",
       "...\n",
       "        [-1.91596909],\n",
       "        [-1.86272131],\n",
       "        [-1.86272131],\n",
       "        [-1.86272131],\n",
       "        [-1.94318598],\n",
       "        [-2.37260449],\n",
       "        [-2.37260449],\n",
       "        [-1.83567904],\n",
       "        [-1.80011084],\n",
       "        [-2.48866163],\n",
       "        [-1.78703818],\n",
       "        [-1.82773031],\n",
       "        [-2.4888909 ],\n",
       "        [-2.4888909 ],\n",
       "        [-2.4888909 ],\n",
       "        [-1.7025226 ],\n",
       "        [-1.74519459],\n",
       "        [-1.76774049],\n",
       "        [-1.7644361 ],\n",
       "        [-1.71646122]]])</pre></div></li></ul></div></li><li class='xr-section-item'><input id='section-56a1325b-cc80-47fd-987e-b0e55543b540' class='xr-section-summary-in' type='checkbox'  checked><label for='section-56a1325b-cc80-47fd-987e-b0e55543b540' class='xr-section-summary' >Attributes: <span>(4)</span></label><div class='xr-section-inline-details'></div><div class='xr-section-details'><dl class='xr-attrs'><dt><span>created_at :</span></dt><dd>2021-02-11T16:20:02.962106</dd><dt><span>arviz_version :</span></dt><dd>0.11.1</dd><dt><span>inference_library :</span></dt><dd>pymc3</dd><dt><span>inference_library_version :</span></dt><dd>3.11.0</dd></dl></div></li></ul></div></div><br></div>\n",
       "                      </ul>\n",
       "                  </div>\n",
       "            </li>\n",
       "            \n",
       "            <li class = \"xr-section-item\">\n",
       "                  <input id=\"idata_sample_stats9b6f6037-163d-4d0a-a062-57a0040f36af\" class=\"xr-section-summary-in\" type=\"checkbox\">\n",
       "                  <label for=\"idata_sample_stats9b6f6037-163d-4d0a-a062-57a0040f36af\" class = \"xr-section-summary\">sample_stats</label>\n",
       "                  <div class=\"xr-section-inline-details\"></div>\n",
       "                  <div class=\"xr-section-details\">\n",
       "                      <ul id=\"xr-dataset-coord-list\" class=\"xr-var-list\">\n",
       "                          <div style=\"padding-left:2rem;\"><div><svg style=\"position: absolute; width: 0; height: 0; overflow: hidden\">\n",
       "<defs>\n",
       "<symbol id=\"icon-database\" viewBox=\"0 0 32 32\">\n",
       "<path d=\"M16 0c-8.837 0-16 2.239-16 5v4c0 2.761 7.163 5 16 5s16-2.239 16-5v-4c0-2.761-7.163-5-16-5z\"></path>\n",
       "<path d=\"M16 17c-8.837 0-16-2.239-16-5v6c0 2.761 7.163 5 16 5s16-2.239 16-5v-6c0 2.761-7.163 5-16 5z\"></path>\n",
       "<path d=\"M16 26c-8.837 0-16-2.239-16-5v6c0 2.761 7.163 5 16 5s16-2.239 16-5v-6c0 2.761-7.163 5-16 5z\"></path>\n",
       "</symbol>\n",
       "<symbol id=\"icon-file-text2\" viewBox=\"0 0 32 32\">\n",
       "<path d=\"M28.681 7.159c-0.694-0.947-1.662-2.053-2.724-3.116s-2.169-2.030-3.116-2.724c-1.612-1.182-2.393-1.319-2.841-1.319h-15.5c-1.378 0-2.5 1.121-2.5 2.5v27c0 1.378 1.122 2.5 2.5 2.5h23c1.378 0 2.5-1.122 2.5-2.5v-19.5c0-0.448-0.137-1.23-1.319-2.841zM24.543 5.457c0.959 0.959 1.712 1.825 2.268 2.543h-4.811v-4.811c0.718 0.556 1.584 1.309 2.543 2.268zM28 29.5c0 0.271-0.229 0.5-0.5 0.5h-23c-0.271 0-0.5-0.229-0.5-0.5v-27c0-0.271 0.229-0.5 0.5-0.5 0 0 15.499-0 15.5 0v7c0 0.552 0.448 1 1 1h7v19.5z\"></path>\n",
       "<path d=\"M23 26h-14c-0.552 0-1-0.448-1-1s0.448-1 1-1h14c0.552 0 1 0.448 1 1s-0.448 1-1 1z\"></path>\n",
       "<path d=\"M23 22h-14c-0.552 0-1-0.448-1-1s0.448-1 1-1h14c0.552 0 1 0.448 1 1s-0.448 1-1 1z\"></path>\n",
       "<path d=\"M23 18h-14c-0.552 0-1-0.448-1-1s0.448-1 1-1h14c0.552 0 1 0.448 1 1s-0.448 1-1 1z\"></path>\n",
       "</symbol>\n",
       "</defs>\n",
       "</svg>\n",
       "<style>/* CSS stylesheet for displaying xarray objects in jupyterlab.\n",
       " *\n",
       " */\n",
       "\n",
       ":root {\n",
       "  --xr-font-color0: var(--jp-content-font-color0, rgba(0, 0, 0, 1));\n",
       "  --xr-font-color2: var(--jp-content-font-color2, rgba(0, 0, 0, 0.54));\n",
       "  --xr-font-color3: var(--jp-content-font-color3, rgba(0, 0, 0, 0.38));\n",
       "  --xr-border-color: var(--jp-border-color2, #e0e0e0);\n",
       "  --xr-disabled-color: var(--jp-layout-color3, #bdbdbd);\n",
       "  --xr-background-color: var(--jp-layout-color0, white);\n",
       "  --xr-background-color-row-even: var(--jp-layout-color1, white);\n",
       "  --xr-background-color-row-odd: var(--jp-layout-color2, #eeeeee);\n",
       "}\n",
       "\n",
       "html[theme=dark],\n",
       "body.vscode-dark {\n",
       "  --xr-font-color0: rgba(255, 255, 255, 1);\n",
       "  --xr-font-color2: rgba(255, 255, 255, 0.54);\n",
       "  --xr-font-color3: rgba(255, 255, 255, 0.38);\n",
       "  --xr-border-color: #1F1F1F;\n",
       "  --xr-disabled-color: #515151;\n",
       "  --xr-background-color: #111111;\n",
       "  --xr-background-color-row-even: #111111;\n",
       "  --xr-background-color-row-odd: #313131;\n",
       "}\n",
       "\n",
       ".xr-wrap {\n",
       "  display: block;\n",
       "  min-width: 300px;\n",
       "  max-width: 700px;\n",
       "}\n",
       "\n",
       ".xr-text-repr-fallback {\n",
       "  /* fallback to plain text repr when CSS is not injected (untrusted notebook) */\n",
       "  display: none;\n",
       "}\n",
       "\n",
       ".xr-header {\n",
       "  padding-top: 6px;\n",
       "  padding-bottom: 6px;\n",
       "  margin-bottom: 4px;\n",
       "  border-bottom: solid 1px var(--xr-border-color);\n",
       "}\n",
       "\n",
       ".xr-header > div,\n",
       ".xr-header > ul {\n",
       "  display: inline;\n",
       "  margin-top: 0;\n",
       "  margin-bottom: 0;\n",
       "}\n",
       "\n",
       ".xr-obj-type,\n",
       ".xr-array-name {\n",
       "  margin-left: 2px;\n",
       "  margin-right: 10px;\n",
       "}\n",
       "\n",
       ".xr-obj-type {\n",
       "  color: var(--xr-font-color2);\n",
       "}\n",
       "\n",
       ".xr-sections {\n",
       "  padding-left: 0 !important;\n",
       "  display: grid;\n",
       "  grid-template-columns: 150px auto auto 1fr 20px 20px;\n",
       "}\n",
       "\n",
       ".xr-section-item {\n",
       "  display: contents;\n",
       "}\n",
       "\n",
       ".xr-section-item input {\n",
       "  display: none;\n",
       "}\n",
       "\n",
       ".xr-section-item input + label {\n",
       "  color: var(--xr-disabled-color);\n",
       "}\n",
       "\n",
       ".xr-section-item input:enabled + label {\n",
       "  cursor: pointer;\n",
       "  color: var(--xr-font-color2);\n",
       "}\n",
       "\n",
       ".xr-section-item input:enabled + label:hover {\n",
       "  color: var(--xr-font-color0);\n",
       "}\n",
       "\n",
       ".xr-section-summary {\n",
       "  grid-column: 1;\n",
       "  color: var(--xr-font-color2);\n",
       "  font-weight: 500;\n",
       "}\n",
       "\n",
       ".xr-section-summary > span {\n",
       "  display: inline-block;\n",
       "  padding-left: 0.5em;\n",
       "}\n",
       "\n",
       ".xr-section-summary-in:disabled + label {\n",
       "  color: var(--xr-font-color2);\n",
       "}\n",
       "\n",
       ".xr-section-summary-in + label:before {\n",
       "  display: inline-block;\n",
       "  content: '►';\n",
       "  font-size: 11px;\n",
       "  width: 15px;\n",
       "  text-align: center;\n",
       "}\n",
       "\n",
       ".xr-section-summary-in:disabled + label:before {\n",
       "  color: var(--xr-disabled-color);\n",
       "}\n",
       "\n",
       ".xr-section-summary-in:checked + label:before {\n",
       "  content: '▼';\n",
       "}\n",
       "\n",
       ".xr-section-summary-in:checked + label > span {\n",
       "  display: none;\n",
       "}\n",
       "\n",
       ".xr-section-summary,\n",
       ".xr-section-inline-details {\n",
       "  padding-top: 4px;\n",
       "  padding-bottom: 4px;\n",
       "}\n",
       "\n",
       ".xr-section-inline-details {\n",
       "  grid-column: 2 / -1;\n",
       "}\n",
       "\n",
       ".xr-section-details {\n",
       "  display: none;\n",
       "  grid-column: 1 / -1;\n",
       "  margin-bottom: 5px;\n",
       "}\n",
       "\n",
       ".xr-section-summary-in:checked ~ .xr-section-details {\n",
       "  display: contents;\n",
       "}\n",
       "\n",
       ".xr-array-wrap {\n",
       "  grid-column: 1 / -1;\n",
       "  display: grid;\n",
       "  grid-template-columns: 20px auto;\n",
       "}\n",
       "\n",
       ".xr-array-wrap > label {\n",
       "  grid-column: 1;\n",
       "  vertical-align: top;\n",
       "}\n",
       "\n",
       ".xr-preview {\n",
       "  color: var(--xr-font-color3);\n",
       "}\n",
       "\n",
       ".xr-array-preview,\n",
       ".xr-array-data {\n",
       "  padding: 0 5px !important;\n",
       "  grid-column: 2;\n",
       "}\n",
       "\n",
       ".xr-array-data,\n",
       ".xr-array-in:checked ~ .xr-array-preview {\n",
       "  display: none;\n",
       "}\n",
       "\n",
       ".xr-array-in:checked ~ .xr-array-data,\n",
       ".xr-array-preview {\n",
       "  display: inline-block;\n",
       "}\n",
       "\n",
       ".xr-dim-list {\n",
       "  display: inline-block !important;\n",
       "  list-style: none;\n",
       "  padding: 0 !important;\n",
       "  margin: 0;\n",
       "}\n",
       "\n",
       ".xr-dim-list li {\n",
       "  display: inline-block;\n",
       "  padding: 0;\n",
       "  margin: 0;\n",
       "}\n",
       "\n",
       ".xr-dim-list:before {\n",
       "  content: '(';\n",
       "}\n",
       "\n",
       ".xr-dim-list:after {\n",
       "  content: ')';\n",
       "}\n",
       "\n",
       ".xr-dim-list li:not(:last-child):after {\n",
       "  content: ',';\n",
       "  padding-right: 5px;\n",
       "}\n",
       "\n",
       ".xr-has-index {\n",
       "  font-weight: bold;\n",
       "}\n",
       "\n",
       ".xr-var-list,\n",
       ".xr-var-item {\n",
       "  display: contents;\n",
       "}\n",
       "\n",
       ".xr-var-item > div,\n",
       ".xr-var-item label,\n",
       ".xr-var-item > .xr-var-name span {\n",
       "  background-color: var(--xr-background-color-row-even);\n",
       "  margin-bottom: 0;\n",
       "}\n",
       "\n",
       ".xr-var-item > .xr-var-name:hover span {\n",
       "  padding-right: 5px;\n",
       "}\n",
       "\n",
       ".xr-var-list > li:nth-child(odd) > div,\n",
       ".xr-var-list > li:nth-child(odd) > label,\n",
       ".xr-var-list > li:nth-child(odd) > .xr-var-name span {\n",
       "  background-color: var(--xr-background-color-row-odd);\n",
       "}\n",
       "\n",
       ".xr-var-name {\n",
       "  grid-column: 1;\n",
       "}\n",
       "\n",
       ".xr-var-dims {\n",
       "  grid-column: 2;\n",
       "}\n",
       "\n",
       ".xr-var-dtype {\n",
       "  grid-column: 3;\n",
       "  text-align: right;\n",
       "  color: var(--xr-font-color2);\n",
       "}\n",
       "\n",
       ".xr-var-preview {\n",
       "  grid-column: 4;\n",
       "}\n",
       "\n",
       ".xr-var-name,\n",
       ".xr-var-dims,\n",
       ".xr-var-dtype,\n",
       ".xr-preview,\n",
       ".xr-attrs dt {\n",
       "  white-space: nowrap;\n",
       "  overflow: hidden;\n",
       "  text-overflow: ellipsis;\n",
       "  padding-right: 10px;\n",
       "}\n",
       "\n",
       ".xr-var-name:hover,\n",
       ".xr-var-dims:hover,\n",
       ".xr-var-dtype:hover,\n",
       ".xr-attrs dt:hover {\n",
       "  overflow: visible;\n",
       "  width: auto;\n",
       "  z-index: 1;\n",
       "}\n",
       "\n",
       ".xr-var-attrs,\n",
       ".xr-var-data {\n",
       "  display: none;\n",
       "  background-color: var(--xr-background-color) !important;\n",
       "  padding-bottom: 5px !important;\n",
       "}\n",
       "\n",
       ".xr-var-attrs-in:checked ~ .xr-var-attrs,\n",
       ".xr-var-data-in:checked ~ .xr-var-data {\n",
       "  display: block;\n",
       "}\n",
       "\n",
       ".xr-var-data > table {\n",
       "  float: right;\n",
       "}\n",
       "\n",
       ".xr-var-name span,\n",
       ".xr-var-data,\n",
       ".xr-attrs {\n",
       "  padding-left: 25px !important;\n",
       "}\n",
       "\n",
       ".xr-attrs,\n",
       ".xr-var-attrs,\n",
       ".xr-var-data {\n",
       "  grid-column: 1 / -1;\n",
       "}\n",
       "\n",
       "dl.xr-attrs {\n",
       "  padding: 0;\n",
       "  margin: 0;\n",
       "  display: grid;\n",
       "  grid-template-columns: 125px auto;\n",
       "}\n",
       "\n",
       ".xr-attrs dt,\n",
       ".xr-attrs dd {\n",
       "  padding: 0;\n",
       "  margin: 0;\n",
       "  float: left;\n",
       "  padding-right: 10px;\n",
       "  width: auto;\n",
       "}\n",
       "\n",
       ".xr-attrs dt {\n",
       "  font-weight: normal;\n",
       "  grid-column: 1;\n",
       "}\n",
       "\n",
       ".xr-attrs dt:hover span {\n",
       "  display: inline-block;\n",
       "  background: var(--xr-background-color);\n",
       "  padding-right: 10px;\n",
       "}\n",
       "\n",
       ".xr-attrs dd {\n",
       "  grid-column: 2;\n",
       "  white-space: pre-wrap;\n",
       "  word-break: break-all;\n",
       "}\n",
       "\n",
       ".xr-icon-database,\n",
       ".xr-icon-file-text2 {\n",
       "  display: inline-block;\n",
       "  vertical-align: middle;\n",
       "  width: 1em;\n",
       "  height: 1.5em !important;\n",
       "  stroke-width: 0;\n",
       "  stroke: currentColor;\n",
       "  fill: currentColor;\n",
       "}\n",
       "</style><pre class='xr-text-repr-fallback'>&lt;xarray.Dataset&gt;\n",
       "Dimensions:             (chain: 4, draw: 100)\n",
       "Coordinates:\n",
       "  * chain               (chain) int64 0 1 2 3\n",
       "  * draw                (draw) int64 0 1 2 3 4 5 6 7 ... 92 93 94 95 96 97 98 99\n",
       "Data variables:\n",
       "    perf_counter_start  (chain, draw) float64 9.473 9.474 9.474 ... 10.28 10.28\n",
       "    mean_tree_accept    (chain, draw) float64 0.996 0.9865 0.9345 ... 1.0 1.0\n",
       "    energy              (chain, draw) float64 3.46 3.526 3.772 ... 4.585 4.401\n",
       "    perf_counter_diff   (chain, draw) float64 0.0002347 0.0003428 ... 0.0001673\n",
       "    step_size_bar       (chain, draw) float64 1.212 1.212 1.212 ... 1.06 1.06\n",
       "    tree_size           (chain, draw) float64 1.0 3.0 3.0 3.0 ... 3.0 1.0 1.0\n",
       "    max_energy_error    (chain, draw) float64 0.004017 0.0222 ... -0.03345\n",
       "    lp                  (chain, draw) float64 -3.46 -3.512 ... -4.428 -3.999\n",
       "    diverging           (chain, draw) bool False False False ... False False\n",
       "    energy_error        (chain, draw) float64 0.004017 0.0222 ... -0.03345\n",
       "    step_size           (chain, draw) float64 1.748 1.748 1.748 ... 1.016 1.016\n",
       "    depth               (chain, draw) int64 1 2 2 2 2 2 2 1 ... 1 2 2 2 1 2 1 1\n",
       "    process_time_diff   (chain, draw) float64 0.000236 0.000344 ... 0.000168\n",
       "Attributes:\n",
       "    created_at:                 2021-02-11T16:20:02.897557\n",
       "    arviz_version:              0.11.1\n",
       "    inference_library:          pymc3\n",
       "    inference_library_version:  3.11.0\n",
       "    sampling_time:              10.408515691757202\n",
       "    tuning_steps:               2000</pre><div class='xr-wrap' hidden><div class='xr-header'><div class='xr-obj-type'>xarray.Dataset</div></div><ul class='xr-sections'><li class='xr-section-item'><input id='section-929e6409-ec49-4e43-8f39-21896fa6f3ea' class='xr-section-summary-in' type='checkbox' disabled ><label for='section-929e6409-ec49-4e43-8f39-21896fa6f3ea' class='xr-section-summary'  title='Expand/collapse section'>Dimensions:</label><div class='xr-section-inline-details'><ul class='xr-dim-list'><li><span class='xr-has-index'>chain</span>: 4</li><li><span class='xr-has-index'>draw</span>: 100</li></ul></div><div class='xr-section-details'></div></li><li class='xr-section-item'><input id='section-fede2259-c19d-4a1a-950a-96d034ff08a6' class='xr-section-summary-in' type='checkbox'  checked><label for='section-fede2259-c19d-4a1a-950a-96d034ff08a6' class='xr-section-summary' >Coordinates: <span>(2)</span></label><div class='xr-section-inline-details'></div><div class='xr-section-details'><ul class='xr-var-list'><li class='xr-var-item'><div class='xr-var-name'><span class='xr-has-index'>chain</span></div><div class='xr-var-dims'>(chain)</div><div class='xr-var-dtype'>int64</div><div class='xr-var-preview xr-preview'>0 1 2 3</div><input id='attrs-783c5d2e-ad4f-4e2e-bc2a-01a51a7a0336' class='xr-var-attrs-in' type='checkbox' disabled><label for='attrs-783c5d2e-ad4f-4e2e-bc2a-01a51a7a0336' title='Show/Hide attributes'><svg class='icon xr-icon-file-text2'><use xlink:href='#icon-file-text2'></use></svg></label><input id='data-b7b9f3e0-25e8-4c50-ba09-0f556b0dca1e' class='xr-var-data-in' type='checkbox'><label for='data-b7b9f3e0-25e8-4c50-ba09-0f556b0dca1e' title='Show/Hide data repr'><svg class='icon xr-icon-database'><use xlink:href='#icon-database'></use></svg></label><div class='xr-var-attrs'><dl class='xr-attrs'></dl></div><div class='xr-var-data'><pre>array([0, 1, 2, 3])</pre></div></li><li class='xr-var-item'><div class='xr-var-name'><span class='xr-has-index'>draw</span></div><div class='xr-var-dims'>(draw)</div><div class='xr-var-dtype'>int64</div><div class='xr-var-preview xr-preview'>0 1 2 3 4 5 6 ... 94 95 96 97 98 99</div><input id='attrs-cd39d163-0ae0-4265-9394-b4bb648cdeac' class='xr-var-attrs-in' type='checkbox' disabled><label for='attrs-cd39d163-0ae0-4265-9394-b4bb648cdeac' title='Show/Hide attributes'><svg class='icon xr-icon-file-text2'><use xlink:href='#icon-file-text2'></use></svg></label><input id='data-93055956-f9ef-4ed5-a464-e6c6ae05b6d8' class='xr-var-data-in' type='checkbox'><label for='data-93055956-f9ef-4ed5-a464-e6c6ae05b6d8' title='Show/Hide data repr'><svg class='icon xr-icon-database'><use xlink:href='#icon-database'></use></svg></label><div class='xr-var-attrs'><dl class='xr-attrs'></dl></div><div class='xr-var-data'><pre>array([ 0,  1,  2,  3,  4,  5,  6,  7,  8,  9, 10, 11, 12, 13, 14, 15, 16, 17,\n",
       "       18, 19, 20, 21, 22, 23, 24, 25, 26, 27, 28, 29, 30, 31, 32, 33, 34, 35,\n",
       "       36, 37, 38, 39, 40, 41, 42, 43, 44, 45, 46, 47, 48, 49, 50, 51, 52, 53,\n",
       "       54, 55, 56, 57, 58, 59, 60, 61, 62, 63, 64, 65, 66, 67, 68, 69, 70, 71,\n",
       "       72, 73, 74, 75, 76, 77, 78, 79, 80, 81, 82, 83, 84, 85, 86, 87, 88, 89,\n",
       "       90, 91, 92, 93, 94, 95, 96, 97, 98, 99])</pre></div></li></ul></div></li><li class='xr-section-item'><input id='section-351615bf-1c9e-4f7a-a9f0-57da72fff3f0' class='xr-section-summary-in' type='checkbox'  checked><label for='section-351615bf-1c9e-4f7a-a9f0-57da72fff3f0' class='xr-section-summary' >Data variables: <span>(13)</span></label><div class='xr-section-inline-details'></div><div class='xr-section-details'><ul class='xr-var-list'><li class='xr-var-item'><div class='xr-var-name'><span>perf_counter_start</span></div><div class='xr-var-dims'>(chain, draw)</div><div class='xr-var-dtype'>float64</div><div class='xr-var-preview xr-preview'>9.473 9.474 9.474 ... 10.28 10.28</div><input id='attrs-c0eb4894-15b1-4680-a503-7544265580bb' class='xr-var-attrs-in' type='checkbox' disabled><label for='attrs-c0eb4894-15b1-4680-a503-7544265580bb' title='Show/Hide attributes'><svg class='icon xr-icon-file-text2'><use xlink:href='#icon-file-text2'></use></svg></label><input id='data-93f5a1d8-2067-4bc2-b721-40f0ad976b50' class='xr-var-data-in' type='checkbox'><label for='data-93f5a1d8-2067-4bc2-b721-40f0ad976b50' title='Show/Hide data repr'><svg class='icon xr-icon-database'><use xlink:href='#icon-database'></use></svg></label><div class='xr-var-attrs'><dl class='xr-attrs'></dl></div><div class='xr-var-data'><pre>array([[ 9.47317178,  9.47350061,  9.47397079,  9.47438555,  9.47481444,\n",
       "         9.47524899,  9.47567899,  9.47621751,  9.47672694,  9.47716   ,\n",
       "         9.47758176,  9.47784597,  9.47824856,  9.47864952,  9.47908474,\n",
       "         9.47934666,  9.47980297,  9.48024781,  9.48094148,  9.48135545,\n",
       "         9.48161634,  9.48190376,  9.48237023,  9.48263178,  9.48311359,\n",
       "         9.48353637,  9.4839554 ,  9.48422121,  9.4844832 ,  9.48474597,\n",
       "         9.48520275,  9.48546559,  9.48572568,  9.48618829,  9.48645109,\n",
       "         9.48685193,  9.48734444,  9.48760496,  9.4879036 ,  9.48816619,\n",
       "         9.48862814,  9.4890858 ,  9.48954799,  9.49007689,  9.49033783,\n",
       "         9.49079689,  9.49105636,  9.49145795,  9.49187405,  9.49229077,\n",
       "         9.49259777,  9.49300303,  9.49340354,  9.49382002,  9.49407967,\n",
       "         9.49438049,  9.49464281,  9.49515236,  9.49544848,  9.49571022,\n",
       "         9.49612813,  9.49639469,  9.49681097,  9.49707216,  9.49740551,\n",
       "         9.49782605,  9.49826836,  9.49881546,  9.49929696,  9.49974395,\n",
       "         9.50000403,  9.50026705,  9.5005307 ,  9.50079343,  9.50105534,\n",
       "         9.50189107,  9.50230653,  9.50257262,  9.50302366,  9.50346264,\n",
       "         9.50387935,  9.50428109,  9.5046944 ,  9.50495607,  9.50525719,\n",
       "         9.50567833,  9.50593947,  9.50620055,  9.50646548,  9.50695493,\n",
       "         9.50737054,  9.50778561,  9.50844358,  9.50870231,  9.5195361 ,\n",
       "         9.52005388,  9.52044342,  9.52082606,  9.52120735,  9.52221169],\n",
       "...\n",
       "       [10.24943405, 10.24969282, 10.24994383, 10.25019479, 10.25044484,\n",
       "        10.25082479, 10.25107266, 10.25147208, 10.25172225, 10.25197115,\n",
       "        10.25236675, 10.25261931, 10.25286895, 10.25326704, 10.25351466,\n",
       "        10.25391472, 10.25431282, 10.25456134, 10.25495769, 10.25520588,\n",
       "        10.2555854 , 10.25598166, 10.2563761 , 10.25676938, 10.2570181 ,\n",
       "        10.25726926, 10.25766812, 10.25806757, 10.25846468, 10.25886246,\n",
       "        10.25925962, 10.25971975, 10.2599707 , 10.26037004, 10.26076673,\n",
       "        10.26116133, 10.26155763, 10.26180499, 10.26205531, 10.26245665,\n",
       "        10.26287637, 10.26327122, 10.26351968, 10.26376739, 10.26416406,\n",
       "        10.26441522, 10.26466481, 10.26491428, 10.26531476, 10.26569442,\n",
       "        10.26608853, 10.26633742, 10.26658665, 10.26698559, 10.26738509,\n",
       "        10.26778194, 10.26803243, 10.26843122, 10.26881467, 10.26906504,\n",
       "        10.26931225, 10.26969845, 10.26994697, 10.27034308, 10.27059037,\n",
       "        10.27097186, 10.27135069, 10.2717444 , 10.27199342, 10.27239363,\n",
       "        10.27286222, 10.27326199, 10.27366603, 10.27406528, 10.27445003,\n",
       "        10.27484696, 10.27525101, 10.27565092, 10.27605855, 10.27644439,\n",
       "        10.27669757, 10.27709885, 10.27750165, 10.27775312, 10.27815068,\n",
       "        10.27839992, 10.27865109, 10.2790339 , 10.27943127, 10.27983135,\n",
       "        10.28023001, 10.28048085, 10.28087712, 10.2811249 , 10.28150494,\n",
       "        10.28189971, 10.28229768, 10.28255544, 10.28295345, 10.28320409]])</pre></div></li><li class='xr-var-item'><div class='xr-var-name'><span>mean_tree_accept</span></div><div class='xr-var-dims'>(chain, draw)</div><div class='xr-var-dtype'>float64</div><div class='xr-var-preview xr-preview'>0.996 0.9865 0.9345 ... 1.0 1.0</div><input id='attrs-9e30b3b1-85b8-48b2-810c-d99a6b28138a' class='xr-var-attrs-in' type='checkbox' disabled><label for='attrs-9e30b3b1-85b8-48b2-810c-d99a6b28138a' title='Show/Hide attributes'><svg class='icon xr-icon-file-text2'><use xlink:href='#icon-file-text2'></use></svg></label><input id='data-2e457b9f-b132-49b1-b1e5-2c4baeda20a6' class='xr-var-data-in' type='checkbox'><label for='data-2e457b9f-b132-49b1-b1e5-2c4baeda20a6' title='Show/Hide data repr'><svg class='icon xr-icon-database'><use xlink:href='#icon-database'></use></svg></label><div class='xr-var-attrs'><dl class='xr-attrs'></dl></div><div class='xr-var-data'><pre>array([[0.99599067, 0.98654757, 0.93452899, 0.99374006, 0.76016101,\n",
       "        0.91432149, 0.85673808, 1.        , 0.88365936, 0.51005578,\n",
       "        0.99860993, 1.        , 1.        , 0.69596242, 1.        ,\n",
       "        0.57665604, 1.        , 0.19572531, 1.        , 0.9740824 ,\n",
       "        1.        , 0.6301326 , 0.96620341, 1.        , 0.99442581,\n",
       "        0.96887248, 0.29847506, 1.        , 1.        , 1.        ,\n",
       "        0.24059104, 1.        , 0.96397736, 0.97856162, 0.58284188,\n",
       "        1.        , 0.01746597, 1.        , 0.56834563, 0.85676646,\n",
       "        0.98910961, 1.        , 0.87111849, 1.        , 0.99888768,\n",
       "        0.20470694, 0.93796154, 1.        , 0.50306172, 1.        ,\n",
       "        0.95234614, 1.        , 1.        , 0.45898802, 1.        ,\n",
       "        1.        , 0.76724055, 1.        , 0.26562406, 0.96104362,\n",
       "        0.49442087, 0.83175906, 0.10426555, 0.990786  , 0.7260957 ,\n",
       "        1.        , 0.66767828, 0.99423212, 0.94157911, 0.99997862,\n",
       "        1.        , 1.        , 0.99692766, 1.        , 0.90916334,\n",
       "        0.99175255, 0.98273512, 0.93500338, 1.        , 0.99842496,\n",
       "        0.67833941, 1.        , 0.22500022, 0.12260319, 0.94929373,\n",
       "        0.50268011, 1.        , 1.        , 0.92152207, 0.97189777,\n",
       "        0.78682164, 0.20014405, 1.        , 0.79690415, 1.        ,\n",
       "        0.84532529, 0.95611239, 0.99465701, 0.99996318, 1.        ],\n",
       "...\n",
       "       [0.37247546, 1.        , 0.88727162, 0.83637951, 1.        ,\n",
       "        1.        , 0.60582921, 0.99829168, 1.        , 1.        ,\n",
       "        0.95104693, 0.99031018, 1.        , 1.        , 0.82501038,\n",
       "        0.99649084, 1.        , 0.57786187, 1.        , 1.        ,\n",
       "        0.63819018, 0.98995768, 0.83598778, 0.9999199 , 0.996892  ,\n",
       "        0.98640587, 0.99462943, 0.87227309, 0.97157848, 0.97434333,\n",
       "        0.63791837, 1.        , 0.85205804, 0.96692622, 0.99766854,\n",
       "        0.42681487, 0.44946471, 1.        , 0.79778071, 1.        ,\n",
       "        0.9930537 , 0.01633995, 0.99529161, 0.98243254, 0.91312054,\n",
       "        1.        , 0.63026605, 0.98267669, 0.31297603, 1.        ,\n",
       "        1.        , 0.99973223, 0.99774884, 1.        , 0.99497941,\n",
       "        0.9816131 , 1.        , 0.96655728, 1.        , 1.        ,\n",
       "        0.98953919, 0.9992379 , 0.99999685, 1.        , 0.99780375,\n",
       "        1.        , 0.96752934, 0.00575193, 0.5766054 , 0.98722046,\n",
       "        1.        , 0.93058561, 1.        , 1.        , 1.        ,\n",
       "        0.68748792, 1.        , 0.99837736, 0.43072518, 0.27481308,\n",
       "        1.        , 0.99788796, 0.58183669, 0.47926881, 0.98588021,\n",
       "        0.82047655, 0.35649615, 0.19093368, 1.        , 0.87730773,\n",
       "        1.        , 0.96478412, 0.77226666, 0.32297824, 0.34692573,\n",
       "        0.93507958, 0.95230757, 0.99720664, 1.        , 1.        ]])</pre></div></li><li class='xr-var-item'><div class='xr-var-name'><span>energy</span></div><div class='xr-var-dims'>(chain, draw)</div><div class='xr-var-dtype'>float64</div><div class='xr-var-preview xr-preview'>3.46 3.526 3.772 ... 4.585 4.401</div><input id='attrs-4c6db8ad-99b8-490d-be7a-7a2fd11aa5c0' class='xr-var-attrs-in' type='checkbox' disabled><label for='attrs-4c6db8ad-99b8-490d-be7a-7a2fd11aa5c0' title='Show/Hide attributes'><svg class='icon xr-icon-file-text2'><use xlink:href='#icon-file-text2'></use></svg></label><input id='data-b181d6cc-3456-4307-b809-d4cd5e4c48a1' class='xr-var-data-in' type='checkbox'><label for='data-b181d6cc-3456-4307-b809-d4cd5e4c48a1' title='Show/Hide data repr'><svg class='icon xr-icon-database'><use xlink:href='#icon-database'></use></svg></label><div class='xr-var-attrs'><dl class='xr-attrs'></dl></div><div class='xr-var-data'><pre>array([[3.45998065, 3.52554041, 3.7719254 , 3.55814013, 4.31348453,\n",
       "        4.49280861, 4.13972582, 3.79226978, 3.96227619, 5.99478275,\n",
       "        5.38521866, 5.85861347, 3.68579778, 4.27797504, 4.24175721,\n",
       "        4.8023546 , 5.4042553 , 8.04386278, 4.99616567, 3.60305787,\n",
       "        3.60061647, 4.3479828 , 3.70342605, 3.7049411 , 3.72740516,\n",
       "        4.04875724, 4.94229349, 3.79877618, 3.53707854, 3.46823958,\n",
       "        5.91052453, 4.54386285, 3.62189926, 3.69335074, 5.08809739,\n",
       "        3.62332044, 5.87316987, 3.50352571, 4.49748064, 5.11662711,\n",
       "        4.7920512 , 4.06837147, 5.89882892, 5.36473331, 5.25164678,\n",
       "        5.58475567, 4.00156622, 3.90463226, 5.1430198 , 4.55290125,\n",
       "        5.45220175, 5.27764024, 4.32148448, 4.9945984 , 4.40486112,\n",
       "        3.69951849, 4.00101758, 3.52030511, 4.43113434, 3.5869861 ,\n",
       "        4.03043915, 3.88792726, 5.35816734, 3.52696466, 5.0322562 ,\n",
       "        5.27073673, 4.74467429, 4.27718401, 6.5026965 , 5.91016218,\n",
       "        5.63187352, 5.46672821, 5.41203075, 5.44884599, 5.51950938,\n",
       "        4.16448447, 3.83033141, 4.52943463, 4.66005153, 3.45515708,\n",
       "        5.13979248, 4.19241819, 4.49303035, 4.81866088, 3.68735833,\n",
       "        4.91739685, 5.08804396, 3.94049689, 3.76581611, 4.1677724 ,\n",
       "        4.19561063, 5.90284061, 3.86098921, 4.16399628, 3.79942732,\n",
       "        4.2099693 , 5.00512029, 5.90927849, 5.95262521, 7.48216602],\n",
       "...\n",
       "       [5.8055355 , 4.3331488 , 3.67910929, 4.08977435, 3.75803324,\n",
       "        3.52192228, 5.82215058, 5.53252926, 5.55017913, 5.19358091,\n",
       "        4.34270938, 4.62945724, 4.12306672, 3.50857613, 3.84573585,\n",
       "        3.63137073, 3.55934885, 5.06444374, 4.70741576, 4.48050408,\n",
       "        4.3379863 , 4.31804333, 5.6979999 , 4.95992204, 5.10189323,\n",
       "        5.32396575, 3.4801457 , 3.7293764 , 3.72778084, 4.00460087,\n",
       "        6.57264444, 5.85213965, 5.93300497, 4.44283193, 3.45529272,\n",
       "        5.91111841, 4.73614412, 4.43467441, 4.16766652, 3.71533663,\n",
       "        3.5088744 , 5.2765818 , 3.46019639, 3.5055009 , 3.65397305,\n",
       "        3.53934111, 3.78179336, 3.51427789, 6.91467643, 5.3701193 ,\n",
       "        5.14887027, 4.82824827, 5.20973076, 5.14147162, 4.81309301,\n",
       "        4.51903109, 4.53434237, 5.17369745, 5.27693208, 5.18031985,\n",
       "        7.0755959 , 6.64184891, 6.81295764, 7.25933487, 7.43132273,\n",
       "        7.14932181, 3.53989091, 5.98227905, 4.95597355, 5.41680124,\n",
       "        5.48216928, 6.59669697, 7.27937865, 5.16436951, 3.52232528,\n",
       "        4.55877536, 3.98216783, 3.82932425, 5.36251963, 5.65187676,\n",
       "        3.85173038, 3.47229203, 3.79951285, 5.10594546, 3.48296419,\n",
       "        3.83478258, 4.84544858, 7.15026758, 4.68938146, 3.899588  ,\n",
       "        3.66340173, 3.52880103, 3.90665567, 4.93568076, 4.71548095,\n",
       "        4.12317739, 4.26352373, 4.51841007, 4.58529238, 4.40100653]])</pre></div></li><li class='xr-var-item'><div class='xr-var-name'><span>perf_counter_diff</span></div><div class='xr-var-dims'>(chain, draw)</div><div class='xr-var-dtype'>float64</div><div class='xr-var-preview xr-preview'>0.0002347 0.0003428 ... 0.0001673</div><input id='attrs-31aa3edb-2d00-4964-b92f-2b498ac04e88' class='xr-var-attrs-in' type='checkbox' disabled><label for='attrs-31aa3edb-2d00-4964-b92f-2b498ac04e88' title='Show/Hide attributes'><svg class='icon xr-icon-file-text2'><use xlink:href='#icon-file-text2'></use></svg></label><input id='data-d2d60c8a-7301-4dfe-afc5-72cf449692c8' class='xr-var-data-in' type='checkbox'><label for='data-d2d60c8a-7301-4dfe-afc5-72cf449692c8' title='Show/Hide data repr'><svg class='icon xr-icon-database'><use xlink:href='#icon-database'></use></svg></label><div class='xr-var-attrs'><dl class='xr-attrs'></dl></div><div class='xr-var-data'><pre>array([[0.00023472, 0.00034283, 0.00032521, 0.00033828, 0.00034462,\n",
       "        0.00034032, 0.00037051, 0.0004146 , 0.00034389, 0.00033412,\n",
       "        0.0001784 , 0.00031574, 0.00031409, 0.00030798, 0.00017652,\n",
       "        0.00036969, 0.0003574 , 0.0006056 , 0.00032678, 0.00017561,\n",
       "        0.00017561, 0.00038034, 0.00017613, 0.0002724 , 0.000335  ,\n",
       "        0.0003318 , 0.00018062, 0.00017754, 0.00017835, 0.00037026,\n",
       "        0.0001777 , 0.00017589, 0.00037502, 0.00017869, 0.00031437,\n",
       "        0.00036541, 0.00017691, 0.00021498, 0.00017851, 0.00037574,\n",
       "        0.00037107, 0.00033126, 0.00044187, 0.00017717, 0.00037208,\n",
       "        0.00017589, 0.00031482, 0.00032923, 0.00032937, 0.00022202,\n",
       "        0.0003171 , 0.00031393, 0.00033004, 0.00017596, 0.00021583,\n",
       "        0.00017862, 0.00037427, 0.00021161, 0.00017743, 0.00033132,\n",
       "        0.000181  , 0.00032989, 0.00017735, 0.00020753, 0.00033396,\n",
       "        0.00035462, 0.00037586, 0.00039453, 0.00036107, 0.00017504,\n",
       "        0.00017775, 0.0001778 , 0.00017747, 0.00017795, 0.0006865 ,\n",
       "        0.00032756, 0.00018069, 0.00036482, 0.0003529 , 0.00033075,\n",
       "        0.00031483, 0.00032708, 0.00017797, 0.00021881, 0.00033539,\n",
       "        0.00017633, 0.00017691, 0.00018122, 0.00040311, 0.00032927,\n",
       "        0.0003293 , 0.00056987, 0.00017495, 0.00033315, 0.00042204,\n",
       "        0.00030596, 0.00029975, 0.00029923, 0.00016728, 0.00034169],\n",
       "...\n",
       "       [0.00017301, 0.00016947, 0.00016941, 0.00016951, 0.00029649,\n",
       "        0.00016646, 0.00031619, 0.00016811, 0.0001675 , 0.00031308,\n",
       "        0.00017093, 0.00016941, 0.00031585, 0.00016631, 0.00031665,\n",
       "        0.00031526, 0.00016679, 0.00031384, 0.00016628, 0.00029617,\n",
       "        0.0003133 , 0.0003112 , 0.00031119, 0.00016768, 0.00017053,\n",
       "        0.00031566, 0.00031657, 0.00031427, 0.000315  , 0.00031406,\n",
       "        0.00037703, 0.00016939, 0.00031702, 0.00031419, 0.00031171,\n",
       "        0.00031378, 0.00016583, 0.00017018, 0.00031615, 0.00033595,\n",
       "        0.00031193, 0.00016903, 0.00016697, 0.00031405, 0.00016969,\n",
       "        0.00016869, 0.00016871, 0.0003178 , 0.00029677, 0.00031159,\n",
       "        0.00016798, 0.0001683 , 0.00031685, 0.00031719, 0.00031358,\n",
       "        0.00016938, 0.00031612, 0.00029984, 0.00016905, 0.00016683,\n",
       "        0.00030393, 0.00016766, 0.0003142 , 0.00016667, 0.00029946,\n",
       "        0.00029635, 0.00031181, 0.00016825, 0.00031756, 0.00037083,\n",
       "        0.00030827, 0.00031975, 0.00031574, 0.00030009, 0.0003136 ,\n",
       "        0.00032049, 0.00031632, 0.00032348, 0.0003031 , 0.00017179,\n",
       "        0.00031778, 0.00031863, 0.00017021, 0.00031439, 0.00016721,\n",
       "        0.00016888, 0.00030017, 0.000314  , 0.00031632, 0.00031524,\n",
       "        0.00016902, 0.00031328, 0.00016717, 0.00029722, 0.0003121 ,\n",
       "        0.00031435, 0.00017576, 0.00031449, 0.00016897, 0.00016729]])</pre></div></li><li class='xr-var-item'><div class='xr-var-name'><span>step_size_bar</span></div><div class='xr-var-dims'>(chain, draw)</div><div class='xr-var-dtype'>float64</div><div class='xr-var-preview xr-preview'>1.212 1.212 1.212 ... 1.06 1.06</div><input id='attrs-eb6e9b4e-e6d1-4009-964b-10903ebae141' class='xr-var-attrs-in' type='checkbox' disabled><label for='attrs-eb6e9b4e-e6d1-4009-964b-10903ebae141' title='Show/Hide attributes'><svg class='icon xr-icon-file-text2'><use xlink:href='#icon-file-text2'></use></svg></label><input id='data-58ec51ea-942d-449f-8729-59dd1d2ceec5' class='xr-var-data-in' type='checkbox'><label for='data-58ec51ea-942d-449f-8729-59dd1d2ceec5' title='Show/Hide data repr'><svg class='icon xr-icon-database'><use xlink:href='#icon-database'></use></svg></label><div class='xr-var-attrs'><dl class='xr-attrs'></dl></div><div class='xr-var-data'><pre>array([[1.21244863, 1.21244863, 1.21244863, 1.21244863, 1.21244863,\n",
       "        1.21244863, 1.21244863, 1.21244863, 1.21244863, 1.21244863,\n",
       "        1.21244863, 1.21244863, 1.21244863, 1.21244863, 1.21244863,\n",
       "        1.21244863, 1.21244863, 1.21244863, 1.21244863, 1.21244863,\n",
       "        1.21244863, 1.21244863, 1.21244863, 1.21244863, 1.21244863,\n",
       "        1.21244863, 1.21244863, 1.21244863, 1.21244863, 1.21244863,\n",
       "        1.21244863, 1.21244863, 1.21244863, 1.21244863, 1.21244863,\n",
       "        1.21244863, 1.21244863, 1.21244863, 1.21244863, 1.21244863,\n",
       "        1.21244863, 1.21244863, 1.21244863, 1.21244863, 1.21244863,\n",
       "        1.21244863, 1.21244863, 1.21244863, 1.21244863, 1.21244863,\n",
       "        1.21244863, 1.21244863, 1.21244863, 1.21244863, 1.21244863,\n",
       "        1.21244863, 1.21244863, 1.21244863, 1.21244863, 1.21244863,\n",
       "        1.21244863, 1.21244863, 1.21244863, 1.21244863, 1.21244863,\n",
       "        1.21244863, 1.21244863, 1.21244863, 1.21244863, 1.21244863,\n",
       "        1.21244863, 1.21244863, 1.21244863, 1.21244863, 1.21244863,\n",
       "        1.21244863, 1.21244863, 1.21244863, 1.21244863, 1.21244863,\n",
       "        1.21244863, 1.21244863, 1.21244863, 1.21244863, 1.21244863,\n",
       "        1.21244863, 1.21244863, 1.21244863, 1.21244863, 1.21244863,\n",
       "        1.21244863, 1.21244863, 1.21244863, 1.21244863, 1.21244863,\n",
       "        1.21244863, 1.21244863, 1.21244863, 1.21244863, 1.21244863],\n",
       "...\n",
       "       [1.06001822, 1.06001822, 1.06001822, 1.06001822, 1.06001822,\n",
       "        1.06001822, 1.06001822, 1.06001822, 1.06001822, 1.06001822,\n",
       "        1.06001822, 1.06001822, 1.06001822, 1.06001822, 1.06001822,\n",
       "        1.06001822, 1.06001822, 1.06001822, 1.06001822, 1.06001822,\n",
       "        1.06001822, 1.06001822, 1.06001822, 1.06001822, 1.06001822,\n",
       "        1.06001822, 1.06001822, 1.06001822, 1.06001822, 1.06001822,\n",
       "        1.06001822, 1.06001822, 1.06001822, 1.06001822, 1.06001822,\n",
       "        1.06001822, 1.06001822, 1.06001822, 1.06001822, 1.06001822,\n",
       "        1.06001822, 1.06001822, 1.06001822, 1.06001822, 1.06001822,\n",
       "        1.06001822, 1.06001822, 1.06001822, 1.06001822, 1.06001822,\n",
       "        1.06001822, 1.06001822, 1.06001822, 1.06001822, 1.06001822,\n",
       "        1.06001822, 1.06001822, 1.06001822, 1.06001822, 1.06001822,\n",
       "        1.06001822, 1.06001822, 1.06001822, 1.06001822, 1.06001822,\n",
       "        1.06001822, 1.06001822, 1.06001822, 1.06001822, 1.06001822,\n",
       "        1.06001822, 1.06001822, 1.06001822, 1.06001822, 1.06001822,\n",
       "        1.06001822, 1.06001822, 1.06001822, 1.06001822, 1.06001822,\n",
       "        1.06001822, 1.06001822, 1.06001822, 1.06001822, 1.06001822,\n",
       "        1.06001822, 1.06001822, 1.06001822, 1.06001822, 1.06001822,\n",
       "        1.06001822, 1.06001822, 1.06001822, 1.06001822, 1.06001822,\n",
       "        1.06001822, 1.06001822, 1.06001822, 1.06001822, 1.06001822]])</pre></div></li><li class='xr-var-item'><div class='xr-var-name'><span>tree_size</span></div><div class='xr-var-dims'>(chain, draw)</div><div class='xr-var-dtype'>float64</div><div class='xr-var-preview xr-preview'>1.0 3.0 3.0 3.0 ... 1.0 3.0 1.0 1.0</div><input id='attrs-233e765d-04ff-4af2-a8c8-3f9a0b9f700b' class='xr-var-attrs-in' type='checkbox' disabled><label for='attrs-233e765d-04ff-4af2-a8c8-3f9a0b9f700b' title='Show/Hide attributes'><svg class='icon xr-icon-file-text2'><use xlink:href='#icon-file-text2'></use></svg></label><input id='data-64eefc47-3519-4157-9e1d-ea9351a285b8' class='xr-var-data-in' type='checkbox'><label for='data-64eefc47-3519-4157-9e1d-ea9351a285b8' title='Show/Hide data repr'><svg class='icon xr-icon-database'><use xlink:href='#icon-database'></use></svg></label><div class='xr-var-attrs'><dl class='xr-attrs'></dl></div><div class='xr-var-data'><pre>array([[1., 3., 3., 3., 3., 3., 3., 1., 3., 3., 1., 3., 3., 3., 1., 3.,\n",
       "        3., 7., 3., 1., 1., 3., 1., 1., 3., 3., 1., 1., 1., 3., 1., 1.,\n",
       "        3., 1., 3., 3., 1., 1., 1., 3., 3., 3., 3., 1., 3., 1., 3., 3.,\n",
       "        3., 1., 3., 3., 3., 1., 1., 1., 3., 1., 1., 3., 1., 3., 1., 1.,\n",
       "        3., 3., 3., 3., 3., 1., 1., 1., 1., 1., 7., 3., 1., 3., 3., 3.,\n",
       "        3., 3., 1., 1., 3., 1., 1., 1., 3., 3., 3., 7., 1., 3., 3., 3.,\n",
       "        3., 3., 1., 3.],\n",
       "       [3., 3., 3., 3., 3., 1., 3., 3., 3., 1., 3., 1., 3., 3., 1., 3.,\n",
       "        3., 3., 1., 3., 1., 3., 3., 1., 3., 3., 3., 3., 3., 3., 1., 3.,\n",
       "        1., 1., 1., 3., 1., 3., 1., 3., 3., 3., 1., 3., 3., 1., 1., 3.,\n",
       "        3., 3., 3., 3., 3., 3., 3., 3., 3., 3., 3., 3., 3., 3., 1., 3.,\n",
       "        1., 3., 3., 3., 1., 3., 1., 1., 3., 1., 3., 3., 1., 1., 1., 1.,\n",
       "        3., 3., 1., 3., 3., 1., 3., 1., 1., 1., 1., 1., 1., 1., 1., 1.,\n",
       "        3., 3., 3., 3.],\n",
       "       [3., 1., 1., 1., 1., 3., 3., 1., 1., 3., 1., 1., 1., 3., 1., 1.,\n",
       "        3., 1., 1., 1., 3., 1., 3., 1., 1., 3., 3., 3., 3., 3., 3., 3.,\n",
       "        1., 1., 3., 3., 1., 3., 3., 1., 1., 1., 3., 3., 3., 3., 1., 1.,\n",
       "        1., 3., 3., 1., 3., 1., 3., 1., 3., 3., 3., 1., 1., 1., 3., 3.,\n",
       "        3., 7., 1., 3., 3., 3., 3., 1., 3., 3., 1., 1., 1., 3., 3., 3.,\n",
       "        3., 3., 3., 1., 3., 1., 3., 3., 1., 3., 1., 3., 1., 1., 3., 1.,\n",
       "        3., 1., 3., 3.],\n",
       "       [1., 1., 1., 1., 3., 1., 3., 1., 1., 3., 1., 1., 3., 1., 3., 3.,\n",
       "        1., 3., 1., 3., 3., 3., 3., 1., 1., 3., 3., 3., 3., 3., 3., 1.,\n",
       "        3., 3., 3., 3., 1., 1., 3., 3., 3., 1., 1., 3., 1., 1., 1., 3.,\n",
       "        3., 3., 1., 1., 3., 3., 3., 1., 3., 3., 1., 1., 3., 1., 3., 1.,\n",
       "        3., 3., 3., 1., 3., 3., 3., 3., 3., 3., 3., 3., 3., 3., 3., 1.,\n",
       "        3., 3., 1., 3., 1., 1., 3., 3., 3., 3., 1., 3., 1., 3., 3., 3.,\n",
       "        1., 3., 1., 1.]])</pre></div></li><li class='xr-var-item'><div class='xr-var-name'><span>max_energy_error</span></div><div class='xr-var-dims'>(chain, draw)</div><div class='xr-var-dtype'>float64</div><div class='xr-var-preview xr-preview'>0.004017 0.0222 ... -0.03345</div><input id='attrs-a1383f63-5b9c-4ed2-8ddd-dd25ef1f0957' class='xr-var-attrs-in' type='checkbox' disabled><label for='attrs-a1383f63-5b9c-4ed2-8ddd-dd25ef1f0957' title='Show/Hide attributes'><svg class='icon xr-icon-file-text2'><use xlink:href='#icon-file-text2'></use></svg></label><input id='data-198f1be8-d2d3-4204-99c8-4f3a8587ce94' class='xr-var-data-in' type='checkbox'><label for='data-198f1be8-d2d3-4204-99c8-4f3a8587ce94' title='Show/Hide data repr'><svg class='icon xr-icon-database'><use xlink:href='#icon-database'></use></svg></label><div class='xr-var-attrs'><dl class='xr-attrs'></dl></div><div class='xr-var-data'><pre>array([[ 4.01739178e-03,  2.22040897e-02,  7.12997624e-02,\n",
       "        -2.41450512e-02,  2.99318081e-01,  5.84056084e-01,\n",
       "         1.54623027e-01, -3.05718289e-01,  1.72277322e-01,\n",
       "         2.52996316e+00,  1.39103594e-03, -1.97095167e-01,\n",
       "        -1.22124959e-01,  3.62459614e-01, -3.07759120e-01,\n",
       "         8.17798603e-01, -3.30729762e-01,  3.78898610e+00,\n",
       "        -1.59626960e+00,  2.62593775e-02, -1.40320919e-02,\n",
       "         4.61825000e-01,  3.43808993e-02, -1.65775654e-02,\n",
       "        -7.22967127e-02, -1.38244807e-01,  1.20906891e+00,\n",
       "        -2.17201867e-01, -4.28870675e-02, -1.21667796e-02,\n",
       "         1.42465673e+00, -1.31281180e+00,  8.09666553e-02,\n",
       "         2.16715222e-02,  5.39839345e-01, -6.49897148e-02,\n",
       "         4.04750072e+00, -2.95965010e-02,  5.65025536e-01,\n",
       "         4.68159319e-01, -5.21816016e-01, -4.72430272e-01,\n",
       "         1.38420201e-01, -2.73536807e-03, -2.32914566e-01,\n",
       "         1.58617588e+00, -9.87703603e-02, -1.63446846e-01,\n",
       "         1.71120198e+00, -1.92323670e-02, -6.36391503e-01,\n",
       "         1.49071326e+00, -2.65007386e-01,  7.78731178e-01,\n",
       "        -8.83008952e-01, -7.23121288e-02,  2.90621523e-01,\n",
       "        -5.53070830e-02,  1.32567330e+00,  6.27215460e-02,\n",
       "...\n",
       "         4.71950941e-03,  2.57059420e-02,  9.08873842e-02,\n",
       "        -9.00497978e-02,  4.61613241e-01,  2.69531730e-02,\n",
       "         1.16335518e+00, -1.23900056e-01, -7.75206938e-03,\n",
       "         2.67801058e-04, -4.89512862e-01, -2.04615482e+00,\n",
       "        -5.19764211e-01,  1.85580369e-02, -3.57610137e-01,\n",
       "        -6.79365239e-01, -3.47715756e-04, -1.62109843e-03,\n",
       "        -1.62307610e+00,  7.62392102e-04, -6.36306719e-02,\n",
       "        -6.09607515e-04,  5.39457968e+00, -1.06874248e+00,\n",
       "         4.42759167e-02,  5.15821946e+00,  2.52570349e+00,\n",
       "         1.88931353e+00, -1.21269910e+00,  7.23554764e-02,\n",
       "        -1.19788398e-02, -1.00698121e+00, -4.53749149e-02,\n",
       "         4.12197314e-01, -2.46086538e-01, -7.16068903e-02,\n",
       "         8.42285026e-01,  1.29166413e+00, -7.03756507e-01,\n",
       "        -7.07903377e-03,  5.41565478e-01,  6.01395651e+00,\n",
       "         1.42204199e-02,  1.97869955e-01,  1.04906826e+00,\n",
       "         7.54973099e+00, -4.54934636e-01,  2.43679431e-01,\n",
       "        -2.33924413e-01,  7.47840643e-02,  2.58425368e-01,\n",
       "         1.14787340e+00,  2.49157118e+00,  1.90928062e-01,\n",
       "         4.88672176e-02, -3.29616783e-01, -1.19158764e-03,\n",
       "        -3.34459405e-02]])</pre></div></li><li class='xr-var-item'><div class='xr-var-name'><span>lp</span></div><div class='xr-var-dims'>(chain, draw)</div><div class='xr-var-dtype'>float64</div><div class='xr-var-preview xr-preview'>-3.46 -3.512 ... -4.428 -3.999</div><input id='attrs-c23c064a-65fb-483f-a41b-7dc70fb530f9' class='xr-var-attrs-in' type='checkbox' disabled><label for='attrs-c23c064a-65fb-483f-a41b-7dc70fb530f9' title='Show/Hide attributes'><svg class='icon xr-icon-file-text2'><use xlink:href='#icon-file-text2'></use></svg></label><input id='data-ff8e02dd-8d75-414b-9728-fd89dd473bee' class='xr-var-data-in' type='checkbox'><label for='data-ff8e02dd-8d75-414b-9728-fd89dd473bee' title='Show/Hide data repr'><svg class='icon xr-icon-database'><use xlink:href='#icon-database'></use></svg></label><div class='xr-var-attrs'><dl class='xr-attrs'></dl></div><div class='xr-var-data'><pre>array([[-3.45996273, -3.51233914, -3.51233914, -3.55452074, -4.31293239,\n",
       "        -3.53433554, -4.09773771, -3.45086325, -3.49457842, -5.07133952,\n",
       "        -5.35716738, -3.74293819, -3.46342489, -4.27739638, -3.82035331,\n",
       "        -4.02324368, -5.09173176, -6.56801216, -3.49705096, -3.60149933,\n",
       "        -3.53982307, -3.53982307, -3.70153205, -3.61180775, -3.70882591,\n",
       "        -3.93466011, -3.93466011, -3.56723562, -3.47964441, -3.45187721,\n",
       "        -5.81367337, -3.45524661, -3.57381559, -3.6820708 , -3.6820708 ,\n",
       "        -3.52805814, -3.52805814, -3.4642019 , -4.45823008, -4.06950823,\n",
       "        -4.30099057, -3.85616879, -5.36108474, -4.94849577, -3.60680329,\n",
       "        -3.60680329, -3.99728119, -3.4522734 , -4.56920415, -4.16306013,\n",
       "        -5.27306407, -4.56266115, -3.45871356, -4.98581737, -3.70382793,\n",
       "        -3.57544642, -3.57544642, -3.45138113, -3.45138113, -3.45640629,\n",
       "        -3.45640629, -3.48703395, -3.48703395, -3.52052033, -4.64437396,\n",
       "        -3.83324465, -3.99103389, -4.26154091, -5.89839499, -5.52522419,\n",
       "        -5.47009838, -4.94143204, -5.41032106, -5.16899516, -3.71861801,\n",
       "        -3.69016234, -3.80521696, -4.49310776, -3.44936809, -3.45192103,\n",
       "        -4.56551296, -3.50327342, -3.50327342, -3.50327342, -3.65998469,\n",
       "        -4.68871215, -4.35495862, -3.45952791, -3.74002243, -3.48466987,\n",
       "        -4.15416444, -4.15416444, -3.53311759, -3.86149548, -3.46871357,\n",
       "        -4.0815242 , -4.93825212, -5.842977  , -5.79438694, -7.15350489],\n",
       "...\n",
       "       [-5.79810443, -3.45992032, -3.66482037, -3.90884562, -3.5104798 ,\n",
       "        -3.49734179, -5.11568452, -5.51038153, -5.20003619, -3.85696732,\n",
       "        -4.34230612, -4.57705158, -3.56414653, -3.45368805, -3.56089704,\n",
       "        -3.60335927, -3.46883718, -4.6694613 , -4.40911252, -3.64779467,\n",
       "        -3.95973646, -3.77572615, -4.8046978 , -4.80927865, -5.04045326,\n",
       "        -3.46839664, -3.45737236, -3.52644715, -3.68934339, -3.92456289,\n",
       "        -5.84007657, -5.38539889, -3.96613201, -3.45071517, -3.44938035,\n",
       "        -3.44938035, -4.65877015, -3.82162153, -3.90218813, -3.48581976,\n",
       "        -3.45010163, -3.45010163, -3.45990619, -3.47773661, -3.62937567,\n",
       "        -3.45109414, -3.45109414, -3.51134994, -5.26750703, -5.14797683,\n",
       "        -4.67228031, -4.68341014, -4.51797409, -4.32692632, -4.16809026,\n",
       "        -4.49323367, -4.26643682, -5.14386836, -5.09537827, -4.93561313,\n",
       "        -6.62672234, -6.18917845, -6.81295441, -7.24454459, -5.93891705,\n",
       "        -3.44995837, -3.48021014, -3.48021014, -4.62692147, -5.4071364 ,\n",
       "        -4.25152859, -6.59450466, -4.92332389, -3.55188136, -3.47255837,\n",
       "        -4.22621945, -3.79388436, -3.82891636, -3.82891636, -3.82891636,\n",
       "        -3.46928277, -3.45308948, -3.45308948, -3.45308948, -3.480984  ,\n",
       "        -3.79259045, -3.79259045, -5.1355683 , -3.4523303 , -3.89572968,\n",
       "        -3.45632188, -3.44934954, -3.89593762, -3.89593762, -3.89593762,\n",
       "        -3.82662884, -4.2616032 , -4.45731352, -4.42839719, -3.998657  ]])</pre></div></li><li class='xr-var-item'><div class='xr-var-name'><span>diverging</span></div><div class='xr-var-dims'>(chain, draw)</div><div class='xr-var-dtype'>bool</div><div class='xr-var-preview xr-preview'>False False False ... False False</div><input id='attrs-4cd346e7-0d2c-43cd-92ec-3dc5b9e42aa7' class='xr-var-attrs-in' type='checkbox' disabled><label for='attrs-4cd346e7-0d2c-43cd-92ec-3dc5b9e42aa7' title='Show/Hide attributes'><svg class='icon xr-icon-file-text2'><use xlink:href='#icon-file-text2'></use></svg></label><input id='data-893a35bb-434e-4656-9b70-2a2664fe6323' class='xr-var-data-in' type='checkbox'><label for='data-893a35bb-434e-4656-9b70-2a2664fe6323' title='Show/Hide data repr'><svg class='icon xr-icon-database'><use xlink:href='#icon-database'></use></svg></label><div class='xr-var-attrs'><dl class='xr-attrs'></dl></div><div class='xr-var-data'><pre>array([[False, False, False, False, False, False, False, False, False,\n",
       "        False, False, False, False, False, False, False, False, False,\n",
       "        False, False, False, False, False, False, False, False, False,\n",
       "        False, False, False, False, False, False, False, False, False,\n",
       "        False, False, False, False, False, False, False, False, False,\n",
       "        False, False, False, False, False, False, False, False, False,\n",
       "        False, False, False, False, False, False, False, False, False,\n",
       "        False, False, False, False, False, False, False, False, False,\n",
       "        False, False, False, False, False, False, False, False, False,\n",
       "        False, False, False, False, False, False, False, False, False,\n",
       "        False, False, False, False, False, False, False, False, False,\n",
       "        False],\n",
       "       [False, False, False, False, False, False, False, False, False,\n",
       "        False, False, False, False, False, False, False, False, False,\n",
       "        False, False, False, False, False, False, False, False, False,\n",
       "        False, False, False, False, False, False, False, False, False,\n",
       "        False, False, False, False, False, False, False, False, False,\n",
       "        False, False, False, False, False, False, False, False, False,\n",
       "        False, False, False, False, False, False, False, False, False,\n",
       "        False, False, False, False, False, False, False, False, False,\n",
       "...\n",
       "        False, False, False, False, False, False, False, False, False,\n",
       "        False, False, False, False, False, False, False, False, False,\n",
       "        False, False, False, False, False, False, False, False, False,\n",
       "        False, False, False, False, False, False, False, False, False,\n",
       "        False, False, False, False, False, False, False, False, False,\n",
       "        False, False, False, False, False, False, False, False, False,\n",
       "        False, False, False, False, False, False, False, False, False,\n",
       "        False],\n",
       "       [False, False, False, False, False, False, False, False, False,\n",
       "        False, False, False, False, False, False, False, False, False,\n",
       "        False, False, False, False, False, False, False, False, False,\n",
       "        False, False, False, False, False, False, False, False, False,\n",
       "        False, False, False, False, False, False, False, False, False,\n",
       "        False, False, False, False, False, False, False, False, False,\n",
       "        False, False, False, False, False, False, False, False, False,\n",
       "        False, False, False, False, False, False, False, False, False,\n",
       "        False, False, False, False, False, False, False, False, False,\n",
       "        False, False, False, False, False, False, False, False, False,\n",
       "        False, False, False, False, False, False, False, False, False,\n",
       "        False]])</pre></div></li><li class='xr-var-item'><div class='xr-var-name'><span>energy_error</span></div><div class='xr-var-dims'>(chain, draw)</div><div class='xr-var-dtype'>float64</div><div class='xr-var-preview xr-preview'>0.004017 0.0222 ... -0.03345</div><input id='attrs-dad37f96-ed54-4bc4-85d1-56d880afd5b9' class='xr-var-attrs-in' type='checkbox' disabled><label for='attrs-dad37f96-ed54-4bc4-85d1-56d880afd5b9' title='Show/Hide attributes'><svg class='icon xr-icon-file-text2'><use xlink:href='#icon-file-text2'></use></svg></label><input id='data-c38715de-2afc-44da-bfa2-86663a51c234' class='xr-var-data-in' type='checkbox'><label for='data-c38715de-2afc-44da-bfa2-86663a51c234' title='Show/Hide data repr'><svg class='icon xr-icon-database'><use xlink:href='#icon-database'></use></svg></label><div class='xr-var-attrs'><dl class='xr-attrs'></dl></div><div class='xr-var-data'><pre>array([[ 4.01739178e-03,  2.22040897e-02,  0.00000000e+00,\n",
       "         1.95070268e-02,  2.99318081e-01, -6.56946209e-02,\n",
       "         1.54623027e-01, -3.05718289e-01,  4.78936239e-02,\n",
       "         4.19305523e-01,  1.39103594e-03, -1.97095167e-01,\n",
       "        -7.88977692e-02,  3.62459614e-01, -3.07759120e-01,\n",
       "         4.33894499e-01, -3.30729762e-01,  1.13524592e+00,\n",
       "        -1.59626960e+00,  2.62593775e-02, -1.40320919e-02,\n",
       "         0.00000000e+00,  3.43808993e-02, -1.65775654e-02,\n",
       "         1.78233678e-02,  5.10080232e-02,  0.00000000e+00,\n",
       "        -2.17201867e-01, -4.28870675e-02, -1.17275048e-02,\n",
       "         1.42465673e+00, -1.31281180e+00,  3.46667265e-02,\n",
       "         2.16715222e-02,  0.00000000e+00, -6.49897148e-02,\n",
       "         0.00000000e+00, -2.95965010e-02,  5.65025536e-01,\n",
       "         2.25540040e-01, -4.63921311e-01, -2.79055005e-01,\n",
       "         1.37977270e-01, -2.73536807e-03, -2.32914566e-01,\n",
       "         0.00000000e+00,  6.40463320e-02, -1.63446846e-01,\n",
       "         3.86847870e-01, -1.92323670e-02,  4.88267181e-02,\n",
       "        -1.23721256e-02, -2.65007386e-01,  7.78731178e-01,\n",
       "        -8.83008952e-01, -7.23121288e-02,  0.00000000e+00,\n",
       "        -5.53070830e-02,  0.00000000e+00, -1.14907282e-03,\n",
       "...\n",
       "         4.71950941e-03,  7.04720931e-03,  9.08873842e-02,\n",
       "        -9.00497978e-02,  0.00000000e+00,  2.69531730e-02,\n",
       "         1.16162866e+00, -6.42214556e-04, -7.75206938e-03,\n",
       "         2.67801058e-04, -7.28611767e-03, -1.34893691e+00,\n",
       "        -1.47582665e-02,  1.85580369e-02, -1.11636007e-02,\n",
       "         3.40147189e-02, -3.47715756e-04, -1.62109843e-03,\n",
       "         1.05159114e-02,  7.62392102e-04, -1.08066071e-03,\n",
       "        -6.09607515e-04,  2.19866169e-03, -1.06874248e+00,\n",
       "         1.76747926e-02,  0.00000000e+00,  3.33430892e-01,\n",
       "         1.28619050e-02, -4.56815153e-02,  7.12673777e-02,\n",
       "        -1.19788398e-02, -1.00698121e+00, -4.53749149e-02,\n",
       "         3.96017558e-01, -2.46086538e-01,  5.11887034e-03,\n",
       "         0.00000000e+00,  0.00000000e+00, -7.03756507e-01,\n",
       "        -7.07903377e-03,  0.00000000e+00,  0.00000000e+00,\n",
       "         1.42204199e-02,  1.97869955e-01,  0.00000000e+00,\n",
       "         1.55533144e+00, -4.54934636e-01,  2.43679431e-01,\n",
       "        -2.33924413e-01, -1.22401687e-02,  2.58425368e-01,\n",
       "         0.00000000e+00,  0.00000000e+00,  5.28332968e-02,\n",
       "         4.88672176e-02,  9.96111292e-03, -1.19158764e-03,\n",
       "        -3.34459405e-02]])</pre></div></li><li class='xr-var-item'><div class='xr-var-name'><span>step_size</span></div><div class='xr-var-dims'>(chain, draw)</div><div class='xr-var-dtype'>float64</div><div class='xr-var-preview xr-preview'>1.748 1.748 1.748 ... 1.016 1.016</div><input id='attrs-e4aa00bb-65c8-4a32-8782-0baf71865338' class='xr-var-attrs-in' type='checkbox' disabled><label for='attrs-e4aa00bb-65c8-4a32-8782-0baf71865338' title='Show/Hide attributes'><svg class='icon xr-icon-file-text2'><use xlink:href='#icon-file-text2'></use></svg></label><input id='data-92b88a95-9a52-48f7-8789-92dcfbba4aa1' class='xr-var-data-in' type='checkbox'><label for='data-92b88a95-9a52-48f7-8789-92dcfbba4aa1' title='Show/Hide data repr'><svg class='icon xr-icon-database'><use xlink:href='#icon-database'></use></svg></label><div class='xr-var-attrs'><dl class='xr-attrs'></dl></div><div class='xr-var-data'><pre>array([[1.74844553, 1.74844553, 1.74844553, 1.74844553, 1.74844553,\n",
       "        1.74844553, 1.74844553, 1.74844553, 1.74844553, 1.74844553,\n",
       "        1.74844553, 1.74844553, 1.74844553, 1.74844553, 1.74844553,\n",
       "        1.74844553, 1.74844553, 1.74844553, 1.74844553, 1.74844553,\n",
       "        1.74844553, 1.74844553, 1.74844553, 1.74844553, 1.74844553,\n",
       "        1.74844553, 1.74844553, 1.74844553, 1.74844553, 1.74844553,\n",
       "        1.74844553, 1.74844553, 1.74844553, 1.74844553, 1.74844553,\n",
       "        1.74844553, 1.74844553, 1.74844553, 1.74844553, 1.74844553,\n",
       "        1.74844553, 1.74844553, 1.74844553, 1.74844553, 1.74844553,\n",
       "        1.74844553, 1.74844553, 1.74844553, 1.74844553, 1.74844553,\n",
       "        1.74844553, 1.74844553, 1.74844553, 1.74844553, 1.74844553,\n",
       "        1.74844553, 1.74844553, 1.74844553, 1.74844553, 1.74844553,\n",
       "        1.74844553, 1.74844553, 1.74844553, 1.74844553, 1.74844553,\n",
       "        1.74844553, 1.74844553, 1.74844553, 1.74844553, 1.74844553,\n",
       "        1.74844553, 1.74844553, 1.74844553, 1.74844553, 1.74844553,\n",
       "        1.74844553, 1.74844553, 1.74844553, 1.74844553, 1.74844553,\n",
       "        1.74844553, 1.74844553, 1.74844553, 1.74844553, 1.74844553,\n",
       "        1.74844553, 1.74844553, 1.74844553, 1.74844553, 1.74844553,\n",
       "        1.74844553, 1.74844553, 1.74844553, 1.74844553, 1.74844553,\n",
       "        1.74844553, 1.74844553, 1.74844553, 1.74844553, 1.74844553],\n",
       "...\n",
       "       [1.01553941, 1.01553941, 1.01553941, 1.01553941, 1.01553941,\n",
       "        1.01553941, 1.01553941, 1.01553941, 1.01553941, 1.01553941,\n",
       "        1.01553941, 1.01553941, 1.01553941, 1.01553941, 1.01553941,\n",
       "        1.01553941, 1.01553941, 1.01553941, 1.01553941, 1.01553941,\n",
       "        1.01553941, 1.01553941, 1.01553941, 1.01553941, 1.01553941,\n",
       "        1.01553941, 1.01553941, 1.01553941, 1.01553941, 1.01553941,\n",
       "        1.01553941, 1.01553941, 1.01553941, 1.01553941, 1.01553941,\n",
       "        1.01553941, 1.01553941, 1.01553941, 1.01553941, 1.01553941,\n",
       "        1.01553941, 1.01553941, 1.01553941, 1.01553941, 1.01553941,\n",
       "        1.01553941, 1.01553941, 1.01553941, 1.01553941, 1.01553941,\n",
       "        1.01553941, 1.01553941, 1.01553941, 1.01553941, 1.01553941,\n",
       "        1.01553941, 1.01553941, 1.01553941, 1.01553941, 1.01553941,\n",
       "        1.01553941, 1.01553941, 1.01553941, 1.01553941, 1.01553941,\n",
       "        1.01553941, 1.01553941, 1.01553941, 1.01553941, 1.01553941,\n",
       "        1.01553941, 1.01553941, 1.01553941, 1.01553941, 1.01553941,\n",
       "        1.01553941, 1.01553941, 1.01553941, 1.01553941, 1.01553941,\n",
       "        1.01553941, 1.01553941, 1.01553941, 1.01553941, 1.01553941,\n",
       "        1.01553941, 1.01553941, 1.01553941, 1.01553941, 1.01553941,\n",
       "        1.01553941, 1.01553941, 1.01553941, 1.01553941, 1.01553941,\n",
       "        1.01553941, 1.01553941, 1.01553941, 1.01553941, 1.01553941]])</pre></div></li><li class='xr-var-item'><div class='xr-var-name'><span>depth</span></div><div class='xr-var-dims'>(chain, draw)</div><div class='xr-var-dtype'>int64</div><div class='xr-var-preview xr-preview'>1 2 2 2 2 2 2 1 ... 1 2 2 2 1 2 1 1</div><input id='attrs-ee4916ee-1546-44a6-a06f-9b0c3eb04328' class='xr-var-attrs-in' type='checkbox' disabled><label for='attrs-ee4916ee-1546-44a6-a06f-9b0c3eb04328' title='Show/Hide attributes'><svg class='icon xr-icon-file-text2'><use xlink:href='#icon-file-text2'></use></svg></label><input id='data-8dbabafb-f721-40a2-8f7b-165607d57c54' class='xr-var-data-in' type='checkbox'><label for='data-8dbabafb-f721-40a2-8f7b-165607d57c54' title='Show/Hide data repr'><svg class='icon xr-icon-database'><use xlink:href='#icon-database'></use></svg></label><div class='xr-var-attrs'><dl class='xr-attrs'></dl></div><div class='xr-var-data'><pre>array([[1, 2, 2, 2, 2, 2, 2, 1, 2, 2, 1, 2, 2, 2, 1, 2, 2, 3, 2, 1, 1, 2,\n",
       "        1, 1, 2, 2, 1, 1, 1, 2, 1, 1, 2, 1, 2, 2, 1, 1, 1, 2, 2, 2, 2, 1,\n",
       "        2, 1, 2, 2, 2, 1, 2, 2, 2, 1, 1, 1, 2, 1, 1, 2, 1, 2, 1, 1, 2, 2,\n",
       "        2, 2, 2, 1, 1, 1, 1, 1, 3, 2, 1, 2, 2, 2, 2, 2, 1, 1, 2, 1, 1, 1,\n",
       "        2, 2, 2, 3, 1, 2, 2, 2, 2, 2, 1, 2],\n",
       "       [2, 2, 2, 2, 2, 1, 2, 2, 2, 1, 2, 1, 2, 2, 1, 2, 2, 2, 1, 2, 1, 2,\n",
       "        2, 1, 2, 2, 2, 2, 2, 2, 1, 2, 1, 1, 1, 2, 1, 2, 1, 2, 2, 2, 1, 2,\n",
       "        2, 1, 1, 2, 2, 2, 2, 2, 2, 2, 2, 2, 2, 2, 2, 2, 2, 2, 1, 2, 1, 2,\n",
       "        2, 2, 1, 2, 1, 1, 2, 1, 2, 2, 1, 1, 1, 1, 2, 2, 1, 2, 2, 1, 2, 1,\n",
       "        1, 1, 1, 1, 1, 1, 1, 1, 2, 2, 2, 2],\n",
       "       [2, 1, 1, 1, 1, 2, 2, 1, 1, 2, 1, 1, 1, 2, 1, 1, 2, 1, 1, 1, 2, 1,\n",
       "        2, 1, 1, 2, 2, 2, 2, 2, 2, 2, 1, 1, 2, 2, 1, 2, 2, 1, 1, 1, 2, 2,\n",
       "        2, 2, 1, 1, 1, 2, 2, 1, 2, 1, 2, 1, 2, 2, 2, 1, 1, 1, 2, 2, 2, 3,\n",
       "        1, 2, 2, 2, 2, 1, 2, 2, 1, 1, 1, 2, 2, 2, 2, 2, 2, 1, 2, 1, 2, 2,\n",
       "        1, 2, 1, 2, 1, 1, 2, 1, 2, 1, 2, 2],\n",
       "       [1, 1, 1, 1, 2, 1, 2, 1, 1, 2, 1, 1, 2, 1, 2, 2, 1, 2, 1, 2, 2, 2,\n",
       "        2, 1, 1, 2, 2, 2, 2, 2, 2, 1, 2, 2, 2, 2, 1, 1, 2, 2, 2, 1, 1, 2,\n",
       "        1, 1, 1, 2, 2, 2, 1, 1, 2, 2, 2, 1, 2, 2, 1, 1, 2, 1, 2, 1, 2, 2,\n",
       "        2, 1, 2, 2, 2, 2, 2, 2, 2, 2, 2, 2, 2, 1, 2, 2, 1, 2, 1, 1, 2, 2,\n",
       "        2, 2, 1, 2, 1, 2, 2, 2, 1, 2, 1, 1]])</pre></div></li><li class='xr-var-item'><div class='xr-var-name'><span>process_time_diff</span></div><div class='xr-var-dims'>(chain, draw)</div><div class='xr-var-dtype'>float64</div><div class='xr-var-preview xr-preview'>0.000236 0.000344 ... 0.000168</div><input id='attrs-1f47cbf8-6529-4742-bbe1-0cf549c6c589' class='xr-var-attrs-in' type='checkbox' disabled><label for='attrs-1f47cbf8-6529-4742-bbe1-0cf549c6c589' title='Show/Hide attributes'><svg class='icon xr-icon-file-text2'><use xlink:href='#icon-file-text2'></use></svg></label><input id='data-c259db69-0afb-42e8-aa3f-9e1970a352cc' class='xr-var-data-in' type='checkbox'><label for='data-c259db69-0afb-42e8-aa3f-9e1970a352cc' title='Show/Hide data repr'><svg class='icon xr-icon-database'><use xlink:href='#icon-database'></use></svg></label><div class='xr-var-attrs'><dl class='xr-attrs'></dl></div><div class='xr-var-data'><pre>array([[0.000236, 0.000344, 0.000326, 0.000338, 0.000344, 0.00034 ,\n",
       "        0.000372, 0.000411, 0.000343, 0.000335, 0.000179, 0.000315,\n",
       "        0.000315, 0.000308, 0.000176, 0.00037 , 0.000357, 0.000606,\n",
       "        0.000326, 0.000176, 0.000175, 0.00038 , 0.000177, 0.000272,\n",
       "        0.000335, 0.000332, 0.00018 , 0.000179, 0.000178, 0.00037 ,\n",
       "        0.000178, 0.000176, 0.000375, 0.000179, 0.000314, 0.000366,\n",
       "        0.000177, 0.000214, 0.000178, 0.000375, 0.000372, 0.000332,\n",
       "        0.000441, 0.000178, 0.000372, 0.000177, 0.000315, 0.000328,\n",
       "        0.00033 , 0.000221, 0.000317, 0.000314, 0.00033 , 0.000177,\n",
       "        0.000216, 0.000179, 0.000374, 0.000212, 0.000177, 0.000331,\n",
       "        0.000182, 0.00033 , 0.000177, 0.000207, 0.000334, 0.000356,\n",
       "        0.000375, 0.000394, 0.000361, 0.000175, 0.000179, 0.000179,\n",
       "        0.000178, 0.000178, 0.000709, 0.000327, 0.000181, 0.000365,\n",
       "        0.000353, 0.000331, 0.000314, 0.000328, 0.000178, 0.000218,\n",
       "        0.000335, 0.000176, 0.000176, 0.000181, 0.000404, 0.000329,\n",
       "        0.00033 , 0.00057 , 0.000175, 0.000334, 0.000422, 0.000306,\n",
       "        0.000299, 0.000299, 0.000168, 0.000341],\n",
       "       [0.000316, 0.000398, 0.000308, 0.000306, 0.000349, 0.000174,\n",
       "        0.00037 , 0.000327, 0.000308, 0.000175, 0.000374, 0.000175,\n",
       "        0.000349, 0.000308, 0.000178, 0.000329, 0.000309, 0.000364,\n",
       "...\n",
       "        0.00036 , 0.000202, 0.000381, 0.000354, 0.0002  , 0.000379,\n",
       "        0.000208, 0.00038 , 0.000201, 0.000205, 0.000378, 0.000201,\n",
       "        0.000377, 0.000203, 0.00038 , 0.000375],\n",
       "       [0.000173, 0.000169, 0.000171, 0.000169, 0.000297, 0.000166,\n",
       "        0.000316, 0.000168, 0.000168, 0.000314, 0.00017 , 0.000169,\n",
       "        0.000317, 0.000167, 0.000316, 0.000315, 0.000168, 0.000314,\n",
       "        0.000166, 0.000297, 0.000314, 0.000311, 0.000311, 0.000168,\n",
       "        0.00017 , 0.000316, 0.000317, 0.000314, 0.000315, 0.000314,\n",
       "        0.000378, 0.00017 , 0.000317, 0.000314, 0.000312, 0.000314,\n",
       "        0.000167, 0.00017 , 0.000316, 0.000336, 0.000313, 0.000169,\n",
       "        0.000168, 0.000313, 0.00017 , 0.000169, 0.000168, 0.000318,\n",
       "        0.000296, 0.000311, 0.000169, 0.000168, 0.000318, 0.000317,\n",
       "        0.000314, 0.000169, 0.000317, 0.0003  , 0.000169, 0.000167,\n",
       "        0.000304, 0.000167, 0.000315, 0.000167, 0.000299, 0.000296,\n",
       "        0.000313, 0.000168, 0.000318, 0.00036 , 0.000308, 0.000319,\n",
       "        0.000315, 0.0003  , 0.000313, 0.000321, 0.000316, 0.000324,\n",
       "        0.000303, 0.000172, 0.000318, 0.000318, 0.000171, 0.000314,\n",
       "        0.000167, 0.000169, 0.0003  , 0.000315, 0.000316, 0.000315,\n",
       "        0.00017 , 0.000313, 0.000168, 0.000297, 0.000312, 0.000315,\n",
       "        0.000176, 0.000315, 0.000169, 0.000168]])</pre></div></li></ul></div></li><li class='xr-section-item'><input id='section-f3cfc2a8-b8a3-4739-8099-fb1dfa7b974b' class='xr-section-summary-in' type='checkbox'  checked><label for='section-f3cfc2a8-b8a3-4739-8099-fb1dfa7b974b' class='xr-section-summary' >Attributes: <span>(6)</span></label><div class='xr-section-inline-details'></div><div class='xr-section-details'><dl class='xr-attrs'><dt><span>created_at :</span></dt><dd>2021-02-11T16:20:02.897557</dd><dt><span>arviz_version :</span></dt><dd>0.11.1</dd><dt><span>inference_library :</span></dt><dd>pymc3</dd><dt><span>inference_library_version :</span></dt><dd>3.11.0</dd><dt><span>sampling_time :</span></dt><dd>10.408515691757202</dd><dt><span>tuning_steps :</span></dt><dd>2000</dd></dl></div></li></ul></div></div><br></div>\n",
       "                      </ul>\n",
       "                  </div>\n",
       "            </li>\n",
       "            \n",
       "            <li class = \"xr-section-item\">\n",
       "                  <input id=\"idata_observed_data0644fa01-a0a3-42fb-85f8-b6461bb349f2\" class=\"xr-section-summary-in\" type=\"checkbox\">\n",
       "                  <label for=\"idata_observed_data0644fa01-a0a3-42fb-85f8-b6461bb349f2\" class = \"xr-section-summary\">observed_data</label>\n",
       "                  <div class=\"xr-section-inline-details\"></div>\n",
       "                  <div class=\"xr-section-details\">\n",
       "                      <ul id=\"xr-dataset-coord-list\" class=\"xr-var-list\">\n",
       "                          <div style=\"padding-left:2rem;\"><div><svg style=\"position: absolute; width: 0; height: 0; overflow: hidden\">\n",
       "<defs>\n",
       "<symbol id=\"icon-database\" viewBox=\"0 0 32 32\">\n",
       "<path d=\"M16 0c-8.837 0-16 2.239-16 5v4c0 2.761 7.163 5 16 5s16-2.239 16-5v-4c0-2.761-7.163-5-16-5z\"></path>\n",
       "<path d=\"M16 17c-8.837 0-16-2.239-16-5v6c0 2.761 7.163 5 16 5s16-2.239 16-5v-6c0 2.761-7.163 5-16 5z\"></path>\n",
       "<path d=\"M16 26c-8.837 0-16-2.239-16-5v6c0 2.761 7.163 5 16 5s16-2.239 16-5v-6c0 2.761-7.163 5-16 5z\"></path>\n",
       "</symbol>\n",
       "<symbol id=\"icon-file-text2\" viewBox=\"0 0 32 32\">\n",
       "<path d=\"M28.681 7.159c-0.694-0.947-1.662-2.053-2.724-3.116s-2.169-2.030-3.116-2.724c-1.612-1.182-2.393-1.319-2.841-1.319h-15.5c-1.378 0-2.5 1.121-2.5 2.5v27c0 1.378 1.122 2.5 2.5 2.5h23c1.378 0 2.5-1.122 2.5-2.5v-19.5c0-0.448-0.137-1.23-1.319-2.841zM24.543 5.457c0.959 0.959 1.712 1.825 2.268 2.543h-4.811v-4.811c0.718 0.556 1.584 1.309 2.543 2.268zM28 29.5c0 0.271-0.229 0.5-0.5 0.5h-23c-0.271 0-0.5-0.229-0.5-0.5v-27c0-0.271 0.229-0.5 0.5-0.5 0 0 15.499-0 15.5 0v7c0 0.552 0.448 1 1 1h7v19.5z\"></path>\n",
       "<path d=\"M23 26h-14c-0.552 0-1-0.448-1-1s0.448-1 1-1h14c0.552 0 1 0.448 1 1s-0.448 1-1 1z\"></path>\n",
       "<path d=\"M23 22h-14c-0.552 0-1-0.448-1-1s0.448-1 1-1h14c0.552 0 1 0.448 1 1s-0.448 1-1 1z\"></path>\n",
       "<path d=\"M23 18h-14c-0.552 0-1-0.448-1-1s0.448-1 1-1h14c0.552 0 1 0.448 1 1s-0.448 1-1 1z\"></path>\n",
       "</symbol>\n",
       "</defs>\n",
       "</svg>\n",
       "<style>/* CSS stylesheet for displaying xarray objects in jupyterlab.\n",
       " *\n",
       " */\n",
       "\n",
       ":root {\n",
       "  --xr-font-color0: var(--jp-content-font-color0, rgba(0, 0, 0, 1));\n",
       "  --xr-font-color2: var(--jp-content-font-color2, rgba(0, 0, 0, 0.54));\n",
       "  --xr-font-color3: var(--jp-content-font-color3, rgba(0, 0, 0, 0.38));\n",
       "  --xr-border-color: var(--jp-border-color2, #e0e0e0);\n",
       "  --xr-disabled-color: var(--jp-layout-color3, #bdbdbd);\n",
       "  --xr-background-color: var(--jp-layout-color0, white);\n",
       "  --xr-background-color-row-even: var(--jp-layout-color1, white);\n",
       "  --xr-background-color-row-odd: var(--jp-layout-color2, #eeeeee);\n",
       "}\n",
       "\n",
       "html[theme=dark],\n",
       "body.vscode-dark {\n",
       "  --xr-font-color0: rgba(255, 255, 255, 1);\n",
       "  --xr-font-color2: rgba(255, 255, 255, 0.54);\n",
       "  --xr-font-color3: rgba(255, 255, 255, 0.38);\n",
       "  --xr-border-color: #1F1F1F;\n",
       "  --xr-disabled-color: #515151;\n",
       "  --xr-background-color: #111111;\n",
       "  --xr-background-color-row-even: #111111;\n",
       "  --xr-background-color-row-odd: #313131;\n",
       "}\n",
       "\n",
       ".xr-wrap {\n",
       "  display: block;\n",
       "  min-width: 300px;\n",
       "  max-width: 700px;\n",
       "}\n",
       "\n",
       ".xr-text-repr-fallback {\n",
       "  /* fallback to plain text repr when CSS is not injected (untrusted notebook) */\n",
       "  display: none;\n",
       "}\n",
       "\n",
       ".xr-header {\n",
       "  padding-top: 6px;\n",
       "  padding-bottom: 6px;\n",
       "  margin-bottom: 4px;\n",
       "  border-bottom: solid 1px var(--xr-border-color);\n",
       "}\n",
       "\n",
       ".xr-header > div,\n",
       ".xr-header > ul {\n",
       "  display: inline;\n",
       "  margin-top: 0;\n",
       "  margin-bottom: 0;\n",
       "}\n",
       "\n",
       ".xr-obj-type,\n",
       ".xr-array-name {\n",
       "  margin-left: 2px;\n",
       "  margin-right: 10px;\n",
       "}\n",
       "\n",
       ".xr-obj-type {\n",
       "  color: var(--xr-font-color2);\n",
       "}\n",
       "\n",
       ".xr-sections {\n",
       "  padding-left: 0 !important;\n",
       "  display: grid;\n",
       "  grid-template-columns: 150px auto auto 1fr 20px 20px;\n",
       "}\n",
       "\n",
       ".xr-section-item {\n",
       "  display: contents;\n",
       "}\n",
       "\n",
       ".xr-section-item input {\n",
       "  display: none;\n",
       "}\n",
       "\n",
       ".xr-section-item input + label {\n",
       "  color: var(--xr-disabled-color);\n",
       "}\n",
       "\n",
       ".xr-section-item input:enabled + label {\n",
       "  cursor: pointer;\n",
       "  color: var(--xr-font-color2);\n",
       "}\n",
       "\n",
       ".xr-section-item input:enabled + label:hover {\n",
       "  color: var(--xr-font-color0);\n",
       "}\n",
       "\n",
       ".xr-section-summary {\n",
       "  grid-column: 1;\n",
       "  color: var(--xr-font-color2);\n",
       "  font-weight: 500;\n",
       "}\n",
       "\n",
       ".xr-section-summary > span {\n",
       "  display: inline-block;\n",
       "  padding-left: 0.5em;\n",
       "}\n",
       "\n",
       ".xr-section-summary-in:disabled + label {\n",
       "  color: var(--xr-font-color2);\n",
       "}\n",
       "\n",
       ".xr-section-summary-in + label:before {\n",
       "  display: inline-block;\n",
       "  content: '►';\n",
       "  font-size: 11px;\n",
       "  width: 15px;\n",
       "  text-align: center;\n",
       "}\n",
       "\n",
       ".xr-section-summary-in:disabled + label:before {\n",
       "  color: var(--xr-disabled-color);\n",
       "}\n",
       "\n",
       ".xr-section-summary-in:checked + label:before {\n",
       "  content: '▼';\n",
       "}\n",
       "\n",
       ".xr-section-summary-in:checked + label > span {\n",
       "  display: none;\n",
       "}\n",
       "\n",
       ".xr-section-summary,\n",
       ".xr-section-inline-details {\n",
       "  padding-top: 4px;\n",
       "  padding-bottom: 4px;\n",
       "}\n",
       "\n",
       ".xr-section-inline-details {\n",
       "  grid-column: 2 / -1;\n",
       "}\n",
       "\n",
       ".xr-section-details {\n",
       "  display: none;\n",
       "  grid-column: 1 / -1;\n",
       "  margin-bottom: 5px;\n",
       "}\n",
       "\n",
       ".xr-section-summary-in:checked ~ .xr-section-details {\n",
       "  display: contents;\n",
       "}\n",
       "\n",
       ".xr-array-wrap {\n",
       "  grid-column: 1 / -1;\n",
       "  display: grid;\n",
       "  grid-template-columns: 20px auto;\n",
       "}\n",
       "\n",
       ".xr-array-wrap > label {\n",
       "  grid-column: 1;\n",
       "  vertical-align: top;\n",
       "}\n",
       "\n",
       ".xr-preview {\n",
       "  color: var(--xr-font-color3);\n",
       "}\n",
       "\n",
       ".xr-array-preview,\n",
       ".xr-array-data {\n",
       "  padding: 0 5px !important;\n",
       "  grid-column: 2;\n",
       "}\n",
       "\n",
       ".xr-array-data,\n",
       ".xr-array-in:checked ~ .xr-array-preview {\n",
       "  display: none;\n",
       "}\n",
       "\n",
       ".xr-array-in:checked ~ .xr-array-data,\n",
       ".xr-array-preview {\n",
       "  display: inline-block;\n",
       "}\n",
       "\n",
       ".xr-dim-list {\n",
       "  display: inline-block !important;\n",
       "  list-style: none;\n",
       "  padding: 0 !important;\n",
       "  margin: 0;\n",
       "}\n",
       "\n",
       ".xr-dim-list li {\n",
       "  display: inline-block;\n",
       "  padding: 0;\n",
       "  margin: 0;\n",
       "}\n",
       "\n",
       ".xr-dim-list:before {\n",
       "  content: '(';\n",
       "}\n",
       "\n",
       ".xr-dim-list:after {\n",
       "  content: ')';\n",
       "}\n",
       "\n",
       ".xr-dim-list li:not(:last-child):after {\n",
       "  content: ',';\n",
       "  padding-right: 5px;\n",
       "}\n",
       "\n",
       ".xr-has-index {\n",
       "  font-weight: bold;\n",
       "}\n",
       "\n",
       ".xr-var-list,\n",
       ".xr-var-item {\n",
       "  display: contents;\n",
       "}\n",
       "\n",
       ".xr-var-item > div,\n",
       ".xr-var-item label,\n",
       ".xr-var-item > .xr-var-name span {\n",
       "  background-color: var(--xr-background-color-row-even);\n",
       "  margin-bottom: 0;\n",
       "}\n",
       "\n",
       ".xr-var-item > .xr-var-name:hover span {\n",
       "  padding-right: 5px;\n",
       "}\n",
       "\n",
       ".xr-var-list > li:nth-child(odd) > div,\n",
       ".xr-var-list > li:nth-child(odd) > label,\n",
       ".xr-var-list > li:nth-child(odd) > .xr-var-name span {\n",
       "  background-color: var(--xr-background-color-row-odd);\n",
       "}\n",
       "\n",
       ".xr-var-name {\n",
       "  grid-column: 1;\n",
       "}\n",
       "\n",
       ".xr-var-dims {\n",
       "  grid-column: 2;\n",
       "}\n",
       "\n",
       ".xr-var-dtype {\n",
       "  grid-column: 3;\n",
       "  text-align: right;\n",
       "  color: var(--xr-font-color2);\n",
       "}\n",
       "\n",
       ".xr-var-preview {\n",
       "  grid-column: 4;\n",
       "}\n",
       "\n",
       ".xr-var-name,\n",
       ".xr-var-dims,\n",
       ".xr-var-dtype,\n",
       ".xr-preview,\n",
       ".xr-attrs dt {\n",
       "  white-space: nowrap;\n",
       "  overflow: hidden;\n",
       "  text-overflow: ellipsis;\n",
       "  padding-right: 10px;\n",
       "}\n",
       "\n",
       ".xr-var-name:hover,\n",
       ".xr-var-dims:hover,\n",
       ".xr-var-dtype:hover,\n",
       ".xr-attrs dt:hover {\n",
       "  overflow: visible;\n",
       "  width: auto;\n",
       "  z-index: 1;\n",
       "}\n",
       "\n",
       ".xr-var-attrs,\n",
       ".xr-var-data {\n",
       "  display: none;\n",
       "  background-color: var(--xr-background-color) !important;\n",
       "  padding-bottom: 5px !important;\n",
       "}\n",
       "\n",
       ".xr-var-attrs-in:checked ~ .xr-var-attrs,\n",
       ".xr-var-data-in:checked ~ .xr-var-data {\n",
       "  display: block;\n",
       "}\n",
       "\n",
       ".xr-var-data > table {\n",
       "  float: right;\n",
       "}\n",
       "\n",
       ".xr-var-name span,\n",
       ".xr-var-data,\n",
       ".xr-attrs {\n",
       "  padding-left: 25px !important;\n",
       "}\n",
       "\n",
       ".xr-attrs,\n",
       ".xr-var-attrs,\n",
       ".xr-var-data {\n",
       "  grid-column: 1 / -1;\n",
       "}\n",
       "\n",
       "dl.xr-attrs {\n",
       "  padding: 0;\n",
       "  margin: 0;\n",
       "  display: grid;\n",
       "  grid-template-columns: 125px auto;\n",
       "}\n",
       "\n",
       ".xr-attrs dt,\n",
       ".xr-attrs dd {\n",
       "  padding: 0;\n",
       "  margin: 0;\n",
       "  float: left;\n",
       "  padding-right: 10px;\n",
       "  width: auto;\n",
       "}\n",
       "\n",
       ".xr-attrs dt {\n",
       "  font-weight: normal;\n",
       "  grid-column: 1;\n",
       "}\n",
       "\n",
       ".xr-attrs dt:hover span {\n",
       "  display: inline-block;\n",
       "  background: var(--xr-background-color);\n",
       "  padding-right: 10px;\n",
       "}\n",
       "\n",
       ".xr-attrs dd {\n",
       "  grid-column: 2;\n",
       "  white-space: pre-wrap;\n",
       "  word-break: break-all;\n",
       "}\n",
       "\n",
       ".xr-icon-database,\n",
       ".xr-icon-file-text2 {\n",
       "  display: inline-block;\n",
       "  vertical-align: middle;\n",
       "  width: 1em;\n",
       "  height: 1.5em !important;\n",
       "  stroke-width: 0;\n",
       "  stroke: currentColor;\n",
       "  fill: currentColor;\n",
       "}\n",
       "</style><pre class='xr-text-repr-fallback'>&lt;xarray.Dataset&gt;\n",
       "Dimensions:  (w_dim_0: 1)\n",
       "Coordinates:\n",
       "  * w_dim_0  (w_dim_0) int64 0\n",
       "Data variables:\n",
       "    w        (w_dim_0) int32 11\n",
       "Attributes:\n",
       "    created_at:                 2021-02-11T16:20:02.963065\n",
       "    arviz_version:              0.11.1\n",
       "    inference_library:          pymc3\n",
       "    inference_library_version:  3.11.0</pre><div class='xr-wrap' hidden><div class='xr-header'><div class='xr-obj-type'>xarray.Dataset</div></div><ul class='xr-sections'><li class='xr-section-item'><input id='section-a8c78013-09f3-4d5a-b8df-2470458c3a4e' class='xr-section-summary-in' type='checkbox' disabled ><label for='section-a8c78013-09f3-4d5a-b8df-2470458c3a4e' class='xr-section-summary'  title='Expand/collapse section'>Dimensions:</label><div class='xr-section-inline-details'><ul class='xr-dim-list'><li><span class='xr-has-index'>w_dim_0</span>: 1</li></ul></div><div class='xr-section-details'></div></li><li class='xr-section-item'><input id='section-927f6d1d-226a-47a3-9c40-f023da631c07' class='xr-section-summary-in' type='checkbox'  checked><label for='section-927f6d1d-226a-47a3-9c40-f023da631c07' class='xr-section-summary' >Coordinates: <span>(1)</span></label><div class='xr-section-inline-details'></div><div class='xr-section-details'><ul class='xr-var-list'><li class='xr-var-item'><div class='xr-var-name'><span class='xr-has-index'>w_dim_0</span></div><div class='xr-var-dims'>(w_dim_0)</div><div class='xr-var-dtype'>int64</div><div class='xr-var-preview xr-preview'>0</div><input id='attrs-563b5645-5845-4dcb-b538-7dd4604c1485' class='xr-var-attrs-in' type='checkbox' disabled><label for='attrs-563b5645-5845-4dcb-b538-7dd4604c1485' title='Show/Hide attributes'><svg class='icon xr-icon-file-text2'><use xlink:href='#icon-file-text2'></use></svg></label><input id='data-03efc40b-cb71-441a-9888-016d2d8e608d' class='xr-var-data-in' type='checkbox'><label for='data-03efc40b-cb71-441a-9888-016d2d8e608d' title='Show/Hide data repr'><svg class='icon xr-icon-database'><use xlink:href='#icon-database'></use></svg></label><div class='xr-var-attrs'><dl class='xr-attrs'></dl></div><div class='xr-var-data'><pre>array([0])</pre></div></li></ul></div></li><li class='xr-section-item'><input id='section-555b4f7b-18e5-40ae-8c6c-1db3f37e9802' class='xr-section-summary-in' type='checkbox'  checked><label for='section-555b4f7b-18e5-40ae-8c6c-1db3f37e9802' class='xr-section-summary' >Data variables: <span>(1)</span></label><div class='xr-section-inline-details'></div><div class='xr-section-details'><ul class='xr-var-list'><li class='xr-var-item'><div class='xr-var-name'><span>w</span></div><div class='xr-var-dims'>(w_dim_0)</div><div class='xr-var-dtype'>int32</div><div class='xr-var-preview xr-preview'>11</div><input id='attrs-10c63366-169d-467c-9dbd-ca3e17503453' class='xr-var-attrs-in' type='checkbox' disabled><label for='attrs-10c63366-169d-467c-9dbd-ca3e17503453' title='Show/Hide attributes'><svg class='icon xr-icon-file-text2'><use xlink:href='#icon-file-text2'></use></svg></label><input id='data-0da49a3b-8afb-4744-84ed-75b13899f119' class='xr-var-data-in' type='checkbox'><label for='data-0da49a3b-8afb-4744-84ed-75b13899f119' title='Show/Hide data repr'><svg class='icon xr-icon-database'><use xlink:href='#icon-database'></use></svg></label><div class='xr-var-attrs'><dl class='xr-attrs'></dl></div><div class='xr-var-data'><pre>array([11], dtype=int32)</pre></div></li></ul></div></li><li class='xr-section-item'><input id='section-abc3bcdb-ded0-4e34-b32f-245ce16714f6' class='xr-section-summary-in' type='checkbox'  checked><label for='section-abc3bcdb-ded0-4e34-b32f-245ce16714f6' class='xr-section-summary' >Attributes: <span>(4)</span></label><div class='xr-section-inline-details'></div><div class='xr-section-details'><dl class='xr-attrs'><dt><span>created_at :</span></dt><dd>2021-02-11T16:20:02.963065</dd><dt><span>arviz_version :</span></dt><dd>0.11.1</dd><dt><span>inference_library :</span></dt><dd>pymc3</dd><dt><span>inference_library_version :</span></dt><dd>3.11.0</dd></dl></div></li></ul></div></div><br></div>\n",
       "                      </ul>\n",
       "                  </div>\n",
       "            </li>\n",
       "            \n",
       "              </ul>\n",
       "            </div>\n",
       "            <style> /* CSS stylesheet for displaying InferenceData objects in jupyterlab.\n",
       " *\n",
       " */\n",
       "\n",
       ":root {\n",
       "  --xr-font-color0: var(--jp-content-font-color0, rgba(0, 0, 0, 1));\n",
       "  --xr-font-color2: var(--jp-content-font-color2, rgba(0, 0, 0, 0.54));\n",
       "  --xr-font-color3: var(--jp-content-font-color3, rgba(0, 0, 0, 0.38));\n",
       "  --xr-border-color: var(--jp-border-color2, #e0e0e0);\n",
       "  --xr-disabled-color: var(--jp-layout-color3, #bdbdbd);\n",
       "  --xr-background-color: var(--jp-layout-color0, white);\n",
       "  --xr-background-color-row-even: var(--jp-layout-color1, white);\n",
       "  --xr-background-color-row-odd: var(--jp-layout-color2, #eeeeee);\n",
       "}\n",
       "\n",
       "html[theme=dark],\n",
       "body.vscode-dark {\n",
       "  --xr-font-color0: rgba(255, 255, 255, 1);\n",
       "  --xr-font-color2: rgba(255, 255, 255, 0.54);\n",
       "  --xr-font-color3: rgba(255, 255, 255, 0.38);\n",
       "  --xr-border-color: #1F1F1F;\n",
       "  --xr-disabled-color: #515151;\n",
       "  --xr-background-color: #111111;\n",
       "  --xr-background-color-row-even: #111111;\n",
       "  --xr-background-color-row-odd: #313131;\n",
       "}\n",
       "\n",
       ".xr-wrap {\n",
       "  display: block;\n",
       "  min-width: 300px;\n",
       "  max-width: 700px;\n",
       "}\n",
       "\n",
       ".xr-text-repr-fallback {\n",
       "  /* fallback to plain text repr when CSS is not injected (untrusted notebook) */\n",
       "  display: none;\n",
       "}\n",
       "\n",
       ".xr-header {\n",
       "  padding-top: 6px;\n",
       "  padding-bottom: 6px;\n",
       "  margin-bottom: 4px;\n",
       "  border-bottom: solid 1px var(--xr-border-color);\n",
       "}\n",
       "\n",
       ".xr-header > div,\n",
       ".xr-header > ul {\n",
       "  display: inline;\n",
       "  margin-top: 0;\n",
       "  margin-bottom: 0;\n",
       "}\n",
       "\n",
       ".xr-obj-type,\n",
       ".xr-array-name {\n",
       "  margin-left: 2px;\n",
       "  margin-right: 10px;\n",
       "}\n",
       "\n",
       ".xr-obj-type {\n",
       "  color: var(--xr-font-color2);\n",
       "}\n",
       "\n",
       ".xr-sections {\n",
       "  padding-left: 0 !important;\n",
       "  display: grid;\n",
       "  grid-template-columns: 150px auto auto 1fr 20px 20px;\n",
       "}\n",
       "\n",
       ".xr-sections.group-sections {\n",
       "  grid-template-columns: auto;\n",
       "}\n",
       "\n",
       ".xr-section-item {\n",
       "  display: contents;\n",
       "}\n",
       "\n",
       ".xr-section-item input {\n",
       "  display: none;\n",
       "}\n",
       "\n",
       ".xr-section-item input + label {\n",
       "  color: var(--xr-disabled-color);\n",
       "}\n",
       "\n",
       ".xr-section-item input:enabled + label {\n",
       "  cursor: pointer;\n",
       "  color: var(--xr-font-color2);\n",
       "}\n",
       "\n",
       ".xr-section-item input:enabled + label:hover {\n",
       "  color: var(--xr-font-color0);\n",
       "}\n",
       "\n",
       ".xr-section-summary {\n",
       "  grid-column: 1;\n",
       "  color: var(--xr-font-color2);\n",
       "  font-weight: 500;\n",
       "}\n",
       "\n",
       ".xr-section-summary > span {\n",
       "  display: inline-block;\n",
       "  padding-left: 0.5em;\n",
       "}\n",
       "\n",
       ".xr-section-summary-in:disabled + label {\n",
       "  color: var(--xr-font-color2);\n",
       "}\n",
       "\n",
       ".xr-section-summary-in + label:before {\n",
       "  display: inline-block;\n",
       "  content: '►';\n",
       "  font-size: 11px;\n",
       "  width: 15px;\n",
       "  text-align: center;\n",
       "}\n",
       "\n",
       ".xr-section-summary-in:disabled + label:before {\n",
       "  color: var(--xr-disabled-color);\n",
       "}\n",
       "\n",
       ".xr-section-summary-in:checked + label:before {\n",
       "  content: '▼';\n",
       "}\n",
       "\n",
       ".xr-section-summary-in:checked + label > span {\n",
       "  display: none;\n",
       "}\n",
       "\n",
       ".xr-section-summary,\n",
       ".xr-section-inline-details {\n",
       "  padding-top: 4px;\n",
       "  padding-bottom: 4px;\n",
       "}\n",
       "\n",
       ".xr-section-inline-details {\n",
       "  grid-column: 2 / -1;\n",
       "}\n",
       "\n",
       ".xr-section-details {\n",
       "  display: none;\n",
       "  grid-column: 1 / -1;\n",
       "  margin-bottom: 5px;\n",
       "}\n",
       "\n",
       ".xr-section-summary-in:checked ~ .xr-section-details {\n",
       "  display: contents;\n",
       "}\n",
       "\n",
       ".xr-array-wrap {\n",
       "  grid-column: 1 / -1;\n",
       "  display: grid;\n",
       "  grid-template-columns: 20px auto;\n",
       "}\n",
       "\n",
       ".xr-array-wrap > label {\n",
       "  grid-column: 1;\n",
       "  vertical-align: top;\n",
       "}\n",
       "\n",
       ".xr-preview {\n",
       "  color: var(--xr-font-color3);\n",
       "}\n",
       "\n",
       ".xr-array-preview,\n",
       ".xr-array-data {\n",
       "  padding: 0 5px !important;\n",
       "  grid-column: 2;\n",
       "}\n",
       "\n",
       ".xr-array-data,\n",
       ".xr-array-in:checked ~ .xr-array-preview {\n",
       "  display: none;\n",
       "}\n",
       "\n",
       ".xr-array-in:checked ~ .xr-array-data,\n",
       ".xr-array-preview {\n",
       "  display: inline-block;\n",
       "}\n",
       "\n",
       ".xr-dim-list {\n",
       "  display: inline-block !important;\n",
       "  list-style: none;\n",
       "  padding: 0 !important;\n",
       "  margin: 0;\n",
       "}\n",
       "\n",
       ".xr-dim-list li {\n",
       "  display: inline-block;\n",
       "  padding: 0;\n",
       "  margin: 0;\n",
       "}\n",
       "\n",
       ".xr-dim-list:before {\n",
       "  content: '(';\n",
       "}\n",
       "\n",
       ".xr-dim-list:after {\n",
       "  content: ')';\n",
       "}\n",
       "\n",
       ".xr-dim-list li:not(:last-child):after {\n",
       "  content: ',';\n",
       "  padding-right: 5px;\n",
       "}\n",
       "\n",
       ".xr-has-index {\n",
       "  font-weight: bold;\n",
       "}\n",
       "\n",
       ".xr-var-list,\n",
       ".xr-var-item {\n",
       "  display: contents;\n",
       "}\n",
       "\n",
       ".xr-var-item > div,\n",
       ".xr-var-item label,\n",
       ".xr-var-item > .xr-var-name span {\n",
       "  background-color: var(--xr-background-color-row-even);\n",
       "  margin-bottom: 0;\n",
       "}\n",
       "\n",
       ".xr-var-item > .xr-var-name:hover span {\n",
       "  padding-right: 5px;\n",
       "}\n",
       "\n",
       ".xr-var-list > li:nth-child(odd) > div,\n",
       ".xr-var-list > li:nth-child(odd) > label,\n",
       ".xr-var-list > li:nth-child(odd) > .xr-var-name span {\n",
       "  background-color: var(--xr-background-color-row-odd);\n",
       "}\n",
       "\n",
       ".xr-var-name {\n",
       "  grid-column: 1;\n",
       "}\n",
       "\n",
       ".xr-var-dims {\n",
       "  grid-column: 2;\n",
       "}\n",
       "\n",
       ".xr-var-dtype {\n",
       "  grid-column: 3;\n",
       "  text-align: right;\n",
       "  color: var(--xr-font-color2);\n",
       "}\n",
       "\n",
       ".xr-var-preview {\n",
       "  grid-column: 4;\n",
       "}\n",
       "\n",
       ".xr-var-name,\n",
       ".xr-var-dims,\n",
       ".xr-var-dtype,\n",
       ".xr-preview,\n",
       ".xr-attrs dt {\n",
       "  white-space: nowrap;\n",
       "  overflow: hidden;\n",
       "  text-overflow: ellipsis;\n",
       "  padding-right: 10px;\n",
       "}\n",
       "\n",
       ".xr-var-name:hover,\n",
       ".xr-var-dims:hover,\n",
       ".xr-var-dtype:hover,\n",
       ".xr-attrs dt:hover {\n",
       "  overflow: visible;\n",
       "  width: auto;\n",
       "  z-index: 1;\n",
       "}\n",
       "\n",
       ".xr-var-attrs,\n",
       ".xr-var-data {\n",
       "  display: none;\n",
       "  background-color: var(--xr-background-color) !important;\n",
       "  padding-bottom: 5px !important;\n",
       "}\n",
       "\n",
       ".xr-var-attrs-in:checked ~ .xr-var-attrs,\n",
       ".xr-var-data-in:checked ~ .xr-var-data {\n",
       "  display: block;\n",
       "}\n",
       "\n",
       ".xr-var-data > table {\n",
       "  float: right;\n",
       "}\n",
       "\n",
       ".xr-var-name span,\n",
       ".xr-var-data,\n",
       ".xr-attrs {\n",
       "  padding-left: 25px !important;\n",
       "}\n",
       "\n",
       ".xr-attrs,\n",
       ".xr-var-attrs,\n",
       ".xr-var-data {\n",
       "  grid-column: 1 / -1;\n",
       "}\n",
       "\n",
       "dl.xr-attrs {\n",
       "  padding: 0;\n",
       "  margin: 0;\n",
       "  display: grid;\n",
       "  grid-template-columns: 125px auto;\n",
       "}\n",
       "\n",
       ".xr-attrs dt, dd {\n",
       "  padding: 0;\n",
       "  margin: 0;\n",
       "  float: left;\n",
       "  padding-right: 10px;\n",
       "  width: auto;\n",
       "}\n",
       "\n",
       ".xr-attrs dt {\n",
       "  font-weight: normal;\n",
       "  grid-column: 1;\n",
       "}\n",
       "\n",
       ".xr-attrs dt:hover span {\n",
       "  display: inline-block;\n",
       "  background: var(--xr-background-color);\n",
       "  padding-right: 10px;\n",
       "}\n",
       "\n",
       ".xr-attrs dd {\n",
       "  grid-column: 2;\n",
       "  white-space: pre-wrap;\n",
       "  word-break: break-all;\n",
       "}\n",
       "\n",
       ".xr-icon-database,\n",
       ".xr-icon-file-text2 {\n",
       "  display: inline-block;\n",
       "  vertical-align: middle;\n",
       "  width: 1em;\n",
       "  height: 1.5em !important;\n",
       "  stroke-width: 0;\n",
       "  stroke: currentColor;\n",
       "  fill: currentColor;\n",
       "}\n",
       ".xr-wrap{width:700px!important;} </style>"
      ],
      "text/plain": [
       "Inference data with groups:\n",
       "\t> posterior\n",
       "\t> log_likelihood\n",
       "\t> sample_stats\n",
       "\t> observed_data"
      ]
     },
     "execution_count": 10,
     "metadata": {},
     "output_type": "execute_result"
    },
    {
     "data": {
      "application/javascript": [
       "\n",
       "            setTimeout(function() {\n",
       "                var nbb_cell_id = 10;\n",
       "                var nbb_unformatted_code = \"samples\";\n",
       "                var nbb_formatted_code = \"samples\";\n",
       "                var nbb_cells = Jupyter.notebook.get_cells();\n",
       "                for (var i = 0; i < nbb_cells.length; ++i) {\n",
       "                    if (nbb_cells[i].input_prompt_number == nbb_cell_id) {\n",
       "                        if (nbb_cells[i].get_text() == nbb_unformatted_code) {\n",
       "                             nbb_cells[i].set_text(nbb_formatted_code);\n",
       "                        }\n",
       "                        break;\n",
       "                    }\n",
       "                }\n",
       "            }, 500);\n",
       "            "
      ],
      "text/plain": [
       "<IPython.core.display.Javascript object>"
      ]
     },
     "metadata": {},
     "output_type": "display_data"
    }
   ],
   "source": [
    "samples"
   ]
  },
  {
   "cell_type": "code",
   "execution_count": 11,
   "id": "modular-condition",
   "metadata": {
    "ExecuteTime": {
     "end_time": "2021-02-11T16:14:11.840515Z",
     "start_time": "2021-02-11T16:14:11.830143Z"
    }
   },
   "outputs": [
    {
     "name": "stdout",
     "output_type": "stream",
     "text": [
      "5.5%, 94.5% \n",
      "0.29, 0.87\n"
     ]
    },
    {
     "data": {
      "application/javascript": [
       "\n",
       "            setTimeout(function() {\n",
       "                var nbb_cell_id = 11;\n",
       "                var nbb_unformatted_code = \"# Compute the 89% percentile interval\\nnorm = stats.norm(mean_q, std_q)\\nprob = 0.99\\nz = stats.norm.ppf([(1 - prob) / 2, (1 + prob) / 2])\\npi = mean_q[\\\"p\\\"] + std_q * z\\nprint(\\\"5.5%, 94.5% \\\\n{:.2}, {:.2}\\\".format(pi[0], pi[1]))\";\n",
       "                var nbb_formatted_code = \"# Compute the 89% percentile interval\\nnorm = stats.norm(mean_q, std_q)\\nprob = 0.99\\nz = stats.norm.ppf([(1 - prob) / 2, (1 + prob) / 2])\\npi = mean_q[\\\"p\\\"] + std_q * z\\nprint(\\\"5.5%, 94.5% \\\\n{:.2}, {:.2}\\\".format(pi[0], pi[1]))\";\n",
       "                var nbb_cells = Jupyter.notebook.get_cells();\n",
       "                for (var i = 0; i < nbb_cells.length; ++i) {\n",
       "                    if (nbb_cells[i].input_prompt_number == nbb_cell_id) {\n",
       "                        if (nbb_cells[i].get_text() == nbb_unformatted_code) {\n",
       "                             nbb_cells[i].set_text(nbb_formatted_code);\n",
       "                        }\n",
       "                        break;\n",
       "                    }\n",
       "                }\n",
       "            }, 500);\n",
       "            "
      ],
      "text/plain": [
       "<IPython.core.display.Javascript object>"
      ]
     },
     "metadata": {},
     "output_type": "display_data"
    }
   ],
   "source": [
    "# Compute the 89% percentile interval\n",
    "norm = stats.norm(mean_q, std_q)\n",
    "prob = 0.99\n",
    "z = stats.norm.ppf([(1 - prob) / 2, (1 + prob) / 2])\n",
    "pi = mean_q[\"p\"] + std_q * z\n",
    "print(\"5.5%, 94.5% \\n{:.2}, {:.2}\".format(pi[0], pi[1]))"
   ]
  },
  {
   "cell_type": "markdown",
   "id": "innovative-naples",
   "metadata": {},
   "source": [
    "I don't think this syntax is alright, but basically the distribution will get tighter and taller as more tosses are made."
   ]
  },
  {
   "cell_type": "markdown",
   "id": "republican-carnival",
   "metadata": {},
   "source": [
    "See about posterior predictive distributions."
   ]
  },
  {
   "cell_type": "markdown",
   "id": "clinical-street",
   "metadata": {},
   "source": [
    "# Appendix: Environment and system parameters"
   ]
  },
  {
   "cell_type": "code",
   "execution_count": 3,
   "id": "piano-oriental",
   "metadata": {
    "ExecuteTime": {
     "end_time": "2021-02-23T16:06:20.602341Z",
     "start_time": "2021-02-23T16:06:20.580515Z"
    }
   },
   "outputs": [
    {
     "name": "stdout",
     "output_type": "stream",
     "text": [
      "Last updated: Tue Feb 23 2021\n",
      "\n",
      "Python implementation: CPython\n",
      "Python version       : 3.8.6\n",
      "IPython version      : 7.20.0\n",
      "\n",
      "pandas    : 1.2.1\n",
      "scipy     : 1.6.0\n",
      "arviz     : 0.11.1\n",
      "matplotlib: 3.3.4\n",
      "pymc3     : 3.11.0\n",
      "numpy     : 1.20.1\n",
      "seaborn   : 0.11.1\n",
      "json      : 2.0.9\n",
      "\n",
      "Watermark: 2.1.0\n",
      "\n"
     ]
    },
    {
     "data": {
      "application/javascript": [
       "\n",
       "            setTimeout(function() {\n",
       "                var nbb_cell_id = 3;\n",
       "                var nbb_unformatted_code = \"%watermark -n -u -v -iv -w\";\n",
       "                var nbb_formatted_code = \"%watermark -n -u -v -iv -w\";\n",
       "                var nbb_cells = Jupyter.notebook.get_cells();\n",
       "                for (var i = 0; i < nbb_cells.length; ++i) {\n",
       "                    if (nbb_cells[i].input_prompt_number == nbb_cell_id) {\n",
       "                        if (nbb_cells[i].get_text() == nbb_unformatted_code) {\n",
       "                             nbb_cells[i].set_text(nbb_formatted_code);\n",
       "                        }\n",
       "                        break;\n",
       "                    }\n",
       "                }\n",
       "            }, 500);\n",
       "            "
      ],
      "text/plain": [
       "<IPython.core.display.Javascript object>"
      ]
     },
     "metadata": {},
     "output_type": "display_data"
    }
   ],
   "source": [
    "%watermark -n -u -v -iv -w"
   ]
  },
  {
   "cell_type": "code",
   "execution_count": 4,
   "id": "opponent-lewis",
   "metadata": {
    "ExecuteTime": {
     "end_time": "2021-02-23T16:06:25.450793Z",
     "start_time": "2021-02-23T16:06:24.326356Z"
    }
   },
   "outputs": [
    {
     "name": "stdout",
     "output_type": "stream",
     "text": [
      "# Name                    Version                   Build  Channel\n",
      "arviz                     0.11.1                   pypi_0    pypi\n",
      "matplotlib                3.3.4                    pypi_0    pypi\n",
      "numpy                     1.20.1                   pypi_0    pypi\n",
      "pandas                    1.2.1                    pypi_0    pypi\n",
      "pymc3                     3.11.0                   pypi_0    pypi\n",
      "scipy                     1.6.0                    pypi_0    pypi\n",
      "seaborn                   0.11.1                   pypi_0    pypi\n"
     ]
    },
    {
     "data": {
      "application/javascript": [
       "\n",
       "            setTimeout(function() {\n",
       "                var nbb_cell_id = 4;\n",
       "                var nbb_unformatted_code = \"# Custom scripts to show packages and versions in this notebook\\ndef imports():\\n    import types\\n\\n    for name, val in globals().items():\\n        if isinstance(val, types.ModuleType):\\n            yield val.__name__\\n\\n\\nimported_packages = list(imports())\\n\\nfrom active_pkg import show_pkg_vers_in_nb\\n\\nshow_pkg_vers_in_nb(imported_packages)\";\n",
       "                var nbb_formatted_code = \"# Custom scripts to show packages and versions in this notebook\\ndef imports():\\n    import types\\n\\n    for name, val in globals().items():\\n        if isinstance(val, types.ModuleType):\\n            yield val.__name__\\n\\n\\nimported_packages = list(imports())\\n\\nfrom active_pkg import show_pkg_vers_in_nb\\n\\nshow_pkg_vers_in_nb(imported_packages)\";\n",
       "                var nbb_cells = Jupyter.notebook.get_cells();\n",
       "                for (var i = 0; i < nbb_cells.length; ++i) {\n",
       "                    if (nbb_cells[i].input_prompt_number == nbb_cell_id) {\n",
       "                        if (nbb_cells[i].get_text() == nbb_unformatted_code) {\n",
       "                             nbb_cells[i].set_text(nbb_formatted_code);\n",
       "                        }\n",
       "                        break;\n",
       "                    }\n",
       "                }\n",
       "            }, 500);\n",
       "            "
      ],
      "text/plain": [
       "<IPython.core.display.Javascript object>"
      ]
     },
     "metadata": {},
     "output_type": "display_data"
    }
   ],
   "source": [
    "# Custom scripts to show packages and versions in this notebook\n",
    "def imports():\n",
    "    import types\n",
    "\n",
    "    for name, val in globals().items():\n",
    "        if isinstance(val, types.ModuleType):\n",
    "            yield val.__name__\n",
    "\n",
    "\n",
    "imported_packages = list(imports())\n",
    "\n",
    "from active_pkg import show_pkg_vers_in_nb\n",
    "\n",
    "show_pkg_vers_in_nb(imported_packages)"
   ]
  },
  {
   "cell_type": "code",
   "execution_count": null,
   "id": "fifty-diagram",
   "metadata": {},
   "outputs": [],
   "source": []
  }
 ],
 "metadata": {
  "kernelspec": {
   "display_name": "Python 3",
   "language": "python",
   "name": "python3"
  },
  "language_info": {
   "codemirror_mode": {
    "name": "ipython",
    "version": 3
   },
   "file_extension": ".py",
   "mimetype": "text/x-python",
   "name": "python",
   "nbconvert_exporter": "python",
   "pygments_lexer": "ipython3",
   "version": "3.8.6"
  },
  "latex_envs": {
   "LaTeX_envs_menu_present": true,
   "autoclose": false,
   "autocomplete": true,
   "bibliofile": "biblio.bib",
   "cite_by": "apalike",
   "current_citInitial": 1,
   "eqLabelWithNumbers": true,
   "eqNumInitial": 1,
   "hotkeys": {
    "equation": "Ctrl-E",
    "itemize": "Ctrl-I"
   },
   "labels_anchors": false,
   "latex_user_defs": false,
   "report_style_numbering": false,
   "user_envs_cfg": false
  },
  "toc": {
   "base_numbering": 1,
   "nav_menu": {},
   "number_sections": true,
   "sideBar": true,
   "skip_h1_title": false,
   "title_cell": "Table of Contents",
   "title_sidebar": "Contents",
   "toc_cell": false,
   "toc_position": {},
   "toc_section_display": true,
   "toc_window_display": true
  },
  "varInspector": {
   "cols": {
    "lenName": 16,
    "lenType": 16,
    "lenVar": 40
   },
   "kernels_config": {
    "python": {
     "delete_cmd_postfix": "",
     "delete_cmd_prefix": "del ",
     "library": "var_list.py",
     "varRefreshCmd": "print(var_dic_list())"
    },
    "r": {
     "delete_cmd_postfix": ") ",
     "delete_cmd_prefix": "rm(",
     "library": "var_list.r",
     "varRefreshCmd": "cat(var_dic_list()) "
    }
   },
   "types_to_exclude": [
    "module",
    "function",
    "builtin_function_or_method",
    "instance",
    "_Feature"
   ],
   "window_display": false
  }
 },
 "nbformat": 4,
 "nbformat_minor": 5
}
