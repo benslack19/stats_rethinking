{
 "cells": [
  {
   "cell_type": "markdown",
   "id": "weird-shaft",
   "metadata": {},
   "source": [
    "The purpose of this notebook is to have an R kernel that can quickly look at code from the rethinking package."
   ]
  },
  {
   "cell_type": "code",
   "execution_count": 1,
   "id": "complimentary-illustration",
   "metadata": {
    "ExecuteTime": {
     "end_time": "2021-03-18T18:28:49.777931Z",
     "start_time": "2021-03-18T18:28:48.271Z"
    }
   },
   "outputs": [
    {
     "name": "stderr",
     "output_type": "stream",
     "text": [
      "Loading required package: rstan\n",
      "\n",
      "Loading required package: StanHeaders\n",
      "\n",
      "Loading required package: ggplot2\n",
      "\n",
      "rstan (Version 2.21.2, GitRev: 2e1f913d3ca3)\n",
      "\n",
      "For execution on a local, multicore CPU with excess RAM we recommend calling\n",
      "options(mc.cores = parallel::detectCores()).\n",
      "To avoid recompilation of unchanged Stan programs, we recommend calling\n",
      "rstan_options(auto_write = TRUE)\n",
      "\n",
      "Loading required package: parallel\n",
      "\n",
      "rethinking (Version 2.13)\n",
      "\n",
      "\n",
      "Attaching package: ‘rethinking’\n",
      "\n",
      "\n",
      "The following object is masked from ‘package:stats’:\n",
      "\n",
      "    rstudent\n",
      "\n",
      "\n"
     ]
    }
   ],
   "source": [
    "library(rethinking)"
   ]
  },
  {
   "cell_type": "markdown",
   "id": "ruled-context",
   "metadata": {},
   "source": [
    "# Chapter 7"
   ]
  },
  {
   "cell_type": "markdown",
   "id": "underlying-hebrew",
   "metadata": {},
   "source": [
    "## Inspecting lppd\n",
    "\n",
    "Equation is on page 210 of the book."
   ]
  },
  {
   "cell_type": "code",
   "execution_count": 3,
   "id": "given-cabinet",
   "metadata": {
    "ExecuteTime": {
     "end_time": "2021-03-18T18:56:41.598796Z",
     "start_time": "2021-03-18T18:56:41.583Z"
    }
   },
   "outputs": [
    {
     "data": {
      "text/html": [
       "<pre class=language-r><code>function (fit, ...) \n",
       "{\n",
       "<span style=white-space:pre-wrap>    ll &lt;- sim(fit, ll = TRUE, ...)</span>\n",
       "<span style=white-space:pre-wrap>    n &lt;- ncol(ll)</span>\n",
       "<span style=white-space:pre-wrap>    ns &lt;- nrow(ll)</span>\n",
       "<span style=white-space:pre-wrap>    f &lt;- function(i) log_sum_exp(ll[, i]) - log(ns)</span>\n",
       "<span style=white-space:pre-wrap>    lppd &lt;- sapply(1:n, f)</span>\n",
       "<span style=white-space:pre-wrap>    return(lppd)</span>\n",
       "}</code></pre>"
      ],
      "text/latex": [
       "\\begin{minted}{r}\n",
       "function (fit, ...) \n",
       "\\{\n",
       "    ll <- sim(fit, ll = TRUE, ...)\n",
       "    n <- ncol(ll)\n",
       "    ns <- nrow(ll)\n",
       "    f <- function(i) log\\_sum\\_exp(ll{[}, i{]}) - log(ns)\n",
       "    lppd <- sapply(1:n, f)\n",
       "    return(lppd)\n",
       "\\}\n",
       "\\end{minted}"
      ],
      "text/markdown": [
       "```r\n",
       "function (fit, ...) \n",
       "{\n",
       "    ll <- sim(fit, ll = TRUE, ...)\n",
       "    n <- ncol(ll)\n",
       "    ns <- nrow(ll)\n",
       "    f <- function(i) log_sum_exp(ll[, i]) - log(ns)\n",
       "    lppd <- sapply(1:n, f)\n",
       "    return(lppd)\n",
       "}\n",
       "```"
      ],
      "text/plain": [
       "function (fit, ...) \n",
       "{\n",
       "    ll <- sim(fit, ll = TRUE, ...)\n",
       "    n <- ncol(ll)\n",
       "    ns <- nrow(ll)\n",
       "    f <- function(i) log_sum_exp(ll[, i]) - log(ns)\n",
       "    lppd <- sapply(1:n, f)\n",
       "    return(lppd)\n",
       "}\n",
       "<bytecode: 0x7fc52c85fbd8>\n",
       "<environment: namespace:rethinking>"
      ]
     },
     "metadata": {},
     "output_type": "display_data"
    }
   ],
   "source": [
    "lppd"
   ]
  },
  {
   "cell_type": "code",
   "execution_count": null,
   "id": "single-spring",
   "metadata": {},
   "outputs": [],
   "source": []
  },
  {
   "cell_type": "code",
   "execution_count": null,
   "id": "weekly-accused",
   "metadata": {},
   "outputs": [],
   "source": []
  },
  {
   "cell_type": "markdown",
   "id": "iraqi-manhattan",
   "metadata": {},
   "source": [
    "## Inspecting WAIC function"
   ]
  },
  {
   "cell_type": "code",
   "execution_count": 2,
   "id": "accurate-family",
   "metadata": {
    "ExecuteTime": {
     "end_time": "2021-03-18T18:28:55.671100Z",
     "start_time": "2021-03-18T18:28:55.652Z"
    }
   },
   "outputs": [
    {
     "data": {
      "text/html": [
       "<pre class=language-r><code>new(\"standardGeneric\", .Data = function (object, n = 1000, refresh = 0.1, \n",
       "<span style=white-space:pre-wrap>    pointwise = FALSE, ...) </span>\n",
       "standardGeneric(\"WAIC\"), generic = structure(\"WAIC\", package = \"rethinking\"), \n",
       "<span style=white-space:pre-wrap>    package = \"rethinking\", group = list(), valueClass = character(0), </span>\n",
       "<span style=white-space:pre-wrap>    signature = c(\"object\", \"n\", \"refresh\", \"pointwise\"), default = new(\"derivedDefaultMethod\", </span>\n",
       "<span style=white-space:pre-wrap>        .Data = function (object, n = 1000, refresh = 0.1, pointwise = FALSE, </span>\n",
       "<span style=white-space:pre-wrap>            ...) </span>\n",
       "<span style=white-space:pre-wrap>        {</span>\n",
       "<span style=white-space:pre-wrap>            message(concat(\"No WAIC method for object of class '\", </span>\n",
       "<span style=white-space:pre-wrap>                class(object), \"'. Returning AIC instead.\"))</span>\n",
       "<span style=white-space:pre-wrap>            AIC(object)</span>\n",
       "<span style=white-space:pre-wrap>        }, target = new(\"signature\", .Data = \"ANY\", names = \"object\", </span>\n",
       "<span style=white-space:pre-wrap>            package = \"methods\"), defined = new(\"signature\", </span>\n",
       "<span style=white-space:pre-wrap>            .Data = \"ANY\", names = \"object\", package = \"methods\"), </span>\n",
       "<span style=white-space:pre-wrap>        generic = structure(\"WAIC\", package = \"rethinking\")), </span>\n",
       "<span style=white-space:pre-wrap>    skeleton = (new(\"derivedDefaultMethod\", .Data = function (object, </span>\n",
       "<span style=white-space:pre-wrap>        n = 1000, refresh = 0.1, pointwise = FALSE, ...) </span>\n",
       "<span style=white-space:pre-wrap>    {</span>\n",
       "<span style=white-space:pre-wrap>        message(concat(\"No WAIC method for object of class '\", </span>\n",
       "<span style=white-space:pre-wrap>            class(object), \"'. Returning AIC instead.\"))</span>\n",
       "<span style=white-space:pre-wrap>        AIC(object)</span>\n",
       "<span style=white-space:pre-wrap>    }, target = new(\"signature\", .Data = \"ANY\", names = \"object\", </span>\n",
       "<span style=white-space:pre-wrap>        package = \"methods\"), defined = new(\"signature\", .Data = \"ANY\", </span>\n",
       "<span style=white-space:pre-wrap>        names = \"object\", package = \"methods\"), generic = structure(\"WAIC\", package = \"rethinking\")))(object, </span>\n",
       "<span style=white-space:pre-wrap>        n, refresh, pointwise, ...))</span></code></pre>"
      ],
      "text/latex": [
       "\\begin{minted}{r}\n",
       "new(\"standardGeneric\", .Data = function (object, n = 1000, refresh = 0.1, \n",
       "    pointwise = FALSE, ...) \n",
       "standardGeneric(\"WAIC\"), generic = structure(\"WAIC\", package = \"rethinking\"), \n",
       "    package = \"rethinking\", group = list(), valueClass = character(0), \n",
       "    signature = c(\"object\", \"n\", \"refresh\", \"pointwise\"), default = new(\"derivedDefaultMethod\", \n",
       "        .Data = function (object, n = 1000, refresh = 0.1, pointwise = FALSE, \n",
       "            ...) \n",
       "        \\{\n",
       "            message(concat(\"No WAIC method for object of class '\", \n",
       "                class(object), \"'. Returning AIC instead.\"))\n",
       "            AIC(object)\n",
       "        \\}, target = new(\"signature\", .Data = \"ANY\", names = \"object\", \n",
       "            package = \"methods\"), defined = new(\"signature\", \n",
       "            .Data = \"ANY\", names = \"object\", package = \"methods\"), \n",
       "        generic = structure(\"WAIC\", package = \"rethinking\")), \n",
       "    skeleton = (new(\"derivedDefaultMethod\", .Data = function (object, \n",
       "        n = 1000, refresh = 0.1, pointwise = FALSE, ...) \n",
       "    \\{\n",
       "        message(concat(\"No WAIC method for object of class '\", \n",
       "            class(object), \"'. Returning AIC instead.\"))\n",
       "        AIC(object)\n",
       "    \\}, target = new(\"signature\", .Data = \"ANY\", names = \"object\", \n",
       "        package = \"methods\"), defined = new(\"signature\", .Data = \"ANY\", \n",
       "        names = \"object\", package = \"methods\"), generic = structure(\"WAIC\", package = \"rethinking\")))(object, \n",
       "        n, refresh, pointwise, ...))\n",
       "\\end{minted}"
      ],
      "text/markdown": [
       "```r\n",
       "new(\"standardGeneric\", .Data = function (object, n = 1000, refresh = 0.1, \n",
       "    pointwise = FALSE, ...) \n",
       "standardGeneric(\"WAIC\"), generic = structure(\"WAIC\", package = \"rethinking\"), \n",
       "    package = \"rethinking\", group = list(), valueClass = character(0), \n",
       "    signature = c(\"object\", \"n\", \"refresh\", \"pointwise\"), default = new(\"derivedDefaultMethod\", \n",
       "        .Data = function (object, n = 1000, refresh = 0.1, pointwise = FALSE, \n",
       "            ...) \n",
       "        {\n",
       "            message(concat(\"No WAIC method for object of class '\", \n",
       "                class(object), \"'. Returning AIC instead.\"))\n",
       "            AIC(object)\n",
       "        }, target = new(\"signature\", .Data = \"ANY\", names = \"object\", \n",
       "            package = \"methods\"), defined = new(\"signature\", \n",
       "            .Data = \"ANY\", names = \"object\", package = \"methods\"), \n",
       "        generic = structure(\"WAIC\", package = \"rethinking\")), \n",
       "    skeleton = (new(\"derivedDefaultMethod\", .Data = function (object, \n",
       "        n = 1000, refresh = 0.1, pointwise = FALSE, ...) \n",
       "    {\n",
       "        message(concat(\"No WAIC method for object of class '\", \n",
       "            class(object), \"'. Returning AIC instead.\"))\n",
       "        AIC(object)\n",
       "    }, target = new(\"signature\", .Data = \"ANY\", names = \"object\", \n",
       "        package = \"methods\"), defined = new(\"signature\", .Data = \"ANY\", \n",
       "        names = \"object\", package = \"methods\"), generic = structure(\"WAIC\", package = \"rethinking\")))(object, \n",
       "        n, refresh, pointwise, ...))\n",
       "```"
      ],
      "text/plain": [
       "new(\"standardGeneric\", .Data = function (object, n = 1000, refresh = 0.1, \n",
       "    pointwise = FALSE, ...) \n",
       "standardGeneric(\"WAIC\"), generic = \"WAIC\", package = \"rethinking\", \n",
       "    group = list(), valueClass = character(0), signature = c(\"object\", \n",
       "    \"n\", \"refresh\", \"pointwise\"), default = new(\"derivedDefaultMethod\", \n",
       "        .Data = function (object, n = 1000, refresh = 0.1, pointwise = FALSE, \n",
       "            ...) \n",
       "        {\n",
       "            message(concat(\"No WAIC method for object of class '\", \n",
       "                class(object), \"'. Returning AIC instead.\"))\n",
       "            AIC(object)\n",
       "        }, target = new(\"signature\", .Data = \"ANY\", names = \"object\", \n",
       "            package = \"methods\"), defined = new(\"signature\", \n",
       "            .Data = \"ANY\", names = \"object\", package = \"methods\"), \n",
       "        generic = \"WAIC\"), skeleton = (new(\"derivedDefaultMethod\", \n",
       "        .Data = function (object, n = 1000, refresh = 0.1, pointwise = FALSE, \n",
       "            ...) \n",
       "        {\n",
       "            message(concat(\"No WAIC method for object of class '\", \n",
       "                class(object), \"'. Returning AIC instead.\"))\n",
       "            AIC(object)\n",
       "        }, target = new(\"signature\", .Data = \"ANY\", names = \"object\", \n",
       "            package = \"methods\"), defined = new(\"signature\", \n",
       "            .Data = \"ANY\", names = \"object\", package = \"methods\"), \n",
       "        generic = \"WAIC\"))(object, n, refresh, pointwise, ...))\n",
       "<bytecode: 0x7fc52ca93270>\n",
       "<environment: 0x7fc52c9ea0e0>\n",
       "attr(,\"generic\")\n",
       "[1] \"WAIC\"\n",
       "attr(,\"generic\")attr(,\"package\")\n",
       "[1] \"rethinking\"\n",
       "attr(,\"package\")\n",
       "[1] \"rethinking\"\n",
       "attr(,\"group\")\n",
       "list()\n",
       "attr(,\"valueClass\")\n",
       "character(0)\n",
       "attr(,\"signature\")\n",
       "[1] \"object\"    \"n\"         \"refresh\"   \"pointwise\"\n",
       "attr(,\"default\")\n",
       "Method Definition (Class \"derivedDefaultMethod\"):\n",
       "\n",
       "function (object, n = 1000, refresh = 0.1, pointwise = FALSE, \n",
       "    ...) \n",
       "{\n",
       "    message(concat(\"No WAIC method for object of class '\", class(object), \n",
       "        \"'. Returning AIC instead.\"))\n",
       "    AIC(object)\n",
       "}\n",
       "<environment: namespace:rethinking>\n",
       "\n",
       "Signatures:\n",
       "        object\n",
       "target  \"ANY\" \n",
       "defined \"ANY\" \n",
       "attr(,\"skeleton\")\n",
       "(new(\"derivedDefaultMethod\", .Data = function (object, n = 1000, \n",
       "    refresh = 0.1, pointwise = FALSE, ...) \n",
       "{\n",
       "    message(concat(\"No WAIC method for object of class '\", class(object), \n",
       "        \"'. Returning AIC instead.\"))\n",
       "    AIC(object)\n",
       "}, target = new(\"signature\", .Data = \"ANY\", names = \"object\", \n",
       "    package = \"methods\"), defined = new(\"signature\", .Data = \"ANY\", \n",
       "    names = \"object\", package = \"methods\"), generic = \"WAIC\"))(object, \n",
       "    n, refresh, pointwise, ...)\n",
       "attr(,\"class\")\n",
       "[1] \"standardGeneric\"\n",
       "attr(,\"class\")attr(,\"package\")\n",
       "[1] \"methods\""
      ]
     },
     "metadata": {},
     "output_type": "display_data"
    }
   ],
   "source": [
    "WAIC"
   ]
  },
  {
   "cell_type": "code",
   "execution_count": null,
   "id": "stainless-hawaiian",
   "metadata": {},
   "outputs": [],
   "source": []
  }
 ],
 "metadata": {
  "kernelspec": {
   "display_name": "R",
   "language": "R",
   "name": "ir"
  },
  "language_info": {
   "codemirror_mode": "r",
   "file_extension": ".r",
   "mimetype": "text/x-r-source",
   "name": "R",
   "pygments_lexer": "r",
   "version": "4.0.3"
  },
  "latex_envs": {
   "LaTeX_envs_menu_present": true,
   "autoclose": false,
   "autocomplete": true,
   "bibliofile": "biblio.bib",
   "cite_by": "apalike",
   "current_citInitial": 1,
   "eqLabelWithNumbers": true,
   "eqNumInitial": 1,
   "hotkeys": {
    "equation": "Ctrl-E",
    "itemize": "Ctrl-I"
   },
   "labels_anchors": false,
   "latex_user_defs": false,
   "report_style_numbering": false,
   "user_envs_cfg": false
  },
  "toc": {
   "base_numbering": 1,
   "nav_menu": {},
   "number_sections": true,
   "sideBar": true,
   "skip_h1_title": false,
   "title_cell": "Table of Contents",
   "title_sidebar": "Contents",
   "toc_cell": false,
   "toc_position": {},
   "toc_section_display": true,
   "toc_window_display": false
  },
  "varInspector": {
   "cols": {
    "lenName": 16,
    "lenType": 16,
    "lenVar": 40
   },
   "kernels_config": {
    "python": {
     "delete_cmd_postfix": "",
     "delete_cmd_prefix": "del ",
     "library": "var_list.py",
     "varRefreshCmd": "print(var_dic_list())"
    },
    "r": {
     "delete_cmd_postfix": ") ",
     "delete_cmd_prefix": "rm(",
     "library": "var_list.r",
     "varRefreshCmd": "cat(var_dic_list()) "
    }
   },
   "types_to_exclude": [
    "module",
    "function",
    "builtin_function_or_method",
    "instance",
    "_Feature"
   ],
   "window_display": false
  }
 },
 "nbformat": 4,
 "nbformat_minor": 5
}
