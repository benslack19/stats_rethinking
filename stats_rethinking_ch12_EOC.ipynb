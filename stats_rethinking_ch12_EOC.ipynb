{
 "cells": [
  {
   "cell_type": "markdown",
   "id": "thirty-zambia",
   "metadata": {},
   "source": [
    "This is for Chapter 12 and Week 7 homework from [Winter 2020 of Statistical Rethinking](https://github.com/rmcelreath/stat_rethinking_2020/tree/main/homework) using Python. A public repo using `pmyc3` has been created [here](https://github.com/pymc-devs/resources/tree/master/Rethinking_2) that also uses Python.\n",
    "\n",
    "Note that this notebook includes code for the \"censored cats\" discussion that was in the lecture but did not make the final, second edition section of the book. However, there's [tidyverse code](https://bookdown.org/content/4857/god-spiked-the-integers.html#bonus-survival-analysis) for this section on survival analysis. The Bayes discourse group also helped me. Thanks to Rojan for sharing his pymc code and Nathaniel for sending me pages of this section that were in a draft version of the book."
   ]
  },
  {
   "cell_type": "code",
   "execution_count": 1,
   "id": "neural-bachelor",
   "metadata": {
    "ExecuteTime": {
     "end_time": "2021-07-02T14:31:14.717672Z",
     "start_time": "2021-07-02T14:31:10.906898Z"
    }
   },
   "outputs": [],
   "source": [
    "import arviz as az\n",
    "import matplotlib.pyplot as plt\n",
    "import numpy as np\n",
    "import os\n",
    "import pandas as pd\n",
    "import pymc3 as pm\n",
    "import scipy.stats as stats\n",
    "import seaborn as sns\n",
    "from scipy.special import expit as logistic\n",
    "import daft\n",
    "from causalgraphicalmodels import CausalGraphicalModel\n",
    "\n",
    "from scipy.optimize import curve_fit"
   ]
  },
  {
   "cell_type": "code",
   "execution_count": 2,
   "id": "municipal-casino",
   "metadata": {
    "ExecuteTime": {
     "end_time": "2021-07-02T14:31:15.359048Z",
     "start_time": "2021-07-02T14:31:15.238379Z"
    }
   },
   "outputs": [
    {
     "data": {
      "application/javascript": [
       "\n",
       "            setTimeout(function() {\n",
       "                var nbb_cell_id = 2;\n",
       "                var nbb_unformatted_code = \"%load_ext nb_black\\n%config InlineBackend.figure_format = 'retina'\\n%load_ext watermark\\nRANDOM_SEED = 8927\\nnp.random.seed(RANDOM_SEED)\\naz.style.use(\\\"arviz-darkgrid\\\")\\naz.rcParams[\\\"stats.hdi_prob\\\"] = 0.89  # sets default credible interval used by arviz\";\n",
       "                var nbb_formatted_code = \"%load_ext nb_black\\n%config InlineBackend.figure_format = 'retina'\\n%load_ext watermark\\nRANDOM_SEED = 8927\\nnp.random.seed(RANDOM_SEED)\\naz.style.use(\\\"arviz-darkgrid\\\")\\naz.rcParams[\\\"stats.hdi_prob\\\"] = 0.89  # sets default credible interval used by arviz\";\n",
       "                var nbb_cells = Jupyter.notebook.get_cells();\n",
       "                for (var i = 0; i < nbb_cells.length; ++i) {\n",
       "                    if (nbb_cells[i].input_prompt_number == nbb_cell_id) {\n",
       "                        if (nbb_cells[i].get_text() == nbb_unformatted_code) {\n",
       "                             nbb_cells[i].set_text(nbb_formatted_code);\n",
       "                        }\n",
       "                        break;\n",
       "                    }\n",
       "                }\n",
       "            }, 500);\n",
       "            "
      ],
      "text/plain": [
       "<IPython.core.display.Javascript object>"
      ]
     },
     "metadata": {},
     "output_type": "display_data"
    }
   ],
   "source": [
    "%load_ext nb_black\n",
    "%config InlineBackend.figure_format = 'retina'\n",
    "%load_ext watermark\n",
    "RANDOM_SEED = 8927\n",
    "np.random.seed(RANDOM_SEED)\n",
    "az.style.use(\"arviz-darkgrid\")\n",
    "az.rcParams[\"stats.hdi_prob\"] = 0.89  # sets default credible interval used by arviz"
   ]
  },
  {
   "cell_type": "code",
   "execution_count": 3,
   "id": "martial-effect",
   "metadata": {
    "ExecuteTime": {
     "end_time": "2021-07-02T14:31:16.083630Z",
     "start_time": "2021-07-02T14:31:16.078620Z"
    }
   },
   "outputs": [
    {
     "data": {
      "application/javascript": [
       "\n",
       "            setTimeout(function() {\n",
       "                var nbb_cell_id = 3;\n",
       "                var nbb_unformatted_code = \"sns.set_context(\\\"talk\\\")\";\n",
       "                var nbb_formatted_code = \"sns.set_context(\\\"talk\\\")\";\n",
       "                var nbb_cells = Jupyter.notebook.get_cells();\n",
       "                for (var i = 0; i < nbb_cells.length; ++i) {\n",
       "                    if (nbb_cells[i].input_prompt_number == nbb_cell_id) {\n",
       "                        if (nbb_cells[i].get_text() == nbb_unformatted_code) {\n",
       "                             nbb_cells[i].set_text(nbb_formatted_code);\n",
       "                        }\n",
       "                        break;\n",
       "                    }\n",
       "                }\n",
       "            }, 500);\n",
       "            "
      ],
      "text/plain": [
       "<IPython.core.display.Javascript object>"
      ]
     },
     "metadata": {},
     "output_type": "display_data"
    }
   ],
   "source": [
    "sns.set_context(\"talk\")"
   ]
  },
  {
   "cell_type": "code",
   "execution_count": 6,
   "id": "aa9acb00",
   "metadata": {
    "ExecuteTime": {
     "end_time": "2021-06-23T14:35:05.747539Z",
     "start_time": "2021-06-23T14:35:05.741181Z"
    }
   },
   "outputs": [
    {
     "data": {
      "application/javascript": [
       "\n",
       "            setTimeout(function() {\n",
       "                var nbb_cell_id = 6;\n",
       "                var nbb_unformatted_code = \"def standardize(x):\\n    x = (x - np.mean(x)) / np.std(x)\\n    return x\";\n",
       "                var nbb_formatted_code = \"def standardize(x):\\n    x = (x - np.mean(x)) / np.std(x)\\n    return x\";\n",
       "                var nbb_cells = Jupyter.notebook.get_cells();\n",
       "                for (var i = 0; i < nbb_cells.length; ++i) {\n",
       "                    if (nbb_cells[i].input_prompt_number == nbb_cell_id) {\n",
       "                        if (nbb_cells[i].get_text() == nbb_unformatted_code) {\n",
       "                             nbb_cells[i].set_text(nbb_formatted_code);\n",
       "                        }\n",
       "                        break;\n",
       "                    }\n",
       "                }\n",
       "            }, 500);\n",
       "            "
      ],
      "text/plain": [
       "<IPython.core.display.Javascript object>"
      ]
     },
     "metadata": {},
     "output_type": "display_data"
    }
   ],
   "source": [
    "def standardize(x):\n",
    "    x = (x - np.mean(x)) / np.std(x)\n",
    "    return x"
   ]
  },
  {
   "cell_type": "code",
   "execution_count": null,
   "id": "a0566cc5",
   "metadata": {},
   "outputs": [],
   "source": []
  },
  {
   "cell_type": "markdown",
   "id": "88486b94",
   "metadata": {},
   "source": [
    "# Censored cats and survival analysis\n",
    "\n",
    "These concepts were covered in lecture 13 [here](https://youtu.be/p7g-CgGCS34?list=PLDcUM9US4XdNM4Edgs7weiyIguLSToZRI&t=1433). I used the R `rethinking` package to obtain the data. The question is to determine whether black cats are more discriminated against for adoption than other cats.\n"
   ]
  },
  {
   "cell_type": "code",
   "execution_count": 9,
   "id": "liquid-passenger",
   "metadata": {
    "ExecuteTime": {
     "end_time": "2021-07-02T14:47:07.150829Z",
     "start_time": "2021-07-02T14:47:07.092601Z"
    }
   },
   "outputs": [
    {
     "data": {
      "text/html": [
       "<div>\n",
       "<style scoped>\n",
       "    .dataframe tbody tr th:only-of-type {\n",
       "        vertical-align: middle;\n",
       "    }\n",
       "\n",
       "    .dataframe tbody tr th {\n",
       "        vertical-align: top;\n",
       "    }\n",
       "\n",
       "    .dataframe thead th {\n",
       "        text-align: right;\n",
       "    }\n",
       "</style>\n",
       "<table border=\"1\" class=\"dataframe\">\n",
       "  <thead>\n",
       "    <tr style=\"text-align: right;\">\n",
       "      <th></th>\n",
       "      <th>id</th>\n",
       "      <th>days_to_event</th>\n",
       "      <th>date_out</th>\n",
       "      <th>out_event</th>\n",
       "      <th>date_in</th>\n",
       "      <th>in_event</th>\n",
       "      <th>breed</th>\n",
       "      <th>color</th>\n",
       "      <th>intake_age</th>\n",
       "    </tr>\n",
       "  </thead>\n",
       "  <tbody>\n",
       "    <tr>\n",
       "      <th>0</th>\n",
       "      <td>A730601</td>\n",
       "      <td>1</td>\n",
       "      <td>07/08/2016 09:00:00 AM</td>\n",
       "      <td>Transfer</td>\n",
       "      <td>07/07/2016 12:11:00 PM</td>\n",
       "      <td>Stray</td>\n",
       "      <td>Domestic Shorthair Mix</td>\n",
       "      <td>Blue Tabby</td>\n",
       "      <td>7</td>\n",
       "    </tr>\n",
       "    <tr>\n",
       "      <th>1</th>\n",
       "      <td>A679549</td>\n",
       "      <td>25</td>\n",
       "      <td>06/16/2014 01:54:00 PM</td>\n",
       "      <td>Transfer</td>\n",
       "      <td>05/22/2014 03:43:00 PM</td>\n",
       "      <td>Stray</td>\n",
       "      <td>Domestic Shorthair Mix</td>\n",
       "      <td>Black/White</td>\n",
       "      <td>1</td>\n",
       "    </tr>\n",
       "    <tr>\n",
       "      <th>2</th>\n",
       "      <td>A683656</td>\n",
       "      <td>4</td>\n",
       "      <td>07/17/2014 04:57:00 PM</td>\n",
       "      <td>Adoption</td>\n",
       "      <td>07/13/2014 01:20:00 PM</td>\n",
       "      <td>Stray</td>\n",
       "      <td>Snowshoe Mix</td>\n",
       "      <td>Lynx Point</td>\n",
       "      <td>2</td>\n",
       "    </tr>\n",
       "    <tr>\n",
       "      <th>3</th>\n",
       "      <td>A709749</td>\n",
       "      <td>41</td>\n",
       "      <td>09/22/2015 12:49:00 PM</td>\n",
       "      <td>Transfer</td>\n",
       "      <td>08/12/2015 06:29:00 PM</td>\n",
       "      <td>Stray</td>\n",
       "      <td>Domestic Shorthair Mix</td>\n",
       "      <td>Calico</td>\n",
       "      <td>12</td>\n",
       "    </tr>\n",
       "    <tr>\n",
       "      <th>4</th>\n",
       "      <td>A733551</td>\n",
       "      <td>9</td>\n",
       "      <td>09/01/2016 12:00:00 AM</td>\n",
       "      <td>Transfer</td>\n",
       "      <td>08/23/2016 02:35:00 PM</td>\n",
       "      <td>Stray</td>\n",
       "      <td>Domestic Shorthair Mix</td>\n",
       "      <td>Brown Tabby/White</td>\n",
       "      <td>1</td>\n",
       "    </tr>\n",
       "  </tbody>\n",
       "</table>\n",
       "</div>"
      ],
      "text/plain": [
       "        id  days_to_event                date_out out_event  \\\n",
       "0  A730601              1  07/08/2016 09:00:00 AM  Transfer   \n",
       "1  A679549             25  06/16/2014 01:54:00 PM  Transfer   \n",
       "2  A683656              4  07/17/2014 04:57:00 PM  Adoption   \n",
       "3  A709749             41  09/22/2015 12:49:00 PM  Transfer   \n",
       "4  A733551              9  09/01/2016 12:00:00 AM  Transfer   \n",
       "\n",
       "                  date_in in_event                   breed              color  \\\n",
       "0  07/07/2016 12:11:00 PM    Stray  Domestic Shorthair Mix         Blue Tabby   \n",
       "1  05/22/2014 03:43:00 PM    Stray  Domestic Shorthair Mix        Black/White   \n",
       "2  07/13/2014 01:20:00 PM    Stray            Snowshoe Mix         Lynx Point   \n",
       "3  08/12/2015 06:29:00 PM    Stray  Domestic Shorthair Mix             Calico   \n",
       "4  08/23/2016 02:35:00 PM    Stray  Domestic Shorthair Mix  Brown Tabby/White   \n",
       "\n",
       "   intake_age  \n",
       "0           7  \n",
       "1           1  \n",
       "2           2  \n",
       "3          12  \n",
       "4           1  "
      ]
     },
     "execution_count": 9,
     "metadata": {},
     "output_type": "execute_result"
    },
    {
     "data": {
      "application/javascript": [
       "\n",
       "            setTimeout(function() {\n",
       "                var nbb_cell_id = 9;\n",
       "                var nbb_unformatted_code = \"df_cats = pd.read_csv(\\\"other_data/AustinCats.csv\\\", sep=\\\",\\\")\\ndf_cats.head()\";\n",
       "                var nbb_formatted_code = \"df_cats = pd.read_csv(\\\"other_data/AustinCats.csv\\\", sep=\\\",\\\")\\ndf_cats.head()\";\n",
       "                var nbb_cells = Jupyter.notebook.get_cells();\n",
       "                for (var i = 0; i < nbb_cells.length; ++i) {\n",
       "                    if (nbb_cells[i].input_prompt_number == nbb_cell_id) {\n",
       "                        if (nbb_cells[i].get_text() == nbb_unformatted_code) {\n",
       "                             nbb_cells[i].set_text(nbb_formatted_code);\n",
       "                        }\n",
       "                        break;\n",
       "                    }\n",
       "                }\n",
       "            }, 500);\n",
       "            "
      ],
      "text/plain": [
       "<IPython.core.display.Javascript object>"
      ]
     },
     "metadata": {},
     "output_type": "display_data"
    }
   ],
   "source": [
    "df_cats = pd.read_csv(\"other_data/AustinCats.csv\", sep=\",\")\n",
    "df_cats.head()"
   ]
  },
  {
   "cell_type": "code",
   "execution_count": 12,
   "id": "5275a89a",
   "metadata": {
    "ExecuteTime": {
     "end_time": "2021-07-02T14:50:36.226478Z",
     "start_time": "2021-07-02T14:50:36.220483Z"
    }
   },
   "outputs": [
    {
     "data": {
      "text/plain": [
       "(22356, 11)"
      ]
     },
     "execution_count": 12,
     "metadata": {},
     "output_type": "execute_result"
    },
    {
     "data": {
      "application/javascript": [
       "\n",
       "            setTimeout(function() {\n",
       "                var nbb_cell_id = 12;\n",
       "                var nbb_unformatted_code = \"df_cats.shape\";\n",
       "                var nbb_formatted_code = \"df_cats.shape\";\n",
       "                var nbb_cells = Jupyter.notebook.get_cells();\n",
       "                for (var i = 0; i < nbb_cells.length; ++i) {\n",
       "                    if (nbb_cells[i].input_prompt_number == nbb_cell_id) {\n",
       "                        if (nbb_cells[i].get_text() == nbb_unformatted_code) {\n",
       "                             nbb_cells[i].set_text(nbb_formatted_code);\n",
       "                        }\n",
       "                        break;\n",
       "                    }\n",
       "                }\n",
       "            }, 500);\n",
       "            "
      ],
      "text/plain": [
       "<IPython.core.display.Javascript object>"
      ]
     },
     "metadata": {},
     "output_type": "display_data"
    }
   ],
   "source": [
    "df_cats.shape"
   ]
  },
  {
   "cell_type": "markdown",
   "id": "a63b3fdd",
   "metadata": {
    "ExecuteTime": {
     "end_time": "2021-07-02T14:46:02.719065Z",
     "start_time": "2021-07-02T14:46:02.711497Z"
    }
   },
   "source": [
    "Prepare dataframe as described in the lecture."
   ]
  },
  {
   "cell_type": "code",
   "execution_count": 15,
   "id": "16b38b57",
   "metadata": {
    "ExecuteTime": {
     "end_time": "2021-07-02T14:51:15.713819Z",
     "start_time": "2021-07-02T14:51:15.687640Z"
    }
   },
   "outputs": [
    {
     "data": {
      "text/html": [
       "<div>\n",
       "<style scoped>\n",
       "    .dataframe tbody tr th:only-of-type {\n",
       "        vertical-align: middle;\n",
       "    }\n",
       "\n",
       "    .dataframe tbody tr th {\n",
       "        vertical-align: top;\n",
       "    }\n",
       "\n",
       "    .dataframe thead th {\n",
       "        text-align: right;\n",
       "    }\n",
       "</style>\n",
       "<table border=\"1\" class=\"dataframe\">\n",
       "  <thead>\n",
       "    <tr style=\"text-align: right;\">\n",
       "      <th></th>\n",
       "      <th>id</th>\n",
       "      <th>days_to_event</th>\n",
       "      <th>date_out</th>\n",
       "      <th>out_event</th>\n",
       "      <th>date_in</th>\n",
       "      <th>in_event</th>\n",
       "      <th>breed</th>\n",
       "      <th>color</th>\n",
       "      <th>intake_age</th>\n",
       "      <th>adopt</th>\n",
       "      <th>color_id</th>\n",
       "      <th>color_id</th>\n",
       "    </tr>\n",
       "  </thead>\n",
       "  <tbody>\n",
       "    <tr>\n",
       "      <th>0</th>\n",
       "      <td>A730601</td>\n",
       "      <td>1</td>\n",
       "      <td>07/08/2016 09:00:00 AM</td>\n",
       "      <td>Transfer</td>\n",
       "      <td>07/07/2016 12:11:00 PM</td>\n",
       "      <td>Stray</td>\n",
       "      <td>Domestic Shorthair Mix</td>\n",
       "      <td>Blue Tabby</td>\n",
       "      <td>7</td>\n",
       "      <td>0</td>\n",
       "      <td>1</td>\n",
       "      <td>1</td>\n",
       "    </tr>\n",
       "    <tr>\n",
       "      <th>1</th>\n",
       "      <td>A679549</td>\n",
       "      <td>25</td>\n",
       "      <td>06/16/2014 01:54:00 PM</td>\n",
       "      <td>Transfer</td>\n",
       "      <td>05/22/2014 03:43:00 PM</td>\n",
       "      <td>Stray</td>\n",
       "      <td>Domestic Shorthair Mix</td>\n",
       "      <td>Black/White</td>\n",
       "      <td>1</td>\n",
       "      <td>0</td>\n",
       "      <td>1</td>\n",
       "      <td>1</td>\n",
       "    </tr>\n",
       "    <tr>\n",
       "      <th>2</th>\n",
       "      <td>A683656</td>\n",
       "      <td>4</td>\n",
       "      <td>07/17/2014 04:57:00 PM</td>\n",
       "      <td>Adoption</td>\n",
       "      <td>07/13/2014 01:20:00 PM</td>\n",
       "      <td>Stray</td>\n",
       "      <td>Snowshoe Mix</td>\n",
       "      <td>Lynx Point</td>\n",
       "      <td>2</td>\n",
       "      <td>1</td>\n",
       "      <td>1</td>\n",
       "      <td>1</td>\n",
       "    </tr>\n",
       "    <tr>\n",
       "      <th>3</th>\n",
       "      <td>A709749</td>\n",
       "      <td>41</td>\n",
       "      <td>09/22/2015 12:49:00 PM</td>\n",
       "      <td>Transfer</td>\n",
       "      <td>08/12/2015 06:29:00 PM</td>\n",
       "      <td>Stray</td>\n",
       "      <td>Domestic Shorthair Mix</td>\n",
       "      <td>Calico</td>\n",
       "      <td>12</td>\n",
       "      <td>0</td>\n",
       "      <td>1</td>\n",
       "      <td>1</td>\n",
       "    </tr>\n",
       "    <tr>\n",
       "      <th>4</th>\n",
       "      <td>A733551</td>\n",
       "      <td>9</td>\n",
       "      <td>09/01/2016 12:00:00 AM</td>\n",
       "      <td>Transfer</td>\n",
       "      <td>08/23/2016 02:35:00 PM</td>\n",
       "      <td>Stray</td>\n",
       "      <td>Domestic Shorthair Mix</td>\n",
       "      <td>Brown Tabby/White</td>\n",
       "      <td>1</td>\n",
       "      <td>0</td>\n",
       "      <td>1</td>\n",
       "      <td>1</td>\n",
       "    </tr>\n",
       "    <tr>\n",
       "      <th>5</th>\n",
       "      <td>A756485</td>\n",
       "      <td>4</td>\n",
       "      <td>08/24/2017 05:34:00 PM</td>\n",
       "      <td>Adoption</td>\n",
       "      <td>08/20/2017 03:07:00 PM</td>\n",
       "      <td>Stray</td>\n",
       "      <td>Domestic Shorthair Mix</td>\n",
       "      <td>Blue Tabby</td>\n",
       "      <td>1</td>\n",
       "      <td>1</td>\n",
       "      <td>1</td>\n",
       "      <td>1</td>\n",
       "    </tr>\n",
       "    <tr>\n",
       "      <th>6</th>\n",
       "      <td>A732960</td>\n",
       "      <td>4</td>\n",
       "      <td>08/19/2016 06:27:00 PM</td>\n",
       "      <td>Adoption</td>\n",
       "      <td>08/15/2016 03:08:00 PM</td>\n",
       "      <td>Stray</td>\n",
       "      <td>Domestic Shorthair Mix</td>\n",
       "      <td>Calico</td>\n",
       "      <td>2</td>\n",
       "      <td>1</td>\n",
       "      <td>1</td>\n",
       "      <td>1</td>\n",
       "    </tr>\n",
       "    <tr>\n",
       "      <th>7</th>\n",
       "      <td>A664571</td>\n",
       "      <td>5</td>\n",
       "      <td>10/10/2013 02:07:00 PM</td>\n",
       "      <td>Adoption</td>\n",
       "      <td>10/05/2013 01:43:00 PM</td>\n",
       "      <td>Owner Surrender</td>\n",
       "      <td>Domestic Shorthair Mix</td>\n",
       "      <td>Torbie</td>\n",
       "      <td>24</td>\n",
       "      <td>1</td>\n",
       "      <td>1</td>\n",
       "      <td>1</td>\n",
       "    </tr>\n",
       "    <tr>\n",
       "      <th>8</th>\n",
       "      <td>A727402</td>\n",
       "      <td>24</td>\n",
       "      <td>06/14/2016 04:18:00 PM</td>\n",
       "      <td>Adoption</td>\n",
       "      <td>05/21/2016 04:30:00 PM</td>\n",
       "      <td>Stray</td>\n",
       "      <td>Domestic Shorthair Mix</td>\n",
       "      <td>Brown Tabby</td>\n",
       "      <td>1</td>\n",
       "      <td>1</td>\n",
       "      <td>1</td>\n",
       "      <td>1</td>\n",
       "    </tr>\n",
       "    <tr>\n",
       "      <th>9</th>\n",
       "      <td>A749579</td>\n",
       "      <td>2</td>\n",
       "      <td>05/18/2017 03:36:00 PM</td>\n",
       "      <td>Transfer</td>\n",
       "      <td>05/16/2017 05:19:00 PM</td>\n",
       "      <td>Stray</td>\n",
       "      <td>Domestic Shorthair Mix</td>\n",
       "      <td>Blue Tabby</td>\n",
       "      <td>3</td>\n",
       "      <td>0</td>\n",
       "      <td>1</td>\n",
       "      <td>1</td>\n",
       "    </tr>\n",
       "  </tbody>\n",
       "</table>\n",
       "</div>"
      ],
      "text/plain": [
       "        id  days_to_event                date_out out_event  \\\n",
       "0  A730601              1  07/08/2016 09:00:00 AM  Transfer   \n",
       "1  A679549             25  06/16/2014 01:54:00 PM  Transfer   \n",
       "2  A683656              4  07/17/2014 04:57:00 PM  Adoption   \n",
       "3  A709749             41  09/22/2015 12:49:00 PM  Transfer   \n",
       "4  A733551              9  09/01/2016 12:00:00 AM  Transfer   \n",
       "5  A756485              4  08/24/2017 05:34:00 PM  Adoption   \n",
       "6  A732960              4  08/19/2016 06:27:00 PM  Adoption   \n",
       "7  A664571              5  10/10/2013 02:07:00 PM  Adoption   \n",
       "8  A727402             24  06/14/2016 04:18:00 PM  Adoption   \n",
       "9  A749579              2  05/18/2017 03:36:00 PM  Transfer   \n",
       "\n",
       "                  date_in         in_event                   breed  \\\n",
       "0  07/07/2016 12:11:00 PM            Stray  Domestic Shorthair Mix   \n",
       "1  05/22/2014 03:43:00 PM            Stray  Domestic Shorthair Mix   \n",
       "2  07/13/2014 01:20:00 PM            Stray            Snowshoe Mix   \n",
       "3  08/12/2015 06:29:00 PM            Stray  Domestic Shorthair Mix   \n",
       "4  08/23/2016 02:35:00 PM            Stray  Domestic Shorthair Mix   \n",
       "5  08/20/2017 03:07:00 PM            Stray  Domestic Shorthair Mix   \n",
       "6  08/15/2016 03:08:00 PM            Stray  Domestic Shorthair Mix   \n",
       "7  10/05/2013 01:43:00 PM  Owner Surrender  Domestic Shorthair Mix   \n",
       "8  05/21/2016 04:30:00 PM            Stray  Domestic Shorthair Mix   \n",
       "9  05/16/2017 05:19:00 PM            Stray  Domestic Shorthair Mix   \n",
       "\n",
       "               color  intake_age  adopt  color_id     color_id  \n",
       "0         Blue Tabby           7      0            1         1  \n",
       "1        Black/White           1      0            1         1  \n",
       "2         Lynx Point           2      1            1         1  \n",
       "3             Calico          12      0            1         1  \n",
       "4  Brown Tabby/White           1      0            1         1  \n",
       "5         Blue Tabby           1      1            1         1  \n",
       "6             Calico           2      1            1         1  \n",
       "7             Torbie          24      1            1         1  \n",
       "8        Brown Tabby           1      1            1         1  \n",
       "9         Blue Tabby           3      0            1         1  "
      ]
     },
     "execution_count": 15,
     "metadata": {},
     "output_type": "execute_result"
    },
    {
     "data": {
      "application/javascript": [
       "\n",
       "            setTimeout(function() {\n",
       "                var nbb_cell_id = 15;\n",
       "                var nbb_unformatted_code = \"# Getting adopted is 1\\ndf_cats[\\\"adopt\\\"] = np.where(df_cats[\\\"out_event\\\"] == \\\"Adoption\\\", 1, 0)\\n\\n# It looks like he used black as lower index\\ndf_cats[\\\"color_id\\\"] = np.where(df_cats[\\\"color\\\"] == \\\"Black\\\", 0, 1)\\n\\ndf_cats.head(10)\";\n",
       "                var nbb_formatted_code = \"# Getting adopted is 1\\ndf_cats[\\\"adopt\\\"] = np.where(df_cats[\\\"out_event\\\"] == \\\"Adoption\\\", 1, 0)\\n\\n# It looks like he used black as lower index\\ndf_cats[\\\"color_id\\\"] = np.where(df_cats[\\\"color\\\"] == \\\"Black\\\", 0, 1)\\n\\ndf_cats.head(10)\";\n",
       "                var nbb_cells = Jupyter.notebook.get_cells();\n",
       "                for (var i = 0; i < nbb_cells.length; ++i) {\n",
       "                    if (nbb_cells[i].input_prompt_number == nbb_cell_id) {\n",
       "                        if (nbb_cells[i].get_text() == nbb_unformatted_code) {\n",
       "                             nbb_cells[i].set_text(nbb_formatted_code);\n",
       "                        }\n",
       "                        break;\n",
       "                    }\n",
       "                }\n",
       "            }, 500);\n",
       "            "
      ],
      "text/plain": [
       "<IPython.core.display.Javascript object>"
      ]
     },
     "metadata": {},
     "output_type": "display_data"
    }
   ],
   "source": [
    "# Getting adopted is 1\n",
    "df_cats[\"adopt\"] = np.where(df_cats[\"out_event\"] == \"Adoption\", 1, 0)\n",
    "\n",
    "# It looks like he used black as lower index\n",
    "df_cats[\"color_id\"] = np.where(df_cats[\"color\"] == \"Black\", 0, 1)\n",
    "\n",
    "df_cats.head(10)"
   ]
  },
  {
   "cell_type": "code",
   "execution_count": 17,
   "id": "01985af7",
   "metadata": {
    "ExecuteTime": {
     "end_time": "2021-07-02T14:51:20.485998Z",
     "start_time": "2021-07-02T14:51:20.479190Z"
    }
   },
   "outputs": [
    {
     "data": {
      "text/plain": [
       "1    19391\n",
       "0     2965\n",
       "Name: color_id, dtype: int64"
      ]
     },
     "execution_count": 17,
     "metadata": {},
     "output_type": "execute_result"
    },
    {
     "data": {
      "application/javascript": [
       "\n",
       "            setTimeout(function() {\n",
       "                var nbb_cell_id = 17;\n",
       "                var nbb_unformatted_code = \"df_cats[\\\"color_id\\\"].value_counts()\";\n",
       "                var nbb_formatted_code = \"df_cats[\\\"color_id\\\"].value_counts()\";\n",
       "                var nbb_cells = Jupyter.notebook.get_cells();\n",
       "                for (var i = 0; i < nbb_cells.length; ++i) {\n",
       "                    if (nbb_cells[i].input_prompt_number == nbb_cell_id) {\n",
       "                        if (nbb_cells[i].get_text() == nbb_unformatted_code) {\n",
       "                             nbb_cells[i].set_text(nbb_formatted_code);\n",
       "                        }\n",
       "                        break;\n",
       "                    }\n",
       "                }\n",
       "            }, 500);\n",
       "            "
      ],
      "text/plain": [
       "<IPython.core.display.Javascript object>"
      ]
     },
     "metadata": {},
     "output_type": "display_data"
    }
   ],
   "source": [
    "df_cats[\"color_id\"].value_counts()"
   ]
  },
  {
   "cell_type": "markdown",
   "id": "b7e312c7",
   "metadata": {},
   "source": [
    "Rojan's code\n",
    "\n",
    "```\n",
    "def likelihood(lam,obs_value,censored):\n",
    "    return (censored*tt.log(lam) - lam * obs_value)\n",
    "\n",
    "with pm.Model() as m_1:\n",
    "   cid=pm.Data('cid',df['black'])\n",
    "    adopted=pm.intX(pm.Data('adopted',df['adopted']))\n",
    "    a=pm.Normal('a',0,1,shape=2)\n",
    "    mu = pm.math.exp(a[cid])\n",
    "    lam= pm.Deterministic('lam',1/mu)\n",
    " D=pm.Potential('D',likelihood(lam=lam,obs_value=df['days_to_event'].values,censored=adopted))\n",
    "  trace_1=pm.sample()\n",
    "\n",
    "```"
   ]
  },
  {
   "cell_type": "code",
   "execution_count": 18,
   "id": "b066716d",
   "metadata": {
    "ExecuteTime": {
     "end_time": "2021-07-02T15:00:33.829089Z",
     "start_time": "2021-07-02T15:00:33.822549Z"
    }
   },
   "outputs": [
    {
     "data": {
      "application/javascript": [
       "\n",
       "            setTimeout(function() {\n",
       "                var nbb_cell_id = 18;\n",
       "                var nbb_unformatted_code = \"def likelihood(lam,obs_value,censored):\\n    return (censored*tt.log(lam) - lam * obs_value)\";\n",
       "                var nbb_formatted_code = \"def likelihood(lam, obs_value, censored):\\n    return censored * tt.log(lam) - lam * obs_value\";\n",
       "                var nbb_cells = Jupyter.notebook.get_cells();\n",
       "                for (var i = 0; i < nbb_cells.length; ++i) {\n",
       "                    if (nbb_cells[i].input_prompt_number == nbb_cell_id) {\n",
       "                        if (nbb_cells[i].get_text() == nbb_unformatted_code) {\n",
       "                             nbb_cells[i].set_text(nbb_formatted_code);\n",
       "                        }\n",
       "                        break;\n",
       "                    }\n",
       "                }\n",
       "            }, 500);\n",
       "            "
      ],
      "text/plain": [
       "<IPython.core.display.Javascript object>"
      ]
     },
     "metadata": {},
     "output_type": "display_data"
    }
   ],
   "source": [
    "def likelihood(lam, obs_value, censored):\n",
    "    return censored * tt.log(lam) - lam * obs_value"
   ]
  },
  {
   "cell_type": "code",
   "execution_count": 20,
   "id": "f2b3ec1f",
   "metadata": {
    "ExecuteTime": {
     "end_time": "2021-07-02T15:01:04.337320Z",
     "start_time": "2021-07-02T15:01:04.220200Z"
    }
   },
   "outputs": [
    {
     "ename": "NameError",
     "evalue": "name 'tt' is not defined",
     "output_type": "error",
     "traceback": [
      "\u001b[0;31m---------------------------------------------------------------------------\u001b[0m",
      "\u001b[0;31mNameError\u001b[0m                                 Traceback (most recent call last)",
      "\u001b[0;32m<ipython-input-20-32882045a089>\u001b[0m in \u001b[0;36m<module>\u001b[0;34m\u001b[0m\n\u001b[1;32m      8\u001b[0m     D = pm.Potential(\n\u001b[1;32m      9\u001b[0m         \u001b[0;34m\"D\"\u001b[0m\u001b[0;34m,\u001b[0m\u001b[0;34m\u001b[0m\u001b[0;34m\u001b[0m\u001b[0m\n\u001b[0;32m---> 10\u001b[0;31m         likelihood(\n\u001b[0m\u001b[1;32m     11\u001b[0m             \u001b[0mlam\u001b[0m\u001b[0;34m=\u001b[0m\u001b[0mlam\u001b[0m\u001b[0;34m,\u001b[0m \u001b[0mobs_value\u001b[0m\u001b[0;34m=\u001b[0m\u001b[0mdf_cats\u001b[0m\u001b[0;34m[\u001b[0m\u001b[0;34m\"days_to_event\"\u001b[0m\u001b[0;34m]\u001b[0m\u001b[0;34m.\u001b[0m\u001b[0mvalues\u001b[0m\u001b[0;34m,\u001b[0m \u001b[0mcensored\u001b[0m\u001b[0;34m=\u001b[0m\u001b[0mdf_cats\u001b[0m\u001b[0;34m[\u001b[0m\u001b[0;34m\"adopt\"\u001b[0m\u001b[0;34m]\u001b[0m\u001b[0;34m\u001b[0m\u001b[0;34m\u001b[0m\u001b[0m\n\u001b[1;32m     12\u001b[0m         ),\n",
      "\u001b[0;32m<ipython-input-18-47ef6a11e61d>\u001b[0m in \u001b[0;36mlikelihood\u001b[0;34m(lam, obs_value, censored)\u001b[0m\n\u001b[1;32m      1\u001b[0m \u001b[0;32mdef\u001b[0m \u001b[0mlikelihood\u001b[0m\u001b[0;34m(\u001b[0m\u001b[0mlam\u001b[0m\u001b[0;34m,\u001b[0m\u001b[0mobs_value\u001b[0m\u001b[0;34m,\u001b[0m\u001b[0mcensored\u001b[0m\u001b[0;34m)\u001b[0m\u001b[0;34m:\u001b[0m\u001b[0;34m\u001b[0m\u001b[0;34m\u001b[0m\u001b[0m\n\u001b[0;32m----> 2\u001b[0;31m     \u001b[0;32mreturn\u001b[0m \u001b[0;34m(\u001b[0m\u001b[0mcensored\u001b[0m\u001b[0;34m*\u001b[0m\u001b[0mtt\u001b[0m\u001b[0;34m.\u001b[0m\u001b[0mlog\u001b[0m\u001b[0;34m(\u001b[0m\u001b[0mlam\u001b[0m\u001b[0;34m)\u001b[0m \u001b[0;34m-\u001b[0m \u001b[0mlam\u001b[0m \u001b[0;34m*\u001b[0m \u001b[0mobs_value\u001b[0m\u001b[0;34m)\u001b[0m\u001b[0;34m\u001b[0m\u001b[0;34m\u001b[0m\u001b[0m\n\u001b[0m",
      "\u001b[0;31mNameError\u001b[0m: name 'tt' is not defined"
     ]
    },
    {
     "data": {
      "application/javascript": [
       "\n",
       "            setTimeout(function() {\n",
       "                var nbb_cell_id = 20;\n",
       "                var nbb_unformatted_code = \"with pm.Model() as m_cats1:\\n    # priors\\n    a = pm.Normal(\\\"a\\\", 0, 1, shape=2)\\n\\n    mu = pm.math.exp(a[df_cats[\\\"color_id\\\"]])\\n    lam = pm.Deterministic(\\\"lam\\\", 1 / mu)\\n\\n    D = pm.Potential(\\n        \\\"D\\\",\\n        likelihood(\\n            lam=lam, obs_value=df_cats[\\\"days_to_event\\\"].values, censored=df_cats[\\\"adopt\\\"]\\n        ),\\n    )\\n\\n    trace_1 = pm.sample(1000, tune=1000, return_inferencedata=True)\";\n",
       "                var nbb_formatted_code = \"with pm.Model() as m_cats1:\\n    # priors\\n    a = pm.Normal(\\\"a\\\", 0, 1, shape=2)\\n\\n    mu = pm.math.exp(a[df_cats[\\\"color_id\\\"]])\\n    lam = pm.Deterministic(\\\"lam\\\", 1 / mu)\\n\\n    D = pm.Potential(\\n        \\\"D\\\",\\n        likelihood(\\n            lam=lam,\\n            obs_value=df_cats[\\\"days_to_event\\\"].values,\\n            censored=df_cats[\\\"adopt\\\"],\\n        ),\\n    )\\n\\n    trace_1 = pm.sample(1000, tune=1000, return_inferencedata=True)\";\n",
       "                var nbb_cells = Jupyter.notebook.get_cells();\n",
       "                for (var i = 0; i < nbb_cells.length; ++i) {\n",
       "                    if (nbb_cells[i].input_prompt_number == nbb_cell_id) {\n",
       "                        if (nbb_cells[i].get_text() == nbb_unformatted_code) {\n",
       "                             nbb_cells[i].set_text(nbb_formatted_code);\n",
       "                        }\n",
       "                        break;\n",
       "                    }\n",
       "                }\n",
       "            }, 500);\n",
       "            "
      ],
      "text/plain": [
       "<IPython.core.display.Javascript object>"
      ]
     },
     "metadata": {},
     "output_type": "display_data"
    }
   ],
   "source": [
    "with pm.Model() as m_cats1:\n",
    "    # priors\n",
    "    a = pm.Normal(\"a\", 0, 1, shape=2)\n",
    "\n",
    "    mu = pm.math.exp(a[df_cats[\"color_id\"]])\n",
    "    lam = pm.Deterministic(\"lam\", 1 / mu)\n",
    "\n",
    "    D = pm.Potential(\n",
    "        \"D\",\n",
    "        likelihood(\n",
    "            lam=lam,\n",
    "            obs_value=df_cats[\"days_to_event\"].values,\n",
    "            censored=df_cats[\"adopt\"],\n",
    "        ),\n",
    "    )\n",
    "\n",
    "    trace_1 = pm.sample(1000, tune=1000, return_inferencedata=True)"
   ]
  },
  {
   "cell_type": "code",
   "execution_count": null,
   "id": "018375c8",
   "metadata": {},
   "outputs": [],
   "source": []
  },
  {
   "cell_type": "code",
   "execution_count": null,
   "id": "44525530",
   "metadata": {},
   "outputs": [],
   "source": []
  },
  {
   "cell_type": "code",
   "execution_count": null,
   "id": "87ba3786",
   "metadata": {},
   "outputs": [],
   "source": []
  },
  {
   "cell_type": "markdown",
   "id": "occupied-jonathan",
   "metadata": {},
   "source": [
    "# Question 1 (12H7)\n",
    "\n",
    "In the Trolley data—`data(Trolley)`—we saw how education level (modeled as an ordered category) is associated with responses. Is this association causal? One plausible confound is that education is also associated with age, through a causal process: People are older when they finish school than when they begin it.\n",
    "\n",
    "Reconsider the Trolley data in this light. Draw a DAG that represents hypothetical causal relationships among response, education, and age. Which statical model or models do you need to evaluate the causal influence of education on responses? Fit these models to the trolley data. What do you conclude about the causal relationships among these three variables?"
   ]
  },
  {
   "cell_type": "markdown",
   "id": "e5ebf1cf",
   "metadata": {},
   "source": [
    "## Data exploration and setup"
   ]
  },
  {
   "cell_type": "code",
   "execution_count": 24,
   "id": "7f49e286",
   "metadata": {
    "ExecuteTime": {
     "end_time": "2021-07-02T15:13:44.310918Z",
     "start_time": "2021-07-02T15:13:44.282174Z"
    }
   },
   "outputs": [
    {
     "data": {
      "text/html": [
       "<div>\n",
       "<style scoped>\n",
       "    .dataframe tbody tr th:only-of-type {\n",
       "        vertical-align: middle;\n",
       "    }\n",
       "\n",
       "    .dataframe tbody tr th {\n",
       "        vertical-align: top;\n",
       "    }\n",
       "\n",
       "    .dataframe thead th {\n",
       "        text-align: right;\n",
       "    }\n",
       "</style>\n",
       "<table border=\"1\" class=\"dataframe\">\n",
       "  <thead>\n",
       "    <tr style=\"text-align: right;\">\n",
       "      <th></th>\n",
       "      <th>case</th>\n",
       "      <th>response</th>\n",
       "      <th>order</th>\n",
       "      <th>id</th>\n",
       "      <th>age</th>\n",
       "      <th>male</th>\n",
       "      <th>edu</th>\n",
       "      <th>action</th>\n",
       "      <th>intention</th>\n",
       "      <th>contact</th>\n",
       "      <th>story</th>\n",
       "      <th>action2</th>\n",
       "    </tr>\n",
       "  </thead>\n",
       "  <tbody>\n",
       "    <tr>\n",
       "      <th>0</th>\n",
       "      <td>cfaqu</td>\n",
       "      <td>4</td>\n",
       "      <td>2</td>\n",
       "      <td>96;434</td>\n",
       "      <td>14</td>\n",
       "      <td>0</td>\n",
       "      <td>Middle School</td>\n",
       "      <td>0</td>\n",
       "      <td>0</td>\n",
       "      <td>1</td>\n",
       "      <td>aqu</td>\n",
       "      <td>1</td>\n",
       "    </tr>\n",
       "    <tr>\n",
       "      <th>1</th>\n",
       "      <td>cfbur</td>\n",
       "      <td>3</td>\n",
       "      <td>31</td>\n",
       "      <td>96;434</td>\n",
       "      <td>14</td>\n",
       "      <td>0</td>\n",
       "      <td>Middle School</td>\n",
       "      <td>0</td>\n",
       "      <td>0</td>\n",
       "      <td>1</td>\n",
       "      <td>bur</td>\n",
       "      <td>1</td>\n",
       "    </tr>\n",
       "    <tr>\n",
       "      <th>2</th>\n",
       "      <td>cfrub</td>\n",
       "      <td>4</td>\n",
       "      <td>16</td>\n",
       "      <td>96;434</td>\n",
       "      <td>14</td>\n",
       "      <td>0</td>\n",
       "      <td>Middle School</td>\n",
       "      <td>0</td>\n",
       "      <td>0</td>\n",
       "      <td>1</td>\n",
       "      <td>rub</td>\n",
       "      <td>1</td>\n",
       "    </tr>\n",
       "    <tr>\n",
       "      <th>3</th>\n",
       "      <td>cibox</td>\n",
       "      <td>3</td>\n",
       "      <td>32</td>\n",
       "      <td>96;434</td>\n",
       "      <td>14</td>\n",
       "      <td>0</td>\n",
       "      <td>Middle School</td>\n",
       "      <td>0</td>\n",
       "      <td>1</td>\n",
       "      <td>1</td>\n",
       "      <td>box</td>\n",
       "      <td>1</td>\n",
       "    </tr>\n",
       "    <tr>\n",
       "      <th>4</th>\n",
       "      <td>cibur</td>\n",
       "      <td>3</td>\n",
       "      <td>4</td>\n",
       "      <td>96;434</td>\n",
       "      <td>14</td>\n",
       "      <td>0</td>\n",
       "      <td>Middle School</td>\n",
       "      <td>0</td>\n",
       "      <td>1</td>\n",
       "      <td>1</td>\n",
       "      <td>bur</td>\n",
       "      <td>1</td>\n",
       "    </tr>\n",
       "  </tbody>\n",
       "</table>\n",
       "</div>"
      ],
      "text/plain": [
       "    case  response  order      id  age  male            edu  action  \\\n",
       "0  cfaqu         4      2  96;434   14     0  Middle School       0   \n",
       "1  cfbur         3     31  96;434   14     0  Middle School       0   \n",
       "2  cfrub         4     16  96;434   14     0  Middle School       0   \n",
       "3  cibox         3     32  96;434   14     0  Middle School       0   \n",
       "4  cibur         3      4  96;434   14     0  Middle School       0   \n",
       "\n",
       "   intention  contact story  action2  \n",
       "0          0        1   aqu        1  \n",
       "1          0        1   bur        1  \n",
       "2          0        1   rub        1  \n",
       "3          1        1   box        1  \n",
       "4          1        1   bur        1  "
      ]
     },
     "execution_count": 24,
     "metadata": {},
     "output_type": "execute_result"
    },
    {
     "data": {
      "application/javascript": [
       "\n",
       "            setTimeout(function() {\n",
       "                var nbb_cell_id = 24;\n",
       "                var nbb_unformatted_code = \"df_trolley = pd.read_csv(\\n    \\\"../pymc3_ed_resources/resources/Rethinking_2/Data/Trolley.csv\\\",\\n    delimiter=\\\";\\\",\\n)\\ndf_trolley.head()\";\n",
       "                var nbb_formatted_code = \"df_trolley = pd.read_csv(\\n    \\\"../pymc3_ed_resources/resources/Rethinking_2/Data/Trolley.csv\\\",\\n    delimiter=\\\";\\\",\\n)\\ndf_trolley.head()\";\n",
       "                var nbb_cells = Jupyter.notebook.get_cells();\n",
       "                for (var i = 0; i < nbb_cells.length; ++i) {\n",
       "                    if (nbb_cells[i].input_prompt_number == nbb_cell_id) {\n",
       "                        if (nbb_cells[i].get_text() == nbb_unformatted_code) {\n",
       "                             nbb_cells[i].set_text(nbb_formatted_code);\n",
       "                        }\n",
       "                        break;\n",
       "                    }\n",
       "                }\n",
       "            }, 500);\n",
       "            "
      ],
      "text/plain": [
       "<IPython.core.display.Javascript object>"
      ]
     },
     "metadata": {},
     "output_type": "display_data"
    }
   ],
   "source": [
    "df_trolley = pd.read_csv(\n",
    "    \"../pymc3_ed_resources/resources/Rethinking_2/Data/Trolley.csv\",\n",
    "    delimiter=\";\",\n",
    ")\n",
    "df_trolley.head()"
   ]
  },
  {
   "cell_type": "code",
   "execution_count": 25,
   "id": "solid-grove",
   "metadata": {
    "ExecuteTime": {
     "end_time": "2021-07-02T15:13:44.460386Z",
     "start_time": "2021-07-02T15:13:44.453882Z"
    }
   },
   "outputs": [
    {
     "name": "stdout",
     "output_type": "stream",
     "text": [
      "shape of df:  (9930, 12)\n"
     ]
    },
    {
     "data": {
      "application/javascript": [
       "\n",
       "            setTimeout(function() {\n",
       "                var nbb_cell_id = 25;\n",
       "                var nbb_unformatted_code = \"print(\\\"shape of df: \\\", df_trolley.shape)\";\n",
       "                var nbb_formatted_code = \"print(\\\"shape of df: \\\", df_trolley.shape)\";\n",
       "                var nbb_cells = Jupyter.notebook.get_cells();\n",
       "                for (var i = 0; i < nbb_cells.length; ++i) {\n",
       "                    if (nbb_cells[i].input_prompt_number == nbb_cell_id) {\n",
       "                        if (nbb_cells[i].get_text() == nbb_unformatted_code) {\n",
       "                             nbb_cells[i].set_text(nbb_formatted_code);\n",
       "                        }\n",
       "                        break;\n",
       "                    }\n",
       "                }\n",
       "            }, 500);\n",
       "            "
      ],
      "text/plain": [
       "<IPython.core.display.Javascript object>"
      ]
     },
     "metadata": {},
     "output_type": "display_data"
    }
   ],
   "source": [
    "print(\"shape of df: \", df_trolley.shape)"
   ]
  },
  {
   "cell_type": "markdown",
   "id": "7ee3c0e7",
   "metadata": {},
   "source": [
    "## DAG"
   ]
  },
  {
   "cell_type": "code",
   "execution_count": 28,
   "id": "680e675a",
   "metadata": {
    "ExecuteTime": {
     "end_time": "2021-07-02T15:16:46.797674Z",
     "start_time": "2021-07-02T15:16:46.688429Z"
    }
   },
   "outputs": [
    {
     "data": {
      "text/plain": [
       "<matplotlib.axes._axes.Axes at 0x7fe009eb6310>"
      ]
     },
     "execution_count": 28,
     "metadata": {},
     "output_type": "execute_result"
    },
    {
     "name": "stderr",
     "output_type": "stream",
     "text": [
      "/Users/blacar/opt/anaconda3/envs/stats_rethinking/lib/python3.8/site-packages/IPython/core/pylabtools.py:132: UserWarning: Calling figure.constrained_layout, but figure not setup to do constrained layout.  You either called GridSpec without the fig keyword, you are using plt.subplot, or you need to call figure or subplots with the constrained_layout=True kwarg.\n",
      "  fig.canvas.print_figure(bytes_io, **kw)\n"
     ]
    },
    {
     "data": {
      "image/png": "[encoded data removed]",
      "text/plain": [
       "<Figure size 212.598x133.858 with 1 Axes>"
      ]
     },
     "metadata": {
      "image/png": {
       "height": 153,
       "width": 232
      }
     },
     "output_type": "display_data"
    },
    {
     "data": {
      "application/javascript": [
       "\n",
       "            setTimeout(function() {\n",
       "                var nbb_cell_id = 28;\n",
       "                var nbb_unformatted_code = \"pipe_dag = CausalGraphicalModel(\\n    nodes=[\\\"E\\\", \\\"A\\\", \\\"R\\\"],\\n    edges=[\\n        (\\\"E\\\", \\\"A\\\"),\\n        (\\\"A\\\", \\\"R\\\"),\\n        (\\\"E\\\", \\\"R\\\"),\\n    ],\\n)\\npgm = daft.PGM()\\n\\ncoordinates = {\\n    \\\"E\\\": (0, 0),\\n    \\\"A\\\": (1, 1),\\n    \\\"R\\\": (2, 0),\\n}\\nfor node in pipe_dag.dag.nodes:\\n    pgm.add_node(node, node, *coordinates[node])\\nfor edge in pipe_dag.dag.edges:\\n    pgm.add_edge(*edge)\\npgm.render()\";\n",
       "                var nbb_formatted_code = \"pipe_dag = CausalGraphicalModel(\\n    nodes=[\\\"E\\\", \\\"A\\\", \\\"R\\\"],\\n    edges=[\\n        (\\\"E\\\", \\\"A\\\"),\\n        (\\\"A\\\", \\\"R\\\"),\\n        (\\\"E\\\", \\\"R\\\"),\\n    ],\\n)\\npgm = daft.PGM()\\n\\ncoordinates = {\\n    \\\"E\\\": (0, 0),\\n    \\\"A\\\": (1, 1),\\n    \\\"R\\\": (2, 0),\\n}\\nfor node in pipe_dag.dag.nodes:\\n    pgm.add_node(node, node, *coordinates[node])\\nfor edge in pipe_dag.dag.edges:\\n    pgm.add_edge(*edge)\\npgm.render()\";\n",
       "                var nbb_cells = Jupyter.notebook.get_cells();\n",
       "                for (var i = 0; i < nbb_cells.length; ++i) {\n",
       "                    if (nbb_cells[i].input_prompt_number == nbb_cell_id) {\n",
       "                        if (nbb_cells[i].get_text() == nbb_unformatted_code) {\n",
       "                             nbb_cells[i].set_text(nbb_formatted_code);\n",
       "                        }\n",
       "                        break;\n",
       "                    }\n",
       "                }\n",
       "            }, 500);\n",
       "            "
      ],
      "text/plain": [
       "<IPython.core.display.Javascript object>"
      ]
     },
     "metadata": {},
     "output_type": "display_data"
    }
   ],
   "source": [
    "pipe_dag = CausalGraphicalModel(\n",
    "    nodes=[\"E\", \"A\", \"R\"],\n",
    "    edges=[\n",
    "        (\"E\", \"A\"),\n",
    "        (\"A\", \"R\"),\n",
    "        (\"E\", \"R\"),\n",
    "    ],\n",
    ")\n",
    "pgm = daft.PGM()\n",
    "\n",
    "coordinates = {\n",
    "    \"E\": (0, 0),\n",
    "    \"A\": (1, 1),\n",
    "    \"R\": (2, 0),\n",
    "}\n",
    "for node in pipe_dag.dag.nodes:\n",
    "    pgm.add_node(node, node, *coordinates[node])\n",
    "for edge in pipe_dag.dag.edges:\n",
    "    pgm.add_edge(*edge)\n",
    "pgm.render()\n"
   ]
  },
  {
   "cell_type": "markdown",
   "id": "6c695046",
   "metadata": {},
   "source": [
    "## Naive approach"
   ]
  },
  {
   "cell_type": "markdown",
   "id": "5355fd7b",
   "metadata": {},
   "source": [
    "Before even tackling the DAG, I wanted to contrast it with what I would've done if I were naive to the methods of this chapter (or even the whole book). Here is how I'd approach it. I suppose I'd simply do a comparison of each department for gender."
   ]
  },
  {
   "cell_type": "code",
   "execution_count": 9,
   "id": "c8933423",
   "metadata": {
    "ExecuteTime": {
     "end_time": "2021-06-23T14:35:14.541447Z",
     "start_time": "2021-06-23T14:35:14.526021Z"
    }
   },
   "outputs": [
    {
     "data": {
      "text/html": [
       "<div>\n",
       "<style scoped>\n",
       "    .dataframe tbody tr th:only-of-type {\n",
       "        vertical-align: middle;\n",
       "    }\n",
       "\n",
       "    .dataframe tbody tr th {\n",
       "        vertical-align: top;\n",
       "    }\n",
       "\n",
       "    .dataframe thead th {\n",
       "        text-align: right;\n",
       "    }\n",
       "</style>\n",
       "<table border=\"1\" class=\"dataframe\">\n",
       "  <thead>\n",
       "    <tr style=\"text-align: right;\">\n",
       "      <th></th>\n",
       "      <th>discipline</th>\n",
       "      <th>gender</th>\n",
       "      <th>applications</th>\n",
       "      <th>awards</th>\n",
       "      <th>prop_awarded</th>\n",
       "    </tr>\n",
       "  </thead>\n",
       "  <tbody>\n",
       "    <tr>\n",
       "      <th>0</th>\n",
       "      <td>Chemical sciences</td>\n",
       "      <td>m</td>\n",
       "      <td>83</td>\n",
       "      <td>22</td>\n",
       "      <td>0.265060</td>\n",
       "    </tr>\n",
       "    <tr>\n",
       "      <th>1</th>\n",
       "      <td>Chemical sciences</td>\n",
       "      <td>f</td>\n",
       "      <td>39</td>\n",
       "      <td>10</td>\n",
       "      <td>0.256410</td>\n",
       "    </tr>\n",
       "    <tr>\n",
       "      <th>2</th>\n",
       "      <td>Physical sciences</td>\n",
       "      <td>m</td>\n",
       "      <td>135</td>\n",
       "      <td>26</td>\n",
       "      <td>0.192593</td>\n",
       "    </tr>\n",
       "    <tr>\n",
       "      <th>3</th>\n",
       "      <td>Physical sciences</td>\n",
       "      <td>f</td>\n",
       "      <td>39</td>\n",
       "      <td>9</td>\n",
       "      <td>0.230769</td>\n",
       "    </tr>\n",
       "    <tr>\n",
       "      <th>4</th>\n",
       "      <td>Physics</td>\n",
       "      <td>m</td>\n",
       "      <td>67</td>\n",
       "      <td>18</td>\n",
       "      <td>0.268657</td>\n",
       "    </tr>\n",
       "  </tbody>\n",
       "</table>\n",
       "</div>"
      ],
      "text/plain": [
       "          discipline gender  applications  awards  prop_awarded\n",
       "0  Chemical sciences      m            83      22      0.265060\n",
       "1  Chemical sciences      f            39      10      0.256410\n",
       "2  Physical sciences      m           135      26      0.192593\n",
       "3  Physical sciences      f            39       9      0.230769\n",
       "4            Physics      m            67      18      0.268657"
      ]
     },
     "execution_count": 9,
     "metadata": {},
     "output_type": "execute_result"
    },
    {
     "data": {
      "application/javascript": [
       "\n",
       "            setTimeout(function() {\n",
       "                var nbb_cell_id = 9;\n",
       "                var nbb_unformatted_code = \"df_grants[\\\"prop_awarded\\\"] = df_grants[\\\"awards\\\"] / df_grants[\\\"applications\\\"]\\ndf_grants.head()\";\n",
       "                var nbb_formatted_code = \"df_grants[\\\"prop_awarded\\\"] = df_grants[\\\"awards\\\"] / df_grants[\\\"applications\\\"]\\ndf_grants.head()\";\n",
       "                var nbb_cells = Jupyter.notebook.get_cells();\n",
       "                for (var i = 0; i < nbb_cells.length; ++i) {\n",
       "                    if (nbb_cells[i].input_prompt_number == nbb_cell_id) {\n",
       "                        if (nbb_cells[i].get_text() == nbb_unformatted_code) {\n",
       "                             nbb_cells[i].set_text(nbb_formatted_code);\n",
       "                        }\n",
       "                        break;\n",
       "                    }\n",
       "                }\n",
       "            }, 500);\n",
       "            "
      ],
      "text/plain": [
       "<IPython.core.display.Javascript object>"
      ]
     },
     "metadata": {},
     "output_type": "display_data"
    }
   ],
   "source": [
    "df_grants[\"prop_awarded\"] = df_grants[\"awards\"] / df_grants[\"applications\"]\n",
    "df_grants.head()"
   ]
  },
  {
   "cell_type": "markdown",
   "id": "1829e536",
   "metadata": {},
   "source": [
    "Then I suppose I'd do like a difference in proportions test, like shown at the bottom of [this statsmodels z-test page](https://www.statsmodels.org/stable/generated/statsmodels.stats.proportion.proportions_ztest.html)."
   ]
  },
  {
   "cell_type": "code",
   "execution_count": 10,
   "id": "2ebf7b3b",
   "metadata": {
    "ExecuteTime": {
     "end_time": "2021-06-23T14:35:16.088213Z",
     "start_time": "2021-06-23T14:35:16.039492Z"
    }
   },
   "outputs": [
    {
     "name": "stdout",
     "output_type": "stream",
     "text": [
      "Chemical sciences 0.919 M\n",
      "Physical sciences 0.600 F\n",
      "Physics 0.766 M\n",
      "Humanities 0.191 F\n",
      "Technical sciences 0.356 F\n",
      "Interdisciplinary 0.058 F\n",
      "Earth/life sciences 0.035 M\n",
      "Social sciences 0.107 M\n",
      "Medical sciences 0.016 M\n"
     ]
    },
    {
     "data": {
      "application/javascript": [
       "\n",
       "            setTimeout(function() {\n",
       "                var nbb_cell_id = 10;\n",
       "                var nbb_unformatted_code = \"from statsmodels.stats.proportion import proportions_ztest\\n\\nztest_pval = list()\\ncount_list = np.array(df_grants['awards'])\\nnobs_list = np.array(df_grants['applications'])\\nfor i in range(0, len(df_grants), 2):\\n    #print(i)\\n    stat, pval = proportions_ztest(df_grants.loc[i : i + 1, \\\"awards\\\"], df_grants.loc[i:i+1, 'applications'])\\n    ztest_pval.append(pval)\\n    if df_grants.loc[i, \\\"prop_awarded\\\"] > df_grants.loc[i + 1, \\\"prop_awarded\\\"]:\\n        higher_gender = \\\"M\\\"\\n    else:\\n        higher_gender = 'F'\\n    print(df_grants.loc[i, \\\"discipline\\\"], '{0:0.3f}'.format(pval), higher_gender)\\n    \";\n",
       "                var nbb_formatted_code = \"from statsmodels.stats.proportion import proportions_ztest\\n\\nztest_pval = list()\\ncount_list = np.array(df_grants[\\\"awards\\\"])\\nnobs_list = np.array(df_grants[\\\"applications\\\"])\\nfor i in range(0, len(df_grants), 2):\\n    # print(i)\\n    stat, pval = proportions_ztest(\\n        df_grants.loc[i : i + 1, \\\"awards\\\"], df_grants.loc[i : i + 1, \\\"applications\\\"]\\n    )\\n    ztest_pval.append(pval)\\n    if df_grants.loc[i, \\\"prop_awarded\\\"] > df_grants.loc[i + 1, \\\"prop_awarded\\\"]:\\n        higher_gender = \\\"M\\\"\\n    else:\\n        higher_gender = \\\"F\\\"\\n    print(df_grants.loc[i, \\\"discipline\\\"], \\\"{0:0.3f}\\\".format(pval), higher_gender)\";\n",
       "                var nbb_cells = Jupyter.notebook.get_cells();\n",
       "                for (var i = 0; i < nbb_cells.length; ++i) {\n",
       "                    if (nbb_cells[i].input_prompt_number == nbb_cell_id) {\n",
       "                        if (nbb_cells[i].get_text() == nbb_unformatted_code) {\n",
       "                             nbb_cells[i].set_text(nbb_formatted_code);\n",
       "                        }\n",
       "                        break;\n",
       "                    }\n",
       "                }\n",
       "            }, 500);\n",
       "            "
      ],
      "text/plain": [
       "<IPython.core.display.Javascript object>"
      ]
     },
     "metadata": {},
     "output_type": "display_data"
    }
   ],
   "source": [
    "from statsmodels.stats.proportion import proportions_ztest\n",
    "\n",
    "ztest_pval = list()\n",
    "count_list = np.array(df_grants['awards'])\n",
    "nobs_list = np.array(df_grants['applications'])\n",
    "for i in range(0, len(df_grants), 2):\n",
    "    #print(i)\n",
    "    stat, pval = proportions_ztest(df_grants.loc[i : i + 1, \"awards\"], df_grants.loc[i:i+1, 'applications'])\n",
    "    ztest_pval.append(pval)\n",
    "    if df_grants.loc[i, \"prop_awarded\"] > df_grants.loc[i + 1, \"prop_awarded\"]:\n",
    "        higher_gender = \"M\"\n",
    "    else:\n",
    "        higher_gender = 'F'\n",
    "    print(df_grants.loc[i, \"discipline\"], '{0:0.3f}'.format(pval), higher_gender)\n",
    "    \n"
   ]
  },
  {
   "cell_type": "markdown",
   "id": "d85e4c74",
   "metadata": {},
   "source": [
    "I might conclude that \"Medical sciences\" and \"Interdisciplinary\" have evidence of bias, but this would be unsatisfying of course. For one, I have ignored the raw counts (number of applications and awards). Intuitively, a higher n would give more confidence in the proportion. Now I can go deeper with the GLM tools I've learned in these chapters."
   ]
  },
  {
   "cell_type": "markdown",
   "id": "87909a69",
   "metadata": {
    "ExecuteTime": {
     "end_time": "2021-07-02T15:21:09.042979Z",
     "start_time": "2021-07-02T15:21:09.038970Z"
    }
   },
   "source": [
    "# Following template\n",
    "\n",
    "## Model equation\n",
    "\n",
    "## Simulate\n",
    "\n",
    "## Prior predictions\n",
    "\n",
    "## Generate posterior\n",
    "\n",
    "## Evaluate chain and posterior\n",
    "\n",
    "## Posterior predictions\n",
    "\n",
    "## Summary statement"
   ]
  },
  {
   "cell_type": "code",
   "execution_count": null,
   "id": "0e72e11c",
   "metadata": {},
   "outputs": [],
   "source": []
  },
  {
   "cell_type": "code",
   "execution_count": null,
   "id": "a51d0944",
   "metadata": {},
   "outputs": [],
   "source": []
  },
  {
   "cell_type": "markdown",
   "id": "dc688413",
   "metadata": {},
   "source": [
    "# Principled approach and seeing how entropy applies"
   ]
  },
  {
   "cell_type": "markdown",
   "id": "695d5ec5",
   "metadata": {},
   "source": [
    "Essentially, this is how we know the counts and have observed values for the number of awards."
   ]
  },
  {
   "cell_type": "markdown",
   "id": "0a6c1cf0",
   "metadata": {},
   "source": [
    "[PSU Stat explanation](https://online.stat.psu.edu/stat504/lesson/6/6.1)\n",
    "\n",
    "This took me a long time to wrap my head around... but the key is going back to one of the early lessons and thinking about model strategy. Think about what's known, unknown, what's the generative process, and think about what you're trying to find out.\n",
    "\n",
    "Here, we're ultimately trying to find p.    "
   ]
  },
  {
   "cell_type": "markdown",
   "id": "d26820f1",
   "metadata": {},
   "source": [
    "## Generalized linear model\n",
    "\n",
    "The structure of the generalized linear model with a binomial likelihood is something like this:\n",
    "\n",
    "$$y_i ∼ \\text{Binomial}(n, pi) \\tag{likelihood}$$\n",
    "<br>\n",
    "$$  f(p_i) = \\text{logit}(p_i) = \\alpha + \\beta x_i \\tag{link function}$$    \n",
    "\n",
    "The **logit link** function can be expanded as the logit is defined as log-odds:\n",
    "\n",
    "$$  \\text{logit}(p_i) = \\text{log}\\frac{p_i}{1-p_i} \\tag{link function}$$\n",
    "\n",
    "\n",
    "We can then simply solve for \\(p_i\\):\n",
    "\n",
    "$$  p_i = \\frac{\\text{exp}(\\alpha + \\beta x_i)}{1 + \\text{exp}(\\alpha + \\beta x_i)} \\tag{logistic or inverse-logit}$$\n",
    "\n",
    "Here are some useful snippets from the book that resonated with me:\n",
    "\n",
    "> A unit change in xi may produce a larger or smaller change in the probability pi, depending upon how far from zero the log-odds are.\n",
    "<br>\n",
    "...The key lesson for now is just that no regression coefficient, such as β, from a GLM ever produces a constant change on the outcome scale.\n",
    "...Recall that we defined interaction (Chapter 8) as a situation in which the effect of a predictor depends upon the value of another predictor. Well now every predictor essentially interacts with itself, because the impact of a change in a predictor depends upon the value of the predictor before the change. More generally, every predictor variable effectively interacts with every other predictor variable, whether you explicitly model them as interactions or not. This fact makes the visualization of counter-factual predictions even more important for understanding what the model is telling you."
   ]
  },
  {
   "cell_type": "markdown",
   "id": "26396388",
   "metadata": {},
   "source": [
    "**When looking at the original problem, a question that occurred to me is: How is it that we're ultimately interested in proportions but the likelihood, which is a binomial distribution, has an x-axis of counts?**\n",
    "\n",
    "As a result of starting with my naive approach, where my intuition was to calculate the proportions awarded for each gender, one of the insights I had just now is that the proportion in our GLM is not the outcome variable of the first likelihood function (which is a binominal distribution resulting in counts). Rather it is in the second likelihood function, the link function. The predictive plots in the book's examples all show proportions as the unit of interest, which makes sense. So how is it that we're modeling counts? (Why do we use  binomial rather than something like beta which does proportions as an outcome variable? I'm not sure.)\n",
    "\n",
    "Here are some thoughts that occurred to me as I attempted to answer my own question:\n",
    "1. Even if we were to use a beta distribution, we do not have the actual counts for successes/failures or total. In this example, it would be the number of awarded grants and total applications. The binomial distribution includes this information.\n",
    "2. The observed data are counts. This approach at least satisfies one of the weaknesses I had in my naive approach (just doing a z-test of proportions).\n",
    "3. The parameter $p_i$ is unknown and unobserved. It reminded me of [this slide](https://youtu.be/XoVtOAN0htU?list=PLDcUM9US4XdNM4Edgs7weiyIguLSToZRI&t=1422) in one of the first lectures, listing observed and unobserved variables and describing the generative relations as part of the construction perspective.\n",
    "\n",
    "Other thoughts:\n",
    "- Even if we \"push things through the GLM\" to make predictions, it still seems like proportions are what we evaluate and not counts, which is at the end of the predictive engine.\n",
    "\n",
    "Let's proceed with the problem solving template that the book lays out, but we will come back to this."
   ]
  },
  {
   "cell_type": "markdown",
   "id": "a8e38eb7",
   "metadata": {},
   "source": [
    "## Counts vs. probability in likelihood"
   ]
  },
  {
   "cell_type": "markdown",
   "id": "87f46e87",
   "metadata": {},
   "source": [
    "After asking the Discord channel and thinking things through, I'm beginning to understand a little bit more the role of the likelihood....but still have to think about it a lot.\n",
    "\n",
    "I have to remember the definition of likelihood: it is the relative plausibility of an observation. The counts in this example are observed, hence the logic of using binomial.\n",
    "\n",
    "In previous examples that were using Gaussian distribution, the units of the likelihood matched the units of our desired predictions.\n",
    "\n",
    "Keep moving forward."
   ]
  },
  {
   "cell_type": "markdown",
   "id": "a9f47991",
   "metadata": {},
   "source": [
    "## Setting up the problem, gender term only\n",
    "\n",
    "This setup and code was modeled on R code 11.29 from the book and also from the pymc repo."
   ]
  },
  {
   "cell_type": "markdown",
   "id": "81f9dd1f",
   "metadata": {},
   "source": [
    "Let's start first with a simple GLM that only focuses on gender. We have an aggregated binomial data structure and therefore the model looks like this:\n",
    "\n",
    "$$ A_i \\sim \\text{Binomial}(N_i, p_i) $$\n",
    "$$ \\text{logit}(p_i) = \\alpha_{GID[i]} $$\n",
    "$$ \\alpha_j \\sim \\text{Normal}(0, 1.5) $$    \n",
    "\n",
    "We first need to create index variables. We'll use `pd.Categorical`."
   ]
  },
  {
   "cell_type": "code",
   "execution_count": 35,
   "id": "912db29d",
   "metadata": {
    "ExecuteTime": {
     "end_time": "2021-06-23T14:48:22.910809Z",
     "start_time": "2021-06-23T14:48:22.903259Z"
    }
   },
   "outputs": [
    {
     "data": {
      "application/javascript": [
       "\n",
       "            setTimeout(function() {\n",
       "                var nbb_cell_id = 35;\n",
       "                var nbb_unformatted_code = \"# Used categories argument to specify m as 0 and f as 1 per the book (1 and 2, respectively in R code)\\ndf_grants[\\\"gender_code\\\"] = pd.Categorical(\\n    df_grants[\\\"gender\\\"], categories=[\\\"m\\\", \\\"f\\\"]\\n).codes\";\n",
       "                var nbb_formatted_code = \"# Used categories argument to specify m as 0 and f as 1 per the book (1 and 2, respectively in R code)\\ndf_grants[\\\"gender_code\\\"] = pd.Categorical(\\n    df_grants[\\\"gender\\\"], categories=[\\\"m\\\", \\\"f\\\"]\\n).codes\";\n",
       "                var nbb_cells = Jupyter.notebook.get_cells();\n",
       "                for (var i = 0; i < nbb_cells.length; ++i) {\n",
       "                    if (nbb_cells[i].input_prompt_number == nbb_cell_id) {\n",
       "                        if (nbb_cells[i].get_text() == nbb_unformatted_code) {\n",
       "                             nbb_cells[i].set_text(nbb_formatted_code);\n",
       "                        }\n",
       "                        break;\n",
       "                    }\n",
       "                }\n",
       "            }, 500);\n",
       "            "
      ],
      "text/plain": [
       "<IPython.core.display.Javascript object>"
      ]
     },
     "metadata": {},
     "output_type": "display_data"
    }
   ],
   "source": [
    "# Used categories argument to specify m as 0 and f as 1 per the book (1 and 2, respectively in R code)\n",
    "df_grants[\"gender_code\"] = pd.Categorical(\n",
    "    df_grants[\"gender\"], categories=[\"m\", \"f\"]\n",
    ").codes"
   ]
  },
  {
   "cell_type": "markdown",
   "id": "0aa88c86",
   "metadata": {},
   "source": [
    "Our dataframe now looks like this. Note that males are designated as 0 and females as 1."
   ]
  },
  {
   "cell_type": "code",
   "execution_count": 36,
   "id": "4c9ba387",
   "metadata": {
    "ExecuteTime": {
     "end_time": "2021-06-23T14:48:23.711125Z",
     "start_time": "2021-06-23T14:48:23.702238Z"
    }
   },
   "outputs": [
    {
     "data": {
      "text/html": [
       "<div>\n",
       "<style scoped>\n",
       "    .dataframe tbody tr th:only-of-type {\n",
       "        vertical-align: middle;\n",
       "    }\n",
       "\n",
       "    .dataframe tbody tr th {\n",
       "        vertical-align: top;\n",
       "    }\n",
       "\n",
       "    .dataframe thead th {\n",
       "        text-align: right;\n",
       "    }\n",
       "</style>\n",
       "<table border=\"1\" class=\"dataframe\">\n",
       "  <thead>\n",
       "    <tr style=\"text-align: right;\">\n",
       "      <th></th>\n",
       "      <th>discipline</th>\n",
       "      <th>gender</th>\n",
       "      <th>applications</th>\n",
       "      <th>awards</th>\n",
       "      <th>prop_awarded</th>\n",
       "      <th>discipline_code</th>\n",
       "      <th>gender_code</th>\n",
       "    </tr>\n",
       "  </thead>\n",
       "  <tbody>\n",
       "    <tr>\n",
       "      <th>0</th>\n",
       "      <td>Chemical sciences</td>\n",
       "      <td>m</td>\n",
       "      <td>83</td>\n",
       "      <td>22</td>\n",
       "      <td>0.265060</td>\n",
       "      <td>0</td>\n",
       "      <td>0</td>\n",
       "    </tr>\n",
       "    <tr>\n",
       "      <th>1</th>\n",
       "      <td>Chemical sciences</td>\n",
       "      <td>f</td>\n",
       "      <td>39</td>\n",
       "      <td>10</td>\n",
       "      <td>0.256410</td>\n",
       "      <td>0</td>\n",
       "      <td>1</td>\n",
       "    </tr>\n",
       "    <tr>\n",
       "      <th>2</th>\n",
       "      <td>Physical sciences</td>\n",
       "      <td>m</td>\n",
       "      <td>135</td>\n",
       "      <td>26</td>\n",
       "      <td>0.192593</td>\n",
       "      <td>5</td>\n",
       "      <td>0</td>\n",
       "    </tr>\n",
       "    <tr>\n",
       "      <th>3</th>\n",
       "      <td>Physical sciences</td>\n",
       "      <td>f</td>\n",
       "      <td>39</td>\n",
       "      <td>9</td>\n",
       "      <td>0.230769</td>\n",
       "      <td>5</td>\n",
       "      <td>1</td>\n",
       "    </tr>\n",
       "    <tr>\n",
       "      <th>4</th>\n",
       "      <td>Physics</td>\n",
       "      <td>m</td>\n",
       "      <td>67</td>\n",
       "      <td>18</td>\n",
       "      <td>0.268657</td>\n",
       "      <td>6</td>\n",
       "      <td>0</td>\n",
       "    </tr>\n",
       "  </tbody>\n",
       "</table>\n",
       "</div>"
      ],
      "text/plain": [
       "          discipline gender  applications  awards  prop_awarded  \\\n",
       "0  Chemical sciences      m            83      22      0.265060   \n",
       "1  Chemical sciences      f            39      10      0.256410   \n",
       "2  Physical sciences      m           135      26      0.192593   \n",
       "3  Physical sciences      f            39       9      0.230769   \n",
       "4            Physics      m            67      18      0.268657   \n",
       "\n",
       "   discipline_code  gender_code  \n",
       "0                0            0  \n",
       "1                0            1  \n",
       "2                5            0  \n",
       "3                5            1  \n",
       "4                6            0  "
      ]
     },
     "execution_count": 36,
     "metadata": {},
     "output_type": "execute_result"
    },
    {
     "data": {
      "application/javascript": [
       "\n",
       "            setTimeout(function() {\n",
       "                var nbb_cell_id = 36;\n",
       "                var nbb_unformatted_code = \"df_grants.head()\";\n",
       "                var nbb_formatted_code = \"df_grants.head()\";\n",
       "                var nbb_cells = Jupyter.notebook.get_cells();\n",
       "                for (var i = 0; i < nbb_cells.length; ++i) {\n",
       "                    if (nbb_cells[i].input_prompt_number == nbb_cell_id) {\n",
       "                        if (nbb_cells[i].get_text() == nbb_unformatted_code) {\n",
       "                             nbb_cells[i].set_text(nbb_formatted_code);\n",
       "                        }\n",
       "                        break;\n",
       "                    }\n",
       "                }\n",
       "            }, 500);\n",
       "            "
      ],
      "text/plain": [
       "<IPython.core.display.Javascript object>"
      ]
     },
     "metadata": {},
     "output_type": "display_data"
    }
   ],
   "source": [
    "df_grants.head()"
   ]
  },
  {
   "cell_type": "code",
   "execution_count": 280,
   "id": "1ae63bff",
   "metadata": {
    "ExecuteTime": {
     "end_time": "2021-06-25T20:26:14.846821Z",
     "start_time": "2021-06-25T20:26:14.841426Z"
    }
   },
   "outputs": [
    {
     "data": {
      "text/latex": [
       "$$\n",
       "                \\begin{array}{rcl}\n",
       "                \\text{a} &\\sim & \\text{Normal}\\\\\\text{p} &\\sim & \\text{Deterministic}\\\\\\text{award} &\\sim & \\text{Binomial}\n",
       "                \\end{array}\n",
       "                $$"
      ],
      "text/plain": [
       "<pymc3.model.Model at 0x7f98209c1850>"
      ]
     },
     "execution_count": 280,
     "metadata": {},
     "output_type": "execute_result"
    },
    {
     "data": {
      "application/javascript": [
       "\n",
       "            setTimeout(function() {\n",
       "                var nbb_cell_id = 280;\n",
       "                var nbb_unformatted_code = \"glm1\";\n",
       "                var nbb_formatted_code = \"glm1\";\n",
       "                var nbb_cells = Jupyter.notebook.get_cells();\n",
       "                for (var i = 0; i < nbb_cells.length; ++i) {\n",
       "                    if (nbb_cells[i].input_prompt_number == nbb_cell_id) {\n",
       "                        if (nbb_cells[i].get_text() == nbb_unformatted_code) {\n",
       "                             nbb_cells[i].set_text(nbb_formatted_code);\n",
       "                        }\n",
       "                        break;\n",
       "                    }\n",
       "                }\n",
       "            }, 500);\n",
       "            "
      ],
      "text/plain": [
       "<IPython.core.display.Javascript object>"
      ]
     },
     "metadata": {},
     "output_type": "display_data"
    }
   ],
   "source": [
    "glm1"
   ]
  },
  {
   "cell_type": "code",
   "execution_count": 37,
   "id": "b5c2f215",
   "metadata": {
    "ExecuteTime": {
     "end_time": "2021-06-23T14:48:40.639388Z",
     "start_time": "2021-06-23T14:48:25.979387Z"
    }
   },
   "outputs": [
    {
     "name": "stderr",
     "output_type": "stream",
     "text": [
      "Auto-assigning NUTS sampler...\n",
      "Initializing NUTS using jitter+adapt_diag...\n",
      "Multiprocess sampling (4 chains in 4 jobs)\n",
      "NUTS: [a]\n"
     ]
    },
    {
     "data": {
      "text/html": [
       "\n",
       "    <div>\n",
       "        <style>\n",
       "            /* Turns off some styling */\n",
       "            progress {\n",
       "                /* gets rid of default border in Firefox and Opera. */\n",
       "                border: none;\n",
       "                /* Needs to be in here for Safari polyfill so background images work as expected. */\n",
       "                background-size: auto;\n",
       "            }\n",
       "            .progress-bar-interrupted, .progress-bar-interrupted::-webkit-progress-bar {\n",
       "                background: #F44336;\n",
       "            }\n",
       "        </style>\n",
       "      <progress value='8000' class='' max='8000' style='width:300px; height:20px; vertical-align: middle;'></progress>\n",
       "      100.00% [8000/8000 00:02<00:00 Sampling 4 chains, 0 divergences]\n",
       "    </div>\n",
       "    "
      ],
      "text/plain": [
       "<IPython.core.display.HTML object>"
      ]
     },
     "metadata": {},
     "output_type": "display_data"
    },
    {
     "name": "stderr",
     "output_type": "stream",
     "text": [
      "Sampling 4 chains for 1_000 tune and 1_000 draw iterations (4_000 + 4_000 draws total) took 12 seconds.\n"
     ]
    },
    {
     "data": {
      "application/javascript": [
       "\n",
       "            setTimeout(function() {\n",
       "                var nbb_cell_id = 37;\n",
       "                var nbb_unformatted_code = \"with pm.Model() as glm1:\\n    #  Prior for the alpha term\\n    # a = pm.Normal(\\\"a\\\", 0, 1.5, shape=2)   # My choice from UCB example\\n    # Changed due to solutions (from domain knowledge that less than half of applicants get awards)\\n    a = pm.Normal(\\\"a\\\", -1, 1, shape=2)\\n\\n    # The link function\\n    # Note difference from R code: logit(p) <- a[gid]\\n    p = pm.Deterministic(\\\"p\\\", pm.math.invlogit(a[df_grants[\\\"gender_code\\\"]]))\\n\\n    # Likelihood\\n    award = pm.Binomial(\\n        \\\"award\\\", p=p, n=df_grants[\\\"applications\\\"], observed=df_grants[\\\"awards\\\"]\\n    )\\n\\n    trace_glm1 = pm.sample(\\n        1000, tune=1000, return_inferencedata=True\\n    )  # used arguments I've used before\";\n",
       "                var nbb_formatted_code = \"with pm.Model() as glm1:\\n    #  Prior for the alpha term\\n    # a = pm.Normal(\\\"a\\\", 0, 1.5, shape=2)   # My choice from UCB example\\n    # Changed due to solutions (from domain knowledge that less than half of applicants get awards)\\n    a = pm.Normal(\\\"a\\\", -1, 1, shape=2)\\n\\n    # The link function\\n    # Note difference from R code: logit(p) <- a[gid]\\n    p = pm.Deterministic(\\\"p\\\", pm.math.invlogit(a[df_grants[\\\"gender_code\\\"]]))\\n\\n    # Likelihood\\n    award = pm.Binomial(\\n        \\\"award\\\", p=p, n=df_grants[\\\"applications\\\"], observed=df_grants[\\\"awards\\\"]\\n    )\\n\\n    trace_glm1 = pm.sample(\\n        1000, tune=1000, return_inferencedata=True\\n    )  # used arguments I've used before\";\n",
       "                var nbb_cells = Jupyter.notebook.get_cells();\n",
       "                for (var i = 0; i < nbb_cells.length; ++i) {\n",
       "                    if (nbb_cells[i].input_prompt_number == nbb_cell_id) {\n",
       "                        if (nbb_cells[i].get_text() == nbb_unformatted_code) {\n",
       "                             nbb_cells[i].set_text(nbb_formatted_code);\n",
       "                        }\n",
       "                        break;\n",
       "                    }\n",
       "                }\n",
       "            }, 500);\n",
       "            "
      ],
      "text/plain": [
       "<IPython.core.display.Javascript object>"
      ]
     },
     "metadata": {},
     "output_type": "display_data"
    }
   ],
   "source": [
    "with pm.Model() as glm1:\n",
    "    #  Prior for the alpha term\n",
    "    # a = pm.Normal(\"a\", 0, 1.5, shape=2)   # My choice from UCB example\n",
    "    # Changed due to solutions (from domain knowledge that less than half of applicants get awards)\n",
    "    a = pm.Normal(\"a\", -1, 1, shape=2)\n",
    "\n",
    "    # The link function\n",
    "    # Note difference from R code: logit(p) <- a[gid]\n",
    "    p = pm.Deterministic(\"p\", pm.math.invlogit(a[df_grants[\"gender_code\"]]))\n",
    "\n",
    "    # Likelihood\n",
    "    award = pm.Binomial(\n",
    "        \"award\", p=p, n=df_grants[\"applications\"], observed=df_grants[\"awards\"]\n",
    "    )\n",
    "\n",
    "    trace_glm1 = pm.sample(\n",
    "        1000, tune=1000, return_inferencedata=True\n",
    "    )  # used arguments I've used before"
   ]
  },
  {
   "cell_type": "code",
   "execution_count": 40,
   "id": "ed5f27b7",
   "metadata": {
    "ExecuteTime": {
     "end_time": "2021-06-23T14:49:11.959390Z",
     "start_time": "2021-06-23T14:49:11.922914Z"
    }
   },
   "outputs": [
    {
     "data": {
      "text/html": [
       "<div>\n",
       "<style scoped>\n",
       "    .dataframe tbody tr th:only-of-type {\n",
       "        vertical-align: middle;\n",
       "    }\n",
       "\n",
       "    .dataframe tbody tr th {\n",
       "        vertical-align: top;\n",
       "    }\n",
       "\n",
       "    .dataframe thead th {\n",
       "        text-align: right;\n",
       "    }\n",
       "</style>\n",
       "<table border=\"1\" class=\"dataframe\">\n",
       "  <thead>\n",
       "    <tr style=\"text-align: right;\">\n",
       "      <th></th>\n",
       "      <th>mean</th>\n",
       "      <th>sd</th>\n",
       "      <th>hdi_5.5%</th>\n",
       "      <th>hdi_94.5%</th>\n",
       "      <th>mcse_mean</th>\n",
       "      <th>mcse_sd</th>\n",
       "      <th>ess_mean</th>\n",
       "      <th>ess_sd</th>\n",
       "      <th>ess_bulk</th>\n",
       "      <th>ess_tail</th>\n",
       "      <th>r_hat</th>\n",
       "    </tr>\n",
       "  </thead>\n",
       "  <tbody>\n",
       "    <tr>\n",
       "      <th>a[0]</th>\n",
       "      <td>-1.533</td>\n",
       "      <td>0.065</td>\n",
       "      <td>-1.640</td>\n",
       "      <td>-1.431</td>\n",
       "      <td>0.001</td>\n",
       "      <td>0.001</td>\n",
       "      <td>3461.71</td>\n",
       "      <td>3461.710</td>\n",
       "      <td>3468.345</td>\n",
       "      <td>2876.233</td>\n",
       "      <td>1.000</td>\n",
       "    </tr>\n",
       "    <tr>\n",
       "      <th>a[1]</th>\n",
       "      <td>-1.740</td>\n",
       "      <td>0.081</td>\n",
       "      <td>-1.861</td>\n",
       "      <td>-1.609</td>\n",
       "      <td>0.001</td>\n",
       "      <td>0.001</td>\n",
       "      <td>3294.33</td>\n",
       "      <td>3291.245</td>\n",
       "      <td>3295.279</td>\n",
       "      <td>2940.342</td>\n",
       "      <td>1.001</td>\n",
       "    </tr>\n",
       "  </tbody>\n",
       "</table>\n",
       "</div>"
      ],
      "text/plain": [
       "       mean     sd  hdi_5.5%  hdi_94.5%  mcse_mean  mcse_sd  ess_mean  \\\n",
       "a[0] -1.533  0.065    -1.640     -1.431      0.001    0.001   3461.71   \n",
       "a[1] -1.740  0.081    -1.861     -1.609      0.001    0.001   3294.33   \n",
       "\n",
       "        ess_sd  ess_bulk  ess_tail  r_hat  \n",
       "a[0]  3461.710  3468.345  2876.233  1.000  \n",
       "a[1]  3291.245  3295.279  2940.342  1.001  "
      ]
     },
     "execution_count": 40,
     "metadata": {},
     "output_type": "execute_result"
    },
    {
     "data": {
      "application/javascript": [
       "\n",
       "            setTimeout(function() {\n",
       "                var nbb_cell_id = 40;\n",
       "                var nbb_unformatted_code = \"az.summary(trace_glm1, var_names=[\\\"a\\\"], round_to=3)\";\n",
       "                var nbb_formatted_code = \"az.summary(trace_glm1, var_names=[\\\"a\\\"], round_to=3)\";\n",
       "                var nbb_cells = Jupyter.notebook.get_cells();\n",
       "                for (var i = 0; i < nbb_cells.length; ++i) {\n",
       "                    if (nbb_cells[i].input_prompt_number == nbb_cell_id) {\n",
       "                        if (nbb_cells[i].get_text() == nbb_unformatted_code) {\n",
       "                             nbb_cells[i].set_text(nbb_formatted_code);\n",
       "                        }\n",
       "                        break;\n",
       "                    }\n",
       "                }\n",
       "            }, 500);\n",
       "            "
      ],
      "text/plain": [
       "<IPython.core.display.Javascript object>"
      ]
     },
     "metadata": {},
     "output_type": "display_data"
    }
   ],
   "source": [
    "az.summary(trace_glm1, var_names=[\"a\"], round_to=3)"
   ]
  },
  {
   "cell_type": "code",
   "execution_count": 42,
   "id": "61d8eba4",
   "metadata": {
    "ExecuteTime": {
     "end_time": "2021-06-23T14:49:30.573133Z",
     "start_time": "2021-06-23T14:49:30.414869Z"
    }
   },
   "outputs": [
    {
     "data": {
      "text/plain": [
       "array([<AxesSubplot:title={'center':'89.0% HDI'}>], dtype=object)"
      ]
     },
     "execution_count": 42,
     "metadata": {},
     "output_type": "execute_result"
    },
    {
     "data": {
      "image/png": "[encoded data removed]",
      "text/plain": [
       "<Figure size 600x200 with 1 Axes>"
      ]
     },
     "metadata": {
      "image/png": {
       "height": 211,
       "width": 611
      }
     },
     "output_type": "display_data"
    },
    {
     "data": {
      "application/javascript": [
       "\n",
       "            setTimeout(function() {\n",
       "                var nbb_cell_id = 42;\n",
       "                var nbb_unformatted_code = \"f, ax1 = plt.subplots(figsize=(6, 2))\\naz.plot_forest(trace_glm1, var_names=[\\\"a\\\"], combined=True, ax=ax1)\";\n",
       "                var nbb_formatted_code = \"f, ax1 = plt.subplots(figsize=(6, 2))\\naz.plot_forest(trace_glm1, var_names=[\\\"a\\\"], combined=True, ax=ax1)\";\n",
       "                var nbb_cells = Jupyter.notebook.get_cells();\n",
       "                for (var i = 0; i < nbb_cells.length; ++i) {\n",
       "                    if (nbb_cells[i].input_prompt_number == nbb_cell_id) {\n",
       "                        if (nbb_cells[i].get_text() == nbb_unformatted_code) {\n",
       "                             nbb_cells[i].set_text(nbb_formatted_code);\n",
       "                        }\n",
       "                        break;\n",
       "                    }\n",
       "                }\n",
       "            }, 500);\n",
       "            "
      ],
      "text/plain": [
       "<IPython.core.display.Javascript object>"
      ]
     },
     "metadata": {},
     "output_type": "display_data"
    }
   ],
   "source": [
    "f, ax1 = plt.subplots(figsize=(6, 2))\n",
    "az.plot_forest(trace_glm1, var_names=[\"a\"], combined=True, ax=ax1)"
   ]
  },
  {
   "cell_type": "markdown",
   "id": "74b89153",
   "metadata": {},
   "source": [
    "### Interpreting differences\n",
    "\n",
    "The posterior for male applicants trends higher than females although there is some overlap. Compute the contrast to get a better sense. Calculate contrasts on both the logit (relative) and outcome (absolute) scales."
   ]
  },
  {
   "cell_type": "code",
   "execution_count": 43,
   "id": "ad2385db",
   "metadata": {
    "ExecuteTime": {
     "end_time": "2021-06-23T14:49:34.934768Z",
     "start_time": "2021-06-23T14:49:34.836094Z"
    }
   },
   "outputs": [
    {
     "data": {
      "text/html": [
       "<div>\n",
       "<style scoped>\n",
       "    .dataframe tbody tr th:only-of-type {\n",
       "        vertical-align: middle;\n",
       "    }\n",
       "\n",
       "    .dataframe tbody tr th {\n",
       "        vertical-align: top;\n",
       "    }\n",
       "\n",
       "    .dataframe thead th {\n",
       "        text-align: right;\n",
       "    }\n",
       "</style>\n",
       "<table border=\"1\" class=\"dataframe\">\n",
       "  <thead>\n",
       "    <tr style=\"text-align: right;\">\n",
       "      <th></th>\n",
       "      <th>chain</th>\n",
       "      <th>draw</th>\n",
       "      <th>(posterior, a[0], 0)</th>\n",
       "      <th>(posterior, a[1], 1)</th>\n",
       "      <th>(posterior, p[0], 0)</th>\n",
       "      <th>(posterior, p[10], 10)</th>\n",
       "      <th>(posterior, p[11], 11)</th>\n",
       "      <th>(posterior, p[12], 12)</th>\n",
       "      <th>(posterior, p[13], 13)</th>\n",
       "      <th>(posterior, p[14], 14)</th>\n",
       "      <th>...</th>\n",
       "      <th>(sample_stats, perf_counter_start)</th>\n",
       "      <th>(sample_stats, max_energy_error)</th>\n",
       "      <th>(sample_stats, depth)</th>\n",
       "      <th>(sample_stats, energy_error)</th>\n",
       "      <th>(sample_stats, diverging)</th>\n",
       "      <th>(sample_stats, energy)</th>\n",
       "      <th>(sample_stats, lp)</th>\n",
       "      <th>(sample_stats, step_size)</th>\n",
       "      <th>(sample_stats, tree_size)</th>\n",
       "      <th>(sample_stats, step_size_bar)</th>\n",
       "    </tr>\n",
       "  </thead>\n",
       "  <tbody>\n",
       "    <tr>\n",
       "      <th>0</th>\n",
       "      <td>0</td>\n",
       "      <td>0</td>\n",
       "      <td>-1.537064</td>\n",
       "      <td>-1.664010</td>\n",
       "      <td>0.176962</td>\n",
       "      <td>0.176962</td>\n",
       "      <td>0.159224</td>\n",
       "      <td>0.176962</td>\n",
       "      <td>0.159224</td>\n",
       "      <td>0.176962</td>\n",
       "      <td>...</td>\n",
       "      <td>768.601701</td>\n",
       "      <td>0.124197</td>\n",
       "      <td>1</td>\n",
       "      <td>0.124197</td>\n",
       "      <td>False</td>\n",
       "      <td>63.842621</td>\n",
       "      <td>-63.802686</td>\n",
       "      <td>1.417925</td>\n",
       "      <td>1.0</td>\n",
       "      <td>1.146981</td>\n",
       "    </tr>\n",
       "    <tr>\n",
       "      <th>1</th>\n",
       "      <td>0</td>\n",
       "      <td>1</td>\n",
       "      <td>-1.562078</td>\n",
       "      <td>-1.851493</td>\n",
       "      <td>0.173349</td>\n",
       "      <td>0.173349</td>\n",
       "      <td>0.135698</td>\n",
       "      <td>0.173349</td>\n",
       "      <td>0.135698</td>\n",
       "      <td>0.173349</td>\n",
       "      <td>...</td>\n",
       "      <td>768.602258</td>\n",
       "      <td>0.259713</td>\n",
       "      <td>2</td>\n",
       "      <td>0.259713</td>\n",
       "      <td>False</td>\n",
       "      <td>64.633434</td>\n",
       "      <td>-64.447520</td>\n",
       "      <td>1.417925</td>\n",
       "      <td>3.0</td>\n",
       "      <td>1.146981</td>\n",
       "    </tr>\n",
       "    <tr>\n",
       "      <th>2</th>\n",
       "      <td>0</td>\n",
       "      <td>2</td>\n",
       "      <td>-1.560664</td>\n",
       "      <td>-1.622147</td>\n",
       "      <td>0.173551</td>\n",
       "      <td>0.173551</td>\n",
       "      <td>0.164909</td>\n",
       "      <td>0.173551</td>\n",
       "      <td>0.164909</td>\n",
       "      <td>0.173551</td>\n",
       "      <td>...</td>\n",
       "      <td>768.602911</td>\n",
       "      <td>-0.186713</td>\n",
       "      <td>2</td>\n",
       "      <td>0.047203</td>\n",
       "      <td>False</td>\n",
       "      <td>65.099080</td>\n",
       "      <td>-64.520118</td>\n",
       "      <td>1.417925</td>\n",
       "      <td>3.0</td>\n",
       "      <td>1.146981</td>\n",
       "    </tr>\n",
       "    <tr>\n",
       "      <th>3</th>\n",
       "      <td>0</td>\n",
       "      <td>3</td>\n",
       "      <td>-1.466389</td>\n",
       "      <td>-1.718039</td>\n",
       "      <td>0.187492</td>\n",
       "      <td>0.187492</td>\n",
       "      <td>0.152124</td>\n",
       "      <td>0.187492</td>\n",
       "      <td>0.152124</td>\n",
       "      <td>0.187492</td>\n",
       "      <td>...</td>\n",
       "      <td>768.603459</td>\n",
       "      <td>-0.286899</td>\n",
       "      <td>2</td>\n",
       "      <td>-0.286899</td>\n",
       "      <td>False</td>\n",
       "      <td>64.713004</td>\n",
       "      <td>-63.933655</td>\n",
       "      <td>1.417925</td>\n",
       "      <td>3.0</td>\n",
       "      <td>1.146981</td>\n",
       "    </tr>\n",
       "    <tr>\n",
       "      <th>4</th>\n",
       "      <td>0</td>\n",
       "      <td>4</td>\n",
       "      <td>-1.466081</td>\n",
       "      <td>-1.739567</td>\n",
       "      <td>0.187539</td>\n",
       "      <td>0.187539</td>\n",
       "      <td>0.149368</td>\n",
       "      <td>0.187539</td>\n",
       "      <td>0.149368</td>\n",
       "      <td>0.187539</td>\n",
       "      <td>...</td>\n",
       "      <td>768.604005</td>\n",
       "      <td>-0.154756</td>\n",
       "      <td>2</td>\n",
       "      <td>-0.010150</td>\n",
       "      <td>False</td>\n",
       "      <td>64.114738</td>\n",
       "      <td>-63.909488</td>\n",
       "      <td>1.417925</td>\n",
       "      <td>3.0</td>\n",
       "      <td>1.146981</td>\n",
       "    </tr>\n",
       "  </tbody>\n",
       "</table>\n",
       "<p>5 rows × 53 columns</p>\n",
       "</div>"
      ],
      "text/plain": [
       "   chain  draw  (posterior, a[0], 0)  (posterior, a[1], 1)  \\\n",
       "0      0     0             -1.537064             -1.664010   \n",
       "1      0     1             -1.562078             -1.851493   \n",
       "2      0     2             -1.560664             -1.622147   \n",
       "3      0     3             -1.466389             -1.718039   \n",
       "4      0     4             -1.466081             -1.739567   \n",
       "\n",
       "   (posterior, p[0], 0)  (posterior, p[10], 10)  (posterior, p[11], 11)  \\\n",
       "0              0.176962                0.176962                0.159224   \n",
       "1              0.173349                0.173349                0.135698   \n",
       "2              0.173551                0.173551                0.164909   \n",
       "3              0.187492                0.187492                0.152124   \n",
       "4              0.187539                0.187539                0.149368   \n",
       "\n",
       "   (posterior, p[12], 12)  (posterior, p[13], 13)  (posterior, p[14], 14)  \\\n",
       "0                0.176962                0.159224                0.176962   \n",
       "1                0.173349                0.135698                0.173349   \n",
       "2                0.173551                0.164909                0.173551   \n",
       "3                0.187492                0.152124                0.187492   \n",
       "4                0.187539                0.149368                0.187539   \n",
       "\n",
       "   ...  (sample_stats, perf_counter_start)  (sample_stats, max_energy_error)  \\\n",
       "0  ...                          768.601701                          0.124197   \n",
       "1  ...                          768.602258                          0.259713   \n",
       "2  ...                          768.602911                         -0.186713   \n",
       "3  ...                          768.603459                         -0.286899   \n",
       "4  ...                          768.604005                         -0.154756   \n",
       "\n",
       "   (sample_stats, depth)  (sample_stats, energy_error)  \\\n",
       "0                      1                      0.124197   \n",
       "1                      2                      0.259713   \n",
       "2                      2                      0.047203   \n",
       "3                      2                     -0.286899   \n",
       "4                      2                     -0.010150   \n",
       "\n",
       "   (sample_stats, diverging)  (sample_stats, energy)  (sample_stats, lp)  \\\n",
       "0                      False               63.842621          -63.802686   \n",
       "1                      False               64.633434          -64.447520   \n",
       "2                      False               65.099080          -64.520118   \n",
       "3                      False               64.713004          -63.933655   \n",
       "4                      False               64.114738          -63.909488   \n",
       "\n",
       "   (sample_stats, step_size)  (sample_stats, tree_size)  \\\n",
       "0                   1.417925                        1.0   \n",
       "1                   1.417925                        3.0   \n",
       "2                   1.417925                        3.0   \n",
       "3                   1.417925                        3.0   \n",
       "4                   1.417925                        3.0   \n",
       "\n",
       "   (sample_stats, step_size_bar)  \n",
       "0                       1.146981  \n",
       "1                       1.146981  \n",
       "2                       1.146981  \n",
       "3                       1.146981  \n",
       "4                       1.146981  \n",
       "\n",
       "[5 rows x 53 columns]"
      ]
     },
     "execution_count": 43,
     "metadata": {},
     "output_type": "execute_result"
    },
    {
     "data": {
      "application/javascript": [
       "\n",
       "            setTimeout(function() {\n",
       "                var nbb_cell_id = 43;\n",
       "                var nbb_unformatted_code = \"# Take a look at the trace object\\ntrace_glm1_df = trace_glm1.to_dataframe()\\ntrace_glm1_df.head()\";\n",
       "                var nbb_formatted_code = \"# Take a look at the trace object\\ntrace_glm1_df = trace_glm1.to_dataframe()\\ntrace_glm1_df.head()\";\n",
       "                var nbb_cells = Jupyter.notebook.get_cells();\n",
       "                for (var i = 0; i < nbb_cells.length; ++i) {\n",
       "                    if (nbb_cells[i].input_prompt_number == nbb_cell_id) {\n",
       "                        if (nbb_cells[i].get_text() == nbb_unformatted_code) {\n",
       "                             nbb_cells[i].set_text(nbb_formatted_code);\n",
       "                        }\n",
       "                        break;\n",
       "                    }\n",
       "                }\n",
       "            }, 500);\n",
       "            "
      ],
      "text/plain": [
       "<IPython.core.display.Javascript object>"
      ]
     },
     "metadata": {},
     "output_type": "display_data"
    }
   ],
   "source": [
    "# Take a look at the trace object\n",
    "trace_glm1_df = trace_glm1.to_dataframe()\n",
    "trace_glm1_df.head()"
   ]
  },
  {
   "cell_type": "code",
   "execution_count": 44,
   "id": "409697d7",
   "metadata": {
    "ExecuteTime": {
     "end_time": "2021-06-23T14:49:37.845782Z",
     "start_time": "2021-06-23T14:49:37.842015Z"
    }
   },
   "outputs": [
    {
     "data": {
      "application/javascript": [
       "\n",
       "            setTimeout(function() {\n",
       "                var nbb_cell_id = 44;\n",
       "                var nbb_unformatted_code = \"# Also interesting to see log-likelihood as one of the columns\\n# trace_glm1_df.columns\";\n",
       "                var nbb_formatted_code = \"# Also interesting to see log-likelihood as one of the columns\\n# trace_glm1_df.columns\";\n",
       "                var nbb_cells = Jupyter.notebook.get_cells();\n",
       "                for (var i = 0; i < nbb_cells.length; ++i) {\n",
       "                    if (nbb_cells[i].input_prompt_number == nbb_cell_id) {\n",
       "                        if (nbb_cells[i].get_text() == nbb_unformatted_code) {\n",
       "                             nbb_cells[i].set_text(nbb_formatted_code);\n",
       "                        }\n",
       "                        break;\n",
       "                    }\n",
       "                }\n",
       "            }, 500);\n",
       "            "
      ],
      "text/plain": [
       "<IPython.core.display.Javascript object>"
      ]
     },
     "metadata": {},
     "output_type": "display_data"
    }
   ],
   "source": [
    "# Also interesting to see log-likelihood as one of the columns\n",
    "# trace_glm1_df.columns"
   ]
  },
  {
   "cell_type": "code",
   "execution_count": 62,
   "id": "dabc2dea",
   "metadata": {
    "ExecuteTime": {
     "end_time": "2021-06-23T14:59:42.025254Z",
     "start_time": "2021-06-23T14:59:42.017416Z"
    }
   },
   "outputs": [
    {
     "data": {
      "application/javascript": [
       "\n",
       "            setTimeout(function() {\n",
       "                var nbb_cell_id = 62;\n",
       "                var nbb_unformatted_code = \"# a extracts from the posterior directly\\ndiff_a = (\\n    trace_glm1_df[(\\\"posterior\\\", \\\"a[0]\\\", 0)] - trace_glm1_df[(\\\"posterior\\\", \\\"a[1]\\\", 1)]\\n)\";\n",
       "                var nbb_formatted_code = \"# a extracts from the posterior directly\\ndiff_a = (\\n    trace_glm1_df[(\\\"posterior\\\", \\\"a[0]\\\", 0)] - trace_glm1_df[(\\\"posterior\\\", \\\"a[1]\\\", 1)]\\n)\";\n",
       "                var nbb_cells = Jupyter.notebook.get_cells();\n",
       "                for (var i = 0; i < nbb_cells.length; ++i) {\n",
       "                    if (nbb_cells[i].input_prompt_number == nbb_cell_id) {\n",
       "                        if (nbb_cells[i].get_text() == nbb_unformatted_code) {\n",
       "                             nbb_cells[i].set_text(nbb_formatted_code);\n",
       "                        }\n",
       "                        break;\n",
       "                    }\n",
       "                }\n",
       "            }, 500);\n",
       "            "
      ],
      "text/plain": [
       "<IPython.core.display.Javascript object>"
      ]
     },
     "metadata": {},
     "output_type": "display_data"
    }
   ],
   "source": [
    "# a extracts from the posterior directly\n",
    "diff_a = (\n",
    "    trace_glm1_df[(\"posterior\", \"a[0]\", 0)] - trace_glm1_df[(\"posterior\", \"a[1]\", 1)]\n",
    ")"
   ]
  },
  {
   "cell_type": "markdown",
   "id": "2f783ee9",
   "metadata": {},
   "source": [
    "Since we had built the model using logit p, we would have to do inverse logit (AKA logistic) on the parameter to get p back and calculate on the absolute scale. We'll use the scipy function."
   ]
  },
  {
   "cell_type": "code",
   "execution_count": 63,
   "id": "f493e7c0",
   "metadata": {
    "ExecuteTime": {
     "end_time": "2021-06-23T14:59:43.091934Z",
     "start_time": "2021-06-23T14:59:43.088941Z"
    }
   },
   "outputs": [
    {
     "data": {
      "application/javascript": [
       "\n",
       "            setTimeout(function() {\n",
       "                var nbb_cell_id = 63;\n",
       "                var nbb_unformatted_code = \"# ?logistic\";\n",
       "                var nbb_formatted_code = \"# ?logistic\";\n",
       "                var nbb_cells = Jupyter.notebook.get_cells();\n",
       "                for (var i = 0; i < nbb_cells.length; ++i) {\n",
       "                    if (nbb_cells[i].input_prompt_number == nbb_cell_id) {\n",
       "                        if (nbb_cells[i].get_text() == nbb_unformatted_code) {\n",
       "                             nbb_cells[i].set_text(nbb_formatted_code);\n",
       "                        }\n",
       "                        break;\n",
       "                    }\n",
       "                }\n",
       "            }, 500);\n",
       "            "
      ],
      "text/plain": [
       "<IPython.core.display.Javascript object>"
      ]
     },
     "metadata": {},
     "output_type": "display_data"
    }
   ],
   "source": [
    "# ?logistic"
   ]
  },
  {
   "cell_type": "code",
   "execution_count": 64,
   "id": "fcb1648f",
   "metadata": {
    "ExecuteTime": {
     "end_time": "2021-06-23T14:59:44.118048Z",
     "start_time": "2021-06-23T14:59:44.110234Z"
    }
   },
   "outputs": [
    {
     "data": {
      "application/javascript": [
       "\n",
       "            setTimeout(function() {\n",
       "                var nbb_cell_id = 64;\n",
       "                var nbb_unformatted_code = \"diff_p = logistic(trace_glm1_df[(\\\"posterior\\\", \\\"a[0]\\\", 0)]) - logistic(\\n    trace_glm1_df[(\\\"posterior\\\", \\\"a[1]\\\", 1)]\\n)\";\n",
       "                var nbb_formatted_code = \"diff_p = logistic(trace_glm1_df[(\\\"posterior\\\", \\\"a[0]\\\", 0)]) - logistic(\\n    trace_glm1_df[(\\\"posterior\\\", \\\"a[1]\\\", 1)]\\n)\";\n",
       "                var nbb_cells = Jupyter.notebook.get_cells();\n",
       "                for (var i = 0; i < nbb_cells.length; ++i) {\n",
       "                    if (nbb_cells[i].input_prompt_number == nbb_cell_id) {\n",
       "                        if (nbb_cells[i].get_text() == nbb_unformatted_code) {\n",
       "                             nbb_cells[i].set_text(nbb_formatted_code);\n",
       "                        }\n",
       "                        break;\n",
       "                    }\n",
       "                }\n",
       "            }, 500);\n",
       "            "
      ],
      "text/plain": [
       "<IPython.core.display.Javascript object>"
      ]
     },
     "metadata": {},
     "output_type": "display_data"
    }
   ],
   "source": [
    "diff_p = logistic(trace_glm1_df[(\"posterior\", \"a[0]\", 0)]) - logistic(\n",
    "    trace_glm1_df[(\"posterior\", \"a[1]\", 1)]\n",
    ")"
   ]
  },
  {
   "cell_type": "code",
   "execution_count": 66,
   "id": "2dc0867a",
   "metadata": {
    "ExecuteTime": {
     "end_time": "2021-06-23T14:59:56.173957Z",
     "start_time": "2021-06-23T14:59:56.152512Z"
    }
   },
   "outputs": [
    {
     "data": {
      "text/html": [
       "<div>\n",
       "<style scoped>\n",
       "    .dataframe tbody tr th:only-of-type {\n",
       "        vertical-align: middle;\n",
       "    }\n",
       "\n",
       "    .dataframe tbody tr th {\n",
       "        vertical-align: top;\n",
       "    }\n",
       "\n",
       "    .dataframe thead th {\n",
       "        text-align: right;\n",
       "    }\n",
       "</style>\n",
       "<table border=\"1\" class=\"dataframe\">\n",
       "  <thead>\n",
       "    <tr style=\"text-align: right;\">\n",
       "      <th></th>\n",
       "      <th>mean</th>\n",
       "      <th>sd</th>\n",
       "      <th>hdi_5.5%</th>\n",
       "      <th>hdi_94.5%</th>\n",
       "    </tr>\n",
       "  </thead>\n",
       "  <tbody>\n",
       "    <tr>\n",
       "      <th>diff_p</th>\n",
       "      <td>0.028</td>\n",
       "      <td>0.014</td>\n",
       "      <td>0.005</td>\n",
       "      <td>0.050</td>\n",
       "    </tr>\n",
       "    <tr>\n",
       "      <th>diff_a</th>\n",
       "      <td>0.207</td>\n",
       "      <td>0.104</td>\n",
       "      <td>0.049</td>\n",
       "      <td>0.378</td>\n",
       "    </tr>\n",
       "  </tbody>\n",
       "</table>\n",
       "</div>"
      ],
      "text/plain": [
       "         mean     sd  hdi_5.5%  hdi_94.5%\n",
       "diff_p  0.028  0.014     0.005      0.050\n",
       "diff_a  0.207  0.104     0.049      0.378"
      ]
     },
     "execution_count": 66,
     "metadata": {},
     "output_type": "execute_result"
    },
    {
     "data": {
      "application/javascript": [
       "\n",
       "            setTimeout(function() {\n",
       "                var nbb_cell_id = 66;\n",
       "                var nbb_unformatted_code = \"az.summary({\\\"diff_p\\\": diff_p, \\\"diff_a\\\": diff_a}, kind=\\\"stats\\\", round_to=3)\";\n",
       "                var nbb_formatted_code = \"az.summary({\\\"diff_p\\\": diff_p, \\\"diff_a\\\": diff_a}, kind=\\\"stats\\\", round_to=3)\";\n",
       "                var nbb_cells = Jupyter.notebook.get_cells();\n",
       "                for (var i = 0; i < nbb_cells.length; ++i) {\n",
       "                    if (nbb_cells[i].input_prompt_number == nbb_cell_id) {\n",
       "                        if (nbb_cells[i].get_text() == nbb_unformatted_code) {\n",
       "                             nbb_cells[i].set_text(nbb_formatted_code);\n",
       "                        }\n",
       "                        break;\n",
       "                    }\n",
       "                }\n",
       "            }, 500);\n",
       "            "
      ],
      "text/plain": [
       "<IPython.core.display.Javascript object>"
      ]
     },
     "metadata": {},
     "output_type": "display_data"
    }
   ],
   "source": [
    "az.summary({\"diff_p\": diff_p, \"diff_a\": diff_a}, kind=\"stats\", round_to=3)"
   ]
  },
  {
   "cell_type": "markdown",
   "id": "f2367973",
   "metadata": {},
   "source": [
    "### More about effect sizes\n",
    "\n",
    "From McElreath:\n",
    "<br>\n",
    "\"...Absolute effects [are] the difference a counter-factual change in a variable might make on an absolute scale of measurement, like the probability of an event... It is more common to see logistic regressions interpreted through relative effects. Relative effects are proportional changes in the odds of an outcome. If we change a variable and say the odds of an outcome double, then we are discussing relative effects. You can calculate these proportional odds relative effect sizes by simply exponentiating the parameter of interest.\n",
    "\n",
    "**double-check this**"
   ]
  },
  {
   "cell_type": "code",
   "execution_count": 53,
   "id": "d52d1151",
   "metadata": {
    "ExecuteTime": {
     "end_time": "2021-06-23T14:56:56.023446Z",
     "start_time": "2021-06-23T14:56:56.015917Z"
    }
   },
   "outputs": [
    {
     "name": "stdout",
     "output_type": "stream",
     "text": [
      "Proportional odds: 1.237\n"
     ]
    },
    {
     "data": {
      "application/javascript": [
       "\n",
       "            setTimeout(function() {\n",
       "                var nbb_cell_id = 53;\n",
       "                var nbb_unformatted_code = \"prop_odds = np.mean(np.exp(diff_a))\\nprint(\\\"Proportional odds: {0:0.3f}\\\".format(prop_odds))\";\n",
       "                var nbb_formatted_code = \"prop_odds = np.mean(np.exp(diff_a))\\nprint(\\\"Proportional odds: {0:0.3f}\\\".format(prop_odds))\";\n",
       "                var nbb_cells = Jupyter.notebook.get_cells();\n",
       "                for (var i = 0; i < nbb_cells.length; ++i) {\n",
       "                    if (nbb_cells[i].input_prompt_number == nbb_cell_id) {\n",
       "                        if (nbb_cells[i].get_text() == nbb_unformatted_code) {\n",
       "                             nbb_cells[i].set_text(nbb_formatted_code);\n",
       "                        }\n",
       "                        break;\n",
       "                    }\n",
       "                }\n",
       "            }, 500);\n",
       "            "
      ],
      "text/plain": [
       "<IPython.core.display.Javascript object>"
      ]
     },
     "metadata": {},
     "output_type": "display_data"
    }
   ],
   "source": [
    "prop_odds = np.mean(np.exp(diff_a))\n",
    "print(\"Proportional odds: {0:0.3f}\".format(prop_odds))"
   ]
  },
  {
   "cell_type": "markdown",
   "id": "02b7a6d1",
   "metadata": {},
   "source": [
    "| Scale of effect | parameter | variable  |  value here |\n",
    "| --- | --- | ---|  --- |\n",
    "| absolute | outcome | diff_p |  0.028 |\n",
    "| relative | logit (log-odds?) | diff_a |  0.207  |\n",
    "| relative | proportional odds | exp(diff_a) |  1.237 |\n",
    "\n",
    "Here `diff_a` is the log-odds difference. It is positive (although the lower bound is barely above 0), indicating that there's a higher probability of admission for male applicants.\n",
    "\n",
    "With regards to the last line of the table, this means that switching gender would yield about a 24% increase in odds of being awarded.."
   ]
  },
  {
   "cell_type": "markdown",
   "id": "3dc5e47f",
   "metadata": {},
   "source": [
    "## Direct influence of gender, conditioning on discipline\n",
    "\n",
    "Returning to the DAG, we would need to close the backdoor by conditioning on discipline to find the direct influence of gender."
   ]
  },
  {
   "cell_type": "code",
   "execution_count": 55,
   "id": "b086fe42",
   "metadata": {
    "ExecuteTime": {
     "end_time": "2021-06-23T14:59:05.236848Z",
     "start_time": "2021-06-23T14:59:05.229692Z"
    }
   },
   "outputs": [
    {
     "data": {
      "application/javascript": [
       "\n",
       "            setTimeout(function() {\n",
       "                var nbb_cell_id = 55;\n",
       "                var nbb_unformatted_code = \"# Used categories argument to specify m as 0 and f as 1 per the book (1 and 2, respectively in R code)\\ndf_grants[\\\"discipline_code\\\"] = pd.Categorical(df_grants[\\\"discipline\\\"]).codes\";\n",
       "                var nbb_formatted_code = \"# Used categories argument to specify m as 0 and f as 1 per the book (1 and 2, respectively in R code)\\ndf_grants[\\\"discipline_code\\\"] = pd.Categorical(df_grants[\\\"discipline\\\"]).codes\";\n",
       "                var nbb_cells = Jupyter.notebook.get_cells();\n",
       "                for (var i = 0; i < nbb_cells.length; ++i) {\n",
       "                    if (nbb_cells[i].input_prompt_number == nbb_cell_id) {\n",
       "                        if (nbb_cells[i].get_text() == nbb_unformatted_code) {\n",
       "                             nbb_cells[i].set_text(nbb_formatted_code);\n",
       "                        }\n",
       "                        break;\n",
       "                    }\n",
       "                }\n",
       "            }, 500);\n",
       "            "
      ],
      "text/plain": [
       "<IPython.core.display.Javascript object>"
      ]
     },
     "metadata": {},
     "output_type": "display_data"
    }
   ],
   "source": [
    "# Used categories argument to specify m as 0 and f as 1 per the book (1 and 2, respectively in R code)\n",
    "df_grants[\"discipline_code\"] = pd.Categorical(df_grants[\"discipline\"]).codes"
   ]
  },
  {
   "cell_type": "code",
   "execution_count": 56,
   "id": "973a6b24",
   "metadata": {
    "ExecuteTime": {
     "end_time": "2021-06-23T14:59:05.413573Z",
     "start_time": "2021-06-23T14:59:05.403105Z"
    }
   },
   "outputs": [
    {
     "data": {
      "text/html": [
       "<div>\n",
       "<style scoped>\n",
       "    .dataframe tbody tr th:only-of-type {\n",
       "        vertical-align: middle;\n",
       "    }\n",
       "\n",
       "    .dataframe tbody tr th {\n",
       "        vertical-align: top;\n",
       "    }\n",
       "\n",
       "    .dataframe thead th {\n",
       "        text-align: right;\n",
       "    }\n",
       "</style>\n",
       "<table border=\"1\" class=\"dataframe\">\n",
       "  <thead>\n",
       "    <tr style=\"text-align: right;\">\n",
       "      <th></th>\n",
       "      <th>discipline</th>\n",
       "      <th>gender</th>\n",
       "      <th>applications</th>\n",
       "      <th>awards</th>\n",
       "      <th>prop_awarded</th>\n",
       "      <th>discipline_code</th>\n",
       "      <th>gender_code</th>\n",
       "    </tr>\n",
       "  </thead>\n",
       "  <tbody>\n",
       "    <tr>\n",
       "      <th>0</th>\n",
       "      <td>Chemical sciences</td>\n",
       "      <td>m</td>\n",
       "      <td>83</td>\n",
       "      <td>22</td>\n",
       "      <td>0.265060</td>\n",
       "      <td>0</td>\n",
       "      <td>0</td>\n",
       "    </tr>\n",
       "    <tr>\n",
       "      <th>1</th>\n",
       "      <td>Chemical sciences</td>\n",
       "      <td>f</td>\n",
       "      <td>39</td>\n",
       "      <td>10</td>\n",
       "      <td>0.256410</td>\n",
       "      <td>0</td>\n",
       "      <td>1</td>\n",
       "    </tr>\n",
       "    <tr>\n",
       "      <th>2</th>\n",
       "      <td>Physical sciences</td>\n",
       "      <td>m</td>\n",
       "      <td>135</td>\n",
       "      <td>26</td>\n",
       "      <td>0.192593</td>\n",
       "      <td>5</td>\n",
       "      <td>0</td>\n",
       "    </tr>\n",
       "    <tr>\n",
       "      <th>3</th>\n",
       "      <td>Physical sciences</td>\n",
       "      <td>f</td>\n",
       "      <td>39</td>\n",
       "      <td>9</td>\n",
       "      <td>0.230769</td>\n",
       "      <td>5</td>\n",
       "      <td>1</td>\n",
       "    </tr>\n",
       "    <tr>\n",
       "      <th>4</th>\n",
       "      <td>Physics</td>\n",
       "      <td>m</td>\n",
       "      <td>67</td>\n",
       "      <td>18</td>\n",
       "      <td>0.268657</td>\n",
       "      <td>6</td>\n",
       "      <td>0</td>\n",
       "    </tr>\n",
       "  </tbody>\n",
       "</table>\n",
       "</div>"
      ],
      "text/plain": [
       "          discipline gender  applications  awards  prop_awarded  \\\n",
       "0  Chemical sciences      m            83      22      0.265060   \n",
       "1  Chemical sciences      f            39      10      0.256410   \n",
       "2  Physical sciences      m           135      26      0.192593   \n",
       "3  Physical sciences      f            39       9      0.230769   \n",
       "4            Physics      m            67      18      0.268657   \n",
       "\n",
       "   discipline_code  gender_code  \n",
       "0                0            0  \n",
       "1                0            1  \n",
       "2                5            0  \n",
       "3                5            1  \n",
       "4                6            0  "
      ]
     },
     "execution_count": 56,
     "metadata": {},
     "output_type": "execute_result"
    },
    {
     "data": {
      "application/javascript": [
       "\n",
       "            setTimeout(function() {\n",
       "                var nbb_cell_id = 56;\n",
       "                var nbb_unformatted_code = \"df_grants.head()\";\n",
       "                var nbb_formatted_code = \"df_grants.head()\";\n",
       "                var nbb_cells = Jupyter.notebook.get_cells();\n",
       "                for (var i = 0; i < nbb_cells.length; ++i) {\n",
       "                    if (nbb_cells[i].input_prompt_number == nbb_cell_id) {\n",
       "                        if (nbb_cells[i].get_text() == nbb_unformatted_code) {\n",
       "                             nbb_cells[i].set_text(nbb_formatted_code);\n",
       "                        }\n",
       "                        break;\n",
       "                    }\n",
       "                }\n",
       "            }, 500);\n",
       "            "
      ],
      "text/plain": [
       "<IPython.core.display.Javascript object>"
      ]
     },
     "metadata": {},
     "output_type": "display_data"
    }
   ],
   "source": [
    "df_grants.head()"
   ]
  },
  {
   "cell_type": "code",
   "execution_count": 57,
   "id": "bad065b7",
   "metadata": {
    "ExecuteTime": {
     "end_time": "2021-06-23T14:59:05.632214Z",
     "start_time": "2021-06-23T14:59:05.626079Z"
    }
   },
   "outputs": [
    {
     "data": {
      "text/plain": [
       "array([0, 5, 6, 2, 8, 3, 1, 7, 4], dtype=int8)"
      ]
     },
     "execution_count": 57,
     "metadata": {},
     "output_type": "execute_result"
    },
    {
     "data": {
      "application/javascript": [
       "\n",
       "            setTimeout(function() {\n",
       "                var nbb_cell_id = 57;\n",
       "                var nbb_unformatted_code = \"df_grants[\\\"discipline_code\\\"].unique()\";\n",
       "                var nbb_formatted_code = \"df_grants[\\\"discipline_code\\\"].unique()\";\n",
       "                var nbb_cells = Jupyter.notebook.get_cells();\n",
       "                for (var i = 0; i < nbb_cells.length; ++i) {\n",
       "                    if (nbb_cells[i].input_prompt_number == nbb_cell_id) {\n",
       "                        if (nbb_cells[i].get_text() == nbb_unformatted_code) {\n",
       "                             nbb_cells[i].set_text(nbb_formatted_code);\n",
       "                        }\n",
       "                        break;\n",
       "                    }\n",
       "                }\n",
       "            }, 500);\n",
       "            "
      ],
      "text/plain": [
       "<IPython.core.display.Javascript object>"
      ]
     },
     "metadata": {},
     "output_type": "display_data"
    }
   ],
   "source": [
    "df_grants[\"discipline_code\"].unique()"
   ]
  },
  {
   "cell_type": "code",
   "execution_count": 19,
   "id": "022479b5",
   "metadata": {
    "ExecuteTime": {
     "end_time": "2021-06-23T14:36:03.951972Z",
     "start_time": "2021-06-23T14:35:44.173258Z"
    }
   },
   "outputs": [
    {
     "name": "stderr",
     "output_type": "stream",
     "text": [
      "Auto-assigning NUTS sampler...\n",
      "Initializing NUTS using jitter+adapt_diag...\n",
      "Multiprocess sampling (4 chains in 4 jobs)\n",
      "NUTS: [d, a]\n"
     ]
    },
    {
     "data": {
      "text/html": [
       "\n",
       "    <div>\n",
       "        <style>\n",
       "            /* Turns off some styling */\n",
       "            progress {\n",
       "                /* gets rid of default border in Firefox and Opera. */\n",
       "                border: none;\n",
       "                /* Needs to be in here for Safari polyfill so background images work as expected. */\n",
       "                background-size: auto;\n",
       "            }\n",
       "            .progress-bar-interrupted, .progress-bar-interrupted::-webkit-progress-bar {\n",
       "                background: #F44336;\n",
       "            }\n",
       "        </style>\n",
       "      <progress value='8000' class='' max='8000' style='width:300px; height:20px; vertical-align: middle;'></progress>\n",
       "      100.00% [8000/8000 00:04<00:00 Sampling 4 chains, 0 divergences]\n",
       "    </div>\n",
       "    "
      ],
      "text/plain": [
       "<IPython.core.display.HTML object>"
      ]
     },
     "metadata": {},
     "output_type": "display_data"
    },
    {
     "name": "stderr",
     "output_type": "stream",
     "text": [
      "Sampling 4 chains for 1_000 tune and 1_000 draw iterations (4_000 + 4_000 draws total) took 14 seconds.\n",
      "The number of effective samples is smaller than 10% for some parameters.\n"
     ]
    },
    {
     "data": {
      "application/javascript": [
       "\n",
       "            setTimeout(function() {\n",
       "                var nbb_cell_id = 19;\n",
       "                var nbb_unformatted_code = \"with pm.Model() as glm2:\\n    #  Prior for the alpha and delta terms\\n    a = pm.Normal(\\\"a\\\", -1, 1, shape=2)\\n    d = pm.Normal(\\\"d\\\", 0, 1.5, shape=9)\\n\\n    # The link function\\n    # Note difference from R code: logit(p) <- a[gid]\\n    p = pm.Deterministic(\\n        \\\"p\\\",\\n        pm.math.invlogit(a[df_grants[\\\"gender_code\\\"]] + d[df_grants[\\\"discipline_code\\\"]]),\\n    )\\n\\n    # Likelihood\\n    award = pm.Binomial(\\n        \\\"award\\\", p=p, n=df_grants[\\\"applications\\\"], observed=df_grants[\\\"awards\\\"]\\n    )\\n\\n    trace_glm2 = pm.sample(\\n        1000, tune=1000, return_inferencedata=True\\n    )  # used arguments I've used before\";\n",
       "                var nbb_formatted_code = \"with pm.Model() as glm2:\\n    #  Prior for the alpha and delta terms\\n    a = pm.Normal(\\\"a\\\", -1, 1, shape=2)\\n    d = pm.Normal(\\\"d\\\", 0, 1.5, shape=9)\\n\\n    # The link function\\n    # Note difference from R code: logit(p) <- a[gid]\\n    p = pm.Deterministic(\\n        \\\"p\\\",\\n        pm.math.invlogit(a[df_grants[\\\"gender_code\\\"]] + d[df_grants[\\\"discipline_code\\\"]]),\\n    )\\n\\n    # Likelihood\\n    award = pm.Binomial(\\n        \\\"award\\\", p=p, n=df_grants[\\\"applications\\\"], observed=df_grants[\\\"awards\\\"]\\n    )\\n\\n    trace_glm2 = pm.sample(\\n        1000, tune=1000, return_inferencedata=True\\n    )  # used arguments I've used before\";\n",
       "                var nbb_cells = Jupyter.notebook.get_cells();\n",
       "                for (var i = 0; i < nbb_cells.length; ++i) {\n",
       "                    if (nbb_cells[i].input_prompt_number == nbb_cell_id) {\n",
       "                        if (nbb_cells[i].get_text() == nbb_unformatted_code) {\n",
       "                             nbb_cells[i].set_text(nbb_formatted_code);\n",
       "                        }\n",
       "                        break;\n",
       "                    }\n",
       "                }\n",
       "            }, 500);\n",
       "            "
      ],
      "text/plain": [
       "<IPython.core.display.Javascript object>"
      ]
     },
     "metadata": {},
     "output_type": "display_data"
    }
   ],
   "source": [
    "with pm.Model() as glm2:\n",
    "    #  Prior for the alpha and delta terms\n",
    "    a = pm.Normal(\"a\", -1, 1, shape=2)\n",
    "    d = pm.Normal(\"d\", 0, 1.5, shape=9)\n",
    "\n",
    "    # The link function\n",
    "    # Note difference from R code: logit(p) <- a[gid]\n",
    "    p = pm.Deterministic(\n",
    "        \"p\",\n",
    "        pm.math.invlogit(a[df_grants[\"gender_code\"]] + d[df_grants[\"discipline_code\"]]),\n",
    "    )\n",
    "\n",
    "    # Likelihood\n",
    "    award = pm.Binomial(\n",
    "        \"award\", p=p, n=df_grants[\"applications\"], observed=df_grants[\"awards\"]\n",
    "    )\n",
    "\n",
    "    trace_glm2 = pm.sample(\n",
    "        1000, tune=1000, return_inferencedata=True\n",
    "    )  # used arguments I've used before"
   ]
  },
  {
   "cell_type": "markdown",
   "id": "a1489c2f",
   "metadata": {},
   "source": [
    "Note from solutions: \"Those chains didn’t sample very efficiently. This is because the model is over-parameterized—it has more parameters than absolutely necessary. This doesn’t break it. It just makes\n",
    "the sampling less efficient.\""
   ]
  },
  {
   "cell_type": "code",
   "execution_count": 258,
   "id": "258d3787",
   "metadata": {
    "ExecuteTime": {
     "end_time": "2021-06-25T19:43:02.053564Z",
     "start_time": "2021-06-25T19:43:01.933314Z"
    }
   },
   "outputs": [
    {
     "data": {
      "text/html": [
       "<div>\n",
       "<style scoped>\n",
       "    .dataframe tbody tr th:only-of-type {\n",
       "        vertical-align: middle;\n",
       "    }\n",
       "\n",
       "    .dataframe tbody tr th {\n",
       "        vertical-align: top;\n",
       "    }\n",
       "\n",
       "    .dataframe thead th {\n",
       "        text-align: right;\n",
       "    }\n",
       "</style>\n",
       "<table border=\"1\" class=\"dataframe\">\n",
       "  <thead>\n",
       "    <tr style=\"text-align: right;\">\n",
       "      <th></th>\n",
       "      <th>mean</th>\n",
       "      <th>sd</th>\n",
       "      <th>hdi_5.5%</th>\n",
       "      <th>hdi_94.5%</th>\n",
       "      <th>mcse_mean</th>\n",
       "      <th>mcse_sd</th>\n",
       "      <th>ess_mean</th>\n",
       "      <th>ess_sd</th>\n",
       "      <th>ess_bulk</th>\n",
       "      <th>ess_tail</th>\n",
       "      <th>r_hat</th>\n",
       "    </tr>\n",
       "  </thead>\n",
       "  <tbody>\n",
       "    <tr>\n",
       "      <th>a[0]</th>\n",
       "      <td>-1.260</td>\n",
       "      <td>0.433</td>\n",
       "      <td>-1.985</td>\n",
       "      <td>-0.588</td>\n",
       "      <td>0.023</td>\n",
       "      <td>0.017</td>\n",
       "      <td>356.412</td>\n",
       "      <td>321.648</td>\n",
       "      <td>355.657</td>\n",
       "      <td>372.076</td>\n",
       "      <td>1.010</td>\n",
       "    </tr>\n",
       "    <tr>\n",
       "      <th>a[1]</th>\n",
       "      <td>-1.402</td>\n",
       "      <td>0.434</td>\n",
       "      <td>-2.049</td>\n",
       "      <td>-0.653</td>\n",
       "      <td>0.023</td>\n",
       "      <td>0.017</td>\n",
       "      <td>369.448</td>\n",
       "      <td>337.019</td>\n",
       "      <td>369.473</td>\n",
       "      <td>393.786</td>\n",
       "      <td>1.010</td>\n",
       "    </tr>\n",
       "    <tr>\n",
       "      <th>d[0]</th>\n",
       "      <td>0.256</td>\n",
       "      <td>0.471</td>\n",
       "      <td>-0.533</td>\n",
       "      <td>0.989</td>\n",
       "      <td>0.023</td>\n",
       "      <td>0.018</td>\n",
       "      <td>416.658</td>\n",
       "      <td>340.141</td>\n",
       "      <td>414.567</td>\n",
       "      <td>453.138</td>\n",
       "      <td>1.009</td>\n",
       "    </tr>\n",
       "    <tr>\n",
       "      <th>d[1]</th>\n",
       "      <td>-0.080</td>\n",
       "      <td>0.453</td>\n",
       "      <td>-0.792</td>\n",
       "      <td>0.647</td>\n",
       "      <td>0.023</td>\n",
       "      <td>0.016</td>\n",
       "      <td>395.034</td>\n",
       "      <td>395.034</td>\n",
       "      <td>395.636</td>\n",
       "      <td>445.566</td>\n",
       "      <td>1.009</td>\n",
       "    </tr>\n",
       "    <tr>\n",
       "      <th>d[2]</th>\n",
       "      <td>-0.314</td>\n",
       "      <td>0.449</td>\n",
       "      <td>-1.031</td>\n",
       "      <td>0.409</td>\n",
       "      <td>0.023</td>\n",
       "      <td>0.016</td>\n",
       "      <td>391.310</td>\n",
       "      <td>391.310</td>\n",
       "      <td>389.573</td>\n",
       "      <td>443.101</td>\n",
       "      <td>1.010</td>\n",
       "    </tr>\n",
       "    <tr>\n",
       "      <th>d[3]</th>\n",
       "      <td>-0.361</td>\n",
       "      <td>0.472</td>\n",
       "      <td>-1.162</td>\n",
       "      <td>0.329</td>\n",
       "      <td>0.023</td>\n",
       "      <td>0.016</td>\n",
       "      <td>412.258</td>\n",
       "      <td>412.258</td>\n",
       "      <td>414.107</td>\n",
       "      <td>509.913</td>\n",
       "      <td>1.011</td>\n",
       "    </tr>\n",
       "    <tr>\n",
       "      <th>d[4]</th>\n",
       "      <td>-0.416</td>\n",
       "      <td>0.444</td>\n",
       "      <td>-1.138</td>\n",
       "      <td>0.278</td>\n",
       "      <td>0.023</td>\n",
       "      <td>0.016</td>\n",
       "      <td>384.660</td>\n",
       "      <td>384.660</td>\n",
       "      <td>384.594</td>\n",
       "      <td>436.365</td>\n",
       "      <td>1.010</td>\n",
       "    </tr>\n",
       "    <tr>\n",
       "      <th>d[5]</th>\n",
       "      <td>-0.099</td>\n",
       "      <td>0.465</td>\n",
       "      <td>-0.800</td>\n",
       "      <td>0.686</td>\n",
       "      <td>0.023</td>\n",
       "      <td>0.016</td>\n",
       "      <td>423.728</td>\n",
       "      <td>423.728</td>\n",
       "      <td>421.514</td>\n",
       "      <td>459.758</td>\n",
       "      <td>1.008</td>\n",
       "    </tr>\n",
       "    <tr>\n",
       "      <th>d[6]</th>\n",
       "      <td>0.227</td>\n",
       "      <td>0.503</td>\n",
       "      <td>-0.601</td>\n",
       "      <td>0.999</td>\n",
       "      <td>0.024</td>\n",
       "      <td>0.018</td>\n",
       "      <td>437.778</td>\n",
       "      <td>413.065</td>\n",
       "      <td>437.600</td>\n",
       "      <td>590.560</td>\n",
       "      <td>1.009</td>\n",
       "    </tr>\n",
       "    <tr>\n",
       "      <th>d[7]</th>\n",
       "      <td>-0.536</td>\n",
       "      <td>0.441</td>\n",
       "      <td>-1.209</td>\n",
       "      <td>0.210</td>\n",
       "      <td>0.023</td>\n",
       "      <td>0.016</td>\n",
       "      <td>381.198</td>\n",
       "      <td>381.198</td>\n",
       "      <td>380.644</td>\n",
       "      <td>390.792</td>\n",
       "      <td>1.009</td>\n",
       "    </tr>\n",
       "    <tr>\n",
       "      <th>d[8]</th>\n",
       "      <td>-0.292</td>\n",
       "      <td>0.460</td>\n",
       "      <td>-1.064</td>\n",
       "      <td>0.412</td>\n",
       "      <td>0.023</td>\n",
       "      <td>0.017</td>\n",
       "      <td>383.365</td>\n",
       "      <td>383.365</td>\n",
       "      <td>385.789</td>\n",
       "      <td>453.018</td>\n",
       "      <td>1.010</td>\n",
       "    </tr>\n",
       "  </tbody>\n",
       "</table>\n",
       "</div>"
      ],
      "text/plain": [
       "       mean     sd  hdi_5.5%  hdi_94.5%  mcse_mean  mcse_sd  ess_mean  \\\n",
       "a[0] -1.260  0.433    -1.985     -0.588      0.023    0.017   356.412   \n",
       "a[1] -1.402  0.434    -2.049     -0.653      0.023    0.017   369.448   \n",
       "d[0]  0.256  0.471    -0.533      0.989      0.023    0.018   416.658   \n",
       "d[1] -0.080  0.453    -0.792      0.647      0.023    0.016   395.034   \n",
       "d[2] -0.314  0.449    -1.031      0.409      0.023    0.016   391.310   \n",
       "d[3] -0.361  0.472    -1.162      0.329      0.023    0.016   412.258   \n",
       "d[4] -0.416  0.444    -1.138      0.278      0.023    0.016   384.660   \n",
       "d[5] -0.099  0.465    -0.800      0.686      0.023    0.016   423.728   \n",
       "d[6]  0.227  0.503    -0.601      0.999      0.024    0.018   437.778   \n",
       "d[7] -0.536  0.441    -1.209      0.210      0.023    0.016   381.198   \n",
       "d[8] -0.292  0.460    -1.064      0.412      0.023    0.017   383.365   \n",
       "\n",
       "       ess_sd  ess_bulk  ess_tail  r_hat  \n",
       "a[0]  321.648   355.657   372.076  1.010  \n",
       "a[1]  337.019   369.473   393.786  1.010  \n",
       "d[0]  340.141   414.567   453.138  1.009  \n",
       "d[1]  395.034   395.636   445.566  1.009  \n",
       "d[2]  391.310   389.573   443.101  1.010  \n",
       "d[3]  412.258   414.107   509.913  1.011  \n",
       "d[4]  384.660   384.594   436.365  1.010  \n",
       "d[5]  423.728   421.514   459.758  1.008  \n",
       "d[6]  413.065   437.600   590.560  1.009  \n",
       "d[7]  381.198   380.644   390.792  1.009  \n",
       "d[8]  383.365   385.789   453.018  1.010  "
      ]
     },
     "execution_count": 258,
     "metadata": {},
     "output_type": "execute_result"
    },
    {
     "data": {
      "application/javascript": [
       "\n",
       "            setTimeout(function() {\n",
       "                var nbb_cell_id = 258;\n",
       "                var nbb_unformatted_code = \"az.summary(trace_glm2, var_names=[\\\"a\\\", \\\"d\\\"], round_to=3)\";\n",
       "                var nbb_formatted_code = \"az.summary(trace_glm2, var_names=[\\\"a\\\", \\\"d\\\"], round_to=3)\";\n",
       "                var nbb_cells = Jupyter.notebook.get_cells();\n",
       "                for (var i = 0; i < nbb_cells.length; ++i) {\n",
       "                    if (nbb_cells[i].input_prompt_number == nbb_cell_id) {\n",
       "                        if (nbb_cells[i].get_text() == nbb_unformatted_code) {\n",
       "                             nbb_cells[i].set_text(nbb_formatted_code);\n",
       "                        }\n",
       "                        break;\n",
       "                    }\n",
       "                }\n",
       "            }, 500);\n",
       "            "
      ],
      "text/plain": [
       "<IPython.core.display.Javascript object>"
      ]
     },
     "metadata": {},
     "output_type": "display_data"
    }
   ],
   "source": [
    "az.summary(trace_glm2, var_names=[\"a\", \"d\"], round_to=3)"
   ]
  },
  {
   "cell_type": "code",
   "execution_count": 27,
   "id": "669312b0",
   "metadata": {
    "ExecuteTime": {
     "end_time": "2021-06-23T14:38:37.600481Z",
     "start_time": "2021-06-23T14:38:37.054178Z"
    }
   },
   "outputs": [
    {
     "data": {
      "text/plain": [
       "array([<AxesSubplot:title={'center':'89.0% HDI'}>], dtype=object)"
      ]
     },
     "execution_count": 27,
     "metadata": {},
     "output_type": "execute_result"
    },
    {
     "data": {
      "image/png": "[encoded data removed]",
      "text/plain": [
       "<Figure size 1200x600 with 2 Axes>"
      ]
     },
     "metadata": {
      "image/png": {
       "height": 611,
       "width": 1211
      }
     },
     "output_type": "display_data"
    },
    {
     "data": {
      "application/javascript": [
       "\n",
       "            setTimeout(function() {\n",
       "                var nbb_cell_id = 27;\n",
       "                var nbb_unformatted_code = \"f, (ax1, ax2) = plt.subplots(1, 2, figsize=(12, 6))\\naz.plot_forest(trace_glm2, var_names=[\\\"a\\\"], combined=True, ax=ax1)\\naz.plot_forest(trace_glm2, var_names=[\\\"d\\\"], combined=True, ax=ax2)\";\n",
       "                var nbb_formatted_code = \"f, (ax1, ax2) = plt.subplots(1, 2, figsize=(12, 6))\\naz.plot_forest(trace_glm2, var_names=[\\\"a\\\"], combined=True, ax=ax1)\\naz.plot_forest(trace_glm2, var_names=[\\\"d\\\"], combined=True, ax=ax2)\";\n",
       "                var nbb_cells = Jupyter.notebook.get_cells();\n",
       "                for (var i = 0; i < nbb_cells.length; ++i) {\n",
       "                    if (nbb_cells[i].input_prompt_number == nbb_cell_id) {\n",
       "                        if (nbb_cells[i].get_text() == nbb_unformatted_code) {\n",
       "                             nbb_cells[i].set_text(nbb_formatted_code);\n",
       "                        }\n",
       "                        break;\n",
       "                    }\n",
       "                }\n",
       "            }, 500);\n",
       "            "
      ],
      "text/plain": [
       "<IPython.core.display.Javascript object>"
      ]
     },
     "metadata": {},
     "output_type": "display_data"
    }
   ],
   "source": [
    "f, (ax1, ax2) = plt.subplots(1, 2, figsize=(12, 6))\n",
    "az.plot_forest(trace_glm2, var_names=[\"a\"], combined=True, ax=ax1)\n",
    "az.plot_forest(trace_glm2, var_names=[\"d\"], combined=True, ax=ax2)"
   ]
  },
  {
   "cell_type": "markdown",
   "id": "f1afc4fa",
   "metadata": {},
   "source": [
    "For the gender, shown on the left, we see that the differences between respective log-odds are smaller.\n",
    "\n",
    "I'm showing the effect of discipline on the right subplot. Most log-odds are negative, but discipline 6 is positive, suggesting that, on average, applications to this discipline are awarded slightly more than 50% of the time. We'll return to this point.\n",
    "\n",
    "Let's return to interpreting the gender differences and calculate contrasts properly."
   ]
  },
  {
   "cell_type": "markdown",
   "id": "c985a86d",
   "metadata": {},
   "source": [
    "### Interpreting differences"
   ]
  },
  {
   "cell_type": "code",
   "execution_count": 58,
   "id": "8cf9a9cd",
   "metadata": {
    "ExecuteTime": {
     "end_time": "2021-06-23T14:59:13.172818Z",
     "start_time": "2021-06-23T14:59:13.065087Z"
    }
   },
   "outputs": [
    {
     "data": {
      "text/html": [
       "<div>\n",
       "<style scoped>\n",
       "    .dataframe tbody tr th:only-of-type {\n",
       "        vertical-align: middle;\n",
       "    }\n",
       "\n",
       "    .dataframe tbody tr th {\n",
       "        vertical-align: top;\n",
       "    }\n",
       "\n",
       "    .dataframe thead th {\n",
       "        text-align: right;\n",
       "    }\n",
       "</style>\n",
       "<table border=\"1\" class=\"dataframe\">\n",
       "  <thead>\n",
       "    <tr style=\"text-align: right;\">\n",
       "      <th></th>\n",
       "      <th>chain</th>\n",
       "      <th>draw</th>\n",
       "      <th>(posterior, a[0], 0)</th>\n",
       "      <th>(posterior, a[1], 1)</th>\n",
       "      <th>(posterior, d[0], 0)</th>\n",
       "      <th>(posterior, d[1], 1)</th>\n",
       "      <th>(posterior, d[2], 2)</th>\n",
       "      <th>(posterior, d[3], 3)</th>\n",
       "      <th>(posterior, d[4], 4)</th>\n",
       "      <th>(posterior, d[5], 5)</th>\n",
       "      <th>...</th>\n",
       "      <th>(sample_stats, perf_counter_start)</th>\n",
       "      <th>(sample_stats, max_energy_error)</th>\n",
       "      <th>(sample_stats, depth)</th>\n",
       "      <th>(sample_stats, energy_error)</th>\n",
       "      <th>(sample_stats, diverging)</th>\n",
       "      <th>(sample_stats, energy)</th>\n",
       "      <th>(sample_stats, lp)</th>\n",
       "      <th>(sample_stats, step_size)</th>\n",
       "      <th>(sample_stats, tree_size)</th>\n",
       "      <th>(sample_stats, step_size_bar)</th>\n",
       "    </tr>\n",
       "  </thead>\n",
       "  <tbody>\n",
       "    <tr>\n",
       "      <th>0</th>\n",
       "      <td>0</td>\n",
       "      <td>0</td>\n",
       "      <td>-1.244711</td>\n",
       "      <td>-1.304266</td>\n",
       "      <td>0.225946</td>\n",
       "      <td>-0.219058</td>\n",
       "      <td>-0.233938</td>\n",
       "      <td>-0.386399</td>\n",
       "      <td>-0.572113</td>\n",
       "      <td>-0.162285</td>\n",
       "      <td>...</td>\n",
       "      <td>10.949976</td>\n",
       "      <td>2.915981</td>\n",
       "      <td>3</td>\n",
       "      <td>-0.155245</td>\n",
       "      <td>False</td>\n",
       "      <td>71.000098</td>\n",
       "      <td>-66.443577</td>\n",
       "      <td>0.209726</td>\n",
       "      <td>7.0</td>\n",
       "      <td>0.216338</td>\n",
       "    </tr>\n",
       "    <tr>\n",
       "      <th>1</th>\n",
       "      <td>0</td>\n",
       "      <td>1</td>\n",
       "      <td>-2.297566</td>\n",
       "      <td>-2.428387</td>\n",
       "      <td>1.384511</td>\n",
       "      <td>1.092071</td>\n",
       "      <td>0.606298</td>\n",
       "      <td>0.691485</td>\n",
       "      <td>0.630743</td>\n",
       "      <td>0.639928</td>\n",
       "      <td>...</td>\n",
       "      <td>10.951106</td>\n",
       "      <td>0.976167</td>\n",
       "      <td>6</td>\n",
       "      <td>0.063577</td>\n",
       "      <td>False</td>\n",
       "      <td>74.423266</td>\n",
       "      <td>-70.592245</td>\n",
       "      <td>0.209726</td>\n",
       "      <td>47.0</td>\n",
       "      <td>0.216338</td>\n",
       "    </tr>\n",
       "    <tr>\n",
       "      <th>2</th>\n",
       "      <td>0</td>\n",
       "      <td>2</td>\n",
       "      <td>-2.254114</td>\n",
       "      <td>-2.343903</td>\n",
       "      <td>1.312178</td>\n",
       "      <td>0.926559</td>\n",
       "      <td>0.690306</td>\n",
       "      <td>0.764693</td>\n",
       "      <td>0.736964</td>\n",
       "      <td>0.755079</td>\n",
       "      <td>...</td>\n",
       "      <td>10.955951</td>\n",
       "      <td>0.515360</td>\n",
       "      <td>3</td>\n",
       "      <td>0.203250</td>\n",
       "      <td>False</td>\n",
       "      <td>75.845221</td>\n",
       "      <td>-70.097851</td>\n",
       "      <td>0.209726</td>\n",
       "      <td>7.0</td>\n",
       "      <td>0.216338</td>\n",
       "    </tr>\n",
       "    <tr>\n",
       "      <th>3</th>\n",
       "      <td>0</td>\n",
       "      <td>3</td>\n",
       "      <td>-2.173341</td>\n",
       "      <td>-2.350279</td>\n",
       "      <td>1.528494</td>\n",
       "      <td>0.846605</td>\n",
       "      <td>0.682161</td>\n",
       "      <td>0.760716</td>\n",
       "      <td>0.452235</td>\n",
       "      <td>0.675007</td>\n",
       "      <td>...</td>\n",
       "      <td>10.956840</td>\n",
       "      <td>-0.384688</td>\n",
       "      <td>3</td>\n",
       "      <td>-0.057300</td>\n",
       "      <td>False</td>\n",
       "      <td>74.791527</td>\n",
       "      <td>-71.684805</td>\n",
       "      <td>0.209726</td>\n",
       "      <td>7.0</td>\n",
       "      <td>0.216338</td>\n",
       "    </tr>\n",
       "    <tr>\n",
       "      <th>4</th>\n",
       "      <td>0</td>\n",
       "      <td>4</td>\n",
       "      <td>-2.151602</td>\n",
       "      <td>-2.382029</td>\n",
       "      <td>1.425929</td>\n",
       "      <td>0.756727</td>\n",
       "      <td>0.576211</td>\n",
       "      <td>0.722897</td>\n",
       "      <td>0.423929</td>\n",
       "      <td>0.727919</td>\n",
       "      <td>...</td>\n",
       "      <td>10.957710</td>\n",
       "      <td>0.473459</td>\n",
       "      <td>3</td>\n",
       "      <td>0.473459</td>\n",
       "      <td>False</td>\n",
       "      <td>75.701762</td>\n",
       "      <td>-73.223646</td>\n",
       "      <td>0.209726</td>\n",
       "      <td>7.0</td>\n",
       "      <td>0.216338</td>\n",
       "    </tr>\n",
       "  </tbody>\n",
       "</table>\n",
       "<p>5 rows × 62 columns</p>\n",
       "</div>"
      ],
      "text/plain": [
       "   chain  draw  (posterior, a[0], 0)  (posterior, a[1], 1)  \\\n",
       "0      0     0             -1.244711             -1.304266   \n",
       "1      0     1             -2.297566             -2.428387   \n",
       "2      0     2             -2.254114             -2.343903   \n",
       "3      0     3             -2.173341             -2.350279   \n",
       "4      0     4             -2.151602             -2.382029   \n",
       "\n",
       "   (posterior, d[0], 0)  (posterior, d[1], 1)  (posterior, d[2], 2)  \\\n",
       "0              0.225946             -0.219058             -0.233938   \n",
       "1              1.384511              1.092071              0.606298   \n",
       "2              1.312178              0.926559              0.690306   \n",
       "3              1.528494              0.846605              0.682161   \n",
       "4              1.425929              0.756727              0.576211   \n",
       "\n",
       "   (posterior, d[3], 3)  (posterior, d[4], 4)  (posterior, d[5], 5)  ...  \\\n",
       "0             -0.386399             -0.572113             -0.162285  ...   \n",
       "1              0.691485              0.630743              0.639928  ...   \n",
       "2              0.764693              0.736964              0.755079  ...   \n",
       "3              0.760716              0.452235              0.675007  ...   \n",
       "4              0.722897              0.423929              0.727919  ...   \n",
       "\n",
       "   (sample_stats, perf_counter_start)  (sample_stats, max_energy_error)  \\\n",
       "0                           10.949976                          2.915981   \n",
       "1                           10.951106                          0.976167   \n",
       "2                           10.955951                          0.515360   \n",
       "3                           10.956840                         -0.384688   \n",
       "4                           10.957710                          0.473459   \n",
       "\n",
       "   (sample_stats, depth)  (sample_stats, energy_error)  \\\n",
       "0                      3                     -0.155245   \n",
       "1                      6                      0.063577   \n",
       "2                      3                      0.203250   \n",
       "3                      3                     -0.057300   \n",
       "4                      3                      0.473459   \n",
       "\n",
       "   (sample_stats, diverging)  (sample_stats, energy)  (sample_stats, lp)  \\\n",
       "0                      False               71.000098          -66.443577   \n",
       "1                      False               74.423266          -70.592245   \n",
       "2                      False               75.845221          -70.097851   \n",
       "3                      False               74.791527          -71.684805   \n",
       "4                      False               75.701762          -73.223646   \n",
       "\n",
       "   (sample_stats, step_size)  (sample_stats, tree_size)  \\\n",
       "0                   0.209726                        7.0   \n",
       "1                   0.209726                       47.0   \n",
       "2                   0.209726                        7.0   \n",
       "3                   0.209726                        7.0   \n",
       "4                   0.209726                        7.0   \n",
       "\n",
       "   (sample_stats, step_size_bar)  \n",
       "0                       0.216338  \n",
       "1                       0.216338  \n",
       "2                       0.216338  \n",
       "3                       0.216338  \n",
       "4                       0.216338  \n",
       "\n",
       "[5 rows x 62 columns]"
      ]
     },
     "execution_count": 58,
     "metadata": {},
     "output_type": "execute_result"
    },
    {
     "data": {
      "application/javascript": [
       "\n",
       "            setTimeout(function() {\n",
       "                var nbb_cell_id = 58;\n",
       "                var nbb_unformatted_code = \"# Take a look at the trace object\\ntrace_glm2_df = trace_glm2.to_dataframe()\\ntrace_glm2_df.head()\";\n",
       "                var nbb_formatted_code = \"# Take a look at the trace object\\ntrace_glm2_df = trace_glm2.to_dataframe()\\ntrace_glm2_df.head()\";\n",
       "                var nbb_cells = Jupyter.notebook.get_cells();\n",
       "                for (var i = 0; i < nbb_cells.length; ++i) {\n",
       "                    if (nbb_cells[i].input_prompt_number == nbb_cell_id) {\n",
       "                        if (nbb_cells[i].get_text() == nbb_unformatted_code) {\n",
       "                             nbb_cells[i].set_text(nbb_formatted_code);\n",
       "                        }\n",
       "                        break;\n",
       "                    }\n",
       "                }\n",
       "            }, 500);\n",
       "            "
      ],
      "text/plain": [
       "<IPython.core.display.Javascript object>"
      ]
     },
     "metadata": {},
     "output_type": "display_data"
    }
   ],
   "source": [
    "# Take a look at the trace object\n",
    "trace_glm2_df = trace_glm2.to_dataframe()\n",
    "trace_glm2_df.head()"
   ]
  },
  {
   "cell_type": "code",
   "execution_count": 59,
   "id": "9fd14363",
   "metadata": {
    "ExecuteTime": {
     "end_time": "2021-06-23T14:59:13.970054Z",
     "start_time": "2021-06-23T14:59:13.962852Z"
    }
   },
   "outputs": [
    {
     "data": {
      "application/javascript": [
       "\n",
       "            setTimeout(function() {\n",
       "                var nbb_cell_id = 59;\n",
       "                var nbb_unformatted_code = \"# a extracts from the posterior directly\\ndiff_a2 = (\\n    trace_glm2_df[(\\\"posterior\\\", \\\"a[0]\\\", 0)] - trace_glm2_df[(\\\"posterior\\\", \\\"a[1]\\\", 1)]\\n)\";\n",
       "                var nbb_formatted_code = \"# a extracts from the posterior directly\\ndiff_a2 = (\\n    trace_glm2_df[(\\\"posterior\\\", \\\"a[0]\\\", 0)] - trace_glm2_df[(\\\"posterior\\\", \\\"a[1]\\\", 1)]\\n)\";\n",
       "                var nbb_cells = Jupyter.notebook.get_cells();\n",
       "                for (var i = 0; i < nbb_cells.length; ++i) {\n",
       "                    if (nbb_cells[i].input_prompt_number == nbb_cell_id) {\n",
       "                        if (nbb_cells[i].get_text() == nbb_unformatted_code) {\n",
       "                             nbb_cells[i].set_text(nbb_formatted_code);\n",
       "                        }\n",
       "                        break;\n",
       "                    }\n",
       "                }\n",
       "            }, 500);\n",
       "            "
      ],
      "text/plain": [
       "<IPython.core.display.Javascript object>"
      ]
     },
     "metadata": {},
     "output_type": "display_data"
    }
   ],
   "source": [
    "# a extracts from the posterior directly\n",
    "diff_a2 = (\n",
    "    trace_glm2_df[(\"posterior\", \"a[0]\", 0)] - trace_glm2_df[(\"posterior\", \"a[1]\", 1)]\n",
    ")"
   ]
  },
  {
   "cell_type": "code",
   "execution_count": 60,
   "id": "98bc3e54",
   "metadata": {
    "ExecuteTime": {
     "end_time": "2021-06-23T14:59:14.579133Z",
     "start_time": "2021-06-23T14:59:14.571346Z"
    }
   },
   "outputs": [
    {
     "data": {
      "application/javascript": [
       "\n",
       "            setTimeout(function() {\n",
       "                var nbb_cell_id = 60;\n",
       "                var nbb_unformatted_code = \"# convert from log-odds to odds\\ndiff_p2 = logistic(trace_glm2_df[(\\\"posterior\\\", \\\"a[0]\\\", 0)]) - logistic(\\n    trace_glm2_df[(\\\"posterior\\\", \\\"a[1]\\\", 1)]\\n)\";\n",
       "                var nbb_formatted_code = \"# convert from log-odds to odds\\ndiff_p2 = logistic(trace_glm2_df[(\\\"posterior\\\", \\\"a[0]\\\", 0)]) - logistic(\\n    trace_glm2_df[(\\\"posterior\\\", \\\"a[1]\\\", 1)]\\n)\";\n",
       "                var nbb_cells = Jupyter.notebook.get_cells();\n",
       "                for (var i = 0; i < nbb_cells.length; ++i) {\n",
       "                    if (nbb_cells[i].input_prompt_number == nbb_cell_id) {\n",
       "                        if (nbb_cells[i].get_text() == nbb_unformatted_code) {\n",
       "                             nbb_cells[i].set_text(nbb_formatted_code);\n",
       "                        }\n",
       "                        break;\n",
       "                    }\n",
       "                }\n",
       "            }, 500);\n",
       "            "
      ],
      "text/plain": [
       "<IPython.core.display.Javascript object>"
      ]
     },
     "metadata": {},
     "output_type": "display_data"
    }
   ],
   "source": [
    "# convert from log-odds to odds\n",
    "diff_p2 = logistic(trace_glm2_df[(\"posterior\", \"a[0]\", 0)]) - logistic(\n",
    "    trace_glm2_df[(\"posterior\", \"a[1]\", 1)]\n",
    ")"
   ]
  },
  {
   "cell_type": "code",
   "execution_count": 70,
   "id": "b3b7ea56",
   "metadata": {
    "ExecuteTime": {
     "end_time": "2021-06-23T15:01:46.904985Z",
     "start_time": "2021-06-23T15:01:46.883853Z"
    }
   },
   "outputs": [
    {
     "data": {
      "text/html": [
       "<div>\n",
       "<style scoped>\n",
       "    .dataframe tbody tr th:only-of-type {\n",
       "        vertical-align: middle;\n",
       "    }\n",
       "\n",
       "    .dataframe tbody tr th {\n",
       "        vertical-align: top;\n",
       "    }\n",
       "\n",
       "    .dataframe thead th {\n",
       "        text-align: right;\n",
       "    }\n",
       "</style>\n",
       "<table border=\"1\" class=\"dataframe\">\n",
       "  <thead>\n",
       "    <tr style=\"text-align: right;\">\n",
       "      <th></th>\n",
       "      <th>mean</th>\n",
       "      <th>sd</th>\n",
       "      <th>hdi_5.5%</th>\n",
       "      <th>hdi_94.5%</th>\n",
       "    </tr>\n",
       "  </thead>\n",
       "  <tbody>\n",
       "    <tr>\n",
       "      <th>diff_p2</th>\n",
       "      <td>0.028</td>\n",
       "      <td>0.014</td>\n",
       "      <td>0.005</td>\n",
       "      <td>0.050</td>\n",
       "    </tr>\n",
       "    <tr>\n",
       "      <th>diff_a2</th>\n",
       "      <td>0.142</td>\n",
       "      <td>0.106</td>\n",
       "      <td>-0.028</td>\n",
       "      <td>0.309</td>\n",
       "    </tr>\n",
       "  </tbody>\n",
       "</table>\n",
       "</div>"
      ],
      "text/plain": [
       "          mean     sd  hdi_5.5%  hdi_94.5%\n",
       "diff_p2  0.028  0.014     0.005      0.050\n",
       "diff_a2  0.142  0.106    -0.028      0.309"
      ]
     },
     "execution_count": 70,
     "metadata": {},
     "output_type": "execute_result"
    },
    {
     "data": {
      "application/javascript": [
       "\n",
       "            setTimeout(function() {\n",
       "                var nbb_cell_id = 70;\n",
       "                var nbb_unformatted_code = \"az.summary({\\\"diff_p2\\\": diff_p, \\\"diff_a2\\\": diff_a2}, kind=\\\"stats\\\", round_to=3)\";\n",
       "                var nbb_formatted_code = \"az.summary({\\\"diff_p2\\\": diff_p, \\\"diff_a2\\\": diff_a2}, kind=\\\"stats\\\", round_to=3)\";\n",
       "                var nbb_cells = Jupyter.notebook.get_cells();\n",
       "                for (var i = 0; i < nbb_cells.length; ++i) {\n",
       "                    if (nbb_cells[i].input_prompt_number == nbb_cell_id) {\n",
       "                        if (nbb_cells[i].get_text() == nbb_unformatted_code) {\n",
       "                             nbb_cells[i].set_text(nbb_formatted_code);\n",
       "                        }\n",
       "                        break;\n",
       "                    }\n",
       "                }\n",
       "            }, 500);\n",
       "            "
      ],
      "text/plain": [
       "<IPython.core.display.Javascript object>"
      ]
     },
     "metadata": {},
     "output_type": "display_data"
    }
   ],
   "source": [
    "az.summary({\"diff_p2\": diff_p, \"diff_a2\": diff_a2}, kind=\"stats\", round_to=3)"
   ]
  },
  {
   "cell_type": "markdown",
   "id": "b28f5d94",
   "metadata": {},
   "source": [
    "We see that the differences between gender are smaller although there's still a slight edge towards males.\n",
    "\n",
    "On the absolute scale, males have a 2% advantage. On the relative scale, the odds are 0.139..."
   ]
  },
  {
   "cell_type": "markdown",
   "id": "315cf427",
   "metadata": {},
   "source": [
    "### Visualize within each department\n",
    "\n",
    "Code taken from repo."
   ]
  },
  {
   "cell_type": "code",
   "execution_count": 74,
   "id": "3592b073",
   "metadata": {
    "ExecuteTime": {
     "end_time": "2021-06-23T15:04:10.828560Z",
     "start_time": "2021-06-23T15:04:10.817528Z"
    },
    "scrolled": true
   },
   "outputs": [
    {
     "data": {
      "text/html": [
       "<div>\n",
       "<style scoped>\n",
       "    .dataframe tbody tr th:only-of-type {\n",
       "        vertical-align: middle;\n",
       "    }\n",
       "\n",
       "    .dataframe tbody tr th {\n",
       "        vertical-align: top;\n",
       "    }\n",
       "\n",
       "    .dataframe thead th {\n",
       "        text-align: right;\n",
       "    }\n",
       "</style>\n",
       "<table border=\"1\" class=\"dataframe\">\n",
       "  <thead>\n",
       "    <tr style=\"text-align: right;\">\n",
       "      <th></th>\n",
       "      <th>discipline</th>\n",
       "      <th>gender</th>\n",
       "      <th>applications</th>\n",
       "      <th>awards</th>\n",
       "      <th>prop_awarded</th>\n",
       "      <th>discipline_code</th>\n",
       "      <th>gender_code</th>\n",
       "    </tr>\n",
       "  </thead>\n",
       "  <tbody>\n",
       "    <tr>\n",
       "      <th>0</th>\n",
       "      <td>Chemical sciences</td>\n",
       "      <td>m</td>\n",
       "      <td>83</td>\n",
       "      <td>22</td>\n",
       "      <td>0.265060</td>\n",
       "      <td>0</td>\n",
       "      <td>0</td>\n",
       "    </tr>\n",
       "    <tr>\n",
       "      <th>1</th>\n",
       "      <td>Chemical sciences</td>\n",
       "      <td>f</td>\n",
       "      <td>39</td>\n",
       "      <td>10</td>\n",
       "      <td>0.256410</td>\n",
       "      <td>0</td>\n",
       "      <td>1</td>\n",
       "    </tr>\n",
       "    <tr>\n",
       "      <th>2</th>\n",
       "      <td>Physical sciences</td>\n",
       "      <td>m</td>\n",
       "      <td>135</td>\n",
       "      <td>26</td>\n",
       "      <td>0.192593</td>\n",
       "      <td>5</td>\n",
       "      <td>0</td>\n",
       "    </tr>\n",
       "    <tr>\n",
       "      <th>3</th>\n",
       "      <td>Physical sciences</td>\n",
       "      <td>f</td>\n",
       "      <td>39</td>\n",
       "      <td>9</td>\n",
       "      <td>0.230769</td>\n",
       "      <td>5</td>\n",
       "      <td>1</td>\n",
       "    </tr>\n",
       "    <tr>\n",
       "      <th>4</th>\n",
       "      <td>Physics</td>\n",
       "      <td>m</td>\n",
       "      <td>67</td>\n",
       "      <td>18</td>\n",
       "      <td>0.268657</td>\n",
       "      <td>6</td>\n",
       "      <td>0</td>\n",
       "    </tr>\n",
       "  </tbody>\n",
       "</table>\n",
       "</div>"
      ],
      "text/plain": [
       "          discipline gender  applications  awards  prop_awarded  \\\n",
       "0  Chemical sciences      m            83      22      0.265060   \n",
       "1  Chemical sciences      f            39      10      0.256410   \n",
       "2  Physical sciences      m           135      26      0.192593   \n",
       "3  Physical sciences      f            39       9      0.230769   \n",
       "4            Physics      m            67      18      0.268657   \n",
       "\n",
       "   discipline_code  gender_code  \n",
       "0                0            0  \n",
       "1                0            1  \n",
       "2                5            0  \n",
       "3                5            1  \n",
       "4                6            0  "
      ]
     },
     "execution_count": 74,
     "metadata": {},
     "output_type": "execute_result"
    },
    {
     "data": {
      "application/javascript": [
       "\n",
       "            setTimeout(function() {\n",
       "                var nbb_cell_id = 74;\n",
       "                var nbb_unformatted_code = \"df_grants.head()\";\n",
       "                var nbb_formatted_code = \"df_grants.head()\";\n",
       "                var nbb_cells = Jupyter.notebook.get_cells();\n",
       "                for (var i = 0; i < nbb_cells.length; ++i) {\n",
       "                    if (nbb_cells[i].input_prompt_number == nbb_cell_id) {\n",
       "                        if (nbb_cells[i].get_text() == nbb_unformatted_code) {\n",
       "                             nbb_cells[i].set_text(nbb_formatted_code);\n",
       "                        }\n",
       "                        break;\n",
       "                    }\n",
       "                }\n",
       "            }, 500);\n",
       "            "
      ],
      "text/plain": [
       "<IPython.core.display.Javascript object>"
      ]
     },
     "metadata": {},
     "output_type": "display_data"
    }
   ],
   "source": [
    "df_grants.head()"
   ]
  },
  {
   "cell_type": "markdown",
   "id": "ce76f03e",
   "metadata": {},
   "source": [
    "### Predictions"
   ]
  },
  {
   "cell_type": "code",
   "execution_count": 303,
   "id": "0dc4e02f",
   "metadata": {
    "ExecuteTime": {
     "end_time": "2021-06-25T20:35:54.195918Z",
     "start_time": "2021-06-25T20:35:50.549940Z"
    }
   },
   "outputs": [
    {
     "data": {
      "text/html": [
       "\n",
       "    <div>\n",
       "        <style>\n",
       "            /* Turns off some styling */\n",
       "            progress {\n",
       "                /* gets rid of default border in Firefox and Opera. */\n",
       "                border: none;\n",
       "                /* Needs to be in here for Safari polyfill so background images work as expected. */\n",
       "                background-size: auto;\n",
       "            }\n",
       "            .progress-bar-interrupted, .progress-bar-interrupted::-webkit-progress-bar {\n",
       "                background: #F44336;\n",
       "            }\n",
       "        </style>\n",
       "      <progress value='4000' class='' max='4000' style='width:300px; height:20px; vertical-align: middle;'></progress>\n",
       "      100.00% [4000/4000 00:02<00:00]\n",
       "    </div>\n",
       "    "
      ],
      "text/plain": [
       "<IPython.core.display.HTML object>"
      ]
     },
     "metadata": {},
     "output_type": "display_data"
    },
    {
     "data": {
      "application/javascript": [
       "\n",
       "            setTimeout(function() {\n",
       "                var nbb_cell_id = 303;\n",
       "                var nbb_unformatted_code = \"with glm2:\\n    ppc = pm.sample_posterior_predictive(\\n        trace_glm2, random_seed=RANDOM_SEED, var_names=[\\\"award\\\", \\\"p\\\"]\\n    )\";\n",
       "                var nbb_formatted_code = \"with glm2:\\n    ppc = pm.sample_posterior_predictive(\\n        trace_glm2, random_seed=RANDOM_SEED, var_names=[\\\"award\\\", \\\"p\\\"]\\n    )\";\n",
       "                var nbb_cells = Jupyter.notebook.get_cells();\n",
       "                for (var i = 0; i < nbb_cells.length; ++i) {\n",
       "                    if (nbb_cells[i].input_prompt_number == nbb_cell_id) {\n",
       "                        if (nbb_cells[i].get_text() == nbb_unformatted_code) {\n",
       "                             nbb_cells[i].set_text(nbb_formatted_code);\n",
       "                        }\n",
       "                        break;\n",
       "                    }\n",
       "                }\n",
       "            }, 500);\n",
       "            "
      ],
      "text/plain": [
       "<IPython.core.display.Javascript object>"
      ]
     },
     "metadata": {},
     "output_type": "display_data"
    }
   ],
   "source": [
    "with glm2:\n",
    "    ppc = pm.sample_posterior_predictive(\n",
    "        trace_glm2, random_seed=RANDOM_SEED, var_names=[\"award\", \"p\"]\n",
    "    )"
   ]
  },
  {
   "cell_type": "code",
   "execution_count": 304,
   "id": "5b85a7ce",
   "metadata": {
    "ExecuteTime": {
     "end_time": "2021-06-25T20:35:54.940237Z",
     "start_time": "2021-06-25T20:35:54.934230Z"
    }
   },
   "outputs": [
    {
     "data": {
      "text/plain": [
       "{'award': array([[18,  9, 28, ..., 55, 31, 44],\n",
       "        [21, 12, 17, ..., 58, 34, 44],\n",
       "        [22, 11, 25, ..., 53, 34, 34],\n",
       "        ...,\n",
       "        [37, 12, 26, ..., 30, 36, 50],\n",
       "        [31, 14, 35, ..., 53, 33, 35],\n",
       "        [21, 13, 22, ..., 62, 46, 51]]),\n",
       " 'p': array([[0.26526811, 0.25382417, 0.19670831, ..., 0.13664613, 0.13981549,\n",
       "         0.13280544],\n",
       "        [0.28637491, 0.26040275, 0.16007924, ..., 0.13658481, 0.1588481 ,\n",
       "         0.14213807],\n",
       "        [0.28050944, 0.26274977, 0.18256959, ..., 0.13642219, 0.1798816 ,\n",
       "         0.16701402],\n",
       "        ...,\n",
       "        [0.29541875, 0.25752246, 0.17200166, ..., 0.09862884, 0.19121972,\n",
       "         0.16358666],\n",
       "        [0.30486334, 0.2482912 , 0.18172517, ..., 0.13178139, 0.1592753 ,\n",
       "         0.12486641],\n",
       "        [0.28163589, 0.23727378, 0.17316441, ..., 0.1510227 , 0.19998097,\n",
       "         0.16551731]])}"
      ]
     },
     "execution_count": 304,
     "metadata": {},
     "output_type": "execute_result"
    },
    {
     "data": {
      "application/javascript": [
       "\n",
       "            setTimeout(function() {\n",
       "                var nbb_cell_id = 304;\n",
       "                var nbb_unformatted_code = \"ppc\";\n",
       "                var nbb_formatted_code = \"ppc\";\n",
       "                var nbb_cells = Jupyter.notebook.get_cells();\n",
       "                for (var i = 0; i < nbb_cells.length; ++i) {\n",
       "                    if (nbb_cells[i].input_prompt_number == nbb_cell_id) {\n",
       "                        if (nbb_cells[i].get_text() == nbb_unformatted_code) {\n",
       "                             nbb_cells[i].set_text(nbb_formatted_code);\n",
       "                        }\n",
       "                        break;\n",
       "                    }\n",
       "                }\n",
       "            }, 500);\n",
       "            "
      ],
      "text/plain": [
       "<IPython.core.display.Javascript object>"
      ]
     },
     "metadata": {},
     "output_type": "display_data"
    }
   ],
   "source": [
    "ppc"
   ]
  },
  {
   "cell_type": "code",
   "execution_count": 306,
   "id": "a31a0c76",
   "metadata": {
    "ExecuteTime": {
     "end_time": "2021-06-25T20:36:10.568850Z",
     "start_time": "2021-06-25T20:36:10.563022Z"
    }
   },
   "outputs": [
    {
     "data": {
      "text/plain": [
       "(4000, 18)"
      ]
     },
     "execution_count": 306,
     "metadata": {},
     "output_type": "execute_result"
    },
    {
     "data": {
      "application/javascript": [
       "\n",
       "            setTimeout(function() {\n",
       "                var nbb_cell_id = 306;\n",
       "                var nbb_unformatted_code = \"ppc[\\\"p\\\"].shape\";\n",
       "                var nbb_formatted_code = \"ppc[\\\"p\\\"].shape\";\n",
       "                var nbb_cells = Jupyter.notebook.get_cells();\n",
       "                for (var i = 0; i < nbb_cells.length; ++i) {\n",
       "                    if (nbb_cells[i].input_prompt_number == nbb_cell_id) {\n",
       "                        if (nbb_cells[i].get_text() == nbb_unformatted_code) {\n",
       "                             nbb_cells[i].set_text(nbb_formatted_code);\n",
       "                        }\n",
       "                        break;\n",
       "                    }\n",
       "                }\n",
       "            }, 500);\n",
       "            "
      ],
      "text/plain": [
       "<IPython.core.display.Javascript object>"
      ]
     },
     "metadata": {},
     "output_type": "display_data"
    }
   ],
   "source": [
    "ppc[\"p\"].shape"
   ]
  },
  {
   "cell_type": "code",
   "execution_count": null,
   "id": "06e0b59a",
   "metadata": {},
   "outputs": [],
   "source": []
  },
  {
   "cell_type": "code",
   "execution_count": 77,
   "id": "2ee5a588",
   "metadata": {
    "ExecuteTime": {
     "end_time": "2021-06-23T15:04:17.917616Z",
     "start_time": "2021-06-23T15:04:17.911488Z"
    }
   },
   "outputs": [
    {
     "data": {
      "text/plain": [
       "array([[ 83,  39, 135,  39,  67,   9, 230, 166, 189,  62, 105,  78, 156,\n",
       "        126, 425, 409, 245, 260]])"
      ]
     },
     "execution_count": 77,
     "metadata": {},
     "output_type": "execute_result"
    },
    {
     "data": {
      "application/javascript": [
       "\n",
       "            setTimeout(function() {\n",
       "                var nbb_cell_id = 77;\n",
       "                var nbb_unformatted_code = \"df_grants[\\\"applications\\\"].values[None, :]\";\n",
       "                var nbb_formatted_code = \"df_grants[\\\"applications\\\"].values[None, :]\";\n",
       "                var nbb_cells = Jupyter.notebook.get_cells();\n",
       "                for (var i = 0; i < nbb_cells.length; ++i) {\n",
       "                    if (nbb_cells[i].input_prompt_number == nbb_cell_id) {\n",
       "                        if (nbb_cells[i].get_text() == nbb_unformatted_code) {\n",
       "                             nbb_cells[i].set_text(nbb_formatted_code);\n",
       "                        }\n",
       "                        break;\n",
       "                    }\n",
       "                }\n",
       "            }, 500);\n",
       "            "
      ],
      "text/plain": [
       "<IPython.core.display.Javascript object>"
      ]
     },
     "metadata": {},
     "output_type": "display_data"
    }
   ],
   "source": [
    "df_grants[\"applications\"].values[None, :]"
   ]
  },
  {
   "cell_type": "code",
   "execution_count": 82,
   "id": "2549ca18",
   "metadata": {
    "ExecuteTime": {
     "end_time": "2021-06-23T15:04:29.838849Z",
     "start_time": "2021-06-23T15:04:29.833211Z"
    }
   },
   "outputs": [
    {
     "data": {
      "application/javascript": [
       "\n",
       "            setTimeout(function() {\n",
       "                var nbb_cell_id = 82;\n",
       "                var nbb_unformatted_code = \"pp_award = ppc / df_grants[\\\"applications\\\"].values[None, :]\";\n",
       "                var nbb_formatted_code = \"pp_award = ppc / df_grants[\\\"applications\\\"].values[None, :]\";\n",
       "                var nbb_cells = Jupyter.notebook.get_cells();\n",
       "                for (var i = 0; i < nbb_cells.length; ++i) {\n",
       "                    if (nbb_cells[i].input_prompt_number == nbb_cell_id) {\n",
       "                        if (nbb_cells[i].get_text() == nbb_unformatted_code) {\n",
       "                             nbb_cells[i].set_text(nbb_formatted_code);\n",
       "                        }\n",
       "                        break;\n",
       "                    }\n",
       "                }\n",
       "            }, 500);\n",
       "            "
      ],
      "text/plain": [
       "<IPython.core.display.Javascript object>"
      ]
     },
     "metadata": {},
     "output_type": "display_data"
    }
   ],
   "source": [
    "pp_award = ppc / df_grants[\"applications\"].values[None, :]"
   ]
  },
  {
   "cell_type": "code",
   "execution_count": 123,
   "id": "3f5c71d5",
   "metadata": {
    "ExecuteTime": {
     "end_time": "2021-06-23T15:38:06.416935Z",
     "start_time": "2021-06-23T15:38:06.413596Z"
    }
   },
   "outputs": [
    {
     "data": {
      "application/javascript": [
       "\n",
       "            setTimeout(function() {\n",
       "                var nbb_cell_id = 123;\n",
       "                var nbb_unformatted_code = \"# trace_glm2_df.columns\";\n",
       "                var nbb_formatted_code = \"# trace_glm2_df.columns\";\n",
       "                var nbb_cells = Jupyter.notebook.get_cells();\n",
       "                for (var i = 0; i < nbb_cells.length; ++i) {\n",
       "                    if (nbb_cells[i].input_prompt_number == nbb_cell_id) {\n",
       "                        if (nbb_cells[i].get_text() == nbb_unformatted_code) {\n",
       "                             nbb_cells[i].set_text(nbb_formatted_code);\n",
       "                        }\n",
       "                        break;\n",
       "                    }\n",
       "                }\n",
       "            }, 500);\n",
       "            "
      ],
      "text/plain": [
       "<IPython.core.display.Javascript object>"
      ]
     },
     "metadata": {},
     "output_type": "display_data"
    }
   ],
   "source": [
    "# trace_glm2_df.columns"
   ]
  },
  {
   "cell_type": "code",
   "execution_count": 97,
   "id": "53d555e4",
   "metadata": {
    "ExecuteTime": {
     "end_time": "2021-06-23T15:10:28.810525Z",
     "start_time": "2021-06-23T15:10:28.805067Z"
    }
   },
   "outputs": [
    {
     "data": {
      "text/plain": [
       "(4000, 18)"
      ]
     },
     "execution_count": 97,
     "metadata": {},
     "output_type": "execute_result"
    },
    {
     "data": {
      "application/javascript": [
       "\n",
       "            setTimeout(function() {\n",
       "                var nbb_cell_id = 97;\n",
       "                var nbb_unformatted_code = \"pp_award.shape\";\n",
       "                var nbb_formatted_code = \"pp_award.shape\";\n",
       "                var nbb_cells = Jupyter.notebook.get_cells();\n",
       "                for (var i = 0; i < nbb_cells.length; ++i) {\n",
       "                    if (nbb_cells[i].input_prompt_number == nbb_cell_id) {\n",
       "                        if (nbb_cells[i].get_text() == nbb_unformatted_code) {\n",
       "                             nbb_cells[i].set_text(nbb_formatted_code);\n",
       "                        }\n",
       "                        break;\n",
       "                    }\n",
       "                }\n",
       "            }, 500);\n",
       "            "
      ],
      "text/plain": [
       "<IPython.core.display.Javascript object>"
      ]
     },
     "metadata": {},
     "output_type": "display_data"
    }
   ],
   "source": [
    "pp_award.shape"
   ]
  },
  {
   "cell_type": "code",
   "execution_count": 95,
   "id": "73a84e68",
   "metadata": {
    "ExecuteTime": {
     "end_time": "2021-06-23T15:10:06.698352Z",
     "start_time": "2021-06-23T15:10:06.687981Z"
    }
   },
   "outputs": [
    {
     "data": {
      "text/html": [
       "<div>\n",
       "<style scoped>\n",
       "    .dataframe tbody tr th:only-of-type {\n",
       "        vertical-align: middle;\n",
       "    }\n",
       "\n",
       "    .dataframe tbody tr th {\n",
       "        vertical-align: top;\n",
       "    }\n",
       "\n",
       "    .dataframe thead th {\n",
       "        text-align: right;\n",
       "    }\n",
       "</style>\n",
       "<table border=\"1\" class=\"dataframe\">\n",
       "  <thead>\n",
       "    <tr style=\"text-align: right;\">\n",
       "      <th></th>\n",
       "      <th>discipline</th>\n",
       "      <th>gender</th>\n",
       "      <th>applications</th>\n",
       "      <th>awards</th>\n",
       "      <th>prop_awarded</th>\n",
       "      <th>discipline_code</th>\n",
       "      <th>gender_code</th>\n",
       "    </tr>\n",
       "  </thead>\n",
       "  <tbody>\n",
       "    <tr>\n",
       "      <th>13</th>\n",
       "      <td>Earth/life sciences</td>\n",
       "      <td>f</td>\n",
       "      <td>126</td>\n",
       "      <td>18</td>\n",
       "      <td>0.142857</td>\n",
       "      <td>1</td>\n",
       "      <td>1</td>\n",
       "    </tr>\n",
       "    <tr>\n",
       "      <th>14</th>\n",
       "      <td>Social sciences</td>\n",
       "      <td>m</td>\n",
       "      <td>425</td>\n",
       "      <td>65</td>\n",
       "      <td>0.152941</td>\n",
       "      <td>7</td>\n",
       "      <td>0</td>\n",
       "    </tr>\n",
       "    <tr>\n",
       "      <th>15</th>\n",
       "      <td>Social sciences</td>\n",
       "      <td>f</td>\n",
       "      <td>409</td>\n",
       "      <td>47</td>\n",
       "      <td>0.114914</td>\n",
       "      <td>7</td>\n",
       "      <td>1</td>\n",
       "    </tr>\n",
       "    <tr>\n",
       "      <th>16</th>\n",
       "      <td>Medical sciences</td>\n",
       "      <td>m</td>\n",
       "      <td>245</td>\n",
       "      <td>46</td>\n",
       "      <td>0.187755</td>\n",
       "      <td>4</td>\n",
       "      <td>0</td>\n",
       "    </tr>\n",
       "    <tr>\n",
       "      <th>17</th>\n",
       "      <td>Medical sciences</td>\n",
       "      <td>f</td>\n",
       "      <td>260</td>\n",
       "      <td>29</td>\n",
       "      <td>0.111538</td>\n",
       "      <td>4</td>\n",
       "      <td>1</td>\n",
       "    </tr>\n",
       "  </tbody>\n",
       "</table>\n",
       "</div>"
      ],
      "text/plain": [
       "             discipline gender  applications  awards  prop_awarded  \\\n",
       "13  Earth/life sciences      f           126      18      0.142857   \n",
       "14      Social sciences      m           425      65      0.152941   \n",
       "15      Social sciences      f           409      47      0.114914   \n",
       "16     Medical sciences      m           245      46      0.187755   \n",
       "17     Medical sciences      f           260      29      0.111538   \n",
       "\n",
       "    discipline_code  gender_code  \n",
       "13                1            1  \n",
       "14                7            0  \n",
       "15                7            1  \n",
       "16                4            0  \n",
       "17                4            1  "
      ]
     },
     "execution_count": 95,
     "metadata": {},
     "output_type": "execute_result"
    },
    {
     "data": {
      "application/javascript": [
       "\n",
       "            setTimeout(function() {\n",
       "                var nbb_cell_id = 95;\n",
       "                var nbb_unformatted_code = \"df_grants.tail()\";\n",
       "                var nbb_formatted_code = \"df_grants.tail()\";\n",
       "                var nbb_cells = Jupyter.notebook.get_cells();\n",
       "                for (var i = 0; i < nbb_cells.length; ++i) {\n",
       "                    if (nbb_cells[i].input_prompt_number == nbb_cell_id) {\n",
       "                        if (nbb_cells[i].get_text() == nbb_unformatted_code) {\n",
       "                             nbb_cells[i].set_text(nbb_formatted_code);\n",
       "                        }\n",
       "                        break;\n",
       "                    }\n",
       "                }\n",
       "            }, 500);\n",
       "            "
      ],
      "text/plain": [
       "<IPython.core.display.Javascript object>"
      ]
     },
     "metadata": {},
     "output_type": "display_data"
    }
   ],
   "source": [
    "df_grants.tail()"
   ]
  },
  {
   "cell_type": "code",
   "execution_count": 122,
   "id": "5760caa6",
   "metadata": {
    "ExecuteTime": {
     "end_time": "2021-06-23T15:34:02.000836Z",
     "start_time": "2021-06-23T15:34:01.536308Z"
    }
   },
   "outputs": [
    {
     "name": "stderr",
     "output_type": "stream",
     "text": [
      "/Users/blacar/opt/anaconda3/envs/stats_rethinking/lib/python3.8/site-packages/arviz/stats/stats.py:493: FutureWarning: hdi currently interprets 2d data as (draw, shape) but this will change in a future release to (chain, draw) for coherence with other functions\n",
      "  warnings.warn(\n"
     ]
    },
    {
     "data": {
      "text/plain": [
       "[Text(-2.5, 0, ''),\n",
       " Text(0.0, 0, ''),\n",
       " Text(2.5, 0, ''),\n",
       " Text(5.0, 0, ''),\n",
       " Text(7.5, 0, ''),\n",
       " Text(10.0, 0, ''),\n",
       " Text(12.5, 0, ''),\n",
       " Text(15.0, 0, ''),\n",
       " Text(17.5, 0, ''),\n",
       " Text(20.0, 0, '')]"
      ]
     },
     "execution_count": 122,
     "metadata": {},
     "output_type": "execute_result"
    },
    {
     "data": {
      "image/png": "[encoded data removed]",
      "text/plain": [
       "<Figure size 1200x400 with 1 Axes>"
      ]
     },
     "metadata": {
      "image/png": {
       "height": 411,
       "width": 1211
      }
     },
     "output_type": "display_data"
    },
    {
     "data": {
      "application/javascript": [
       "\n",
       "            setTimeout(function() {\n",
       "                var nbb_cell_id = 122;\n",
       "                var nbb_unformatted_code = \"f, ax1 = plt.subplots(figsize=(12, 4))\\n\\n# Iterate through each department\\nfor i in range(9):\\n    x = 2 * i\\n\\n    # print(x)\\n\\n    y1 = df_grants[\\\"awards\\\"][x] / df_grants[\\\"applications\\\"][x]\\n    y2 = df_grants[\\\"awards\\\"][x + 1] / df_grants[\\\"applications\\\"][x + 1]\\n\\n    ax1.plot([x, x + 1], [y1, y2], \\\"-C0o\\\", alpha=0.6, lw=2)\\n    if x % 4 == 0:\\n        ytext_val = 0\\n    else:\\n        ytext_val = -0.05\\n    ax1.text(\\n        x - 0.25,\\n        ytext_val,\\n        df_grants[\\\"discipline\\\"][x],\\n        fontsize=10,\\n        rotation=0,\\n        ha=\\\"left\\\",\\n    )\\n\\n    ax1.plot(\\n        x,\\n        trace_glm2_df[(\\\"posterior\\\", \\\"p[\\\" + str(x) + \\\"]\\\", x)].mean(0),\\n        \\\"ko\\\",\\n        fillstyle=\\\"none\\\",\\n        ms=6,\\n        alpha=0.6,\\n    )\\n\\n    ax1.plot(\\n        x + 1,\\n        trace_glm2_df[(\\\"posterior\\\", \\\"p[\\\" + str(x + 1) + \\\"]\\\", x + 1)].mean(0),\\n        \\\"ko\\\",\\n        fillstyle=\\\"none\\\",\\n        ms=6,\\n        alpha=0.6,\\n    )\\n\\nax1.plot([range(0, 18), range(0, 18)], az.hdi(pp_award).T, \\\"k+\\\", ms=6, alpha=0.6)\\n\\nax1.set_xlabel(\\\"\\\")\\nax1.set_ylabel(\\\"proportion of awards\\\")\\nax1.set_title(\\\"Posterior validation check (verify this plot again)\\\")\\nax1.set_xticklabels([])\";\n",
       "                var nbb_formatted_code = \"f, ax1 = plt.subplots(figsize=(12, 4))\\n\\n# Iterate through each department\\nfor i in range(9):\\n    x = 2 * i\\n\\n    # print(x)\\n\\n    y1 = df_grants[\\\"awards\\\"][x] / df_grants[\\\"applications\\\"][x]\\n    y2 = df_grants[\\\"awards\\\"][x + 1] / df_grants[\\\"applications\\\"][x + 1]\\n\\n    ax1.plot([x, x + 1], [y1, y2], \\\"-C0o\\\", alpha=0.6, lw=2)\\n    if x % 4 == 0:\\n        ytext_val = 0\\n    else:\\n        ytext_val = -0.05\\n    ax1.text(\\n        x - 0.25,\\n        ytext_val,\\n        df_grants[\\\"discipline\\\"][x],\\n        fontsize=10,\\n        rotation=0,\\n        ha=\\\"left\\\",\\n    )\\n\\n    ax1.plot(\\n        x,\\n        trace_glm2_df[(\\\"posterior\\\", \\\"p[\\\" + str(x) + \\\"]\\\", x)].mean(0),\\n        \\\"ko\\\",\\n        fillstyle=\\\"none\\\",\\n        ms=6,\\n        alpha=0.6,\\n    )\\n\\n    ax1.plot(\\n        x + 1,\\n        trace_glm2_df[(\\\"posterior\\\", \\\"p[\\\" + str(x + 1) + \\\"]\\\", x + 1)].mean(0),\\n        \\\"ko\\\",\\n        fillstyle=\\\"none\\\",\\n        ms=6,\\n        alpha=0.6,\\n    )\\n\\nax1.plot([range(0, 18), range(0, 18)], az.hdi(pp_award).T, \\\"k+\\\", ms=6, alpha=0.6)\\n\\nax1.set_xlabel(\\\"\\\")\\nax1.set_ylabel(\\\"proportion of awards\\\")\\nax1.set_title(\\\"Posterior validation check (verify this plot again)\\\")\\nax1.set_xticklabels([])\";\n",
       "                var nbb_cells = Jupyter.notebook.get_cells();\n",
       "                for (var i = 0; i < nbb_cells.length; ++i) {\n",
       "                    if (nbb_cells[i].input_prompt_number == nbb_cell_id) {\n",
       "                        if (nbb_cells[i].get_text() == nbb_unformatted_code) {\n",
       "                             nbb_cells[i].set_text(nbb_formatted_code);\n",
       "                        }\n",
       "                        break;\n",
       "                    }\n",
       "                }\n",
       "            }, 500);\n",
       "            "
      ],
      "text/plain": [
       "<IPython.core.display.Javascript object>"
      ]
     },
     "metadata": {},
     "output_type": "display_data"
    }
   ],
   "source": [
    "f, ax1 = plt.subplots(figsize=(12, 4))\n",
    "\n",
    "# Iterate through each department\n",
    "for i in range(9):\n",
    "    x = 2 * i\n",
    "\n",
    "    # print(x)\n",
    "\n",
    "    y1 = df_grants[\"awards\"][x] / df_grants[\"applications\"][x]\n",
    "    y2 = df_grants[\"awards\"][x + 1] / df_grants[\"applications\"][x + 1]\n",
    "\n",
    "    ax1.plot([x, x + 1], [y1, y2], \"-C0o\", alpha=0.6, lw=2)\n",
    "    if x % 4 == 0:\n",
    "        ytext_val = 0\n",
    "    else:\n",
    "        ytext_val = -0.05\n",
    "    ax1.text(\n",
    "        x - 0.25,\n",
    "        ytext_val,\n",
    "        df_grants[\"discipline\"][x],\n",
    "        fontsize=10,\n",
    "        rotation=0,\n",
    "        ha=\"left\",\n",
    "    )\n",
    "\n",
    "    ax1.plot(\n",
    "        x,\n",
    "        trace_glm2_df[(\"posterior\", \"p[\" + str(x) + \"]\", x)].mean(0),\n",
    "        \"ko\",\n",
    "        fillstyle=\"none\",\n",
    "        ms=6,\n",
    "        alpha=0.6,\n",
    "    )\n",
    "\n",
    "    ax1.plot(\n",
    "        x + 1,\n",
    "        trace_glm2_df[(\"posterior\", \"p[\" + str(x + 1) + \"]\", x + 1)].mean(0),\n",
    "        \"ko\",\n",
    "        fillstyle=\"none\",\n",
    "        ms=6,\n",
    "        alpha=0.6,\n",
    "    )\n",
    "\n",
    "ax1.plot([range(0, 18), range(0, 18)], az.hdi(pp_award).T, \"k+\", ms=6, alpha=0.6)\n",
    "\n",
    "ax1.set_xlabel(\"\")\n",
    "ax1.set_ylabel(\"proportion of awards\")\n",
    "ax1.set_title(\"Posterior validation check (verify this plot again)\")\n",
    "ax1.set_xticklabels([])"
   ]
  },
  {
   "cell_type": "code",
   "execution_count": null,
   "id": "e4c2f845",
   "metadata": {},
   "outputs": [],
   "source": []
  },
  {
   "cell_type": "code",
   "execution_count": null,
   "id": "7fec3c43",
   "metadata": {},
   "outputs": [],
   "source": []
  },
  {
   "cell_type": "markdown",
   "id": "48864811",
   "metadata": {
    "ExecuteTime": {
     "end_time": "2021-06-22T16:07:07.152950Z",
     "start_time": "2021-06-22T16:07:07.149375Z"
    }
   },
   "source": [
    "## Follow-up\n",
    "\n",
    "- I need to better understand relative/absolute and connect it to the logit/probability metrics.\n",
    "\n",
    "- Also see about predictions versus observed.... predictions look worse for females in all discipliens."
   ]
  },
  {
   "cell_type": "code",
   "execution_count": null,
   "id": "1a26d5ab",
   "metadata": {},
   "outputs": [],
   "source": []
  },
  {
   "cell_type": "markdown",
   "id": "7fd2e888",
   "metadata": {},
   "source": [
    "# Question 2 (11H8)\n",
    "\n",
    "Consider one more variable in the Trolley data: Gender. Suppose that gender might influence education as well as response directly. Draw the DAG now that includes response, education, age, and gender.\n",
    "\n",
    "Using only the DAG, is it possible that the inferences from Problem 1 are confounded by gender? If so, define any additional models you need to infer the causal influence of education on response. What do you conclude?"
   ]
  },
  {
   "cell_type": "markdown",
   "id": "497523d7",
   "metadata": {},
   "source": [
    "## New DAG"
   ]
  },
  {
   "cell_type": "code",
   "execution_count": 31,
   "id": "90a7f253",
   "metadata": {
    "ExecuteTime": {
     "end_time": "2021-07-02T15:17:54.736933Z",
     "start_time": "2021-07-02T15:17:54.632300Z"
    }
   },
   "outputs": [
    {
     "data": {
      "text/plain": [
       "<matplotlib.axes._axes.Axes at 0x7fe019325bb0>"
      ]
     },
     "execution_count": 31,
     "metadata": {},
     "output_type": "execute_result"
    },
    {
     "name": "stderr",
     "output_type": "stream",
     "text": [
      "/Users/blacar/opt/anaconda3/envs/stats_rethinking/lib/python3.8/site-packages/IPython/core/pylabtools.py:132: UserWarning: Calling figure.constrained_layout, but figure not setup to do constrained layout.  You either called GridSpec without the fig keyword, you are using plt.subplot, or you need to call figure or subplots with the constrained_layout=True kwarg.\n",
      "  fig.canvas.print_figure(bytes_io, **kw)\n"
     ]
    },
    {
     "data": {
      "image/png": "[encoded data removed]",
      "text/plain": [
       "<Figure size 212.598x133.858 with 1 Axes>"
      ]
     },
     "metadata": {
      "image/png": {
       "height": 153,
       "width": 232
      }
     },
     "output_type": "display_data"
    },
    {
     "data": {
      "application/javascript": [
       "\n",
       "            setTimeout(function() {\n",
       "                var nbb_cell_id = 31;\n",
       "                var nbb_unformatted_code = \"pipe_dag = CausalGraphicalModel(\\n    nodes=[\\\"E\\\", \\\"A\\\", \\\"R\\\"],\\n    edges=[\\n        (\\\"E\\\", \\\"A\\\"),\\n        (\\\"A\\\", \\\"R\\\"),\\n        (\\\"E\\\", \\\"R\\\"),\\n    ],\\n)\\npgm = daft.PGM()\\n\\ncoordinates = {\\n    \\\"E\\\": (0, 0),\\n    \\\"A\\\": (1, 1),\\n    \\\"R\\\": (2, 0),\\n}\\nfor node in pipe_dag.dag.nodes:\\n    pgm.add_node(node, node, *coordinates[node])\\nfor edge in pipe_dag.dag.edges:\\n    pgm.add_edge(*edge)\\npgm.render()\";\n",
       "                var nbb_formatted_code = \"pipe_dag = CausalGraphicalModel(\\n    nodes=[\\\"E\\\", \\\"A\\\", \\\"R\\\"],\\n    edges=[\\n        (\\\"E\\\", \\\"A\\\"),\\n        (\\\"A\\\", \\\"R\\\"),\\n        (\\\"E\\\", \\\"R\\\"),\\n    ],\\n)\\npgm = daft.PGM()\\n\\ncoordinates = {\\n    \\\"E\\\": (0, 0),\\n    \\\"A\\\": (1, 1),\\n    \\\"R\\\": (2, 0),\\n}\\nfor node in pipe_dag.dag.nodes:\\n    pgm.add_node(node, node, *coordinates[node])\\nfor edge in pipe_dag.dag.edges:\\n    pgm.add_edge(*edge)\\npgm.render()\";\n",
       "                var nbb_cells = Jupyter.notebook.get_cells();\n",
       "                for (var i = 0; i < nbb_cells.length; ++i) {\n",
       "                    if (nbb_cells[i].input_prompt_number == nbb_cell_id) {\n",
       "                        if (nbb_cells[i].get_text() == nbb_unformatted_code) {\n",
       "                             nbb_cells[i].set_text(nbb_formatted_code);\n",
       "                        }\n",
       "                        break;\n",
       "                    }\n",
       "                }\n",
       "            }, 500);\n",
       "            "
      ],
      "text/plain": [
       "<IPython.core.display.Javascript object>"
      ]
     },
     "metadata": {},
     "output_type": "display_data"
    }
   ],
   "source": [
    "pipe_dag = CausalGraphicalModel(\n",
    "    nodes=[\"E\", \"A\", \"R\"],\n",
    "    edges=[\n",
    "        (\"E\", \"A\"),\n",
    "        (\"A\", \"R\"),\n",
    "        (\"E\", \"R\"),\n",
    "    ],\n",
    ")\n",
    "pgm = daft.PGM()\n",
    "\n",
    "coordinates = {\n",
    "    \"E\": (0, 0),\n",
    "    \"A\": (1, 1),\n",
    "    \"R\": (2, 0),\n",
    "}\n",
    "for node in pipe_dag.dag.nodes:\n",
    "    pgm.add_node(node, node, *coordinates[node])\n",
    "for edge in pipe_dag.dag.edges:\n",
    "    pgm.add_edge(*edge)\n",
    "pgm.render()\n"
   ]
  },
  {
   "cell_type": "code",
   "execution_count": 32,
   "id": "49f62f9c",
   "metadata": {
    "ExecuteTime": {
     "end_time": "2021-07-02T15:18:54.712768Z",
     "start_time": "2021-07-02T15:18:54.582622Z"
    }
   },
   "outputs": [
    {
     "data": {
      "text/plain": [
       "<matplotlib.axes._axes.Axes at 0x7fe009ed8c70>"
      ]
     },
     "execution_count": 32,
     "metadata": {},
     "output_type": "execute_result"
    },
    {
     "name": "stderr",
     "output_type": "stream",
     "text": [
      "/Users/blacar/opt/anaconda3/envs/stats_rethinking/lib/python3.8/site-packages/IPython/core/pylabtools.py:132: UserWarning: Calling figure.constrained_layout, but figure not setup to do constrained layout.  You either called GridSpec without the fig keyword, you are using plt.subplot, or you need to call figure or subplots with the constrained_layout=True kwarg.\n",
      "  fig.canvas.print_figure(bytes_io, **kw)\n"
     ]
    },
    {
     "data": {
      "image/png": "[encoded data removed]",
      "text/plain": [
       "<Figure size 212.598x212.598 with 1 Axes>"
      ]
     },
     "metadata": {
      "image/png": {
       "height": 232,
       "width": 232
      }
     },
     "output_type": "display_data"
    },
    {
     "data": {
      "application/javascript": [
       "\n",
       "            setTimeout(function() {\n",
       "                var nbb_cell_id = 32;\n",
       "                var nbb_unformatted_code = \"pipe_dag = CausalGraphicalModel(\\n    nodes=[\\\"E\\\", \\\"G\\\", \\\"A\\\", \\\"R\\\"],\\n    edges=[\\n        (\\\"E\\\", \\\"A\\\"),\\n        (\\\"A\\\", \\\"R\\\"),\\n        (\\\"E\\\", \\\"R\\\"),\\n        (\\\"G\\\", \\\"R\\\"),\\n        (\\\"G\\\", \\\"E\\\"),\\n    ],\\n)\\npgm = daft.PGM()\\n\\ncoordinates = {\\n    \\\"E\\\": (0, 0),\\n    \\\"A\\\": (1, 1),\\n    \\\"R\\\": (2, 0),\\n    \\\"G\\\": (1, -1),\\n}\\nfor node in pipe_dag.dag.nodes:\\n    pgm.add_node(node, node, *coordinates[node])\\nfor edge in pipe_dag.dag.edges:\\n    pgm.add_edge(*edge)\\npgm.render()\";\n",
       "                var nbb_formatted_code = \"pipe_dag = CausalGraphicalModel(\\n    nodes=[\\\"E\\\", \\\"G\\\", \\\"A\\\", \\\"R\\\"],\\n    edges=[\\n        (\\\"E\\\", \\\"A\\\"),\\n        (\\\"A\\\", \\\"R\\\"),\\n        (\\\"E\\\", \\\"R\\\"),\\n        (\\\"G\\\", \\\"R\\\"),\\n        (\\\"G\\\", \\\"E\\\"),\\n    ],\\n)\\npgm = daft.PGM()\\n\\ncoordinates = {\\n    \\\"E\\\": (0, 0),\\n    \\\"A\\\": (1, 1),\\n    \\\"R\\\": (2, 0),\\n    \\\"G\\\": (1, -1),\\n}\\nfor node in pipe_dag.dag.nodes:\\n    pgm.add_node(node, node, *coordinates[node])\\nfor edge in pipe_dag.dag.edges:\\n    pgm.add_edge(*edge)\\npgm.render()\";\n",
       "                var nbb_cells = Jupyter.notebook.get_cells();\n",
       "                for (var i = 0; i < nbb_cells.length; ++i) {\n",
       "                    if (nbb_cells[i].input_prompt_number == nbb_cell_id) {\n",
       "                        if (nbb_cells[i].get_text() == nbb_unformatted_code) {\n",
       "                             nbb_cells[i].set_text(nbb_formatted_code);\n",
       "                        }\n",
       "                        break;\n",
       "                    }\n",
       "                }\n",
       "            }, 500);\n",
       "            "
      ],
      "text/plain": [
       "<IPython.core.display.Javascript object>"
      ]
     },
     "metadata": {},
     "output_type": "display_data"
    }
   ],
   "source": [
    "pipe_dag = CausalGraphicalModel(\n",
    "    nodes=[\"E\", \"G\", \"A\", \"R\"],\n",
    "    edges=[\n",
    "        (\"E\", \"A\"),\n",
    "        (\"A\", \"R\"),\n",
    "        (\"E\", \"R\"),\n",
    "        (\"G\", \"R\"),\n",
    "        (\"G\", \"E\"),\n",
    "    ],\n",
    ")\n",
    "pgm = daft.PGM()\n",
    "\n",
    "coordinates = {\n",
    "    \"E\": (0, 0),\n",
    "    \"A\": (1, 1),\n",
    "    \"R\": (2, 0),\n",
    "    \"G\": (1, -1),\n",
    "}\n",
    "for node in pipe_dag.dag.nodes:\n",
    "    pgm.add_node(node, node, *coordinates[node])\n",
    "for edge in pipe_dag.dag.edges:\n",
    "    pgm.add_edge(*edge)\n",
    "pgm.render()\n"
   ]
  },
  {
   "cell_type": "markdown",
   "id": "686138e2",
   "metadata": {},
   "source": [
    "**Update**\n",
    "\n",
    "In terms of the paths of G to A, we now have the following:\n",
    "\n",
    "- G > A (direct)\n",
    "- G > D > A (D acts as a pipe)\n",
    "- G > D < US > A (D acts as a collider)\n",
    "\n",
    "Therefore, we're \"hurt\" by the fact that we can't answer our question with satisfaction since there are problems whether we condition on D or not.\n",
    "\n",
    "McElreath's suggestion: \"What can be done in these situations? The best thing is to stop analyzing convenient,\n",
    "confounded data and instead design a real study.\""
   ]
  },
  {
   "cell_type": "code",
   "execution_count": 37,
   "id": "c195d4c6",
   "metadata": {
    "ExecuteTime": {
     "end_time": "2021-07-03T02:16:34.963988Z",
     "start_time": "2021-07-03T02:16:34.956865Z"
    }
   },
   "outputs": [
    {
     "data": {
      "text/plain": [
       "array([[ 1,  4],\n",
       "       [ 9, 16]])"
      ]
     },
     "execution_count": 37,
     "metadata": {},
     "output_type": "execute_result"
    },
    {
     "data": {
      "application/javascript": [
       "\n",
       "            setTimeout(function() {\n",
       "                var nbb_cell_id = 37;\n",
       "                var nbb_unformatted_code = \"np.array([[1, 2], [3, 4]])**2\";\n",
       "                var nbb_formatted_code = \"np.array([[1, 2], [3, 4]]) ** 2\";\n",
       "                var nbb_cells = Jupyter.notebook.get_cells();\n",
       "                for (var i = 0; i < nbb_cells.length; ++i) {\n",
       "                    if (nbb_cells[i].input_prompt_number == nbb_cell_id) {\n",
       "                        if (nbb_cells[i].get_text() == nbb_unformatted_code) {\n",
       "                             nbb_cells[i].set_text(nbb_formatted_code);\n",
       "                        }\n",
       "                        break;\n",
       "                    }\n",
       "                }\n",
       "            }, 500);\n",
       "            "
      ],
      "text/plain": [
       "<IPython.core.display.Javascript object>"
      ]
     },
     "metadata": {},
     "output_type": "display_data"
    }
   ],
   "source": [
    "np.array([[1, 2], [3, 4]])**2"
   ]
  },
  {
   "cell_type": "markdown",
   "id": "seeing-overall",
   "metadata": {},
   "source": [
    "Appendix: Environment and system parameters"
   ]
  },
  {
   "cell_type": "code",
   "execution_count": 33,
   "id": "ethical-template",
   "metadata": {
    "ExecuteTime": {
     "end_time": "2021-07-02T15:19:32.555542Z",
     "start_time": "2021-07-02T15:19:32.526271Z"
    },
    "scrolled": true
   },
   "outputs": [
    {
     "name": "stdout",
     "output_type": "stream",
     "text": [
      "Last updated: Fri Jul 02 2021\n",
      "\n",
      "Python implementation: CPython\n",
      "Python version       : 3.8.6\n",
      "IPython version      : 7.20.0\n",
      "\n",
      "pandas    : 1.2.1\n",
      "matplotlib: 3.3.4\n",
      "arviz     : 0.11.1\n",
      "pymc3     : 3.11.0\n",
      "daft      : 0.1.0\n",
      "json      : 2.0.9\n",
      "numpy     : 1.20.1\n",
      "seaborn   : 0.11.1\n",
      "scipy     : 1.6.0\n",
      "\n",
      "Watermark: 2.1.0\n",
      "\n"
     ]
    },
    {
     "data": {
      "application/javascript": [
       "\n",
       "            setTimeout(function() {\n",
       "                var nbb_cell_id = 33;\n",
       "                var nbb_unformatted_code = \"%watermark -n -u -v -iv -w\";\n",
       "                var nbb_formatted_code = \"%watermark -n -u -v -iv -w\";\n",
       "                var nbb_cells = Jupyter.notebook.get_cells();\n",
       "                for (var i = 0; i < nbb_cells.length; ++i) {\n",
       "                    if (nbb_cells[i].input_prompt_number == nbb_cell_id) {\n",
       "                        if (nbb_cells[i].get_text() == nbb_unformatted_code) {\n",
       "                             nbb_cells[i].set_text(nbb_formatted_code);\n",
       "                        }\n",
       "                        break;\n",
       "                    }\n",
       "                }\n",
       "            }, 500);\n",
       "            "
      ],
      "text/plain": [
       "<IPython.core.display.Javascript object>"
      ]
     },
     "metadata": {},
     "output_type": "display_data"
    }
   ],
   "source": [
    "%watermark -n -u -v -iv -w"
   ]
  },
  {
   "cell_type": "code",
   "execution_count": null,
   "id": "be8e540e",
   "metadata": {},
   "outputs": [],
   "source": []
  }
 ],
 "metadata": {
  "kernelspec": {
   "display_name": "Python 3",
   "language": "python",
   "name": "python3"
  },
  "language_info": {
   "codemirror_mode": {
    "name": "ipython",
    "version": 3
   },
   "file_extension": ".py",
   "mimetype": "text/x-python",
   "name": "python",
   "nbconvert_exporter": "python",
   "pygments_lexer": "ipython3",
   "version": "3.8.6"
  },
  "latex_envs": {
   "LaTeX_envs_menu_present": true,
   "autoclose": false,
   "autocomplete": true,
   "bibliofile": "biblio.bib",
   "cite_by": "apalike",
   "current_citInitial": 1,
   "eqLabelWithNumbers": true,
   "eqNumInitial": 1,
   "hotkeys": {
    "equation": "Ctrl-E",
    "itemize": "Ctrl-I"
   },
   "labels_anchors": false,
   "latex_user_defs": false,
   "report_style_numbering": false,
   "user_envs_cfg": false
  },
  "toc": {
   "base_numbering": 1,
   "nav_menu": {},
   "number_sections": true,
   "sideBar": true,
   "skip_h1_title": false,
   "title_cell": "Table of Contents",
   "title_sidebar": "Contents",
   "toc_cell": false,
   "toc_position": {
    "height": "calc(100% - 180px)",
    "left": "10px",
    "top": "150px",
    "width": "288px"
   },
   "toc_section_display": true,
   "toc_window_display": true
  },
  "varInspector": {
   "cols": {
    "lenName": 16,
    "lenType": 16,
    "lenVar": 40
   },
   "kernels_config": {
    "python": {
     "delete_cmd_postfix": "",
     "delete_cmd_prefix": "del ",
     "library": "var_list.py",
     "varRefreshCmd": "print(var_dic_list())"
    },
    "r": {
     "delete_cmd_postfix": ") ",
     "delete_cmd_prefix": "rm(",
     "library": "var_list.r",
     "varRefreshCmd": "cat(var_dic_list()) "
    }
   },
   "types_to_exclude": [
    "module",
    "function",
    "builtin_function_or_method",
    "instance",
    "_Feature"
   ],
   "window_display": false
  }
 },
 "nbformat": 4,
 "nbformat_minor": 5
}
