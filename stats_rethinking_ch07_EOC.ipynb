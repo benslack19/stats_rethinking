{
 "cells": [
  {
   "cell_type": "markdown",
   "id": "standard-square",
   "metadata": {},
   "source": [
    "**Chapter 7, end-of-chapter problems**\n"
   ]
  },
  {
   "cell_type": "code",
   "execution_count": 5,
   "id": "mental-presence",
   "metadata": {
    "ExecuteTime": {
     "end_time": "2021-05-29T16:29:49.407629Z",
     "start_time": "2021-05-29T16:29:43.978660Z"
    }
   },
   "outputs": [],
   "source": [
    "import arviz as az\n",
    "import matplotlib.pyplot as plt\n",
    "import numpy as np\n",
    "import os\n",
    "import pandas as pd\n",
    "import pymc3 as pm\n",
    "import scipy.stats as stats\n",
    "import seaborn as sns\n",
    "import daft\n",
    "from causalgraphicalmodels import CausalGraphicalModel\n",
    "\n",
    "from scipy.interpolate import griddata"
   ]
  },
  {
   "cell_type": "code",
   "execution_count": 6,
   "id": "israeli-insurance",
   "metadata": {
    "ExecuteTime": {
     "end_time": "2021-05-29T16:29:50.276805Z",
     "start_time": "2021-05-29T16:29:50.165637Z"
    }
   },
   "outputs": [
    {
     "data": {
      "application/javascript": [
       "\n",
       "            setTimeout(function() {\n",
       "                var nbb_cell_id = 6;\n",
       "                var nbb_unformatted_code = \"%load_ext nb_black\\n%config InlineBackend.figure_format = 'retina'\\n%load_ext watermark\\nRANDOM_SEED = 8927\\nnp.random.seed(RANDOM_SEED)\\naz.style.use(\\\"arviz-darkgrid\\\")\\naz.rcParams[\\\"stats.hdi_prob\\\"] = 0.89  # sets default credible interval used by arviz\";\n",
       "                var nbb_formatted_code = \"%load_ext nb_black\\n%config InlineBackend.figure_format = 'retina'\\n%load_ext watermark\\nRANDOM_SEED = 8927\\nnp.random.seed(RANDOM_SEED)\\naz.style.use(\\\"arviz-darkgrid\\\")\\naz.rcParams[\\\"stats.hdi_prob\\\"] = 0.89  # sets default credible interval used by arviz\";\n",
       "                var nbb_cells = Jupyter.notebook.get_cells();\n",
       "                for (var i = 0; i < nbb_cells.length; ++i) {\n",
       "                    if (nbb_cells[i].input_prompt_number == nbb_cell_id) {\n",
       "                        if (nbb_cells[i].get_text() == nbb_unformatted_code) {\n",
       "                             nbb_cells[i].set_text(nbb_formatted_code);\n",
       "                        }\n",
       "                        break;\n",
       "                    }\n",
       "                }\n",
       "            }, 500);\n",
       "            "
      ],
      "text/plain": [
       "<IPython.core.display.Javascript object>"
      ]
     },
     "metadata": {},
     "output_type": "display_data"
    }
   ],
   "source": [
    "%load_ext nb_black\n",
    "%config InlineBackend.figure_format = 'retina'\n",
    "%load_ext watermark\n",
    "RANDOM_SEED = 8927\n",
    "np.random.seed(RANDOM_SEED)\n",
    "az.style.use(\"arviz-darkgrid\")\n",
    "az.rcParams[\"stats.hdi_prob\"] = 0.89  # sets default credible interval used by arviz"
   ]
  },
  {
   "cell_type": "code",
   "execution_count": 7,
   "id": "future-agent",
   "metadata": {
    "ExecuteTime": {
     "end_time": "2021-05-29T16:29:51.205345Z",
     "start_time": "2021-05-29T16:29:51.199375Z"
    }
   },
   "outputs": [
    {
     "data": {
      "application/javascript": [
       "\n",
       "            setTimeout(function() {\n",
       "                var nbb_cell_id = 7;\n",
       "                var nbb_unformatted_code = \"def standardize(vec):\\n    return vec - np.mean(vec) / np.std(vec)\";\n",
       "                var nbb_formatted_code = \"def standardize(vec):\\n    return vec - np.mean(vec) / np.std(vec)\";\n",
       "                var nbb_cells = Jupyter.notebook.get_cells();\n",
       "                for (var i = 0; i < nbb_cells.length; ++i) {\n",
       "                    if (nbb_cells[i].input_prompt_number == nbb_cell_id) {\n",
       "                        if (nbb_cells[i].get_text() == nbb_unformatted_code) {\n",
       "                             nbb_cells[i].set_text(nbb_formatted_code);\n",
       "                        }\n",
       "                        break;\n",
       "                    }\n",
       "                }\n",
       "            }, 500);\n",
       "            "
      ],
      "text/plain": [
       "<IPython.core.display.Javascript object>"
      ]
     },
     "metadata": {},
     "output_type": "display_data"
    }
   ],
   "source": [
    "def standardize(vec):\n",
    "    return vec - np.mean(vec) / np.std(vec)"
   ]
  },
  {
   "cell_type": "code",
   "execution_count": null,
   "id": "flexible-medline",
   "metadata": {},
   "outputs": [],
   "source": []
  },
  {
   "cell_type": "code",
   "execution_count": null,
   "id": "faced-theta",
   "metadata": {},
   "outputs": [],
   "source": []
  },
  {
   "cell_type": "markdown",
   "id": "republican-capture",
   "metadata": {},
   "source": [
    "# 7E1\n",
    "\n",
    "State the three motivating criteria that define information entropy. Try to express each in your own words.\n",
    "\n",
    "\n",
    "1. Something that can be on a continuous scale. \"Measure of uncertainty should be continuous.\"\n",
    "2. Something that accounts for the number of events. \"Measure of uncertainty should increase as number of possible events increases.\" (More ways to be wrong.)\n",
    "3. \"Measure of uncertainty should be additive.\" (The uncertainty over all combinations of events should be additive of the separate uncertainties.)\n",
    "\n",
    "This can be seen in the equation:\n",
    "$E =  - \\displaystyle\\sum\\limits_{i=1}^{n} p_i\\log{p_i}$\n"
   ]
  },
  {
   "cell_type": "markdown",
   "id": "breeding-danish",
   "metadata": {},
   "source": [
    "# 7E2\n",
    "\n",
    "Suppose a coin is weighted such that, when it is tossed and lands on a table, it comes up heads 70% of the time. What is the entropy of this coin?"
   ]
  },
  {
   "cell_type": "markdown",
   "id": "hybrid-galaxy",
   "metadata": {},
   "source": [
    "Taking the equation of entropy, there's two possible events: heads and tails. The probability of heads is 0.7 and the probability of tails is 0.3."
   ]
  },
  {
   "cell_type": "code",
   "execution_count": 7,
   "id": "mounted-linux",
   "metadata": {
    "ExecuteTime": {
     "end_time": "2021-05-22T14:44:22.890464Z",
     "start_time": "2021-05-22T14:44:22.882014Z"
    }
   },
   "outputs": [
    {
     "name": "stdout",
     "output_type": "stream",
     "text": [
      "0.6108643020548935\n"
     ]
    },
    {
     "data": {
      "application/javascript": [
       "\n",
       "            setTimeout(function() {\n",
       "                var nbb_cell_id = 7;\n",
       "                var nbb_unformatted_code = \"coin = [0.7, 0.3]\\nentropy = 0\\n\\nfor i in coin:\\n    entropy += i * np.log(i)\\n    \\nprint(-entropy)\";\n",
       "                var nbb_formatted_code = \"coin = [0.7, 0.3]\\nentropy = 0\\n\\nfor i in coin:\\n    entropy += i * np.log(i)\\n\\nprint(-entropy)\";\n",
       "                var nbb_cells = Jupyter.notebook.get_cells();\n",
       "                for (var i = 0; i < nbb_cells.length; ++i) {\n",
       "                    if (nbb_cells[i].input_prompt_number == nbb_cell_id) {\n",
       "                        if (nbb_cells[i].get_text() == nbb_unformatted_code) {\n",
       "                             nbb_cells[i].set_text(nbb_formatted_code);\n",
       "                        }\n",
       "                        break;\n",
       "                    }\n",
       "                }\n",
       "            }, 500);\n",
       "            "
      ],
      "text/plain": [
       "<IPython.core.display.Javascript object>"
      ]
     },
     "metadata": {},
     "output_type": "display_data"
    }
   ],
   "source": [
    "coin = [0.7, 0.3]\n",
    "entropy = 0\n",
    "\n",
    "for i in coin:\n",
    "    entropy += i * np.log(i)\n",
    "    \n",
    "print(-entropy)\n"
   ]
  },
  {
   "cell_type": "markdown",
   "id": "atmospheric-peace",
   "metadata": {},
   "source": [
    "**Why can't we just take one? Wouldn't it be deterministic for the other? Correct thing is to use both.**"
   ]
  },
  {
   "cell_type": "markdown",
   "id": "opened-drove",
   "metadata": {},
   "source": [
    "# 7E3.\n",
    "\n",
    "Suppose a four-sided die is loaded such that, when tossed onto a table, it shows “1” 20%, “2” 25%, “3” 25%, and “4” 30% of the time. What is the entropy of this die?"
   ]
  },
  {
   "cell_type": "code",
   "execution_count": 10,
   "id": "saving-bobby",
   "metadata": {
    "ExecuteTime": {
     "end_time": "2021-05-22T16:04:36.212893Z",
     "start_time": "2021-05-22T16:04:36.205283Z"
    }
   },
   "outputs": [
    {
     "name": "stdout",
     "output_type": "stream",
     "text": [
      "1.4447673651911233\n"
     ]
    },
    {
     "data": {
      "application/javascript": [
       "\n",
       "            setTimeout(function() {\n",
       "                var nbb_cell_id = 10;\n",
       "                var nbb_unformatted_code = \"die = [0.2, 0.25, 0.25, 0.3]\\nentropy = 0\\n\\nfor side in die:\\n    entropy += i * np.log(i)\\n    \\nprint(-entropy)\";\n",
       "                var nbb_formatted_code = \"die = [0.2, 0.25, 0.25, 0.3]\\nentropy = 0\\n\\nfor side in die:\\n    entropy += i * np.log(i)\\n\\nprint(-entropy)\";\n",
       "                var nbb_cells = Jupyter.notebook.get_cells();\n",
       "                for (var i = 0; i < nbb_cells.length; ++i) {\n",
       "                    if (nbb_cells[i].input_prompt_number == nbb_cell_id) {\n",
       "                        if (nbb_cells[i].get_text() == nbb_unformatted_code) {\n",
       "                             nbb_cells[i].set_text(nbb_formatted_code);\n",
       "                        }\n",
       "                        break;\n",
       "                    }\n",
       "                }\n",
       "            }, 500);\n",
       "            "
      ],
      "text/plain": [
       "<IPython.core.display.Javascript object>"
      ]
     },
     "metadata": {},
     "output_type": "display_data"
    }
   ],
   "source": [
    "die = [0.2, 0.25, 0.25, 0.3]\n",
    "entropy = 0\n",
    "\n",
    "for side in die:\n",
    "    entropy += i * np.log(i)\n",
    "    \n",
    "print(-entropy)\n"
   ]
  },
  {
   "cell_type": "markdown",
   "id": "sensitive-parking",
   "metadata": {},
   "source": [
    "# 7E4\n",
    "\n",
    "Suppose another four-sided die is loaded such that it never shows “4”. The other three sides show equally often. What is the entropy of this die?"
   ]
  },
  {
   "cell_type": "code",
   "execution_count": 11,
   "id": "strange-holmes",
   "metadata": {
    "ExecuteTime": {
     "end_time": "2021-05-22T16:04:37.778064Z",
     "start_time": "2021-05-22T16:04:37.770349Z"
    }
   },
   "outputs": [
    {
     "name": "stdout",
     "output_type": "stream",
     "text": [
      "1.4447673651911233\n"
     ]
    },
    {
     "data": {
      "application/javascript": [
       "\n",
       "            setTimeout(function() {\n",
       "                var nbb_cell_id = 11;\n",
       "                var nbb_unformatted_code = \"die = [0, 0.33, 0.33, 0.33]\\nentropy = 0\\n\\nfor side in die:\\n    entropy += i * np.log(i)\\n    \\nprint(-entropy)\";\n",
       "                var nbb_formatted_code = \"die = [0, 0.33, 0.33, 0.33]\\nentropy = 0\\n\\nfor side in die:\\n    entropy += i * np.log(i)\\n\\nprint(-entropy)\";\n",
       "                var nbb_cells = Jupyter.notebook.get_cells();\n",
       "                for (var i = 0; i < nbb_cells.length; ++i) {\n",
       "                    if (nbb_cells[i].input_prompt_number == nbb_cell_id) {\n",
       "                        if (nbb_cells[i].get_text() == nbb_unformatted_code) {\n",
       "                             nbb_cells[i].set_text(nbb_formatted_code);\n",
       "                        }\n",
       "                        break;\n",
       "                    }\n",
       "                }\n",
       "            }, 500);\n",
       "            "
      ],
      "text/plain": [
       "<IPython.core.display.Javascript object>"
      ]
     },
     "metadata": {},
     "output_type": "display_data"
    }
   ],
   "source": [
    "die = [0, 0.33, 0.33, 0.33]\n",
    "entropy = 0\n",
    "\n",
    "for side in die:\n",
    "    entropy += i * np.log(i)\n",
    "    \n",
    "print(-entropy)\n"
   ]
  },
  {
   "cell_type": "code",
   "execution_count": null,
   "id": "medieval-subscription",
   "metadata": {},
   "outputs": [],
   "source": []
  },
  {
   "cell_type": "markdown",
   "id": "animal-health",
   "metadata": {},
   "source": [
    "# Is calibration overrated?"
   ]
  },
  {
   "cell_type": "code",
   "execution_count": null,
   "id": "a2c46f63",
   "metadata": {},
   "outputs": [],
   "source": []
  },
  {
   "cell_type": "code",
   "execution_count": null,
   "id": "b002aaa4",
   "metadata": {},
   "outputs": [],
   "source": []
  },
  {
   "cell_type": "code",
   "execution_count": null,
   "id": "consecutive-divorce",
   "metadata": {},
   "outputs": [],
   "source": []
  },
  {
   "cell_type": "markdown",
   "id": "amino-stake",
   "metadata": {},
   "source": [
    "# Why is sigma different?"
   ]
  },
  {
   "cell_type": "code",
   "execution_count": null,
   "id": "spanish-investigation",
   "metadata": {},
   "outputs": [],
   "source": []
  },
  {
   "cell_type": "code",
   "execution_count": null,
   "id": "12739bc1",
   "metadata": {},
   "outputs": [],
   "source": []
  },
  {
   "cell_type": "markdown",
   "id": "fae609eb",
   "metadata": {},
   "source": [
    "# 7H1 Laffer tax data set, making a better model\n",
    "\n",
    "In 2007, The Wall Street Journal published an editorial(“We’reNum ber One, Alas”) with a graph of corporate tax rates in 29 countries plotted against tax revenue. A badly fit curve was drawn in (reconstructed at right), seemingly by hand, to make the argument that the relationship between tax rate and tax revenue increases and then declines, such that higher tax rates can actually produce less tax revenue. I want you to actually fit a curve to these data, found in data(Laffer). Consider models that use tax rate to predict tax revenue. Compare, using WAIC or PSIS, a straight-line model to any curved models you like. What do you conclude about the relationship between tax rate and tax revenue?"
   ]
  },
  {
   "cell_type": "code",
   "execution_count": 8,
   "id": "7ea59604",
   "metadata": {
    "ExecuteTime": {
     "end_time": "2021-05-29T16:29:54.335210Z",
     "start_time": "2021-05-29T16:29:54.317988Z"
    }
   },
   "outputs": [
    {
     "data": {
      "text/html": [
       "<div>\n",
       "<style scoped>\n",
       "    .dataframe tbody tr th:only-of-type {\n",
       "        vertical-align: middle;\n",
       "    }\n",
       "\n",
       "    .dataframe tbody tr th {\n",
       "        vertical-align: top;\n",
       "    }\n",
       "\n",
       "    .dataframe thead th {\n",
       "        text-align: right;\n",
       "    }\n",
       "</style>\n",
       "<table border=\"1\" class=\"dataframe\">\n",
       "  <thead>\n",
       "    <tr style=\"text-align: right;\">\n",
       "      <th></th>\n",
       "      <th>tax_rate</th>\n",
       "      <th>tax_revenue</th>\n",
       "    </tr>\n",
       "  </thead>\n",
       "  <tbody>\n",
       "    <tr>\n",
       "      <th>0</th>\n",
       "      <td>0.07</td>\n",
       "      <td>-0.06</td>\n",
       "    </tr>\n",
       "    <tr>\n",
       "      <th>1</th>\n",
       "      <td>8.81</td>\n",
       "      <td>2.45</td>\n",
       "    </tr>\n",
       "    <tr>\n",
       "      <th>2</th>\n",
       "      <td>12.84</td>\n",
       "      <td>3.58</td>\n",
       "    </tr>\n",
       "    <tr>\n",
       "      <th>3</th>\n",
       "      <td>16.24</td>\n",
       "      <td>2.19</td>\n",
       "    </tr>\n",
       "    <tr>\n",
       "      <th>4</th>\n",
       "      <td>19.18</td>\n",
       "      <td>2.46</td>\n",
       "    </tr>\n",
       "  </tbody>\n",
       "</table>\n",
       "</div>"
      ],
      "text/plain": [
       "   tax_rate  tax_revenue\n",
       "0      0.07        -0.06\n",
       "1      8.81         2.45\n",
       "2     12.84         3.58\n",
       "3     16.24         2.19\n",
       "4     19.18         2.46"
      ]
     },
     "execution_count": 8,
     "metadata": {},
     "output_type": "execute_result"
    },
    {
     "data": {
      "application/javascript": [
       "\n",
       "            setTimeout(function() {\n",
       "                var nbb_cell_id = 8;\n",
       "                var nbb_unformatted_code = \"df_Laffer = pd.read_csv('other_data/Laffer.csv')\\ndf_Laffer.head()\";\n",
       "                var nbb_formatted_code = \"df_Laffer = pd.read_csv(\\\"other_data/Laffer.csv\\\")\\ndf_Laffer.head()\";\n",
       "                var nbb_cells = Jupyter.notebook.get_cells();\n",
       "                for (var i = 0; i < nbb_cells.length; ++i) {\n",
       "                    if (nbb_cells[i].input_prompt_number == nbb_cell_id) {\n",
       "                        if (nbb_cells[i].get_text() == nbb_unformatted_code) {\n",
       "                             nbb_cells[i].set_text(nbb_formatted_code);\n",
       "                        }\n",
       "                        break;\n",
       "                    }\n",
       "                }\n",
       "            }, 500);\n",
       "            "
      ],
      "text/plain": [
       "<IPython.core.display.Javascript object>"
      ]
     },
     "metadata": {},
     "output_type": "display_data"
    }
   ],
   "source": [
    "df_Laffer = pd.read_csv(\"other_data/Laffer.csv\")\n",
    "df_Laffer.head()"
   ]
  },
  {
   "cell_type": "code",
   "execution_count": null,
   "id": "df226ee2",
   "metadata": {},
   "outputs": [],
   "source": []
  },
  {
   "cell_type": "code",
   "execution_count": null,
   "id": "1549d694",
   "metadata": {},
   "outputs": [],
   "source": []
  },
  {
   "cell_type": "markdown",
   "id": "a15d1df0",
   "metadata": {
    "ExecuteTime": {
     "end_time": "2021-05-29T16:18:08.312142Z",
     "start_time": "2021-05-29T16:18:08.310203Z"
    }
   },
   "source": [
    "# 7H2 Laffer data, influence of outliers"
   ]
  },
  {
   "cell_type": "markdown",
   "id": "ea6185ad",
   "metadata": {},
   "source": [
    "In the Laffer data, there is one country with a high tax revenue that is an outlier. Use PSIS and WAIC to measure the importance of this outlier in the models you fit in the previous problem. Then use robust regression with a Student’s t distribution to revisit the curve fitting problem. How much does a curved relationship depend upon the outlier point?"
   ]
  },
  {
   "cell_type": "code",
   "execution_count": null,
   "id": "577ea912",
   "metadata": {},
   "outputs": [],
   "source": []
  },
  {
   "cell_type": "code",
   "execution_count": null,
   "id": "32fe0226",
   "metadata": {},
   "outputs": [],
   "source": []
  },
  {
   "cell_type": "markdown",
   "id": "recreational-violence",
   "metadata": {},
   "source": [
    "Appendix: Environment and system parameters"
   ]
  },
  {
   "cell_type": "code",
   "execution_count": 4,
   "id": "white-bread",
   "metadata": {
    "ExecuteTime": {
     "end_time": "2021-05-22T14:22:52.590378Z",
     "start_time": "2021-05-22T14:22:52.567589Z"
    }
   },
   "outputs": [
    {
     "name": "stdout",
     "output_type": "stream",
     "text": [
      "Last updated: Sat May 22 2021\n",
      "\n",
      "Python implementation: CPython\n",
      "Python version       : 3.8.6\n",
      "IPython version      : 7.20.0\n",
      "\n",
      "pandas    : 1.2.1\n",
      "arviz     : 0.11.1\n",
      "daft      : 0.1.2\n",
      "numpy     : 1.20.1\n",
      "pymc3     : 3.11.0\n",
      "seaborn   : 0.11.1\n",
      "matplotlib: 3.3.4\n",
      "json      : 2.0.9\n",
      "scipy     : 1.6.0\n",
      "\n",
      "Watermark: 2.1.0\n",
      "\n"
     ]
    },
    {
     "data": {
      "application/javascript": [
       "\n",
       "            setTimeout(function() {\n",
       "                var nbb_cell_id = 4;\n",
       "                var nbb_unformatted_code = \"%watermark -n -u -v -iv -w\";\n",
       "                var nbb_formatted_code = \"%watermark -n -u -v -iv -w\";\n",
       "                var nbb_cells = Jupyter.notebook.get_cells();\n",
       "                for (var i = 0; i < nbb_cells.length; ++i) {\n",
       "                    if (nbb_cells[i].input_prompt_number == nbb_cell_id) {\n",
       "                        if (nbb_cells[i].get_text() == nbb_unformatted_code) {\n",
       "                             nbb_cells[i].set_text(nbb_formatted_code);\n",
       "                        }\n",
       "                        break;\n",
       "                    }\n",
       "                }\n",
       "            }, 500);\n",
       "            "
      ],
      "text/plain": [
       "<IPython.core.display.Javascript object>"
      ]
     },
     "metadata": {},
     "output_type": "display_data"
    }
   ],
   "source": [
    "%watermark -n -u -v -iv -w"
   ]
  },
  {
   "cell_type": "code",
   "execution_count": null,
   "id": "successful-factory",
   "metadata": {},
   "outputs": [],
   "source": []
  }
 ],
 "metadata": {
  "kernelspec": {
   "display_name": "Python 3",
   "language": "python",
   "name": "python3"
  },
  "language_info": {
   "codemirror_mode": {
    "name": "ipython",
    "version": 3
   },
   "file_extension": ".py",
   "mimetype": "text/x-python",
   "name": "python",
   "nbconvert_exporter": "python",
   "pygments_lexer": "ipython3",
   "version": "3.8.6"
  },
  "latex_envs": {
   "LaTeX_envs_menu_present": true,
   "autoclose": false,
   "autocomplete": true,
   "bibliofile": "biblio.bib",
   "cite_by": "apalike",
   "current_citInitial": 1,
   "eqLabelWithNumbers": true,
   "eqNumInitial": 1,
   "hotkeys": {
    "equation": "Ctrl-E",
    "itemize": "Ctrl-I"
   },
   "labels_anchors": false,
   "latex_user_defs": false,
   "report_style_numbering": false,
   "user_envs_cfg": false
  },
  "toc": {
   "base_numbering": 1,
   "nav_menu": {},
   "number_sections": true,
   "sideBar": true,
   "skip_h1_title": false,
   "title_cell": "Table of Contents",
   "title_sidebar": "Contents",
   "toc_cell": false,
   "toc_position": {
    "height": "calc(100% - 180px)",
    "left": "10px",
    "top": "150px",
    "width": "212.4px"
   },
   "toc_section_display": true,
   "toc_window_display": true
  },
  "varInspector": {
   "cols": {
    "lenName": 16,
    "lenType": 16,
    "lenVar": 40
   },
   "kernels_config": {
    "python": {
     "delete_cmd_postfix": "",
     "delete_cmd_prefix": "del ",
     "library": "var_list.py",
     "varRefreshCmd": "print(var_dic_list())"
    },
    "r": {
     "delete_cmd_postfix": ") ",
     "delete_cmd_prefix": "rm(",
     "library": "var_list.r",
     "varRefreshCmd": "cat(var_dic_list()) "
    }
   },
   "types_to_exclude": [
    "module",
    "function",
    "builtin_function_or_method",
    "instance",
    "_Feature"
   ],
   "window_display": false
  }
 },
 "nbformat": 4,
 "nbformat_minor": 5
}
