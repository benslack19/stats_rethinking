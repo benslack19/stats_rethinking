{
 "cells": [
  {
   "cell_type": "code",
   "execution_count": 9,
   "id": "capable-riverside",
   "metadata": {
    "ExecuteTime": {
     "end_time": "2021-05-29T16:25:44.034622Z",
     "start_time": "2021-05-29T16:25:44.020Z"
    }
   },
   "outputs": [],
   "source": [
    "suppressMessages(library(rethinking))\n",
    "suppressMessages(library(tidyverse))"
   ]
  },
  {
   "cell_type": "code",
   "execution_count": 12,
   "id": "5c5a7290",
   "metadata": {
    "ExecuteTime": {
     "end_time": "2021-05-29T16:26:32.864939Z",
     "start_time": "2021-05-29T16:26:32.833Z"
    }
   },
   "outputs": [
    {
     "data": {
      "text/html": [
       "<table>\n",
       "<caption>A data.frame: 6 × 2</caption>\n",
       "<thead>\n",
       "\t<tr><th></th><th scope=col>tax_rate</th><th scope=col>tax_revenue</th></tr>\n",
       "\t<tr><th></th><th scope=col>&lt;dbl&gt;</th><th scope=col>&lt;dbl&gt;</th></tr>\n",
       "</thead>\n",
       "<tbody>\n",
       "\t<tr><th scope=row>1</th><td> 0.07</td><td>-0.06</td></tr>\n",
       "\t<tr><th scope=row>2</th><td> 8.81</td><td> 2.45</td></tr>\n",
       "\t<tr><th scope=row>3</th><td>12.84</td><td> 3.58</td></tr>\n",
       "\t<tr><th scope=row>4</th><td>16.24</td><td> 2.19</td></tr>\n",
       "\t<tr><th scope=row>5</th><td>19.18</td><td> 2.46</td></tr>\n",
       "\t<tr><th scope=row>6</th><td>19.29</td><td> 1.95</td></tr>\n",
       "</tbody>\n",
       "</table>\n"
      ],
      "text/latex": [
       "A data.frame: 6 × 2\n",
       "\\begin{tabular}{r|ll}\n",
       "  & tax\\_rate & tax\\_revenue\\\\\n",
       "  & <dbl> & <dbl>\\\\\n",
       "\\hline\n",
       "\t1 &  0.07 & -0.06\\\\\n",
       "\t2 &  8.81 &  2.45\\\\\n",
       "\t3 & 12.84 &  3.58\\\\\n",
       "\t4 & 16.24 &  2.19\\\\\n",
       "\t5 & 19.18 &  2.46\\\\\n",
       "\t6 & 19.29 &  1.95\\\\\n",
       "\\end{tabular}\n"
      ],
      "text/markdown": [
       "\n",
       "A data.frame: 6 × 2\n",
       "\n",
       "| <!--/--> | tax_rate &lt;dbl&gt; | tax_revenue &lt;dbl&gt; |\n",
       "|---|---|---|\n",
       "| 1 |  0.07 | -0.06 |\n",
       "| 2 |  8.81 |  2.45 |\n",
       "| 3 | 12.84 |  3.58 |\n",
       "| 4 | 16.24 |  2.19 |\n",
       "| 5 | 19.18 |  2.46 |\n",
       "| 6 | 19.29 |  1.95 |\n",
       "\n"
      ],
      "text/plain": [
       "  tax_rate tax_revenue\n",
       "1  0.07    -0.06      \n",
       "2  8.81     2.45      \n",
       "3 12.84     3.58      \n",
       "4 16.24     2.19      \n",
       "5 19.18     2.46      \n",
       "6 19.29     1.95      "
      ]
     },
     "metadata": {},
     "output_type": "display_data"
    }
   ],
   "source": [
    "data(Laffer)\n",
    "\n",
    "d_Laffer <- Laffer\n",
    "head(d_Laffer)"
   ]
  },
  {
   "cell_type": "code",
   "execution_count": 13,
   "id": "14aaef14",
   "metadata": {
    "ExecuteTime": {
     "end_time": "2021-05-29T16:28:15.810507Z",
     "start_time": "2021-05-29T16:28:15.796Z"
    }
   },
   "outputs": [],
   "source": [
    "write_csv(d_Laffer, \"/Users/blacar/Documents/ds_projects/stats_rethinking/repo/other_data/Laffer.csv\", col_names=TRUE)"
   ]
  },
  {
   "cell_type": "code",
   "execution_count": null,
   "id": "90af83b8",
   "metadata": {},
   "outputs": [],
   "source": []
  },
  {
   "cell_type": "code",
   "execution_count": 2,
   "id": "satellite-cigarette",
   "metadata": {
    "ExecuteTime": {
     "end_time": "2021-05-29T14:41:13.805193Z",
     "start_time": "2021-05-29T14:41:13.783Z"
    }
   },
   "outputs": [],
   "source": [
    "## R code 7.1\n",
    "sppnames <- c( \"afarensis\",\"africanus\",\"habilis\",\"boisei\",\n",
    "    \"rudolfensis\",\"ergaster\",\"sapiens\")\n",
    "brainvolcc <- c( 438 , 452 , 612, 521, 752, 871, 1350 )\n",
    "masskg <- c( 37.0 , 35.5 , 34.5 , 41.5 , 55.5 , 61.0 , 53.5 )\n",
    "d <- data.frame( species=sppnames , brain=brainvolcc , mass=masskg )\n",
    "\n",
    "## R code 7.2\n",
    "d$mass_std <- (d$mass - mean(d$mass))/sd(d$mass)\n",
    "d$brain_std <- d$brain / max(d$brain)"
   ]
  },
  {
   "cell_type": "code",
   "execution_count": 3,
   "id": "elect-blake",
   "metadata": {
    "ExecuteTime": {
     "end_time": "2021-05-29T14:41:13.983180Z",
     "start_time": "2021-05-29T14:41:13.962Z"
    }
   },
   "outputs": [
    {
     "data": {
      "text/html": [
       "<table>\n",
       "<caption>A data.frame: 7 × 5</caption>\n",
       "<thead>\n",
       "\t<tr><th scope=col>species</th><th scope=col>brain</th><th scope=col>mass</th><th scope=col>mass_std</th><th scope=col>brain_std</th></tr>\n",
       "\t<tr><th scope=col>&lt;chr&gt;</th><th scope=col>&lt;dbl&gt;</th><th scope=col>&lt;dbl&gt;</th><th scope=col>&lt;dbl&gt;</th><th scope=col>&lt;dbl&gt;</th></tr>\n",
       "</thead>\n",
       "<tbody>\n",
       "\t<tr><td>afarensis  </td><td> 438</td><td>37.0</td><td>-0.7794667</td><td>0.3244444</td></tr>\n",
       "\t<tr><td>africanus  </td><td> 452</td><td>35.5</td><td>-0.9170196</td><td>0.3348148</td></tr>\n",
       "\t<tr><td>habilis    </td><td> 612</td><td>34.5</td><td>-1.0087216</td><td>0.4533333</td></tr>\n",
       "\t<tr><td>boisei     </td><td> 521</td><td>41.5</td><td>-0.3668079</td><td>0.3859259</td></tr>\n",
       "\t<tr><td>rudolfensis</td><td> 752</td><td>55.5</td><td> 0.9170196</td><td>0.5570370</td></tr>\n",
       "\t<tr><td>ergaster   </td><td> 871</td><td>61.0</td><td> 1.4213804</td><td>0.6451852</td></tr>\n",
       "\t<tr><td>sapiens    </td><td>1350</td><td>53.5</td><td> 0.7336157</td><td>1.0000000</td></tr>\n",
       "</tbody>\n",
       "</table>\n"
      ],
      "text/latex": [
       "A data.frame: 7 × 5\n",
       "\\begin{tabular}{lllll}\n",
       " species & brain & mass & mass\\_std & brain\\_std\\\\\n",
       " <chr> & <dbl> & <dbl> & <dbl> & <dbl>\\\\\n",
       "\\hline\n",
       "\t afarensis   &  438 & 37.0 & -0.7794667 & 0.3244444\\\\\n",
       "\t africanus   &  452 & 35.5 & -0.9170196 & 0.3348148\\\\\n",
       "\t habilis     &  612 & 34.5 & -1.0087216 & 0.4533333\\\\\n",
       "\t boisei      &  521 & 41.5 & -0.3668079 & 0.3859259\\\\\n",
       "\t rudolfensis &  752 & 55.5 &  0.9170196 & 0.5570370\\\\\n",
       "\t ergaster    &  871 & 61.0 &  1.4213804 & 0.6451852\\\\\n",
       "\t sapiens     & 1350 & 53.5 &  0.7336157 & 1.0000000\\\\\n",
       "\\end{tabular}\n"
      ],
      "text/markdown": [
       "\n",
       "A data.frame: 7 × 5\n",
       "\n",
       "| species &lt;chr&gt; | brain &lt;dbl&gt; | mass &lt;dbl&gt; | mass_std &lt;dbl&gt; | brain_std &lt;dbl&gt; |\n",
       "|---|---|---|---|---|\n",
       "| afarensis   |  438 | 37.0 | -0.7794667 | 0.3244444 |\n",
       "| africanus   |  452 | 35.5 | -0.9170196 | 0.3348148 |\n",
       "| habilis     |  612 | 34.5 | -1.0087216 | 0.4533333 |\n",
       "| boisei      |  521 | 41.5 | -0.3668079 | 0.3859259 |\n",
       "| rudolfensis |  752 | 55.5 |  0.9170196 | 0.5570370 |\n",
       "| ergaster    |  871 | 61.0 |  1.4213804 | 0.6451852 |\n",
       "| sapiens     | 1350 | 53.5 |  0.7336157 | 1.0000000 |\n",
       "\n"
      ],
      "text/plain": [
       "  species     brain mass mass_std   brain_std\n",
       "1 afarensis    438  37.0 -0.7794667 0.3244444\n",
       "2 africanus    452  35.5 -0.9170196 0.3348148\n",
       "3 habilis      612  34.5 -1.0087216 0.4533333\n",
       "4 boisei       521  41.5 -0.3668079 0.3859259\n",
       "5 rudolfensis  752  55.5  0.9170196 0.5570370\n",
       "6 ergaster     871  61.0  1.4213804 0.6451852\n",
       "7 sapiens     1350  53.5  0.7336157 1.0000000"
      ]
     },
     "metadata": {},
     "output_type": "display_data"
    }
   ],
   "source": [
    "d"
   ]
  },
  {
   "cell_type": "code",
   "execution_count": 4,
   "id": "administrative-landing",
   "metadata": {
    "ExecuteTime": {
     "end_time": "2021-05-29T14:41:17.599148Z",
     "start_time": "2021-05-29T14:41:17.280Z"
    }
   },
   "outputs": [
    {
     "data": {
      "text/html": [
       "0.477459800596077"
      ],
      "text/latex": [
       "0.477459800596077"
      ],
      "text/markdown": [
       "0.477459800596077"
      ],
      "text/plain": [
       "[1] 0.4774598"
      ]
     },
     "metadata": {},
     "output_type": "display_data"
    }
   ],
   "source": [
    "## R code 7.3\n",
    "m7.1 <- quap(\n",
    "    alist(\n",
    "        brain_std ~ dnorm( mu , exp(log_sigma) ),\n",
    "        mu <- a + b*mass_std,\n",
    "        a ~ dnorm( 0.5 , 1 ),\n",
    "        b ~ dnorm( 0 , 10 ),\n",
    "        log_sigma ~ dnorm( 0 , 1 )\n",
    "    ), data=d )\n",
    "\n",
    "## R code 7.4\n",
    "m7.1_OLS <- lm( brain_std ~ mass_std , data=d )\n",
    "post <- extract.samples( m7.1_OLS )\n",
    "\n",
    "## R code 7.5\n",
    "set.seed(12)\n",
    "s <- sim( m7.1 )\n",
    "r <- apply(s,2,mean) - d$brain_std\n",
    "resid_var <- var2(r)\n",
    "outcome_var <- var2( d$brain_std )\n",
    "1 - resid_var/outcome_var\n",
    "\n",
    "## R code 7.6\n",
    "R2_is_bad <- function( quap_fit ) {\n",
    "    s <- sim( quap_fit , refresh=0 )\n",
    "    r <- apply(s,2,mean) - d$brain_std\n",
    "    1 - var2(r)/var2(d$brain_std)\n",
    "}"
   ]
  },
  {
   "cell_type": "code",
   "execution_count": 5,
   "id": "meaning-major",
   "metadata": {
    "ExecuteTime": {
     "end_time": "2021-05-29T14:41:18.252713Z",
     "start_time": "2021-05-29T14:41:18.227Z"
    }
   },
   "outputs": [
    {
     "data": {
      "text/html": [
       "<table>\n",
       "<caption>A data.frame: 6 × 3</caption>\n",
       "<thead>\n",
       "\t<tr><th></th><th scope=col>a</th><th scope=col>b</th><th scope=col>log_sigma</th></tr>\n",
       "\t<tr><th></th><th scope=col>&lt;dbl&gt;</th><th scope=col>&lt;dbl&gt;</th><th scope=col>&lt;dbl&gt;</th></tr>\n",
       "</thead>\n",
       "<tbody>\n",
       "\t<tr><th scope=row>1</th><td>0.4303765</td><td>0.1428869</td><td>-2.218001</td></tr>\n",
       "\t<tr><th scope=row>2</th><td>0.4739805</td><td>0.1015757</td><td>-1.882950</td></tr>\n",
       "\t<tr><th scope=row>3</th><td>0.5529973</td><td>0.2289581</td><td>-1.219997</td></tr>\n",
       "\t<tr><th scope=row>4</th><td>0.5443863</td><td>0.1779846</td><td>-1.437313</td></tr>\n",
       "\t<tr><th scope=row>5</th><td>0.5745736</td><td>0.0678669</td><td>-1.173767</td></tr>\n",
       "\t<tr><th scope=row>6</th><td>0.6611742</td><td>0.1101410</td><td>-1.770206</td></tr>\n",
       "</tbody>\n",
       "</table>\n"
      ],
      "text/latex": [
       "A data.frame: 6 × 3\n",
       "\\begin{tabular}{r|lll}\n",
       "  & a & b & log\\_sigma\\\\\n",
       "  & <dbl> & <dbl> & <dbl>\\\\\n",
       "\\hline\n",
       "\t1 & 0.4303765 & 0.1428869 & -2.218001\\\\\n",
       "\t2 & 0.4739805 & 0.1015757 & -1.882950\\\\\n",
       "\t3 & 0.5529973 & 0.2289581 & -1.219997\\\\\n",
       "\t4 & 0.5443863 & 0.1779846 & -1.437313\\\\\n",
       "\t5 & 0.5745736 & 0.0678669 & -1.173767\\\\\n",
       "\t6 & 0.6611742 & 0.1101410 & -1.770206\\\\\n",
       "\\end{tabular}\n"
      ],
      "text/markdown": [
       "\n",
       "A data.frame: 6 × 3\n",
       "\n",
       "| <!--/--> | a &lt;dbl&gt; | b &lt;dbl&gt; | log_sigma &lt;dbl&gt; |\n",
       "|---|---|---|---|\n",
       "| 1 | 0.4303765 | 0.1428869 | -2.218001 |\n",
       "| 2 | 0.4739805 | 0.1015757 | -1.882950 |\n",
       "| 3 | 0.5529973 | 0.2289581 | -1.219997 |\n",
       "| 4 | 0.5443863 | 0.1779846 | -1.437313 |\n",
       "| 5 | 0.5745736 | 0.0678669 | -1.173767 |\n",
       "| 6 | 0.6611742 | 0.1101410 | -1.770206 |\n",
       "\n"
      ],
      "text/plain": [
       "  a         b         log_sigma\n",
       "1 0.4303765 0.1428869 -2.218001\n",
       "2 0.4739805 0.1015757 -1.882950\n",
       "3 0.5529973 0.2289581 -1.219997\n",
       "4 0.5443863 0.1779846 -1.437313\n",
       "5 0.5745736 0.0678669 -1.173767\n",
       "6 0.6611742 0.1101410 -1.770206"
      ]
     },
     "metadata": {},
     "output_type": "display_data"
    }
   ],
   "source": [
    "post <- extract.samples(m7.1)\n",
    "head(post)"
   ]
  },
  {
   "cell_type": "code",
   "execution_count": 6,
   "id": "joined-express",
   "metadata": {
    "ExecuteTime": {
     "end_time": "2021-05-29T14:41:20.945366Z",
     "start_time": "2021-05-29T14:41:20.924Z"
    }
   },
   "outputs": [
    {
     "data": {
      "text/html": [
       "<table>\n",
       "<caption>A precis: 3 × 4</caption>\n",
       "<thead>\n",
       "\t<tr><th></th><th scope=col>mean</th><th scope=col>sd</th><th scope=col>5.5%</th><th scope=col>94.5%</th></tr>\n",
       "\t<tr><th></th><th scope=col>&lt;dbl&gt;</th><th scope=col>&lt;dbl&gt;</th><th scope=col>&lt;dbl&gt;</th><th scope=col>&lt;dbl&gt;</th></tr>\n",
       "</thead>\n",
       "<tbody>\n",
       "\t<tr><th scope=row>a</th><td> 0.5285541</td><td>0.06842172</td><td> 0.41920292</td><td> 0.6379052</td></tr>\n",
       "\t<tr><th scope=row>b</th><td> 0.1671110</td><td>0.07407544</td><td> 0.04872419</td><td> 0.2854979</td></tr>\n",
       "\t<tr><th scope=row>log_sigma</th><td>-1.7067641</td><td>0.29376464</td><td>-2.17625676</td><td>-1.2372715</td></tr>\n",
       "</tbody>\n",
       "</table>\n"
      ],
      "text/latex": [
       "A precis: 3 × 4\n",
       "\\begin{tabular}{r|llll}\n",
       "  & mean & sd & 5.5\\% & 94.5\\%\\\\\n",
       "  & <dbl> & <dbl> & <dbl> & <dbl>\\\\\n",
       "\\hline\n",
       "\ta &  0.5285541 & 0.06842172 &  0.41920292 &  0.6379052\\\\\n",
       "\tb &  0.1671110 & 0.07407544 &  0.04872419 &  0.2854979\\\\\n",
       "\tlog\\_sigma & -1.7067641 & 0.29376464 & -2.17625676 & -1.2372715\\\\\n",
       "\\end{tabular}\n"
      ],
      "text/markdown": [
       "\n",
       "A precis: 3 × 4\n",
       "\n",
       "| <!--/--> | mean &lt;dbl&gt; | sd &lt;dbl&gt; | 5.5% &lt;dbl&gt; | 94.5% &lt;dbl&gt; |\n",
       "|---|---|---|---|---|\n",
       "| a |  0.5285541 | 0.06842172 |  0.41920292 |  0.6379052 |\n",
       "| b |  0.1671110 | 0.07407544 |  0.04872419 |  0.2854979 |\n",
       "| log_sigma | -1.7067641 | 0.29376464 | -2.17625676 | -1.2372715 |\n",
       "\n"
      ],
      "text/plain": [
       "          mean       sd         5.5%        94.5%     \n",
       "a          0.5285541 0.06842172  0.41920292  0.6379052\n",
       "b          0.1671110 0.07407544  0.04872419  0.2854979\n",
       "log_sigma -1.7067641 0.29376464 -2.17625676 -1.2372715"
      ]
     },
     "metadata": {},
     "output_type": "display_data"
    }
   ],
   "source": [
    "summary(m7.1)"
   ]
  },
  {
   "cell_type": "markdown",
   "id": "municipal-sunglasses",
   "metadata": {},
   "source": [
    "## Rethinking sigma"
   ]
  },
  {
   "cell_type": "code",
   "execution_count": 7,
   "id": "amino-lodging",
   "metadata": {
    "ExecuteTime": {
     "end_time": "2021-05-29T14:41:22.248233Z",
     "start_time": "2021-05-29T14:41:21.544Z"
    }
   },
   "outputs": [
    {
     "data": {
      "image/png": "[encoded data removed]",
      "text/plain": [
       "Plot with title “Histogram of exp(post$log_sigma)”"
      ]
     },
     "metadata": {
      "image/png": {
       "height": 420,
       "width": 420
      }
     },
     "output_type": "display_data"
    }
   ],
   "source": [
    "hist(exp(post$log_sigma), n=20)"
   ]
  },
  {
   "cell_type": "code",
   "execution_count": 8,
   "id": "understood-election",
   "metadata": {
    "ExecuteTime": {
     "end_time": "2021-05-29T14:41:25.479882Z",
     "start_time": "2021-05-29T14:41:25.461Z"
    }
   },
   "outputs": [
    {
     "data": {
      "text/html": [
       "0.189795517977977"
      ],
      "text/latex": [
       "0.189795517977977"
      ],
      "text/markdown": [
       "0.189795517977977"
      ],
      "text/plain": [
       "[1] 0.1897955"
      ]
     },
     "metadata": {},
     "output_type": "display_data"
    }
   ],
   "source": [
    "mean(exp(post$log_sigma))"
   ]
  },
  {
   "cell_type": "code",
   "execution_count": null,
   "id": "threatened-retailer",
   "metadata": {},
   "outputs": [],
   "source": []
  },
  {
   "cell_type": "code",
   "execution_count": null,
   "id": "three-brush",
   "metadata": {},
   "outputs": [],
   "source": []
  },
  {
   "cell_type": "code",
   "execution_count": 42,
   "id": "grateful-monitor",
   "metadata": {
    "ExecuteTime": {
     "end_time": "2021-05-21T02:18:30.182433Z",
     "start_time": "2021-05-21T02:18:29.962Z"
    }
   },
   "outputs": [],
   "source": [
    "?hist"
   ]
  },
  {
   "cell_type": "code",
   "execution_count": null,
   "id": "verified-pastor",
   "metadata": {
    "ExecuteTime": {
     "end_time": "2021-05-20T17:44:12.529975Z",
     "start_time": "2021-05-20T17:44:12.036Z"
    }
   },
   "outputs": [],
   "source": [
    "## R code 7.10\n",
    "post <- extract.samples(m7.1)\n",
    "mass_seq <- seq( from=min(d$mass_std) , to=max(d$mass_std) , length.out=100 )\n",
    "l <- link( m7.1 , data=list( mass_std=mass_seq ) )\n",
    "mu <- apply( l , 2 , mean )\n",
    "ci <- apply( l , 2 , PI )\n",
    "plot( brain_std ~ mass_std , data=d )\n",
    "lines( mass_seq , mu )\n",
    "shade( ci , mass_seq )\n",
    "\n",
    "## R code 7.11\n",
    "d_minus_i <- d[ -i , ]\n",
    "\n",
    "## R code 7.12\n",
    "p <- c( 0.3 , 0.7 )\n",
    "-sum( p*log(p) )"
   ]
  },
  {
   "cell_type": "markdown",
   "id": "automotive-sharp",
   "metadata": {},
   "source": [
    "# R code 7.13, running lppd"
   ]
  },
  {
   "cell_type": "code",
   "execution_count": 29,
   "id": "acceptable-emerald",
   "metadata": {
    "ExecuteTime": {
     "end_time": "2021-05-21T01:48:48.755164Z",
     "start_time": "2021-05-21T01:48:47.406Z"
    }
   },
   "outputs": [
    {
     "data": {
      "text/html": [
       "<style>\n",
       ".list-inline {list-style: none; margin:0; padding: 0}\n",
       ".list-inline>li {display: inline-block}\n",
       ".list-inline>li:not(:last-child)::after {content: \"\\00b7\"; padding: 0 .5ex}\n",
       "</style>\n",
       "<ol class=list-inline><li>0.609870746520029</li><li>0.648348597148281</li><li>0.549613879486641</li><li>0.623496592597501</li><li>0.464814408426118</li><li>0.434760934950857</li><li>-0.844461922936752</li></ol>\n"
      ],
      "text/latex": [
       "\\begin{enumerate*}\n",
       "\\item 0.609870746520029\n",
       "\\item 0.648348597148281\n",
       "\\item 0.549613879486641\n",
       "\\item 0.623496592597501\n",
       "\\item 0.464814408426118\n",
       "\\item 0.434760934950857\n",
       "\\item -0.844461922936752\n",
       "\\end{enumerate*}\n"
      ],
      "text/markdown": [
       "1. 0.609870746520029\n",
       "2. 0.648348597148281\n",
       "3. 0.549613879486641\n",
       "4. 0.623496592597501\n",
       "5. 0.464814408426118\n",
       "6. 0.434760934950857\n",
       "7. -0.844461922936752\n",
       "\n",
       "\n"
      ],
      "text/plain": [
       "[1]  0.6098707  0.6483486  0.5496139  0.6234966  0.4648144  0.4347609 -0.8444619"
      ]
     },
     "metadata": {},
     "output_type": "display_data"
    }
   ],
   "source": [
    "## R code 7.13\n",
    "set.seed(1)\n",
    "lppd( m7.1 , n=1e4 )"
   ]
  },
  {
   "cell_type": "code",
   "execution_count": 12,
   "id": "toxic-athletics",
   "metadata": {
    "ExecuteTime": {
     "end_time": "2021-05-20T19:42:01.010755Z",
     "start_time": "2021-05-20T19:42:00.996Z"
    }
   },
   "outputs": [
    {
     "data": {
      "text/html": [
       "<pre class=language-r><code>function (fit, ...) \n",
       "{\n",
       "<span style=white-space:pre-wrap>    ll &lt;- sim(fit, ll = TRUE, ...)</span>\n",
       "<span style=white-space:pre-wrap>    n &lt;- ncol(ll)</span>\n",
       "<span style=white-space:pre-wrap>    ns &lt;- nrow(ll)</span>\n",
       "<span style=white-space:pre-wrap>    f &lt;- function(i) log_sum_exp(ll[, i]) - log(ns)</span>\n",
       "<span style=white-space:pre-wrap>    lppd &lt;- sapply(1:n, f)</span>\n",
       "<span style=white-space:pre-wrap>    return(lppd)</span>\n",
       "}</code></pre>"
      ],
      "text/latex": [
       "\\begin{minted}{r}\n",
       "function (fit, ...) \n",
       "\\{\n",
       "    ll <- sim(fit, ll = TRUE, ...)\n",
       "    n <- ncol(ll)\n",
       "    ns <- nrow(ll)\n",
       "    f <- function(i) log\\_sum\\_exp(ll{[}, i{]}) - log(ns)\n",
       "    lppd <- sapply(1:n, f)\n",
       "    return(lppd)\n",
       "\\}\n",
       "\\end{minted}"
      ],
      "text/markdown": [
       "```r\n",
       "function (fit, ...) \n",
       "{\n",
       "    ll <- sim(fit, ll = TRUE, ...)\n",
       "    n <- ncol(ll)\n",
       "    ns <- nrow(ll)\n",
       "    f <- function(i) log_sum_exp(ll[, i]) - log(ns)\n",
       "    lppd <- sapply(1:n, f)\n",
       "    return(lppd)\n",
       "}\n",
       "```"
      ],
      "text/plain": [
       "function (fit, ...) \n",
       "{\n",
       "    ll <- sim(fit, ll = TRUE, ...)\n",
       "    n <- ncol(ll)\n",
       "    ns <- nrow(ll)\n",
       "    f <- function(i) log_sum_exp(ll[, i]) - log(ns)\n",
       "    lppd <- sapply(1:n, f)\n",
       "    return(lppd)\n",
       "}\n",
       "<bytecode: 0x7fd768422680>\n",
       "<environment: namespace:rethinking>"
      ]
     },
     "metadata": {},
     "output_type": "display_data"
    }
   ],
   "source": [
    "lppd"
   ]
  },
  {
   "cell_type": "code",
   "execution_count": 27,
   "id": "uniform-local",
   "metadata": {
    "ExecuteTime": {
     "end_time": "2021-05-21T01:31:24.236729Z",
     "start_time": "2021-05-21T01:31:24.219Z"
    }
   },
   "outputs": [
    {
     "data": {
      "text/html": [
       "<pre class=language-r><code>new(\"standardGeneric\", .Data = function (fit, data, n = 1000, \n",
       "<span style=white-space:pre-wrap>    ...) </span>\n",
       "standardGeneric(\"link\"), generic = structure(\"link\", package = \"rethinking\"), \n",
       "<span style=white-space:pre-wrap>    package = \"rethinking\", group = list(), valueClass = character(0), </span>\n",
       "<span style=white-space:pre-wrap>    signature = c(\"fit\", \"data\", \"n\"), default = new(\"derivedDefaultMethod\", </span>\n",
       "<span style=white-space:pre-wrap>        .Data = function (fit, data, n = 1000, ...) </span>\n",
       "<span style=white-space:pre-wrap>        {</span>\n",
       "<span style=white-space:pre-wrap>            print(class(fit))</span>\n",
       "<span style=white-space:pre-wrap>        }, target = new(\"signature\", .Data = \"ANY\", names = \"fit\", </span>\n",
       "<span style=white-space:pre-wrap>            package = \"methods\"), defined = new(\"signature\", </span>\n",
       "<span style=white-space:pre-wrap>            .Data = \"ANY\", names = \"fit\", package = \"methods\"), </span>\n",
       "<span style=white-space:pre-wrap>        generic = structure(\"link\", package = \"rethinking\")), </span>\n",
       "<span style=white-space:pre-wrap>    skeleton = (new(\"derivedDefaultMethod\", .Data = function (fit, </span>\n",
       "<span style=white-space:pre-wrap>        data, n = 1000, ...) </span>\n",
       "<span style=white-space:pre-wrap>    {</span>\n",
       "<span style=white-space:pre-wrap>        print(class(fit))</span>\n",
       "<span style=white-space:pre-wrap>    }, target = new(\"signature\", .Data = \"ANY\", names = \"fit\", </span>\n",
       "<span style=white-space:pre-wrap>        package = \"methods\"), defined = new(\"signature\", .Data = \"ANY\", </span>\n",
       "<span style=white-space:pre-wrap>        names = \"fit\", package = \"methods\"), generic = structure(\"link\", package = \"rethinking\")))(fit, </span>\n",
       "<span style=white-space:pre-wrap>        data, n, ...))</span></code></pre>"
      ],
      "text/latex": [
       "\\begin{minted}{r}\n",
       "new(\"standardGeneric\", .Data = function (fit, data, n = 1000, \n",
       "    ...) \n",
       "standardGeneric(\"link\"), generic = structure(\"link\", package = \"rethinking\"), \n",
       "    package = \"rethinking\", group = list(), valueClass = character(0), \n",
       "    signature = c(\"fit\", \"data\", \"n\"), default = new(\"derivedDefaultMethod\", \n",
       "        .Data = function (fit, data, n = 1000, ...) \n",
       "        \\{\n",
       "            print(class(fit))\n",
       "        \\}, target = new(\"signature\", .Data = \"ANY\", names = \"fit\", \n",
       "            package = \"methods\"), defined = new(\"signature\", \n",
       "            .Data = \"ANY\", names = \"fit\", package = \"methods\"), \n",
       "        generic = structure(\"link\", package = \"rethinking\")), \n",
       "    skeleton = (new(\"derivedDefaultMethod\", .Data = function (fit, \n",
       "        data, n = 1000, ...) \n",
       "    \\{\n",
       "        print(class(fit))\n",
       "    \\}, target = new(\"signature\", .Data = \"ANY\", names = \"fit\", \n",
       "        package = \"methods\"), defined = new(\"signature\", .Data = \"ANY\", \n",
       "        names = \"fit\", package = \"methods\"), generic = structure(\"link\", package = \"rethinking\")))(fit, \n",
       "        data, n, ...))\n",
       "\\end{minted}"
      ],
      "text/markdown": [
       "```r\n",
       "new(\"standardGeneric\", .Data = function (fit, data, n = 1000, \n",
       "    ...) \n",
       "standardGeneric(\"link\"), generic = structure(\"link\", package = \"rethinking\"), \n",
       "    package = \"rethinking\", group = list(), valueClass = character(0), \n",
       "    signature = c(\"fit\", \"data\", \"n\"), default = new(\"derivedDefaultMethod\", \n",
       "        .Data = function (fit, data, n = 1000, ...) \n",
       "        {\n",
       "            print(class(fit))\n",
       "        }, target = new(\"signature\", .Data = \"ANY\", names = \"fit\", \n",
       "            package = \"methods\"), defined = new(\"signature\", \n",
       "            .Data = \"ANY\", names = \"fit\", package = \"methods\"), \n",
       "        generic = structure(\"link\", package = \"rethinking\")), \n",
       "    skeleton = (new(\"derivedDefaultMethod\", .Data = function (fit, \n",
       "        data, n = 1000, ...) \n",
       "    {\n",
       "        print(class(fit))\n",
       "    }, target = new(\"signature\", .Data = \"ANY\", names = \"fit\", \n",
       "        package = \"methods\"), defined = new(\"signature\", .Data = \"ANY\", \n",
       "        names = \"fit\", package = \"methods\"), generic = structure(\"link\", package = \"rethinking\")))(fit, \n",
       "        data, n, ...))\n",
       "```"
      ],
      "text/plain": [
       "new(\"standardGeneric\", .Data = function (fit, data, n = 1000, \n",
       "    ...) \n",
       "standardGeneric(\"link\"), generic = \"link\", package = \"rethinking\", \n",
       "    group = list(), valueClass = character(0), signature = c(\"fit\", \n",
       "    \"data\", \"n\"), default = new(\"derivedDefaultMethod\", .Data = function (fit, \n",
       "        data, n = 1000, ...) \n",
       "    {\n",
       "        print(class(fit))\n",
       "    }, target = new(\"signature\", .Data = \"ANY\", names = \"fit\", \n",
       "        package = \"methods\"), defined = new(\"signature\", .Data = \"ANY\", \n",
       "        names = \"fit\", package = \"methods\"), generic = \"link\"), \n",
       "    skeleton = (new(\"derivedDefaultMethod\", .Data = function (fit, \n",
       "        data, n = 1000, ...) \n",
       "    {\n",
       "        print(class(fit))\n",
       "    }, target = new(\"signature\", .Data = \"ANY\", names = \"fit\", \n",
       "        package = \"methods\"), defined = new(\"signature\", .Data = \"ANY\", \n",
       "        names = \"fit\", package = \"methods\"), generic = \"link\"))(fit, \n",
       "        data, n, ...))\n",
       "<bytecode: 0x7fd746ce5320>\n",
       "<environment: 0x7fd746c42718>\n",
       "attr(,\"generic\")\n",
       "[1] \"link\"\n",
       "attr(,\"generic\")attr(,\"package\")\n",
       "[1] \"rethinking\"\n",
       "attr(,\"package\")\n",
       "[1] \"rethinking\"\n",
       "attr(,\"group\")\n",
       "list()\n",
       "attr(,\"valueClass\")\n",
       "character(0)\n",
       "attr(,\"signature\")\n",
       "[1] \"fit\"  \"data\" \"n\"   \n",
       "attr(,\"default\")\n",
       "Method Definition (Class \"derivedDefaultMethod\"):\n",
       "\n",
       "function (fit, data, n = 1000, ...) \n",
       "{\n",
       "    print(class(fit))\n",
       "}\n",
       "<environment: namespace:rethinking>\n",
       "\n",
       "Signatures:\n",
       "        fit  \n",
       "target  \"ANY\"\n",
       "defined \"ANY\"\n",
       "attr(,\"skeleton\")\n",
       "(new(\"derivedDefaultMethod\", .Data = function (fit, data, n = 1000, \n",
       "    ...) \n",
       "{\n",
       "    print(class(fit))\n",
       "}, target = new(\"signature\", .Data = \"ANY\", names = \"fit\", package = \"methods\"), \n",
       "    defined = new(\"signature\", .Data = \"ANY\", names = \"fit\", \n",
       "        package = \"methods\"), generic = \"link\"))(fit, data, n, \n",
       "    ...)\n",
       "attr(,\"class\")\n",
       "[1] \"standardGeneric\"\n",
       "attr(,\"class\")attr(,\"package\")\n",
       "[1] \"methods\""
      ]
     },
     "metadata": {},
     "output_type": "display_data"
    }
   ],
   "source": [
    "rethinking::link"
   ]
  },
  {
   "cell_type": "code",
   "execution_count": 28,
   "id": "owned-amino",
   "metadata": {
    "ExecuteTime": {
     "end_time": "2021-05-21T01:31:31.755620Z",
     "start_time": "2021-05-21T01:31:31.738Z"
    }
   },
   "outputs": [
    {
     "data": {
      "text/html": [
       "<pre class=language-r><code>new(\"standardGeneric\", .Data = function (fit, data, n = 1000, \n",
       "<span style=white-space:pre-wrap>    ...) </span>\n",
       "standardGeneric(\"sim\"), generic = structure(\"sim\", package = \"rethinking\"), \n",
       "<span style=white-space:pre-wrap>    package = \"rethinking\", group = list(), valueClass = character(0), </span>\n",
       "<span style=white-space:pre-wrap>    signature = c(\"fit\", \"data\", \"n\"), default = new(\"derivedDefaultMethod\", </span>\n",
       "<span style=white-space:pre-wrap>        .Data = function (fit, data, n = 1000, ...) </span>\n",
       "<span style=white-space:pre-wrap>        {</span>\n",
       "<span style=white-space:pre-wrap>            predict(fit)</span>\n",
       "<span style=white-space:pre-wrap>        }, target = new(\"signature\", .Data = \"ANY\", names = \"fit\", </span>\n",
       "<span style=white-space:pre-wrap>            package = \"methods\"), defined = new(\"signature\", </span>\n",
       "<span style=white-space:pre-wrap>            .Data = \"ANY\", names = \"fit\", package = \"methods\"), </span>\n",
       "<span style=white-space:pre-wrap>        generic = structure(\"sim\", package = \"rethinking\")), </span>\n",
       "<span style=white-space:pre-wrap>    skeleton = (new(\"derivedDefaultMethod\", .Data = function (fit, </span>\n",
       "<span style=white-space:pre-wrap>        data, n = 1000, ...) </span>\n",
       "<span style=white-space:pre-wrap>    {</span>\n",
       "<span style=white-space:pre-wrap>        predict(fit)</span>\n",
       "<span style=white-space:pre-wrap>    }, target = new(\"signature\", .Data = \"ANY\", names = \"fit\", </span>\n",
       "<span style=white-space:pre-wrap>        package = \"methods\"), defined = new(\"signature\", .Data = \"ANY\", </span>\n",
       "<span style=white-space:pre-wrap>        names = \"fit\", package = \"methods\"), generic = structure(\"sim\", package = \"rethinking\")))(fit, </span>\n",
       "<span style=white-space:pre-wrap>        data, n, ...))</span></code></pre>"
      ],
      "text/latex": [
       "\\begin{minted}{r}\n",
       "new(\"standardGeneric\", .Data = function (fit, data, n = 1000, \n",
       "    ...) \n",
       "standardGeneric(\"sim\"), generic = structure(\"sim\", package = \"rethinking\"), \n",
       "    package = \"rethinking\", group = list(), valueClass = character(0), \n",
       "    signature = c(\"fit\", \"data\", \"n\"), default = new(\"derivedDefaultMethod\", \n",
       "        .Data = function (fit, data, n = 1000, ...) \n",
       "        \\{\n",
       "            predict(fit)\n",
       "        \\}, target = new(\"signature\", .Data = \"ANY\", names = \"fit\", \n",
       "            package = \"methods\"), defined = new(\"signature\", \n",
       "            .Data = \"ANY\", names = \"fit\", package = \"methods\"), \n",
       "        generic = structure(\"sim\", package = \"rethinking\")), \n",
       "    skeleton = (new(\"derivedDefaultMethod\", .Data = function (fit, \n",
       "        data, n = 1000, ...) \n",
       "    \\{\n",
       "        predict(fit)\n",
       "    \\}, target = new(\"signature\", .Data = \"ANY\", names = \"fit\", \n",
       "        package = \"methods\"), defined = new(\"signature\", .Data = \"ANY\", \n",
       "        names = \"fit\", package = \"methods\"), generic = structure(\"sim\", package = \"rethinking\")))(fit, \n",
       "        data, n, ...))\n",
       "\\end{minted}"
      ],
      "text/markdown": [
       "```r\n",
       "new(\"standardGeneric\", .Data = function (fit, data, n = 1000, \n",
       "    ...) \n",
       "standardGeneric(\"sim\"), generic = structure(\"sim\", package = \"rethinking\"), \n",
       "    package = \"rethinking\", group = list(), valueClass = character(0), \n",
       "    signature = c(\"fit\", \"data\", \"n\"), default = new(\"derivedDefaultMethod\", \n",
       "        .Data = function (fit, data, n = 1000, ...) \n",
       "        {\n",
       "            predict(fit)\n",
       "        }, target = new(\"signature\", .Data = \"ANY\", names = \"fit\", \n",
       "            package = \"methods\"), defined = new(\"signature\", \n",
       "            .Data = \"ANY\", names = \"fit\", package = \"methods\"), \n",
       "        generic = structure(\"sim\", package = \"rethinking\")), \n",
       "    skeleton = (new(\"derivedDefaultMethod\", .Data = function (fit, \n",
       "        data, n = 1000, ...) \n",
       "    {\n",
       "        predict(fit)\n",
       "    }, target = new(\"signature\", .Data = \"ANY\", names = \"fit\", \n",
       "        package = \"methods\"), defined = new(\"signature\", .Data = \"ANY\", \n",
       "        names = \"fit\", package = \"methods\"), generic = structure(\"sim\", package = \"rethinking\")))(fit, \n",
       "        data, n, ...))\n",
       "```"
      ],
      "text/plain": [
       "new(\"standardGeneric\", .Data = function (fit, data, n = 1000, \n",
       "    ...) \n",
       "standardGeneric(\"sim\"), generic = \"sim\", package = \"rethinking\", \n",
       "    group = list(), valueClass = character(0), signature = c(\"fit\", \n",
       "    \"data\", \"n\"), default = new(\"derivedDefaultMethod\", .Data = function (fit, \n",
       "        data, n = 1000, ...) \n",
       "    {\n",
       "        predict(fit)\n",
       "    }, target = new(\"signature\", .Data = \"ANY\", names = \"fit\", \n",
       "        package = \"methods\"), defined = new(\"signature\", .Data = \"ANY\", \n",
       "        names = \"fit\", package = \"methods\"), generic = \"sim\"), \n",
       "    skeleton = (new(\"derivedDefaultMethod\", .Data = function (fit, \n",
       "        data, n = 1000, ...) \n",
       "    {\n",
       "        predict(fit)\n",
       "    }, target = new(\"signature\", .Data = \"ANY\", names = \"fit\", \n",
       "        package = \"methods\"), defined = new(\"signature\", .Data = \"ANY\", \n",
       "        names = \"fit\", package = \"methods\"), generic = \"sim\"))(fit, \n",
       "        data, n, ...))\n",
       "<bytecode: 0x7fd766f4a710>\n",
       "<environment: 0x7fd766f08d68>\n",
       "attr(,\"generic\")\n",
       "[1] \"sim\"\n",
       "attr(,\"generic\")attr(,\"package\")\n",
       "[1] \"rethinking\"\n",
       "attr(,\"package\")\n",
       "[1] \"rethinking\"\n",
       "attr(,\"group\")\n",
       "list()\n",
       "attr(,\"valueClass\")\n",
       "character(0)\n",
       "attr(,\"signature\")\n",
       "[1] \"fit\"  \"data\" \"n\"   \n",
       "attr(,\"default\")\n",
       "Method Definition (Class \"derivedDefaultMethod\"):\n",
       "\n",
       "function (fit, data, n = 1000, ...) \n",
       "{\n",
       "    predict(fit)\n",
       "}\n",
       "<environment: namespace:rethinking>\n",
       "\n",
       "Signatures:\n",
       "        fit  \n",
       "target  \"ANY\"\n",
       "defined \"ANY\"\n",
       "attr(,\"skeleton\")\n",
       "(new(\"derivedDefaultMethod\", .Data = function (fit, data, n = 1000, \n",
       "    ...) \n",
       "{\n",
       "    predict(fit)\n",
       "}, target = new(\"signature\", .Data = \"ANY\", names = \"fit\", package = \"methods\"), \n",
       "    defined = new(\"signature\", .Data = \"ANY\", names = \"fit\", \n",
       "        package = \"methods\"), generic = \"sim\"))(fit, data, n, \n",
       "    ...)\n",
       "attr(,\"class\")\n",
       "[1] \"standardGeneric\"\n",
       "attr(,\"class\")attr(,\"package\")\n",
       "[1] \"methods\""
      ]
     },
     "metadata": {},
     "output_type": "display_data"
    }
   ],
   "source": [
    "rethinking::sim"
   ]
  },
  {
   "cell_type": "code",
   "execution_count": 25,
   "id": "crazy-secretariat",
   "metadata": {
    "ExecuteTime": {
     "end_time": "2021-05-21T01:29:12.669732Z",
     "start_time": "2021-05-21T01:29:12.596Z"
    }
   },
   "outputs": [],
   "source": [
    "help(sim)"
   ]
  },
  {
   "cell_type": "markdown",
   "id": "hawaiian-phone",
   "metadata": {},
   "source": [
    "# R code 7.14, running lppd step-by-step"
   ]
  },
  {
   "cell_type": "code",
   "execution_count": 5,
   "id": "wicked-serial",
   "metadata": {
    "ExecuteTime": {
     "end_time": "2021-05-20T17:44:41.961159Z",
     "start_time": "2021-05-20T17:44:40.568Z"
    }
   },
   "outputs": [],
   "source": [
    "## R code 7.14\n",
    "set.seed(1)\n",
    "logprob <- sim( m7.1 , ll=TRUE , n=1e4 )"
   ]
  },
  {
   "cell_type": "code",
   "execution_count": 14,
   "id": "naughty-activity",
   "metadata": {
    "ExecuteTime": {
     "end_time": "2021-05-20T21:28:55.452227Z",
     "start_time": "2021-05-20T21:28:54.140Z"
    }
   },
   "outputs": [],
   "source": [
    "prob <- sim( m7.1 , ll=FALSE , n=1e4 )"
   ]
  },
  {
   "cell_type": "code",
   "execution_count": 15,
   "id": "amended-medicine",
   "metadata": {
    "ExecuteTime": {
     "end_time": "2021-05-20T21:28:58.607471Z",
     "start_time": "2021-05-20T21:28:58.539Z"
    }
   },
   "outputs": [
    {
     "data": {
      "text/html": [
       "<table>\n",
       "<caption>A matrix: 10000 × 7 of type dbl</caption>\n",
       "<tbody>\n",
       "\t<tr><td>0.52126798</td><td> 0.5162750</td><td> 0.43899979</td><td>0.1633693</td><td>0.5313523</td><td>0.4322937</td><td>0.4246548</td></tr>\n",
       "\t<tr><td>0.40853512</td><td> 0.2138030</td><td> 0.17579356</td><td>0.1475434</td><td>0.5075439</td><td>0.6714141</td><td>0.3767420</td></tr>\n",
       "\t<tr><td>0.59615015</td><td> 0.2278049</td><td> 0.64901311</td><td>0.8467154</td><td>0.8756017</td><td>0.7407723</td><td>0.7278231</td></tr>\n",
       "\t<tr><td>0.42996320</td><td> 0.3691631</td><td> 0.58787985</td><td>0.4989607</td><td>0.5280107</td><td>0.6070515</td><td>0.3152445</td></tr>\n",
       "\t<tr><td>0.11318481</td><td> 0.1189642</td><td> 0.26405015</td><td>0.5541280</td><td>0.6572143</td><td>0.6216979</td><td>0.5154358</td></tr>\n",
       "\t<tr><td>0.23113174</td><td> 0.5585194</td><td> 0.66111155</td><td>0.3373033</td><td>0.5873164</td><td>0.8022386</td><td>0.5092744</td></tr>\n",
       "\t<tr><td>0.05487024</td><td>-0.0441793</td><td> 0.24179893</td><td>0.8089892</td><td>0.4094673</td><td>1.3123029</td><td>0.8650496</td></tr>\n",
       "\t<tr><td>0.24629913</td><td> 0.6828795</td><td>-0.11996564</td><td>0.2314384</td><td>0.5462493</td><td>0.7976976</td><td>0.6495432</td></tr>\n",
       "\t<tr><td>0.63473504</td><td> 0.5478410</td><td> 0.58059220</td><td>0.7706642</td><td>0.7606872</td><td>0.6461984</td><td>0.5845011</td></tr>\n",
       "\t<tr><td>0.49072753</td><td> 0.2380181</td><td> 0.60810589</td><td>0.6549700</td><td>0.8255715</td><td>0.6539879</td><td>0.4132728</td></tr>\n",
       "\t<tr><td>0.12652744</td><td> 0.3956943</td><td> 0.13037088</td><td>0.6072102</td><td>0.6453803</td><td>0.6552093</td><td>0.4430543</td></tr>\n",
       "\t<tr><td>0.49432627</td><td> 0.5839840</td><td> 0.24630798</td><td>0.4715413</td><td>0.5962977</td><td>0.9310394</td><td>0.9526472</td></tr>\n",
       "\t<tr><td>0.31607840</td><td> 0.5900663</td><td> 0.36138918</td><td>0.4127846</td><td>0.5393559</td><td>0.4022522</td><td>0.6398246</td></tr>\n",
       "\t<tr><td>0.21915655</td><td> 0.6095068</td><td> 0.41027406</td><td>0.2850546</td><td>0.4243613</td><td>0.7061632</td><td>0.9277503</td></tr>\n",
       "\t<tr><td>0.29208631</td><td> 0.5559073</td><td> 0.28307637</td><td>0.5714407</td><td>0.6315923</td><td>0.8602102</td><td>0.7189492</td></tr>\n",
       "\t<tr><td>0.22181791</td><td> 0.4205991</td><td> 0.39619785</td><td>0.3781874</td><td>0.5462937</td><td>0.8038944</td><td>0.5934493</td></tr>\n",
       "\t<tr><td>0.35019684</td><td> 0.4980825</td><td> 0.28453510</td><td>0.3272187</td><td>0.8338663</td><td>0.8511311</td><td>0.6912546</td></tr>\n",
       "\t<tr><td>0.50033146</td><td> 0.6307401</td><td> 0.26008307</td><td>0.3207721</td><td>0.6257359</td><td>0.6333559</td><td>0.5772068</td></tr>\n",
       "\t<tr><td>0.47340771</td><td> 0.5557143</td><td> 0.37049710</td><td>0.2920491</td><td>0.7428765</td><td>0.4909360</td><td>0.5827324</td></tr>\n",
       "\t<tr><td>0.72846986</td><td> 0.2367670</td><td> 0.26710957</td><td>0.7670669</td><td>0.9697344</td><td>0.8486665</td><td>0.7976850</td></tr>\n",
       "\t<tr><td>0.35307369</td><td> 0.8753393</td><td> 0.38989805</td><td>0.6190102</td><td>0.6402052</td><td>0.6728507</td><td>0.7116689</td></tr>\n",
       "\t<tr><td>0.69123088</td><td> 0.3120759</td><td> 0.47860498</td><td>0.4627908</td><td>0.5925948</td><td>0.4141079</td><td>0.5884597</td></tr>\n",
       "\t<tr><td>0.08259394</td><td> 0.6900434</td><td> 0.11684420</td><td>0.5206315</td><td>0.7825399</td><td>0.7939408</td><td>0.4817433</td></tr>\n",
       "\t<tr><td>0.41380145</td><td> 0.5876193</td><td> 0.36195686</td><td>0.3667623</td><td>0.7715335</td><td>0.4845550</td><td>0.8021324</td></tr>\n",
       "\t<tr><td>0.74950898</td><td> 0.3931323</td><td> 0.20278833</td><td>0.3119140</td><td>0.5670953</td><td>1.0988817</td><td>0.6613771</td></tr>\n",
       "\t<tr><td>0.02615222</td><td> 0.9915974</td><td> 0.29678784</td><td>0.5677449</td><td>0.7362007</td><td>0.6024533</td><td>0.5873663</td></tr>\n",
       "\t<tr><td>0.56279315</td><td> 0.8370695</td><td> 0.39424096</td><td>0.8457901</td><td>0.9715253</td><td>0.8554993</td><td>0.3615981</td></tr>\n",
       "\t<tr><td>0.34423368</td><td> 0.2320266</td><td> 0.12220849</td><td>0.4182757</td><td>0.7693542</td><td>1.1102963</td><td>0.6708258</td></tr>\n",
       "\t<tr><td>0.30125366</td><td> 0.2667783</td><td>-0.04567999</td><td>0.4731418</td><td>0.6519849</td><td>0.8033318</td><td>0.5843446</td></tr>\n",
       "\t<tr><td>0.39460897</td><td> 0.1633487</td><td> 0.41304420</td><td>0.6571750</td><td>0.6407580</td><td>0.5302038</td><td>1.1496461</td></tr>\n",
       "\t<tr><td>⋮</td><td>⋮</td><td>⋮</td><td>⋮</td><td>⋮</td><td>⋮</td><td>⋮</td></tr>\n",
       "\t<tr><td>-0.11129093</td><td>0.49736301</td><td> 0.21587185</td><td>0.46716871</td><td>0.6394371</td><td>0.6770789</td><td>0.6015324</td></tr>\n",
       "\t<tr><td> 0.60297910</td><td>0.15893104</td><td> 0.56080831</td><td>0.72745007</td><td>0.4572214</td><td>0.9009118</td><td>1.0571417</td></tr>\n",
       "\t<tr><td> 0.27972094</td><td>1.12444885</td><td> 0.53387117</td><td>0.48077688</td><td>0.5664029</td><td>0.8587340</td><td>0.4453385</td></tr>\n",
       "\t<tr><td> 0.31818024</td><td>0.51311286</td><td> 0.24320667</td><td>0.37311232</td><td>0.6523507</td><td>0.6375400</td><td>0.3021020</td></tr>\n",
       "\t<tr><td> 0.49564447</td><td>0.50060925</td><td> 0.16333261</td><td>0.39148171</td><td>0.7151615</td><td>0.5269898</td><td>0.4289396</td></tr>\n",
       "\t<tr><td> 0.54887959</td><td>0.36324781</td><td> 0.24646070</td><td>0.44439958</td><td>0.4869647</td><td>0.6066318</td><td>0.5633036</td></tr>\n",
       "\t<tr><td> 0.36387135</td><td>0.25359832</td><td> 0.45884274</td><td>0.51401060</td><td>0.8479727</td><td>0.9752403</td><td>0.8668708</td></tr>\n",
       "\t<tr><td> 0.61275403</td><td>0.14623916</td><td> 0.38816598</td><td>0.56620548</td><td>0.8692699</td><td>0.8547258</td><td>0.4870283</td></tr>\n",
       "\t<tr><td> 0.22940816</td><td>0.44736790</td><td>-0.34324807</td><td>0.48424742</td><td>0.5893768</td><td>0.5895451</td><td>0.3382125</td></tr>\n",
       "\t<tr><td> 0.40632598</td><td>0.34933309</td><td> 0.46394029</td><td>0.37235288</td><td>0.8267259</td><td>0.8242588</td><td>0.4165490</td></tr>\n",
       "\t<tr><td> 0.37443073</td><td>0.25379583</td><td> 0.46862420</td><td>0.45512093</td><td>0.5282750</td><td>0.6832156</td><td>0.5492777</td></tr>\n",
       "\t<tr><td> 0.64670445</td><td>0.05471021</td><td> 0.16681059</td><td>0.03820753</td><td>1.2923425</td><td>1.1482924</td><td>0.9795841</td></tr>\n",
       "\t<tr><td> 0.55442044</td><td>0.59825035</td><td> 0.47051068</td><td>0.56190738</td><td>0.7131137</td><td>0.7729341</td><td>0.6008177</td></tr>\n",
       "\t<tr><td>-0.04805734</td><td>0.13589655</td><td> 0.36619475</td><td>0.45246687</td><td>0.9651057</td><td>0.8770883</td><td>0.6524729</td></tr>\n",
       "\t<tr><td> 0.18812386</td><td>0.47035092</td><td> 0.44082784</td><td>0.34888538</td><td>0.5904484</td><td>0.5658234</td><td>0.5875776</td></tr>\n",
       "\t<tr><td> 0.87575271</td><td>0.83616889</td><td> 0.36573885</td><td>0.37257917</td><td>0.5751987</td><td>0.8119173</td><td>1.1243553</td></tr>\n",
       "\t<tr><td> 0.41381344</td><td>0.53829508</td><td> 0.30597890</td><td>0.35699357</td><td>0.5253674</td><td>0.5894750</td><td>0.6376735</td></tr>\n",
       "\t<tr><td> 0.58468832</td><td>0.17234935</td><td> 0.13618834</td><td>0.04724095</td><td>0.5879382</td><td>0.4745836</td><td>0.7475909</td></tr>\n",
       "\t<tr><td> 0.90092155</td><td>0.85979018</td><td> 0.70421491</td><td>0.62450177</td><td>0.7172887</td><td>0.7165153</td><td>0.8242001</td></tr>\n",
       "\t<tr><td> 0.57034961</td><td>0.34389393</td><td> 0.36775037</td><td>0.24714027</td><td>0.7779249</td><td>0.4966043</td><td>1.0509040</td></tr>\n",
       "\t<tr><td> 0.42057137</td><td>0.41031609</td><td> 0.64561393</td><td>0.39969382</td><td>0.4911636</td><td>0.7597195</td><td>0.3886604</td></tr>\n",
       "\t<tr><td> 0.44325405</td><td>0.38343354</td><td> 0.08938880</td><td>0.37690084</td><td>0.9538568</td><td>0.5524366</td><td>0.5329965</td></tr>\n",
       "\t<tr><td> 0.84277997</td><td>0.36133696</td><td> 0.06750546</td><td>0.55002643</td><td>0.8943480</td><td>0.8127589</td><td>0.8639518</td></tr>\n",
       "\t<tr><td> 0.23784264</td><td>0.57182932</td><td> 0.42531545</td><td>0.38731797</td><td>0.7609187</td><td>1.0101005</td><td>0.6356983</td></tr>\n",
       "\t<tr><td> 0.67351885</td><td>0.36463050</td><td> 0.12180397</td><td>0.73651121</td><td>0.5963628</td><td>0.2859569</td><td>0.2792475</td></tr>\n",
       "\t<tr><td> 0.53893007</td><td>0.64354576</td><td> 0.46272667</td><td>0.46002881</td><td>0.7731838</td><td>0.8605065</td><td>0.6857010</td></tr>\n",
       "\t<tr><td> 0.18834697</td><td>0.25960228</td><td> 0.90099843</td><td>0.71310288</td><td>0.2355316</td><td>0.4543653</td><td>0.5232388</td></tr>\n",
       "\t<tr><td> 0.37152947</td><td>0.23614236</td><td> 0.33529479</td><td>0.35816541</td><td>0.4949990</td><td>0.7335713</td><td>0.4708725</td></tr>\n",
       "\t<tr><td> 0.60794203</td><td>0.49551518</td><td> 0.45957683</td><td>0.54565588</td><td>0.4659179</td><td>0.9230107</td><td>0.6807255</td></tr>\n",
       "\t<tr><td> 0.49874108</td><td>0.40858884</td><td> 0.60196681</td><td>0.53444735</td><td>0.5219790</td><td>0.5821942</td><td>0.3606431</td></tr>\n",
       "</tbody>\n",
       "</table>\n"
      ],
      "text/latex": [
       "A matrix: 10000 × 7 of type dbl\n",
       "\\begin{tabular}{lllllll}\n",
       "\t 0.52126798 &  0.5162750 &  0.43899979 & 0.1633693 & 0.5313523 & 0.4322937 & 0.4246548\\\\\n",
       "\t 0.40853512 &  0.2138030 &  0.17579356 & 0.1475434 & 0.5075439 & 0.6714141 & 0.3767420\\\\\n",
       "\t 0.59615015 &  0.2278049 &  0.64901311 & 0.8467154 & 0.8756017 & 0.7407723 & 0.7278231\\\\\n",
       "\t 0.42996320 &  0.3691631 &  0.58787985 & 0.4989607 & 0.5280107 & 0.6070515 & 0.3152445\\\\\n",
       "\t 0.11318481 &  0.1189642 &  0.26405015 & 0.5541280 & 0.6572143 & 0.6216979 & 0.5154358\\\\\n",
       "\t 0.23113174 &  0.5585194 &  0.66111155 & 0.3373033 & 0.5873164 & 0.8022386 & 0.5092744\\\\\n",
       "\t 0.05487024 & -0.0441793 &  0.24179893 & 0.8089892 & 0.4094673 & 1.3123029 & 0.8650496\\\\\n",
       "\t 0.24629913 &  0.6828795 & -0.11996564 & 0.2314384 & 0.5462493 & 0.7976976 & 0.6495432\\\\\n",
       "\t 0.63473504 &  0.5478410 &  0.58059220 & 0.7706642 & 0.7606872 & 0.6461984 & 0.5845011\\\\\n",
       "\t 0.49072753 &  0.2380181 &  0.60810589 & 0.6549700 & 0.8255715 & 0.6539879 & 0.4132728\\\\\n",
       "\t 0.12652744 &  0.3956943 &  0.13037088 & 0.6072102 & 0.6453803 & 0.6552093 & 0.4430543\\\\\n",
       "\t 0.49432627 &  0.5839840 &  0.24630798 & 0.4715413 & 0.5962977 & 0.9310394 & 0.9526472\\\\\n",
       "\t 0.31607840 &  0.5900663 &  0.36138918 & 0.4127846 & 0.5393559 & 0.4022522 & 0.6398246\\\\\n",
       "\t 0.21915655 &  0.6095068 &  0.41027406 & 0.2850546 & 0.4243613 & 0.7061632 & 0.9277503\\\\\n",
       "\t 0.29208631 &  0.5559073 &  0.28307637 & 0.5714407 & 0.6315923 & 0.8602102 & 0.7189492\\\\\n",
       "\t 0.22181791 &  0.4205991 &  0.39619785 & 0.3781874 & 0.5462937 & 0.8038944 & 0.5934493\\\\\n",
       "\t 0.35019684 &  0.4980825 &  0.28453510 & 0.3272187 & 0.8338663 & 0.8511311 & 0.6912546\\\\\n",
       "\t 0.50033146 &  0.6307401 &  0.26008307 & 0.3207721 & 0.6257359 & 0.6333559 & 0.5772068\\\\\n",
       "\t 0.47340771 &  0.5557143 &  0.37049710 & 0.2920491 & 0.7428765 & 0.4909360 & 0.5827324\\\\\n",
       "\t 0.72846986 &  0.2367670 &  0.26710957 & 0.7670669 & 0.9697344 & 0.8486665 & 0.7976850\\\\\n",
       "\t 0.35307369 &  0.8753393 &  0.38989805 & 0.6190102 & 0.6402052 & 0.6728507 & 0.7116689\\\\\n",
       "\t 0.69123088 &  0.3120759 &  0.47860498 & 0.4627908 & 0.5925948 & 0.4141079 & 0.5884597\\\\\n",
       "\t 0.08259394 &  0.6900434 &  0.11684420 & 0.5206315 & 0.7825399 & 0.7939408 & 0.4817433\\\\\n",
       "\t 0.41380145 &  0.5876193 &  0.36195686 & 0.3667623 & 0.7715335 & 0.4845550 & 0.8021324\\\\\n",
       "\t 0.74950898 &  0.3931323 &  0.20278833 & 0.3119140 & 0.5670953 & 1.0988817 & 0.6613771\\\\\n",
       "\t 0.02615222 &  0.9915974 &  0.29678784 & 0.5677449 & 0.7362007 & 0.6024533 & 0.5873663\\\\\n",
       "\t 0.56279315 &  0.8370695 &  0.39424096 & 0.8457901 & 0.9715253 & 0.8554993 & 0.3615981\\\\\n",
       "\t 0.34423368 &  0.2320266 &  0.12220849 & 0.4182757 & 0.7693542 & 1.1102963 & 0.6708258\\\\\n",
       "\t 0.30125366 &  0.2667783 & -0.04567999 & 0.4731418 & 0.6519849 & 0.8033318 & 0.5843446\\\\\n",
       "\t 0.39460897 &  0.1633487 &  0.41304420 & 0.6571750 & 0.6407580 & 0.5302038 & 1.1496461\\\\\n",
       "\t ⋮ & ⋮ & ⋮ & ⋮ & ⋮ & ⋮ & ⋮\\\\\n",
       "\t -0.11129093 & 0.49736301 &  0.21587185 & 0.46716871 & 0.6394371 & 0.6770789 & 0.6015324\\\\\n",
       "\t  0.60297910 & 0.15893104 &  0.56080831 & 0.72745007 & 0.4572214 & 0.9009118 & 1.0571417\\\\\n",
       "\t  0.27972094 & 1.12444885 &  0.53387117 & 0.48077688 & 0.5664029 & 0.8587340 & 0.4453385\\\\\n",
       "\t  0.31818024 & 0.51311286 &  0.24320667 & 0.37311232 & 0.6523507 & 0.6375400 & 0.3021020\\\\\n",
       "\t  0.49564447 & 0.50060925 &  0.16333261 & 0.39148171 & 0.7151615 & 0.5269898 & 0.4289396\\\\\n",
       "\t  0.54887959 & 0.36324781 &  0.24646070 & 0.44439958 & 0.4869647 & 0.6066318 & 0.5633036\\\\\n",
       "\t  0.36387135 & 0.25359832 &  0.45884274 & 0.51401060 & 0.8479727 & 0.9752403 & 0.8668708\\\\\n",
       "\t  0.61275403 & 0.14623916 &  0.38816598 & 0.56620548 & 0.8692699 & 0.8547258 & 0.4870283\\\\\n",
       "\t  0.22940816 & 0.44736790 & -0.34324807 & 0.48424742 & 0.5893768 & 0.5895451 & 0.3382125\\\\\n",
       "\t  0.40632598 & 0.34933309 &  0.46394029 & 0.37235288 & 0.8267259 & 0.8242588 & 0.4165490\\\\\n",
       "\t  0.37443073 & 0.25379583 &  0.46862420 & 0.45512093 & 0.5282750 & 0.6832156 & 0.5492777\\\\\n",
       "\t  0.64670445 & 0.05471021 &  0.16681059 & 0.03820753 & 1.2923425 & 1.1482924 & 0.9795841\\\\\n",
       "\t  0.55442044 & 0.59825035 &  0.47051068 & 0.56190738 & 0.7131137 & 0.7729341 & 0.6008177\\\\\n",
       "\t -0.04805734 & 0.13589655 &  0.36619475 & 0.45246687 & 0.9651057 & 0.8770883 & 0.6524729\\\\\n",
       "\t  0.18812386 & 0.47035092 &  0.44082784 & 0.34888538 & 0.5904484 & 0.5658234 & 0.5875776\\\\\n",
       "\t  0.87575271 & 0.83616889 &  0.36573885 & 0.37257917 & 0.5751987 & 0.8119173 & 1.1243553\\\\\n",
       "\t  0.41381344 & 0.53829508 &  0.30597890 & 0.35699357 & 0.5253674 & 0.5894750 & 0.6376735\\\\\n",
       "\t  0.58468832 & 0.17234935 &  0.13618834 & 0.04724095 & 0.5879382 & 0.4745836 & 0.7475909\\\\\n",
       "\t  0.90092155 & 0.85979018 &  0.70421491 & 0.62450177 & 0.7172887 & 0.7165153 & 0.8242001\\\\\n",
       "\t  0.57034961 & 0.34389393 &  0.36775037 & 0.24714027 & 0.7779249 & 0.4966043 & 1.0509040\\\\\n",
       "\t  0.42057137 & 0.41031609 &  0.64561393 & 0.39969382 & 0.4911636 & 0.7597195 & 0.3886604\\\\\n",
       "\t  0.44325405 & 0.38343354 &  0.08938880 & 0.37690084 & 0.9538568 & 0.5524366 & 0.5329965\\\\\n",
       "\t  0.84277997 & 0.36133696 &  0.06750546 & 0.55002643 & 0.8943480 & 0.8127589 & 0.8639518\\\\\n",
       "\t  0.23784264 & 0.57182932 &  0.42531545 & 0.38731797 & 0.7609187 & 1.0101005 & 0.6356983\\\\\n",
       "\t  0.67351885 & 0.36463050 &  0.12180397 & 0.73651121 & 0.5963628 & 0.2859569 & 0.2792475\\\\\n",
       "\t  0.53893007 & 0.64354576 &  0.46272667 & 0.46002881 & 0.7731838 & 0.8605065 & 0.6857010\\\\\n",
       "\t  0.18834697 & 0.25960228 &  0.90099843 & 0.71310288 & 0.2355316 & 0.4543653 & 0.5232388\\\\\n",
       "\t  0.37152947 & 0.23614236 &  0.33529479 & 0.35816541 & 0.4949990 & 0.7335713 & 0.4708725\\\\\n",
       "\t  0.60794203 & 0.49551518 &  0.45957683 & 0.54565588 & 0.4659179 & 0.9230107 & 0.6807255\\\\\n",
       "\t  0.49874108 & 0.40858884 &  0.60196681 & 0.53444735 & 0.5219790 & 0.5821942 & 0.3606431\\\\\n",
       "\\end{tabular}\n"
      ],
      "text/markdown": [
       "\n",
       "A matrix: 10000 × 7 of type dbl\n",
       "\n",
       "| 0.52126798 |  0.5162750 |  0.43899979 | 0.1633693 | 0.5313523 | 0.4322937 | 0.4246548 |\n",
       "| 0.40853512 |  0.2138030 |  0.17579356 | 0.1475434 | 0.5075439 | 0.6714141 | 0.3767420 |\n",
       "| 0.59615015 |  0.2278049 |  0.64901311 | 0.8467154 | 0.8756017 | 0.7407723 | 0.7278231 |\n",
       "| 0.42996320 |  0.3691631 |  0.58787985 | 0.4989607 | 0.5280107 | 0.6070515 | 0.3152445 |\n",
       "| 0.11318481 |  0.1189642 |  0.26405015 | 0.5541280 | 0.6572143 | 0.6216979 | 0.5154358 |\n",
       "| 0.23113174 |  0.5585194 |  0.66111155 | 0.3373033 | 0.5873164 | 0.8022386 | 0.5092744 |\n",
       "| 0.05487024 | -0.0441793 |  0.24179893 | 0.8089892 | 0.4094673 | 1.3123029 | 0.8650496 |\n",
       "| 0.24629913 |  0.6828795 | -0.11996564 | 0.2314384 | 0.5462493 | 0.7976976 | 0.6495432 |\n",
       "| 0.63473504 |  0.5478410 |  0.58059220 | 0.7706642 | 0.7606872 | 0.6461984 | 0.5845011 |\n",
       "| 0.49072753 |  0.2380181 |  0.60810589 | 0.6549700 | 0.8255715 | 0.6539879 | 0.4132728 |\n",
       "| 0.12652744 |  0.3956943 |  0.13037088 | 0.6072102 | 0.6453803 | 0.6552093 | 0.4430543 |\n",
       "| 0.49432627 |  0.5839840 |  0.24630798 | 0.4715413 | 0.5962977 | 0.9310394 | 0.9526472 |\n",
       "| 0.31607840 |  0.5900663 |  0.36138918 | 0.4127846 | 0.5393559 | 0.4022522 | 0.6398246 |\n",
       "| 0.21915655 |  0.6095068 |  0.41027406 | 0.2850546 | 0.4243613 | 0.7061632 | 0.9277503 |\n",
       "| 0.29208631 |  0.5559073 |  0.28307637 | 0.5714407 | 0.6315923 | 0.8602102 | 0.7189492 |\n",
       "| 0.22181791 |  0.4205991 |  0.39619785 | 0.3781874 | 0.5462937 | 0.8038944 | 0.5934493 |\n",
       "| 0.35019684 |  0.4980825 |  0.28453510 | 0.3272187 | 0.8338663 | 0.8511311 | 0.6912546 |\n",
       "| 0.50033146 |  0.6307401 |  0.26008307 | 0.3207721 | 0.6257359 | 0.6333559 | 0.5772068 |\n",
       "| 0.47340771 |  0.5557143 |  0.37049710 | 0.2920491 | 0.7428765 | 0.4909360 | 0.5827324 |\n",
       "| 0.72846986 |  0.2367670 |  0.26710957 | 0.7670669 | 0.9697344 | 0.8486665 | 0.7976850 |\n",
       "| 0.35307369 |  0.8753393 |  0.38989805 | 0.6190102 | 0.6402052 | 0.6728507 | 0.7116689 |\n",
       "| 0.69123088 |  0.3120759 |  0.47860498 | 0.4627908 | 0.5925948 | 0.4141079 | 0.5884597 |\n",
       "| 0.08259394 |  0.6900434 |  0.11684420 | 0.5206315 | 0.7825399 | 0.7939408 | 0.4817433 |\n",
       "| 0.41380145 |  0.5876193 |  0.36195686 | 0.3667623 | 0.7715335 | 0.4845550 | 0.8021324 |\n",
       "| 0.74950898 |  0.3931323 |  0.20278833 | 0.3119140 | 0.5670953 | 1.0988817 | 0.6613771 |\n",
       "| 0.02615222 |  0.9915974 |  0.29678784 | 0.5677449 | 0.7362007 | 0.6024533 | 0.5873663 |\n",
       "| 0.56279315 |  0.8370695 |  0.39424096 | 0.8457901 | 0.9715253 | 0.8554993 | 0.3615981 |\n",
       "| 0.34423368 |  0.2320266 |  0.12220849 | 0.4182757 | 0.7693542 | 1.1102963 | 0.6708258 |\n",
       "| 0.30125366 |  0.2667783 | -0.04567999 | 0.4731418 | 0.6519849 | 0.8033318 | 0.5843446 |\n",
       "| 0.39460897 |  0.1633487 |  0.41304420 | 0.6571750 | 0.6407580 | 0.5302038 | 1.1496461 |\n",
       "| ⋮ | ⋮ | ⋮ | ⋮ | ⋮ | ⋮ | ⋮ |\n",
       "| -0.11129093 | 0.49736301 |  0.21587185 | 0.46716871 | 0.6394371 | 0.6770789 | 0.6015324 |\n",
       "|  0.60297910 | 0.15893104 |  0.56080831 | 0.72745007 | 0.4572214 | 0.9009118 | 1.0571417 |\n",
       "|  0.27972094 | 1.12444885 |  0.53387117 | 0.48077688 | 0.5664029 | 0.8587340 | 0.4453385 |\n",
       "|  0.31818024 | 0.51311286 |  0.24320667 | 0.37311232 | 0.6523507 | 0.6375400 | 0.3021020 |\n",
       "|  0.49564447 | 0.50060925 |  0.16333261 | 0.39148171 | 0.7151615 | 0.5269898 | 0.4289396 |\n",
       "|  0.54887959 | 0.36324781 |  0.24646070 | 0.44439958 | 0.4869647 | 0.6066318 | 0.5633036 |\n",
       "|  0.36387135 | 0.25359832 |  0.45884274 | 0.51401060 | 0.8479727 | 0.9752403 | 0.8668708 |\n",
       "|  0.61275403 | 0.14623916 |  0.38816598 | 0.56620548 | 0.8692699 | 0.8547258 | 0.4870283 |\n",
       "|  0.22940816 | 0.44736790 | -0.34324807 | 0.48424742 | 0.5893768 | 0.5895451 | 0.3382125 |\n",
       "|  0.40632598 | 0.34933309 |  0.46394029 | 0.37235288 | 0.8267259 | 0.8242588 | 0.4165490 |\n",
       "|  0.37443073 | 0.25379583 |  0.46862420 | 0.45512093 | 0.5282750 | 0.6832156 | 0.5492777 |\n",
       "|  0.64670445 | 0.05471021 |  0.16681059 | 0.03820753 | 1.2923425 | 1.1482924 | 0.9795841 |\n",
       "|  0.55442044 | 0.59825035 |  0.47051068 | 0.56190738 | 0.7131137 | 0.7729341 | 0.6008177 |\n",
       "| -0.04805734 | 0.13589655 |  0.36619475 | 0.45246687 | 0.9651057 | 0.8770883 | 0.6524729 |\n",
       "|  0.18812386 | 0.47035092 |  0.44082784 | 0.34888538 | 0.5904484 | 0.5658234 | 0.5875776 |\n",
       "|  0.87575271 | 0.83616889 |  0.36573885 | 0.37257917 | 0.5751987 | 0.8119173 | 1.1243553 |\n",
       "|  0.41381344 | 0.53829508 |  0.30597890 | 0.35699357 | 0.5253674 | 0.5894750 | 0.6376735 |\n",
       "|  0.58468832 | 0.17234935 |  0.13618834 | 0.04724095 | 0.5879382 | 0.4745836 | 0.7475909 |\n",
       "|  0.90092155 | 0.85979018 |  0.70421491 | 0.62450177 | 0.7172887 | 0.7165153 | 0.8242001 |\n",
       "|  0.57034961 | 0.34389393 |  0.36775037 | 0.24714027 | 0.7779249 | 0.4966043 | 1.0509040 |\n",
       "|  0.42057137 | 0.41031609 |  0.64561393 | 0.39969382 | 0.4911636 | 0.7597195 | 0.3886604 |\n",
       "|  0.44325405 | 0.38343354 |  0.08938880 | 0.37690084 | 0.9538568 | 0.5524366 | 0.5329965 |\n",
       "|  0.84277997 | 0.36133696 |  0.06750546 | 0.55002643 | 0.8943480 | 0.8127589 | 0.8639518 |\n",
       "|  0.23784264 | 0.57182932 |  0.42531545 | 0.38731797 | 0.7609187 | 1.0101005 | 0.6356983 |\n",
       "|  0.67351885 | 0.36463050 |  0.12180397 | 0.73651121 | 0.5963628 | 0.2859569 | 0.2792475 |\n",
       "|  0.53893007 | 0.64354576 |  0.46272667 | 0.46002881 | 0.7731838 | 0.8605065 | 0.6857010 |\n",
       "|  0.18834697 | 0.25960228 |  0.90099843 | 0.71310288 | 0.2355316 | 0.4543653 | 0.5232388 |\n",
       "|  0.37152947 | 0.23614236 |  0.33529479 | 0.35816541 | 0.4949990 | 0.7335713 | 0.4708725 |\n",
       "|  0.60794203 | 0.49551518 |  0.45957683 | 0.54565588 | 0.4659179 | 0.9230107 | 0.6807255 |\n",
       "|  0.49874108 | 0.40858884 |  0.60196681 | 0.53444735 | 0.5219790 | 0.5821942 | 0.3606431 |\n",
       "\n"
      ],
      "text/plain": [
       "      [,1]        [,2]       [,3]        [,4]       [,5]      [,6]     \n",
       " [1,] 0.52126798   0.5162750  0.43899979 0.1633693  0.5313523 0.4322937\n",
       " [2,] 0.40853512   0.2138030  0.17579356 0.1475434  0.5075439 0.6714141\n",
       " [3,] 0.59615015   0.2278049  0.64901311 0.8467154  0.8756017 0.7407723\n",
       " [4,] 0.42996320   0.3691631  0.58787985 0.4989607  0.5280107 0.6070515\n",
       " [5,] 0.11318481   0.1189642  0.26405015 0.5541280  0.6572143 0.6216979\n",
       " [6,] 0.23113174   0.5585194  0.66111155 0.3373033  0.5873164 0.8022386\n",
       " [7,] 0.05487024  -0.0441793  0.24179893 0.8089892  0.4094673 1.3123029\n",
       " [8,] 0.24629913   0.6828795 -0.11996564 0.2314384  0.5462493 0.7976976\n",
       " [9,] 0.63473504   0.5478410  0.58059220 0.7706642  0.7606872 0.6461984\n",
       "[10,] 0.49072753   0.2380181  0.60810589 0.6549700  0.8255715 0.6539879\n",
       "[11,] 0.12652744   0.3956943  0.13037088 0.6072102  0.6453803 0.6552093\n",
       "[12,] 0.49432627   0.5839840  0.24630798 0.4715413  0.5962977 0.9310394\n",
       "[13,] 0.31607840   0.5900663  0.36138918 0.4127846  0.5393559 0.4022522\n",
       "[14,] 0.21915655   0.6095068  0.41027406 0.2850546  0.4243613 0.7061632\n",
       "[15,] 0.29208631   0.5559073  0.28307637 0.5714407  0.6315923 0.8602102\n",
       "[16,] 0.22181791   0.4205991  0.39619785 0.3781874  0.5462937 0.8038944\n",
       "[17,] 0.35019684   0.4980825  0.28453510 0.3272187  0.8338663 0.8511311\n",
       "[18,] 0.50033146   0.6307401  0.26008307 0.3207721  0.6257359 0.6333559\n",
       "[19,] 0.47340771   0.5557143  0.37049710 0.2920491  0.7428765 0.4909360\n",
       "[20,] 0.72846986   0.2367670  0.26710957 0.7670669  0.9697344 0.8486665\n",
       "[21,] 0.35307369   0.8753393  0.38989805 0.6190102  0.6402052 0.6728507\n",
       "[22,] 0.69123088   0.3120759  0.47860498 0.4627908  0.5925948 0.4141079\n",
       "[23,] 0.08259394   0.6900434  0.11684420 0.5206315  0.7825399 0.7939408\n",
       "[24,] 0.41380145   0.5876193  0.36195686 0.3667623  0.7715335 0.4845550\n",
       "[25,] 0.74950898   0.3931323  0.20278833 0.3119140  0.5670953 1.0988817\n",
       "[26,] 0.02615222   0.9915974  0.29678784 0.5677449  0.7362007 0.6024533\n",
       "[27,] 0.56279315   0.8370695  0.39424096 0.8457901  0.9715253 0.8554993\n",
       "[28,] 0.34423368   0.2320266  0.12220849 0.4182757  0.7693542 1.1102963\n",
       "[29,] 0.30125366   0.2667783 -0.04567999 0.4731418  0.6519849 0.8033318\n",
       "[30,] 0.39460897   0.1633487  0.41304420 0.6571750  0.6407580 0.5302038\n",
       "[31,] ⋮           ⋮          ⋮           ⋮          ⋮         ⋮        \n",
       "[32,] -0.11129093 0.49736301  0.21587185 0.46716871 0.6394371 0.6770789\n",
       "[33,]  0.60297910 0.15893104  0.56080831 0.72745007 0.4572214 0.9009118\n",
       "[34,]  0.27972094 1.12444885  0.53387117 0.48077688 0.5664029 0.8587340\n",
       "[35,]  0.31818024 0.51311286  0.24320667 0.37311232 0.6523507 0.6375400\n",
       "[36,]  0.49564447 0.50060925  0.16333261 0.39148171 0.7151615 0.5269898\n",
       "[37,]  0.54887959 0.36324781  0.24646070 0.44439958 0.4869647 0.6066318\n",
       "[38,]  0.36387135 0.25359832  0.45884274 0.51401060 0.8479727 0.9752403\n",
       "[39,]  0.61275403 0.14623916  0.38816598 0.56620548 0.8692699 0.8547258\n",
       "[40,]  0.22940816 0.44736790 -0.34324807 0.48424742 0.5893768 0.5895451\n",
       "[41,]  0.40632598 0.34933309  0.46394029 0.37235288 0.8267259 0.8242588\n",
       "[42,]  0.37443073 0.25379583  0.46862420 0.45512093 0.5282750 0.6832156\n",
       "[43,]  0.64670445 0.05471021  0.16681059 0.03820753 1.2923425 1.1482924\n",
       "[44,]  0.55442044 0.59825035  0.47051068 0.56190738 0.7131137 0.7729341\n",
       "[45,] -0.04805734 0.13589655  0.36619475 0.45246687 0.9651057 0.8770883\n",
       "[46,]  0.18812386 0.47035092  0.44082784 0.34888538 0.5904484 0.5658234\n",
       "[47,]  0.87575271 0.83616889  0.36573885 0.37257917 0.5751987 0.8119173\n",
       "[48,]  0.41381344 0.53829508  0.30597890 0.35699357 0.5253674 0.5894750\n",
       "[49,]  0.58468832 0.17234935  0.13618834 0.04724095 0.5879382 0.4745836\n",
       "[50,]  0.90092155 0.85979018  0.70421491 0.62450177 0.7172887 0.7165153\n",
       "[51,]  0.57034961 0.34389393  0.36775037 0.24714027 0.7779249 0.4966043\n",
       "[52,]  0.42057137 0.41031609  0.64561393 0.39969382 0.4911636 0.7597195\n",
       "[53,]  0.44325405 0.38343354  0.08938880 0.37690084 0.9538568 0.5524366\n",
       "[54,]  0.84277997 0.36133696  0.06750546 0.55002643 0.8943480 0.8127589\n",
       "[55,]  0.23784264 0.57182932  0.42531545 0.38731797 0.7609187 1.0101005\n",
       "[56,]  0.67351885 0.36463050  0.12180397 0.73651121 0.5963628 0.2859569\n",
       "[57,]  0.53893007 0.64354576  0.46272667 0.46002881 0.7731838 0.8605065\n",
       "[58,]  0.18834697 0.25960228  0.90099843 0.71310288 0.2355316 0.4543653\n",
       "[59,]  0.37152947 0.23614236  0.33529479 0.35816541 0.4949990 0.7335713\n",
       "[60,]  0.60794203 0.49551518  0.45957683 0.54565588 0.4659179 0.9230107\n",
       "[61,]  0.49874108 0.40858884  0.60196681 0.53444735 0.5219790 0.5821942\n",
       "      [,7]     \n",
       " [1,] 0.4246548\n",
       " [2,] 0.3767420\n",
       " [3,] 0.7278231\n",
       " [4,] 0.3152445\n",
       " [5,] 0.5154358\n",
       " [6,] 0.5092744\n",
       " [7,] 0.8650496\n",
       " [8,] 0.6495432\n",
       " [9,] 0.5845011\n",
       "[10,] 0.4132728\n",
       "[11,] 0.4430543\n",
       "[12,] 0.9526472\n",
       "[13,] 0.6398246\n",
       "[14,] 0.9277503\n",
       "[15,] 0.7189492\n",
       "[16,] 0.5934493\n",
       "[17,] 0.6912546\n",
       "[18,] 0.5772068\n",
       "[19,] 0.5827324\n",
       "[20,] 0.7976850\n",
       "[21,] 0.7116689\n",
       "[22,] 0.5884597\n",
       "[23,] 0.4817433\n",
       "[24,] 0.8021324\n",
       "[25,] 0.6613771\n",
       "[26,] 0.5873663\n",
       "[27,] 0.3615981\n",
       "[28,] 0.6708258\n",
       "[29,] 0.5843446\n",
       "[30,] 1.1496461\n",
       "[31,] ⋮        \n",
       "[32,] 0.6015324\n",
       "[33,] 1.0571417\n",
       "[34,] 0.4453385\n",
       "[35,] 0.3021020\n",
       "[36,] 0.4289396\n",
       "[37,] 0.5633036\n",
       "[38,] 0.8668708\n",
       "[39,] 0.4870283\n",
       "[40,] 0.3382125\n",
       "[41,] 0.4165490\n",
       "[42,] 0.5492777\n",
       "[43,] 0.9795841\n",
       "[44,] 0.6008177\n",
       "[45,] 0.6524729\n",
       "[46,] 0.5875776\n",
       "[47,] 1.1243553\n",
       "[48,] 0.6376735\n",
       "[49,] 0.7475909\n",
       "[50,] 0.8242001\n",
       "[51,] 1.0509040\n",
       "[52,] 0.3886604\n",
       "[53,] 0.5329965\n",
       "[54,] 0.8639518\n",
       "[55,] 0.6356983\n",
       "[56,] 0.2792475\n",
       "[57,] 0.6857010\n",
       "[58,] 0.5232388\n",
       "[59,] 0.4708725\n",
       "[60,] 0.6807255\n",
       "[61,] 0.3606431"
      ]
     },
     "metadata": {},
     "output_type": "display_data"
    }
   ],
   "source": [
    "prob"
   ]
  },
  {
   "cell_type": "code",
   "execution_count": 18,
   "id": "becoming-professional",
   "metadata": {
    "ExecuteTime": {
     "end_time": "2021-05-20T21:29:23.709669Z",
     "start_time": "2021-05-20T21:29:23.660Z"
    }
   },
   "outputs": [
    {
     "data": {
      "image/png": "[encoded data removed]",
      "text/plain": [
       "Plot with title “Histogram of prob[, 1]”"
      ]
     },
     "metadata": {
      "image/png": {
       "height": 420,
       "width": 420
      }
     },
     "output_type": "display_data"
    }
   ],
   "source": [
    "hist(prob[,1])"
   ]
  },
  {
   "cell_type": "code",
   "execution_count": 19,
   "id": "chronic-skill",
   "metadata": {
    "ExecuteTime": {
     "end_time": "2021-05-20T21:30:53.978919Z",
     "start_time": "2021-05-20T21:30:53.964Z"
    }
   },
   "outputs": [
    {
     "data": {
      "text/html": [
       "0.400018637694817"
      ],
      "text/latex": [
       "0.400018637694817"
      ],
      "text/markdown": [
       "0.400018637694817"
      ],
      "text/plain": [
       "[1] 0.4000186"
      ]
     },
     "metadata": {},
     "output_type": "display_data"
    }
   ],
   "source": [
    "mean(prob[,1])"
   ]
  },
  {
   "cell_type": "code",
   "execution_count": 7,
   "id": "according-zambia",
   "metadata": {
    "ExecuteTime": {
     "end_time": "2021-05-20T17:45:00.314520Z",
     "start_time": "2021-05-20T17:45:00.300Z"
    }
   },
   "outputs": [
    {
     "data": {
      "text/html": [
       "<style>\n",
       ".list-inline {list-style: none; margin:0; padding: 0}\n",
       ".list-inline>li {display: inline-block}\n",
       ".list-inline>li:not(:last-child)::after {content: \"\\00b7\"; padding: 0 .5ex}\n",
       "</style>\n",
       "<ol class=list-inline><li>10000</li><li>7</li></ol>\n"
      ],
      "text/latex": [
       "\\begin{enumerate*}\n",
       "\\item 10000\n",
       "\\item 7\n",
       "\\end{enumerate*}\n"
      ],
      "text/markdown": [
       "1. 10000\n",
       "2. 7\n",
       "\n",
       "\n"
      ],
      "text/plain": [
       "[1] 10000     7"
      ]
     },
     "metadata": {},
     "output_type": "display_data"
    }
   ],
   "source": [
    "dim(logprob)"
   ]
  },
  {
   "cell_type": "code",
   "execution_count": 6,
   "id": "afraid-amsterdam",
   "metadata": {
    "ExecuteTime": {
     "end_time": "2021-05-20T17:44:45.910688Z",
     "start_time": "2021-05-20T17:44:45.852Z"
    },
    "collapsed": true
   },
   "outputs": [
    {
     "data": {
      "text/html": [
       "<table>\n",
       "<caption>A matrix: 10000 × 7 of type dbl</caption>\n",
       "<tbody>\n",
       "\t<tr><td> 0.56336333</td><td> 0.7001182</td><td> 0.9653925</td><td> 0.65937452</td><td> 0.80852059</td><td> 0.91167154</td><td> -2.136957349</td></tr>\n",
       "\t<tr><td> 0.42059086</td><td> 0.5069945</td><td> 0.7337455</td><td> 0.51476617</td><td> 0.66757123</td><td> 0.72433771</td><td> -1.334647416</td></tr>\n",
       "\t<tr><td> 0.83341125</td><td> 0.9220808</td><td> 0.9443629</td><td> 0.92656874</td><td> 1.03051840</td><td> 1.00786556</td><td> -3.968644998</td></tr>\n",
       "\t<tr><td> 0.31858307</td><td> 0.3183674</td><td> 0.2070635</td><td> 0.31700940</td><td> 0.27275956</td><td> 0.20835972</td><td> -1.452834628</td></tr>\n",
       "\t<tr><td> 0.31308741</td><td> 0.4259766</td><td> 0.6881041</td><td> 0.34633282</td><td> 0.36342323</td><td> 0.44840337</td><td> -0.473020473</td></tr>\n",
       "\t<tr><td> 0.85190387</td><td> 0.9494489</td><td> 0.8960962</td><td> 0.88584373</td><td> 0.90916110</td><td> 0.97614999</td><td> -2.841480720</td></tr>\n",
       "\t<tr><td> 0.64429700</td><td> 0.6302591</td><td> 0.3255910</td><td> 0.64405188</td><td> 0.64392822</td><td> 0.64396915</td><td> -1.787352595</td></tr>\n",
       "\t<tr><td> 0.48013985</td><td> 0.5379236</td><td> 0.5091364</td><td> 0.43402966</td><td> 0.15235516</td><td> 0.09461411</td><td> -0.166761952</td></tr>\n",
       "\t<tr><td> 0.06019923</td><td> 0.2014875</td><td> 0.5740562</td><td> 0.06077152</td><td>-0.04079612</td><td> 0.02757968</td><td>  0.078138748</td></tr>\n",
       "\t<tr><td> 0.82996827</td><td> 0.8770298</td><td> 0.5342184</td><td> 0.70614064</td><td>-0.35362023</td><td>-0.79600930</td><td> -0.087082449</td></tr>\n",
       "\t<tr><td> 0.26299375</td><td> 0.3068939</td><td> 0.3214841</td><td> 0.23508893</td><td> 0.07179418</td><td> 0.04717317</td><td> -0.110934065</td></tr>\n",
       "\t<tr><td> 0.62695240</td><td> 0.6685215</td><td> 0.4994798</td><td> 0.56246228</td><td> 0.08179589</td><td>-0.07968122</td><td> -0.168601335</td></tr>\n",
       "\t<tr><td> 0.82294505</td><td> 0.9074544</td><td> 0.8406136</td><td> 0.84753462</td><td> 0.85436373</td><td> 0.91329894</td><td> -2.430662184</td></tr>\n",
       "\t<tr><td> 0.91913652</td><td> 1.1226795</td><td> 1.2959187</td><td> 1.18325417</td><td> 1.43820602</td><td> 1.29772047</td><td>-10.336834029</td></tr>\n",
       "\t<tr><td> 0.44456934</td><td> 0.4565711</td><td> 0.3399676</td><td> 0.44502941</td><td> 0.43142844</td><td> 0.44243741</td><td> -0.876935282</td></tr>\n",
       "\t<tr><td> 0.74491238</td><td> 0.7892500</td><td> 0.6262303</td><td> 0.73512120</td><td> 0.64258712</td><td> 0.66341877</td><td> -1.353406048</td></tr>\n",
       "\t<tr><td> 0.63186177</td><td> 0.7168208</td><td> 0.7321978</td><td> 0.62000417</td><td> 0.50145954</td><td> 0.53613806</td><td> -0.919036637</td></tr>\n",
       "\t<tr><td> 0.18304987</td><td> 0.2832283</td><td> 0.5034990</td><td> 0.16788742</td><td> 0.04041652</td><td> 0.07061777</td><td>  0.007793271</td></tr>\n",
       "\t<tr><td> 0.23252910</td><td> 0.3119969</td><td> 0.5380593</td><td> 0.29137629</td><td> 0.39048121</td><td> 0.46374355</td><td> -0.494285511</td></tr>\n",
       "\t<tr><td> 0.49975730</td><td> 0.3551360</td><td>-0.3617875</td><td> 0.59727709</td><td> 0.26076679</td><td>-0.04000514</td><td> -0.466079684</td></tr>\n",
       "\t<tr><td> 0.37624846</td><td> 0.4324669</td><td> 0.5085809</td><td> 0.39308487</td><td> 0.40130146</td><td> 0.44249118</td><td> -0.579294430</td></tr>\n",
       "\t<tr><td> 0.17004102</td><td> 0.2447961</td><td> 0.5284437</td><td> 0.28154841</td><td> 0.47607854</td><td> 0.54178718</td><td> -0.712190441</td></tr>\n",
       "\t<tr><td> 0.35141030</td><td> 0.4600398</td><td> 0.7613646</td><td> 0.44878465</td><td> 0.61457571</td><td> 0.70789148</td><td> -1.105708493</td></tr>\n",
       "\t<tr><td>-1.02984911</td><td>-0.2628186</td><td> 1.2712013</td><td>-1.57295595</td><td>-4.26582375</td><td>-4.81195615</td><td>  0.398184759</td></tr>\n",
       "\t<tr><td> 0.47005620</td><td> 0.5074395</td><td> 0.5983727</td><td> 0.55185205</td><td> 0.58973822</td><td> 0.49340740</td><td> -1.932952396</td></tr>\n",
       "\t<tr><td> 0.58754043</td><td> 0.6844134</td><td> 0.7734550</td><td> 0.59563063</td><td> 0.54482186</td><td> 0.60434882</td><td> -1.017697125</td></tr>\n",
       "\t<tr><td> 0.65521029</td><td> 0.7413257</td><td> 0.7803321</td><td> 0.67317848</td><td> 0.66151140</td><td> 0.72129914</td><td> -1.398310376</td></tr>\n",
       "\t<tr><td> 1.21771059</td><td> 1.1995069</td><td> 0.3385801</td><td> 1.21648376</td><td> 1.17334160</td><td> 1.19677619</td><td> -5.605678981</td></tr>\n",
       "\t<tr><td> 0.92604094</td><td> 0.9088553</td><td> 0.3447170</td><td> 0.89198430</td><td> 0.39947976</td><td> 0.21560152</td><td> -1.161425510</td></tr>\n",
       "\t<tr><td> 0.37923280</td><td> 0.4660033</td><td> 0.6649755</td><td> 0.43372299</td><td> 0.51795231</td><td> 0.59043075</td><td> -0.807682850</td></tr>\n",
       "\t<tr><td>⋮</td><td>⋮</td><td>⋮</td><td>⋮</td><td>⋮</td><td>⋮</td><td>⋮</td></tr>\n",
       "\t<tr><td> 0.18224778</td><td>0.36887921</td><td> 0.9934205</td><td> 0.41349548</td><td> 0.81503820</td><td> 0.974773915</td><td>-2.24380650</td></tr>\n",
       "\t<tr><td> 0.56351167</td><td>0.76648021</td><td> 1.1008663</td><td> 0.62504655</td><td> 0.65795694</td><td> 0.808303505</td><td>-2.29089779</td></tr>\n",
       "\t<tr><td> 0.39685321</td><td>0.28912199</td><td>-0.2742298</td><td> 0.46763108</td><td> 0.42085324</td><td> 0.330424309</td><td>-0.82158248</td></tr>\n",
       "\t<tr><td> 0.86127772</td><td>0.93306663</td><td> 0.7200778</td><td> 0.81939235</td><td> 0.52621807</td><td> 0.503674716</td><td>-1.40589461</td></tr>\n",
       "\t<tr><td> 0.47496415</td><td>0.54192633</td><td> 0.5514488</td><td> 0.43607725</td><td> 0.20329762</td><td> 0.175072995</td><td>-0.23048412</td></tr>\n",
       "\t<tr><td> 0.99238997</td><td>1.09827361</td><td> 0.9452057</td><td> 1.04345390</td><td> 1.09912763</td><td> 1.157108145</td><td>-4.54100298</td></tr>\n",
       "\t<tr><td> 0.78059942</td><td>0.86928496</td><td> 0.6892734</td><td> 0.66295948</td><td>-0.13977644</td><td>-0.398752883</td><td>-0.28119423</td></tr>\n",
       "\t<tr><td> 0.16439594</td><td>0.23724457</td><td> 0.3481153</td><td> 0.11482676</td><td>-0.14579004</td><td>-0.194429279</td><td> 0.09614115</td></tr>\n",
       "\t<tr><td> 0.42013917</td><td>0.45959698</td><td> 0.4373190</td><td> 0.41229683</td><td> 0.34474370</td><td> 0.358932482</td><td>-0.48590663</td></tr>\n",
       "\t<tr><td> 0.49894179</td><td>0.48150490</td><td> 0.1978080</td><td> 0.47858999</td><td> 0.09873243</td><td>-0.084756967</td><td>-0.14396972</td></tr>\n",
       "\t<tr><td> 1.00390585</td><td>1.06711546</td><td> 0.7000178</td><td> 0.97041338</td><td> 0.70923087</td><td> 0.706796267</td><td>-2.39335468</td></tr>\n",
       "\t<tr><td> 0.79210553</td><td>0.77928708</td><td> 0.3607448</td><td> 0.77619962</td><td> 0.53421998</td><td> 0.461994218</td><td>-1.10142339</td></tr>\n",
       "\t<tr><td> 0.56600181</td><td>0.54938169</td><td> 0.2391577</td><td> 0.54505652</td><td> 0.17669132</td><td> 0.008349571</td><td>-0.25043044</td></tr>\n",
       "\t<tr><td> 0.73860393</td><td>0.82803635</td><td> 0.7982987</td><td> 0.73487011</td><td> 0.64229308</td><td> 0.690938602</td><td>-1.47824263</td></tr>\n",
       "\t<tr><td> 1.12353520</td><td>1.00392199</td><td>-0.2478703</td><td> 1.11002875</td><td> 1.13186760</td><td> 1.068595778</td><td>-7.68846657</td></tr>\n",
       "\t<tr><td> 0.61851209</td><td>0.66968679</td><td> 0.6595069</td><td> 0.64986594</td><td> 0.69074269</td><td> 0.716487478</td><td>-1.58402160</td></tr>\n",
       "\t<tr><td> 0.68417819</td><td>0.73862337</td><td> 0.7494167</td><td> 0.74509107</td><td> 0.80711599</td><td> 0.781132199</td><td>-2.46788861</td></tr>\n",
       "\t<tr><td> 0.74594501</td><td>0.96520359</td><td> 0.9254657</td><td> 0.43337109</td><td>-1.51743759</td><td>-2.228423789</td><td> 0.17863318</td></tr>\n",
       "\t<tr><td> 1.00078415</td><td>1.06191555</td><td> 0.7018999</td><td> 0.97374982</td><td> 0.75507775</td><td> 0.765465721</td><td>-2.49954441</td></tr>\n",
       "\t<tr><td> 0.96453357</td><td>1.02131950</td><td> 0.8869451</td><td> 1.04386910</td><td> 1.00813054</td><td> 0.803894356</td><td>-5.70511461</td></tr>\n",
       "\t<tr><td>-0.02932459</td><td>0.05443414</td><td> 0.3948097</td><td> 0.08003320</td><td> 0.28864466</td><td> 0.389442457</td><td>-0.28313159</td></tr>\n",
       "\t<tr><td> 0.13465576</td><td>0.35531240</td><td> 0.7791630</td><td>-0.01116633</td><td>-0.74814765</td><td>-0.883074682</td><td> 0.38354749</td></tr>\n",
       "\t<tr><td> 0.87739441</td><td>0.91744510</td><td> 0.6996905</td><td> 0.89741498</td><td> 0.91599212</td><td> 0.928099655</td><td>-2.97731135</td></tr>\n",
       "\t<tr><td> 0.67600142</td><td>0.74520517</td><td> 0.7108641</td><td> 0.67741766</td><td> 0.62178922</td><td> 0.663738176</td><td>-1.24770434</td></tr>\n",
       "\t<tr><td> 0.35338430</td><td>0.48204855</td><td> 0.7260983</td><td> 0.34084038</td><td> 0.19862510</td><td> 0.248509870</td><td>-0.27642557</td></tr>\n",
       "\t<tr><td> 0.50583619</td><td>0.48269922</td><td> 0.1726904</td><td> 0.48125308</td><td>-0.02120455</td><td>-0.282762977</td><td>-0.02591217</td></tr>\n",
       "\t<tr><td> 0.50950208</td><td>0.56868318</td><td> 0.6403422</td><td> 0.55210194</td><td> 0.61477835</td><td> 0.650654420</td><td>-1.22837696</td></tr>\n",
       "\t<tr><td> 0.57613367</td><td>0.62337976</td><td> 0.5362262</td><td> 0.54574776</td><td> 0.34476340</td><td> 0.320168005</td><td>-0.48709841</td></tr>\n",
       "\t<tr><td> 0.22029626</td><td>0.28425561</td><td> 0.5118001</td><td> 0.31478678</td><td> 0.47304883</td><td> 0.519508876</td><td>-0.77338466</td></tr>\n",
       "\t<tr><td> 0.67831078</td><td>0.71014051</td><td> 0.5087152</td><td> 0.64104430</td><td> 0.35598468</td><td> 0.288495613</td><td>-0.58533445</td></tr>\n",
       "</tbody>\n",
       "</table>\n"
      ],
      "text/latex": [
       "A matrix: 10000 × 7 of type dbl\n",
       "\\begin{tabular}{lllllll}\n",
       "\t  0.56336333 &  0.7001182 &  0.9653925 &  0.65937452 &  0.80852059 &  0.91167154 &  -2.136957349\\\\\n",
       "\t  0.42059086 &  0.5069945 &  0.7337455 &  0.51476617 &  0.66757123 &  0.72433771 &  -1.334647416\\\\\n",
       "\t  0.83341125 &  0.9220808 &  0.9443629 &  0.92656874 &  1.03051840 &  1.00786556 &  -3.968644998\\\\\n",
       "\t  0.31858307 &  0.3183674 &  0.2070635 &  0.31700940 &  0.27275956 &  0.20835972 &  -1.452834628\\\\\n",
       "\t  0.31308741 &  0.4259766 &  0.6881041 &  0.34633282 &  0.36342323 &  0.44840337 &  -0.473020473\\\\\n",
       "\t  0.85190387 &  0.9494489 &  0.8960962 &  0.88584373 &  0.90916110 &  0.97614999 &  -2.841480720\\\\\n",
       "\t  0.64429700 &  0.6302591 &  0.3255910 &  0.64405188 &  0.64392822 &  0.64396915 &  -1.787352595\\\\\n",
       "\t  0.48013985 &  0.5379236 &  0.5091364 &  0.43402966 &  0.15235516 &  0.09461411 &  -0.166761952\\\\\n",
       "\t  0.06019923 &  0.2014875 &  0.5740562 &  0.06077152 & -0.04079612 &  0.02757968 &   0.078138748\\\\\n",
       "\t  0.82996827 &  0.8770298 &  0.5342184 &  0.70614064 & -0.35362023 & -0.79600930 &  -0.087082449\\\\\n",
       "\t  0.26299375 &  0.3068939 &  0.3214841 &  0.23508893 &  0.07179418 &  0.04717317 &  -0.110934065\\\\\n",
       "\t  0.62695240 &  0.6685215 &  0.4994798 &  0.56246228 &  0.08179589 & -0.07968122 &  -0.168601335\\\\\n",
       "\t  0.82294505 &  0.9074544 &  0.8406136 &  0.84753462 &  0.85436373 &  0.91329894 &  -2.430662184\\\\\n",
       "\t  0.91913652 &  1.1226795 &  1.2959187 &  1.18325417 &  1.43820602 &  1.29772047 & -10.336834029\\\\\n",
       "\t  0.44456934 &  0.4565711 &  0.3399676 &  0.44502941 &  0.43142844 &  0.44243741 &  -0.876935282\\\\\n",
       "\t  0.74491238 &  0.7892500 &  0.6262303 &  0.73512120 &  0.64258712 &  0.66341877 &  -1.353406048\\\\\n",
       "\t  0.63186177 &  0.7168208 &  0.7321978 &  0.62000417 &  0.50145954 &  0.53613806 &  -0.919036637\\\\\n",
       "\t  0.18304987 &  0.2832283 &  0.5034990 &  0.16788742 &  0.04041652 &  0.07061777 &   0.007793271\\\\\n",
       "\t  0.23252910 &  0.3119969 &  0.5380593 &  0.29137629 &  0.39048121 &  0.46374355 &  -0.494285511\\\\\n",
       "\t  0.49975730 &  0.3551360 & -0.3617875 &  0.59727709 &  0.26076679 & -0.04000514 &  -0.466079684\\\\\n",
       "\t  0.37624846 &  0.4324669 &  0.5085809 &  0.39308487 &  0.40130146 &  0.44249118 &  -0.579294430\\\\\n",
       "\t  0.17004102 &  0.2447961 &  0.5284437 &  0.28154841 &  0.47607854 &  0.54178718 &  -0.712190441\\\\\n",
       "\t  0.35141030 &  0.4600398 &  0.7613646 &  0.44878465 &  0.61457571 &  0.70789148 &  -1.105708493\\\\\n",
       "\t -1.02984911 & -0.2628186 &  1.2712013 & -1.57295595 & -4.26582375 & -4.81195615 &   0.398184759\\\\\n",
       "\t  0.47005620 &  0.5074395 &  0.5983727 &  0.55185205 &  0.58973822 &  0.49340740 &  -1.932952396\\\\\n",
       "\t  0.58754043 &  0.6844134 &  0.7734550 &  0.59563063 &  0.54482186 &  0.60434882 &  -1.017697125\\\\\n",
       "\t  0.65521029 &  0.7413257 &  0.7803321 &  0.67317848 &  0.66151140 &  0.72129914 &  -1.398310376\\\\\n",
       "\t  1.21771059 &  1.1995069 &  0.3385801 &  1.21648376 &  1.17334160 &  1.19677619 &  -5.605678981\\\\\n",
       "\t  0.92604094 &  0.9088553 &  0.3447170 &  0.89198430 &  0.39947976 &  0.21560152 &  -1.161425510\\\\\n",
       "\t  0.37923280 &  0.4660033 &  0.6649755 &  0.43372299 &  0.51795231 &  0.59043075 &  -0.807682850\\\\\n",
       "\t ⋮ & ⋮ & ⋮ & ⋮ & ⋮ & ⋮ & ⋮\\\\\n",
       "\t  0.18224778 & 0.36887921 &  0.9934205 &  0.41349548 &  0.81503820 &  0.974773915 & -2.24380650\\\\\n",
       "\t  0.56351167 & 0.76648021 &  1.1008663 &  0.62504655 &  0.65795694 &  0.808303505 & -2.29089779\\\\\n",
       "\t  0.39685321 & 0.28912199 & -0.2742298 &  0.46763108 &  0.42085324 &  0.330424309 & -0.82158248\\\\\n",
       "\t  0.86127772 & 0.93306663 &  0.7200778 &  0.81939235 &  0.52621807 &  0.503674716 & -1.40589461\\\\\n",
       "\t  0.47496415 & 0.54192633 &  0.5514488 &  0.43607725 &  0.20329762 &  0.175072995 & -0.23048412\\\\\n",
       "\t  0.99238997 & 1.09827361 &  0.9452057 &  1.04345390 &  1.09912763 &  1.157108145 & -4.54100298\\\\\n",
       "\t  0.78059942 & 0.86928496 &  0.6892734 &  0.66295948 & -0.13977644 & -0.398752883 & -0.28119423\\\\\n",
       "\t  0.16439594 & 0.23724457 &  0.3481153 &  0.11482676 & -0.14579004 & -0.194429279 &  0.09614115\\\\\n",
       "\t  0.42013917 & 0.45959698 &  0.4373190 &  0.41229683 &  0.34474370 &  0.358932482 & -0.48590663\\\\\n",
       "\t  0.49894179 & 0.48150490 &  0.1978080 &  0.47858999 &  0.09873243 & -0.084756967 & -0.14396972\\\\\n",
       "\t  1.00390585 & 1.06711546 &  0.7000178 &  0.97041338 &  0.70923087 &  0.706796267 & -2.39335468\\\\\n",
       "\t  0.79210553 & 0.77928708 &  0.3607448 &  0.77619962 &  0.53421998 &  0.461994218 & -1.10142339\\\\\n",
       "\t  0.56600181 & 0.54938169 &  0.2391577 &  0.54505652 &  0.17669132 &  0.008349571 & -0.25043044\\\\\n",
       "\t  0.73860393 & 0.82803635 &  0.7982987 &  0.73487011 &  0.64229308 &  0.690938602 & -1.47824263\\\\\n",
       "\t  1.12353520 & 1.00392199 & -0.2478703 &  1.11002875 &  1.13186760 &  1.068595778 & -7.68846657\\\\\n",
       "\t  0.61851209 & 0.66968679 &  0.6595069 &  0.64986594 &  0.69074269 &  0.716487478 & -1.58402160\\\\\n",
       "\t  0.68417819 & 0.73862337 &  0.7494167 &  0.74509107 &  0.80711599 &  0.781132199 & -2.46788861\\\\\n",
       "\t  0.74594501 & 0.96520359 &  0.9254657 &  0.43337109 & -1.51743759 & -2.228423789 &  0.17863318\\\\\n",
       "\t  1.00078415 & 1.06191555 &  0.7018999 &  0.97374982 &  0.75507775 &  0.765465721 & -2.49954441\\\\\n",
       "\t  0.96453357 & 1.02131950 &  0.8869451 &  1.04386910 &  1.00813054 &  0.803894356 & -5.70511461\\\\\n",
       "\t -0.02932459 & 0.05443414 &  0.3948097 &  0.08003320 &  0.28864466 &  0.389442457 & -0.28313159\\\\\n",
       "\t  0.13465576 & 0.35531240 &  0.7791630 & -0.01116633 & -0.74814765 & -0.883074682 &  0.38354749\\\\\n",
       "\t  0.87739441 & 0.91744510 &  0.6996905 &  0.89741498 &  0.91599212 &  0.928099655 & -2.97731135\\\\\n",
       "\t  0.67600142 & 0.74520517 &  0.7108641 &  0.67741766 &  0.62178922 &  0.663738176 & -1.24770434\\\\\n",
       "\t  0.35338430 & 0.48204855 &  0.7260983 &  0.34084038 &  0.19862510 &  0.248509870 & -0.27642557\\\\\n",
       "\t  0.50583619 & 0.48269922 &  0.1726904 &  0.48125308 & -0.02120455 & -0.282762977 & -0.02591217\\\\\n",
       "\t  0.50950208 & 0.56868318 &  0.6403422 &  0.55210194 &  0.61477835 &  0.650654420 & -1.22837696\\\\\n",
       "\t  0.57613367 & 0.62337976 &  0.5362262 &  0.54574776 &  0.34476340 &  0.320168005 & -0.48709841\\\\\n",
       "\t  0.22029626 & 0.28425561 &  0.5118001 &  0.31478678 &  0.47304883 &  0.519508876 & -0.77338466\\\\\n",
       "\t  0.67831078 & 0.71014051 &  0.5087152 &  0.64104430 &  0.35598468 &  0.288495613 & -0.58533445\\\\\n",
       "\\end{tabular}\n"
      ],
      "text/markdown": [
       "\n",
       "A matrix: 10000 × 7 of type dbl\n",
       "\n",
       "|  0.56336333 |  0.7001182 |  0.9653925 |  0.65937452 |  0.80852059 |  0.91167154 |  -2.136957349 |\n",
       "|  0.42059086 |  0.5069945 |  0.7337455 |  0.51476617 |  0.66757123 |  0.72433771 |  -1.334647416 |\n",
       "|  0.83341125 |  0.9220808 |  0.9443629 |  0.92656874 |  1.03051840 |  1.00786556 |  -3.968644998 |\n",
       "|  0.31858307 |  0.3183674 |  0.2070635 |  0.31700940 |  0.27275956 |  0.20835972 |  -1.452834628 |\n",
       "|  0.31308741 |  0.4259766 |  0.6881041 |  0.34633282 |  0.36342323 |  0.44840337 |  -0.473020473 |\n",
       "|  0.85190387 |  0.9494489 |  0.8960962 |  0.88584373 |  0.90916110 |  0.97614999 |  -2.841480720 |\n",
       "|  0.64429700 |  0.6302591 |  0.3255910 |  0.64405188 |  0.64392822 |  0.64396915 |  -1.787352595 |\n",
       "|  0.48013985 |  0.5379236 |  0.5091364 |  0.43402966 |  0.15235516 |  0.09461411 |  -0.166761952 |\n",
       "|  0.06019923 |  0.2014875 |  0.5740562 |  0.06077152 | -0.04079612 |  0.02757968 |   0.078138748 |\n",
       "|  0.82996827 |  0.8770298 |  0.5342184 |  0.70614064 | -0.35362023 | -0.79600930 |  -0.087082449 |\n",
       "|  0.26299375 |  0.3068939 |  0.3214841 |  0.23508893 |  0.07179418 |  0.04717317 |  -0.110934065 |\n",
       "|  0.62695240 |  0.6685215 |  0.4994798 |  0.56246228 |  0.08179589 | -0.07968122 |  -0.168601335 |\n",
       "|  0.82294505 |  0.9074544 |  0.8406136 |  0.84753462 |  0.85436373 |  0.91329894 |  -2.430662184 |\n",
       "|  0.91913652 |  1.1226795 |  1.2959187 |  1.18325417 |  1.43820602 |  1.29772047 | -10.336834029 |\n",
       "|  0.44456934 |  0.4565711 |  0.3399676 |  0.44502941 |  0.43142844 |  0.44243741 |  -0.876935282 |\n",
       "|  0.74491238 |  0.7892500 |  0.6262303 |  0.73512120 |  0.64258712 |  0.66341877 |  -1.353406048 |\n",
       "|  0.63186177 |  0.7168208 |  0.7321978 |  0.62000417 |  0.50145954 |  0.53613806 |  -0.919036637 |\n",
       "|  0.18304987 |  0.2832283 |  0.5034990 |  0.16788742 |  0.04041652 |  0.07061777 |   0.007793271 |\n",
       "|  0.23252910 |  0.3119969 |  0.5380593 |  0.29137629 |  0.39048121 |  0.46374355 |  -0.494285511 |\n",
       "|  0.49975730 |  0.3551360 | -0.3617875 |  0.59727709 |  0.26076679 | -0.04000514 |  -0.466079684 |\n",
       "|  0.37624846 |  0.4324669 |  0.5085809 |  0.39308487 |  0.40130146 |  0.44249118 |  -0.579294430 |\n",
       "|  0.17004102 |  0.2447961 |  0.5284437 |  0.28154841 |  0.47607854 |  0.54178718 |  -0.712190441 |\n",
       "|  0.35141030 |  0.4600398 |  0.7613646 |  0.44878465 |  0.61457571 |  0.70789148 |  -1.105708493 |\n",
       "| -1.02984911 | -0.2628186 |  1.2712013 | -1.57295595 | -4.26582375 | -4.81195615 |   0.398184759 |\n",
       "|  0.47005620 |  0.5074395 |  0.5983727 |  0.55185205 |  0.58973822 |  0.49340740 |  -1.932952396 |\n",
       "|  0.58754043 |  0.6844134 |  0.7734550 |  0.59563063 |  0.54482186 |  0.60434882 |  -1.017697125 |\n",
       "|  0.65521029 |  0.7413257 |  0.7803321 |  0.67317848 |  0.66151140 |  0.72129914 |  -1.398310376 |\n",
       "|  1.21771059 |  1.1995069 |  0.3385801 |  1.21648376 |  1.17334160 |  1.19677619 |  -5.605678981 |\n",
       "|  0.92604094 |  0.9088553 |  0.3447170 |  0.89198430 |  0.39947976 |  0.21560152 |  -1.161425510 |\n",
       "|  0.37923280 |  0.4660033 |  0.6649755 |  0.43372299 |  0.51795231 |  0.59043075 |  -0.807682850 |\n",
       "| ⋮ | ⋮ | ⋮ | ⋮ | ⋮ | ⋮ | ⋮ |\n",
       "|  0.18224778 | 0.36887921 |  0.9934205 |  0.41349548 |  0.81503820 |  0.974773915 | -2.24380650 |\n",
       "|  0.56351167 | 0.76648021 |  1.1008663 |  0.62504655 |  0.65795694 |  0.808303505 | -2.29089779 |\n",
       "|  0.39685321 | 0.28912199 | -0.2742298 |  0.46763108 |  0.42085324 |  0.330424309 | -0.82158248 |\n",
       "|  0.86127772 | 0.93306663 |  0.7200778 |  0.81939235 |  0.52621807 |  0.503674716 | -1.40589461 |\n",
       "|  0.47496415 | 0.54192633 |  0.5514488 |  0.43607725 |  0.20329762 |  0.175072995 | -0.23048412 |\n",
       "|  0.99238997 | 1.09827361 |  0.9452057 |  1.04345390 |  1.09912763 |  1.157108145 | -4.54100298 |\n",
       "|  0.78059942 | 0.86928496 |  0.6892734 |  0.66295948 | -0.13977644 | -0.398752883 | -0.28119423 |\n",
       "|  0.16439594 | 0.23724457 |  0.3481153 |  0.11482676 | -0.14579004 | -0.194429279 |  0.09614115 |\n",
       "|  0.42013917 | 0.45959698 |  0.4373190 |  0.41229683 |  0.34474370 |  0.358932482 | -0.48590663 |\n",
       "|  0.49894179 | 0.48150490 |  0.1978080 |  0.47858999 |  0.09873243 | -0.084756967 | -0.14396972 |\n",
       "|  1.00390585 | 1.06711546 |  0.7000178 |  0.97041338 |  0.70923087 |  0.706796267 | -2.39335468 |\n",
       "|  0.79210553 | 0.77928708 |  0.3607448 |  0.77619962 |  0.53421998 |  0.461994218 | -1.10142339 |\n",
       "|  0.56600181 | 0.54938169 |  0.2391577 |  0.54505652 |  0.17669132 |  0.008349571 | -0.25043044 |\n",
       "|  0.73860393 | 0.82803635 |  0.7982987 |  0.73487011 |  0.64229308 |  0.690938602 | -1.47824263 |\n",
       "|  1.12353520 | 1.00392199 | -0.2478703 |  1.11002875 |  1.13186760 |  1.068595778 | -7.68846657 |\n",
       "|  0.61851209 | 0.66968679 |  0.6595069 |  0.64986594 |  0.69074269 |  0.716487478 | -1.58402160 |\n",
       "|  0.68417819 | 0.73862337 |  0.7494167 |  0.74509107 |  0.80711599 |  0.781132199 | -2.46788861 |\n",
       "|  0.74594501 | 0.96520359 |  0.9254657 |  0.43337109 | -1.51743759 | -2.228423789 |  0.17863318 |\n",
       "|  1.00078415 | 1.06191555 |  0.7018999 |  0.97374982 |  0.75507775 |  0.765465721 | -2.49954441 |\n",
       "|  0.96453357 | 1.02131950 |  0.8869451 |  1.04386910 |  1.00813054 |  0.803894356 | -5.70511461 |\n",
       "| -0.02932459 | 0.05443414 |  0.3948097 |  0.08003320 |  0.28864466 |  0.389442457 | -0.28313159 |\n",
       "|  0.13465576 | 0.35531240 |  0.7791630 | -0.01116633 | -0.74814765 | -0.883074682 |  0.38354749 |\n",
       "|  0.87739441 | 0.91744510 |  0.6996905 |  0.89741498 |  0.91599212 |  0.928099655 | -2.97731135 |\n",
       "|  0.67600142 | 0.74520517 |  0.7108641 |  0.67741766 |  0.62178922 |  0.663738176 | -1.24770434 |\n",
       "|  0.35338430 | 0.48204855 |  0.7260983 |  0.34084038 |  0.19862510 |  0.248509870 | -0.27642557 |\n",
       "|  0.50583619 | 0.48269922 |  0.1726904 |  0.48125308 | -0.02120455 | -0.282762977 | -0.02591217 |\n",
       "|  0.50950208 | 0.56868318 |  0.6403422 |  0.55210194 |  0.61477835 |  0.650654420 | -1.22837696 |\n",
       "|  0.57613367 | 0.62337976 |  0.5362262 |  0.54574776 |  0.34476340 |  0.320168005 | -0.48709841 |\n",
       "|  0.22029626 | 0.28425561 |  0.5118001 |  0.31478678 |  0.47304883 |  0.519508876 | -0.77338466 |\n",
       "|  0.67831078 | 0.71014051 |  0.5087152 |  0.64104430 |  0.35598468 |  0.288495613 | -0.58533445 |\n",
       "\n"
      ],
      "text/plain": [
       "      [,1]        [,2]       [,3]       [,4]        [,5]        [,6]        \n",
       " [1,]  0.56336333  0.7001182  0.9653925  0.65937452  0.80852059  0.91167154 \n",
       " [2,]  0.42059086  0.5069945  0.7337455  0.51476617  0.66757123  0.72433771 \n",
       " [3,]  0.83341125  0.9220808  0.9443629  0.92656874  1.03051840  1.00786556 \n",
       " [4,]  0.31858307  0.3183674  0.2070635  0.31700940  0.27275956  0.20835972 \n",
       " [5,]  0.31308741  0.4259766  0.6881041  0.34633282  0.36342323  0.44840337 \n",
       " [6,]  0.85190387  0.9494489  0.8960962  0.88584373  0.90916110  0.97614999 \n",
       " [7,]  0.64429700  0.6302591  0.3255910  0.64405188  0.64392822  0.64396915 \n",
       " [8,]  0.48013985  0.5379236  0.5091364  0.43402966  0.15235516  0.09461411 \n",
       " [9,]  0.06019923  0.2014875  0.5740562  0.06077152 -0.04079612  0.02757968 \n",
       "[10,]  0.82996827  0.8770298  0.5342184  0.70614064 -0.35362023 -0.79600930 \n",
       "[11,]  0.26299375  0.3068939  0.3214841  0.23508893  0.07179418  0.04717317 \n",
       "[12,]  0.62695240  0.6685215  0.4994798  0.56246228  0.08179589 -0.07968122 \n",
       "[13,]  0.82294505  0.9074544  0.8406136  0.84753462  0.85436373  0.91329894 \n",
       "[14,]  0.91913652  1.1226795  1.2959187  1.18325417  1.43820602  1.29772047 \n",
       "[15,]  0.44456934  0.4565711  0.3399676  0.44502941  0.43142844  0.44243741 \n",
       "[16,]  0.74491238  0.7892500  0.6262303  0.73512120  0.64258712  0.66341877 \n",
       "[17,]  0.63186177  0.7168208  0.7321978  0.62000417  0.50145954  0.53613806 \n",
       "[18,]  0.18304987  0.2832283  0.5034990  0.16788742  0.04041652  0.07061777 \n",
       "[19,]  0.23252910  0.3119969  0.5380593  0.29137629  0.39048121  0.46374355 \n",
       "[20,]  0.49975730  0.3551360 -0.3617875  0.59727709  0.26076679 -0.04000514 \n",
       "[21,]  0.37624846  0.4324669  0.5085809  0.39308487  0.40130146  0.44249118 \n",
       "[22,]  0.17004102  0.2447961  0.5284437  0.28154841  0.47607854  0.54178718 \n",
       "[23,]  0.35141030  0.4600398  0.7613646  0.44878465  0.61457571  0.70789148 \n",
       "[24,] -1.02984911 -0.2628186  1.2712013 -1.57295595 -4.26582375 -4.81195615 \n",
       "[25,]  0.47005620  0.5074395  0.5983727  0.55185205  0.58973822  0.49340740 \n",
       "[26,]  0.58754043  0.6844134  0.7734550  0.59563063  0.54482186  0.60434882 \n",
       "[27,]  0.65521029  0.7413257  0.7803321  0.67317848  0.66151140  0.72129914 \n",
       "[28,]  1.21771059  1.1995069  0.3385801  1.21648376  1.17334160  1.19677619 \n",
       "[29,]  0.92604094  0.9088553  0.3447170  0.89198430  0.39947976  0.21560152 \n",
       "[30,]  0.37923280  0.4660033  0.6649755  0.43372299  0.51795231  0.59043075 \n",
       "[31,] ⋮           ⋮          ⋮          ⋮           ⋮           ⋮           \n",
       "[32,]  0.18224778 0.36887921  0.9934205  0.41349548  0.81503820  0.974773915\n",
       "[33,]  0.56351167 0.76648021  1.1008663  0.62504655  0.65795694  0.808303505\n",
       "[34,]  0.39685321 0.28912199 -0.2742298  0.46763108  0.42085324  0.330424309\n",
       "[35,]  0.86127772 0.93306663  0.7200778  0.81939235  0.52621807  0.503674716\n",
       "[36,]  0.47496415 0.54192633  0.5514488  0.43607725  0.20329762  0.175072995\n",
       "[37,]  0.99238997 1.09827361  0.9452057  1.04345390  1.09912763  1.157108145\n",
       "[38,]  0.78059942 0.86928496  0.6892734  0.66295948 -0.13977644 -0.398752883\n",
       "[39,]  0.16439594 0.23724457  0.3481153  0.11482676 -0.14579004 -0.194429279\n",
       "[40,]  0.42013917 0.45959698  0.4373190  0.41229683  0.34474370  0.358932482\n",
       "[41,]  0.49894179 0.48150490  0.1978080  0.47858999  0.09873243 -0.084756967\n",
       "[42,]  1.00390585 1.06711546  0.7000178  0.97041338  0.70923087  0.706796267\n",
       "[43,]  0.79210553 0.77928708  0.3607448  0.77619962  0.53421998  0.461994218\n",
       "[44,]  0.56600181 0.54938169  0.2391577  0.54505652  0.17669132  0.008349571\n",
       "[45,]  0.73860393 0.82803635  0.7982987  0.73487011  0.64229308  0.690938602\n",
       "[46,]  1.12353520 1.00392199 -0.2478703  1.11002875  1.13186760  1.068595778\n",
       "[47,]  0.61851209 0.66968679  0.6595069  0.64986594  0.69074269  0.716487478\n",
       "[48,]  0.68417819 0.73862337  0.7494167  0.74509107  0.80711599  0.781132199\n",
       "[49,]  0.74594501 0.96520359  0.9254657  0.43337109 -1.51743759 -2.228423789\n",
       "[50,]  1.00078415 1.06191555  0.7018999  0.97374982  0.75507775  0.765465721\n",
       "[51,]  0.96453357 1.02131950  0.8869451  1.04386910  1.00813054  0.803894356\n",
       "[52,] -0.02932459 0.05443414  0.3948097  0.08003320  0.28864466  0.389442457\n",
       "[53,]  0.13465576 0.35531240  0.7791630 -0.01116633 -0.74814765 -0.883074682\n",
       "[54,]  0.87739441 0.91744510  0.6996905  0.89741498  0.91599212  0.928099655\n",
       "[55,]  0.67600142 0.74520517  0.7108641  0.67741766  0.62178922  0.663738176\n",
       "[56,]  0.35338430 0.48204855  0.7260983  0.34084038  0.19862510  0.248509870\n",
       "[57,]  0.50583619 0.48269922  0.1726904  0.48125308 -0.02120455 -0.282762977\n",
       "[58,]  0.50950208 0.56868318  0.6403422  0.55210194  0.61477835  0.650654420\n",
       "[59,]  0.57613367 0.62337976  0.5362262  0.54574776  0.34476340  0.320168005\n",
       "[60,]  0.22029626 0.28425561  0.5118001  0.31478678  0.47304883  0.519508876\n",
       "[61,]  0.67831078 0.71014051  0.5087152  0.64104430  0.35598468  0.288495613\n",
       "      [,7]         \n",
       " [1,]  -2.136957349\n",
       " [2,]  -1.334647416\n",
       " [3,]  -3.968644998\n",
       " [4,]  -1.452834628\n",
       " [5,]  -0.473020473\n",
       " [6,]  -2.841480720\n",
       " [7,]  -1.787352595\n",
       " [8,]  -0.166761952\n",
       " [9,]   0.078138748\n",
       "[10,]  -0.087082449\n",
       "[11,]  -0.110934065\n",
       "[12,]  -0.168601335\n",
       "[13,]  -2.430662184\n",
       "[14,] -10.336834029\n",
       "[15,]  -0.876935282\n",
       "[16,]  -1.353406048\n",
       "[17,]  -0.919036637\n",
       "[18,]   0.007793271\n",
       "[19,]  -0.494285511\n",
       "[20,]  -0.466079684\n",
       "[21,]  -0.579294430\n",
       "[22,]  -0.712190441\n",
       "[23,]  -1.105708493\n",
       "[24,]   0.398184759\n",
       "[25,]  -1.932952396\n",
       "[26,]  -1.017697125\n",
       "[27,]  -1.398310376\n",
       "[28,]  -5.605678981\n",
       "[29,]  -1.161425510\n",
       "[30,]  -0.807682850\n",
       "[31,] ⋮            \n",
       "[32,] -2.24380650  \n",
       "[33,] -2.29089779  \n",
       "[34,] -0.82158248  \n",
       "[35,] -1.40589461  \n",
       "[36,] -0.23048412  \n",
       "[37,] -4.54100298  \n",
       "[38,] -0.28119423  \n",
       "[39,]  0.09614115  \n",
       "[40,] -0.48590663  \n",
       "[41,] -0.14396972  \n",
       "[42,] -2.39335468  \n",
       "[43,] -1.10142339  \n",
       "[44,] -0.25043044  \n",
       "[45,] -1.47824263  \n",
       "[46,] -7.68846657  \n",
       "[47,] -1.58402160  \n",
       "[48,] -2.46788861  \n",
       "[49,]  0.17863318  \n",
       "[50,] -2.49954441  \n",
       "[51,] -5.70511461  \n",
       "[52,] -0.28313159  \n",
       "[53,]  0.38354749  \n",
       "[54,] -2.97731135  \n",
       "[55,] -1.24770434  \n",
       "[56,] -0.27642557  \n",
       "[57,] -0.02591217  \n",
       "[58,] -1.22837696  \n",
       "[59,] -0.48709841  \n",
       "[60,] -0.77338466  \n",
       "[61,] -0.58533445  "
      ]
     },
     "metadata": {},
     "output_type": "display_data"
    }
   ],
   "source": [
    "logprob"
   ]
  },
  {
   "cell_type": "code",
   "execution_count": 21,
   "id": "numerical-portuguese",
   "metadata": {
    "ExecuteTime": {
     "end_time": "2021-05-20T22:12:24.405435Z",
     "start_time": "2021-05-20T22:12:24.382Z"
    }
   },
   "outputs": [],
   "source": [
    "n <- ncol(logprob)\n",
    "ns <- nrow(logprob)\n"
   ]
  },
  {
   "cell_type": "code",
   "execution_count": 22,
   "id": "perceived-approval",
   "metadata": {
    "ExecuteTime": {
     "end_time": "2021-05-20T22:12:26.712661Z",
     "start_time": "2021-05-20T22:12:26.699Z"
    }
   },
   "outputs": [
    {
     "data": {
      "text/html": [
       "7"
      ],
      "text/latex": [
       "7"
      ],
      "text/markdown": [
       "7"
      ],
      "text/plain": [
       "[1] 7"
      ]
     },
     "metadata": {},
     "output_type": "display_data"
    }
   ],
   "source": [
    "n"
   ]
  },
  {
   "cell_type": "code",
   "execution_count": 23,
   "id": "contrary-antique",
   "metadata": {
    "ExecuteTime": {
     "end_time": "2021-05-20T22:12:29.581346Z",
     "start_time": "2021-05-20T22:12:29.567Z"
    }
   },
   "outputs": [
    {
     "data": {
      "text/html": [
       "10000"
      ],
      "text/latex": [
       "10000"
      ],
      "text/markdown": [
       "10000"
      ],
      "text/plain": [
       "[1] 10000"
      ]
     },
     "metadata": {},
     "output_type": "display_data"
    }
   ],
   "source": [
    "ns"
   ]
  },
  {
   "cell_type": "code",
   "execution_count": 3,
   "id": "extended-folks",
   "metadata": {
    "ExecuteTime": {
     "end_time": "2021-05-20T17:44:12.529975Z",
     "start_time": "2021-05-20T17:44:12.036Z"
    }
   },
   "outputs": [
    {
     "ename": "ERROR",
     "evalue": "Error in `[.data.frame`(d, -i, ): object 'i' not found\n",
     "output_type": "error",
     "traceback": [
      "Error in `[.data.frame`(d, -i, ): object 'i' not found\nTraceback:\n",
      "1. d[-i, ]",
      "2. `[.data.frame`(d, -i, )"
     ]
    },
    {
     "data": {
      "image/png": "[encoded data removed]",
      "text/plain": [
       "plot without title"
      ]
     },
     "metadata": {
      "image/png": {
       "height": 420,
       "width": 420
      }
     },
     "output_type": "display_data"
    }
   ],
   "source": [
    "f <- function( i ) log_sum_exp( logprob[,i] ) - log(ns)\n",
    "\n",
    "\n",
    "( lppd <- sapply( 1:n , f ) )"
   ]
  },
  {
   "cell_type": "code",
   "execution_count": 8,
   "id": "confused-bowling",
   "metadata": {
    "ExecuteTime": {
     "end_time": "2021-05-20T19:18:09.754004Z",
     "start_time": "2021-05-20T19:18:09.740Z"
    }
   },
   "outputs": [
    {
     "data": {
      "text/html": [
       "10"
      ],
      "text/latex": [
       "10"
      ],
      "text/markdown": [
       "10"
      ],
      "text/plain": [
       "[1] 10"
      ]
     },
     "metadata": {},
     "output_type": "display_data"
    }
   ],
   "source": [
    "log_sum_exp(10)"
   ]
  }
 ],
 "metadata": {
  "kernelspec": {
   "display_name": "R",
   "language": "R",
   "name": "ir"
  },
  "language_info": {
   "codemirror_mode": "r",
   "file_extension": ".r",
   "mimetype": "text/x-r-source",
   "name": "R",
   "pygments_lexer": "r",
   "version": "4.0.3"
  },
  "latex_envs": {
   "LaTeX_envs_menu_present": true,
   "autoclose": false,
   "autocomplete": true,
   "bibliofile": "biblio.bib",
   "cite_by": "apalike",
   "current_citInitial": 1,
   "eqLabelWithNumbers": true,
   "eqNumInitial": 1,
   "hotkeys": {
    "equation": "Ctrl-E",
    "itemize": "Ctrl-I"
   },
   "labels_anchors": false,
   "latex_user_defs": false,
   "report_style_numbering": false,
   "user_envs_cfg": false
  },
  "toc": {
   "base_numbering": 1,
   "nav_menu": {},
   "number_sections": true,
   "sideBar": true,
   "skip_h1_title": false,
   "title_cell": "Table of Contents",
   "title_sidebar": "Contents",
   "toc_cell": false,
   "toc_position": {},
   "toc_section_display": true,
   "toc_window_display": true
  },
  "varInspector": {
   "cols": {
    "lenName": 16,
    "lenType": 16,
    "lenVar": 40
   },
   "kernels_config": {
    "python": {
     "delete_cmd_postfix": "",
     "delete_cmd_prefix": "del ",
     "library": "var_list.py",
     "varRefreshCmd": "print(var_dic_list())"
    },
    "r": {
     "delete_cmd_postfix": ") ",
     "delete_cmd_prefix": "rm(",
     "library": "var_list.r",
     "varRefreshCmd": "cat(var_dic_list()) "
    }
   },
   "types_to_exclude": [
    "module",
    "function",
    "builtin_function_or_method",
    "instance",
    "_Feature"
   ],
   "window_display": false
  }
 },
 "nbformat": 4,
 "nbformat_minor": 5
}
