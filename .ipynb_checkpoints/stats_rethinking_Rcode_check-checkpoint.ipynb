{
 "cells": [
  {
   "cell_type": "markdown",
   "id": "weird-shaft",
   "metadata": {},
   "source": [
    "The purpose of this notebook is to have an R kernel that can quickly look at code from the rethinking package."
   ]
  },
  {
   "cell_type": "code",
   "execution_count": 11,
   "id": "complimentary-illustration",
   "metadata": {
    "ExecuteTime": {
     "end_time": "2021-06-24T14:14:40.883767Z",
     "start_time": "2021-06-24T14:14:40.869Z"
    }
   },
   "outputs": [],
   "source": [
    "suppressMessages(library(rethinking))\n",
    "suppressMessages(library(tidyverse))"
   ]
  },
  {
   "cell_type": "markdown",
   "id": "ruled-context",
   "metadata": {},
   "source": [
    "# Chapter 7"
   ]
  },
  {
   "cell_type": "markdown",
   "id": "underlying-hebrew",
   "metadata": {},
   "source": [
    "## Inspecting lppd\n",
    "\n",
    "Equation is on page 210 of the book."
   ]
  },
  {
   "cell_type": "code",
   "execution_count": 3,
   "id": "given-cabinet",
   "metadata": {
    "ExecuteTime": {
     "end_time": "2021-03-18T18:56:41.598796Z",
     "start_time": "2021-03-18T18:56:41.583Z"
    }
   },
   "outputs": [
    {
     "data": {
      "text/html": [
       "<pre class=language-r><code>function (fit, ...) \n",
       "{\n",
       "<span style=white-space:pre-wrap>    ll &lt;- sim(fit, ll = TRUE, ...)</span>\n",
       "<span style=white-space:pre-wrap>    n &lt;- ncol(ll)</span>\n",
       "<span style=white-space:pre-wrap>    ns &lt;- nrow(ll)</span>\n",
       "<span style=white-space:pre-wrap>    f &lt;- function(i) log_sum_exp(ll[, i]) - log(ns)</span>\n",
       "<span style=white-space:pre-wrap>    lppd &lt;- sapply(1:n, f)</span>\n",
       "<span style=white-space:pre-wrap>    return(lppd)</span>\n",
       "}</code></pre>"
      ],
      "text/latex": [
       "\\begin{minted}{r}\n",
       "function (fit, ...) \n",
       "\\{\n",
       "    ll <- sim(fit, ll = TRUE, ...)\n",
       "    n <- ncol(ll)\n",
       "    ns <- nrow(ll)\n",
       "    f <- function(i) log\\_sum\\_exp(ll{[}, i{]}) - log(ns)\n",
       "    lppd <- sapply(1:n, f)\n",
       "    return(lppd)\n",
       "\\}\n",
       "\\end{minted}"
      ],
      "text/markdown": [
       "```r\n",
       "function (fit, ...) \n",
       "{\n",
       "    ll <- sim(fit, ll = TRUE, ...)\n",
       "    n <- ncol(ll)\n",
       "    ns <- nrow(ll)\n",
       "    f <- function(i) log_sum_exp(ll[, i]) - log(ns)\n",
       "    lppd <- sapply(1:n, f)\n",
       "    return(lppd)\n",
       "}\n",
       "```"
      ],
      "text/plain": [
       "function (fit, ...) \n",
       "{\n",
       "    ll <- sim(fit, ll = TRUE, ...)\n",
       "    n <- ncol(ll)\n",
       "    ns <- nrow(ll)\n",
       "    f <- function(i) log_sum_exp(ll[, i]) - log(ns)\n",
       "    lppd <- sapply(1:n, f)\n",
       "    return(lppd)\n",
       "}\n",
       "<bytecode: 0x7fc52c85fbd8>\n",
       "<environment: namespace:rethinking>"
      ]
     },
     "metadata": {},
     "output_type": "display_data"
    }
   ],
   "source": [
    "lppd"
   ]
  },
  {
   "cell_type": "code",
   "execution_count": null,
   "id": "single-spring",
   "metadata": {},
   "outputs": [],
   "source": []
  },
  {
   "cell_type": "code",
   "execution_count": null,
   "id": "weekly-accused",
   "metadata": {},
   "outputs": [],
   "source": []
  },
  {
   "cell_type": "markdown",
   "id": "iraqi-manhattan",
   "metadata": {},
   "source": [
    "## Inspecting WAIC function"
   ]
  },
  {
   "cell_type": "code",
   "execution_count": 2,
   "id": "accurate-family",
   "metadata": {
    "ExecuteTime": {
     "end_time": "2021-03-18T18:28:55.671100Z",
     "start_time": "2021-03-18T18:28:55.652Z"
    }
   },
   "outputs": [
    {
     "data": {
      "text/html": [
       "<pre class=language-r><code>new(\"standardGeneric\", .Data = function (object, n = 1000, refresh = 0.1, \n",
       "<span style=white-space:pre-wrap>    pointwise = FALSE, ...) </span>\n",
       "standardGeneric(\"WAIC\"), generic = structure(\"WAIC\", package = \"rethinking\"), \n",
       "<span style=white-space:pre-wrap>    package = \"rethinking\", group = list(), valueClass = character(0), </span>\n",
       "<span style=white-space:pre-wrap>    signature = c(\"object\", \"n\", \"refresh\", \"pointwise\"), default = new(\"derivedDefaultMethod\", </span>\n",
       "<span style=white-space:pre-wrap>        .Data = function (object, n = 1000, refresh = 0.1, pointwise = FALSE, </span>\n",
       "<span style=white-space:pre-wrap>            ...) </span>\n",
       "<span style=white-space:pre-wrap>        {</span>\n",
       "<span style=white-space:pre-wrap>            message(concat(\"No WAIC method for object of class '\", </span>\n",
       "<span style=white-space:pre-wrap>                class(object), \"'. Returning AIC instead.\"))</span>\n",
       "<span style=white-space:pre-wrap>            AIC(object)</span>\n",
       "<span style=white-space:pre-wrap>        }, target = new(\"signature\", .Data = \"ANY\", names = \"object\", </span>\n",
       "<span style=white-space:pre-wrap>            package = \"methods\"), defined = new(\"signature\", </span>\n",
       "<span style=white-space:pre-wrap>            .Data = \"ANY\", names = \"object\", package = \"methods\"), </span>\n",
       "<span style=white-space:pre-wrap>        generic = structure(\"WAIC\", package = \"rethinking\")), </span>\n",
       "<span style=white-space:pre-wrap>    skeleton = (new(\"derivedDefaultMethod\", .Data = function (object, </span>\n",
       "<span style=white-space:pre-wrap>        n = 1000, refresh = 0.1, pointwise = FALSE, ...) </span>\n",
       "<span style=white-space:pre-wrap>    {</span>\n",
       "<span style=white-space:pre-wrap>        message(concat(\"No WAIC method for object of class '\", </span>\n",
       "<span style=white-space:pre-wrap>            class(object), \"'. Returning AIC instead.\"))</span>\n",
       "<span style=white-space:pre-wrap>        AIC(object)</span>\n",
       "<span style=white-space:pre-wrap>    }, target = new(\"signature\", .Data = \"ANY\", names = \"object\", </span>\n",
       "<span style=white-space:pre-wrap>        package = \"methods\"), defined = new(\"signature\", .Data = \"ANY\", </span>\n",
       "<span style=white-space:pre-wrap>        names = \"object\", package = \"methods\"), generic = structure(\"WAIC\", package = \"rethinking\")))(object, </span>\n",
       "<span style=white-space:pre-wrap>        n, refresh, pointwise, ...))</span></code></pre>"
      ],
      "text/latex": [
       "\\begin{minted}{r}\n",
       "new(\"standardGeneric\", .Data = function (object, n = 1000, refresh = 0.1, \n",
       "    pointwise = FALSE, ...) \n",
       "standardGeneric(\"WAIC\"), generic = structure(\"WAIC\", package = \"rethinking\"), \n",
       "    package = \"rethinking\", group = list(), valueClass = character(0), \n",
       "    signature = c(\"object\", \"n\", \"refresh\", \"pointwise\"), default = new(\"derivedDefaultMethod\", \n",
       "        .Data = function (object, n = 1000, refresh = 0.1, pointwise = FALSE, \n",
       "            ...) \n",
       "        \\{\n",
       "            message(concat(\"No WAIC method for object of class '\", \n",
       "                class(object), \"'. Returning AIC instead.\"))\n",
       "            AIC(object)\n",
       "        \\}, target = new(\"signature\", .Data = \"ANY\", names = \"object\", \n",
       "            package = \"methods\"), defined = new(\"signature\", \n",
       "            .Data = \"ANY\", names = \"object\", package = \"methods\"), \n",
       "        generic = structure(\"WAIC\", package = \"rethinking\")), \n",
       "    skeleton = (new(\"derivedDefaultMethod\", .Data = function (object, \n",
       "        n = 1000, refresh = 0.1, pointwise = FALSE, ...) \n",
       "    \\{\n",
       "        message(concat(\"No WAIC method for object of class '\", \n",
       "            class(object), \"'. Returning AIC instead.\"))\n",
       "        AIC(object)\n",
       "    \\}, target = new(\"signature\", .Data = \"ANY\", names = \"object\", \n",
       "        package = \"methods\"), defined = new(\"signature\", .Data = \"ANY\", \n",
       "        names = \"object\", package = \"methods\"), generic = structure(\"WAIC\", package = \"rethinking\")))(object, \n",
       "        n, refresh, pointwise, ...))\n",
       "\\end{minted}"
      ],
      "text/markdown": [
       "```r\n",
       "new(\"standardGeneric\", .Data = function (object, n = 1000, refresh = 0.1, \n",
       "    pointwise = FALSE, ...) \n",
       "standardGeneric(\"WAIC\"), generic = structure(\"WAIC\", package = \"rethinking\"), \n",
       "    package = \"rethinking\", group = list(), valueClass = character(0), \n",
       "    signature = c(\"object\", \"n\", \"refresh\", \"pointwise\"), default = new(\"derivedDefaultMethod\", \n",
       "        .Data = function (object, n = 1000, refresh = 0.1, pointwise = FALSE, \n",
       "            ...) \n",
       "        {\n",
       "            message(concat(\"No WAIC method for object of class '\", \n",
       "                class(object), \"'. Returning AIC instead.\"))\n",
       "            AIC(object)\n",
       "        }, target = new(\"signature\", .Data = \"ANY\", names = \"object\", \n",
       "            package = \"methods\"), defined = new(\"signature\", \n",
       "            .Data = \"ANY\", names = \"object\", package = \"methods\"), \n",
       "        generic = structure(\"WAIC\", package = \"rethinking\")), \n",
       "    skeleton = (new(\"derivedDefaultMethod\", .Data = function (object, \n",
       "        n = 1000, refresh = 0.1, pointwise = FALSE, ...) \n",
       "    {\n",
       "        message(concat(\"No WAIC method for object of class '\", \n",
       "            class(object), \"'. Returning AIC instead.\"))\n",
       "        AIC(object)\n",
       "    }, target = new(\"signature\", .Data = \"ANY\", names = \"object\", \n",
       "        package = \"methods\"), defined = new(\"signature\", .Data = \"ANY\", \n",
       "        names = \"object\", package = \"methods\"), generic = structure(\"WAIC\", package = \"rethinking\")))(object, \n",
       "        n, refresh, pointwise, ...))\n",
       "```"
      ],
      "text/plain": [
       "new(\"standardGeneric\", .Data = function (object, n = 1000, refresh = 0.1, \n",
       "    pointwise = FALSE, ...) \n",
       "standardGeneric(\"WAIC\"), generic = \"WAIC\", package = \"rethinking\", \n",
       "    group = list(), valueClass = character(0), signature = c(\"object\", \n",
       "    \"n\", \"refresh\", \"pointwise\"), default = new(\"derivedDefaultMethod\", \n",
       "        .Data = function (object, n = 1000, refresh = 0.1, pointwise = FALSE, \n",
       "            ...) \n",
       "        {\n",
       "            message(concat(\"No WAIC method for object of class '\", \n",
       "                class(object), \"'. Returning AIC instead.\"))\n",
       "            AIC(object)\n",
       "        }, target = new(\"signature\", .Data = \"ANY\", names = \"object\", \n",
       "            package = \"methods\"), defined = new(\"signature\", \n",
       "            .Data = \"ANY\", names = \"object\", package = \"methods\"), \n",
       "        generic = \"WAIC\"), skeleton = (new(\"derivedDefaultMethod\", \n",
       "        .Data = function (object, n = 1000, refresh = 0.1, pointwise = FALSE, \n",
       "            ...) \n",
       "        {\n",
       "            message(concat(\"No WAIC method for object of class '\", \n",
       "                class(object), \"'. Returning AIC instead.\"))\n",
       "            AIC(object)\n",
       "        }, target = new(\"signature\", .Data = \"ANY\", names = \"object\", \n",
       "            package = \"methods\"), defined = new(\"signature\", \n",
       "            .Data = \"ANY\", names = \"object\", package = \"methods\"), \n",
       "        generic = \"WAIC\"))(object, n, refresh, pointwise, ...))\n",
       "<bytecode: 0x7fc52ca93270>\n",
       "<environment: 0x7fc52c9ea0e0>\n",
       "attr(,\"generic\")\n",
       "[1] \"WAIC\"\n",
       "attr(,\"generic\")attr(,\"package\")\n",
       "[1] \"rethinking\"\n",
       "attr(,\"package\")\n",
       "[1] \"rethinking\"\n",
       "attr(,\"group\")\n",
       "list()\n",
       "attr(,\"valueClass\")\n",
       "character(0)\n",
       "attr(,\"signature\")\n",
       "[1] \"object\"    \"n\"         \"refresh\"   \"pointwise\"\n",
       "attr(,\"default\")\n",
       "Method Definition (Class \"derivedDefaultMethod\"):\n",
       "\n",
       "function (object, n = 1000, refresh = 0.1, pointwise = FALSE, \n",
       "    ...) \n",
       "{\n",
       "    message(concat(\"No WAIC method for object of class '\", class(object), \n",
       "        \"'. Returning AIC instead.\"))\n",
       "    AIC(object)\n",
       "}\n",
       "<environment: namespace:rethinking>\n",
       "\n",
       "Signatures:\n",
       "        object\n",
       "target  \"ANY\" \n",
       "defined \"ANY\" \n",
       "attr(,\"skeleton\")\n",
       "(new(\"derivedDefaultMethod\", .Data = function (object, n = 1000, \n",
       "    refresh = 0.1, pointwise = FALSE, ...) \n",
       "{\n",
       "    message(concat(\"No WAIC method for object of class '\", class(object), \n",
       "        \"'. Returning AIC instead.\"))\n",
       "    AIC(object)\n",
       "}, target = new(\"signature\", .Data = \"ANY\", names = \"object\", \n",
       "    package = \"methods\"), defined = new(\"signature\", .Data = \"ANY\", \n",
       "    names = \"object\", package = \"methods\"), generic = \"WAIC\"))(object, \n",
       "    n, refresh, pointwise, ...)\n",
       "attr(,\"class\")\n",
       "[1] \"standardGeneric\"\n",
       "attr(,\"class\")attr(,\"package\")\n",
       "[1] \"methods\""
      ]
     },
     "metadata": {},
     "output_type": "display_data"
    }
   ],
   "source": [
    "WAIC"
   ]
  },
  {
   "cell_type": "markdown",
   "id": "4a869192",
   "metadata": {},
   "source": [
    "# Chapter 11, binomial regression"
   ]
  },
  {
   "cell_type": "code",
   "execution_count": 10,
   "id": "b6635bcc",
   "metadata": {
    "ExecuteTime": {
     "end_time": "2021-06-22T14:59:21.893953Z",
     "start_time": "2021-06-22T14:59:21.879Z"
    }
   },
   "outputs": [
    {
     "data": {
      "text/html": [
       "<style>\n",
       ".list-inline {list-style: none; margin:0; padding: 0}\n",
       ".list-inline>li {display: inline-block}\n",
       ".list-inline>li:not(:last-child)::after {content: \"\\00b7\"; padding: 0 .5ex}\n",
       "</style>\n",
       "<ol class=list-inline><li>0.1029193452</li><li>0.266827932</li><li>0.121060821</li></ol>\n"
      ],
      "text/latex": [
       "\\begin{enumerate*}\n",
       "\\item 0.1029193452\n",
       "\\item 0.266827932\n",
       "\\item 0.121060821\n",
       "\\end{enumerate*}\n"
      ],
      "text/markdown": [
       "1. 0.1029193452\n",
       "2. 0.266827932\n",
       "3. 0.121060821\n",
       "\n",
       "\n"
      ],
      "text/plain": [
       "[1] 0.1029193 0.2668279 0.1210608"
      ]
     },
     "metadata": {},
     "output_type": "display_data"
    }
   ],
   "source": [
    "dbinom(x=c(5, 7, 9), size=10, 0.7)"
   ]
  },
  {
   "cell_type": "code",
   "execution_count": 12,
   "id": "56c36bfb",
   "metadata": {
    "ExecuteTime": {
     "end_time": "2021-06-24T14:14:48.891288Z",
     "start_time": "2021-06-24T14:14:48.862Z"
    }
   },
   "outputs": [
    {
     "name": "stderr",
     "output_type": "stream",
     "text": [
      "\n",
      "Attaching package: ‘MASS’\n",
      "\n",
      "\n",
      "The following object is masked from ‘package:dplyr’:\n",
      "\n",
      "    select\n",
      "\n",
      "\n"
     ]
    }
   ],
   "source": [
    "library(MASS)"
   ]
  },
  {
   "cell_type": "code",
   "execution_count": 15,
   "id": "56001560",
   "metadata": {
    "ExecuteTime": {
     "end_time": "2021-06-24T14:15:08.885506Z",
     "start_time": "2021-06-24T14:15:08.870Z"
    }
   },
   "outputs": [],
   "source": [
    "data(eagles)"
   ]
  },
  {
   "cell_type": "code",
   "execution_count": 17,
   "id": "c2720834",
   "metadata": {
    "ExecuteTime": {
     "end_time": "2021-06-24T14:15:24.999993Z",
     "start_time": "2021-06-24T14:15:24.848Z"
    }
   },
   "outputs": [],
   "source": [
    "?eagles"
   ]
  },
  {
   "cell_type": "code",
   "execution_count": null,
   "id": "b467d81b",
   "metadata": {},
   "outputs": [],
   "source": []
  }
 ],
 "metadata": {
  "kernelspec": {
   "display_name": "R",
   "language": "R",
   "name": "ir"
  },
  "language_info": {
   "codemirror_mode": "r",
   "file_extension": ".r",
   "mimetype": "text/x-r-source",
   "name": "R",
   "pygments_lexer": "r",
   "version": "4.0.3"
  },
  "latex_envs": {
   "LaTeX_envs_menu_present": true,
   "autoclose": false,
   "autocomplete": true,
   "bibliofile": "biblio.bib",
   "cite_by": "apalike",
   "current_citInitial": 1,
   "eqLabelWithNumbers": true,
   "eqNumInitial": 1,
   "hotkeys": {
    "equation": "Ctrl-E",
    "itemize": "Ctrl-I"
   },
   "labels_anchors": false,
   "latex_user_defs": false,
   "report_style_numbering": false,
   "user_envs_cfg": false
  },
  "toc": {
   "base_numbering": 1,
   "nav_menu": {},
   "number_sections": true,
   "sideBar": true,
   "skip_h1_title": false,
   "title_cell": "Table of Contents",
   "title_sidebar": "Contents",
   "toc_cell": false,
   "toc_position": {},
   "toc_section_display": true,
   "toc_window_display": true
  },
  "varInspector": {
   "cols": {
    "lenName": 16,
    "lenType": 16,
    "lenVar": 40
   },
   "kernels_config": {
    "python": {
     "delete_cmd_postfix": "",
     "delete_cmd_prefix": "del ",
     "library": "var_list.py",
     "varRefreshCmd": "print(var_dic_list())"
    },
    "r": {
     "delete_cmd_postfix": ") ",
     "delete_cmd_prefix": "rm(",
     "library": "var_list.r",
     "varRefreshCmd": "cat(var_dic_list()) "
    }
   },
   "types_to_exclude": [
    "module",
    "function",
    "builtin_function_or_method",
    "instance",
    "_Feature"
   ],
   "window_display": false
  }
 },
 "nbformat": 4,
 "nbformat_minor": 5
}
