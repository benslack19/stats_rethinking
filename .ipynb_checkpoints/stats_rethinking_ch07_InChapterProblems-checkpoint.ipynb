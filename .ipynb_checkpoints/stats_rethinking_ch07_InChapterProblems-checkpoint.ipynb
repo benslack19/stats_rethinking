{
 "cells": [
  {
   "cell_type": "markdown",
   "id": "standard-square",
   "metadata": {},
   "source": [
    "**Chapter 7, in-chapter problems**\n"
   ]
  },
  {
   "cell_type": "code",
   "execution_count": 1,
   "id": "mental-presence",
   "metadata": {
    "ExecuteTime": {
     "end_time": "2021-05-10T16:37:30.058969Z",
     "start_time": "2021-05-10T16:37:25.853260Z"
    }
   },
   "outputs": [],
   "source": [
    "import arviz as az\n",
    "import matplotlib.pyplot as plt\n",
    "import numpy as np\n",
    "import os\n",
    "import pandas as pd\n",
    "import pymc3 as pm\n",
    "import scipy.stats as stats\n",
    "import seaborn as sns\n",
    "import daft\n",
    "from causalgraphicalmodels import CausalGraphicalModel\n",
    "\n",
    "from scipy.interpolate import griddata"
   ]
  },
  {
   "cell_type": "code",
   "execution_count": 2,
   "id": "israeli-insurance",
   "metadata": {
    "ExecuteTime": {
     "end_time": "2021-05-10T16:37:30.219925Z",
     "start_time": "2021-05-10T16:37:30.066428Z"
    }
   },
   "outputs": [
    {
     "data": {
      "application/javascript": [
       "\n",
       "            setTimeout(function() {\n",
       "                var nbb_cell_id = 2;\n",
       "                var nbb_unformatted_code = \"%load_ext nb_black\\n%config InlineBackend.figure_format = 'retina'\\n%load_ext watermark\\nRANDOM_SEED = 8927\\nnp.random.seed(RANDOM_SEED)\\naz.style.use(\\\"arviz-darkgrid\\\")\\naz.rcParams[\\\"stats.hdi_prob\\\"] = 0.89  # sets default credible interval used by arviz\";\n",
       "                var nbb_formatted_code = \"%load_ext nb_black\\n%config InlineBackend.figure_format = 'retina'\\n%load_ext watermark\\nRANDOM_SEED = 8927\\nnp.random.seed(RANDOM_SEED)\\naz.style.use(\\\"arviz-darkgrid\\\")\\naz.rcParams[\\\"stats.hdi_prob\\\"] = 0.89  # sets default credible interval used by arviz\";\n",
       "                var nbb_cells = Jupyter.notebook.get_cells();\n",
       "                for (var i = 0; i < nbb_cells.length; ++i) {\n",
       "                    if (nbb_cells[i].input_prompt_number == nbb_cell_id) {\n",
       "                        if (nbb_cells[i].get_text() == nbb_unformatted_code) {\n",
       "                             nbb_cells[i].set_text(nbb_formatted_code);\n",
       "                        }\n",
       "                        break;\n",
       "                    }\n",
       "                }\n",
       "            }, 500);\n",
       "            "
      ],
      "text/plain": [
       "<IPython.core.display.Javascript object>"
      ]
     },
     "metadata": {},
     "output_type": "display_data"
    }
   ],
   "source": [
    "%load_ext nb_black\n",
    "%config InlineBackend.figure_format = 'retina'\n",
    "%load_ext watermark\n",
    "RANDOM_SEED = 8927\n",
    "np.random.seed(RANDOM_SEED)\n",
    "az.style.use(\"arviz-darkgrid\")\n",
    "az.rcParams[\"stats.hdi_prob\"] = 0.89  # sets default credible interval used by arviz"
   ]
  },
  {
   "cell_type": "code",
   "execution_count": 3,
   "id": "future-agent",
   "metadata": {
    "ExecuteTime": {
     "end_time": "2021-05-10T16:37:30.235867Z",
     "start_time": "2021-05-10T16:37:30.231259Z"
    }
   },
   "outputs": [
    {
     "data": {
      "application/javascript": [
       "\n",
       "            setTimeout(function() {\n",
       "                var nbb_cell_id = 3;\n",
       "                var nbb_unformatted_code = \"def standardize(vec):\\n    return vec - np.mean(vec) / np.std(vec)\";\n",
       "                var nbb_formatted_code = \"def standardize(vec):\\n    return vec - np.mean(vec) / np.std(vec)\";\n",
       "                var nbb_cells = Jupyter.notebook.get_cells();\n",
       "                for (var i = 0; i < nbb_cells.length; ++i) {\n",
       "                    if (nbb_cells[i].input_prompt_number == nbb_cell_id) {\n",
       "                        if (nbb_cells[i].get_text() == nbb_unformatted_code) {\n",
       "                             nbb_cells[i].set_text(nbb_formatted_code);\n",
       "                        }\n",
       "                        break;\n",
       "                    }\n",
       "                }\n",
       "            }, 500);\n",
       "            "
      ],
      "text/plain": [
       "<IPython.core.display.Javascript object>"
      ]
     },
     "metadata": {},
     "output_type": "display_data"
    }
   ],
   "source": [
    "def standardize(vec):\n",
    "    return vec - np.mean(vec) / np.std(vec)"
   ]
  },
  {
   "cell_type": "markdown",
   "id": "pacific-eclipse",
   "metadata": {},
   "source": [
    "# Log-score and LPPD\n",
    "\n",
    "It's unclear to me how this can be used to say whether a model is better or not."
   ]
  },
  {
   "cell_type": "code",
   "execution_count": null,
   "id": "strange-layout",
   "metadata": {},
   "outputs": [],
   "source": []
  },
  {
   "cell_type": "markdown",
   "id": "recreational-violence",
   "metadata": {},
   "source": [
    "# Appendix: Environment and system parameters"
   ]
  },
  {
   "cell_type": "code",
   "execution_count": 12,
   "id": "white-bread",
   "metadata": {
    "ExecuteTime": {
     "end_time": "2021-02-18T16:20:38.883025Z",
     "start_time": "2021-02-18T16:20:38.858077Z"
    }
   },
   "outputs": [
    {
     "name": "stdout",
     "output_type": "stream",
     "text": [
      "Last updated: Thu Feb 18 2021\n",
      "\n",
      "Python implementation: CPython\n",
      "Python version       : 3.8.6\n",
      "IPython version      : 7.20.0\n",
      "\n",
      "numpy     : 1.20.1\n",
      "matplotlib: 3.3.4\n",
      "arviz     : 0.11.1\n",
      "pandas    : 1.2.1\n",
      "seaborn   : 0.11.1\n",
      "json      : 2.0.9\n",
      "pymc3     : 3.11.0\n",
      "scipy     : 1.6.0\n",
      "\n",
      "Watermark: 2.1.0\n",
      "\n"
     ]
    },
    {
     "data": {
      "application/javascript": [
       "\n",
       "            setTimeout(function() {\n",
       "                var nbb_cell_id = 12;\n",
       "                var nbb_unformatted_code = \"%watermark -n -u -v -iv -w\";\n",
       "                var nbb_formatted_code = \"%watermark -n -u -v -iv -w\";\n",
       "                var nbb_cells = Jupyter.notebook.get_cells();\n",
       "                for (var i = 0; i < nbb_cells.length; ++i) {\n",
       "                    if (nbb_cells[i].input_prompt_number == nbb_cell_id) {\n",
       "                        if (nbb_cells[i].get_text() == nbb_unformatted_code) {\n",
       "                             nbb_cells[i].set_text(nbb_formatted_code);\n",
       "                        }\n",
       "                        break;\n",
       "                    }\n",
       "                }\n",
       "            }, 500);\n",
       "            "
      ],
      "text/plain": [
       "<IPython.core.display.Javascript object>"
      ]
     },
     "metadata": {},
     "output_type": "display_data"
    }
   ],
   "source": [
    "%watermark -n -u -v -iv -w"
   ]
  },
  {
   "cell_type": "code",
   "execution_count": 13,
   "id": "hispanic-reserve",
   "metadata": {
    "ExecuteTime": {
     "end_time": "2021-02-18T16:20:40.577331Z",
     "start_time": "2021-02-18T16:20:39.466238Z"
    }
   },
   "outputs": [
    {
     "name": "stdout",
     "output_type": "stream",
     "text": [
      "# Name                    Version                   Build  Channel\n",
      "arviz                     0.11.1                   pypi_0    pypi\n",
      "matplotlib                3.3.4                    pypi_0    pypi\n",
      "numpy                     1.20.1                   pypi_0    pypi\n",
      "pandas                    1.2.1                    pypi_0    pypi\n",
      "pymc3                     3.11.0                   pypi_0    pypi\n",
      "scipy                     1.6.0                    pypi_0    pypi\n",
      "seaborn                   0.11.1                   pypi_0    pypi\n"
     ]
    },
    {
     "data": {
      "application/javascript": [
       "\n",
       "            setTimeout(function() {\n",
       "                var nbb_cell_id = 13;\n",
       "                var nbb_unformatted_code = \"# Custom scripts to show packages and versions in this notebook\\ndef imports():\\n    import types\\n\\n    for name, val in globals().items():\\n        if isinstance(val, types.ModuleType):\\n            yield val.__name__\\n\\n\\nimported_packages = list(imports())\\n\\nfrom active_pkg import show_pkg_vers_in_nb\\n\\nshow_pkg_vers_in_nb(imported_packages)\";\n",
       "                var nbb_formatted_code = \"# Custom scripts to show packages and versions in this notebook\\ndef imports():\\n    import types\\n\\n    for name, val in globals().items():\\n        if isinstance(val, types.ModuleType):\\n            yield val.__name__\\n\\n\\nimported_packages = list(imports())\\n\\nfrom active_pkg import show_pkg_vers_in_nb\\n\\nshow_pkg_vers_in_nb(imported_packages)\";\n",
       "                var nbb_cells = Jupyter.notebook.get_cells();\n",
       "                for (var i = 0; i < nbb_cells.length; ++i) {\n",
       "                    if (nbb_cells[i].input_prompt_number == nbb_cell_id) {\n",
       "                        if (nbb_cells[i].get_text() == nbb_unformatted_code) {\n",
       "                             nbb_cells[i].set_text(nbb_formatted_code);\n",
       "                        }\n",
       "                        break;\n",
       "                    }\n",
       "                }\n",
       "            }, 500);\n",
       "            "
      ],
      "text/plain": [
       "<IPython.core.display.Javascript object>"
      ]
     },
     "metadata": {},
     "output_type": "display_data"
    }
   ],
   "source": [
    "# Custom scripts to show packages and versions in this notebook\n",
    "def imports():\n",
    "    import types\n",
    "\n",
    "    for name, val in globals().items():\n",
    "        if isinstance(val, types.ModuleType):\n",
    "            yield val.__name__\n",
    "\n",
    "\n",
    "imported_packages = list(imports())\n",
    "\n",
    "from active_pkg import show_pkg_vers_in_nb\n",
    "\n",
    "show_pkg_vers_in_nb(imported_packages)"
   ]
  },
  {
   "cell_type": "code",
   "execution_count": null,
   "id": "instructional-transportation",
   "metadata": {},
   "outputs": [],
   "source": []
  }
 ],
 "metadata": {
  "kernelspec": {
   "display_name": "Python 3",
   "language": "python",
   "name": "python3"
  },
  "language_info": {
   "codemirror_mode": {
    "name": "ipython",
    "version": 3
   },
   "file_extension": ".py",
   "mimetype": "text/x-python",
   "name": "python",
   "nbconvert_exporter": "python",
   "pygments_lexer": "ipython3",
   "version": "3.8.6"
  },
  "latex_envs": {
   "LaTeX_envs_menu_present": true,
   "autoclose": false,
   "autocomplete": true,
   "bibliofile": "biblio.bib",
   "cite_by": "apalike",
   "current_citInitial": 1,
   "eqLabelWithNumbers": true,
   "eqNumInitial": 1,
   "hotkeys": {
    "equation": "Ctrl-E",
    "itemize": "Ctrl-I"
   },
   "labels_anchors": false,
   "latex_user_defs": false,
   "report_style_numbering": false,
   "user_envs_cfg": false
  },
  "toc": {
   "base_numbering": 1,
   "nav_menu": {},
   "number_sections": true,
   "sideBar": true,
   "skip_h1_title": false,
   "title_cell": "Table of Contents",
   "title_sidebar": "Contents",
   "toc_cell": false,
   "toc_position": {
    "height": "calc(100% - 180px)",
    "left": "10px",
    "top": "150px",
    "width": "212.4px"
   },
   "toc_section_display": true,
   "toc_window_display": true
  },
  "varInspector": {
   "cols": {
    "lenName": 16,
    "lenType": 16,
    "lenVar": 40
   },
   "kernels_config": {
    "python": {
     "delete_cmd_postfix": "",
     "delete_cmd_prefix": "del ",
     "library": "var_list.py",
     "varRefreshCmd": "print(var_dic_list())"
    },
    "r": {
     "delete_cmd_postfix": ") ",
     "delete_cmd_prefix": "rm(",
     "library": "var_list.r",
     "varRefreshCmd": "cat(var_dic_list()) "
    }
   },
   "types_to_exclude": [
    "module",
    "function",
    "builtin_function_or_method",
    "instance",
    "_Feature"
   ],
   "window_display": false
  }
 },
 "nbformat": 4,
 "nbformat_minor": 5
}
