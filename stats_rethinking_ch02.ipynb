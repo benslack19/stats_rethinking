{
 "cells": [
  {
   "cell_type": "markdown",
   "id": "metallic-weekend",
   "metadata": {},
   "source": [
    "The purpose of this notebook is to learn the Bayesian code from the [Statistical Rethinking book](https://xcelab.net/rm/statistical-rethinking/) using Python. I will use the R `rethinking` package as a point of comparison.\n",
    "\n",
    "Given the Bayesian preference of the course, it will be helpful for me to use my prior experience with Bayesian stats as a jumping off point. I wrote a series of blog posts starting with [this one](https://benslack19.github.io/data%20science/statistics/a-bertrands-box/). However, a public repo has been created [here](https://github.com/pymc-devs/resources/tree/master/Rethinking_2) that also uses Python. It will helpful for me to do these exercises myself, but that repo will serve as a helpful reference. Seeing the packages used in that repo is already helpful. Based on looking at package repos and [this post](https://towardsdatascience.com/hands-on-bayesian-statistics-with-python-pymc3-arviz-499db9a59501), I will start learning `arviz` and `pymc3`.\n",
    "\n",
    "I encountered issues simply importing those packages which made me go down another direction for employing virtual environments, finding notebook extensions, employing code formatting tools, writing scripts to make the envirionment transparent, and managing this all with `git`."
   ]
  },
  {
   "cell_type": "code",
   "execution_count": 1,
   "id": "overall-samba",
   "metadata": {
    "ExecuteTime": {
     "end_time": "2021-02-09T23:00:10.695069Z",
     "start_time": "2021-02-09T23:00:07.808886Z"
    }
   },
   "outputs": [],
   "source": [
    "import arviz as az\n",
    "import matplotlib.pyplot as plt\n",
    "import numpy as np\n",
    "import os\n",
    "import pandas as pd\n",
    "import pymc3 as pm\n",
    "import scipy.stats as stats\n",
    "import seaborn as sns"
   ]
  },
  {
   "cell_type": "code",
   "execution_count": 2,
   "id": "legal-attitude",
   "metadata": {
    "ExecuteTime": {
     "end_time": "2021-02-09T23:00:10.885413Z",
     "start_time": "2021-02-09T23:00:10.707794Z"
    }
   },
   "outputs": [
    {
     "data": {
      "application/javascript": [
       "\n",
       "            setTimeout(function() {\n",
       "                var nbb_cell_id = 2;\n",
       "                var nbb_unformatted_code = \"%load_ext nb_black\\n%config InlineBackend.figure_format = 'retina'\\n%load_ext watermark\\nRANDOM_SEED = 8927\\nnp.random.seed(RANDOM_SEED)\\naz.style.use(\\\"arviz-darkgrid\\\")\";\n",
       "                var nbb_formatted_code = \"%load_ext nb_black\\n%config InlineBackend.figure_format = 'retina'\\n%load_ext watermark\\nRANDOM_SEED = 8927\\nnp.random.seed(RANDOM_SEED)\\naz.style.use(\\\"arviz-darkgrid\\\")\";\n",
       "                var nbb_cells = Jupyter.notebook.get_cells();\n",
       "                for (var i = 0; i < nbb_cells.length; ++i) {\n",
       "                    if (nbb_cells[i].input_prompt_number == nbb_cell_id) {\n",
       "                        if (nbb_cells[i].get_text() == nbb_unformatted_code) {\n",
       "                             nbb_cells[i].set_text(nbb_formatted_code);\n",
       "                        }\n",
       "                        break;\n",
       "                    }\n",
       "                }\n",
       "            }, 500);\n",
       "            "
      ],
      "text/plain": [
       "<IPython.core.display.Javascript object>"
      ]
     },
     "metadata": {},
     "output_type": "display_data"
    }
   ],
   "source": [
    "%load_ext nb_black\n",
    "%config InlineBackend.figure_format = 'retina'\n",
    "%load_ext watermark\n",
    "RANDOM_SEED = 8927\n",
    "np.random.seed(RANDOM_SEED)\n",
    "az.style.use(\"arviz-darkgrid\")"
   ]
  },
  {
   "cell_type": "code",
   "execution_count": 3,
   "id": "harmful-webcam",
   "metadata": {
    "ExecuteTime": {
     "end_time": "2021-02-09T23:01:06.688901Z",
     "start_time": "2021-02-09T23:01:06.107630Z"
    }
   },
   "outputs": [
    {
     "data": {
      "application/javascript": [
       "\n",
       "            setTimeout(function() {\n",
       "                var nbb_cell_id = 3;\n",
       "                var nbb_unformatted_code = \"# Run R code for comparison of code\\n%load_ext rpy2.ipython\";\n",
       "                var nbb_formatted_code = \"# Run R code for comparison of code\\n%load_ext rpy2.ipython\";\n",
       "                var nbb_cells = Jupyter.notebook.get_cells();\n",
       "                for (var i = 0; i < nbb_cells.length; ++i) {\n",
       "                    if (nbb_cells[i].input_prompt_number == nbb_cell_id) {\n",
       "                        if (nbb_cells[i].get_text() == nbb_unformatted_code) {\n",
       "                             nbb_cells[i].set_text(nbb_formatted_code);\n",
       "                        }\n",
       "                        break;\n",
       "                    }\n",
       "                }\n",
       "            }, 500);\n",
       "            "
      ],
      "text/plain": [
       "<IPython.core.display.Javascript object>"
      ]
     },
     "metadata": {},
     "output_type": "display_data"
    }
   ],
   "source": [
    "# Run R code for comparison of code\n",
    "%load_ext rpy2.ipython"
   ]
  },
  {
   "cell_type": "code",
   "execution_count": 13,
   "id": "unexpected-watson",
   "metadata": {
    "ExecuteTime": {
     "end_time": "2021-02-09T23:05:14.574961Z",
     "start_time": "2021-02-09T23:05:14.566424Z"
    }
   },
   "outputs": [
    {
     "data": {
      "application/javascript": [
       "\n",
       "            setTimeout(function() {\n",
       "                var nbb_cell_id = 13;\n",
       "                var nbb_unformatted_code = \"%%R   # All R cells will be indicated with this at the top of the cell\\nsuppressMessages(library(tidyverse))\\nsuppressMessages(library(rethinking))\";\n",
       "                var nbb_formatted_code = \"%%R   # All R cells will be indicated with this at the top of the cell\\nsuppressMessages(library(tidyverse))\\nsuppressMessages(library(rethinking))\";\n",
       "                var nbb_cells = Jupyter.notebook.get_cells();\n",
       "                for (var i = 0; i < nbb_cells.length; ++i) {\n",
       "                    if (nbb_cells[i].input_prompt_number == nbb_cell_id) {\n",
       "                        if (nbb_cells[i].get_text() == nbb_unformatted_code) {\n",
       "                             nbb_cells[i].set_text(nbb_formatted_code);\n",
       "                        }\n",
       "                        break;\n",
       "                    }\n",
       "                }\n",
       "            }, 500);\n",
       "            "
      ],
      "text/plain": [
       "<IPython.core.display.Javascript object>"
      ]
     },
     "metadata": {},
     "output_type": "display_data"
    }
   ],
   "source": [
    "%%R                                       # All R cells will be indicated with %%R at the top of the cell\n",
    "suppressMessages(library(tidyverse))\n",
    "suppressMessages(library(rethinking))"
   ]
  },
  {
   "cell_type": "markdown",
   "id": "oriented-disclaimer",
   "metadata": {},
   "source": [
    "# Code 2.1"
   ]
  },
  {
   "cell_type": "markdown",
   "id": "saving-edward",
   "metadata": {},
   "source": [
    "## R"
   ]
  },
  {
   "cell_type": "code",
   "execution_count": 11,
   "id": "confidential-placement",
   "metadata": {
    "ExecuteTime": {
     "end_time": "2021-02-09T23:04:35.851171Z",
     "start_time": "2021-02-09T23:04:35.837598Z"
    }
   },
   "outputs": [
    {
     "name": "stdout",
     "output_type": "stream",
     "text": [
      "[1] 0.00 0.15 0.40 0.45 0.00\n"
     ]
    },
    {
     "data": {
      "application/javascript": [
       "\n",
       "            setTimeout(function() {\n",
       "                var nbb_cell_id = 11;\n",
       "                var nbb_unformatted_code = \"%%R\\n\\nways <- c( 0 , 3 , 8 , 9 , 0 )\\nways/sum(ways)\";\n",
       "                var nbb_formatted_code = \"%%R\\n\\nways <- c( 0 , 3 , 8 , 9 , 0 )\\nways/sum(ways)\";\n",
       "                var nbb_cells = Jupyter.notebook.get_cells();\n",
       "                for (var i = 0; i < nbb_cells.length; ++i) {\n",
       "                    if (nbb_cells[i].input_prompt_number == nbb_cell_id) {\n",
       "                        if (nbb_cells[i].get_text() == nbb_unformatted_code) {\n",
       "                             nbb_cells[i].set_text(nbb_formatted_code);\n",
       "                        }\n",
       "                        break;\n",
       "                    }\n",
       "                }\n",
       "            }, 500);\n",
       "            "
      ],
      "text/plain": [
       "<IPython.core.display.Javascript object>"
      ]
     },
     "metadata": {},
     "output_type": "display_data"
    }
   ],
   "source": [
    "%%R\n",
    "\n",
    "ways <- c( 0 , 3 , 8 , 9 , 0 )\n",
    "ways/sum(ways)"
   ]
  },
  {
   "cell_type": "markdown",
   "id": "future-alert",
   "metadata": {},
   "source": [
    "## Python"
   ]
  },
  {
   "cell_type": "code",
   "execution_count": 15,
   "id": "floral-princeton",
   "metadata": {
    "ExecuteTime": {
     "end_time": "2021-02-09T23:05:38.782496Z",
     "start_time": "2021-02-09T23:05:38.773753Z"
    }
   },
   "outputs": [
    {
     "data": {
      "text/plain": [
       "array([0.  , 0.15, 0.4 , 0.45, 0.  ])"
      ]
     },
     "execution_count": 15,
     "metadata": {},
     "output_type": "execute_result"
    },
    {
     "data": {
      "application/javascript": [
       "\n",
       "            setTimeout(function() {\n",
       "                var nbb_cell_id = 15;\n",
       "                var nbb_unformatted_code = \"ways = np.array([0, 3, 8, 9, 0])\\nways / ways.sum()\";\n",
       "                var nbb_formatted_code = \"ways = np.array([0, 3, 8, 9, 0])\\nways / ways.sum()\";\n",
       "                var nbb_cells = Jupyter.notebook.get_cells();\n",
       "                for (var i = 0; i < nbb_cells.length; ++i) {\n",
       "                    if (nbb_cells[i].input_prompt_number == nbb_cell_id) {\n",
       "                        if (nbb_cells[i].get_text() == nbb_unformatted_code) {\n",
       "                             nbb_cells[i].set_text(nbb_formatted_code);\n",
       "                        }\n",
       "                        break;\n",
       "                    }\n",
       "                }\n",
       "            }, 500);\n",
       "            "
      ],
      "text/plain": [
       "<IPython.core.display.Javascript object>"
      ]
     },
     "metadata": {},
     "output_type": "display_data"
    }
   ],
   "source": [
    "ways = np.array([0, 3, 8, 9, 0])\n",
    "ways / ways.sum()"
   ]
  },
  {
   "cell_type": "markdown",
   "id": "sought-highlight",
   "metadata": {},
   "source": [
    "# Code 2.2"
   ]
  },
  {
   "cell_type": "markdown",
   "id": "joined-kinase",
   "metadata": {},
   "source": [
    "## R"
   ]
  },
  {
   "cell_type": "markdown",
   "id": "canadian-system",
   "metadata": {},
   "source": [
    "A note about the binomial distribution functions in R:\n",
    "- `dbinom` gives the density\n",
    "- `pbinom` gives the distribution function\n",
    "- `qbinom` gives the quantile function\n",
    "- `rbinom` generates random deviates\n",
    "\n",
    "The `dbinom` code below computs the likelihood of the data (six W's in nine tosses) under any value of p (here it is 0.5)."
   ]
  },
  {
   "cell_type": "code",
   "execution_count": 19,
   "id": "living-camping",
   "metadata": {
    "ExecuteTime": {
     "end_time": "2021-02-09T23:11:57.496629Z",
     "start_time": "2021-02-09T23:11:57.486277Z"
    }
   },
   "outputs": [
    {
     "name": "stdout",
     "output_type": "stream",
     "text": [
      "[1] 0.1640625\n"
     ]
    },
    {
     "data": {
      "application/javascript": [
       "\n",
       "            setTimeout(function() {\n",
       "                var nbb_cell_id = 19;\n",
       "                var nbb_unformatted_code = \"%%R\\ndbinom(6, size=9, prob=0.5)\";\n",
       "                var nbb_formatted_code = \"%%R\\ndbinom(6, size=9, prob=0.5)\";\n",
       "                var nbb_cells = Jupyter.notebook.get_cells();\n",
       "                for (var i = 0; i < nbb_cells.length; ++i) {\n",
       "                    if (nbb_cells[i].input_prompt_number == nbb_cell_id) {\n",
       "                        if (nbb_cells[i].get_text() == nbb_unformatted_code) {\n",
       "                             nbb_cells[i].set_text(nbb_formatted_code);\n",
       "                        }\n",
       "                        break;\n",
       "                    }\n",
       "                }\n",
       "            }, 500);\n",
       "            "
      ],
      "text/plain": [
       "<IPython.core.display.Javascript object>"
      ]
     },
     "metadata": {},
     "output_type": "display_data"
    }
   ],
   "source": [
    "%%R\n",
    "dbinom(6, size=9, prob=0.5)"
   ]
  },
  {
   "cell_type": "markdown",
   "id": "worst-negotiation",
   "metadata": {},
   "source": [
    "In other words, if *p* is 0.5, then we would expect to see the observed data with 0.164 probability."
   ]
  },
  {
   "cell_type": "markdown",
   "id": "immune-citizenship",
   "metadata": {},
   "source": [
    "## Python"
   ]
  },
  {
   "cell_type": "code",
   "execution_count": 58,
   "id": "continuing-german",
   "metadata": {
    "ExecuteTime": {
     "end_time": "2021-02-10T00:10:39.637509Z",
     "start_time": "2021-02-10T00:10:39.630470Z"
    }
   },
   "outputs": [
    {
     "data": {
      "text/plain": [
       "0.16406250000000006"
      ]
     },
     "execution_count": 58,
     "metadata": {},
     "output_type": "execute_result"
    },
    {
     "data": {
      "application/javascript": [
       "\n",
       "            setTimeout(function() {\n",
       "                var nbb_cell_id = 58;\n",
       "                var nbb_unformatted_code = \"stats.binom.pmf(6, n=9, p=0.5)\";\n",
       "                var nbb_formatted_code = \"stats.binom.pmf(6, n=9, p=0.5)\";\n",
       "                var nbb_cells = Jupyter.notebook.get_cells();\n",
       "                for (var i = 0; i < nbb_cells.length; ++i) {\n",
       "                    if (nbb_cells[i].input_prompt_number == nbb_cell_id) {\n",
       "                        if (nbb_cells[i].get_text() == nbb_unformatted_code) {\n",
       "                             nbb_cells[i].set_text(nbb_formatted_code);\n",
       "                        }\n",
       "                        break;\n",
       "                    }\n",
       "                }\n",
       "            }, 500);\n",
       "            "
      ],
      "text/plain": [
       "<IPython.core.display.Javascript object>"
      ]
     },
     "metadata": {},
     "output_type": "display_data"
    }
   ],
   "source": [
    "stats.binom.pmf(6, n=9, p=0.5)"
   ]
  },
  {
   "cell_type": "markdown",
   "id": "brutal-climb",
   "metadata": {},
   "source": [
    "# Code 2.3 and 2.4"
   ]
  },
  {
   "cell_type": "markdown",
   "id": "statistical-cooler",
   "metadata": {},
   "source": [
    "## R"
   ]
  },
  {
   "cell_type": "code",
   "execution_count": 21,
   "id": "checked-transformation",
   "metadata": {
    "ExecuteTime": {
     "end_time": "2021-02-10T01:54:22.114947Z",
     "start_time": "2021-02-10T01:54:22.028464Z"
    }
   },
   "outputs": [
    {
     "data": {
      "application/javascript": [
       "\n",
       "            setTimeout(function() {\n",
       "                var nbb_cell_id = 21;\n",
       "                var nbb_unformatted_code = \"%%R\\n\\n# define grid\\np_grid <- seq( from=0 , to=1 , length.out=20 )\\n# define prior\\nprior <- rep( 1 , 20 )\\n# compute likelihood at each value in grid\\nlikelihood <- dbinom( 6 , size=9 , prob=p_grid )\\n# compute product of likelihood and prior\\nunstd.posterior <- likelihood * prior\\n# standardize the posterior, so it sums to 1\\nposterior <- unstd.posterior / sum(unstd.posterior)\";\n",
       "                var nbb_formatted_code = \"%%R\\n\\n# define grid\\np_grid <- seq( from=0 , to=1 , length.out=20 )\\n# define prior\\nprior <- rep( 1 , 20 )\\n# compute likelihood at each value in grid\\nlikelihood <- dbinom( 6 , size=9 , prob=p_grid )\\n# compute product of likelihood and prior\\nunstd.posterior <- likelihood * prior\\n# standardize the posterior, so it sums to 1\\nposterior <- unstd.posterior / sum(unstd.posterior)\";\n",
       "                var nbb_cells = Jupyter.notebook.get_cells();\n",
       "                for (var i = 0; i < nbb_cells.length; ++i) {\n",
       "                    if (nbb_cells[i].input_prompt_number == nbb_cell_id) {\n",
       "                        if (nbb_cells[i].get_text() == nbb_unformatted_code) {\n",
       "                             nbb_cells[i].set_text(nbb_formatted_code);\n",
       "                        }\n",
       "                        break;\n",
       "                    }\n",
       "                }\n",
       "            }, 500);\n",
       "            "
      ],
      "text/plain": [
       "<IPython.core.display.Javascript object>"
      ]
     },
     "metadata": {},
     "output_type": "display_data"
    }
   ],
   "source": [
    "%%R\n",
    "\n",
    "# define grid\n",
    "p_grid <- seq( from=0 , to=1 , length.out=20 )\n",
    "# define prior\n",
    "prior <- rep( 1 , 20 )\n",
    "# compute likelihood at each value in grid\n",
    "likelihood <- dbinom( 6 , size=9 , prob=p_grid )\n",
    "# compute product of likelihood and prior\n",
    "unstd.posterior <- likelihood * prior\n",
    "# standardize the posterior, so it sums to 1\n",
    "posterior <- unstd.posterior / sum(unstd.posterior)\n",
    "\n"
   ]
  },
  {
   "cell_type": "code",
   "execution_count": 25,
   "id": "provincial-mining",
   "metadata": {
    "ExecuteTime": {
     "end_time": "2021-02-09T23:31:45.381369Z",
     "start_time": "2021-02-09T23:31:45.358885Z"
    }
   },
   "outputs": [
    {
     "name": "stdout",
     "output_type": "stream",
     "text": [
      " [1] 1 1 1 1 1 1 1 1 1 1 1 1 1 1 1 1 1 1 1 1\n"
     ]
    },
    {
     "data": {
      "application/javascript": [
       "\n",
       "            setTimeout(function() {\n",
       "                var nbb_cell_id = 25;\n",
       "                var nbb_unformatted_code = \"%%R\\nprior\";\n",
       "                var nbb_formatted_code = \"%%R\\nprior\";\n",
       "                var nbb_cells = Jupyter.notebook.get_cells();\n",
       "                for (var i = 0; i < nbb_cells.length; ++i) {\n",
       "                    if (nbb_cells[i].input_prompt_number == nbb_cell_id) {\n",
       "                        if (nbb_cells[i].get_text() == nbb_unformatted_code) {\n",
       "                             nbb_cells[i].set_text(nbb_formatted_code);\n",
       "                        }\n",
       "                        break;\n",
       "                    }\n",
       "                }\n",
       "            }, 500);\n",
       "            "
      ],
      "text/plain": [
       "<IPython.core.display.Javascript object>"
      ]
     },
     "metadata": {},
     "output_type": "display_data"
    }
   ],
   "source": [
    "%%R\n",
    "prior"
   ]
  },
  {
   "cell_type": "code",
   "execution_count": 22,
   "id": "technical-addition",
   "metadata": {
    "ExecuteTime": {
     "end_time": "2021-02-09T23:41:58.630709Z",
     "start_time": "2021-02-09T23:41:58.607415Z"
    }
   },
   "outputs": [
    {
     "data": {
      "image/png": "[encoded data removed]"
     },
     "metadata": {},
     "output_type": "display_data"
    },
    {
     "data": {
      "application/javascript": [
       "\n",
       "            setTimeout(function() {\n",
       "                var nbb_cell_id = 22;\n",
       "                var nbb_unformatted_code = \"%%R\\n\\nplot( p_grid , posterior , type=\\\"b\\\" ,\\nxlab=\\\"probability of water\\\" , ylab=\\\"posterior probability\\\" )\\nmtext( \\\"20 points\\\" )\";\n",
       "                var nbb_formatted_code = \"%%R\\n\\nplot( p_grid , posterior , type=\\\"b\\\" ,\\nxlab=\\\"probability of water\\\" , ylab=\\\"posterior probability\\\" )\\nmtext( \\\"20 points\\\" )\";\n",
       "                var nbb_cells = Jupyter.notebook.get_cells();\n",
       "                for (var i = 0; i < nbb_cells.length; ++i) {\n",
       "                    if (nbb_cells[i].input_prompt_number == nbb_cell_id) {\n",
       "                        if (nbb_cells[i].get_text() == nbb_unformatted_code) {\n",
       "                             nbb_cells[i].set_text(nbb_formatted_code);\n",
       "                        }\n",
       "                        break;\n",
       "                    }\n",
       "                }\n",
       "            }, 500);\n",
       "            "
      ],
      "text/plain": [
       "<IPython.core.display.Javascript object>"
      ]
     },
     "metadata": {},
     "output_type": "display_data"
    }
   ],
   "source": [
    "%%R\n",
    "\n",
    "plot( p_grid , posterior , type=\"b\" ,\n",
    "xlab=\"probability of water\" , ylab=\"posterior probability\" )\n",
    "mtext( \"20 points\" )"
   ]
  },
  {
   "cell_type": "markdown",
   "id": "rough-scratch",
   "metadata": {},
   "source": [
    "## Python"
   ]
  },
  {
   "cell_type": "markdown",
   "id": "european-farmer",
   "metadata": {},
   "source": [
    "The R code specifies a series of \"1's\" for its prior probability values. At the end of the day, this doesn't matter, because things get standardized in the end. But personally, I like to think of it as a true probability distribution, and therefore place the proportion (or plausibility) at each water probability value before looking at data. When we say that it is a flat prior, that means all values are equally likely. In other words, what would we guess it could be? A flat prior means all water probability values are possible. Since the probabilities must sum to 1, the prior probability values I will put for each probability of water would be 1 divided by the number of grid points."
   ]
  },
  {
   "cell_type": "code",
   "execution_count": 36,
   "id": "weird-attention",
   "metadata": {
    "ExecuteTime": {
     "end_time": "2021-02-10T01:54:30.041342Z",
     "start_time": "2021-02-10T01:54:29.973807Z"
    }
   },
   "outputs": [
    {
     "data": {
      "application/javascript": [
       "\n",
       "            setTimeout(function() {\n",
       "                var nbb_cell_id = 36;\n",
       "                var nbb_unformatted_code = \"n_gridpoints = 20\\n\\nwat_prob_vals = np.linspace(0, 1, n_gridpoints)\\nprior_vals = np.repeat(1 / n_gridpoints, n_gridpoints)  # specific to this question\\nlikelihood_vals = stats.binom.pmf(6, 9, wat_prob_vals)\\nunstd_posterior_vals = likelihood_vals * prior_vals\\nstd_posterior_vals = unstd_posterior_vals / np.sum(unstd_posterior_vals)\\ndf_bayes = pd.DataFrame(\\n    {\\n        \\\"wat_prob_vals\\\": wat_prob_vals,\\n        \\\"prior_vals\\\": prior_vals,\\n        \\\"likelihood_vals\\\": likelihood_vals,\\n        \\\"unstd_posterior_vals\\\": unstd_posterior_vals,\\n        \\\"std_posterior_vals\\\": std_posterior_vals,\\n    }\\n)\";\n",
       "                var nbb_formatted_code = \"n_gridpoints = 20\\n\\nwat_prob_vals = np.linspace(0, 1, n_gridpoints)\\nprior_vals = np.repeat(1 / n_gridpoints, n_gridpoints)  # specific to this question\\nlikelihood_vals = stats.binom.pmf(6, 9, wat_prob_vals)\\nunstd_posterior_vals = likelihood_vals * prior_vals\\nstd_posterior_vals = unstd_posterior_vals / np.sum(unstd_posterior_vals)\\ndf_bayes = pd.DataFrame(\\n    {\\n        \\\"wat_prob_vals\\\": wat_prob_vals,\\n        \\\"prior_vals\\\": prior_vals,\\n        \\\"likelihood_vals\\\": likelihood_vals,\\n        \\\"unstd_posterior_vals\\\": unstd_posterior_vals,\\n        \\\"std_posterior_vals\\\": std_posterior_vals,\\n    }\\n)\";\n",
       "                var nbb_cells = Jupyter.notebook.get_cells();\n",
       "                for (var i = 0; i < nbb_cells.length; ++i) {\n",
       "                    if (nbb_cells[i].input_prompt_number == nbb_cell_id) {\n",
       "                        if (nbb_cells[i].get_text() == nbb_unformatted_code) {\n",
       "                             nbb_cells[i].set_text(nbb_formatted_code);\n",
       "                        }\n",
       "                        break;\n",
       "                    }\n",
       "                }\n",
       "            }, 500);\n",
       "            "
      ],
      "text/plain": [
       "<IPython.core.display.Javascript object>"
      ]
     },
     "metadata": {},
     "output_type": "display_data"
    }
   ],
   "source": [
    "n_gridpoints = 20\n",
    "\n",
    "wat_prob_vals = np.linspace(0, 1, n_gridpoints)\n",
    "prior_vals = np.repeat(1 / n_gridpoints, n_gridpoints)  # specific to this question\n",
    "likelihood_vals = stats.binom.pmf(6, 9, wat_prob_vals)\n",
    "unstd_posterior_vals = likelihood_vals * prior_vals\n",
    "std_posterior_vals = unstd_posterior_vals / np.sum(unstd_posterior_vals)\n",
    "df_bayes = pd.DataFrame(\n",
    "    {\n",
    "        \"wat_prob_vals\": wat_prob_vals,\n",
    "        \"prior_vals\": prior_vals,\n",
    "        \"likelihood_vals\": likelihood_vals,\n",
    "        \"unstd_posterior_vals\": unstd_posterior_vals,\n",
    "        \"std_posterior_vals\": std_posterior_vals,\n",
    "    }\n",
    ")"
   ]
  },
  {
   "cell_type": "code",
   "execution_count": 37,
   "id": "permanent-ranking",
   "metadata": {
    "ExecuteTime": {
     "end_time": "2021-02-09T23:39:27.720784Z",
     "start_time": "2021-02-09T23:39:27.716129Z"
    }
   },
   "outputs": [
    {
     "data": {
      "text/plain": [
       "array([0.05, 0.05, 0.05, 0.05, 0.05, 0.05, 0.05, 0.05, 0.05, 0.05, 0.05,\n",
       "       0.05, 0.05, 0.05, 0.05, 0.05, 0.05, 0.05, 0.05, 0.05])"
      ]
     },
     "execution_count": 37,
     "metadata": {},
     "output_type": "execute_result"
    },
    {
     "data": {
      "application/javascript": [
       "\n",
       "            setTimeout(function() {\n",
       "                var nbb_cell_id = 37;\n",
       "                var nbb_unformatted_code = \"prior_vals\";\n",
       "                var nbb_formatted_code = \"prior_vals\";\n",
       "                var nbb_cells = Jupyter.notebook.get_cells();\n",
       "                for (var i = 0; i < nbb_cells.length; ++i) {\n",
       "                    if (nbb_cells[i].input_prompt_number == nbb_cell_id) {\n",
       "                        if (nbb_cells[i].get_text() == nbb_unformatted_code) {\n",
       "                             nbb_cells[i].set_text(nbb_formatted_code);\n",
       "                        }\n",
       "                        break;\n",
       "                    }\n",
       "                }\n",
       "            }, 500);\n",
       "            "
      ],
      "text/plain": [
       "<IPython.core.display.Javascript object>"
      ]
     },
     "metadata": {},
     "output_type": "display_data"
    }
   ],
   "source": [
    "prior_vals"
   ]
  },
  {
   "cell_type": "code",
   "execution_count": 38,
   "id": "durable-upset",
   "metadata": {
    "ExecuteTime": {
     "end_time": "2021-02-10T01:55:09.541757Z",
     "start_time": "2021-02-10T01:55:09.202104Z"
    }
   },
   "outputs": [
    {
     "data": {
      "text/plain": [
       "<AxesSubplot:xlabel='wat_prob_vals', ylabel='std_posterior_vals'>"
      ]
     },
     "execution_count": 38,
     "metadata": {},
     "output_type": "execute_result"
    },
    {
     "data": {
      "image/png": "[encoded data removed]",
      "text/plain": [
       "<Figure size 600x400 with 1 Axes>"
      ]
     },
     "metadata": {
      "image/png": {
       "height": 411,
       "width": 611
      }
     },
     "output_type": "display_data"
    },
    {
     "data": {
      "application/javascript": [
       "\n",
       "            setTimeout(function() {\n",
       "                var nbb_cell_id = 38;\n",
       "                var nbb_unformatted_code = \"f, ax1 = plt.subplots(figsize=(6, 4))\\n\\nsns.lineplot(\\n    data=df_bayes, x=\\\"wat_prob_vals\\\", y=\\\"std_posterior_vals\\\", ax=ax1, color=\\\"gray\\\"\\n)\\nsns.scatterplot(\\n    data=df_bayes, x=\\\"wat_prob_vals\\\", y=\\\"std_posterior_vals\\\", ax=ax1, color=\\\"black\\\"\\n)\";\n",
       "                var nbb_formatted_code = \"f, ax1 = plt.subplots(figsize=(6, 4))\\n\\nsns.lineplot(\\n    data=df_bayes, x=\\\"wat_prob_vals\\\", y=\\\"std_posterior_vals\\\", ax=ax1, color=\\\"gray\\\"\\n)\\nsns.scatterplot(\\n    data=df_bayes, x=\\\"wat_prob_vals\\\", y=\\\"std_posterior_vals\\\", ax=ax1, color=\\\"black\\\"\\n)\";\n",
       "                var nbb_cells = Jupyter.notebook.get_cells();\n",
       "                for (var i = 0; i < nbb_cells.length; ++i) {\n",
       "                    if (nbb_cells[i].input_prompt_number == nbb_cell_id) {\n",
       "                        if (nbb_cells[i].get_text() == nbb_unformatted_code) {\n",
       "                             nbb_cells[i].set_text(nbb_formatted_code);\n",
       "                        }\n",
       "                        break;\n",
       "                    }\n",
       "                }\n",
       "            }, 500);\n",
       "            "
      ],
      "text/plain": [
       "<IPython.core.display.Javascript object>"
      ]
     },
     "metadata": {},
     "output_type": "display_data"
    }
   ],
   "source": [
    "f, ax1 = plt.subplots(figsize=(6, 4))\n",
    "\n",
    "sns.lineplot(\n",
    "    data=df_bayes, x=\"wat_prob_vals\", y=\"std_posterior_vals\", ax=ax1, color=\"gray\"\n",
    ")\n",
    "sns.scatterplot(\n",
    "    data=df_bayes, x=\"wat_prob_vals\", y=\"std_posterior_vals\", ax=ax1, color=\"black\"\n",
    ")"
   ]
  },
  {
   "cell_type": "markdown",
   "id": "bottom-vessel",
   "metadata": {},
   "source": [
    "As expected, we get the same values as we do in the R plot."
   ]
  },
  {
   "cell_type": "markdown",
   "id": "temporal-london",
   "metadata": {},
   "source": [
    "# Code 2.5"
   ]
  },
  {
   "cell_type": "markdown",
   "id": "certain-fleet",
   "metadata": {},
   "source": [
    "## R"
   ]
  },
  {
   "cell_type": "code",
   "execution_count": 50,
   "id": "fifty-premises",
   "metadata": {
    "ExecuteTime": {
     "end_time": "2021-02-09T23:46:28.527341Z",
     "start_time": "2021-02-09T23:46:28.501746Z"
    }
   },
   "outputs": [
    {
     "name": "stdout",
     "output_type": "stream",
     "text": [
      " [1] 0.00000000 0.05263158 0.10526316 0.15789474 0.21052632 0.26315789\n",
      " [7] 0.31578947 0.36842105 0.42105263 0.47368421 0.52631579 0.57894737\n",
      "[13] 0.63157895 0.68421053 0.73684211 0.78947368 0.84210526 0.89473684\n",
      "[19] 0.94736842 1.00000000\n"
     ]
    },
    {
     "data": {
      "application/javascript": [
       "\n",
       "            setTimeout(function() {\n",
       "                var nbb_cell_id = 50;\n",
       "                var nbb_unformatted_code = \"%%R\\n\\np_grid\";\n",
       "                var nbb_formatted_code = \"%%R\\n\\np_grid\";\n",
       "                var nbb_cells = Jupyter.notebook.get_cells();\n",
       "                for (var i = 0; i < nbb_cells.length; ++i) {\n",
       "                    if (nbb_cells[i].input_prompt_number == nbb_cell_id) {\n",
       "                        if (nbb_cells[i].get_text() == nbb_unformatted_code) {\n",
       "                             nbb_cells[i].set_text(nbb_formatted_code);\n",
       "                        }\n",
       "                        break;\n",
       "                    }\n",
       "                }\n",
       "            }, 500);\n",
       "            "
      ],
      "text/plain": [
       "<IPython.core.display.Javascript object>"
      ]
     },
     "metadata": {},
     "output_type": "display_data"
    }
   ],
   "source": [
    "%%R\n",
    "p_grid"
   ]
  },
  {
   "cell_type": "code",
   "execution_count": 45,
   "id": "competitive-roommate",
   "metadata": {
    "ExecuteTime": {
     "end_time": "2021-02-10T01:54:22.114947Z",
     "start_time": "2021-02-10T01:54:22.028464Z"
    }
   },
   "outputs": [
    {
     "name": "stdout",
     "output_type": "stream",
     "text": [
      " [1] 0 0 0 0 0 0 0 0 0 0 1 1 1 1 1 1 1 1 1 1\n"
     ]
    },
    {
     "data": {
      "application/javascript": [
       "\n",
       "            setTimeout(function() {\n",
       "                var nbb_cell_id = 45;\n",
       "                var nbb_unformatted_code = \"%%R\\n\\nprior <- ifelse(p_grid < 0.5, 0, 1)\\nprint(prior)\";\n",
       "                var nbb_formatted_code = \"%%R\\n\\nprior <- ifelse(p_grid < 0.5, 0, 1)\\nprint(prior)\";\n",
       "                var nbb_cells = Jupyter.notebook.get_cells();\n",
       "                for (var i = 0; i < nbb_cells.length; ++i) {\n",
       "                    if (nbb_cells[i].input_prompt_number == nbb_cell_id) {\n",
       "                        if (nbb_cells[i].get_text() == nbb_unformatted_code) {\n",
       "                             nbb_cells[i].set_text(nbb_formatted_code);\n",
       "                        }\n",
       "                        break;\n",
       "                    }\n",
       "                }\n",
       "            }, 500);\n",
       "            "
      ],
      "text/plain": [
       "<IPython.core.display.Javascript object>"
      ]
     },
     "metadata": {},
     "output_type": "display_data"
    }
   ],
   "source": [
    "%%R\n",
    "\n",
    "prior <- ifelse(p_grid < 0.5, 0, 1)\n",
    "print(prior)"
   ]
  },
  {
   "cell_type": "code",
   "execution_count": 46,
   "id": "functional-liberia",
   "metadata": {
    "ExecuteTime": {
     "end_time": "2021-02-09T23:41:58.630709Z",
     "start_time": "2021-02-09T23:41:58.607415Z"
    }
   },
   "outputs": [
    {
     "name": "stdout",
     "output_type": "stream",
     "text": [
      " [1] 0.0820850 0.1067952 0.1389440 0.1807706 0.2351884 0.3059877 0.3980998\n",
      " [8] 0.5179406 0.6738573 0.8767101 0.8767101 0.6738573 0.5179406 0.3980998\n",
      "[15] 0.3059877 0.2351884 0.1807706 0.1389440 0.1067952 0.0820850\n"
     ]
    },
    {
     "data": {
      "application/javascript": [
       "\n",
       "            setTimeout(function() {\n",
       "                var nbb_cell_id = 46;\n",
       "                var nbb_unformatted_code = \"%%R\\n\\nprior <-  exp( -5*abs( p_grid - 0.5 ) )\\nprint(prior)\";\n",
       "                var nbb_formatted_code = \"%%R\\n\\nprior <-  exp( -5*abs( p_grid - 0.5 ) )\\nprint(prior)\";\n",
       "                var nbb_cells = Jupyter.notebook.get_cells();\n",
       "                for (var i = 0; i < nbb_cells.length; ++i) {\n",
       "                    if (nbb_cells[i].input_prompt_number == nbb_cell_id) {\n",
       "                        if (nbb_cells[i].get_text() == nbb_unformatted_code) {\n",
       "                             nbb_cells[i].set_text(nbb_formatted_code);\n",
       "                        }\n",
       "                        break;\n",
       "                    }\n",
       "                }\n",
       "            }, 500);\n",
       "            "
      ],
      "text/plain": [
       "<IPython.core.display.Javascript object>"
      ]
     },
     "metadata": {},
     "output_type": "display_data"
    }
   ],
   "source": [
    "%%R\n",
    "\n",
    "prior <-  exp( -5*abs( p_grid - 0.5 ) )\n",
    "print(prior)"
   ]
  },
  {
   "cell_type": "markdown",
   "id": "fifth-housing",
   "metadata": {},
   "source": [
    "## Python"
   ]
  },
  {
   "cell_type": "code",
   "execution_count": 49,
   "id": "veterinary-austria",
   "metadata": {
    "ExecuteTime": {
     "end_time": "2021-02-09T23:46:00.143565Z",
     "start_time": "2021-02-09T23:46:00.137832Z"
    }
   },
   "outputs": [
    {
     "data": {
      "text/plain": [
       "array([0.        , 0.05263158, 0.10526316, 0.15789474, 0.21052632,\n",
       "       0.26315789, 0.31578947, 0.36842105, 0.42105263, 0.47368421,\n",
       "       0.52631579, 0.57894737, 0.63157895, 0.68421053, 0.73684211,\n",
       "       0.78947368, 0.84210526, 0.89473684, 0.94736842, 1.        ])"
      ]
     },
     "execution_count": 49,
     "metadata": {},
     "output_type": "execute_result"
    },
    {
     "data": {
      "application/javascript": [
       "\n",
       "            setTimeout(function() {\n",
       "                var nbb_cell_id = 49;\n",
       "                var nbb_unformatted_code = \"wat_prob_vals\";\n",
       "                var nbb_formatted_code = \"wat_prob_vals\";\n",
       "                var nbb_cells = Jupyter.notebook.get_cells();\n",
       "                for (var i = 0; i < nbb_cells.length; ++i) {\n",
       "                    if (nbb_cells[i].input_prompt_number == nbb_cell_id) {\n",
       "                        if (nbb_cells[i].get_text() == nbb_unformatted_code) {\n",
       "                             nbb_cells[i].set_text(nbb_formatted_code);\n",
       "                        }\n",
       "                        break;\n",
       "                    }\n",
       "                }\n",
       "            }, 500);\n",
       "            "
      ],
      "text/plain": [
       "<IPython.core.display.Javascript object>"
      ]
     },
     "metadata": {},
     "output_type": "display_data"
    }
   ],
   "source": [
    "wat_prob_vals"
   ]
  },
  {
   "cell_type": "code",
   "execution_count": 51,
   "id": "marine-height",
   "metadata": {
    "ExecuteTime": {
     "end_time": "2021-02-10T01:54:30.041342Z",
     "start_time": "2021-02-10T01:54:29.973807Z"
    }
   },
   "outputs": [
    {
     "data": {
      "text/plain": [
       "array([0, 0, 0, 0, 0, 0, 0, 0, 0, 0, 1, 1, 1, 1, 1, 1, 1, 1, 1, 1])"
      ]
     },
     "execution_count": 51,
     "metadata": {},
     "output_type": "execute_result"
    },
    {
     "data": {
      "application/javascript": [
       "\n",
       "            setTimeout(function() {\n",
       "                var nbb_cell_id = 51;\n",
       "                var nbb_unformatted_code = \"prior = np.where(wat_prob_vals < 0.5, 0, 1)\\nprior\";\n",
       "                var nbb_formatted_code = \"prior = np.where(wat_prob_vals < 0.5, 0, 1)\\nprior\";\n",
       "                var nbb_cells = Jupyter.notebook.get_cells();\n",
       "                for (var i = 0; i < nbb_cells.length; ++i) {\n",
       "                    if (nbb_cells[i].input_prompt_number == nbb_cell_id) {\n",
       "                        if (nbb_cells[i].get_text() == nbb_unformatted_code) {\n",
       "                             nbb_cells[i].set_text(nbb_formatted_code);\n",
       "                        }\n",
       "                        break;\n",
       "                    }\n",
       "                }\n",
       "            }, 500);\n",
       "            "
      ],
      "text/plain": [
       "<IPython.core.display.Javascript object>"
      ]
     },
     "metadata": {},
     "output_type": "display_data"
    }
   ],
   "source": [
    "prior = np.where(wat_prob_vals < 0.5, 0, 1)\n",
    "prior"
   ]
  },
  {
   "cell_type": "code",
   "execution_count": 56,
   "id": "strong-royal",
   "metadata": {
    "ExecuteTime": {
     "end_time": "2021-02-10T01:55:09.541757Z",
     "start_time": "2021-02-10T01:55:09.202104Z"
    }
   },
   "outputs": [
    {
     "name": "stdout",
     "output_type": "stream",
     "text": [
      "[0.082085   0.10679522 0.13894401 0.18077063 0.23518839 0.30598765\n",
      " 0.39809977 0.51794059 0.67385735 0.87671006 0.87671006 0.67385735\n",
      " 0.51794059 0.39809977 0.30598765 0.23518839 0.18077063 0.13894401\n",
      " 0.10679522 0.082085  ]\n"
     ]
    },
    {
     "data": {
      "application/javascript": [
       "\n",
       "            setTimeout(function() {\n",
       "                var nbb_cell_id = 56;\n",
       "                var nbb_unformatted_code = \"prior = np.exp(-5 * abs(wat_prob_vals - 0.5))\\nprint(prior)\";\n",
       "                var nbb_formatted_code = \"prior = np.exp(-5 * abs(wat_prob_vals - 0.5))\\nprint(prior)\";\n",
       "                var nbb_cells = Jupyter.notebook.get_cells();\n",
       "                for (var i = 0; i < nbb_cells.length; ++i) {\n",
       "                    if (nbb_cells[i].input_prompt_number == nbb_cell_id) {\n",
       "                        if (nbb_cells[i].get_text() == nbb_unformatted_code) {\n",
       "                             nbb_cells[i].set_text(nbb_formatted_code);\n",
       "                        }\n",
       "                        break;\n",
       "                    }\n",
       "                }\n",
       "            }, 500);\n",
       "            "
      ],
      "text/plain": [
       "<IPython.core.display.Javascript object>"
      ]
     },
     "metadata": {},
     "output_type": "display_data"
    }
   ],
   "source": [
    "prior = np.exp(-5 * abs(wat_prob_vals - 0.5))\n",
    "print(prior)"
   ]
  },
  {
   "cell_type": "markdown",
   "id": "accepting-elizabeth",
   "metadata": {},
   "source": [
    "# Code 2.6\n",
    "\n",
    "Quadratic approximation better scales with model complexity than grid approximation."
   ]
  },
  {
   "cell_type": "markdown",
   "id": "beautiful-alexander",
   "metadata": {},
   "source": [
    "## R"
   ]
  },
  {
   "cell_type": "code",
   "execution_count": 57,
   "id": "federal-memorabilia",
   "metadata": {
    "ExecuteTime": {
     "end_time": "2021-02-10T01:54:22.114947Z",
     "start_time": "2021-02-10T01:54:22.028464Z"
    }
   },
   "outputs": [
    {
     "name": "stdout",
     "output_type": "stream",
     "text": [
      "  mean   sd 5.5% 94.5%\n",
      "p 0.67 0.16 0.42  0.92\n"
     ]
    },
    {
     "data": {
      "application/javascript": [
       "\n",
       "            setTimeout(function() {\n",
       "                var nbb_cell_id = 57;\n",
       "                var nbb_unformatted_code = \"%%R\\n\\nglobe.qa <- quap(\\n    alist(\\n        W ~ dbinom( W+L ,p) , # binomial likelihood\\n        p ~ dunif(0,1) # uniform prior\\n    ), data=list(W=6,L=3) )\\n\\n# display summary of quadratic approximation\\nprecis( globe.qa )\";\n",
       "                var nbb_formatted_code = \"%%R\\n\\nglobe.qa <- quap(\\n    alist(\\n        W ~ dbinom( W+L ,p) , # binomial likelihood\\n        p ~ dunif(0,1) # uniform prior\\n    ), data=list(W=6,L=3) )\\n\\n# display summary of quadratic approximation\\nprecis( globe.qa )\";\n",
       "                var nbb_cells = Jupyter.notebook.get_cells();\n",
       "                for (var i = 0; i < nbb_cells.length; ++i) {\n",
       "                    if (nbb_cells[i].input_prompt_number == nbb_cell_id) {\n",
       "                        if (nbb_cells[i].get_text() == nbb_unformatted_code) {\n",
       "                             nbb_cells[i].set_text(nbb_formatted_code);\n",
       "                        }\n",
       "                        break;\n",
       "                    }\n",
       "                }\n",
       "            }, 500);\n",
       "            "
      ],
      "text/plain": [
       "<IPython.core.display.Javascript object>"
      ]
     },
     "metadata": {},
     "output_type": "display_data"
    }
   ],
   "source": [
    "%%R\n",
    "\n",
    "globe.qa <- quap(\n",
    "    alist(\n",
    "        W ~ dbinom( W+L ,p) , # binomial likelihood\n",
    "        p ~ dunif(0,1) # uniform prior\n",
    "    ), data=list(W=6,L=3) )\n",
    "\n",
    "# display summary of quadratic approximation\n",
    "precis( globe.qa )"
   ]
  },
  {
   "cell_type": "code",
   "execution_count": 62,
   "id": "banner-southeast",
   "metadata": {
    "ExecuteTime": {
     "end_time": "2021-02-10T00:18:20.017141Z",
     "start_time": "2021-02-10T00:18:19.826661Z"
    },
    "collapsed": true
   },
   "outputs": [
    {
     "name": "stdout",
     "output_type": "stream",
     "text": [
      "function (flist, data, start, method = \"BFGS\", hessian = TRUE, \n",
      "    debug = FALSE, verbose = FALSE, dofit = TRUE, ...) \n",
      "{\n",
      "    if (missing(flist)) \n",
      "        stop(\"Formula required.\")\n",
      "    if (class(flist) != \"list\") {\n",
      "        if (class(flist) == \"formula\") {\n",
      "            flist <- list(flist)\n",
      "        }\n",
      "        else {\n",
      "            stop(\"Formula or list of formulas required.\")\n",
      "        }\n",
      "    }\n",
      "    if (missing(start)) \n",
      "        start <- list()\n",
      "    if (missing(data)) \n",
      "        stop(\"'data' required.\")\n",
      "    if (!inherits(data, c(\"list\", \"data.frame\"))) {\n",
      "        stop(\"'data' must be of class list or data.frame.\")\n",
      "    }\n",
      "    flist.orig <- flist\n",
      "    flist <- flist_untag(flist)\n",
      "    density_sub_list <- list(normal = \"dnorm\", binomial = \"dbinom\", \n",
      "        poisson = \"dpois\", gamma = \"dgamma2\", betabinomial = \"dbetabinom\", \n",
      "        gammapoisson = \"dgampois\", cauchy = \"dcauchy\", uniform = \"dunif\", \n",
      "        laplace = \"dlaplace\")\n",
      "    idx_marker_string <- \"___\"\n",
      "    sample_from_prior <- function(f) {\n",
      "        RHS <- f[[3]]\n",
      "        the_density <- as.character(RHS[[1]])\n",
      "        the_rdensity <- the_density\n",
      "        substr(the_rdensity, 1, 1) <- \"r\"\n",
      "        pars <- vector(mode = \"list\", length = length(RHS))\n",
      "        pars[[1]] <- 1\n",
      "        for (i in 1:(length(pars) - 1)) {\n",
      "            pars[[i + 1]] <- RHS[[i + 1]]\n",
      "            pars[[i + 1]] <- eval(pars[[i + 1]], as.list(data))\n",
      "        }\n",
      "        result <- do.call(the_rdensity, args = pars)\n",
      "        return(result)\n",
      "    }\n",
      "    dparser <- function(flist, e) {\n",
      "        r <- sapply(flist, function(i) sum(eval(parse(text = i), \n",
      "            envir = e)))\n",
      "        -sum(r)\n",
      "    }\n",
      "    pars_to_vectors <- function(pars_orig, veclist) {\n",
      "        pars_new <- list()\n",
      "        for (i in 1:length(pars_orig)) {\n",
      "            x <- strsplit(names(pars_orig)[i], idx_marker_string)[[1]]\n",
      "            if (length(x) == 1) {\n",
      "                pars_new[[x]] <- pars_orig[[i]]\n",
      "            }\n",
      "        }\n",
      "        for (i in 1:length(veclist)) {\n",
      "            newvec <- rep(0, veclist[[i]]$n)\n",
      "            for (j in 1:veclist[[i]]$n) {\n",
      "                name_orig <- paste(veclist[[i]]$name, idx_marker_string, \n",
      "                  j, sep = \"\", concat = \"\")\n",
      "                newvec[j] <- pars_orig[[name_orig]]\n",
      "            }\n",
      "            pars_new[[veclist[[i]]$name]] <- newvec\n",
      "        }\n",
      "        return(pars_new)\n",
      "    }\n",
      "    make_minuslogl <- function(pars, flist, data, veclist) {\n",
      "        if (length(veclist) > 0) \n",
      "            pars <- pars_to_vectors(pars, veclist)\n",
      "        e <- list(as.list(data), as.list(pars))\n",
      "        e <- unlist(e, recursive = FALSE)\n",
      "        dparser(flist, e)\n",
      "    }\n",
      "    link.names <- c(\"log\", \"logit\")\n",
      "    invlink.names <- c(\"exp\", \"logistic\")\n",
      "    formula2text <- function(f) {\n",
      "        RHS <- f[[3]]\n",
      "        LHS <- f[[2]]\n",
      "        flag_monad_linear_model <- FALSE\n",
      "        if (length(RHS) == 1) {\n",
      "            if (class(RHS) == \"numeric\" | class(RHS) == \"name\") \n",
      "                flag_monad_linear_model <- TRUE\n",
      "            fname <- \"\"\n",
      "        }\n",
      "        else {\n",
      "            fname <- as.character(RHS[[1]])\n",
      "        }\n",
      "        if (fname == \"[\" | fname == \"+\" | fname == \"*\" | fname == \n",
      "            \"-\" | fname == \"/\" | fname == \"%*%\" | fname %in% \n",
      "            invlink.names | flag_monad_linear_model == TRUE) {\n",
      "            thetext <- list(as.character(LHS), paste(deparse(RHS), \n",
      "                collapse = \" \"))\n",
      "        }\n",
      "        else {\n",
      "            n_args <- length(RHS)\n",
      "            args_list <- as.list(RHS)\n",
      "            if (class(LHS) == \"call\") {\n",
      "                if (as.character(LHS[[1]]) == \"[\") {\n",
      "                  ival <- suppressWarnings(as.numeric(as.character(LHS[[3]])))\n",
      "                  if (is.na(ival)) {\n",
      "                    LHS <- as.character(LHS[[2]])\n",
      "                  }\n",
      "                  else {\n",
      "                    LHS <- deparse(LHS)\n",
      "                  }\n",
      "                }\n",
      "            }\n",
      "            args_list[[1]] <- LHS\n",
      "            args_list[[n_args + 1]] <- \"TRUE\"\n",
      "            args_names <- names(RHS)[-1]\n",
      "            if (is.null(args_names)) \n",
      "                args_names <- rep(\"\", n_args - 1)\n",
      "            args_names <- c(\"x\", args_names, \"log\")\n",
      "            for (i in 1:length(args_names)) {\n",
      "                if (args_names[i] == \"\") {\n",
      "                  args_names[i] <- args_list[i]\n",
      "                }\n",
      "                else {\n",
      "                  args_names[i] <- paste(args_names[i], args_list[i], \n",
      "                    sep = \"=\")\n",
      "                }\n",
      "            }\n",
      "            args_text <- paste(args_names, collapse = \" , \")\n",
      "            thetext <- paste(RHS[[1]], \"(\", args_text, \")\", sep = \"\")\n",
      "        }\n",
      "        return(thetext)\n",
      "    }\n",
      "    mygrep <- function(target, replacement, x, add.par = TRUE) {\n",
      "        wild <- \"[()=*+, ]\"\n",
      "        pattern <- paste(wild, target, wild, sep = \"\", collapse = \"\")\n",
      "        x <- concat(x, \" \")\n",
      "        m <- regexpr(pattern, x)\n",
      "        if (m == -1) \n",
      "            return(x)\n",
      "        s <- regmatches(x = x, m = m)\n",
      "        if (add.par == TRUE) \n",
      "            replacement <- paste(\"(\", replacement, \")\", collapse = \"\")\n",
      "        w.start <- substr(s, 1, 1)\n",
      "        w.end <- substr(s, nchar(s), nchar(s))\n",
      "        r <- paste(w.start, replacement, w.end, sep = \"\", collapse = \"\")\n",
      "        gsub(pattern = s, replacement = r, x = x, fixed = TRUE)\n",
      "    }\n",
      "    pars_with_priors <- list()\n",
      "    if (length(flist) > 1) {\n",
      "        flag_flatten <- FALSE\n",
      "        for (i in 2:length(flist)) {\n",
      "            if (!(class(flist[[i]]) == \"formula\")) \n",
      "                stop(\"Input not a formula.\")\n",
      "            LHS <- flist[[i]][[2]]\n",
      "            if (class(LHS) == \"call\") {\n",
      "                fname <- as.character(LHS[[1]])\n",
      "                if (fname == \"c\" | fname == \"[\" | fname %in% \n",
      "                  link.names) {\n",
      "                  if (fname == \"c\") {\n",
      "                    newflist <- list()\n",
      "                    num_pars <- length(LHS) - 1\n",
      "                    for (j in 1:num_pars) {\n",
      "                      newflist[[j]] <- flist[[i]]\n",
      "                      newflist[[j]][[2]] <- LHS[[j + 1]]\n",
      "                      pars_with_priors[[as.character(LHS[[j + \n",
      "                        1]])]] <- 1\n",
      "                    }\n",
      "                    flist[[i]] <- newflist\n",
      "                    flag_flatten <- TRUE\n",
      "                  }\n",
      "                  if (fname %in% link.names) {\n",
      "                    the.link <- as.character(LHS[[1]])\n",
      "                    flist[[i]][[2]] <- flist[[i]][[2]][[2]]\n",
      "                    the.invlink <- invlink.names[which(link.names == \n",
      "                      the.link)]\n",
      "                    old.RHS <- flist[[i]][[3]]\n",
      "                    flist[[i]][[3]] <- as.call(list(as.name(the.invlink), \n",
      "                      old.RHS))\n",
      "                  }\n",
      "                  if (fname == \"[\") {\n",
      "                    pars_with_priors[[deparse(LHS)]] <- 1\n",
      "                  }\n",
      "                }\n",
      "                else {\n",
      "                  stop(paste(\"Invalid prior specification:\", \n",
      "                    deparse(flist[[i]])))\n",
      "                }\n",
      "            }\n",
      "            else {\n",
      "                pars_with_priors[[as.character(LHS)]] <- 1\n",
      "            }\n",
      "        }\n",
      "        if (flag_flatten) \n",
      "            flist <- unlist(flist, recursive = FALSE)\n",
      "    }\n",
      "    if (debug) \n",
      "        print(flist)\n",
      "    flist2 <- lapply(flist, formula2text)\n",
      "    if (debug) \n",
      "        print(flist2)\n",
      "    links <- list()\n",
      "    if (length(flist2) > 1) {\n",
      "        for (i in length(flist2):2) {\n",
      "            if (class(flist2[[i]]) == \"list\") {\n",
      "                LHS <- flist2[[i]][[1]]\n",
      "                RHS <- flist2[[i]][[2]]\n",
      "                lik_save <- flist2[[1]]\n",
      "                flist2[[1]] <- mygrep(LHS, RHS, flist2[[1]], \n",
      "                  add.par = FALSE)\n",
      "                if (flist2[[1]] != lik_save) {\n",
      "                  links[[length(links) + 1]] <- flist2[[i]]\n",
      "                }\n",
      "                if (i > 2) {\n",
      "                  for (j in (i - 1):2) {\n",
      "                    if (class(flist2[[j]]) == \"list\") {\n",
      "                      flist2[[j]][[2]] <- mygrep(LHS, RHS, flist2[[j]][[2]], \n",
      "                        add.par = TRUE)\n",
      "                    }\n",
      "                    else {\n",
      "                      flist2[[j]] <- mygrep(LHS, RHS, flist2[[j]], \n",
      "                        add.par = FALSE)\n",
      "                    }\n",
      "                  }\n",
      "                }\n",
      "                pars_with_priors[[LHS]] <- NULL\n",
      "            }\n",
      "        }\n",
      "        flist3 <- list()\n"
     ]
    },
    {
     "name": "stdout",
     "output_type": "stream",
     "text": [
      "        j <- 1\n",
      "        for (i in 1:length(flist2)) {\n",
      "            if (class(flist2[[i]]) != \"list\") {\n",
      "                flist3[[j]] <- flist2[[i]]\n",
      "                j <- j + 1\n",
      "            }\n",
      "        }\n",
      "        flist2 <- flist3\n",
      "    }\n",
      "    flist.ll <- flist2[[1]]\n",
      "    if (debug) {\n",
      "        print(flist.ll)\n",
      "    }\n",
      "    if (debug) {\n",
      "        print(start)\n",
      "        print(pars_with_priors)\n",
      "    }\n",
      "    pars <- start\n",
      "    if (any(!(names(pars_with_priors) %in% names(pars)))) {\n",
      "        bad_pars <- names(pars_with_priors)[!(names(pars_with_priors) %in% \n",
      "            names(pars))]\n",
      "        if (verbose == TRUE) \n",
      "            message(paste(\"Sampling start values from priors for:\", \n",
      "                paste(bad_pars, collapse = \" \")))\n",
      "        for (k in bad_pars) {\n",
      "            if (k %in% names(data)) \n",
      "                next\n",
      "            for (g in 2:length(flist)) {\n",
      "                if (class(flist[[g]][[2]]) == \"call\") {\n",
      "                  the_par_with_index <- deparse(flist[[g]][[2]])\n",
      "                  the_par <- as.character(flist[[g]][[2]][[2]])\n",
      "                  the_index_or_var <- as.character(flist[[g]][[2]][[3]])\n",
      "                  if (the_par_with_index == k) {\n",
      "                    idx_num <- suppressWarnings(as.numeric(the_index_or_var))\n",
      "                    if (!is.na(idx_num)) {\n",
      "                      if (is.null(start[[the_par]])) {\n",
      "                        max_index <- 1\n",
      "                        for (h in 2:length(flist)) {\n",
      "                          if (class(flist[[h]][[2]]) == \"call\") {\n",
      "                            if (as.character(flist[[h]][[2]][[2]]) == \n",
      "                              \"[\" & as.character(flist[[h]][[2]][[3]]) == \n",
      "                              the_par) {\n",
      "                              nval <- suppressWarnings(as.numeric(flist[[h]][[2]][[3]]))\n",
      "                              if (!is.null(nval)) {\n",
      "                                max_index <- max(max_index, nval)\n",
      "                              }\n",
      "                            }\n",
      "                          }\n",
      "                        }\n",
      "                        start[[the_par]] <- rep(0, max_index)\n",
      "                        the_index <- as.numeric(flist[[g]][[2]][[3]])\n",
      "                        start[[the_par]][the_index] <- sample_from_prior(flist[[g]])\n",
      "                      }\n",
      "                      else {\n",
      "                        the_index <- as.numeric(flist[[g]][[2]][[3]])\n",
      "                        start[[the_par]][the_index] <- sample_from_prior(flist[[g]])\n",
      "                      }\n",
      "                    }\n",
      "                    if (is.na(idx_num)) {\n",
      "                      the_var <- as.character(flist[[g]][[2]][[3]])\n",
      "                      n_unique <- length(unique(data[[the_var]]))\n",
      "                      start[[the_par]] <- replicate(n_unique, \n",
      "                        sample_from_prior(flist[[g]]))\n",
      "                    }\n",
      "                  }\n",
      "                }\n",
      "                else {\n",
      "                  the_par <- paste(as.character(flist[[g]][[2]]), \n",
      "                    collapse = \"\")\n",
      "                  if (the_par == k) {\n",
      "                    f <- flist[[g]]\n",
      "                    theta <- sample_from_prior(f)\n",
      "                    start[[k]] <- theta\n",
      "                  }\n",
      "                }\n",
      "            }\n",
      "        }\n",
      "    }\n",
      "    if (verbose == TRUE) {\n",
      "        if (any(!(names(pars) %in% names(pars_with_priors)))) {\n",
      "            flat_pars <- names(pars)[!(names(pars) %in% names(pars_with_priors))]\n",
      "            message(paste(\"Using flat priors for:\", paste(flat_pars, \n",
      "                collapse = \" \")))\n",
      "        }\n",
      "    }\n",
      "    pars <- start\n",
      "    pars_flat <- list()\n",
      "    veclist <- list()\n",
      "    for (i in 1:length(pars)) {\n",
      "        n <- length(pars[[i]])\n",
      "        par_name <- names(pars)[i]\n",
      "        if (n == 1) {\n",
      "            pars_flat[[par_name]] <- pars[[i]]\n",
      "        }\n",
      "        else {\n",
      "            for (j in 1:n) {\n",
      "                new_name <- concat(par_name, idx_marker_string, \n",
      "                  j)\n",
      "                pars_flat[[new_name]] <- pars[[i]][j]\n",
      "            }\n",
      "            veclist[[par_name]] <- list(name = par_name, n = n)\n",
      "        }\n",
      "    }\n",
      "    pars <- pars_flat\n",
      "    if (debug == TRUE) {\n",
      "        print(\"trying optim now in list:\")\n",
      "        print(flist2)\n",
      "    }\n",
      "    fit <- list()\n",
      "    if (dofit == TRUE) {\n",
      "        fit <- try(suppressWarnings(optim(par = pars, fn = make_minuslogl, \n",
      "            flist = flist2, data = data, veclist = veclist, hessian = hessian, \n",
      "            method = method, ...)), silent = TRUE)\n",
      "        if (class(fit) == \"try-error\") {\n",
      "            msg <- attr(fit, \"condition\")$message\n",
      "            objnotfound <- grep(\"object '.*' not found\", msg)\n",
      "            if (length(objnotfound) > 0) {\n",
      "                obj_name <- regmatches(msg, gregexpr(\"'.*'\", \n",
      "                  msg))\n",
      "                out_msg <- paste(\"Cannot find \", obj_name, \".\\nIf this is a parameter, try defining a prior for it or providing a start value.\\nIf this is a variable, make sure it is in the data list.\", \n",
      "                  collapse = \"\", sep = \"\")\n",
      "                stop(out_msg)\n",
      "            }\n",
      "            objnotfound <- grep(\"initial value in 'vmmin' is not finite\", \n",
      "                msg)\n",
      "            if (length(objnotfound) > 0) {\n",
      "                out_msg <- paste(msg, \"\\nThe start values for the parameters were invalid. This could be caused by missing values (NA) in the data or by start values outside the parameter constraints. If there are no NA values in the data, try using explicit start values.\", \n",
      "                  collapse = \"\", sep = \"\")\n",
      "                stop(out_msg)\n",
      "            }\n",
      "            objnotfound <- grep(\"non-finite finite-difference value\", \n",
      "                msg)\n",
      "            if (length(objnotfound) > 0) {\n",
      "                out_msg <- paste(msg, \"\\nStart values for parameters may be too far from MAP.\\nTry better priors or use explicit start values.\\nIf you sampled random start values, just trying again may work.\\nStart values used in this attempt:\\n\", \n",
      "                  paste(names(start), \"=\", start, collapse = \"\\n\"), \n",
      "                  collapse = \"\", sep = \"\")\n",
      "                stop(out_msg)\n",
      "            }\n",
      "            stop(msg)\n",
      "        }\n",
      "    }\n",
      "    if (hessian & dofit) {\n",
      "        vcov <- try(solve(fit$hessian))\n",
      "        if (class(vcov)[1] == \"try-error\") {\n",
      "            warning(\"Error when computing variance-covariance matrix (Hessian). Fit may not be reliable.\")\n",
      "            vcov <- matrix(NA, nrow = length(pars), ncol = length(pars))\n",
      "        }\n",
      "    }\n",
      "    else {\n",
      "        vcov <- matrix(NA, nrow = length(pars), ncol = length(pars))\n",
      "    }\n",
      "    fmll <- function() return(NULL)\n",
      "    if (dofit == TRUE) {\n",
      "        fit$minuslogl <- make_minuslogl(fit$par, flist = flist.ll, \n",
      "            data = data, veclist = veclist)\n",
      "        fmll <- function(pars) make_minuslogl(pars, flist = flist.ll, \n",
      "            data = data, veclist = veclist)\n",
      "    }\n",
      "    coefs <- 0\n",
      "    if (dofit == TRUE) {\n",
      "        coefs <- fit$par\n",
      "        for (i in 1:length(coefs)) {\n",
      "            a_split <- strsplit(names(coefs)[i], idx_marker_string)[[1]]\n",
      "            if (length(a_split) > 1) {\n",
      "                new_name <- concat(a_split[1], \"[\", a_split[2], \n",
      "                  \"]\")\n",
      "                names(coefs)[i] <- new_name\n",
      "            }\n",
      "        }\n",
      "    }\n",
      "    m <- new(\"map\", call = match.call(), coef = coefs, vcov = vcov, \n",
      "        optim = fit, data = as.list(data), start = start, formula = flist.orig, \n",
      "        formula_parsed = flist2, fminuslogl = fmll, links = links)\n",
      "    attr(m, \"formula_exploded\") <- flist\n",
      "    attr(m, \"df\") <- length(m@coef)\n",
      "    attr(m, \"veclist\") <- veclist\n",
      "    if (!missing(data)) \n",
      "        attr(m, \"nobs\") = length(data[[1]])\n",
      "    if (dofit == TRUE) \n",
      "        xcheckconvergence(m)\n",
      "    m\n",
      "}\n",
      "<bytecode: 0x7fe14c4660e8>\n",
      "<environment: namespace:rethinking>\n"
     ]
    },
    {
     "data": {
      "application/javascript": [
       "\n",
       "            setTimeout(function() {\n",
       "                var nbb_cell_id = 62;\n",
       "                var nbb_unformatted_code = \"%%R\\n\\nquap\";\n",
       "                var nbb_formatted_code = \"%%R\\n\\nquap\";\n",
       "                var nbb_cells = Jupyter.notebook.get_cells();\n",
       "                for (var i = 0; i < nbb_cells.length; ++i) {\n",
       "                    if (nbb_cells[i].input_prompt_number == nbb_cell_id) {\n",
       "                        if (nbb_cells[i].get_text() == nbb_unformatted_code) {\n",
       "                             nbb_cells[i].set_text(nbb_formatted_code);\n",
       "                        }\n",
       "                        break;\n",
       "                    }\n",
       "                }\n",
       "            }, 500);\n",
       "            "
      ],
      "text/plain": [
       "<IPython.core.display.Javascript object>"
      ]
     },
     "metadata": {},
     "output_type": "display_data"
    }
   ],
   "source": [
    "%%R\n",
    "# Look at the function to see how we'd use it in Python\n",
    "quap"
   ]
  },
  {
   "cell_type": "markdown",
   "id": "practical-cuisine",
   "metadata": {},
   "source": [
    "## Python\n",
    "\n",
    "Code taken from [here](https://github.com/pymc-devs/resources/blob/master/Rethinking_2/Chp_02.ipynb). Some questions I had, such as about \"Hessian\", were partially addressed [here](https://gitter.im/Statistical-Rethinking-with-Python-and-PyMC3/Lobby?at=5d9e00d1874aeb2d2317efd3) and then addressed later in the book.\n",
    "\n",
    "*A Hessian is a square matrix of second derivatives.... in the quadratic approximation it is second derivatives of the log of posterior probability with respect ot the parameters. it turns out these derivatives are sufficient to describe a Gaussian distribution, becaues the logarithm of a Gaussian distribution is just a parabola. Parabolas have no derivatives beyond the second, so once we know the center of the parabola (the posterior mode) and its second derivative, we know everything about it. And indeed the second derivative (with respect to the outcome) of the logarithm of a Gaussian distribution is **proportional to its inverse squared standard deviation** (its \"precision\", page 76). So knowing the standard deviation tells us everything about its shape... for now it's enough to recognize the term and associate it with an attempt to find the standard deviation for a quadratic approximation.*\n",
    "\n",
    "The code took ~30 sec to run."
   ]
  },
  {
   "cell_type": "code",
   "execution_count": 59,
   "id": "touched-spectacular",
   "metadata": {
    "ExecuteTime": {
     "end_time": "2021-02-10T00:12:31.800581Z",
     "start_time": "2021-02-10T00:12:31.791505Z"
    }
   },
   "outputs": [
    {
     "data": {
      "text/plain": [
       "array([0, 0, 0, 1, 1, 1, 1, 1, 1])"
      ]
     },
     "execution_count": 59,
     "metadata": {},
     "output_type": "execute_result"
    },
    {
     "data": {
      "application/javascript": [
       "\n",
       "            setTimeout(function() {\n",
       "                var nbb_cell_id = 59;\n",
       "                var nbb_unformatted_code = \"# data is just meant to represent the 6 water and 3 land in the globe toss\\ndata = np.repeat((0, 1), (3, 6))\\ndata\";\n",
       "                var nbb_formatted_code = \"# data is just meant to represent the 6 water and 3 land in the globe toss\\ndata = np.repeat((0, 1), (3, 6))\\ndata\";\n",
       "                var nbb_cells = Jupyter.notebook.get_cells();\n",
       "                for (var i = 0; i < nbb_cells.length; ++i) {\n",
       "                    if (nbb_cells[i].input_prompt_number == nbb_cell_id) {\n",
       "                        if (nbb_cells[i].get_text() == nbb_unformatted_code) {\n",
       "                             nbb_cells[i].set_text(nbb_formatted_code);\n",
       "                        }\n",
       "                        break;\n",
       "                    }\n",
       "                }\n",
       "            }, 500);\n",
       "            "
      ],
      "text/plain": [
       "<IPython.core.display.Javascript object>"
      ]
     },
     "metadata": {},
     "output_type": "display_data"
    }
   ],
   "source": [
    "# data is just meant to represent the 6 water and 3 land in the globe toss\n",
    "data = np.repeat((0, 1), (3, 6))\n",
    "data"
   ]
  },
  {
   "cell_type": "code",
   "execution_count": 60,
   "id": "tired-campaign",
   "metadata": {
    "ExecuteTime": {
     "end_time": "2021-02-10T01:54:30.041342Z",
     "start_time": "2021-02-10T01:54:29.973807Z"
    }
   },
   "outputs": [
    {
     "data": {
      "text/html": [
       "\n",
       "    <div>\n",
       "        <style>\n",
       "            /* Turns off some styling */\n",
       "            progress {\n",
       "                /* gets rid of default border in Firefox and Opera. */\n",
       "                border: none;\n",
       "                /* Needs to be in here for Safari polyfill so background images work as expected. */\n",
       "                background-size: auto;\n",
       "            }\n",
       "            .progress-bar-interrupted, .progress-bar-interrupted::-webkit-progress-bar {\n",
       "                background: #F44336;\n",
       "            }\n",
       "        </style>\n",
       "      <progress value='6' class='' max='6' style='width:300px; height:20px; vertical-align: middle;'></progress>\n",
       "      100.00% [6/6 00:00<00:00 logp = -1.8075, ||grad|| = 1.5]\n",
       "    </div>\n",
       "    "
      ],
      "text/plain": [
       "<IPython.core.display.HTML object>"
      ]
     },
     "metadata": {},
     "output_type": "display_data"
    },
    {
     "name": "stdout",
     "output_type": "stream",
     "text": [
      "\n",
      "  Mean, Standard deviation\n",
      "p 0.67, 0.16\n"
     ]
    },
    {
     "data": {
      "application/javascript": [
       "\n",
       "            setTimeout(function() {\n",
       "                var nbb_cell_id = 60;\n",
       "                var nbb_unformatted_code = \"with pm.Model() as normal_approximation:\\n    p = pm.Uniform(\\\"p\\\", 0, 1)  # uniform priors\\n    w = pm.Binomial(\\\"w\\\", n=len(data), p=p, observed=data.sum())  # binomial likelihood\\n    mean_q = pm.find_MAP()\\n    std_q = ((1 / pm.find_hessian(mean_q, vars=[p])) ** 0.5)[0]\\n\\n# display summary of quadratic approximation\\nprint(\\\"  Mean, Standard deviation\\\\np {:.2}, {:.2}\\\".format(mean_q[\\\"p\\\"], std_q[0]))\";\n",
       "                var nbb_formatted_code = \"with pm.Model() as normal_approximation:\\n    p = pm.Uniform(\\\"p\\\", 0, 1)  # uniform priors\\n    w = pm.Binomial(\\\"w\\\", n=len(data), p=p, observed=data.sum())  # binomial likelihood\\n    mean_q = pm.find_MAP()\\n    std_q = ((1 / pm.find_hessian(mean_q, vars=[p])) ** 0.5)[0]\\n\\n# display summary of quadratic approximation\\nprint(\\\"  Mean, Standard deviation\\\\np {:.2}, {:.2}\\\".format(mean_q[\\\"p\\\"], std_q[0]))\";\n",
       "                var nbb_cells = Jupyter.notebook.get_cells();\n",
       "                for (var i = 0; i < nbb_cells.length; ++i) {\n",
       "                    if (nbb_cells[i].input_prompt_number == nbb_cell_id) {\n",
       "                        if (nbb_cells[i].get_text() == nbb_unformatted_code) {\n",
       "                             nbb_cells[i].set_text(nbb_formatted_code);\n",
       "                        }\n",
       "                        break;\n",
       "                    }\n",
       "                }\n",
       "            }, 500);\n",
       "            "
      ],
      "text/plain": [
       "<IPython.core.display.Javascript object>"
      ]
     },
     "metadata": {},
     "output_type": "display_data"
    }
   ],
   "source": [
    "with pm.Model() as normal_approximation:\n",
    "    p = pm.Uniform(\"p\", 0, 1)  # uniform priors\n",
    "    w = pm.Binomial(\"w\", n=len(data), p=p, observed=data.sum())  # binomial likelihood\n",
    "    mean_q = pm.find_MAP()\n",
    "    std_q = ((1 / pm.find_hessian(mean_q, vars=[p])) ** 0.5)[0]\n",
    "\n",
    "# display summary of quadratic approximation\n",
    "print(\"  Mean, Standard deviation\\np {:.2}, {:.2}\".format(mean_q[\"p\"], std_q[0]))"
   ]
  },
  {
   "cell_type": "markdown",
   "id": "proved-description",
   "metadata": {},
   "source": [
    "To get the 89% percentile interval."
   ]
  },
  {
   "cell_type": "code",
   "execution_count": 63,
   "id": "stretch-alloy",
   "metadata": {
    "ExecuteTime": {
     "end_time": "2021-02-10T00:20:45.996703Z",
     "start_time": "2021-02-10T00:20:45.991264Z"
    }
   },
   "outputs": [
    {
     "data": {
      "text/plain": [
       "{'p_interval__': array(0.69314718), 'p': array(0.66666667)}"
      ]
     },
     "execution_count": 63,
     "metadata": {},
     "output_type": "execute_result"
    },
    {
     "data": {
      "application/javascript": [
       "\n",
       "            setTimeout(function() {\n",
       "                var nbb_cell_id = 63;\n",
       "                var nbb_unformatted_code = \"mean_q\";\n",
       "                var nbb_formatted_code = \"mean_q\";\n",
       "                var nbb_cells = Jupyter.notebook.get_cells();\n",
       "                for (var i = 0; i < nbb_cells.length; ++i) {\n",
       "                    if (nbb_cells[i].input_prompt_number == nbb_cell_id) {\n",
       "                        if (nbb_cells[i].get_text() == nbb_unformatted_code) {\n",
       "                             nbb_cells[i].set_text(nbb_formatted_code);\n",
       "                        }\n",
       "                        break;\n",
       "                    }\n",
       "                }\n",
       "            }, 500);\n",
       "            "
      ],
      "text/plain": [
       "<IPython.core.display.Javascript object>"
      ]
     },
     "metadata": {},
     "output_type": "display_data"
    }
   ],
   "source": [
    "mean_q"
   ]
  },
  {
   "cell_type": "code",
   "execution_count": 64,
   "id": "handmade-brave",
   "metadata": {
    "ExecuteTime": {
     "end_time": "2021-02-10T01:55:09.541757Z",
     "start_time": "2021-02-10T01:55:09.202104Z"
    }
   },
   "outputs": [
    {
     "data": {
      "text/plain": [
       "array([0.15713484])"
      ]
     },
     "execution_count": 64,
     "metadata": {},
     "output_type": "execute_result"
    },
    {
     "data": {
      "application/javascript": [
       "\n",
       "            setTimeout(function() {\n",
       "                var nbb_cell_id = 64;\n",
       "                var nbb_unformatted_code = \"std_q\";\n",
       "                var nbb_formatted_code = \"std_q\";\n",
       "                var nbb_cells = Jupyter.notebook.get_cells();\n",
       "                for (var i = 0; i < nbb_cells.length; ++i) {\n",
       "                    if (nbb_cells[i].input_prompt_number == nbb_cell_id) {\n",
       "                        if (nbb_cells[i].get_text() == nbb_unformatted_code) {\n",
       "                             nbb_cells[i].set_text(nbb_formatted_code);\n",
       "                        }\n",
       "                        break;\n",
       "                    }\n",
       "                }\n",
       "            }, 500);\n",
       "            "
      ],
      "text/plain": [
       "<IPython.core.display.Javascript object>"
      ]
     },
     "metadata": {},
     "output_type": "display_data"
    }
   ],
   "source": [
    "std_q"
   ]
  },
  {
   "cell_type": "code",
   "execution_count": 69,
   "id": "graduate-collection",
   "metadata": {
    "ExecuteTime": {
     "end_time": "2021-02-10T00:44:25.280717Z",
     "start_time": "2021-02-10T00:44:25.268517Z"
    }
   },
   "outputs": [
    {
     "name": "stdout",
     "output_type": "stream",
     "text": [
      "5.5%, 94.5% \n",
      "0.42, 0.92\n"
     ]
    },
    {
     "data": {
      "application/javascript": [
       "\n",
       "            setTimeout(function() {\n",
       "                var nbb_cell_id = 69;\n",
       "                var nbb_unformatted_code = \"# Compute the 89% percentile interval\\nnorm = stats.norm(mean_q, std_q)\\nprob = 0.89\\nz = stats.norm.ppf([(1 - prob) / 2, (1 + prob) / 2])\\npi = mean_q[\\\"p\\\"] + std_q * z\\nprint(\\\"5.5%, 94.5% \\\\n{:.2}, {:.2}\\\".format(pi[0], pi[1]))\";\n",
       "                var nbb_formatted_code = \"# Compute the 89% percentile interval\\nnorm = stats.norm(mean_q, std_q)\\nprob = 0.89\\nz = stats.norm.ppf([(1 - prob) / 2, (1 + prob) / 2])\\npi = mean_q[\\\"p\\\"] + std_q * z\\nprint(\\\"5.5%, 94.5% \\\\n{:.2}, {:.2}\\\".format(pi[0], pi[1]))\";\n",
       "                var nbb_cells = Jupyter.notebook.get_cells();\n",
       "                for (var i = 0; i < nbb_cells.length; ++i) {\n",
       "                    if (nbb_cells[i].input_prompt_number == nbb_cell_id) {\n",
       "                        if (nbb_cells[i].get_text() == nbb_unformatted_code) {\n",
       "                             nbb_cells[i].set_text(nbb_formatted_code);\n",
       "                        }\n",
       "                        break;\n",
       "                    }\n",
       "                }\n",
       "            }, 500);\n",
       "            "
      ],
      "text/plain": [
       "<IPython.core.display.Javascript object>"
      ]
     },
     "metadata": {},
     "output_type": "display_data"
    }
   ],
   "source": [
    "# Compute the 89% percentile interval\n",
    "norm = stats.norm(mean_q, std_q)\n",
    "prob = 0.89\n",
    "z = stats.norm.ppf([(1 - prob) / 2, (1 + prob) / 2])\n",
    "pi = mean_q[\"p\"] + std_q * z\n",
    "print(\"5.5%, 94.5% \\n{:.2}, {:.2}\".format(pi[0], pi[1]))"
   ]
  },
  {
   "cell_type": "markdown",
   "id": "rural-thought",
   "metadata": {},
   "source": [
    "# Code 2.7\n",
    "\n",
    "Analytical calculation uses `dbeta` [(beta distribution)](https://stat.ethz.ch/R-manual/R-devel/library/stats/html/Beta.html). In the book, he says he \"won't explain the calculation here\" but the explanation and derivation is found in many books on Bayesian inference."
   ]
  },
  {
   "cell_type": "markdown",
   "id": "beginning-period",
   "metadata": {},
   "source": [
    "## R"
   ]
  },
  {
   "cell_type": "code",
   "execution_count": 66,
   "id": "polyphonic-lodge",
   "metadata": {
    "ExecuteTime": {
     "end_time": "2021-02-10T01:54:22.114947Z",
     "start_time": "2021-02-10T01:54:22.028464Z"
    }
   },
   "outputs": [
    {
     "data": {
      "image/png": "[encoded data removed]"
     },
     "metadata": {},
     "output_type": "display_data"
    },
    {
     "data": {
      "application/javascript": [
       "\n",
       "            setTimeout(function() {\n",
       "                var nbb_cell_id = 66;\n",
       "                var nbb_unformatted_code = \"%%R\\n\\n# analytical calculation\\nW <- 6\\nL <- 3\\ncurve( dbeta( x , W+1 , L+1 ) , from=0 , to=1 ) # quadratic approximation\\ncurve( dnorm( x , 0.67 , 0.16 ) , lty=2 , add=TRUE )\";\n",
       "                var nbb_formatted_code = \"%%R\\n\\n# analytical calculation\\nW <- 6\\nL <- 3\\ncurve( dbeta( x , W+1 , L+1 ) , from=0 , to=1 ) # quadratic approximation\\ncurve( dnorm( x , 0.67 , 0.16 ) , lty=2 , add=TRUE )\";\n",
       "                var nbb_cells = Jupyter.notebook.get_cells();\n",
       "                for (var i = 0; i < nbb_cells.length; ++i) {\n",
       "                    if (nbb_cells[i].input_prompt_number == nbb_cell_id) {\n",
       "                        if (nbb_cells[i].get_text() == nbb_unformatted_code) {\n",
       "                             nbb_cells[i].set_text(nbb_formatted_code);\n",
       "                        }\n",
       "                        break;\n",
       "                    }\n",
       "                }\n",
       "            }, 500);\n",
       "            "
      ],
      "text/plain": [
       "<IPython.core.display.Javascript object>"
      ]
     },
     "metadata": {},
     "output_type": "display_data"
    }
   ],
   "source": [
    "%%R\n",
    "\n",
    "# analytical calculation\n",
    "W <- 6\n",
    "L <- 3\n",
    "curve( dbeta( x , W+1 , L+1 ) , from=0 , to=1 ) # quadratic approximation\n",
    "curve( dnorm( x , 0.67 , 0.16 ) , lty=2 , add=TRUE )"
   ]
  },
  {
   "cell_type": "markdown",
   "id": "integral-nashville",
   "metadata": {},
   "source": [
    "## Python"
   ]
  },
  {
   "cell_type": "code",
   "execution_count": 67,
   "id": "twelve-munich",
   "metadata": {
    "ExecuteTime": {
     "end_time": "2021-02-10T01:54:30.041342Z",
     "start_time": "2021-02-10T01:54:29.973807Z"
    }
   },
   "outputs": [
    {
     "data": {
      "image/png": "[encoded data removed]",
      "text/plain": [
       "<Figure size 720x480 with 1 Axes>"
      ]
     },
     "metadata": {
      "image/png": {
       "height": 491,
       "width": 731
      }
     },
     "output_type": "display_data"
    },
    {
     "data": {
      "application/javascript": [
       "\n",
       "            setTimeout(function() {\n",
       "                var nbb_cell_id = 67;\n",
       "                var nbb_unformatted_code = \"# analytical calculation\\nw, n = 6, 9\\nx = np.linspace(0, 1, 100)\\nplt.plot(x, stats.beta.pdf(x, w + 1, n - w + 1), label=\\\"True posterior\\\")\\n\\n# quadratic approximation\\nplt.plot(x, stats.norm.pdf(x, mean_q[\\\"p\\\"], std_q), label=\\\"Quadratic approximation\\\")\\nplt.legend(loc=0)\\n\\nplt.title(f\\\"n = {n}\\\")\\nplt.xlabel(\\\"Proportion water\\\");\";\n",
       "                var nbb_formatted_code = \"# analytical calculation\\nw, n = 6, 9\\nx = np.linspace(0, 1, 100)\\nplt.plot(x, stats.beta.pdf(x, w + 1, n - w + 1), label=\\\"True posterior\\\")\\n\\n# quadratic approximation\\nplt.plot(x, stats.norm.pdf(x, mean_q[\\\"p\\\"], std_q), label=\\\"Quadratic approximation\\\")\\nplt.legend(loc=0)\\n\\nplt.title(f\\\"n = {n}\\\")\\nplt.xlabel(\\\"Proportion water\\\")\";\n",
       "                var nbb_cells = Jupyter.notebook.get_cells();\n",
       "                for (var i = 0; i < nbb_cells.length; ++i) {\n",
       "                    if (nbb_cells[i].input_prompt_number == nbb_cell_id) {\n",
       "                        if (nbb_cells[i].get_text() == nbb_unformatted_code) {\n",
       "                             nbb_cells[i].set_text(nbb_formatted_code);\n",
       "                        }\n",
       "                        break;\n",
       "                    }\n",
       "                }\n",
       "            }, 500);\n",
       "            "
      ],
      "text/plain": [
       "<IPython.core.display.Javascript object>"
      ]
     },
     "metadata": {},
     "output_type": "display_data"
    }
   ],
   "source": [
    "# analytical calculation\n",
    "w, n = 6, 9\n",
    "x = np.linspace(0, 1, 100)\n",
    "plt.plot(x, stats.beta.pdf(x, w + 1, n - w + 1), label=\"True posterior\")\n",
    "\n",
    "# quadratic approximation\n",
    "plt.plot(x, stats.norm.pdf(x, mean_q[\"p\"], std_q), label=\"Quadratic approximation\")\n",
    "plt.legend(loc=0)\n",
    "\n",
    "plt.title(f\"n = {n}\")\n",
    "plt.xlabel(\"Proportion water\")"
   ]
  },
  {
   "cell_type": "markdown",
   "id": "limiting-corporation",
   "metadata": {},
   "source": [
    "# Code 2.8\n",
    "\n",
    "This code applies **Markov chain Monte Carlo**. Why do we have another approach for computing the posterior? Neither grid approximation nor quadratic approximation is satisfactory for many important model types, such as mixed-effects models. These models may have hundreds or thousands of parameters and the other methods fail for different reasons. Furthermore, multilevel models do not allow us to write down a single, unified function for the posterior distribution. It means that the function to maximize (when finding MAP) is not known, but must be computed in pieces.\n",
    "\n",
    "Markov chain Monte Carlo (MCMC) is a family of \"conditioning engines capable of handling highly complex models.\" More will be covered in chapter 9. The conceptual challenge with MCMC lies in its highly non-obvious strategy. Instead of atttempting to compute or approximate the posterior distribution directly, MCMC techniques merely draw samples from the posterior. We end up with a collection of paramter values, and the frequencies of these values correspond to the posterior plausibilities. You can then build a picture of the posterior from the histogram of these samples.\n",
    "\n",
    "We nearly always work directly with these samples, rather than first constructing some mathematical estimate from them. It can be more convenient than having the posterior.\n",
    "\n",
    "Below are examples of Monte Carlo globe tossing to see MCMC in action."
   ]
  },
  {
   "cell_type": "markdown",
   "id": "hydraulic-intersection",
   "metadata": {},
   "source": [
    "## R"
   ]
  },
  {
   "cell_type": "code",
   "execution_count": 107,
   "id": "cutting-summary",
   "metadata": {
    "ExecuteTime": {
     "end_time": "2021-02-10T01:54:20.606712Z",
     "start_time": "2021-02-10T01:54:20.599121Z"
    }
   },
   "outputs": [
    {
     "data": {
      "application/javascript": [
       "\n",
       "            setTimeout(function() {\n",
       "                var nbb_cell_id = 107;\n",
       "                var nbb_unformatted_code = \"%%R\\n\\n# Made sample size smaller to better understand\\nn_samples <- 50\\np <- rep( NA , n_samples )\\np[1] <- 0.5\\nW <- 6\\nL <- 3\";\n",
       "                var nbb_formatted_code = \"%%R\\n\\n# Made sample size smaller to better understand\\nn_samples <- 50\\np <- rep( NA , n_samples )\\np[1] <- 0.5\\nW <- 6\\nL <- 3\";\n",
       "                var nbb_cells = Jupyter.notebook.get_cells();\n",
       "                for (var i = 0; i < nbb_cells.length; ++i) {\n",
       "                    if (nbb_cells[i].input_prompt_number == nbb_cell_id) {\n",
       "                        if (nbb_cells[i].get_text() == nbb_unformatted_code) {\n",
       "                             nbb_cells[i].set_text(nbb_formatted_code);\n",
       "                        }\n",
       "                        break;\n",
       "                    }\n",
       "                }\n",
       "            }, 500);\n",
       "            "
      ],
      "text/plain": [
       "<IPython.core.display.Javascript object>"
      ]
     },
     "metadata": {},
     "output_type": "display_data"
    }
   ],
   "source": [
    "%%R\n",
    "\n",
    "# Made sample size smaller to better understand\n",
    "n_samples <- 50\n",
    "p <- rep( NA , n_samples )\n",
    "p[1] <- 0.5\n",
    "W <- 6\n",
    "L <- 3"
   ]
  },
  {
   "cell_type": "code",
   "execution_count": 108,
   "id": "korean-administration",
   "metadata": {
    "ExecuteTime": {
     "end_time": "2021-02-10T01:54:21.139640Z",
     "start_time": "2021-02-10T01:54:21.118065Z"
    }
   },
   "outputs": [
    {
     "name": "stdout",
     "output_type": "stream",
     "text": [
      " [1] 0.5  NA  NA  NA  NA  NA  NA  NA  NA  NA  NA  NA  NA  NA  NA  NA  NA  NA  NA\n",
      "[20]  NA\n"
     ]
    },
    {
     "data": {
      "application/javascript": [
       "\n",
       "            setTimeout(function() {\n",
       "                var nbb_cell_id = 108;\n",
       "                var nbb_unformatted_code = \"%%R\\n\\np[1:20]\";\n",
       "                var nbb_formatted_code = \"%%R\\n\\np[1:20]\";\n",
       "                var nbb_cells = Jupyter.notebook.get_cells();\n",
       "                for (var i = 0; i < nbb_cells.length; ++i) {\n",
       "                    if (nbb_cells[i].input_prompt_number == nbb_cell_id) {\n",
       "                        if (nbb_cells[i].get_text() == nbb_unformatted_code) {\n",
       "                             nbb_cells[i].set_text(nbb_formatted_code);\n",
       "                        }\n",
       "                        break;\n",
       "                    }\n",
       "                }\n",
       "            }, 500);\n",
       "            "
      ],
      "text/plain": [
       "<IPython.core.display.Javascript object>"
      ]
     },
     "metadata": {},
     "output_type": "display_data"
    }
   ],
   "source": [
    "%%R\n",
    "\n",
    "p[1:20]"
   ]
  },
  {
   "cell_type": "code",
   "execution_count": 109,
   "id": "statistical-vintage",
   "metadata": {
    "ExecuteTime": {
     "end_time": "2021-02-10T01:54:22.114947Z",
     "start_time": "2021-02-10T01:54:22.028464Z"
    }
   },
   "outputs": [
    {
     "name": "stdout",
     "output_type": "stream",
     "text": [
      "[1] 0.5088657\n",
      "[1] 0.5866199\n",
      "[1] 0.562784\n",
      "[1] 0.5624411\n",
      "[1] 0.5879541\n",
      "[1] 0.5378984\n",
      "[1] 0.5477517\n",
      "[1] 0.4703711\n",
      "[1] 0.5852198\n",
      "[1] 0.7447407\n",
      "[1] 0.6899854\n",
      "[1] 0.626594\n",
      "[1] 0.3741275\n",
      "[1] 0.4987587\n",
      "[1] 0.571472\n",
      "[1] 0.6113118\n",
      "[1] 0.6337952\n",
      "[1] 0.4150658\n",
      "[1] 0.3346327\n",
      "[1] 0.5082949\n",
      "[1] 0.5764236\n",
      "[1] 0.5738398\n",
      "[1] 0.3720266\n",
      "[1] 0.6531466\n",
      "[1] 0.7164583\n",
      "[1] 0.6824323\n",
      "[1] 0.6440177\n",
      "[1] 0.7036128\n",
      "[1] 0.513431\n",
      "[1] 0.7645194\n",
      "[1] 0.9629231\n",
      "[1] 0.6623116\n",
      "[1] 0.6908285\n",
      "[1] 0.7658939\n",
      "[1] 0.6584621\n",
      "[1] 0.467262\n",
      "[1] 0.5429099\n",
      "[1] 0.3641439\n",
      "[1] 0.2861942\n",
      "[1] 0.3989122\n",
      "[1] 0.2672934\n",
      "[1] 0.2922992\n",
      "[1] 0.3964378\n",
      "[1] 0.2085051\n",
      "[1] 0.3021274\n",
      "[1] 0.446845\n",
      "[1] 0.5245781\n",
      "[1] 0.2873093\n",
      "[1] 0.4381571\n"
     ]
    },
    {
     "data": {
      "application/javascript": [
       "\n",
       "            setTimeout(function() {\n",
       "                var nbb_cell_id = 109;\n",
       "                var nbb_unformatted_code = \"%%R\\nfor ( i in 2:n_samples ) {\\n    # Draw a single number, with mean of the previous number and SD of 0.1\\n    p_new <- rnorm( 1 , p[i-1] , 0.1 )\\n    print(p_new)\\n    \\n    # These look like ways to keep it bound to 0 and 1\\n    if ( p_new < 0 ) p_new <- abs( p_new )\\n    if ( p_new > 1 ) p_new <- 2 - p_new\\n    \\n    # Then use the binomial distribution\\n    q0 <- dbinom( W , W+L , p[i-1] )\\n    q1 <- dbinom( W , W+L , p_new )\\n    \\n    # runif generates random deviates of the uniform distribution\\n    p[i] <- ifelse( runif(1) < q1/q0 , p_new , p[i-1] )     # This progressively grows the length of p\\n    }\";\n",
       "                var nbb_formatted_code = \"%%R\\nfor ( i in 2:n_samples ) {\\n    # Draw a single number, with mean of the previous number and SD of 0.1\\n    p_new <- rnorm( 1 , p[i-1] , 0.1 )\\n    print(p_new)\\n    \\n    # These look like ways to keep it bound to 0 and 1\\n    if ( p_new < 0 ) p_new <- abs( p_new )\\n    if ( p_new > 1 ) p_new <- 2 - p_new\\n    \\n    # Then use the binomial distribution\\n    q0 <- dbinom( W , W+L , p[i-1] )\\n    q1 <- dbinom( W , W+L , p_new )\\n    \\n    # runif generates random deviates of the uniform distribution\\n    p[i] <- ifelse( runif(1) < q1/q0 , p_new , p[i-1] )     # This progressively grows the length of p\\n    }\";\n",
       "                var nbb_cells = Jupyter.notebook.get_cells();\n",
       "                for (var i = 0; i < nbb_cells.length; ++i) {\n",
       "                    if (nbb_cells[i].input_prompt_number == nbb_cell_id) {\n",
       "                        if (nbb_cells[i].get_text() == nbb_unformatted_code) {\n",
       "                             nbb_cells[i].set_text(nbb_formatted_code);\n",
       "                        }\n",
       "                        break;\n",
       "                    }\n",
       "                }\n",
       "            }, 500);\n",
       "            "
      ],
      "text/plain": [
       "<IPython.core.display.Javascript object>"
      ]
     },
     "metadata": {},
     "output_type": "display_data"
    }
   ],
   "source": [
    "%%R\n",
    "for ( i in 2:n_samples ) {\n",
    "    # Draw a single number, with mean of the previous number and SD of 0.1\n",
    "    p_new <- rnorm( 1 , p[i-1] , 0.1 )\n",
    "    print(p_new)\n",
    "    \n",
    "    # These look like ways to keep it bound to 0 and 1\n",
    "    if ( p_new < 0 ) p_new <- abs( p_new )\n",
    "    if ( p_new > 1 ) p_new <- 2 - p_new\n",
    "    \n",
    "    # Then use the binomial distribution\n",
    "    q0 <- dbinom( W , W+L , p[i-1] )\n",
    "    q1 <- dbinom( W , W+L , p_new )\n",
    "    \n",
    "    # runif generates random deviates of the uniform distribution\n",
    "    p[i] <- ifelse( runif(1) < q1/q0 , p_new , p[i-1] )     # This progressively grows the length of p\n",
    "    }"
   ]
  },
  {
   "cell_type": "code",
   "execution_count": 110,
   "id": "suited-dressing",
   "metadata": {
    "ExecuteTime": {
     "end_time": "2021-02-10T01:54:24.696042Z",
     "start_time": "2021-02-10T01:54:24.685032Z"
    }
   },
   "outputs": [
    {
     "name": "stdout",
     "output_type": "stream",
     "text": [
      "[1] 0.4381571\n"
     ]
    },
    {
     "data": {
      "application/javascript": [
       "\n",
       "            setTimeout(function() {\n",
       "                var nbb_cell_id = 110;\n",
       "                var nbb_unformatted_code = \"%%R\\n\\np_new\";\n",
       "                var nbb_formatted_code = \"%%R\\n\\np_new\";\n",
       "                var nbb_cells = Jupyter.notebook.get_cells();\n",
       "                for (var i = 0; i < nbb_cells.length; ++i) {\n",
       "                    if (nbb_cells[i].input_prompt_number == nbb_cell_id) {\n",
       "                        if (nbb_cells[i].get_text() == nbb_unformatted_code) {\n",
       "                             nbb_cells[i].set_text(nbb_formatted_code);\n",
       "                        }\n",
       "                        break;\n",
       "                    }\n",
       "                }\n",
       "            }, 500);\n",
       "            "
      ],
      "text/plain": [
       "<IPython.core.display.Javascript object>"
      ]
     },
     "metadata": {},
     "output_type": "display_data"
    }
   ],
   "source": [
    "%%R\n",
    "\n",
    "p_new"
   ]
  },
  {
   "cell_type": "code",
   "execution_count": 111,
   "id": "abandoned-criticism",
   "metadata": {
    "ExecuteTime": {
     "end_time": "2021-02-10T01:54:25.497589Z",
     "start_time": "2021-02-10T01:54:25.470389Z"
    }
   },
   "outputs": [
    {
     "data": {
      "image/png": "[encoded data removed]"
     },
     "metadata": {},
     "output_type": "display_data"
    },
    {
     "data": {
      "application/javascript": [
       "\n",
       "            setTimeout(function() {\n",
       "                var nbb_cell_id = 111;\n",
       "                var nbb_unformatted_code = \"%%R\\n\\ndens( p, xlim=c(0, 1) )\\ncurve( dbeta( x, W+1, L+1 ), lty=2, add=TRUE)\";\n",
       "                var nbb_formatted_code = \"%%R\\n\\ndens( p, xlim=c(0, 1) )\\ncurve( dbeta( x, W+1, L+1 ), lty=2, add=TRUE)\";\n",
       "                var nbb_cells = Jupyter.notebook.get_cells();\n",
       "                for (var i = 0; i < nbb_cells.length; ++i) {\n",
       "                    if (nbb_cells[i].input_prompt_number == nbb_cell_id) {\n",
       "                        if (nbb_cells[i].get_text() == nbb_unformatted_code) {\n",
       "                             nbb_cells[i].set_text(nbb_formatted_code);\n",
       "                        }\n",
       "                        break;\n",
       "                    }\n",
       "                }\n",
       "            }, 500);\n",
       "            "
      ],
      "text/plain": [
       "<IPython.core.display.Javascript object>"
      ]
     },
     "metadata": {},
     "output_type": "display_data"
    }
   ],
   "source": [
    "%%R\n",
    "\n",
    "dens( p, xlim=c(0, 1) )\n",
    "curve( dbeta( x, W+1, L+1 ), lty=2, add=TRUE)"
   ]
  },
  {
   "cell_type": "markdown",
   "id": "naval-province",
   "metadata": {},
   "source": [
    "## Python"
   ]
  },
  {
   "cell_type": "code",
   "execution_count": 112,
   "id": "posted-celtic",
   "metadata": {
    "ExecuteTime": {
     "end_time": "2021-02-10T01:54:30.041342Z",
     "start_time": "2021-02-10T01:54:29.973807Z"
    }
   },
   "outputs": [
    {
     "data": {
      "application/javascript": [
       "\n",
       "            setTimeout(function() {\n",
       "                var nbb_cell_id = 112;\n",
       "                var nbb_unformatted_code = \"n_samples = 50\\np = np.zeros(n_samples)\\np[0] = 0.5\\nW = 6\\nL = 3\\nfor i in range(1, n_samples):\\n    p_new = stats.norm(p[i - 1], 0.1).rvs(1)\\n    if p_new < 0:\\n        p_new = -p_new\\n    if p_new > 1:\\n        p_new = 2 - p_new\\n    q0 = stats.binom.pmf(W, n=W + L, p=p[i - 1])\\n    q1 = stats.binom.pmf(W, n=W + L, p=p_new)\\n    if stats.uniform.rvs(0, 1) < q1 / q0:\\n        p[i] = p_new\\n    else:\\n        p[i] = p[i - 1]\";\n",
       "                var nbb_formatted_code = \"n_samples = 50\\np = np.zeros(n_samples)\\np[0] = 0.5\\nW = 6\\nL = 3\\nfor i in range(1, n_samples):\\n    p_new = stats.norm(p[i - 1], 0.1).rvs(1)\\n    if p_new < 0:\\n        p_new = -p_new\\n    if p_new > 1:\\n        p_new = 2 - p_new\\n    q0 = stats.binom.pmf(W, n=W + L, p=p[i - 1])\\n    q1 = stats.binom.pmf(W, n=W + L, p=p_new)\\n    if stats.uniform.rvs(0, 1) < q1 / q0:\\n        p[i] = p_new\\n    else:\\n        p[i] = p[i - 1]\";\n",
       "                var nbb_cells = Jupyter.notebook.get_cells();\n",
       "                for (var i = 0; i < nbb_cells.length; ++i) {\n",
       "                    if (nbb_cells[i].input_prompt_number == nbb_cell_id) {\n",
       "                        if (nbb_cells[i].get_text() == nbb_unformatted_code) {\n",
       "                             nbb_cells[i].set_text(nbb_formatted_code);\n",
       "                        }\n",
       "                        break;\n",
       "                    }\n",
       "                }\n",
       "            }, 500);\n",
       "            "
      ],
      "text/plain": [
       "<IPython.core.display.Javascript object>"
      ]
     },
     "metadata": {},
     "output_type": "display_data"
    }
   ],
   "source": [
    "n_samples = 50\n",
    "p = np.zeros(n_samples)\n",
    "p[0] = 0.5\n",
    "W = 6\n",
    "L = 3\n",
    "for i in range(1, n_samples):\n",
    "    p_new = stats.norm(p[i - 1], 0.1).rvs(1)\n",
    "    if p_new < 0:\n",
    "        p_new = -p_new\n",
    "    if p_new > 1:\n",
    "        p_new = 2 - p_new\n",
    "    q0 = stats.binom.pmf(W, n=W + L, p=p[i - 1])\n",
    "    q1 = stats.binom.pmf(W, n=W + L, p=p_new)\n",
    "    if stats.uniform.rvs(0, 1) < q1 / q0:\n",
    "        p[i] = p_new\n",
    "    else:\n",
    "        p[i] = p[i - 1]"
   ]
  },
  {
   "cell_type": "code",
   "execution_count": 115,
   "id": "conventional-library",
   "metadata": {
    "ExecuteTime": {
     "end_time": "2021-02-10T01:55:09.541757Z",
     "start_time": "2021-02-10T01:55:09.202104Z"
    }
   },
   "outputs": [
    {
     "data": {
      "text/plain": [
       "<matplotlib.legend.Legend at 0x151f66130>"
      ]
     },
     "execution_count": 115,
     "metadata": {},
     "output_type": "execute_result"
    },
    {
     "data": {
      "image/png": "[encoded data removed]",
      "text/plain": [
       "<Figure size 720x480 with 1 Axes>"
      ]
     },
     "metadata": {
      "image/png": {
       "height": 491,
       "width": 731
      }
     },
     "output_type": "display_data"
    },
    {
     "data": {
      "application/javascript": [
       "\n",
       "            setTimeout(function() {\n",
       "                var nbb_cell_id = 115;\n",
       "                var nbb_unformatted_code = \"az.plot_kde(p, label=\\\"Metropolis approximation\\\")\\nx = np.linspace(0, 1, 100)\\nplt.plot(x, stats.beta.pdf(x, W + 1, L + 1), \\\"C1\\\", label=\\\"True posterior\\\")\\nplt.legend()\";\n",
       "                var nbb_formatted_code = \"az.plot_kde(p, label=\\\"Metropolis approximation\\\")\\nx = np.linspace(0, 1, 100)\\nplt.plot(x, stats.beta.pdf(x, W + 1, L + 1), \\\"C1\\\", label=\\\"True posterior\\\")\\nplt.legend()\";\n",
       "                var nbb_cells = Jupyter.notebook.get_cells();\n",
       "                for (var i = 0; i < nbb_cells.length; ++i) {\n",
       "                    if (nbb_cells[i].input_prompt_number == nbb_cell_id) {\n",
       "                        if (nbb_cells[i].get_text() == nbb_unformatted_code) {\n",
       "                             nbb_cells[i].set_text(nbb_formatted_code);\n",
       "                        }\n",
       "                        break;\n",
       "                    }\n",
       "                }\n",
       "            }, 500);\n",
       "            "
      ],
      "text/plain": [
       "<IPython.core.display.Javascript object>"
      ]
     },
     "metadata": {},
     "output_type": "display_data"
    }
   ],
   "source": [
    "az.plot_kde(p, label=\"Metropolis approximation\")\n",
    "x = np.linspace(0, 1, 100)\n",
    "plt.plot(x, stats.beta.pdf(x, W + 1, L + 1), \"C1\", label=\"True posterior\")\n",
    "plt.legend()"
   ]
  },
  {
   "cell_type": "markdown",
   "id": "accepting-mitchell",
   "metadata": {},
   "source": [
    "You'd normally do a lot more samples (e.g. 1000), but this is fine for learning purposes now."
   ]
  },
  {
   "cell_type": "markdown",
   "id": "clinical-street",
   "metadata": {},
   "source": [
    "# Appendix: Environment and system parameters"
   ]
  },
  {
   "cell_type": "code",
   "execution_count": 119,
   "id": "piano-oriental",
   "metadata": {
    "ExecuteTime": {
     "end_time": "2021-02-10T02:03:58.802997Z",
     "start_time": "2021-02-10T02:03:58.779155Z"
    }
   },
   "outputs": [
    {
     "name": "stdout",
     "output_type": "stream",
     "text": [
      "Last updated: Tue Feb 09 2021\n",
      "\n",
      "Python implementation: CPython\n",
      "Python version       : 3.8.6\n",
      "IPython version      : 7.20.0\n",
      "\n",
      "numpy     : 1.20.1\n",
      "arviz     : 0.11.1\n",
      "scipy     : 1.6.0\n",
      "pandas    : 1.2.1\n",
      "json      : 2.0.9\n",
      "seaborn   : 0.11.1\n",
      "matplotlib: 3.3.4\n",
      "pymc3     : 3.11.0\n",
      "\n",
      "Watermark: 2.1.0\n",
      "\n"
     ]
    },
    {
     "data": {
      "application/javascript": [
       "\n",
       "            setTimeout(function() {\n",
       "                var nbb_cell_id = 119;\n",
       "                var nbb_unformatted_code = \"%watermark -n -u -v -iv -w\";\n",
       "                var nbb_formatted_code = \"%watermark -n -u -v -iv -w\";\n",
       "                var nbb_cells = Jupyter.notebook.get_cells();\n",
       "                for (var i = 0; i < nbb_cells.length; ++i) {\n",
       "                    if (nbb_cells[i].input_prompt_number == nbb_cell_id) {\n",
       "                        if (nbb_cells[i].get_text() == nbb_unformatted_code) {\n",
       "                             nbb_cells[i].set_text(nbb_formatted_code);\n",
       "                        }\n",
       "                        break;\n",
       "                    }\n",
       "                }\n",
       "            }, 500);\n",
       "            "
      ],
      "text/plain": [
       "<IPython.core.display.Javascript object>"
      ]
     },
     "metadata": {},
     "output_type": "display_data"
    }
   ],
   "source": [
    "%watermark -n -u -v -iv -w"
   ]
  },
  {
   "cell_type": "code",
   "execution_count": 120,
   "id": "bored-charlotte",
   "metadata": {
    "ExecuteTime": {
     "end_time": "2021-02-10T02:04:01.258317Z",
     "start_time": "2021-02-10T02:04:00.433558Z"
    }
   },
   "outputs": [
    {
     "name": "stdout",
     "output_type": "stream",
     "text": [
      "# Name                    Version                   Build  Channel\n",
      "arviz                     0.11.1                   pypi_0    pypi\n",
      "matplotlib                3.3.4                    pypi_0    pypi\n",
      "numpy                     1.20.1                   pypi_0    pypi\n",
      "pandas                    1.2.1                    pypi_0    pypi\n",
      "pymc3                     3.11.0                   pypi_0    pypi\n",
      "scipy                     1.6.0                    pypi_0    pypi\n",
      "seaborn                   0.11.1                   pypi_0    pypi\n"
     ]
    },
    {
     "data": {
      "application/javascript": [
       "\n",
       "            setTimeout(function() {\n",
       "                var nbb_cell_id = 120;\n",
       "                var nbb_unformatted_code = \"# Custom scripts to show packages and versions in this notebook\\ndef imports():\\n    import types\\n\\n    for name, val in globals().items():\\n        if isinstance(val, types.ModuleType):\\n            yield val.__name__\\n\\n\\nimported_packages = list(imports())\\n\\nfrom active_pkg import show_pkg_vers_in_nb\\n\\nshow_pkg_vers_in_nb(imported_packages)\";\n",
       "                var nbb_formatted_code = \"# Custom scripts to show packages and versions in this notebook\\ndef imports():\\n    import types\\n\\n    for name, val in globals().items():\\n        if isinstance(val, types.ModuleType):\\n            yield val.__name__\\n\\n\\nimported_packages = list(imports())\\n\\nfrom active_pkg import show_pkg_vers_in_nb\\n\\nshow_pkg_vers_in_nb(imported_packages)\";\n",
       "                var nbb_cells = Jupyter.notebook.get_cells();\n",
       "                for (var i = 0; i < nbb_cells.length; ++i) {\n",
       "                    if (nbb_cells[i].input_prompt_number == nbb_cell_id) {\n",
       "                        if (nbb_cells[i].get_text() == nbb_unformatted_code) {\n",
       "                             nbb_cells[i].set_text(nbb_formatted_code);\n",
       "                        }\n",
       "                        break;\n",
       "                    }\n",
       "                }\n",
       "            }, 500);\n",
       "            "
      ],
      "text/plain": [
       "<IPython.core.display.Javascript object>"
      ]
     },
     "metadata": {},
     "output_type": "display_data"
    }
   ],
   "source": [
    "# Custom scripts to show packages and versions in this notebook\n",
    "def imports():\n",
    "    import types\n",
    "\n",
    "    for name, val in globals().items():\n",
    "        if isinstance(val, types.ModuleType):\n",
    "            yield val.__name__\n",
    "\n",
    "\n",
    "imported_packages = list(imports())\n",
    "\n",
    "from active_pkg import show_pkg_vers_in_nb\n",
    "\n",
    "show_pkg_vers_in_nb(imported_packages)"
   ]
  },
  {
   "cell_type": "code",
   "execution_count": null,
   "id": "certified-senate",
   "metadata": {},
   "outputs": [],
   "source": []
  }
 ],
 "metadata": {
  "kernelspec": {
   "display_name": "Python 3",
   "language": "python",
   "name": "python3"
  },
  "language_info": {
   "codemirror_mode": {
    "name": "ipython",
    "version": 3
   },
   "file_extension": ".py",
   "mimetype": "text/x-python",
   "name": "python",
   "nbconvert_exporter": "python",
   "pygments_lexer": "ipython3",
   "version": "3.8.6"
  },
  "latex_envs": {
   "LaTeX_envs_menu_present": true,
   "autoclose": false,
   "autocomplete": true,
   "bibliofile": "biblio.bib",
   "cite_by": "apalike",
   "current_citInitial": 1,
   "eqLabelWithNumbers": true,
   "eqNumInitial": 1,
   "hotkeys": {
    "equation": "Ctrl-E",
    "itemize": "Ctrl-I"
   },
   "labels_anchors": false,
   "latex_user_defs": false,
   "report_style_numbering": false,
   "user_envs_cfg": false
  },
  "toc": {
   "base_numbering": 1,
   "nav_menu": {},
   "number_sections": true,
   "sideBar": true,
   "skip_h1_title": false,
   "title_cell": "Table of Contents",
   "title_sidebar": "Contents",
   "toc_cell": false,
   "toc_position": {},
   "toc_section_display": true,
   "toc_window_display": true
  },
  "varInspector": {
   "cols": {
    "lenName": 16,
    "lenType": 16,
    "lenVar": 40
   },
   "kernels_config": {
    "python": {
     "delete_cmd_postfix": "",
     "delete_cmd_prefix": "del ",
     "library": "var_list.py",
     "varRefreshCmd": "print(var_dic_list())"
    },
    "r": {
     "delete_cmd_postfix": ") ",
     "delete_cmd_prefix": "rm(",
     "library": "var_list.r",
     "varRefreshCmd": "cat(var_dic_list()) "
    }
   },
   "types_to_exclude": [
    "module",
    "function",
    "builtin_function_or_method",
    "instance",
    "_Feature"
   ],
   "window_display": false
  }
 },
 "nbformat": 4,
 "nbformat_minor": 5
}
