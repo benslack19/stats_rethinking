{
 "cells": [
  {
   "cell_type": "markdown",
   "metadata": {},
   "source": [
    "---\n",
    "title: \"Weird ways that covariance matrices are made\"\n",
    "mathjax: True\n",
    "toc: true\n",
    "toc_sticky: true\n",
    "categories: [data science, statistics]\n",
    "\n",
    "Covariance priors for multivariate normal models are an important tool for the implementation of varying effects. By representing more than one parameter with a covarying structure, even more partial pooling can result than if the parameters had their own separate distribution. Before talking more about varying effects, I thought I'd write about the weird ways that covariance matrixes are made."
   ]
  },
  {
   "cell_type": "code",
   "execution_count": 2,
   "metadata": {},
   "outputs": [
    {
     "data": {
      "application/javascript": "\n            setTimeout(function() {\n                var nbb_cell_id = 2;\n                var nbb_unformatted_code = \"import arviz as az\\nimport matplotlib.pyplot as plt\\nimport numpy as np\\nimport pandas as pd\\nimport pymc3 as pm\\nimport scipy.stats as stats\\nimport scipy.linalg as linalg\\nimport seaborn as sns\\n\\n%load_ext nb_black\\n%config InlineBackend.figure_format = 'retina'\\n%load_ext watermark\\nRANDOM_SEED = 8927\\nnp.random.seed(RANDOM_SEED)\\naz.style.use(\\\"arviz-darkgrid\\\")\\naz.rcParams[\\\"stats.hdi_prob\\\"] = 0.89  # sets default credible interval used by arviz\\n\\ndef standardize(x):\\n    x = (x - np.mean(x)) / np.std(x)\\n    return x\";\n                var nbb_formatted_code = \"import arviz as az\\nimport matplotlib.pyplot as plt\\nimport numpy as np\\nimport pandas as pd\\nimport pymc3 as pm\\nimport scipy.stats as stats\\nimport scipy.linalg as linalg\\nimport seaborn as sns\\n\\n%load_ext nb_black\\n%config InlineBackend.figure_format = 'retina'\\n%load_ext watermark\\nRANDOM_SEED = 8927\\nnp.random.seed(RANDOM_SEED)\\naz.style.use(\\\"arviz-darkgrid\\\")\\naz.rcParams[\\\"stats.hdi_prob\\\"] = 0.89  # sets default credible interval used by arviz\\n\\n\\ndef standardize(x):\\n    x = (x - np.mean(x)) / np.std(x)\\n    return x\";\n                var nbb_cells = Jupyter.notebook.get_cells();\n                for (var i = 0; i < nbb_cells.length; ++i) {\n                    if (nbb_cells[i].input_prompt_number == nbb_cell_id) {\n                        if (nbb_cells[i].get_text() == nbb_unformatted_code) {\n                             nbb_cells[i].set_text(nbb_formatted_code);\n                        }\n                        break;\n                    }\n                }\n            }, 500);\n            ",
      "text/plain": [
       "<IPython.core.display.Javascript object>"
      ]
     },
     "metadata": {},
     "output_type": "display_data"
    }
   ],
   "source": [
    "import arviz as az\n",
    "import matplotlib.pyplot as plt\n",
    "import numpy as np\n",
    "import pandas as pd\n",
    "import pymc3 as pm\n",
    "import scipy.stats as stats\n",
    "import scipy.linalg as linalg\n",
    "import seaborn as sns\n",
    "\n",
    "%load_ext nb_black\n",
    "%config InlineBackend.figure_format = 'retina'\n",
    "%load_ext watermark\n",
    "RANDOM_SEED = 8927\n",
    "np.random.seed(RANDOM_SEED)\n",
    "az.style.use(\"arviz-darkgrid\")\n",
    "az.rcParams[\"stats.hdi_prob\"] = 0.89  # sets default credible interval used by arviz\n",
    "\n",
    "def standardize(x):\n",
    "    x = (x - np.mean(x)) / np.std(x)\n",
    "    return x"
   ]
  },
  {
   "cell_type": "markdown",
   "metadata": {},
   "source": [
    "What is a a covariance matrix? One way to think of it is through an analogy: a standard deviation is to a univariate normal distribution as a covariate matrix is to a multivariate normal distribution.\n",
    "\n",
    "In equation form, you could have variables that look like this:\n",
    "\n",
    "$$x \\sim \\text{Normal}(\\mu, \\sigma) \\tag{univariate normal distribution}$$\n",
    "$$\\begin{bmatrix}x_1 \\\\ x_2 \\\\ ... \\\\ x_n \\end{bmatrix} \\sim \\text{MVNormal} \\left( \\begin{bmatrix} \\mu_1 \\\\ \\mu_2 \\\\ ... \\\\ \\mu_n \\end{bmatrix} , \\bold{\\Sigma} \\right) \\tag{multivariate normal distribution}$$ \n",
    "\n",
    "In both cases, we have variables paramaterized by random distributions. In the univariate case, a single draw from the distribution will result in one value. In the multivariate case, a single draw will result in *n* values, one for each parameter. In the multivariate normal (MVN) case, we have a vector of means ($\\mu$), but the interesting relationships will result from the covariance matrix $\\Sigma$.. It will tell us about the variability of the parameters and also possible correlative relationships between them. This is seen in how we can construct covariance matrices.\n",
    "\n",
    "Using numbers helps me understand things so let's use Dr. McElreath's example involving cafe waiting times. For the purposes of this post, you don't need to know the details of the problem, but it is described in [this lecture](https://www.youtube.com/watch?v=yfXpjmWgyXU&list=PLDcUM9US4XdNM4Edgs7weiyIguLSToZRI&index=17&t=484s).\n",
    "\n",
    "The multivariate normal distribution for this cafe waiting times example is described here:\n",
    "\n",
    "$$\\begin{bmatrix}\\alpha_{\\text{cafe}} \\\\ \\beta_{\\text{cafe}} \\end{bmatrix} \\sim \\text{MVNormal} \\left( \\begin{bmatrix}\\alpha \\\\ \\beta \\end{bmatrix} , \\textbf{S} \\right)  \\tag{population of varying effects} $$\n",
    "\n",
    "We'll create a simple 2x2 covariance matrix but the lessons can be extended to larger sizes. To construct it, we'll need values for each parameter's standard deviation (what I'll call $\\sigma$ below) and a correlation coefficient $\\rho$. For a proper multivariate normal distribution, we'll also need values for the means (the $\\mu$ vector described above), denoted as *a* and *b*."
   ]
  },
  {
   "cell_type": "code",
   "execution_count": 3,
   "metadata": {},
   "outputs": [
    {
     "data": {
      "application/javascript": "\n            setTimeout(function() {\n                var nbb_cell_id = 3;\n                var nbb_unformatted_code = \"a = 3.5  # average morning wait time\\nb = -1.0  # average difference afternoon wait time\\nsigma_a = 1.0  # std dev in intercepts\\nsigma_b = 0.5  # std dev in slopes\\nrho = -0.7  # correlation between intercepts and slopes\";\n                var nbb_formatted_code = \"a = 3.5  # average morning wait time\\nb = -1.0  # average difference afternoon wait time\\nsigma_a = 1.0  # std dev in intercepts\\nsigma_b = 0.5  # std dev in slopes\\nrho = -0.7  # correlation between intercepts and slopes\";\n                var nbb_cells = Jupyter.notebook.get_cells();\n                for (var i = 0; i < nbb_cells.length; ++i) {\n                    if (nbb_cells[i].input_prompt_number == nbb_cell_id) {\n                        if (nbb_cells[i].get_text() == nbb_unformatted_code) {\n                             nbb_cells[i].set_text(nbb_formatted_code);\n                        }\n                        break;\n                    }\n                }\n            }, 500);\n            ",
      "text/plain": [
       "<IPython.core.display.Javascript object>"
      ]
     },
     "metadata": {},
     "output_type": "display_data"
    }
   ],
   "source": [
    "a = 3.5  # average morning wait time\n",
    "b = -1.0  # average difference afternoon wait time\n",
    "sigma_a = 1.0  # std dev in intercepts\n",
    "sigma_b = 0.5  # std dev in slopes\n",
    "rho = -0.7  # correlation between intercepts and slopes"
   ]
  },
  {
   "cell_type": "markdown",
   "metadata": {},
   "source": [
    "While our focus is on the covariance matrix, let's get the first term of the MVN distribution out of the way. I'll generate the vector of the averages which is straightforward."
   ]
  },
  {
   "cell_type": "code",
   "execution_count": 4,
   "metadata": {},
   "outputs": [
    {
     "name": "stdout",
     "output_type": "stream",
     "text": [
      "Vector of means:  [3.5, -1.0]\n"
     ]
    },
    {
     "data": {
      "application/javascript": "\n            setTimeout(function() {\n                var nbb_cell_id = 4;\n                var nbb_unformatted_code = \"Mu = [a, b]\\nprint(\\\"Vector of means: \\\", Mu)\";\n                var nbb_formatted_code = \"Mu = [a, b]\\nprint(\\\"Vector of means: \\\", Mu)\";\n                var nbb_cells = Jupyter.notebook.get_cells();\n                for (var i = 0; i < nbb_cells.length; ++i) {\n                    if (nbb_cells[i].input_prompt_number == nbb_cell_id) {\n                        if (nbb_cells[i].get_text() == nbb_unformatted_code) {\n                             nbb_cells[i].set_text(nbb_formatted_code);\n                        }\n                        break;\n                    }\n                }\n            }, 500);\n            ",
      "text/plain": [
       "<IPython.core.display.Javascript object>"
      ]
     },
     "metadata": {},
     "output_type": "display_data"
    }
   ],
   "source": [
    "Mu = [a, b]\n",
    "print(\"Vector of means: \", Mu)"
   ]
  },
  {
   "cell_type": "markdown",
   "metadata": {},
   "source": [
    "# Intuitive construction"
   ]
  },
  {
   "cell_type": "markdown",
   "metadata": {},
   "source": [
    "The first method can be made is the most intuitive for me.\n",
    "\n",
    "$$ \\bold{S} = \\begin{pmatrix} \\sigma_{\\alpha}^2 & \\rho\\sigma_{\\alpha}\\sigma_{\\beta} \\\\ \\rho\\sigma_{\\alpha}\\sigma_{\\beta} & \\sigma_{\\beta}^2 \\end{pmatrix} $$\n",
    "\n",
    "The diagonals show each individual parameter's variance (standard deviation squared) while the off-diagonal shows the co-variance, represented as the correlation coefficient $\\rho$ multiplied by the parameters' standard deviations.\n",
    "\n",
    "I'll use `Sigma1` with capital S to represent this covariance matrix with the `1` representing this first method of assembly but as you'll see, they will be equivalent. (In equations like the one shown above, the covariance matrix is represented by a bold, capital S.)"
   ]
  },
  {
   "cell_type": "code",
   "execution_count": 5,
   "metadata": {},
   "outputs": [
    {
     "data": {
      "text/plain": [
       "array([[ 1.  , -0.35],\n",
       "       [-0.35,  0.25]])"
      ]
     },
     "execution_count": 5,
     "metadata": {},
     "output_type": "execute_result"
    },
    {
     "data": {
      "application/javascript": "\n            setTimeout(function() {\n                var nbb_cell_id = 5;\n                var nbb_unformatted_code = \"cov_ab = rho * sigma_a * sigma_b\\nSigma1 = np.array([[sigma_a**2, cov_ab], [cov_ab, sigma_b**2]])\\nSigma1\";\n                var nbb_formatted_code = \"cov_ab = rho * sigma_a * sigma_b\\nSigma1 = np.array([[sigma_a ** 2, cov_ab], [cov_ab, sigma_b ** 2]])\\nSigma1\";\n                var nbb_cells = Jupyter.notebook.get_cells();\n                for (var i = 0; i < nbb_cells.length; ++i) {\n                    if (nbb_cells[i].input_prompt_number == nbb_cell_id) {\n                        if (nbb_cells[i].get_text() == nbb_unformatted_code) {\n                             nbb_cells[i].set_text(nbb_formatted_code);\n                        }\n                        break;\n                    }\n                }\n            }, 500);\n            ",
      "text/plain": [
       "<IPython.core.display.Javascript object>"
      ]
     },
     "metadata": {},
     "output_type": "display_data"
    }
   ],
   "source": [
    "cov_ab = rho * sigma_a * sigma_b\n",
    "Sigma1 = np.array([[sigma_a**2, cov_ab], [cov_ab, sigma_b**2]])\n",
    "Sigma1"
   ]
  },
  {
   "cell_type": "markdown",
   "metadata": {},
   "source": [
    "The important parts are the off-diagonals, which shows a negative covariance between the $\\alpha$ and $\\beta$ terms. They are symmetric because the calculation is equivalent. Hopefully there's no confusion in how this covariance matrix resulted."
   ]
  },
  {
   "cell_type": "markdown",
   "metadata": {},
   "source": [
    "# Standard deviation diagonals"
   ]
  },
  {
   "cell_type": "markdown",
   "metadata": {},
   "source": [
    "The second method for building the covariance matrix will be weirder:\n",
    "- arrange the standard deviations along the diagonal and fill in zeros everywhere else\n",
    "- matrix multiply by a *correlation* matrix\n",
    "- matrix multiply by the same arrangement of standard deviations along the diagonal\n",
    "\n",
    "Here's how it looks in equation form:\n",
    "\n",
    "$$ \\textbf{S} = \\begin{pmatrix} \\sigma_{\\alpha} & 0 \\\\ 0 & \\sigma_{\\beta} \\end{pmatrix} \\textbf{R} \\begin{pmatrix} \\sigma_{\\alpha} & 0 \\\\ 0 & \\sigma_{\\beta} \\end{pmatrix}  $$\n",
    "\n"
   ]
  },
  {
   "cell_type": "markdown",
   "metadata": {},
   "source": [
    "To create a matrix where the standard deviations are on the diagonal and zeros are everywhere, we can use a handy `numpy` function called diag that can be applied to the parameter standard deviations arranged in a vector:"
   ]
  },
  {
   "cell_type": "code",
   "execution_count": 6,
   "metadata": {},
   "outputs": [
    {
     "data": {
      "text/plain": [
       "array([[1. , 0. ],\n",
       "       [0. , 0.5]])"
      ]
     },
     "execution_count": 6,
     "metadata": {},
     "output_type": "execute_result"
    },
    {
     "data": {
      "application/javascript": "\n            setTimeout(function() {\n                var nbb_cell_id = 6;\n                var nbb_unformatted_code = \"# put the sigmas in a vector first\\nsigmas = [sigma_a, sigma_b]\\n\\n# represent on the diagonal\\nsigma_diag = np.diag(sigmas)\\nsigma_diag\";\n                var nbb_formatted_code = \"# put the sigmas in a vector first\\nsigmas = [sigma_a, sigma_b]\\n\\n# represent on the diagonal\\nsigma_diag = np.diag(sigmas)\\nsigma_diag\";\n                var nbb_cells = Jupyter.notebook.get_cells();\n                for (var i = 0; i < nbb_cells.length; ++i) {\n                    if (nbb_cells[i].input_prompt_number == nbb_cell_id) {\n                        if (nbb_cells[i].get_text() == nbb_unformatted_code) {\n                             nbb_cells[i].set_text(nbb_formatted_code);\n                        }\n                        break;\n                    }\n                }\n            }, 500);\n            ",
      "text/plain": [
       "<IPython.core.display.Javascript object>"
      ]
     },
     "metadata": {},
     "output_type": "display_data"
    }
   ],
   "source": [
    "# put the sigmas in a vector first\n",
    "sigmas = [sigma_a, sigma_b]\n",
    "\n",
    "# represent on the diagonal\n",
    "sigma_diag = np.diag(sigmas)\n",
    "sigma_diag"
   ]
  },
  {
   "cell_type": "markdown",
   "metadata": {},
   "source": [
    "The $\\bold{R}$ matrix is where `rho` is arranged in the off-diagonals, where `rho` represents the correlation between the two parameters. The diagonals show values of 1 since each parameter will always be perfectly correlated with itself."
   ]
  },
  {
   "cell_type": "code",
   "execution_count": 7,
   "metadata": {},
   "outputs": [
    {
     "data": {
      "text/plain": [
       "array([[ 1. , -0.7],\n",
       "       [-0.7,  1. ]])"
      ]
     },
     "execution_count": 7,
     "metadata": {},
     "output_type": "execute_result"
    },
    {
     "data": {
      "application/javascript": "\n            setTimeout(function() {\n                var nbb_cell_id = 7;\n                var nbb_unformatted_code = \"Rmat = np.array([[1, rho], [rho, 1]])\\nRmat\";\n                var nbb_formatted_code = \"Rmat = np.array([[1, rho], [rho, 1]])\\nRmat\";\n                var nbb_cells = Jupyter.notebook.get_cells();\n                for (var i = 0; i < nbb_cells.length; ++i) {\n                    if (nbb_cells[i].input_prompt_number == nbb_cell_id) {\n                        if (nbb_cells[i].get_text() == nbb_unformatted_code) {\n                             nbb_cells[i].set_text(nbb_formatted_code);\n                        }\n                        break;\n                    }\n                }\n            }, 500);\n            ",
      "text/plain": [
       "<IPython.core.display.Javascript object>"
      ]
     },
     "metadata": {},
     "output_type": "display_data"
    }
   ],
   "source": [
    "Rmat = np.array([[1, rho], [rho, 1]])\n",
    "Rmat"
   ]
  },
  {
   "cell_type": "markdown",
   "metadata": {},
   "source": [
    "Now the final step is the matrix multiplication. In `numpy`, you can do this with a small chain of matrix multiplication (taken from [this SO post](https://stackoverflow.com/questions/11838352/multiply-several-matrices-in-numpy))."
   ]
  },
  {
   "cell_type": "code",
   "execution_count": 8,
   "metadata": {},
   "outputs": [
    {
     "data": {
      "text/plain": [
       "array([[ 1.  , -0.35],\n",
       "       [-0.35,  0.25]])"
      ]
     },
     "execution_count": 8,
     "metadata": {},
     "output_type": "execute_result"
    },
    {
     "data": {
      "application/javascript": "\n            setTimeout(function() {\n                var nbb_cell_id = 8;\n                var nbb_unformatted_code = \"Sigma2 = sigma_diag.dot(Rmat).dot(sigma_diag)\\nSigma2\";\n                var nbb_formatted_code = \"Sigma2 = sigma_diag.dot(Rmat).dot(sigma_diag)\\nSigma2\";\n                var nbb_cells = Jupyter.notebook.get_cells();\n                for (var i = 0; i < nbb_cells.length; ++i) {\n                    if (nbb_cells[i].input_prompt_number == nbb_cell_id) {\n                        if (nbb_cells[i].get_text() == nbb_unformatted_code) {\n                             nbb_cells[i].set_text(nbb_formatted_code);\n                        }\n                        break;\n                    }\n                }\n            }, 500);\n            ",
      "text/plain": [
       "<IPython.core.display.Javascript object>"
      ]
     },
     "metadata": {},
     "output_type": "display_data"
    }
   ],
   "source": [
    "Sigma2 = sigma_diag.dot(Rmat).dot(sigma_diag)\n",
    "Sigma2"
   ]
  },
  {
   "cell_type": "markdown",
   "metadata": {},
   "source": [
    "As expected, we get the same values of the covariance matrix as we did with the previous method."
   ]
  },
  {
   "cell_type": "markdown",
   "metadata": {},
   "source": [
    "# Cholesky factors\n",
    "\n",
    "Ok, now we have the third method of creating a covariance matrix. As promised, it gets even more weird. It deserves its own exploration but I'll just show how it works now then explain later. The first thing we need to do is get the Cholesky factor which can be derived from the $\\bold{R}$ correlation matrix. There are other sources that explain Cholesky factors like [the Wikipedia page](https://en.wikipedia.org/wiki/Cholesky_decomposition).\n",
    "\n",
    "The matrix $\\bold{R}$ can be derived from this Cholesky factor with the following equation:\n",
    "\n",
    "$ \\bold{R} = \\bold{LL}^\\intercal $\n",
    "\n",
    "Accordingly, we can substitute for $\\bold{R}$ in the equation we saw above:\n",
    "\n",
    "$$ \\textbf{S} = \\begin{pmatrix} \\sigma_{\\alpha} & 0 \\\\ 0 & \\sigma_{\\beta} \\end{pmatrix} \\bold{LL}^\\intercal  \\begin{pmatrix} \\sigma_{\\alpha} & 0 \\\\ 0 & \\sigma_{\\beta} \\end{pmatrix}  $$\n",
    "\n",
    "$\\bold{L}$ is **not** simply the lower triangle simply of a correlation matrix."
   ]
  },
  {
   "cell_type": "code",
   "execution_count": 9,
   "metadata": {},
   "outputs": [
    {
     "data": {
      "text/plain": [
       "array([[ 1. ,  0. ],\n",
       "       [-0.7,  1. ]])"
      ]
     },
     "execution_count": 9,
     "metadata": {},
     "output_type": "execute_result"
    },
    {
     "data": {
      "application/javascript": "\n            setTimeout(function() {\n                var nbb_cell_id = 9;\n                var nbb_unformatted_code = \"# WRONG - this is not how to get L\\nnp.tril(Rmat)\";\n                var nbb_formatted_code = \"# WRONG - this is not how to get L\\nnp.tril(Rmat)\";\n                var nbb_cells = Jupyter.notebook.get_cells();\n                for (var i = 0; i < nbb_cells.length; ++i) {\n                    if (nbb_cells[i].input_prompt_number == nbb_cell_id) {\n                        if (nbb_cells[i].get_text() == nbb_unformatted_code) {\n                             nbb_cells[i].set_text(nbb_formatted_code);\n                        }\n                        break;\n                    }\n                }\n            }, 500);\n            ",
      "text/plain": [
       "<IPython.core.display.Javascript object>"
      ]
     },
     "metadata": {},
     "output_type": "display_data"
    }
   ],
   "source": [
    "# WRONG - this is not how to get L\n",
    "np.tril(Rmat)"
   ]
  },
  {
   "cell_type": "markdown",
   "metadata": {},
   "source": [
    "There is a different `numpy` function that calculates the lower triangle properly. (Note that `scipy.linalg.cholesky` does the upper triangle. You'd modify the above equation by transposing L first then mutiplying by itself.)"
   ]
  },
  {
   "cell_type": "code",
   "execution_count": 10,
   "metadata": {},
   "outputs": [
    {
     "data": {
      "text/plain": [
       "array([[ 1.        ,  0.        ],\n",
       "       [-0.7       ,  0.71414284]])"
      ]
     },
     "execution_count": 10,
     "metadata": {},
     "output_type": "execute_result"
    },
    {
     "data": {
      "application/javascript": "\n            setTimeout(function() {\n                var nbb_cell_id = 10;\n                var nbb_unformatted_code = \"# numpy.linalg.cholesky does the lower triangle\\nL = np.linalg.cholesky(Rmat)\\nL\";\n                var nbb_formatted_code = \"# numpy.linalg.cholesky does the lower triangle\\nL = np.linalg.cholesky(Rmat)\\nL\";\n                var nbb_cells = Jupyter.notebook.get_cells();\n                for (var i = 0; i < nbb_cells.length; ++i) {\n                    if (nbb_cells[i].input_prompt_number == nbb_cell_id) {\n                        if (nbb_cells[i].get_text() == nbb_unformatted_code) {\n                             nbb_cells[i].set_text(nbb_formatted_code);\n                        }\n                        break;\n                    }\n                }\n            }, 500);\n            ",
      "text/plain": [
       "<IPython.core.display.Javascript object>"
      ]
     },
     "metadata": {},
     "output_type": "display_data"
    }
   ],
   "source": [
    "# numpy.linalg.cholesky does the lower triangle\n",
    "L = np.linalg.cholesky(Rmat)\n",
    "L"
   ]
  },
  {
   "cell_type": "markdown",
   "metadata": {},
   "source": [
    "In code, we can get this third re-construction of $\\bold{S}$ like this:"
   ]
  },
  {
   "cell_type": "code",
   "execution_count": 11,
   "metadata": {},
   "outputs": [
    {
     "data": {
      "text/plain": [
       "array([[ 1.  , -0.35],\n",
       "       [-0.35,  0.25]])"
      ]
     },
     "execution_count": 11,
     "metadata": {},
     "output_type": "execute_result"
    },
    {
     "data": {
      "application/javascript": "\n            setTimeout(function() {\n                var nbb_cell_id = 11;\n                var nbb_unformatted_code = \"Sigma3 = sigma_diag.dot(L).dot(L.T).dot(sigma_diag)\\nSigma3\";\n                var nbb_formatted_code = \"Sigma3 = sigma_diag.dot(L).dot(L.T).dot(sigma_diag)\\nSigma3\";\n                var nbb_cells = Jupyter.notebook.get_cells();\n                for (var i = 0; i < nbb_cells.length; ++i) {\n                    if (nbb_cells[i].input_prompt_number == nbb_cell_id) {\n                        if (nbb_cells[i].get_text() == nbb_unformatted_code) {\n                             nbb_cells[i].set_text(nbb_formatted_code);\n                        }\n                        break;\n                    }\n                }\n            }, 500);\n            ",
      "text/plain": [
       "<IPython.core.display.Javascript object>"
      ]
     },
     "metadata": {},
     "output_type": "display_data"
    }
   ],
   "source": [
    "Sigma3 = sigma_diag.dot(L).dot(L.T).dot(sigma_diag)\n",
    "Sigma3"
   ]
  },
  {
   "cell_type": "markdown",
   "metadata": {},
   "source": [
    "As we would expect, all three ways to get a covariance matrix give equivalent results. Why would you even use this last, strange way? It will have to do with sampling in a varying effects problem. The Cholesky factors will allow us to generate non-centered paramaterizations. I'll cover this in a later post."
   ]
  },
  {
   "cell_type": "code",
   "execution_count": 12,
   "metadata": {},
   "outputs": [
    {
     "name": "stdout",
     "output_type": "stream",
     "text": [
      "Last updated: Mon Mar 28 2022\n",
      "\n",
      "Python implementation: CPython\n",
      "Python version       : 3.8.6\n",
      "IPython version      : 7.20.0\n",
      "\n",
      "sys       : 3.8.6 | packaged by conda-forge | (default, Jan 25 2021, 23:22:12) \n",
      "[Clang 11.0.1 ]\n",
      "matplotlib: 3.3.4\n",
      "pandas    : 1.2.1\n",
      "pymc3     : 3.11.0\n",
      "arviz     : 0.11.1\n",
      "scipy     : 1.6.0\n",
      "seaborn   : 0.11.1\n",
      "numpy     : 1.20.1\n",
      "\n",
      "Watermark: 2.1.0\n",
      "\n"
     ]
    },
    {
     "data": {
      "application/javascript": "\n            setTimeout(function() {\n                var nbb_cell_id = 12;\n                var nbb_unformatted_code = \"%watermark -n -u -v -iv -w\";\n                var nbb_formatted_code = \"%watermark -n -u -v -iv -w\";\n                var nbb_cells = Jupyter.notebook.get_cells();\n                for (var i = 0; i < nbb_cells.length; ++i) {\n                    if (nbb_cells[i].input_prompt_number == nbb_cell_id) {\n                        if (nbb_cells[i].get_text() == nbb_unformatted_code) {\n                             nbb_cells[i].set_text(nbb_formatted_code);\n                        }\n                        break;\n                    }\n                }\n            }, 500);\n            ",
      "text/plain": [
       "<IPython.core.display.Javascript object>"
      ]
     },
     "metadata": {},
     "output_type": "display_data"
    }
   ],
   "source": [
    "%watermark -n -u -v -iv -w"
   ]
  }
 ],
 "metadata": {
  "interpreter": {
   "hash": "e92bb7a9aacd9667df20255a0d1807f00b256076d24753ff832859a09e84cc67"
  },
  "kernelspec": {
   "display_name": "Python 3.8.6 64-bit ('stats_rethinking': conda)",
   "language": "python",
   "name": "python3"
  },
  "language_info": {
   "codemirror_mode": {
    "name": "ipython",
    "version": 3
   },
   "file_extension": ".py",
   "mimetype": "text/x-python",
   "name": "python",
   "nbconvert_exporter": "python",
   "pygments_lexer": "ipython3",
   "version": "3.8.6"
  },
  "orig_nbformat": 4
 },
 "nbformat": 4,
 "nbformat_minor": 2
}
