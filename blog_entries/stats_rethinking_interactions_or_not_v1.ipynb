{
 "cells": [
  {
   "cell_type": "markdown",
   "metadata": {},
   "source": [
    "# Interactions or not\n",
    "\n",
    "Let's say you have two categorical variables. Want to get effect of one on another. \n",
    "- interaction or additive\n",
    "- interaction model has some advantages. you can get the slopes in additive model from interaction model. it's in the contrasts.\n",
    "\n",
    "Rojan: the interaction model would answer what is the probability of getting admission for each departments for each gender,\n",
    "whereas non interaction model would answer what is the probability of getting admission for each gender averaged across all the departments"
   ]
  },
  {
   "cell_type": "code",
   "execution_count": 233,
   "metadata": {},
   "outputs": [
    {
     "data": {
      "application/javascript": "\n            setTimeout(function() {\n                var nbb_cell_id = 233;\n                var nbb_unformatted_code = \"import arviz as az\\nimport daft\\nfrom causalgraphicalmodels import CausalGraphicalModel\\nimport matplotlib.pyplot as plt\\nimport numpy as np\\nimport pandas as pd\\nimport pymc3 as pm\\nimport scipy.stats as stats\\nfrom scipy.special import expit\\nfrom scipy.special import logit\\nimport seaborn as sns\\nimport statsmodels.api as sm\";\n                var nbb_formatted_code = \"import arviz as az\\nimport daft\\nfrom causalgraphicalmodels import CausalGraphicalModel\\nimport matplotlib.pyplot as plt\\nimport numpy as np\\nimport pandas as pd\\nimport pymc3 as pm\\nimport scipy.stats as stats\\nfrom scipy.special import expit\\nfrom scipy.special import logit\\nimport seaborn as sns\\nimport statsmodels.api as sm\";\n                var nbb_cells = Jupyter.notebook.get_cells();\n                for (var i = 0; i < nbb_cells.length; ++i) {\n                    if (nbb_cells[i].input_prompt_number == nbb_cell_id) {\n                        if (nbb_cells[i].get_text() == nbb_unformatted_code) {\n                             nbb_cells[i].set_text(nbb_formatted_code);\n                        }\n                        break;\n                    }\n                }\n            }, 500);\n            ",
      "text/plain": [
       "<IPython.core.display.Javascript object>"
      ]
     },
     "metadata": {},
     "output_type": "display_data"
    }
   ],
   "source": [
    "import arviz as az\n",
    "import daft\n",
    "from causalgraphicalmodels import CausalGraphicalModel\n",
    "import matplotlib.pyplot as plt\n",
    "import numpy as np\n",
    "import pandas as pd\n",
    "import pymc3 as pm\n",
    "import scipy.stats as stats\n",
    "from scipy.special import expit\n",
    "from scipy.special import logit\n",
    "import seaborn as sns\n",
    "import statsmodels.api as sm"
   ]
  },
  {
   "cell_type": "code",
   "execution_count": 234,
   "metadata": {},
   "outputs": [
    {
     "name": "stdout",
     "output_type": "stream",
     "text": [
      "The nb_black extension is already loaded. To reload it, use:\n",
      "  %reload_ext nb_black\n",
      "The watermark extension is already loaded. To reload it, use:\n",
      "  %reload_ext watermark\n"
     ]
    },
    {
     "data": {
      "application/javascript": "\n            setTimeout(function() {\n                var nbb_cell_id = 234;\n                var nbb_unformatted_code = \"%load_ext nb_black\\n%config InlineBackend.figure_format = 'retina'\\n%load_ext watermark\\nRANDOM_SEED = 8927\\nnp.random.seed(RANDOM_SEED)\\naz.style.use(\\\"arviz-darkgrid\\\")\\naz.rcParams[\\\"stats.hdi_prob\\\"] = 0.89  # sets default credible interval used by arviz\";\n                var nbb_formatted_code = \"%load_ext nb_black\\n%config InlineBackend.figure_format = 'retina'\\n%load_ext watermark\\nRANDOM_SEED = 8927\\nnp.random.seed(RANDOM_SEED)\\naz.style.use(\\\"arviz-darkgrid\\\")\\naz.rcParams[\\\"stats.hdi_prob\\\"] = 0.89  # sets default credible interval used by arviz\";\n                var nbb_cells = Jupyter.notebook.get_cells();\n                for (var i = 0; i < nbb_cells.length; ++i) {\n                    if (nbb_cells[i].input_prompt_number == nbb_cell_id) {\n                        if (nbb_cells[i].get_text() == nbb_unformatted_code) {\n                             nbb_cells[i].set_text(nbb_formatted_code);\n                        }\n                        break;\n                    }\n                }\n            }, 500);\n            ",
      "text/plain": [
       "<IPython.core.display.Javascript object>"
      ]
     },
     "metadata": {},
     "output_type": "display_data"
    }
   ],
   "source": [
    "%load_ext nb_black\n",
    "%config InlineBackend.figure_format = 'retina'\n",
    "%load_ext watermark\n",
    "RANDOM_SEED = 8927\n",
    "np.random.seed(RANDOM_SEED)\n",
    "az.style.use(\"arviz-darkgrid\")\n",
    "az.rcParams[\"stats.hdi_prob\"] = 0.89  # sets default credible interval used by arviz"
   ]
  },
  {
   "cell_type": "code",
   "execution_count": 235,
   "metadata": {},
   "outputs": [
    {
     "data": {
      "application/javascript": "\n            setTimeout(function() {\n                var nbb_cell_id = 235;\n                var nbb_unformatted_code = \"def standardize(x):\\n    x = (x - np.mean(x)) / np.std(x)\\n    return x\";\n                var nbb_formatted_code = \"def standardize(x):\\n    x = (x - np.mean(x)) / np.std(x)\\n    return x\";\n                var nbb_cells = Jupyter.notebook.get_cells();\n                for (var i = 0; i < nbb_cells.length; ++i) {\n                    if (nbb_cells[i].input_prompt_number == nbb_cell_id) {\n                        if (nbb_cells[i].get_text() == nbb_unformatted_code) {\n                             nbb_cells[i].set_text(nbb_formatted_code);\n                        }\n                        break;\n                    }\n                }\n            }, 500);\n            ",
      "text/plain": [
       "<IPython.core.display.Javascript object>"
      ]
     },
     "metadata": {},
     "output_type": "display_data"
    }
   ],
   "source": [
    "def standardize(x):\n",
    "    x = (x - np.mean(x)) / np.std(x)\n",
    "    return x"
   ]
  },
  {
   "cell_type": "markdown",
   "metadata": {},
   "source": [
    "# Data and DAG"
   ]
  },
  {
   "cell_type": "code",
   "execution_count": 236,
   "metadata": {},
   "outputs": [
    {
     "data": {
      "text/html": [
       "<div>\n",
       "<style scoped>\n",
       "    .dataframe tbody tr th:only-of-type {\n",
       "        vertical-align: middle;\n",
       "    }\n",
       "\n",
       "    .dataframe tbody tr th {\n",
       "        vertical-align: top;\n",
       "    }\n",
       "\n",
       "    .dataframe thead th {\n",
       "        text-align: right;\n",
       "    }\n",
       "</style>\n",
       "<table border=\"1\" class=\"dataframe\">\n",
       "  <thead>\n",
       "    <tr style=\"text-align: right;\">\n",
       "      <th></th>\n",
       "      <th>dept</th>\n",
       "      <th>applicant.gender</th>\n",
       "      <th>admit</th>\n",
       "      <th>reject</th>\n",
       "      <th>applications</th>\n",
       "      <th>dept_code</th>\n",
       "      <th>gender_code</th>\n",
       "    </tr>\n",
       "  </thead>\n",
       "  <tbody>\n",
       "    <tr>\n",
       "      <th>1</th>\n",
       "      <td>A</td>\n",
       "      <td>male</td>\n",
       "      <td>512</td>\n",
       "      <td>313</td>\n",
       "      <td>825</td>\n",
       "      <td>0</td>\n",
       "      <td>1</td>\n",
       "    </tr>\n",
       "    <tr>\n",
       "      <th>2</th>\n",
       "      <td>A</td>\n",
       "      <td>female</td>\n",
       "      <td>89</td>\n",
       "      <td>19</td>\n",
       "      <td>108</td>\n",
       "      <td>0</td>\n",
       "      <td>0</td>\n",
       "    </tr>\n",
       "    <tr>\n",
       "      <th>3</th>\n",
       "      <td>B</td>\n",
       "      <td>male</td>\n",
       "      <td>353</td>\n",
       "      <td>207</td>\n",
       "      <td>560</td>\n",
       "      <td>1</td>\n",
       "      <td>1</td>\n",
       "    </tr>\n",
       "    <tr>\n",
       "      <th>4</th>\n",
       "      <td>B</td>\n",
       "      <td>female</td>\n",
       "      <td>17</td>\n",
       "      <td>8</td>\n",
       "      <td>25</td>\n",
       "      <td>1</td>\n",
       "      <td>0</td>\n",
       "    </tr>\n",
       "    <tr>\n",
       "      <th>5</th>\n",
       "      <td>C</td>\n",
       "      <td>male</td>\n",
       "      <td>120</td>\n",
       "      <td>205</td>\n",
       "      <td>325</td>\n",
       "      <td>2</td>\n",
       "      <td>1</td>\n",
       "    </tr>\n",
       "  </tbody>\n",
       "</table>\n",
       "</div>"
      ],
      "text/plain": [
       "  dept applicant.gender  admit  reject  applications  dept_code  gender_code\n",
       "1    A             male    512     313           825          0            1\n",
       "2    A           female     89      19           108          0            0\n",
       "3    B             male    353     207           560          1            1\n",
       "4    B           female     17       8            25          1            0\n",
       "5    C             male    120     205           325          2            1"
      ]
     },
     "execution_count": 236,
     "metadata": {},
     "output_type": "execute_result"
    },
    {
     "data": {
      "application/javascript": "\n            setTimeout(function() {\n                var nbb_cell_id = 236;\n                var nbb_unformatted_code = \"DATA_DIR = '/Users/blacar/Documents/ds_projects/stats_rethinking/pymc3_ed_resources/resources/Rethinking_2/End_of_chapter_problems/data/'\\ndf_ucb = pd.read_csv(DATA_DIR + \\\"UCBadmit.csv\\\", sep=\\\";\\\", header=0)\\n# Encode categorical variables\\ndf_ucb[\\\"dept_code\\\"] = pd.Categorical(df_ucb[\\\"dept\\\"]).codes\\ndf_ucb[\\\"gender_code\\\"] = pd.Categorical(df_ucb[\\\"applicant.gender\\\"]).codes    # female will be 0, male will be 1\\n\\n# Numbers of unique variables for use later\\nn_gid = len(df_ucb['gender_code'].unique())\\nn_dept = len(df_ucb['dept_code'].unique())\\ndf_ucb.head()\";\n                var nbb_formatted_code = \"DATA_DIR = \\\"/Users/blacar/Documents/ds_projects/stats_rethinking/pymc3_ed_resources/resources/Rethinking_2/End_of_chapter_problems/data/\\\"\\ndf_ucb = pd.read_csv(DATA_DIR + \\\"UCBadmit.csv\\\", sep=\\\";\\\", header=0)\\n# Encode categorical variables\\ndf_ucb[\\\"dept_code\\\"] = pd.Categorical(df_ucb[\\\"dept\\\"]).codes\\ndf_ucb[\\\"gender_code\\\"] = pd.Categorical(\\n    df_ucb[\\\"applicant.gender\\\"]\\n).codes  # female will be 0, male will be 1\\n\\n# Numbers of unique variables for use later\\nn_gid = len(df_ucb[\\\"gender_code\\\"].unique())\\nn_dept = len(df_ucb[\\\"dept_code\\\"].unique())\\ndf_ucb.head()\";\n                var nbb_cells = Jupyter.notebook.get_cells();\n                for (var i = 0; i < nbb_cells.length; ++i) {\n                    if (nbb_cells[i].input_prompt_number == nbb_cell_id) {\n                        if (nbb_cells[i].get_text() == nbb_unformatted_code) {\n                             nbb_cells[i].set_text(nbb_formatted_code);\n                        }\n                        break;\n                    }\n                }\n            }, 500);\n            ",
      "text/plain": [
       "<IPython.core.display.Javascript object>"
      ]
     },
     "metadata": {},
     "output_type": "display_data"
    }
   ],
   "source": [
    "DATA_DIR = '/Users/blacar/Documents/ds_projects/stats_rethinking/pymc3_ed_resources/resources/Rethinking_2/End_of_chapter_problems/data/'\n",
    "df_ucb = pd.read_csv(DATA_DIR + \"UCBadmit.csv\", sep=\";\", header=0)\n",
    "# Encode categorical variables\n",
    "df_ucb[\"dept_code\"] = pd.Categorical(df_ucb[\"dept\"]).codes\n",
    "df_ucb[\"gender_code\"] = pd.Categorical(df_ucb[\"applicant.gender\"]).codes    # female will be 0, male will be 1\n",
    "\n",
    "# Numbers of unique variables for use later\n",
    "n_gid = len(df_ucb['gender_code'].unique())\n",
    "n_dept = len(df_ucb['dept_code'].unique())\n",
    "df_ucb.head()"
   ]
  },
  {
   "cell_type": "code",
   "execution_count": 237,
   "metadata": {},
   "outputs": [
    {
     "data": {
      "text/plain": [
       "<matplotlib.axes._axes.Axes at 0x7fae600a0ca0>"
      ]
     },
     "execution_count": 237,
     "metadata": {},
     "output_type": "execute_result"
    },
    {
     "name": "stderr",
     "output_type": "stream",
     "text": [
      "/Users/blacar/opt/anaconda3/envs/stats_rethinking/lib/python3.8/site-packages/IPython/core/pylabtools.py:132: UserWarning: Calling figure.constrained_layout, but figure not setup to do constrained layout.  You either called GridSpec without the fig keyword, you are using plt.subplot, or you need to call figure or subplots with the constrained_layout=True kwarg.\n",
      "  fig.canvas.print_figure(bytes_io, **kw)\n"
     ]
    },
    {
     "data": {
      "image/png": "[encoded data removed]",
      "text/plain": [
       "<Figure size 212.598x133.858 with 1 Axes>"
      ]
     },
     "metadata": {
      "image/png": {
       "height": 153,
       "width": 232
      }
     },
     "output_type": "display_data"
    },
    {
     "data": {
      "application/javascript": "\n            setTimeout(function() {\n                var nbb_cell_id = 237;\n                var nbb_unformatted_code = \"dag = CausalGraphicalModel(\\n    nodes=[\\\"G\\\", \\\"D\\\", \\\"A\\\"],\\n    edges=[\\n        (\\\"G\\\", \\\"D\\\"),\\n        (\\\"D\\\", \\\"A\\\"),\\n        (\\\"G\\\", \\\"A\\\"),\\n    ],\\n)\\npgm = daft.PGM()\\ncoordinates = {\\n    \\\"D\\\": (1, 1),\\n    \\\"G\\\": (0, 0),\\n    \\\"A\\\": (2, 0),\\n}\\nfor node in dag.dag.nodes:\\n    pgm.add_node(node, node, *coordinates[node])\\nfor edge in dag.dag.edges:\\n    pgm.add_edge(*edge)\\npgm.render()\";\n                var nbb_formatted_code = \"dag = CausalGraphicalModel(\\n    nodes=[\\\"G\\\", \\\"D\\\", \\\"A\\\"],\\n    edges=[\\n        (\\\"G\\\", \\\"D\\\"),\\n        (\\\"D\\\", \\\"A\\\"),\\n        (\\\"G\\\", \\\"A\\\"),\\n    ],\\n)\\npgm = daft.PGM()\\ncoordinates = {\\n    \\\"D\\\": (1, 1),\\n    \\\"G\\\": (0, 0),\\n    \\\"A\\\": (2, 0),\\n}\\nfor node in dag.dag.nodes:\\n    pgm.add_node(node, node, *coordinates[node])\\nfor edge in dag.dag.edges:\\n    pgm.add_edge(*edge)\\npgm.render()\";\n                var nbb_cells = Jupyter.notebook.get_cells();\n                for (var i = 0; i < nbb_cells.length; ++i) {\n                    if (nbb_cells[i].input_prompt_number == nbb_cell_id) {\n                        if (nbb_cells[i].get_text() == nbb_unformatted_code) {\n                             nbb_cells[i].set_text(nbb_formatted_code);\n                        }\n                        break;\n                    }\n                }\n            }, 500);\n            ",
      "text/plain": [
       "<IPython.core.display.Javascript object>"
      ]
     },
     "metadata": {},
     "output_type": "display_data"
    }
   ],
   "source": [
    "dag = CausalGraphicalModel(\n",
    "    nodes=[\"G\", \"D\", \"A\"],\n",
    "    edges=[\n",
    "        (\"G\", \"D\"),\n",
    "        (\"D\", \"A\"),\n",
    "        (\"G\", \"A\"),\n",
    "    ],\n",
    ")\n",
    "pgm = daft.PGM()\n",
    "coordinates = {\n",
    "    \"D\": (1, 1),\n",
    "    \"G\": (0, 0),\n",
    "    \"A\": (2, 0),\n",
    "}\n",
    "for node in dag.dag.nodes:\n",
    "    pgm.add_node(node, node, *coordinates[node])\n",
    "for edge in dag.dag.edges:\n",
    "    pgm.add_edge(*edge)\n",
    "pgm.render()"
   ]
  },
  {
   "cell_type": "markdown",
   "metadata": {},
   "source": [
    "# Conditioning variable as additive term\n",
    "\n",
    "Rojan:\n",
    "> what is the probability of getting admission for each gender averaged across all the departments\n",
    "\n",
    "McEleath\n",
    "> Instead of asking “What are the average probabilities of admission for women and men across all departments?” we want to ask “What is the average difference in probability of admission between women and men within departments?” In order to ask the second question, we estimate unique female and male admission rates in each department.\n",
    "\n",
    "We'll be doing this with two models, one fixed effects and one with a varying effects model. The likelihood and logit link functions are the same for both:\n",
    "\n",
    "$$ A_i \\sim \\text{Binomial}(N_i, p_i) $$\n",
    "$$ \\text{logit}(p_i) = \\alpha_{\\text{GID}[i]} + \\delta_{\\text{DEPT}[i]} $$\n",
    "$$ \\alpha_j \\sim \\text{Normal}(0, 1.5) \\tag{prior for gender} $$\n",
    "$$ \\delta_k \\sim \\text{Normal}(0, 1.5) \\tag{prior for department} $$"
   ]
  },
  {
   "cell_type": "code",
   "execution_count": 6,
   "metadata": {},
   "outputs": [
    {
     "data": {
      "text/html": [
       "<div>\n",
       "<style scoped>\n",
       "    .dataframe tbody tr th:only-of-type {\n",
       "        vertical-align: middle;\n",
       "    }\n",
       "\n",
       "    .dataframe tbody tr th {\n",
       "        vertical-align: top;\n",
       "    }\n",
       "\n",
       "    .dataframe thead th {\n",
       "        text-align: right;\n",
       "    }\n",
       "</style>\n",
       "<table border=\"1\" class=\"dataframe\">\n",
       "  <thead>\n",
       "    <tr style=\"text-align: right;\">\n",
       "      <th></th>\n",
       "      <th>dept</th>\n",
       "      <th>applicant.gender</th>\n",
       "      <th>admit</th>\n",
       "      <th>reject</th>\n",
       "      <th>applications</th>\n",
       "      <th>dept_code</th>\n",
       "      <th>gender_code</th>\n",
       "    </tr>\n",
       "  </thead>\n",
       "  <tbody>\n",
       "    <tr>\n",
       "      <th>1</th>\n",
       "      <td>A</td>\n",
       "      <td>male</td>\n",
       "      <td>512</td>\n",
       "      <td>313</td>\n",
       "      <td>825</td>\n",
       "      <td>0</td>\n",
       "      <td>1</td>\n",
       "    </tr>\n",
       "    <tr>\n",
       "      <th>2</th>\n",
       "      <td>A</td>\n",
       "      <td>female</td>\n",
       "      <td>89</td>\n",
       "      <td>19</td>\n",
       "      <td>108</td>\n",
       "      <td>0</td>\n",
       "      <td>0</td>\n",
       "    </tr>\n",
       "    <tr>\n",
       "      <th>3</th>\n",
       "      <td>B</td>\n",
       "      <td>male</td>\n",
       "      <td>353</td>\n",
       "      <td>207</td>\n",
       "      <td>560</td>\n",
       "      <td>1</td>\n",
       "      <td>1</td>\n",
       "    </tr>\n",
       "    <tr>\n",
       "      <th>4</th>\n",
       "      <td>B</td>\n",
       "      <td>female</td>\n",
       "      <td>17</td>\n",
       "      <td>8</td>\n",
       "      <td>25</td>\n",
       "      <td>1</td>\n",
       "      <td>0</td>\n",
       "    </tr>\n",
       "    <tr>\n",
       "      <th>5</th>\n",
       "      <td>C</td>\n",
       "      <td>male</td>\n",
       "      <td>120</td>\n",
       "      <td>205</td>\n",
       "      <td>325</td>\n",
       "      <td>2</td>\n",
       "      <td>1</td>\n",
       "    </tr>\n",
       "  </tbody>\n",
       "</table>\n",
       "</div>"
      ],
      "text/plain": [
       "  dept applicant.gender  admit  reject  applications  dept_code  gender_code\n",
       "1    A             male    512     313           825          0            1\n",
       "2    A           female     89      19           108          0            0\n",
       "3    B             male    353     207           560          1            1\n",
       "4    B           female     17       8            25          1            0\n",
       "5    C             male    120     205           325          2            1"
      ]
     },
     "execution_count": 6,
     "metadata": {},
     "output_type": "execute_result"
    },
    {
     "data": {
      "application/javascript": "\n            setTimeout(function() {\n                var nbb_cell_id = 6;\n                var nbb_unformatted_code = \"df_ucb.head()\";\n                var nbb_formatted_code = \"df_ucb.head()\";\n                var nbb_cells = Jupyter.notebook.get_cells();\n                for (var i = 0; i < nbb_cells.length; ++i) {\n                    if (nbb_cells[i].input_prompt_number == nbb_cell_id) {\n                        if (nbb_cells[i].get_text() == nbb_unformatted_code) {\n                             nbb_cells[i].set_text(nbb_formatted_code);\n                        }\n                        break;\n                    }\n                }\n            }, 500);\n            ",
      "text/plain": [
       "<IPython.core.display.Javascript object>"
      ]
     },
     "metadata": {},
     "output_type": "display_data"
    }
   ],
   "source": [
    "df_ucb.head()"
   ]
  },
  {
   "cell_type": "code",
   "execution_count": 136,
   "metadata": {},
   "outputs": [
    {
     "name": "stderr",
     "output_type": "stream",
     "text": [
      "Auto-assigning NUTS sampler...\n",
      "INFO:pymc3:Auto-assigning NUTS sampler...\n",
      "Initializing NUTS using jitter+adapt_diag...\n",
      "INFO:pymc3:Initializing NUTS using jitter+adapt_diag...\n",
      "Multiprocess sampling (4 chains in 4 jobs)\n",
      "INFO:pymc3:Multiprocess sampling (4 chains in 4 jobs)\n",
      "NUTS: [d, a]\n",
      "INFO:pymc3:NUTS: [d, a]\n",
      "Sampling 4 chains for 1_000 tune and 5_000 draw iterations (4_000 + 20_000 draws total) took 30 seconds.\n",
      "INFO:pymc3:Sampling 4 chains for 1_000 tune and 5_000 draw iterations (4_000 + 20_000 draws total) took 30 seconds.\n",
      "The number of effective samples is smaller than 25% for some parameters.\n",
      "INFO:pymc3:The number of effective samples is smaller than 25% for some parameters.\n"
     ]
    },
    {
     "data": {
      "application/javascript": "\n            setTimeout(function() {\n                var nbb_cell_id = 136;\n                var nbb_unformatted_code = \"# book example, pg 343)\\nwith pm.Model() as mMain:\\n\\n    # Priors\\n    a = pm.Normal(\\\"a\\\", mu=0, sd=1, shape=n_gid)\\n    d = pm.Normal(\\\"d\\\", mu=0, sd=1, shape=n_dept)\\n\\n    # linear model with logit link\\n    p = pm.Deterministic(\\\"p\\\", pm.math.invlogit(a[df_ucb[\\\"gender_code\\\"]] + d[df_ucb[\\\"dept_code\\\"]]))\\n\\n    # likelihood\\n    admit = pm.Binomial(\\\"admit\\\", n=df_ucb['applications'], p=p, observed=df_ucb['admit'])\\n\\n    # generate posterior and sample\\n    trace_Main = pm.sample(draws=5000, tune=1000, return_inferencedata=False, progressbar=False)\";\n                var nbb_formatted_code = \"# book example, pg 343)\\nwith pm.Model() as mMain:\\n\\n    # Priors\\n    a = pm.Normal(\\\"a\\\", mu=0, sd=1, shape=n_gid)\\n    d = pm.Normal(\\\"d\\\", mu=0, sd=1, shape=n_dept)\\n\\n    # linear model with logit link\\n    p = pm.Deterministic(\\n        \\\"p\\\", pm.math.invlogit(a[df_ucb[\\\"gender_code\\\"]] + d[df_ucb[\\\"dept_code\\\"]])\\n    )\\n\\n    # likelihood\\n    admit = pm.Binomial(\\n        \\\"admit\\\", n=df_ucb[\\\"applications\\\"], p=p, observed=df_ucb[\\\"admit\\\"]\\n    )\\n\\n    # generate posterior and sample\\n    trace_Main = pm.sample(\\n        draws=5000, tune=1000, return_inferencedata=False, progressbar=False\\n    )\";\n                var nbb_cells = Jupyter.notebook.get_cells();\n                for (var i = 0; i < nbb_cells.length; ++i) {\n                    if (nbb_cells[i].input_prompt_number == nbb_cell_id) {\n                        if (nbb_cells[i].get_text() == nbb_unformatted_code) {\n                             nbb_cells[i].set_text(nbb_formatted_code);\n                        }\n                        break;\n                    }\n                }\n            }, 500);\n            ",
      "text/plain": [
       "<IPython.core.display.Javascript object>"
      ]
     },
     "metadata": {},
     "output_type": "display_data"
    }
   ],
   "source": [
    "# book example, pg 343)\n",
    "with pm.Model() as mMain:\n",
    "\n",
    "    # Priors\n",
    "    a = pm.Normal(\"a\", mu=0, sd=1, shape=n_gid)\n",
    "    d = pm.Normal(\"d\", mu=0, sd=1, shape=n_dept)\n",
    "\n",
    "    # linear model with logit link\n",
    "    p = pm.Deterministic(\"p\", pm.math.invlogit(a[df_ucb[\"gender_code\"]] + d[df_ucb[\"dept_code\"]]))\n",
    "\n",
    "    # likelihood\n",
    "    admit = pm.Binomial(\"admit\", n=df_ucb['applications'], p=p, observed=df_ucb['admit'])\n",
    "\n",
    "    # generate posterior and sample\n",
    "    trace_Main = pm.sample(draws=5000, tune=1000, return_inferencedata=False, progressbar=False)"
   ]
  },
  {
   "cell_type": "code",
   "execution_count": 120,
   "metadata": {},
   "outputs": [
    {
     "data": {
      "text/html": [
       "<div>\n",
       "<style scoped>\n",
       "    .dataframe tbody tr th:only-of-type {\n",
       "        vertical-align: middle;\n",
       "    }\n",
       "\n",
       "    .dataframe tbody tr th {\n",
       "        vertical-align: top;\n",
       "    }\n",
       "\n",
       "    .dataframe thead th {\n",
       "        text-align: right;\n",
       "    }\n",
       "</style>\n",
       "<table border=\"1\" class=\"dataframe\">\n",
       "  <thead>\n",
       "    <tr style=\"text-align: right;\">\n",
       "      <th></th>\n",
       "      <th>dept</th>\n",
       "      <th>applicant.gender</th>\n",
       "      <th>admit</th>\n",
       "      <th>reject</th>\n",
       "      <th>applications</th>\n",
       "      <th>dept_code</th>\n",
       "      <th>gender_code</th>\n",
       "    </tr>\n",
       "  </thead>\n",
       "  <tbody>\n",
       "    <tr>\n",
       "      <th>1</th>\n",
       "      <td>A</td>\n",
       "      <td>male</td>\n",
       "      <td>512</td>\n",
       "      <td>313</td>\n",
       "      <td>825</td>\n",
       "      <td>0</td>\n",
       "      <td>1</td>\n",
       "    </tr>\n",
       "    <tr>\n",
       "      <th>2</th>\n",
       "      <td>A</td>\n",
       "      <td>female</td>\n",
       "      <td>89</td>\n",
       "      <td>19</td>\n",
       "      <td>108</td>\n",
       "      <td>0</td>\n",
       "      <td>0</td>\n",
       "    </tr>\n",
       "    <tr>\n",
       "      <th>3</th>\n",
       "      <td>B</td>\n",
       "      <td>male</td>\n",
       "      <td>353</td>\n",
       "      <td>207</td>\n",
       "      <td>560</td>\n",
       "      <td>1</td>\n",
       "      <td>1</td>\n",
       "    </tr>\n",
       "    <tr>\n",
       "      <th>4</th>\n",
       "      <td>B</td>\n",
       "      <td>female</td>\n",
       "      <td>17</td>\n",
       "      <td>8</td>\n",
       "      <td>25</td>\n",
       "      <td>1</td>\n",
       "      <td>0</td>\n",
       "    </tr>\n",
       "    <tr>\n",
       "      <th>5</th>\n",
       "      <td>C</td>\n",
       "      <td>male</td>\n",
       "      <td>120</td>\n",
       "      <td>205</td>\n",
       "      <td>325</td>\n",
       "      <td>2</td>\n",
       "      <td>1</td>\n",
       "    </tr>\n",
       "  </tbody>\n",
       "</table>\n",
       "</div>"
      ],
      "text/plain": [
       "  dept applicant.gender  admit  reject  applications  dept_code  gender_code\n",
       "1    A             male    512     313           825          0            1\n",
       "2    A           female     89      19           108          0            0\n",
       "3    B             male    353     207           560          1            1\n",
       "4    B           female     17       8            25          1            0\n",
       "5    C             male    120     205           325          2            1"
      ]
     },
     "execution_count": 120,
     "metadata": {},
     "output_type": "execute_result"
    },
    {
     "data": {
      "application/javascript": "\n            setTimeout(function() {\n                var nbb_cell_id = 120;\n                var nbb_unformatted_code = \"df_ucb.head()\";\n                var nbb_formatted_code = \"df_ucb.head()\";\n                var nbb_cells = Jupyter.notebook.get_cells();\n                for (var i = 0; i < nbb_cells.length; ++i) {\n                    if (nbb_cells[i].input_prompt_number == nbb_cell_id) {\n                        if (nbb_cells[i].get_text() == nbb_unformatted_code) {\n                             nbb_cells[i].set_text(nbb_formatted_code);\n                        }\n                        break;\n                    }\n                }\n            }, 500);\n            ",
      "text/plain": [
       "<IPython.core.display.Javascript object>"
      ]
     },
     "metadata": {},
     "output_type": "display_data"
    }
   ],
   "source": [
    "df_ucb.head()"
   ]
  },
  {
   "cell_type": "code",
   "execution_count": 145,
   "metadata": {},
   "outputs": [
    {
     "name": "stderr",
     "output_type": "stream",
     "text": [
      "/Users/blacar/opt/anaconda3/envs/stats_rethinking/lib/python3.8/site-packages/arviz/data/io_pymc3.py:88: FutureWarning: Using `from_pymc3` without the model will be deprecated in a future release. Not using the model will return less accurate and less useful results. Make sure you use the model argument or call from_pymc3 within a model context.\n",
      "  warnings.warn(\n"
     ]
    },
    {
     "data": {
      "text/html": [
       "<div>\n",
       "<style scoped>\n",
       "    .dataframe tbody tr th:only-of-type {\n",
       "        vertical-align: middle;\n",
       "    }\n",
       "\n",
       "    .dataframe tbody tr th {\n",
       "        vertical-align: top;\n",
       "    }\n",
       "\n",
       "    .dataframe thead th {\n",
       "        text-align: right;\n",
       "    }\n",
       "</style>\n",
       "<table border=\"1\" class=\"dataframe\">\n",
       "  <thead>\n",
       "    <tr style=\"text-align: right;\">\n",
       "      <th></th>\n",
       "      <th>mean</th>\n",
       "      <th>sd</th>\n",
       "      <th>hdi_5.5%</th>\n",
       "      <th>hdi_94.5%</th>\n",
       "      <th>mcse_mean</th>\n",
       "      <th>mcse_sd</th>\n",
       "      <th>ess_mean</th>\n",
       "      <th>ess_sd</th>\n",
       "      <th>ess_bulk</th>\n",
       "      <th>ess_tail</th>\n",
       "      <th>r_hat</th>\n",
       "    </tr>\n",
       "  </thead>\n",
       "  <tbody>\n",
       "    <tr>\n",
       "      <th>a[0]</th>\n",
       "      <td>-0.434</td>\n",
       "      <td>0.375</td>\n",
       "      <td>-1.039</td>\n",
       "      <td>0.159</td>\n",
       "      <td>0.008</td>\n",
       "      <td>0.006</td>\n",
       "      <td>2083.0</td>\n",
       "      <td>2083.0</td>\n",
       "      <td>2079.0</td>\n",
       "      <td>2699.0</td>\n",
       "      <td>1.0</td>\n",
       "    </tr>\n",
       "    <tr>\n",
       "      <th>a[1]</th>\n",
       "      <td>-0.527</td>\n",
       "      <td>0.374</td>\n",
       "      <td>-1.110</td>\n",
       "      <td>0.082</td>\n",
       "      <td>0.008</td>\n",
       "      <td>0.006</td>\n",
       "      <td>2054.0</td>\n",
       "      <td>2054.0</td>\n",
       "      <td>2049.0</td>\n",
       "      <td>2546.0</td>\n",
       "      <td>1.0</td>\n",
       "    </tr>\n",
       "    <tr>\n",
       "      <th>d[0]</th>\n",
       "      <td>1.106</td>\n",
       "      <td>0.378</td>\n",
       "      <td>0.507</td>\n",
       "      <td>1.715</td>\n",
       "      <td>0.008</td>\n",
       "      <td>0.006</td>\n",
       "      <td>2103.0</td>\n",
       "      <td>2103.0</td>\n",
       "      <td>2097.0</td>\n",
       "      <td>2698.0</td>\n",
       "      <td>1.0</td>\n",
       "    </tr>\n",
       "    <tr>\n",
       "      <th>d[1]</th>\n",
       "      <td>1.059</td>\n",
       "      <td>0.380</td>\n",
       "      <td>0.445</td>\n",
       "      <td>1.656</td>\n",
       "      <td>0.008</td>\n",
       "      <td>0.006</td>\n",
       "      <td>2126.0</td>\n",
       "      <td>2126.0</td>\n",
       "      <td>2121.0</td>\n",
       "      <td>3048.0</td>\n",
       "      <td>1.0</td>\n",
       "    </tr>\n",
       "    <tr>\n",
       "      <th>d[2]</th>\n",
       "      <td>-0.150</td>\n",
       "      <td>0.377</td>\n",
       "      <td>-0.766</td>\n",
       "      <td>0.441</td>\n",
       "      <td>0.008</td>\n",
       "      <td>0.006</td>\n",
       "      <td>2106.0</td>\n",
       "      <td>2106.0</td>\n",
       "      <td>2101.0</td>\n",
       "      <td>2787.0</td>\n",
       "      <td>1.0</td>\n",
       "    </tr>\n",
       "    <tr>\n",
       "      <th>d[3]</th>\n",
       "      <td>-0.183</td>\n",
       "      <td>0.378</td>\n",
       "      <td>-0.809</td>\n",
       "      <td>0.401</td>\n",
       "      <td>0.008</td>\n",
       "      <td>0.006</td>\n",
       "      <td>2115.0</td>\n",
       "      <td>2115.0</td>\n",
       "      <td>2110.0</td>\n",
       "      <td>2787.0</td>\n",
       "      <td>1.0</td>\n",
       "    </tr>\n",
       "    <tr>\n",
       "      <th>d[4]</th>\n",
       "      <td>-0.623</td>\n",
       "      <td>0.382</td>\n",
       "      <td>-1.229</td>\n",
       "      <td>-0.008</td>\n",
       "      <td>0.008</td>\n",
       "      <td>0.006</td>\n",
       "      <td>2159.0</td>\n",
       "      <td>2159.0</td>\n",
       "      <td>2155.0</td>\n",
       "      <td>2962.0</td>\n",
       "      <td>1.0</td>\n",
       "    </tr>\n",
       "    <tr>\n",
       "      <th>d[5]</th>\n",
       "      <td>-2.155</td>\n",
       "      <td>0.394</td>\n",
       "      <td>-2.781</td>\n",
       "      <td>-1.525</td>\n",
       "      <td>0.008</td>\n",
       "      <td>0.006</td>\n",
       "      <td>2244.0</td>\n",
       "      <td>2244.0</td>\n",
       "      <td>2236.0</td>\n",
       "      <td>3113.0</td>\n",
       "      <td>1.0</td>\n",
       "    </tr>\n",
       "  </tbody>\n",
       "</table>\n",
       "</div>"
      ],
      "text/plain": [
       "       mean     sd  hdi_5.5%  hdi_94.5%  mcse_mean  mcse_sd  ess_mean  ess_sd  \\\n",
       "a[0] -0.434  0.375    -1.039      0.159      0.008    0.006    2083.0  2083.0   \n",
       "a[1] -0.527  0.374    -1.110      0.082      0.008    0.006    2054.0  2054.0   \n",
       "d[0]  1.106  0.378     0.507      1.715      0.008    0.006    2103.0  2103.0   \n",
       "d[1]  1.059  0.380     0.445      1.656      0.008    0.006    2126.0  2126.0   \n",
       "d[2] -0.150  0.377    -0.766      0.441      0.008    0.006    2106.0  2106.0   \n",
       "d[3] -0.183  0.378    -0.809      0.401      0.008    0.006    2115.0  2115.0   \n",
       "d[4] -0.623  0.382    -1.229     -0.008      0.008    0.006    2159.0  2159.0   \n",
       "d[5] -2.155  0.394    -2.781     -1.525      0.008    0.006    2244.0  2244.0   \n",
       "\n",
       "      ess_bulk  ess_tail  r_hat  \n",
       "a[0]    2079.0    2699.0    1.0  \n",
       "a[1]    2049.0    2546.0    1.0  \n",
       "d[0]    2097.0    2698.0    1.0  \n",
       "d[1]    2121.0    3048.0    1.0  \n",
       "d[2]    2101.0    2787.0    1.0  \n",
       "d[3]    2110.0    2787.0    1.0  \n",
       "d[4]    2155.0    2962.0    1.0  \n",
       "d[5]    2236.0    3113.0    1.0  "
      ]
     },
     "execution_count": 145,
     "metadata": {},
     "output_type": "execute_result"
    },
    {
     "data": {
      "application/javascript": "\n            setTimeout(function() {\n                var nbb_cell_id = 145;\n                var nbb_unformatted_code = \"df_summary_Main = az.summary(trace_Main, var_names=[\\\"a\\\", \\\"d\\\"])\\ndf_summary_Main\";\n                var nbb_formatted_code = \"df_summary_Main = az.summary(trace_Main, var_names=[\\\"a\\\", \\\"d\\\"])\\ndf_summary_Main\";\n                var nbb_cells = Jupyter.notebook.get_cells();\n                for (var i = 0; i < nbb_cells.length; ++i) {\n                    if (nbb_cells[i].input_prompt_number == nbb_cell_id) {\n                        if (nbb_cells[i].get_text() == nbb_unformatted_code) {\n                             nbb_cells[i].set_text(nbb_formatted_code);\n                        }\n                        break;\n                    }\n                }\n            }, 500);\n            ",
      "text/plain": [
       "<IPython.core.display.Javascript object>"
      ]
     },
     "metadata": {},
     "output_type": "display_data"
    }
   ],
   "source": [
    "df_summary_Main = az.summary(trace_Main, var_names=[\"a\", \"d\"])\n",
    "df_summary_Main"
   ]
  },
  {
   "cell_type": "code",
   "execution_count": 149,
   "metadata": {},
   "outputs": [
    {
     "data": {
      "text/html": [
       "<div>\n",
       "<style scoped>\n",
       "    .dataframe tbody tr th:only-of-type {\n",
       "        vertical-align: middle;\n",
       "    }\n",
       "\n",
       "    .dataframe tbody tr th {\n",
       "        vertical-align: top;\n",
       "    }\n",
       "\n",
       "    .dataframe thead th {\n",
       "        text-align: right;\n",
       "    }\n",
       "</style>\n",
       "<table border=\"1\" class=\"dataframe\">\n",
       "  <thead>\n",
       "    <tr style=\"text-align: right;\">\n",
       "      <th></th>\n",
       "      <th>a__0</th>\n",
       "      <th>a__1</th>\n",
       "      <th>d__0</th>\n",
       "      <th>d__1</th>\n",
       "      <th>d__2</th>\n",
       "      <th>d__3</th>\n",
       "      <th>d__4</th>\n",
       "      <th>d__5</th>\n",
       "      <th>p__0</th>\n",
       "      <th>p__1</th>\n",
       "      <th>p__2</th>\n",
       "      <th>p__3</th>\n",
       "      <th>p__4</th>\n",
       "      <th>p__5</th>\n",
       "      <th>p__6</th>\n",
       "      <th>p__7</th>\n",
       "      <th>p__8</th>\n",
       "      <th>p__9</th>\n",
       "      <th>p__10</th>\n",
       "      <th>p__11</th>\n",
       "    </tr>\n",
       "  </thead>\n",
       "  <tbody>\n",
       "    <tr>\n",
       "      <th>0</th>\n",
       "      <td>-0.550822</td>\n",
       "      <td>-0.770695</td>\n",
       "      <td>1.277250</td>\n",
       "      <td>1.303665</td>\n",
       "      <td>0.025600</td>\n",
       "      <td>-0.042733</td>\n",
       "      <td>-0.099879</td>\n",
       "      <td>-1.982298</td>\n",
       "      <td>0.623999</td>\n",
       "      <td>0.674021</td>\n",
       "      <td>0.630176</td>\n",
       "      <td>0.679798</td>\n",
       "      <td>0.321891</td>\n",
       "      <td>0.371632</td>\n",
       "      <td>0.307160</td>\n",
       "      <td>0.355820</td>\n",
       "      <td>0.295135</td>\n",
       "      <td>0.342832</td>\n",
       "      <td>0.059918</td>\n",
       "      <td>0.073569</td>\n",
       "    </tr>\n",
       "    <tr>\n",
       "      <th>1</th>\n",
       "      <td>-0.565848</td>\n",
       "      <td>-0.640832</td>\n",
       "      <td>1.217053</td>\n",
       "      <td>1.093241</td>\n",
       "      <td>0.075298</td>\n",
       "      <td>0.025308</td>\n",
       "      <td>-0.668516</td>\n",
       "      <td>-2.109529</td>\n",
       "      <td>0.640197</td>\n",
       "      <td>0.657282</td>\n",
       "      <td>0.611212</td>\n",
       "      <td>0.628875</td>\n",
       "      <td>0.362268</td>\n",
       "      <td>0.379764</td>\n",
       "      <td>0.350800</td>\n",
       "      <td>0.368062</td>\n",
       "      <td>0.212596</td>\n",
       "      <td>0.225419</td>\n",
       "      <td>0.060066</td>\n",
       "      <td>0.064442</td>\n",
       "    </tr>\n",
       "    <tr>\n",
       "      <th>2</th>\n",
       "      <td>-0.658590</td>\n",
       "      <td>-0.639156</td>\n",
       "      <td>1.229350</td>\n",
       "      <td>1.253438</td>\n",
       "      <td>-0.091486</td>\n",
       "      <td>0.014894</td>\n",
       "      <td>-0.440703</td>\n",
       "      <td>-2.084594</td>\n",
       "      <td>0.643410</td>\n",
       "      <td>0.638939</td>\n",
       "      <td>0.648917</td>\n",
       "      <td>0.644477</td>\n",
       "      <td>0.325054</td>\n",
       "      <td>0.320805</td>\n",
       "      <td>0.348813</td>\n",
       "      <td>0.344412</td>\n",
       "      <td>0.253533</td>\n",
       "      <td>0.249872</td>\n",
       "      <td>0.061586</td>\n",
       "      <td>0.060473</td>\n",
       "    </tr>\n",
       "    <tr>\n",
       "      <th>3</th>\n",
       "      <td>-0.248733</td>\n",
       "      <td>-0.344125</td>\n",
       "      <td>0.982375</td>\n",
       "      <td>0.790584</td>\n",
       "      <td>-0.311153</td>\n",
       "      <td>-0.489168</td>\n",
       "      <td>-0.792889</td>\n",
       "      <td>-2.388668</td>\n",
       "      <td>0.654358</td>\n",
       "      <td>0.675604</td>\n",
       "      <td>0.609797</td>\n",
       "      <td>0.632243</td>\n",
       "      <td>0.341801</td>\n",
       "      <td>0.363574</td>\n",
       "      <td>0.302949</td>\n",
       "      <td>0.323463</td>\n",
       "      <td>0.242869</td>\n",
       "      <td>0.260837</td>\n",
       "      <td>0.061066</td>\n",
       "      <td>0.066770</td>\n",
       "    </tr>\n",
       "    <tr>\n",
       "      <th>4</th>\n",
       "      <td>-0.134869</td>\n",
       "      <td>-0.278729</td>\n",
       "      <td>0.839810</td>\n",
       "      <td>0.749463</td>\n",
       "      <td>-0.530520</td>\n",
       "      <td>-0.387209</td>\n",
       "      <td>-0.934308</td>\n",
       "      <td>-2.439295</td>\n",
       "      <td>0.636703</td>\n",
       "      <td>0.669282</td>\n",
       "      <td>0.615557</td>\n",
       "      <td>0.648988</td>\n",
       "      <td>0.308050</td>\n",
       "      <td>0.339530</td>\n",
       "      <td>0.339407</td>\n",
       "      <td>0.372367</td>\n",
       "      <td>0.229164</td>\n",
       "      <td>0.255560</td>\n",
       "      <td>0.061918</td>\n",
       "      <td>0.070820</td>\n",
       "    </tr>\n",
       "  </tbody>\n",
       "</table>\n",
       "</div>"
      ],
      "text/plain": [
       "       a__0      a__1      d__0      d__1      d__2      d__3      d__4  \\\n",
       "0 -0.550822 -0.770695  1.277250  1.303665  0.025600 -0.042733 -0.099879   \n",
       "1 -0.565848 -0.640832  1.217053  1.093241  0.075298  0.025308 -0.668516   \n",
       "2 -0.658590 -0.639156  1.229350  1.253438 -0.091486  0.014894 -0.440703   \n",
       "3 -0.248733 -0.344125  0.982375  0.790584 -0.311153 -0.489168 -0.792889   \n",
       "4 -0.134869 -0.278729  0.839810  0.749463 -0.530520 -0.387209 -0.934308   \n",
       "\n",
       "       d__5      p__0      p__1      p__2      p__3      p__4      p__5  \\\n",
       "0 -1.982298  0.623999  0.674021  0.630176  0.679798  0.321891  0.371632   \n",
       "1 -2.109529  0.640197  0.657282  0.611212  0.628875  0.362268  0.379764   \n",
       "2 -2.084594  0.643410  0.638939  0.648917  0.644477  0.325054  0.320805   \n",
       "3 -2.388668  0.654358  0.675604  0.609797  0.632243  0.341801  0.363574   \n",
       "4 -2.439295  0.636703  0.669282  0.615557  0.648988  0.308050  0.339530   \n",
       "\n",
       "       p__6      p__7      p__8      p__9     p__10     p__11  \n",
       "0  0.307160  0.355820  0.295135  0.342832  0.059918  0.073569  \n",
       "1  0.350800  0.368062  0.212596  0.225419  0.060066  0.064442  \n",
       "2  0.348813  0.344412  0.253533  0.249872  0.061586  0.060473  \n",
       "3  0.302949  0.323463  0.242869  0.260837  0.061066  0.066770  \n",
       "4  0.339407  0.372367  0.229164  0.255560  0.061918  0.070820  "
      ]
     },
     "execution_count": 149,
     "metadata": {},
     "output_type": "execute_result"
    },
    {
     "data": {
      "application/javascript": "\n            setTimeout(function() {\n                var nbb_cell_id = 149;\n                var nbb_unformatted_code = \"trace_Main_df = pm.trace_to_dataframe(trace_Main)\\ntrace_Main_df.head()\";\n                var nbb_formatted_code = \"trace_Main_df = pm.trace_to_dataframe(trace_Main)\\ntrace_Main_df.head()\";\n                var nbb_cells = Jupyter.notebook.get_cells();\n                for (var i = 0; i < nbb_cells.length; ++i) {\n                    if (nbb_cells[i].input_prompt_number == nbb_cell_id) {\n                        if (nbb_cells[i].get_text() == nbb_unformatted_code) {\n                             nbb_cells[i].set_text(nbb_formatted_code);\n                        }\n                        break;\n                    }\n                }\n            }, 500);\n            ",
      "text/plain": [
       "<IPython.core.display.Javascript object>"
      ]
     },
     "metadata": {},
     "output_type": "display_data"
    }
   ],
   "source": [
    "trace_Main_df = pm.trace_to_dataframe(trace_Main)\n",
    "trace_Main_df.head()"
   ]
  },
  {
   "cell_type": "markdown",
   "metadata": {},
   "source": [
    "# Conditioning variable as interactive term\n",
    "\n",
    "$$ A_i \\sim \\text{Binomial}(N_i, p_i) $$\n",
    "$$ \\text{logit}(p_i) = \\alpha[G_i, D_i] $$\n",
    "$$ \\alpha_j \\sim \\text{Normal}(0, 1.5) \\tag{prior for each gender, department combination} $$\n",
    "\n",
    "<br>\n",
    "<br>\n",
    "\n",
    "$$ A_i \\sim \\text{Binomial}(N_i, p_i) $$\n",
    "$$ \\text{logit}(p_i) = \\alpha_{\\text{GID}[i]} + \\delta_{\\text{DEPT}[i]} $$\n",
    "$$ \\alpha_j \\sim \\text{Normal}(0, 1.5) \\tag{prior for gender} $$\n",
    "$$ \\delta_k \\sim \\text{Normal}(0, 1.5) \\tag{prior for department} $$"
   ]
  },
  {
   "cell_type": "markdown",
   "metadata": {},
   "source": [
    "Rojan says interaction is like pandas groupby"
   ]
  },
  {
   "cell_type": "code",
   "execution_count": 110,
   "metadata": {},
   "outputs": [
    {
     "data": {
      "text/html": [
       "<div>\n",
       "<style scoped>\n",
       "    .dataframe tbody tr th:only-of-type {\n",
       "        vertical-align: middle;\n",
       "    }\n",
       "\n",
       "    .dataframe tbody tr th {\n",
       "        vertical-align: top;\n",
       "    }\n",
       "\n",
       "    .dataframe thead th {\n",
       "        text-align: right;\n",
       "    }\n",
       "</style>\n",
       "<table border=\"1\" class=\"dataframe\">\n",
       "  <thead>\n",
       "    <tr style=\"text-align: right;\">\n",
       "      <th></th>\n",
       "      <th>dept</th>\n",
       "      <th>applicant.gender</th>\n",
       "      <th>admit</th>\n",
       "      <th>reject</th>\n",
       "      <th>applications</th>\n",
       "      <th>dept_code</th>\n",
       "      <th>gender_code</th>\n",
       "    </tr>\n",
       "  </thead>\n",
       "  <tbody>\n",
       "    <tr>\n",
       "      <th>1</th>\n",
       "      <td>A</td>\n",
       "      <td>male</td>\n",
       "      <td>512</td>\n",
       "      <td>313</td>\n",
       "      <td>825</td>\n",
       "      <td>0</td>\n",
       "      <td>1</td>\n",
       "    </tr>\n",
       "    <tr>\n",
       "      <th>2</th>\n",
       "      <td>A</td>\n",
       "      <td>female</td>\n",
       "      <td>89</td>\n",
       "      <td>19</td>\n",
       "      <td>108</td>\n",
       "      <td>0</td>\n",
       "      <td>0</td>\n",
       "    </tr>\n",
       "    <tr>\n",
       "      <th>3</th>\n",
       "      <td>B</td>\n",
       "      <td>male</td>\n",
       "      <td>353</td>\n",
       "      <td>207</td>\n",
       "      <td>560</td>\n",
       "      <td>1</td>\n",
       "      <td>1</td>\n",
       "    </tr>\n",
       "    <tr>\n",
       "      <th>4</th>\n",
       "      <td>B</td>\n",
       "      <td>female</td>\n",
       "      <td>17</td>\n",
       "      <td>8</td>\n",
       "      <td>25</td>\n",
       "      <td>1</td>\n",
       "      <td>0</td>\n",
       "    </tr>\n",
       "    <tr>\n",
       "      <th>5</th>\n",
       "      <td>C</td>\n",
       "      <td>male</td>\n",
       "      <td>120</td>\n",
       "      <td>205</td>\n",
       "      <td>325</td>\n",
       "      <td>2</td>\n",
       "      <td>1</td>\n",
       "    </tr>\n",
       "  </tbody>\n",
       "</table>\n",
       "</div>"
      ],
      "text/plain": [
       "  dept applicant.gender  admit  reject  applications  dept_code  gender_code\n",
       "1    A             male    512     313           825          0            1\n",
       "2    A           female     89      19           108          0            0\n",
       "3    B             male    353     207           560          1            1\n",
       "4    B           female     17       8            25          1            0\n",
       "5    C             male    120     205           325          2            1"
      ]
     },
     "execution_count": 110,
     "metadata": {},
     "output_type": "execute_result"
    },
    {
     "data": {
      "application/javascript": "\n            setTimeout(function() {\n                var nbb_cell_id = 110;\n                var nbb_unformatted_code = \"df_ucb.head()\";\n                var nbb_formatted_code = \"df_ucb.head()\";\n                var nbb_cells = Jupyter.notebook.get_cells();\n                for (var i = 0; i < nbb_cells.length; ++i) {\n                    if (nbb_cells[i].input_prompt_number == nbb_cell_id) {\n                        if (nbb_cells[i].get_text() == nbb_unformatted_code) {\n                             nbb_cells[i].set_text(nbb_formatted_code);\n                        }\n                        break;\n                    }\n                }\n            }, 500);\n            ",
      "text/plain": [
       "<IPython.core.display.Javascript object>"
      ]
     },
     "metadata": {},
     "output_type": "display_data"
    }
   ],
   "source": [
    "df_ucb.head()"
   ]
  },
  {
   "cell_type": "code",
   "execution_count": 118,
   "metadata": {},
   "outputs": [
    {
     "data": {
      "text/html": [
       "<div>\n",
       "<style scoped>\n",
       "    .dataframe tbody tr th:only-of-type {\n",
       "        vertical-align: middle;\n",
       "    }\n",
       "\n",
       "    .dataframe tbody tr th {\n",
       "        vertical-align: top;\n",
       "    }\n",
       "\n",
       "    .dataframe thead th {\n",
       "        text-align: right;\n",
       "    }\n",
       "</style>\n",
       "<table border=\"1\" class=\"dataframe\">\n",
       "  <thead>\n",
       "    <tr style=\"text-align: right;\">\n",
       "      <th></th>\n",
       "      <th>dept</th>\n",
       "      <th>applicant.gender</th>\n",
       "      <th>admit</th>\n",
       "      <th>reject</th>\n",
       "      <th>applications</th>\n",
       "      <th>dept_code</th>\n",
       "      <th>gender_code</th>\n",
       "    </tr>\n",
       "  </thead>\n",
       "  <tbody>\n",
       "    <tr>\n",
       "      <th>1</th>\n",
       "      <td>A</td>\n",
       "      <td>male</td>\n",
       "      <td>512</td>\n",
       "      <td>313</td>\n",
       "      <td>825</td>\n",
       "      <td>0</td>\n",
       "      <td>1</td>\n",
       "    </tr>\n",
       "    <tr>\n",
       "      <th>3</th>\n",
       "      <td>B</td>\n",
       "      <td>male</td>\n",
       "      <td>353</td>\n",
       "      <td>207</td>\n",
       "      <td>560</td>\n",
       "      <td>1</td>\n",
       "      <td>1</td>\n",
       "    </tr>\n",
       "    <tr>\n",
       "      <th>5</th>\n",
       "      <td>C</td>\n",
       "      <td>male</td>\n",
       "      <td>120</td>\n",
       "      <td>205</td>\n",
       "      <td>325</td>\n",
       "      <td>2</td>\n",
       "      <td>1</td>\n",
       "    </tr>\n",
       "    <tr>\n",
       "      <th>7</th>\n",
       "      <td>D</td>\n",
       "      <td>male</td>\n",
       "      <td>138</td>\n",
       "      <td>279</td>\n",
       "      <td>417</td>\n",
       "      <td>3</td>\n",
       "      <td>1</td>\n",
       "    </tr>\n",
       "    <tr>\n",
       "      <th>9</th>\n",
       "      <td>E</td>\n",
       "      <td>male</td>\n",
       "      <td>53</td>\n",
       "      <td>138</td>\n",
       "      <td>191</td>\n",
       "      <td>4</td>\n",
       "      <td>1</td>\n",
       "    </tr>\n",
       "    <tr>\n",
       "      <th>11</th>\n",
       "      <td>F</td>\n",
       "      <td>male</td>\n",
       "      <td>22</td>\n",
       "      <td>351</td>\n",
       "      <td>373</td>\n",
       "      <td>5</td>\n",
       "      <td>1</td>\n",
       "    </tr>\n",
       "  </tbody>\n",
       "</table>\n",
       "</div>"
      ],
      "text/plain": [
       "   dept applicant.gender  admit  reject  applications  dept_code  gender_code\n",
       "1     A             male    512     313           825          0            1\n",
       "3     B             male    353     207           560          1            1\n",
       "5     C             male    120     205           325          2            1\n",
       "7     D             male    138     279           417          3            1\n",
       "9     E             male     53     138           191          4            1\n",
       "11    F             male     22     351           373          5            1"
      ]
     },
     "execution_count": 118,
     "metadata": {},
     "output_type": "execute_result"
    },
    {
     "data": {
      "application/javascript": "\n            setTimeout(function() {\n                var nbb_cell_id = 118;\n                var nbb_unformatted_code = \"df_ucb[df_ucb['applicant.gender']=='male']\";\n                var nbb_formatted_code = \"df_ucb[df_ucb[\\\"applicant.gender\\\"] == \\\"male\\\"]\";\n                var nbb_cells = Jupyter.notebook.get_cells();\n                for (var i = 0; i < nbb_cells.length; ++i) {\n                    if (nbb_cells[i].input_prompt_number == nbb_cell_id) {\n                        if (nbb_cells[i].get_text() == nbb_unformatted_code) {\n                             nbb_cells[i].set_text(nbb_formatted_code);\n                        }\n                        break;\n                    }\n                }\n            }, 500);\n            ",
      "text/plain": [
       "<IPython.core.display.Javascript object>"
      ]
     },
     "metadata": {},
     "output_type": "display_data"
    }
   ],
   "source": [
    "df_ucb[df_ucb['applicant.gender']=='male']"
   ]
  },
  {
   "cell_type": "code",
   "execution_count": 117,
   "metadata": {},
   "outputs": [
    {
     "data": {
      "text/html": [
       "<div>\n",
       "<style scoped>\n",
       "    .dataframe tbody tr th:only-of-type {\n",
       "        vertical-align: middle;\n",
       "    }\n",
       "\n",
       "    .dataframe tbody tr th {\n",
       "        vertical-align: top;\n",
       "    }\n",
       "\n",
       "    .dataframe thead th {\n",
       "        text-align: right;\n",
       "    }\n",
       "</style>\n",
       "<table border=\"1\" class=\"dataframe\">\n",
       "  <thead>\n",
       "    <tr style=\"text-align: right;\">\n",
       "      <th></th>\n",
       "      <th></th>\n",
       "      <th>admit</th>\n",
       "      <th>reject</th>\n",
       "      <th>applications</th>\n",
       "    </tr>\n",
       "    <tr>\n",
       "      <th>gender_code</th>\n",
       "      <th>dept_code</th>\n",
       "      <th></th>\n",
       "      <th></th>\n",
       "      <th></th>\n",
       "    </tr>\n",
       "  </thead>\n",
       "  <tbody>\n",
       "    <tr>\n",
       "      <th rowspan=\"6\" valign=\"top\">0</th>\n",
       "      <th>0</th>\n",
       "      <td>89</td>\n",
       "      <td>19</td>\n",
       "      <td>108</td>\n",
       "    </tr>\n",
       "    <tr>\n",
       "      <th>1</th>\n",
       "      <td>17</td>\n",
       "      <td>8</td>\n",
       "      <td>25</td>\n",
       "    </tr>\n",
       "    <tr>\n",
       "      <th>2</th>\n",
       "      <td>202</td>\n",
       "      <td>391</td>\n",
       "      <td>593</td>\n",
       "    </tr>\n",
       "    <tr>\n",
       "      <th>3</th>\n",
       "      <td>131</td>\n",
       "      <td>244</td>\n",
       "      <td>375</td>\n",
       "    </tr>\n",
       "    <tr>\n",
       "      <th>4</th>\n",
       "      <td>94</td>\n",
       "      <td>299</td>\n",
       "      <td>393</td>\n",
       "    </tr>\n",
       "    <tr>\n",
       "      <th>5</th>\n",
       "      <td>24</td>\n",
       "      <td>317</td>\n",
       "      <td>341</td>\n",
       "    </tr>\n",
       "    <tr>\n",
       "      <th rowspan=\"6\" valign=\"top\">1</th>\n",
       "      <th>0</th>\n",
       "      <td>512</td>\n",
       "      <td>313</td>\n",
       "      <td>825</td>\n",
       "    </tr>\n",
       "    <tr>\n",
       "      <th>1</th>\n",
       "      <td>353</td>\n",
       "      <td>207</td>\n",
       "      <td>560</td>\n",
       "    </tr>\n",
       "    <tr>\n",
       "      <th>2</th>\n",
       "      <td>120</td>\n",
       "      <td>205</td>\n",
       "      <td>325</td>\n",
       "    </tr>\n",
       "    <tr>\n",
       "      <th>3</th>\n",
       "      <td>138</td>\n",
       "      <td>279</td>\n",
       "      <td>417</td>\n",
       "    </tr>\n",
       "    <tr>\n",
       "      <th>4</th>\n",
       "      <td>53</td>\n",
       "      <td>138</td>\n",
       "      <td>191</td>\n",
       "    </tr>\n",
       "    <tr>\n",
       "      <th>5</th>\n",
       "      <td>22</td>\n",
       "      <td>351</td>\n",
       "      <td>373</td>\n",
       "    </tr>\n",
       "  </tbody>\n",
       "</table>\n",
       "</div>"
      ],
      "text/plain": [
       "                       admit  reject  applications\n",
       "gender_code dept_code                             \n",
       "0           0             89      19           108\n",
       "            1             17       8            25\n",
       "            2            202     391           593\n",
       "            3            131     244           375\n",
       "            4             94     299           393\n",
       "            5             24     317           341\n",
       "1           0            512     313           825\n",
       "            1            353     207           560\n",
       "            2            120     205           325\n",
       "            3            138     279           417\n",
       "            4             53     138           191\n",
       "            5             22     351           373"
      ]
     },
     "execution_count": 117,
     "metadata": {},
     "output_type": "execute_result"
    },
    {
     "data": {
      "application/javascript": "\n            setTimeout(function() {\n                var nbb_cell_id = 117;\n                var nbb_unformatted_code = \"df_ucb.groupby(['gender_code', 'dept_code']).sum()\";\n                var nbb_formatted_code = \"df_ucb.groupby([\\\"gender_code\\\", \\\"dept_code\\\"]).sum()\";\n                var nbb_cells = Jupyter.notebook.get_cells();\n                for (var i = 0; i < nbb_cells.length; ++i) {\n                    if (nbb_cells[i].input_prompt_number == nbb_cell_id) {\n                        if (nbb_cells[i].get_text() == nbb_unformatted_code) {\n                             nbb_cells[i].set_text(nbb_formatted_code);\n                        }\n                        break;\n                    }\n                }\n            }, 500);\n            ",
      "text/plain": [
       "<IPython.core.display.Javascript object>"
      ]
     },
     "metadata": {},
     "output_type": "display_data"
    }
   ],
   "source": [
    "df_ucb.groupby(['gender_code', 'dept_code']).sum()"
   ]
  },
  {
   "cell_type": "markdown",
   "metadata": {},
   "source": [
    "They're additive on the log-odds scale, then take inverse logit."
   ]
  },
  {
   "cell_type": "code",
   "execution_count": 37,
   "metadata": {},
   "outputs": [
    {
     "data": {
      "text/plain": [
       "1     0.620606\n",
       "2     0.824074\n",
       "3     0.630357\n",
       "4     0.680000\n",
       "5     0.369231\n",
       "6     0.340641\n",
       "7     0.330935\n",
       "8     0.349333\n",
       "9     0.277487\n",
       "10    0.239186\n",
       "11    0.058981\n",
       "12    0.070381\n",
       "dtype: float64"
      ]
     },
     "execution_count": 37,
     "metadata": {},
     "output_type": "execute_result"
    },
    {
     "data": {
      "application/javascript": "\n            setTimeout(function() {\n                var nbb_cell_id = 37;\n                var nbb_unformatted_code = \"df_ucb['admit'] / df_ucb['applications']\";\n                var nbb_formatted_code = \"df_ucb[\\\"admit\\\"] / df_ucb[\\\"applications\\\"]\";\n                var nbb_cells = Jupyter.notebook.get_cells();\n                for (var i = 0; i < nbb_cells.length; ++i) {\n                    if (nbb_cells[i].input_prompt_number == nbb_cell_id) {\n                        if (nbb_cells[i].get_text() == nbb_unformatted_code) {\n                             nbb_cells[i].set_text(nbb_formatted_code);\n                        }\n                        break;\n                    }\n                }\n            }, 500);\n            ",
      "text/plain": [
       "<IPython.core.display.Javascript object>"
      ]
     },
     "metadata": {},
     "output_type": "display_data"
    }
   ],
   "source": [
    "df_ucb['admit'] / df_ucb['applications']"
   ]
  },
  {
   "cell_type": "markdown",
   "metadata": {},
   "source": [
    "#### Matrix way (like 2022 lecture 9)"
   ]
  },
  {
   "cell_type": "code",
   "execution_count": 139,
   "metadata": {},
   "outputs": [
    {
     "name": "stderr",
     "output_type": "stream",
     "text": [
      "Auto-assigning NUTS sampler...\n",
      "INFO:pymc3:Auto-assigning NUTS sampler...\n",
      "Initializing NUTS using jitter+adapt_diag...\n",
      "INFO:pymc3:Initializing NUTS using jitter+adapt_diag...\n",
      "Multiprocess sampling (4 chains in 4 jobs)\n",
      "INFO:pymc3:Multiprocess sampling (4 chains in 4 jobs)\n",
      "NUTS: [a]\n",
      "INFO:pymc3:NUTS: [a]\n",
      "Sampling 4 chains for 1_000 tune and 5_000 draw iterations (4_000 + 20_000 draws total) took 21 seconds.\n",
      "INFO:pymc3:Sampling 4 chains for 1_000 tune and 5_000 draw iterations (4_000 + 20_000 draws total) took 21 seconds.\n"
     ]
    },
    {
     "data": {
      "application/javascript": "\n            setTimeout(function() {\n                var nbb_cell_id = 139;\n                var nbb_unformatted_code = \"# model without weighting\\n\\ngi = df_ucb[\\\"gender_code\\\"]\\ndi = df_ucb[\\\"dept_code\\\"]\\n\\nwith pm.Model() as mInteractive:\\n\\n    # Priors\\n    a = pm.Normal(\\\"a\\\", mu=0, sd=1, shape=(2, n_dept))\\n\\n    # linear model with logit link\\n    p = pm.Deterministic(\\\"p\\\", pm.math.invlogit(a[gi, di]))\\n\\n    # likelihood\\n    admit = pm.Binomial(\\\"admit\\\", n=df_ucb['applications'], p=p, observed=df_ucb['admit'])\\n\\n    # generate posterior and sample\\n    trace_Interactive = pm.sample(draws=5000, tune=1000, return_inferencedata=False, progressbar=False, target_accept=0.95)\";\n                var nbb_formatted_code = \"# model without weighting\\n\\ngi = df_ucb[\\\"gender_code\\\"]\\ndi = df_ucb[\\\"dept_code\\\"]\\n\\nwith pm.Model() as mInteractive:\\n\\n    # Priors\\n    a = pm.Normal(\\\"a\\\", mu=0, sd=1, shape=(2, n_dept))\\n\\n    # linear model with logit link\\n    p = pm.Deterministic(\\\"p\\\", pm.math.invlogit(a[gi, di]))\\n\\n    # likelihood\\n    admit = pm.Binomial(\\n        \\\"admit\\\", n=df_ucb[\\\"applications\\\"], p=p, observed=df_ucb[\\\"admit\\\"]\\n    )\\n\\n    # generate posterior and sample\\n    trace_Interactive = pm.sample(\\n        draws=5000,\\n        tune=1000,\\n        return_inferencedata=False,\\n        progressbar=False,\\n        target_accept=0.95,\\n    )\";\n                var nbb_cells = Jupyter.notebook.get_cells();\n                for (var i = 0; i < nbb_cells.length; ++i) {\n                    if (nbb_cells[i].input_prompt_number == nbb_cell_id) {\n                        if (nbb_cells[i].get_text() == nbb_unformatted_code) {\n                             nbb_cells[i].set_text(nbb_formatted_code);\n                        }\n                        break;\n                    }\n                }\n            }, 500);\n            ",
      "text/plain": [
       "<IPython.core.display.Javascript object>"
      ]
     },
     "metadata": {},
     "output_type": "display_data"
    }
   ],
   "source": [
    "# model without weighting\n",
    "\n",
    "gi = df_ucb[\"gender_code\"]\n",
    "di = df_ucb[\"dept_code\"]\n",
    "\n",
    "with pm.Model() as mInteractive:\n",
    "\n",
    "    # Priors\n",
    "    a = pm.Normal(\"a\", mu=0, sd=1, shape=(2, n_dept))\n",
    "\n",
    "    # linear model with logit link\n",
    "    p = pm.Deterministic(\"p\", pm.math.invlogit(a[gi, di]))\n",
    "\n",
    "    # likelihood\n",
    "    admit = pm.Binomial(\"admit\", n=df_ucb['applications'], p=p, observed=df_ucb['admit'])\n",
    "\n",
    "    # generate posterior and sample\n",
    "    trace_Interactive = pm.sample(draws=5000, tune=1000, return_inferencedata=False, progressbar=False, target_accept=0.95)"
   ]
  },
  {
   "cell_type": "code",
   "execution_count": 144,
   "metadata": {},
   "outputs": [
    {
     "name": "stderr",
     "output_type": "stream",
     "text": [
      "/Users/blacar/opt/anaconda3/envs/stats_rethinking/lib/python3.8/site-packages/arviz/data/io_pymc3.py:88: FutureWarning: Using `from_pymc3` without the model will be deprecated in a future release. Not using the model will return less accurate and less useful results. Make sure you use the model argument or call from_pymc3 within a model context.\n",
      "  warnings.warn(\n"
     ]
    },
    {
     "data": {
      "text/html": [
       "<div>\n",
       "<style scoped>\n",
       "    .dataframe tbody tr th:only-of-type {\n",
       "        vertical-align: middle;\n",
       "    }\n",
       "\n",
       "    .dataframe tbody tr th {\n",
       "        vertical-align: top;\n",
       "    }\n",
       "\n",
       "    .dataframe thead th {\n",
       "        text-align: right;\n",
       "    }\n",
       "</style>\n",
       "<table border=\"1\" class=\"dataframe\">\n",
       "  <thead>\n",
       "    <tr style=\"text-align: right;\">\n",
       "      <th></th>\n",
       "      <th>mean</th>\n",
       "      <th>sd</th>\n",
       "      <th>hdi_5.5%</th>\n",
       "      <th>hdi_94.5%</th>\n",
       "      <th>mcse_mean</th>\n",
       "      <th>mcse_sd</th>\n",
       "      <th>ess_mean</th>\n",
       "      <th>ess_sd</th>\n",
       "      <th>ess_bulk</th>\n",
       "      <th>ess_tail</th>\n",
       "      <th>r_hat</th>\n",
       "    </tr>\n",
       "  </thead>\n",
       "  <tbody>\n",
       "    <tr>\n",
       "      <th>a[0,0]</th>\n",
       "      <td>1.470</td>\n",
       "      <td>0.241</td>\n",
       "      <td>1.094</td>\n",
       "      <td>1.864</td>\n",
       "      <td>0.001</td>\n",
       "      <td>0.001</td>\n",
       "      <td>27744.0</td>\n",
       "      <td>25603.0</td>\n",
       "      <td>28104.0</td>\n",
       "      <td>15127.0</td>\n",
       "      <td>1.0</td>\n",
       "    </tr>\n",
       "    <tr>\n",
       "      <th>a[0,1]</th>\n",
       "      <td>0.661</td>\n",
       "      <td>0.395</td>\n",
       "      <td>0.037</td>\n",
       "      <td>1.295</td>\n",
       "      <td>0.002</td>\n",
       "      <td>0.002</td>\n",
       "      <td>26820.0</td>\n",
       "      <td>18979.0</td>\n",
       "      <td>27028.0</td>\n",
       "      <td>14991.0</td>\n",
       "      <td>1.0</td>\n",
       "    </tr>\n",
       "    <tr>\n",
       "      <th>a[0,2]</th>\n",
       "      <td>-0.657</td>\n",
       "      <td>0.086</td>\n",
       "      <td>-0.798</td>\n",
       "      <td>-0.521</td>\n",
       "      <td>0.001</td>\n",
       "      <td>0.000</td>\n",
       "      <td>25374.0</td>\n",
       "      <td>24798.0</td>\n",
       "      <td>25384.0</td>\n",
       "      <td>15725.0</td>\n",
       "      <td>1.0</td>\n",
       "    </tr>\n",
       "    <tr>\n",
       "      <th>a[0,3]</th>\n",
       "      <td>-0.615</td>\n",
       "      <td>0.107</td>\n",
       "      <td>-0.779</td>\n",
       "      <td>-0.437</td>\n",
       "      <td>0.001</td>\n",
       "      <td>0.000</td>\n",
       "      <td>24434.0</td>\n",
       "      <td>23979.0</td>\n",
       "      <td>24439.0</td>\n",
       "      <td>16051.0</td>\n",
       "      <td>1.0</td>\n",
       "    </tr>\n",
       "    <tr>\n",
       "      <th>a[0,4]</th>\n",
       "      <td>-1.144</td>\n",
       "      <td>0.116</td>\n",
       "      <td>-1.329</td>\n",
       "      <td>-0.956</td>\n",
       "      <td>0.001</td>\n",
       "      <td>0.001</td>\n",
       "      <td>23996.0</td>\n",
       "      <td>23517.0</td>\n",
       "      <td>24119.0</td>\n",
       "      <td>15177.0</td>\n",
       "      <td>1.0</td>\n",
       "    </tr>\n",
       "    <tr>\n",
       "      <th>a[0,5]</th>\n",
       "      <td>-2.491</td>\n",
       "      <td>0.199</td>\n",
       "      <td>-2.802</td>\n",
       "      <td>-2.171</td>\n",
       "      <td>0.001</td>\n",
       "      <td>0.001</td>\n",
       "      <td>30888.0</td>\n",
       "      <td>29779.0</td>\n",
       "      <td>31429.0</td>\n",
       "      <td>15031.0</td>\n",
       "      <td>1.0</td>\n",
       "    </tr>\n",
       "    <tr>\n",
       "      <th>a[1,0]</th>\n",
       "      <td>0.491</td>\n",
       "      <td>0.071</td>\n",
       "      <td>0.376</td>\n",
       "      <td>0.602</td>\n",
       "      <td>0.000</td>\n",
       "      <td>0.000</td>\n",
       "      <td>33760.0</td>\n",
       "      <td>32935.0</td>\n",
       "      <td>33758.0</td>\n",
       "      <td>16203.0</td>\n",
       "      <td>1.0</td>\n",
       "    </tr>\n",
       "    <tr>\n",
       "      <th>a[1,1]</th>\n",
       "      <td>0.531</td>\n",
       "      <td>0.087</td>\n",
       "      <td>0.390</td>\n",
       "      <td>0.668</td>\n",
       "      <td>0.001</td>\n",
       "      <td>0.000</td>\n",
       "      <td>30262.0</td>\n",
       "      <td>28833.0</td>\n",
       "      <td>30313.0</td>\n",
       "      <td>15962.0</td>\n",
       "      <td>1.0</td>\n",
       "    </tr>\n",
       "    <tr>\n",
       "      <th>a[1,2]</th>\n",
       "      <td>-0.530</td>\n",
       "      <td>0.113</td>\n",
       "      <td>-0.714</td>\n",
       "      <td>-0.351</td>\n",
       "      <td>0.001</td>\n",
       "      <td>0.000</td>\n",
       "      <td>28610.0</td>\n",
       "      <td>27021.0</td>\n",
       "      <td>28615.0</td>\n",
       "      <td>14819.0</td>\n",
       "      <td>1.0</td>\n",
       "    </tr>\n",
       "    <tr>\n",
       "      <th>a[1,3]</th>\n",
       "      <td>-0.699</td>\n",
       "      <td>0.103</td>\n",
       "      <td>-0.857</td>\n",
       "      <td>-0.529</td>\n",
       "      <td>0.001</td>\n",
       "      <td>0.000</td>\n",
       "      <td>26496.0</td>\n",
       "      <td>25675.0</td>\n",
       "      <td>26518.0</td>\n",
       "      <td>15621.0</td>\n",
       "      <td>1.0</td>\n",
       "    </tr>\n",
       "    <tr>\n",
       "      <th>a[1,4]</th>\n",
       "      <td>-0.938</td>\n",
       "      <td>0.159</td>\n",
       "      <td>-1.177</td>\n",
       "      <td>-0.671</td>\n",
       "      <td>0.001</td>\n",
       "      <td>0.001</td>\n",
       "      <td>27580.0</td>\n",
       "      <td>26280.0</td>\n",
       "      <td>27604.0</td>\n",
       "      <td>15934.0</td>\n",
       "      <td>1.0</td>\n",
       "    </tr>\n",
       "    <tr>\n",
       "      <th>a[1,5]</th>\n",
       "      <td>-2.666</td>\n",
       "      <td>0.205</td>\n",
       "      <td>-2.988</td>\n",
       "      <td>-2.336</td>\n",
       "      <td>0.001</td>\n",
       "      <td>0.001</td>\n",
       "      <td>32641.0</td>\n",
       "      <td>31478.0</td>\n",
       "      <td>33147.0</td>\n",
       "      <td>15289.0</td>\n",
       "      <td>1.0</td>\n",
       "    </tr>\n",
       "  </tbody>\n",
       "</table>\n",
       "</div>"
      ],
      "text/plain": [
       "         mean     sd  hdi_5.5%  hdi_94.5%  mcse_mean  mcse_sd  ess_mean  \\\n",
       "a[0,0]  1.470  0.241     1.094      1.864      0.001    0.001   27744.0   \n",
       "a[0,1]  0.661  0.395     0.037      1.295      0.002    0.002   26820.0   \n",
       "a[0,2] -0.657  0.086    -0.798     -0.521      0.001    0.000   25374.0   \n",
       "a[0,3] -0.615  0.107    -0.779     -0.437      0.001    0.000   24434.0   \n",
       "a[0,4] -1.144  0.116    -1.329     -0.956      0.001    0.001   23996.0   \n",
       "a[0,5] -2.491  0.199    -2.802     -2.171      0.001    0.001   30888.0   \n",
       "a[1,0]  0.491  0.071     0.376      0.602      0.000    0.000   33760.0   \n",
       "a[1,1]  0.531  0.087     0.390      0.668      0.001    0.000   30262.0   \n",
       "a[1,2] -0.530  0.113    -0.714     -0.351      0.001    0.000   28610.0   \n",
       "a[1,3] -0.699  0.103    -0.857     -0.529      0.001    0.000   26496.0   \n",
       "a[1,4] -0.938  0.159    -1.177     -0.671      0.001    0.001   27580.0   \n",
       "a[1,5] -2.666  0.205    -2.988     -2.336      0.001    0.001   32641.0   \n",
       "\n",
       "         ess_sd  ess_bulk  ess_tail  r_hat  \n",
       "a[0,0]  25603.0   28104.0   15127.0    1.0  \n",
       "a[0,1]  18979.0   27028.0   14991.0    1.0  \n",
       "a[0,2]  24798.0   25384.0   15725.0    1.0  \n",
       "a[0,3]  23979.0   24439.0   16051.0    1.0  \n",
       "a[0,4]  23517.0   24119.0   15177.0    1.0  \n",
       "a[0,5]  29779.0   31429.0   15031.0    1.0  \n",
       "a[1,0]  32935.0   33758.0   16203.0    1.0  \n",
       "a[1,1]  28833.0   30313.0   15962.0    1.0  \n",
       "a[1,2]  27021.0   28615.0   14819.0    1.0  \n",
       "a[1,3]  25675.0   26518.0   15621.0    1.0  \n",
       "a[1,4]  26280.0   27604.0   15934.0    1.0  \n",
       "a[1,5]  31478.0   33147.0   15289.0    1.0  "
      ]
     },
     "execution_count": 144,
     "metadata": {},
     "output_type": "execute_result"
    },
    {
     "data": {
      "application/javascript": "\n            setTimeout(function() {\n                var nbb_cell_id = 144;\n                var nbb_unformatted_code = \"df_summary_Interactive = az.summary(trace_Interactive, var_names=['a'])\\ndf_summary_Interactive\";\n                var nbb_formatted_code = \"df_summary_Interactive = az.summary(trace_Interactive, var_names=[\\\"a\\\"])\\ndf_summary_Interactive\";\n                var nbb_cells = Jupyter.notebook.get_cells();\n                for (var i = 0; i < nbb_cells.length; ++i) {\n                    if (nbb_cells[i].input_prompt_number == nbb_cell_id) {\n                        if (nbb_cells[i].get_text() == nbb_unformatted_code) {\n                             nbb_cells[i].set_text(nbb_formatted_code);\n                        }\n                        break;\n                    }\n                }\n            }, 500);\n            ",
      "text/plain": [
       "<IPython.core.display.Javascript object>"
      ]
     },
     "metadata": {},
     "output_type": "display_data"
    }
   ],
   "source": [
    "df_summary_Interactive = az.summary(trace_Interactive, var_names=['a'])\n",
    "df_summary_Interactive"
   ]
  },
  {
   "cell_type": "code",
   "execution_count": 148,
   "metadata": {},
   "outputs": [
    {
     "data": {
      "text/html": [
       "<div>\n",
       "<style scoped>\n",
       "    .dataframe tbody tr th:only-of-type {\n",
       "        vertical-align: middle;\n",
       "    }\n",
       "\n",
       "    .dataframe tbody tr th {\n",
       "        vertical-align: top;\n",
       "    }\n",
       "\n",
       "    .dataframe thead th {\n",
       "        text-align: right;\n",
       "    }\n",
       "</style>\n",
       "<table border=\"1\" class=\"dataframe\">\n",
       "  <thead>\n",
       "    <tr style=\"text-align: right;\">\n",
       "      <th></th>\n",
       "      <th>a__0_0</th>\n",
       "      <th>a__0_1</th>\n",
       "      <th>a__0_2</th>\n",
       "      <th>a__0_3</th>\n",
       "      <th>a__0_4</th>\n",
       "      <th>a__0_5</th>\n",
       "      <th>a__1_0</th>\n",
       "      <th>a__1_1</th>\n",
       "      <th>a__1_2</th>\n",
       "      <th>a__1_3</th>\n",
       "      <th>...</th>\n",
       "      <th>p__2</th>\n",
       "      <th>p__3</th>\n",
       "      <th>p__4</th>\n",
       "      <th>p__5</th>\n",
       "      <th>p__6</th>\n",
       "      <th>p__7</th>\n",
       "      <th>p__8</th>\n",
       "      <th>p__9</th>\n",
       "      <th>p__10</th>\n",
       "      <th>p__11</th>\n",
       "    </tr>\n",
       "  </thead>\n",
       "  <tbody>\n",
       "    <tr>\n",
       "      <th>0</th>\n",
       "      <td>1.592587</td>\n",
       "      <td>0.192895</td>\n",
       "      <td>-0.805334</td>\n",
       "      <td>-0.531358</td>\n",
       "      <td>-1.071741</td>\n",
       "      <td>-2.808554</td>\n",
       "      <td>0.575912</td>\n",
       "      <td>0.573368</td>\n",
       "      <td>-0.399843</td>\n",
       "      <td>-0.804825</td>\n",
       "      <td>...</td>\n",
       "      <td>0.639540</td>\n",
       "      <td>0.548075</td>\n",
       "      <td>0.401350</td>\n",
       "      <td>0.308886</td>\n",
       "      <td>0.308994</td>\n",
       "      <td>0.370200</td>\n",
       "      <td>0.291264</td>\n",
       "      <td>0.255072</td>\n",
       "      <td>0.059182</td>\n",
       "      <td>0.056864</td>\n",
       "    </tr>\n",
       "    <tr>\n",
       "      <th>1</th>\n",
       "      <td>1.321963</td>\n",
       "      <td>1.050580</td>\n",
       "      <td>-0.577621</td>\n",
       "      <td>-0.585604</td>\n",
       "      <td>-1.181611</td>\n",
       "      <td>-2.340850</td>\n",
       "      <td>0.406978</td>\n",
       "      <td>0.488282</td>\n",
       "      <td>-0.636233</td>\n",
       "      <td>-0.665576</td>\n",
       "      <td>...</td>\n",
       "      <td>0.619702</td>\n",
       "      <td>0.740886</td>\n",
       "      <td>0.346099</td>\n",
       "      <td>0.359480</td>\n",
       "      <td>0.339488</td>\n",
       "      <td>0.357644</td>\n",
       "      <td>0.261859</td>\n",
       "      <td>0.234763</td>\n",
       "      <td>0.070137</td>\n",
       "      <td>0.087796</td>\n",
       "    </tr>\n",
       "    <tr>\n",
       "      <th>2</th>\n",
       "      <td>1.211633</td>\n",
       "      <td>1.050890</td>\n",
       "      <td>-0.632614</td>\n",
       "      <td>-0.591157</td>\n",
       "      <td>-1.244338</td>\n",
       "      <td>-2.275896</td>\n",
       "      <td>0.414713</td>\n",
       "      <td>0.473083</td>\n",
       "      <td>-0.634657</td>\n",
       "      <td>-0.635736</td>\n",
       "      <td>...</td>\n",
       "      <td>0.616113</td>\n",
       "      <td>0.740946</td>\n",
       "      <td>0.346455</td>\n",
       "      <td>0.346918</td>\n",
       "      <td>0.346211</td>\n",
       "      <td>0.356369</td>\n",
       "      <td>0.284314</td>\n",
       "      <td>0.223682</td>\n",
       "      <td>0.059068</td>\n",
       "      <td>0.093139</td>\n",
       "    </tr>\n",
       "    <tr>\n",
       "      <th>3</th>\n",
       "      <td>1.687816</td>\n",
       "      <td>0.763152</td>\n",
       "      <td>-0.598904</td>\n",
       "      <td>-0.772502</td>\n",
       "      <td>-1.164998</td>\n",
       "      <td>-2.511039</td>\n",
       "      <td>0.579594</td>\n",
       "      <td>0.524241</td>\n",
       "      <td>-0.480467</td>\n",
       "      <td>-0.680904</td>\n",
       "      <td>...</td>\n",
       "      <td>0.628139</td>\n",
       "      <td>0.682038</td>\n",
       "      <td>0.382142</td>\n",
       "      <td>0.354594</td>\n",
       "      <td>0.336060</td>\n",
       "      <td>0.315938</td>\n",
       "      <td>0.256701</td>\n",
       "      <td>0.237760</td>\n",
       "      <td>0.067372</td>\n",
       "      <td>0.075088</td>\n",
       "    </tr>\n",
       "    <tr>\n",
       "      <th>4</th>\n",
       "      <td>1.671441</td>\n",
       "      <td>1.012294</td>\n",
       "      <td>-0.689247</td>\n",
       "      <td>-0.420439</td>\n",
       "      <td>-1.136077</td>\n",
       "      <td>-2.429459</td>\n",
       "      <td>0.405480</td>\n",
       "      <td>0.502802</td>\n",
       "      <td>-0.512100</td>\n",
       "      <td>-0.788551</td>\n",
       "      <td>...</td>\n",
       "      <td>0.623118</td>\n",
       "      <td>0.733469</td>\n",
       "      <td>0.374701</td>\n",
       "      <td>0.334201</td>\n",
       "      <td>0.312480</td>\n",
       "      <td>0.396412</td>\n",
       "      <td>0.343688</td>\n",
       "      <td>0.243041</td>\n",
       "      <td>0.071226</td>\n",
       "      <td>0.080954</td>\n",
       "    </tr>\n",
       "  </tbody>\n",
       "</table>\n",
       "<p>5 rows × 24 columns</p>\n",
       "</div>"
      ],
      "text/plain": [
       "     a__0_0    a__0_1    a__0_2    a__0_3    a__0_4    a__0_5    a__1_0  \\\n",
       "0  1.592587  0.192895 -0.805334 -0.531358 -1.071741 -2.808554  0.575912   \n",
       "1  1.321963  1.050580 -0.577621 -0.585604 -1.181611 -2.340850  0.406978   \n",
       "2  1.211633  1.050890 -0.632614 -0.591157 -1.244338 -2.275896  0.414713   \n",
       "3  1.687816  0.763152 -0.598904 -0.772502 -1.164998 -2.511039  0.579594   \n",
       "4  1.671441  1.012294 -0.689247 -0.420439 -1.136077 -2.429459  0.405480   \n",
       "\n",
       "     a__1_1    a__1_2    a__1_3  ...      p__2      p__3      p__4      p__5  \\\n",
       "0  0.573368 -0.399843 -0.804825  ...  0.639540  0.548075  0.401350  0.308886   \n",
       "1  0.488282 -0.636233 -0.665576  ...  0.619702  0.740886  0.346099  0.359480   \n",
       "2  0.473083 -0.634657 -0.635736  ...  0.616113  0.740946  0.346455  0.346918   \n",
       "3  0.524241 -0.480467 -0.680904  ...  0.628139  0.682038  0.382142  0.354594   \n",
       "4  0.502802 -0.512100 -0.788551  ...  0.623118  0.733469  0.374701  0.334201   \n",
       "\n",
       "       p__6      p__7      p__8      p__9     p__10     p__11  \n",
       "0  0.308994  0.370200  0.291264  0.255072  0.059182  0.056864  \n",
       "1  0.339488  0.357644  0.261859  0.234763  0.070137  0.087796  \n",
       "2  0.346211  0.356369  0.284314  0.223682  0.059068  0.093139  \n",
       "3  0.336060  0.315938  0.256701  0.237760  0.067372  0.075088  \n",
       "4  0.312480  0.396412  0.343688  0.243041  0.071226  0.080954  \n",
       "\n",
       "[5 rows x 24 columns]"
      ]
     },
     "execution_count": 148,
     "metadata": {},
     "output_type": "execute_result"
    },
    {
     "data": {
      "application/javascript": "\n            setTimeout(function() {\n                var nbb_cell_id = 148;\n                var nbb_unformatted_code = \"trace_Interactive_df = pm.trace_to_dataframe(trace_Interactive)\\ntrace_Interactive_df.head()\";\n                var nbb_formatted_code = \"trace_Interactive_df = pm.trace_to_dataframe(trace_Interactive)\\ntrace_Interactive_df.head()\";\n                var nbb_cells = Jupyter.notebook.get_cells();\n                for (var i = 0; i < nbb_cells.length; ++i) {\n                    if (nbb_cells[i].input_prompt_number == nbb_cell_id) {\n                        if (nbb_cells[i].get_text() == nbb_unformatted_code) {\n                             nbb_cells[i].set_text(nbb_formatted_code);\n                        }\n                        break;\n                    }\n                }\n            }, 500);\n            ",
      "text/plain": [
       "<IPython.core.display.Javascript object>"
      ]
     },
     "metadata": {},
     "output_type": "display_data"
    }
   ],
   "source": [
    "trace_Interactive_df = pm.trace_to_dataframe(trace_Interactive)\n",
    "trace_Interactive_df.head()"
   ]
  },
  {
   "cell_type": "markdown",
   "metadata": {},
   "source": [
    "# Getting average back from the interaction model"
   ]
  },
  {
   "cell_type": "markdown",
   "metadata": {},
   "source": [
    "Thinking about what the main effects model is telling us. The gender coefficient is the average log-odds of an admit, given the gender.\n",
    "\n",
    "The interaction is every combination gender and department."
   ]
  },
  {
   "cell_type": "code",
   "execution_count": 146,
   "metadata": {},
   "outputs": [
    {
     "data": {
      "text/html": [
       "<div>\n",
       "<style scoped>\n",
       "    .dataframe tbody tr th:only-of-type {\n",
       "        vertical-align: middle;\n",
       "    }\n",
       "\n",
       "    .dataframe tbody tr th {\n",
       "        vertical-align: top;\n",
       "    }\n",
       "\n",
       "    .dataframe thead th {\n",
       "        text-align: right;\n",
       "    }\n",
       "</style>\n",
       "<table border=\"1\" class=\"dataframe\">\n",
       "  <thead>\n",
       "    <tr style=\"text-align: right;\">\n",
       "      <th></th>\n",
       "      <th>mean</th>\n",
       "      <th>sd</th>\n",
       "      <th>hdi_5.5%</th>\n",
       "      <th>hdi_94.5%</th>\n",
       "      <th>mcse_mean</th>\n",
       "      <th>mcse_sd</th>\n",
       "      <th>ess_mean</th>\n",
       "      <th>ess_sd</th>\n",
       "      <th>ess_bulk</th>\n",
       "      <th>ess_tail</th>\n",
       "      <th>r_hat</th>\n",
       "    </tr>\n",
       "  </thead>\n",
       "  <tbody>\n",
       "    <tr>\n",
       "      <th>a[0]</th>\n",
       "      <td>-0.434</td>\n",
       "      <td>0.375</td>\n",
       "      <td>-1.039</td>\n",
       "      <td>0.159</td>\n",
       "      <td>0.008</td>\n",
       "      <td>0.006</td>\n",
       "      <td>2083.0</td>\n",
       "      <td>2083.0</td>\n",
       "      <td>2079.0</td>\n",
       "      <td>2699.0</td>\n",
       "      <td>1.0</td>\n",
       "    </tr>\n",
       "    <tr>\n",
       "      <th>a[1]</th>\n",
       "      <td>-0.527</td>\n",
       "      <td>0.374</td>\n",
       "      <td>-1.110</td>\n",
       "      <td>0.082</td>\n",
       "      <td>0.008</td>\n",
       "      <td>0.006</td>\n",
       "      <td>2054.0</td>\n",
       "      <td>2054.0</td>\n",
       "      <td>2049.0</td>\n",
       "      <td>2546.0</td>\n",
       "      <td>1.0</td>\n",
       "    </tr>\n",
       "    <tr>\n",
       "      <th>d[0]</th>\n",
       "      <td>1.106</td>\n",
       "      <td>0.378</td>\n",
       "      <td>0.507</td>\n",
       "      <td>1.715</td>\n",
       "      <td>0.008</td>\n",
       "      <td>0.006</td>\n",
       "      <td>2103.0</td>\n",
       "      <td>2103.0</td>\n",
       "      <td>2097.0</td>\n",
       "      <td>2698.0</td>\n",
       "      <td>1.0</td>\n",
       "    </tr>\n",
       "    <tr>\n",
       "      <th>d[1]</th>\n",
       "      <td>1.059</td>\n",
       "      <td>0.380</td>\n",
       "      <td>0.445</td>\n",
       "      <td>1.656</td>\n",
       "      <td>0.008</td>\n",
       "      <td>0.006</td>\n",
       "      <td>2126.0</td>\n",
       "      <td>2126.0</td>\n",
       "      <td>2121.0</td>\n",
       "      <td>3048.0</td>\n",
       "      <td>1.0</td>\n",
       "    </tr>\n",
       "    <tr>\n",
       "      <th>d[2]</th>\n",
       "      <td>-0.150</td>\n",
       "      <td>0.377</td>\n",
       "      <td>-0.766</td>\n",
       "      <td>0.441</td>\n",
       "      <td>0.008</td>\n",
       "      <td>0.006</td>\n",
       "      <td>2106.0</td>\n",
       "      <td>2106.0</td>\n",
       "      <td>2101.0</td>\n",
       "      <td>2787.0</td>\n",
       "      <td>1.0</td>\n",
       "    </tr>\n",
       "    <tr>\n",
       "      <th>d[3]</th>\n",
       "      <td>-0.183</td>\n",
       "      <td>0.378</td>\n",
       "      <td>-0.809</td>\n",
       "      <td>0.401</td>\n",
       "      <td>0.008</td>\n",
       "      <td>0.006</td>\n",
       "      <td>2115.0</td>\n",
       "      <td>2115.0</td>\n",
       "      <td>2110.0</td>\n",
       "      <td>2787.0</td>\n",
       "      <td>1.0</td>\n",
       "    </tr>\n",
       "    <tr>\n",
       "      <th>d[4]</th>\n",
       "      <td>-0.623</td>\n",
       "      <td>0.382</td>\n",
       "      <td>-1.229</td>\n",
       "      <td>-0.008</td>\n",
       "      <td>0.008</td>\n",
       "      <td>0.006</td>\n",
       "      <td>2159.0</td>\n",
       "      <td>2159.0</td>\n",
       "      <td>2155.0</td>\n",
       "      <td>2962.0</td>\n",
       "      <td>1.0</td>\n",
       "    </tr>\n",
       "    <tr>\n",
       "      <th>d[5]</th>\n",
       "      <td>-2.155</td>\n",
       "      <td>0.394</td>\n",
       "      <td>-2.781</td>\n",
       "      <td>-1.525</td>\n",
       "      <td>0.008</td>\n",
       "      <td>0.006</td>\n",
       "      <td>2244.0</td>\n",
       "      <td>2244.0</td>\n",
       "      <td>2236.0</td>\n",
       "      <td>3113.0</td>\n",
       "      <td>1.0</td>\n",
       "    </tr>\n",
       "  </tbody>\n",
       "</table>\n",
       "</div>"
      ],
      "text/plain": [
       "       mean     sd  hdi_5.5%  hdi_94.5%  mcse_mean  mcse_sd  ess_mean  ess_sd  \\\n",
       "a[0] -0.434  0.375    -1.039      0.159      0.008    0.006    2083.0  2083.0   \n",
       "a[1] -0.527  0.374    -1.110      0.082      0.008    0.006    2054.0  2054.0   \n",
       "d[0]  1.106  0.378     0.507      1.715      0.008    0.006    2103.0  2103.0   \n",
       "d[1]  1.059  0.380     0.445      1.656      0.008    0.006    2126.0  2126.0   \n",
       "d[2] -0.150  0.377    -0.766      0.441      0.008    0.006    2106.0  2106.0   \n",
       "d[3] -0.183  0.378    -0.809      0.401      0.008    0.006    2115.0  2115.0   \n",
       "d[4] -0.623  0.382    -1.229     -0.008      0.008    0.006    2159.0  2159.0   \n",
       "d[5] -2.155  0.394    -2.781     -1.525      0.008    0.006    2244.0  2244.0   \n",
       "\n",
       "      ess_bulk  ess_tail  r_hat  \n",
       "a[0]    2079.0    2699.0    1.0  \n",
       "a[1]    2049.0    2546.0    1.0  \n",
       "d[0]    2097.0    2698.0    1.0  \n",
       "d[1]    2121.0    3048.0    1.0  \n",
       "d[2]    2101.0    2787.0    1.0  \n",
       "d[3]    2110.0    2787.0    1.0  \n",
       "d[4]    2155.0    2962.0    1.0  \n",
       "d[5]    2236.0    3113.0    1.0  "
      ]
     },
     "execution_count": 146,
     "metadata": {},
     "output_type": "execute_result"
    },
    {
     "data": {
      "application/javascript": "\n            setTimeout(function() {\n                var nbb_cell_id = 146;\n                var nbb_unformatted_code = \"df_summary_Main\";\n                var nbb_formatted_code = \"df_summary_Main\";\n                var nbb_cells = Jupyter.notebook.get_cells();\n                for (var i = 0; i < nbb_cells.length; ++i) {\n                    if (nbb_cells[i].input_prompt_number == nbb_cell_id) {\n                        if (nbb_cells[i].get_text() == nbb_unformatted_code) {\n                             nbb_cells[i].set_text(nbb_formatted_code);\n                        }\n                        break;\n                    }\n                }\n            }, 500);\n            ",
      "text/plain": [
       "<IPython.core.display.Javascript object>"
      ]
     },
     "metadata": {},
     "output_type": "display_data"
    }
   ],
   "source": [
    "df_summary_Main"
   ]
  },
  {
   "cell_type": "code",
   "execution_count": 147,
   "metadata": {},
   "outputs": [
    {
     "data": {
      "text/html": [
       "<div>\n",
       "<style scoped>\n",
       "    .dataframe tbody tr th:only-of-type {\n",
       "        vertical-align: middle;\n",
       "    }\n",
       "\n",
       "    .dataframe tbody tr th {\n",
       "        vertical-align: top;\n",
       "    }\n",
       "\n",
       "    .dataframe thead th {\n",
       "        text-align: right;\n",
       "    }\n",
       "</style>\n",
       "<table border=\"1\" class=\"dataframe\">\n",
       "  <thead>\n",
       "    <tr style=\"text-align: right;\">\n",
       "      <th></th>\n",
       "      <th>mean</th>\n",
       "      <th>sd</th>\n",
       "      <th>hdi_5.5%</th>\n",
       "      <th>hdi_94.5%</th>\n",
       "      <th>mcse_mean</th>\n",
       "      <th>mcse_sd</th>\n",
       "      <th>ess_mean</th>\n",
       "      <th>ess_sd</th>\n",
       "      <th>ess_bulk</th>\n",
       "      <th>ess_tail</th>\n",
       "      <th>r_hat</th>\n",
       "    </tr>\n",
       "  </thead>\n",
       "  <tbody>\n",
       "    <tr>\n",
       "      <th>a[0,0]</th>\n",
       "      <td>1.470</td>\n",
       "      <td>0.241</td>\n",
       "      <td>1.094</td>\n",
       "      <td>1.864</td>\n",
       "      <td>0.001</td>\n",
       "      <td>0.001</td>\n",
       "      <td>27744.0</td>\n",
       "      <td>25603.0</td>\n",
       "      <td>28104.0</td>\n",
       "      <td>15127.0</td>\n",
       "      <td>1.0</td>\n",
       "    </tr>\n",
       "    <tr>\n",
       "      <th>a[0,1]</th>\n",
       "      <td>0.661</td>\n",
       "      <td>0.395</td>\n",
       "      <td>0.037</td>\n",
       "      <td>1.295</td>\n",
       "      <td>0.002</td>\n",
       "      <td>0.002</td>\n",
       "      <td>26820.0</td>\n",
       "      <td>18979.0</td>\n",
       "      <td>27028.0</td>\n",
       "      <td>14991.0</td>\n",
       "      <td>1.0</td>\n",
       "    </tr>\n",
       "    <tr>\n",
       "      <th>a[0,2]</th>\n",
       "      <td>-0.657</td>\n",
       "      <td>0.086</td>\n",
       "      <td>-0.798</td>\n",
       "      <td>-0.521</td>\n",
       "      <td>0.001</td>\n",
       "      <td>0.000</td>\n",
       "      <td>25374.0</td>\n",
       "      <td>24798.0</td>\n",
       "      <td>25384.0</td>\n",
       "      <td>15725.0</td>\n",
       "      <td>1.0</td>\n",
       "    </tr>\n",
       "    <tr>\n",
       "      <th>a[0,3]</th>\n",
       "      <td>-0.615</td>\n",
       "      <td>0.107</td>\n",
       "      <td>-0.779</td>\n",
       "      <td>-0.437</td>\n",
       "      <td>0.001</td>\n",
       "      <td>0.000</td>\n",
       "      <td>24434.0</td>\n",
       "      <td>23979.0</td>\n",
       "      <td>24439.0</td>\n",
       "      <td>16051.0</td>\n",
       "      <td>1.0</td>\n",
       "    </tr>\n",
       "    <tr>\n",
       "      <th>a[0,4]</th>\n",
       "      <td>-1.144</td>\n",
       "      <td>0.116</td>\n",
       "      <td>-1.329</td>\n",
       "      <td>-0.956</td>\n",
       "      <td>0.001</td>\n",
       "      <td>0.001</td>\n",
       "      <td>23996.0</td>\n",
       "      <td>23517.0</td>\n",
       "      <td>24119.0</td>\n",
       "      <td>15177.0</td>\n",
       "      <td>1.0</td>\n",
       "    </tr>\n",
       "    <tr>\n",
       "      <th>a[0,5]</th>\n",
       "      <td>-2.491</td>\n",
       "      <td>0.199</td>\n",
       "      <td>-2.802</td>\n",
       "      <td>-2.171</td>\n",
       "      <td>0.001</td>\n",
       "      <td>0.001</td>\n",
       "      <td>30888.0</td>\n",
       "      <td>29779.0</td>\n",
       "      <td>31429.0</td>\n",
       "      <td>15031.0</td>\n",
       "      <td>1.0</td>\n",
       "    </tr>\n",
       "    <tr>\n",
       "      <th>a[1,0]</th>\n",
       "      <td>0.491</td>\n",
       "      <td>0.071</td>\n",
       "      <td>0.376</td>\n",
       "      <td>0.602</td>\n",
       "      <td>0.000</td>\n",
       "      <td>0.000</td>\n",
       "      <td>33760.0</td>\n",
       "      <td>32935.0</td>\n",
       "      <td>33758.0</td>\n",
       "      <td>16203.0</td>\n",
       "      <td>1.0</td>\n",
       "    </tr>\n",
       "    <tr>\n",
       "      <th>a[1,1]</th>\n",
       "      <td>0.531</td>\n",
       "      <td>0.087</td>\n",
       "      <td>0.390</td>\n",
       "      <td>0.668</td>\n",
       "      <td>0.001</td>\n",
       "      <td>0.000</td>\n",
       "      <td>30262.0</td>\n",
       "      <td>28833.0</td>\n",
       "      <td>30313.0</td>\n",
       "      <td>15962.0</td>\n",
       "      <td>1.0</td>\n",
       "    </tr>\n",
       "    <tr>\n",
       "      <th>a[1,2]</th>\n",
       "      <td>-0.530</td>\n",
       "      <td>0.113</td>\n",
       "      <td>-0.714</td>\n",
       "      <td>-0.351</td>\n",
       "      <td>0.001</td>\n",
       "      <td>0.000</td>\n",
       "      <td>28610.0</td>\n",
       "      <td>27021.0</td>\n",
       "      <td>28615.0</td>\n",
       "      <td>14819.0</td>\n",
       "      <td>1.0</td>\n",
       "    </tr>\n",
       "    <tr>\n",
       "      <th>a[1,3]</th>\n",
       "      <td>-0.699</td>\n",
       "      <td>0.103</td>\n",
       "      <td>-0.857</td>\n",
       "      <td>-0.529</td>\n",
       "      <td>0.001</td>\n",
       "      <td>0.000</td>\n",
       "      <td>26496.0</td>\n",
       "      <td>25675.0</td>\n",
       "      <td>26518.0</td>\n",
       "      <td>15621.0</td>\n",
       "      <td>1.0</td>\n",
       "    </tr>\n",
       "    <tr>\n",
       "      <th>a[1,4]</th>\n",
       "      <td>-0.938</td>\n",
       "      <td>0.159</td>\n",
       "      <td>-1.177</td>\n",
       "      <td>-0.671</td>\n",
       "      <td>0.001</td>\n",
       "      <td>0.001</td>\n",
       "      <td>27580.0</td>\n",
       "      <td>26280.0</td>\n",
       "      <td>27604.0</td>\n",
       "      <td>15934.0</td>\n",
       "      <td>1.0</td>\n",
       "    </tr>\n",
       "    <tr>\n",
       "      <th>a[1,5]</th>\n",
       "      <td>-2.666</td>\n",
       "      <td>0.205</td>\n",
       "      <td>-2.988</td>\n",
       "      <td>-2.336</td>\n",
       "      <td>0.001</td>\n",
       "      <td>0.001</td>\n",
       "      <td>32641.0</td>\n",
       "      <td>31478.0</td>\n",
       "      <td>33147.0</td>\n",
       "      <td>15289.0</td>\n",
       "      <td>1.0</td>\n",
       "    </tr>\n",
       "  </tbody>\n",
       "</table>\n",
       "</div>"
      ],
      "text/plain": [
       "         mean     sd  hdi_5.5%  hdi_94.5%  mcse_mean  mcse_sd  ess_mean  \\\n",
       "a[0,0]  1.470  0.241     1.094      1.864      0.001    0.001   27744.0   \n",
       "a[0,1]  0.661  0.395     0.037      1.295      0.002    0.002   26820.0   \n",
       "a[0,2] -0.657  0.086    -0.798     -0.521      0.001    0.000   25374.0   \n",
       "a[0,3] -0.615  0.107    -0.779     -0.437      0.001    0.000   24434.0   \n",
       "a[0,4] -1.144  0.116    -1.329     -0.956      0.001    0.001   23996.0   \n",
       "a[0,5] -2.491  0.199    -2.802     -2.171      0.001    0.001   30888.0   \n",
       "a[1,0]  0.491  0.071     0.376      0.602      0.000    0.000   33760.0   \n",
       "a[1,1]  0.531  0.087     0.390      0.668      0.001    0.000   30262.0   \n",
       "a[1,2] -0.530  0.113    -0.714     -0.351      0.001    0.000   28610.0   \n",
       "a[1,3] -0.699  0.103    -0.857     -0.529      0.001    0.000   26496.0   \n",
       "a[1,4] -0.938  0.159    -1.177     -0.671      0.001    0.001   27580.0   \n",
       "a[1,5] -2.666  0.205    -2.988     -2.336      0.001    0.001   32641.0   \n",
       "\n",
       "         ess_sd  ess_bulk  ess_tail  r_hat  \n",
       "a[0,0]  25603.0   28104.0   15127.0    1.0  \n",
       "a[0,1]  18979.0   27028.0   14991.0    1.0  \n",
       "a[0,2]  24798.0   25384.0   15725.0    1.0  \n",
       "a[0,3]  23979.0   24439.0   16051.0    1.0  \n",
       "a[0,4]  23517.0   24119.0   15177.0    1.0  \n",
       "a[0,5]  29779.0   31429.0   15031.0    1.0  \n",
       "a[1,0]  32935.0   33758.0   16203.0    1.0  \n",
       "a[1,1]  28833.0   30313.0   15962.0    1.0  \n",
       "a[1,2]  27021.0   28615.0   14819.0    1.0  \n",
       "a[1,3]  25675.0   26518.0   15621.0    1.0  \n",
       "a[1,4]  26280.0   27604.0   15934.0    1.0  \n",
       "a[1,5]  31478.0   33147.0   15289.0    1.0  "
      ]
     },
     "execution_count": 147,
     "metadata": {},
     "output_type": "execute_result"
    },
    {
     "data": {
      "application/javascript": "\n            setTimeout(function() {\n                var nbb_cell_id = 147;\n                var nbb_unformatted_code = \"df_summary_Interactive\";\n                var nbb_formatted_code = \"df_summary_Interactive\";\n                var nbb_cells = Jupyter.notebook.get_cells();\n                for (var i = 0; i < nbb_cells.length; ++i) {\n                    if (nbb_cells[i].input_prompt_number == nbb_cell_id) {\n                        if (nbb_cells[i].get_text() == nbb_unformatted_code) {\n                             nbb_cells[i].set_text(nbb_formatted_code);\n                        }\n                        break;\n                    }\n                }\n            }, 500);\n            ",
      "text/plain": [
       "<IPython.core.display.Javascript object>"
      ]
     },
     "metadata": {},
     "output_type": "display_data"
    }
   ],
   "source": [
    "df_summary_Interactive"
   ]
  },
  {
   "cell_type": "code",
   "execution_count": 150,
   "metadata": {},
   "outputs": [
    {
     "data": {
      "text/html": [
       "<div>\n",
       "<style scoped>\n",
       "    .dataframe tbody tr th:only-of-type {\n",
       "        vertical-align: middle;\n",
       "    }\n",
       "\n",
       "    .dataframe tbody tr th {\n",
       "        vertical-align: top;\n",
       "    }\n",
       "\n",
       "    .dataframe thead th {\n",
       "        text-align: right;\n",
       "    }\n",
       "</style>\n",
       "<table border=\"1\" class=\"dataframe\">\n",
       "  <thead>\n",
       "    <tr style=\"text-align: right;\">\n",
       "      <th></th>\n",
       "      <th>a__0_0</th>\n",
       "      <th>a__0_1</th>\n",
       "      <th>a__0_2</th>\n",
       "      <th>a__0_3</th>\n",
       "      <th>a__0_4</th>\n",
       "      <th>a__0_5</th>\n",
       "      <th>a__1_0</th>\n",
       "      <th>a__1_1</th>\n",
       "      <th>a__1_2</th>\n",
       "      <th>a__1_3</th>\n",
       "      <th>...</th>\n",
       "      <th>p__2</th>\n",
       "      <th>p__3</th>\n",
       "      <th>p__4</th>\n",
       "      <th>p__5</th>\n",
       "      <th>p__6</th>\n",
       "      <th>p__7</th>\n",
       "      <th>p__8</th>\n",
       "      <th>p__9</th>\n",
       "      <th>p__10</th>\n",
       "      <th>p__11</th>\n",
       "    </tr>\n",
       "  </thead>\n",
       "  <tbody>\n",
       "    <tr>\n",
       "      <th>0</th>\n",
       "      <td>1.592587</td>\n",
       "      <td>0.192895</td>\n",
       "      <td>-0.805334</td>\n",
       "      <td>-0.531358</td>\n",
       "      <td>-1.071741</td>\n",
       "      <td>-2.808554</td>\n",
       "      <td>0.575912</td>\n",
       "      <td>0.573368</td>\n",
       "      <td>-0.399843</td>\n",
       "      <td>-0.804825</td>\n",
       "      <td>...</td>\n",
       "      <td>0.639540</td>\n",
       "      <td>0.548075</td>\n",
       "      <td>0.401350</td>\n",
       "      <td>0.308886</td>\n",
       "      <td>0.308994</td>\n",
       "      <td>0.370200</td>\n",
       "      <td>0.291264</td>\n",
       "      <td>0.255072</td>\n",
       "      <td>0.059182</td>\n",
       "      <td>0.056864</td>\n",
       "    </tr>\n",
       "    <tr>\n",
       "      <th>1</th>\n",
       "      <td>1.321963</td>\n",
       "      <td>1.050580</td>\n",
       "      <td>-0.577621</td>\n",
       "      <td>-0.585604</td>\n",
       "      <td>-1.181611</td>\n",
       "      <td>-2.340850</td>\n",
       "      <td>0.406978</td>\n",
       "      <td>0.488282</td>\n",
       "      <td>-0.636233</td>\n",
       "      <td>-0.665576</td>\n",
       "      <td>...</td>\n",
       "      <td>0.619702</td>\n",
       "      <td>0.740886</td>\n",
       "      <td>0.346099</td>\n",
       "      <td>0.359480</td>\n",
       "      <td>0.339488</td>\n",
       "      <td>0.357644</td>\n",
       "      <td>0.261859</td>\n",
       "      <td>0.234763</td>\n",
       "      <td>0.070137</td>\n",
       "      <td>0.087796</td>\n",
       "    </tr>\n",
       "    <tr>\n",
       "      <th>2</th>\n",
       "      <td>1.211633</td>\n",
       "      <td>1.050890</td>\n",
       "      <td>-0.632614</td>\n",
       "      <td>-0.591157</td>\n",
       "      <td>-1.244338</td>\n",
       "      <td>-2.275896</td>\n",
       "      <td>0.414713</td>\n",
       "      <td>0.473083</td>\n",
       "      <td>-0.634657</td>\n",
       "      <td>-0.635736</td>\n",
       "      <td>...</td>\n",
       "      <td>0.616113</td>\n",
       "      <td>0.740946</td>\n",
       "      <td>0.346455</td>\n",
       "      <td>0.346918</td>\n",
       "      <td>0.346211</td>\n",
       "      <td>0.356369</td>\n",
       "      <td>0.284314</td>\n",
       "      <td>0.223682</td>\n",
       "      <td>0.059068</td>\n",
       "      <td>0.093139</td>\n",
       "    </tr>\n",
       "    <tr>\n",
       "      <th>3</th>\n",
       "      <td>1.687816</td>\n",
       "      <td>0.763152</td>\n",
       "      <td>-0.598904</td>\n",
       "      <td>-0.772502</td>\n",
       "      <td>-1.164998</td>\n",
       "      <td>-2.511039</td>\n",
       "      <td>0.579594</td>\n",
       "      <td>0.524241</td>\n",
       "      <td>-0.480467</td>\n",
       "      <td>-0.680904</td>\n",
       "      <td>...</td>\n",
       "      <td>0.628139</td>\n",
       "      <td>0.682038</td>\n",
       "      <td>0.382142</td>\n",
       "      <td>0.354594</td>\n",
       "      <td>0.336060</td>\n",
       "      <td>0.315938</td>\n",
       "      <td>0.256701</td>\n",
       "      <td>0.237760</td>\n",
       "      <td>0.067372</td>\n",
       "      <td>0.075088</td>\n",
       "    </tr>\n",
       "    <tr>\n",
       "      <th>4</th>\n",
       "      <td>1.671441</td>\n",
       "      <td>1.012294</td>\n",
       "      <td>-0.689247</td>\n",
       "      <td>-0.420439</td>\n",
       "      <td>-1.136077</td>\n",
       "      <td>-2.429459</td>\n",
       "      <td>0.405480</td>\n",
       "      <td>0.502802</td>\n",
       "      <td>-0.512100</td>\n",
       "      <td>-0.788551</td>\n",
       "      <td>...</td>\n",
       "      <td>0.623118</td>\n",
       "      <td>0.733469</td>\n",
       "      <td>0.374701</td>\n",
       "      <td>0.334201</td>\n",
       "      <td>0.312480</td>\n",
       "      <td>0.396412</td>\n",
       "      <td>0.343688</td>\n",
       "      <td>0.243041</td>\n",
       "      <td>0.071226</td>\n",
       "      <td>0.080954</td>\n",
       "    </tr>\n",
       "  </tbody>\n",
       "</table>\n",
       "<p>5 rows × 24 columns</p>\n",
       "</div>"
      ],
      "text/plain": [
       "     a__0_0    a__0_1    a__0_2    a__0_3    a__0_4    a__0_5    a__1_0  \\\n",
       "0  1.592587  0.192895 -0.805334 -0.531358 -1.071741 -2.808554  0.575912   \n",
       "1  1.321963  1.050580 -0.577621 -0.585604 -1.181611 -2.340850  0.406978   \n",
       "2  1.211633  1.050890 -0.632614 -0.591157 -1.244338 -2.275896  0.414713   \n",
       "3  1.687816  0.763152 -0.598904 -0.772502 -1.164998 -2.511039  0.579594   \n",
       "4  1.671441  1.012294 -0.689247 -0.420439 -1.136077 -2.429459  0.405480   \n",
       "\n",
       "     a__1_1    a__1_2    a__1_3  ...      p__2      p__3      p__4      p__5  \\\n",
       "0  0.573368 -0.399843 -0.804825  ...  0.639540  0.548075  0.401350  0.308886   \n",
       "1  0.488282 -0.636233 -0.665576  ...  0.619702  0.740886  0.346099  0.359480   \n",
       "2  0.473083 -0.634657 -0.635736  ...  0.616113  0.740946  0.346455  0.346918   \n",
       "3  0.524241 -0.480467 -0.680904  ...  0.628139  0.682038  0.382142  0.354594   \n",
       "4  0.502802 -0.512100 -0.788551  ...  0.623118  0.733469  0.374701  0.334201   \n",
       "\n",
       "       p__6      p__7      p__8      p__9     p__10     p__11  \n",
       "0  0.308994  0.370200  0.291264  0.255072  0.059182  0.056864  \n",
       "1  0.339488  0.357644  0.261859  0.234763  0.070137  0.087796  \n",
       "2  0.346211  0.356369  0.284314  0.223682  0.059068  0.093139  \n",
       "3  0.336060  0.315938  0.256701  0.237760  0.067372  0.075088  \n",
       "4  0.312480  0.396412  0.343688  0.243041  0.071226  0.080954  \n",
       "\n",
       "[5 rows x 24 columns]"
      ]
     },
     "execution_count": 150,
     "metadata": {},
     "output_type": "execute_result"
    },
    {
     "data": {
      "application/javascript": "\n            setTimeout(function() {\n                var nbb_cell_id = 150;\n                var nbb_unformatted_code = \"trace_Interactive_df.head()\";\n                var nbb_formatted_code = \"trace_Interactive_df.head()\";\n                var nbb_cells = Jupyter.notebook.get_cells();\n                for (var i = 0; i < nbb_cells.length; ++i) {\n                    if (nbb_cells[i].input_prompt_number == nbb_cell_id) {\n                        if (nbb_cells[i].get_text() == nbb_unformatted_code) {\n                             nbb_cells[i].set_text(nbb_formatted_code);\n                        }\n                        break;\n                    }\n                }\n            }, 500);\n            ",
      "text/plain": [
       "<IPython.core.display.Javascript object>"
      ]
     },
     "metadata": {},
     "output_type": "display_data"
    }
   ],
   "source": [
    "trace_Interactive_df.head()"
   ]
  },
  {
   "cell_type": "code",
   "execution_count": 151,
   "metadata": {},
   "outputs": [
    {
     "data": {
      "application/javascript": "\n            setTimeout(function() {\n                var nbb_cell_id = 151;\n                var nbb_unformatted_code = \"f_cols = [col for col in trace_Interactive_df.columns if 'a__0' in col]\\nm_cols = [col for col in trace_Interactive_df.columns if 'a__1' in col]\";\n                var nbb_formatted_code = \"f_cols = [col for col in trace_Interactive_df.columns if \\\"a__0\\\" in col]\\nm_cols = [col for col in trace_Interactive_df.columns if \\\"a__1\\\" in col]\";\n                var nbb_cells = Jupyter.notebook.get_cells();\n                for (var i = 0; i < nbb_cells.length; ++i) {\n                    if (nbb_cells[i].input_prompt_number == nbb_cell_id) {\n                        if (nbb_cells[i].get_text() == nbb_unformatted_code) {\n                             nbb_cells[i].set_text(nbb_formatted_code);\n                        }\n                        break;\n                    }\n                }\n            }, 500);\n            ",
      "text/plain": [
       "<IPython.core.display.Javascript object>"
      ]
     },
     "metadata": {},
     "output_type": "display_data"
    }
   ],
   "source": [
    "f_cols = [col for col in trace_Interactive_df.columns if 'a__0' in col]\n",
    "m_cols = [col for col in trace_Interactive_df.columns if 'a__1' in col]"
   ]
  },
  {
   "cell_type": "code",
   "execution_count": 160,
   "metadata": {},
   "outputs": [
    {
     "name": "stderr",
     "output_type": "stream",
     "text": [
      "/Users/blacar/opt/anaconda3/envs/stats_rethinking/lib/python3.8/site-packages/arviz/data/base.py:169: UserWarning: More chains (20000) than draws (6). Passed array should have shape (chains, draws, *shape)\n",
      "  warnings.warn(\n"
     ]
    },
    {
     "data": {
      "text/html": [
       "<div>\n",
       "<style scoped>\n",
       "    .dataframe tbody tr th:only-of-type {\n",
       "        vertical-align: middle;\n",
       "    }\n",
       "\n",
       "    .dataframe tbody tr th {\n",
       "        vertical-align: top;\n",
       "    }\n",
       "\n",
       "    .dataframe thead th {\n",
       "        text-align: right;\n",
       "    }\n",
       "</style>\n",
       "<table border=\"1\" class=\"dataframe\">\n",
       "  <thead>\n",
       "    <tr style=\"text-align: right;\">\n",
       "      <th></th>\n",
       "      <th>mean</th>\n",
       "      <th>sd</th>\n",
       "      <th>hdi_5.5%</th>\n",
       "      <th>hdi_94.5%</th>\n",
       "      <th>mcse_mean</th>\n",
       "      <th>mcse_sd</th>\n",
       "      <th>ess_mean</th>\n",
       "      <th>ess_sd</th>\n",
       "      <th>ess_bulk</th>\n",
       "      <th>ess_tail</th>\n",
       "      <th>r_hat</th>\n",
       "    </tr>\n",
       "  </thead>\n",
       "  <tbody>\n",
       "    <tr>\n",
       "      <th>x</th>\n",
       "      <td>-0.463</td>\n",
       "      <td>1.286</td>\n",
       "      <td>-2.592</td>\n",
       "      <td>1.559</td>\n",
       "      <td>0.002</td>\n",
       "      <td>0.001</td>\n",
       "      <td>609502.0</td>\n",
       "      <td>609502.0</td>\n",
       "      <td>609502.0</td>\n",
       "      <td>609502.0</td>\n",
       "      <td>1.2</td>\n",
       "    </tr>\n",
       "  </tbody>\n",
       "</table>\n",
       "</div>"
      ],
      "text/plain": [
       "    mean     sd  hdi_5.5%  hdi_94.5%  mcse_mean  mcse_sd  ess_mean    ess_sd  \\\n",
       "x -0.463  1.286    -2.592      1.559      0.002    0.001  609502.0  609502.0   \n",
       "\n",
       "   ess_bulk  ess_tail  r_hat  \n",
       "x  609502.0  609502.0    1.2  "
      ]
     },
     "execution_count": 160,
     "metadata": {},
     "output_type": "execute_result"
    },
    {
     "data": {
      "application/javascript": "\n            setTimeout(function() {\n                var nbb_cell_id = 160;\n                var nbb_unformatted_code = \"# log-odds scale\\naz.summary(np.array(trace_Interactive_df[f_cols]))\";\n                var nbb_formatted_code = \"# log-odds scale\\naz.summary(np.array(trace_Interactive_df[f_cols]))\";\n                var nbb_cells = Jupyter.notebook.get_cells();\n                for (var i = 0; i < nbb_cells.length; ++i) {\n                    if (nbb_cells[i].input_prompt_number == nbb_cell_id) {\n                        if (nbb_cells[i].get_text() == nbb_unformatted_code) {\n                             nbb_cells[i].set_text(nbb_formatted_code);\n                        }\n                        break;\n                    }\n                }\n            }, 500);\n            ",
      "text/plain": [
       "<IPython.core.display.Javascript object>"
      ]
     },
     "metadata": {},
     "output_type": "display_data"
    }
   ],
   "source": [
    "# log-odds scale\n",
    "az.summary(np.array(trace_Interactive_df[f_cols]))"
   ]
  },
  {
   "cell_type": "code",
   "execution_count": 161,
   "metadata": {},
   "outputs": [
    {
     "name": "stderr",
     "output_type": "stream",
     "text": [
      "/Users/blacar/opt/anaconda3/envs/stats_rethinking/lib/python3.8/site-packages/arviz/data/base.py:169: UserWarning: More chains (20000) than draws (6). Passed array should have shape (chains, draws, *shape)\n",
      "  warnings.warn(\n"
     ]
    },
    {
     "data": {
      "text/html": [
       "<div>\n",
       "<style scoped>\n",
       "    .dataframe tbody tr th:only-of-type {\n",
       "        vertical-align: middle;\n",
       "    }\n",
       "\n",
       "    .dataframe tbody tr th {\n",
       "        vertical-align: top;\n",
       "    }\n",
       "\n",
       "    .dataframe thead th {\n",
       "        text-align: right;\n",
       "    }\n",
       "</style>\n",
       "<table border=\"1\" class=\"dataframe\">\n",
       "  <thead>\n",
       "    <tr style=\"text-align: right;\">\n",
       "      <th></th>\n",
       "      <th>mean</th>\n",
       "      <th>sd</th>\n",
       "      <th>hdi_5.5%</th>\n",
       "      <th>hdi_94.5%</th>\n",
       "      <th>mcse_mean</th>\n",
       "      <th>mcse_sd</th>\n",
       "      <th>ess_mean</th>\n",
       "      <th>ess_sd</th>\n",
       "      <th>ess_bulk</th>\n",
       "      <th>ess_tail</th>\n",
       "      <th>r_hat</th>\n",
       "    </tr>\n",
       "  </thead>\n",
       "  <tbody>\n",
       "    <tr>\n",
       "      <th>x</th>\n",
       "      <td>-0.635</td>\n",
       "      <td>1.077</td>\n",
       "      <td>-2.624</td>\n",
       "      <td>0.655</td>\n",
       "      <td>0.001</td>\n",
       "      <td>0.001</td>\n",
       "      <td>609502.0</td>\n",
       "      <td>609502.0</td>\n",
       "      <td>609502.0</td>\n",
       "      <td>609502.0</td>\n",
       "      <td>1.38</td>\n",
       "    </tr>\n",
       "  </tbody>\n",
       "</table>\n",
       "</div>"
      ],
      "text/plain": [
       "    mean     sd  hdi_5.5%  hdi_94.5%  mcse_mean  mcse_sd  ess_mean    ess_sd  \\\n",
       "x -0.635  1.077    -2.624      0.655      0.001    0.001  609502.0  609502.0   \n",
       "\n",
       "   ess_bulk  ess_tail  r_hat  \n",
       "x  609502.0  609502.0   1.38  "
      ]
     },
     "execution_count": 161,
     "metadata": {},
     "output_type": "execute_result"
    },
    {
     "data": {
      "application/javascript": "\n            setTimeout(function() {\n                var nbb_cell_id = 161;\n                var nbb_unformatted_code = \"az.summary(np.array(trace_Interactive_df[m_cols]))\";\n                var nbb_formatted_code = \"az.summary(np.array(trace_Interactive_df[m_cols]))\";\n                var nbb_cells = Jupyter.notebook.get_cells();\n                for (var i = 0; i < nbb_cells.length; ++i) {\n                    if (nbb_cells[i].input_prompt_number == nbb_cell_id) {\n                        if (nbb_cells[i].get_text() == nbb_unformatted_code) {\n                             nbb_cells[i].set_text(nbb_formatted_code);\n                        }\n                        break;\n                    }\n                }\n            }, 500);\n            ",
      "text/plain": [
       "<IPython.core.display.Javascript object>"
      ]
     },
     "metadata": {},
     "output_type": "display_data"
    }
   ],
   "source": [
    "az.summary(np.array(trace_Interactive_df[m_cols]))"
   ]
  },
  {
   "cell_type": "code",
   "execution_count": 157,
   "metadata": {},
   "outputs": [
    {
     "name": "stderr",
     "output_type": "stream",
     "text": [
      "arviz - WARNING - Shape validation failed: input_shape: (1, 20000), minimum_shape: (chains=2, draws=4)\n"
     ]
    },
    {
     "data": {
      "text/html": [
       "<div>\n",
       "<style scoped>\n",
       "    .dataframe tbody tr th:only-of-type {\n",
       "        vertical-align: middle;\n",
       "    }\n",
       "\n",
       "    .dataframe tbody tr th {\n",
       "        vertical-align: top;\n",
       "    }\n",
       "\n",
       "    .dataframe thead th {\n",
       "        text-align: right;\n",
       "    }\n",
       "</style>\n",
       "<table border=\"1\" class=\"dataframe\">\n",
       "  <thead>\n",
       "    <tr style=\"text-align: right;\">\n",
       "      <th></th>\n",
       "      <th>mean</th>\n",
       "      <th>sd</th>\n",
       "      <th>hdi_5.5%</th>\n",
       "      <th>hdi_94.5%</th>\n",
       "      <th>mcse_mean</th>\n",
       "      <th>mcse_sd</th>\n",
       "      <th>ess_mean</th>\n",
       "      <th>ess_sd</th>\n",
       "      <th>ess_bulk</th>\n",
       "      <th>ess_tail</th>\n",
       "      <th>r_hat</th>\n",
       "    </tr>\n",
       "  </thead>\n",
       "  <tbody>\n",
       "    <tr>\n",
       "      <th>x</th>\n",
       "      <td>0.066</td>\n",
       "      <td>0.034</td>\n",
       "      <td>0.018</td>\n",
       "      <td>0.11</td>\n",
       "      <td>0.0</td>\n",
       "      <td>0.0</td>\n",
       "      <td>22200.0</td>\n",
       "      <td>17886.0</td>\n",
       "      <td>26135.0</td>\n",
       "      <td>15742.0</td>\n",
       "      <td>NaN</td>\n",
       "    </tr>\n",
       "  </tbody>\n",
       "</table>\n",
       "</div>"
      ],
      "text/plain": [
       "    mean     sd  hdi_5.5%  hdi_94.5%  mcse_mean  mcse_sd  ess_mean   ess_sd  \\\n",
       "x  0.066  0.034     0.018       0.11        0.0      0.0   22200.0  17886.0   \n",
       "\n",
       "   ess_bulk  ess_tail  r_hat  \n",
       "x   26135.0   15742.0    NaN  "
      ]
     },
     "execution_count": 157,
     "metadata": {},
     "output_type": "execute_result"
    },
    {
     "data": {
      "application/javascript": "\n            setTimeout(function() {\n                var nbb_cell_id = 157;\n                var nbb_unformatted_code = \"az.summary(np.array(expit(trace_Interactive_df[f_cols].sum(axis=1))))\";\n                var nbb_formatted_code = \"az.summary(np.array(expit(trace_Interactive_df[f_cols].sum(axis=1))))\";\n                var nbb_cells = Jupyter.notebook.get_cells();\n                for (var i = 0; i < nbb_cells.length; ++i) {\n                    if (nbb_cells[i].input_prompt_number == nbb_cell_id) {\n                        if (nbb_cells[i].get_text() == nbb_unformatted_code) {\n                             nbb_cells[i].set_text(nbb_formatted_code);\n                        }\n                        break;\n                    }\n                }\n            }, 500);\n            ",
      "text/plain": [
       "<IPython.core.display.Javascript object>"
      ]
     },
     "metadata": {},
     "output_type": "display_data"
    }
   ],
   "source": [
    "# probability scale\n",
    "az.summary(np.array(expit(trace_Interactive_df[f_cols].sum(axis=1))))"
   ]
  },
  {
   "cell_type": "code",
   "execution_count": 158,
   "metadata": {},
   "outputs": [
    {
     "name": "stderr",
     "output_type": "stream",
     "text": [
      "arviz - WARNING - Shape validation failed: input_shape: (1, 20000), minimum_shape: (chains=2, draws=4)\n"
     ]
    },
    {
     "data": {
      "text/html": [
       "<div>\n",
       "<style scoped>\n",
       "    .dataframe tbody tr th:only-of-type {\n",
       "        vertical-align: middle;\n",
       "    }\n",
       "\n",
       "    .dataframe tbody tr th {\n",
       "        vertical-align: top;\n",
       "    }\n",
       "\n",
       "    .dataframe thead th {\n",
       "        text-align: right;\n",
       "    }\n",
       "</style>\n",
       "<table border=\"1\" class=\"dataframe\">\n",
       "  <thead>\n",
       "    <tr style=\"text-align: right;\">\n",
       "      <th></th>\n",
       "      <th>mean</th>\n",
       "      <th>sd</th>\n",
       "      <th>hdi_5.5%</th>\n",
       "      <th>hdi_94.5%</th>\n",
       "      <th>mcse_mean</th>\n",
       "      <th>mcse_sd</th>\n",
       "      <th>ess_mean</th>\n",
       "      <th>ess_sd</th>\n",
       "      <th>ess_bulk</th>\n",
       "      <th>ess_tail</th>\n",
       "      <th>r_hat</th>\n",
       "    </tr>\n",
       "  </thead>\n",
       "  <tbody>\n",
       "    <tr>\n",
       "      <th>x</th>\n",
       "      <td>0.023</td>\n",
       "      <td>0.007</td>\n",
       "      <td>0.012</td>\n",
       "      <td>0.033</td>\n",
       "      <td>0.0</td>\n",
       "      <td>0.0</td>\n",
       "      <td>27570.0</td>\n",
       "      <td>23082.0</td>\n",
       "      <td>29588.0</td>\n",
       "      <td>15360.0</td>\n",
       "      <td>NaN</td>\n",
       "    </tr>\n",
       "  </tbody>\n",
       "</table>\n",
       "</div>"
      ],
      "text/plain": [
       "    mean     sd  hdi_5.5%  hdi_94.5%  mcse_mean  mcse_sd  ess_mean   ess_sd  \\\n",
       "x  0.023  0.007     0.012      0.033        0.0      0.0   27570.0  23082.0   \n",
       "\n",
       "   ess_bulk  ess_tail  r_hat  \n",
       "x   29588.0   15360.0    NaN  "
      ]
     },
     "execution_count": 158,
     "metadata": {},
     "output_type": "execute_result"
    },
    {
     "data": {
      "application/javascript": "\n            setTimeout(function() {\n                var nbb_cell_id = 158;\n                var nbb_unformatted_code = \"az.summary(np.array(expit(trace_Interactive_df[m_cols].sum(axis=1))))\";\n                var nbb_formatted_code = \"az.summary(np.array(expit(trace_Interactive_df[m_cols].sum(axis=1))))\";\n                var nbb_cells = Jupyter.notebook.get_cells();\n                for (var i = 0; i < nbb_cells.length; ++i) {\n                    if (nbb_cells[i].input_prompt_number == nbb_cell_id) {\n                        if (nbb_cells[i].get_text() == nbb_unformatted_code) {\n                             nbb_cells[i].set_text(nbb_formatted_code);\n                        }\n                        break;\n                    }\n                }\n            }, 500);\n            ",
      "text/plain": [
       "<IPython.core.display.Javascript object>"
      ]
     },
     "metadata": {},
     "output_type": "display_data"
    }
   ],
   "source": [
    "az.summary(np.array(expit(trace_Interactive_df[m_cols].sum(axis=1))))"
   ]
  },
  {
   "cell_type": "code",
   "execution_count": 166,
   "metadata": {},
   "outputs": [
    {
     "name": "stderr",
     "output_type": "stream",
     "text": [
      "arviz - WARNING - Shape validation failed: input_shape: (1, 20000), minimum_shape: (chains=2, draws=4)\n"
     ]
    },
    {
     "data": {
      "text/html": [
       "<div>\n",
       "<style scoped>\n",
       "    .dataframe tbody tr th:only-of-type {\n",
       "        vertical-align: middle;\n",
       "    }\n",
       "\n",
       "    .dataframe tbody tr th {\n",
       "        vertical-align: top;\n",
       "    }\n",
       "\n",
       "    .dataframe thead th {\n",
       "        text-align: right;\n",
       "    }\n",
       "</style>\n",
       "<table border=\"1\" class=\"dataframe\">\n",
       "  <thead>\n",
       "    <tr style=\"text-align: right;\">\n",
       "      <th></th>\n",
       "      <th>mean</th>\n",
       "      <th>sd</th>\n",
       "      <th>hdi_5.5%</th>\n",
       "      <th>hdi_94.5%</th>\n",
       "      <th>mcse_mean</th>\n",
       "      <th>mcse_sd</th>\n",
       "      <th>ess_mean</th>\n",
       "      <th>ess_sd</th>\n",
       "      <th>ess_bulk</th>\n",
       "      <th>ess_tail</th>\n",
       "      <th>r_hat</th>\n",
       "    </tr>\n",
       "  </thead>\n",
       "  <tbody>\n",
       "    <tr>\n",
       "      <th>x</th>\n",
       "      <td>-1.379</td>\n",
       "      <td>1.857</td>\n",
       "      <td>-4.349</td>\n",
       "      <td>1.55</td>\n",
       "      <td>0.041</td>\n",
       "      <td>0.029</td>\n",
       "      <td>2016.0</td>\n",
       "      <td>2016.0</td>\n",
       "      <td>2011.0</td>\n",
       "      <td>2493.0</td>\n",
       "      <td>NaN</td>\n",
       "    </tr>\n",
       "  </tbody>\n",
       "</table>\n",
       "</div>"
      ],
      "text/plain": [
       "    mean     sd  hdi_5.5%  hdi_94.5%  mcse_mean  mcse_sd  ess_mean  ess_sd  \\\n",
       "x -1.379  1.857    -4.349       1.55      0.041    0.029    2016.0  2016.0   \n",
       "\n",
       "   ess_bulk  ess_tail  r_hat  \n",
       "x    2011.0    2493.0    NaN  "
      ]
     },
     "execution_count": 166,
     "metadata": {},
     "output_type": "execute_result"
    },
    {
     "data": {
      "application/javascript": "\n            setTimeout(function() {\n                var nbb_cell_id = 166;\n                var nbb_unformatted_code = \"d_cols = [col for col in trace_Main_df.columns if 'd__' in col]\\naz.summary(np.array(trace_Main_df['a__0'] + trace_Main_df[d_cols].sum(axis=1)))\";\n                var nbb_formatted_code = \"d_cols = [col for col in trace_Main_df.columns if \\\"d__\\\" in col]\\naz.summary(np.array(trace_Main_df[\\\"a__0\\\"] + trace_Main_df[d_cols].sum(axis=1)))\";\n                var nbb_cells = Jupyter.notebook.get_cells();\n                for (var i = 0; i < nbb_cells.length; ++i) {\n                    if (nbb_cells[i].input_prompt_number == nbb_cell_id) {\n                        if (nbb_cells[i].get_text() == nbb_unformatted_code) {\n                             nbb_cells[i].set_text(nbb_formatted_code);\n                        }\n                        break;\n                    }\n                }\n            }, 500);\n            ",
      "text/plain": [
       "<IPython.core.display.Javascript object>"
      ]
     },
     "metadata": {},
     "output_type": "display_data"
    }
   ],
   "source": [
    "d_cols = [col for col in trace_Main_df.columns if 'd__' in col]\n",
    "az.summary(np.array(trace_Main_df['a__0'] + trace_Main_df[d_cols].sum(axis=1)))"
   ]
  },
  {
   "cell_type": "markdown",
   "metadata": {},
   "source": [
    "### TRY POST-STRATIFICATION"
   ]
  },
  {
   "cell_type": "code",
   "execution_count": null,
   "metadata": {},
   "outputs": [],
   "source": []
  },
  {
   "cell_type": "code",
   "execution_count": null,
   "metadata": {},
   "outputs": [],
   "source": []
  },
  {
   "cell_type": "markdown",
   "metadata": {},
   "source": [
    "### Why doesn't linear model (book way) get the same answer?\n",
    "\n",
    "Compare logit transformation below with matrix (lecture) way."
   ]
  },
  {
   "cell_type": "code",
   "execution_count": 439,
   "metadata": {},
   "outputs": [
    {
     "data": {
      "text/plain": [
       "p[0]     0.575364\n",
       "p[1]     0.672220\n",
       "p[2]     0.532217\n",
       "p[3]     0.623438\n",
       "p[4]    -0.676692\n",
       "p[5]    -0.584055\n",
       "p[6]    -0.708185\n",
       "p[7]    -0.614646\n",
       "p[8]    -1.147205\n",
       "p[9]    -1.051173\n",
       "p[10]   -2.666159\n",
       "p[11]   -2.586689\n",
       "Name: mean, dtype: float64"
      ]
     },
     "execution_count": 439,
     "metadata": {},
     "output_type": "execute_result"
    },
    {
     "data": {
      "application/javascript": "\n            setTimeout(function() {\n                var nbb_cell_id = 439;\n                var nbb_unformatted_code = \"logit(az.summary(idata_mq2_book, var_names='p')['mean'])\";\n                var nbb_formatted_code = \"logit(az.summary(idata_mq2_book, var_names=\\\"p\\\")[\\\"mean\\\"])\";\n                var nbb_cells = Jupyter.notebook.get_cells();\n                for (var i = 0; i < nbb_cells.length; ++i) {\n                    if (nbb_cells[i].input_prompt_number == nbb_cell_id) {\n                        if (nbb_cells[i].get_text() == nbb_unformatted_code) {\n                             nbb_cells[i].set_text(nbb_formatted_code);\n                        }\n                        break;\n                    }\n                }\n            }, 500);\n            ",
      "text/plain": [
       "<IPython.core.display.Javascript object>"
      ]
     },
     "metadata": {},
     "output_type": "display_data"
    }
   ],
   "source": [
    "logit(az.summary(idata_mq2_book, var_names='p')['mean'])"
   ]
  },
  {
   "cell_type": "code",
   "execution_count": 444,
   "metadata": {},
   "outputs": [
    {
     "data": {
      "text/plain": [
       "a[0,0]    1.471\n",
       "a[0,1]    0.662\n",
       "a[0,2]   -0.657\n",
       "a[0,3]   -0.615\n",
       "a[0,4]   -1.146\n",
       "a[0,5]   -2.491\n",
       "a[1,0]    0.490\n",
       "a[1,1]    0.531\n",
       "a[1,2]   -0.530\n",
       "a[1,3]   -0.699\n",
       "a[1,4]   -0.938\n",
       "a[1,5]   -2.664\n",
       "Name: mean, dtype: float64"
      ]
     },
     "execution_count": 444,
     "metadata": {},
     "output_type": "execute_result"
    },
    {
     "data": {
      "application/javascript": "\n            setTimeout(function() {\n                var nbb_cell_id = 444;\n                var nbb_unformatted_code = \"az.summary(idata_mq2_lec, var_names='a')['mean']\";\n                var nbb_formatted_code = \"az.summary(idata_mq2_lec, var_names=\\\"a\\\")[\\\"mean\\\"]\";\n                var nbb_cells = Jupyter.notebook.get_cells();\n                for (var i = 0; i < nbb_cells.length; ++i) {\n                    if (nbb_cells[i].input_prompt_number == nbb_cell_id) {\n                        if (nbb_cells[i].get_text() == nbb_unformatted_code) {\n                             nbb_cells[i].set_text(nbb_formatted_code);\n                        }\n                        break;\n                    }\n                }\n            }, 500);\n            ",
      "text/plain": [
       "<IPython.core.display.Javascript object>"
      ]
     },
     "metadata": {},
     "output_type": "display_data"
    }
   ],
   "source": [
    "az.summary(idata_mq2_lec, var_names='a')['mean']"
   ]
  },
  {
   "cell_type": "code",
   "execution_count": 445,
   "metadata": {},
   "outputs": [
    {
     "data": {
      "text/plain": [
       "p[0]     0.650219\n",
       "p[1]     0.692110\n",
       "p[2]     0.652263\n",
       "p[3]     0.657911\n",
       "p[4]     0.591701\n",
       "p[5]     0.584676\n",
       "p[6]     0.582246\n",
       "p[7]     0.586860\n",
       "p[8]     0.570036\n",
       "p[9]     0.560206\n",
       "p[10]    0.516494\n",
       "p[11]    0.519490\n",
       "Name: mean, dtype: float64"
      ]
     },
     "execution_count": 445,
     "metadata": {},
     "output_type": "execute_result"
    },
    {
     "data": {
      "application/javascript": "\n            setTimeout(function() {\n                var nbb_cell_id = 445;\n                var nbb_unformatted_code = \"expit(az.summary(idata_mq2_lec, var_names='p')['mean'])\";\n                var nbb_formatted_code = \"expit(az.summary(idata_mq2_lec, var_names=\\\"p\\\")[\\\"mean\\\"])\";\n                var nbb_cells = Jupyter.notebook.get_cells();\n                for (var i = 0; i < nbb_cells.length; ++i) {\n                    if (nbb_cells[i].input_prompt_number == nbb_cell_id) {\n                        if (nbb_cells[i].get_text() == nbb_unformatted_code) {\n                             nbb_cells[i].set_text(nbb_formatted_code);\n                        }\n                        break;\n                    }\n                }\n            }, 500);\n            ",
      "text/plain": [
       "<IPython.core.display.Javascript object>"
      ]
     },
     "metadata": {},
     "output_type": "display_data"
    }
   ],
   "source": [
    "expit(az.summary(idata_mq2_lec, var_names='p')['mean'])"
   ]
  },
  {
   "cell_type": "code",
   "execution_count": null,
   "metadata": {},
   "outputs": [],
   "source": [
    "# check contrasts"
   ]
  },
  {
   "cell_type": "code",
   "execution_count": null,
   "metadata": {},
   "outputs": [],
   "source": []
  },
  {
   "cell_type": "code",
   "execution_count": 452,
   "metadata": {},
   "outputs": [
    {
     "data": {
      "application/javascript": "\n            setTimeout(function() {\n                var nbb_cell_id = 452;\n                var nbb_unformatted_code = \"idata_mq2_book_df = idata_mq2_book.to_dataframe()\\n\\npost_diff_ucb_book = dict()\\nfor i in df_ucb.index:\\n    if i % 2 == 0:\\n        post_diff_ucb_book[df_ucb.loc[i, 'dept']] = idata_mq2_book_df[('posterior', f'p[{i+1}]', i+1)] - idata_mq2_book_df[('posterior', f'p[{i}]', i)]\";\n                var nbb_formatted_code = \"idata_mq2_book_df = idata_mq2_book.to_dataframe()\\n\\npost_diff_ucb_book = dict()\\nfor i in df_ucb.index:\\n    if i % 2 == 0:\\n        post_diff_ucb_book[df_ucb.loc[i, \\\"dept\\\"]] = (\\n            idata_mq2_book_df[(\\\"posterior\\\", f\\\"p[{i+1}]\\\", i + 1)]\\n            - idata_mq2_book_df[(\\\"posterior\\\", f\\\"p[{i}]\\\", i)]\\n        )\";\n                var nbb_cells = Jupyter.notebook.get_cells();\n                for (var i = 0; i < nbb_cells.length; ++i) {\n                    if (nbb_cells[i].input_prompt_number == nbb_cell_id) {\n                        if (nbb_cells[i].get_text() == nbb_unformatted_code) {\n                             nbb_cells[i].set_text(nbb_formatted_code);\n                        }\n                        break;\n                    }\n                }\n            }, 500);\n            ",
      "text/plain": [
       "<IPython.core.display.Javascript object>"
      ]
     },
     "metadata": {},
     "output_type": "display_data"
    }
   ],
   "source": [
    "# idata_mq2_book_df = idata_mq2_book.to_dataframe()\n",
    "\n",
    "# post_diff_ucb_book = dict()\n",
    "# for i in df_ucb.index:\n",
    "#     if i % 2 == 0:\n",
    "#         post_diff_ucb_book[df_ucb.loc[i, 'dept']] = idata_mq2_book_df[('posterior', f'p[{i+1}]', i+1)] - idata_mq2_book_df[('posterior', f'p[{i}]', i)]"
   ]
  },
  {
   "cell_type": "code",
   "execution_count": 19,
   "metadata": {},
   "outputs": [
    {
     "data": {
      "text/html": [
       "<div>\n",
       "<style scoped>\n",
       "    .dataframe tbody tr th:only-of-type {\n",
       "        vertical-align: middle;\n",
       "    }\n",
       "\n",
       "    .dataframe tbody tr th {\n",
       "        vertical-align: top;\n",
       "    }\n",
       "\n",
       "    .dataframe thead th {\n",
       "        text-align: right;\n",
       "    }\n",
       "</style>\n",
       "<table border=\"1\" class=\"dataframe\">\n",
       "  <thead>\n",
       "    <tr style=\"text-align: right;\">\n",
       "      <th></th>\n",
       "      <th>a__0_0</th>\n",
       "      <th>a__0_1</th>\n",
       "      <th>a__0_2</th>\n",
       "      <th>a__0_3</th>\n",
       "      <th>a__0_4</th>\n",
       "      <th>a__0_5</th>\n",
       "      <th>a__1_0</th>\n",
       "      <th>a__1_1</th>\n",
       "      <th>a__1_2</th>\n",
       "      <th>a__1_3</th>\n",
       "      <th>...</th>\n",
       "      <th>p__2</th>\n",
       "      <th>p__3</th>\n",
       "      <th>p__4</th>\n",
       "      <th>p__5</th>\n",
       "      <th>p__6</th>\n",
       "      <th>p__7</th>\n",
       "      <th>p__8</th>\n",
       "      <th>p__9</th>\n",
       "      <th>p__10</th>\n",
       "      <th>p__11</th>\n",
       "    </tr>\n",
       "  </thead>\n",
       "  <tbody>\n",
       "    <tr>\n",
       "      <th>0</th>\n",
       "      <td>0.891069</td>\n",
       "      <td>1.641279</td>\n",
       "      <td>-0.521474</td>\n",
       "      <td>-0.646311</td>\n",
       "      <td>-1.052864</td>\n",
       "      <td>-2.699225</td>\n",
       "      <td>0.611370</td>\n",
       "      <td>0.651254</td>\n",
       "      <td>-0.518243</td>\n",
       "      <td>-0.645239</td>\n",
       "      <td>...</td>\n",
       "      <td>0.657293</td>\n",
       "      <td>0.837709</td>\n",
       "      <td>0.373263</td>\n",
       "      <td>0.372508</td>\n",
       "      <td>0.344063</td>\n",
       "      <td>0.343821</td>\n",
       "      <td>0.271126</td>\n",
       "      <td>0.258675</td>\n",
       "      <td>0.086586</td>\n",
       "      <td>0.063019</td>\n",
       "    </tr>\n",
       "    <tr>\n",
       "      <th>1</th>\n",
       "      <td>1.927675</td>\n",
       "      <td>0.575378</td>\n",
       "      <td>-0.783576</td>\n",
       "      <td>-0.550105</td>\n",
       "      <td>-1.222880</td>\n",
       "      <td>-2.794901</td>\n",
       "      <td>0.353855</td>\n",
       "      <td>0.390752</td>\n",
       "      <td>-0.536723</td>\n",
       "      <td>-0.595988</td>\n",
       "      <td>...</td>\n",
       "      <td>0.596464</td>\n",
       "      <td>0.640003</td>\n",
       "      <td>0.368950</td>\n",
       "      <td>0.313550</td>\n",
       "      <td>0.355262</td>\n",
       "      <td>0.365840</td>\n",
       "      <td>0.299623</td>\n",
       "      <td>0.227430</td>\n",
       "      <td>0.060891</td>\n",
       "      <td>0.057600</td>\n",
       "    </tr>\n",
       "    <tr>\n",
       "      <th>2</th>\n",
       "      <td>1.938643</td>\n",
       "      <td>0.607025</td>\n",
       "      <td>-0.663745</td>\n",
       "      <td>-0.778497</td>\n",
       "      <td>-0.931355</td>\n",
       "      <td>-2.535624</td>\n",
       "      <td>0.520048</td>\n",
       "      <td>0.503298</td>\n",
       "      <td>-0.486455</td>\n",
       "      <td>-0.777678</td>\n",
       "      <td>...</td>\n",
       "      <td>0.623234</td>\n",
       "      <td>0.647262</td>\n",
       "      <td>0.380729</td>\n",
       "      <td>0.339899</td>\n",
       "      <td>0.314820</td>\n",
       "      <td>0.314644</td>\n",
       "      <td>0.284581</td>\n",
       "      <td>0.282650</td>\n",
       "      <td>0.055522</td>\n",
       "      <td>0.073398</td>\n",
       "    </tr>\n",
       "    <tr>\n",
       "      <th>3</th>\n",
       "      <td>1.730108</td>\n",
       "      <td>0.910071</td>\n",
       "      <td>-0.661863</td>\n",
       "      <td>-0.693358</td>\n",
       "      <td>-1.125136</td>\n",
       "      <td>-2.493848</td>\n",
       "      <td>0.501386</td>\n",
       "      <td>0.625492</td>\n",
       "      <td>-0.310426</td>\n",
       "      <td>-0.702095</td>\n",
       "      <td>...</td>\n",
       "      <td>0.651466</td>\n",
       "      <td>0.713015</td>\n",
       "      <td>0.423011</td>\n",
       "      <td>0.340321</td>\n",
       "      <td>0.331348</td>\n",
       "      <td>0.333287</td>\n",
       "      <td>0.277520</td>\n",
       "      <td>0.245060</td>\n",
       "      <td>0.049939</td>\n",
       "      <td>0.076291</td>\n",
       "    </tr>\n",
       "    <tr>\n",
       "      <th>4</th>\n",
       "      <td>1.614487</td>\n",
       "      <td>0.835652</td>\n",
       "      <td>-0.661002</td>\n",
       "      <td>-0.756671</td>\n",
       "      <td>-0.963028</td>\n",
       "      <td>-2.688075</td>\n",
       "      <td>0.561555</td>\n",
       "      <td>0.535844</td>\n",
       "      <td>-0.621586</td>\n",
       "      <td>-0.777209</td>\n",
       "      <td>...</td>\n",
       "      <td>0.630845</td>\n",
       "      <td>0.697549</td>\n",
       "      <td>0.349421</td>\n",
       "      <td>0.340514</td>\n",
       "      <td>0.314922</td>\n",
       "      <td>0.319370</td>\n",
       "      <td>0.225927</td>\n",
       "      <td>0.276272</td>\n",
       "      <td>0.047908</td>\n",
       "      <td>0.063681</td>\n",
       "    </tr>\n",
       "  </tbody>\n",
       "</table>\n",
       "<p>5 rows × 24 columns</p>\n",
       "</div>"
      ],
      "text/plain": [
       "     a__0_0    a__0_1    a__0_2    a__0_3    a__0_4    a__0_5    a__1_0  \\\n",
       "0  0.891069  1.641279 -0.521474 -0.646311 -1.052864 -2.699225  0.611370   \n",
       "1  1.927675  0.575378 -0.783576 -0.550105 -1.222880 -2.794901  0.353855   \n",
       "2  1.938643  0.607025 -0.663745 -0.778497 -0.931355 -2.535624  0.520048   \n",
       "3  1.730108  0.910071 -0.661863 -0.693358 -1.125136 -2.493848  0.501386   \n",
       "4  1.614487  0.835652 -0.661002 -0.756671 -0.963028 -2.688075  0.561555   \n",
       "\n",
       "     a__1_1    a__1_2    a__1_3  ...      p__2      p__3      p__4      p__5  \\\n",
       "0  0.651254 -0.518243 -0.645239  ...  0.657293  0.837709  0.373263  0.372508   \n",
       "1  0.390752 -0.536723 -0.595988  ...  0.596464  0.640003  0.368950  0.313550   \n",
       "2  0.503298 -0.486455 -0.777678  ...  0.623234  0.647262  0.380729  0.339899   \n",
       "3  0.625492 -0.310426 -0.702095  ...  0.651466  0.713015  0.423011  0.340321   \n",
       "4  0.535844 -0.621586 -0.777209  ...  0.630845  0.697549  0.349421  0.340514   \n",
       "\n",
       "       p__6      p__7      p__8      p__9     p__10     p__11  \n",
       "0  0.344063  0.343821  0.271126  0.258675  0.086586  0.063019  \n",
       "1  0.355262  0.365840  0.299623  0.227430  0.060891  0.057600  \n",
       "2  0.314820  0.314644  0.284581  0.282650  0.055522  0.073398  \n",
       "3  0.331348  0.333287  0.277520  0.245060  0.049939  0.076291  \n",
       "4  0.314922  0.319370  0.225927  0.276272  0.047908  0.063681  \n",
       "\n",
       "[5 rows x 24 columns]"
      ]
     },
     "execution_count": 19,
     "metadata": {},
     "output_type": "execute_result"
    },
    {
     "data": {
      "application/javascript": "\n            setTimeout(function() {\n                var nbb_cell_id = 19;\n                var nbb_unformatted_code = \"idata_mq2_lec_df = pm.trace_to_dataframe(idata_mq2_lec)\\nidata_mq2_lec_df.head()\";\n                var nbb_formatted_code = \"idata_mq2_lec_df = pm.trace_to_dataframe(idata_mq2_lec)\\nidata_mq2_lec_df.head()\";\n                var nbb_cells = Jupyter.notebook.get_cells();\n                for (var i = 0; i < nbb_cells.length; ++i) {\n                    if (nbb_cells[i].input_prompt_number == nbb_cell_id) {\n                        if (nbb_cells[i].get_text() == nbb_unformatted_code) {\n                             nbb_cells[i].set_text(nbb_formatted_code);\n                        }\n                        break;\n                    }\n                }\n            }, 500);\n            ",
      "text/plain": [
       "<IPython.core.display.Javascript object>"
      ]
     },
     "metadata": {},
     "output_type": "display_data"
    }
   ],
   "source": [
    "idata_mq2_lec_df = pm.trace_to_dataframe(idata_mq2_lec)\n",
    "idata_mq2_lec_df.head()"
   ]
  },
  {
   "cell_type": "code",
   "execution_count": 20,
   "metadata": {},
   "outputs": [
    {
     "name": "stderr",
     "output_type": "stream",
     "text": [
      "/Users/blacar/opt/anaconda3/envs/stats_rethinking/lib/python3.8/site-packages/arviz/data/io_pymc3.py:88: FutureWarning: Using `from_pymc3` without the model will be deprecated in a future release. Not using the model will return less accurate and less useful results. Make sure you use the model argument or call from_pymc3 within a model context.\n",
      "  warnings.warn(\n"
     ]
    },
    {
     "data": {
      "text/html": [
       "<div>\n",
       "<style scoped>\n",
       "    .dataframe tbody tr th:only-of-type {\n",
       "        vertical-align: middle;\n",
       "    }\n",
       "\n",
       "    .dataframe tbody tr th {\n",
       "        vertical-align: top;\n",
       "    }\n",
       "\n",
       "    .dataframe thead th {\n",
       "        text-align: right;\n",
       "    }\n",
       "</style>\n",
       "<table border=\"1\" class=\"dataframe\">\n",
       "  <thead>\n",
       "    <tr style=\"text-align: right;\">\n",
       "      <th></th>\n",
       "      <th>mean</th>\n",
       "      <th>sd</th>\n",
       "      <th>hdi_5.5%</th>\n",
       "      <th>hdi_94.5%</th>\n",
       "      <th>mcse_mean</th>\n",
       "      <th>mcse_sd</th>\n",
       "      <th>ess_mean</th>\n",
       "      <th>ess_sd</th>\n",
       "      <th>ess_bulk</th>\n",
       "      <th>ess_tail</th>\n",
       "      <th>r_hat</th>\n",
       "    </tr>\n",
       "  </thead>\n",
       "  <tbody>\n",
       "    <tr>\n",
       "      <th>a[0]</th>\n",
       "      <td>-0.428</td>\n",
       "      <td>0.367</td>\n",
       "      <td>-1.013</td>\n",
       "      <td>0.153</td>\n",
       "      <td>0.008</td>\n",
       "      <td>0.006</td>\n",
       "      <td>2195.0</td>\n",
       "      <td>2084.0</td>\n",
       "      <td>2197.0</td>\n",
       "      <td>2583.0</td>\n",
       "      <td>1.0</td>\n",
       "    </tr>\n",
       "    <tr>\n",
       "      <th>a[1]</th>\n",
       "      <td>-0.521</td>\n",
       "      <td>0.366</td>\n",
       "      <td>-1.098</td>\n",
       "      <td>0.062</td>\n",
       "      <td>0.008</td>\n",
       "      <td>0.006</td>\n",
       "      <td>2201.0</td>\n",
       "      <td>2179.0</td>\n",
       "      <td>2203.0</td>\n",
       "      <td>2568.0</td>\n",
       "      <td>1.0</td>\n",
       "    </tr>\n",
       "  </tbody>\n",
       "</table>\n",
       "</div>"
      ],
      "text/plain": [
       "       mean     sd  hdi_5.5%  hdi_94.5%  mcse_mean  mcse_sd  ess_mean  ess_sd  \\\n",
       "a[0] -0.428  0.367    -1.013      0.153      0.008    0.006    2195.0  2084.0   \n",
       "a[1] -0.521  0.366    -1.098      0.062      0.008    0.006    2201.0  2179.0   \n",
       "\n",
       "      ess_bulk  ess_tail  r_hat  \n",
       "a[0]    2197.0    2583.0    1.0  \n",
       "a[1]    2203.0    2568.0    1.0  "
      ]
     },
     "execution_count": 20,
     "metadata": {},
     "output_type": "execute_result"
    },
    {
     "data": {
      "application/javascript": "\n            setTimeout(function() {\n                var nbb_cell_id = 20;\n                var nbb_unformatted_code = \"az.summary(idata_m1f, var_names=[\\\"a\\\"])\";\n                var nbb_formatted_code = \"az.summary(idata_m1f, var_names=[\\\"a\\\"])\";\n                var nbb_cells = Jupyter.notebook.get_cells();\n                for (var i = 0; i < nbb_cells.length; ++i) {\n                    if (nbb_cells[i].input_prompt_number == nbb_cell_id) {\n                        if (nbb_cells[i].get_text() == nbb_unformatted_code) {\n                             nbb_cells[i].set_text(nbb_formatted_code);\n                        }\n                        break;\n                    }\n                }\n            }, 500);\n            ",
      "text/plain": [
       "<IPython.core.display.Javascript object>"
      ]
     },
     "metadata": {},
     "output_type": "display_data"
    }
   ],
   "source": [
    "az.summary(idata_m1f, var_names=[\"a\"])"
   ]
  },
  {
   "cell_type": "markdown",
   "metadata": {},
   "source": [
    "My goal is to get the same values from the additive model back from the interaction model. I'm not sure if this is right way yet."
   ]
  },
  {
   "cell_type": "code",
   "execution_count": 132,
   "metadata": {},
   "outputs": [
    {
     "name": "stderr",
     "output_type": "stream",
     "text": [
      "arviz - WARNING - Shape validation failed: input_shape: (1, 20000), minimum_shape: (chains=2, draws=4)\n"
     ]
    },
    {
     "data": {
      "text/html": [
       "<div>\n",
       "<style scoped>\n",
       "    .dataframe tbody tr th:only-of-type {\n",
       "        vertical-align: middle;\n",
       "    }\n",
       "\n",
       "    .dataframe tbody tr th {\n",
       "        vertical-align: top;\n",
       "    }\n",
       "\n",
       "    .dataframe thead th {\n",
       "        text-align: right;\n",
       "    }\n",
       "</style>\n",
       "<table border=\"1\" class=\"dataframe\">\n",
       "  <thead>\n",
       "    <tr style=\"text-align: right;\">\n",
       "      <th></th>\n",
       "      <th>mean</th>\n",
       "      <th>sd</th>\n",
       "      <th>hdi_5.5%</th>\n",
       "      <th>hdi_94.5%</th>\n",
       "      <th>mcse_mean</th>\n",
       "      <th>mcse_sd</th>\n",
       "      <th>ess_mean</th>\n",
       "      <th>ess_sd</th>\n",
       "      <th>ess_bulk</th>\n",
       "      <th>ess_tail</th>\n",
       "      <th>r_hat</th>\n",
       "    </tr>\n",
       "  </thead>\n",
       "  <tbody>\n",
       "    <tr>\n",
       "      <th>x</th>\n",
       "      <td>-2.783</td>\n",
       "      <td>0.548</td>\n",
       "      <td>-3.687</td>\n",
       "      <td>-1.946</td>\n",
       "      <td>0.003</td>\n",
       "      <td>0.002</td>\n",
       "      <td>30535.0</td>\n",
       "      <td>29517.0</td>\n",
       "      <td>30566.0</td>\n",
       "      <td>15458.0</td>\n",
       "      <td>NaN</td>\n",
       "    </tr>\n",
       "  </tbody>\n",
       "</table>\n",
       "</div>"
      ],
      "text/plain": [
       "    mean     sd  hdi_5.5%  hdi_94.5%  mcse_mean  mcse_sd  ess_mean   ess_sd  \\\n",
       "x -2.783  0.548    -3.687     -1.946      0.003    0.002   30535.0  29517.0   \n",
       "\n",
       "   ess_bulk  ess_tail  r_hat  \n",
       "x   30566.0   15458.0    NaN  "
      ]
     },
     "execution_count": 132,
     "metadata": {},
     "output_type": "execute_result"
    },
    {
     "data": {
      "application/javascript": "\n            setTimeout(function() {\n                var nbb_cell_id = 132;\n                var nbb_unformatted_code = \"f_cols = [col for col in idata_mq2_lec_df.columns if 'a__0' in col]\\n# need to sum across columns to collapse the departments\\naz.summary(np.array(idata_mq2_lec_df[f_cols].sum(axis=1)))\";\n                var nbb_formatted_code = \"f_cols = [col for col in idata_mq2_lec_df.columns if \\\"a__0\\\" in col]\\n# need to sum across columns to collapse the departments\\naz.summary(np.array(idata_mq2_lec_df[f_cols].sum(axis=1)))\";\n                var nbb_cells = Jupyter.notebook.get_cells();\n                for (var i = 0; i < nbb_cells.length; ++i) {\n                    if (nbb_cells[i].input_prompt_number == nbb_cell_id) {\n                        if (nbb_cells[i].get_text() == nbb_unformatted_code) {\n                             nbb_cells[i].set_text(nbb_formatted_code);\n                        }\n                        break;\n                    }\n                }\n            }, 500);\n            ",
      "text/plain": [
       "<IPython.core.display.Javascript object>"
      ]
     },
     "metadata": {},
     "output_type": "display_data"
    }
   ],
   "source": [
    "f_cols = [col for col in idata_mq2_lec_df.columns if 'a__0' in col]\n",
    "# need to sum across columns to collapse the departments\n",
    "az.summary(np.array(idata_mq2_lec_df[f_cols].sum(axis=1)))"
   ]
  },
  {
   "cell_type": "code",
   "execution_count": 133,
   "metadata": {},
   "outputs": [
    {
     "name": "stderr",
     "output_type": "stream",
     "text": [
      "arviz - WARNING - Shape validation failed: input_shape: (1, 20000), minimum_shape: (chains=2, draws=4)\n"
     ]
    },
    {
     "data": {
      "text/html": [
       "<div>\n",
       "<style scoped>\n",
       "    .dataframe tbody tr th:only-of-type {\n",
       "        vertical-align: middle;\n",
       "    }\n",
       "\n",
       "    .dataframe tbody tr th {\n",
       "        vertical-align: top;\n",
       "    }\n",
       "\n",
       "    .dataframe thead th {\n",
       "        text-align: right;\n",
       "    }\n",
       "</style>\n",
       "<table border=\"1\" class=\"dataframe\">\n",
       "  <thead>\n",
       "    <tr style=\"text-align: right;\">\n",
       "      <th></th>\n",
       "      <th>mean</th>\n",
       "      <th>sd</th>\n",
       "      <th>hdi_5.5%</th>\n",
       "      <th>hdi_94.5%</th>\n",
       "      <th>mcse_mean</th>\n",
       "      <th>mcse_sd</th>\n",
       "      <th>ess_mean</th>\n",
       "      <th>ess_sd</th>\n",
       "      <th>ess_bulk</th>\n",
       "      <th>ess_tail</th>\n",
       "      <th>r_hat</th>\n",
       "    </tr>\n",
       "  </thead>\n",
       "  <tbody>\n",
       "    <tr>\n",
       "      <th>x</th>\n",
       "      <td>-3.812</td>\n",
       "      <td>0.323</td>\n",
       "      <td>-4.342</td>\n",
       "      <td>-3.313</td>\n",
       "      <td>0.002</td>\n",
       "      <td>0.001</td>\n",
       "      <td>29589.0</td>\n",
       "      <td>29198.0</td>\n",
       "      <td>29595.0</td>\n",
       "      <td>15649.0</td>\n",
       "      <td>NaN</td>\n",
       "    </tr>\n",
       "  </tbody>\n",
       "</table>\n",
       "</div>"
      ],
      "text/plain": [
       "    mean     sd  hdi_5.5%  hdi_94.5%  mcse_mean  mcse_sd  ess_mean   ess_sd  \\\n",
       "x -3.812  0.323    -4.342     -3.313      0.002    0.001   29589.0  29198.0   \n",
       "\n",
       "   ess_bulk  ess_tail  r_hat  \n",
       "x   29595.0   15649.0    NaN  "
      ]
     },
     "execution_count": 133,
     "metadata": {},
     "output_type": "execute_result"
    },
    {
     "data": {
      "application/javascript": "\n            setTimeout(function() {\n                var nbb_cell_id = 133;\n                var nbb_unformatted_code = \"m_cols = [col for col in idata_mq2_lec_df.columns if 'a__1' in col]\\naz.summary(np.array(idata_mq2_lec_df[m_cols].sum(axis=1)))\";\n                var nbb_formatted_code = \"m_cols = [col for col in idata_mq2_lec_df.columns if \\\"a__1\\\" in col]\\naz.summary(np.array(idata_mq2_lec_df[m_cols].sum(axis=1)))\";\n                var nbb_cells = Jupyter.notebook.get_cells();\n                for (var i = 0; i < nbb_cells.length; ++i) {\n                    if (nbb_cells[i].input_prompt_number == nbb_cell_id) {\n                        if (nbb_cells[i].get_text() == nbb_unformatted_code) {\n                             nbb_cells[i].set_text(nbb_formatted_code);\n                        }\n                        break;\n                    }\n                }\n            }, 500);\n            ",
      "text/plain": [
       "<IPython.core.display.Javascript object>"
      ]
     },
     "metadata": {},
     "output_type": "display_data"
    }
   ],
   "source": [
    "m_cols = [col for col in idata_mq2_lec_df.columns if 'a__1' in col]\n",
    "az.summary(np.array(idata_mq2_lec_df[m_cols].sum(axis=1)))"
   ]
  },
  {
   "cell_type": "code",
   "execution_count": 135,
   "metadata": {},
   "outputs": [
    {
     "data": {
      "application/javascript": "\n            setTimeout(function() {\n                var nbb_cell_id = 135;\n                var nbb_unformatted_code = \"# az.summary(np.array(idata_mq2_lec_df[f_cols].sum(axis=1)) - np.array(idata_mq2_lec_df[m_cols].sum(axis=1)))\";\n                var nbb_formatted_code = \"# az.summary(np.array(idata_mq2_lec_df[f_cols].sum(axis=1)) - np.array(idata_mq2_lec_df[m_cols].sum(axis=1)))\";\n                var nbb_cells = Jupyter.notebook.get_cells();\n                for (var i = 0; i < nbb_cells.length; ++i) {\n                    if (nbb_cells[i].input_prompt_number == nbb_cell_id) {\n                        if (nbb_cells[i].get_text() == nbb_unformatted_code) {\n                             nbb_cells[i].set_text(nbb_formatted_code);\n                        }\n                        break;\n                    }\n                }\n            }, 500);\n            ",
      "text/plain": [
       "<IPython.core.display.Javascript object>"
      ]
     },
     "metadata": {},
     "output_type": "display_data"
    }
   ],
   "source": [
    "# az.summary(np.array(idata_mq2_lec_df[f_cols].sum(axis=1)) - np.array(idata_mq2_lec_df[m_cols].sum(axis=1)))"
   ]
  },
  {
   "cell_type": "markdown",
   "metadata": {},
   "source": [
    "That doesn't look right. I'll try the post-stratification approach."
   ]
  },
  {
   "cell_type": "code",
   "execution_count": 26,
   "metadata": {},
   "outputs": [
    {
     "data": {
      "text/html": [
       "<div>\n",
       "<style scoped>\n",
       "    .dataframe tbody tr th:only-of-type {\n",
       "        vertical-align: middle;\n",
       "    }\n",
       "\n",
       "    .dataframe tbody tr th {\n",
       "        vertical-align: top;\n",
       "    }\n",
       "\n",
       "    .dataframe thead th {\n",
       "        text-align: right;\n",
       "    }\n",
       "</style>\n",
       "<table border=\"1\" class=\"dataframe\">\n",
       "  <thead>\n",
       "    <tr style=\"text-align: right;\">\n",
       "      <th></th>\n",
       "      <th>dept</th>\n",
       "      <th>applicant.gender</th>\n",
       "      <th>admit</th>\n",
       "      <th>reject</th>\n",
       "      <th>applications</th>\n",
       "      <th>dept_code</th>\n",
       "      <th>gender_code</th>\n",
       "    </tr>\n",
       "  </thead>\n",
       "  <tbody>\n",
       "    <tr>\n",
       "      <th>1</th>\n",
       "      <td>A</td>\n",
       "      <td>male</td>\n",
       "      <td>512</td>\n",
       "      <td>313</td>\n",
       "      <td>825</td>\n",
       "      <td>0</td>\n",
       "      <td>1</td>\n",
       "    </tr>\n",
       "    <tr>\n",
       "      <th>2</th>\n",
       "      <td>A</td>\n",
       "      <td>female</td>\n",
       "      <td>89</td>\n",
       "      <td>19</td>\n",
       "      <td>108</td>\n",
       "      <td>0</td>\n",
       "      <td>0</td>\n",
       "    </tr>\n",
       "    <tr>\n",
       "      <th>3</th>\n",
       "      <td>B</td>\n",
       "      <td>male</td>\n",
       "      <td>353</td>\n",
       "      <td>207</td>\n",
       "      <td>560</td>\n",
       "      <td>1</td>\n",
       "      <td>1</td>\n",
       "    </tr>\n",
       "    <tr>\n",
       "      <th>4</th>\n",
       "      <td>B</td>\n",
       "      <td>female</td>\n",
       "      <td>17</td>\n",
       "      <td>8</td>\n",
       "      <td>25</td>\n",
       "      <td>1</td>\n",
       "      <td>0</td>\n",
       "    </tr>\n",
       "    <tr>\n",
       "      <th>5</th>\n",
       "      <td>C</td>\n",
       "      <td>male</td>\n",
       "      <td>120</td>\n",
       "      <td>205</td>\n",
       "      <td>325</td>\n",
       "      <td>2</td>\n",
       "      <td>1</td>\n",
       "    </tr>\n",
       "  </tbody>\n",
       "</table>\n",
       "</div>"
      ],
      "text/plain": [
       "  dept applicant.gender  admit  reject  applications  dept_code  gender_code\n",
       "1    A             male    512     313           825          0            1\n",
       "2    A           female     89      19           108          0            0\n",
       "3    B             male    353     207           560          1            1\n",
       "4    B           female     17       8            25          1            0\n",
       "5    C             male    120     205           325          2            1"
      ]
     },
     "execution_count": 26,
     "metadata": {},
     "output_type": "execute_result"
    },
    {
     "data": {
      "application/javascript": "\n            setTimeout(function() {\n                var nbb_cell_id = 26;\n                var nbb_unformatted_code = \"df_ucb.head()\";\n                var nbb_formatted_code = \"df_ucb.head()\";\n                var nbb_cells = Jupyter.notebook.get_cells();\n                for (var i = 0; i < nbb_cells.length; ++i) {\n                    if (nbb_cells[i].input_prompt_number == nbb_cell_id) {\n                        if (nbb_cells[i].get_text() == nbb_unformatted_code) {\n                             nbb_cells[i].set_text(nbb_formatted_code);\n                        }\n                        break;\n                    }\n                }\n            }, 500);\n            ",
      "text/plain": [
       "<IPython.core.display.Javascript object>"
      ]
     },
     "metadata": {},
     "output_type": "display_data"
    }
   ],
   "source": [
    "df_ucb.head()"
   ]
  },
  {
   "cell_type": "code",
   "execution_count": 209,
   "metadata": {},
   "outputs": [
    {
     "data": {
      "application/javascript": "\n            setTimeout(function() {\n                var nbb_cell_id = 209;\n                var nbb_unformatted_code = \"# number of applications to simulate\\ntotal_apps = df_ucb['applications'].sum()\\n\\n# number of applications per discipline\\napps_per_disc = df_ucb.groupby('dept').sum()['applications'].reset_index()\\n\\napp_list = list()\\nfor i in apps_per_disc.index:\\n    app_list += ([i] * apps_per_disc.loc[i, 'applications'])\";\n                var nbb_formatted_code = \"# number of applications to simulate\\ntotal_apps = df_ucb[\\\"applications\\\"].sum()\\n\\n# number of applications per discipline\\napps_per_disc = df_ucb.groupby(\\\"dept\\\").sum()[\\\"applications\\\"].reset_index()\\n\\napp_list = list()\\nfor i in apps_per_disc.index:\\n    app_list += [i] * apps_per_disc.loc[i, \\\"applications\\\"]\";\n                var nbb_cells = Jupyter.notebook.get_cells();\n                for (var i = 0; i < nbb_cells.length; ++i) {\n                    if (nbb_cells[i].input_prompt_number == nbb_cell_id) {\n                        if (nbb_cells[i].get_text() == nbb_unformatted_code) {\n                             nbb_cells[i].set_text(nbb_formatted_code);\n                        }\n                        break;\n                    }\n                }\n            }, 500);\n            ",
      "text/plain": [
       "<IPython.core.display.Javascript object>"
      ]
     },
     "metadata": {},
     "output_type": "display_data"
    }
   ],
   "source": [
    "# number of applications to simulate\n",
    "total_apps = df_ucb['applications'].sum()\n",
    "\n",
    "# number of applications per discipline\n",
    "apps_per_disc = df_ucb.groupby('dept').sum()['applications'].reset_index()\n",
    "\n",
    "app_list = list()\n",
    "for i in apps_per_disc.index:\n",
    "    app_list += ([i] * apps_per_disc.loc[i, 'applications'])"
   ]
  },
  {
   "cell_type": "code",
   "execution_count": 210,
   "metadata": {},
   "outputs": [
    {
     "data": {
      "application/javascript": "\n            setTimeout(function() {\n                var nbb_cell_id = 210;\n                var nbb_unformatted_code = \"df_g0 = pd.DataFrame(\\n    {\\n        \\\"D\\\": app_list,\\n        \\\"N\\\": [1] * total_apps,\\n        \\\"G\\\": [0] * total_apps,\\n    }\\n)\\n\\ndf_g1 = pd.DataFrame(\\n    {\\n        \\\"D\\\": app_list,\\n        \\\"N\\\": [1] * total_apps,\\n        \\\"G\\\": [1] * total_apps,\\n    }\\n)\";\n                var nbb_formatted_code = \"df_g0 = pd.DataFrame(\\n    {\\n        \\\"D\\\": app_list,\\n        \\\"N\\\": [1] * total_apps,\\n        \\\"G\\\": [0] * total_apps,\\n    }\\n)\\n\\ndf_g1 = pd.DataFrame(\\n    {\\n        \\\"D\\\": app_list,\\n        \\\"N\\\": [1] * total_apps,\\n        \\\"G\\\": [1] * total_apps,\\n    }\\n)\";\n                var nbb_cells = Jupyter.notebook.get_cells();\n                for (var i = 0; i < nbb_cells.length; ++i) {\n                    if (nbb_cells[i].input_prompt_number == nbb_cell_id) {\n                        if (nbb_cells[i].get_text() == nbb_unformatted_code) {\n                             nbb_cells[i].set_text(nbb_formatted_code);\n                        }\n                        break;\n                    }\n                }\n            }, 500);\n            ",
      "text/plain": [
       "<IPython.core.display.Javascript object>"
      ]
     },
     "metadata": {},
     "output_type": "display_data"
    }
   ],
   "source": [
    "df_g0 = pd.DataFrame(\n",
    "    {\n",
    "        \"D\": app_list,\n",
    "        \"N\": [1] * total_apps,\n",
    "        \"G\": [0] * total_apps,\n",
    "    }\n",
    ")\n",
    "\n",
    "df_g1 = pd.DataFrame(\n",
    "    {\n",
    "        \"D\": app_list,\n",
    "        \"N\": [1] * total_apps,\n",
    "        \"G\": [1] * total_apps,\n",
    "    }\n",
    ")"
   ]
  },
  {
   "cell_type": "code",
   "execution_count": 211,
   "metadata": {},
   "outputs": [
    {
     "data": {
      "application/javascript": "\n            setTimeout(function() {\n                var nbb_cell_id = 211;\n                var nbb_unformatted_code = \"# Initialize for speed\\np_G0 = np.zeros((len(df_g0), len(idata_mq2_lec_df)))\\np_G1 = np.zeros((len(df_g1), len(idata_mq2_lec_df)))\";\n                var nbb_formatted_code = \"# Initialize for speed\\np_G0 = np.zeros((len(df_g0), len(idata_mq2_lec_df)))\\np_G1 = np.zeros((len(df_g1), len(idata_mq2_lec_df)))\";\n                var nbb_cells = Jupyter.notebook.get_cells();\n                for (var i = 0; i < nbb_cells.length; ++i) {\n                    if (nbb_cells[i].input_prompt_number == nbb_cell_id) {\n                        if (nbb_cells[i].get_text() == nbb_unformatted_code) {\n                             nbb_cells[i].set_text(nbb_formatted_code);\n                        }\n                        break;\n                    }\n                }\n            }, 500);\n            ",
      "text/plain": [
       "<IPython.core.display.Javascript object>"
      ]
     },
     "metadata": {},
     "output_type": "display_data"
    }
   ],
   "source": [
    "# Initialize for speed\n",
    "p_G0 = np.zeros((len(df_g0), len(idata_mq2_lec_df)))\n",
    "p_G1 = np.zeros((len(df_g1), len(idata_mq2_lec_df)))"
   ]
  },
  {
   "cell_type": "code",
   "execution_count": 212,
   "metadata": {},
   "outputs": [
    {
     "data": {
      "text/html": [
       "<div>\n",
       "<style scoped>\n",
       "    .dataframe tbody tr th:only-of-type {\n",
       "        vertical-align: middle;\n",
       "    }\n",
       "\n",
       "    .dataframe tbody tr th {\n",
       "        vertical-align: top;\n",
       "    }\n",
       "\n",
       "    .dataframe thead th {\n",
       "        text-align: right;\n",
       "    }\n",
       "</style>\n",
       "<table border=\"1\" class=\"dataframe\">\n",
       "  <thead>\n",
       "    <tr style=\"text-align: right;\">\n",
       "      <th></th>\n",
       "      <th>dept</th>\n",
       "      <th>applicant.gender</th>\n",
       "      <th>admit</th>\n",
       "      <th>reject</th>\n",
       "      <th>applications</th>\n",
       "      <th>dept_code</th>\n",
       "      <th>gender_code</th>\n",
       "    </tr>\n",
       "  </thead>\n",
       "  <tbody>\n",
       "    <tr>\n",
       "      <th>1</th>\n",
       "      <td>A</td>\n",
       "      <td>male</td>\n",
       "      <td>512</td>\n",
       "      <td>313</td>\n",
       "      <td>825</td>\n",
       "      <td>0</td>\n",
       "      <td>1</td>\n",
       "    </tr>\n",
       "    <tr>\n",
       "      <th>2</th>\n",
       "      <td>A</td>\n",
       "      <td>female</td>\n",
       "      <td>89</td>\n",
       "      <td>19</td>\n",
       "      <td>108</td>\n",
       "      <td>0</td>\n",
       "      <td>0</td>\n",
       "    </tr>\n",
       "    <tr>\n",
       "      <th>3</th>\n",
       "      <td>B</td>\n",
       "      <td>male</td>\n",
       "      <td>353</td>\n",
       "      <td>207</td>\n",
       "      <td>560</td>\n",
       "      <td>1</td>\n",
       "      <td>1</td>\n",
       "    </tr>\n",
       "    <tr>\n",
       "      <th>4</th>\n",
       "      <td>B</td>\n",
       "      <td>female</td>\n",
       "      <td>17</td>\n",
       "      <td>8</td>\n",
       "      <td>25</td>\n",
       "      <td>1</td>\n",
       "      <td>0</td>\n",
       "    </tr>\n",
       "    <tr>\n",
       "      <th>5</th>\n",
       "      <td>C</td>\n",
       "      <td>male</td>\n",
       "      <td>120</td>\n",
       "      <td>205</td>\n",
       "      <td>325</td>\n",
       "      <td>2</td>\n",
       "      <td>1</td>\n",
       "    </tr>\n",
       "    <tr>\n",
       "      <th>6</th>\n",
       "      <td>C</td>\n",
       "      <td>female</td>\n",
       "      <td>202</td>\n",
       "      <td>391</td>\n",
       "      <td>593</td>\n",
       "      <td>2</td>\n",
       "      <td>0</td>\n",
       "    </tr>\n",
       "    <tr>\n",
       "      <th>7</th>\n",
       "      <td>D</td>\n",
       "      <td>male</td>\n",
       "      <td>138</td>\n",
       "      <td>279</td>\n",
       "      <td>417</td>\n",
       "      <td>3</td>\n",
       "      <td>1</td>\n",
       "    </tr>\n",
       "    <tr>\n",
       "      <th>8</th>\n",
       "      <td>D</td>\n",
       "      <td>female</td>\n",
       "      <td>131</td>\n",
       "      <td>244</td>\n",
       "      <td>375</td>\n",
       "      <td>3</td>\n",
       "      <td>0</td>\n",
       "    </tr>\n",
       "    <tr>\n",
       "      <th>9</th>\n",
       "      <td>E</td>\n",
       "      <td>male</td>\n",
       "      <td>53</td>\n",
       "      <td>138</td>\n",
       "      <td>191</td>\n",
       "      <td>4</td>\n",
       "      <td>1</td>\n",
       "    </tr>\n",
       "    <tr>\n",
       "      <th>10</th>\n",
       "      <td>E</td>\n",
       "      <td>female</td>\n",
       "      <td>94</td>\n",
       "      <td>299</td>\n",
       "      <td>393</td>\n",
       "      <td>4</td>\n",
       "      <td>0</td>\n",
       "    </tr>\n",
       "    <tr>\n",
       "      <th>11</th>\n",
       "      <td>F</td>\n",
       "      <td>male</td>\n",
       "      <td>22</td>\n",
       "      <td>351</td>\n",
       "      <td>373</td>\n",
       "      <td>5</td>\n",
       "      <td>1</td>\n",
       "    </tr>\n",
       "    <tr>\n",
       "      <th>12</th>\n",
       "      <td>F</td>\n",
       "      <td>female</td>\n",
       "      <td>24</td>\n",
       "      <td>317</td>\n",
       "      <td>341</td>\n",
       "      <td>5</td>\n",
       "      <td>0</td>\n",
       "    </tr>\n",
       "  </tbody>\n",
       "</table>\n",
       "</div>"
      ],
      "text/plain": [
       "   dept applicant.gender  admit  reject  applications  dept_code  gender_code\n",
       "1     A             male    512     313           825          0            1\n",
       "2     A           female     89      19           108          0            0\n",
       "3     B             male    353     207           560          1            1\n",
       "4     B           female     17       8            25          1            0\n",
       "5     C             male    120     205           325          2            1\n",
       "6     C           female    202     391           593          2            0\n",
       "7     D             male    138     279           417          3            1\n",
       "8     D           female    131     244           375          3            0\n",
       "9     E             male     53     138           191          4            1\n",
       "10    E           female     94     299           393          4            0\n",
       "11    F             male     22     351           373          5            1\n",
       "12    F           female     24     317           341          5            0"
      ]
     },
     "execution_count": 212,
     "metadata": {},
     "output_type": "execute_result"
    },
    {
     "data": {
      "application/javascript": "\n            setTimeout(function() {\n                var nbb_cell_id = 212;\n                var nbb_unformatted_code = \"df_ucb\";\n                var nbb_formatted_code = \"df_ucb\";\n                var nbb_cells = Jupyter.notebook.get_cells();\n                for (var i = 0; i < nbb_cells.length; ++i) {\n                    if (nbb_cells[i].input_prompt_number == nbb_cell_id) {\n                        if (nbb_cells[i].get_text() == nbb_unformatted_code) {\n                             nbb_cells[i].set_text(nbb_formatted_code);\n                        }\n                        break;\n                    }\n                }\n            }, 500);\n            ",
      "text/plain": [
       "<IPython.core.display.Javascript object>"
      ]
     },
     "metadata": {},
     "output_type": "display_data"
    }
   ],
   "source": [
    "df_ucb"
   ]
  },
  {
   "cell_type": "code",
   "execution_count": 214,
   "metadata": {},
   "outputs": [
    {
     "data": {
      "text/html": [
       "<div>\n",
       "<style scoped>\n",
       "    .dataframe tbody tr th:only-of-type {\n",
       "        vertical-align: middle;\n",
       "    }\n",
       "\n",
       "    .dataframe tbody tr th {\n",
       "        vertical-align: top;\n",
       "    }\n",
       "\n",
       "    .dataframe thead th {\n",
       "        text-align: right;\n",
       "    }\n",
       "</style>\n",
       "<table border=\"1\" class=\"dataframe\">\n",
       "  <thead>\n",
       "    <tr style=\"text-align: right;\">\n",
       "      <th></th>\n",
       "      <th>a__0_0</th>\n",
       "      <th>a__0_1</th>\n",
       "      <th>a__0_2</th>\n",
       "      <th>a__0_3</th>\n",
       "      <th>a__0_4</th>\n",
       "      <th>a__0_5</th>\n",
       "      <th>a__1_0</th>\n",
       "      <th>a__1_1</th>\n",
       "      <th>a__1_2</th>\n",
       "      <th>a__1_3</th>\n",
       "      <th>...</th>\n",
       "      <th>p__2</th>\n",
       "      <th>p__3</th>\n",
       "      <th>p__4</th>\n",
       "      <th>p__5</th>\n",
       "      <th>p__6</th>\n",
       "      <th>p__7</th>\n",
       "      <th>p__8</th>\n",
       "      <th>p__9</th>\n",
       "      <th>p__10</th>\n",
       "      <th>p__11</th>\n",
       "    </tr>\n",
       "  </thead>\n",
       "  <tbody>\n",
       "    <tr>\n",
       "      <th>0</th>\n",
       "      <td>1.592587</td>\n",
       "      <td>0.192895</td>\n",
       "      <td>-0.805334</td>\n",
       "      <td>-0.531358</td>\n",
       "      <td>-1.071741</td>\n",
       "      <td>-2.808554</td>\n",
       "      <td>0.575912</td>\n",
       "      <td>0.573368</td>\n",
       "      <td>-0.399843</td>\n",
       "      <td>-0.804825</td>\n",
       "      <td>...</td>\n",
       "      <td>0.639540</td>\n",
       "      <td>0.548075</td>\n",
       "      <td>0.401350</td>\n",
       "      <td>0.308886</td>\n",
       "      <td>0.308994</td>\n",
       "      <td>0.370200</td>\n",
       "      <td>0.291264</td>\n",
       "      <td>0.255072</td>\n",
       "      <td>0.059182</td>\n",
       "      <td>0.056864</td>\n",
       "    </tr>\n",
       "    <tr>\n",
       "      <th>1</th>\n",
       "      <td>1.321963</td>\n",
       "      <td>1.050580</td>\n",
       "      <td>-0.577621</td>\n",
       "      <td>-0.585604</td>\n",
       "      <td>-1.181611</td>\n",
       "      <td>-2.340850</td>\n",
       "      <td>0.406978</td>\n",
       "      <td>0.488282</td>\n",
       "      <td>-0.636233</td>\n",
       "      <td>-0.665576</td>\n",
       "      <td>...</td>\n",
       "      <td>0.619702</td>\n",
       "      <td>0.740886</td>\n",
       "      <td>0.346099</td>\n",
       "      <td>0.359480</td>\n",
       "      <td>0.339488</td>\n",
       "      <td>0.357644</td>\n",
       "      <td>0.261859</td>\n",
       "      <td>0.234763</td>\n",
       "      <td>0.070137</td>\n",
       "      <td>0.087796</td>\n",
       "    </tr>\n",
       "    <tr>\n",
       "      <th>2</th>\n",
       "      <td>1.211633</td>\n",
       "      <td>1.050890</td>\n",
       "      <td>-0.632614</td>\n",
       "      <td>-0.591157</td>\n",
       "      <td>-1.244338</td>\n",
       "      <td>-2.275896</td>\n",
       "      <td>0.414713</td>\n",
       "      <td>0.473083</td>\n",
       "      <td>-0.634657</td>\n",
       "      <td>-0.635736</td>\n",
       "      <td>...</td>\n",
       "      <td>0.616113</td>\n",
       "      <td>0.740946</td>\n",
       "      <td>0.346455</td>\n",
       "      <td>0.346918</td>\n",
       "      <td>0.346211</td>\n",
       "      <td>0.356369</td>\n",
       "      <td>0.284314</td>\n",
       "      <td>0.223682</td>\n",
       "      <td>0.059068</td>\n",
       "      <td>0.093139</td>\n",
       "    </tr>\n",
       "    <tr>\n",
       "      <th>3</th>\n",
       "      <td>1.687816</td>\n",
       "      <td>0.763152</td>\n",
       "      <td>-0.598904</td>\n",
       "      <td>-0.772502</td>\n",
       "      <td>-1.164998</td>\n",
       "      <td>-2.511039</td>\n",
       "      <td>0.579594</td>\n",
       "      <td>0.524241</td>\n",
       "      <td>-0.480467</td>\n",
       "      <td>-0.680904</td>\n",
       "      <td>...</td>\n",
       "      <td>0.628139</td>\n",
       "      <td>0.682038</td>\n",
       "      <td>0.382142</td>\n",
       "      <td>0.354594</td>\n",
       "      <td>0.336060</td>\n",
       "      <td>0.315938</td>\n",
       "      <td>0.256701</td>\n",
       "      <td>0.237760</td>\n",
       "      <td>0.067372</td>\n",
       "      <td>0.075088</td>\n",
       "    </tr>\n",
       "    <tr>\n",
       "      <th>4</th>\n",
       "      <td>1.671441</td>\n",
       "      <td>1.012294</td>\n",
       "      <td>-0.689247</td>\n",
       "      <td>-0.420439</td>\n",
       "      <td>-1.136077</td>\n",
       "      <td>-2.429459</td>\n",
       "      <td>0.405480</td>\n",
       "      <td>0.502802</td>\n",
       "      <td>-0.512100</td>\n",
       "      <td>-0.788551</td>\n",
       "      <td>...</td>\n",
       "      <td>0.623118</td>\n",
       "      <td>0.733469</td>\n",
       "      <td>0.374701</td>\n",
       "      <td>0.334201</td>\n",
       "      <td>0.312480</td>\n",
       "      <td>0.396412</td>\n",
       "      <td>0.343688</td>\n",
       "      <td>0.243041</td>\n",
       "      <td>0.071226</td>\n",
       "      <td>0.080954</td>\n",
       "    </tr>\n",
       "  </tbody>\n",
       "</table>\n",
       "<p>5 rows × 24 columns</p>\n",
       "</div>"
      ],
      "text/plain": [
       "     a__0_0    a__0_1    a__0_2    a__0_3    a__0_4    a__0_5    a__1_0  \\\n",
       "0  1.592587  0.192895 -0.805334 -0.531358 -1.071741 -2.808554  0.575912   \n",
       "1  1.321963  1.050580 -0.577621 -0.585604 -1.181611 -2.340850  0.406978   \n",
       "2  1.211633  1.050890 -0.632614 -0.591157 -1.244338 -2.275896  0.414713   \n",
       "3  1.687816  0.763152 -0.598904 -0.772502 -1.164998 -2.511039  0.579594   \n",
       "4  1.671441  1.012294 -0.689247 -0.420439 -1.136077 -2.429459  0.405480   \n",
       "\n",
       "     a__1_1    a__1_2    a__1_3  ...      p__2      p__3      p__4      p__5  \\\n",
       "0  0.573368 -0.399843 -0.804825  ...  0.639540  0.548075  0.401350  0.308886   \n",
       "1  0.488282 -0.636233 -0.665576  ...  0.619702  0.740886  0.346099  0.359480   \n",
       "2  0.473083 -0.634657 -0.635736  ...  0.616113  0.740946  0.346455  0.346918   \n",
       "3  0.524241 -0.480467 -0.680904  ...  0.628139  0.682038  0.382142  0.354594   \n",
       "4  0.502802 -0.512100 -0.788551  ...  0.623118  0.733469  0.374701  0.334201   \n",
       "\n",
       "       p__6      p__7      p__8      p__9     p__10     p__11  \n",
       "0  0.308994  0.370200  0.291264  0.255072  0.059182  0.056864  \n",
       "1  0.339488  0.357644  0.261859  0.234763  0.070137  0.087796  \n",
       "2  0.346211  0.356369  0.284314  0.223682  0.059068  0.093139  \n",
       "3  0.336060  0.315938  0.256701  0.237760  0.067372  0.075088  \n",
       "4  0.312480  0.396412  0.343688  0.243041  0.071226  0.080954  \n",
       "\n",
       "[5 rows x 24 columns]"
      ]
     },
     "execution_count": 214,
     "metadata": {},
     "output_type": "execute_result"
    },
    {
     "data": {
      "application/javascript": "\n            setTimeout(function() {\n                var nbb_cell_id = 214;\n                var nbb_unformatted_code = \"trace_Interactive_df.head()\";\n                var nbb_formatted_code = \"trace_Interactive_df.head()\";\n                var nbb_cells = Jupyter.notebook.get_cells();\n                for (var i = 0; i < nbb_cells.length; ++i) {\n                    if (nbb_cells[i].input_prompt_number == nbb_cell_id) {\n                        if (nbb_cells[i].get_text() == nbb_unformatted_code) {\n                             nbb_cells[i].set_text(nbb_formatted_code);\n                        }\n                        break;\n                    }\n                }\n            }, 500);\n            ",
      "text/plain": [
       "<IPython.core.display.Javascript object>"
      ]
     },
     "metadata": {},
     "output_type": "display_data"
    }
   ],
   "source": [
    "trace_Interactive_df.head()"
   ]
  },
  {
   "cell_type": "code",
   "execution_count": 215,
   "metadata": {},
   "outputs": [
    {
     "data": {
      "application/javascript": "\n            setTimeout(function() {\n                var nbb_cell_id = 215;\n                var nbb_unformatted_code = \"# Dataframe is the same between genders, so use just one to get discipline and apply it to both\\nfor i in range(len(df_g0)):\\n    disc = df_g0.loc[i, 'D']\\n    p_G0[i, :] = trace_Interactive_df[f'a__0_{disc}']\\n    p_G1[i, :] = trace_Interactive_df[f'a__1_{disc}']\";\n                var nbb_formatted_code = \"# Dataframe is the same between genders, so use just one to get discipline and apply it to both\\nfor i in range(len(df_g0)):\\n    disc = df_g0.loc[i, \\\"D\\\"]\\n    p_G0[i, :] = trace_Interactive_df[f\\\"a__0_{disc}\\\"]\\n    p_G1[i, :] = trace_Interactive_df[f\\\"a__1_{disc}\\\"]\";\n                var nbb_cells = Jupyter.notebook.get_cells();\n                for (var i = 0; i < nbb_cells.length; ++i) {\n                    if (nbb_cells[i].input_prompt_number == nbb_cell_id) {\n                        if (nbb_cells[i].get_text() == nbb_unformatted_code) {\n                             nbb_cells[i].set_text(nbb_formatted_code);\n                        }\n                        break;\n                    }\n                }\n            }, 500);\n            ",
      "text/plain": [
       "<IPython.core.display.Javascript object>"
      ]
     },
     "metadata": {},
     "output_type": "display_data"
    }
   ],
   "source": [
    "# Dataframe is the same between genders, so use just one to get discipline and apply it to both\n",
    "for i in range(len(df_g0)):\n",
    "    disc = df_g0.loc[i, 'D']\n",
    "    p_G0[i, :] = trace_Interactive_df[f'a__0_{disc}']\n",
    "    p_G1[i, :] = trace_Interactive_df[f'a__1_{disc}']"
   ]
  },
  {
   "cell_type": "code",
   "execution_count": 218,
   "metadata": {},
   "outputs": [
    {
     "data": {
      "text/html": [
       "<div>\n",
       "<style scoped>\n",
       "    .dataframe tbody tr th:only-of-type {\n",
       "        vertical-align: middle;\n",
       "    }\n",
       "\n",
       "    .dataframe tbody tr th {\n",
       "        vertical-align: top;\n",
       "    }\n",
       "\n",
       "    .dataframe thead th {\n",
       "        text-align: right;\n",
       "    }\n",
       "</style>\n",
       "<table border=\"1\" class=\"dataframe\">\n",
       "  <thead>\n",
       "    <tr style=\"text-align: right;\">\n",
       "      <th></th>\n",
       "      <th>D</th>\n",
       "      <th>N</th>\n",
       "      <th>G</th>\n",
       "    </tr>\n",
       "  </thead>\n",
       "  <tbody>\n",
       "    <tr>\n",
       "      <th>0</th>\n",
       "      <td>0</td>\n",
       "      <td>1</td>\n",
       "      <td>0</td>\n",
       "    </tr>\n",
       "    <tr>\n",
       "      <th>1</th>\n",
       "      <td>0</td>\n",
       "      <td>1</td>\n",
       "      <td>0</td>\n",
       "    </tr>\n",
       "    <tr>\n",
       "      <th>2</th>\n",
       "      <td>0</td>\n",
       "      <td>1</td>\n",
       "      <td>0</td>\n",
       "    </tr>\n",
       "    <tr>\n",
       "      <th>3</th>\n",
       "      <td>0</td>\n",
       "      <td>1</td>\n",
       "      <td>0</td>\n",
       "    </tr>\n",
       "    <tr>\n",
       "      <th>4</th>\n",
       "      <td>0</td>\n",
       "      <td>1</td>\n",
       "      <td>0</td>\n",
       "    </tr>\n",
       "  </tbody>\n",
       "</table>\n",
       "</div>"
      ],
      "text/plain": [
       "   D  N  G\n",
       "0  0  1  0\n",
       "1  0  1  0\n",
       "2  0  1  0\n",
       "3  0  1  0\n",
       "4  0  1  0"
      ]
     },
     "execution_count": 218,
     "metadata": {},
     "output_type": "execute_result"
    },
    {
     "data": {
      "application/javascript": "\n            setTimeout(function() {\n                var nbb_cell_id = 218;\n                var nbb_unformatted_code = \"df_g0.head()\";\n                var nbb_formatted_code = \"df_g0.head()\";\n                var nbb_cells = Jupyter.notebook.get_cells();\n                for (var i = 0; i < nbb_cells.length; ++i) {\n                    if (nbb_cells[i].input_prompt_number == nbb_cell_id) {\n                        if (nbb_cells[i].get_text() == nbb_unformatted_code) {\n                             nbb_cells[i].set_text(nbb_formatted_code);\n                        }\n                        break;\n                    }\n                }\n            }, 500);\n            ",
      "text/plain": [
       "<IPython.core.display.Javascript object>"
      ]
     },
     "metadata": {},
     "output_type": "display_data"
    }
   ],
   "source": [
    "df_g0.head()"
   ]
  },
  {
   "cell_type": "code",
   "execution_count": 217,
   "metadata": {},
   "outputs": [
    {
     "data": {
      "text/plain": [
       "(4526, 20000)"
      ]
     },
     "execution_count": 217,
     "metadata": {},
     "output_type": "execute_result"
    },
    {
     "data": {
      "application/javascript": "\n            setTimeout(function() {\n                var nbb_cell_id = 217;\n                var nbb_unformatted_code = \"p_G0.shape\";\n                var nbb_formatted_code = \"p_G0.shape\";\n                var nbb_cells = Jupyter.notebook.get_cells();\n                for (var i = 0; i < nbb_cells.length; ++i) {\n                    if (nbb_cells[i].input_prompt_number == nbb_cell_id) {\n                        if (nbb_cells[i].get_text() == nbb_unformatted_code) {\n                             nbb_cells[i].set_text(nbb_formatted_code);\n                        }\n                        break;\n                    }\n                }\n            }, 500);\n            ",
      "text/plain": [
       "<IPython.core.display.Javascript object>"
      ]
     },
     "metadata": {},
     "output_type": "display_data"
    }
   ],
   "source": [
    "p_G0.shape"
   ]
  },
  {
   "cell_type": "code",
   "execution_count": 228,
   "metadata": {},
   "outputs": [
    {
     "name": "stderr",
     "output_type": "stream",
     "text": [
      "arviz - WARNING - Shape validation failed: input_shape: (1, 20000), minimum_shape: (chains=2, draws=4)\n"
     ]
    },
    {
     "data": {
      "text/html": [
       "<div>\n",
       "<style scoped>\n",
       "    .dataframe tbody tr th:only-of-type {\n",
       "        vertical-align: middle;\n",
       "    }\n",
       "\n",
       "    .dataframe tbody tr th {\n",
       "        vertical-align: top;\n",
       "    }\n",
       "\n",
       "    .dataframe thead th {\n",
       "        text-align: right;\n",
       "    }\n",
       "</style>\n",
       "<table border=\"1\" class=\"dataframe\">\n",
       "  <thead>\n",
       "    <tr style=\"text-align: right;\">\n",
       "      <th></th>\n",
       "      <th>mean</th>\n",
       "      <th>sd</th>\n",
       "      <th>hdi_5.5%</th>\n",
       "      <th>hdi_94.5%</th>\n",
       "      <th>mcse_mean</th>\n",
       "      <th>mcse_sd</th>\n",
       "      <th>ess_mean</th>\n",
       "      <th>ess_sd</th>\n",
       "      <th>ess_bulk</th>\n",
       "      <th>ess_tail</th>\n",
       "      <th>r_hat</th>\n",
       "    </tr>\n",
       "  </thead>\n",
       "  <tbody>\n",
       "    <tr>\n",
       "      <th>x</th>\n",
       "      <td>-0.089</td>\n",
       "      <td>0.019</td>\n",
       "      <td>-0.12</td>\n",
       "      <td>-0.06</td>\n",
       "      <td>0.0</td>\n",
       "      <td>0.0</td>\n",
       "      <td>26252.0</td>\n",
       "      <td>25758.0</td>\n",
       "      <td>26284.0</td>\n",
       "      <td>16056.0</td>\n",
       "      <td>NaN</td>\n",
       "    </tr>\n",
       "  </tbody>\n",
       "</table>\n",
       "</div>"
      ],
      "text/plain": [
       "    mean     sd  hdi_5.5%  hdi_94.5%  mcse_mean  mcse_sd  ess_mean   ess_sd  \\\n",
       "x -0.089  0.019     -0.12      -0.06        0.0      0.0   26252.0  25758.0   \n",
       "\n",
       "   ess_bulk  ess_tail  r_hat  \n",
       "x   26284.0   16056.0    NaN  "
      ]
     },
     "execution_count": 228,
     "metadata": {},
     "output_type": "execute_result"
    },
    {
     "data": {
      "application/javascript": "\n            setTimeout(function() {\n                var nbb_cell_id = 228;\n                var nbb_unformatted_code = \"az.summary((p_G0.sum(axis=0) / 20000))\";\n                var nbb_formatted_code = \"az.summary((p_G0.sum(axis=0) / 20000))\";\n                var nbb_cells = Jupyter.notebook.get_cells();\n                for (var i = 0; i < nbb_cells.length; ++i) {\n                    if (nbb_cells[i].input_prompt_number == nbb_cell_id) {\n                        if (nbb_cells[i].get_text() == nbb_unformatted_code) {\n                             nbb_cells[i].set_text(nbb_formatted_code);\n                        }\n                        break;\n                    }\n                }\n            }, 500);\n            ",
      "text/plain": [
       "<IPython.core.display.Javascript object>"
      ]
     },
     "metadata": {},
     "output_type": "display_data"
    }
   ],
   "source": [
    "az.summary((p_G0.sum(axis=0) / 20000))"
   ]
  },
  {
   "cell_type": "code",
   "execution_count": 229,
   "metadata": {},
   "outputs": [
    {
     "name": "stderr",
     "output_type": "stream",
     "text": [
      "arviz - WARNING - Shape validation failed: input_shape: (1, 20000), minimum_shape: (chains=2, draws=4)\n"
     ]
    },
    {
     "data": {
      "text/html": [
       "<div>\n",
       "<style scoped>\n",
       "    .dataframe tbody tr th:only-of-type {\n",
       "        vertical-align: middle;\n",
       "    }\n",
       "\n",
       "    .dataframe tbody tr th {\n",
       "        vertical-align: top;\n",
       "    }\n",
       "\n",
       "    .dataframe thead th {\n",
       "        text-align: right;\n",
       "    }\n",
       "</style>\n",
       "<table border=\"1\" class=\"dataframe\">\n",
       "  <thead>\n",
       "    <tr style=\"text-align: right;\">\n",
       "      <th></th>\n",
       "      <th>mean</th>\n",
       "      <th>sd</th>\n",
       "      <th>hdi_5.5%</th>\n",
       "      <th>hdi_94.5%</th>\n",
       "      <th>mcse_mean</th>\n",
       "      <th>mcse_sd</th>\n",
       "      <th>ess_mean</th>\n",
       "      <th>ess_sd</th>\n",
       "      <th>ess_bulk</th>\n",
       "      <th>ess_tail</th>\n",
       "      <th>r_hat</th>\n",
       "    </tr>\n",
       "  </thead>\n",
       "  <tbody>\n",
       "    <tr>\n",
       "      <th>x</th>\n",
       "      <td>-0.136</td>\n",
       "      <td>0.012</td>\n",
       "      <td>-0.155</td>\n",
       "      <td>-0.118</td>\n",
       "      <td>0.0</td>\n",
       "      <td>0.0</td>\n",
       "      <td>29457.0</td>\n",
       "      <td>29135.0</td>\n",
       "      <td>29466.0</td>\n",
       "      <td>15821.0</td>\n",
       "      <td>NaN</td>\n",
       "    </tr>\n",
       "  </tbody>\n",
       "</table>\n",
       "</div>"
      ],
      "text/plain": [
       "    mean     sd  hdi_5.5%  hdi_94.5%  mcse_mean  mcse_sd  ess_mean   ess_sd  \\\n",
       "x -0.136  0.012    -0.155     -0.118        0.0      0.0   29457.0  29135.0   \n",
       "\n",
       "   ess_bulk  ess_tail  r_hat  \n",
       "x   29466.0   15821.0    NaN  "
      ]
     },
     "execution_count": 229,
     "metadata": {},
     "output_type": "execute_result"
    },
    {
     "data": {
      "application/javascript": "\n            setTimeout(function() {\n                var nbb_cell_id = 229;\n                var nbb_unformatted_code = \"az.summary((p_G1.sum(axis=0) / 20000))\";\n                var nbb_formatted_code = \"az.summary((p_G1.sum(axis=0) / 20000))\";\n                var nbb_cells = Jupyter.notebook.get_cells();\n                for (var i = 0; i < nbb_cells.length; ++i) {\n                    if (nbb_cells[i].input_prompt_number == nbb_cell_id) {\n                        if (nbb_cells[i].get_text() == nbb_unformatted_code) {\n                             nbb_cells[i].set_text(nbb_formatted_code);\n                        }\n                        break;\n                    }\n                }\n            }, 500);\n            ",
      "text/plain": [
       "<IPython.core.display.Javascript object>"
      ]
     },
     "metadata": {},
     "output_type": "display_data"
    }
   ],
   "source": [
    "az.summary((p_G1.sum(axis=0) / 20000))"
   ]
  },
  {
   "cell_type": "code",
   "execution_count": 232,
   "metadata": {},
   "outputs": [
    {
     "name": "stderr",
     "output_type": "stream",
     "text": [
      "arviz - WARNING - Shape validation failed: input_shape: (1, 4526), minimum_shape: (chains=2, draws=4)\n"
     ]
    },
    {
     "data": {
      "text/html": [
       "<div>\n",
       "<style scoped>\n",
       "    .dataframe tbody tr th:only-of-type {\n",
       "        vertical-align: middle;\n",
       "    }\n",
       "\n",
       "    .dataframe tbody tr th {\n",
       "        vertical-align: top;\n",
       "    }\n",
       "\n",
       "    .dataframe thead th {\n",
       "        text-align: right;\n",
       "    }\n",
       "</style>\n",
       "<table border=\"1\" class=\"dataframe\">\n",
       "  <thead>\n",
       "    <tr style=\"text-align: right;\">\n",
       "      <th></th>\n",
       "      <th>mean</th>\n",
       "      <th>sd</th>\n",
       "      <th>hdi_5.5%</th>\n",
       "      <th>hdi_94.5%</th>\n",
       "      <th>mcse_mean</th>\n",
       "      <th>mcse_sd</th>\n",
       "      <th>ess_mean</th>\n",
       "      <th>ess_sd</th>\n",
       "      <th>ess_bulk</th>\n",
       "      <th>ess_tail</th>\n",
       "      <th>r_hat</th>\n",
       "    </tr>\n",
       "  </thead>\n",
       "  <tbody>\n",
       "    <tr>\n",
       "      <th>x</th>\n",
       "      <td>-1.736</td>\n",
       "      <td>5.675</td>\n",
       "      <td>-11.006</td>\n",
       "      <td>6.495</td>\n",
       "      <td>4.715</td>\n",
       "      <td>4.42</td>\n",
       "      <td>1.0</td>\n",
       "      <td>1.0</td>\n",
       "      <td>2.0</td>\n",
       "      <td>4.0</td>\n",
       "      <td>NaN</td>\n",
       "    </tr>\n",
       "  </tbody>\n",
       "</table>\n",
       "</div>"
      ],
      "text/plain": [
       "    mean     sd  hdi_5.5%  hdi_94.5%  mcse_mean  mcse_sd  ess_mean  ess_sd  \\\n",
       "x -1.736  5.675   -11.006      6.495      4.715     4.42       1.0     1.0   \n",
       "\n",
       "   ess_bulk  ess_tail  r_hat  \n",
       "x       2.0       4.0    NaN  "
      ]
     },
     "execution_count": 232,
     "metadata": {},
     "output_type": "execute_result"
    },
    {
     "data": {
      "application/javascript": "\n            setTimeout(function() {\n                var nbb_cell_id = 232;\n                var nbb_unformatted_code = \"az.summary((p_G0.sum(axis=1) / p_G0.shape[0]))\";\n                var nbb_formatted_code = \"az.summary((p_G0.sum(axis=1) / p_G0.shape[0]))\";\n                var nbb_cells = Jupyter.notebook.get_cells();\n                for (var i = 0; i < nbb_cells.length; ++i) {\n                    if (nbb_cells[i].input_prompt_number == nbb_cell_id) {\n                        if (nbb_cells[i].get_text() == nbb_unformatted_code) {\n                             nbb_cells[i].set_text(nbb_formatted_code);\n                        }\n                        break;\n                    }\n                }\n            }, 500);\n            ",
      "text/plain": [
       "<IPython.core.display.Javascript object>"
      ]
     },
     "metadata": {},
     "output_type": "display_data"
    }
   ],
   "source": [
    "az.summary((p_G0.sum(axis=1) / p_G0.shape[0]))"
   ]
  },
  {
   "cell_type": "code",
   "execution_count": 230,
   "metadata": {},
   "outputs": [
    {
     "name": "stderr",
     "output_type": "stream",
     "text": [
      "arviz - WARNING - Shape validation failed: input_shape: (1, 4526), minimum_shape: (chains=2, draws=4)\n"
     ]
    },
    {
     "data": {
      "text/html": [
       "<div>\n",
       "<style scoped>\n",
       "    .dataframe tbody tr th:only-of-type {\n",
       "        vertical-align: middle;\n",
       "    }\n",
       "\n",
       "    .dataframe tbody tr th {\n",
       "        vertical-align: top;\n",
       "    }\n",
       "\n",
       "    .dataframe thead th {\n",
       "        text-align: right;\n",
       "    }\n",
       "</style>\n",
       "<table border=\"1\" class=\"dataframe\">\n",
       "  <thead>\n",
       "    <tr style=\"text-align: right;\">\n",
       "      <th></th>\n",
       "      <th>mean</th>\n",
       "      <th>sd</th>\n",
       "      <th>hdi_5.5%</th>\n",
       "      <th>hdi_94.5%</th>\n",
       "      <th>mcse_mean</th>\n",
       "      <th>mcse_sd</th>\n",
       "      <th>ess_mean</th>\n",
       "      <th>ess_sd</th>\n",
       "      <th>ess_bulk</th>\n",
       "      <th>ess_tail</th>\n",
       "      <th>r_hat</th>\n",
       "    </tr>\n",
       "  </thead>\n",
       "  <tbody>\n",
       "    <tr>\n",
       "      <th>x</th>\n",
       "      <td>-2.658</td>\n",
       "      <td>4.638</td>\n",
       "      <td>-11.782</td>\n",
       "      <td>2.348</td>\n",
       "      <td>3.822</td>\n",
       "      <td>3.557</td>\n",
       "      <td>1.0</td>\n",
       "      <td>1.0</td>\n",
       "      <td>1.0</td>\n",
       "      <td>4.0</td>\n",
       "      <td>NaN</td>\n",
       "    </tr>\n",
       "  </tbody>\n",
       "</table>\n",
       "</div>"
      ],
      "text/plain": [
       "    mean     sd  hdi_5.5%  hdi_94.5%  mcse_mean  mcse_sd  ess_mean  ess_sd  \\\n",
       "x -2.658  4.638   -11.782      2.348      3.822    3.557       1.0     1.0   \n",
       "\n",
       "   ess_bulk  ess_tail  r_hat  \n",
       "x       1.0       4.0    NaN  "
      ]
     },
     "execution_count": 230,
     "metadata": {},
     "output_type": "execute_result"
    },
    {
     "data": {
      "application/javascript": "\n            setTimeout(function() {\n                var nbb_cell_id = 230;\n                var nbb_unformatted_code = \"az.summary((p_G1.sum(axis=1) / p_G1.shape[0]))\";\n                var nbb_formatted_code = \"az.summary((p_G1.sum(axis=1) / p_G1.shape[0]))\";\n                var nbb_cells = Jupyter.notebook.get_cells();\n                for (var i = 0; i < nbb_cells.length; ++i) {\n                    if (nbb_cells[i].input_prompt_number == nbb_cell_id) {\n                        if (nbb_cells[i].get_text() == nbb_unformatted_code) {\n                             nbb_cells[i].set_text(nbb_formatted_code);\n                        }\n                        break;\n                    }\n                }\n            }, 500);\n            ",
      "text/plain": [
       "<IPython.core.display.Javascript object>"
      ]
     },
     "metadata": {},
     "output_type": "display_data"
    }
   ],
   "source": [
    "az.summary((p_G1.sum(axis=1) / p_G1.shape[0]))"
   ]
  },
  {
   "cell_type": "code",
   "execution_count": 221,
   "metadata": {},
   "outputs": [
    {
     "ename": "KeyboardInterrupt",
     "evalue": "",
     "output_type": "error",
     "traceback": [
      "\u001b[0;31m---------------------------------------------------------------------------\u001b[0m",
      "\u001b[0;31mKeyboardInterrupt\u001b[0m                         Traceback (most recent call last)",
      "\u001b[0;32m<ipython-input-221-705eeaceb99a>\u001b[0m in \u001b[0;36m<module>\u001b[0;34m\u001b[0m\n\u001b[0;32m----> 1\u001b[0;31m \u001b[0maz\u001b[0m\u001b[0;34m.\u001b[0m\u001b[0msummary\u001b[0m\u001b[0;34m(\u001b[0m\u001b[0mnp\u001b[0m\u001b[0;34m.\u001b[0m\u001b[0marray\u001b[0m\u001b[0;34m(\u001b[0m\u001b[0mp_G0\u001b[0m\u001b[0;34m)\u001b[0m\u001b[0;34m)\u001b[0m\u001b[0;34m\u001b[0m\u001b[0;34m\u001b[0m\u001b[0m\n\u001b[0m",
      "\u001b[0;32m~/opt/anaconda3/envs/stats_rethinking/lib/python3.8/site-packages/arviz/stats/stats.py\u001b[0m in \u001b[0;36msummary\u001b[0;34m(data, var_names, filter_vars, group, fmt, kind, round_to, include_circ, circ_var_names, stat_funcs, extend, hdi_prob, order, index_origin, skipna, coords, dims, credible_interval)\u001b[0m\n\u001b[1;32m   1262\u001b[0m \u001b[0;34m\u001b[0m\u001b[0m\n\u001b[1;32m   1263\u001b[0m     \u001b[0;32mif\u001b[0m \u001b[0mkind\u001b[0m \u001b[0;32min\u001b[0m \u001b[0;34m[\u001b[0m\u001b[0;34m\"all\"\u001b[0m\u001b[0;34m,\u001b[0m \u001b[0;34m\"diagnostics\"\u001b[0m\u001b[0;34m]\u001b[0m\u001b[0;34m:\u001b[0m\u001b[0;34m\u001b[0m\u001b[0;34m\u001b[0m\u001b[0m\n\u001b[0;32m-> 1264\u001b[0;31m         mcse_mean, mcse_sd, ess_mean, ess_sd, ess_bulk, ess_tail, r_hat = xr.apply_ufunc(\n\u001b[0m\u001b[1;32m   1265\u001b[0m             \u001b[0m_make_ufunc\u001b[0m\u001b[0;34m(\u001b[0m\u001b[0m_multichain_statistics\u001b[0m\u001b[0;34m,\u001b[0m \u001b[0mn_output\u001b[0m\u001b[0;34m=\u001b[0m\u001b[0;36m7\u001b[0m\u001b[0;34m,\u001b[0m \u001b[0mravel\u001b[0m\u001b[0;34m=\u001b[0m\u001b[0;32mFalse\u001b[0m\u001b[0;34m)\u001b[0m\u001b[0;34m,\u001b[0m\u001b[0;34m\u001b[0m\u001b[0;34m\u001b[0m\u001b[0m\n\u001b[1;32m   1266\u001b[0m             \u001b[0mdataset\u001b[0m\u001b[0;34m,\u001b[0m\u001b[0;34m\u001b[0m\u001b[0;34m\u001b[0m\u001b[0m\n",
      "\u001b[0;32m~/opt/anaconda3/envs/stats_rethinking/lib/python3.8/site-packages/xarray/core/computation.py\u001b[0m in \u001b[0;36mapply_ufunc\u001b[0;34m(func, input_core_dims, output_core_dims, exclude_dims, vectorize, join, dataset_join, dataset_fill_value, keep_attrs, kwargs, dask, output_dtypes, output_sizes, meta, dask_gufunc_kwargs, *args)\u001b[0m\n\u001b[1;32m   1114\u001b[0m     \u001b[0;31m# feed datasets apply_variable_ufunc through apply_dataset_vfunc\u001b[0m\u001b[0;34m\u001b[0m\u001b[0;34m\u001b[0m\u001b[0;34m\u001b[0m\u001b[0m\n\u001b[1;32m   1115\u001b[0m     \u001b[0;32melif\u001b[0m \u001b[0many\u001b[0m\u001b[0;34m(\u001b[0m\u001b[0mis_dict_like\u001b[0m\u001b[0;34m(\u001b[0m\u001b[0ma\u001b[0m\u001b[0;34m)\u001b[0m \u001b[0;32mfor\u001b[0m \u001b[0ma\u001b[0m \u001b[0;32min\u001b[0m \u001b[0margs\u001b[0m\u001b[0;34m)\u001b[0m\u001b[0;34m:\u001b[0m\u001b[0;34m\u001b[0m\u001b[0;34m\u001b[0m\u001b[0m\n\u001b[0;32m-> 1116\u001b[0;31m         return apply_dataset_vfunc(\n\u001b[0m\u001b[1;32m   1117\u001b[0m             \u001b[0mvariables_vfunc\u001b[0m\u001b[0;34m,\u001b[0m\u001b[0;34m\u001b[0m\u001b[0;34m\u001b[0m\u001b[0m\n\u001b[1;32m   1118\u001b[0m             \u001b[0;34m*\u001b[0m\u001b[0margs\u001b[0m\u001b[0;34m,\u001b[0m\u001b[0;34m\u001b[0m\u001b[0;34m\u001b[0m\u001b[0m\n",
      "\u001b[0;32m~/opt/anaconda3/envs/stats_rethinking/lib/python3.8/site-packages/xarray/core/computation.py\u001b[0m in \u001b[0;36mapply_dataset_vfunc\u001b[0;34m(func, signature, join, dataset_join, fill_value, exclude_dims, keep_attrs, *args)\u001b[0m\n\u001b[1;32m    426\u001b[0m     \u001b[0margs\u001b[0m \u001b[0;34m=\u001b[0m \u001b[0;34m[\u001b[0m\u001b[0mgetattr\u001b[0m\u001b[0;34m(\u001b[0m\u001b[0marg\u001b[0m\u001b[0;34m,\u001b[0m \u001b[0;34m\"data_vars\"\u001b[0m\u001b[0;34m,\u001b[0m \u001b[0marg\u001b[0m\u001b[0;34m)\u001b[0m \u001b[0;32mfor\u001b[0m \u001b[0marg\u001b[0m \u001b[0;32min\u001b[0m \u001b[0margs\u001b[0m\u001b[0;34m]\u001b[0m\u001b[0;34m\u001b[0m\u001b[0;34m\u001b[0m\u001b[0m\n\u001b[1;32m    427\u001b[0m \u001b[0;34m\u001b[0m\u001b[0m\n\u001b[0;32m--> 428\u001b[0;31m     result_vars = apply_dict_of_variables_vfunc(\n\u001b[0m\u001b[1;32m    429\u001b[0m         \u001b[0mfunc\u001b[0m\u001b[0;34m,\u001b[0m \u001b[0;34m*\u001b[0m\u001b[0margs\u001b[0m\u001b[0;34m,\u001b[0m \u001b[0msignature\u001b[0m\u001b[0;34m=\u001b[0m\u001b[0msignature\u001b[0m\u001b[0;34m,\u001b[0m \u001b[0mjoin\u001b[0m\u001b[0;34m=\u001b[0m\u001b[0mdataset_join\u001b[0m\u001b[0;34m,\u001b[0m \u001b[0mfill_value\u001b[0m\u001b[0;34m=\u001b[0m\u001b[0mfill_value\u001b[0m\u001b[0;34m\u001b[0m\u001b[0;34m\u001b[0m\u001b[0m\n\u001b[1;32m    430\u001b[0m     )\n",
      "\u001b[0;32m~/opt/anaconda3/envs/stats_rethinking/lib/python3.8/site-packages/xarray/core/computation.py\u001b[0m in \u001b[0;36mapply_dict_of_variables_vfunc\u001b[0;34m(func, signature, join, fill_value, *args)\u001b[0m\n\u001b[1;32m    371\u001b[0m     \u001b[0mresult_vars\u001b[0m \u001b[0;34m=\u001b[0m \u001b[0;34m{\u001b[0m\u001b[0;34m}\u001b[0m\u001b[0;34m\u001b[0m\u001b[0;34m\u001b[0m\u001b[0m\n\u001b[1;32m    372\u001b[0m     \u001b[0;32mfor\u001b[0m \u001b[0mname\u001b[0m\u001b[0;34m,\u001b[0m \u001b[0mvariable_args\u001b[0m \u001b[0;32min\u001b[0m \u001b[0mzip\u001b[0m\u001b[0;34m(\u001b[0m\u001b[0mnames\u001b[0m\u001b[0;34m,\u001b[0m \u001b[0mgrouped_by_name\u001b[0m\u001b[0;34m)\u001b[0m\u001b[0;34m:\u001b[0m\u001b[0;34m\u001b[0m\u001b[0;34m\u001b[0m\u001b[0m\n\u001b[0;32m--> 373\u001b[0;31m         \u001b[0mresult_vars\u001b[0m\u001b[0;34m[\u001b[0m\u001b[0mname\u001b[0m\u001b[0;34m]\u001b[0m \u001b[0;34m=\u001b[0m \u001b[0mfunc\u001b[0m\u001b[0;34m(\u001b[0m\u001b[0;34m*\u001b[0m\u001b[0mvariable_args\u001b[0m\u001b[0;34m)\u001b[0m\u001b[0;34m\u001b[0m\u001b[0;34m\u001b[0m\u001b[0m\n\u001b[0m\u001b[1;32m    374\u001b[0m \u001b[0;34m\u001b[0m\u001b[0m\n\u001b[1;32m    375\u001b[0m     \u001b[0;32mif\u001b[0m \u001b[0msignature\u001b[0m\u001b[0;34m.\u001b[0m\u001b[0mnum_outputs\u001b[0m \u001b[0;34m>\u001b[0m \u001b[0;36m1\u001b[0m\u001b[0;34m:\u001b[0m\u001b[0;34m\u001b[0m\u001b[0;34m\u001b[0m\u001b[0m\n",
      "\u001b[0;32m~/opt/anaconda3/envs/stats_rethinking/lib/python3.8/site-packages/xarray/core/computation.py\u001b[0m in \u001b[0;36mapply_variable_ufunc\u001b[0;34m(func, signature, exclude_dims, dask, output_dtypes, vectorize, keep_attrs, dask_gufunc_kwargs, *args)\u001b[0m\n\u001b[1;32m    722\u001b[0m             )\n\u001b[1;32m    723\u001b[0m \u001b[0;34m\u001b[0m\u001b[0m\n\u001b[0;32m--> 724\u001b[0;31m     \u001b[0mresult_data\u001b[0m \u001b[0;34m=\u001b[0m \u001b[0mfunc\u001b[0m\u001b[0;34m(\u001b[0m\u001b[0;34m*\u001b[0m\u001b[0minput_data\u001b[0m\u001b[0;34m)\u001b[0m\u001b[0;34m\u001b[0m\u001b[0;34m\u001b[0m\u001b[0m\n\u001b[0m\u001b[1;32m    725\u001b[0m \u001b[0;34m\u001b[0m\u001b[0m\n\u001b[1;32m    726\u001b[0m     \u001b[0;32mif\u001b[0m \u001b[0msignature\u001b[0m\u001b[0;34m.\u001b[0m\u001b[0mnum_outputs\u001b[0m \u001b[0;34m==\u001b[0m \u001b[0;36m1\u001b[0m\u001b[0;34m:\u001b[0m\u001b[0;34m\u001b[0m\u001b[0;34m\u001b[0m\u001b[0m\n",
      "\u001b[0;32m~/opt/anaconda3/envs/stats_rethinking/lib/python3.8/site-packages/arviz/stats/stats_utils.py\u001b[0m in \u001b[0;36m_multi_ufunc\u001b[0;34m(out, out_shape, *args, **kwargs)\u001b[0m\n\u001b[1;32m    164\u001b[0m         \u001b[0;32mfor\u001b[0m \u001b[0midx\u001b[0m \u001b[0;32min\u001b[0m \u001b[0mnp\u001b[0m\u001b[0;34m.\u001b[0m\u001b[0mndindex\u001b[0m\u001b[0;34m(\u001b[0m\u001b[0melement_shape\u001b[0m\u001b[0;34m)\u001b[0m\u001b[0;34m:\u001b[0m\u001b[0;34m\u001b[0m\u001b[0;34m\u001b[0m\u001b[0m\n\u001b[1;32m    165\u001b[0m             \u001b[0marys_idx\u001b[0m \u001b[0;34m=\u001b[0m \u001b[0;34m[\u001b[0m\u001b[0mary\u001b[0m\u001b[0;34m[\u001b[0m\u001b[0midx\u001b[0m\u001b[0;34m]\u001b[0m\u001b[0;34m.\u001b[0m\u001b[0mravel\u001b[0m\u001b[0;34m(\u001b[0m\u001b[0;34m)\u001b[0m \u001b[0;32mif\u001b[0m \u001b[0mravel\u001b[0m \u001b[0;32melse\u001b[0m \u001b[0mary\u001b[0m\u001b[0;34m[\u001b[0m\u001b[0midx\u001b[0m\u001b[0;34m]\u001b[0m \u001b[0;32mfor\u001b[0m \u001b[0mary\u001b[0m \u001b[0;32min\u001b[0m \u001b[0marys\u001b[0m\u001b[0;34m]\u001b[0m\u001b[0;34m\u001b[0m\u001b[0;34m\u001b[0m\u001b[0m\n\u001b[0;32m--> 166\u001b[0;31m             \u001b[0mresults\u001b[0m \u001b[0;34m=\u001b[0m \u001b[0mfunc\u001b[0m\u001b[0;34m(\u001b[0m\u001b[0;34m*\u001b[0m\u001b[0marys_idx\u001b[0m\u001b[0;34m,\u001b[0m \u001b[0;34m*\u001b[0m\u001b[0margs\u001b[0m\u001b[0;34m[\u001b[0m\u001b[0mn_input\u001b[0m\u001b[0;34m:\u001b[0m\u001b[0;34m]\u001b[0m\u001b[0;34m,\u001b[0m \u001b[0;34m**\u001b[0m\u001b[0mkwargs\u001b[0m\u001b[0;34m)\u001b[0m\u001b[0;34m\u001b[0m\u001b[0;34m\u001b[0m\u001b[0m\n\u001b[0m\u001b[1;32m    167\u001b[0m             \u001b[0;32mfor\u001b[0m \u001b[0mi\u001b[0m\u001b[0;34m,\u001b[0m \u001b[0mres\u001b[0m \u001b[0;32min\u001b[0m \u001b[0menumerate\u001b[0m\u001b[0;34m(\u001b[0m\u001b[0mresults\u001b[0m\u001b[0;34m)\u001b[0m\u001b[0;34m:\u001b[0m\u001b[0;34m\u001b[0m\u001b[0;34m\u001b[0m\u001b[0m\n\u001b[1;32m    168\u001b[0m                 \u001b[0mout\u001b[0m\u001b[0;34m[\u001b[0m\u001b[0mi\u001b[0m\u001b[0;34m]\u001b[0m\u001b[0;34m[\u001b[0m\u001b[0midx\u001b[0m\u001b[0;34m]\u001b[0m \u001b[0;34m=\u001b[0m \u001b[0mnp\u001b[0m\u001b[0;34m.\u001b[0m\u001b[0masarray\u001b[0m\u001b[0;34m(\u001b[0m\u001b[0mres\u001b[0m\u001b[0;34m)\u001b[0m\u001b[0;34m[\u001b[0m\u001b[0mindex\u001b[0m\u001b[0;34m]\u001b[0m\u001b[0;34m\u001b[0m\u001b[0;34m\u001b[0m\u001b[0m\n",
      "\u001b[0;32m~/opt/anaconda3/envs/stats_rethinking/lib/python3.8/site-packages/arviz/stats/diagnostics.py\u001b[0m in \u001b[0;36m_multichain_statistics\u001b[0;34m(ary)\u001b[0m\n\u001b[1;32m   1003\u001b[0m \u001b[0;34m\u001b[0m\u001b[0m\n\u001b[1;32m   1004\u001b[0m     \u001b[0;31m# ess bulk\u001b[0m\u001b[0;34m\u001b[0m\u001b[0;34m\u001b[0m\u001b[0;34m\u001b[0m\u001b[0m\n\u001b[0;32m-> 1005\u001b[0;31m     \u001b[0mz_split\u001b[0m \u001b[0;34m=\u001b[0m \u001b[0m_z_scale\u001b[0m\u001b[0;34m(\u001b[0m\u001b[0m_split_chains\u001b[0m\u001b[0;34m(\u001b[0m\u001b[0mary\u001b[0m\u001b[0;34m)\u001b[0m\u001b[0;34m)\u001b[0m\u001b[0;34m\u001b[0m\u001b[0;34m\u001b[0m\u001b[0m\n\u001b[0m\u001b[1;32m   1006\u001b[0m     \u001b[0mess_bulk_value\u001b[0m \u001b[0;34m=\u001b[0m \u001b[0m_ess\u001b[0m\u001b[0;34m(\u001b[0m\u001b[0mz_split\u001b[0m\u001b[0;34m)\u001b[0m\u001b[0;34m\u001b[0m\u001b[0;34m\u001b[0m\u001b[0m\n\u001b[1;32m   1007\u001b[0m \u001b[0;34m\u001b[0m\u001b[0m\n",
      "\u001b[0;32m~/opt/anaconda3/envs/stats_rethinking/lib/python3.8/site-packages/arviz/stats/diagnostics.py\u001b[0m in \u001b[0;36m_z_scale\u001b[0;34m(ary)\u001b[0m\n\u001b[1;32m    597\u001b[0m     \u001b[0mrank\u001b[0m \u001b[0;34m=\u001b[0m \u001b[0mstats\u001b[0m\u001b[0;34m.\u001b[0m\u001b[0mrankdata\u001b[0m\u001b[0;34m(\u001b[0m\u001b[0mary\u001b[0m\u001b[0;34m,\u001b[0m \u001b[0mmethod\u001b[0m\u001b[0;34m=\u001b[0m\u001b[0;34m\"average\"\u001b[0m\u001b[0;34m)\u001b[0m\u001b[0;34m\u001b[0m\u001b[0;34m\u001b[0m\u001b[0m\n\u001b[1;32m    598\u001b[0m     \u001b[0mrank\u001b[0m \u001b[0;34m=\u001b[0m \u001b[0m_backtransform_ranks\u001b[0m\u001b[0;34m(\u001b[0m\u001b[0mrank\u001b[0m\u001b[0;34m)\u001b[0m\u001b[0;34m\u001b[0m\u001b[0;34m\u001b[0m\u001b[0m\n\u001b[0;32m--> 599\u001b[0;31m     \u001b[0mz\u001b[0m \u001b[0;34m=\u001b[0m \u001b[0mstats\u001b[0m\u001b[0;34m.\u001b[0m\u001b[0mnorm\u001b[0m\u001b[0;34m.\u001b[0m\u001b[0mppf\u001b[0m\u001b[0;34m(\u001b[0m\u001b[0mrank\u001b[0m\u001b[0;34m)\u001b[0m\u001b[0;34m\u001b[0m\u001b[0;34m\u001b[0m\u001b[0m\n\u001b[0m\u001b[1;32m    600\u001b[0m     \u001b[0mz\u001b[0m \u001b[0;34m=\u001b[0m \u001b[0mz\u001b[0m\u001b[0;34m.\u001b[0m\u001b[0mreshape\u001b[0m\u001b[0;34m(\u001b[0m\u001b[0mary\u001b[0m\u001b[0;34m.\u001b[0m\u001b[0mshape\u001b[0m\u001b[0;34m)\u001b[0m\u001b[0;34m\u001b[0m\u001b[0;34m\u001b[0m\u001b[0m\n\u001b[1;32m    601\u001b[0m     \u001b[0;32mreturn\u001b[0m \u001b[0mz\u001b[0m\u001b[0;34m\u001b[0m\u001b[0;34m\u001b[0m\u001b[0m\n",
      "\u001b[0;32m~/opt/anaconda3/envs/stats_rethinking/lib/python3.8/site-packages/scipy/stats/_distn_infrastructure.py\u001b[0m in \u001b[0;36mppf\u001b[0;34m(self, q, *args, **kwds)\u001b[0m\n\u001b[1;32m   2102\u001b[0m \u001b[0;34m\u001b[0m\u001b[0m\n\u001b[1;32m   2103\u001b[0m         \u001b[0;32mif\u001b[0m \u001b[0mnp\u001b[0m\u001b[0;34m.\u001b[0m\u001b[0many\u001b[0m\u001b[0;34m(\u001b[0m\u001b[0mcond\u001b[0m\u001b[0;34m)\u001b[0m\u001b[0;34m:\u001b[0m  \u001b[0;31m# call only if at least 1 entry\u001b[0m\u001b[0;34m\u001b[0m\u001b[0;34m\u001b[0m\u001b[0m\n\u001b[0;32m-> 2104\u001b[0;31m             \u001b[0mgoodargs\u001b[0m \u001b[0;34m=\u001b[0m \u001b[0margsreduce\u001b[0m\u001b[0;34m(\u001b[0m\u001b[0mcond\u001b[0m\u001b[0;34m,\u001b[0m \u001b[0;34m*\u001b[0m\u001b[0;34m(\u001b[0m\u001b[0;34m(\u001b[0m\u001b[0mq\u001b[0m\u001b[0;34m,\u001b[0m\u001b[0;34m)\u001b[0m\u001b[0;34m+\u001b[0m\u001b[0margs\u001b[0m\u001b[0;34m+\u001b[0m\u001b[0;34m(\u001b[0m\u001b[0mscale\u001b[0m\u001b[0;34m,\u001b[0m \u001b[0mloc\u001b[0m\u001b[0;34m)\u001b[0m\u001b[0;34m)\u001b[0m\u001b[0;34m)\u001b[0m\u001b[0;34m\u001b[0m\u001b[0;34m\u001b[0m\u001b[0m\n\u001b[0m\u001b[1;32m   2105\u001b[0m             \u001b[0mscale\u001b[0m\u001b[0;34m,\u001b[0m \u001b[0mloc\u001b[0m\u001b[0;34m,\u001b[0m \u001b[0mgoodargs\u001b[0m \u001b[0;34m=\u001b[0m \u001b[0mgoodargs\u001b[0m\u001b[0;34m[\u001b[0m\u001b[0;34m-\u001b[0m\u001b[0;36m2\u001b[0m\u001b[0;34m]\u001b[0m\u001b[0;34m,\u001b[0m \u001b[0mgoodargs\u001b[0m\u001b[0;34m[\u001b[0m\u001b[0;34m-\u001b[0m\u001b[0;36m1\u001b[0m\u001b[0;34m]\u001b[0m\u001b[0;34m,\u001b[0m \u001b[0mgoodargs\u001b[0m\u001b[0;34m[\u001b[0m\u001b[0;34m:\u001b[0m\u001b[0;34m-\u001b[0m\u001b[0;36m2\u001b[0m\u001b[0;34m]\u001b[0m\u001b[0;34m\u001b[0m\u001b[0;34m\u001b[0m\u001b[0m\n\u001b[1;32m   2106\u001b[0m             \u001b[0mplace\u001b[0m\u001b[0;34m(\u001b[0m\u001b[0moutput\u001b[0m\u001b[0;34m,\u001b[0m \u001b[0mcond\u001b[0m\u001b[0;34m,\u001b[0m \u001b[0mself\u001b[0m\u001b[0;34m.\u001b[0m\u001b[0m_ppf\u001b[0m\u001b[0;34m(\u001b[0m\u001b[0;34m*\u001b[0m\u001b[0mgoodargs\u001b[0m\u001b[0;34m)\u001b[0m \u001b[0;34m*\u001b[0m \u001b[0mscale\u001b[0m \u001b[0;34m+\u001b[0m \u001b[0mloc\u001b[0m\u001b[0;34m)\u001b[0m\u001b[0;34m\u001b[0m\u001b[0;34m\u001b[0m\u001b[0m\n",
      "\u001b[0;32m~/opt/anaconda3/envs/stats_rethinking/lib/python3.8/site-packages/scipy/stats/_distn_infrastructure.py\u001b[0m in \u001b[0;36margsreduce\u001b[0;34m(cond, *args)\u001b[0m\n\u001b[1;32m    551\u001b[0m         \u001b[0mnewargs\u001b[0m \u001b[0;34m=\u001b[0m \u001b[0;34m[\u001b[0m\u001b[0mnewargs\u001b[0m\u001b[0;34m,\u001b[0m \u001b[0;34m]\u001b[0m\u001b[0;34m\u001b[0m\u001b[0;34m\u001b[0m\u001b[0m\n\u001b[1;32m    552\u001b[0m     \u001b[0mexpand_arr\u001b[0m \u001b[0;34m=\u001b[0m \u001b[0;34m(\u001b[0m\u001b[0mcond\u001b[0m \u001b[0;34m==\u001b[0m \u001b[0mcond\u001b[0m\u001b[0;34m)\u001b[0m\u001b[0;34m\u001b[0m\u001b[0;34m\u001b[0m\u001b[0m\n\u001b[0;32m--> 553\u001b[0;31m     \u001b[0;32mreturn\u001b[0m \u001b[0;34m[\u001b[0m\u001b[0mnp\u001b[0m\u001b[0;34m.\u001b[0m\u001b[0mextract\u001b[0m\u001b[0;34m(\u001b[0m\u001b[0mcond\u001b[0m\u001b[0;34m,\u001b[0m \u001b[0marr1\u001b[0m \u001b[0;34m*\u001b[0m \u001b[0mexpand_arr\u001b[0m\u001b[0;34m)\u001b[0m \u001b[0;32mfor\u001b[0m \u001b[0marr1\u001b[0m \u001b[0;32min\u001b[0m \u001b[0mnewargs\u001b[0m\u001b[0;34m]\u001b[0m\u001b[0;34m\u001b[0m\u001b[0;34m\u001b[0m\u001b[0m\n\u001b[0m\u001b[1;32m    554\u001b[0m \u001b[0;34m\u001b[0m\u001b[0m\n\u001b[1;32m    555\u001b[0m \u001b[0;34m\u001b[0m\u001b[0m\n",
      "\u001b[0;32m~/opt/anaconda3/envs/stats_rethinking/lib/python3.8/site-packages/scipy/stats/_distn_infrastructure.py\u001b[0m in \u001b[0;36m<listcomp>\u001b[0;34m(.0)\u001b[0m\n\u001b[1;32m    551\u001b[0m         \u001b[0mnewargs\u001b[0m \u001b[0;34m=\u001b[0m \u001b[0;34m[\u001b[0m\u001b[0mnewargs\u001b[0m\u001b[0;34m,\u001b[0m \u001b[0;34m]\u001b[0m\u001b[0;34m\u001b[0m\u001b[0;34m\u001b[0m\u001b[0m\n\u001b[1;32m    552\u001b[0m     \u001b[0mexpand_arr\u001b[0m \u001b[0;34m=\u001b[0m \u001b[0;34m(\u001b[0m\u001b[0mcond\u001b[0m \u001b[0;34m==\u001b[0m \u001b[0mcond\u001b[0m\u001b[0;34m)\u001b[0m\u001b[0;34m\u001b[0m\u001b[0;34m\u001b[0m\u001b[0m\n\u001b[0;32m--> 553\u001b[0;31m     \u001b[0;32mreturn\u001b[0m \u001b[0;34m[\u001b[0m\u001b[0mnp\u001b[0m\u001b[0;34m.\u001b[0m\u001b[0mextract\u001b[0m\u001b[0;34m(\u001b[0m\u001b[0mcond\u001b[0m\u001b[0;34m,\u001b[0m \u001b[0marr1\u001b[0m \u001b[0;34m*\u001b[0m \u001b[0mexpand_arr\u001b[0m\u001b[0;34m)\u001b[0m \u001b[0;32mfor\u001b[0m \u001b[0marr1\u001b[0m \u001b[0;32min\u001b[0m \u001b[0mnewargs\u001b[0m\u001b[0;34m]\u001b[0m\u001b[0;34m\u001b[0m\u001b[0;34m\u001b[0m\u001b[0m\n\u001b[0m\u001b[1;32m    554\u001b[0m \u001b[0;34m\u001b[0m\u001b[0m\n\u001b[1;32m    555\u001b[0m \u001b[0;34m\u001b[0m\u001b[0m\n",
      "\u001b[0;32m<__array_function__ internals>\u001b[0m in \u001b[0;36mextract\u001b[0;34m(*args, **kwargs)\u001b[0m\n",
      "\u001b[0;32m~/opt/anaconda3/envs/stats_rethinking/lib/python3.8/site-packages/numpy/lib/function_base.py\u001b[0m in \u001b[0;36mextract\u001b[0;34m(condition, arr)\u001b[0m\n\u001b[1;32m   1698\u001b[0m \u001b[0;34m\u001b[0m\u001b[0m\n\u001b[1;32m   1699\u001b[0m     \"\"\"\n\u001b[0;32m-> 1700\u001b[0;31m     \u001b[0;32mreturn\u001b[0m \u001b[0m_nx\u001b[0m\u001b[0;34m.\u001b[0m\u001b[0mtake\u001b[0m\u001b[0;34m(\u001b[0m\u001b[0mravel\u001b[0m\u001b[0;34m(\u001b[0m\u001b[0marr\u001b[0m\u001b[0;34m)\u001b[0m\u001b[0;34m,\u001b[0m \u001b[0mnonzero\u001b[0m\u001b[0;34m(\u001b[0m\u001b[0mravel\u001b[0m\u001b[0;34m(\u001b[0m\u001b[0mcondition\u001b[0m\u001b[0;34m)\u001b[0m\u001b[0;34m)\u001b[0m\u001b[0;34m[\u001b[0m\u001b[0;36m0\u001b[0m\u001b[0;34m]\u001b[0m\u001b[0;34m)\u001b[0m\u001b[0;34m\u001b[0m\u001b[0;34m\u001b[0m\u001b[0m\n\u001b[0m\u001b[1;32m   1701\u001b[0m \u001b[0;34m\u001b[0m\u001b[0m\n\u001b[1;32m   1702\u001b[0m \u001b[0;34m\u001b[0m\u001b[0m\n",
      "\u001b[0;32m<__array_function__ internals>\u001b[0m in \u001b[0;36mtake\u001b[0;34m(*args, **kwargs)\u001b[0m\n",
      "\u001b[0;32m~/opt/anaconda3/envs/stats_rethinking/lib/python3.8/site-packages/numpy/core/fromnumeric.py\u001b[0m in \u001b[0;36mtake\u001b[0;34m(a, indices, axis, out, mode)\u001b[0m\n\u001b[1;32m    189\u001b[0m            [5, 7]])\n\u001b[1;32m    190\u001b[0m     \"\"\"\n\u001b[0;32m--> 191\u001b[0;31m     \u001b[0;32mreturn\u001b[0m \u001b[0m_wrapfunc\u001b[0m\u001b[0;34m(\u001b[0m\u001b[0ma\u001b[0m\u001b[0;34m,\u001b[0m \u001b[0;34m'take'\u001b[0m\u001b[0;34m,\u001b[0m \u001b[0mindices\u001b[0m\u001b[0;34m,\u001b[0m \u001b[0maxis\u001b[0m\u001b[0;34m=\u001b[0m\u001b[0maxis\u001b[0m\u001b[0;34m,\u001b[0m \u001b[0mout\u001b[0m\u001b[0;34m=\u001b[0m\u001b[0mout\u001b[0m\u001b[0;34m,\u001b[0m \u001b[0mmode\u001b[0m\u001b[0;34m=\u001b[0m\u001b[0mmode\u001b[0m\u001b[0;34m)\u001b[0m\u001b[0;34m\u001b[0m\u001b[0;34m\u001b[0m\u001b[0m\n\u001b[0m\u001b[1;32m    192\u001b[0m \u001b[0;34m\u001b[0m\u001b[0m\n\u001b[1;32m    193\u001b[0m \u001b[0;34m\u001b[0m\u001b[0m\n",
      "\u001b[0;32m~/opt/anaconda3/envs/stats_rethinking/lib/python3.8/site-packages/numpy/core/fromnumeric.py\u001b[0m in \u001b[0;36m_wrapfunc\u001b[0;34m(obj, method, *args, **kwds)\u001b[0m\n\u001b[1;32m     56\u001b[0m \u001b[0;34m\u001b[0m\u001b[0m\n\u001b[1;32m     57\u001b[0m     \u001b[0;32mtry\u001b[0m\u001b[0;34m:\u001b[0m\u001b[0;34m\u001b[0m\u001b[0;34m\u001b[0m\u001b[0m\n\u001b[0;32m---> 58\u001b[0;31m         \u001b[0;32mreturn\u001b[0m \u001b[0mbound\u001b[0m\u001b[0;34m(\u001b[0m\u001b[0;34m*\u001b[0m\u001b[0margs\u001b[0m\u001b[0;34m,\u001b[0m \u001b[0;34m**\u001b[0m\u001b[0mkwds\u001b[0m\u001b[0;34m)\u001b[0m\u001b[0;34m\u001b[0m\u001b[0;34m\u001b[0m\u001b[0m\n\u001b[0m\u001b[1;32m     59\u001b[0m     \u001b[0;32mexcept\u001b[0m \u001b[0mTypeError\u001b[0m\u001b[0;34m:\u001b[0m\u001b[0;34m\u001b[0m\u001b[0;34m\u001b[0m\u001b[0m\n\u001b[1;32m     60\u001b[0m         \u001b[0;31m# A TypeError occurs if the object does have such a method in its\u001b[0m\u001b[0;34m\u001b[0m\u001b[0;34m\u001b[0m\u001b[0;34m\u001b[0m\u001b[0m\n",
      "\u001b[0;31mKeyboardInterrupt\u001b[0m: "
     ]
    },
    {
     "data": {
      "application/javascript": "\n            setTimeout(function() {\n                var nbb_cell_id = 221;\n                var nbb_unformatted_code = \"az.summary(np.array(p_G0))\";\n                var nbb_formatted_code = \"az.summary(np.array(p_G0))\";\n                var nbb_cells = Jupyter.notebook.get_cells();\n                for (var i = 0; i < nbb_cells.length; ++i) {\n                    if (nbb_cells[i].input_prompt_number == nbb_cell_id) {\n                        if (nbb_cells[i].get_text() == nbb_unformatted_code) {\n                             nbb_cells[i].set_text(nbb_formatted_code);\n                        }\n                        break;\n                    }\n                }\n            }, 500);\n            ",
      "text/plain": [
       "<IPython.core.display.Javascript object>"
      ]
     },
     "metadata": {},
     "output_type": "display_data"
    }
   ],
   "source": [
    "az.summary(np.array(p_G0))"
   ]
  },
  {
   "cell_type": "code",
   "execution_count": null,
   "metadata": {},
   "outputs": [],
   "source": []
  },
  {
   "cell_type": "markdown",
   "metadata": {},
   "source": [
    "# Conditioning variable as additive term as an indicator\n",
    "\n",
    "The dataframe will have gender as an indicator variable.\n",
    "\n",
    "| id | G0  | G1  | D  |\n",
    "| -- | -- |  --  | -- | \n",
    "| 0 | 0 | 1  | 5\n",
    "| 1 | 1 | 0  | 2\n",
    "| 2 | 1 | 0  | 3\n",
    "| 3 | 0 | 1  | 1\n",
    "\n",
    "$$ A_i \\sim \\text{Binomial}(1, p_i) $$\n",
    "$$ \\text{logit}(p_i) = \\beta_0[i] + \\beta_1[i] + \\delta_{\\text{DEPT}[i]} $$\n",
    "$$ \\beta_0 \\sim \\text{Normal}(0, 1.5) \\tag{prior for female} $$\n",
    "$$ \\beta_1 \\sim \\text{Normal}(0, 1.5) \\tag{prior for male} $$\n",
    "$$ \\delta_k \\sim \\text{Normal}(0, 1.5) \\tag{prior for department} $$"
   ]
  },
  {
   "cell_type": "markdown",
   "metadata": {},
   "source": [
    "Restructure the dataframe."
   ]
  },
  {
   "cell_type": "code",
   "execution_count": 84,
   "metadata": {},
   "outputs": [
    {
     "data": {
      "text/html": [
       "<div>\n",
       "<style scoped>\n",
       "    .dataframe tbody tr th:only-of-type {\n",
       "        vertical-align: middle;\n",
       "    }\n",
       "\n",
       "    .dataframe tbody tr th {\n",
       "        vertical-align: top;\n",
       "    }\n",
       "\n",
       "    .dataframe thead th {\n",
       "        text-align: right;\n",
       "    }\n",
       "</style>\n",
       "<table border=\"1\" class=\"dataframe\">\n",
       "  <thead>\n",
       "    <tr style=\"text-align: right;\">\n",
       "      <th></th>\n",
       "      <th>dept</th>\n",
       "      <th>applicant.gender</th>\n",
       "      <th>admit</th>\n",
       "      <th>reject</th>\n",
       "      <th>applications</th>\n",
       "      <th>dept_code</th>\n",
       "      <th>gender_code</th>\n",
       "    </tr>\n",
       "  </thead>\n",
       "  <tbody>\n",
       "    <tr>\n",
       "      <th>1</th>\n",
       "      <td>A</td>\n",
       "      <td>male</td>\n",
       "      <td>512</td>\n",
       "      <td>313</td>\n",
       "      <td>825</td>\n",
       "      <td>0</td>\n",
       "      <td>1</td>\n",
       "    </tr>\n",
       "    <tr>\n",
       "      <th>2</th>\n",
       "      <td>A</td>\n",
       "      <td>female</td>\n",
       "      <td>89</td>\n",
       "      <td>19</td>\n",
       "      <td>108</td>\n",
       "      <td>0</td>\n",
       "      <td>0</td>\n",
       "    </tr>\n",
       "    <tr>\n",
       "      <th>3</th>\n",
       "      <td>B</td>\n",
       "      <td>male</td>\n",
       "      <td>353</td>\n",
       "      <td>207</td>\n",
       "      <td>560</td>\n",
       "      <td>1</td>\n",
       "      <td>1</td>\n",
       "    </tr>\n",
       "    <tr>\n",
       "      <th>4</th>\n",
       "      <td>B</td>\n",
       "      <td>female</td>\n",
       "      <td>17</td>\n",
       "      <td>8</td>\n",
       "      <td>25</td>\n",
       "      <td>1</td>\n",
       "      <td>0</td>\n",
       "    </tr>\n",
       "    <tr>\n",
       "      <th>5</th>\n",
       "      <td>C</td>\n",
       "      <td>male</td>\n",
       "      <td>120</td>\n",
       "      <td>205</td>\n",
       "      <td>325</td>\n",
       "      <td>2</td>\n",
       "      <td>1</td>\n",
       "    </tr>\n",
       "    <tr>\n",
       "      <th>6</th>\n",
       "      <td>C</td>\n",
       "      <td>female</td>\n",
       "      <td>202</td>\n",
       "      <td>391</td>\n",
       "      <td>593</td>\n",
       "      <td>2</td>\n",
       "      <td>0</td>\n",
       "    </tr>\n",
       "    <tr>\n",
       "      <th>7</th>\n",
       "      <td>D</td>\n",
       "      <td>male</td>\n",
       "      <td>138</td>\n",
       "      <td>279</td>\n",
       "      <td>417</td>\n",
       "      <td>3</td>\n",
       "      <td>1</td>\n",
       "    </tr>\n",
       "    <tr>\n",
       "      <th>8</th>\n",
       "      <td>D</td>\n",
       "      <td>female</td>\n",
       "      <td>131</td>\n",
       "      <td>244</td>\n",
       "      <td>375</td>\n",
       "      <td>3</td>\n",
       "      <td>0</td>\n",
       "    </tr>\n",
       "    <tr>\n",
       "      <th>9</th>\n",
       "      <td>E</td>\n",
       "      <td>male</td>\n",
       "      <td>53</td>\n",
       "      <td>138</td>\n",
       "      <td>191</td>\n",
       "      <td>4</td>\n",
       "      <td>1</td>\n",
       "    </tr>\n",
       "    <tr>\n",
       "      <th>10</th>\n",
       "      <td>E</td>\n",
       "      <td>female</td>\n",
       "      <td>94</td>\n",
       "      <td>299</td>\n",
       "      <td>393</td>\n",
       "      <td>4</td>\n",
       "      <td>0</td>\n",
       "    </tr>\n",
       "    <tr>\n",
       "      <th>11</th>\n",
       "      <td>F</td>\n",
       "      <td>male</td>\n",
       "      <td>22</td>\n",
       "      <td>351</td>\n",
       "      <td>373</td>\n",
       "      <td>5</td>\n",
       "      <td>1</td>\n",
       "    </tr>\n",
       "    <tr>\n",
       "      <th>12</th>\n",
       "      <td>F</td>\n",
       "      <td>female</td>\n",
       "      <td>24</td>\n",
       "      <td>317</td>\n",
       "      <td>341</td>\n",
       "      <td>5</td>\n",
       "      <td>0</td>\n",
       "    </tr>\n",
       "  </tbody>\n",
       "</table>\n",
       "</div>"
      ],
      "text/plain": [
       "   dept applicant.gender  admit  reject  applications  dept_code  gender_code\n",
       "1     A             male    512     313           825          0            1\n",
       "2     A           female     89      19           108          0            0\n",
       "3     B             male    353     207           560          1            1\n",
       "4     B           female     17       8            25          1            0\n",
       "5     C             male    120     205           325          2            1\n",
       "6     C           female    202     391           593          2            0\n",
       "7     D             male    138     279           417          3            1\n",
       "8     D           female    131     244           375          3            0\n",
       "9     E             male     53     138           191          4            1\n",
       "10    E           female     94     299           393          4            0\n",
       "11    F             male     22     351           373          5            1\n",
       "12    F           female     24     317           341          5            0"
      ]
     },
     "execution_count": 84,
     "metadata": {},
     "output_type": "execute_result"
    },
    {
     "data": {
      "application/javascript": "\n            setTimeout(function() {\n                var nbb_cell_id = 84;\n                var nbb_unformatted_code = \"df_ucb\";\n                var nbb_formatted_code = \"df_ucb\";\n                var nbb_cells = Jupyter.notebook.get_cells();\n                for (var i = 0; i < nbb_cells.length; ++i) {\n                    if (nbb_cells[i].input_prompt_number == nbb_cell_id) {\n                        if (nbb_cells[i].get_text() == nbb_unformatted_code) {\n                             nbb_cells[i].set_text(nbb_formatted_code);\n                        }\n                        break;\n                    }\n                }\n            }, 500);\n            ",
      "text/plain": [
       "<IPython.core.display.Javascript object>"
      ]
     },
     "metadata": {},
     "output_type": "display_data"
    }
   ],
   "source": [
    "df_ucb"
   ]
  },
  {
   "cell_type": "code",
   "execution_count": 87,
   "metadata": {},
   "outputs": [
    {
     "data": {
      "text/html": [
       "<div>\n",
       "<style scoped>\n",
       "    .dataframe tbody tr th:only-of-type {\n",
       "        vertical-align: middle;\n",
       "    }\n",
       "\n",
       "    .dataframe tbody tr th {\n",
       "        vertical-align: top;\n",
       "    }\n",
       "\n",
       "    .dataframe thead th {\n",
       "        text-align: right;\n",
       "    }\n",
       "</style>\n",
       "<table border=\"1\" class=\"dataframe\">\n",
       "  <thead>\n",
       "    <tr style=\"text-align: right;\">\n",
       "      <th></th>\n",
       "      <th>F</th>\n",
       "      <th>M</th>\n",
       "      <th>D</th>\n",
       "      <th>A</th>\n",
       "      <th>N</th>\n",
       "    </tr>\n",
       "  </thead>\n",
       "  <tbody>\n",
       "    <tr>\n",
       "      <th>0</th>\n",
       "      <td>0</td>\n",
       "      <td>1</td>\n",
       "      <td>0</td>\n",
       "      <td>1</td>\n",
       "      <td>1</td>\n",
       "    </tr>\n",
       "    <tr>\n",
       "      <th>1</th>\n",
       "      <td>0</td>\n",
       "      <td>1</td>\n",
       "      <td>0</td>\n",
       "      <td>1</td>\n",
       "      <td>1</td>\n",
       "    </tr>\n",
       "    <tr>\n",
       "      <th>2</th>\n",
       "      <td>0</td>\n",
       "      <td>1</td>\n",
       "      <td>0</td>\n",
       "      <td>1</td>\n",
       "      <td>1</td>\n",
       "    </tr>\n",
       "    <tr>\n",
       "      <th>3</th>\n",
       "      <td>0</td>\n",
       "      <td>1</td>\n",
       "      <td>0</td>\n",
       "      <td>1</td>\n",
       "      <td>1</td>\n",
       "    </tr>\n",
       "    <tr>\n",
       "      <th>4</th>\n",
       "      <td>0</td>\n",
       "      <td>1</td>\n",
       "      <td>0</td>\n",
       "      <td>1</td>\n",
       "      <td>1</td>\n",
       "    </tr>\n",
       "  </tbody>\n",
       "</table>\n",
       "</div>"
      ],
      "text/plain": [
       "   F  M  D  A  N\n",
       "0  0  1  0  1  1\n",
       "1  0  1  0  1  1\n",
       "2  0  1  0  1  1\n",
       "3  0  1  0  1  1\n",
       "4  0  1  0  1  1"
      ]
     },
     "execution_count": 87,
     "metadata": {},
     "output_type": "execute_result"
    },
    {
     "data": {
      "application/javascript": "\n            setTimeout(function() {\n                var nbb_cell_id = 87;\n                var nbb_unformatted_code = \"f_list = list()\\nm_list = list()\\nd_list = list()\\nadmit_list = list()\\nfor i, row in df_ucb.iterrows():\\n    if row['applicant.gender'] == 'male':\\n        f_list += row['applications'] * [0]\\n        m_list += row['applications'] * [1]\\n    else:\\n        f_list += row['applications'] * [1]\\n        m_list += row['applications'] * [0]\\n    d_list += row['applications'] * [row['dept_code']]\\n    admit_list += row['admit'] * [1] + row['reject'] * [0]\\n\\ndf_ucb_restructure = pd.DataFrame()\\ndf_ucb_restructure['F'] = f_list\\ndf_ucb_restructure['M'] = m_list\\ndf_ucb_restructure['D'] = d_list\\ndf_ucb_restructure['A'] = admit_list\\ndf_ucb_restructure['N'] = 1\\n\\ndf_ucb_restructure.head()\";\n                var nbb_formatted_code = \"f_list = list()\\nm_list = list()\\nd_list = list()\\nadmit_list = list()\\nfor i, row in df_ucb.iterrows():\\n    if row[\\\"applicant.gender\\\"] == \\\"male\\\":\\n        f_list += row[\\\"applications\\\"] * [0]\\n        m_list += row[\\\"applications\\\"] * [1]\\n    else:\\n        f_list += row[\\\"applications\\\"] * [1]\\n        m_list += row[\\\"applications\\\"] * [0]\\n    d_list += row[\\\"applications\\\"] * [row[\\\"dept_code\\\"]]\\n    admit_list += row[\\\"admit\\\"] * [1] + row[\\\"reject\\\"] * [0]\\n\\ndf_ucb_restructure = pd.DataFrame()\\ndf_ucb_restructure[\\\"F\\\"] = f_list\\ndf_ucb_restructure[\\\"M\\\"] = m_list\\ndf_ucb_restructure[\\\"D\\\"] = d_list\\ndf_ucb_restructure[\\\"A\\\"] = admit_list\\ndf_ucb_restructure[\\\"N\\\"] = 1\\n\\ndf_ucb_restructure.head()\";\n                var nbb_cells = Jupyter.notebook.get_cells();\n                for (var i = 0; i < nbb_cells.length; ++i) {\n                    if (nbb_cells[i].input_prompt_number == nbb_cell_id) {\n                        if (nbb_cells[i].get_text() == nbb_unformatted_code) {\n                             nbb_cells[i].set_text(nbb_formatted_code);\n                        }\n                        break;\n                    }\n                }\n            }, 500);\n            ",
      "text/plain": [
       "<IPython.core.display.Javascript object>"
      ]
     },
     "metadata": {},
     "output_type": "display_data"
    }
   ],
   "source": [
    "f_list = list()\n",
    "m_list = list()\n",
    "d_list = list()\n",
    "admit_list = list()\n",
    "for i, row in df_ucb.iterrows():\n",
    "    if row['applicant.gender'] == 'male':\n",
    "        f_list += row['applications'] * [0]\n",
    "        m_list += row['applications'] * [1]\n",
    "    else:\n",
    "        f_list += row['applications'] * [1]\n",
    "        m_list += row['applications'] * [0]\n",
    "    d_list += row['applications'] * [row['dept_code']]\n",
    "    admit_list += row['admit'] * [1] + row['reject'] * [0]\n",
    "\n",
    "df_ucb_restructure = pd.DataFrame()\n",
    "df_ucb_restructure['F'] = f_list\n",
    "df_ucb_restructure['M'] = m_list\n",
    "df_ucb_restructure['D'] = d_list\n",
    "df_ucb_restructure['A'] = admit_list\n",
    "df_ucb_restructure['N'] = 1\n",
    "\n",
    "df_ucb_restructure.head()"
   ]
  },
  {
   "cell_type": "code",
   "execution_count": 86,
   "metadata": {},
   "outputs": [
    {
     "data": {
      "application/javascript": "\n            setTimeout(function() {\n                var nbb_cell_id = 86;\n                var nbb_unformatted_code = \"# verify data is correct\\n# df_ucb_restructure.groupby(['D', 'F', 'M']).sum()\";\n                var nbb_formatted_code = \"# verify data is correct\\n# df_ucb_restructure.groupby(['D', 'F', 'M']).sum()\";\n                var nbb_cells = Jupyter.notebook.get_cells();\n                for (var i = 0; i < nbb_cells.length; ++i) {\n                    if (nbb_cells[i].input_prompt_number == nbb_cell_id) {\n                        if (nbb_cells[i].get_text() == nbb_unformatted_code) {\n                             nbb_cells[i].set_text(nbb_formatted_code);\n                        }\n                        break;\n                    }\n                }\n            }, 500);\n            ",
      "text/plain": [
       "<IPython.core.display.Javascript object>"
      ]
     },
     "metadata": {},
     "output_type": "display_data"
    }
   ],
   "source": [
    "# verify data is correct\n",
    "# df_ucb_restructure.groupby(['D', 'F', 'M']).sum()"
   ]
  },
  {
   "cell_type": "code",
   "execution_count": 91,
   "metadata": {},
   "outputs": [
    {
     "name": "stderr",
     "output_type": "stream",
     "text": [
      "Auto-assigning NUTS sampler...\n",
      "INFO:pymc3:Auto-assigning NUTS sampler...\n",
      "Initializing NUTS using jitter+adapt_diag...\n",
      "INFO:pymc3:Initializing NUTS using jitter+adapt_diag...\n",
      "Multiprocess sampling (4 chains in 4 jobs)\n",
      "INFO:pymc3:Multiprocess sampling (4 chains in 4 jobs)\n",
      "NUTS: [d, b1, b0]\n",
      "INFO:pymc3:NUTS: [d, b1, b0]\n",
      "Sampling 4 chains for 1_000 tune and 5_000 draw iterations (4_000 + 20_000 draws total) took 104 seconds.\n",
      "INFO:pymc3:Sampling 4 chains for 1_000 tune and 5_000 draw iterations (4_000 + 20_000 draws total) took 104 seconds.\n",
      "The number of effective samples is smaller than 25% for some parameters.\n",
      "INFO:pymc3:The number of effective samples is smaller than 25% for some parameters.\n"
     ]
    },
    {
     "data": {
      "application/javascript": "\n            setTimeout(function() {\n                var nbb_cell_id = 91;\n                var nbb_unformatted_code = \"with pm.Model() as mIndicator:\\n\\n    # Priors\\n    b0 = pm.Normal(\\\"b0\\\", mu=0, sd=1)\\n    b1 = pm.Normal(\\\"b1\\\", mu=0, sd=1)\\n    d = pm.Normal(\\\"d\\\", mu=0, sd=1, shape=n_dept)\\n\\n    # linear model with logit link\\n    p = pm.Deterministic(\\\"p\\\", pm.math.invlogit(b0 * df_ucb_restructure['F'] + b1 * df_ucb_restructure['M'] + d[df_ucb_restructure['D']]))\\n\\n    # likelihood\\n    admit = pm.Binomial(\\\"admit\\\", n=1, p=p, observed=df_ucb_restructure['A'])\\n\\n    # generate posterior and sample\\n    idata_mIndicator = pm.sample(draws=5000, tune=1000, return_inferencedata=False, progressbar=False, target_accept=0.95)\";\n                var nbb_formatted_code = \"with pm.Model() as mIndicator:\\n\\n    # Priors\\n    b0 = pm.Normal(\\\"b0\\\", mu=0, sd=1)\\n    b1 = pm.Normal(\\\"b1\\\", mu=0, sd=1)\\n    d = pm.Normal(\\\"d\\\", mu=0, sd=1, shape=n_dept)\\n\\n    # linear model with logit link\\n    p = pm.Deterministic(\\n        \\\"p\\\",\\n        pm.math.invlogit(\\n            b0 * df_ucb_restructure[\\\"F\\\"]\\n            + b1 * df_ucb_restructure[\\\"M\\\"]\\n            + d[df_ucb_restructure[\\\"D\\\"]]\\n        ),\\n    )\\n\\n    # likelihood\\n    admit = pm.Binomial(\\\"admit\\\", n=1, p=p, observed=df_ucb_restructure[\\\"A\\\"])\\n\\n    # generate posterior and sample\\n    idata_mIndicator = pm.sample(\\n        draws=5000,\\n        tune=1000,\\n        return_inferencedata=False,\\n        progressbar=False,\\n        target_accept=0.95,\\n    )\";\n                var nbb_cells = Jupyter.notebook.get_cells();\n                for (var i = 0; i < nbb_cells.length; ++i) {\n                    if (nbb_cells[i].input_prompt_number == nbb_cell_id) {\n                        if (nbb_cells[i].get_text() == nbb_unformatted_code) {\n                             nbb_cells[i].set_text(nbb_formatted_code);\n                        }\n                        break;\n                    }\n                }\n            }, 500);\n            ",
      "text/plain": [
       "<IPython.core.display.Javascript object>"
      ]
     },
     "metadata": {},
     "output_type": "display_data"
    }
   ],
   "source": [
    "with pm.Model() as mIndicator:\n",
    "\n",
    "    # Priors\n",
    "    b0 = pm.Normal(\"b0\", mu=0, sd=1)\n",
    "    b1 = pm.Normal(\"b1\", mu=0, sd=1)\n",
    "    d = pm.Normal(\"d\", mu=0, sd=1, shape=n_dept)\n",
    "\n",
    "    # linear model with logit link\n",
    "    p = pm.Deterministic(\"p\", pm.math.invlogit(b0 * df_ucb_restructure['F'] + b1 * df_ucb_restructure['M'] + d[df_ucb_restructure['D']]))\n",
    "\n",
    "    # likelihood\n",
    "    admit = pm.Binomial(\"admit\", n=1, p=p, observed=df_ucb_restructure['A'])\n",
    "\n",
    "    # generate posterior and sample\n",
    "    idata_mIndicator = pm.sample(draws=5000, tune=1000, return_inferencedata=False, progressbar=False, target_accept=0.95)"
   ]
  },
  {
   "cell_type": "code",
   "execution_count": 93,
   "metadata": {},
   "outputs": [
    {
     "name": "stderr",
     "output_type": "stream",
     "text": [
      "/Users/blacar/opt/anaconda3/envs/stats_rethinking/lib/python3.8/site-packages/arviz/data/io_pymc3.py:88: FutureWarning: Using `from_pymc3` without the model will be deprecated in a future release. Not using the model will return less accurate and less useful results. Make sure you use the model argument or call from_pymc3 within a model context.\n",
      "  warnings.warn(\n"
     ]
    },
    {
     "data": {
      "text/html": [
       "<div>\n",
       "<style scoped>\n",
       "    .dataframe tbody tr th:only-of-type {\n",
       "        vertical-align: middle;\n",
       "    }\n",
       "\n",
       "    .dataframe tbody tr th {\n",
       "        vertical-align: top;\n",
       "    }\n",
       "\n",
       "    .dataframe thead th {\n",
       "        text-align: right;\n",
       "    }\n",
       "</style>\n",
       "<table border=\"1\" class=\"dataframe\">\n",
       "  <thead>\n",
       "    <tr style=\"text-align: right;\">\n",
       "      <th></th>\n",
       "      <th>mean</th>\n",
       "      <th>sd</th>\n",
       "      <th>hdi_5.5%</th>\n",
       "      <th>hdi_94.5%</th>\n",
       "      <th>mcse_mean</th>\n",
       "      <th>mcse_sd</th>\n",
       "      <th>ess_mean</th>\n",
       "      <th>ess_sd</th>\n",
       "      <th>ess_bulk</th>\n",
       "      <th>ess_tail</th>\n",
       "      <th>r_hat</th>\n",
       "    </tr>\n",
       "  </thead>\n",
       "  <tbody>\n",
       "    <tr>\n",
       "      <th>b0</th>\n",
       "      <td>-0.434</td>\n",
       "      <td>0.369</td>\n",
       "      <td>-1.001</td>\n",
       "      <td>0.173</td>\n",
       "      <td>0.008</td>\n",
       "      <td>0.006</td>\n",
       "      <td>2082.0</td>\n",
       "      <td>1820.0</td>\n",
       "      <td>2100.0</td>\n",
       "      <td>1982.0</td>\n",
       "      <td>1.0</td>\n",
       "    </tr>\n",
       "    <tr>\n",
       "      <th>b1</th>\n",
       "      <td>-0.528</td>\n",
       "      <td>0.368</td>\n",
       "      <td>-1.101</td>\n",
       "      <td>0.064</td>\n",
       "      <td>0.008</td>\n",
       "      <td>0.006</td>\n",
       "      <td>2078.0</td>\n",
       "      <td>1844.0</td>\n",
       "      <td>2096.0</td>\n",
       "      <td>2031.0</td>\n",
       "      <td>1.0</td>\n",
       "    </tr>\n",
       "    <tr>\n",
       "      <th>d[0]</th>\n",
       "      <td>1.107</td>\n",
       "      <td>0.372</td>\n",
       "      <td>0.498</td>\n",
       "      <td>1.679</td>\n",
       "      <td>0.008</td>\n",
       "      <td>0.006</td>\n",
       "      <td>2135.0</td>\n",
       "      <td>2008.0</td>\n",
       "      <td>2153.0</td>\n",
       "      <td>2150.0</td>\n",
       "      <td>1.0</td>\n",
       "    </tr>\n",
       "    <tr>\n",
       "      <th>d[1]</th>\n",
       "      <td>1.061</td>\n",
       "      <td>0.374</td>\n",
       "      <td>0.468</td>\n",
       "      <td>1.654</td>\n",
       "      <td>0.008</td>\n",
       "      <td>0.006</td>\n",
       "      <td>2145.0</td>\n",
       "      <td>2016.0</td>\n",
       "      <td>2162.0</td>\n",
       "      <td>2246.0</td>\n",
       "      <td>1.0</td>\n",
       "    </tr>\n",
       "    <tr>\n",
       "      <th>d[2]</th>\n",
       "      <td>-0.150</td>\n",
       "      <td>0.371</td>\n",
       "      <td>-0.729</td>\n",
       "      <td>0.449</td>\n",
       "      <td>0.008</td>\n",
       "      <td>0.006</td>\n",
       "      <td>2118.0</td>\n",
       "      <td>1918.0</td>\n",
       "      <td>2135.0</td>\n",
       "      <td>2013.0</td>\n",
       "      <td>1.0</td>\n",
       "    </tr>\n",
       "    <tr>\n",
       "      <th>d[3]</th>\n",
       "      <td>-0.182</td>\n",
       "      <td>0.373</td>\n",
       "      <td>-0.768</td>\n",
       "      <td>0.415</td>\n",
       "      <td>0.008</td>\n",
       "      <td>0.006</td>\n",
       "      <td>2088.0</td>\n",
       "      <td>1908.0</td>\n",
       "      <td>2108.0</td>\n",
       "      <td>2014.0</td>\n",
       "      <td>1.0</td>\n",
       "    </tr>\n",
       "    <tr>\n",
       "      <th>d[4]</th>\n",
       "      <td>-0.623</td>\n",
       "      <td>0.376</td>\n",
       "      <td>-1.237</td>\n",
       "      <td>-0.041</td>\n",
       "      <td>0.008</td>\n",
       "      <td>0.006</td>\n",
       "      <td>2174.0</td>\n",
       "      <td>2174.0</td>\n",
       "      <td>2191.0</td>\n",
       "      <td>2057.0</td>\n",
       "      <td>1.0</td>\n",
       "    </tr>\n",
       "    <tr>\n",
       "      <th>d[5]</th>\n",
       "      <td>-2.154</td>\n",
       "      <td>0.389</td>\n",
       "      <td>-2.813</td>\n",
       "      <td>-1.580</td>\n",
       "      <td>0.008</td>\n",
       "      <td>0.006</td>\n",
       "      <td>2303.0</td>\n",
       "      <td>2303.0</td>\n",
       "      <td>2317.0</td>\n",
       "      <td>2340.0</td>\n",
       "      <td>1.0</td>\n",
       "    </tr>\n",
       "  </tbody>\n",
       "</table>\n",
       "</div>"
      ],
      "text/plain": [
       "       mean     sd  hdi_5.5%  hdi_94.5%  mcse_mean  mcse_sd  ess_mean  ess_sd  \\\n",
       "b0   -0.434  0.369    -1.001      0.173      0.008    0.006    2082.0  1820.0   \n",
       "b1   -0.528  0.368    -1.101      0.064      0.008    0.006    2078.0  1844.0   \n",
       "d[0]  1.107  0.372     0.498      1.679      0.008    0.006    2135.0  2008.0   \n",
       "d[1]  1.061  0.374     0.468      1.654      0.008    0.006    2145.0  2016.0   \n",
       "d[2] -0.150  0.371    -0.729      0.449      0.008    0.006    2118.0  1918.0   \n",
       "d[3] -0.182  0.373    -0.768      0.415      0.008    0.006    2088.0  1908.0   \n",
       "d[4] -0.623  0.376    -1.237     -0.041      0.008    0.006    2174.0  2174.0   \n",
       "d[5] -2.154  0.389    -2.813     -1.580      0.008    0.006    2303.0  2303.0   \n",
       "\n",
       "      ess_bulk  ess_tail  r_hat  \n",
       "b0      2100.0    1982.0    1.0  \n",
       "b1      2096.0    2031.0    1.0  \n",
       "d[0]    2153.0    2150.0    1.0  \n",
       "d[1]    2162.0    2246.0    1.0  \n",
       "d[2]    2135.0    2013.0    1.0  \n",
       "d[3]    2108.0    2014.0    1.0  \n",
       "d[4]    2191.0    2057.0    1.0  \n",
       "d[5]    2317.0    2340.0    1.0  "
      ]
     },
     "execution_count": 93,
     "metadata": {},
     "output_type": "execute_result"
    },
    {
     "data": {
      "application/javascript": "\n            setTimeout(function() {\n                var nbb_cell_id = 93;\n                var nbb_unformatted_code = \"az.summary(idata_mIndicator, var_names=['b0', 'b1', 'd'])\";\n                var nbb_formatted_code = \"az.summary(idata_mIndicator, var_names=[\\\"b0\\\", \\\"b1\\\", \\\"d\\\"])\";\n                var nbb_cells = Jupyter.notebook.get_cells();\n                for (var i = 0; i < nbb_cells.length; ++i) {\n                    if (nbb_cells[i].input_prompt_number == nbb_cell_id) {\n                        if (nbb_cells[i].get_text() == nbb_unformatted_code) {\n                             nbb_cells[i].set_text(nbb_formatted_code);\n                        }\n                        break;\n                    }\n                }\n            }, 500);\n            ",
      "text/plain": [
       "<IPython.core.display.Javascript object>"
      ]
     },
     "metadata": {},
     "output_type": "display_data"
    }
   ],
   "source": [
    "az.summary(idata_mIndicator, var_names=['b0', 'b1', 'd'])"
   ]
  },
  {
   "cell_type": "code",
   "execution_count": null,
   "metadata": {},
   "outputs": [
    {
     "name": "stderr",
     "output_type": "stream",
     "text": [
      "/Users/blacar/opt/anaconda3/envs/stats_rethinking/lib/python3.8/site-packages/arviz/data/base.py:169: UserWarning: More chains (20000) than draws (6). Passed array should have shape (chains, draws, *shape)\n",
      "  warnings.warn(\n"
     ]
    },
    {
     "data": {
      "text/html": [
       "<div>\n",
       "<style scoped>\n",
       "    .dataframe tbody tr th:only-of-type {\n",
       "        vertical-align: middle;\n",
       "    }\n",
       "\n",
       "    .dataframe tbody tr th {\n",
       "        vertical-align: top;\n",
       "    }\n",
       "\n",
       "    .dataframe thead th {\n",
       "        text-align: right;\n",
       "    }\n",
       "</style>\n",
       "<table border=\"1\" class=\"dataframe\">\n",
       "  <thead>\n",
       "    <tr style=\"text-align: right;\">\n",
       "      <th></th>\n",
       "      <th>mean</th>\n",
       "      <th>sd</th>\n",
       "      <th>hdi_5.5%</th>\n",
       "      <th>hdi_94.5%</th>\n",
       "      <th>mcse_mean</th>\n",
       "      <th>mcse_sd</th>\n",
       "      <th>ess_mean</th>\n",
       "      <th>ess_sd</th>\n",
       "      <th>ess_bulk</th>\n",
       "      <th>ess_tail</th>\n",
       "      <th>r_hat</th>\n",
       "    </tr>\n",
       "  </thead>\n",
       "  <tbody>\n",
       "    <tr>\n",
       "      <th>x</th>\n",
       "      <td>-0.464</td>\n",
       "      <td>1.287</td>\n",
       "      <td>-2.622</td>\n",
       "      <td>1.533</td>\n",
       "      <td>0.002</td>\n",
       "      <td>0.001</td>\n",
       "      <td>609502.0</td>\n",
       "      <td>609502.0</td>\n",
       "      <td>609502.0</td>\n",
       "      <td>609502.0</td>\n",
       "      <td>1.2</td>\n",
       "    </tr>\n",
       "  </tbody>\n",
       "</table>\n",
       "</div>"
      ],
      "text/plain": [
       "    mean     sd  hdi_5.5%  hdi_94.5%  mcse_mean  mcse_sd  ess_mean    ess_sd  \\\n",
       "x -0.464  1.287    -2.622      1.533      0.002    0.001  609502.0  609502.0   \n",
       "\n",
       "   ess_bulk  ess_tail  r_hat  \n",
       "x  609502.0  609502.0    1.2  "
      ]
     },
     "metadata": {},
     "output_type": "display_data"
    },
    {
     "data": {
      "application/javascript": "\n            setTimeout(function() {\n                var nbb_cell_id = 23;\n                var nbb_unformatted_code = \"f_cols = [col for col in idata_mq2_lec_df.columns if 'a__0' in col]\\naz.summary(np.array(idata_mq2_lec_df[f_cols]))\";\n                var nbb_formatted_code = \"f_cols = [col for col in idata_mq2_lec_df.columns if \\\"a__0\\\" in col]\\naz.summary(np.array(idata_mq2_lec_df[f_cols]))\";\n                var nbb_cells = Jupyter.notebook.get_cells();\n                for (var i = 0; i < nbb_cells.length; ++i) {\n                    if (nbb_cells[i].input_prompt_number == nbb_cell_id) {\n                        if (nbb_cells[i].get_text() == nbb_unformatted_code) {\n                             nbb_cells[i].set_text(nbb_formatted_code);\n                        }\n                        break;\n                    }\n                }\n            }, 500);\n            ",
      "text/plain": [
       "<IPython.core.display.Javascript object>"
      ]
     },
     "metadata": {},
     "output_type": "display_data"
    }
   ],
   "source": [
    "f_cols = [col for col in idata_mq2_lec_df.columns if 'a__0' in col]\n",
    "az.summary(np.array(idata_mq2_lec_df[f_cols]))"
   ]
  },
  {
   "cell_type": "code",
   "execution_count": null,
   "metadata": {},
   "outputs": [
    {
     "name": "stderr",
     "output_type": "stream",
     "text": [
      "/Users/blacar/opt/anaconda3/envs/stats_rethinking/lib/python3.8/site-packages/arviz/data/base.py:169: UserWarning: More chains (20000) than draws (6). Passed array should have shape (chains, draws, *shape)\n",
      "  warnings.warn(\n"
     ]
    },
    {
     "data": {
      "text/html": [
       "<div>\n",
       "<style scoped>\n",
       "    .dataframe tbody tr th:only-of-type {\n",
       "        vertical-align: middle;\n",
       "    }\n",
       "\n",
       "    .dataframe tbody tr th {\n",
       "        vertical-align: top;\n",
       "    }\n",
       "\n",
       "    .dataframe thead th {\n",
       "        text-align: right;\n",
       "    }\n",
       "</style>\n",
       "<table border=\"1\" class=\"dataframe\">\n",
       "  <thead>\n",
       "    <tr style=\"text-align: right;\">\n",
       "      <th></th>\n",
       "      <th>mean</th>\n",
       "      <th>sd</th>\n",
       "      <th>hdi_5.5%</th>\n",
       "      <th>hdi_94.5%</th>\n",
       "      <th>mcse_mean</th>\n",
       "      <th>mcse_sd</th>\n",
       "      <th>ess_mean</th>\n",
       "      <th>ess_sd</th>\n",
       "      <th>ess_bulk</th>\n",
       "      <th>ess_tail</th>\n",
       "      <th>r_hat</th>\n",
       "    </tr>\n",
       "  </thead>\n",
       "  <tbody>\n",
       "    <tr>\n",
       "      <th>x</th>\n",
       "      <td>-0.635</td>\n",
       "      <td>1.076</td>\n",
       "      <td>-2.618</td>\n",
       "      <td>0.661</td>\n",
       "      <td>0.001</td>\n",
       "      <td>0.001</td>\n",
       "      <td>609502.0</td>\n",
       "      <td>609502.0</td>\n",
       "      <td>609502.0</td>\n",
       "      <td>609502.0</td>\n",
       "      <td>1.38</td>\n",
       "    </tr>\n",
       "  </tbody>\n",
       "</table>\n",
       "</div>"
      ],
      "text/plain": [
       "    mean     sd  hdi_5.5%  hdi_94.5%  mcse_mean  mcse_sd  ess_mean    ess_sd  \\\n",
       "x -0.635  1.076    -2.618      0.661      0.001    0.001  609502.0  609502.0   \n",
       "\n",
       "   ess_bulk  ess_tail  r_hat  \n",
       "x  609502.0  609502.0   1.38  "
      ]
     },
     "metadata": {},
     "output_type": "display_data"
    },
    {
     "data": {
      "application/javascript": "\n            setTimeout(function() {\n                var nbb_cell_id = 24;\n                var nbb_unformatted_code = \"m_cols = [col for col in idata_mq2_lec_df.columns if 'a__1' in col]\\naz.summary(np.array(idata_mq2_lec_df[m_cols]))\";\n                var nbb_formatted_code = \"m_cols = [col for col in idata_mq2_lec_df.columns if \\\"a__1\\\" in col]\\naz.summary(np.array(idata_mq2_lec_df[m_cols]))\";\n                var nbb_cells = Jupyter.notebook.get_cells();\n                for (var i = 0; i < nbb_cells.length; ++i) {\n                    if (nbb_cells[i].input_prompt_number == nbb_cell_id) {\n                        if (nbb_cells[i].get_text() == nbb_unformatted_code) {\n                             nbb_cells[i].set_text(nbb_formatted_code);\n                        }\n                        break;\n                    }\n                }\n            }, 500);\n            ",
      "text/plain": [
       "<IPython.core.display.Javascript object>"
      ]
     },
     "metadata": {},
     "output_type": "display_data"
    }
   ],
   "source": [
    "m_cols = [col for col in idata_mq2_lec_df.columns if 'a__1' in col]\n",
    "az.summary(np.array(idata_mq2_lec_df[m_cols]))"
   ]
  },
  {
   "cell_type": "code",
   "execution_count": 94,
   "metadata": {},
   "outputs": [
    {
     "name": "stderr",
     "output_type": "stream",
     "text": [
      "/Users/blacar/opt/anaconda3/envs/stats_rethinking/lib/python3.8/site-packages/arviz/data/io_pymc3.py:88: FutureWarning: Using `from_pymc3` without the model will be deprecated in a future release. Not using the model will return less accurate and less useful results. Make sure you use the model argument or call from_pymc3 within a model context.\n",
      "  warnings.warn(\n"
     ]
    },
    {
     "data": {
      "text/html": [
       "<div>\n",
       "<style scoped>\n",
       "    .dataframe tbody tr th:only-of-type {\n",
       "        vertical-align: middle;\n",
       "    }\n",
       "\n",
       "    .dataframe tbody tr th {\n",
       "        vertical-align: top;\n",
       "    }\n",
       "\n",
       "    .dataframe thead th {\n",
       "        text-align: right;\n",
       "    }\n",
       "</style>\n",
       "<table border=\"1\" class=\"dataframe\">\n",
       "  <thead>\n",
       "    <tr style=\"text-align: right;\">\n",
       "      <th></th>\n",
       "      <th>mean</th>\n",
       "      <th>sd</th>\n",
       "      <th>hdi_5.5%</th>\n",
       "      <th>hdi_94.5%</th>\n",
       "      <th>mcse_mean</th>\n",
       "      <th>mcse_sd</th>\n",
       "      <th>ess_mean</th>\n",
       "      <th>ess_sd</th>\n",
       "      <th>ess_bulk</th>\n",
       "      <th>ess_tail</th>\n",
       "      <th>r_hat</th>\n",
       "    </tr>\n",
       "  </thead>\n",
       "  <tbody>\n",
       "    <tr>\n",
       "      <th>a[0,0]</th>\n",
       "      <td>1.471</td>\n",
       "      <td>0.243</td>\n",
       "      <td>1.066</td>\n",
       "      <td>1.846</td>\n",
       "      <td>0.001</td>\n",
       "      <td>0.001</td>\n",
       "      <td>30828.0</td>\n",
       "      <td>28961.0</td>\n",
       "      <td>31112.0</td>\n",
       "      <td>15477.0</td>\n",
       "      <td>1.0</td>\n",
       "    </tr>\n",
       "    <tr>\n",
       "      <th>a[0,1]</th>\n",
       "      <td>0.658</td>\n",
       "      <td>0.400</td>\n",
       "      <td>0.006</td>\n",
       "      <td>1.283</td>\n",
       "      <td>0.002</td>\n",
       "      <td>0.002</td>\n",
       "      <td>31188.0</td>\n",
       "      <td>20008.0</td>\n",
       "      <td>31527.0</td>\n",
       "      <td>15771.0</td>\n",
       "      <td>1.0</td>\n",
       "    </tr>\n",
       "    <tr>\n",
       "      <th>a[0,2]</th>\n",
       "      <td>-0.656</td>\n",
       "      <td>0.087</td>\n",
       "      <td>-0.796</td>\n",
       "      <td>-0.519</td>\n",
       "      <td>0.000</td>\n",
       "      <td>0.000</td>\n",
       "      <td>34659.0</td>\n",
       "      <td>33532.0</td>\n",
       "      <td>34751.0</td>\n",
       "      <td>15224.0</td>\n",
       "      <td>1.0</td>\n",
       "    </tr>\n",
       "    <tr>\n",
       "      <th>a[0,3]</th>\n",
       "      <td>-0.617</td>\n",
       "      <td>0.109</td>\n",
       "      <td>-0.790</td>\n",
       "      <td>-0.443</td>\n",
       "      <td>0.001</td>\n",
       "      <td>0.000</td>\n",
       "      <td>32598.0</td>\n",
       "      <td>30714.0</td>\n",
       "      <td>32694.0</td>\n",
       "      <td>15600.0</td>\n",
       "      <td>1.0</td>\n",
       "    </tr>\n",
       "    <tr>\n",
       "      <th>a[0,4]</th>\n",
       "      <td>-1.145</td>\n",
       "      <td>0.118</td>\n",
       "      <td>-1.333</td>\n",
       "      <td>-0.960</td>\n",
       "      <td>0.001</td>\n",
       "      <td>0.000</td>\n",
       "      <td>34526.0</td>\n",
       "      <td>33690.0</td>\n",
       "      <td>34528.0</td>\n",
       "      <td>15237.0</td>\n",
       "      <td>1.0</td>\n",
       "    </tr>\n",
       "    <tr>\n",
       "      <th>a[0,5]</th>\n",
       "      <td>-2.493</td>\n",
       "      <td>0.201</td>\n",
       "      <td>-2.810</td>\n",
       "      <td>-2.175</td>\n",
       "      <td>0.001</td>\n",
       "      <td>0.001</td>\n",
       "      <td>29027.0</td>\n",
       "      <td>27999.0</td>\n",
       "      <td>29480.0</td>\n",
       "      <td>14351.0</td>\n",
       "      <td>1.0</td>\n",
       "    </tr>\n",
       "    <tr>\n",
       "      <th>a[1,0]</th>\n",
       "      <td>0.490</td>\n",
       "      <td>0.072</td>\n",
       "      <td>0.377</td>\n",
       "      <td>0.607</td>\n",
       "      <td>0.000</td>\n",
       "      <td>0.000</td>\n",
       "      <td>31640.0</td>\n",
       "      <td>30573.0</td>\n",
       "      <td>31648.0</td>\n",
       "      <td>15553.0</td>\n",
       "      <td>1.0</td>\n",
       "    </tr>\n",
       "    <tr>\n",
       "      <th>a[1,1]</th>\n",
       "      <td>0.531</td>\n",
       "      <td>0.087</td>\n",
       "      <td>0.392</td>\n",
       "      <td>0.669</td>\n",
       "      <td>0.000</td>\n",
       "      <td>0.000</td>\n",
       "      <td>32126.0</td>\n",
       "      <td>30496.0</td>\n",
       "      <td>32189.0</td>\n",
       "      <td>15287.0</td>\n",
       "      <td>1.0</td>\n",
       "    </tr>\n",
       "    <tr>\n",
       "      <th>a[1,2]</th>\n",
       "      <td>-0.530</td>\n",
       "      <td>0.114</td>\n",
       "      <td>-0.710</td>\n",
       "      <td>-0.347</td>\n",
       "      <td>0.001</td>\n",
       "      <td>0.000</td>\n",
       "      <td>31702.0</td>\n",
       "      <td>28703.0</td>\n",
       "      <td>31756.0</td>\n",
       "      <td>15967.0</td>\n",
       "      <td>1.0</td>\n",
       "    </tr>\n",
       "    <tr>\n",
       "      <th>a[1,3]</th>\n",
       "      <td>-0.699</td>\n",
       "      <td>0.103</td>\n",
       "      <td>-0.869</td>\n",
       "      <td>-0.540</td>\n",
       "      <td>0.001</td>\n",
       "      <td>0.000</td>\n",
       "      <td>31358.0</td>\n",
       "      <td>29967.0</td>\n",
       "      <td>31440.0</td>\n",
       "      <td>15144.0</td>\n",
       "      <td>1.0</td>\n",
       "    </tr>\n",
       "    <tr>\n",
       "      <th>a[1,4]</th>\n",
       "      <td>-0.939</td>\n",
       "      <td>0.159</td>\n",
       "      <td>-1.185</td>\n",
       "      <td>-0.676</td>\n",
       "      <td>0.001</td>\n",
       "      <td>0.001</td>\n",
       "      <td>25475.0</td>\n",
       "      <td>24447.0</td>\n",
       "      <td>25538.0</td>\n",
       "      <td>16108.0</td>\n",
       "      <td>1.0</td>\n",
       "    </tr>\n",
       "    <tr>\n",
       "      <th>a[1,5]</th>\n",
       "      <td>-2.664</td>\n",
       "      <td>0.201</td>\n",
       "      <td>-2.975</td>\n",
       "      <td>-2.338</td>\n",
       "      <td>0.001</td>\n",
       "      <td>0.001</td>\n",
       "      <td>32553.0</td>\n",
       "      <td>31757.0</td>\n",
       "      <td>32852.0</td>\n",
       "      <td>15647.0</td>\n",
       "      <td>1.0</td>\n",
       "    </tr>\n",
       "  </tbody>\n",
       "</table>\n",
       "</div>"
      ],
      "text/plain": [
       "         mean     sd  hdi_5.5%  hdi_94.5%  mcse_mean  mcse_sd  ess_mean  \\\n",
       "a[0,0]  1.471  0.243     1.066      1.846      0.001    0.001   30828.0   \n",
       "a[0,1]  0.658  0.400     0.006      1.283      0.002    0.002   31188.0   \n",
       "a[0,2] -0.656  0.087    -0.796     -0.519      0.000    0.000   34659.0   \n",
       "a[0,3] -0.617  0.109    -0.790     -0.443      0.001    0.000   32598.0   \n",
       "a[0,4] -1.145  0.118    -1.333     -0.960      0.001    0.000   34526.0   \n",
       "a[0,5] -2.493  0.201    -2.810     -2.175      0.001    0.001   29027.0   \n",
       "a[1,0]  0.490  0.072     0.377      0.607      0.000    0.000   31640.0   \n",
       "a[1,1]  0.531  0.087     0.392      0.669      0.000    0.000   32126.0   \n",
       "a[1,2] -0.530  0.114    -0.710     -0.347      0.001    0.000   31702.0   \n",
       "a[1,3] -0.699  0.103    -0.869     -0.540      0.001    0.000   31358.0   \n",
       "a[1,4] -0.939  0.159    -1.185     -0.676      0.001    0.001   25475.0   \n",
       "a[1,5] -2.664  0.201    -2.975     -2.338      0.001    0.001   32553.0   \n",
       "\n",
       "         ess_sd  ess_bulk  ess_tail  r_hat  \n",
       "a[0,0]  28961.0   31112.0   15477.0    1.0  \n",
       "a[0,1]  20008.0   31527.0   15771.0    1.0  \n",
       "a[0,2]  33532.0   34751.0   15224.0    1.0  \n",
       "a[0,3]  30714.0   32694.0   15600.0    1.0  \n",
       "a[0,4]  33690.0   34528.0   15237.0    1.0  \n",
       "a[0,5]  27999.0   29480.0   14351.0    1.0  \n",
       "a[1,0]  30573.0   31648.0   15553.0    1.0  \n",
       "a[1,1]  30496.0   32189.0   15287.0    1.0  \n",
       "a[1,2]  28703.0   31756.0   15967.0    1.0  \n",
       "a[1,3]  29967.0   31440.0   15144.0    1.0  \n",
       "a[1,4]  24447.0   25538.0   16108.0    1.0  \n",
       "a[1,5]  31757.0   32852.0   15647.0    1.0  "
      ]
     },
     "execution_count": 94,
     "metadata": {},
     "output_type": "execute_result"
    },
    {
     "data": {
      "application/javascript": "\n            setTimeout(function() {\n                var nbb_cell_id = 94;\n                var nbb_unformatted_code = \"az.summary(idata_mq2_lec, var_names='a')\";\n                var nbb_formatted_code = \"az.summary(idata_mq2_lec, var_names=\\\"a\\\")\";\n                var nbb_cells = Jupyter.notebook.get_cells();\n                for (var i = 0; i < nbb_cells.length; ++i) {\n                    if (nbb_cells[i].input_prompt_number == nbb_cell_id) {\n                        if (nbb_cells[i].get_text() == nbb_unformatted_code) {\n                             nbb_cells[i].set_text(nbb_formatted_code);\n                        }\n                        break;\n                    }\n                }\n            }, 500);\n            ",
      "text/plain": [
       "<IPython.core.display.Javascript object>"
      ]
     },
     "metadata": {},
     "output_type": "display_data"
    }
   ],
   "source": [
    "az.summary(idata_mq2_lec, var_names='a')"
   ]
  },
  {
   "cell_type": "code",
   "execution_count": 102,
   "metadata": {},
   "outputs": [
    {
     "data": {
      "text/html": [
       "<div>\n",
       "<style scoped>\n",
       "    .dataframe tbody tr th:only-of-type {\n",
       "        vertical-align: middle;\n",
       "    }\n",
       "\n",
       "    .dataframe tbody tr th {\n",
       "        vertical-align: top;\n",
       "    }\n",
       "\n",
       "    .dataframe thead th {\n",
       "        text-align: right;\n",
       "    }\n",
       "</style>\n",
       "<table border=\"1\" class=\"dataframe\">\n",
       "  <thead>\n",
       "    <tr style=\"text-align: right;\">\n",
       "      <th></th>\n",
       "      <th>a__0_0</th>\n",
       "      <th>a__0_1</th>\n",
       "      <th>a__0_2</th>\n",
       "      <th>a__0_3</th>\n",
       "      <th>a__0_4</th>\n",
       "      <th>a__0_5</th>\n",
       "      <th>a__1_0</th>\n",
       "      <th>a__1_1</th>\n",
       "      <th>a__1_2</th>\n",
       "      <th>a__1_3</th>\n",
       "      <th>...</th>\n",
       "      <th>p__2</th>\n",
       "      <th>p__3</th>\n",
       "      <th>p__4</th>\n",
       "      <th>p__5</th>\n",
       "      <th>p__6</th>\n",
       "      <th>p__7</th>\n",
       "      <th>p__8</th>\n",
       "      <th>p__9</th>\n",
       "      <th>p__10</th>\n",
       "      <th>p__11</th>\n",
       "    </tr>\n",
       "  </thead>\n",
       "  <tbody>\n",
       "    <tr>\n",
       "      <th>0</th>\n",
       "      <td>0.891069</td>\n",
       "      <td>1.641279</td>\n",
       "      <td>-0.521474</td>\n",
       "      <td>-0.646311</td>\n",
       "      <td>-1.052864</td>\n",
       "      <td>-2.699225</td>\n",
       "      <td>0.611370</td>\n",
       "      <td>0.651254</td>\n",
       "      <td>-0.518243</td>\n",
       "      <td>-0.645239</td>\n",
       "      <td>...</td>\n",
       "      <td>0.657293</td>\n",
       "      <td>0.837709</td>\n",
       "      <td>0.373263</td>\n",
       "      <td>0.372508</td>\n",
       "      <td>0.344063</td>\n",
       "      <td>0.343821</td>\n",
       "      <td>0.271126</td>\n",
       "      <td>0.258675</td>\n",
       "      <td>0.086586</td>\n",
       "      <td>0.063019</td>\n",
       "    </tr>\n",
       "    <tr>\n",
       "      <th>1</th>\n",
       "      <td>1.927675</td>\n",
       "      <td>0.575378</td>\n",
       "      <td>-0.783576</td>\n",
       "      <td>-0.550105</td>\n",
       "      <td>-1.222880</td>\n",
       "      <td>-2.794901</td>\n",
       "      <td>0.353855</td>\n",
       "      <td>0.390752</td>\n",
       "      <td>-0.536723</td>\n",
       "      <td>-0.595988</td>\n",
       "      <td>...</td>\n",
       "      <td>0.596464</td>\n",
       "      <td>0.640003</td>\n",
       "      <td>0.368950</td>\n",
       "      <td>0.313550</td>\n",
       "      <td>0.355262</td>\n",
       "      <td>0.365840</td>\n",
       "      <td>0.299623</td>\n",
       "      <td>0.227430</td>\n",
       "      <td>0.060891</td>\n",
       "      <td>0.057600</td>\n",
       "    </tr>\n",
       "    <tr>\n",
       "      <th>2</th>\n",
       "      <td>1.938643</td>\n",
       "      <td>0.607025</td>\n",
       "      <td>-0.663745</td>\n",
       "      <td>-0.778497</td>\n",
       "      <td>-0.931355</td>\n",
       "      <td>-2.535624</td>\n",
       "      <td>0.520048</td>\n",
       "      <td>0.503298</td>\n",
       "      <td>-0.486455</td>\n",
       "      <td>-0.777678</td>\n",
       "      <td>...</td>\n",
       "      <td>0.623234</td>\n",
       "      <td>0.647262</td>\n",
       "      <td>0.380729</td>\n",
       "      <td>0.339899</td>\n",
       "      <td>0.314820</td>\n",
       "      <td>0.314644</td>\n",
       "      <td>0.284581</td>\n",
       "      <td>0.282650</td>\n",
       "      <td>0.055522</td>\n",
       "      <td>0.073398</td>\n",
       "    </tr>\n",
       "    <tr>\n",
       "      <th>3</th>\n",
       "      <td>1.730108</td>\n",
       "      <td>0.910071</td>\n",
       "      <td>-0.661863</td>\n",
       "      <td>-0.693358</td>\n",
       "      <td>-1.125136</td>\n",
       "      <td>-2.493848</td>\n",
       "      <td>0.501386</td>\n",
       "      <td>0.625492</td>\n",
       "      <td>-0.310426</td>\n",
       "      <td>-0.702095</td>\n",
       "      <td>...</td>\n",
       "      <td>0.651466</td>\n",
       "      <td>0.713015</td>\n",
       "      <td>0.423011</td>\n",
       "      <td>0.340321</td>\n",
       "      <td>0.331348</td>\n",
       "      <td>0.333287</td>\n",
       "      <td>0.277520</td>\n",
       "      <td>0.245060</td>\n",
       "      <td>0.049939</td>\n",
       "      <td>0.076291</td>\n",
       "    </tr>\n",
       "    <tr>\n",
       "      <th>4</th>\n",
       "      <td>1.614487</td>\n",
       "      <td>0.835652</td>\n",
       "      <td>-0.661002</td>\n",
       "      <td>-0.756671</td>\n",
       "      <td>-0.963028</td>\n",
       "      <td>-2.688075</td>\n",
       "      <td>0.561555</td>\n",
       "      <td>0.535844</td>\n",
       "      <td>-0.621586</td>\n",
       "      <td>-0.777209</td>\n",
       "      <td>...</td>\n",
       "      <td>0.630845</td>\n",
       "      <td>0.697549</td>\n",
       "      <td>0.349421</td>\n",
       "      <td>0.340514</td>\n",
       "      <td>0.314922</td>\n",
       "      <td>0.319370</td>\n",
       "      <td>0.225927</td>\n",
       "      <td>0.276272</td>\n",
       "      <td>0.047908</td>\n",
       "      <td>0.063681</td>\n",
       "    </tr>\n",
       "  </tbody>\n",
       "</table>\n",
       "<p>5 rows × 24 columns</p>\n",
       "</div>"
      ],
      "text/plain": [
       "     a__0_0    a__0_1    a__0_2    a__0_3    a__0_4    a__0_5    a__1_0  \\\n",
       "0  0.891069  1.641279 -0.521474 -0.646311 -1.052864 -2.699225  0.611370   \n",
       "1  1.927675  0.575378 -0.783576 -0.550105 -1.222880 -2.794901  0.353855   \n",
       "2  1.938643  0.607025 -0.663745 -0.778497 -0.931355 -2.535624  0.520048   \n",
       "3  1.730108  0.910071 -0.661863 -0.693358 -1.125136 -2.493848  0.501386   \n",
       "4  1.614487  0.835652 -0.661002 -0.756671 -0.963028 -2.688075  0.561555   \n",
       "\n",
       "     a__1_1    a__1_2    a__1_3  ...      p__2      p__3      p__4      p__5  \\\n",
       "0  0.651254 -0.518243 -0.645239  ...  0.657293  0.837709  0.373263  0.372508   \n",
       "1  0.390752 -0.536723 -0.595988  ...  0.596464  0.640003  0.368950  0.313550   \n",
       "2  0.503298 -0.486455 -0.777678  ...  0.623234  0.647262  0.380729  0.339899   \n",
       "3  0.625492 -0.310426 -0.702095  ...  0.651466  0.713015  0.423011  0.340321   \n",
       "4  0.535844 -0.621586 -0.777209  ...  0.630845  0.697549  0.349421  0.340514   \n",
       "\n",
       "       p__6      p__7      p__8      p__9     p__10     p__11  \n",
       "0  0.344063  0.343821  0.271126  0.258675  0.086586  0.063019  \n",
       "1  0.355262  0.365840  0.299623  0.227430  0.060891  0.057600  \n",
       "2  0.314820  0.314644  0.284581  0.282650  0.055522  0.073398  \n",
       "3  0.331348  0.333287  0.277520  0.245060  0.049939  0.076291  \n",
       "4  0.314922  0.319370  0.225927  0.276272  0.047908  0.063681  \n",
       "\n",
       "[5 rows x 24 columns]"
      ]
     },
     "execution_count": 102,
     "metadata": {},
     "output_type": "execute_result"
    },
    {
     "data": {
      "application/javascript": "\n            setTimeout(function() {\n                var nbb_cell_id = 102;\n                var nbb_unformatted_code = \"idata_mq2_lec_df.head()\";\n                var nbb_formatted_code = \"idata_mq2_lec_df.head()\";\n                var nbb_cells = Jupyter.notebook.get_cells();\n                for (var i = 0; i < nbb_cells.length; ++i) {\n                    if (nbb_cells[i].input_prompt_number == nbb_cell_id) {\n                        if (nbb_cells[i].get_text() == nbb_unformatted_code) {\n                             nbb_cells[i].set_text(nbb_formatted_code);\n                        }\n                        break;\n                    }\n                }\n            }, 500);\n            ",
      "text/plain": [
       "<IPython.core.display.Javascript object>"
      ]
     },
     "metadata": {},
     "output_type": "display_data"
    }
   ],
   "source": [
    "idata_mq2_lec_df.head()"
   ]
  },
  {
   "cell_type": "code",
   "execution_count": 109,
   "metadata": {},
   "outputs": [
    {
     "name": "stderr",
     "output_type": "stream",
     "text": [
      "arviz - WARNING - Shape validation failed: input_shape: (1, 20000), minimum_shape: (chains=2, draws=4)\n"
     ]
    },
    {
     "data": {
      "text/html": [
       "<div>\n",
       "<style scoped>\n",
       "    .dataframe tbody tr th:only-of-type {\n",
       "        vertical-align: middle;\n",
       "    }\n",
       "\n",
       "    .dataframe tbody tr th {\n",
       "        vertical-align: top;\n",
       "    }\n",
       "\n",
       "    .dataframe thead th {\n",
       "        text-align: right;\n",
       "    }\n",
       "</style>\n",
       "<table border=\"1\" class=\"dataframe\">\n",
       "  <thead>\n",
       "    <tr style=\"text-align: right;\">\n",
       "      <th></th>\n",
       "      <th>mean</th>\n",
       "      <th>sd</th>\n",
       "      <th>hdi_5.5%</th>\n",
       "      <th>hdi_94.5%</th>\n",
       "      <th>mcse_mean</th>\n",
       "      <th>mcse_sd</th>\n",
       "      <th>ess_mean</th>\n",
       "      <th>ess_sd</th>\n",
       "      <th>ess_bulk</th>\n",
       "      <th>ess_tail</th>\n",
       "      <th>r_hat</th>\n",
       "    </tr>\n",
       "  </thead>\n",
       "  <tbody>\n",
       "    <tr>\n",
       "      <th>x</th>\n",
       "      <td>0.28</td>\n",
       "      <td>0.119</td>\n",
       "      <td>0.091</td>\n",
       "      <td>0.456</td>\n",
       "      <td>0.001</td>\n",
       "      <td>0.001</td>\n",
       "      <td>29348.0</td>\n",
       "      <td>22996.0</td>\n",
       "      <td>31385.0</td>\n",
       "      <td>14737.0</td>\n",
       "      <td>NaN</td>\n",
       "    </tr>\n",
       "  </tbody>\n",
       "</table>\n",
       "</div>"
      ],
      "text/plain": [
       "   mean     sd  hdi_5.5%  hdi_94.5%  mcse_mean  mcse_sd  ess_mean   ess_sd  \\\n",
       "x  0.28  0.119     0.091      0.456      0.001    0.001   29348.0  22996.0   \n",
       "\n",
       "   ess_bulk  ess_tail  r_hat  \n",
       "x   31385.0   14737.0    NaN  "
      ]
     },
     "execution_count": 109,
     "metadata": {},
     "output_type": "execute_result"
    },
    {
     "data": {
      "application/javascript": "\n            setTimeout(function() {\n                var nbb_cell_id = 109;\n                var nbb_unformatted_code = \"az.summary(np.array(expit(idata_mq2_lec_df[m_cols].sum(axis=1) - idata_mq2_lec_df[f_cols].sum(axis=1))))\";\n                var nbb_formatted_code = \"az.summary(\\n    np.array(\\n        expit(\\n            idata_mq2_lec_df[m_cols].sum(axis=1) - idata_mq2_lec_df[f_cols].sum(axis=1)\\n        )\\n    )\\n)\";\n                var nbb_cells = Jupyter.notebook.get_cells();\n                for (var i = 0; i < nbb_cells.length; ++i) {\n                    if (nbb_cells[i].input_prompt_number == nbb_cell_id) {\n                        if (nbb_cells[i].get_text() == nbb_unformatted_code) {\n                             nbb_cells[i].set_text(nbb_formatted_code);\n                        }\n                        break;\n                    }\n                }\n            }, 500);\n            ",
      "text/plain": [
       "<IPython.core.display.Javascript object>"
      ]
     },
     "metadata": {},
     "output_type": "display_data"
    }
   ],
   "source": [
    "az.summary(np.array(expit(idata_mq2_lec_df[m_cols].sum(axis=1) - idata_mq2_lec_df[f_cols].sum(axis=1))))"
   ]
  },
  {
   "cell_type": "code",
   "execution_count": null,
   "metadata": {},
   "outputs": [],
   "source": []
  },
  {
   "cell_type": "code",
   "execution_count": null,
   "metadata": {},
   "outputs": [],
   "source": []
  },
  {
   "cell_type": "markdown",
   "metadata": {},
   "source": [
    "Always do the transformation last..."
   ]
  },
  {
   "cell_type": "markdown",
   "metadata": {},
   "source": [
    "# Even simpler comparison"
   ]
  },
  {
   "cell_type": "markdown",
   "metadata": {},
   "source": [
    "$$ A_i \\sim \\text{Binomial}(1, p_i) $$\n",
    "$$ \\text{logit}(p_i) = \\beta_0[i] + \\beta_1[i] $$\n",
    "$$ \\beta_0 \\sim \\text{Normal}(0, 1.5) \\tag{prior for female} $$\n",
    "$$ \\beta_1 \\sim \\text{Normal}(0, 1.5) \\tag{prior for male} $$"
   ]
  },
  {
   "cell_type": "code",
   "execution_count": null,
   "metadata": {},
   "outputs": [],
   "source": []
  },
  {
   "cell_type": "code",
   "execution_count": 95,
   "metadata": {},
   "outputs": [
    {
     "name": "stderr",
     "output_type": "stream",
     "text": [
      "Auto-assigning NUTS sampler...\n",
      "INFO:pymc3:Auto-assigning NUTS sampler...\n",
      "Initializing NUTS using jitter+adapt_diag...\n",
      "INFO:pymc3:Initializing NUTS using jitter+adapt_diag...\n",
      "Multiprocess sampling (4 chains in 4 jobs)\n",
      "INFO:pymc3:Multiprocess sampling (4 chains in 4 jobs)\n",
      "NUTS: [b1, b0]\n",
      "INFO:pymc3:NUTS: [b1, b0]\n",
      "Sampling 4 chains for 1_000 tune and 5_000 draw iterations (4_000 + 20_000 draws total) took 32 seconds.\n",
      "INFO:pymc3:Sampling 4 chains for 1_000 tune and 5_000 draw iterations (4_000 + 20_000 draws total) took 32 seconds.\n"
     ]
    },
    {
     "data": {
      "application/javascript": "\n            setTimeout(function() {\n                var nbb_cell_id = 95;\n                var nbb_unformatted_code = \"with pm.Model() as mIndicator:\\n\\n    # Priors\\n    b0 = pm.Normal(\\\"b0\\\", mu=0, sd=1)\\n    b1 = pm.Normal(\\\"b1\\\", mu=0, sd=1)\\n\\n    # linear model with logit link\\n    p = pm.Deterministic(\\\"p\\\", pm.math.invlogit(b0 * df_ucb_restructure['F'] + b1 * df_ucb_restructure['M']))\\n\\n    # likelihood\\n    admit = pm.Binomial(\\\"admit\\\", n=1, p=p, observed=df_ucb_restructure['A'])\\n\\n    # generate posterior and sample\\n    idata_mIndicator = pm.sample(draws=5000, tune=1000, return_inferencedata=False, progressbar=False, target_accept=0.95)\";\n                var nbb_formatted_code = \"with pm.Model() as mIndicator:\\n\\n    # Priors\\n    b0 = pm.Normal(\\\"b0\\\", mu=0, sd=1)\\n    b1 = pm.Normal(\\\"b1\\\", mu=0, sd=1)\\n\\n    # linear model with logit link\\n    p = pm.Deterministic(\\n        \\\"p\\\",\\n        pm.math.invlogit(b0 * df_ucb_restructure[\\\"F\\\"] + b1 * df_ucb_restructure[\\\"M\\\"]),\\n    )\\n\\n    # likelihood\\n    admit = pm.Binomial(\\\"admit\\\", n=1, p=p, observed=df_ucb_restructure[\\\"A\\\"])\\n\\n    # generate posterior and sample\\n    idata_mIndicator = pm.sample(\\n        draws=5000,\\n        tune=1000,\\n        return_inferencedata=False,\\n        progressbar=False,\\n        target_accept=0.95,\\n    )\";\n                var nbb_cells = Jupyter.notebook.get_cells();\n                for (var i = 0; i < nbb_cells.length; ++i) {\n                    if (nbb_cells[i].input_prompt_number == nbb_cell_id) {\n                        if (nbb_cells[i].get_text() == nbb_unformatted_code) {\n                             nbb_cells[i].set_text(nbb_formatted_code);\n                        }\n                        break;\n                    }\n                }\n            }, 500);\n            ",
      "text/plain": [
       "<IPython.core.display.Javascript object>"
      ]
     },
     "metadata": {},
     "output_type": "display_data"
    }
   ],
   "source": [
    "with pm.Model() as mIndicator:\n",
    "\n",
    "    # Priors\n",
    "    b0 = pm.Normal(\"b0\", mu=0, sd=1)\n",
    "    b1 = pm.Normal(\"b1\", mu=0, sd=1)\n",
    "\n",
    "    # linear model with logit link\n",
    "    p = pm.Deterministic(\"p\", pm.math.invlogit(b0 * df_ucb_restructure['F'] + b1 * df_ucb_restructure['M']))\n",
    "\n",
    "    # likelihood\n",
    "    admit = pm.Binomial(\"admit\", n=1, p=p, observed=df_ucb_restructure['A'])\n",
    "\n",
    "    # generate posterior and sample\n",
    "    idata_mIndicator = pm.sample(draws=5000, tune=1000, return_inferencedata=False, progressbar=False, target_accept=0.95)"
   ]
  },
  {
   "cell_type": "code",
   "execution_count": 98,
   "metadata": {},
   "outputs": [
    {
     "name": "stderr",
     "output_type": "stream",
     "text": [
      "/Users/blacar/opt/anaconda3/envs/stats_rethinking/lib/python3.8/site-packages/arviz/data/io_pymc3.py:88: FutureWarning: Using `from_pymc3` without the model will be deprecated in a future release. Not using the model will return less accurate and less useful results. Make sure you use the model argument or call from_pymc3 within a model context.\n",
      "  warnings.warn(\n"
     ]
    },
    {
     "data": {
      "text/html": [
       "<div>\n",
       "<style scoped>\n",
       "    .dataframe tbody tr th:only-of-type {\n",
       "        vertical-align: middle;\n",
       "    }\n",
       "\n",
       "    .dataframe tbody tr th {\n",
       "        vertical-align: top;\n",
       "    }\n",
       "\n",
       "    .dataframe thead th {\n",
       "        text-align: right;\n",
       "    }\n",
       "</style>\n",
       "<table border=\"1\" class=\"dataframe\">\n",
       "  <thead>\n",
       "    <tr style=\"text-align: right;\">\n",
       "      <th></th>\n",
       "      <th>mean</th>\n",
       "      <th>sd</th>\n",
       "      <th>hdi_5.5%</th>\n",
       "      <th>hdi_94.5%</th>\n",
       "      <th>mcse_mean</th>\n",
       "      <th>mcse_sd</th>\n",
       "      <th>ess_mean</th>\n",
       "      <th>ess_sd</th>\n",
       "      <th>ess_bulk</th>\n",
       "      <th>ess_tail</th>\n",
       "      <th>r_hat</th>\n",
       "    </tr>\n",
       "  </thead>\n",
       "  <tbody>\n",
       "    <tr>\n",
       "      <th>b0</th>\n",
       "      <td>-0.828</td>\n",
       "      <td>0.052</td>\n",
       "      <td>-0.914</td>\n",
       "      <td>-0.748</td>\n",
       "      <td>0.0</td>\n",
       "      <td>0.0</td>\n",
       "      <td>12547.0</td>\n",
       "      <td>12432.0</td>\n",
       "      <td>12539.0</td>\n",
       "      <td>10174.0</td>\n",
       "      <td>1.0</td>\n",
       "    </tr>\n",
       "    <tr>\n",
       "      <th>b1</th>\n",
       "      <td>-0.220</td>\n",
       "      <td>0.040</td>\n",
       "      <td>-0.286</td>\n",
       "      <td>-0.159</td>\n",
       "      <td>0.0</td>\n",
       "      <td>0.0</td>\n",
       "      <td>12150.0</td>\n",
       "      <td>11936.0</td>\n",
       "      <td>12130.0</td>\n",
       "      <td>11125.0</td>\n",
       "      <td>1.0</td>\n",
       "    </tr>\n",
       "  </tbody>\n",
       "</table>\n",
       "</div>"
      ],
      "text/plain": [
       "     mean     sd  hdi_5.5%  hdi_94.5%  mcse_mean  mcse_sd  ess_mean   ess_sd  \\\n",
       "b0 -0.828  0.052    -0.914     -0.748        0.0      0.0   12547.0  12432.0   \n",
       "b1 -0.220  0.040    -0.286     -0.159        0.0      0.0   12150.0  11936.0   \n",
       "\n",
       "    ess_bulk  ess_tail  r_hat  \n",
       "b0   12539.0   10174.0    1.0  \n",
       "b1   12130.0   11125.0    1.0  "
      ]
     },
     "execution_count": 98,
     "metadata": {},
     "output_type": "execute_result"
    },
    {
     "data": {
      "application/javascript": "\n            setTimeout(function() {\n                var nbb_cell_id = 98;\n                var nbb_unformatted_code = \"az.summary(idata_mIndicator, var_names=['b0', 'b1'])\";\n                var nbb_formatted_code = \"az.summary(idata_mIndicator, var_names=[\\\"b0\\\", \\\"b1\\\"])\";\n                var nbb_cells = Jupyter.notebook.get_cells();\n                for (var i = 0; i < nbb_cells.length; ++i) {\n                    if (nbb_cells[i].input_prompt_number == nbb_cell_id) {\n                        if (nbb_cells[i].get_text() == nbb_unformatted_code) {\n                             nbb_cells[i].set_text(nbb_formatted_code);\n                        }\n                        break;\n                    }\n                }\n            }, 500);\n            ",
      "text/plain": [
       "<IPython.core.display.Javascript object>"
      ]
     },
     "metadata": {},
     "output_type": "display_data"
    }
   ],
   "source": []
  },
  {
   "cell_type": "code",
   "execution_count": 99,
   "metadata": {},
   "outputs": [
    {
     "name": "stderr",
     "output_type": "stream",
     "text": [
      "Auto-assigning NUTS sampler...\n",
      "INFO:pymc3:Auto-assigning NUTS sampler...\n",
      "Initializing NUTS using jitter+adapt_diag...\n",
      "INFO:pymc3:Initializing NUTS using jitter+adapt_diag...\n",
      "Multiprocess sampling (4 chains in 4 jobs)\n",
      "INFO:pymc3:Multiprocess sampling (4 chains in 4 jobs)\n",
      "NUTS: [a]\n",
      "INFO:pymc3:NUTS: [a]\n",
      "Sampling 4 chains for 1_000 tune and 5_000 draw iterations (4_000 + 20_000 draws total) took 19 seconds.\n",
      "INFO:pymc3:Sampling 4 chains for 1_000 tune and 5_000 draw iterations (4_000 + 20_000 draws total) took 19 seconds.\n"
     ]
    },
    {
     "data": {
      "application/javascript": "\n            setTimeout(function() {\n                var nbb_cell_id = 99;\n                var nbb_unformatted_code = \"# book example, pg 343)\\nwith pm.Model() as mIndex:\\n\\n    # Priors\\n    a = pm.Normal(\\\"a\\\", mu=0, sd=1, shape=n_gid)\\n\\n    # linear model with logit link\\n    p = pm.Deterministic(\\\"p\\\", pm.math.invlogit(a[df_ucb[\\\"gender_code\\\"]]))\\n\\n    # likelihood\\n    admit = pm.Binomial(\\\"admit\\\", n=df_ucb['applications'], p=p, observed=df_ucb['admit'])\\n\\n    # generate posterior and sample\\n    idata_mIndex = pm.sample(draws=5000, tune=1000, return_inferencedata=False, progressbar=False)\";\n                var nbb_formatted_code = \"# book example, pg 343)\\nwith pm.Model() as mIndex:\\n\\n    # Priors\\n    a = pm.Normal(\\\"a\\\", mu=0, sd=1, shape=n_gid)\\n\\n    # linear model with logit link\\n    p = pm.Deterministic(\\\"p\\\", pm.math.invlogit(a[df_ucb[\\\"gender_code\\\"]]))\\n\\n    # likelihood\\n    admit = pm.Binomial(\\n        \\\"admit\\\", n=df_ucb[\\\"applications\\\"], p=p, observed=df_ucb[\\\"admit\\\"]\\n    )\\n\\n    # generate posterior and sample\\n    idata_mIndex = pm.sample(\\n        draws=5000, tune=1000, return_inferencedata=False, progressbar=False\\n    )\";\n                var nbb_cells = Jupyter.notebook.get_cells();\n                for (var i = 0; i < nbb_cells.length; ++i) {\n                    if (nbb_cells[i].input_prompt_number == nbb_cell_id) {\n                        if (nbb_cells[i].get_text() == nbb_unformatted_code) {\n                             nbb_cells[i].set_text(nbb_formatted_code);\n                        }\n                        break;\n                    }\n                }\n            }, 500);\n            ",
      "text/plain": [
       "<IPython.core.display.Javascript object>"
      ]
     },
     "metadata": {},
     "output_type": "display_data"
    }
   ],
   "source": [
    "# book example, pg 343)\n",
    "with pm.Model() as mIndex:\n",
    "\n",
    "    # Priors\n",
    "    a = pm.Normal(\"a\", mu=0, sd=1, shape=n_gid)\n",
    "\n",
    "    # linear model with logit link\n",
    "    p = pm.Deterministic(\"p\", pm.math.invlogit(a[df_ucb[\"gender_code\"]]))\n",
    "\n",
    "    # likelihood\n",
    "    admit = pm.Binomial(\"admit\", n=df_ucb['applications'], p=p, observed=df_ucb['admit'])\n",
    "\n",
    "    # generate posterior and sample\n",
    "    idata_mIndex = pm.sample(draws=5000, tune=1000, return_inferencedata=False, progressbar=False)"
   ]
  },
  {
   "cell_type": "code",
   "execution_count": 101,
   "metadata": {},
   "outputs": [
    {
     "name": "stderr",
     "output_type": "stream",
     "text": [
      "/Users/blacar/opt/anaconda3/envs/stats_rethinking/lib/python3.8/site-packages/arviz/data/io_pymc3.py:88: FutureWarning: Using `from_pymc3` without the model will be deprecated in a future release. Not using the model will return less accurate and less useful results. Make sure you use the model argument or call from_pymc3 within a model context.\n",
      "  warnings.warn(\n"
     ]
    },
    {
     "data": {
      "text/html": [
       "<div>\n",
       "<style scoped>\n",
       "    .dataframe tbody tr th:only-of-type {\n",
       "        vertical-align: middle;\n",
       "    }\n",
       "\n",
       "    .dataframe tbody tr th {\n",
       "        vertical-align: top;\n",
       "    }\n",
       "\n",
       "    .dataframe thead th {\n",
       "        text-align: right;\n",
       "    }\n",
       "</style>\n",
       "<table border=\"1\" class=\"dataframe\">\n",
       "  <thead>\n",
       "    <tr style=\"text-align: right;\">\n",
       "      <th></th>\n",
       "      <th>mean</th>\n",
       "      <th>sd</th>\n",
       "      <th>hdi_5.5%</th>\n",
       "      <th>hdi_94.5%</th>\n",
       "      <th>mcse_mean</th>\n",
       "      <th>mcse_sd</th>\n",
       "      <th>ess_mean</th>\n",
       "      <th>ess_sd</th>\n",
       "      <th>ess_bulk</th>\n",
       "      <th>ess_tail</th>\n",
       "      <th>r_hat</th>\n",
       "    </tr>\n",
       "  </thead>\n",
       "  <tbody>\n",
       "    <tr>\n",
       "      <th>b0</th>\n",
       "      <td>-0.828</td>\n",
       "      <td>0.052</td>\n",
       "      <td>-0.914</td>\n",
       "      <td>-0.748</td>\n",
       "      <td>0.0</td>\n",
       "      <td>0.0</td>\n",
       "      <td>12547.0</td>\n",
       "      <td>12432.0</td>\n",
       "      <td>12539.0</td>\n",
       "      <td>10174.0</td>\n",
       "      <td>1.0</td>\n",
       "    </tr>\n",
       "    <tr>\n",
       "      <th>b1</th>\n",
       "      <td>-0.220</td>\n",
       "      <td>0.040</td>\n",
       "      <td>-0.286</td>\n",
       "      <td>-0.159</td>\n",
       "      <td>0.0</td>\n",
       "      <td>0.0</td>\n",
       "      <td>12150.0</td>\n",
       "      <td>11936.0</td>\n",
       "      <td>12130.0</td>\n",
       "      <td>11125.0</td>\n",
       "      <td>1.0</td>\n",
       "    </tr>\n",
       "  </tbody>\n",
       "</table>\n",
       "</div>"
      ],
      "text/plain": [
       "     mean     sd  hdi_5.5%  hdi_94.5%  mcse_mean  mcse_sd  ess_mean   ess_sd  \\\n",
       "b0 -0.828  0.052    -0.914     -0.748        0.0      0.0   12547.0  12432.0   \n",
       "b1 -0.220  0.040    -0.286     -0.159        0.0      0.0   12150.0  11936.0   \n",
       "\n",
       "    ess_bulk  ess_tail  r_hat  \n",
       "b0   12539.0   10174.0    1.0  \n",
       "b1   12130.0   11125.0    1.0  "
      ]
     },
     "execution_count": 101,
     "metadata": {},
     "output_type": "execute_result"
    },
    {
     "data": {
      "application/javascript": "\n            setTimeout(function() {\n                var nbb_cell_id = 101;\n                var nbb_unformatted_code = \"az.summary(idata_mIndicator, var_names=['b0', 'b1'])\";\n                var nbb_formatted_code = \"az.summary(idata_mIndicator, var_names=[\\\"b0\\\", \\\"b1\\\"])\";\n                var nbb_cells = Jupyter.notebook.get_cells();\n                for (var i = 0; i < nbb_cells.length; ++i) {\n                    if (nbb_cells[i].input_prompt_number == nbb_cell_id) {\n                        if (nbb_cells[i].get_text() == nbb_unformatted_code) {\n                             nbb_cells[i].set_text(nbb_formatted_code);\n                        }\n                        break;\n                    }\n                }\n            }, 500);\n            ",
      "text/plain": [
       "<IPython.core.display.Javascript object>"
      ]
     },
     "metadata": {},
     "output_type": "display_data"
    }
   ],
   "source": [
    "az.summary(idata_mIndicator, var_names=['b0', 'b1'])"
   ]
  },
  {
   "cell_type": "code",
   "execution_count": 100,
   "metadata": {},
   "outputs": [
    {
     "name": "stderr",
     "output_type": "stream",
     "text": [
      "/Users/blacar/opt/anaconda3/envs/stats_rethinking/lib/python3.8/site-packages/arviz/data/io_pymc3.py:88: FutureWarning: Using `from_pymc3` without the model will be deprecated in a future release. Not using the model will return less accurate and less useful results. Make sure you use the model argument or call from_pymc3 within a model context.\n",
      "  warnings.warn(\n"
     ]
    },
    {
     "data": {
      "text/html": [
       "<div>\n",
       "<style scoped>\n",
       "    .dataframe tbody tr th:only-of-type {\n",
       "        vertical-align: middle;\n",
       "    }\n",
       "\n",
       "    .dataframe tbody tr th {\n",
       "        vertical-align: top;\n",
       "    }\n",
       "\n",
       "    .dataframe thead th {\n",
       "        text-align: right;\n",
       "    }\n",
       "</style>\n",
       "<table border=\"1\" class=\"dataframe\">\n",
       "  <thead>\n",
       "    <tr style=\"text-align: right;\">\n",
       "      <th></th>\n",
       "      <th>mean</th>\n",
       "      <th>sd</th>\n",
       "      <th>hdi_5.5%</th>\n",
       "      <th>hdi_94.5%</th>\n",
       "      <th>mcse_mean</th>\n",
       "      <th>mcse_sd</th>\n",
       "      <th>ess_mean</th>\n",
       "      <th>ess_sd</th>\n",
       "      <th>ess_bulk</th>\n",
       "      <th>ess_tail</th>\n",
       "      <th>r_hat</th>\n",
       "    </tr>\n",
       "  </thead>\n",
       "  <tbody>\n",
       "    <tr>\n",
       "      <th>a[0]</th>\n",
       "      <td>-0.829</td>\n",
       "      <td>0.051</td>\n",
       "      <td>-0.912</td>\n",
       "      <td>-0.749</td>\n",
       "      <td>0.0</td>\n",
       "      <td>0.0</td>\n",
       "      <td>17688.0</td>\n",
       "      <td>17648.0</td>\n",
       "      <td>17699.0</td>\n",
       "      <td>13560.0</td>\n",
       "      <td>1.0</td>\n",
       "    </tr>\n",
       "    <tr>\n",
       "      <th>a[1]</th>\n",
       "      <td>-0.219</td>\n",
       "      <td>0.039</td>\n",
       "      <td>-0.283</td>\n",
       "      <td>-0.160</td>\n",
       "      <td>0.0</td>\n",
       "      <td>0.0</td>\n",
       "      <td>17612.0</td>\n",
       "      <td>17446.0</td>\n",
       "      <td>17617.0</td>\n",
       "      <td>14453.0</td>\n",
       "      <td>1.0</td>\n",
       "    </tr>\n",
       "  </tbody>\n",
       "</table>\n",
       "</div>"
      ],
      "text/plain": [
       "       mean     sd  hdi_5.5%  hdi_94.5%  mcse_mean  mcse_sd  ess_mean  \\\n",
       "a[0] -0.829  0.051    -0.912     -0.749        0.0      0.0   17688.0   \n",
       "a[1] -0.219  0.039    -0.283     -0.160        0.0      0.0   17612.0   \n",
       "\n",
       "       ess_sd  ess_bulk  ess_tail  r_hat  \n",
       "a[0]  17648.0   17699.0   13560.0    1.0  \n",
       "a[1]  17446.0   17617.0   14453.0    1.0  "
      ]
     },
     "execution_count": 100,
     "metadata": {},
     "output_type": "execute_result"
    },
    {
     "data": {
      "application/javascript": "\n            setTimeout(function() {\n                var nbb_cell_id = 100;\n                var nbb_unformatted_code = \"az.summary(idata_mIndex, var_names='a')\";\n                var nbb_formatted_code = \"az.summary(idata_mIndex, var_names=\\\"a\\\")\";\n                var nbb_cells = Jupyter.notebook.get_cells();\n                for (var i = 0; i < nbb_cells.length; ++i) {\n                    if (nbb_cells[i].input_prompt_number == nbb_cell_id) {\n                        if (nbb_cells[i].get_text() == nbb_unformatted_code) {\n                             nbb_cells[i].set_text(nbb_formatted_code);\n                        }\n                        break;\n                    }\n                }\n            }, 500);\n            ",
      "text/plain": [
       "<IPython.core.display.Javascript object>"
      ]
     },
     "metadata": {},
     "output_type": "display_data"
    }
   ],
   "source": [
    "az.summary(idata_mIndex, var_names='a')"
   ]
  },
  {
   "cell_type": "code",
   "execution_count": null,
   "metadata": {},
   "outputs": [],
   "source": []
  },
  {
   "cell_type": "markdown",
   "metadata": {},
   "source": [
    "# Simulated data"
   ]
  },
  {
   "cell_type": "markdown",
   "metadata": {},
   "source": [
    "```\n",
    "# generative model, basic mediator scenario\n",
    "N <- 1000 # number of applicants\n",
    "# even gender distribution\n",
    "G <- sample( 1:2 , size=N , replace=TRUE )\n",
    "# gender 1 tends to apply to department 1, 2 to 2\n",
    "D <- rbern( N , ifelse( G==1 , 0.3 , 0.8 ) ) + 1\n",
    "# matrix of acceptance rates [dept,gender]\n",
    "accept_rate <- matrix( c(0.05,0.2,0.1,0.3) , nrow=2 )\n",
    "# simulate acceptance\n",
    "A <- rbern( N , accept_rate[D,G] )\n",
    "```"
   ]
  },
  {
   "cell_type": "code",
   "execution_count": 238,
   "metadata": {},
   "outputs": [
    {
     "data": {
      "application/javascript": "\n            setTimeout(function() {\n                var nbb_cell_id = 238;\n                var nbb_unformatted_code = \"N = 1000\\nG = stats.bernoulli(p=0.5).rvs(size=N)\\nD = stats.bernoulli(p=np.where(G==1, 0.3, 0.8)).rvs(size=N)\\naccept_rate = np.array([[0.05,0.1],[0.2,0.3]])\\nA = stats.bernoulli(p=accept_rate[D,G]).rvs(size=N)\";\n                var nbb_formatted_code = \"N = 1000\\nG = stats.bernoulli(p=0.5).rvs(size=N)\\nD = stats.bernoulli(p=np.where(G == 1, 0.3, 0.8)).rvs(size=N)\\naccept_rate = np.array([[0.05, 0.1], [0.2, 0.3]])\\nA = stats.bernoulli(p=accept_rate[D, G]).rvs(size=N)\";\n                var nbb_cells = Jupyter.notebook.get_cells();\n                for (var i = 0; i < nbb_cells.length; ++i) {\n                    if (nbb_cells[i].input_prompt_number == nbb_cell_id) {\n                        if (nbb_cells[i].get_text() == nbb_unformatted_code) {\n                             nbb_cells[i].set_text(nbb_formatted_code);\n                        }\n                        break;\n                    }\n                }\n            }, 500);\n            ",
      "text/plain": [
       "<IPython.core.display.Javascript object>"
      ]
     },
     "metadata": {},
     "output_type": "display_data"
    }
   ],
   "source": [
    "N = 1000\n",
    "G = stats.bernoulli(p=0.5).rvs(size=N)\n",
    "D = stats.bernoulli(p=np.where(G==1, 0.3, 0.8)).rvs(size=N)\n",
    "accept_rate = np.array([[0.05,0.1],[0.2,0.3]])\n",
    "A = stats.bernoulli(p=accept_rate[D,G]).rvs(size=N)"
   ]
  },
  {
   "cell_type": "code",
   "execution_count": 239,
   "metadata": {},
   "outputs": [
    {
     "data": {
      "text/plain": [
       "(501, 499)"
      ]
     },
     "execution_count": 239,
     "metadata": {},
     "output_type": "execute_result"
    },
    {
     "data": {
      "application/javascript": "\n            setTimeout(function() {\n                var nbb_cell_id = 239;\n                var nbb_unformatted_code = \"sum(G==0), sum(G==1)\";\n                var nbb_formatted_code = \"sum(G == 0), sum(G == 1)\";\n                var nbb_cells = Jupyter.notebook.get_cells();\n                for (var i = 0; i < nbb_cells.length; ++i) {\n                    if (nbb_cells[i].input_prompt_number == nbb_cell_id) {\n                        if (nbb_cells[i].get_text() == nbb_unformatted_code) {\n                             nbb_cells[i].set_text(nbb_formatted_code);\n                        }\n                        break;\n                    }\n                }\n            }, 500);\n            ",
      "text/plain": [
       "<IPython.core.display.Javascript object>"
      ]
     },
     "metadata": {},
     "output_type": "display_data"
    }
   ],
   "source": [
    "sum(G==0), sum(G==1)"
   ]
  },
  {
   "cell_type": "code",
   "execution_count": 240,
   "metadata": {},
   "outputs": [
    {
     "data": {
      "text/plain": [
       "(439, 561)"
      ]
     },
     "execution_count": 240,
     "metadata": {},
     "output_type": "execute_result"
    },
    {
     "data": {
      "application/javascript": "\n            setTimeout(function() {\n                var nbb_cell_id = 240;\n                var nbb_unformatted_code = \"sum(D==0), sum(D==1)\";\n                var nbb_formatted_code = \"sum(D == 0), sum(D == 1)\";\n                var nbb_cells = Jupyter.notebook.get_cells();\n                for (var i = 0; i < nbb_cells.length; ++i) {\n                    if (nbb_cells[i].input_prompt_number == nbb_cell_id) {\n                        if (nbb_cells[i].get_text() == nbb_unformatted_code) {\n                             nbb_cells[i].set_text(nbb_formatted_code);\n                        }\n                        break;\n                    }\n                }\n            }, 500);\n            ",
      "text/plain": [
       "<IPython.core.display.Javascript object>"
      ]
     },
     "metadata": {},
     "output_type": "display_data"
    }
   ],
   "source": [
    "sum(D==0), sum(D==1)"
   ]
  },
  {
   "cell_type": "code",
   "execution_count": 241,
   "metadata": {},
   "outputs": [
    {
     "data": {
      "text/plain": [
       "array([[0.05, 0.1 ],\n",
       "       [0.2 , 0.3 ]])"
      ]
     },
     "execution_count": 241,
     "metadata": {},
     "output_type": "execute_result"
    },
    {
     "data": {
      "application/javascript": "\n            setTimeout(function() {\n                var nbb_cell_id = 241;\n                var nbb_unformatted_code = \"accept_rate\";\n                var nbb_formatted_code = \"accept_rate\";\n                var nbb_cells = Jupyter.notebook.get_cells();\n                for (var i = 0; i < nbb_cells.length; ++i) {\n                    if (nbb_cells[i].input_prompt_number == nbb_cell_id) {\n                        if (nbb_cells[i].get_text() == nbb_unformatted_code) {\n                             nbb_cells[i].set_text(nbb_formatted_code);\n                        }\n                        break;\n                    }\n                }\n            }, 500);\n            ",
      "text/plain": [
       "<IPython.core.display.Javascript object>"
      ]
     },
     "metadata": {},
     "output_type": "display_data"
    }
   ],
   "source": [
    "accept_rate"
   ]
  },
  {
   "cell_type": "code",
   "execution_count": 245,
   "metadata": {},
   "outputs": [
    {
     "data": {
      "text/html": [
       "<div>\n",
       "<style scoped>\n",
       "    .dataframe tbody tr th:only-of-type {\n",
       "        vertical-align: middle;\n",
       "    }\n",
       "\n",
       "    .dataframe tbody tr th {\n",
       "        vertical-align: top;\n",
       "    }\n",
       "\n",
       "    .dataframe thead th {\n",
       "        text-align: right;\n",
       "    }\n",
       "</style>\n",
       "<table border=\"1\" class=\"dataframe\">\n",
       "  <thead>\n",
       "    <tr style=\"text-align: right;\">\n",
       "      <th></th>\n",
       "      <th>N</th>\n",
       "      <th>G</th>\n",
       "      <th>D</th>\n",
       "      <th>A</th>\n",
       "    </tr>\n",
       "  </thead>\n",
       "  <tbody>\n",
       "    <tr>\n",
       "      <th>0</th>\n",
       "      <td>1</td>\n",
       "      <td>0</td>\n",
       "      <td>1</td>\n",
       "      <td>0</td>\n",
       "    </tr>\n",
       "    <tr>\n",
       "      <th>1</th>\n",
       "      <td>1</td>\n",
       "      <td>0</td>\n",
       "      <td>1</td>\n",
       "      <td>0</td>\n",
       "    </tr>\n",
       "    <tr>\n",
       "      <th>2</th>\n",
       "      <td>1</td>\n",
       "      <td>1</td>\n",
       "      <td>0</td>\n",
       "      <td>0</td>\n",
       "    </tr>\n",
       "    <tr>\n",
       "      <th>3</th>\n",
       "      <td>1</td>\n",
       "      <td>1</td>\n",
       "      <td>0</td>\n",
       "      <td>0</td>\n",
       "    </tr>\n",
       "    <tr>\n",
       "      <th>4</th>\n",
       "      <td>1</td>\n",
       "      <td>1</td>\n",
       "      <td>1</td>\n",
       "      <td>0</td>\n",
       "    </tr>\n",
       "  </tbody>\n",
       "</table>\n",
       "</div>"
      ],
      "text/plain": [
       "   N  G  D  A\n",
       "0  1  0  1  0\n",
       "1  1  0  1  0\n",
       "2  1  1  0  0\n",
       "3  1  1  0  0\n",
       "4  1  1  1  0"
      ]
     },
     "execution_count": 245,
     "metadata": {},
     "output_type": "execute_result"
    },
    {
     "data": {
      "application/javascript": "\n            setTimeout(function() {\n                var nbb_cell_id = 245;\n                var nbb_unformatted_code = \"df_sim = pd.DataFrame()\\ndf_sim['N'] = [1] * N\\ndf_sim['G'] = G\\ndf_sim['D'] = D\\ndf_sim['A'] = A\\ndf_sim.head()\";\n                var nbb_formatted_code = \"df_sim = pd.DataFrame()\\ndf_sim[\\\"N\\\"] = [1] * N\\ndf_sim[\\\"G\\\"] = G\\ndf_sim[\\\"D\\\"] = D\\ndf_sim[\\\"A\\\"] = A\\ndf_sim.head()\";\n                var nbb_cells = Jupyter.notebook.get_cells();\n                for (var i = 0; i < nbb_cells.length; ++i) {\n                    if (nbb_cells[i].input_prompt_number == nbb_cell_id) {\n                        if (nbb_cells[i].get_text() == nbb_unformatted_code) {\n                             nbb_cells[i].set_text(nbb_formatted_code);\n                        }\n                        break;\n                    }\n                }\n            }, 500);\n            ",
      "text/plain": [
       "<IPython.core.display.Javascript object>"
      ]
     },
     "metadata": {},
     "output_type": "display_data"
    }
   ],
   "source": [
    "df_sim = pd.DataFrame()\n",
    "df_sim['N'] = [1] * N\n",
    "df_sim['G'] = G\n",
    "df_sim['D'] = D\n",
    "df_sim['A'] = A\n",
    "df_sim.head()"
   ]
  },
  {
   "cell_type": "code",
   "execution_count": 334,
   "metadata": {},
   "outputs": [
    {
     "data": {
      "text/html": [
       "<div>\n",
       "<style scoped>\n",
       "    .dataframe tbody tr th:only-of-type {\n",
       "        vertical-align: middle;\n",
       "    }\n",
       "\n",
       "    .dataframe tbody tr th {\n",
       "        vertical-align: top;\n",
       "    }\n",
       "\n",
       "    .dataframe thead th {\n",
       "        text-align: right;\n",
       "    }\n",
       "</style>\n",
       "<table border=\"1\" class=\"dataframe\">\n",
       "  <thead>\n",
       "    <tr style=\"text-align: right;\">\n",
       "      <th></th>\n",
       "      <th></th>\n",
       "      <th>N</th>\n",
       "      <th>A</th>\n",
       "    </tr>\n",
       "    <tr>\n",
       "      <th>G</th>\n",
       "      <th>D</th>\n",
       "      <th></th>\n",
       "      <th></th>\n",
       "    </tr>\n",
       "  </thead>\n",
       "  <tbody>\n",
       "    <tr>\n",
       "      <th rowspan=\"2\" valign=\"top\">0</th>\n",
       "      <th>0</th>\n",
       "      <td>1.0</td>\n",
       "      <td>0.077670</td>\n",
       "    </tr>\n",
       "    <tr>\n",
       "      <th>1</th>\n",
       "      <td>1.0</td>\n",
       "      <td>0.226131</td>\n",
       "    </tr>\n",
       "    <tr>\n",
       "      <th rowspan=\"2\" valign=\"top\">1</th>\n",
       "      <th>0</th>\n",
       "      <td>1.0</td>\n",
       "      <td>0.116071</td>\n",
       "    </tr>\n",
       "    <tr>\n",
       "      <th>1</th>\n",
       "      <td>1.0</td>\n",
       "      <td>0.276074</td>\n",
       "    </tr>\n",
       "  </tbody>\n",
       "</table>\n",
       "</div>"
      ],
      "text/plain": [
       "       N         A\n",
       "G D               \n",
       "0 0  1.0  0.077670\n",
       "  1  1.0  0.226131\n",
       "1 0  1.0  0.116071\n",
       "  1  1.0  0.276074"
      ]
     },
     "execution_count": 334,
     "metadata": {},
     "output_type": "execute_result"
    },
    {
     "data": {
      "application/javascript": "\n            setTimeout(function() {\n                var nbb_cell_id = 334;\n                var nbb_unformatted_code = \"df_sim.groupby(['G', 'D']).mean()\";\n                var nbb_formatted_code = \"df_sim.groupby([\\\"G\\\", \\\"D\\\"]).mean()\";\n                var nbb_cells = Jupyter.notebook.get_cells();\n                for (var i = 0; i < nbb_cells.length; ++i) {\n                    if (nbb_cells[i].input_prompt_number == nbb_cell_id) {\n                        if (nbb_cells[i].get_text() == nbb_unformatted_code) {\n                             nbb_cells[i].set_text(nbb_formatted_code);\n                        }\n                        break;\n                    }\n                }\n            }, 500);\n            ",
      "text/plain": [
       "<IPython.core.display.Javascript object>"
      ]
     },
     "metadata": {},
     "output_type": "display_data"
    }
   ],
   "source": [
    "df_sim.groupby(['G', 'D']).mean()"
   ]
  },
  {
   "cell_type": "code",
   "execution_count": 336,
   "metadata": {},
   "outputs": [
    {
     "data": {
      "text/html": [
       "<div>\n",
       "<style scoped>\n",
       "    .dataframe tbody tr th:only-of-type {\n",
       "        vertical-align: middle;\n",
       "    }\n",
       "\n",
       "    .dataframe tbody tr th {\n",
       "        vertical-align: top;\n",
       "    }\n",
       "\n",
       "    .dataframe thead th {\n",
       "        text-align: right;\n",
       "    }\n",
       "</style>\n",
       "<table border=\"1\" class=\"dataframe\">\n",
       "  <thead>\n",
       "    <tr style=\"text-align: right;\">\n",
       "      <th></th>\n",
       "      <th></th>\n",
       "      <th>N</th>\n",
       "      <th>A</th>\n",
       "    </tr>\n",
       "    <tr>\n",
       "      <th>G</th>\n",
       "      <th>D</th>\n",
       "      <th></th>\n",
       "      <th></th>\n",
       "    </tr>\n",
       "  </thead>\n",
       "  <tbody>\n",
       "    <tr>\n",
       "      <th rowspan=\"2\" valign=\"top\">0</th>\n",
       "      <th>0</th>\n",
       "      <td>103</td>\n",
       "      <td>103</td>\n",
       "    </tr>\n",
       "    <tr>\n",
       "      <th>1</th>\n",
       "      <td>398</td>\n",
       "      <td>398</td>\n",
       "    </tr>\n",
       "    <tr>\n",
       "      <th rowspan=\"2\" valign=\"top\">1</th>\n",
       "      <th>0</th>\n",
       "      <td>336</td>\n",
       "      <td>336</td>\n",
       "    </tr>\n",
       "    <tr>\n",
       "      <th>1</th>\n",
       "      <td>163</td>\n",
       "      <td>163</td>\n",
       "    </tr>\n",
       "  </tbody>\n",
       "</table>\n",
       "</div>"
      ],
      "text/plain": [
       "       N    A\n",
       "G D          \n",
       "0 0  103  103\n",
       "  1  398  398\n",
       "1 0  336  336\n",
       "  1  163  163"
      ]
     },
     "execution_count": 336,
     "metadata": {},
     "output_type": "execute_result"
    },
    {
     "data": {
      "application/javascript": "\n            setTimeout(function() {\n                var nbb_cell_id = 336;\n                var nbb_unformatted_code = \"df_sim.groupby(['G', 'D']).count()\";\n                var nbb_formatted_code = \"df_sim.groupby([\\\"G\\\", \\\"D\\\"]).count()\";\n                var nbb_cells = Jupyter.notebook.get_cells();\n                for (var i = 0; i < nbb_cells.length; ++i) {\n                    if (nbb_cells[i].input_prompt_number == nbb_cell_id) {\n                        if (nbb_cells[i].get_text() == nbb_unformatted_code) {\n                             nbb_cells[i].set_text(nbb_formatted_code);\n                        }\n                        break;\n                    }\n                }\n            }, 500);\n            ",
      "text/plain": [
       "<IPython.core.display.Javascript object>"
      ]
     },
     "metadata": {},
     "output_type": "display_data"
    }
   ],
   "source": [
    "df_sim.groupby(['G', 'D']).count()"
   ]
  },
  {
   "cell_type": "code",
   "execution_count": 337,
   "metadata": {},
   "outputs": [
    {
     "data": {
      "text/plain": [
       "(G\n",
       " 0    0.195609\n",
       " 1    0.168337\n",
       " Name: A, dtype: float64,\n",
       " G\n",
       " 0    501\n",
       " 1    499\n",
       " Name: A, dtype: int64)"
      ]
     },
     "execution_count": 337,
     "metadata": {},
     "output_type": "execute_result"
    },
    {
     "data": {
      "application/javascript": "\n            setTimeout(function() {\n                var nbb_cell_id = 337;\n                var nbb_unformatted_code = \"df_sim.groupby(['G']).mean()['A'], df_sim.groupby(['G']).count()['A']\";\n                var nbb_formatted_code = \"df_sim.groupby([\\\"G\\\"]).mean()[\\\"A\\\"], df_sim.groupby([\\\"G\\\"]).count()[\\\"A\\\"]\";\n                var nbb_cells = Jupyter.notebook.get_cells();\n                for (var i = 0; i < nbb_cells.length; ++i) {\n                    if (nbb_cells[i].input_prompt_number == nbb_cell_id) {\n                        if (nbb_cells[i].get_text() == nbb_unformatted_code) {\n                             nbb_cells[i].set_text(nbb_formatted_code);\n                        }\n                        break;\n                    }\n                }\n            }, 500);\n            ",
      "text/plain": [
       "<IPython.core.display.Javascript object>"
      ]
     },
     "metadata": {},
     "output_type": "display_data"
    }
   ],
   "source": [
    "df_sim.groupby(['G']).mean()['A'], df_sim.groupby(['G']).count()['A']"
   ]
  },
  {
   "cell_type": "code",
   "execution_count": 333,
   "metadata": {},
   "outputs": [
    {
     "data": {
      "text/plain": [
       "a[0,0]    0.095695\n",
       "a[0,1]    0.228641\n",
       "a[1,0]    0.120575\n",
       "a[1,1]    0.280698\n",
       "Name: mean, dtype: float64"
      ]
     },
     "execution_count": 333,
     "metadata": {},
     "output_type": "execute_result"
    },
    {
     "data": {
      "application/javascript": "\n            setTimeout(function() {\n                var nbb_cell_id = 333;\n                var nbb_unformatted_code = \"expit(df_summary_m2['mean'])\";\n                var nbb_formatted_code = \"expit(df_summary_m2[\\\"mean\\\"])\";\n                var nbb_cells = Jupyter.notebook.get_cells();\n                for (var i = 0; i < nbb_cells.length; ++i) {\n                    if (nbb_cells[i].input_prompt_number == nbb_cell_id) {\n                        if (nbb_cells[i].get_text() == nbb_unformatted_code) {\n                             nbb_cells[i].set_text(nbb_formatted_code);\n                        }\n                        break;\n                    }\n                }\n            }, 500);\n            ",
      "text/plain": [
       "<IPython.core.display.Javascript object>"
      ]
     },
     "metadata": {},
     "output_type": "display_data"
    }
   ],
   "source": [
    "expit(df_summary_m2['mean'])"
   ]
  },
  {
   "cell_type": "markdown",
   "metadata": {},
   "source": [
    "### Interactive model"
   ]
  },
  {
   "cell_type": "code",
   "execution_count": 249,
   "metadata": {},
   "outputs": [
    {
     "name": "stderr",
     "output_type": "stream",
     "text": [
      "Auto-assigning NUTS sampler...\n",
      "INFO:pymc3:Auto-assigning NUTS sampler...\n",
      "Initializing NUTS using jitter+adapt_diag...\n",
      "INFO:pymc3:Initializing NUTS using jitter+adapt_diag...\n",
      "Multiprocess sampling (4 chains in 4 jobs)\n",
      "INFO:pymc3:Multiprocess sampling (4 chains in 4 jobs)\n",
      "NUTS: [a]\n",
      "INFO:pymc3:NUTS: [a]\n",
      "Sampling 4 chains for 1_000 tune and 5_000 draw iterations (4_000 + 20_000 draws total) took 26 seconds.\n",
      "INFO:pymc3:Sampling 4 chains for 1_000 tune and 5_000 draw iterations (4_000 + 20_000 draws total) took 26 seconds.\n"
     ]
    },
    {
     "data": {
      "application/javascript": "\n            setTimeout(function() {\n                var nbb_cell_id = 249;\n                var nbb_unformatted_code = \"# example, lecture 9, slide 56\\n\\nwith pm.Model() as m2:\\n\\n    # Priors\\n    a = pm.Normal(\\\"a\\\", mu=0, sd=1, shape=(2, 2))\\n\\n    # linear model with logit link\\n    p = pm.math.invlogit(a[G,D])\\n\\n    # likelihood\\n    admit = pm.Binomial(\\\"admit\\\", n=1, p=p, observed=A)\\n\\n    # generate posterior and sample\\n    trace_m2 = pm.sample(draws=5000, tune=1000, return_inferencedata=False, progressbar=False, target_accept=0.95)\";\n                var nbb_formatted_code = \"# example, lecture 9, slide 56\\n\\nwith pm.Model() as m2:\\n\\n    # Priors\\n    a = pm.Normal(\\\"a\\\", mu=0, sd=1, shape=(2, 2))\\n\\n    # linear model with logit link\\n    p = pm.math.invlogit(a[G, D])\\n\\n    # likelihood\\n    admit = pm.Binomial(\\\"admit\\\", n=1, p=p, observed=A)\\n\\n    # generate posterior and sample\\n    trace_m2 = pm.sample(\\n        draws=5000,\\n        tune=1000,\\n        return_inferencedata=False,\\n        progressbar=False,\\n        target_accept=0.95,\\n    )\";\n                var nbb_cells = Jupyter.notebook.get_cells();\n                for (var i = 0; i < nbb_cells.length; ++i) {\n                    if (nbb_cells[i].input_prompt_number == nbb_cell_id) {\n                        if (nbb_cells[i].get_text() == nbb_unformatted_code) {\n                             nbb_cells[i].set_text(nbb_formatted_code);\n                        }\n                        break;\n                    }\n                }\n            }, 500);\n            ",
      "text/plain": [
       "<IPython.core.display.Javascript object>"
      ]
     },
     "metadata": {},
     "output_type": "display_data"
    }
   ],
   "source": [
    "# example, lecture 9, slide 56\n",
    "\n",
    "with pm.Model() as m2:\n",
    "\n",
    "    # Priors\n",
    "    a = pm.Normal(\"a\", mu=0, sd=1, shape=(2, 2))\n",
    "\n",
    "    # linear model with logit link\n",
    "    p = pm.math.invlogit(a[G,D])\n",
    "\n",
    "    # likelihood\n",
    "    admit = pm.Binomial(\"admit\", n=1, p=p, observed=A)\n",
    "\n",
    "    # generate posterior and sample\n",
    "    trace_m2 = pm.sample(draws=5000, tune=1000, return_inferencedata=False, progressbar=False, target_accept=0.95)"
   ]
  },
  {
   "cell_type": "code",
   "execution_count": 250,
   "metadata": {},
   "outputs": [
    {
     "name": "stderr",
     "output_type": "stream",
     "text": [
      "/Users/blacar/opt/anaconda3/envs/stats_rethinking/lib/python3.8/site-packages/arviz/data/io_pymc3.py:88: FutureWarning: Using `from_pymc3` without the model will be deprecated in a future release. Not using the model will return less accurate and less useful results. Make sure you use the model argument or call from_pymc3 within a model context.\n",
      "  warnings.warn(\n"
     ]
    },
    {
     "data": {
      "text/html": [
       "<div>\n",
       "<style scoped>\n",
       "    .dataframe tbody tr th:only-of-type {\n",
       "        vertical-align: middle;\n",
       "    }\n",
       "\n",
       "    .dataframe tbody tr th {\n",
       "        vertical-align: top;\n",
       "    }\n",
       "\n",
       "    .dataframe thead th {\n",
       "        text-align: right;\n",
       "    }\n",
       "</style>\n",
       "<table border=\"1\" class=\"dataframe\">\n",
       "  <thead>\n",
       "    <tr style=\"text-align: right;\">\n",
       "      <th></th>\n",
       "      <th>mean</th>\n",
       "      <th>sd</th>\n",
       "      <th>hdi_5.5%</th>\n",
       "      <th>hdi_94.5%</th>\n",
       "      <th>mcse_mean</th>\n",
       "      <th>mcse_sd</th>\n",
       "      <th>ess_mean</th>\n",
       "      <th>ess_sd</th>\n",
       "      <th>ess_bulk</th>\n",
       "      <th>ess_tail</th>\n",
       "      <th>r_hat</th>\n",
       "    </tr>\n",
       "  </thead>\n",
       "  <tbody>\n",
       "    <tr>\n",
       "      <th>a[0,0]</th>\n",
       "      <td>-2.246</td>\n",
       "      <td>0.316</td>\n",
       "      <td>-2.741</td>\n",
       "      <td>-1.741</td>\n",
       "      <td>0.002</td>\n",
       "      <td>0.002</td>\n",
       "      <td>22837.0</td>\n",
       "      <td>21322.0</td>\n",
       "      <td>23409.0</td>\n",
       "      <td>13680.0</td>\n",
       "      <td>1.0</td>\n",
       "    </tr>\n",
       "    <tr>\n",
       "      <th>a[0,1]</th>\n",
       "      <td>-1.216</td>\n",
       "      <td>0.118</td>\n",
       "      <td>-1.408</td>\n",
       "      <td>-1.033</td>\n",
       "      <td>0.001</td>\n",
       "      <td>0.001</td>\n",
       "      <td>23101.0</td>\n",
       "      <td>22823.0</td>\n",
       "      <td>23129.0</td>\n",
       "      <td>14374.0</td>\n",
       "      <td>1.0</td>\n",
       "    </tr>\n",
       "    <tr>\n",
       "      <th>a[1,0]</th>\n",
       "      <td>-1.987</td>\n",
       "      <td>0.167</td>\n",
       "      <td>-2.243</td>\n",
       "      <td>-1.712</td>\n",
       "      <td>0.001</td>\n",
       "      <td>0.001</td>\n",
       "      <td>21889.0</td>\n",
       "      <td>21268.0</td>\n",
       "      <td>22180.0</td>\n",
       "      <td>13460.0</td>\n",
       "      <td>1.0</td>\n",
       "    </tr>\n",
       "    <tr>\n",
       "      <th>a[1,1]</th>\n",
       "      <td>-0.941</td>\n",
       "      <td>0.172</td>\n",
       "      <td>-1.214</td>\n",
       "      <td>-0.669</td>\n",
       "      <td>0.001</td>\n",
       "      <td>0.001</td>\n",
       "      <td>22041.0</td>\n",
       "      <td>20629.0</td>\n",
       "      <td>22257.0</td>\n",
       "      <td>13639.0</td>\n",
       "      <td>1.0</td>\n",
       "    </tr>\n",
       "  </tbody>\n",
       "</table>\n",
       "</div>"
      ],
      "text/plain": [
       "         mean     sd  hdi_5.5%  hdi_94.5%  mcse_mean  mcse_sd  ess_mean  \\\n",
       "a[0,0] -2.246  0.316    -2.741     -1.741      0.002    0.002   22837.0   \n",
       "a[0,1] -1.216  0.118    -1.408     -1.033      0.001    0.001   23101.0   \n",
       "a[1,0] -1.987  0.167    -2.243     -1.712      0.001    0.001   21889.0   \n",
       "a[1,1] -0.941  0.172    -1.214     -0.669      0.001    0.001   22041.0   \n",
       "\n",
       "         ess_sd  ess_bulk  ess_tail  r_hat  \n",
       "a[0,0]  21322.0   23409.0   13680.0    1.0  \n",
       "a[0,1]  22823.0   23129.0   14374.0    1.0  \n",
       "a[1,0]  21268.0   22180.0   13460.0    1.0  \n",
       "a[1,1]  20629.0   22257.0   13639.0    1.0  "
      ]
     },
     "execution_count": 250,
     "metadata": {},
     "output_type": "execute_result"
    },
    {
     "data": {
      "application/javascript": "\n            setTimeout(function() {\n                var nbb_cell_id = 250;\n                var nbb_unformatted_code = \"df_summary_m2 = az.summary(trace_m2)\\ndf_summary_m2\";\n                var nbb_formatted_code = \"df_summary_m2 = az.summary(trace_m2)\\ndf_summary_m2\";\n                var nbb_cells = Jupyter.notebook.get_cells();\n                for (var i = 0; i < nbb_cells.length; ++i) {\n                    if (nbb_cells[i].input_prompt_number == nbb_cell_id) {\n                        if (nbb_cells[i].get_text() == nbb_unformatted_code) {\n                             nbb_cells[i].set_text(nbb_formatted_code);\n                        }\n                        break;\n                    }\n                }\n            }, 500);\n            ",
      "text/plain": [
       "<IPython.core.display.Javascript object>"
      ]
     },
     "metadata": {},
     "output_type": "display_data"
    }
   ],
   "source": [
    "df_summary_m2 = az.summary(trace_m2)\n",
    "df_summary_m2"
   ]
  },
  {
   "cell_type": "markdown",
   "metadata": {},
   "source": [
    "#### Take the contrasts"
   ]
  },
  {
   "cell_type": "code",
   "execution_count": 208,
   "metadata": {},
   "outputs": [
    {
     "data": {
      "text/html": [
       "<div>\n",
       "<style scoped>\n",
       "    .dataframe tbody tr th:only-of-type {\n",
       "        vertical-align: middle;\n",
       "    }\n",
       "\n",
       "    .dataframe tbody tr th {\n",
       "        vertical-align: top;\n",
       "    }\n",
       "\n",
       "    .dataframe thead th {\n",
       "        text-align: right;\n",
       "    }\n",
       "</style>\n",
       "<table border=\"1\" class=\"dataframe\">\n",
       "  <thead>\n",
       "    <tr style=\"text-align: right;\">\n",
       "      <th></th>\n",
       "      <th>a__0_0</th>\n",
       "      <th>a__0_1</th>\n",
       "      <th>a__1_0</th>\n",
       "      <th>a__1_1</th>\n",
       "    </tr>\n",
       "  </thead>\n",
       "  <tbody>\n",
       "    <tr>\n",
       "      <th>0</th>\n",
       "      <td>-2.853432</td>\n",
       "      <td>-1.572045</td>\n",
       "      <td>-1.941225</td>\n",
       "      <td>-0.841101</td>\n",
       "    </tr>\n",
       "    <tr>\n",
       "      <th>1</th>\n",
       "      <td>-1.889588</td>\n",
       "      <td>-1.601307</td>\n",
       "      <td>-2.121854</td>\n",
       "      <td>-0.314104</td>\n",
       "    </tr>\n",
       "    <tr>\n",
       "      <th>2</th>\n",
       "      <td>-2.262845</td>\n",
       "      <td>-1.759796</td>\n",
       "      <td>-2.172436</td>\n",
       "      <td>-0.748504</td>\n",
       "    </tr>\n",
       "    <tr>\n",
       "      <th>3</th>\n",
       "      <td>-2.398522</td>\n",
       "      <td>-1.743175</td>\n",
       "      <td>-2.458235</td>\n",
       "      <td>-0.397038</td>\n",
       "    </tr>\n",
       "    <tr>\n",
       "      <th>4</th>\n",
       "      <td>-3.144053</td>\n",
       "      <td>-1.402139</td>\n",
       "      <td>-1.798677</td>\n",
       "      <td>-0.553696</td>\n",
       "    </tr>\n",
       "    <tr>\n",
       "      <th>...</th>\n",
       "      <td>...</td>\n",
       "      <td>...</td>\n",
       "      <td>...</td>\n",
       "      <td>...</td>\n",
       "    </tr>\n",
       "    <tr>\n",
       "      <th>19995</th>\n",
       "      <td>-2.369010</td>\n",
       "      <td>-1.443676</td>\n",
       "      <td>-1.940152</td>\n",
       "      <td>-0.562263</td>\n",
       "    </tr>\n",
       "    <tr>\n",
       "      <th>19996</th>\n",
       "      <td>-2.177098</td>\n",
       "      <td>-1.438807</td>\n",
       "      <td>-1.894769</td>\n",
       "      <td>-0.706472</td>\n",
       "    </tr>\n",
       "    <tr>\n",
       "      <th>19997</th>\n",
       "      <td>-2.757048</td>\n",
       "      <td>-1.467392</td>\n",
       "      <td>-2.105641</td>\n",
       "      <td>-0.504302</td>\n",
       "    </tr>\n",
       "    <tr>\n",
       "      <th>19998</th>\n",
       "      <td>-2.150942</td>\n",
       "      <td>-1.539921</td>\n",
       "      <td>-1.909358</td>\n",
       "      <td>-0.580843</td>\n",
       "    </tr>\n",
       "    <tr>\n",
       "      <th>19999</th>\n",
       "      <td>-2.392086</td>\n",
       "      <td>-1.441943</td>\n",
       "      <td>-1.967101</td>\n",
       "      <td>-0.501084</td>\n",
       "    </tr>\n",
       "  </tbody>\n",
       "</table>\n",
       "<p>20000 rows × 4 columns</p>\n",
       "</div>"
      ],
      "text/plain": [
       "         a__0_0    a__0_1    a__1_0    a__1_1\n",
       "0     -2.853432 -1.572045 -1.941225 -0.841101\n",
       "1     -1.889588 -1.601307 -2.121854 -0.314104\n",
       "2     -2.262845 -1.759796 -2.172436 -0.748504\n",
       "3     -2.398522 -1.743175 -2.458235 -0.397038\n",
       "4     -3.144053 -1.402139 -1.798677 -0.553696\n",
       "...         ...       ...       ...       ...\n",
       "19995 -2.369010 -1.443676 -1.940152 -0.562263\n",
       "19996 -2.177098 -1.438807 -1.894769 -0.706472\n",
       "19997 -2.757048 -1.467392 -2.105641 -0.504302\n",
       "19998 -2.150942 -1.539921 -1.909358 -0.580843\n",
       "19999 -2.392086 -1.441943 -1.967101 -0.501084\n",
       "\n",
       "[20000 rows x 4 columns]"
      ]
     },
     "execution_count": 208,
     "metadata": {},
     "output_type": "execute_result"
    },
    {
     "data": {
      "application/javascript": "\n            setTimeout(function() {\n                var nbb_cell_id = 208;\n                var nbb_unformatted_code = \"trace_m2_df\";\n                var nbb_formatted_code = \"trace_m2_df\";\n                var nbb_cells = Jupyter.notebook.get_cells();\n                for (var i = 0; i < nbb_cells.length; ++i) {\n                    if (nbb_cells[i].input_prompt_number == nbb_cell_id) {\n                        if (nbb_cells[i].get_text() == nbb_unformatted_code) {\n                             nbb_cells[i].set_text(nbb_formatted_code);\n                        }\n                        break;\n                    }\n                }\n            }, 500);\n            ",
      "text/plain": [
       "<IPython.core.display.Javascript object>"
      ]
     },
     "metadata": {},
     "output_type": "display_data"
    }
   ],
   "source": [
    "trace_m2_df"
   ]
  },
  {
   "cell_type": "code",
   "execution_count": null,
   "metadata": {},
   "outputs": [],
   "source": []
  },
  {
   "cell_type": "markdown",
   "metadata": {},
   "source": [
    "### Additive model"
   ]
  },
  {
   "cell_type": "markdown",
   "metadata": {},
   "source": [
    "\n",
    "$$ A_i \\sim \\text{Binomial}(1, p_i) $$\n",
    "$$ \\text{logit}(p_i) = \\alpha_{G[i]} + \\delta_{\\text{D}[i]} $$\n",
    "$$ \\alpha_j \\sim \\text{Normal}(0, 1.5) \\tag{prior for gender} $$\n",
    "$$ \\delta_k \\sim \\text{Normal}(0, 1.5) \\tag{prior for department} $$"
   ]
  },
  {
   "cell_type": "code",
   "execution_count": 255,
   "metadata": {},
   "outputs": [
    {
     "name": "stderr",
     "output_type": "stream",
     "text": [
      "Auto-assigning NUTS sampler...\n",
      "INFO:pymc3:Auto-assigning NUTS sampler...\n",
      "Initializing NUTS using jitter+adapt_diag...\n",
      "INFO:pymc3:Initializing NUTS using jitter+adapt_diag...\n",
      "Multiprocess sampling (4 chains in 4 jobs)\n",
      "INFO:pymc3:Multiprocess sampling (4 chains in 4 jobs)\n",
      "NUTS: [d, a]\n",
      "INFO:pymc3:NUTS: [d, a]\n",
      "Sampling 4 chains for 1_000 tune and 5_000 draw iterations (4_000 + 20_000 draws total) took 39 seconds.\n",
      "INFO:pymc3:Sampling 4 chains for 1_000 tune and 5_000 draw iterations (4_000 + 20_000 draws total) took 39 seconds.\n",
      "The number of effective samples is smaller than 25% for some parameters.\n",
      "INFO:pymc3:The number of effective samples is smaller than 25% for some parameters.\n"
     ]
    },
    {
     "data": {
      "application/javascript": "\n            setTimeout(function() {\n                var nbb_cell_id = 255;\n                var nbb_unformatted_code = \"# example, lecture 9, slide 56\\n\\nwith pm.Model() as m2add:\\n\\n    # Priors\\n    a = pm.Normal(\\\"a\\\", mu=0, sd=1.5, shape=2)\\n    d = pm.Normal(\\\"d\\\", mu=0, sd=1.5, shape=2)\\n\\n    # linear model with logit link\\n    p = pm.math.invlogit(a[G] + d[D])\\n\\n    # likelihood\\n    admit = pm.Binomial(\\\"admit\\\", n=1, p=p, observed=A)\\n\\n    # generate posterior and sample\\n    trace_m2add = pm.sample(draws=5000, tune=1000, return_inferencedata=False, progressbar=False, target_accept=0.95)\";\n                var nbb_formatted_code = \"# example, lecture 9, slide 56\\n\\nwith pm.Model() as m2add:\\n\\n    # Priors\\n    a = pm.Normal(\\\"a\\\", mu=0, sd=1.5, shape=2)\\n    d = pm.Normal(\\\"d\\\", mu=0, sd=1.5, shape=2)\\n\\n    # linear model with logit link\\n    p = pm.math.invlogit(a[G] + d[D])\\n\\n    # likelihood\\n    admit = pm.Binomial(\\\"admit\\\", n=1, p=p, observed=A)\\n\\n    # generate posterior and sample\\n    trace_m2add = pm.sample(\\n        draws=5000,\\n        tune=1000,\\n        return_inferencedata=False,\\n        progressbar=False,\\n        target_accept=0.95,\\n    )\";\n                var nbb_cells = Jupyter.notebook.get_cells();\n                for (var i = 0; i < nbb_cells.length; ++i) {\n                    if (nbb_cells[i].input_prompt_number == nbb_cell_id) {\n                        if (nbb_cells[i].get_text() == nbb_unformatted_code) {\n                             nbb_cells[i].set_text(nbb_formatted_code);\n                        }\n                        break;\n                    }\n                }\n            }, 500);\n            ",
      "text/plain": [
       "<IPython.core.display.Javascript object>"
      ]
     },
     "metadata": {},
     "output_type": "display_data"
    }
   ],
   "source": [
    "# example, lecture 9, slide 56\n",
    "\n",
    "with pm.Model() as m2add:\n",
    "\n",
    "    # Priors\n",
    "    a = pm.Normal(\"a\", mu=0, sd=1.5, shape=2)\n",
    "    d = pm.Normal(\"d\", mu=0, sd=1.5, shape=2)\n",
    "\n",
    "    # linear model with logit link\n",
    "    p = pm.math.invlogit(a[G] + d[D])\n",
    "\n",
    "    # likelihood\n",
    "    admit = pm.Binomial(\"admit\", n=1, p=p, observed=A)\n",
    "\n",
    "    # generate posterior and sample\n",
    "    trace_m2add = pm.sample(draws=5000, tune=1000, return_inferencedata=False, progressbar=False, target_accept=0.95)"
   ]
  },
  {
   "cell_type": "code",
   "execution_count": 261,
   "metadata": {},
   "outputs": [
    {
     "name": "stderr",
     "output_type": "stream",
     "text": [
      "/Users/blacar/opt/anaconda3/envs/stats_rethinking/lib/python3.8/site-packages/arviz/data/io_pymc3.py:88: FutureWarning: Using `from_pymc3` without the model will be deprecated in a future release. Not using the model will return less accurate and less useful results. Make sure you use the model argument or call from_pymc3 within a model context.\n",
      "  warnings.warn(\n"
     ]
    },
    {
     "data": {
      "text/html": [
       "<div>\n",
       "<style scoped>\n",
       "    .dataframe tbody tr th:only-of-type {\n",
       "        vertical-align: middle;\n",
       "    }\n",
       "\n",
       "    .dataframe tbody tr th {\n",
       "        vertical-align: top;\n",
       "    }\n",
       "\n",
       "    .dataframe thead th {\n",
       "        text-align: right;\n",
       "    }\n",
       "</style>\n",
       "<table border=\"1\" class=\"dataframe\">\n",
       "  <thead>\n",
       "    <tr style=\"text-align: right;\">\n",
       "      <th></th>\n",
       "      <th>mean</th>\n",
       "      <th>sd</th>\n",
       "      <th>hdi_5.5%</th>\n",
       "      <th>hdi_94.5%</th>\n",
       "      <th>mcse_mean</th>\n",
       "      <th>mcse_sd</th>\n",
       "      <th>ess_mean</th>\n",
       "      <th>ess_sd</th>\n",
       "      <th>ess_bulk</th>\n",
       "      <th>ess_tail</th>\n",
       "      <th>r_hat</th>\n",
       "    </tr>\n",
       "  </thead>\n",
       "  <tbody>\n",
       "    <tr>\n",
       "      <th>a[0,0]</th>\n",
       "      <td>-2.246</td>\n",
       "      <td>0.316</td>\n",
       "      <td>-2.741</td>\n",
       "      <td>-1.741</td>\n",
       "      <td>0.002</td>\n",
       "      <td>0.002</td>\n",
       "      <td>22837.0</td>\n",
       "      <td>21322.0</td>\n",
       "      <td>23409.0</td>\n",
       "      <td>13680.0</td>\n",
       "      <td>1.0</td>\n",
       "    </tr>\n",
       "    <tr>\n",
       "      <th>a[0,1]</th>\n",
       "      <td>-1.216</td>\n",
       "      <td>0.118</td>\n",
       "      <td>-1.408</td>\n",
       "      <td>-1.033</td>\n",
       "      <td>0.001</td>\n",
       "      <td>0.001</td>\n",
       "      <td>23101.0</td>\n",
       "      <td>22823.0</td>\n",
       "      <td>23129.0</td>\n",
       "      <td>14374.0</td>\n",
       "      <td>1.0</td>\n",
       "    </tr>\n",
       "    <tr>\n",
       "      <th>a[1,0]</th>\n",
       "      <td>-1.987</td>\n",
       "      <td>0.167</td>\n",
       "      <td>-2.243</td>\n",
       "      <td>-1.712</td>\n",
       "      <td>0.001</td>\n",
       "      <td>0.001</td>\n",
       "      <td>21889.0</td>\n",
       "      <td>21268.0</td>\n",
       "      <td>22180.0</td>\n",
       "      <td>13460.0</td>\n",
       "      <td>1.0</td>\n",
       "    </tr>\n",
       "    <tr>\n",
       "      <th>a[1,1]</th>\n",
       "      <td>-0.941</td>\n",
       "      <td>0.172</td>\n",
       "      <td>-1.214</td>\n",
       "      <td>-0.669</td>\n",
       "      <td>0.001</td>\n",
       "      <td>0.001</td>\n",
       "      <td>22041.0</td>\n",
       "      <td>20629.0</td>\n",
       "      <td>22257.0</td>\n",
       "      <td>13639.0</td>\n",
       "      <td>1.0</td>\n",
       "    </tr>\n",
       "  </tbody>\n",
       "</table>\n",
       "</div>"
      ],
      "text/plain": [
       "         mean     sd  hdi_5.5%  hdi_94.5%  mcse_mean  mcse_sd  ess_mean  \\\n",
       "a[0,0] -2.246  0.316    -2.741     -1.741      0.002    0.002   22837.0   \n",
       "a[0,1] -1.216  0.118    -1.408     -1.033      0.001    0.001   23101.0   \n",
       "a[1,0] -1.987  0.167    -2.243     -1.712      0.001    0.001   21889.0   \n",
       "a[1,1] -0.941  0.172    -1.214     -0.669      0.001    0.001   22041.0   \n",
       "\n",
       "         ess_sd  ess_bulk  ess_tail  r_hat  \n",
       "a[0,0]  21322.0   23409.0   13680.0    1.0  \n",
       "a[0,1]  22823.0   23129.0   14374.0    1.0  \n",
       "a[1,0]  21268.0   22180.0   13460.0    1.0  \n",
       "a[1,1]  20629.0   22257.0   13639.0    1.0  "
      ]
     },
     "execution_count": 261,
     "metadata": {},
     "output_type": "execute_result"
    },
    {
     "data": {
      "application/javascript": "\n            setTimeout(function() {\n                var nbb_cell_id = 261;\n                var nbb_unformatted_code = \"df_summary_m2 = az.summary(trace_m2)\\ndf_summary_m2.head()\";\n                var nbb_formatted_code = \"df_summary_m2 = az.summary(trace_m2)\\ndf_summary_m2.head()\";\n                var nbb_cells = Jupyter.notebook.get_cells();\n                for (var i = 0; i < nbb_cells.length; ++i) {\n                    if (nbb_cells[i].input_prompt_number == nbb_cell_id) {\n                        if (nbb_cells[i].get_text() == nbb_unformatted_code) {\n                             nbb_cells[i].set_text(nbb_formatted_code);\n                        }\n                        break;\n                    }\n                }\n            }, 500);\n            ",
      "text/plain": [
       "<IPython.core.display.Javascript object>"
      ]
     },
     "metadata": {},
     "output_type": "display_data"
    }
   ],
   "source": [
    "df_summary_m2 = az.summary(trace_m2)\n",
    "df_summary_m2.head()"
   ]
  },
  {
   "cell_type": "code",
   "execution_count": 264,
   "metadata": {},
   "outputs": [
    {
     "data": {
      "text/html": [
       "<div>\n",
       "<style scoped>\n",
       "    .dataframe tbody tr th:only-of-type {\n",
       "        vertical-align: middle;\n",
       "    }\n",
       "\n",
       "    .dataframe tbody tr th {\n",
       "        vertical-align: top;\n",
       "    }\n",
       "\n",
       "    .dataframe thead th {\n",
       "        text-align: right;\n",
       "    }\n",
       "</style>\n",
       "<table border=\"1\" class=\"dataframe\">\n",
       "  <thead>\n",
       "    <tr style=\"text-align: right;\">\n",
       "      <th></th>\n",
       "      <th>a__0_0</th>\n",
       "      <th>a__0_1</th>\n",
       "      <th>a__1_0</th>\n",
       "      <th>a__1_1</th>\n",
       "    </tr>\n",
       "  </thead>\n",
       "  <tbody>\n",
       "    <tr>\n",
       "      <th>0</th>\n",
       "      <td>-2.413589</td>\n",
       "      <td>-1.265041</td>\n",
       "      <td>-1.997869</td>\n",
       "      <td>-1.261973</td>\n",
       "    </tr>\n",
       "    <tr>\n",
       "      <th>1</th>\n",
       "      <td>-2.236853</td>\n",
       "      <td>-1.150933</td>\n",
       "      <td>-2.036769</td>\n",
       "      <td>-0.650674</td>\n",
       "    </tr>\n",
       "    <tr>\n",
       "      <th>2</th>\n",
       "      <td>-2.170769</td>\n",
       "      <td>-1.266769</td>\n",
       "      <td>-1.834326</td>\n",
       "      <td>-1.191059</td>\n",
       "    </tr>\n",
       "    <tr>\n",
       "      <th>3</th>\n",
       "      <td>-2.237578</td>\n",
       "      <td>-1.292359</td>\n",
       "      <td>-2.193026</td>\n",
       "      <td>-0.822113</td>\n",
       "    </tr>\n",
       "    <tr>\n",
       "      <th>4</th>\n",
       "      <td>-1.702337</td>\n",
       "      <td>-1.415485</td>\n",
       "      <td>-2.298075</td>\n",
       "      <td>-1.042995</td>\n",
       "    </tr>\n",
       "  </tbody>\n",
       "</table>\n",
       "</div>"
      ],
      "text/plain": [
       "     a__0_0    a__0_1    a__1_0    a__1_1\n",
       "0 -2.413589 -1.265041 -1.997869 -1.261973\n",
       "1 -2.236853 -1.150933 -2.036769 -0.650674\n",
       "2 -2.170769 -1.266769 -1.834326 -1.191059\n",
       "3 -2.237578 -1.292359 -2.193026 -0.822113\n",
       "4 -1.702337 -1.415485 -2.298075 -1.042995"
      ]
     },
     "execution_count": 264,
     "metadata": {},
     "output_type": "execute_result"
    },
    {
     "data": {
      "application/javascript": "\n            setTimeout(function() {\n                var nbb_cell_id = 264;\n                var nbb_unformatted_code = \"trace_m2_df = pm.trace_to_dataframe(trace_m2)\\ntrace_m2_df.head()\";\n                var nbb_formatted_code = \"trace_m2_df = pm.trace_to_dataframe(trace_m2)\\ntrace_m2_df.head()\";\n                var nbb_cells = Jupyter.notebook.get_cells();\n                for (var i = 0; i < nbb_cells.length; ++i) {\n                    if (nbb_cells[i].input_prompt_number == nbb_cell_id) {\n                        if (nbb_cells[i].get_text() == nbb_unformatted_code) {\n                             nbb_cells[i].set_text(nbb_formatted_code);\n                        }\n                        break;\n                    }\n                }\n            }, 500);\n            ",
      "text/plain": [
       "<IPython.core.display.Javascript object>"
      ]
     },
     "metadata": {},
     "output_type": "display_data"
    }
   ],
   "source": [
    "trace_m2_df = pm.trace_to_dataframe(trace_m2)\n",
    "trace_m2_df.head()"
   ]
  },
  {
   "cell_type": "markdown",
   "metadata": {},
   "source": [
    "### Get the same acceptance rates from the posterior of each model"
   ]
  },
  {
   "cell_type": "code",
   "execution_count": null,
   "metadata": {},
   "outputs": [
    {
     "data": {
      "text/plain": [
       "array([[0.05, 0.1 ],\n",
       "       [0.2 , 0.3 ]])"
      ]
     },
     "metadata": {},
     "output_type": "display_data"
    },
    {
     "data": {
      "application/javascript": "\n            setTimeout(function() {\n                var nbb_cell_id = 259;\n                var nbb_unformatted_code = \"accept_rate\";\n                var nbb_formatted_code = \"accept_rate\";\n                var nbb_cells = Jupyter.notebook.get_cells();\n                for (var i = 0; i < nbb_cells.length; ++i) {\n                    if (nbb_cells[i].input_prompt_number == nbb_cell_id) {\n                        if (nbb_cells[i].get_text() == nbb_unformatted_code) {\n                             nbb_cells[i].set_text(nbb_formatted_code);\n                        }\n                        break;\n                    }\n                }\n            }, 500);\n            ",
      "text/plain": [
       "<IPython.core.display.Javascript object>"
      ]
     },
     "metadata": {},
     "output_type": "display_data"
    }
   ],
   "source": [
    "accept_rate"
   ]
  },
  {
   "cell_type": "code",
   "execution_count": 267,
   "metadata": {},
   "outputs": [
    {
     "data": {
      "text/plain": [
       "a[0,0]    0.095695\n",
       "a[0,1]    0.228641\n",
       "a[1,0]    0.120575\n",
       "a[1,1]    0.280698\n",
       "Name: mean, dtype: float64"
      ]
     },
     "execution_count": 267,
     "metadata": {},
     "output_type": "execute_result"
    },
    {
     "data": {
      "application/javascript": "\n            setTimeout(function() {\n                var nbb_cell_id = 267;\n                var nbb_unformatted_code = \"expit(df_summary_m2['mean'])\";\n                var nbb_formatted_code = \"expit(df_summary_m2[\\\"mean\\\"])\";\n                var nbb_cells = Jupyter.notebook.get_cells();\n                for (var i = 0; i < nbb_cells.length; ++i) {\n                    if (nbb_cells[i].input_prompt_number == nbb_cell_id) {\n                        if (nbb_cells[i].get_text() == nbb_unformatted_code) {\n                             nbb_cells[i].set_text(nbb_formatted_code);\n                        }\n                        break;\n                    }\n                }\n            }, 500);\n            ",
      "text/plain": [
       "<IPython.core.display.Javascript object>"
      ]
     },
     "metadata": {},
     "output_type": "display_data"
    }
   ],
   "source": [
    "expit(df_summary_m2['mean'])"
   ]
  },
  {
   "cell_type": "code",
   "execution_count": null,
   "metadata": {},
   "outputs": [
    {
     "data": {
      "text/plain": [
       "a__0_0    0.099158\n",
       "a__0_1    0.229311\n",
       "a__1_0    0.121699\n",
       "a__1_1    0.282055\n",
       "dtype: float64"
      ]
     },
     "metadata": {},
     "output_type": "display_data"
    },
    {
     "data": {
      "application/javascript": "\n            setTimeout(function() {\n                var nbb_cell_id = 266;\n                var nbb_unformatted_code = \"expit(trace_m2_df).mean()\";\n                var nbb_formatted_code = \"expit(trace_m2_df).mean()\";\n                var nbb_cells = Jupyter.notebook.get_cells();\n                for (var i = 0; i < nbb_cells.length; ++i) {\n                    if (nbb_cells[i].input_prompt_number == nbb_cell_id) {\n                        if (nbb_cells[i].get_text() == nbb_unformatted_code) {\n                             nbb_cells[i].set_text(nbb_formatted_code);\n                        }\n                        break;\n                    }\n                }\n            }, 500);\n            ",
      "text/plain": [
       "<IPython.core.display.Javascript object>"
      ]
     },
     "metadata": {},
     "output_type": "display_data"
    }
   ],
   "source": [
    "expit(trace_m2_df).mean()"
   ]
  },
  {
   "cell_type": "code",
   "execution_count": 260,
   "metadata": {},
   "outputs": [
    {
     "name": "stderr",
     "output_type": "stream",
     "text": [
      "/Users/blacar/opt/anaconda3/envs/stats_rethinking/lib/python3.8/site-packages/arviz/data/io_pymc3.py:88: FutureWarning: Using `from_pymc3` without the model will be deprecated in a future release. Not using the model will return less accurate and less useful results. Make sure you use the model argument or call from_pymc3 within a model context.\n",
      "  warnings.warn(\n"
     ]
    },
    {
     "data": {
      "text/html": [
       "<div>\n",
       "<style scoped>\n",
       "    .dataframe tbody tr th:only-of-type {\n",
       "        vertical-align: middle;\n",
       "    }\n",
       "\n",
       "    .dataframe tbody tr th {\n",
       "        vertical-align: top;\n",
       "    }\n",
       "\n",
       "    .dataframe thead th {\n",
       "        text-align: right;\n",
       "    }\n",
       "</style>\n",
       "<table border=\"1\" class=\"dataframe\">\n",
       "  <thead>\n",
       "    <tr style=\"text-align: right;\">\n",
       "      <th></th>\n",
       "      <th>mean</th>\n",
       "      <th>sd</th>\n",
       "      <th>hdi_5.5%</th>\n",
       "      <th>hdi_94.5%</th>\n",
       "      <th>mcse_mean</th>\n",
       "      <th>mcse_sd</th>\n",
       "      <th>ess_mean</th>\n",
       "      <th>ess_sd</th>\n",
       "      <th>ess_bulk</th>\n",
       "      <th>ess_tail</th>\n",
       "      <th>r_hat</th>\n",
       "    </tr>\n",
       "  </thead>\n",
       "  <tbody>\n",
       "    <tr>\n",
       "      <th>a[0]</th>\n",
       "      <td>-0.982</td>\n",
       "      <td>0.764</td>\n",
       "      <td>-2.233</td>\n",
       "      <td>0.221</td>\n",
       "      <td>0.016</td>\n",
       "      <td>0.011</td>\n",
       "      <td>2376.0</td>\n",
       "      <td>2323.0</td>\n",
       "      <td>2376.0</td>\n",
       "      <td>2795.0</td>\n",
       "      <td>1.0</td>\n",
       "    </tr>\n",
       "    <tr>\n",
       "      <th>a[1]</th>\n",
       "      <td>-0.683</td>\n",
       "      <td>0.762</td>\n",
       "      <td>-1.855</td>\n",
       "      <td>0.582</td>\n",
       "      <td>0.016</td>\n",
       "      <td>0.011</td>\n",
       "      <td>2365.0</td>\n",
       "      <td>2304.0</td>\n",
       "      <td>2365.0</td>\n",
       "      <td>2779.0</td>\n",
       "      <td>1.0</td>\n",
       "    </tr>\n",
       "    <tr>\n",
       "      <th>d[0]</th>\n",
       "      <td>-1.371</td>\n",
       "      <td>0.765</td>\n",
       "      <td>-2.623</td>\n",
       "      <td>-0.165</td>\n",
       "      <td>0.016</td>\n",
       "      <td>0.011</td>\n",
       "      <td>2400.0</td>\n",
       "      <td>2400.0</td>\n",
       "      <td>2402.0</td>\n",
       "      <td>2834.0</td>\n",
       "      <td>1.0</td>\n",
       "    </tr>\n",
       "    <tr>\n",
       "      <th>d[1]</th>\n",
       "      <td>-0.262</td>\n",
       "      <td>0.762</td>\n",
       "      <td>-1.469</td>\n",
       "      <td>0.975</td>\n",
       "      <td>0.016</td>\n",
       "      <td>0.011</td>\n",
       "      <td>2373.0</td>\n",
       "      <td>2367.0</td>\n",
       "      <td>2375.0</td>\n",
       "      <td>2783.0</td>\n",
       "      <td>1.0</td>\n",
       "    </tr>\n",
       "  </tbody>\n",
       "</table>\n",
       "</div>"
      ],
      "text/plain": [
       "       mean     sd  hdi_5.5%  hdi_94.5%  mcse_mean  mcse_sd  ess_mean  ess_sd  \\\n",
       "a[0] -0.982  0.764    -2.233      0.221      0.016    0.011    2376.0  2323.0   \n",
       "a[1] -0.683  0.762    -1.855      0.582      0.016    0.011    2365.0  2304.0   \n",
       "d[0] -1.371  0.765    -2.623     -0.165      0.016    0.011    2400.0  2400.0   \n",
       "d[1] -0.262  0.762    -1.469      0.975      0.016    0.011    2373.0  2367.0   \n",
       "\n",
       "      ess_bulk  ess_tail  r_hat  \n",
       "a[0]    2376.0    2795.0    1.0  \n",
       "a[1]    2365.0    2779.0    1.0  \n",
       "d[0]    2402.0    2834.0    1.0  \n",
       "d[1]    2375.0    2783.0    1.0  "
      ]
     },
     "execution_count": 260,
     "metadata": {},
     "output_type": "execute_result"
    },
    {
     "data": {
      "application/javascript": "\n            setTimeout(function() {\n                var nbb_cell_id = 260;\n                var nbb_unformatted_code = \"df_summary_m2add = az.summary(trace_m2add)\\ndf_summary_m2add\";\n                var nbb_formatted_code = \"df_summary_m2add = az.summary(trace_m2add)\\ndf_summary_m2add\";\n                var nbb_cells = Jupyter.notebook.get_cells();\n                for (var i = 0; i < nbb_cells.length; ++i) {\n                    if (nbb_cells[i].input_prompt_number == nbb_cell_id) {\n                        if (nbb_cells[i].get_text() == nbb_unformatted_code) {\n                             nbb_cells[i].set_text(nbb_formatted_code);\n                        }\n                        break;\n                    }\n                }\n            }, 500);\n            ",
      "text/plain": [
       "<IPython.core.display.Javascript object>"
      ]
     },
     "metadata": {},
     "output_type": "display_data"
    }
   ],
   "source": [
    "df_summary_m2add = az.summary(trace_m2add)\n",
    "df_summary_m2add"
   ]
  },
  {
   "cell_type": "code",
   "execution_count": 268,
   "metadata": {},
   "outputs": [
    {
     "data": {
      "text/html": [
       "<div>\n",
       "<style scoped>\n",
       "    .dataframe tbody tr th:only-of-type {\n",
       "        vertical-align: middle;\n",
       "    }\n",
       "\n",
       "    .dataframe tbody tr th {\n",
       "        vertical-align: top;\n",
       "    }\n",
       "\n",
       "    .dataframe thead th {\n",
       "        text-align: right;\n",
       "    }\n",
       "</style>\n",
       "<table border=\"1\" class=\"dataframe\">\n",
       "  <thead>\n",
       "    <tr style=\"text-align: right;\">\n",
       "      <th></th>\n",
       "      <th>a__0</th>\n",
       "      <th>a__1</th>\n",
       "      <th>d__0</th>\n",
       "      <th>d__1</th>\n",
       "    </tr>\n",
       "  </thead>\n",
       "  <tbody>\n",
       "    <tr>\n",
       "      <th>0</th>\n",
       "      <td>0.054933</td>\n",
       "      <td>0.322031</td>\n",
       "      <td>-2.366066</td>\n",
       "      <td>-1.362322</td>\n",
       "    </tr>\n",
       "    <tr>\n",
       "      <th>1</th>\n",
       "      <td>0.474671</td>\n",
       "      <td>0.930921</td>\n",
       "      <td>-2.946139</td>\n",
       "      <td>-1.701699</td>\n",
       "    </tr>\n",
       "    <tr>\n",
       "      <th>2</th>\n",
       "      <td>0.529814</td>\n",
       "      <td>0.671992</td>\n",
       "      <td>-2.608966</td>\n",
       "      <td>-1.685733</td>\n",
       "    </tr>\n",
       "    <tr>\n",
       "      <th>3</th>\n",
       "      <td>-2.041769</td>\n",
       "      <td>-1.531499</td>\n",
       "      <td>-0.613417</td>\n",
       "      <td>0.695682</td>\n",
       "    </tr>\n",
       "    <tr>\n",
       "      <th>4</th>\n",
       "      <td>-2.126686</td>\n",
       "      <td>-1.495589</td>\n",
       "      <td>-0.640634</td>\n",
       "      <td>0.750070</td>\n",
       "    </tr>\n",
       "  </tbody>\n",
       "</table>\n",
       "</div>"
      ],
      "text/plain": [
       "       a__0      a__1      d__0      d__1\n",
       "0  0.054933  0.322031 -2.366066 -1.362322\n",
       "1  0.474671  0.930921 -2.946139 -1.701699\n",
       "2  0.529814  0.671992 -2.608966 -1.685733\n",
       "3 -2.041769 -1.531499 -0.613417  0.695682\n",
       "4 -2.126686 -1.495589 -0.640634  0.750070"
      ]
     },
     "execution_count": 268,
     "metadata": {},
     "output_type": "execute_result"
    },
    {
     "data": {
      "application/javascript": "\n            setTimeout(function() {\n                var nbb_cell_id = 268;\n                var nbb_unformatted_code = \"trace_m2add_df = pm.trace_to_dataframe(trace_m2add)\\ntrace_m2add_df.head()\";\n                var nbb_formatted_code = \"trace_m2add_df = pm.trace_to_dataframe(trace_m2add)\\ntrace_m2add_df.head()\";\n                var nbb_cells = Jupyter.notebook.get_cells();\n                for (var i = 0; i < nbb_cells.length; ++i) {\n                    if (nbb_cells[i].input_prompt_number == nbb_cell_id) {\n                        if (nbb_cells[i].get_text() == nbb_unformatted_code) {\n                             nbb_cells[i].set_text(nbb_formatted_code);\n                        }\n                        break;\n                    }\n                }\n            }, 500);\n            ",
      "text/plain": [
       "<IPython.core.display.Javascript object>"
      ]
     },
     "metadata": {},
     "output_type": "display_data"
    }
   ],
   "source": [
    "trace_m2add_df = pm.trace_to_dataframe(trace_m2add)\n",
    "trace_m2add_df.head()"
   ]
  },
  {
   "cell_type": "code",
   "execution_count": 279,
   "metadata": {},
   "outputs": [
    {
     "name": "stdout",
     "output_type": "stream",
     "text": [
      "a__0 d__0 0.0883018423050604\n",
      "a__0 d__1 0.2243231690127385\n",
      "a__1 d__0 0.11457478308375525\n",
      "a__1 d__1 0.28094037926342275\n"
     ]
    },
    {
     "data": {
      "application/javascript": "\n            setTimeout(function() {\n                var nbb_cell_id = 279;\n                var nbb_unformatted_code = \"for i in range(2):\\n    for j in range(2):\\n        print(f'a__{i}', f'd__{j}', expit(trace_m2add_df[[f'a__{i}', f'd__{j}']].sum(axis=1)).mean())\";\n                var nbb_formatted_code = \"for i in range(2):\\n    for j in range(2):\\n        print(\\n            f\\\"a__{i}\\\",\\n            f\\\"d__{j}\\\",\\n            expit(trace_m2add_df[[f\\\"a__{i}\\\", f\\\"d__{j}\\\"]].sum(axis=1)).mean(),\\n        )\";\n                var nbb_cells = Jupyter.notebook.get_cells();\n                for (var i = 0; i < nbb_cells.length; ++i) {\n                    if (nbb_cells[i].input_prompt_number == nbb_cell_id) {\n                        if (nbb_cells[i].get_text() == nbb_unformatted_code) {\n                             nbb_cells[i].set_text(nbb_formatted_code);\n                        }\n                        break;\n                    }\n                }\n            }, 500);\n            ",
      "text/plain": [
       "<IPython.core.display.Javascript object>"
      ]
     },
     "metadata": {},
     "output_type": "display_data"
    }
   ],
   "source": [
    "for i in range(2):\n",
    "    for j in range(2):\n",
    "        print(f'a__{i}', f'd__{j}', expit(trace_m2add_df[[f'a__{i}', f'd__{j}']].sum(axis=1)).mean())"
   ]
  },
  {
   "cell_type": "code",
   "execution_count": 280,
   "metadata": {},
   "outputs": [
    {
     "data": {
      "text/plain": [
       "a__0_0    0.099158\n",
       "a__0_1    0.229311\n",
       "a__1_0    0.121699\n",
       "a__1_1    0.282055\n",
       "dtype: float64"
      ]
     },
     "execution_count": 280,
     "metadata": {},
     "output_type": "execute_result"
    },
    {
     "data": {
      "application/javascript": "\n            setTimeout(function() {\n                var nbb_cell_id = 280;\n                var nbb_unformatted_code = \"expit(trace_m2_df).mean()\";\n                var nbb_formatted_code = \"expit(trace_m2_df).mean()\";\n                var nbb_cells = Jupyter.notebook.get_cells();\n                for (var i = 0; i < nbb_cells.length; ++i) {\n                    if (nbb_cells[i].input_prompt_number == nbb_cell_id) {\n                        if (nbb_cells[i].get_text() == nbb_unformatted_code) {\n                             nbb_cells[i].set_text(nbb_formatted_code);\n                        }\n                        break;\n                    }\n                }\n            }, 500);\n            ",
      "text/plain": [
       "<IPython.core.display.Javascript object>"
      ]
     },
     "metadata": {},
     "output_type": "display_data"
    }
   ],
   "source": [
    "expit(trace_m2_df).mean()"
   ]
  },
  {
   "cell_type": "code",
   "execution_count": 281,
   "metadata": {},
   "outputs": [
    {
     "data": {
      "text/html": [
       "<div>\n",
       "<style scoped>\n",
       "    .dataframe tbody tr th:only-of-type {\n",
       "        vertical-align: middle;\n",
       "    }\n",
       "\n",
       "    .dataframe tbody tr th {\n",
       "        vertical-align: top;\n",
       "    }\n",
       "\n",
       "    .dataframe thead th {\n",
       "        text-align: right;\n",
       "    }\n",
       "</style>\n",
       "<table border=\"1\" class=\"dataframe\">\n",
       "  <thead>\n",
       "    <tr style=\"text-align: right;\">\n",
       "      <th></th>\n",
       "      <th>a__0_0</th>\n",
       "      <th>a__0_1</th>\n",
       "      <th>a__1_0</th>\n",
       "      <th>a__1_1</th>\n",
       "    </tr>\n",
       "  </thead>\n",
       "  <tbody>\n",
       "    <tr>\n",
       "      <th>0</th>\n",
       "      <td>-2.413589</td>\n",
       "      <td>-1.265041</td>\n",
       "      <td>-1.997869</td>\n",
       "      <td>-1.261973</td>\n",
       "    </tr>\n",
       "    <tr>\n",
       "      <th>1</th>\n",
       "      <td>-2.236853</td>\n",
       "      <td>-1.150933</td>\n",
       "      <td>-2.036769</td>\n",
       "      <td>-0.650674</td>\n",
       "    </tr>\n",
       "    <tr>\n",
       "      <th>2</th>\n",
       "      <td>-2.170769</td>\n",
       "      <td>-1.266769</td>\n",
       "      <td>-1.834326</td>\n",
       "      <td>-1.191059</td>\n",
       "    </tr>\n",
       "    <tr>\n",
       "      <th>3</th>\n",
       "      <td>-2.237578</td>\n",
       "      <td>-1.292359</td>\n",
       "      <td>-2.193026</td>\n",
       "      <td>-0.822113</td>\n",
       "    </tr>\n",
       "    <tr>\n",
       "      <th>4</th>\n",
       "      <td>-1.702337</td>\n",
       "      <td>-1.415485</td>\n",
       "      <td>-2.298075</td>\n",
       "      <td>-1.042995</td>\n",
       "    </tr>\n",
       "  </tbody>\n",
       "</table>\n",
       "</div>"
      ],
      "text/plain": [
       "     a__0_0    a__0_1    a__1_0    a__1_1\n",
       "0 -2.413589 -1.265041 -1.997869 -1.261973\n",
       "1 -2.236853 -1.150933 -2.036769 -0.650674\n",
       "2 -2.170769 -1.266769 -1.834326 -1.191059\n",
       "3 -2.237578 -1.292359 -2.193026 -0.822113\n",
       "4 -1.702337 -1.415485 -2.298075 -1.042995"
      ]
     },
     "execution_count": 281,
     "metadata": {},
     "output_type": "execute_result"
    },
    {
     "data": {
      "application/javascript": "\n            setTimeout(function() {\n                var nbb_cell_id = 281;\n                var nbb_unformatted_code = \"trace_m2_df.head()\";\n                var nbb_formatted_code = \"trace_m2_df.head()\";\n                var nbb_cells = Jupyter.notebook.get_cells();\n                for (var i = 0; i < nbb_cells.length; ++i) {\n                    if (nbb_cells[i].input_prompt_number == nbb_cell_id) {\n                        if (nbb_cells[i].get_text() == nbb_unformatted_code) {\n                             nbb_cells[i].set_text(nbb_formatted_code);\n                        }\n                        break;\n                    }\n                }\n            }, 500);\n            ",
      "text/plain": [
       "<IPython.core.display.Javascript object>"
      ]
     },
     "metadata": {},
     "output_type": "display_data"
    }
   ],
   "source": [
    "trace_m2_df.head()"
   ]
  },
  {
   "cell_type": "markdown",
   "metadata": {},
   "source": [
    "## Attempts to recover `a` from interaction model"
   ]
  },
  {
   "cell_type": "code",
   "execution_count": 354,
   "metadata": {},
   "outputs": [
    {
     "data": {
      "text/html": [
       "<div>\n",
       "<style scoped>\n",
       "    .dataframe tbody tr th:only-of-type {\n",
       "        vertical-align: middle;\n",
       "    }\n",
       "\n",
       "    .dataframe tbody tr th {\n",
       "        vertical-align: top;\n",
       "    }\n",
       "\n",
       "    .dataframe thead th {\n",
       "        text-align: right;\n",
       "    }\n",
       "</style>\n",
       "<table border=\"1\" class=\"dataframe\">\n",
       "  <thead>\n",
       "    <tr style=\"text-align: right;\">\n",
       "      <th></th>\n",
       "      <th>mean</th>\n",
       "      <th>sd</th>\n",
       "      <th>hdi_5.5%</th>\n",
       "      <th>hdi_94.5%</th>\n",
       "      <th>mcse_mean</th>\n",
       "      <th>mcse_sd</th>\n",
       "      <th>ess_mean</th>\n",
       "      <th>ess_sd</th>\n",
       "      <th>ess_bulk</th>\n",
       "      <th>ess_tail</th>\n",
       "      <th>r_hat</th>\n",
       "    </tr>\n",
       "  </thead>\n",
       "  <tbody>\n",
       "    <tr>\n",
       "      <th>a[0,0]</th>\n",
       "      <td>-2.246</td>\n",
       "      <td>0.316</td>\n",
       "      <td>-2.741</td>\n",
       "      <td>-1.741</td>\n",
       "      <td>0.002</td>\n",
       "      <td>0.002</td>\n",
       "      <td>22837.0</td>\n",
       "      <td>21322.0</td>\n",
       "      <td>23409.0</td>\n",
       "      <td>13680.0</td>\n",
       "      <td>1.0</td>\n",
       "    </tr>\n",
       "    <tr>\n",
       "      <th>a[0,1]</th>\n",
       "      <td>-1.216</td>\n",
       "      <td>0.118</td>\n",
       "      <td>-1.408</td>\n",
       "      <td>-1.033</td>\n",
       "      <td>0.001</td>\n",
       "      <td>0.001</td>\n",
       "      <td>23101.0</td>\n",
       "      <td>22823.0</td>\n",
       "      <td>23129.0</td>\n",
       "      <td>14374.0</td>\n",
       "      <td>1.0</td>\n",
       "    </tr>\n",
       "    <tr>\n",
       "      <th>a[1,0]</th>\n",
       "      <td>-1.987</td>\n",
       "      <td>0.167</td>\n",
       "      <td>-2.243</td>\n",
       "      <td>-1.712</td>\n",
       "      <td>0.001</td>\n",
       "      <td>0.001</td>\n",
       "      <td>21889.0</td>\n",
       "      <td>21268.0</td>\n",
       "      <td>22180.0</td>\n",
       "      <td>13460.0</td>\n",
       "      <td>1.0</td>\n",
       "    </tr>\n",
       "    <tr>\n",
       "      <th>a[1,1]</th>\n",
       "      <td>-0.941</td>\n",
       "      <td>0.172</td>\n",
       "      <td>-1.214</td>\n",
       "      <td>-0.669</td>\n",
       "      <td>0.001</td>\n",
       "      <td>0.001</td>\n",
       "      <td>22041.0</td>\n",
       "      <td>20629.0</td>\n",
       "      <td>22257.0</td>\n",
       "      <td>13639.0</td>\n",
       "      <td>1.0</td>\n",
       "    </tr>\n",
       "  </tbody>\n",
       "</table>\n",
       "</div>"
      ],
      "text/plain": [
       "         mean     sd  hdi_5.5%  hdi_94.5%  mcse_mean  mcse_sd  ess_mean  \\\n",
       "a[0,0] -2.246  0.316    -2.741     -1.741      0.002    0.002   22837.0   \n",
       "a[0,1] -1.216  0.118    -1.408     -1.033      0.001    0.001   23101.0   \n",
       "a[1,0] -1.987  0.167    -2.243     -1.712      0.001    0.001   21889.0   \n",
       "a[1,1] -0.941  0.172    -1.214     -0.669      0.001    0.001   22041.0   \n",
       "\n",
       "         ess_sd  ess_bulk  ess_tail  r_hat  \n",
       "a[0,0]  21322.0   23409.0   13680.0    1.0  \n",
       "a[0,1]  22823.0   23129.0   14374.0    1.0  \n",
       "a[1,0]  21268.0   22180.0   13460.0    1.0  \n",
       "a[1,1]  20629.0   22257.0   13639.0    1.0  "
      ]
     },
     "execution_count": 354,
     "metadata": {},
     "output_type": "execute_result"
    },
    {
     "data": {
      "application/javascript": "\n            setTimeout(function() {\n                var nbb_cell_id = 354;\n                var nbb_unformatted_code = \"df_summary_m2\";\n                var nbb_formatted_code = \"df_summary_m2\";\n                var nbb_cells = Jupyter.notebook.get_cells();\n                for (var i = 0; i < nbb_cells.length; ++i) {\n                    if (nbb_cells[i].input_prompt_number == nbb_cell_id) {\n                        if (nbb_cells[i].get_text() == nbb_unformatted_code) {\n                             nbb_cells[i].set_text(nbb_formatted_code);\n                        }\n                        break;\n                    }\n                }\n            }, 500);\n            ",
      "text/plain": [
       "<IPython.core.display.Javascript object>"
      ]
     },
     "metadata": {},
     "output_type": "display_data"
    }
   ],
   "source": [
    "df_summary_m2"
   ]
  },
  {
   "cell_type": "code",
   "execution_count": 356,
   "metadata": {},
   "outputs": [
    {
     "data": {
      "text/html": [
       "<div>\n",
       "<style scoped>\n",
       "    .dataframe tbody tr th:only-of-type {\n",
       "        vertical-align: middle;\n",
       "    }\n",
       "\n",
       "    .dataframe tbody tr th {\n",
       "        vertical-align: top;\n",
       "    }\n",
       "\n",
       "    .dataframe thead th {\n",
       "        text-align: right;\n",
       "    }\n",
       "</style>\n",
       "<table border=\"1\" class=\"dataframe\">\n",
       "  <thead>\n",
       "    <tr style=\"text-align: right;\">\n",
       "      <th></th>\n",
       "      <th>mean</th>\n",
       "      <th>sd</th>\n",
       "      <th>hdi_5.5%</th>\n",
       "      <th>hdi_94.5%</th>\n",
       "      <th>mcse_mean</th>\n",
       "      <th>mcse_sd</th>\n",
       "      <th>ess_mean</th>\n",
       "      <th>ess_sd</th>\n",
       "      <th>ess_bulk</th>\n",
       "      <th>ess_tail</th>\n",
       "      <th>r_hat</th>\n",
       "    </tr>\n",
       "  </thead>\n",
       "  <tbody>\n",
       "    <tr>\n",
       "      <th>a[0]</th>\n",
       "      <td>-0.982</td>\n",
       "      <td>0.764</td>\n",
       "      <td>-2.233</td>\n",
       "      <td>0.221</td>\n",
       "      <td>0.016</td>\n",
       "      <td>0.011</td>\n",
       "      <td>2376.0</td>\n",
       "      <td>2323.0</td>\n",
       "      <td>2376.0</td>\n",
       "      <td>2795.0</td>\n",
       "      <td>1.0</td>\n",
       "    </tr>\n",
       "    <tr>\n",
       "      <th>a[1]</th>\n",
       "      <td>-0.683</td>\n",
       "      <td>0.762</td>\n",
       "      <td>-1.855</td>\n",
       "      <td>0.582</td>\n",
       "      <td>0.016</td>\n",
       "      <td>0.011</td>\n",
       "      <td>2365.0</td>\n",
       "      <td>2304.0</td>\n",
       "      <td>2365.0</td>\n",
       "      <td>2779.0</td>\n",
       "      <td>1.0</td>\n",
       "    </tr>\n",
       "    <tr>\n",
       "      <th>d[0]</th>\n",
       "      <td>-1.371</td>\n",
       "      <td>0.765</td>\n",
       "      <td>-2.623</td>\n",
       "      <td>-0.165</td>\n",
       "      <td>0.016</td>\n",
       "      <td>0.011</td>\n",
       "      <td>2400.0</td>\n",
       "      <td>2400.0</td>\n",
       "      <td>2402.0</td>\n",
       "      <td>2834.0</td>\n",
       "      <td>1.0</td>\n",
       "    </tr>\n",
       "    <tr>\n",
       "      <th>d[1]</th>\n",
       "      <td>-0.262</td>\n",
       "      <td>0.762</td>\n",
       "      <td>-1.469</td>\n",
       "      <td>0.975</td>\n",
       "      <td>0.016</td>\n",
       "      <td>0.011</td>\n",
       "      <td>2373.0</td>\n",
       "      <td>2367.0</td>\n",
       "      <td>2375.0</td>\n",
       "      <td>2783.0</td>\n",
       "      <td>1.0</td>\n",
       "    </tr>\n",
       "  </tbody>\n",
       "</table>\n",
       "</div>"
      ],
      "text/plain": [
       "       mean     sd  hdi_5.5%  hdi_94.5%  mcse_mean  mcse_sd  ess_mean  ess_sd  \\\n",
       "a[0] -0.982  0.764    -2.233      0.221      0.016    0.011    2376.0  2323.0   \n",
       "a[1] -0.683  0.762    -1.855      0.582      0.016    0.011    2365.0  2304.0   \n",
       "d[0] -1.371  0.765    -2.623     -0.165      0.016    0.011    2400.0  2400.0   \n",
       "d[1] -0.262  0.762    -1.469      0.975      0.016    0.011    2373.0  2367.0   \n",
       "\n",
       "      ess_bulk  ess_tail  r_hat  \n",
       "a[0]    2376.0    2795.0    1.0  \n",
       "a[1]    2365.0    2779.0    1.0  \n",
       "d[0]    2402.0    2834.0    1.0  \n",
       "d[1]    2375.0    2783.0    1.0  "
      ]
     },
     "execution_count": 356,
     "metadata": {},
     "output_type": "execute_result"
    },
    {
     "data": {
      "application/javascript": "\n            setTimeout(function() {\n                var nbb_cell_id = 356;\n                var nbb_unformatted_code = \"df_summary_m2add\";\n                var nbb_formatted_code = \"df_summary_m2add\";\n                var nbb_cells = Jupyter.notebook.get_cells();\n                for (var i = 0; i < nbb_cells.length; ++i) {\n                    if (nbb_cells[i].input_prompt_number == nbb_cell_id) {\n                        if (nbb_cells[i].get_text() == nbb_unformatted_code) {\n                             nbb_cells[i].set_text(nbb_formatted_code);\n                        }\n                        break;\n                    }\n                }\n            }, 500);\n            ",
      "text/plain": [
       "<IPython.core.display.Javascript object>"
      ]
     },
     "metadata": {},
     "output_type": "display_data"
    }
   ],
   "source": [
    "df_summary_m2add"
   ]
  },
  {
   "cell_type": "code",
   "execution_count": 294,
   "metadata": {},
   "outputs": [
    {
     "data": {
      "text/plain": [
       "G  D\n",
       "0  0    103\n",
       "   1    398\n",
       "1  0    336\n",
       "   1    163\n",
       "Name: N, dtype: int64"
      ]
     },
     "execution_count": 294,
     "metadata": {},
     "output_type": "execute_result"
    },
    {
     "data": {
      "application/javascript": "\n            setTimeout(function() {\n                var nbb_cell_id = 294;\n                var nbb_unformatted_code = \"df_sim.groupby(['G', 'D']).count().iloc[:,0]\";\n                var nbb_formatted_code = \"df_sim.groupby([\\\"G\\\", \\\"D\\\"]).count().iloc[:, 0]\";\n                var nbb_cells = Jupyter.notebook.get_cells();\n                for (var i = 0; i < nbb_cells.length; ++i) {\n                    if (nbb_cells[i].input_prompt_number == nbb_cell_id) {\n                        if (nbb_cells[i].get_text() == nbb_unformatted_code) {\n                             nbb_cells[i].set_text(nbb_formatted_code);\n                        }\n                        break;\n                    }\n                }\n            }, 500);\n            ",
      "text/plain": [
       "<IPython.core.display.Javascript object>"
      ]
     },
     "metadata": {},
     "output_type": "display_data"
    }
   ],
   "source": [
    "df_sim.groupby(['G', 'D']).count().iloc[:,0]"
   ]
  },
  {
   "cell_type": "code",
   "execution_count": 378,
   "metadata": {},
   "outputs": [
    {
     "data": {
      "text/html": [
       "<div>\n",
       "<style scoped>\n",
       "    .dataframe tbody tr th:only-of-type {\n",
       "        vertical-align: middle;\n",
       "    }\n",
       "\n",
       "    .dataframe tbody tr th {\n",
       "        vertical-align: top;\n",
       "    }\n",
       "\n",
       "    .dataframe thead th {\n",
       "        text-align: right;\n",
       "    }\n",
       "</style>\n",
       "<table border=\"1\" class=\"dataframe\">\n",
       "  <thead>\n",
       "    <tr style=\"text-align: right;\">\n",
       "      <th></th>\n",
       "      <th></th>\n",
       "      <th>N</th>\n",
       "      <th>A</th>\n",
       "    </tr>\n",
       "    <tr>\n",
       "      <th>G</th>\n",
       "      <th>D</th>\n",
       "      <th></th>\n",
       "      <th></th>\n",
       "    </tr>\n",
       "  </thead>\n",
       "  <tbody>\n",
       "    <tr>\n",
       "      <th rowspan=\"2\" valign=\"top\">0</th>\n",
       "      <th>0</th>\n",
       "      <td>103</td>\n",
       "      <td>8</td>\n",
       "    </tr>\n",
       "    <tr>\n",
       "      <th>1</th>\n",
       "      <td>398</td>\n",
       "      <td>90</td>\n",
       "    </tr>\n",
       "    <tr>\n",
       "      <th rowspan=\"2\" valign=\"top\">1</th>\n",
       "      <th>0</th>\n",
       "      <td>336</td>\n",
       "      <td>39</td>\n",
       "    </tr>\n",
       "    <tr>\n",
       "      <th>1</th>\n",
       "      <td>163</td>\n",
       "      <td>45</td>\n",
       "    </tr>\n",
       "  </tbody>\n",
       "</table>\n",
       "</div>"
      ],
      "text/plain": [
       "       N   A\n",
       "G D         \n",
       "0 0  103   8\n",
       "  1  398  90\n",
       "1 0  336  39\n",
       "  1  163  45"
      ]
     },
     "execution_count": 378,
     "metadata": {},
     "output_type": "execute_result"
    },
    {
     "data": {
      "application/javascript": "\n            setTimeout(function() {\n                var nbb_cell_id = 378;\n                var nbb_unformatted_code = \"df_sim.groupby(['G', 'D']).sum()\";\n                var nbb_formatted_code = \"df_sim.groupby([\\\"G\\\", \\\"D\\\"]).sum()\";\n                var nbb_cells = Jupyter.notebook.get_cells();\n                for (var i = 0; i < nbb_cells.length; ++i) {\n                    if (nbb_cells[i].input_prompt_number == nbb_cell_id) {\n                        if (nbb_cells[i].get_text() == nbb_unformatted_code) {\n                             nbb_cells[i].set_text(nbb_formatted_code);\n                        }\n                        break;\n                    }\n                }\n            }, 500);\n            ",
      "text/plain": [
       "<IPython.core.display.Javascript object>"
      ]
     },
     "metadata": {},
     "output_type": "display_data"
    }
   ],
   "source": [
    "df_sim.groupby(['G', 'D']).sum()"
   ]
  },
  {
   "cell_type": "code",
   "execution_count": 391,
   "metadata": {},
   "outputs": [
    {
     "data": {
      "text/plain": [
       "-2.474435349920705"
      ]
     },
     "execution_count": 391,
     "metadata": {},
     "output_type": "execute_result"
    },
    {
     "data": {
      "application/javascript": "\n            setTimeout(function() {\n                var nbb_cell_id = 391;\n                var nbb_unformatted_code = \"logit(8/103)\";\n                var nbb_formatted_code = \"logit(8 / 103)\";\n                var nbb_cells = Jupyter.notebook.get_cells();\n                for (var i = 0; i < nbb_cells.length; ++i) {\n                    if (nbb_cells[i].input_prompt_number == nbb_cell_id) {\n                        if (nbb_cells[i].get_text() == nbb_unformatted_code) {\n                             nbb_cells[i].set_text(nbb_formatted_code);\n                        }\n                        break;\n                    }\n                }\n            }, 500);\n            ",
      "text/plain": [
       "<IPython.core.display.Javascript object>"
      ]
     },
     "metadata": {},
     "output_type": "display_data"
    }
   ],
   "source": [
    "logit(8/103)"
   ]
  },
  {
   "cell_type": "code",
   "execution_count": 392,
   "metadata": {},
   "outputs": [
    {
     "data": {
      "text/plain": [
       "G\n",
       "0    0.195609\n",
       "1    0.168337\n",
       "Name: A, dtype: float64"
      ]
     },
     "execution_count": 392,
     "metadata": {},
     "output_type": "execute_result"
    },
    {
     "data": {
      "application/javascript": "\n            setTimeout(function() {\n                var nbb_cell_id = 392;\n                var nbb_unformatted_code = \"df_sim.groupby(['G']).mean()['A']\";\n                var nbb_formatted_code = \"df_sim.groupby([\\\"G\\\"]).mean()[\\\"A\\\"]\";\n                var nbb_cells = Jupyter.notebook.get_cells();\n                for (var i = 0; i < nbb_cells.length; ++i) {\n                    if (nbb_cells[i].input_prompt_number == nbb_cell_id) {\n                        if (nbb_cells[i].get_text() == nbb_unformatted_code) {\n                             nbb_cells[i].set_text(nbb_formatted_code);\n                        }\n                        break;\n                    }\n                }\n            }, 500);\n            ",
      "text/plain": [
       "<IPython.core.display.Javascript object>"
      ]
     },
     "metadata": {},
     "output_type": "display_data"
    }
   ],
   "source": [
    "df_sim.groupby(['G']).mean()['A']"
   ]
  },
  {
   "cell_type": "code",
   "execution_count": 393,
   "metadata": {},
   "outputs": [
    {
     "data": {
      "text/plain": [
       "D\n",
       "0    0.107062\n",
       "1    0.240642\n",
       "Name: A, dtype: float64"
      ]
     },
     "execution_count": 393,
     "metadata": {},
     "output_type": "execute_result"
    },
    {
     "data": {
      "application/javascript": "\n            setTimeout(function() {\n                var nbb_cell_id = 393;\n                var nbb_unformatted_code = \"df_sim.groupby(['D']).mean()['A']\";\n                var nbb_formatted_code = \"df_sim.groupby([\\\"D\\\"]).mean()[\\\"A\\\"]\";\n                var nbb_cells = Jupyter.notebook.get_cells();\n                for (var i = 0; i < nbb_cells.length; ++i) {\n                    if (nbb_cells[i].input_prompt_number == nbb_cell_id) {\n                        if (nbb_cells[i].get_text() == nbb_unformatted_code) {\n                             nbb_cells[i].set_text(nbb_formatted_code);\n                        }\n                        break;\n                    }\n                }\n            }, 500);\n            ",
      "text/plain": [
       "<IPython.core.display.Javascript object>"
      ]
     },
     "metadata": {},
     "output_type": "display_data"
    }
   ],
   "source": [
    "df_sim.groupby(['D']).mean()['A']"
   ]
  },
  {
   "cell_type": "code",
   "execution_count": 402,
   "metadata": {},
   "outputs": [
    {
     "data": {
      "text/html": [
       "<div>\n",
       "<style scoped>\n",
       "    .dataframe tbody tr th:only-of-type {\n",
       "        vertical-align: middle;\n",
       "    }\n",
       "\n",
       "    .dataframe tbody tr th {\n",
       "        vertical-align: top;\n",
       "    }\n",
       "\n",
       "    .dataframe thead th {\n",
       "        text-align: right;\n",
       "    }\n",
       "</style>\n",
       "<table border=\"1\" class=\"dataframe\">\n",
       "  <thead>\n",
       "    <tr style=\"text-align: right;\">\n",
       "      <th></th>\n",
       "      <th></th>\n",
       "      <th>N</th>\n",
       "      <th>A</th>\n",
       "    </tr>\n",
       "    <tr>\n",
       "      <th>G</th>\n",
       "      <th>D</th>\n",
       "      <th></th>\n",
       "      <th></th>\n",
       "    </tr>\n",
       "  </thead>\n",
       "  <tbody>\n",
       "    <tr>\n",
       "      <th rowspan=\"2\" valign=\"top\">0</th>\n",
       "      <th>0</th>\n",
       "      <td>103</td>\n",
       "      <td>8</td>\n",
       "    </tr>\n",
       "    <tr>\n",
       "      <th>1</th>\n",
       "      <td>398</td>\n",
       "      <td>90</td>\n",
       "    </tr>\n",
       "    <tr>\n",
       "      <th rowspan=\"2\" valign=\"top\">1</th>\n",
       "      <th>0</th>\n",
       "      <td>336</td>\n",
       "      <td>39</td>\n",
       "    </tr>\n",
       "    <tr>\n",
       "      <th>1</th>\n",
       "      <td>163</td>\n",
       "      <td>45</td>\n",
       "    </tr>\n",
       "  </tbody>\n",
       "</table>\n",
       "</div>"
      ],
      "text/plain": [
       "       N   A\n",
       "G D         \n",
       "0 0  103   8\n",
       "  1  398  90\n",
       "1 0  336  39\n",
       "  1  163  45"
      ]
     },
     "execution_count": 402,
     "metadata": {},
     "output_type": "execute_result"
    },
    {
     "data": {
      "application/javascript": "\n            setTimeout(function() {\n                var nbb_cell_id = 402;\n                var nbb_unformatted_code = \"df_sim.groupby(['G', 'D']).sum()\";\n                var nbb_formatted_code = \"df_sim.groupby([\\\"G\\\", \\\"D\\\"]).sum()\";\n                var nbb_cells = Jupyter.notebook.get_cells();\n                for (var i = 0; i < nbb_cells.length; ++i) {\n                    if (nbb_cells[i].input_prompt_number == nbb_cell_id) {\n                        if (nbb_cells[i].get_text() == nbb_unformatted_code) {\n                             nbb_cells[i].set_text(nbb_formatted_code);\n                        }\n                        break;\n                    }\n                }\n            }, 500);\n            ",
      "text/plain": [
       "<IPython.core.display.Javascript object>"
      ]
     },
     "metadata": {},
     "output_type": "display_data"
    }
   ],
   "source": [
    "df_sim.groupby(['G', 'D']).sum()"
   ]
  },
  {
   "cell_type": "code",
   "execution_count": 433,
   "metadata": {},
   "outputs": [
    {
     "data": {
      "text/html": [
       "<div>\n",
       "<style scoped>\n",
       "    .dataframe tbody tr th:only-of-type {\n",
       "        vertical-align: middle;\n",
       "    }\n",
       "\n",
       "    .dataframe tbody tr th {\n",
       "        vertical-align: top;\n",
       "    }\n",
       "\n",
       "    .dataframe thead th {\n",
       "        text-align: right;\n",
       "    }\n",
       "</style>\n",
       "<table border=\"1\" class=\"dataframe\">\n",
       "  <thead>\n",
       "    <tr style=\"text-align: right;\">\n",
       "      <th></th>\n",
       "      <th></th>\n",
       "      <th>N</th>\n",
       "      <th>A</th>\n",
       "    </tr>\n",
       "    <tr>\n",
       "      <th>D</th>\n",
       "      <th>G</th>\n",
       "      <th></th>\n",
       "      <th></th>\n",
       "    </tr>\n",
       "  </thead>\n",
       "  <tbody>\n",
       "    <tr>\n",
       "      <th rowspan=\"2\" valign=\"top\">0</th>\n",
       "      <th>0</th>\n",
       "      <td>1.0</td>\n",
       "      <td>0.077670</td>\n",
       "    </tr>\n",
       "    <tr>\n",
       "      <th>1</th>\n",
       "      <td>1.0</td>\n",
       "      <td>0.116071</td>\n",
       "    </tr>\n",
       "    <tr>\n",
       "      <th rowspan=\"2\" valign=\"top\">1</th>\n",
       "      <th>0</th>\n",
       "      <td>1.0</td>\n",
       "      <td>0.226131</td>\n",
       "    </tr>\n",
       "    <tr>\n",
       "      <th>1</th>\n",
       "      <td>1.0</td>\n",
       "      <td>0.276074</td>\n",
       "    </tr>\n",
       "  </tbody>\n",
       "</table>\n",
       "</div>"
      ],
      "text/plain": [
       "       N         A\n",
       "D G               \n",
       "0 0  1.0  0.077670\n",
       "  1  1.0  0.116071\n",
       "1 0  1.0  0.226131\n",
       "  1  1.0  0.276074"
      ]
     },
     "execution_count": 433,
     "metadata": {},
     "output_type": "execute_result"
    },
    {
     "data": {
      "application/javascript": "\n            setTimeout(function() {\n                var nbb_cell_id = 433;\n                var nbb_unformatted_code = \"df_sim.groupby(['D', 'G']).mean()\";\n                var nbb_formatted_code = \"df_sim.groupby([\\\"D\\\", \\\"G\\\"]).mean()\";\n                var nbb_cells = Jupyter.notebook.get_cells();\n                for (var i = 0; i < nbb_cells.length; ++i) {\n                    if (nbb_cells[i].input_prompt_number == nbb_cell_id) {\n                        if (nbb_cells[i].get_text() == nbb_unformatted_code) {\n                             nbb_cells[i].set_text(nbb_formatted_code);\n                        }\n                        break;\n                    }\n                }\n            }, 500);\n            ",
      "text/plain": [
       "<IPython.core.display.Javascript object>"
      ]
     },
     "metadata": {},
     "output_type": "display_data"
    }
   ],
   "source": [
    "df_sim.groupby(['D', 'G']).mean()"
   ]
  },
  {
   "cell_type": "code",
   "execution_count": 436,
   "metadata": {},
   "outputs": [
    {
     "data": {
      "text/plain": [
       "0.088"
      ]
     },
     "execution_count": 436,
     "metadata": {},
     "output_type": "execute_result"
    },
    {
     "data": {
      "application/javascript": "\n            setTimeout(function() {\n                var nbb_cell_id = 436;\n                var nbb_unformatted_code = \".077 + .011\";\n                var nbb_formatted_code = \"0.077 + 0.011\";\n                var nbb_cells = Jupyter.notebook.get_cells();\n                for (var i = 0; i < nbb_cells.length; ++i) {\n                    if (nbb_cells[i].input_prompt_number == nbb_cell_id) {\n                        if (nbb_cells[i].get_text() == nbb_unformatted_code) {\n                             nbb_cells[i].set_text(nbb_formatted_code);\n                        }\n                        break;\n                    }\n                }\n            }, 500);\n            ",
      "text/plain": [
       "<IPython.core.display.Javascript object>"
      ]
     },
     "metadata": {},
     "output_type": "display_data"
    }
   ],
   "source": [
    ".077 + .011"
   ]
  },
  {
   "cell_type": "code",
   "execution_count": 435,
   "metadata": {},
   "outputs": [
    {
     "data": {
      "text/plain": [
       "0.27249512024599126"
      ]
     },
     "execution_count": 435,
     "metadata": {},
     "output_type": "execute_result"
    },
    {
     "data": {
      "application/javascript": "\n            setTimeout(function() {\n                var nbb_cell_id = 435;\n                var nbb_unformatted_code = \"expit(-0.982)\";\n                var nbb_formatted_code = \"expit(-0.982)\";\n                var nbb_cells = Jupyter.notebook.get_cells();\n                for (var i = 0; i < nbb_cells.length; ++i) {\n                    if (nbb_cells[i].input_prompt_number == nbb_cell_id) {\n                        if (nbb_cells[i].get_text() == nbb_unformatted_code) {\n                             nbb_cells[i].set_text(nbb_formatted_code);\n                        }\n                        break;\n                    }\n                }\n            }, 500);\n            ",
      "text/plain": [
       "<IPython.core.display.Javascript object>"
      ]
     },
     "metadata": {},
     "output_type": "display_data"
    }
   ],
   "source": [
    "expit(-0.982)"
   ]
  },
  {
   "cell_type": "code",
   "execution_count": null,
   "metadata": {},
   "outputs": [],
   "source": []
  },
  {
   "cell_type": "code",
   "execution_count": null,
   "metadata": {},
   "outputs": [],
   "source": []
  },
  {
   "cell_type": "markdown",
   "metadata": {},
   "source": [
    "Average for G and D"
   ]
  },
  {
   "cell_type": "code",
   "execution_count": 426,
   "metadata": {},
   "outputs": [
    {
     "data": {
      "text/plain": [
       "0.19560878243512975"
      ]
     },
     "execution_count": 426,
     "metadata": {},
     "output_type": "execute_result"
    },
    {
     "data": {
      "application/javascript": "\n            setTimeout(function() {\n                var nbb_cell_id = 426;\n                var nbb_unformatted_code = \"# Ignoring D:\\n(90 + 8) / (103 + 398)\";\n                var nbb_formatted_code = \"# Ignoring D:\\n(90 + 8) / (103 + 398)\";\n                var nbb_cells = Jupyter.notebook.get_cells();\n                for (var i = 0; i < nbb_cells.length; ++i) {\n                    if (nbb_cells[i].input_prompt_number == nbb_cell_id) {\n                        if (nbb_cells[i].get_text() == nbb_unformatted_code) {\n                             nbb_cells[i].set_text(nbb_formatted_code);\n                        }\n                        break;\n                    }\n                }\n            }, 500);\n            ",
      "text/plain": [
       "<IPython.core.display.Javascript object>"
      ]
     },
     "metadata": {},
     "output_type": "display_data"
    }
   ],
   "source": [
    "# Ignoring D:\n",
    "\n",
    "(90 + 8) / (103 + 398)"
   ]
  },
  {
   "cell_type": "code",
   "execution_count": null,
   "metadata": {},
   "outputs": [],
   "source": [
    "# weighted average considering D\n",
    "\n"
   ]
  },
  {
   "cell_type": "code",
   "execution_count": 399,
   "metadata": {},
   "outputs": [
    {
     "data": {
      "text/plain": [
       "(a[0,0]   -2.246\n",
       " a[0,1]   -1.216\n",
       " a[1,0]   -1.987\n",
       " a[1,1]   -0.941\n",
       " Name: mean, dtype: float64,\n",
       " a[0,0]    0.095695\n",
       " a[0,1]    0.228641\n",
       " a[1,0]    0.120575\n",
       " a[1,1]    0.280698\n",
       " Name: mean, dtype: float64)"
      ]
     },
     "execution_count": 399,
     "metadata": {},
     "output_type": "execute_result"
    },
    {
     "data": {
      "application/javascript": "\n            setTimeout(function() {\n                var nbb_cell_id = 399;\n                var nbb_unformatted_code = \"df_summary_m2['mean'], expit(df_summary_m2['mean'])\";\n                var nbb_formatted_code = \"df_summary_m2[\\\"mean\\\"], expit(df_summary_m2[\\\"mean\\\"])\";\n                var nbb_cells = Jupyter.notebook.get_cells();\n                for (var i = 0; i < nbb_cells.length; ++i) {\n                    if (nbb_cells[i].input_prompt_number == nbb_cell_id) {\n                        if (nbb_cells[i].get_text() == nbb_unformatted_code) {\n                             nbb_cells[i].set_text(nbb_formatted_code);\n                        }\n                        break;\n                    }\n                }\n            }, 500);\n            ",
      "text/plain": [
       "<IPython.core.display.Javascript object>"
      ]
     },
     "metadata": {},
     "output_type": "display_data"
    }
   ],
   "source": [
    "df_summary_m2['mean'], expit(df_summary_m2['mean'])"
   ]
  },
  {
   "cell_type": "code",
   "execution_count": 438,
   "metadata": {},
   "outputs": [
    {
     "data": {
      "text/plain": [
       "-0.733915895578884"
      ]
     },
     "execution_count": 438,
     "metadata": {},
     "output_type": "execute_result"
    },
    {
     "data": {
      "application/javascript": "\n            setTimeout(function() {\n                var nbb_cell_id = 438;\n                var nbb_unformatted_code = \"logit(0.095695 + 0.228641) \";\n                var nbb_formatted_code = \"logit(0.095695 + 0.228641)\";\n                var nbb_cells = Jupyter.notebook.get_cells();\n                for (var i = 0; i < nbb_cells.length; ++i) {\n                    if (nbb_cells[i].input_prompt_number == nbb_cell_id) {\n                        if (nbb_cells[i].get_text() == nbb_unformatted_code) {\n                             nbb_cells[i].set_text(nbb_formatted_code);\n                        }\n                        break;\n                    }\n                }\n            }, 500);\n            ",
      "text/plain": [
       "<IPython.core.display.Javascript object>"
      ]
     },
     "metadata": {},
     "output_type": "display_data"
    }
   ],
   "source": [
    "logit(0.095695 + 0.228641) "
   ]
  },
  {
   "cell_type": "code",
   "execution_count": 443,
   "metadata": {},
   "outputs": [
    {
     "data": {
      "text/plain": [
       "0.46989271696768226"
      ]
     },
     "execution_count": 443,
     "metadata": {},
     "output_type": "execute_result"
    },
    {
     "data": {
      "application/javascript": "\n            setTimeout(function() {\n                var nbb_cell_id = 443;\n                var nbb_unformatted_code = \" expit(0.095695 - (0.095695 + 0.120575))\";\n                var nbb_formatted_code = \"expit(0.095695 - (0.095695 + 0.120575))\";\n                var nbb_cells = Jupyter.notebook.get_cells();\n                for (var i = 0; i < nbb_cells.length; ++i) {\n                    if (nbb_cells[i].input_prompt_number == nbb_cell_id) {\n                        if (nbb_cells[i].get_text() == nbb_unformatted_code) {\n                             nbb_cells[i].set_text(nbb_formatted_code);\n                        }\n                        break;\n                    }\n                }\n            }, 500);\n            ",
      "text/plain": [
       "<IPython.core.display.Javascript object>"
      ]
     },
     "metadata": {},
     "output_type": "display_data"
    }
   ],
   "source": [
    " expit(0.095695 - (0.095695 + 0.120575))"
   ]
  },
  {
   "cell_type": "code",
   "execution_count": 397,
   "metadata": {},
   "outputs": [
    {
     "data": {
      "text/plain": [
       "(a[0]   -0.982\n",
       " a[1]   -0.683\n",
       " d[0]   -1.371\n",
       " d[1]   -0.262\n",
       " Name: mean, dtype: float64,\n",
       " a[0]    0.272495\n",
       " a[1]    0.335592\n",
       " d[0]    0.202458\n",
       " d[1]    0.434872\n",
       " Name: mean, dtype: float64)"
      ]
     },
     "execution_count": 397,
     "metadata": {},
     "output_type": "execute_result"
    },
    {
     "data": {
      "application/javascript": "\n            setTimeout(function() {\n                var nbb_cell_id = 397;\n                var nbb_unformatted_code = \"df_summary_m2add['mean'], expit(df_summary_m2add['mean'])\";\n                var nbb_formatted_code = \"df_summary_m2add[\\\"mean\\\"], expit(df_summary_m2add[\\\"mean\\\"])\";\n                var nbb_cells = Jupyter.notebook.get_cells();\n                for (var i = 0; i < nbb_cells.length; ++i) {\n                    if (nbb_cells[i].input_prompt_number == nbb_cell_id) {\n                        if (nbb_cells[i].get_text() == nbb_unformatted_code) {\n                             nbb_cells[i].set_text(nbb_formatted_code);\n                        }\n                        break;\n                    }\n                }\n            }, 500);\n            ",
      "text/plain": [
       "<IPython.core.display.Javascript object>"
      ]
     },
     "metadata": {},
     "output_type": "display_data"
    }
   ],
   "source": [
    "df_summary_m2add['mean'], expit(df_summary_m2add['mean'])"
   ]
  },
  {
   "cell_type": "code",
   "execution_count": 444,
   "metadata": {},
   "outputs": [
    {
     "data": {
      "text/plain": [
       "0.27249512024599126"
      ]
     },
     "execution_count": 444,
     "metadata": {},
     "output_type": "execute_result"
    },
    {
     "data": {
      "application/javascript": "\n            setTimeout(function() {\n                var nbb_cell_id = 444;\n                var nbb_unformatted_code = \"expit(-0.982)\";\n                var nbb_formatted_code = \"expit(-0.982)\";\n                var nbb_cells = Jupyter.notebook.get_cells();\n                for (var i = 0; i < nbb_cells.length; ++i) {\n                    if (nbb_cells[i].input_prompt_number == nbb_cell_id) {\n                        if (nbb_cells[i].get_text() == nbb_unformatted_code) {\n                             nbb_cells[i].set_text(nbb_formatted_code);\n                        }\n                        break;\n                    }\n                }\n            }, 500);\n            ",
      "text/plain": [
       "<IPython.core.display.Javascript object>"
      ]
     },
     "metadata": {},
     "output_type": "display_data"
    }
   ],
   "source": [
    "expit(-0.982)"
   ]
  },
  {
   "cell_type": "code",
   "execution_count": 368,
   "metadata": {},
   "outputs": [
    {
     "name": "stdout",
     "output_type": "stream",
     "text": [
      "0 0 -2.3529999999999998\n",
      "0 1 -1.244\n",
      "1 0 -2.0540000000000003\n",
      "1 1 -0.9450000000000001\n"
     ]
    },
    {
     "data": {
      "application/javascript": "\n            setTimeout(function() {\n                var nbb_cell_id = 368;\n                var nbb_unformatted_code = \"# I can get each value of a in the interaction model\\nfor i in range(2):\\n    for j in range(2):\\n        print(i, j, df_summary_m2add.loc[f'a[{i}]', 'mean'] + df_summary_m2add.loc[f'd[{j}]', 'mean'])\";\n                var nbb_formatted_code = \"# I can get each value of a in the interaction model\\nfor i in range(2):\\n    for j in range(2):\\n        print(\\n            i,\\n            j,\\n            df_summary_m2add.loc[f\\\"a[{i}]\\\", \\\"mean\\\"]\\n            + df_summary_m2add.loc[f\\\"d[{j}]\\\", \\\"mean\\\"],\\n        )\";\n                var nbb_cells = Jupyter.notebook.get_cells();\n                for (var i = 0; i < nbb_cells.length; ++i) {\n                    if (nbb_cells[i].input_prompt_number == nbb_cell_id) {\n                        if (nbb_cells[i].get_text() == nbb_unformatted_code) {\n                             nbb_cells[i].set_text(nbb_formatted_code);\n                        }\n                        break;\n                    }\n                }\n            }, 500);\n            ",
      "text/plain": [
       "<IPython.core.display.Javascript object>"
      ]
     },
     "metadata": {},
     "output_type": "display_data"
    }
   ],
   "source": [
    "# I can get each value of a in the interaction model\n",
    "for i in range(2):\n",
    "    for j in range(2):\n",
    "        print(i, j, df_summary_m2add.loc[f'a[{i}]', 'mean'] + df_summary_m2add.loc[f'd[{j}]', 'mean'])"
   ]
  },
  {
   "cell_type": "code",
   "execution_count": 369,
   "metadata": {},
   "outputs": [
    {
     "name": "stdout",
     "output_type": "stream",
     "text": [
      "0 0 -0.875\n",
      "0 1 -0.954\n",
      "1 0 -0.6160000000000001\n",
      "1 1 -0.6789999999999999\n"
     ]
    },
    {
     "data": {
      "application/javascript": "\n            setTimeout(function() {\n                var nbb_cell_id = 369;\n                var nbb_unformatted_code = \"# go from interaction to additive model\\nfor i in range(2):\\n    for j in range(2):\\n        print(i, j, df_summary_m2.loc[f'a[{i},{j}]', 'mean'] - df_summary_m2add.loc[f'd[{j}]', 'mean'])\";\n                var nbb_formatted_code = \"# go from interaction to additive model\\nfor i in range(2):\\n    for j in range(2):\\n        print(\\n            i,\\n            j,\\n            df_summary_m2.loc[f\\\"a[{i},{j}]\\\", \\\"mean\\\"]\\n            - df_summary_m2add.loc[f\\\"d[{j}]\\\", \\\"mean\\\"],\\n        )\";\n                var nbb_cells = Jupyter.notebook.get_cells();\n                for (var i = 0; i < nbb_cells.length; ++i) {\n                    if (nbb_cells[i].input_prompt_number == nbb_cell_id) {\n                        if (nbb_cells[i].get_text() == nbb_unformatted_code) {\n                             nbb_cells[i].set_text(nbb_formatted_code);\n                        }\n                        break;\n                    }\n                }\n            }, 500);\n            ",
      "text/plain": [
       "<IPython.core.display.Javascript object>"
      ]
     },
     "metadata": {},
     "output_type": "display_data"
    }
   ],
   "source": [
    "# go from interaction to additive model\n",
    "for i in range(2):\n",
    "    for j in range(2):\n",
    "        print(i, j, df_summary_m2.loc[f'a[{i},{j}]', 'mean'] - df_summary_m2add.loc[f'd[{j}]', 'mean'])"
   ]
  },
  {
   "cell_type": "code",
   "execution_count": 416,
   "metadata": {},
   "outputs": [
    {
     "data": {
      "text/plain": [
       "-0.7339149929344341"
      ]
     },
     "execution_count": 416,
     "metadata": {},
     "output_type": "execute_result"
    },
    {
     "data": {
      "application/javascript": "\n            setTimeout(function() {\n                var nbb_cell_id = 416;\n                var nbb_unformatted_code = \"logit((expit(-2.246) + expit(-1.216)))\";\n                var nbb_formatted_code = \"logit((expit(-2.246) + expit(-1.216)))\";\n                var nbb_cells = Jupyter.notebook.get_cells();\n                for (var i = 0; i < nbb_cells.length; ++i) {\n                    if (nbb_cells[i].input_prompt_number == nbb_cell_id) {\n                        if (nbb_cells[i].get_text() == nbb_unformatted_code) {\n                             nbb_cells[i].set_text(nbb_formatted_code);\n                        }\n                        break;\n                    }\n                }\n            }, 500);\n            ",
      "text/plain": [
       "<IPython.core.display.Javascript object>"
      ]
     },
     "metadata": {},
     "output_type": "display_data"
    }
   ],
   "source": [
    "logit((expit(-2.246) + expit(-1.216)))"
   ]
  },
  {
   "cell_type": "code",
   "execution_count": 421,
   "metadata": {},
   "outputs": [
    {
     "data": {
      "text/plain": [
       "-0.7339149929344341"
      ]
     },
     "execution_count": 421,
     "metadata": {},
     "output_type": "execute_result"
    },
    {
     "data": {
      "application/javascript": "\n            setTimeout(function() {\n                var nbb_cell_id = 421;\n                var nbb_unformatted_code = \"logit((expit(-2.246) + expit(-1.216)))\";\n                var nbb_formatted_code = \"logit((expit(-2.246) + expit(-1.216)))\";\n                var nbb_cells = Jupyter.notebook.get_cells();\n                for (var i = 0; i < nbb_cells.length; ++i) {\n                    if (nbb_cells[i].input_prompt_number == nbb_cell_id) {\n                        if (nbb_cells[i].get_text() == nbb_unformatted_code) {\n                             nbb_cells[i].set_text(nbb_formatted_code);\n                        }\n                        break;\n                    }\n                }\n            }, 500);\n            ",
      "text/plain": [
       "<IPython.core.display.Javascript object>"
      ]
     },
     "metadata": {},
     "output_type": "display_data"
    }
   ],
   "source": [
    "logit((expit(-2.246) + expit(-1.216)))"
   ]
  },
  {
   "cell_type": "markdown",
   "metadata": {},
   "source": [
    "Probability of admittance, given G=0... controlling for D.\n",
    "\n",
    "When D is set to its average."
   ]
  },
  {
   "cell_type": "code",
   "execution_count": 420,
   "metadata": {},
   "outputs": [
    {
     "data": {
      "text/plain": [
       "-0.71934632623816"
      ]
     },
     "execution_count": 420,
     "metadata": {},
     "output_type": "execute_result"
    },
    {
     "data": {
      "application/javascript": "\n            setTimeout(function() {\n                var nbb_cell_id = 420;\n                var nbb_unformatted_code = \"logit(expit(trace_m2_df['a__0_0']) + expit(trace_m2_df['a__0_1'])).mean()\";\n                var nbb_formatted_code = \"logit(expit(trace_m2_df[\\\"a__0_0\\\"]) + expit(trace_m2_df[\\\"a__0_1\\\"])).mean()\";\n                var nbb_cells = Jupyter.notebook.get_cells();\n                for (var i = 0; i < nbb_cells.length; ++i) {\n                    if (nbb_cells[i].input_prompt_number == nbb_cell_id) {\n                        if (nbb_cells[i].get_text() == nbb_unformatted_code) {\n                             nbb_cells[i].set_text(nbb_formatted_code);\n                        }\n                        break;\n                    }\n                }\n            }, 500);\n            ",
      "text/plain": [
       "<IPython.core.display.Javascript object>"
      ]
     },
     "metadata": {},
     "output_type": "display_data"
    }
   ],
   "source": [
    "logit(expit(trace_m2_df['a__0_0']) + expit(trace_m2_df['a__0_1'])).mean()"
   ]
  },
  {
   "cell_type": "code",
   "execution_count": null,
   "metadata": {},
   "outputs": [],
   "source": []
  },
  {
   "cell_type": "code",
   "execution_count": null,
   "metadata": {},
   "outputs": [],
   "source": []
  },
  {
   "cell_type": "code",
   "execution_count": 415,
   "metadata": {},
   "outputs": [
    {
     "data": {
      "text/html": [
       "<div>\n",
       "<style scoped>\n",
       "    .dataframe tbody tr th:only-of-type {\n",
       "        vertical-align: middle;\n",
       "    }\n",
       "\n",
       "    .dataframe tbody tr th {\n",
       "        vertical-align: top;\n",
       "    }\n",
       "\n",
       "    .dataframe thead th {\n",
       "        text-align: right;\n",
       "    }\n",
       "</style>\n",
       "<table border=\"1\" class=\"dataframe\">\n",
       "  <thead>\n",
       "    <tr style=\"text-align: right;\">\n",
       "      <th></th>\n",
       "      <th>mean</th>\n",
       "      <th>sd</th>\n",
       "      <th>hdi_5.5%</th>\n",
       "      <th>hdi_94.5%</th>\n",
       "      <th>mcse_mean</th>\n",
       "      <th>mcse_sd</th>\n",
       "      <th>ess_mean</th>\n",
       "      <th>ess_sd</th>\n",
       "      <th>ess_bulk</th>\n",
       "      <th>ess_tail</th>\n",
       "      <th>r_hat</th>\n",
       "    </tr>\n",
       "  </thead>\n",
       "  <tbody>\n",
       "    <tr>\n",
       "      <th>a[0,0]</th>\n",
       "      <td>-2.246</td>\n",
       "      <td>0.316</td>\n",
       "      <td>-2.741</td>\n",
       "      <td>-1.741</td>\n",
       "      <td>0.002</td>\n",
       "      <td>0.002</td>\n",
       "      <td>22837.0</td>\n",
       "      <td>21322.0</td>\n",
       "      <td>23409.0</td>\n",
       "      <td>13680.0</td>\n",
       "      <td>1.0</td>\n",
       "    </tr>\n",
       "    <tr>\n",
       "      <th>a[0,1]</th>\n",
       "      <td>-1.216</td>\n",
       "      <td>0.118</td>\n",
       "      <td>-1.408</td>\n",
       "      <td>-1.033</td>\n",
       "      <td>0.001</td>\n",
       "      <td>0.001</td>\n",
       "      <td>23101.0</td>\n",
       "      <td>22823.0</td>\n",
       "      <td>23129.0</td>\n",
       "      <td>14374.0</td>\n",
       "      <td>1.0</td>\n",
       "    </tr>\n",
       "    <tr>\n",
       "      <th>a[1,0]</th>\n",
       "      <td>-1.987</td>\n",
       "      <td>0.167</td>\n",
       "      <td>-2.243</td>\n",
       "      <td>-1.712</td>\n",
       "      <td>0.001</td>\n",
       "      <td>0.001</td>\n",
       "      <td>21889.0</td>\n",
       "      <td>21268.0</td>\n",
       "      <td>22180.0</td>\n",
       "      <td>13460.0</td>\n",
       "      <td>1.0</td>\n",
       "    </tr>\n",
       "    <tr>\n",
       "      <th>a[1,1]</th>\n",
       "      <td>-0.941</td>\n",
       "      <td>0.172</td>\n",
       "      <td>-1.214</td>\n",
       "      <td>-0.669</td>\n",
       "      <td>0.001</td>\n",
       "      <td>0.001</td>\n",
       "      <td>22041.0</td>\n",
       "      <td>20629.0</td>\n",
       "      <td>22257.0</td>\n",
       "      <td>13639.0</td>\n",
       "      <td>1.0</td>\n",
       "    </tr>\n",
       "  </tbody>\n",
       "</table>\n",
       "</div>"
      ],
      "text/plain": [
       "         mean     sd  hdi_5.5%  hdi_94.5%  mcse_mean  mcse_sd  ess_mean  \\\n",
       "a[0,0] -2.246  0.316    -2.741     -1.741      0.002    0.002   22837.0   \n",
       "a[0,1] -1.216  0.118    -1.408     -1.033      0.001    0.001   23101.0   \n",
       "a[1,0] -1.987  0.167    -2.243     -1.712      0.001    0.001   21889.0   \n",
       "a[1,1] -0.941  0.172    -1.214     -0.669      0.001    0.001   22041.0   \n",
       "\n",
       "         ess_sd  ess_bulk  ess_tail  r_hat  \n",
       "a[0,0]  21322.0   23409.0   13680.0    1.0  \n",
       "a[0,1]  22823.0   23129.0   14374.0    1.0  \n",
       "a[1,0]  21268.0   22180.0   13460.0    1.0  \n",
       "a[1,1]  20629.0   22257.0   13639.0    1.0  "
      ]
     },
     "execution_count": 415,
     "metadata": {},
     "output_type": "execute_result"
    },
    {
     "data": {
      "application/javascript": "\n            setTimeout(function() {\n                var nbb_cell_id = 415;\n                var nbb_unformatted_code = \"df_summary_m2.head()\";\n                var nbb_formatted_code = \"df_summary_m2.head()\";\n                var nbb_cells = Jupyter.notebook.get_cells();\n                for (var i = 0; i < nbb_cells.length; ++i) {\n                    if (nbb_cells[i].input_prompt_number == nbb_cell_id) {\n                        if (nbb_cells[i].get_text() == nbb_unformatted_code) {\n                             nbb_cells[i].set_text(nbb_formatted_code);\n                        }\n                        break;\n                    }\n                }\n            }, 500);\n            ",
      "text/plain": [
       "<IPython.core.display.Javascript object>"
      ]
     },
     "metadata": {},
     "output_type": "display_data"
    }
   ],
   "source": [
    "df_summary_m2.head()"
   ]
  },
  {
   "cell_type": "code",
   "execution_count": 371,
   "metadata": {},
   "outputs": [
    {
     "data": {
      "text/html": [
       "<div>\n",
       "<style scoped>\n",
       "    .dataframe tbody tr th:only-of-type {\n",
       "        vertical-align: middle;\n",
       "    }\n",
       "\n",
       "    .dataframe tbody tr th {\n",
       "        vertical-align: top;\n",
       "    }\n",
       "\n",
       "    .dataframe thead th {\n",
       "        text-align: right;\n",
       "    }\n",
       "</style>\n",
       "<table border=\"1\" class=\"dataframe\">\n",
       "  <thead>\n",
       "    <tr style=\"text-align: right;\">\n",
       "      <th></th>\n",
       "      <th>mean</th>\n",
       "      <th>sd</th>\n",
       "      <th>hdi_5.5%</th>\n",
       "      <th>hdi_94.5%</th>\n",
       "      <th>mcse_mean</th>\n",
       "      <th>mcse_sd</th>\n",
       "      <th>ess_mean</th>\n",
       "      <th>ess_sd</th>\n",
       "      <th>ess_bulk</th>\n",
       "      <th>ess_tail</th>\n",
       "      <th>r_hat</th>\n",
       "    </tr>\n",
       "  </thead>\n",
       "  <tbody>\n",
       "    <tr>\n",
       "      <th>a[0]</th>\n",
       "      <td>-0.982</td>\n",
       "      <td>0.764</td>\n",
       "      <td>-2.233</td>\n",
       "      <td>0.221</td>\n",
       "      <td>0.016</td>\n",
       "      <td>0.011</td>\n",
       "      <td>2376.0</td>\n",
       "      <td>2323.0</td>\n",
       "      <td>2376.0</td>\n",
       "      <td>2795.0</td>\n",
       "      <td>1.0</td>\n",
       "    </tr>\n",
       "    <tr>\n",
       "      <th>a[1]</th>\n",
       "      <td>-0.683</td>\n",
       "      <td>0.762</td>\n",
       "      <td>-1.855</td>\n",
       "      <td>0.582</td>\n",
       "      <td>0.016</td>\n",
       "      <td>0.011</td>\n",
       "      <td>2365.0</td>\n",
       "      <td>2304.0</td>\n",
       "      <td>2365.0</td>\n",
       "      <td>2779.0</td>\n",
       "      <td>1.0</td>\n",
       "    </tr>\n",
       "    <tr>\n",
       "      <th>d[0]</th>\n",
       "      <td>-1.371</td>\n",
       "      <td>0.765</td>\n",
       "      <td>-2.623</td>\n",
       "      <td>-0.165</td>\n",
       "      <td>0.016</td>\n",
       "      <td>0.011</td>\n",
       "      <td>2400.0</td>\n",
       "      <td>2400.0</td>\n",
       "      <td>2402.0</td>\n",
       "      <td>2834.0</td>\n",
       "      <td>1.0</td>\n",
       "    </tr>\n",
       "    <tr>\n",
       "      <th>d[1]</th>\n",
       "      <td>-0.262</td>\n",
       "      <td>0.762</td>\n",
       "      <td>-1.469</td>\n",
       "      <td>0.975</td>\n",
       "      <td>0.016</td>\n",
       "      <td>0.011</td>\n",
       "      <td>2373.0</td>\n",
       "      <td>2367.0</td>\n",
       "      <td>2375.0</td>\n",
       "      <td>2783.0</td>\n",
       "      <td>1.0</td>\n",
       "    </tr>\n",
       "  </tbody>\n",
       "</table>\n",
       "</div>"
      ],
      "text/plain": [
       "       mean     sd  hdi_5.5%  hdi_94.5%  mcse_mean  mcse_sd  ess_mean  ess_sd  \\\n",
       "a[0] -0.982  0.764    -2.233      0.221      0.016    0.011    2376.0  2323.0   \n",
       "a[1] -0.683  0.762    -1.855      0.582      0.016    0.011    2365.0  2304.0   \n",
       "d[0] -1.371  0.765    -2.623     -0.165      0.016    0.011    2400.0  2400.0   \n",
       "d[1] -0.262  0.762    -1.469      0.975      0.016    0.011    2373.0  2367.0   \n",
       "\n",
       "      ess_bulk  ess_tail  r_hat  \n",
       "a[0]    2376.0    2795.0    1.0  \n",
       "a[1]    2365.0    2779.0    1.0  \n",
       "d[0]    2402.0    2834.0    1.0  \n",
       "d[1]    2375.0    2783.0    1.0  "
      ]
     },
     "execution_count": 371,
     "metadata": {},
     "output_type": "execute_result"
    },
    {
     "data": {
      "application/javascript": "\n            setTimeout(function() {\n                var nbb_cell_id = 371;\n                var nbb_unformatted_code = \"df_summary_m2add.head()\";\n                var nbb_formatted_code = \"df_summary_m2add.head()\";\n                var nbb_cells = Jupyter.notebook.get_cells();\n                for (var i = 0; i < nbb_cells.length; ++i) {\n                    if (nbb_cells[i].input_prompt_number == nbb_cell_id) {\n                        if (nbb_cells[i].get_text() == nbb_unformatted_code) {\n                             nbb_cells[i].set_text(nbb_formatted_code);\n                        }\n                        break;\n                    }\n                }\n            }, 500);\n            ",
      "text/plain": [
       "<IPython.core.display.Javascript object>"
      ]
     },
     "metadata": {},
     "output_type": "display_data"
    }
   ],
   "source": [
    "df_summary_m2add.head()"
   ]
  },
  {
   "cell_type": "code",
   "execution_count": 384,
   "metadata": {},
   "outputs": [
    {
     "data": {
      "text/plain": [
       "0.13506153373837831"
      ]
     },
     "execution_count": 384,
     "metadata": {},
     "output_type": "execute_result"
    },
    {
     "data": {
      "application/javascript": "\n            setTimeout(function() {\n                var nbb_cell_id = 384;\n                var nbb_unformatted_code = \"(49/601) + (23.5/439)\";\n                var nbb_formatted_code = \"(49 / 601) + (23.5 / 439)\";\n                var nbb_cells = Jupyter.notebook.get_cells();\n                for (var i = 0; i < nbb_cells.length; ++i) {\n                    if (nbb_cells[i].input_prompt_number == nbb_cell_id) {\n                        if (nbb_cells[i].get_text() == nbb_unformatted_code) {\n                             nbb_cells[i].set_text(nbb_formatted_code);\n                        }\n                        break;\n                    }\n                }\n            }, 500);\n            ",
      "text/plain": [
       "<IPython.core.display.Javascript object>"
      ]
     },
     "metadata": {},
     "output_type": "display_data"
    }
   ],
   "source": [
    "(49/601) + (23.5/439)"
   ]
  },
  {
   "cell_type": "code",
   "execution_count": 385,
   "metadata": {},
   "outputs": [
    {
     "data": {
      "text/plain": [
       "-1.774367726516186"
      ]
     },
     "execution_count": 385,
     "metadata": {},
     "output_type": "execute_result"
    },
    {
     "data": {
      "application/javascript": "\n            setTimeout(function() {\n                var nbb_cell_id = 385;\n                var nbb_unformatted_code = \"logit(0.145)\";\n                var nbb_formatted_code = \"logit(0.145)\";\n                var nbb_cells = Jupyter.notebook.get_cells();\n                for (var i = 0; i < nbb_cells.length; ++i) {\n                    if (nbb_cells[i].input_prompt_number == nbb_cell_id) {\n                        if (nbb_cells[i].get_text() == nbb_unformatted_code) {\n                             nbb_cells[i].set_text(nbb_formatted_code);\n                        }\n                        break;\n                    }\n                }\n            }, 500);\n            ",
      "text/plain": [
       "<IPython.core.display.Javascript object>"
      ]
     },
     "metadata": {},
     "output_type": "display_data"
    }
   ],
   "source": [
    "logit(0.145)"
   ]
  },
  {
   "cell_type": "code",
   "execution_count": 375,
   "metadata": {},
   "outputs": [
    {
     "data": {
      "text/plain": [
       "1.9870000000000005"
      ]
     },
     "execution_count": 375,
     "metadata": {},
     "output_type": "execute_result"
    },
    {
     "data": {
      "application/javascript": "\n            setTimeout(function() {\n                var nbb_cell_id = 375;\n                var nbb_unformatted_code = \"df_summary_m2.loc['a[0,0]', 'mean'] -  df_summary_m2.loc[['a[0,0]', 'a[1,0]'], 'mean'].sum()\";\n                var nbb_formatted_code = \"df_summary_m2.loc[\\\"a[0,0]\\\", \\\"mean\\\"] - df_summary_m2.loc[\\n    [\\\"a[0,0]\\\", \\\"a[1,0]\\\"], \\\"mean\\\"\\n].sum()\";\n                var nbb_cells = Jupyter.notebook.get_cells();\n                for (var i = 0; i < nbb_cells.length; ++i) {\n                    if (nbb_cells[i].input_prompt_number == nbb_cell_id) {\n                        if (nbb_cells[i].get_text() == nbb_unformatted_code) {\n                             nbb_cells[i].set_text(nbb_formatted_code);\n                        }\n                        break;\n                    }\n                }\n            }, 500);\n            ",
      "text/plain": [
       "<IPython.core.display.Javascript object>"
      ]
     },
     "metadata": {},
     "output_type": "display_data"
    }
   ],
   "source": [
    "df_summary_m2.loc['a[0,0]', 'mean'] -  df_summary_m2.loc[['a[0,0]', 'a[1,0]'], 'mean'].sum()"
   ]
  },
  {
   "cell_type": "code",
   "execution_count": 376,
   "metadata": {},
   "outputs": [
    {
     "data": {
      "text/plain": [
       "a[0,0]   -2.246\n",
       "a[1,0]   -1.987\n",
       "Name: mean, dtype: float64"
      ]
     },
     "execution_count": 376,
     "metadata": {},
     "output_type": "execute_result"
    },
    {
     "data": {
      "application/javascript": "\n            setTimeout(function() {\n                var nbb_cell_id = 376;\n                var nbb_unformatted_code = \"df_summary_m2.loc[['a[0,0]', 'a[1,0]'], 'mean']\";\n                var nbb_formatted_code = \"df_summary_m2.loc[[\\\"a[0,0]\\\", \\\"a[1,0]\\\"], \\\"mean\\\"]\";\n                var nbb_cells = Jupyter.notebook.get_cells();\n                for (var i = 0; i < nbb_cells.length; ++i) {\n                    if (nbb_cells[i].input_prompt_number == nbb_cell_id) {\n                        if (nbb_cells[i].get_text() == nbb_unformatted_code) {\n                             nbb_cells[i].set_text(nbb_formatted_code);\n                        }\n                        break;\n                    }\n                }\n            }, 500);\n            ",
      "text/plain": [
       "<IPython.core.display.Javascript object>"
      ]
     },
     "metadata": {},
     "output_type": "display_data"
    }
   ],
   "source": [
    "df_summary_m2.loc[['a[0,0]', 'a[1,0]'], 'mean']"
   ]
  },
  {
   "cell_type": "markdown",
   "metadata": {},
   "source": [
    "In a multiple regression model, a coefficient is something that reflects a one unit change in X_j holding all other variables constant (e.g. better to say when variables are at their means).\n",
    "\n",
    "[source1](https://stats.stackexchange.com/questions/84314/what-does-all-else-equal-mean-in-multiple-regression)\n",
    "<br>\n",
    "[source2](https://stats.stackexchange.com/questions/78828/is-there-a-difference-between-controlling-for-and-ignoring-other-variables-i/78830#78830)"
   ]
  },
  {
   "cell_type": "code",
   "execution_count": 350,
   "metadata": {},
   "outputs": [
    {
     "data": {
      "text/html": [
       "<div>\n",
       "<style scoped>\n",
       "    .dataframe tbody tr th:only-of-type {\n",
       "        vertical-align: middle;\n",
       "    }\n",
       "\n",
       "    .dataframe tbody tr th {\n",
       "        vertical-align: top;\n",
       "    }\n",
       "\n",
       "    .dataframe thead th {\n",
       "        text-align: right;\n",
       "    }\n",
       "</style>\n",
       "<table border=\"1\" class=\"dataframe\">\n",
       "  <thead>\n",
       "    <tr style=\"text-align: right;\">\n",
       "      <th></th>\n",
       "      <th>mean</th>\n",
       "      <th>sd</th>\n",
       "      <th>hdi_5.5%</th>\n",
       "      <th>hdi_94.5%</th>\n",
       "      <th>mcse_mean</th>\n",
       "      <th>mcse_sd</th>\n",
       "      <th>ess_mean</th>\n",
       "      <th>ess_sd</th>\n",
       "      <th>ess_bulk</th>\n",
       "      <th>ess_tail</th>\n",
       "      <th>r_hat</th>\n",
       "    </tr>\n",
       "  </thead>\n",
       "  <tbody>\n",
       "    <tr>\n",
       "      <th>a[0]</th>\n",
       "      <td>-0.982</td>\n",
       "      <td>0.764</td>\n",
       "      <td>-2.233</td>\n",
       "      <td>0.221</td>\n",
       "      <td>0.016</td>\n",
       "      <td>0.011</td>\n",
       "      <td>2376.0</td>\n",
       "      <td>2323.0</td>\n",
       "      <td>2376.0</td>\n",
       "      <td>2795.0</td>\n",
       "      <td>1.0</td>\n",
       "    </tr>\n",
       "    <tr>\n",
       "      <th>a[1]</th>\n",
       "      <td>-0.683</td>\n",
       "      <td>0.762</td>\n",
       "      <td>-1.855</td>\n",
       "      <td>0.582</td>\n",
       "      <td>0.016</td>\n",
       "      <td>0.011</td>\n",
       "      <td>2365.0</td>\n",
       "      <td>2304.0</td>\n",
       "      <td>2365.0</td>\n",
       "      <td>2779.0</td>\n",
       "      <td>1.0</td>\n",
       "    </tr>\n",
       "    <tr>\n",
       "      <th>d[0]</th>\n",
       "      <td>-1.371</td>\n",
       "      <td>0.765</td>\n",
       "      <td>-2.623</td>\n",
       "      <td>-0.165</td>\n",
       "      <td>0.016</td>\n",
       "      <td>0.011</td>\n",
       "      <td>2400.0</td>\n",
       "      <td>2400.0</td>\n",
       "      <td>2402.0</td>\n",
       "      <td>2834.0</td>\n",
       "      <td>1.0</td>\n",
       "    </tr>\n",
       "    <tr>\n",
       "      <th>d[1]</th>\n",
       "      <td>-0.262</td>\n",
       "      <td>0.762</td>\n",
       "      <td>-1.469</td>\n",
       "      <td>0.975</td>\n",
       "      <td>0.016</td>\n",
       "      <td>0.011</td>\n",
       "      <td>2373.0</td>\n",
       "      <td>2367.0</td>\n",
       "      <td>2375.0</td>\n",
       "      <td>2783.0</td>\n",
       "      <td>1.0</td>\n",
       "    </tr>\n",
       "  </tbody>\n",
       "</table>\n",
       "</div>"
      ],
      "text/plain": [
       "       mean     sd  hdi_5.5%  hdi_94.5%  mcse_mean  mcse_sd  ess_mean  ess_sd  \\\n",
       "a[0] -0.982  0.764    -2.233      0.221      0.016    0.011    2376.0  2323.0   \n",
       "a[1] -0.683  0.762    -1.855      0.582      0.016    0.011    2365.0  2304.0   \n",
       "d[0] -1.371  0.765    -2.623     -0.165      0.016    0.011    2400.0  2400.0   \n",
       "d[1] -0.262  0.762    -1.469      0.975      0.016    0.011    2373.0  2367.0   \n",
       "\n",
       "      ess_bulk  ess_tail  r_hat  \n",
       "a[0]    2376.0    2795.0    1.0  \n",
       "a[1]    2365.0    2779.0    1.0  \n",
       "d[0]    2402.0    2834.0    1.0  \n",
       "d[1]    2375.0    2783.0    1.0  "
      ]
     },
     "execution_count": 350,
     "metadata": {},
     "output_type": "execute_result"
    },
    {
     "data": {
      "application/javascript": "\n            setTimeout(function() {\n                var nbb_cell_id = 350;\n                var nbb_unformatted_code = \"df_summary_m2add\";\n                var nbb_formatted_code = \"df_summary_m2add\";\n                var nbb_cells = Jupyter.notebook.get_cells();\n                for (var i = 0; i < nbb_cells.length; ++i) {\n                    if (nbb_cells[i].input_prompt_number == nbb_cell_id) {\n                        if (nbb_cells[i].get_text() == nbb_unformatted_code) {\n                             nbb_cells[i].set_text(nbb_formatted_code);\n                        }\n                        break;\n                    }\n                }\n            }, 500);\n            ",
      "text/plain": [
       "<IPython.core.display.Javascript object>"
      ]
     },
     "metadata": {},
     "output_type": "display_data"
    }
   ],
   "source": [
    "df_summary_m2add"
   ]
  },
  {
   "cell_type": "code",
   "execution_count": 295,
   "metadata": {},
   "outputs": [
    {
     "data": {
      "text/html": [
       "<div>\n",
       "<style scoped>\n",
       "    .dataframe tbody tr th:only-of-type {\n",
       "        vertical-align: middle;\n",
       "    }\n",
       "\n",
       "    .dataframe tbody tr th {\n",
       "        vertical-align: top;\n",
       "    }\n",
       "\n",
       "    .dataframe thead th {\n",
       "        text-align: right;\n",
       "    }\n",
       "</style>\n",
       "<table border=\"1\" class=\"dataframe\">\n",
       "  <thead>\n",
       "    <tr style=\"text-align: right;\">\n",
       "      <th></th>\n",
       "      <th>N</th>\n",
       "      <th>G</th>\n",
       "      <th>D</th>\n",
       "      <th>A</th>\n",
       "    </tr>\n",
       "  </thead>\n",
       "  <tbody>\n",
       "    <tr>\n",
       "      <th>0</th>\n",
       "      <td>1</td>\n",
       "      <td>0</td>\n",
       "      <td>1</td>\n",
       "      <td>0</td>\n",
       "    </tr>\n",
       "    <tr>\n",
       "      <th>1</th>\n",
       "      <td>1</td>\n",
       "      <td>0</td>\n",
       "      <td>1</td>\n",
       "      <td>0</td>\n",
       "    </tr>\n",
       "    <tr>\n",
       "      <th>2</th>\n",
       "      <td>1</td>\n",
       "      <td>1</td>\n",
       "      <td>0</td>\n",
       "      <td>0</td>\n",
       "    </tr>\n",
       "    <tr>\n",
       "      <th>3</th>\n",
       "      <td>1</td>\n",
       "      <td>1</td>\n",
       "      <td>0</td>\n",
       "      <td>0</td>\n",
       "    </tr>\n",
       "    <tr>\n",
       "      <th>4</th>\n",
       "      <td>1</td>\n",
       "      <td>1</td>\n",
       "      <td>1</td>\n",
       "      <td>0</td>\n",
       "    </tr>\n",
       "    <tr>\n",
       "      <th>...</th>\n",
       "      <td>...</td>\n",
       "      <td>...</td>\n",
       "      <td>...</td>\n",
       "      <td>...</td>\n",
       "    </tr>\n",
       "    <tr>\n",
       "      <th>995</th>\n",
       "      <td>1</td>\n",
       "      <td>1</td>\n",
       "      <td>1</td>\n",
       "      <td>0</td>\n",
       "    </tr>\n",
       "    <tr>\n",
       "      <th>996</th>\n",
       "      <td>1</td>\n",
       "      <td>0</td>\n",
       "      <td>1</td>\n",
       "      <td>1</td>\n",
       "    </tr>\n",
       "    <tr>\n",
       "      <th>997</th>\n",
       "      <td>1</td>\n",
       "      <td>1</td>\n",
       "      <td>1</td>\n",
       "      <td>0</td>\n",
       "    </tr>\n",
       "    <tr>\n",
       "      <th>998</th>\n",
       "      <td>1</td>\n",
       "      <td>0</td>\n",
       "      <td>1</td>\n",
       "      <td>0</td>\n",
       "    </tr>\n",
       "    <tr>\n",
       "      <th>999</th>\n",
       "      <td>1</td>\n",
       "      <td>1</td>\n",
       "      <td>0</td>\n",
       "      <td>0</td>\n",
       "    </tr>\n",
       "  </tbody>\n",
       "</table>\n",
       "<p>1000 rows × 4 columns</p>\n",
       "</div>"
      ],
      "text/plain": [
       "     N  G  D  A\n",
       "0    1  0  1  0\n",
       "1    1  0  1  0\n",
       "2    1  1  0  0\n",
       "3    1  1  0  0\n",
       "4    1  1  1  0\n",
       "..  .. .. .. ..\n",
       "995  1  1  1  0\n",
       "996  1  0  1  1\n",
       "997  1  1  1  0\n",
       "998  1  0  1  0\n",
       "999  1  1  0  0\n",
       "\n",
       "[1000 rows x 4 columns]"
      ]
     },
     "execution_count": 295,
     "metadata": {},
     "output_type": "execute_result"
    },
    {
     "data": {
      "application/javascript": "\n            setTimeout(function() {\n                var nbb_cell_id = 295;\n                var nbb_unformatted_code = \"df_sim\";\n                var nbb_formatted_code = \"df_sim\";\n                var nbb_cells = Jupyter.notebook.get_cells();\n                for (var i = 0; i < nbb_cells.length; ++i) {\n                    if (nbb_cells[i].input_prompt_number == nbb_cell_id) {\n                        if (nbb_cells[i].get_text() == nbb_unformatted_code) {\n                             nbb_cells[i].set_text(nbb_formatted_code);\n                        }\n                        break;\n                    }\n                }\n            }, 500);\n            ",
      "text/plain": [
       "<IPython.core.display.Javascript object>"
      ]
     },
     "metadata": {},
     "output_type": "display_data"
    }
   ],
   "source": [
    "df_sim"
   ]
  },
  {
   "cell_type": "code",
   "execution_count": 300,
   "metadata": {},
   "outputs": [
    {
     "data": {
      "text/html": [
       "<div>\n",
       "<style scoped>\n",
       "    .dataframe tbody tr th:only-of-type {\n",
       "        vertical-align: middle;\n",
       "    }\n",
       "\n",
       "    .dataframe tbody tr th {\n",
       "        vertical-align: top;\n",
       "    }\n",
       "\n",
       "    .dataframe thead th {\n",
       "        text-align: right;\n",
       "    }\n",
       "</style>\n",
       "<table border=\"1\" class=\"dataframe\">\n",
       "  <thead>\n",
       "    <tr style=\"text-align: right;\">\n",
       "      <th></th>\n",
       "      <th>D</th>\n",
       "      <th>N</th>\n",
       "    </tr>\n",
       "  </thead>\n",
       "  <tbody>\n",
       "    <tr>\n",
       "      <th>0</th>\n",
       "      <td>0</td>\n",
       "      <td>439</td>\n",
       "    </tr>\n",
       "    <tr>\n",
       "      <th>1</th>\n",
       "      <td>1</td>\n",
       "      <td>561</td>\n",
       "    </tr>\n",
       "  </tbody>\n",
       "</table>\n",
       "</div>"
      ],
      "text/plain": [
       "   D    N\n",
       "0  0  439\n",
       "1  1  561"
      ]
     },
     "execution_count": 300,
     "metadata": {},
     "output_type": "execute_result"
    },
    {
     "data": {
      "application/javascript": "\n            setTimeout(function() {\n                var nbb_cell_id = 300;\n                var nbb_unformatted_code = \"# number of applications to simulate for post-stratification\\ntotal_apps = len(df_sim)\\n\\n# number of applications per department\\napps_per_dept = df_sim.groupby('D').count()['N'].reset_index()\\napps_per_dept\";\n                var nbb_formatted_code = \"# number of applications to simulate for post-stratification\\ntotal_apps = len(df_sim)\\n\\n# number of applications per department\\napps_per_dept = df_sim.groupby(\\\"D\\\").count()[\\\"N\\\"].reset_index()\\napps_per_dept\";\n                var nbb_cells = Jupyter.notebook.get_cells();\n                for (var i = 0; i < nbb_cells.length; ++i) {\n                    if (nbb_cells[i].input_prompt_number == nbb_cell_id) {\n                        if (nbb_cells[i].get_text() == nbb_unformatted_code) {\n                             nbb_cells[i].set_text(nbb_formatted_code);\n                        }\n                        break;\n                    }\n                }\n            }, 500);\n            ",
      "text/plain": [
       "<IPython.core.display.Javascript object>"
      ]
     },
     "metadata": {},
     "output_type": "display_data"
    }
   ],
   "source": [
    "# number of applications to simulate for post-stratification\n",
    "total_apps = len(df_sim)\n",
    "\n",
    "# number of applications per department\n",
    "apps_per_dept = df_sim.groupby('D').count()['N'].reset_index()\n",
    "apps_per_dept"
   ]
  },
  {
   "cell_type": "code",
   "execution_count": 301,
   "metadata": {},
   "outputs": [
    {
     "data": {
      "text/html": [
       "<div>\n",
       "<style scoped>\n",
       "    .dataframe tbody tr th:only-of-type {\n",
       "        vertical-align: middle;\n",
       "    }\n",
       "\n",
       "    .dataframe tbody tr th {\n",
       "        vertical-align: top;\n",
       "    }\n",
       "\n",
       "    .dataframe thead th {\n",
       "        text-align: right;\n",
       "    }\n",
       "</style>\n",
       "<table border=\"1\" class=\"dataframe\">\n",
       "  <thead>\n",
       "    <tr style=\"text-align: right;\">\n",
       "      <th></th>\n",
       "      <th>N</th>\n",
       "      <th>G</th>\n",
       "      <th>D</th>\n",
       "      <th>A</th>\n",
       "    </tr>\n",
       "  </thead>\n",
       "  <tbody>\n",
       "    <tr>\n",
       "      <th>0</th>\n",
       "      <td>1</td>\n",
       "      <td>0</td>\n",
       "      <td>1</td>\n",
       "      <td>0</td>\n",
       "    </tr>\n",
       "    <tr>\n",
       "      <th>1</th>\n",
       "      <td>1</td>\n",
       "      <td>0</td>\n",
       "      <td>1</td>\n",
       "      <td>0</td>\n",
       "    </tr>\n",
       "    <tr>\n",
       "      <th>2</th>\n",
       "      <td>1</td>\n",
       "      <td>1</td>\n",
       "      <td>0</td>\n",
       "      <td>0</td>\n",
       "    </tr>\n",
       "    <tr>\n",
       "      <th>3</th>\n",
       "      <td>1</td>\n",
       "      <td>1</td>\n",
       "      <td>0</td>\n",
       "      <td>0</td>\n",
       "    </tr>\n",
       "    <tr>\n",
       "      <th>4</th>\n",
       "      <td>1</td>\n",
       "      <td>1</td>\n",
       "      <td>1</td>\n",
       "      <td>0</td>\n",
       "    </tr>\n",
       "    <tr>\n",
       "      <th>...</th>\n",
       "      <td>...</td>\n",
       "      <td>...</td>\n",
       "      <td>...</td>\n",
       "      <td>...</td>\n",
       "    </tr>\n",
       "    <tr>\n",
       "      <th>995</th>\n",
       "      <td>1</td>\n",
       "      <td>1</td>\n",
       "      <td>1</td>\n",
       "      <td>0</td>\n",
       "    </tr>\n",
       "    <tr>\n",
       "      <th>996</th>\n",
       "      <td>1</td>\n",
       "      <td>0</td>\n",
       "      <td>1</td>\n",
       "      <td>1</td>\n",
       "    </tr>\n",
       "    <tr>\n",
       "      <th>997</th>\n",
       "      <td>1</td>\n",
       "      <td>1</td>\n",
       "      <td>1</td>\n",
       "      <td>0</td>\n",
       "    </tr>\n",
       "    <tr>\n",
       "      <th>998</th>\n",
       "      <td>1</td>\n",
       "      <td>0</td>\n",
       "      <td>1</td>\n",
       "      <td>0</td>\n",
       "    </tr>\n",
       "    <tr>\n",
       "      <th>999</th>\n",
       "      <td>1</td>\n",
       "      <td>1</td>\n",
       "      <td>0</td>\n",
       "      <td>0</td>\n",
       "    </tr>\n",
       "  </tbody>\n",
       "</table>\n",
       "<p>1000 rows × 4 columns</p>\n",
       "</div>"
      ],
      "text/plain": [
       "     N  G  D  A\n",
       "0    1  0  1  0\n",
       "1    1  0  1  0\n",
       "2    1  1  0  0\n",
       "3    1  1  0  0\n",
       "4    1  1  1  0\n",
       "..  .. .. .. ..\n",
       "995  1  1  1  0\n",
       "996  1  0  1  1\n",
       "997  1  1  1  0\n",
       "998  1  0  1  0\n",
       "999  1  1  0  0\n",
       "\n",
       "[1000 rows x 4 columns]"
      ]
     },
     "execution_count": 301,
     "metadata": {},
     "output_type": "execute_result"
    },
    {
     "data": {
      "application/javascript": "\n            setTimeout(function() {\n                var nbb_cell_id = 301;\n                var nbb_unformatted_code = \"df_sim\";\n                var nbb_formatted_code = \"df_sim\";\n                var nbb_cells = Jupyter.notebook.get_cells();\n                for (var i = 0; i < nbb_cells.length; ++i) {\n                    if (nbb_cells[i].input_prompt_number == nbb_cell_id) {\n                        if (nbb_cells[i].get_text() == nbb_unformatted_code) {\n                             nbb_cells[i].set_text(nbb_formatted_code);\n                        }\n                        break;\n                    }\n                }\n            }, 500);\n            ",
      "text/plain": [
       "<IPython.core.display.Javascript object>"
      ]
     },
     "metadata": {},
     "output_type": "display_data"
    }
   ],
   "source": [
    "df_sim"
   ]
  },
  {
   "cell_type": "code",
   "execution_count": 306,
   "metadata": {},
   "outputs": [
    {
     "data": {
      "application/javascript": "\n            setTimeout(function() {\n                var nbb_cell_id = 306;\n                var nbb_unformatted_code = \"# Create the same structure as the dataset but have them \\n# them all be female; make another df where it's all male\\n# This gives them have the same number\\ndf_g0 = df_sim[['G', 'D']].copy()\\ndf_g0['G'] = 0\\n\\ndf_g1 = df_sim[['G', 'D']].copy()\\ndf_g1['G'] = 1\";\n                var nbb_formatted_code = \"# Create the same structure as the dataset but have them\\n# them all be female; make another df where it's all male\\n# This gives them have the same number\\ndf_g0 = df_sim[[\\\"G\\\", \\\"D\\\"]].copy()\\ndf_g0[\\\"G\\\"] = 0\\n\\ndf_g1 = df_sim[[\\\"G\\\", \\\"D\\\"]].copy()\\ndf_g1[\\\"G\\\"] = 1\";\n                var nbb_cells = Jupyter.notebook.get_cells();\n                for (var i = 0; i < nbb_cells.length; ++i) {\n                    if (nbb_cells[i].input_prompt_number == nbb_cell_id) {\n                        if (nbb_cells[i].get_text() == nbb_unformatted_code) {\n                             nbb_cells[i].set_text(nbb_formatted_code);\n                        }\n                        break;\n                    }\n                }\n            }, 500);\n            ",
      "text/plain": [
       "<IPython.core.display.Javascript object>"
      ]
     },
     "metadata": {},
     "output_type": "display_data"
    }
   ],
   "source": [
    "# Create the same structure as the dataset but have them \n",
    "# them all be female; make another df where it's all male\n",
    "# This gives them have the same number\n",
    "df_g0 = df_sim[['G', 'D']].copy()\n",
    "df_g0['G'] = 0\n",
    "\n",
    "df_g1 = df_sim[['G', 'D']].copy()\n",
    "df_g1['G'] = 1\n"
   ]
  },
  {
   "cell_type": "code",
   "execution_count": 309,
   "metadata": {},
   "outputs": [
    {
     "data": {
      "application/javascript": "\n            setTimeout(function() {\n                var nbb_cell_id = 309;\n                var nbb_unformatted_code = \"# Create an array that will hold the posteriors for each application\\n# Initialize for speed\\na_G0 = np.zeros((len(df_g0), len(trace_m2_df)))\\na_G1 = np.zeros((len(df_g1), len(trace_m2_df)))\";\n                var nbb_formatted_code = \"# Create an array that will hold the posteriors for each application\\n# Initialize for speed\\na_G0 = np.zeros((len(df_g0), len(trace_m2_df)))\\na_G1 = np.zeros((len(df_g1), len(trace_m2_df)))\";\n                var nbb_cells = Jupyter.notebook.get_cells();\n                for (var i = 0; i < nbb_cells.length; ++i) {\n                    if (nbb_cells[i].input_prompt_number == nbb_cell_id) {\n                        if (nbb_cells[i].get_text() == nbb_unformatted_code) {\n                             nbb_cells[i].set_text(nbb_formatted_code);\n                        }\n                        break;\n                    }\n                }\n            }, 500);\n            ",
      "text/plain": [
       "<IPython.core.display.Javascript object>"
      ]
     },
     "metadata": {},
     "output_type": "display_data"
    }
   ],
   "source": [
    "# Create an array that will hold the posteriors for each application\n",
    "# Initialize for speed\n",
    "a_G0 = np.zeros((len(df_g0), len(trace_m2_df)))\n",
    "a_G1 = np.zeros((len(df_g1), len(trace_m2_df)))"
   ]
  },
  {
   "cell_type": "code",
   "execution_count": 318,
   "metadata": {},
   "outputs": [
    {
     "data": {
      "application/javascript": "\n            setTimeout(function() {\n                var nbb_cell_id = 318;\n                var nbb_unformatted_code = \"# Dataframe is the same between genders, so use just one to get discipline and apply it to both\\nfor i in range(len(df_g0)):\\n    dept = df_g0.loc[i, 'D']\\n    a_G0[i, :] = trace_m2_df[f'a__0_{dept}']\\n    a_G1[i, :] = trace_m2_df[f'a__1_{dept}']\";\n                var nbb_formatted_code = \"# Dataframe is the same between genders, so use just one to get discipline and apply it to both\\nfor i in range(len(df_g0)):\\n    dept = df_g0.loc[i, \\\"D\\\"]\\n    a_G0[i, :] = trace_m2_df[f\\\"a__0_{dept}\\\"]\\n    a_G1[i, :] = trace_m2_df[f\\\"a__1_{dept}\\\"]\";\n                var nbb_cells = Jupyter.notebook.get_cells();\n                for (var i = 0; i < nbb_cells.length; ++i) {\n                    if (nbb_cells[i].input_prompt_number == nbb_cell_id) {\n                        if (nbb_cells[i].get_text() == nbb_unformatted_code) {\n                             nbb_cells[i].set_text(nbb_formatted_code);\n                        }\n                        break;\n                    }\n                }\n            }, 500);\n            ",
      "text/plain": [
       "<IPython.core.display.Javascript object>"
      ]
     },
     "metadata": {},
     "output_type": "display_data"
    }
   ],
   "source": [
    "# Dataframe is the same between genders, so use just one to get discipline and apply it to both\n",
    "for i in range(len(df_g0)):\n",
    "    dept = df_g0.loc[i, 'D']\n",
    "    a_G0[i, :] = trace_m2_df[f'a__0_{dept}']\n",
    "    a_G1[i, :] = trace_m2_df[f'a__1_{dept}']"
   ]
  },
  {
   "cell_type": "code",
   "execution_count": 344,
   "metadata": {},
   "outputs": [
    {
     "data": {
      "text/html": [
       "<div>\n",
       "<style scoped>\n",
       "    .dataframe tbody tr th:only-of-type {\n",
       "        vertical-align: middle;\n",
       "    }\n",
       "\n",
       "    .dataframe tbody tr th {\n",
       "        vertical-align: top;\n",
       "    }\n",
       "\n",
       "    .dataframe thead th {\n",
       "        text-align: right;\n",
       "    }\n",
       "</style>\n",
       "<table border=\"1\" class=\"dataframe\">\n",
       "  <thead>\n",
       "    <tr style=\"text-align: right;\">\n",
       "      <th></th>\n",
       "      <th>mean</th>\n",
       "      <th>sd</th>\n",
       "      <th>hdi_5.5%</th>\n",
       "      <th>hdi_94.5%</th>\n",
       "      <th>mcse_mean</th>\n",
       "      <th>mcse_sd</th>\n",
       "      <th>ess_mean</th>\n",
       "      <th>ess_sd</th>\n",
       "      <th>ess_bulk</th>\n",
       "      <th>ess_tail</th>\n",
       "      <th>r_hat</th>\n",
       "    </tr>\n",
       "  </thead>\n",
       "  <tbody>\n",
       "    <tr>\n",
       "      <th>x</th>\n",
       "      <td>-1.668</td>\n",
       "      <td>0.559</td>\n",
       "      <td>-2.492</td>\n",
       "      <td>-0.999</td>\n",
       "      <td>0.016</td>\n",
       "      <td>0.011</td>\n",
       "      <td>1201.0</td>\n",
       "      <td>1201.0</td>\n",
       "      <td>1597.0</td>\n",
       "      <td>19682.0</td>\n",
       "      <td>1.64</td>\n",
       "    </tr>\n",
       "  </tbody>\n",
       "</table>\n",
       "</div>"
      ],
      "text/plain": [
       "    mean     sd  hdi_5.5%  hdi_94.5%  mcse_mean  mcse_sd  ess_mean  ess_sd  \\\n",
       "x -1.668  0.559    -2.492     -0.999      0.016    0.011    1201.0  1201.0   \n",
       "\n",
       "   ess_bulk  ess_tail  r_hat  \n",
       "x    1597.0   19682.0   1.64  "
      ]
     },
     "execution_count": 344,
     "metadata": {},
     "output_type": "execute_result"
    },
    {
     "data": {
      "application/javascript": "\n            setTimeout(function() {\n                var nbb_cell_id = 344;\n                var nbb_unformatted_code = \"az.summary(a_G0)\";\n                var nbb_formatted_code = \"az.summary(a_G0)\";\n                var nbb_cells = Jupyter.notebook.get_cells();\n                for (var i = 0; i < nbb_cells.length; ++i) {\n                    if (nbb_cells[i].input_prompt_number == nbb_cell_id) {\n                        if (nbb_cells[i].get_text() == nbb_unformatted_code) {\n                             nbb_cells[i].set_text(nbb_formatted_code);\n                        }\n                        break;\n                    }\n                }\n            }, 500);\n            ",
      "text/plain": [
       "<IPython.core.display.Javascript object>"
      ]
     },
     "metadata": {},
     "output_type": "display_data"
    }
   ],
   "source": [
    "az.summary(a_G0)"
   ]
  },
  {
   "cell_type": "code",
   "execution_count": 345,
   "metadata": {},
   "outputs": [
    {
     "data": {
      "text/html": [
       "<div>\n",
       "<style scoped>\n",
       "    .dataframe tbody tr th:only-of-type {\n",
       "        vertical-align: middle;\n",
       "    }\n",
       "\n",
       "    .dataframe tbody tr th {\n",
       "        vertical-align: top;\n",
       "    }\n",
       "\n",
       "    .dataframe thead th {\n",
       "        text-align: right;\n",
       "    }\n",
       "</style>\n",
       "<table border=\"1\" class=\"dataframe\">\n",
       "  <thead>\n",
       "    <tr style=\"text-align: right;\">\n",
       "      <th></th>\n",
       "      <th>mean</th>\n",
       "      <th>sd</th>\n",
       "      <th>hdi_5.5%</th>\n",
       "      <th>hdi_94.5%</th>\n",
       "      <th>mcse_mean</th>\n",
       "      <th>mcse_sd</th>\n",
       "      <th>ess_mean</th>\n",
       "      <th>ess_sd</th>\n",
       "      <th>ess_bulk</th>\n",
       "      <th>ess_tail</th>\n",
       "      <th>r_hat</th>\n",
       "    </tr>\n",
       "  </thead>\n",
       "  <tbody>\n",
       "    <tr>\n",
       "      <th>x</th>\n",
       "      <td>-1.4</td>\n",
       "      <td>0.546</td>\n",
       "      <td>-2.163</td>\n",
       "      <td>-0.707</td>\n",
       "      <td>0.016</td>\n",
       "      <td>0.012</td>\n",
       "      <td>1109.0</td>\n",
       "      <td>1109.0</td>\n",
       "      <td>1595.0</td>\n",
       "      <td>19997.0</td>\n",
       "      <td>1.65</td>\n",
       "    </tr>\n",
       "  </tbody>\n",
       "</table>\n",
       "</div>"
      ],
      "text/plain": [
       "   mean     sd  hdi_5.5%  hdi_94.5%  mcse_mean  mcse_sd  ess_mean  ess_sd  \\\n",
       "x  -1.4  0.546    -2.163     -0.707      0.016    0.012    1109.0  1109.0   \n",
       "\n",
       "   ess_bulk  ess_tail  r_hat  \n",
       "x    1595.0   19997.0   1.65  "
      ]
     },
     "execution_count": 345,
     "metadata": {},
     "output_type": "execute_result"
    },
    {
     "data": {
      "application/javascript": "\n            setTimeout(function() {\n                var nbb_cell_id = 345;\n                var nbb_unformatted_code = \"az.summary(a_G1)\";\n                var nbb_formatted_code = \"az.summary(a_G1)\";\n                var nbb_cells = Jupyter.notebook.get_cells();\n                for (var i = 0; i < nbb_cells.length; ++i) {\n                    if (nbb_cells[i].input_prompt_number == nbb_cell_id) {\n                        if (nbb_cells[i].get_text() == nbb_unformatted_code) {\n                             nbb_cells[i].set_text(nbb_formatted_code);\n                        }\n                        break;\n                    }\n                }\n            }, 500);\n            ",
      "text/plain": [
       "<IPython.core.display.Javascript object>"
      ]
     },
     "metadata": {},
     "output_type": "display_data"
    }
   ],
   "source": [
    "az.summary(a_G1)"
   ]
  },
  {
   "cell_type": "code",
   "execution_count": 346,
   "metadata": {},
   "outputs": [
    {
     "data": {
      "text/html": [
       "<div>\n",
       "<style scoped>\n",
       "    .dataframe tbody tr th:only-of-type {\n",
       "        vertical-align: middle;\n",
       "    }\n",
       "\n",
       "    .dataframe tbody tr th {\n",
       "        vertical-align: top;\n",
       "    }\n",
       "\n",
       "    .dataframe thead th {\n",
       "        text-align: right;\n",
       "    }\n",
       "</style>\n",
       "<table border=\"1\" class=\"dataframe\">\n",
       "  <thead>\n",
       "    <tr style=\"text-align: right;\">\n",
       "      <th></th>\n",
       "      <th>mean</th>\n",
       "      <th>sd</th>\n",
       "      <th>hdi_5.5%</th>\n",
       "      <th>hdi_94.5%</th>\n",
       "      <th>mcse_mean</th>\n",
       "      <th>mcse_sd</th>\n",
       "      <th>ess_mean</th>\n",
       "      <th>ess_sd</th>\n",
       "      <th>ess_bulk</th>\n",
       "      <th>ess_tail</th>\n",
       "      <th>r_hat</th>\n",
       "    </tr>\n",
       "  </thead>\n",
       "  <tbody>\n",
       "    <tr>\n",
       "      <th>x</th>\n",
       "      <td>0.268</td>\n",
       "      <td>0.284</td>\n",
       "      <td>-0.188</td>\n",
       "      <td>0.705</td>\n",
       "      <td>0.0</td>\n",
       "      <td>0.001</td>\n",
       "      <td>22761695.0</td>\n",
       "      <td>48884.0</td>\n",
       "      <td>23101016.0</td>\n",
       "      <td>39636.0</td>\n",
       "      <td>1.04</td>\n",
       "    </tr>\n",
       "  </tbody>\n",
       "</table>\n",
       "</div>"
      ],
      "text/plain": [
       "    mean     sd  hdi_5.5%  hdi_94.5%  mcse_mean  mcse_sd    ess_mean   ess_sd  \\\n",
       "x  0.268  0.284    -0.188      0.705        0.0    0.001  22761695.0  48884.0   \n",
       "\n",
       "     ess_bulk  ess_tail  r_hat  \n",
       "x  23101016.0   39636.0   1.04  "
      ]
     },
     "execution_count": 346,
     "metadata": {},
     "output_type": "execute_result"
    },
    {
     "data": {
      "application/javascript": "\n            setTimeout(function() {\n                var nbb_cell_id = 346;\n                var nbb_unformatted_code = \"# difference from post-stratification of interaction model\\naz.summary(a_G1 - a_G0)\";\n                var nbb_formatted_code = \"# difference from post-stratification of interaction model\\naz.summary(a_G1 - a_G0)\";\n                var nbb_cells = Jupyter.notebook.get_cells();\n                for (var i = 0; i < nbb_cells.length; ++i) {\n                    if (nbb_cells[i].input_prompt_number == nbb_cell_id) {\n                        if (nbb_cells[i].get_text() == nbb_unformatted_code) {\n                             nbb_cells[i].set_text(nbb_formatted_code);\n                        }\n                        break;\n                    }\n                }\n            }, 500);\n            ",
      "text/plain": [
       "<IPython.core.display.Javascript object>"
      ]
     },
     "metadata": {},
     "output_type": "display_data"
    }
   ],
   "source": [
    "# difference from post-stratification of interaction model\n",
    "az.summary(a_G1 - a_G0)"
   ]
  },
  {
   "cell_type": "code",
   "execution_count": null,
   "metadata": {},
   "outputs": [],
   "source": []
  },
  {
   "cell_type": "code",
   "execution_count": 325,
   "metadata": {},
   "outputs": [
    {
     "data": {
      "text/plain": [
       "-0.29899999999999993"
      ]
     },
     "execution_count": 325,
     "metadata": {},
     "output_type": "execute_result"
    },
    {
     "data": {
      "application/javascript": "\n            setTimeout(function() {\n                var nbb_cell_id = 325;\n                var nbb_unformatted_code = \"- 0.982 - -0.683\";\n                var nbb_formatted_code = \"-0.982 - -0.683\";\n                var nbb_cells = Jupyter.notebook.get_cells();\n                for (var i = 0; i < nbb_cells.length; ++i) {\n                    if (nbb_cells[i].input_prompt_number == nbb_cell_id) {\n                        if (nbb_cells[i].get_text() == nbb_unformatted_code) {\n                             nbb_cells[i].set_text(nbb_formatted_code);\n                        }\n                        break;\n                    }\n                }\n            }, 500);\n            ",
      "text/plain": [
       "<IPython.core.display.Javascript object>"
      ]
     },
     "metadata": {},
     "output_type": "display_data"
    }
   ],
   "source": [
    "- 0.982 - -0.683"
   ]
  },
  {
   "cell_type": "code",
   "execution_count": 321,
   "metadata": {},
   "outputs": [
    {
     "data": {
      "text/html": [
       "<div>\n",
       "<style scoped>\n",
       "    .dataframe tbody tr th:only-of-type {\n",
       "        vertical-align: middle;\n",
       "    }\n",
       "\n",
       "    .dataframe tbody tr th {\n",
       "        vertical-align: top;\n",
       "    }\n",
       "\n",
       "    .dataframe thead th {\n",
       "        text-align: right;\n",
       "    }\n",
       "</style>\n",
       "<table border=\"1\" class=\"dataframe\">\n",
       "  <thead>\n",
       "    <tr style=\"text-align: right;\">\n",
       "      <th></th>\n",
       "      <th>mean</th>\n",
       "      <th>sd</th>\n",
       "      <th>hdi_5.5%</th>\n",
       "      <th>hdi_94.5%</th>\n",
       "      <th>mcse_mean</th>\n",
       "      <th>mcse_sd</th>\n",
       "      <th>ess_mean</th>\n",
       "      <th>ess_sd</th>\n",
       "      <th>ess_bulk</th>\n",
       "      <th>ess_tail</th>\n",
       "      <th>r_hat</th>\n",
       "    </tr>\n",
       "  </thead>\n",
       "  <tbody>\n",
       "    <tr>\n",
       "      <th>a[0]</th>\n",
       "      <td>-0.982</td>\n",
       "      <td>0.764</td>\n",
       "      <td>-2.233</td>\n",
       "      <td>0.221</td>\n",
       "      <td>0.016</td>\n",
       "      <td>0.011</td>\n",
       "      <td>2376.0</td>\n",
       "      <td>2323.0</td>\n",
       "      <td>2376.0</td>\n",
       "      <td>2795.0</td>\n",
       "      <td>1.0</td>\n",
       "    </tr>\n",
       "    <tr>\n",
       "      <th>a[1]</th>\n",
       "      <td>-0.683</td>\n",
       "      <td>0.762</td>\n",
       "      <td>-1.855</td>\n",
       "      <td>0.582</td>\n",
       "      <td>0.016</td>\n",
       "      <td>0.011</td>\n",
       "      <td>2365.0</td>\n",
       "      <td>2304.0</td>\n",
       "      <td>2365.0</td>\n",
       "      <td>2779.0</td>\n",
       "      <td>1.0</td>\n",
       "    </tr>\n",
       "    <tr>\n",
       "      <th>d[0]</th>\n",
       "      <td>-1.371</td>\n",
       "      <td>0.765</td>\n",
       "      <td>-2.623</td>\n",
       "      <td>-0.165</td>\n",
       "      <td>0.016</td>\n",
       "      <td>0.011</td>\n",
       "      <td>2400.0</td>\n",
       "      <td>2400.0</td>\n",
       "      <td>2402.0</td>\n",
       "      <td>2834.0</td>\n",
       "      <td>1.0</td>\n",
       "    </tr>\n",
       "    <tr>\n",
       "      <th>d[1]</th>\n",
       "      <td>-0.262</td>\n",
       "      <td>0.762</td>\n",
       "      <td>-1.469</td>\n",
       "      <td>0.975</td>\n",
       "      <td>0.016</td>\n",
       "      <td>0.011</td>\n",
       "      <td>2373.0</td>\n",
       "      <td>2367.0</td>\n",
       "      <td>2375.0</td>\n",
       "      <td>2783.0</td>\n",
       "      <td>1.0</td>\n",
       "    </tr>\n",
       "  </tbody>\n",
       "</table>\n",
       "</div>"
      ],
      "text/plain": [
       "       mean     sd  hdi_5.5%  hdi_94.5%  mcse_mean  mcse_sd  ess_mean  ess_sd  \\\n",
       "a[0] -0.982  0.764    -2.233      0.221      0.016    0.011    2376.0  2323.0   \n",
       "a[1] -0.683  0.762    -1.855      0.582      0.016    0.011    2365.0  2304.0   \n",
       "d[0] -1.371  0.765    -2.623     -0.165      0.016    0.011    2400.0  2400.0   \n",
       "d[1] -0.262  0.762    -1.469      0.975      0.016    0.011    2373.0  2367.0   \n",
       "\n",
       "      ess_bulk  ess_tail  r_hat  \n",
       "a[0]    2376.0    2795.0    1.0  \n",
       "a[1]    2365.0    2779.0    1.0  \n",
       "d[0]    2402.0    2834.0    1.0  \n",
       "d[1]    2375.0    2783.0    1.0  "
      ]
     },
     "execution_count": 321,
     "metadata": {},
     "output_type": "execute_result"
    },
    {
     "data": {
      "application/javascript": "\n            setTimeout(function() {\n                var nbb_cell_id = 321;\n                var nbb_unformatted_code = \"df_summary_m2add\";\n                var nbb_formatted_code = \"df_summary_m2add\";\n                var nbb_cells = Jupyter.notebook.get_cells();\n                for (var i = 0; i < nbb_cells.length; ++i) {\n                    if (nbb_cells[i].input_prompt_number == nbb_cell_id) {\n                        if (nbb_cells[i].get_text() == nbb_unformatted_code) {\n                             nbb_cells[i].set_text(nbb_formatted_code);\n                        }\n                        break;\n                    }\n                }\n            }, 500);\n            ",
      "text/plain": [
       "<IPython.core.display.Javascript object>"
      ]
     },
     "metadata": {},
     "output_type": "display_data"
    }
   ],
   "source": [
    "df_summary_m2add"
   ]
  },
  {
   "cell_type": "code",
   "execution_count": null,
   "metadata": {},
   "outputs": [],
   "source": []
  },
  {
   "cell_type": "code",
   "execution_count": null,
   "metadata": {},
   "outputs": [],
   "source": []
  },
  {
   "cell_type": "markdown",
   "metadata": {},
   "source": [
    "## Propensity score?"
   ]
  },
  {
   "cell_type": "code",
   "execution_count": null,
   "metadata": {},
   "outputs": [],
   "source": []
  },
  {
   "cell_type": "code",
   "execution_count": null,
   "metadata": {},
   "outputs": [],
   "source": []
  },
  {
   "cell_type": "markdown",
   "metadata": {},
   "source": [
    "Appendix: Environment and system parameters"
   ]
  },
  {
   "cell_type": "code",
   "execution_count": 254,
   "metadata": {},
   "outputs": [
    {
     "name": "stdout",
     "output_type": "stream",
     "text": [
      "Last updated: Tue Feb 08 2022\n",
      "\n",
      "Python implementation: CPython\n",
      "Python version       : 3.8.6\n",
      "IPython version      : 7.20.0\n",
      "\n",
      "matplotlib : 3.3.4\n",
      "pymc3      : 3.11.0\n",
      "arviz      : 0.11.1\n",
      "pandas     : 1.2.1\n",
      "daft       : 0.1.0\n",
      "seaborn    : 0.11.1\n",
      "theano     : 1.1.0\n",
      "scipy      : 1.6.0\n",
      "numpy      : 1.20.1\n",
      "statsmodels: 0.12.2\n",
      "sys        : 3.8.6 | packaged by conda-forge | (default, Jan 25 2021, 23:22:12) \n",
      "[Clang 11.0.1 ]\n",
      "\n",
      "Watermark: 2.1.0\n",
      "\n"
     ]
    },
    {
     "data": {
      "application/javascript": "\n            setTimeout(function() {\n                var nbb_cell_id = 254;\n                var nbb_unformatted_code = \"%watermark -n -u -v -iv -w\";\n                var nbb_formatted_code = \"%watermark -n -u -v -iv -w\";\n                var nbb_cells = Jupyter.notebook.get_cells();\n                for (var i = 0; i < nbb_cells.length; ++i) {\n                    if (nbb_cells[i].input_prompt_number == nbb_cell_id) {\n                        if (nbb_cells[i].get_text() == nbb_unformatted_code) {\n                             nbb_cells[i].set_text(nbb_formatted_code);\n                        }\n                        break;\n                    }\n                }\n            }, 500);\n            ",
      "text/plain": [
       "<IPython.core.display.Javascript object>"
      ]
     },
     "metadata": {},
     "output_type": "display_data"
    }
   ],
   "source": [
    "%watermark -n -u -v -iv -w"
   ]
  }
 ],
 "metadata": {
  "interpreter": {
   "hash": "e92bb7a9aacd9667df20255a0d1807f00b256076d24753ff832859a09e84cc67"
  },
  "kernelspec": {
   "display_name": "Python 3.8.6 64-bit ('stats_rethinking': conda)",
   "language": "python",
   "name": "python3"
  },
  "language_info": {
   "codemirror_mode": {
    "name": "ipython",
    "version": 3
   },
   "file_extension": ".py",
   "mimetype": "text/x-python",
   "name": "python",
   "nbconvert_exporter": "python",
   "pygments_lexer": "ipython3",
   "version": "3.8.6"
  },
  "orig_nbformat": 4
 },
 "nbformat": 4,
 "nbformat_minor": 2
}
