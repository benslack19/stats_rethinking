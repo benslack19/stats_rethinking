{
 "cells": [
  {
   "cell_type": "markdown",
   "metadata": {},
   "source": [
    "# Interactions or not\n",
    "\n",
    "Let's say you have two categorical variables. Want to get effect of one on another. \n",
    "- interaction or additive\n",
    "- interaction model has some advantages. you can get the slopes in additive model from interaction model. it's in the contrasts.\n",
    "\n",
    "Rojan: the interaction model would answer what is the probability of getting admission for each departments for each gender,\n",
    "whereas non interaction model would answer what is the probability of getting admission for each gender averaged across all the departments"
   ]
  },
  {
   "cell_type": "code",
   "execution_count": 1,
   "metadata": {},
   "outputs": [],
   "source": [
    "import arviz as az\n",
    "import daft\n",
    "from causalgraphicalmodels import CausalGraphicalModel\n",
    "import matplotlib.pyplot as plt\n",
    "import numpy as np\n",
    "import pandas as pd\n",
    "import pymc3 as pm\n",
    "import scipy.stats as stats\n",
    "from scipy.special import expit\n",
    "from scipy.special import logit\n",
    "import seaborn as sns\n",
    "import statsmodels.api as sm"
   ]
  },
  {
   "cell_type": "code",
   "execution_count": 2,
   "metadata": {},
   "outputs": [
    {
     "data": {
      "application/javascript": "\n            setTimeout(function() {\n                var nbb_cell_id = 2;\n                var nbb_unformatted_code = \"%load_ext nb_black\\n%config InlineBackend.figure_format = 'retina'\\n%load_ext watermark\\nRANDOM_SEED = 8927\\nnp.random.seed(RANDOM_SEED)\\naz.style.use(\\\"arviz-darkgrid\\\")\\naz.rcParams[\\\"stats.hdi_prob\\\"] = 0.89  # sets default credible interval used by arviz\";\n                var nbb_formatted_code = \"%load_ext nb_black\\n%config InlineBackend.figure_format = 'retina'\\n%load_ext watermark\\nRANDOM_SEED = 8927\\nnp.random.seed(RANDOM_SEED)\\naz.style.use(\\\"arviz-darkgrid\\\")\\naz.rcParams[\\\"stats.hdi_prob\\\"] = 0.89  # sets default credible interval used by arviz\";\n                var nbb_cells = Jupyter.notebook.get_cells();\n                for (var i = 0; i < nbb_cells.length; ++i) {\n                    if (nbb_cells[i].input_prompt_number == nbb_cell_id) {\n                        if (nbb_cells[i].get_text() == nbb_unformatted_code) {\n                             nbb_cells[i].set_text(nbb_formatted_code);\n                        }\n                        break;\n                    }\n                }\n            }, 500);\n            ",
      "text/plain": [
       "<IPython.core.display.Javascript object>"
      ]
     },
     "metadata": {},
     "output_type": "display_data"
    }
   ],
   "source": [
    "%load_ext nb_black\n",
    "%config InlineBackend.figure_format = 'retina'\n",
    "%load_ext watermark\n",
    "RANDOM_SEED = 8927\n",
    "np.random.seed(RANDOM_SEED)\n",
    "az.style.use(\"arviz-darkgrid\")\n",
    "az.rcParams[\"stats.hdi_prob\"] = 0.89  # sets default credible interval used by arviz"
   ]
  },
  {
   "cell_type": "code",
   "execution_count": 3,
   "metadata": {},
   "outputs": [
    {
     "data": {
      "application/javascript": "\n            setTimeout(function() {\n                var nbb_cell_id = 3;\n                var nbb_unformatted_code = \"def standardize(x):\\n    x = (x - np.mean(x)) / np.std(x)\\n    return x\";\n                var nbb_formatted_code = \"def standardize(x):\\n    x = (x - np.mean(x)) / np.std(x)\\n    return x\";\n                var nbb_cells = Jupyter.notebook.get_cells();\n                for (var i = 0; i < nbb_cells.length; ++i) {\n                    if (nbb_cells[i].input_prompt_number == nbb_cell_id) {\n                        if (nbb_cells[i].get_text() == nbb_unformatted_code) {\n                             nbb_cells[i].set_text(nbb_formatted_code);\n                        }\n                        break;\n                    }\n                }\n            }, 500);\n            ",
      "text/plain": [
       "<IPython.core.display.Javascript object>"
      ]
     },
     "metadata": {},
     "output_type": "display_data"
    }
   ],
   "source": [
    "def standardize(x):\n",
    "    x = (x - np.mean(x)) / np.std(x)\n",
    "    return x"
   ]
  },
  {
   "cell_type": "markdown",
   "metadata": {},
   "source": [
    "# Data and DAG"
   ]
  },
  {
   "cell_type": "code",
   "execution_count": 4,
   "metadata": {},
   "outputs": [
    {
     "data": {
      "text/html": [
       "<div>\n",
       "<style scoped>\n",
       "    .dataframe tbody tr th:only-of-type {\n",
       "        vertical-align: middle;\n",
       "    }\n",
       "\n",
       "    .dataframe tbody tr th {\n",
       "        vertical-align: top;\n",
       "    }\n",
       "\n",
       "    .dataframe thead th {\n",
       "        text-align: right;\n",
       "    }\n",
       "</style>\n",
       "<table border=\"1\" class=\"dataframe\">\n",
       "  <thead>\n",
       "    <tr style=\"text-align: right;\">\n",
       "      <th></th>\n",
       "      <th>dept</th>\n",
       "      <th>applicant.gender</th>\n",
       "      <th>admit</th>\n",
       "      <th>reject</th>\n",
       "      <th>applications</th>\n",
       "      <th>dept_code</th>\n",
       "      <th>gender_code</th>\n",
       "    </tr>\n",
       "  </thead>\n",
       "  <tbody>\n",
       "    <tr>\n",
       "      <th>1</th>\n",
       "      <td>A</td>\n",
       "      <td>male</td>\n",
       "      <td>512</td>\n",
       "      <td>313</td>\n",
       "      <td>825</td>\n",
       "      <td>0</td>\n",
       "      <td>1</td>\n",
       "    </tr>\n",
       "    <tr>\n",
       "      <th>2</th>\n",
       "      <td>A</td>\n",
       "      <td>female</td>\n",
       "      <td>89</td>\n",
       "      <td>19</td>\n",
       "      <td>108</td>\n",
       "      <td>0</td>\n",
       "      <td>0</td>\n",
       "    </tr>\n",
       "    <tr>\n",
       "      <th>3</th>\n",
       "      <td>B</td>\n",
       "      <td>male</td>\n",
       "      <td>353</td>\n",
       "      <td>207</td>\n",
       "      <td>560</td>\n",
       "      <td>1</td>\n",
       "      <td>1</td>\n",
       "    </tr>\n",
       "    <tr>\n",
       "      <th>4</th>\n",
       "      <td>B</td>\n",
       "      <td>female</td>\n",
       "      <td>17</td>\n",
       "      <td>8</td>\n",
       "      <td>25</td>\n",
       "      <td>1</td>\n",
       "      <td>0</td>\n",
       "    </tr>\n",
       "    <tr>\n",
       "      <th>5</th>\n",
       "      <td>C</td>\n",
       "      <td>male</td>\n",
       "      <td>120</td>\n",
       "      <td>205</td>\n",
       "      <td>325</td>\n",
       "      <td>2</td>\n",
       "      <td>1</td>\n",
       "    </tr>\n",
       "  </tbody>\n",
       "</table>\n",
       "</div>"
      ],
      "text/plain": [
       "  dept applicant.gender  admit  reject  applications  dept_code  gender_code\n",
       "1    A             male    512     313           825          0            1\n",
       "2    A           female     89      19           108          0            0\n",
       "3    B             male    353     207           560          1            1\n",
       "4    B           female     17       8            25          1            0\n",
       "5    C             male    120     205           325          2            1"
      ]
     },
     "execution_count": 4,
     "metadata": {},
     "output_type": "execute_result"
    },
    {
     "data": {
      "application/javascript": "\n            setTimeout(function() {\n                var nbb_cell_id = 4;\n                var nbb_unformatted_code = \"DATA_DIR = '/Users/blacar/Documents/ds_projects/stats_rethinking/pymc3_ed_resources/resources/Rethinking_2/End_of_chapter_problems/data/'\\ndf_ucb = pd.read_csv(DATA_DIR + \\\"UCBadmit.csv\\\", sep=\\\";\\\", header=0)\\n# Encode categorical variables\\ndf_ucb[\\\"dept_code\\\"] = pd.Categorical(df_ucb[\\\"dept\\\"]).codes\\ndf_ucb[\\\"gender_code\\\"] = pd.Categorical(df_ucb[\\\"applicant.gender\\\"]).codes\\n\\n# Numbers of unique variables for use later\\nn_gid = len(df_ucb['gender_code'].unique())\\nn_dept = len(df_ucb['dept_code'].unique())\\ndf_ucb.head()\";\n                var nbb_formatted_code = \"DATA_DIR = \\\"/Users/blacar/Documents/ds_projects/stats_rethinking/pymc3_ed_resources/resources/Rethinking_2/End_of_chapter_problems/data/\\\"\\ndf_ucb = pd.read_csv(DATA_DIR + \\\"UCBadmit.csv\\\", sep=\\\";\\\", header=0)\\n# Encode categorical variables\\ndf_ucb[\\\"dept_code\\\"] = pd.Categorical(df_ucb[\\\"dept\\\"]).codes\\ndf_ucb[\\\"gender_code\\\"] = pd.Categorical(df_ucb[\\\"applicant.gender\\\"]).codes\\n\\n# Numbers of unique variables for use later\\nn_gid = len(df_ucb[\\\"gender_code\\\"].unique())\\nn_dept = len(df_ucb[\\\"dept_code\\\"].unique())\\ndf_ucb.head()\";\n                var nbb_cells = Jupyter.notebook.get_cells();\n                for (var i = 0; i < nbb_cells.length; ++i) {\n                    if (nbb_cells[i].input_prompt_number == nbb_cell_id) {\n                        if (nbb_cells[i].get_text() == nbb_unformatted_code) {\n                             nbb_cells[i].set_text(nbb_formatted_code);\n                        }\n                        break;\n                    }\n                }\n            }, 500);\n            ",
      "text/plain": [
       "<IPython.core.display.Javascript object>"
      ]
     },
     "metadata": {},
     "output_type": "display_data"
    }
   ],
   "source": [
    "DATA_DIR = '/Users/blacar/Documents/ds_projects/stats_rethinking/pymc3_ed_resources/resources/Rethinking_2/End_of_chapter_problems/data/'\n",
    "df_ucb = pd.read_csv(DATA_DIR + \"UCBadmit.csv\", sep=\";\", header=0)\n",
    "# Encode categorical variables\n",
    "df_ucb[\"dept_code\"] = pd.Categorical(df_ucb[\"dept\"]).codes\n",
    "df_ucb[\"gender_code\"] = pd.Categorical(df_ucb[\"applicant.gender\"]).codes\n",
    "\n",
    "# Numbers of unique variables for use later\n",
    "n_gid = len(df_ucb['gender_code'].unique())\n",
    "n_dept = len(df_ucb['dept_code'].unique())\n",
    "df_ucb.head()"
   ]
  },
  {
   "cell_type": "code",
   "execution_count": 5,
   "metadata": {},
   "outputs": [
    {
     "data": {
      "text/plain": [
       "<matplotlib.axes._axes.Axes at 0x7fd0213ef520>"
      ]
     },
     "execution_count": 5,
     "metadata": {},
     "output_type": "execute_result"
    },
    {
     "name": "stderr",
     "output_type": "stream",
     "text": [
      "/Users/blacar/opt/anaconda3/envs/stats_rethinking/lib/python3.8/site-packages/IPython/core/pylabtools.py:132: UserWarning: Calling figure.constrained_layout, but figure not setup to do constrained layout.  You either called GridSpec without the fig keyword, you are using plt.subplot, or you need to call figure or subplots with the constrained_layout=True kwarg.\n",
      "  fig.canvas.print_figure(bytes_io, **kw)\n"
     ]
    },
    {
     "data": {
      "image/png": "[encoded data removed]",
      "text/plain": [
       "<Figure size 212.598x133.858 with 1 Axes>"
      ]
     },
     "metadata": {
      "image/png": {
       "height": 153,
       "width": 232
      }
     },
     "output_type": "display_data"
    },
    {
     "data": {
      "application/javascript": "\n            setTimeout(function() {\n                var nbb_cell_id = 5;\n                var nbb_unformatted_code = \"dag = CausalGraphicalModel(\\n    nodes=[\\\"G\\\", \\\"D\\\", \\\"A\\\"],\\n    edges=[\\n        (\\\"G\\\", \\\"D\\\"),\\n        (\\\"D\\\", \\\"A\\\"),\\n        (\\\"G\\\", \\\"A\\\"),\\n    ],\\n)\\npgm = daft.PGM()\\ncoordinates = {\\n    \\\"D\\\": (1, 1),\\n    \\\"G\\\": (0, 0),\\n    \\\"A\\\": (2, 0),\\n}\\nfor node in dag.dag.nodes:\\n    pgm.add_node(node, node, *coordinates[node])\\nfor edge in dag.dag.edges:\\n    pgm.add_edge(*edge)\\npgm.render()\";\n                var nbb_formatted_code = \"dag = CausalGraphicalModel(\\n    nodes=[\\\"G\\\", \\\"D\\\", \\\"A\\\"],\\n    edges=[\\n        (\\\"G\\\", \\\"D\\\"),\\n        (\\\"D\\\", \\\"A\\\"),\\n        (\\\"G\\\", \\\"A\\\"),\\n    ],\\n)\\npgm = daft.PGM()\\ncoordinates = {\\n    \\\"D\\\": (1, 1),\\n    \\\"G\\\": (0, 0),\\n    \\\"A\\\": (2, 0),\\n}\\nfor node in dag.dag.nodes:\\n    pgm.add_node(node, node, *coordinates[node])\\nfor edge in dag.dag.edges:\\n    pgm.add_edge(*edge)\\npgm.render()\";\n                var nbb_cells = Jupyter.notebook.get_cells();\n                for (var i = 0; i < nbb_cells.length; ++i) {\n                    if (nbb_cells[i].input_prompt_number == nbb_cell_id) {\n                        if (nbb_cells[i].get_text() == nbb_unformatted_code) {\n                             nbb_cells[i].set_text(nbb_formatted_code);\n                        }\n                        break;\n                    }\n                }\n            }, 500);\n            ",
      "text/plain": [
       "<IPython.core.display.Javascript object>"
      ]
     },
     "metadata": {},
     "output_type": "display_data"
    }
   ],
   "source": [
    "dag = CausalGraphicalModel(\n",
    "    nodes=[\"G\", \"D\", \"A\"],\n",
    "    edges=[\n",
    "        (\"G\", \"D\"),\n",
    "        (\"D\", \"A\"),\n",
    "        (\"G\", \"A\"),\n",
    "    ],\n",
    ")\n",
    "pgm = daft.PGM()\n",
    "coordinates = {\n",
    "    \"D\": (1, 1),\n",
    "    \"G\": (0, 0),\n",
    "    \"A\": (2, 0),\n",
    "}\n",
    "for node in dag.dag.nodes:\n",
    "    pgm.add_node(node, node, *coordinates[node])\n",
    "for edge in dag.dag.edges:\n",
    "    pgm.add_edge(*edge)\n",
    "pgm.render()"
   ]
  },
  {
   "cell_type": "code",
   "execution_count": 39,
   "metadata": {},
   "outputs": [
    {
     "name": "stderr",
     "output_type": "stream",
     "text": [
      "Auto-assigning NUTS sampler...\n",
      "INFO:pymc3:Auto-assigning NUTS sampler...\n",
      "Initializing NUTS using jitter+adapt_diag...\n",
      "INFO:pymc3:Initializing NUTS using jitter+adapt_diag...\n",
      "Multiprocess sampling (4 chains in 4 jobs)\n",
      "INFO:pymc3:Multiprocess sampling (4 chains in 4 jobs)\n",
      "NUTS: [a, sigma, a_bar]\n",
      "INFO:pymc3:NUTS: [a, sigma, a_bar]\n",
      "Sampling 4 chains for 1_000 tune and 5_000 draw iterations (4_000 + 20_000 draws total) took 30 seconds.\n",
      "INFO:pymc3:Sampling 4 chains for 1_000 tune and 5_000 draw iterations (4_000 + 20_000 draws total) took 30 seconds.\n"
     ]
    },
    {
     "data": {
      "application/javascript": "\n            setTimeout(function() {\n                var nbb_cell_id = 39;\n                var nbb_unformatted_code = \"# write model\\nwith pm.Model() as m0m:\\n    # Hyperpriors\\n    a_bar = pm.Normal(\\\"a_bar\\\", mu=0, sd=1)\\n    sigma = pm.HalfNormal(\\\"sigma\\\", 0.1)\\n\\n    # Priors\\n    a = pm.Normal(\\\"a\\\", mu=a_bar, sd=sigma, shape=2)\\n\\n    # linear model with logit link\\n    p = pm.Deterministic(\\\"p\\\", pm.math.invlogit(a[df_ucb[\\\"gender_code\\\"]]))\\n\\n    # likelihood\\n    admit = pm.Binomial(\\\"admit\\\", n=df_ucb['applications'], p=p, observed=df_ucb['admit'])\\n\\n    # generate posterior and sample\\n    idata_m0m = pm.sample(draws=5000, tune=1000, return_inferencedata=False, progressbar=False, target_accept=0.95)\";\n                var nbb_formatted_code = \"# write model\\nwith pm.Model() as m0m:\\n    # Hyperpriors\\n    a_bar = pm.Normal(\\\"a_bar\\\", mu=0, sd=1)\\n    sigma = pm.HalfNormal(\\\"sigma\\\", 0.1)\\n\\n    # Priors\\n    a = pm.Normal(\\\"a\\\", mu=a_bar, sd=sigma, shape=2)\\n\\n    # linear model with logit link\\n    p = pm.Deterministic(\\\"p\\\", pm.math.invlogit(a[df_ucb[\\\"gender_code\\\"]]))\\n\\n    # likelihood\\n    admit = pm.Binomial(\\n        \\\"admit\\\", n=df_ucb[\\\"applications\\\"], p=p, observed=df_ucb[\\\"admit\\\"]\\n    )\\n\\n    # generate posterior and sample\\n    idata_m0m = pm.sample(\\n        draws=5000,\\n        tune=1000,\\n        return_inferencedata=False,\\n        progressbar=False,\\n        target_accept=0.95,\\n    )\";\n                var nbb_cells = Jupyter.notebook.get_cells();\n                for (var i = 0; i < nbb_cells.length; ++i) {\n                    if (nbb_cells[i].input_prompt_number == nbb_cell_id) {\n                        if (nbb_cells[i].get_text() == nbb_unformatted_code) {\n                             nbb_cells[i].set_text(nbb_formatted_code);\n                        }\n                        break;\n                    }\n                }\n            }, 500);\n            ",
      "text/plain": [
       "<IPython.core.display.Javascript object>"
      ]
     },
     "metadata": {},
     "output_type": "display_data"
    }
   ],
   "source": [
    "# write model\n",
    "with pm.Model() as m0m:\n",
    "    # Hyperpriors\n",
    "    a_bar = pm.Normal(\"a_bar\", mu=0, sd=1)\n",
    "    sigma = pm.HalfNormal(\"sigma\", 0.1)\n",
    "\n",
    "    # Priors\n",
    "    a = pm.Normal(\"a\", mu=a_bar, sd=sigma, shape=2)\n",
    "\n",
    "    # linear model with logit link\n",
    "    p = pm.Deterministic(\"p\", pm.math.invlogit(a[df_ucb[\"gender_code\"]]))\n",
    "\n",
    "    # likelihood\n",
    "    admit = pm.Binomial(\"admit\", n=df_ucb['applications'], p=p, observed=df_ucb['admit'])\n",
    "\n",
    "    # generate posterior and sample\n",
    "    idata_m0m = pm.sample(draws=5000, tune=1000, return_inferencedata=False, progressbar=False, target_accept=0.95)"
   ]
  },
  {
   "cell_type": "code",
   "execution_count": null,
   "metadata": {},
   "outputs": [],
   "source": [
    "az.summary(idata_m0m)"
   ]
  },
  {
   "cell_type": "code",
   "execution_count": null,
   "metadata": {},
   "outputs": [],
   "source": []
  },
  {
   "cell_type": "markdown",
   "metadata": {},
   "source": [
    "# Conditioning variable as additive term\n",
    "\n",
    "Rojan:\n",
    "> what is the probability of getting admission for each gender averaged across all the departments\n",
    "\n",
    "McEleath\n",
    "> Instead of asking “What are the average probabilities of admission for women and men across all departments?” we want to ask “What is the average difference in probability of admission between women and men within departments?” In order to ask the second question, we estimate unique female and male admission rates in each department.\n",
    "\n",
    "We'll be doing this with two models, one fixed effects and one with a varying effects model. The likelihood and logit link functions are the same for both:\n",
    "\n",
    "$$ A_i \\sim \\text{Binomial}(N_i, p_i) $$\n",
    "$$ \\text{logit}(p_i) = \\alpha_{\\text{GID}[i]} + \\delta_{\\text{DEPT}[i]} $$\n",
    "$$ \\alpha_j \\sim \\text{Normal}(0, 1.5) \\tag{prior for gender} $$\n",
    "$$ \\delta_k \\sim \\text{Normal}(0, 1.5) \\tag{prior for department} $$"
   ]
  },
  {
   "cell_type": "code",
   "execution_count": 15,
   "metadata": {},
   "outputs": [
    {
     "data": {
      "text/html": [
       "<div>\n",
       "<style scoped>\n",
       "    .dataframe tbody tr th:only-of-type {\n",
       "        vertical-align: middle;\n",
       "    }\n",
       "\n",
       "    .dataframe tbody tr th {\n",
       "        vertical-align: top;\n",
       "    }\n",
       "\n",
       "    .dataframe thead th {\n",
       "        text-align: right;\n",
       "    }\n",
       "</style>\n",
       "<table border=\"1\" class=\"dataframe\">\n",
       "  <thead>\n",
       "    <tr style=\"text-align: right;\">\n",
       "      <th></th>\n",
       "      <th>dept</th>\n",
       "      <th>applicant.gender</th>\n",
       "      <th>admit</th>\n",
       "      <th>reject</th>\n",
       "      <th>applications</th>\n",
       "      <th>dept_code</th>\n",
       "      <th>gender_code</th>\n",
       "    </tr>\n",
       "  </thead>\n",
       "  <tbody>\n",
       "    <tr>\n",
       "      <th>1</th>\n",
       "      <td>A</td>\n",
       "      <td>male</td>\n",
       "      <td>512</td>\n",
       "      <td>313</td>\n",
       "      <td>825</td>\n",
       "      <td>0</td>\n",
       "      <td>1</td>\n",
       "    </tr>\n",
       "    <tr>\n",
       "      <th>2</th>\n",
       "      <td>A</td>\n",
       "      <td>female</td>\n",
       "      <td>89</td>\n",
       "      <td>19</td>\n",
       "      <td>108</td>\n",
       "      <td>0</td>\n",
       "      <td>0</td>\n",
       "    </tr>\n",
       "    <tr>\n",
       "      <th>3</th>\n",
       "      <td>B</td>\n",
       "      <td>male</td>\n",
       "      <td>353</td>\n",
       "      <td>207</td>\n",
       "      <td>560</td>\n",
       "      <td>1</td>\n",
       "      <td>1</td>\n",
       "    </tr>\n",
       "    <tr>\n",
       "      <th>4</th>\n",
       "      <td>B</td>\n",
       "      <td>female</td>\n",
       "      <td>17</td>\n",
       "      <td>8</td>\n",
       "      <td>25</td>\n",
       "      <td>1</td>\n",
       "      <td>0</td>\n",
       "    </tr>\n",
       "    <tr>\n",
       "      <th>5</th>\n",
       "      <td>C</td>\n",
       "      <td>male</td>\n",
       "      <td>120</td>\n",
       "      <td>205</td>\n",
       "      <td>325</td>\n",
       "      <td>2</td>\n",
       "      <td>1</td>\n",
       "    </tr>\n",
       "  </tbody>\n",
       "</table>\n",
       "</div>"
      ],
      "text/plain": [
       "  dept applicant.gender  admit  reject  applications  dept_code  gender_code\n",
       "1    A             male    512     313           825          0            1\n",
       "2    A           female     89      19           108          0            0\n",
       "3    B             male    353     207           560          1            1\n",
       "4    B           female     17       8            25          1            0\n",
       "5    C             male    120     205           325          2            1"
      ]
     },
     "execution_count": 15,
     "metadata": {},
     "output_type": "execute_result"
    },
    {
     "data": {
      "application/javascript": "\n            setTimeout(function() {\n                var nbb_cell_id = 15;\n                var nbb_unformatted_code = \"df_ucb.head()\";\n                var nbb_formatted_code = \"df_ucb.head()\";\n                var nbb_cells = Jupyter.notebook.get_cells();\n                for (var i = 0; i < nbb_cells.length; ++i) {\n                    if (nbb_cells[i].input_prompt_number == nbb_cell_id) {\n                        if (nbb_cells[i].get_text() == nbb_unformatted_code) {\n                             nbb_cells[i].set_text(nbb_formatted_code);\n                        }\n                        break;\n                    }\n                }\n            }, 500);\n            ",
      "text/plain": [
       "<IPython.core.display.Javascript object>"
      ]
     },
     "metadata": {},
     "output_type": "display_data"
    }
   ],
   "source": [
    "df_ucb.head()"
   ]
  },
  {
   "cell_type": "code",
   "execution_count": 17,
   "metadata": {},
   "outputs": [
    {
     "name": "stderr",
     "output_type": "stream",
     "text": [
      "Auto-assigning NUTS sampler...\n",
      "Initializing NUTS using jitter+adapt_diag...\n",
      "Multiprocess sampling (4 chains in 4 jobs)\n",
      "NUTS: [d, a]\n",
      "Sampling 4 chains for 1_000 tune and 5_000 draw iterations (4_000 + 20_000 draws total) took 35 seconds.\n",
      "The acceptance probability does not match the target. It is 0.8961596107233745, but should be close to 0.8. Try to increase the number of tuning steps.\n",
      "The number of effective samples is smaller than 25% for some parameters.\n"
     ]
    },
    {
     "data": {
      "application/javascript": "\n            setTimeout(function() {\n                var nbb_cell_id = 17;\n                var nbb_unformatted_code = \"# book example, pg 343)\\nwith pm.Model() as m1f:\\n\\n    # Priors\\n    a = pm.Normal(\\\"a\\\", mu=0, sd=1, shape=n_gid)\\n    d = pm.Normal(\\\"d\\\", mu=0, sd=1, shape=n_dept)\\n\\n    # linear model with logit link\\n    p = pm.Deterministic(\\\"p\\\", pm.math.invlogit(a[df_ucb[\\\"gender_code\\\"]] + d[df_ucb[\\\"dept_code\\\"]]))\\n\\n    # likelihood\\n    admit = pm.Binomial(\\\"admit\\\", n=df_ucb['applications'], p=p, observed=df_ucb['admit'])\\n\\n    # generate posterior and sample\\n    idata_m1f = pm.sample(draws=5000, tune=1000, return_inferencedata=False, progressbar=False)\";\n                var nbb_formatted_code = \"# book example, pg 343)\\nwith pm.Model() as m1f:\\n\\n    # Priors\\n    a = pm.Normal(\\\"a\\\", mu=0, sd=1, shape=n_gid)\\n    d = pm.Normal(\\\"d\\\", mu=0, sd=1, shape=n_dept)\\n\\n    # linear model with logit link\\n    p = pm.Deterministic(\\n        \\\"p\\\", pm.math.invlogit(a[df_ucb[\\\"gender_code\\\"]] + d[df_ucb[\\\"dept_code\\\"]])\\n    )\\n\\n    # likelihood\\n    admit = pm.Binomial(\\n        \\\"admit\\\", n=df_ucb[\\\"applications\\\"], p=p, observed=df_ucb[\\\"admit\\\"]\\n    )\\n\\n    # generate posterior and sample\\n    idata_m1f = pm.sample(\\n        draws=5000, tune=1000, return_inferencedata=False, progressbar=False\\n    )\";\n                var nbb_cells = Jupyter.notebook.get_cells();\n                for (var i = 0; i < nbb_cells.length; ++i) {\n                    if (nbb_cells[i].input_prompt_number == nbb_cell_id) {\n                        if (nbb_cells[i].get_text() == nbb_unformatted_code) {\n                             nbb_cells[i].set_text(nbb_formatted_code);\n                        }\n                        break;\n                    }\n                }\n            }, 500);\n            ",
      "text/plain": [
       "<IPython.core.display.Javascript object>"
      ]
     },
     "metadata": {},
     "output_type": "display_data"
    }
   ],
   "source": [
    "# book example, pg 343)\n",
    "with pm.Model() as m1f:\n",
    "\n",
    "    # Priors\n",
    "    a = pm.Normal(\"a\", mu=0, sd=1, shape=n_gid)\n",
    "    d = pm.Normal(\"d\", mu=0, sd=1, shape=n_dept)\n",
    "\n",
    "    # linear model with logit link\n",
    "    p = pm.Deterministic(\"p\", pm.math.invlogit(a[df_ucb[\"gender_code\"]] + d[df_ucb[\"dept_code\"]]))\n",
    "\n",
    "    # likelihood\n",
    "    admit = pm.Binomial(\"admit\", n=df_ucb['applications'], p=p, observed=df_ucb['admit'])\n",
    "\n",
    "    # generate posterior and sample\n",
    "    idata_m1f = pm.sample(draws=5000, tune=1000, return_inferencedata=False, progressbar=False)"
   ]
  },
  {
   "cell_type": "code",
   "execution_count": 24,
   "metadata": {},
   "outputs": [
    {
     "name": "stderr",
     "output_type": "stream",
     "text": [
      "/Users/blacar/opt/anaconda3/envs/stats_rethinking/lib/python3.8/site-packages/arviz/data/io_pymc3.py:88: FutureWarning: Using `from_pymc3` without the model will be deprecated in a future release. Not using the model will return less accurate and less useful results. Make sure you use the model argument or call from_pymc3 within a model context.\n",
      "  warnings.warn(\n"
     ]
    },
    {
     "data": {
      "text/html": [
       "<div>\n",
       "<style scoped>\n",
       "    .dataframe tbody tr th:only-of-type {\n",
       "        vertical-align: middle;\n",
       "    }\n",
       "\n",
       "    .dataframe tbody tr th {\n",
       "        vertical-align: top;\n",
       "    }\n",
       "\n",
       "    .dataframe thead th {\n",
       "        text-align: right;\n",
       "    }\n",
       "</style>\n",
       "<table border=\"1\" class=\"dataframe\">\n",
       "  <thead>\n",
       "    <tr style=\"text-align: right;\">\n",
       "      <th></th>\n",
       "      <th>mean</th>\n",
       "      <th>sd</th>\n",
       "      <th>hdi_5.5%</th>\n",
       "      <th>hdi_94.5%</th>\n",
       "      <th>mcse_mean</th>\n",
       "      <th>mcse_sd</th>\n",
       "      <th>ess_mean</th>\n",
       "      <th>ess_sd</th>\n",
       "      <th>ess_bulk</th>\n",
       "      <th>ess_tail</th>\n",
       "      <th>r_hat</th>\n",
       "    </tr>\n",
       "  </thead>\n",
       "  <tbody>\n",
       "    <tr>\n",
       "      <th>a[0]</th>\n",
       "      <td>-0.440</td>\n",
       "      <td>0.355</td>\n",
       "      <td>-1.013</td>\n",
       "      <td>0.109</td>\n",
       "      <td>0.007</td>\n",
       "      <td>0.005</td>\n",
       "      <td>2440.0</td>\n",
       "      <td>2158.0</td>\n",
       "      <td>2444.0</td>\n",
       "      <td>2373.0</td>\n",
       "      <td>1.0</td>\n",
       "    </tr>\n",
       "    <tr>\n",
       "      <th>a[1]</th>\n",
       "      <td>-0.534</td>\n",
       "      <td>0.355</td>\n",
       "      <td>-1.090</td>\n",
       "      <td>0.027</td>\n",
       "      <td>0.007</td>\n",
       "      <td>0.005</td>\n",
       "      <td>2409.0</td>\n",
       "      <td>2139.0</td>\n",
       "      <td>2414.0</td>\n",
       "      <td>2365.0</td>\n",
       "      <td>1.0</td>\n",
       "    </tr>\n",
       "    <tr>\n",
       "      <th>d[0]</th>\n",
       "      <td>1.113</td>\n",
       "      <td>0.359</td>\n",
       "      <td>0.533</td>\n",
       "      <td>1.668</td>\n",
       "      <td>0.007</td>\n",
       "      <td>0.005</td>\n",
       "      <td>2447.0</td>\n",
       "      <td>2277.0</td>\n",
       "      <td>2452.0</td>\n",
       "      <td>2475.0</td>\n",
       "      <td>1.0</td>\n",
       "    </tr>\n",
       "    <tr>\n",
       "      <th>d[1]</th>\n",
       "      <td>1.066</td>\n",
       "      <td>0.363</td>\n",
       "      <td>0.505</td>\n",
       "      <td>1.653</td>\n",
       "      <td>0.007</td>\n",
       "      <td>0.005</td>\n",
       "      <td>2498.0</td>\n",
       "      <td>2360.0</td>\n",
       "      <td>2501.0</td>\n",
       "      <td>2558.0</td>\n",
       "      <td>1.0</td>\n",
       "    </tr>\n",
       "    <tr>\n",
       "      <th>d[2]</th>\n",
       "      <td>-0.142</td>\n",
       "      <td>0.359</td>\n",
       "      <td>-0.727</td>\n",
       "      <td>0.408</td>\n",
       "      <td>0.007</td>\n",
       "      <td>0.005</td>\n",
       "      <td>2469.0</td>\n",
       "      <td>2415.0</td>\n",
       "      <td>2474.0</td>\n",
       "      <td>2358.0</td>\n",
       "      <td>1.0</td>\n",
       "    </tr>\n",
       "    <tr>\n",
       "      <th>d[3]</th>\n",
       "      <td>-0.176</td>\n",
       "      <td>0.358</td>\n",
       "      <td>-0.761</td>\n",
       "      <td>0.371</td>\n",
       "      <td>0.007</td>\n",
       "      <td>0.005</td>\n",
       "      <td>2468.0</td>\n",
       "      <td>2468.0</td>\n",
       "      <td>2472.0</td>\n",
       "      <td>2374.0</td>\n",
       "      <td>1.0</td>\n",
       "    </tr>\n",
       "    <tr>\n",
       "      <th>d[4]</th>\n",
       "      <td>-0.616</td>\n",
       "      <td>0.362</td>\n",
       "      <td>-1.188</td>\n",
       "      <td>-0.039</td>\n",
       "      <td>0.007</td>\n",
       "      <td>0.005</td>\n",
       "      <td>2531.0</td>\n",
       "      <td>2531.0</td>\n",
       "      <td>2531.0</td>\n",
       "      <td>2658.0</td>\n",
       "      <td>1.0</td>\n",
       "    </tr>\n",
       "    <tr>\n",
       "      <th>d[5]</th>\n",
       "      <td>-2.147</td>\n",
       "      <td>0.375</td>\n",
       "      <td>-2.727</td>\n",
       "      <td>-1.536</td>\n",
       "      <td>0.007</td>\n",
       "      <td>0.005</td>\n",
       "      <td>2680.0</td>\n",
       "      <td>2680.0</td>\n",
       "      <td>2679.0</td>\n",
       "      <td>2971.0</td>\n",
       "      <td>1.0</td>\n",
       "    </tr>\n",
       "  </tbody>\n",
       "</table>\n",
       "</div>"
      ],
      "text/plain": [
       "       mean     sd  hdi_5.5%  hdi_94.5%  mcse_mean  mcse_sd  ess_mean  ess_sd  \\\n",
       "a[0] -0.440  0.355    -1.013      0.109      0.007    0.005    2440.0  2158.0   \n",
       "a[1] -0.534  0.355    -1.090      0.027      0.007    0.005    2409.0  2139.0   \n",
       "d[0]  1.113  0.359     0.533      1.668      0.007    0.005    2447.0  2277.0   \n",
       "d[1]  1.066  0.363     0.505      1.653      0.007    0.005    2498.0  2360.0   \n",
       "d[2] -0.142  0.359    -0.727      0.408      0.007    0.005    2469.0  2415.0   \n",
       "d[3] -0.176  0.358    -0.761      0.371      0.007    0.005    2468.0  2468.0   \n",
       "d[4] -0.616  0.362    -1.188     -0.039      0.007    0.005    2531.0  2531.0   \n",
       "d[5] -2.147  0.375    -2.727     -1.536      0.007    0.005    2680.0  2680.0   \n",
       "\n",
       "      ess_bulk  ess_tail  r_hat  \n",
       "a[0]    2444.0    2373.0    1.0  \n",
       "a[1]    2414.0    2365.0    1.0  \n",
       "d[0]    2452.0    2475.0    1.0  \n",
       "d[1]    2501.0    2558.0    1.0  \n",
       "d[2]    2474.0    2358.0    1.0  \n",
       "d[3]    2472.0    2374.0    1.0  \n",
       "d[4]    2531.0    2658.0    1.0  \n",
       "d[5]    2679.0    2971.0    1.0  "
      ]
     },
     "execution_count": 24,
     "metadata": {},
     "output_type": "execute_result"
    },
    {
     "data": {
      "application/javascript": "\n            setTimeout(function() {\n                var nbb_cell_id = 24;\n                var nbb_unformatted_code = \"az.summary(idata_m1f, var_names=[\\\"a\\\", \\\"d\\\"])\";\n                var nbb_formatted_code = \"az.summary(idata_m1f, var_names=[\\\"a\\\", \\\"d\\\"])\";\n                var nbb_cells = Jupyter.notebook.get_cells();\n                for (var i = 0; i < nbb_cells.length; ++i) {\n                    if (nbb_cells[i].input_prompt_number == nbb_cell_id) {\n                        if (nbb_cells[i].get_text() == nbb_unformatted_code) {\n                             nbb_cells[i].set_text(nbb_formatted_code);\n                        }\n                        break;\n                    }\n                }\n            }, 500);\n            ",
      "text/plain": [
       "<IPython.core.display.Javascript object>"
      ]
     },
     "metadata": {},
     "output_type": "display_data"
    }
   ],
   "source": [
    "az.summary(idata_m1f, var_names=[\"a\", \"d\"])"
   ]
  },
  {
   "cell_type": "code",
   "execution_count": 29,
   "metadata": {},
   "outputs": [
    {
     "name": "stderr",
     "output_type": "stream",
     "text": [
      "Auto-assigning NUTS sampler...\n",
      "Initializing NUTS using jitter+adapt_diag...\n",
      "Multiprocess sampling (4 chains in 4 jobs)\n",
      "NUTS: [d, a, sigma_d, d_bar, sigma_a, a_bar]\n",
      "Sampling 4 chains for 1_000 tune and 5_000 draw iterations (4_000 + 20_000 draws total) took 122 seconds.\n",
      "There were 379 divergences after tuning. Increase `target_accept` or reparameterize.\n",
      "The acceptance probability does not match the target. It is 0.8786258789998698, but should be close to 0.95. Try to increase the number of tuning steps.\n",
      "There were 128 divergences after tuning. Increase `target_accept` or reparameterize.\n",
      "The acceptance probability does not match the target. It is 0.9044711648010288, but should be close to 0.95. Try to increase the number of tuning steps.\n",
      "There were 43 divergences after tuning. Increase `target_accept` or reparameterize.\n",
      "There were 85 divergences after tuning. Increase `target_accept` or reparameterize.\n",
      "The number of effective samples is smaller than 10% for some parameters.\n"
     ]
    },
    {
     "data": {
      "application/javascript": "\n            setTimeout(function() {\n                var nbb_cell_id = 29;\n                var nbb_unformatted_code = \"with pm.Model() as m1ma:\\n\\n    # Hyperpriors\\n    a_bar = pm.Normal(\\\"a_bar\\\", mu=0, sd=1, shape=n_gid)\\n    sigma_a = pm.HalfNormal(\\\"sigma_a\\\", 0.1)\\n\\n    d_bar = pm.Normal(\\\"d_bar\\\", mu=0, sd=1, shape=n_dept)\\n    sigma_d = pm.HalfNormal(\\\"sigma_d\\\", 0.1)\\n\\n    # Adaptive priors\\n    a = pm.Normal(\\\"a\\\", mu=a_bar, sd=sigma_a, shape=n_gid)\\n    d = pm.Normal(\\\"d\\\", mu=d_bar, sd=sigma_d, shape=n_dept)\\n\\n    # linear model with logit link\\n    p = pm.Deterministic(\\\"p\\\", pm.math.invlogit(a[df_ucb[\\\"gender_code\\\"]] + d[df_ucb[\\\"dept_code\\\"]]))\\n\\n    # likelihood\\n    admit = pm.Binomial(\\\"admit\\\", n=df_ucb['applications'], p=p, observed=df_ucb['admit'])\\n\\n    # generate posterior and sample\\n    idata_m1ma = pm.sample(draws=5000, tune=1000, return_inferencedata=False, progressbar=False, target_accept=0.95)\";\n                var nbb_formatted_code = \"with pm.Model() as m1ma:\\n\\n    # Hyperpriors\\n    a_bar = pm.Normal(\\\"a_bar\\\", mu=0, sd=1, shape=n_gid)\\n    sigma_a = pm.HalfNormal(\\\"sigma_a\\\", 0.1)\\n\\n    d_bar = pm.Normal(\\\"d_bar\\\", mu=0, sd=1, shape=n_dept)\\n    sigma_d = pm.HalfNormal(\\\"sigma_d\\\", 0.1)\\n\\n    # Adaptive priors\\n    a = pm.Normal(\\\"a\\\", mu=a_bar, sd=sigma_a, shape=n_gid)\\n    d = pm.Normal(\\\"d\\\", mu=d_bar, sd=sigma_d, shape=n_dept)\\n\\n    # linear model with logit link\\n    p = pm.Deterministic(\\n        \\\"p\\\", pm.math.invlogit(a[df_ucb[\\\"gender_code\\\"]] + d[df_ucb[\\\"dept_code\\\"]])\\n    )\\n\\n    # likelihood\\n    admit = pm.Binomial(\\n        \\\"admit\\\", n=df_ucb[\\\"applications\\\"], p=p, observed=df_ucb[\\\"admit\\\"]\\n    )\\n\\n    # generate posterior and sample\\n    idata_m1ma = pm.sample(\\n        draws=5000,\\n        tune=1000,\\n        return_inferencedata=False,\\n        progressbar=False,\\n        target_accept=0.95,\\n    )\";\n                var nbb_cells = Jupyter.notebook.get_cells();\n                for (var i = 0; i < nbb_cells.length; ++i) {\n                    if (nbb_cells[i].input_prompt_number == nbb_cell_id) {\n                        if (nbb_cells[i].get_text() == nbb_unformatted_code) {\n                             nbb_cells[i].set_text(nbb_formatted_code);\n                        }\n                        break;\n                    }\n                }\n            }, 500);\n            ",
      "text/plain": [
       "<IPython.core.display.Javascript object>"
      ]
     },
     "metadata": {},
     "output_type": "display_data"
    }
   ],
   "source": [
    "with pm.Model() as m1ma:\n",
    "\n",
    "    # Hyperpriors\n",
    "    a_bar = pm.Normal(\"a_bar\", mu=0, sd=1, shape=n_gid)\n",
    "    sigma_a = pm.HalfNormal(\"sigma_a\", 0.1)\n",
    "\n",
    "    d_bar = pm.Normal(\"d_bar\", mu=0, sd=1, shape=n_dept)\n",
    "    sigma_d = pm.HalfNormal(\"sigma_d\", 0.1)\n",
    "\n",
    "    # Adaptive priors\n",
    "    a = pm.Normal(\"a\", mu=a_bar, sd=sigma_a, shape=n_gid)\n",
    "    d = pm.Normal(\"d\", mu=d_bar, sd=sigma_d, shape=n_dept)\n",
    "\n",
    "    # linear model with logit link\n",
    "    p = pm.Deterministic(\"p\", pm.math.invlogit(a[df_ucb[\"gender_code\"]] + d[df_ucb[\"dept_code\"]]))\n",
    "\n",
    "    # likelihood\n",
    "    admit = pm.Binomial(\"admit\", n=df_ucb['applications'], p=p, observed=df_ucb['admit'])\n",
    "\n",
    "    # generate posterior and sample\n",
    "    idata_m1ma = pm.sample(draws=5000, tune=1000, return_inferencedata=False, progressbar=False, target_accept=0.95)"
   ]
  },
  {
   "cell_type": "markdown",
   "metadata": {},
   "source": [
    "Deal with divergences later."
   ]
  },
  {
   "cell_type": "code",
   "execution_count": 44,
   "metadata": {},
   "outputs": [
    {
     "name": "stderr",
     "output_type": "stream",
     "text": [
      "/Users/blacar/opt/anaconda3/envs/stats_rethinking/lib/python3.8/site-packages/arviz/data/io_pymc3.py:88: FutureWarning: Using `from_pymc3` without the model will be deprecated in a future release. Not using the model will return less accurate and less useful results. Make sure you use the model argument or call from_pymc3 within a model context.\n",
      "  warnings.warn(\n",
      "/Users/blacar/opt/anaconda3/envs/stats_rethinking/lib/python3.8/site-packages/arviz/data/io_pymc3.py:88: FutureWarning: Using `from_pymc3` without the model will be deprecated in a future release. Not using the model will return less accurate and less useful results. Make sure you use the model argument or call from_pymc3 within a model context.\n",
      "  warnings.warn(\n",
      "/Users/blacar/opt/anaconda3/envs/stats_rethinking/lib/python3.8/site-packages/arviz/data/io_pymc3.py:88: FutureWarning: Using `from_pymc3` without the model will be deprecated in a future release. Not using the model will return less accurate and less useful results. Make sure you use the model argument or call from_pymc3 within a model context.\n",
      "  warnings.warn(\n"
     ]
    },
    {
     "data": {
      "text/plain": [
       "Text(0.5, 1.0, 'gender and department (multilevel')"
      ]
     },
     "execution_count": 44,
     "metadata": {},
     "output_type": "execute_result"
    },
    {
     "data": {
      "image/png": "[encoded data removed]",
      "text/plain": [
       "<Figure size 1600x400 with 3 Axes>"
      ]
     },
     "metadata": {
      "image/png": {
       "height": 411,
       "width": 1611
      }
     },
     "output_type": "display_data"
    },
    {
     "data": {
      "application/javascript": "\n            setTimeout(function() {\n                var nbb_cell_id = 44;\n                var nbb_unformatted_code = \"f, (ax1, ax2, ax3) = plt.subplots(1, 3, figsize=(16, 4), sharex=True)\\naz.plot_forest(idata_m0m, combined=True, var_names=[\\\"a\\\"], ax=ax1)\\naz.plot_forest(idata_m1f, combined=True, var_names=[\\\"a\\\", \\\"d\\\"], ax=ax2)\\naz.plot_forest(idata_m1ma, combined=True, var_names=[\\\"a\\\", \\\"d\\\"], ax=ax3)\\n\\nax1.set_title('gender only (multilevel)')\\nax2.set_title('gender and department (fixed effects')\\nax3.set_title('gender and department (multilevel')\";\n                var nbb_formatted_code = \"f, (ax1, ax2, ax3) = plt.subplots(1, 3, figsize=(16, 4), sharex=True)\\naz.plot_forest(idata_m0m, combined=True, var_names=[\\\"a\\\"], ax=ax1)\\naz.plot_forest(idata_m1f, combined=True, var_names=[\\\"a\\\", \\\"d\\\"], ax=ax2)\\naz.plot_forest(idata_m1ma, combined=True, var_names=[\\\"a\\\", \\\"d\\\"], ax=ax3)\\n\\nax1.set_title(\\\"gender only (multilevel)\\\")\\nax2.set_title(\\\"gender and department (fixed effects\\\")\\nax3.set_title(\\\"gender and department (multilevel\\\")\";\n                var nbb_cells = Jupyter.notebook.get_cells();\n                for (var i = 0; i < nbb_cells.length; ++i) {\n                    if (nbb_cells[i].input_prompt_number == nbb_cell_id) {\n                        if (nbb_cells[i].get_text() == nbb_unformatted_code) {\n                             nbb_cells[i].set_text(nbb_formatted_code);\n                        }\n                        break;\n                    }\n                }\n            }, 500);\n            ",
      "text/plain": [
       "<IPython.core.display.Javascript object>"
      ]
     },
     "metadata": {},
     "output_type": "display_data"
    }
   ],
   "source": [
    "f, (ax1, ax2, ax3) = plt.subplots(1, 3, figsize=(16, 4), sharex=True)\n",
    "az.plot_forest(idata_m0m, combined=True, var_names=[\"a\"], ax=ax1)\n",
    "az.plot_forest(idata_m1f, combined=True, var_names=[\"a\", \"d\"], ax=ax2)\n",
    "az.plot_forest(idata_m1ma, combined=True, var_names=[\"a\", \"d\"], ax=ax3)\n",
    "\n",
    "ax1.set_title('gender only (multilevel)')\n",
    "ax2.set_title('gender and department (fixed effects')\n",
    "ax3.set_title('gender and department (multilevel')"
   ]
  },
  {
   "cell_type": "markdown",
   "metadata": {},
   "source": [
    "### Correlated effects\n",
    "\n",
    "$$ A_i \\sim \\text{Binomial}(N_i, p_i) $$\n",
    "$$ \\text{logit}(p_i) = \\alpha_{\\text{GID}[i]} + \\delta_{\\text{DEPT}[i]} $$\n",
    "$$\\begin{bmatrix}\\alpha_{\\text{GID}} \\\\ \\delta_{\\text{DEPT}} \\end{bmatrix} \\sim \\text{MVNormal} \\left( \\begin{bmatrix} \\bar{\\alpha} \\\\ \\bar{\\delta} \\end{bmatrix} , \\textbf{S} \\right)  \\tag{population of varying effects} $$"
   ]
  },
  {
   "cell_type": "code",
   "execution_count": null,
   "metadata": {},
   "outputs": [],
   "source": [
    "with pm.Model() as m1mb:\n",
    "\n",
    "    # Hyperpriors\n",
    "    sd_dist = pm.Exponential.dist(1.0)\n",
    "    chol_dist, Rho_, sigma_district = pm.LKJCholeskyCov(\n",
    "        \"chol_cov\", n=2, eta=2, sd_dist=sd_dist, compute_corr=True\n",
    "    )\n",
    "\n",
    "        # adaptive priors?\n",
    "    a = pm.Normal(\"a\", mu=0, sd=1.5)  # used same from previous problem\n",
    "    b = pm.Normal(\"b\", mu=0, sd=2)  # use something conservative\n",
    "\n",
    "    ab_district = pm.MvNormal(\n",
    "        \"ab_district\", mu=tt.stack([a, b]), chol=chol, shape=(N_districts, 2)\n",
    "    )  # population of varying effects\n",
    "    # shape needs to be (N_districts, 2) because we're getting back both a and b for each district\n",
    "\n",
    "\n",
    "    # Adaptive priors\n",
    "    a = pm.Normal(\"a\", mu=a_bar, sd=sigma_a, shape=n_gid)\n",
    "    d = pm.Normal(\"d\", mu=d_bar, sd=sigma_d, shape=n_dept)\n",
    "\n",
    "    # linear model with logit link\n",
    "    p = pm.Deterministic(\"p\", pm.math.invlogit(a[df_ucb[\"gender_code\"]] + d[df_ucb[\"dept_code\"]]))\n",
    "\n",
    "    # likelihood\n",
    "    admit = pm.Binomial(\"admit\", n=df_ucb['applications'], p=p, observed=df_ucb['admit'])\n",
    "\n",
    "    # generate posterior and sample\n",
    "    idata_m1ma = pm.sample(draws=5000, tune=1000, return_inferencedata=False, progressbar=False, target_accept=0.95)"
   ]
  },
  {
   "cell_type": "code",
   "execution_count": null,
   "metadata": {},
   "outputs": [],
   "source": [
    "# code modified from repo and adapted for binomial likelihood\n",
    "# this takes ~4 min to run\n",
    "\n",
    "with pm.Model() as mq3a:\n",
    "    # LKJCholeskyCov is more efficient than LKJCorr\n",
    "    # PyMC >= 3.9 extracts the stds and matrix of correlations automatically for us\n",
    "    chol, Rho_, sigma_district = pm.LKJCholeskyCov(\n",
    "        \"chol_cov\", n=2, eta=2, sd_dist=pm.Exponential.dist(1.0), compute_corr=True\n",
    "    )\n",
    "\n",
    "    # adaptive priors?\n",
    "    a = pm.Normal(\"a\", mu=0, sd=1.5)  # used same from previous problem\n",
    "    b = pm.Normal(\"b\", mu=0, sd=2)  # use something conservative\n",
    "\n",
    "    ab_district = pm.MvNormal(\n",
    "        \"ab_district\", mu=tt.stack([a, b]), chol=chol, shape=(N_districts, 2)\n",
    "    )  # population of varying effects\n",
    "    # shape needs to be (N_districts, 2) because we're getting back both a and b for each district\n",
    "\n",
    "    # link function\n",
    "    p = pm.Deterministic(\n",
    "        \"p\",\n",
    "        pm.math.invlogit(\n",
    "            ab_district[df_bangladesh[\"district_code\"], 0]\n",
    "            + ab_district[df_bangladesh[\"district_code\"], 1] * df_bangladesh[\"urban\"]\n",
    "        ),\n",
    "    )\n",
    "\n",
    "    # likelihood, n=1 since each represents an individual woman\n",
    "    c = pm.Binomial(\"c\", n=1, p=p, observed=df_bangladesh[\"use.contraception\"])\n",
    "\n",
    "    trace_mq3a = pm.sample(draws=1000, random_seed=19, return_inferencedata=True)"
   ]
  },
  {
   "cell_type": "code",
   "execution_count": null,
   "metadata": {},
   "outputs": [],
   "source": [
    "# alternate code, better adaptation to lecture (centered model)\n",
    "# similar to book code\n",
    "\n",
    "idx_dist = df_bangladesh[\"district_code\"]\n",
    "idx_urban = df_bangladesh[\"urban\"]\n",
    "\n",
    "with pm.Model() as mq3a1:\n",
    "\n",
    "    # fixed priors                     ---------- \n",
    "    tau_A = pm.Exponential(\"tau_A\", 1)                             # standard deviation for each district\n",
    "    a_bar = pm.Normal(\"a_bar\", mu=0.0, sd=tau_A, shape=N_districts)    # average district mean\n",
    "    # correlation matrix prior\n",
    "        # LKJCholeskyCov is more efficient than LKJCorr\n",
    "        # PyMC >= 3.9 extracts the stds and matrix of correlations automatically for us\n",
    "    sd_dist = pm.Exponential.dist(1.0)\n",
    "    chol_dist, Rho_, sigma_district = pm.LKJCholeskyCov(\n",
    "        \"chol_cov\", n=2, eta=2, sd_dist=sd_dist, compute_corr=True\n",
    "    )\n",
    "\n",
    "    # adaptive prior                   ----------\n",
    "    alpha = pm.MvNormal(\"alpha\", mu=0.0, chol=chol_dist, shape=(N_districts, N_urban)) \n",
    "\n",
    "    # link function                    ---------- \n",
    "    p = pm.Deterministic(\"p\", pm.math.invlogit(a_bar[idx_dist] + alpha[idx_dist, idx_urban]))\n",
    "\n",
    "    # likelihood                       ----------\n",
    "    c = pm.Binomial(\"c\", n=1, p=p, observed=df_bangladesh[\"use.contraception\"])\n",
    "\n",
    "    trace_mq3a1 = pm.sample(draws=1000, random_seed=19, return_inferencedata=True)"
   ]
  },
  {
   "cell_type": "markdown",
   "metadata": {},
   "source": [
    "# Conditioning variable as interactive term"
   ]
  },
  {
   "cell_type": "markdown",
   "metadata": {},
   "source": [
    "Rojan says interaction is like pandas groupby"
   ]
  },
  {
   "cell_type": "code",
   "execution_count": 32,
   "metadata": {},
   "outputs": [
    {
     "data": {
      "text/html": [
       "<div>\n",
       "<style scoped>\n",
       "    .dataframe tbody tr th:only-of-type {\n",
       "        vertical-align: middle;\n",
       "    }\n",
       "\n",
       "    .dataframe tbody tr th {\n",
       "        vertical-align: top;\n",
       "    }\n",
       "\n",
       "    .dataframe thead th {\n",
       "        text-align: right;\n",
       "    }\n",
       "</style>\n",
       "<table border=\"1\" class=\"dataframe\">\n",
       "  <thead>\n",
       "    <tr style=\"text-align: right;\">\n",
       "      <th></th>\n",
       "      <th>dept</th>\n",
       "      <th>applicant.gender</th>\n",
       "      <th>admit</th>\n",
       "      <th>reject</th>\n",
       "      <th>applications</th>\n",
       "      <th>dept_code</th>\n",
       "      <th>gender_code</th>\n",
       "    </tr>\n",
       "  </thead>\n",
       "  <tbody>\n",
       "    <tr>\n",
       "      <th>1</th>\n",
       "      <td>A</td>\n",
       "      <td>male</td>\n",
       "      <td>512</td>\n",
       "      <td>313</td>\n",
       "      <td>825</td>\n",
       "      <td>0</td>\n",
       "      <td>1</td>\n",
       "    </tr>\n",
       "    <tr>\n",
       "      <th>2</th>\n",
       "      <td>A</td>\n",
       "      <td>female</td>\n",
       "      <td>89</td>\n",
       "      <td>19</td>\n",
       "      <td>108</td>\n",
       "      <td>0</td>\n",
       "      <td>0</td>\n",
       "    </tr>\n",
       "    <tr>\n",
       "      <th>3</th>\n",
       "      <td>B</td>\n",
       "      <td>male</td>\n",
       "      <td>353</td>\n",
       "      <td>207</td>\n",
       "      <td>560</td>\n",
       "      <td>1</td>\n",
       "      <td>1</td>\n",
       "    </tr>\n",
       "    <tr>\n",
       "      <th>4</th>\n",
       "      <td>B</td>\n",
       "      <td>female</td>\n",
       "      <td>17</td>\n",
       "      <td>8</td>\n",
       "      <td>25</td>\n",
       "      <td>1</td>\n",
       "      <td>0</td>\n",
       "    </tr>\n",
       "    <tr>\n",
       "      <th>5</th>\n",
       "      <td>C</td>\n",
       "      <td>male</td>\n",
       "      <td>120</td>\n",
       "      <td>205</td>\n",
       "      <td>325</td>\n",
       "      <td>2</td>\n",
       "      <td>1</td>\n",
       "    </tr>\n",
       "  </tbody>\n",
       "</table>\n",
       "</div>"
      ],
      "text/plain": [
       "  dept applicant.gender  admit  reject  applications  dept_code  gender_code\n",
       "1    A             male    512     313           825          0            1\n",
       "2    A           female     89      19           108          0            0\n",
       "3    B             male    353     207           560          1            1\n",
       "4    B           female     17       8            25          1            0\n",
       "5    C             male    120     205           325          2            1"
      ]
     },
     "execution_count": 32,
     "metadata": {},
     "output_type": "execute_result"
    },
    {
     "data": {
      "application/javascript": "\n            setTimeout(function() {\n                var nbb_cell_id = 32;\n                var nbb_unformatted_code = \"df_ucb.head()\";\n                var nbb_formatted_code = \"df_ucb.head()\";\n                var nbb_cells = Jupyter.notebook.get_cells();\n                for (var i = 0; i < nbb_cells.length; ++i) {\n                    if (nbb_cells[i].input_prompt_number == nbb_cell_id) {\n                        if (nbb_cells[i].get_text() == nbb_unformatted_code) {\n                             nbb_cells[i].set_text(nbb_formatted_code);\n                        }\n                        break;\n                    }\n                }\n            }, 500);\n            ",
      "text/plain": [
       "<IPython.core.display.Javascript object>"
      ]
     },
     "metadata": {},
     "output_type": "display_data"
    }
   ],
   "source": [
    "df_ucb.head()"
   ]
  },
  {
   "cell_type": "code",
   "execution_count": 37,
   "metadata": {},
   "outputs": [
    {
     "data": {
      "text/plain": [
       "1     0.620606\n",
       "2     0.824074\n",
       "3     0.630357\n",
       "4     0.680000\n",
       "5     0.369231\n",
       "6     0.340641\n",
       "7     0.330935\n",
       "8     0.349333\n",
       "9     0.277487\n",
       "10    0.239186\n",
       "11    0.058981\n",
       "12    0.070381\n",
       "dtype: float64"
      ]
     },
     "execution_count": 37,
     "metadata": {},
     "output_type": "execute_result"
    },
    {
     "data": {
      "application/javascript": "\n            setTimeout(function() {\n                var nbb_cell_id = 37;\n                var nbb_unformatted_code = \"df_ucb['admit'] / df_ucb['applications']\";\n                var nbb_formatted_code = \"df_ucb[\\\"admit\\\"] / df_ucb[\\\"applications\\\"]\";\n                var nbb_cells = Jupyter.notebook.get_cells();\n                for (var i = 0; i < nbb_cells.length; ++i) {\n                    if (nbb_cells[i].input_prompt_number == nbb_cell_id) {\n                        if (nbb_cells[i].get_text() == nbb_unformatted_code) {\n                             nbb_cells[i].set_text(nbb_formatted_code);\n                        }\n                        break;\n                    }\n                }\n            }, 500);\n            ",
      "text/plain": [
       "<IPython.core.display.Javascript object>"
      ]
     },
     "metadata": {},
     "output_type": "display_data"
    }
   ],
   "source": [
    "df_ucb['admit'] / df_ucb['applications']"
   ]
  },
  {
   "cell_type": "code",
   "execution_count": null,
   "metadata": {},
   "outputs": [],
   "source": []
  },
  {
   "cell_type": "code",
   "execution_count": null,
   "metadata": {},
   "outputs": [],
   "source": []
  },
  {
   "cell_type": "code",
   "execution_count": null,
   "metadata": {},
   "outputs": [],
   "source": []
  },
  {
   "cell_type": "markdown",
   "metadata": {},
   "source": [
    "## Fixed effects"
   ]
  },
  {
   "cell_type": "code",
   "execution_count": null,
   "metadata": {},
   "outputs": [],
   "source": []
  },
  {
   "cell_type": "code",
   "execution_count": null,
   "metadata": {},
   "outputs": [],
   "source": []
  },
  {
   "cell_type": "markdown",
   "metadata": {},
   "source": [
    "## Mixed effects"
   ]
  },
  {
   "cell_type": "code",
   "execution_count": null,
   "metadata": {},
   "outputs": [],
   "source": []
  },
  {
   "cell_type": "code",
   "execution_count": null,
   "metadata": {},
   "outputs": [],
   "source": []
  },
  {
   "cell_type": "code",
   "execution_count": null,
   "metadata": {},
   "outputs": [],
   "source": []
  },
  {
   "cell_type": "markdown",
   "metadata": {},
   "source": [
    "# Getting information of additive term from interaction model"
   ]
  },
  {
   "cell_type": "code",
   "execution_count": null,
   "metadata": {},
   "outputs": [],
   "source": []
  },
  {
   "cell_type": "code",
   "execution_count": 24,
   "metadata": {},
   "outputs": [
    {
     "data": {
      "text/plain": [
       "[<matplotlib.lines.Line2D at 0x7fceb12de8b0>]"
      ]
     },
     "execution_count": 24,
     "metadata": {},
     "output_type": "execute_result"
    },
    {
     "data": {
      "image/png": "[encoded data removed]",
      "text/plain": [
       "<Figure size 720x480 with 1 Axes>"
      ]
     },
     "metadata": {
      "image/png": {
       "height": 491,
       "width": 731
      }
     },
     "output_type": "display_data"
    },
    {
     "data": {
      "application/javascript": "\n            setTimeout(function() {\n                var nbb_cell_id = 24;\n                var nbb_unformatted_code = \"plt.plot(df_trend['day'], df_trend['ANC'])\";\n                var nbb_formatted_code = \"plt.plot(df_trend[\\\"day\\\"], df_trend[\\\"ANC\\\"])\";\n                var nbb_cells = Jupyter.notebook.get_cells();\n                for (var i = 0; i < nbb_cells.length; ++i) {\n                    if (nbb_cells[i].input_prompt_number == nbb_cell_id) {\n                        if (nbb_cells[i].get_text() == nbb_unformatted_code) {\n                             nbb_cells[i].set_text(nbb_formatted_code);\n                        }\n                        break;\n                    }\n                }\n            }, 500);\n            ",
      "text/plain": [
       "<IPython.core.display.Javascript object>"
      ]
     },
     "metadata": {},
     "output_type": "display_data"
    }
   ],
   "source": [
    "plt.plot(df_trend['day'], df_trend['ANC'])"
   ]
  },
  {
   "cell_type": "code",
   "execution_count": null,
   "metadata": {},
   "outputs": [],
   "source": [
    "anc = "
   ]
  },
  {
   "cell_type": "code",
   "execution_count": null,
   "metadata": {},
   "outputs": [],
   "source": []
  },
  {
   "cell_type": "code",
   "execution_count": 21,
   "metadata": {},
   "outputs": [
    {
     "data": {
      "text/plain": [
       "[400.0, 337.5, 275.0, 212.5, 150.0, 150.0, 212.5, 275.0, 337.5, 400.0]"
      ]
     },
     "execution_count": 21,
     "metadata": {},
     "output_type": "execute_result"
    },
    {
     "data": {
      "application/javascript": "\n            setTimeout(function() {\n                var nbb_cell_id = 21;\n                var nbb_unformatted_code = \"list(np.linspace(400, 150, 5)) + list(np.linspace(150, 400, 5))\";\n                var nbb_formatted_code = \"list(np.linspace(400, 150, 5)) + list(np.linspace(150, 400, 5))\";\n                var nbb_cells = Jupyter.notebook.get_cells();\n                for (var i = 0; i < nbb_cells.length; ++i) {\n                    if (nbb_cells[i].input_prompt_number == nbb_cell_id) {\n                        if (nbb_cells[i].get_text() == nbb_unformatted_code) {\n                             nbb_cells[i].set_text(nbb_formatted_code);\n                        }\n                        break;\n                    }\n                }\n            }, 500);\n            ",
      "text/plain": [
       "<IPython.core.display.Javascript object>"
      ]
     },
     "metadata": {},
     "output_type": "display_data"
    }
   ],
   "source": [
    "list(np.linspace(400, 150, 5)) + list(np.linspace(150, 400, 5))"
   ]
  },
  {
   "cell_type": "markdown",
   "metadata": {},
   "source": [
    "# Q1\n",
    "\n",
    "The data in `data(NWOGrants)` are outcomes for scientific funding applications\n",
    "for the Netherlands Organization for Scientific Research (NWO) from 2010–2012\n",
    "(see van der Lee and Ellemers doi:10.1073/pnas.1510159112). These data have a\n",
    "very similar structure to the UCBAdmit data discussed in Chapter 11. Draw a DAG\n",
    "for this sample and then use one or more binomial GLMs to estimate the TOTAL\n",
    "causal effect of gender on grant awards."
   ]
  },
  {
   "cell_type": "markdown",
   "metadata": {},
   "source": [
    "## Answer\n",
    "\n",
    "The DAG from Chapter 11 can essentially be re-used since the `discipline` field can be used instead of `department` and `award` instead of `admit`."
   ]
  },
  {
   "cell_type": "code",
   "execution_count": null,
   "metadata": {},
   "outputs": [
    {
     "data": {
      "text/plain": [
       "<matplotlib.axes._axes.Axes at 0x7fd6a8e225e0>"
      ]
     },
     "metadata": {},
     "output_type": "display_data"
    },
    {
     "name": "stderr",
     "output_type": "stream",
     "text": [
      "/Users/blacar/opt/anaconda3/envs/stats_rethinking/lib/python3.8/site-packages/IPython/core/pylabtools.py:132: UserWarning: Calling figure.constrained_layout, but figure not setup to do constrained layout.  You either called GridSpec without the fig keyword, you are using plt.subplot, or you need to call figure or subplots with the constrained_layout=True kwarg.\n",
      "  fig.canvas.print_figure(bytes_io, **kw)\n"
     ]
    },
    {
     "data": {
      "image/png": "[encoded data removed]",
      "text/plain": [
       "<Figure size 212.598x133.858 with 1 Axes>"
      ]
     },
     "metadata": {},
     "output_type": "display_data"
    },
    {
     "data": {
      "application/javascript": "\n            setTimeout(function() {\n                var nbb_cell_id = 24;\n                var nbb_unformatted_code = \"dag = CausalGraphicalModel(\\n    nodes=[\\\"G\\\", \\\"D\\\", \\\"A\\\"],\\n    edges=[\\n        (\\\"G\\\", \\\"D\\\"),\\n        (\\\"D\\\", \\\"A\\\"),\\n        (\\\"G\\\", \\\"A\\\"),\\n    ],\\n)\\npgm = daft.PGM()\\ncoordinates = {\\n    \\\"D\\\": (1, 1),\\n    \\\"G\\\": (0, 0),\\n    \\\"A\\\": (2, 0),\\n}\\nfor node in dag.dag.nodes:\\n    pgm.add_node(node, node, *coordinates[node])\\nfor edge in dag.dag.edges:\\n    pgm.add_edge(*edge)\\npgm.render()\";\n                var nbb_formatted_code = \"dag = CausalGraphicalModel(\\n    nodes=[\\\"G\\\", \\\"D\\\", \\\"A\\\"],\\n    edges=[\\n        (\\\"G\\\", \\\"D\\\"),\\n        (\\\"D\\\", \\\"A\\\"),\\n        (\\\"G\\\", \\\"A\\\"),\\n    ],\\n)\\npgm = daft.PGM()\\ncoordinates = {\\n    \\\"D\\\": (1, 1),\\n    \\\"G\\\": (0, 0),\\n    \\\"A\\\": (2, 0),\\n}\\nfor node in dag.dag.nodes:\\n    pgm.add_node(node, node, *coordinates[node])\\nfor edge in dag.dag.edges:\\n    pgm.add_edge(*edge)\\npgm.render()\";\n                var nbb_cells = Jupyter.notebook.get_cells();\n                for (var i = 0; i < nbb_cells.length; ++i) {\n                    if (nbb_cells[i].input_prompt_number == nbb_cell_id) {\n                        if (nbb_cells[i].get_text() == nbb_unformatted_code) {\n                             nbb_cells[i].set_text(nbb_formatted_code);\n                        }\n                        break;\n                    }\n                }\n            }, 500);\n            ",
      "text/plain": [
       "<IPython.core.display.Javascript object>"
      ]
     },
     "metadata": {},
     "output_type": "display_data"
    }
   ],
   "source": [
    "dag = CausalGraphicalModel(\n",
    "    nodes=[\"G\", \"D\", \"A\"],\n",
    "    edges=[\n",
    "        (\"G\", \"D\"),\n",
    "        (\"D\", \"A\"),\n",
    "        (\"G\", \"A\"),\n",
    "    ],\n",
    ")\n",
    "pgm = daft.PGM()\n",
    "coordinates = {\n",
    "    \"D\": (1, 1),\n",
    "    \"G\": (0, 0),\n",
    "    \"A\": (2, 0),\n",
    "}\n",
    "for node in dag.dag.nodes:\n",
    "    pgm.add_node(node, node, *coordinates[node])\n",
    "for edge in dag.dag.edges:\n",
    "    pgm.add_edge(*edge)\n",
    "pgm.render()"
   ]
  },
  {
   "cell_type": "markdown",
   "metadata": {},
   "source": [
    "### Replicate UCB data"
   ]
  },
  {
   "cell_type": "code",
   "execution_count": 22,
   "metadata": {},
   "outputs": [
    {
     "data": {
      "text/html": [
       "<div>\n",
       "<style scoped>\n",
       "    .dataframe tbody tr th:only-of-type {\n",
       "        vertical-align: middle;\n",
       "    }\n",
       "\n",
       "    .dataframe tbody tr th {\n",
       "        vertical-align: top;\n",
       "    }\n",
       "\n",
       "    .dataframe thead th {\n",
       "        text-align: right;\n",
       "    }\n",
       "</style>\n",
       "<table border=\"1\" class=\"dataframe\">\n",
       "  <thead>\n",
       "    <tr style=\"text-align: right;\">\n",
       "      <th></th>\n",
       "      <th>dept</th>\n",
       "      <th>applicant.gender</th>\n",
       "      <th>admit</th>\n",
       "      <th>reject</th>\n",
       "      <th>applications</th>\n",
       "    </tr>\n",
       "  </thead>\n",
       "  <tbody>\n",
       "    <tr>\n",
       "      <th>1</th>\n",
       "      <td>A</td>\n",
       "      <td>male</td>\n",
       "      <td>512</td>\n",
       "      <td>313</td>\n",
       "      <td>825</td>\n",
       "    </tr>\n",
       "    <tr>\n",
       "      <th>2</th>\n",
       "      <td>A</td>\n",
       "      <td>female</td>\n",
       "      <td>89</td>\n",
       "      <td>19</td>\n",
       "      <td>108</td>\n",
       "    </tr>\n",
       "    <tr>\n",
       "      <th>3</th>\n",
       "      <td>B</td>\n",
       "      <td>male</td>\n",
       "      <td>353</td>\n",
       "      <td>207</td>\n",
       "      <td>560</td>\n",
       "    </tr>\n",
       "    <tr>\n",
       "      <th>4</th>\n",
       "      <td>B</td>\n",
       "      <td>female</td>\n",
       "      <td>17</td>\n",
       "      <td>8</td>\n",
       "      <td>25</td>\n",
       "    </tr>\n",
       "    <tr>\n",
       "      <th>5</th>\n",
       "      <td>C</td>\n",
       "      <td>male</td>\n",
       "      <td>120</td>\n",
       "      <td>205</td>\n",
       "      <td>325</td>\n",
       "    </tr>\n",
       "  </tbody>\n",
       "</table>\n",
       "</div>"
      ],
      "text/plain": [
       "  dept applicant.gender  admit  reject  applications\n",
       "1    A             male    512     313           825\n",
       "2    A           female     89      19           108\n",
       "3    B             male    353     207           560\n",
       "4    B           female     17       8            25\n",
       "5    C             male    120     205           325"
      ]
     },
     "execution_count": 22,
     "metadata": {},
     "output_type": "execute_result"
    },
    {
     "data": {
      "application/javascript": "\n            setTimeout(function() {\n                var nbb_cell_id = 22;\n                var nbb_unformatted_code = \"# input data\\nDATA_DIR = '/Users/blacar/Documents/ds_projects/stats_rethinking/pymc3_ed_resources/resources/Rethinking_2/End_of_chapter_problems/data/'\\n# df_grants = pd.read_csv(DATA_DIR + \\\"NWOGrants.csv\\\", sep=\\\";\\\", header=0)\\ndf_grants = pd.read_csv(DATA_DIR + \\\"UCBadmit.csv\\\", sep=\\\";\\\", header=0)\\ndf_grants.head()\";\n                var nbb_formatted_code = \"# input data\\nDATA_DIR = \\\"/Users/blacar/Documents/ds_projects/stats_rethinking/pymc3_ed_resources/resources/Rethinking_2/End_of_chapter_problems/data/\\\"\\n# df_grants = pd.read_csv(DATA_DIR + \\\"NWOGrants.csv\\\", sep=\\\";\\\", header=0)\\ndf_grants = pd.read_csv(DATA_DIR + \\\"UCBadmit.csv\\\", sep=\\\";\\\", header=0)\\ndf_grants.head()\";\n                var nbb_cells = Jupyter.notebook.get_cells();\n                for (var i = 0; i < nbb_cells.length; ++i) {\n                    if (nbb_cells[i].input_prompt_number == nbb_cell_id) {\n                        if (nbb_cells[i].get_text() == nbb_unformatted_code) {\n                             nbb_cells[i].set_text(nbb_formatted_code);\n                        }\n                        break;\n                    }\n                }\n            }, 500);\n            ",
      "text/plain": [
       "<IPython.core.display.Javascript object>"
      ]
     },
     "metadata": {},
     "output_type": "display_data"
    }
   ],
   "source": [
    "# input data\n",
    "DATA_DIR = '/Users/blacar/Documents/ds_projects/stats_rethinking/pymc3_ed_resources/resources/Rethinking_2/End_of_chapter_problems/data/'\n",
    "# df_grants = pd.read_csv(DATA_DIR + \"NWOGrants.csv\", sep=\";\", header=0)\n",
    "df_grants = pd.read_csv(DATA_DIR + \"UCBadmit.csv\", sep=\";\", header=0)\n",
    "df_grants.head()"
   ]
  },
  {
   "cell_type": "markdown",
   "metadata": {},
   "source": [
    "Therefore, to get the total causal effect, we simply include gender in the model and not stratify by department (or discipline in the award data)."
   ]
  },
  {
   "cell_type": "markdown",
   "metadata": {},
   "source": [
    "\n",
    "$$ A \\sim \\text{Binomial}(n_{i}, p_{i}) $$\n",
    "$$ \\text{logit}(p) = \\alpha_{GID}$$\n",
    "$$ \\alpha_{j} \\sim \\text{Normal}(0, 1.5) $$\n"
   ]
  },
  {
   "cell_type": "code",
   "execution_count": 25,
   "metadata": {},
   "outputs": [
    {
     "data": {
      "application/javascript": "\n            setTimeout(function() {\n                var nbb_cell_id = 25;\n                var nbb_unformatted_code = \"# index encode variables\\ndf_grants['gender_ind'] = pd.Categorical(df_grants['applicant.gender'], categories=[\\\"male\\\", \\\"female\\\"]).codes\\ndf_grants['dept_ind'] = pd.Categorical(df_grants['dept']).codes\";\n                var nbb_formatted_code = \"# index encode variables\\ndf_grants[\\\"gender_ind\\\"] = pd.Categorical(\\n    df_grants[\\\"applicant.gender\\\"], categories=[\\\"male\\\", \\\"female\\\"]\\n).codes\\ndf_grants[\\\"dept_ind\\\"] = pd.Categorical(df_grants[\\\"dept\\\"]).codes\";\n                var nbb_cells = Jupyter.notebook.get_cells();\n                for (var i = 0; i < nbb_cells.length; ++i) {\n                    if (nbb_cells[i].input_prompt_number == nbb_cell_id) {\n                        if (nbb_cells[i].get_text() == nbb_unformatted_code) {\n                             nbb_cells[i].set_text(nbb_formatted_code);\n                        }\n                        break;\n                    }\n                }\n            }, 500);\n            ",
      "text/plain": [
       "<IPython.core.display.Javascript object>"
      ]
     },
     "metadata": {},
     "output_type": "display_data"
    }
   ],
   "source": [
    "# index encode variables\n",
    "df_grants['gender_ind'] = pd.Categorical(df_grants['applicant.gender'], categories=[\"male\", \"female\"]).codes\n",
    "df_grants['dept_ind'] = pd.Categorical(df_grants['dept']).codes"
   ]
  },
  {
   "cell_type": "code",
   "execution_count": 26,
   "metadata": {},
   "outputs": [
    {
     "data": {
      "text/html": [
       "<div>\n",
       "<style scoped>\n",
       "    .dataframe tbody tr th:only-of-type {\n",
       "        vertical-align: middle;\n",
       "    }\n",
       "\n",
       "    .dataframe tbody tr th {\n",
       "        vertical-align: top;\n",
       "    }\n",
       "\n",
       "    .dataframe thead th {\n",
       "        text-align: right;\n",
       "    }\n",
       "</style>\n",
       "<table border=\"1\" class=\"dataframe\">\n",
       "  <thead>\n",
       "    <tr style=\"text-align: right;\">\n",
       "      <th></th>\n",
       "      <th>dept</th>\n",
       "      <th>applicant.gender</th>\n",
       "      <th>admit</th>\n",
       "      <th>reject</th>\n",
       "      <th>applications</th>\n",
       "      <th>gender_ind</th>\n",
       "      <th>dept_ind</th>\n",
       "    </tr>\n",
       "  </thead>\n",
       "  <tbody>\n",
       "    <tr>\n",
       "      <th>1</th>\n",
       "      <td>A</td>\n",
       "      <td>male</td>\n",
       "      <td>512</td>\n",
       "      <td>313</td>\n",
       "      <td>825</td>\n",
       "      <td>0</td>\n",
       "      <td>0</td>\n",
       "    </tr>\n",
       "    <tr>\n",
       "      <th>2</th>\n",
       "      <td>A</td>\n",
       "      <td>female</td>\n",
       "      <td>89</td>\n",
       "      <td>19</td>\n",
       "      <td>108</td>\n",
       "      <td>1</td>\n",
       "      <td>0</td>\n",
       "    </tr>\n",
       "    <tr>\n",
       "      <th>3</th>\n",
       "      <td>B</td>\n",
       "      <td>male</td>\n",
       "      <td>353</td>\n",
       "      <td>207</td>\n",
       "      <td>560</td>\n",
       "      <td>0</td>\n",
       "      <td>1</td>\n",
       "    </tr>\n",
       "    <tr>\n",
       "      <th>4</th>\n",
       "      <td>B</td>\n",
       "      <td>female</td>\n",
       "      <td>17</td>\n",
       "      <td>8</td>\n",
       "      <td>25</td>\n",
       "      <td>1</td>\n",
       "      <td>1</td>\n",
       "    </tr>\n",
       "    <tr>\n",
       "      <th>5</th>\n",
       "      <td>C</td>\n",
       "      <td>male</td>\n",
       "      <td>120</td>\n",
       "      <td>205</td>\n",
       "      <td>325</td>\n",
       "      <td>0</td>\n",
       "      <td>2</td>\n",
       "    </tr>\n",
       "  </tbody>\n",
       "</table>\n",
       "</div>"
      ],
      "text/plain": [
       "  dept applicant.gender  admit  reject  applications  gender_ind  dept_ind\n",
       "1    A             male    512     313           825           0         0\n",
       "2    A           female     89      19           108           1         0\n",
       "3    B             male    353     207           560           0         1\n",
       "4    B           female     17       8            25           1         1\n",
       "5    C             male    120     205           325           0         2"
      ]
     },
     "execution_count": 26,
     "metadata": {},
     "output_type": "execute_result"
    },
    {
     "data": {
      "application/javascript": "\n            setTimeout(function() {\n                var nbb_cell_id = 26;\n                var nbb_unformatted_code = \"df_grants.head()\";\n                var nbb_formatted_code = \"df_grants.head()\";\n                var nbb_cells = Jupyter.notebook.get_cells();\n                for (var i = 0; i < nbb_cells.length; ++i) {\n                    if (nbb_cells[i].input_prompt_number == nbb_cell_id) {\n                        if (nbb_cells[i].get_text() == nbb_unformatted_code) {\n                             nbb_cells[i].set_text(nbb_formatted_code);\n                        }\n                        break;\n                    }\n                }\n            }, 500);\n            ",
      "text/plain": [
       "<IPython.core.display.Javascript object>"
      ]
     },
     "metadata": {},
     "output_type": "display_data"
    }
   ],
   "source": [
    "df_grants.head()"
   ]
  },
  {
   "cell_type": "code",
   "execution_count": 27,
   "metadata": {},
   "outputs": [
    {
     "name": "stderr",
     "output_type": "stream",
     "text": [
      "Auto-assigning NUTS sampler...\n",
      "Initializing NUTS using jitter+adapt_diag...\n",
      "Multiprocess sampling (4 chains in 4 jobs)\n",
      "NUTS: [a]\n",
      "Sampling 4 chains for 1_000 tune and 1_000 draw iterations (4_000 + 4_000 draws total) took 21 seconds.\n"
     ]
    },
    {
     "data": {
      "application/javascript": "\n            setTimeout(function() {\n                var nbb_cell_id = 27;\n                var nbb_unformatted_code = \"# write model\\nwith pm.Model() as mq1:\\n\\n    # Priors\\n    a = pm.Normal(\\\"a\\\", mu=0, sd=1.5, shape=2)\\n\\n    # linear model (mu is deterministic)\\n    p = pm.Deterministic(\\\"p\\\", pm.math.invlogit(a[df_grants[\\\"gender_ind\\\"]]))\\n\\n    # likelihood\\n    award = pm.Binomial(\\\"award\\\", n=df_grants['applications'], p=p, observed=df_grants['admit'])\\n\\n    # generate posterior and sample\\n    idata_mq1 = pm.sample(1000, tune=1000, return_inferencedata=True, progressbar=False)\";\n                var nbb_formatted_code = \"# write model\\nwith pm.Model() as mq1:\\n\\n    # Priors\\n    a = pm.Normal(\\\"a\\\", mu=0, sd=1.5, shape=2)\\n\\n    # linear model (mu is deterministic)\\n    p = pm.Deterministic(\\\"p\\\", pm.math.invlogit(a[df_grants[\\\"gender_ind\\\"]]))\\n\\n    # likelihood\\n    award = pm.Binomial(\\n        \\\"award\\\", n=df_grants[\\\"applications\\\"], p=p, observed=df_grants[\\\"admit\\\"]\\n    )\\n\\n    # generate posterior and sample\\n    idata_mq1 = pm.sample(1000, tune=1000, return_inferencedata=True, progressbar=False)\";\n                var nbb_cells = Jupyter.notebook.get_cells();\n                for (var i = 0; i < nbb_cells.length; ++i) {\n                    if (nbb_cells[i].input_prompt_number == nbb_cell_id) {\n                        if (nbb_cells[i].get_text() == nbb_unformatted_code) {\n                             nbb_cells[i].set_text(nbb_formatted_code);\n                        }\n                        break;\n                    }\n                }\n            }, 500);\n            ",
      "text/plain": [
       "<IPython.core.display.Javascript object>"
      ]
     },
     "metadata": {},
     "output_type": "display_data"
    }
   ],
   "source": [
    "# write model\n",
    "with pm.Model() as mq1:\n",
    "\n",
    "    # Priors\n",
    "    a = pm.Normal(\"a\", mu=0, sd=1.5, shape=2)\n",
    "\n",
    "    # linear model (mu is deterministic)\n",
    "    p = pm.Deterministic(\"p\", pm.math.invlogit(a[df_grants[\"gender_ind\"]]))\n",
    "\n",
    "    # likelihood\n",
    "    award = pm.Binomial(\"award\", n=df_grants['applications'], p=p, observed=df_grants['admit'])\n",
    "\n",
    "    # generate posterior and sample\n",
    "    idata_mq1 = pm.sample(1000, tune=1000, return_inferencedata=True, progressbar=False)\n"
   ]
  },
  {
   "cell_type": "code",
   "execution_count": 28,
   "metadata": {},
   "outputs": [
    {
     "data": {
      "text/html": [
       "<div>\n",
       "<style scoped>\n",
       "    .dataframe tbody tr th:only-of-type {\n",
       "        vertical-align: middle;\n",
       "    }\n",
       "\n",
       "    .dataframe tbody tr th {\n",
       "        vertical-align: top;\n",
       "    }\n",
       "\n",
       "    .dataframe thead th {\n",
       "        text-align: right;\n",
       "    }\n",
       "</style>\n",
       "<table border=\"1\" class=\"dataframe\">\n",
       "  <thead>\n",
       "    <tr style=\"text-align: right;\">\n",
       "      <th></th>\n",
       "      <th>mean</th>\n",
       "      <th>sd</th>\n",
       "      <th>hdi_5.5%</th>\n",
       "      <th>hdi_94.5%</th>\n",
       "      <th>mcse_mean</th>\n",
       "      <th>mcse_sd</th>\n",
       "      <th>ess_mean</th>\n",
       "      <th>ess_sd</th>\n",
       "      <th>ess_bulk</th>\n",
       "      <th>ess_tail</th>\n",
       "      <th>r_hat</th>\n",
       "    </tr>\n",
       "  </thead>\n",
       "  <tbody>\n",
       "    <tr>\n",
       "      <th>a[0]</th>\n",
       "      <td>-0.221</td>\n",
       "      <td>0.039</td>\n",
       "      <td>-0.281</td>\n",
       "      <td>-0.159</td>\n",
       "      <td>0.001</td>\n",
       "      <td>0.000</td>\n",
       "      <td>3442.0</td>\n",
       "      <td>3436.0</td>\n",
       "      <td>3436.0</td>\n",
       "      <td>3051.0</td>\n",
       "      <td>1.0</td>\n",
       "    </tr>\n",
       "    <tr>\n",
       "      <th>a[1]</th>\n",
       "      <td>-0.830</td>\n",
       "      <td>0.049</td>\n",
       "      <td>-0.912</td>\n",
       "      <td>-0.756</td>\n",
       "      <td>0.001</td>\n",
       "      <td>0.001</td>\n",
       "      <td>3426.0</td>\n",
       "      <td>3426.0</td>\n",
       "      <td>3432.0</td>\n",
       "      <td>2936.0</td>\n",
       "      <td>1.0</td>\n",
       "    </tr>\n",
       "  </tbody>\n",
       "</table>\n",
       "</div>"
      ],
      "text/plain": [
       "       mean     sd  hdi_5.5%  hdi_94.5%  mcse_mean  mcse_sd  ess_mean  ess_sd  \\\n",
       "a[0] -0.221  0.039    -0.281     -0.159      0.001    0.000    3442.0  3436.0   \n",
       "a[1] -0.830  0.049    -0.912     -0.756      0.001    0.001    3426.0  3426.0   \n",
       "\n",
       "      ess_bulk  ess_tail  r_hat  \n",
       "a[0]    3436.0    3051.0    1.0  \n",
       "a[1]    3432.0    2936.0    1.0  "
      ]
     },
     "execution_count": 28,
     "metadata": {},
     "output_type": "execute_result"
    },
    {
     "data": {
      "application/javascript": "\n            setTimeout(function() {\n                var nbb_cell_id = 28;\n                var nbb_unformatted_code = \"az.summary(idata_mq1, var_names='a')\";\n                var nbb_formatted_code = \"az.summary(idata_mq1, var_names=\\\"a\\\")\";\n                var nbb_cells = Jupyter.notebook.get_cells();\n                for (var i = 0; i < nbb_cells.length; ++i) {\n                    if (nbb_cells[i].input_prompt_number == nbb_cell_id) {\n                        if (nbb_cells[i].get_text() == nbb_unformatted_code) {\n                             nbb_cells[i].set_text(nbb_formatted_code);\n                        }\n                        break;\n                    }\n                }\n            }, 500);\n            ",
      "text/plain": [
       "<IPython.core.display.Javascript object>"
      ]
     },
     "metadata": {},
     "output_type": "display_data"
    }
   ],
   "source": [
    "az.summary(idata_mq1, var_names='a')"
   ]
  },
  {
   "cell_type": "markdown",
   "metadata": {},
   "source": [
    "### Grant awards"
   ]
  },
  {
   "cell_type": "code",
   "execution_count": 30,
   "metadata": {},
   "outputs": [
    {
     "data": {
      "text/html": [
       "<div>\n",
       "<style scoped>\n",
       "    .dataframe tbody tr th:only-of-type {\n",
       "        vertical-align: middle;\n",
       "    }\n",
       "\n",
       "    .dataframe tbody tr th {\n",
       "        vertical-align: top;\n",
       "    }\n",
       "\n",
       "    .dataframe thead th {\n",
       "        text-align: right;\n",
       "    }\n",
       "</style>\n",
       "<table border=\"1\" class=\"dataframe\">\n",
       "  <thead>\n",
       "    <tr style=\"text-align: right;\">\n",
       "      <th></th>\n",
       "      <th>discipline</th>\n",
       "      <th>gender</th>\n",
       "      <th>applications</th>\n",
       "      <th>awards</th>\n",
       "    </tr>\n",
       "  </thead>\n",
       "  <tbody>\n",
       "    <tr>\n",
       "      <th>0</th>\n",
       "      <td>Chemical sciences</td>\n",
       "      <td>m</td>\n",
       "      <td>83</td>\n",
       "      <td>22</td>\n",
       "    </tr>\n",
       "    <tr>\n",
       "      <th>1</th>\n",
       "      <td>Chemical sciences</td>\n",
       "      <td>f</td>\n",
       "      <td>39</td>\n",
       "      <td>10</td>\n",
       "    </tr>\n",
       "    <tr>\n",
       "      <th>2</th>\n",
       "      <td>Physical sciences</td>\n",
       "      <td>m</td>\n",
       "      <td>135</td>\n",
       "      <td>26</td>\n",
       "    </tr>\n",
       "    <tr>\n",
       "      <th>3</th>\n",
       "      <td>Physical sciences</td>\n",
       "      <td>f</td>\n",
       "      <td>39</td>\n",
       "      <td>9</td>\n",
       "    </tr>\n",
       "    <tr>\n",
       "      <th>4</th>\n",
       "      <td>Physics</td>\n",
       "      <td>m</td>\n",
       "      <td>67</td>\n",
       "      <td>18</td>\n",
       "    </tr>\n",
       "  </tbody>\n",
       "</table>\n",
       "</div>"
      ],
      "text/plain": [
       "          discipline gender  applications  awards\n",
       "0  Chemical sciences      m            83      22\n",
       "1  Chemical sciences      f            39      10\n",
       "2  Physical sciences      m           135      26\n",
       "3  Physical sciences      f            39       9\n",
       "4            Physics      m            67      18"
      ]
     },
     "execution_count": 30,
     "metadata": {},
     "output_type": "execute_result"
    },
    {
     "data": {
      "application/javascript": "\n            setTimeout(function() {\n                var nbb_cell_id = 30;\n                var nbb_unformatted_code = \"# input data\\nDATA_DIR = '/Users/blacar/Documents/ds_projects/stats_rethinking/pymc3_ed_resources/resources/Rethinking_2/End_of_chapter_problems/data/'\\ndf_grants = pd.read_csv(DATA_DIR + \\\"NWOGrants.csv\\\", sep=\\\";\\\", header=0)\\ndf_grants.head()\";\n                var nbb_formatted_code = \"# input data\\nDATA_DIR = \\\"/Users/blacar/Documents/ds_projects/stats_rethinking/pymc3_ed_resources/resources/Rethinking_2/End_of_chapter_problems/data/\\\"\\ndf_grants = pd.read_csv(DATA_DIR + \\\"NWOGrants.csv\\\", sep=\\\";\\\", header=0)\\ndf_grants.head()\";\n                var nbb_cells = Jupyter.notebook.get_cells();\n                for (var i = 0; i < nbb_cells.length; ++i) {\n                    if (nbb_cells[i].input_prompt_number == nbb_cell_id) {\n                        if (nbb_cells[i].get_text() == nbb_unformatted_code) {\n                             nbb_cells[i].set_text(nbb_formatted_code);\n                        }\n                        break;\n                    }\n                }\n            }, 500);\n            ",
      "text/plain": [
       "<IPython.core.display.Javascript object>"
      ]
     },
     "metadata": {},
     "output_type": "display_data"
    }
   ],
   "source": [
    "# input data\n",
    "DATA_DIR = '/Users/blacar/Documents/ds_projects/stats_rethinking/pymc3_ed_resources/resources/Rethinking_2/End_of_chapter_problems/data/'\n",
    "df_grants = pd.read_csv(DATA_DIR + \"NWOGrants.csv\", sep=\";\", header=0)\n",
    "df_grants.head()"
   ]
  },
  {
   "cell_type": "code",
   "execution_count": 461,
   "metadata": {},
   "outputs": [
    {
     "data": {
      "application/javascript": "\n            setTimeout(function() {\n                var nbb_cell_id = 461;\n                var nbb_unformatted_code = \"# index encode variables\\ndf_grants['gender_ind'] = pd.Categorical(df_grants['gender'], categories=[\\\"m\\\", \\\"f\\\"]).codes\\ndf_grants['discipline_ind'] = pd.Categorical(df_grants['discipline']).codes\";\n                var nbb_formatted_code = \"# index encode variables\\ndf_grants[\\\"gender_ind\\\"] = pd.Categorical(\\n    df_grants[\\\"gender\\\"], categories=[\\\"m\\\", \\\"f\\\"]\\n).codes\\ndf_grants[\\\"discipline_ind\\\"] = pd.Categorical(df_grants[\\\"discipline\\\"]).codes\";\n                var nbb_cells = Jupyter.notebook.get_cells();\n                for (var i = 0; i < nbb_cells.length; ++i) {\n                    if (nbb_cells[i].input_prompt_number == nbb_cell_id) {\n                        if (nbb_cells[i].get_text() == nbb_unformatted_code) {\n                             nbb_cells[i].set_text(nbb_formatted_code);\n                        }\n                        break;\n                    }\n                }\n            }, 500);\n            ",
      "text/plain": [
       "<IPython.core.display.Javascript object>"
      ]
     },
     "metadata": {},
     "output_type": "display_data"
    }
   ],
   "source": [
    "# index encode variables\n",
    "df_grants['gender_ind'] = pd.Categorical(df_grants['gender'], categories=[\"m\", \"f\"]).codes\n",
    "df_grants['discipline_ind'] = pd.Categorical(df_grants['discipline']).codes"
   ]
  },
  {
   "cell_type": "code",
   "execution_count": 36,
   "metadata": {},
   "outputs": [
    {
     "name": "stderr",
     "output_type": "stream",
     "text": [
      "Auto-assigning NUTS sampler...\n",
      "Initializing NUTS using jitter+adapt_diag...\n",
      "Multiprocess sampling (4 chains in 4 jobs)\n",
      "NUTS: [a]\n",
      "Sampling 4 chains for 1_000 tune and 1_000 draw iterations (4_000 + 4_000 draws total) took 18 seconds.\n"
     ]
    },
    {
     "data": {
      "application/javascript": "\n            setTimeout(function() {\n                var nbb_cell_id = 36;\n                var nbb_unformatted_code = \"# write model\\nwith pm.Model() as mq1b:\\n\\n    # Priors\\n    a = pm.Normal(\\\"a\\\", mu=0, sd=1.5, shape=2)\\n\\n    # linear model (mu is deterministic)\\n    p = pm.Deterministic(\\\"p\\\", pm.math.invlogit(a[df_grants[\\\"gender_ind\\\"]]))\\n\\n    # likelihood\\n    award = pm.Binomial(\\\"award\\\", n=df_grants['applications'], p=p, observed=df_grants['awards'])\\n\\n    # generate posterior and sample\\n    idata_mq1b = pm.sample(1000, tune=1000, return_inferencedata=True, progressbar=False)\";\n                var nbb_formatted_code = \"# write model\\nwith pm.Model() as mq1b:\\n\\n    # Priors\\n    a = pm.Normal(\\\"a\\\", mu=0, sd=1.5, shape=2)\\n\\n    # linear model (mu is deterministic)\\n    p = pm.Deterministic(\\\"p\\\", pm.math.invlogit(a[df_grants[\\\"gender_ind\\\"]]))\\n\\n    # likelihood\\n    award = pm.Binomial(\\n        \\\"award\\\", n=df_grants[\\\"applications\\\"], p=p, observed=df_grants[\\\"awards\\\"]\\n    )\\n\\n    # generate posterior and sample\\n    idata_mq1b = pm.sample(\\n        1000, tune=1000, return_inferencedata=True, progressbar=False\\n    )\";\n                var nbb_cells = Jupyter.notebook.get_cells();\n                for (var i = 0; i < nbb_cells.length; ++i) {\n                    if (nbb_cells[i].input_prompt_number == nbb_cell_id) {\n                        if (nbb_cells[i].get_text() == nbb_unformatted_code) {\n                             nbb_cells[i].set_text(nbb_formatted_code);\n                        }\n                        break;\n                    }\n                }\n            }, 500);\n            ",
      "text/plain": [
       "<IPython.core.display.Javascript object>"
      ]
     },
     "metadata": {},
     "output_type": "display_data"
    }
   ],
   "source": [
    "# write model\n",
    "with pm.Model() as mq1b:\n",
    "\n",
    "    # Priors\n",
    "    a = pm.Normal(\"a\", mu=0, sd=1.5, shape=2)\n",
    "\n",
    "    # linear model (mu is deterministic)\n",
    "    p = pm.Deterministic(\"p\", pm.math.invlogit(a[df_grants[\"gender_ind\"]]))\n",
    "\n",
    "    # likelihood\n",
    "    award = pm.Binomial(\"award\", n=df_grants['applications'], p=p, observed=df_grants['awards'])\n",
    "\n",
    "    # generate posterior and sample\n",
    "    idata_mq1b = pm.sample(1000, tune=1000, return_inferencedata=True, progressbar=False)\n"
   ]
  },
  {
   "cell_type": "code",
   "execution_count": 38,
   "metadata": {},
   "outputs": [
    {
     "data": {
      "text/html": [
       "<div>\n",
       "<style scoped>\n",
       "    .dataframe tbody tr th:only-of-type {\n",
       "        vertical-align: middle;\n",
       "    }\n",
       "\n",
       "    .dataframe tbody tr th {\n",
       "        vertical-align: top;\n",
       "    }\n",
       "\n",
       "    .dataframe thead th {\n",
       "        text-align: right;\n",
       "    }\n",
       "</style>\n",
       "<table border=\"1\" class=\"dataframe\">\n",
       "  <thead>\n",
       "    <tr style=\"text-align: right;\">\n",
       "      <th></th>\n",
       "      <th>mean</th>\n",
       "      <th>sd</th>\n",
       "      <th>hdi_5.5%</th>\n",
       "      <th>hdi_94.5%</th>\n",
       "      <th>mcse_mean</th>\n",
       "      <th>mcse_sd</th>\n",
       "      <th>ess_mean</th>\n",
       "      <th>ess_sd</th>\n",
       "      <th>ess_bulk</th>\n",
       "      <th>ess_tail</th>\n",
       "      <th>r_hat</th>\n",
       "    </tr>\n",
       "  </thead>\n",
       "  <tbody>\n",
       "    <tr>\n",
       "      <th>a[0]</th>\n",
       "      <td>-1.535</td>\n",
       "      <td>0.066</td>\n",
       "      <td>-1.638</td>\n",
       "      <td>-1.431</td>\n",
       "      <td>0.001</td>\n",
       "      <td>0.001</td>\n",
       "      <td>3693.0</td>\n",
       "      <td>3664.0</td>\n",
       "      <td>3708.0</td>\n",
       "      <td>2773.0</td>\n",
       "      <td>1.0</td>\n",
       "    </tr>\n",
       "    <tr>\n",
       "      <th>a[1]</th>\n",
       "      <td>-1.736</td>\n",
       "      <td>0.083</td>\n",
       "      <td>-1.875</td>\n",
       "      <td>-1.612</td>\n",
       "      <td>0.001</td>\n",
       "      <td>0.001</td>\n",
       "      <td>3616.0</td>\n",
       "      <td>3616.0</td>\n",
       "      <td>3611.0</td>\n",
       "      <td>2649.0</td>\n",
       "      <td>1.0</td>\n",
       "    </tr>\n",
       "  </tbody>\n",
       "</table>\n",
       "</div>"
      ],
      "text/plain": [
       "       mean     sd  hdi_5.5%  hdi_94.5%  mcse_mean  mcse_sd  ess_mean  ess_sd  \\\n",
       "a[0] -1.535  0.066    -1.638     -1.431      0.001    0.001    3693.0  3664.0   \n",
       "a[1] -1.736  0.083    -1.875     -1.612      0.001    0.001    3616.0  3616.0   \n",
       "\n",
       "      ess_bulk  ess_tail  r_hat  \n",
       "a[0]    3708.0    2773.0    1.0  \n",
       "a[1]    3611.0    2649.0    1.0  "
      ]
     },
     "execution_count": 38,
     "metadata": {},
     "output_type": "execute_result"
    },
    {
     "data": {
      "application/javascript": "\n            setTimeout(function() {\n                var nbb_cell_id = 38;\n                var nbb_unformatted_code = \"az.summary(idata_mq1b, var_names='a')\";\n                var nbb_formatted_code = \"az.summary(idata_mq1b, var_names=\\\"a\\\")\";\n                var nbb_cells = Jupyter.notebook.get_cells();\n                for (var i = 0; i < nbb_cells.length; ++i) {\n                    if (nbb_cells[i].input_prompt_number == nbb_cell_id) {\n                        if (nbb_cells[i].get_text() == nbb_unformatted_code) {\n                             nbb_cells[i].set_text(nbb_formatted_code);\n                        }\n                        break;\n                    }\n                }\n            }, 500);\n            ",
      "text/plain": [
       "<IPython.core.display.Javascript object>"
      ]
     },
     "metadata": {},
     "output_type": "display_data"
    }
   ],
   "source": [
    "az.summary(idata_mq1b, var_names='a')"
   ]
  },
  {
   "cell_type": "markdown",
   "metadata": {},
   "source": [
    "Look more at [what I did last year](https://github.com/benslack19/stats_rethinking/blob/main/SR_notebooks_2021/stats_rethinking_ch11_hw06.ipynb)."
   ]
  },
  {
   "cell_type": "code",
   "execution_count": 237,
   "metadata": {},
   "outputs": [
    {
     "data": {
      "text/html": [
       "<div>\n",
       "<style scoped>\n",
       "    .dataframe tbody tr th:only-of-type {\n",
       "        vertical-align: middle;\n",
       "    }\n",
       "\n",
       "    .dataframe tbody tr th {\n",
       "        vertical-align: top;\n",
       "    }\n",
       "\n",
       "    .dataframe thead th {\n",
       "        text-align: right;\n",
       "    }\n",
       "</style>\n",
       "<table border=\"1\" class=\"dataframe\">\n",
       "  <thead>\n",
       "    <tr style=\"text-align: right;\">\n",
       "      <th></th>\n",
       "      <th>chain</th>\n",
       "      <th>draw</th>\n",
       "      <th>(posterior, a[0], 0)</th>\n",
       "      <th>(posterior, a[1], 1)</th>\n",
       "      <th>(posterior, p[0], 0)</th>\n",
       "      <th>(posterior, p[10], 10)</th>\n",
       "      <th>(posterior, p[11], 11)</th>\n",
       "      <th>(posterior, p[12], 12)</th>\n",
       "      <th>(posterior, p[13], 13)</th>\n",
       "      <th>(posterior, p[14], 14)</th>\n",
       "      <th>...</th>\n",
       "      <th>(sample_stats, step_size_bar)</th>\n",
       "      <th>(sample_stats, energy)</th>\n",
       "      <th>(sample_stats, lp)</th>\n",
       "      <th>(sample_stats, energy_error)</th>\n",
       "      <th>(sample_stats, process_time_diff)</th>\n",
       "      <th>(sample_stats, perf_counter_start)</th>\n",
       "      <th>(sample_stats, mean_tree_accept)</th>\n",
       "      <th>(sample_stats, diverging)</th>\n",
       "      <th>(sample_stats, max_energy_error)</th>\n",
       "      <th>(sample_stats, step_size)</th>\n",
       "    </tr>\n",
       "  </thead>\n",
       "  <tbody>\n",
       "    <tr>\n",
       "      <th>0</th>\n",
       "      <td>0</td>\n",
       "      <td>0</td>\n",
       "      <td>-1.557060</td>\n",
       "      <td>-1.726432</td>\n",
       "      <td>0.174069</td>\n",
       "      <td>0.174069</td>\n",
       "      <td>0.151045</td>\n",
       "      <td>0.174069</td>\n",
       "      <td>0.151045</td>\n",
       "      <td>0.174069</td>\n",
       "      <td>...</td>\n",
       "      <td>1.218064</td>\n",
       "      <td>65.108397</td>\n",
       "      <td>-65.057294</td>\n",
       "      <td>0.016140</td>\n",
       "      <td>0.000457</td>\n",
       "      <td>468.251165</td>\n",
       "      <td>0.978434</td>\n",
       "      <td>False</td>\n",
       "      <td>0.028087</td>\n",
       "      <td>1.142159</td>\n",
       "    </tr>\n",
       "    <tr>\n",
       "      <th>1</th>\n",
       "      <td>0</td>\n",
       "      <td>1</td>\n",
       "      <td>-1.557060</td>\n",
       "      <td>-1.726432</td>\n",
       "      <td>0.174069</td>\n",
       "      <td>0.174069</td>\n",
       "      <td>0.151045</td>\n",
       "      <td>0.174069</td>\n",
       "      <td>0.151045</td>\n",
       "      <td>0.174069</td>\n",
       "      <td>...</td>\n",
       "      <td>1.218064</td>\n",
       "      <td>65.582284</td>\n",
       "      <td>-65.057294</td>\n",
       "      <td>0.000000</td>\n",
       "      <td>0.000214</td>\n",
       "      <td>468.251724</td>\n",
       "      <td>0.742179</td>\n",
       "      <td>False</td>\n",
       "      <td>0.298165</td>\n",
       "      <td>1.142159</td>\n",
       "    </tr>\n",
       "    <tr>\n",
       "      <th>2</th>\n",
       "      <td>0</td>\n",
       "      <td>2</td>\n",
       "      <td>-1.519500</td>\n",
       "      <td>-1.753968</td>\n",
       "      <td>0.179535</td>\n",
       "      <td>0.179535</td>\n",
       "      <td>0.147547</td>\n",
       "      <td>0.179535</td>\n",
       "      <td>0.147547</td>\n",
       "      <td>0.179535</td>\n",
       "      <td>...</td>\n",
       "      <td>1.218064</td>\n",
       "      <td>65.078283</td>\n",
       "      <td>-65.007525</td>\n",
       "      <td>-0.019402</td>\n",
       "      <td>0.000468</td>\n",
       "      <td>468.252107</td>\n",
       "      <td>0.999606</td>\n",
       "      <td>False</td>\n",
       "      <td>-0.019402</td>\n",
       "      <td>1.142159</td>\n",
       "    </tr>\n",
       "    <tr>\n",
       "      <th>3</th>\n",
       "      <td>0</td>\n",
       "      <td>3</td>\n",
       "      <td>-1.509418</td>\n",
       "      <td>-1.780629</td>\n",
       "      <td>0.181025</td>\n",
       "      <td>0.181025</td>\n",
       "      <td>0.144226</td>\n",
       "      <td>0.181025</td>\n",
       "      <td>0.144226</td>\n",
       "      <td>0.181025</td>\n",
       "      <td>...</td>\n",
       "      <td>1.218064</td>\n",
       "      <td>65.171804</td>\n",
       "      <td>-65.168094</td>\n",
       "      <td>0.055607</td>\n",
       "      <td>0.000262</td>\n",
       "      <td>468.252713</td>\n",
       "      <td>0.945911</td>\n",
       "      <td>False</td>\n",
       "      <td>0.055607</td>\n",
       "      <td>1.142159</td>\n",
       "    </tr>\n",
       "    <tr>\n",
       "      <th>4</th>\n",
       "      <td>0</td>\n",
       "      <td>4</td>\n",
       "      <td>-1.548327</td>\n",
       "      <td>-1.734039</td>\n",
       "      <td>0.175328</td>\n",
       "      <td>0.175328</td>\n",
       "      <td>0.150072</td>\n",
       "      <td>0.175328</td>\n",
       "      <td>0.150072</td>\n",
       "      <td>0.175328</td>\n",
       "      <td>...</td>\n",
       "      <td>1.218064</td>\n",
       "      <td>65.250460</td>\n",
       "      <td>-65.004794</td>\n",
       "      <td>-0.058119</td>\n",
       "      <td>0.000457</td>\n",
       "      <td>468.253073</td>\n",
       "      <td>0.982631</td>\n",
       "      <td>False</td>\n",
       "      <td>-0.058119</td>\n",
       "      <td>1.142159</td>\n",
       "    </tr>\n",
       "  </tbody>\n",
       "</table>\n",
       "<p>5 rows × 53 columns</p>\n",
       "</div>"
      ],
      "text/plain": [
       "   chain  draw  (posterior, a[0], 0)  (posterior, a[1], 1)  \\\n",
       "0      0     0             -1.557060             -1.726432   \n",
       "1      0     1             -1.557060             -1.726432   \n",
       "2      0     2             -1.519500             -1.753968   \n",
       "3      0     3             -1.509418             -1.780629   \n",
       "4      0     4             -1.548327             -1.734039   \n",
       "\n",
       "   (posterior, p[0], 0)  (posterior, p[10], 10)  (posterior, p[11], 11)  \\\n",
       "0              0.174069                0.174069                0.151045   \n",
       "1              0.174069                0.174069                0.151045   \n",
       "2              0.179535                0.179535                0.147547   \n",
       "3              0.181025                0.181025                0.144226   \n",
       "4              0.175328                0.175328                0.150072   \n",
       "\n",
       "   (posterior, p[12], 12)  (posterior, p[13], 13)  (posterior, p[14], 14)  \\\n",
       "0                0.174069                0.151045                0.174069   \n",
       "1                0.174069                0.151045                0.174069   \n",
       "2                0.179535                0.147547                0.179535   \n",
       "3                0.181025                0.144226                0.181025   \n",
       "4                0.175328                0.150072                0.175328   \n",
       "\n",
       "   ...  (sample_stats, step_size_bar)  (sample_stats, energy)  \\\n",
       "0  ...                       1.218064               65.108397   \n",
       "1  ...                       1.218064               65.582284   \n",
       "2  ...                       1.218064               65.078283   \n",
       "3  ...                       1.218064               65.171804   \n",
       "4  ...                       1.218064               65.250460   \n",
       "\n",
       "   (sample_stats, lp)  (sample_stats, energy_error)  \\\n",
       "0          -65.057294                      0.016140   \n",
       "1          -65.057294                      0.000000   \n",
       "2          -65.007525                     -0.019402   \n",
       "3          -65.168094                      0.055607   \n",
       "4          -65.004794                     -0.058119   \n",
       "\n",
       "   (sample_stats, process_time_diff)  (sample_stats, perf_counter_start)  \\\n",
       "0                           0.000457                          468.251165   \n",
       "1                           0.000214                          468.251724   \n",
       "2                           0.000468                          468.252107   \n",
       "3                           0.000262                          468.252713   \n",
       "4                           0.000457                          468.253073   \n",
       "\n",
       "   (sample_stats, mean_tree_accept)  (sample_stats, diverging)  \\\n",
       "0                          0.978434                      False   \n",
       "1                          0.742179                      False   \n",
       "2                          0.999606                      False   \n",
       "3                          0.945911                      False   \n",
       "4                          0.982631                      False   \n",
       "\n",
       "   (sample_stats, max_energy_error)  (sample_stats, step_size)  \n",
       "0                          0.028087                   1.142159  \n",
       "1                          0.298165                   1.142159  \n",
       "2                         -0.019402                   1.142159  \n",
       "3                          0.055607                   1.142159  \n",
       "4                         -0.058119                   1.142159  \n",
       "\n",
       "[5 rows x 53 columns]"
      ]
     },
     "execution_count": 237,
     "metadata": {},
     "output_type": "execute_result"
    },
    {
     "data": {
      "application/javascript": "\n            setTimeout(function() {\n                var nbb_cell_id = 237;\n                var nbb_unformatted_code = \"idata_mq1b_df = idata_mq1b.to_dataframe()\\nidata_mq1b_df.head()\";\n                var nbb_formatted_code = \"idata_mq1b_df = idata_mq1b.to_dataframe()\\nidata_mq1b_df.head()\";\n                var nbb_cells = Jupyter.notebook.get_cells();\n                for (var i = 0; i < nbb_cells.length; ++i) {\n                    if (nbb_cells[i].input_prompt_number == nbb_cell_id) {\n                        if (nbb_cells[i].get_text() == nbb_unformatted_code) {\n                             nbb_cells[i].set_text(nbb_formatted_code);\n                        }\n                        break;\n                    }\n                }\n            }, 500);\n            ",
      "text/plain": [
       "<IPython.core.display.Javascript object>"
      ]
     },
     "metadata": {},
     "output_type": "display_data"
    }
   ],
   "source": [
    "idata_mq1b_df = idata_mq1b.to_dataframe()\n",
    "idata_mq1b_df.head()"
   ]
  },
  {
   "cell_type": "code",
   "execution_count": 238,
   "metadata": {},
   "outputs": [
    {
     "data": {
      "text/plain": [
       "Index([                               'chain',\n",
       "                                       'draw',\n",
       "                     ('posterior', 'a[0]', 0),\n",
       "                     ('posterior', 'a[1]', 1),\n",
       "                     ('posterior', 'p[0]', 0),\n",
       "                   ('posterior', 'p[10]', 10),\n",
       "                   ('posterior', 'p[11]', 11),\n",
       "                   ('posterior', 'p[12]', 12),\n",
       "                   ('posterior', 'p[13]', 13),\n",
       "                   ('posterior', 'p[14]', 14),\n",
       "                   ('posterior', 'p[15]', 15),\n",
       "                   ('posterior', 'p[16]', 16),\n",
       "                   ('posterior', 'p[17]', 17),\n",
       "                     ('posterior', 'p[1]', 1),\n",
       "                     ('posterior', 'p[2]', 2),\n",
       "                     ('posterior', 'p[3]', 3),\n",
       "                     ('posterior', 'p[4]', 4),\n",
       "                     ('posterior', 'p[5]', 5),\n",
       "                     ('posterior', 'p[6]', 6),\n",
       "                     ('posterior', 'p[7]', 7),\n",
       "                     ('posterior', 'p[8]', 8),\n",
       "                     ('posterior', 'p[9]', 9),\n",
       "            ('log_likelihood', 'award[0]', 0),\n",
       "          ('log_likelihood', 'award[10]', 10),\n",
       "          ('log_likelihood', 'award[11]', 11),\n",
       "          ('log_likelihood', 'award[12]', 12),\n",
       "          ('log_likelihood', 'award[13]', 13),\n",
       "          ('log_likelihood', 'award[14]', 14),\n",
       "          ('log_likelihood', 'award[15]', 15),\n",
       "          ('log_likelihood', 'award[16]', 16),\n",
       "          ('log_likelihood', 'award[17]', 17),\n",
       "            ('log_likelihood', 'award[1]', 1),\n",
       "            ('log_likelihood', 'award[2]', 2),\n",
       "            ('log_likelihood', 'award[3]', 3),\n",
       "            ('log_likelihood', 'award[4]', 4),\n",
       "            ('log_likelihood', 'award[5]', 5),\n",
       "            ('log_likelihood', 'award[6]', 6),\n",
       "            ('log_likelihood', 'award[7]', 7),\n",
       "            ('log_likelihood', 'award[8]', 8),\n",
       "            ('log_likelihood', 'award[9]', 9),\n",
       "                ('sample_stats', 'tree_size'),\n",
       "                    ('sample_stats', 'depth'),\n",
       "        ('sample_stats', 'perf_counter_diff'),\n",
       "            ('sample_stats', 'step_size_bar'),\n",
       "                   ('sample_stats', 'energy'),\n",
       "                       ('sample_stats', 'lp'),\n",
       "             ('sample_stats', 'energy_error'),\n",
       "        ('sample_stats', 'process_time_diff'),\n",
       "       ('sample_stats', 'perf_counter_start'),\n",
       "         ('sample_stats', 'mean_tree_accept'),\n",
       "                ('sample_stats', 'diverging'),\n",
       "         ('sample_stats', 'max_energy_error'),\n",
       "                ('sample_stats', 'step_size')],\n",
       "      dtype='object')"
      ]
     },
     "execution_count": 238,
     "metadata": {},
     "output_type": "execute_result"
    },
    {
     "data": {
      "application/javascript": "\n            setTimeout(function() {\n                var nbb_cell_id = 238;\n                var nbb_unformatted_code = \"idata_mq1b_df.columns\";\n                var nbb_formatted_code = \"idata_mq1b_df.columns\";\n                var nbb_cells = Jupyter.notebook.get_cells();\n                for (var i = 0; i < nbb_cells.length; ++i) {\n                    if (nbb_cells[i].input_prompt_number == nbb_cell_id) {\n                        if (nbb_cells[i].get_text() == nbb_unformatted_code) {\n                             nbb_cells[i].set_text(nbb_formatted_code);\n                        }\n                        break;\n                    }\n                }\n            }, 500);\n            ",
      "text/plain": [
       "<IPython.core.display.Javascript object>"
      ]
     },
     "metadata": {},
     "output_type": "display_data"
    }
   ],
   "source": [
    "idata_mq1b_df.columns"
   ]
  },
  {
   "cell_type": "code",
   "execution_count": 312,
   "metadata": {},
   "outputs": [
    {
     "data": {
      "text/plain": [
       "[Text(0.5, 0, 'difference'),\n",
       " Text(0, 0.5, 'density'),\n",
       " Text(0.5, 1.0, 'Gender diff (F-M)')]"
      ]
     },
     "execution_count": 312,
     "metadata": {},
     "output_type": "execute_result"
    },
    {
     "data": {
      "image/png": "[encoded data removed]",
      "text/plain": [
       "<Figure size 600x400 with 1 Axes>"
      ]
     },
     "metadata": {
      "image/png": {
       "height": 411,
       "width": 611
      }
     },
     "output_type": "display_data"
    },
    {
     "data": {
      "application/javascript": "\n            setTimeout(function() {\n                var nbb_cell_id = 312;\n                var nbb_unformatted_code = \"f, ax1 = plt.subplots(figsize=(6, 4))\\n# sns.kdeplot(idata_mq1b_df[('posterior', 'a[1]', 1)] - idata_mq1b_df[('posterior', 'a[0]', 0)])\\naz.plot_kde(expit(idata_mq1b_df[('posterior', 'a[1]', 1)] )- expit(idata_mq1b_df[('posterior', 'a[0]', 0)]), ax=ax1)\\nax1.set(xlabel='difference', ylabel='density', title='Gender diff (F-M)')\";\n                var nbb_formatted_code = \"f, ax1 = plt.subplots(figsize=(6, 4))\\n# sns.kdeplot(idata_mq1b_df[('posterior', 'a[1]', 1)] - idata_mq1b_df[('posterior', 'a[0]', 0)])\\naz.plot_kde(\\n    expit(idata_mq1b_df[(\\\"posterior\\\", \\\"a[1]\\\", 1)])\\n    - expit(idata_mq1b_df[(\\\"posterior\\\", \\\"a[0]\\\", 0)]),\\n    ax=ax1,\\n)\\nax1.set(xlabel=\\\"difference\\\", ylabel=\\\"density\\\", title=\\\"Gender diff (F-M)\\\")\";\n                var nbb_cells = Jupyter.notebook.get_cells();\n                for (var i = 0; i < nbb_cells.length; ++i) {\n                    if (nbb_cells[i].input_prompt_number == nbb_cell_id) {\n                        if (nbb_cells[i].get_text() == nbb_unformatted_code) {\n                             nbb_cells[i].set_text(nbb_formatted_code);\n                        }\n                        break;\n                    }\n                }\n            }, 500);\n            ",
      "text/plain": [
       "<IPython.core.display.Javascript object>"
      ]
     },
     "metadata": {},
     "output_type": "display_data"
    }
   ],
   "source": [
    "f, ax1 = plt.subplots(figsize=(6, 4))\n",
    "# sns.kdeplot(idata_mq1b_df[('posterior', 'a[1]', 1)] - idata_mq1b_df[('posterior', 'a[0]', 0)])\n",
    "az.plot_kde(expit(idata_mq1b_df[('posterior', 'a[1]', 1)] )- expit(idata_mq1b_df[('posterior', 'a[0]', 0)]), ax=ax1)\n",
    "ax1.set(xlabel='difference', ylabel='density', title='Gender diff (F-M)')"
   ]
  },
  {
   "cell_type": "markdown",
   "metadata": {},
   "source": [
    "# Q2\n",
    "\n",
    "Now estimate the DIRECT causal effect of gender on grant awards. Compute the average direct causal effect of gender, weighting each discipline in proportion to the number of applications in the sample. Refer to the marginal effect example in Lecture 9 for help."
   ]
  },
  {
   "cell_type": "markdown",
   "metadata": {},
   "source": [
    "## Answer\n"
   ]
  },
  {
   "cell_type": "markdown",
   "metadata": {},
   "source": [
    "### UCB example"
   ]
  },
  {
   "cell_type": "code",
   "execution_count": 389,
   "metadata": {},
   "outputs": [
    {
     "data": {
      "text/html": [
       "<div>\n",
       "<style scoped>\n",
       "    .dataframe tbody tr th:only-of-type {\n",
       "        vertical-align: middle;\n",
       "    }\n",
       "\n",
       "    .dataframe tbody tr th {\n",
       "        vertical-align: top;\n",
       "    }\n",
       "\n",
       "    .dataframe thead th {\n",
       "        text-align: right;\n",
       "    }\n",
       "</style>\n",
       "<table border=\"1\" class=\"dataframe\">\n",
       "  <thead>\n",
       "    <tr style=\"text-align: right;\">\n",
       "      <th></th>\n",
       "      <th>dept</th>\n",
       "      <th>applicant.gender</th>\n",
       "      <th>admit</th>\n",
       "      <th>reject</th>\n",
       "      <th>applications</th>\n",
       "    </tr>\n",
       "  </thead>\n",
       "  <tbody>\n",
       "    <tr>\n",
       "      <th>0</th>\n",
       "      <td>A</td>\n",
       "      <td>male</td>\n",
       "      <td>512</td>\n",
       "      <td>313</td>\n",
       "      <td>825</td>\n",
       "    </tr>\n",
       "    <tr>\n",
       "      <th>1</th>\n",
       "      <td>A</td>\n",
       "      <td>female</td>\n",
       "      <td>89</td>\n",
       "      <td>19</td>\n",
       "      <td>108</td>\n",
       "    </tr>\n",
       "    <tr>\n",
       "      <th>2</th>\n",
       "      <td>B</td>\n",
       "      <td>male</td>\n",
       "      <td>353</td>\n",
       "      <td>207</td>\n",
       "      <td>560</td>\n",
       "    </tr>\n",
       "    <tr>\n",
       "      <th>3</th>\n",
       "      <td>B</td>\n",
       "      <td>female</td>\n",
       "      <td>17</td>\n",
       "      <td>8</td>\n",
       "      <td>25</td>\n",
       "    </tr>\n",
       "    <tr>\n",
       "      <th>4</th>\n",
       "      <td>C</td>\n",
       "      <td>male</td>\n",
       "      <td>120</td>\n",
       "      <td>205</td>\n",
       "      <td>325</td>\n",
       "    </tr>\n",
       "  </tbody>\n",
       "</table>\n",
       "</div>"
      ],
      "text/plain": [
       "  dept applicant.gender  admit  reject  applications\n",
       "0    A             male    512     313           825\n",
       "1    A           female     89      19           108\n",
       "2    B             male    353     207           560\n",
       "3    B           female     17       8            25\n",
       "4    C             male    120     205           325"
      ]
     },
     "execution_count": 389,
     "metadata": {},
     "output_type": "execute_result"
    },
    {
     "data": {
      "application/javascript": "\n            setTimeout(function() {\n                var nbb_cell_id = 389;\n                var nbb_unformatted_code = \"# input data\\nDATA_DIR = '/Users/blacar/Documents/ds_projects/stats_rethinking/pymc3_ed_resources/resources/Rethinking_2/End_of_chapter_problems/data/'\\ndf_ucb = pd.read_csv(DATA_DIR + \\\"UCBadmit.csv\\\", sep=\\\";\\\", header=0).reset_index(drop=True)\\ndf_ucb.head()\";\n                var nbb_formatted_code = \"# input data\\nDATA_DIR = \\\"/Users/blacar/Documents/ds_projects/stats_rethinking/pymc3_ed_resources/resources/Rethinking_2/End_of_chapter_problems/data/\\\"\\ndf_ucb = pd.read_csv(DATA_DIR + \\\"UCBadmit.csv\\\", sep=\\\";\\\", header=0).reset_index(\\n    drop=True\\n)\\ndf_ucb.head()\";\n                var nbb_cells = Jupyter.notebook.get_cells();\n                for (var i = 0; i < nbb_cells.length; ++i) {\n                    if (nbb_cells[i].input_prompt_number == nbb_cell_id) {\n                        if (nbb_cells[i].get_text() == nbb_unformatted_code) {\n                             nbb_cells[i].set_text(nbb_formatted_code);\n                        }\n                        break;\n                    }\n                }\n            }, 500);\n            ",
      "text/plain": [
       "<IPython.core.display.Javascript object>"
      ]
     },
     "metadata": {},
     "output_type": "display_data"
    }
   ],
   "source": [
    "# input data\n",
    "DATA_DIR = '/Users/blacar/Documents/ds_projects/stats_rethinking/pymc3_ed_resources/resources/Rethinking_2/End_of_chapter_problems/data/'\n",
    "df_ucb = pd.read_csv(DATA_DIR + \"UCBadmit.csv\", sep=\";\", header=0).reset_index(drop=True)\n",
    "df_ucb.head()"
   ]
  },
  {
   "cell_type": "code",
   "execution_count": 390,
   "metadata": {},
   "outputs": [
    {
     "name": "stdout",
     "output_type": "stream",
     "text": [
      "UCBadmit.csv\n"
     ]
    },
    {
     "data": {
      "text/plain": [
       "[None]"
      ]
     },
     "execution_count": 390,
     "metadata": {},
     "output_type": "execute_result"
    },
    {
     "data": {
      "application/javascript": "\n            setTimeout(function() {\n                var nbb_cell_id = 390;\n                var nbb_unformatted_code = \"[print(i) for i in sorted(os.listdir(DATA_DIR)) if 'UCB' in i ]\";\n                var nbb_formatted_code = \"[print(i) for i in sorted(os.listdir(DATA_DIR)) if \\\"UCB\\\" in i]\";\n                var nbb_cells = Jupyter.notebook.get_cells();\n                for (var i = 0; i < nbb_cells.length; ++i) {\n                    if (nbb_cells[i].input_prompt_number == nbb_cell_id) {\n                        if (nbb_cells[i].get_text() == nbb_unformatted_code) {\n                             nbb_cells[i].set_text(nbb_formatted_code);\n                        }\n                        break;\n                    }\n                }\n            }, 500);\n            ",
      "text/plain": [
       "<IPython.core.display.Javascript object>"
      ]
     },
     "metadata": {},
     "output_type": "display_data"
    }
   ],
   "source": [
    "[print(i) for i in sorted(os.listdir(DATA_DIR)) if 'UCB' in i ]"
   ]
  },
  {
   "cell_type": "code",
   "execution_count": 391,
   "metadata": {},
   "outputs": [
    {
     "data": {
      "application/javascript": "\n            setTimeout(function() {\n                var nbb_cell_id = 391;\n                var nbb_unformatted_code = \"# index encode variables\\ndf_ucb['gender_ind'] = pd.Categorical(df_ucb['applicant.gender'], categories=[\\\"female\\\", \\\"male\\\"]).codes\\ndf_ucb['dept_ind'] = pd.Categorical(df_ucb['dept']).codes\\n\\nn_dept = len(df_ucb['dept_ind'].unique())\";\n                var nbb_formatted_code = \"# index encode variables\\ndf_ucb[\\\"gender_ind\\\"] = pd.Categorical(\\n    df_ucb[\\\"applicant.gender\\\"], categories=[\\\"female\\\", \\\"male\\\"]\\n).codes\\ndf_ucb[\\\"dept_ind\\\"] = pd.Categorical(df_ucb[\\\"dept\\\"]).codes\\n\\nn_dept = len(df_ucb[\\\"dept_ind\\\"].unique())\";\n                var nbb_cells = Jupyter.notebook.get_cells();\n                for (var i = 0; i < nbb_cells.length; ++i) {\n                    if (nbb_cells[i].input_prompt_number == nbb_cell_id) {\n                        if (nbb_cells[i].get_text() == nbb_unformatted_code) {\n                             nbb_cells[i].set_text(nbb_formatted_code);\n                        }\n                        break;\n                    }\n                }\n            }, 500);\n            ",
      "text/plain": [
       "<IPython.core.display.Javascript object>"
      ]
     },
     "metadata": {},
     "output_type": "display_data"
    }
   ],
   "source": [
    "# index encode variables\n",
    "df_ucb['gender_ind'] = pd.Categorical(df_ucb['applicant.gender'], categories=[\"female\", \"male\"]).codes\n",
    "df_ucb['dept_ind'] = pd.Categorical(df_ucb['dept']).codes\n",
    "\n",
    "n_dept = len(df_ucb['dept_ind'].unique())"
   ]
  },
  {
   "cell_type": "markdown",
   "metadata": {},
   "source": [
    "#### Linear model way (like book, pg 343)"
   ]
  },
  {
   "cell_type": "code",
   "execution_count": 435,
   "metadata": {},
   "outputs": [
    {
     "name": "stderr",
     "output_type": "stream",
     "text": [
      "Auto-assigning NUTS sampler...\n",
      "INFO:pymc3:Auto-assigning NUTS sampler...\n",
      "Initializing NUTS using jitter+adapt_diag...\n",
      "INFO:pymc3:Initializing NUTS using jitter+adapt_diag...\n",
      "Multiprocess sampling (4 chains in 4 jobs)\n",
      "INFO:pymc3:Multiprocess sampling (4 chains in 4 jobs)\n",
      "NUTS: [b, a]\n",
      "INFO:pymc3:NUTS: [b, a]\n",
      "Sampling 4 chains for 1_000 tune and 5_000 draw iterations (4_000 + 20_000 draws total) took 31 seconds.\n",
      "INFO:pymc3:Sampling 4 chains for 1_000 tune and 5_000 draw iterations (4_000 + 20_000 draws total) took 31 seconds.\n",
      "The number of effective samples is smaller than 10% for some parameters.\n",
      "WARNING:pymc3:The number of effective samples is smaller than 10% for some parameters.\n"
     ]
    },
    {
     "data": {
      "application/javascript": "\n            setTimeout(function() {\n                var nbb_cell_id = 435;\n                var nbb_unformatted_code = \"# model without weighting\\nwith pm.Model() as mq2_book:\\n\\n    # Priors\\n    a = pm.Normal(\\\"a\\\", mu=0, sd=1, shape=2)\\n    b = pm.Normal(\\\"b\\\", mu=0, sd=1, shape=n_dept)\\n\\n    # linear model with logit link\\n    p = pm.Deterministic(\\\"p\\\", pm.math.invlogit(a[df_ucb[\\\"gender_ind\\\"]] + b[df_ucb[\\\"dept_ind\\\"]]))\\n\\n    # likelihood\\n    admit = pm.Binomial(\\\"admit\\\", n=df_ucb['applications'], p=p, observed=df_ucb['admit'])\\n\\n    # generate posterior and sample\\n    idata_mq2_book = pm.sample(draws=5000, tune=1000, return_inferencedata=True, progressbar=False, target_accept=0.95)\";\n                var nbb_formatted_code = \"# model without weighting\\nwith pm.Model() as mq2_book:\\n\\n    # Priors\\n    a = pm.Normal(\\\"a\\\", mu=0, sd=1, shape=2)\\n    b = pm.Normal(\\\"b\\\", mu=0, sd=1, shape=n_dept)\\n\\n    # linear model with logit link\\n    p = pm.Deterministic(\\n        \\\"p\\\", pm.math.invlogit(a[df_ucb[\\\"gender_ind\\\"]] + b[df_ucb[\\\"dept_ind\\\"]])\\n    )\\n\\n    # likelihood\\n    admit = pm.Binomial(\\n        \\\"admit\\\", n=df_ucb[\\\"applications\\\"], p=p, observed=df_ucb[\\\"admit\\\"]\\n    )\\n\\n    # generate posterior and sample\\n    idata_mq2_book = pm.sample(\\n        draws=5000,\\n        tune=1000,\\n        return_inferencedata=True,\\n        progressbar=False,\\n        target_accept=0.95,\\n    )\";\n                var nbb_cells = Jupyter.notebook.get_cells();\n                for (var i = 0; i < nbb_cells.length; ++i) {\n                    if (nbb_cells[i].input_prompt_number == nbb_cell_id) {\n                        if (nbb_cells[i].get_text() == nbb_unformatted_code) {\n                             nbb_cells[i].set_text(nbb_formatted_code);\n                        }\n                        break;\n                    }\n                }\n            }, 500);\n            ",
      "text/plain": [
       "<IPython.core.display.Javascript object>"
      ]
     },
     "metadata": {},
     "output_type": "display_data"
    }
   ],
   "source": [
    "# model without weighting\n",
    "with pm.Model() as mq2_book:\n",
    "\n",
    "    # Priors\n",
    "    a = pm.Normal(\"a\", mu=0, sd=1, shape=2)\n",
    "    b = pm.Normal(\"b\", mu=0, sd=1, shape=n_dept)\n",
    "\n",
    "    # linear model with logit link\n",
    "    p = pm.Deterministic(\"p\", pm.math.invlogit(a[df_ucb[\"gender_ind\"]] + b[df_ucb[\"dept_ind\"]]))\n",
    "\n",
    "    # likelihood\n",
    "    admit = pm.Binomial(\"admit\", n=df_ucb['applications'], p=p, observed=df_ucb['admit'])\n",
    "\n",
    "    # generate posterior and sample\n",
    "    idata_mq2_book = pm.sample(draws=5000, tune=1000, return_inferencedata=True, progressbar=False, target_accept=0.95)"
   ]
  },
  {
   "cell_type": "code",
   "execution_count": 441,
   "metadata": {},
   "outputs": [
    {
     "data": {
      "text/html": [
       "<div>\n",
       "<style scoped>\n",
       "    .dataframe tbody tr th:only-of-type {\n",
       "        vertical-align: middle;\n",
       "    }\n",
       "\n",
       "    .dataframe tbody tr th {\n",
       "        vertical-align: top;\n",
       "    }\n",
       "\n",
       "    .dataframe thead th {\n",
       "        text-align: right;\n",
       "    }\n",
       "</style>\n",
       "<table border=\"1\" class=\"dataframe\">\n",
       "  <thead>\n",
       "    <tr style=\"text-align: right;\">\n",
       "      <th></th>\n",
       "      <th>mean</th>\n",
       "      <th>sd</th>\n",
       "      <th>hdi_5.5%</th>\n",
       "      <th>hdi_94.5%</th>\n",
       "      <th>mcse_mean</th>\n",
       "      <th>mcse_sd</th>\n",
       "      <th>ess_mean</th>\n",
       "      <th>ess_sd</th>\n",
       "      <th>ess_bulk</th>\n",
       "      <th>ess_tail</th>\n",
       "      <th>r_hat</th>\n",
       "    </tr>\n",
       "  </thead>\n",
       "  <tbody>\n",
       "    <tr>\n",
       "      <th>a[0]</th>\n",
       "      <td>-0.433</td>\n",
       "      <td>0.360</td>\n",
       "      <td>-1.013</td>\n",
       "      <td>0.138</td>\n",
       "      <td>0.008</td>\n",
       "      <td>0.006</td>\n",
       "      <td>1894.0</td>\n",
       "      <td>1894.0</td>\n",
       "      <td>1905.0</td>\n",
       "      <td>1835.0</td>\n",
       "      <td>1.0</td>\n",
       "    </tr>\n",
       "    <tr>\n",
       "      <th>a[1]</th>\n",
       "      <td>-0.526</td>\n",
       "      <td>0.358</td>\n",
       "      <td>-1.085</td>\n",
       "      <td>0.057</td>\n",
       "      <td>0.008</td>\n",
       "      <td>0.006</td>\n",
       "      <td>1897.0</td>\n",
       "      <td>1897.0</td>\n",
       "      <td>1907.0</td>\n",
       "      <td>1845.0</td>\n",
       "      <td>1.0</td>\n",
       "    </tr>\n",
       "    <tr>\n",
       "      <th>b[0]</th>\n",
       "      <td>1.104</td>\n",
       "      <td>0.363</td>\n",
       "      <td>0.557</td>\n",
       "      <td>1.709</td>\n",
       "      <td>0.008</td>\n",
       "      <td>0.006</td>\n",
       "      <td>1952.0</td>\n",
       "      <td>1952.0</td>\n",
       "      <td>1962.0</td>\n",
       "      <td>1945.0</td>\n",
       "      <td>1.0</td>\n",
       "    </tr>\n",
       "    <tr>\n",
       "      <th>b[1]</th>\n",
       "      <td>1.059</td>\n",
       "      <td>0.365</td>\n",
       "      <td>0.472</td>\n",
       "      <td>1.626</td>\n",
       "      <td>0.008</td>\n",
       "      <td>0.006</td>\n",
       "      <td>1969.0</td>\n",
       "      <td>1969.0</td>\n",
       "      <td>1982.0</td>\n",
       "      <td>2083.0</td>\n",
       "      <td>1.0</td>\n",
       "    </tr>\n",
       "    <tr>\n",
       "      <th>b[2]</th>\n",
       "      <td>-0.151</td>\n",
       "      <td>0.363</td>\n",
       "      <td>-0.742</td>\n",
       "      <td>0.416</td>\n",
       "      <td>0.008</td>\n",
       "      <td>0.007</td>\n",
       "      <td>1925.0</td>\n",
       "      <td>1485.0</td>\n",
       "      <td>1936.0</td>\n",
       "      <td>1909.0</td>\n",
       "      <td>1.0</td>\n",
       "    </tr>\n",
       "    <tr>\n",
       "      <th>b[3]</th>\n",
       "      <td>-0.184</td>\n",
       "      <td>0.363</td>\n",
       "      <td>-0.764</td>\n",
       "      <td>0.391</td>\n",
       "      <td>0.008</td>\n",
       "      <td>0.007</td>\n",
       "      <td>1921.0</td>\n",
       "      <td>1533.0</td>\n",
       "      <td>1927.0</td>\n",
       "      <td>1956.0</td>\n",
       "      <td>1.0</td>\n",
       "    </tr>\n",
       "    <tr>\n",
       "      <th>b[4]</th>\n",
       "      <td>-0.623</td>\n",
       "      <td>0.367</td>\n",
       "      <td>-1.215</td>\n",
       "      <td>-0.044</td>\n",
       "      <td>0.008</td>\n",
       "      <td>0.006</td>\n",
       "      <td>2008.0</td>\n",
       "      <td>1751.0</td>\n",
       "      <td>2021.0</td>\n",
       "      <td>2015.0</td>\n",
       "      <td>1.0</td>\n",
       "    </tr>\n",
       "    <tr>\n",
       "      <th>b[5]</th>\n",
       "      <td>-2.157</td>\n",
       "      <td>0.381</td>\n",
       "      <td>-2.775</td>\n",
       "      <td>-1.561</td>\n",
       "      <td>0.008</td>\n",
       "      <td>0.006</td>\n",
       "      <td>2074.0</td>\n",
       "      <td>1997.0</td>\n",
       "      <td>2085.0</td>\n",
       "      <td>2212.0</td>\n",
       "      <td>1.0</td>\n",
       "    </tr>\n",
       "  </tbody>\n",
       "</table>\n",
       "</div>"
      ],
      "text/plain": [
       "       mean     sd  hdi_5.5%  hdi_94.5%  mcse_mean  mcse_sd  ess_mean  ess_sd  \\\n",
       "a[0] -0.433  0.360    -1.013      0.138      0.008    0.006    1894.0  1894.0   \n",
       "a[1] -0.526  0.358    -1.085      0.057      0.008    0.006    1897.0  1897.0   \n",
       "b[0]  1.104  0.363     0.557      1.709      0.008    0.006    1952.0  1952.0   \n",
       "b[1]  1.059  0.365     0.472      1.626      0.008    0.006    1969.0  1969.0   \n",
       "b[2] -0.151  0.363    -0.742      0.416      0.008    0.007    1925.0  1485.0   \n",
       "b[3] -0.184  0.363    -0.764      0.391      0.008    0.007    1921.0  1533.0   \n",
       "b[4] -0.623  0.367    -1.215     -0.044      0.008    0.006    2008.0  1751.0   \n",
       "b[5] -2.157  0.381    -2.775     -1.561      0.008    0.006    2074.0  1997.0   \n",
       "\n",
       "      ess_bulk  ess_tail  r_hat  \n",
       "a[0]    1905.0    1835.0    1.0  \n",
       "a[1]    1907.0    1845.0    1.0  \n",
       "b[0]    1962.0    1945.0    1.0  \n",
       "b[1]    1982.0    2083.0    1.0  \n",
       "b[2]    1936.0    1909.0    1.0  \n",
       "b[3]    1927.0    1956.0    1.0  \n",
       "b[4]    2021.0    2015.0    1.0  \n",
       "b[5]    2085.0    2212.0    1.0  "
      ]
     },
     "execution_count": 441,
     "metadata": {},
     "output_type": "execute_result"
    },
    {
     "data": {
      "application/javascript": "\n            setTimeout(function() {\n                var nbb_cell_id = 441;\n                var nbb_unformatted_code = \"az.summary(idata_mq2_book, var_names=['a', 'b'])\";\n                var nbb_formatted_code = \"az.summary(idata_mq2_book, var_names=[\\\"a\\\", \\\"b\\\"])\";\n                var nbb_cells = Jupyter.notebook.get_cells();\n                for (var i = 0; i < nbb_cells.length; ++i) {\n                    if (nbb_cells[i].input_prompt_number == nbb_cell_id) {\n                        if (nbb_cells[i].get_text() == nbb_unformatted_code) {\n                             nbb_cells[i].set_text(nbb_formatted_code);\n                        }\n                        break;\n                    }\n                }\n            }, 500);\n            ",
      "text/plain": [
       "<IPython.core.display.Javascript object>"
      ]
     },
     "metadata": {},
     "output_type": "display_data"
    }
   ],
   "source": [
    "az.summary(idata_mq2_book, var_names=['a', 'b'])"
   ]
  },
  {
   "cell_type": "markdown",
   "metadata": {},
   "source": [
    "Above answers are consistent with the book (gender order flipped)."
   ]
  },
  {
   "cell_type": "markdown",
   "metadata": {},
   "source": [
    "#### Matrix way (like 2022 lecture 9)"
   ]
  },
  {
   "cell_type": "code",
   "execution_count": 437,
   "metadata": {},
   "outputs": [
    {
     "name": "stderr",
     "output_type": "stream",
     "text": [
      "Auto-assigning NUTS sampler...\n",
      "INFO:pymc3:Auto-assigning NUTS sampler...\n",
      "Initializing NUTS using jitter+adapt_diag...\n",
      "INFO:pymc3:Initializing NUTS using jitter+adapt_diag...\n",
      "Multiprocess sampling (4 chains in 4 jobs)\n",
      "INFO:pymc3:Multiprocess sampling (4 chains in 4 jobs)\n",
      "NUTS: [a]\n",
      "INFO:pymc3:NUTS: [a]\n",
      "Sampling 4 chains for 1_000 tune and 5_000 draw iterations (4_000 + 20_000 draws total) took 20 seconds.\n",
      "INFO:pymc3:Sampling 4 chains for 1_000 tune and 5_000 draw iterations (4_000 + 20_000 draws total) took 20 seconds.\n"
     ]
    },
    {
     "data": {
      "application/javascript": "\n            setTimeout(function() {\n                var nbb_cell_id = 437;\n                var nbb_unformatted_code = \"# model without weighting\\n\\ngi = df_ucb[\\\"gender_ind\\\"]\\ndi = df_ucb[\\\"dept_ind\\\"]\\n\\nwith pm.Model() as mq2_lec:\\n\\n    # Priors\\n    a = pm.Normal(\\\"a\\\", mu=0, sd=1, shape=(2, n_dept))\\n\\n    # linear model with logit link\\n    p = pm.Deterministic(\\\"p\\\", pm.math.invlogit(a[gi, di]))\\n\\n    # likelihood\\n    admit = pm.Binomial(\\\"admit\\\", n=df_ucb['applications'], p=p, observed=df_ucb['admit'])\\n\\n    # generate posterior and sample\\n    idata_mq2_lec = pm.sample(draws=5000, tune=1000, return_inferencedata=True, progressbar=False, target_accept=0.95)\";\n                var nbb_formatted_code = \"# model without weighting\\n\\ngi = df_ucb[\\\"gender_ind\\\"]\\ndi = df_ucb[\\\"dept_ind\\\"]\\n\\nwith pm.Model() as mq2_lec:\\n\\n    # Priors\\n    a = pm.Normal(\\\"a\\\", mu=0, sd=1, shape=(2, n_dept))\\n\\n    # linear model with logit link\\n    p = pm.Deterministic(\\\"p\\\", pm.math.invlogit(a[gi, di]))\\n\\n    # likelihood\\n    admit = pm.Binomial(\\n        \\\"admit\\\", n=df_ucb[\\\"applications\\\"], p=p, observed=df_ucb[\\\"admit\\\"]\\n    )\\n\\n    # generate posterior and sample\\n    idata_mq2_lec = pm.sample(\\n        draws=5000,\\n        tune=1000,\\n        return_inferencedata=True,\\n        progressbar=False,\\n        target_accept=0.95,\\n    )\";\n                var nbb_cells = Jupyter.notebook.get_cells();\n                for (var i = 0; i < nbb_cells.length; ++i) {\n                    if (nbb_cells[i].input_prompt_number == nbb_cell_id) {\n                        if (nbb_cells[i].get_text() == nbb_unformatted_code) {\n                             nbb_cells[i].set_text(nbb_formatted_code);\n                        }\n                        break;\n                    }\n                }\n            }, 500);\n            ",
      "text/plain": [
       "<IPython.core.display.Javascript object>"
      ]
     },
     "metadata": {},
     "output_type": "display_data"
    }
   ],
   "source": [
    "# model without weighting\n",
    "\n",
    "gi = df_ucb[\"gender_ind\"]\n",
    "di = df_ucb[\"dept_ind\"]\n",
    "\n",
    "with pm.Model() as mq2_lec:\n",
    "\n",
    "    # Priors\n",
    "    a = pm.Normal(\"a\", mu=0, sd=1, shape=(2, n_dept))\n",
    "\n",
    "    # linear model with logit link\n",
    "    p = pm.Deterministic(\"p\", pm.math.invlogit(a[gi, di]))\n",
    "\n",
    "    # likelihood\n",
    "    admit = pm.Binomial(\"admit\", n=df_ucb['applications'], p=p, observed=df_ucb['admit'])\n",
    "\n",
    "    # generate posterior and sample\n",
    "    idata_mq2_lec = pm.sample(draws=5000, tune=1000, return_inferencedata=True, progressbar=False, target_accept=0.95)"
   ]
  },
  {
   "cell_type": "code",
   "execution_count": 438,
   "metadata": {},
   "outputs": [
    {
     "data": {
      "text/html": [
       "<div>\n",
       "<style scoped>\n",
       "    .dataframe tbody tr th:only-of-type {\n",
       "        vertical-align: middle;\n",
       "    }\n",
       "\n",
       "    .dataframe tbody tr th {\n",
       "        vertical-align: top;\n",
       "    }\n",
       "\n",
       "    .dataframe thead th {\n",
       "        text-align: right;\n",
       "    }\n",
       "</style>\n",
       "<table border=\"1\" class=\"dataframe\">\n",
       "  <thead>\n",
       "    <tr style=\"text-align: right;\">\n",
       "      <th></th>\n",
       "      <th>mean</th>\n",
       "      <th>sd</th>\n",
       "      <th>hdi_5.5%</th>\n",
       "      <th>hdi_94.5%</th>\n",
       "      <th>mcse_mean</th>\n",
       "      <th>mcse_sd</th>\n",
       "      <th>ess_mean</th>\n",
       "      <th>ess_sd</th>\n",
       "      <th>ess_bulk</th>\n",
       "      <th>ess_tail</th>\n",
       "      <th>r_hat</th>\n",
       "    </tr>\n",
       "  </thead>\n",
       "  <tbody>\n",
       "    <tr>\n",
       "      <th>a[0,0]</th>\n",
       "      <td>1.471</td>\n",
       "      <td>0.244</td>\n",
       "      <td>1.094</td>\n",
       "      <td>1.872</td>\n",
       "      <td>0.002</td>\n",
       "      <td>0.001</td>\n",
       "      <td>25917.0</td>\n",
       "      <td>23621.0</td>\n",
       "      <td>26510.0</td>\n",
       "      <td>14245.0</td>\n",
       "      <td>1.0</td>\n",
       "    </tr>\n",
       "    <tr>\n",
       "      <th>a[0,1]</th>\n",
       "      <td>0.662</td>\n",
       "      <td>0.399</td>\n",
       "      <td>0.014</td>\n",
       "      <td>1.293</td>\n",
       "      <td>0.002</td>\n",
       "      <td>0.002</td>\n",
       "      <td>29035.0</td>\n",
       "      <td>19732.0</td>\n",
       "      <td>29298.0</td>\n",
       "      <td>13479.0</td>\n",
       "      <td>1.0</td>\n",
       "    </tr>\n",
       "    <tr>\n",
       "      <th>a[0,2]</th>\n",
       "      <td>-0.657</td>\n",
       "      <td>0.087</td>\n",
       "      <td>-0.791</td>\n",
       "      <td>-0.515</td>\n",
       "      <td>0.001</td>\n",
       "      <td>0.000</td>\n",
       "      <td>28854.0</td>\n",
       "      <td>27695.0</td>\n",
       "      <td>28936.0</td>\n",
       "      <td>12892.0</td>\n",
       "      <td>1.0</td>\n",
       "    </tr>\n",
       "    <tr>\n",
       "      <th>a[0,3]</th>\n",
       "      <td>-0.615</td>\n",
       "      <td>0.109</td>\n",
       "      <td>-0.789</td>\n",
       "      <td>-0.443</td>\n",
       "      <td>0.001</td>\n",
       "      <td>0.000</td>\n",
       "      <td>28374.0</td>\n",
       "      <td>26923.0</td>\n",
       "      <td>28379.0</td>\n",
       "      <td>14892.0</td>\n",
       "      <td>1.0</td>\n",
       "    </tr>\n",
       "    <tr>\n",
       "      <th>a[0,4]</th>\n",
       "      <td>-1.146</td>\n",
       "      <td>0.116</td>\n",
       "      <td>-1.324</td>\n",
       "      <td>-0.953</td>\n",
       "      <td>0.001</td>\n",
       "      <td>0.000</td>\n",
       "      <td>35361.0</td>\n",
       "      <td>34127.0</td>\n",
       "      <td>35497.0</td>\n",
       "      <td>15063.0</td>\n",
       "      <td>1.0</td>\n",
       "    </tr>\n",
       "    <tr>\n",
       "      <th>a[0,5]</th>\n",
       "      <td>-2.491</td>\n",
       "      <td>0.200</td>\n",
       "      <td>-2.806</td>\n",
       "      <td>-2.171</td>\n",
       "      <td>0.001</td>\n",
       "      <td>0.001</td>\n",
       "      <td>25686.0</td>\n",
       "      <td>24906.0</td>\n",
       "      <td>26078.0</td>\n",
       "      <td>15265.0</td>\n",
       "      <td>1.0</td>\n",
       "    </tr>\n",
       "    <tr>\n",
       "      <th>a[1,0]</th>\n",
       "      <td>0.490</td>\n",
       "      <td>0.071</td>\n",
       "      <td>0.372</td>\n",
       "      <td>0.600</td>\n",
       "      <td>0.000</td>\n",
       "      <td>0.000</td>\n",
       "      <td>32550.0</td>\n",
       "      <td>32003.0</td>\n",
       "      <td>32533.0</td>\n",
       "      <td>15057.0</td>\n",
       "      <td>1.0</td>\n",
       "    </tr>\n",
       "    <tr>\n",
       "      <th>a[1,1]</th>\n",
       "      <td>0.531</td>\n",
       "      <td>0.088</td>\n",
       "      <td>0.392</td>\n",
       "      <td>0.671</td>\n",
       "      <td>0.000</td>\n",
       "      <td>0.000</td>\n",
       "      <td>38747.0</td>\n",
       "      <td>37557.0</td>\n",
       "      <td>38747.0</td>\n",
       "      <td>14596.0</td>\n",
       "      <td>1.0</td>\n",
       "    </tr>\n",
       "    <tr>\n",
       "      <th>a[1,2]</th>\n",
       "      <td>-0.530</td>\n",
       "      <td>0.114</td>\n",
       "      <td>-0.713</td>\n",
       "      <td>-0.349</td>\n",
       "      <td>0.001</td>\n",
       "      <td>0.000</td>\n",
       "      <td>33846.0</td>\n",
       "      <td>30129.0</td>\n",
       "      <td>33983.0</td>\n",
       "      <td>14746.0</td>\n",
       "      <td>1.0</td>\n",
       "    </tr>\n",
       "    <tr>\n",
       "      <th>a[1,3]</th>\n",
       "      <td>-0.699</td>\n",
       "      <td>0.104</td>\n",
       "      <td>-0.867</td>\n",
       "      <td>-0.535</td>\n",
       "      <td>0.001</td>\n",
       "      <td>0.000</td>\n",
       "      <td>26164.0</td>\n",
       "      <td>25493.0</td>\n",
       "      <td>26154.0</td>\n",
       "      <td>16101.0</td>\n",
       "      <td>1.0</td>\n",
       "    </tr>\n",
       "    <tr>\n",
       "      <th>a[1,4]</th>\n",
       "      <td>-0.938</td>\n",
       "      <td>0.157</td>\n",
       "      <td>-1.184</td>\n",
       "      <td>-0.682</td>\n",
       "      <td>0.001</td>\n",
       "      <td>0.001</td>\n",
       "      <td>34340.0</td>\n",
       "      <td>31405.0</td>\n",
       "      <td>34472.0</td>\n",
       "      <td>15555.0</td>\n",
       "      <td>1.0</td>\n",
       "    </tr>\n",
       "    <tr>\n",
       "      <th>a[1,5]</th>\n",
       "      <td>-2.664</td>\n",
       "      <td>0.206</td>\n",
       "      <td>-2.989</td>\n",
       "      <td>-2.330</td>\n",
       "      <td>0.001</td>\n",
       "      <td>0.001</td>\n",
       "      <td>26760.0</td>\n",
       "      <td>25924.0</td>\n",
       "      <td>27286.0</td>\n",
       "      <td>14803.0</td>\n",
       "      <td>1.0</td>\n",
       "    </tr>\n",
       "    <tr>\n",
       "      <th>p[0]</th>\n",
       "      <td>0.620</td>\n",
       "      <td>0.017</td>\n",
       "      <td>0.593</td>\n",
       "      <td>0.646</td>\n",
       "      <td>0.000</td>\n",
       "      <td>0.000</td>\n",
       "      <td>32505.0</td>\n",
       "      <td>32505.0</td>\n",
       "      <td>32533.0</td>\n",
       "      <td>15057.0</td>\n",
       "      <td>1.0</td>\n",
       "    </tr>\n",
       "    <tr>\n",
       "      <th>p[1]</th>\n",
       "      <td>0.810</td>\n",
       "      <td>0.037</td>\n",
       "      <td>0.752</td>\n",
       "      <td>0.869</td>\n",
       "      <td>0.000</td>\n",
       "      <td>0.000</td>\n",
       "      <td>27163.0</td>\n",
       "      <td>26900.0</td>\n",
       "      <td>26510.0</td>\n",
       "      <td>14245.0</td>\n",
       "      <td>1.0</td>\n",
       "    </tr>\n",
       "    <tr>\n",
       "      <th>p[2]</th>\n",
       "      <td>0.629</td>\n",
       "      <td>0.020</td>\n",
       "      <td>0.598</td>\n",
       "      <td>0.663</td>\n",
       "      <td>0.000</td>\n",
       "      <td>0.000</td>\n",
       "      <td>38616.0</td>\n",
       "      <td>38616.0</td>\n",
       "      <td>38747.0</td>\n",
       "      <td>14596.0</td>\n",
       "      <td>1.0</td>\n",
       "    </tr>\n",
       "    <tr>\n",
       "      <th>p[3]</th>\n",
       "      <td>0.654</td>\n",
       "      <td>0.087</td>\n",
       "      <td>0.514</td>\n",
       "      <td>0.792</td>\n",
       "      <td>0.001</td>\n",
       "      <td>0.000</td>\n",
       "      <td>29647.0</td>\n",
       "      <td>29047.0</td>\n",
       "      <td>29298.0</td>\n",
       "      <td>13479.0</td>\n",
       "      <td>1.0</td>\n",
       "    </tr>\n",
       "    <tr>\n",
       "      <th>p[4]</th>\n",
       "      <td>0.371</td>\n",
       "      <td>0.026</td>\n",
       "      <td>0.327</td>\n",
       "      <td>0.411</td>\n",
       "      <td>0.000</td>\n",
       "      <td>0.000</td>\n",
       "      <td>34103.0</td>\n",
       "      <td>34103.0</td>\n",
       "      <td>33983.0</td>\n",
       "      <td>14746.0</td>\n",
       "      <td>1.0</td>\n",
       "    </tr>\n",
       "    <tr>\n",
       "      <th>p[5]</th>\n",
       "      <td>0.342</td>\n",
       "      <td>0.020</td>\n",
       "      <td>0.310</td>\n",
       "      <td>0.372</td>\n",
       "      <td>0.000</td>\n",
       "      <td>0.000</td>\n",
       "      <td>28966.0</td>\n",
       "      <td>28966.0</td>\n",
       "      <td>28936.0</td>\n",
       "      <td>12892.0</td>\n",
       "      <td>1.0</td>\n",
       "    </tr>\n",
       "    <tr>\n",
       "      <th>p[6]</th>\n",
       "      <td>0.332</td>\n",
       "      <td>0.023</td>\n",
       "      <td>0.296</td>\n",
       "      <td>0.369</td>\n",
       "      <td>0.000</td>\n",
       "      <td>0.000</td>\n",
       "      <td>26179.0</td>\n",
       "      <td>26057.0</td>\n",
       "      <td>26154.0</td>\n",
       "      <td>16101.0</td>\n",
       "      <td>1.0</td>\n",
       "    </tr>\n",
       "    <tr>\n",
       "      <th>p[7]</th>\n",
       "      <td>0.351</td>\n",
       "      <td>0.025</td>\n",
       "      <td>0.312</td>\n",
       "      <td>0.391</td>\n",
       "      <td>0.000</td>\n",
       "      <td>0.000</td>\n",
       "      <td>28347.0</td>\n",
       "      <td>28081.0</td>\n",
       "      <td>28379.0</td>\n",
       "      <td>14892.0</td>\n",
       "      <td>1.0</td>\n",
       "    </tr>\n",
       "    <tr>\n",
       "      <th>p[8]</th>\n",
       "      <td>0.282</td>\n",
       "      <td>0.032</td>\n",
       "      <td>0.231</td>\n",
       "      <td>0.332</td>\n",
       "      <td>0.000</td>\n",
       "      <td>0.000</td>\n",
       "      <td>34729.0</td>\n",
       "      <td>33992.0</td>\n",
       "      <td>34472.0</td>\n",
       "      <td>15555.0</td>\n",
       "      <td>1.0</td>\n",
       "    </tr>\n",
       "    <tr>\n",
       "      <th>p[9]</th>\n",
       "      <td>0.242</td>\n",
       "      <td>0.021</td>\n",
       "      <td>0.208</td>\n",
       "      <td>0.275</td>\n",
       "      <td>0.000</td>\n",
       "      <td>0.000</td>\n",
       "      <td>35574.0</td>\n",
       "      <td>35109.0</td>\n",
       "      <td>35497.0</td>\n",
       "      <td>15063.0</td>\n",
       "      <td>1.0</td>\n",
       "    </tr>\n",
       "    <tr>\n",
       "      <th>p[10]</th>\n",
       "      <td>0.066</td>\n",
       "      <td>0.013</td>\n",
       "      <td>0.046</td>\n",
       "      <td>0.086</td>\n",
       "      <td>0.000</td>\n",
       "      <td>0.000</td>\n",
       "      <td>27838.0</td>\n",
       "      <td>26913.0</td>\n",
       "      <td>27286.0</td>\n",
       "      <td>14803.0</td>\n",
       "      <td>1.0</td>\n",
       "    </tr>\n",
       "    <tr>\n",
       "      <th>p[11]</th>\n",
       "      <td>0.078</td>\n",
       "      <td>0.014</td>\n",
       "      <td>0.054</td>\n",
       "      <td>0.099</td>\n",
       "      <td>0.000</td>\n",
       "      <td>0.000</td>\n",
       "      <td>26538.0</td>\n",
       "      <td>26024.0</td>\n",
       "      <td>26078.0</td>\n",
       "      <td>15265.0</td>\n",
       "      <td>1.0</td>\n",
       "    </tr>\n",
       "  </tbody>\n",
       "</table>\n",
       "</div>"
      ],
      "text/plain": [
       "         mean     sd  hdi_5.5%  hdi_94.5%  mcse_mean  mcse_sd  ess_mean  \\\n",
       "a[0,0]  1.471  0.244     1.094      1.872      0.002    0.001   25917.0   \n",
       "a[0,1]  0.662  0.399     0.014      1.293      0.002    0.002   29035.0   \n",
       "a[0,2] -0.657  0.087    -0.791     -0.515      0.001    0.000   28854.0   \n",
       "a[0,3] -0.615  0.109    -0.789     -0.443      0.001    0.000   28374.0   \n",
       "a[0,4] -1.146  0.116    -1.324     -0.953      0.001    0.000   35361.0   \n",
       "a[0,5] -2.491  0.200    -2.806     -2.171      0.001    0.001   25686.0   \n",
       "a[1,0]  0.490  0.071     0.372      0.600      0.000    0.000   32550.0   \n",
       "a[1,1]  0.531  0.088     0.392      0.671      0.000    0.000   38747.0   \n",
       "a[1,2] -0.530  0.114    -0.713     -0.349      0.001    0.000   33846.0   \n",
       "a[1,3] -0.699  0.104    -0.867     -0.535      0.001    0.000   26164.0   \n",
       "a[1,4] -0.938  0.157    -1.184     -0.682      0.001    0.001   34340.0   \n",
       "a[1,5] -2.664  0.206    -2.989     -2.330      0.001    0.001   26760.0   \n",
       "p[0]    0.620  0.017     0.593      0.646      0.000    0.000   32505.0   \n",
       "p[1]    0.810  0.037     0.752      0.869      0.000    0.000   27163.0   \n",
       "p[2]    0.629  0.020     0.598      0.663      0.000    0.000   38616.0   \n",
       "p[3]    0.654  0.087     0.514      0.792      0.001    0.000   29647.0   \n",
       "p[4]    0.371  0.026     0.327      0.411      0.000    0.000   34103.0   \n",
       "p[5]    0.342  0.020     0.310      0.372      0.000    0.000   28966.0   \n",
       "p[6]    0.332  0.023     0.296      0.369      0.000    0.000   26179.0   \n",
       "p[7]    0.351  0.025     0.312      0.391      0.000    0.000   28347.0   \n",
       "p[8]    0.282  0.032     0.231      0.332      0.000    0.000   34729.0   \n",
       "p[9]    0.242  0.021     0.208      0.275      0.000    0.000   35574.0   \n",
       "p[10]   0.066  0.013     0.046      0.086      0.000    0.000   27838.0   \n",
       "p[11]   0.078  0.014     0.054      0.099      0.000    0.000   26538.0   \n",
       "\n",
       "         ess_sd  ess_bulk  ess_tail  r_hat  \n",
       "a[0,0]  23621.0   26510.0   14245.0    1.0  \n",
       "a[0,1]  19732.0   29298.0   13479.0    1.0  \n",
       "a[0,2]  27695.0   28936.0   12892.0    1.0  \n",
       "a[0,3]  26923.0   28379.0   14892.0    1.0  \n",
       "a[0,4]  34127.0   35497.0   15063.0    1.0  \n",
       "a[0,5]  24906.0   26078.0   15265.0    1.0  \n",
       "a[1,0]  32003.0   32533.0   15057.0    1.0  \n",
       "a[1,1]  37557.0   38747.0   14596.0    1.0  \n",
       "a[1,2]  30129.0   33983.0   14746.0    1.0  \n",
       "a[1,3]  25493.0   26154.0   16101.0    1.0  \n",
       "a[1,4]  31405.0   34472.0   15555.0    1.0  \n",
       "a[1,5]  25924.0   27286.0   14803.0    1.0  \n",
       "p[0]    32505.0   32533.0   15057.0    1.0  \n",
       "p[1]    26900.0   26510.0   14245.0    1.0  \n",
       "p[2]    38616.0   38747.0   14596.0    1.0  \n",
       "p[3]    29047.0   29298.0   13479.0    1.0  \n",
       "p[4]    34103.0   33983.0   14746.0    1.0  \n",
       "p[5]    28966.0   28936.0   12892.0    1.0  \n",
       "p[6]    26057.0   26154.0   16101.0    1.0  \n",
       "p[7]    28081.0   28379.0   14892.0    1.0  \n",
       "p[8]    33992.0   34472.0   15555.0    1.0  \n",
       "p[9]    35109.0   35497.0   15063.0    1.0  \n",
       "p[10]   26913.0   27286.0   14803.0    1.0  \n",
       "p[11]   26024.0   26078.0   15265.0    1.0  "
      ]
     },
     "execution_count": 438,
     "metadata": {},
     "output_type": "execute_result"
    },
    {
     "data": {
      "application/javascript": "\n            setTimeout(function() {\n                var nbb_cell_id = 438;\n                var nbb_unformatted_code = \"az.summary(idata_mq2_lec)\";\n                var nbb_formatted_code = \"az.summary(idata_mq2_lec)\";\n                var nbb_cells = Jupyter.notebook.get_cells();\n                for (var i = 0; i < nbb_cells.length; ++i) {\n                    if (nbb_cells[i].input_prompt_number == nbb_cell_id) {\n                        if (nbb_cells[i].get_text() == nbb_unformatted_code) {\n                             nbb_cells[i].set_text(nbb_formatted_code);\n                        }\n                        break;\n                    }\n                }\n            }, 500);\n            ",
      "text/plain": [
       "<IPython.core.display.Javascript object>"
      ]
     },
     "metadata": {},
     "output_type": "display_data"
    }
   ],
   "source": [
    "az.summary(idata_mq2_lec)"
   ]
  },
  {
   "cell_type": "markdown",
   "metadata": {},
   "source": [
    "### Why doesn't linear model (book way) get the same answer?\n",
    "\n",
    "Compare logit transformation below with matrix (lecture) way."
   ]
  },
  {
   "cell_type": "code",
   "execution_count": 439,
   "metadata": {},
   "outputs": [
    {
     "data": {
      "text/plain": [
       "p[0]     0.575364\n",
       "p[1]     0.672220\n",
       "p[2]     0.532217\n",
       "p[3]     0.623438\n",
       "p[4]    -0.676692\n",
       "p[5]    -0.584055\n",
       "p[6]    -0.708185\n",
       "p[7]    -0.614646\n",
       "p[8]    -1.147205\n",
       "p[9]    -1.051173\n",
       "p[10]   -2.666159\n",
       "p[11]   -2.586689\n",
       "Name: mean, dtype: float64"
      ]
     },
     "execution_count": 439,
     "metadata": {},
     "output_type": "execute_result"
    },
    {
     "data": {
      "application/javascript": "\n            setTimeout(function() {\n                var nbb_cell_id = 439;\n                var nbb_unformatted_code = \"logit(az.summary(idata_mq2_book, var_names='p')['mean'])\";\n                var nbb_formatted_code = \"logit(az.summary(idata_mq2_book, var_names=\\\"p\\\")[\\\"mean\\\"])\";\n                var nbb_cells = Jupyter.notebook.get_cells();\n                for (var i = 0; i < nbb_cells.length; ++i) {\n                    if (nbb_cells[i].input_prompt_number == nbb_cell_id) {\n                        if (nbb_cells[i].get_text() == nbb_unformatted_code) {\n                             nbb_cells[i].set_text(nbb_formatted_code);\n                        }\n                        break;\n                    }\n                }\n            }, 500);\n            ",
      "text/plain": [
       "<IPython.core.display.Javascript object>"
      ]
     },
     "metadata": {},
     "output_type": "display_data"
    }
   ],
   "source": [
    "logit(az.summary(idata_mq2_book, var_names='p')['mean'])"
   ]
  },
  {
   "cell_type": "code",
   "execution_count": 444,
   "metadata": {},
   "outputs": [
    {
     "data": {
      "text/plain": [
       "a[0,0]    1.471\n",
       "a[0,1]    0.662\n",
       "a[0,2]   -0.657\n",
       "a[0,3]   -0.615\n",
       "a[0,4]   -1.146\n",
       "a[0,5]   -2.491\n",
       "a[1,0]    0.490\n",
       "a[1,1]    0.531\n",
       "a[1,2]   -0.530\n",
       "a[1,3]   -0.699\n",
       "a[1,4]   -0.938\n",
       "a[1,5]   -2.664\n",
       "Name: mean, dtype: float64"
      ]
     },
     "execution_count": 444,
     "metadata": {},
     "output_type": "execute_result"
    },
    {
     "data": {
      "application/javascript": "\n            setTimeout(function() {\n                var nbb_cell_id = 444;\n                var nbb_unformatted_code = \"az.summary(idata_mq2_lec, var_names='a')['mean']\";\n                var nbb_formatted_code = \"az.summary(idata_mq2_lec, var_names=\\\"a\\\")[\\\"mean\\\"]\";\n                var nbb_cells = Jupyter.notebook.get_cells();\n                for (var i = 0; i < nbb_cells.length; ++i) {\n                    if (nbb_cells[i].input_prompt_number == nbb_cell_id) {\n                        if (nbb_cells[i].get_text() == nbb_unformatted_code) {\n                             nbb_cells[i].set_text(nbb_formatted_code);\n                        }\n                        break;\n                    }\n                }\n            }, 500);\n            ",
      "text/plain": [
       "<IPython.core.display.Javascript object>"
      ]
     },
     "metadata": {},
     "output_type": "display_data"
    }
   ],
   "source": [
    "az.summary(idata_mq2_lec, var_names='a')['mean']"
   ]
  },
  {
   "cell_type": "code",
   "execution_count": 445,
   "metadata": {},
   "outputs": [
    {
     "data": {
      "text/plain": [
       "p[0]     0.650219\n",
       "p[1]     0.692110\n",
       "p[2]     0.652263\n",
       "p[3]     0.657911\n",
       "p[4]     0.591701\n",
       "p[5]     0.584676\n",
       "p[6]     0.582246\n",
       "p[7]     0.586860\n",
       "p[8]     0.570036\n",
       "p[9]     0.560206\n",
       "p[10]    0.516494\n",
       "p[11]    0.519490\n",
       "Name: mean, dtype: float64"
      ]
     },
     "execution_count": 445,
     "metadata": {},
     "output_type": "execute_result"
    },
    {
     "data": {
      "application/javascript": "\n            setTimeout(function() {\n                var nbb_cell_id = 445;\n                var nbb_unformatted_code = \"expit(az.summary(idata_mq2_lec, var_names='p')['mean'])\";\n                var nbb_formatted_code = \"expit(az.summary(idata_mq2_lec, var_names=\\\"p\\\")[\\\"mean\\\"])\";\n                var nbb_cells = Jupyter.notebook.get_cells();\n                for (var i = 0; i < nbb_cells.length; ++i) {\n                    if (nbb_cells[i].input_prompt_number == nbb_cell_id) {\n                        if (nbb_cells[i].get_text() == nbb_unformatted_code) {\n                             nbb_cells[i].set_text(nbb_formatted_code);\n                        }\n                        break;\n                    }\n                }\n            }, 500);\n            ",
      "text/plain": [
       "<IPython.core.display.Javascript object>"
      ]
     },
     "metadata": {},
     "output_type": "display_data"
    }
   ],
   "source": [
    "expit(az.summary(idata_mq2_lec, var_names='p')['mean'])"
   ]
  },
  {
   "cell_type": "code",
   "execution_count": 452,
   "metadata": {},
   "outputs": [
    {
     "data": {
      "application/javascript": "\n            setTimeout(function() {\n                var nbb_cell_id = 452;\n                var nbb_unformatted_code = \"idata_mq2_book_df = idata_mq2_book.to_dataframe()\\n\\npost_diff_ucb_book = dict()\\nfor i in df_ucb.index:\\n    if i % 2 == 0:\\n        post_diff_ucb_book[df_ucb.loc[i, 'dept']] = idata_mq2_book_df[('posterior', f'p[{i+1}]', i+1)] - idata_mq2_book_df[('posterior', f'p[{i}]', i)]\";\n                var nbb_formatted_code = \"idata_mq2_book_df = idata_mq2_book.to_dataframe()\\n\\npost_diff_ucb_book = dict()\\nfor i in df_ucb.index:\\n    if i % 2 == 0:\\n        post_diff_ucb_book[df_ucb.loc[i, \\\"dept\\\"]] = (\\n            idata_mq2_book_df[(\\\"posterior\\\", f\\\"p[{i+1}]\\\", i + 1)]\\n            - idata_mq2_book_df[(\\\"posterior\\\", f\\\"p[{i}]\\\", i)]\\n        )\";\n                var nbb_cells = Jupyter.notebook.get_cells();\n                for (var i = 0; i < nbb_cells.length; ++i) {\n                    if (nbb_cells[i].input_prompt_number == nbb_cell_id) {\n                        if (nbb_cells[i].get_text() == nbb_unformatted_code) {\n                             nbb_cells[i].set_text(nbb_formatted_code);\n                        }\n                        break;\n                    }\n                }\n            }, 500);\n            ",
      "text/plain": [
       "<IPython.core.display.Javascript object>"
      ]
     },
     "metadata": {},
     "output_type": "display_data"
    }
   ],
   "source": [
    "idata_mq2_book_df = idata_mq2_book.to_dataframe()\n",
    "\n",
    "post_diff_ucb_book = dict()\n",
    "for i in df_ucb.index:\n",
    "    if i % 2 == 0:\n",
    "        post_diff_ucb_book[df_ucb.loc[i, 'dept']] = idata_mq2_book_df[('posterior', f'p[{i+1}]', i+1)] - idata_mq2_book_df[('posterior', f'p[{i}]', i)]"
   ]
  },
  {
   "cell_type": "code",
   "execution_count": 449,
   "metadata": {},
   "outputs": [
    {
     "data": {
      "application/javascript": "\n            setTimeout(function() {\n                var nbb_cell_id = 449;\n                var nbb_unformatted_code = \"idata_mq2_lec_df = idata_mq2_lec.to_dataframe()\\n\\npost_diff_ucb_lec = dict()\\nfor i in df_ucb.index:\\n    if i % 2 == 0:\\n        post_diff_ucb_lec[df_ucb.loc[i, 'dept']] = idata_mq2_lec_df[('posterior', f'p[{i+1}]', i+1)] - idata_mq2_lec_df[('posterior', f'p[{i}]', i)]\";\n                var nbb_formatted_code = \"idata_mq2_lec_df = idata_mq2_lec.to_dataframe()\\n\\npost_diff_ucb_lec = dict()\\nfor i in df_ucb.index:\\n    if i % 2 == 0:\\n        post_diff_ucb_lec[df_ucb.loc[i, \\\"dept\\\"]] = (\\n            idata_mq2_lec_df[(\\\"posterior\\\", f\\\"p[{i+1}]\\\", i + 1)]\\n            - idata_mq2_lec_df[(\\\"posterior\\\", f\\\"p[{i}]\\\", i)]\\n        )\";\n                var nbb_cells = Jupyter.notebook.get_cells();\n                for (var i = 0; i < nbb_cells.length; ++i) {\n                    if (nbb_cells[i].input_prompt_number == nbb_cell_id) {\n                        if (nbb_cells[i].get_text() == nbb_unformatted_code) {\n                             nbb_cells[i].set_text(nbb_formatted_code);\n                        }\n                        break;\n                    }\n                }\n            }, 500);\n            ",
      "text/plain": [
       "<IPython.core.display.Javascript object>"
      ]
     },
     "metadata": {},
     "output_type": "display_data"
    }
   ],
   "source": [
    "idata_mq2_lec_df = idata_mq2_lec.to_dataframe()\n",
    "\n",
    "post_diff_ucb_lec = dict()\n",
    "for i in df_ucb.index:\n",
    "    if i % 2 == 0:\n",
    "        post_diff_ucb_lec[df_ucb.loc[i, 'dept']] = idata_mq2_lec_df[('posterior', f'p[{i+1}]', i+1)] - idata_mq2_lec_df[('posterior', f'p[{i}]', i)]"
   ]
  },
  {
   "cell_type": "code",
   "execution_count": 446,
   "metadata": {},
   "outputs": [
    {
     "data": {
      "application/javascript": "\n            setTimeout(function() {\n                var nbb_cell_id = 446;\n                var nbb_unformatted_code = \"# # proportion of female from posterior distribution\\n\\n# f, ax1 = plt.subplots()\\n\\n# for di in range(6):\\n#     gi = 0\\n#     p_f0 = expit(idata_mq2_lec_df[('posterior', f'a[{gi}]', gi)] + idata_mq2_lec_df[('posterior', f'b[{di}]', di)])\\n\\n#     gi=1\\n#     p_m0 = expit(idata_mq2_lec_df[('posterior', f'a[{gi}]', gi)] + idata_mq2_lec_df[('posterior', f'b[{di}]', di)])\\n\\n#     print(\\\"di: \\\", di, (p_m0 - p_f0)[0:5])\\n\\n#     sns.kdeplot(p_m0 - p_f0, ax=ax1)\";\n                var nbb_formatted_code = \"# # proportion of female from posterior distribution\\n\\n# f, ax1 = plt.subplots()\\n\\n# for di in range(6):\\n#     gi = 0\\n#     p_f0 = expit(idata_mq2_lec_df[('posterior', f'a[{gi}]', gi)] + idata_mq2_lec_df[('posterior', f'b[{di}]', di)])\\n\\n#     gi=1\\n#     p_m0 = expit(idata_mq2_lec_df[('posterior', f'a[{gi}]', gi)] + idata_mq2_lec_df[('posterior', f'b[{di}]', di)])\\n\\n#     print(\\\"di: \\\", di, (p_m0 - p_f0)[0:5])\\n\\n#     sns.kdeplot(p_m0 - p_f0, ax=ax1)\";\n                var nbb_cells = Jupyter.notebook.get_cells();\n                for (var i = 0; i < nbb_cells.length; ++i) {\n                    if (nbb_cells[i].input_prompt_number == nbb_cell_id) {\n                        if (nbb_cells[i].get_text() == nbb_unformatted_code) {\n                             nbb_cells[i].set_text(nbb_formatted_code);\n                        }\n                        break;\n                    }\n                }\n            }, 500);\n            ",
      "text/plain": [
       "<IPython.core.display.Javascript object>"
      ]
     },
     "metadata": {},
     "output_type": "display_data"
    }
   ],
   "source": [
    "# # proportion of female from posterior distribution\n",
    "\n",
    "# f, ax1 = plt.subplots()\n",
    "\n",
    "# for di in range(6):\n",
    "#     gi = 0\n",
    "#     p_f0 = expit(idata_mq2_lec_df[('posterior', f'a[{gi}]', gi)] + idata_mq2_lec_df[('posterior', f'b[{di}]', di)])\n",
    "\n",
    "#     gi=1\n",
    "#     p_m0 = expit(idata_mq2_lec_df[('posterior', f'a[{gi}]', gi)] + idata_mq2_lec_df[('posterior', f'b[{di}]', di)])\n",
    "\n",
    "#     print(\"di: \", di, (p_m0 - p_f0)[0:5])\n",
    "\n",
    "#     sns.kdeplot(p_m0 - p_f0, ax=ax1)"
   ]
  },
  {
   "cell_type": "code",
   "execution_count": 457,
   "metadata": {},
   "outputs": [
    {
     "data": {
      "text/plain": [
       "Text(0.5, 1.0, 'effect of gender by department\\nlecture 9 way')"
      ]
     },
     "execution_count": 457,
     "metadata": {},
     "output_type": "execute_result"
    },
    {
     "data": {
      "image/png": "[encoded data removed]",
      "text/plain": [
       "<Figure size 1600x400 with 2 Axes>"
      ]
     },
     "metadata": {
      "image/png": {
       "height": 411,
       "width": 1611
      }
     },
     "output_type": "display_data"
    },
    {
     "data": {
      "application/javascript": "\n            setTimeout(function() {\n                var nbb_cell_id = 457;\n                var nbb_unformatted_code = \"# same as above by discipline\\nf, (ax1, ax2) = plt.subplots(1, 2, figsize=(16, 4))\\nfor dept in post_diff_ucb_book:\\n    sns.kdeplot(post_diff_ucb_book[dept], ax=ax1, label=dept)\\nax1.legend()\\nax1.set_title(\\\"effect of gender by department\\\\nbook way (pg 343)\\\")\\n\\nfor dept in post_diff_ucb_lec:\\n    sns.kdeplot(post_diff_ucb_lec[dept], ax=ax2, label=dept)\\nax2.legend()\\nax2.set_title(\\\"effect of gender by department\\\\nlecture 9 way\\\")\";\n                var nbb_formatted_code = \"# same as above by discipline\\nf, (ax1, ax2) = plt.subplots(1, 2, figsize=(16, 4))\\nfor dept in post_diff_ucb_book:\\n    sns.kdeplot(post_diff_ucb_book[dept], ax=ax1, label=dept)\\nax1.legend()\\nax1.set_title(\\\"effect of gender by department\\\\nbook way (pg 343)\\\")\\n\\nfor dept in post_diff_ucb_lec:\\n    sns.kdeplot(post_diff_ucb_lec[dept], ax=ax2, label=dept)\\nax2.legend()\\nax2.set_title(\\\"effect of gender by department\\\\nlecture 9 way\\\")\";\n                var nbb_cells = Jupyter.notebook.get_cells();\n                for (var i = 0; i < nbb_cells.length; ++i) {\n                    if (nbb_cells[i].input_prompt_number == nbb_cell_id) {\n                        if (nbb_cells[i].get_text() == nbb_unformatted_code) {\n                             nbb_cells[i].set_text(nbb_formatted_code);\n                        }\n                        break;\n                    }\n                }\n            }, 500);\n            ",
      "text/plain": [
       "<IPython.core.display.Javascript object>"
      ]
     },
     "metadata": {},
     "output_type": "display_data"
    }
   ],
   "source": [
    "# same as above by discipline\n",
    "f, (ax1, ax2) = plt.subplots(1, 2, figsize=(16, 4))\n",
    "for dept in post_diff_ucb_book:\n",
    "    sns.kdeplot(post_diff_ucb_book[dept], ax=ax1, label=dept)\n",
    "ax1.legend()\n",
    "ax1.set_title(\"effect of gender by department\\nbook way (pg 343)\")\n",
    "\n",
    "for dept in post_diff_ucb_lec:\n",
    "    sns.kdeplot(post_diff_ucb_lec[dept], ax=ax2, label=dept)\n",
    "ax2.legend()\n",
    "ax2.set_title(\"effect of gender by department\\nlecture 9 way\")"
   ]
  },
  {
   "cell_type": "code",
   "execution_count": null,
   "metadata": {},
   "outputs": [],
   "source": []
  },
  {
   "cell_type": "code",
   "execution_count": null,
   "metadata": {},
   "outputs": [],
   "source": []
  },
  {
   "cell_type": "markdown",
   "metadata": {},
   "source": [
    "Appendix: Environment and system parameters"
   ]
  },
  {
   "cell_type": "code",
   "execution_count": 254,
   "metadata": {},
   "outputs": [
    {
     "name": "stdout",
     "output_type": "stream",
     "text": [
      "Last updated: Tue Feb 08 2022\n",
      "\n",
      "Python implementation: CPython\n",
      "Python version       : 3.8.6\n",
      "IPython version      : 7.20.0\n",
      "\n",
      "matplotlib : 3.3.4\n",
      "pymc3      : 3.11.0\n",
      "arviz      : 0.11.1\n",
      "pandas     : 1.2.1\n",
      "daft       : 0.1.0\n",
      "seaborn    : 0.11.1\n",
      "theano     : 1.1.0\n",
      "scipy      : 1.6.0\n",
      "numpy      : 1.20.1\n",
      "statsmodels: 0.12.2\n",
      "sys        : 3.8.6 | packaged by conda-forge | (default, Jan 25 2021, 23:22:12) \n",
      "[Clang 11.0.1 ]\n",
      "\n",
      "Watermark: 2.1.0\n",
      "\n"
     ]
    },
    {
     "data": {
      "application/javascript": "\n            setTimeout(function() {\n                var nbb_cell_id = 254;\n                var nbb_unformatted_code = \"%watermark -n -u -v -iv -w\";\n                var nbb_formatted_code = \"%watermark -n -u -v -iv -w\";\n                var nbb_cells = Jupyter.notebook.get_cells();\n                for (var i = 0; i < nbb_cells.length; ++i) {\n                    if (nbb_cells[i].input_prompt_number == nbb_cell_id) {\n                        if (nbb_cells[i].get_text() == nbb_unformatted_code) {\n                             nbb_cells[i].set_text(nbb_formatted_code);\n                        }\n                        break;\n                    }\n                }\n            }, 500);\n            ",
      "text/plain": [
       "<IPython.core.display.Javascript object>"
      ]
     },
     "metadata": {},
     "output_type": "display_data"
    }
   ],
   "source": [
    "%watermark -n -u -v -iv -w"
   ]
  }
 ],
 "metadata": {
  "interpreter": {
   "hash": "e92bb7a9aacd9667df20255a0d1807f00b256076d24753ff832859a09e84cc67"
  },
  "kernelspec": {
   "display_name": "Python 3.8.6 64-bit ('stats_rethinking': conda)",
   "language": "python",
   "name": "python3"
  },
  "language_info": {
   "codemirror_mode": {
    "name": "ipython",
    "version": 3
   },
   "file_extension": ".py",
   "mimetype": "text/x-python",
   "name": "python",
   "nbconvert_exporter": "python",
   "pygments_lexer": "ipython3",
   "version": "3.8.6"
  },
  "orig_nbformat": 4
 },
 "nbformat": 4,
 "nbformat_minor": 2
}
