{
 "cells": [
  {
   "cell_type": "markdown",
   "id": "5e18daa4",
   "metadata": {},
   "source": [
    "**Repeated observations within units**\n",
    "\n",
    "What is the impact of having a heirarchical model on the coefficients of other predictor variables.\n",
    "\n",
    " How to deal with repeated observations from the same patient?"
   ]
  },
  {
   "cell_type": "code",
   "execution_count": 1,
   "id": "41e78d92",
   "metadata": {
    "ExecuteTime": {
     "end_time": "2021-09-29T15:06:51.874736Z",
     "start_time": "2021-09-29T15:06:39.918487Z"
    }
   },
   "outputs": [],
   "source": [
    "import arviz as az\n",
    "from datetime import timedelta\n",
    "import matplotlib.pyplot as plt\n",
    "import numpy as np\n",
    "import os\n",
    "from pathlib import Path\n",
    "import pandas as pd\n",
    "import pymc3 as pm\n",
    "import scipy.stats as stats\n",
    "import seaborn as sns\n",
    "from scipy.special import expit, logit\n",
    "from scipy.optimize import curve_fit\n",
    "import statsmodels.api as sm\n",
    "import daft\n",
    "from causalgraphicalmodels import CausalGraphicalModel\n",
    "%matplotlib inline"
   ]
  },
  {
   "cell_type": "code",
   "execution_count": 2,
   "id": "cef2325e",
   "metadata": {
    "ExecuteTime": {
     "end_time": "2021-09-29T15:07:50.634498Z",
     "start_time": "2021-09-29T15:07:50.614684Z"
    }
   },
   "outputs": [
    {
     "data": {
      "application/javascript": "\n            setTimeout(function() {\n                var nbb_cell_id = 2;\n                var nbb_unformatted_code = \"%load_ext nb_black\\n%config InlineBackend.figure_format = 'retina'\\n%load_ext watermark\\nRANDOM_SEED = 8927\\nnp.random.seed(RANDOM_SEED)\\naz.style.use(\\\"arviz-darkgrid\\\")\\naz.rcParams[\\\"stats.hdi_prob\\\"] = 0.95  # sets default credible interval used by arviz\";\n                var nbb_formatted_code = \"%load_ext nb_black\\n%config InlineBackend.figure_format = 'retina'\\n%load_ext watermark\\nRANDOM_SEED = 8927\\nnp.random.seed(RANDOM_SEED)\\naz.style.use(\\\"arviz-darkgrid\\\")\\naz.rcParams[\\\"stats.hdi_prob\\\"] = 0.95  # sets default credible interval used by arviz\";\n                var nbb_cells = Jupyter.notebook.get_cells();\n                for (var i = 0; i < nbb_cells.length; ++i) {\n                    if (nbb_cells[i].input_prompt_number == nbb_cell_id) {\n                        if (nbb_cells[i].get_text() == nbb_unformatted_code) {\n                             nbb_cells[i].set_text(nbb_formatted_code);\n                        }\n                        break;\n                    }\n                }\n            }, 500);\n            ",
      "text/plain": [
       "<IPython.core.display.Javascript object>"
      ]
     },
     "metadata": {},
     "output_type": "display_data"
    }
   ],
   "source": [
    "%load_ext nb_black\n",
    "%config InlineBackend.figure_format = 'retina'\n",
    "%load_ext watermark\n",
    "RANDOM_SEED = 8927\n",
    "np.random.seed(RANDOM_SEED)\n",
    "az.style.use(\"arviz-darkgrid\")\n",
    "az.rcParams[\"stats.hdi_prob\"] = 0.95  # sets default credible interval used by arviz\n",
    "\n",
    "sns.set_context(\"talk\")\n",
    "\n",
    "def standardize(x):\n",
    "    x = (x - np.mean(x)) / np.std(x)\n",
    "    return x"
   ]
  },
  {
   "cell_type": "markdown",
   "id": "e237d902",
   "metadata": {},
   "source": [
    "# Questions\n",
    "\n",
    "Given known amount of data (each with 1000 rows).\n",
    "\n",
    "Intercept only model\n",
    "- Each observation from a different patient\n",
    "- The same observation from a smaller number of patients\n",
    "    - Fixed prior\n",
    "    - Adaptive prior\n",
    "\n",
    "\n",
    "Intercept + one predictor\n",
    "- Each observation from a different patient\n",
    "- The same observation from a smaller number of patients\n",
    "    - Fixed prior on intercept, fixed prior on slope\n",
    "    - Adaptive prior on intercept, adaptive prior on slope\n",
    "    - Adaptive prior on intercept, fixed prior on slope\n",
    "    - Adaptive prior on intercept, adaptive prior on slope\n",
    "\n",
    "\n",
    "Imagine there are unseen predictors. Then what's the impact?\n"
   ]
  },
  {
   "cell_type": "code",
   "execution_count": null,
   "id": "8351c5ad",
   "metadata": {},
   "outputs": [],
   "source": []
  },
  {
   "cell_type": "markdown",
   "id": "93fae8bc",
   "metadata": {},
   "source": [
    "# Data with only the intercept"
   ]
  },
  {
   "cell_type": "markdown",
   "id": "8d415382",
   "metadata": {},
   "source": [
    "A ridiculous looking DAG."
   ]
  },
  {
   "cell_type": "code",
   "execution_count": 4,
   "id": "5543ee9a",
   "metadata": {},
   "outputs": [
    {
     "data": {
      "image/png": "[encoded data removed]",
      "text/plain": [
       "<Figure size 55.1181x55.1181 with 1 Axes>"
      ]
     },
     "metadata": {
      "image/png": {
       "height": 75,
       "width": 75
      }
     },
     "output_type": "display_data"
    },
    {
     "data": {
      "application/javascript": "\n            setTimeout(function() {\n                var nbb_cell_id = 4;\n                var nbb_unformatted_code = \"dag = CausalGraphicalModel(\\n    nodes=[\\\"A\\\"],\\n    edges=[\\n    ],\\n)\\npgm = daft.PGM()\\ncoordinates = {\\n    \\\"A\\\": (0, 1),\\n}\\nfor node in dag.dag.nodes:\\n    pgm.add_node(node, node, *coordinates[node])\\nfor edge in dag.dag.edges:\\n    pgm.add_edge(*edge)\\n\\npgm.render();\";\n                var nbb_formatted_code = \"dag = CausalGraphicalModel(\\n    nodes=[\\\"A\\\"],\\n    edges=[],\\n)\\npgm = daft.PGM()\\ncoordinates = {\\n    \\\"A\\\": (0, 1),\\n}\\nfor node in dag.dag.nodes:\\n    pgm.add_node(node, node, *coordinates[node])\\nfor edge in dag.dag.edges:\\n    pgm.add_edge(*edge)\\n\\npgm.render()\";\n                var nbb_cells = Jupyter.notebook.get_cells();\n                for (var i = 0; i < nbb_cells.length; ++i) {\n                    if (nbb_cells[i].input_prompt_number == nbb_cell_id) {\n                        if (nbb_cells[i].get_text() == nbb_unformatted_code) {\n                             nbb_cells[i].set_text(nbb_formatted_code);\n                        }\n                        break;\n                    }\n                }\n            }, 500);\n            ",
      "text/plain": [
       "<IPython.core.display.Javascript object>"
      ]
     },
     "metadata": {},
     "output_type": "display_data"
    }
   ],
   "source": [
    "dag = CausalGraphicalModel(\n",
    "    nodes=[\"A\"],\n",
    "    edges=[],\n",
    ")\n",
    "pgm = daft.PGM()\n",
    "coordinates = {\n",
    "    \"A\": (0, 1),\n",
    "}\n",
    "for node in dag.dag.nodes:\n",
    "    pgm.add_node(node, node, *coordinates[node])\n",
    "for edge in dag.dag.edges:\n",
    "    pgm.add_edge(*edge)\n",
    "\n",
    "pgm.render()\n"
   ]
  },
  {
   "cell_type": "markdown",
   "id": "a6b12ee7",
   "metadata": {},
   "source": [
    "## Simulate each observation as coming from a different patient\n",
    "\n",
    "- In all of the data we generate, each row will represent a different appointment.\n",
    "- In this first example, each row is also a unique patient.\n",
    "\n",
    "But most patients adhere so we'll set the population parameter for the log-odds to be high."
   ]
  },
  {
   "cell_type": "code",
   "execution_count": 89,
   "id": "e733445b",
   "metadata": {},
   "outputs": [
    {
     "data": {
      "text/plain": [
       "array([2.22962666, 1.84680402, 0.47309829, 1.16005507, 3.14306474])"
      ]
     },
     "execution_count": 89,
     "metadata": {},
     "output_type": "execute_result"
    },
    {
     "data": {
      "application/javascript": "\n            setTimeout(function() {\n                var nbb_cell_id = 89;\n                var nbb_unformatted_code = \"alpha_i = stats.norm.rvs(\\n    loc=a_bar, scale=sd_pop, size=n_patients\\n)\\nalpha_i[0:5]\";\n                var nbb_formatted_code = \"alpha_i = stats.norm.rvs(loc=a_bar, scale=sd_pop, size=n_patients)\\nalpha_i[0:5]\";\n                var nbb_cells = Jupyter.notebook.get_cells();\n                for (var i = 0; i < nbb_cells.length; ++i) {\n                    if (nbb_cells[i].input_prompt_number == nbb_cell_id) {\n                        if (nbb_cells[i].get_text() == nbb_unformatted_code) {\n                             nbb_cells[i].set_text(nbb_formatted_code);\n                        }\n                        break;\n                    }\n                }\n            }, 500);\n            ",
      "text/plain": [
       "<IPython.core.display.Javascript object>"
      ]
     },
     "metadata": {},
     "output_type": "display_data"
    }
   ],
   "source": [
    "alpha_i = stats.norm.rvs(\n",
    "    loc=a_bar, scale=sd_pop, size=n_patients\n",
    ")\n",
    "alpha_i[0:5]"
   ]
  },
  {
   "cell_type": "code",
   "execution_count": 28,
   "id": "d8d893f6",
   "metadata": {},
   "outputs": [
    {
     "ename": "NameError",
     "evalue": "name 'expit' is not defined",
     "output_type": "error",
     "traceback": [
      "\u001b[0;31m---------------------------------------------------------------------------\u001b[0m",
      "\u001b[0;31mNameError\u001b[0m                                 Traceback (most recent call last)",
      "\u001b[1;32m/Users/blacar/Documents/ds_projects/stats_rethinking/repo/blog_entries/stats_rethinking_repeated_obs.ipynb Cell 13'\u001b[0m in \u001b[0;36m<cell line: 8>\u001b[0;34m()\u001b[0m\n\u001b[1;32m      <a href='vscode-notebook-cell:/Users/blacar/Documents/ds_projects/stats_rethinking/repo/blog_entries/stats_rethinking_repeated_obs.ipynb#ch0000204?line=3'>4</a>\u001b[0m sd_pop \u001b[39m=\u001b[39m \u001b[39m1\u001b[39m  \u001b[39m# population SD on log-odds of adherence\u001b[39;00m\n\u001b[1;32m      <a href='vscode-notebook-cell:/Users/blacar/Documents/ds_projects/stats_rethinking/repo/blog_entries/stats_rethinking_repeated_obs.ipynb#ch0000204?line=4'>5</a>\u001b[0m alpha_i \u001b[39m=\u001b[39m stats\u001b[39m.\u001b[39mnorm\u001b[39m.\u001b[39mrvs(\n\u001b[1;32m      <a href='vscode-notebook-cell:/Users/blacar/Documents/ds_projects/stats_rethinking/repo/blog_entries/stats_rethinking_repeated_obs.ipynb#ch0000204?line=5'>6</a>\u001b[0m     loc\u001b[39m=\u001b[39ma_bar, scale\u001b[39m=\u001b[39msd_pop, size\u001b[39m=\u001b[39mn_patients\n\u001b[1;32m      <a href='vscode-notebook-cell:/Users/blacar/Documents/ds_projects/stats_rethinking/repo/blog_entries/stats_rethinking_repeated_obs.ipynb#ch0000204?line=6'>7</a>\u001b[0m )  \u001b[39m# use population to get individuals\u001b[39;00m\n\u001b[0;32m----> <a href='vscode-notebook-cell:/Users/blacar/Documents/ds_projects/stats_rethinking/repo/blog_entries/stats_rethinking_repeated_obs.ipynb#ch0000204?line=7'>8</a>\u001b[0m prob_adhere_i \u001b[39m=\u001b[39m expit(alpha_i)  \u001b[39m# use probability of adherence to get individuals\u001b[39;00m\n\u001b[1;32m      <a href='vscode-notebook-cell:/Users/blacar/Documents/ds_projects/stats_rethinking/repo/blog_entries/stats_rethinking_repeated_obs.ipynb#ch0000204?line=8'>9</a>\u001b[0m appt_adhere_i \u001b[39m=\u001b[39m stats\u001b[39m.\u001b[39mbernoulli\u001b[39m.\u001b[39mrvs(p\u001b[39m=\u001b[39mprob_adhere_i)\n\u001b[1;32m     <a href='vscode-notebook-cell:/Users/blacar/Documents/ds_projects/stats_rethinking/repo/blog_entries/stats_rethinking_repeated_obs.ipynb#ch0000204?line=10'>11</a>\u001b[0m df_Sim1 \u001b[39m=\u001b[39m pd\u001b[39m.\u001b[39mDataFrame(\n\u001b[1;32m     <a href='vscode-notebook-cell:/Users/blacar/Documents/ds_projects/stats_rethinking/repo/blog_entries/stats_rethinking_repeated_obs.ipynb#ch0000204?line=11'>12</a>\u001b[0m     {\n\u001b[1;32m     <a href='vscode-notebook-cell:/Users/blacar/Documents/ds_projects/stats_rethinking/repo/blog_entries/stats_rethinking_repeated_obs.ipynb#ch0000204?line=12'>13</a>\u001b[0m         \u001b[39m\"\u001b[39m\u001b[39mpatient_id\u001b[39m\u001b[39m\"\u001b[39m: patient_id,\n\u001b[0;32m   (...)\u001b[0m\n\u001b[1;32m     <a href='vscode-notebook-cell:/Users/blacar/Documents/ds_projects/stats_rethinking/repo/blog_entries/stats_rethinking_repeated_obs.ipynb#ch0000204?line=16'>17</a>\u001b[0m     }\n\u001b[1;32m     <a href='vscode-notebook-cell:/Users/blacar/Documents/ds_projects/stats_rethinking/repo/blog_entries/stats_rethinking_repeated_obs.ipynb#ch0000204?line=17'>18</a>\u001b[0m )\n",
      "\u001b[0;31mNameError\u001b[0m: name 'expit' is not defined"
     ]
    }
   ],
   "source": [
    "n_patients = 1000\n",
    "patient_id = range(n_patients)\n",
    "a_bar = 1.5  # population average log-odds of adherence\n",
    "sd_pop = 1  # population SD on log-odds of adherence\n",
    "alpha_i = stats.norm.rvs(\n",
    "    loc=a_bar, scale=sd_pop, size=n_patients\n",
    ")  # use population to get individuals\n",
    "prob_adhere_i = expit(alpha_i)  # use probability of adherence to get individuals\n",
    "appt_adhere_i = stats.bernoulli.rvs(p=prob_adhere_i)\n",
    "\n",
    "df_Sim1 = pd.DataFrame(\n",
    "    {\n",
    "        \"patient_id\": patient_id,\n",
    "        # \"alpha\":alpha_i,                     # commenting out because this normally wouldn't be in the EHR\n",
    "        # \"prob_adhere\":prob_adhere_i,         # commenting out because this normally wouldn't be in the EHR\n",
    "        \"appt_adhere\": appt_adhere_i,\n",
    "    }\n",
    ")\n",
    "\n",
    "print(\n",
    "    \"Have a look at 10 randomly sampled values that would be observed from the dataframe\"\n",
    ")\n",
    "df_Sim1.sample(10)\n"
   ]
  },
  {
   "cell_type": "markdown",
   "id": "7b616f2c",
   "metadata": {},
   "source": [
    "## Run inference\n",
    "\n",
    "Simple model, fixed prior, NOT getting an intercept for each patient.\n",
    "\n",
    "$$ A \\sim \\text{Bernoulli}(p_i) $$\n",
    "$$ \\text{logit}(p_i) = \\alpha $$\n",
    "$$ \\alpha_j \\sim \\text{Normal}(1, 1.5) $$\n"
   ]
  },
  {
   "cell_type": "code",
   "execution_count": 44,
   "id": "159f673b",
   "metadata": {},
   "outputs": [
    {
     "name": "stderr",
     "output_type": "stream",
     "text": [
      "Auto-assigning NUTS sampler...\n",
      "INFO:pymc3:Auto-assigning NUTS sampler...\n",
      "Initializing NUTS using jitter+adapt_diag...\n",
      "INFO:pymc3:Initializing NUTS using jitter+adapt_diag...\n",
      "Multiprocess sampling (4 chains in 4 jobs)\n",
      "INFO:pymc3:Multiprocess sampling (4 chains in 4 jobs)\n",
      "NUTS: [a]\n",
      "INFO:pymc3:NUTS: [a]\n",
      "Sampling 4 chains for 1_000 tune and 2_000 draw iterations (4_000 + 8_000 draws total) took 15 seconds.\n",
      "INFO:pymc3:Sampling 4 chains for 1_000 tune and 2_000 draw iterations (4_000 + 8_000 draws total) took 15 seconds.\n"
     ]
    },
    {
     "data": {
      "application/javascript": "\n            setTimeout(function() {\n                var nbb_cell_id = 44;\n                var nbb_unformatted_code = \"# intercept only patientid only fixed prior\\nwith pm.Model() as mSim1Ia:\\n\\n    # prior for patient_id (assume most will attend)\\n    a = pm.Normal(\\\"a\\\", 0, 1.5)\\n\\n    # link function\\u0192\\u02d9\\n    p = pm.math.invlogit(a)\\n\\n    # likelihood\\n    A = pm.Bernoulli(\\\"A\\\", p=p, observed=df_Sim1[\\\"appt_adhere\\\"])\\n\\n    trace_mSim1Ia = pm.sample(\\n        draws=2000, random_seed=19, return_inferencedata=False, progressbar=False\\n    )\";\n                var nbb_formatted_code = \"# intercept only patientid only fixed prior\\nwith pm.Model() as mSim1Ia:\\n\\n    # prior for patient_id (assume most will attend)\\n    a = pm.Normal(\\\"a\\\", 0, 1.5)\\n\\n    # link function\\u0192\\u02d9\\n    p = pm.math.invlogit(a)\\n\\n    # likelihood\\n    A = pm.Bernoulli(\\\"A\\\", p=p, observed=df_Sim1[\\\"appt_adhere\\\"])\\n\\n    trace_mSim1Ia = pm.sample(\\n        draws=2000, random_seed=19, return_inferencedata=False, progressbar=False\\n    )\";\n                var nbb_cells = Jupyter.notebook.get_cells();\n                for (var i = 0; i < nbb_cells.length; ++i) {\n                    if (nbb_cells[i].input_prompt_number == nbb_cell_id) {\n                        if (nbb_cells[i].get_text() == nbb_unformatted_code) {\n                             nbb_cells[i].set_text(nbb_formatted_code);\n                        }\n                        break;\n                    }\n                }\n            }, 500);\n            ",
      "text/plain": [
       "<IPython.core.display.Javascript object>"
      ]
     },
     "metadata": {},
     "output_type": "display_data"
    }
   ],
   "source": [
    "# intercept only patientid only fixed prior\n",
    "with pm.Model() as mSim1Ia:\n",
    "\n",
    "    # prior for patient_id\n",
    "    a = pm.Normal(\"a\", 1, 1.5)\n",
    "\n",
    "    # link functionƒ˙\n",
    "    p = pm.math.invlogit(a)\n",
    "\n",
    "    # likelihood\n",
    "    A = pm.Bernoulli(\"A\", p=p, observed=df_Sim1[\"appt_adhere\"])\n",
    "\n",
    "    trace_mSim1Ia = pm.sample(\n",
    "        draws=1000, random_seed=19, return_inferencedata=False, progressbar=False\n",
    "    )\n",
    "\n",
    "    # summaries and plotting\n",
    "    df_summary_mSim1Ia = az.summary(trace_mSim1Ia)\n",
    "    trace_mSim1Ia_df = pm.trace_to_dataframe(trace_mSim1Ia)\n"
   ]
  },
  {
   "cell_type": "code",
   "execution_count": 37,
   "id": "598d8170",
   "metadata": {},
   "outputs": [
    {
     "data": {
      "text/html": [
       "<div>\n",
       "<style scoped>\n",
       "    .dataframe tbody tr th:only-of-type {\n",
       "        vertical-align: middle;\n",
       "    }\n",
       "\n",
       "    .dataframe tbody tr th {\n",
       "        vertical-align: top;\n",
       "    }\n",
       "\n",
       "    .dataframe thead th {\n",
       "        text-align: right;\n",
       "    }\n",
       "</style>\n",
       "<table border=\"1\" class=\"dataframe\">\n",
       "  <thead>\n",
       "    <tr style=\"text-align: right;\">\n",
       "      <th></th>\n",
       "      <th>mean</th>\n",
       "      <th>sd</th>\n",
       "      <th>hdi_2.5%</th>\n",
       "      <th>hdi_97.5%</th>\n",
       "      <th>mcse_mean</th>\n",
       "      <th>mcse_sd</th>\n",
       "      <th>ess_mean</th>\n",
       "      <th>ess_sd</th>\n",
       "      <th>ess_bulk</th>\n",
       "      <th>ess_tail</th>\n",
       "      <th>r_hat</th>\n",
       "    </tr>\n",
       "  </thead>\n",
       "  <tbody>\n",
       "    <tr>\n",
       "      <th>a</th>\n",
       "      <td>1.234</td>\n",
       "      <td>0.074</td>\n",
       "      <td>1.093</td>\n",
       "      <td>1.384</td>\n",
       "      <td>0.001</td>\n",
       "      <td>0.001</td>\n",
       "      <td>3255.0</td>\n",
       "      <td>3255.0</td>\n",
       "      <td>3254.0</td>\n",
       "      <td>5754.0</td>\n",
       "      <td>1.0</td>\n",
       "    </tr>\n",
       "  </tbody>\n",
       "</table>\n",
       "</div>"
      ],
      "text/plain": [
       "    mean     sd  hdi_2.5%  hdi_97.5%  mcse_mean  mcse_sd  ess_mean  ess_sd  \\\n",
       "a  1.234  0.074     1.093      1.384      0.001    0.001    3255.0  3255.0   \n",
       "\n",
       "   ess_bulk  ess_tail  r_hat  \n",
       "a    3254.0    5754.0    1.0  "
      ]
     },
     "execution_count": 37,
     "metadata": {},
     "output_type": "execute_result"
    },
    {
     "data": {
      "application/javascript": "\n            setTimeout(function() {\n                var nbb_cell_id = 37;\n                var nbb_unformatted_code = \"with mSim1Ia:\\n    df_summary_mSim1Ia = az.summary(trace_mSim1Ia)\\n    trace_mSim1Ia_df = pm.trace_to_dataframe(trace_mSim1Ia)\\n\\ndf_summary_mSim1Ia\";\n                var nbb_formatted_code = \"with mSim1Ia:\\n    df_summary_mSim1Ia = az.summary(trace_mSim1Ia)\\n    trace_mSim1Ia_df = pm.trace_to_dataframe(trace_mSim1Ia)\\n\\ndf_summary_mSim1Ia\";\n                var nbb_cells = Jupyter.notebook.get_cells();\n                for (var i = 0; i < nbb_cells.length; ++i) {\n                    if (nbb_cells[i].input_prompt_number == nbb_cell_id) {\n                        if (nbb_cells[i].get_text() == nbb_unformatted_code) {\n                             nbb_cells[i].set_text(nbb_formatted_code);\n                        }\n                        break;\n                    }\n                }\n            }, 500);\n            ",
      "text/plain": [
       "<IPython.core.display.Javascript object>"
      ]
     },
     "metadata": {},
     "output_type": "display_data"
    }
   ],
   "source": [
    "df_summary_mSim1Ia"
   ]
  },
  {
   "cell_type": "code",
   "execution_count": 56,
   "id": "7a290be6",
   "metadata": {},
   "outputs": [
    {
     "data": {
      "text/plain": [
       "<matplotlib.legend.Legend at 0x7fc1d2beef70>"
      ]
     },
     "execution_count": 56,
     "metadata": {},
     "output_type": "execute_result"
    },
    {
     "data": {
      "image/png": "[encoded data removed]",
      "text/plain": [
       "<Figure size 720x432 with 1 Axes>"
      ]
     },
     "metadata": {
      "image/png": {
       "height": 440,
       "width": 728
      },
      "needs_background": "light"
     },
     "output_type": "display_data"
    },
    {
     "data": {
      "application/javascript": "\n            setTimeout(function() {\n                var nbb_cell_id = 56;\n                var nbb_unformatted_code = \"f, ax0 = plt.subplots(figsize=(10,6))\\nsns.kdeplot(trace_mSim1Ia_df['a'], color='blue', label='a_bar (est)')\\nsns.kdeplot(alpha_i, c='red', label='alpha (individual)')\\n\\nax0.axvline(a_bar, color='gray', linestyle='dashed', label='a_bar (true, data generating)')\\nax0.legend()\";\n                var nbb_formatted_code = \"f, ax0 = plt.subplots(figsize=(10, 6))\\nsns.kdeplot(trace_mSim1Ia_df[\\\"a\\\"], color=\\\"blue\\\", label=\\\"a_bar (est)\\\")\\nsns.kdeplot(alpha_i, c=\\\"red\\\", label=\\\"alpha (individual)\\\")\\n\\nax0.axvline(\\n    a_bar, color=\\\"gray\\\", linestyle=\\\"dashed\\\", label=\\\"a_bar (true, data generating)\\\"\\n)\\nax0.legend()\";\n                var nbb_cells = Jupyter.notebook.get_cells();\n                for (var i = 0; i < nbb_cells.length; ++i) {\n                    if (nbb_cells[i].input_prompt_number == nbb_cell_id) {\n                        if (nbb_cells[i].get_text() == nbb_unformatted_code) {\n                             nbb_cells[i].set_text(nbb_formatted_code);\n                        }\n                        break;\n                    }\n                }\n            }, 500);\n            ",
      "text/plain": [
       "<IPython.core.display.Javascript object>"
      ]
     },
     "metadata": {},
     "output_type": "display_data"
    }
   ],
   "source": [
    "f, ax0 = plt.subplots(figsize=(10,6))\n",
    "sns.kdeplot(trace_mSim1Ia_df['a'], color='blue', label='a_bar (est)')\n",
    "sns.kdeplot(alpha_i, c='red', label='alpha (individual)')\n",
    "\n",
    "ax0.axvline(a_bar, color='gray', linestyle='dashed', label='a_bar (true, data generating)')\n",
    "ax0.legend()"
   ]
  },
  {
   "cell_type": "markdown",
   "id": "d0bbf9b8",
   "metadata": {},
   "source": [
    "We can see that the data generating process itself has some stochasticity in terms of what will be the population average. Let's run the simulation five times and estimate."
   ]
  },
  {
   "cell_type": "code",
   "execution_count": 27,
   "id": "3836bf87",
   "metadata": {},
   "outputs": [
    {
     "ename": "NameError",
     "evalue": "name 'a_bar' is not defined",
     "output_type": "error",
     "traceback": [
      "\u001b[0;31m---------------------------------------------------------------------------\u001b[0m",
      "\u001b[0;31mNameError\u001b[0m                                 Traceback (most recent call last)",
      "\u001b[1;32m/Users/blacar/Documents/ds_projects/stats_rethinking/repo/blog_entries/stats_rethinking_repeated_obs.ipynb Cell 19'\u001b[0m in \u001b[0;36m<cell line: 1>\u001b[0;34m()\u001b[0m\n\u001b[1;32m      <a href='vscode-notebook-cell:/Users/blacar/Documents/ds_projects/stats_rethinking/repo/blog_entries/stats_rethinking_repeated_obs.ipynb#ch0000233?line=0'>1</a>\u001b[0m \u001b[39mfor\u001b[39;00m i \u001b[39min\u001b[39;00m \u001b[39mrange\u001b[39m(\u001b[39m5\u001b[39m):\n\u001b[1;32m      <a href='vscode-notebook-cell:/Users/blacar/Documents/ds_projects/stats_rethinking/repo/blog_entries/stats_rethinking_repeated_obs.ipynb#ch0000233?line=2'>3</a>\u001b[0m     alpha_i \u001b[39m=\u001b[39m stats\u001b[39m.\u001b[39mnorm\u001b[39m.\u001b[39mrvs(\n\u001b[0;32m----> <a href='vscode-notebook-cell:/Users/blacar/Documents/ds_projects/stats_rethinking/repo/blog_entries/stats_rethinking_repeated_obs.ipynb#ch0000233?line=3'>4</a>\u001b[0m     loc\u001b[39m=\u001b[39ma_bar, scale\u001b[39m=\u001b[39msd_pop, size\u001b[39m=\u001b[39mn_patients\n\u001b[1;32m      <a href='vscode-notebook-cell:/Users/blacar/Documents/ds_projects/stats_rethinking/repo/blog_entries/stats_rethinking_repeated_obs.ipynb#ch0000233?line=4'>5</a>\u001b[0m     )\n\u001b[1;32m      <a href='vscode-notebook-cell:/Users/blacar/Documents/ds_projects/stats_rethinking/repo/blog_entries/stats_rethinking_repeated_obs.ipynb#ch0000233?line=5'>6</a>\u001b[0m     prob_adhere_i \u001b[39m=\u001b[39m expit(alpha_i)\n\u001b[1;32m      <a href='vscode-notebook-cell:/Users/blacar/Documents/ds_projects/stats_rethinking/repo/blog_entries/stats_rethinking_repeated_obs.ipynb#ch0000233?line=6'>7</a>\u001b[0m     appt_adhere_i \u001b[39m=\u001b[39m stats\u001b[39m.\u001b[39mbernoulli\u001b[39m.\u001b[39mrvs(p\u001b[39m=\u001b[39mprob_adhere_i)\n",
      "\u001b[0;31mNameError\u001b[0m: name 'a_bar' is not defined"
     ]
    }
   ],
   "source": [
    "for i in range(5):\n",
    "\n",
    "    alpha_i = stats.norm.rvs(\n",
    "    loc=a_bar, scale=sd_pop, size=n_patients\n",
    "    )\n",
    "    prob_adhere_i = expit(alpha_i)\n",
    "    appt_adhere_i = stats.bernoulli.rvs(p=prob_adhere_i)\n",
    "\n",
    "    df_Sim1_test = pd.DataFrame(\n",
    "        {\n",
    "            \"patient_id\": patient_id,\n",
    "            \"appt_adhere\": appt_adhere_i,\n",
    "        }\n",
    "    )\n",
    "\n",
    "    print(i, df_Sim1_test.head())"
   ]
  },
  {
   "cell_type": "code",
   "execution_count": 115,
   "id": "baa04380",
   "metadata": {},
   "outputs": [
    {
     "name": "stdout",
     "output_type": "stream",
     "text": [
      " --- loop0 --- \n",
      "0    patient_id  appt_adhere\n",
      "0           0            0\n",
      "1           1            1\n",
      "2           2            1\n",
      "3           3            1\n",
      "4           4            0\n"
     ]
    },
    {
     "name": "stderr",
     "output_type": "stream",
     "text": [
      "Auto-assigning NUTS sampler...\n",
      "INFO:pymc3:Auto-assigning NUTS sampler...\n",
      "Initializing NUTS using jitter+adapt_diag...\n",
      "INFO:pymc3:Initializing NUTS using jitter+adapt_diag...\n",
      "Multiprocess sampling (4 chains in 4 jobs)\n",
      "INFO:pymc3:Multiprocess sampling (4 chains in 4 jobs)\n",
      "NUTS: [a]\n",
      "INFO:pymc3:NUTS: [a]\n",
      "Sampling 4 chains for 1_000 tune and 1_000 draw iterations (4_000 + 4_000 draws total) took 17 seconds.\n",
      "INFO:pymc3:Sampling 4 chains for 1_000 tune and 1_000 draw iterations (4_000 + 4_000 draws total) took 17 seconds.\n"
     ]
    },
    {
     "name": "stdout",
     "output_type": "stream",
     "text": [
      "          a\n",
      "0  1.422939\n",
      "1  1.453402\n",
      "2  1.356322\n",
      "3  1.112782\n",
      "4  1.241105\n",
      "\n",
      " --- loop1 --- \n",
      "1    patient_id  appt_adhere\n",
      "0           0            0\n",
      "1           1            1\n",
      "2           2            1\n",
      "3           3            0\n",
      "4           4            1\n"
     ]
    },
    {
     "name": "stderr",
     "output_type": "stream",
     "text": [
      "Auto-assigning NUTS sampler...\n",
      "INFO:pymc3:Auto-assigning NUTS sampler...\n",
      "Initializing NUTS using jitter+adapt_diag...\n",
      "INFO:pymc3:Initializing NUTS using jitter+adapt_diag...\n",
      "Multiprocess sampling (4 chains in 4 jobs)\n",
      "INFO:pymc3:Multiprocess sampling (4 chains in 4 jobs)\n",
      "NUTS: [a]\n",
      "INFO:pymc3:NUTS: [a]\n",
      "Sampling 4 chains for 1_000 tune and 1_000 draw iterations (4_000 + 4_000 draws total) took 15 seconds.\n",
      "INFO:pymc3:Sampling 4 chains for 1_000 tune and 1_000 draw iterations (4_000 + 4_000 draws total) took 15 seconds.\n",
      "Auto-assigning NUTS sampler...\n"
     ]
    },
    {
     "name": "stdout",
     "output_type": "stream",
     "text": [
      "          a\n",
      "0  1.261351\n",
      "1  1.290758\n",
      "2  1.365104\n",
      "3  1.332670\n",
      "4  1.306148\n",
      "\n",
      " --- loop2 --- \n",
      "2    patient_id  appt_adhere\n",
      "0           0            0\n",
      "1           1            1\n",
      "2           2            1\n",
      "3           3            0\n",
      "4           4            1\n"
     ]
    },
    {
     "name": "stderr",
     "output_type": "stream",
     "text": [
      "INFO:pymc3:Auto-assigning NUTS sampler...\n",
      "Initializing NUTS using jitter+adapt_diag...\n",
      "INFO:pymc3:Initializing NUTS using jitter+adapt_diag...\n",
      "Multiprocess sampling (4 chains in 4 jobs)\n",
      "INFO:pymc3:Multiprocess sampling (4 chains in 4 jobs)\n",
      "NUTS: [a]\n",
      "INFO:pymc3:NUTS: [a]\n",
      "Sampling 4 chains for 1_000 tune and 1_000 draw iterations (4_000 + 4_000 draws total) took 15 seconds.\n",
      "INFO:pymc3:Sampling 4 chains for 1_000 tune and 1_000 draw iterations (4_000 + 4_000 draws total) took 15 seconds.\n"
     ]
    },
    {
     "name": "stdout",
     "output_type": "stream",
     "text": [
      "          a\n",
      "0  1.261351\n",
      "1  1.290758\n",
      "2  1.365104\n",
      "3  1.332670\n",
      "4  1.306148\n",
      "\n",
      " --- loop3 --- \n",
      "3    patient_id  appt_adhere\n",
      "0           0            0\n",
      "1           1            1\n",
      "2           2            1\n",
      "3           3            0\n",
      "4           4            1\n"
     ]
    },
    {
     "name": "stderr",
     "output_type": "stream",
     "text": [
      "Auto-assigning NUTS sampler...\n",
      "INFO:pymc3:Auto-assigning NUTS sampler...\n",
      "Initializing NUTS using jitter+adapt_diag...\n",
      "INFO:pymc3:Initializing NUTS using jitter+adapt_diag...\n",
      "Multiprocess sampling (4 chains in 4 jobs)\n",
      "INFO:pymc3:Multiprocess sampling (4 chains in 4 jobs)\n",
      "NUTS: [a]\n",
      "INFO:pymc3:NUTS: [a]\n",
      "Sampling 4 chains for 1_000 tune and 1_000 draw iterations (4_000 + 4_000 draws total) took 14 seconds.\n",
      "INFO:pymc3:Sampling 4 chains for 1_000 tune and 1_000 draw iterations (4_000 + 4_000 draws total) took 14 seconds.\n"
     ]
    },
    {
     "name": "stdout",
     "output_type": "stream",
     "text": [
      "          a\n",
      "0  1.261351\n",
      "1  1.290758\n",
      "2  1.365104\n",
      "3  1.332670\n",
      "4  1.306148\n",
      "\n",
      " --- loop4 --- \n",
      "4    patient_id  appt_adhere\n",
      "0           0            0\n",
      "1           1            1\n",
      "2           2            1\n",
      "3           3            0\n",
      "4           4            1\n"
     ]
    },
    {
     "name": "stderr",
     "output_type": "stream",
     "text": [
      "Auto-assigning NUTS sampler...\n",
      "INFO:pymc3:Auto-assigning NUTS sampler...\n",
      "Initializing NUTS using jitter+adapt_diag...\n",
      "INFO:pymc3:Initializing NUTS using jitter+adapt_diag...\n",
      "Multiprocess sampling (4 chains in 4 jobs)\n",
      "INFO:pymc3:Multiprocess sampling (4 chains in 4 jobs)\n",
      "NUTS: [a]\n",
      "INFO:pymc3:NUTS: [a]\n",
      "Sampling 4 chains for 1_000 tune and 1_000 draw iterations (4_000 + 4_000 draws total) took 14 seconds.\n",
      "INFO:pymc3:Sampling 4 chains for 1_000 tune and 1_000 draw iterations (4_000 + 4_000 draws total) took 14 seconds.\n"
     ]
    },
    {
     "name": "stdout",
     "output_type": "stream",
     "text": [
      "          a\n",
      "0  1.261351\n",
      "1  1.290758\n",
      "2  1.365104\n",
      "3  1.332670\n",
      "4  1.306148\n",
      "\n"
     ]
    },
    {
     "data": {
      "application/javascript": "\n            setTimeout(function() {\n                var nbb_cell_id = 115;\n                var nbb_unformatted_code = \"# df_summaries_Sim1 = list()\\n# trace_posteriors_Sim1 = dict()\\n\\nfor i in range(5):\\n    print(f\\\" --- loop{i} --- \\\", end='\\\\n')\\n    alpha_i = stats.norm.rvs(\\n    loc=a_bar, scale=sd_pop, size=n_patients\\n    )\\n    prob_adhere_i = expit(alpha_i)\\n    appt_adhere_i = stats.bernoulli.rvs(p=prob_adhere_i)\\n\\n    df_Sim1_test = pd.DataFrame(\\n        {\\n            \\\"patient_id\\\": patient_id,\\n            \\\"appt_adhere\\\": appt_adhere_i,\\n        }\\n    )\\n\\n    print(i, df_Sim1_test.head(), end='\\\\n')\\n\\n    with pm.Model() as mSim1Ia_test:\\n        a = pm.Normal(\\\"a\\\", 1, 1.5)\\n        p = pm.math.invlogit(a)\\n        A = pm.Bernoulli(\\\"A\\\", p=p, observed=df_Sim1_test[\\\"appt_adhere\\\"])\\n        trace_mSim1Ia_test = pm.sample(\\n            draws=1000, random_seed=19, return_inferencedata=False, progressbar=False\\n        )\\n        df_summary_mSim1Ia_test = az.summary(trace_mSim1Ia_test)\\n        trace_mSim1Ia_test_df = pm.trace_to_dataframe(trace_mSim1Ia_test)\\n\\n    print(trace_mSim1Ia_test_df.head(), end='\\\\n\\\\n')\\n        \";\n                var nbb_formatted_code = \"# df_summaries_Sim1 = list()\\n# trace_posteriors_Sim1 = dict()\\n\\nfor i in range(5):\\n    print(f\\\" --- loop{i} --- \\\", end=\\\"\\\\n\\\")\\n    alpha_i = stats.norm.rvs(loc=a_bar, scale=sd_pop, size=n_patients)\\n    prob_adhere_i = expit(alpha_i)\\n    appt_adhere_i = stats.bernoulli.rvs(p=prob_adhere_i)\\n\\n    df_Sim1_test = pd.DataFrame(\\n        {\\n            \\\"patient_id\\\": patient_id,\\n            \\\"appt_adhere\\\": appt_adhere_i,\\n        }\\n    )\\n\\n    print(i, df_Sim1_test.head(), end=\\\"\\\\n\\\")\\n\\n    with pm.Model() as mSim1Ia_test:\\n        a = pm.Normal(\\\"a\\\", 1, 1.5)\\n        p = pm.math.invlogit(a)\\n        A = pm.Bernoulli(\\\"A\\\", p=p, observed=df_Sim1_test[\\\"appt_adhere\\\"])\\n        trace_mSim1Ia_test = pm.sample(\\n            draws=1000, random_seed=19, return_inferencedata=False, progressbar=False\\n        )\\n        df_summary_mSim1Ia_test = az.summary(trace_mSim1Ia_test)\\n        trace_mSim1Ia_test_df = pm.trace_to_dataframe(trace_mSim1Ia_test)\\n\\n    print(trace_mSim1Ia_test_df.head(), end=\\\"\\\\n\\\\n\\\")\";\n                var nbb_cells = Jupyter.notebook.get_cells();\n                for (var i = 0; i < nbb_cells.length; ++i) {\n                    if (nbb_cells[i].input_prompt_number == nbb_cell_id) {\n                        if (nbb_cells[i].get_text() == nbb_unformatted_code) {\n                             nbb_cells[i].set_text(nbb_formatted_code);\n                        }\n                        break;\n                    }\n                }\n            }, 500);\n            ",
      "text/plain": [
       "<IPython.core.display.Javascript object>"
      ]
     },
     "metadata": {},
     "output_type": "display_data"
    }
   ],
   "source": [
    "# df_summaries_Sim1 = list()\n",
    "# trace_posteriors_Sim1 = dict()\n",
    "\n",
    "for i in range(5):\n",
    "    print(f\" --- loop{i} --- \", end='\\n')\n",
    "    alpha_i = stats.norm.rvs(\n",
    "    loc=a_bar, scale=sd_pop, size=n_patients\n",
    "    )\n",
    "    prob_adhere_i = expit(alpha_i)\n",
    "    appt_adhere_i = stats.bernoulli.rvs(p=prob_adhere_i)\n",
    "\n",
    "    df_Sim1_test = pd.DataFrame(\n",
    "        {\n",
    "            \"patient_id\": patient_id,\n",
    "            \"appt_adhere\": appt_adhere_i,\n",
    "        }\n",
    "    )\n",
    "\n",
    "    print(i, df_Sim1_test.head(), end='\\n')\n",
    "\n",
    "    with pm.Model() as mSim1Ia_test:\n",
    "        a = pm.Normal(\"a\", 1, 1.5)\n",
    "        p = pm.math.invlogit(a)\n",
    "        A = pm.Bernoulli(\"A\", p=p, observed=df_Sim1_test[\"appt_adhere\"])\n",
    "        trace_mSim1Ia_test = pm.sample(\n",
    "            draws=1000, random_seed=19, return_inferencedata=False, progressbar=False\n",
    "        )\n",
    "        df_summary_mSim1Ia_test = az.summary(trace_mSim1Ia_test)\n",
    "        trace_mSim1Ia_test_df = pm.trace_to_dataframe(trace_mSim1Ia_test)\n",
    "\n",
    "    print(trace_mSim1Ia_test_df.head(), end='\\n\\n')\n",
    "        "
   ]
  },
  {
   "cell_type": "code",
   "execution_count": 116,
   "id": "c2051242",
   "metadata": {},
   "outputs": [
    {
     "name": "stdout",
     "output_type": "stream",
     "text": [
      " --- loop0 --- \n",
      "0    patient_id  appt_adhere\n",
      "0           0            0\n",
      "1           1            1\n",
      "2           2            1\n",
      "3           3            0\n",
      "4           4            1\n"
     ]
    },
    {
     "name": "stderr",
     "output_type": "stream",
     "text": [
      "Auto-assigning NUTS sampler...\n",
      "INFO:pymc3:Auto-assigning NUTS sampler...\n",
      "Initializing NUTS using jitter+adapt_diag...\n",
      "INFO:pymc3:Initializing NUTS using jitter+adapt_diag...\n",
      "Multiprocess sampling (4 chains in 4 jobs)\n",
      "INFO:pymc3:Multiprocess sampling (4 chains in 4 jobs)\n",
      "NUTS: [a]\n",
      "INFO:pymc3:NUTS: [a]\n",
      "Sampling 4 chains for 1_000 tune and 1_000 draw iterations (4_000 + 4_000 draws total) took 15 seconds.\n",
      "INFO:pymc3:Sampling 4 chains for 1_000 tune and 1_000 draw iterations (4_000 + 4_000 draws total) took 15 seconds.\n"
     ]
    },
    {
     "name": "stdout",
     "output_type": "stream",
     "text": [
      "          a\n",
      "0  1.433215\n",
      "1  1.421131\n",
      "2  1.310899\n",
      "3  1.310899\n",
      "4  1.314574\n",
      "\n",
      " --- loop1 --- \n",
      "1    patient_id  appt_adhere\n",
      "0           0            1\n",
      "1           1            1\n",
      "2           2            1\n",
      "3           3            0\n",
      "4           4            0\n"
     ]
    },
    {
     "name": "stderr",
     "output_type": "stream",
     "text": [
      "Auto-assigning NUTS sampler...\n",
      "INFO:pymc3:Auto-assigning NUTS sampler...\n",
      "Initializing NUTS using jitter+adapt_diag...\n",
      "INFO:pymc3:Initializing NUTS using jitter+adapt_diag...\n",
      "Multiprocess sampling (4 chains in 4 jobs)\n",
      "INFO:pymc3:Multiprocess sampling (4 chains in 4 jobs)\n",
      "NUTS: [a]\n",
      "INFO:pymc3:NUTS: [a]\n",
      "Sampling 4 chains for 1_000 tune and 1_000 draw iterations (4_000 + 4_000 draws total) took 15 seconds.\n",
      "INFO:pymc3:Sampling 4 chains for 1_000 tune and 1_000 draw iterations (4_000 + 4_000 draws total) took 15 seconds.\n"
     ]
    },
    {
     "name": "stdout",
     "output_type": "stream",
     "text": [
      "          a\n",
      "0  1.497634\n",
      "1  1.425343\n",
      "2  1.384327\n",
      "3  1.376532\n",
      "4  1.416042\n",
      "\n",
      " --- loop2 --- \n",
      "2    patient_id  appt_adhere\n",
      "0           0            1\n",
      "1           1            1\n",
      "2           2            1\n",
      "3           3            1\n",
      "4           4            1\n"
     ]
    },
    {
     "name": "stderr",
     "output_type": "stream",
     "text": [
      "Auto-assigning NUTS sampler...\n",
      "INFO:pymc3:Auto-assigning NUTS sampler...\n",
      "Initializing NUTS using jitter+adapt_diag...\n",
      "INFO:pymc3:Initializing NUTS using jitter+adapt_diag...\n",
      "Multiprocess sampling (4 chains in 4 jobs)\n",
      "INFO:pymc3:Multiprocess sampling (4 chains in 4 jobs)\n",
      "NUTS: [a]\n",
      "INFO:pymc3:NUTS: [a]\n",
      "Sampling 4 chains for 1_000 tune and 1_000 draw iterations (4_000 + 4_000 draws total) took 14 seconds.\n",
      "INFO:pymc3:Sampling 4 chains for 1_000 tune and 1_000 draw iterations (4_000 + 4_000 draws total) took 14 seconds.\n",
      "The acceptance probability does not match the target. It is 0.881924976908962, but should be close to 0.8. Try to increase the number of tuning steps.\n",
      "WARNING:pymc3:The acceptance probability does not match the target. It is 0.881924976908962, but should be close to 0.8. Try to increase the number of tuning steps.\n"
     ]
    },
    {
     "name": "stdout",
     "output_type": "stream",
     "text": [
      "          a\n",
      "0  1.124687\n",
      "1  1.179526\n",
      "2  1.158152\n",
      "3  1.184133\n",
      "4  1.151976\n",
      "\n",
      " --- loop3 --- \n",
      "3    patient_id  appt_adhere\n",
      "0           0            1\n",
      "1           1            1\n",
      "2           2            1\n",
      "3           3            1\n",
      "4           4            1\n"
     ]
    },
    {
     "name": "stderr",
     "output_type": "stream",
     "text": [
      "Auto-assigning NUTS sampler...\n",
      "INFO:pymc3:Auto-assigning NUTS sampler...\n",
      "Initializing NUTS using jitter+adapt_diag...\n",
      "INFO:pymc3:Initializing NUTS using jitter+adapt_diag...\n",
      "Multiprocess sampling (4 chains in 4 jobs)\n",
      "INFO:pymc3:Multiprocess sampling (4 chains in 4 jobs)\n",
      "NUTS: [a]\n",
      "INFO:pymc3:NUTS: [a]\n",
      "Sampling 4 chains for 1_000 tune and 1_000 draw iterations (4_000 + 4_000 draws total) took 14 seconds.\n",
      "INFO:pymc3:Sampling 4 chains for 1_000 tune and 1_000 draw iterations (4_000 + 4_000 draws total) took 14 seconds.\n"
     ]
    },
    {
     "name": "stdout",
     "output_type": "stream",
     "text": [
      "          a\n",
      "0  1.124407\n",
      "1  1.124407\n",
      "2  1.179833\n",
      "3  1.273777\n",
      "4  1.187689\n",
      "\n",
      " --- loop4 --- \n",
      "4    patient_id  appt_adhere\n",
      "0           0            1\n",
      "1           1            1\n",
      "2           2            0\n",
      "3           3            0\n",
      "4           4            1\n"
     ]
    },
    {
     "name": "stderr",
     "output_type": "stream",
     "text": [
      "Auto-assigning NUTS sampler...\n",
      "INFO:pymc3:Auto-assigning NUTS sampler...\n",
      "Initializing NUTS using jitter+adapt_diag...\n",
      "INFO:pymc3:Initializing NUTS using jitter+adapt_diag...\n",
      "Multiprocess sampling (4 chains in 4 jobs)\n",
      "INFO:pymc3:Multiprocess sampling (4 chains in 4 jobs)\n",
      "NUTS: [a]\n",
      "INFO:pymc3:NUTS: [a]\n",
      "Sampling 4 chains for 1_000 tune and 1_000 draw iterations (4_000 + 4_000 draws total) took 15 seconds.\n",
      "INFO:pymc3:Sampling 4 chains for 1_000 tune and 1_000 draw iterations (4_000 + 4_000 draws total) took 15 seconds.\n"
     ]
    },
    {
     "name": "stdout",
     "output_type": "stream",
     "text": [
      "          a\n",
      "0  1.311657\n",
      "1  1.323854\n",
      "2  1.311904\n",
      "3  1.345242\n",
      "4  1.409278\n",
      "\n"
     ]
    },
    {
     "data": {
      "application/javascript": "\n            setTimeout(function() {\n                var nbb_cell_id = 116;\n                var nbb_unformatted_code = \"# df_summaries_Sim1 = list()\\n# trace_posteriors_Sim1 = dict()\\n\\nfor i in range(5):\\n    print(f\\\" --- loop{i} --- \\\", end='\\\\n')\\n    alpha_i = stats.norm.rvs(\\n    loc=a_bar, scale=sd_pop, size=n_patients\\n    )\\n    prob_adhere_i = expit(alpha_i)\\n    appt_adhere_i = stats.bernoulli.rvs(p=prob_adhere_i)\\n\\n    df_Sim1_test = pd.DataFrame(\\n        {\\n            \\\"patient_id\\\": patient_id,\\n            \\\"appt_adhere\\\": appt_adhere_i,\\n        }\\n    )\\n\\n    print(i, df_Sim1_test.head(), end='\\\\n')\\n\\n    with pm.Model() as mSim1Ia_test:\\n        a = pm.Normal(\\\"a\\\", 1, 1.5)\\n        p = pm.math.invlogit(a)\\n        A = pm.Bernoulli(\\\"A\\\", p=p, observed=df_Sim1_test[\\\"appt_adhere\\\"])\\n        trace_mSim1Ia_test = pm.sample(\\n            draws=1000, return_inferencedata=False, progressbar=False\\n        )\\n        df_summary_mSim1Ia_test = az.summary(trace_mSim1Ia_test)\\n        trace_mSim1Ia_test_df = pm.trace_to_dataframe(trace_mSim1Ia_test)\\n\\n    print(trace_mSim1Ia_test_df.head(), end='\\\\n\\\\n')\\n        \";\n                var nbb_formatted_code = \"# df_summaries_Sim1 = list()\\n# trace_posteriors_Sim1 = dict()\\n\\nfor i in range(5):\\n    print(f\\\" --- loop{i} --- \\\", end=\\\"\\\\n\\\")\\n    alpha_i = stats.norm.rvs(loc=a_bar, scale=sd_pop, size=n_patients)\\n    prob_adhere_i = expit(alpha_i)\\n    appt_adhere_i = stats.bernoulli.rvs(p=prob_adhere_i)\\n\\n    df_Sim1_test = pd.DataFrame(\\n        {\\n            \\\"patient_id\\\": patient_id,\\n            \\\"appt_adhere\\\": appt_adhere_i,\\n        }\\n    )\\n\\n    print(i, df_Sim1_test.head(), end=\\\"\\\\n\\\")\\n\\n    with pm.Model() as mSim1Ia_test:\\n        a = pm.Normal(\\\"a\\\", 1, 1.5)\\n        p = pm.math.invlogit(a)\\n        A = pm.Bernoulli(\\\"A\\\", p=p, observed=df_Sim1_test[\\\"appt_adhere\\\"])\\n        trace_mSim1Ia_test = pm.sample(\\n            draws=1000, return_inferencedata=False, progressbar=False\\n        )\\n        df_summary_mSim1Ia_test = az.summary(trace_mSim1Ia_test)\\n        trace_mSim1Ia_test_df = pm.trace_to_dataframe(trace_mSim1Ia_test)\\n\\n    print(trace_mSim1Ia_test_df.head(), end=\\\"\\\\n\\\\n\\\")\";\n                var nbb_cells = Jupyter.notebook.get_cells();\n                for (var i = 0; i < nbb_cells.length; ++i) {\n                    if (nbb_cells[i].input_prompt_number == nbb_cell_id) {\n                        if (nbb_cells[i].get_text() == nbb_unformatted_code) {\n                             nbb_cells[i].set_text(nbb_formatted_code);\n                        }\n                        break;\n                    }\n                }\n            }, 500);\n            ",
      "text/plain": [
       "<IPython.core.display.Javascript object>"
      ]
     },
     "metadata": {},
     "output_type": "display_data"
    }
   ],
   "source": [
    "# df_summaries_Sim1 = list()\n",
    "# trace_posteriors_Sim1 = dict()\n",
    "\n",
    "for i in range(5):\n",
    "    print(f\" --- loop{i} --- \", end='\\n')\n",
    "    alpha_i = stats.norm.rvs(\n",
    "    loc=a_bar, scale=sd_pop, size=n_patients\n",
    "    )\n",
    "    prob_adhere_i = expit(alpha_i)\n",
    "    appt_adhere_i = stats.bernoulli.rvs(p=prob_adhere_i)\n",
    "\n",
    "    df_Sim1_test = pd.DataFrame(\n",
    "        {\n",
    "            \"patient_id\": patient_id,\n",
    "            \"appt_adhere\": appt_adhere_i,\n",
    "        }\n",
    "    )\n",
    "\n",
    "    print(i, df_Sim1_test.head(), end='\\n')\n",
    "\n",
    "    with pm.Model() as mSim1Ia_test:\n",
    "        a = pm.Normal(\"a\", 1, 1.5)\n",
    "        p = pm.math.invlogit(a)\n",
    "        A = pm.Bernoulli(\"A\", p=p, observed=df_Sim1_test[\"appt_adhere\"])\n",
    "        trace_mSim1Ia_test = pm.sample(\n",
    "            draws=1000, return_inferencedata=False, progressbar=False\n",
    "        )\n",
    "        df_summary_mSim1Ia_test = az.summary(trace_mSim1Ia_test)\n",
    "        trace_mSim1Ia_test_df = pm.trace_to_dataframe(trace_mSim1Ia_test)\n",
    "\n",
    "    print(trace_mSim1Ia_test_df.head(), end='\\n\\n')\n",
    "        "
   ]
  },
  {
   "cell_type": "code",
   "execution_count": 111,
   "id": "a7cb5303",
   "metadata": {},
   "outputs": [
    {
     "data": {
      "text/plain": [
       "<matplotlib.legend.Legend at 0x7fc1d2c9e3d0>"
      ]
     },
     "execution_count": 111,
     "metadata": {},
     "output_type": "execute_result"
    },
    {
     "data": {
      "image/png": "[encoded data removed]",
      "text/plain": [
       "<Figure size 720x432 with 1 Axes>"
      ]
     },
     "metadata": {
      "image/png": {
       "height": 440,
       "width": 728
      },
      "needs_background": "light"
     },
     "output_type": "display_data"
    },
    {
     "data": {
      "application/javascript": "\n            setTimeout(function() {\n                var nbb_cell_id = 111;\n                var nbb_unformatted_code = \"f, ax0 = plt.subplots(figsize=(10,6))\\nfor i in range(5):\\n    sns.kdeplot(trace_posteriors_Sim1[i]['a'], label=f'a_bar (est, {i})')\\n    # trace_posteriors_Sim1[i]['a'].head()\\n\\n# sns.kdeplot(alpha_i, c='red', label='alpha (individual)')\\nax0.axvline(a_bar, color='gray', linestyle='dashed', label='a_bar (true, data generating)')\\nax0.legend()\";\n                var nbb_formatted_code = \"f, ax0 = plt.subplots(figsize=(10, 6))\\nfor i in range(5):\\n    sns.kdeplot(trace_posteriors_Sim1[i][\\\"a\\\"], label=f\\\"a_bar (est, {i})\\\")\\n    # trace_posteriors_Sim1[i]['a'].head()\\n\\n# sns.kdeplot(alpha_i, c='red', label='alpha (individual)')\\nax0.axvline(\\n    a_bar, color=\\\"gray\\\", linestyle=\\\"dashed\\\", label=\\\"a_bar (true, data generating)\\\"\\n)\\nax0.legend()\";\n                var nbb_cells = Jupyter.notebook.get_cells();\n                for (var i = 0; i < nbb_cells.length; ++i) {\n                    if (nbb_cells[i].input_prompt_number == nbb_cell_id) {\n                        if (nbb_cells[i].get_text() == nbb_unformatted_code) {\n                             nbb_cells[i].set_text(nbb_formatted_code);\n                        }\n                        break;\n                    }\n                }\n            }, 500);\n            ",
      "text/plain": [
       "<IPython.core.display.Javascript object>"
      ]
     },
     "metadata": {},
     "output_type": "display_data"
    }
   ],
   "source": [
    "f, ax0 = plt.subplots(figsize=(10,6))\n",
    "for i in range(5):\n",
    "    sns.kdeplot(trace_posteriors_Sim1[i]['a'], label=f'a_bar (est, {i})')\n",
    "    # trace_posteriors_Sim1[i]['a'].head()\n",
    "\n",
    "# sns.kdeplot(alpha_i, c='red', label='alpha (individual)')\n",
    "ax0.axvline(a_bar, color='gray', linestyle='dashed', label='a_bar (true, data generating)')\n",
    "ax0.legend()"
   ]
  },
  {
   "cell_type": "code",
   "execution_count": null,
   "id": "e024fb4d",
   "metadata": {},
   "outputs": [],
   "source": [
    "for i in range(5):\n",
    "    trace_posteriors_Sim1[i]['a']"
   ]
  },
  {
   "cell_type": "code",
   "execution_count": null,
   "id": "5b70c636",
   "metadata": {},
   "outputs": [],
   "source": []
  },
  {
   "cell_type": "markdown",
   "id": "d8c30a8d",
   "metadata": {},
   "source": [
    "- The same observation from a smaller number of patients\n",
    "    - Fixed prior\n",
    "    - Adaptive prior"
   ]
  },
  {
   "cell_type": "code",
   "execution_count": null,
   "id": "8a60b901",
   "metadata": {},
   "outputs": [],
   "source": []
  },
  {
   "cell_type": "code",
   "execution_count": null,
   "metadata": {},
   "outputs": [],
   "source": []
  },
  {
   "cell_type": "code",
   "execution_count": null,
   "id": "8c8f58ee",
   "metadata": {},
   "outputs": [],
   "source": []
  },
  {
   "cell_type": "code",
   "execution_count": null,
   "metadata": {},
   "outputs": [],
   "source": []
  },
  {
   "cell_type": "code",
   "execution_count": null,
   "id": "d2546ace",
   "metadata": {},
   "outputs": [],
   "source": []
  },
  {
   "cell_type": "code",
   "execution_count": null,
   "id": "926867c7",
   "metadata": {},
   "outputs": [],
   "source": []
  },
  {
   "cell_type": "code",
   "execution_count": null,
   "id": "2f6945c8",
   "metadata": {},
   "outputs": [],
   "source": []
  },
  {
   "cell_type": "markdown",
   "id": "a67d5413",
   "metadata": {},
   "source": [
    "# Dataset with different individuals and two characteristics"
   ]
  },
  {
   "cell_type": "code",
   "execution_count": 17,
   "id": "03672612",
   "metadata": {},
   "outputs": [
    {
     "data": {
      "application/javascript": "\n            setTimeout(function() {\n                var nbb_cell_id = 17;\n                var nbb_unformatted_code = \"# create patient ids\\npid = np.concatenate([[i]*np.random.randint(1,10) for i in range(6)])\\n# assign jobs\\njobs = ['teacher', 'driver', 'cook']\\nocc = list()\\nfor id in range(len(pid)):\\n    job = np.random.choice(jobs)\\n    occ += [job] * (pid == id).sum()\\n\\n# assign insurance\\nins = ['private', 'public']\\nins_type = list()\\nfor id in range(len(pid)):\\n    ins_type += [np.random.choice(ins)] * (pid == id).sum()\\n\\n# assign adherence which is a function of occupation and insurance type\\nb_jobs_sim = {'teacher':0.75, 'driver':0.5, 'cook':0.25}\\nb_ins_sim = {'private':1, 'public':0.5}\\nmu = np.array([b_jobs_sim[job] for job in occ]) + np.array([b_ins_sim[i] for i in ins_type])\\na = stats.binom.rvs(n=1, p=expit(mu))\";\n                var nbb_formatted_code = \"# create patient ids\\npid = np.concatenate([[i] * np.random.randint(1, 10) for i in range(6)])\\n# assign jobs\\njobs = [\\\"teacher\\\", \\\"driver\\\", \\\"cook\\\"]\\nocc = list()\\nfor id in range(len(pid)):\\n    job = np.random.choice(jobs)\\n    occ += [job] * (pid == id).sum()\\n\\n# assign insurance\\nins = [\\\"private\\\", \\\"public\\\"]\\nins_type = list()\\nfor id in range(len(pid)):\\n    ins_type += [np.random.choice(ins)] * (pid == id).sum()\\n\\n# assign adherence which is a function of occupation and insurance type\\nb_jobs_sim = {\\\"teacher\\\": 0.75, \\\"driver\\\": 0.5, \\\"cook\\\": 0.25}\\nb_ins_sim = {\\\"private\\\": 1, \\\"public\\\": 0.5}\\nmu = np.array([b_jobs_sim[job] for job in occ]) + np.array(\\n    [b_ins_sim[i] for i in ins_type]\\n)\\na = stats.binom.rvs(n=1, p=expit(mu))\";\n                var nbb_cells = Jupyter.notebook.get_cells();\n                for (var i = 0; i < nbb_cells.length; ++i) {\n                    if (nbb_cells[i].input_prompt_number == nbb_cell_id) {\n                        if (nbb_cells[i].get_text() == nbb_unformatted_code) {\n                             nbb_cells[i].set_text(nbb_formatted_code);\n                        }\n                        break;\n                    }\n                }\n            }, 500);\n            ",
      "text/plain": [
       "<IPython.core.display.Javascript object>"
      ]
     },
     "metadata": {},
     "output_type": "display_data"
    }
   ],
   "source": [
    "# create patient ids\n",
    "pid = np.concatenate([[i] * np.random.randint(1, 10) for i in range(6)])\n",
    "# assign jobs\n",
    "jobs = [\"teacher\", \"driver\", \"cook\"]\n",
    "occ = list()\n",
    "for id in range(len(pid)):\n",
    "    job = np.random.choice(jobs)\n",
    "    occ += [job] * (pid == id).sum()\n",
    "\n",
    "# assign insurance\n",
    "ins = [\"private\", \"public\"]\n",
    "ins_type = list()\n",
    "for id in range(len(pid)):\n",
    "    ins_type += [np.random.choice(ins)] * (pid == id).sum()\n",
    "\n",
    "# assign adherence which is a function of occupation and insurance type\n",
    "b_jobs_sim = {\"teacher\": 0.75, \"driver\": 0.5, \"cook\": 0.25}\n",
    "b_ins_sim = {\"private\": 1, \"public\": 0.5}\n",
    "mu = np.array([b_jobs_sim[job] for job in occ]) + np.array(\n",
    "    [b_ins_sim[i] for i in ins_type]\n",
    ")\n",
    "a = stats.binom.rvs(n=1, p=expit(mu))\n"
   ]
  },
  {
   "cell_type": "code",
   "execution_count": 43,
   "id": "5543ee9a",
   "metadata": {},
   "outputs": [
    {
     "data": {
      "text/plain": [
       "<matplotlib.axes._axes.Axes at 0x7f8b21e66040>"
      ]
     },
     "execution_count": 43,
     "metadata": {},
     "output_type": "execute_result"
    },
    {
     "name": "stderr",
     "output_type": "stream",
     "text": [
      "/Users/blacar/opt/anaconda3/envs/stats_rethinking/lib/python3.8/site-packages/IPython/core/pylabtools.py:132: UserWarning: Calling figure.constrained_layout, but figure not setup to do constrained layout.  You either called GridSpec without the fig keyword, you are using plt.subplot, or you need to call figure or subplots with the constrained_layout=True kwarg.\n",
      "  fig.canvas.print_figure(bytes_io, **kw)\n"
     ]
    },
    {
     "data": {
      "image/png": "[encoded data removed]",
      "text/plain": [
       "<Figure size 133.858x133.858 with 1 Axes>"
      ]
     },
     "metadata": {
      "image/png": {
       "height": 153,
       "width": 153
      }
     },
     "output_type": "display_data"
    },
    {
     "data": {
      "application/javascript": "\n            setTimeout(function() {\n                var nbb_cell_id = 43;\n                var nbb_unformatted_code = \"dag = CausalGraphicalModel(\\n    nodes=[\\\"P\\\", \\\"I\\\", \\\"O\\\", \\\"A\\\"],\\n    edges=[\\n        (\\\"P\\\", \\\"A\\\"),\\n        (\\\"I\\\", \\\"A\\\"),\\n        (\\\"O\\\", \\\"A\\\"),\\n    ],\\n)\\npgm = daft.PGM()\\ncoordinates = {\\n    \\\"P\\\": (0, 0),\\n    \\\"I\\\": (0, 1),\\n    \\\"O\\\": (1, 1),\\n    \\\"A\\\": (1, 0),\\n}\\nfor node in dag.dag.nodes:\\n    pgm.add_node(node, node, *coordinates[node])\\nfor edge in dag.dag.edges:\\n    pgm.add_edge(*edge)\\n\\npgm.render()\";\n                var nbb_formatted_code = \"dag = CausalGraphicalModel(\\n    nodes=[\\\"P\\\", \\\"I\\\", \\\"O\\\", \\\"A\\\"],\\n    edges=[\\n        (\\\"P\\\", \\\"A\\\"),\\n        (\\\"I\\\", \\\"A\\\"),\\n        (\\\"O\\\", \\\"A\\\"),\\n    ],\\n)\\npgm = daft.PGM()\\ncoordinates = {\\n    \\\"P\\\": (0, 0),\\n    \\\"I\\\": (0, 1),\\n    \\\"O\\\": (1, 1),\\n    \\\"A\\\": (1, 0),\\n}\\nfor node in dag.dag.nodes:\\n    pgm.add_node(node, node, *coordinates[node])\\nfor edge in dag.dag.edges:\\n    pgm.add_edge(*edge)\\n\\npgm.render()\";\n                var nbb_cells = Jupyter.notebook.get_cells();\n                for (var i = 0; i < nbb_cells.length; ++i) {\n                    if (nbb_cells[i].input_prompt_number == nbb_cell_id) {\n                        if (nbb_cells[i].get_text() == nbb_unformatted_code) {\n                             nbb_cells[i].set_text(nbb_formatted_code);\n                        }\n                        break;\n                    }\n                }\n            }, 500);\n            ",
      "text/plain": [
       "<IPython.core.display.Javascript object>"
      ]
     },
     "metadata": {},
     "output_type": "display_data"
    }
   ],
   "source": [
    "dag = CausalGraphicalModel(\n",
    "    nodes=[\"P\", \"I\", \"O\", \"A\"],\n",
    "    edges=[\n",
    "        (\"P\", \"A\"),\n",
    "        (\"I\", \"A\"),\n",
    "        (\"O\", \"A\"),\n",
    "    ],\n",
    ")\n",
    "pgm = daft.PGM()\n",
    "coordinates = {\n",
    "    \"P\": (0, 0),\n",
    "    \"I\": (0, 1),\n",
    "    \"O\": (1, 1),\n",
    "    \"A\": (1, 0),\n",
    "}\n",
    "for node in dag.dag.nodes:\n",
    "    pgm.add_node(node, node, *coordinates[node])\n",
    "for edge in dag.dag.edges:\n",
    "    pgm.add_edge(*edge)\n",
    "\n",
    "pgm.render()\n"
   ]
  },
  {
   "cell_type": "code",
   "execution_count": 19,
   "id": "b5d7ace4",
   "metadata": {},
   "outputs": [
    {
     "data": {
      "text/html": [
       "<div>\n",
       "<style scoped>\n",
       "    .dataframe tbody tr th:only-of-type {\n",
       "        vertical-align: middle;\n",
       "    }\n",
       "\n",
       "    .dataframe tbody tr th {\n",
       "        vertical-align: top;\n",
       "    }\n",
       "\n",
       "    .dataframe thead th {\n",
       "        text-align: right;\n",
       "    }\n",
       "</style>\n",
       "<table border=\"1\" class=\"dataframe\">\n",
       "  <thead>\n",
       "    <tr style=\"text-align: right;\">\n",
       "      <th></th>\n",
       "      <th>patient_id</th>\n",
       "      <th>occupation</th>\n",
       "      <th>insurance</th>\n",
       "      <th>mu</th>\n",
       "      <th>adherence</th>\n",
       "    </tr>\n",
       "  </thead>\n",
       "  <tbody>\n",
       "    <tr>\n",
       "      <th>0</th>\n",
       "      <td>0</td>\n",
       "      <td>cook</td>\n",
       "      <td>private</td>\n",
       "      <td>0.777300</td>\n",
       "      <td>1</td>\n",
       "    </tr>\n",
       "    <tr>\n",
       "      <th>1</th>\n",
       "      <td>0</td>\n",
       "      <td>cook</td>\n",
       "      <td>private</td>\n",
       "      <td>0.777300</td>\n",
       "      <td>1</td>\n",
       "    </tr>\n",
       "    <tr>\n",
       "      <th>2</th>\n",
       "      <td>0</td>\n",
       "      <td>cook</td>\n",
       "      <td>private</td>\n",
       "      <td>0.777300</td>\n",
       "      <td>0</td>\n",
       "    </tr>\n",
       "    <tr>\n",
       "      <th>3</th>\n",
       "      <td>0</td>\n",
       "      <td>cook</td>\n",
       "      <td>private</td>\n",
       "      <td>0.777300</td>\n",
       "      <td>1</td>\n",
       "    </tr>\n",
       "    <tr>\n",
       "      <th>4</th>\n",
       "      <td>0</td>\n",
       "      <td>cook</td>\n",
       "      <td>private</td>\n",
       "      <td>0.777300</td>\n",
       "      <td>1</td>\n",
       "    </tr>\n",
       "    <tr>\n",
       "      <th>5</th>\n",
       "      <td>1</td>\n",
       "      <td>cook</td>\n",
       "      <td>private</td>\n",
       "      <td>0.777300</td>\n",
       "      <td>1</td>\n",
       "    </tr>\n",
       "    <tr>\n",
       "      <th>6</th>\n",
       "      <td>1</td>\n",
       "      <td>cook</td>\n",
       "      <td>private</td>\n",
       "      <td>0.777300</td>\n",
       "      <td>1</td>\n",
       "    </tr>\n",
       "    <tr>\n",
       "      <th>7</th>\n",
       "      <td>1</td>\n",
       "      <td>cook</td>\n",
       "      <td>private</td>\n",
       "      <td>0.777300</td>\n",
       "      <td>1</td>\n",
       "    </tr>\n",
       "    <tr>\n",
       "      <th>8</th>\n",
       "      <td>2</td>\n",
       "      <td>cook</td>\n",
       "      <td>private</td>\n",
       "      <td>0.777300</td>\n",
       "      <td>0</td>\n",
       "    </tr>\n",
       "    <tr>\n",
       "      <th>9</th>\n",
       "      <td>2</td>\n",
       "      <td>cook</td>\n",
       "      <td>private</td>\n",
       "      <td>0.777300</td>\n",
       "      <td>1</td>\n",
       "    </tr>\n",
       "    <tr>\n",
       "      <th>10</th>\n",
       "      <td>2</td>\n",
       "      <td>cook</td>\n",
       "      <td>private</td>\n",
       "      <td>0.777300</td>\n",
       "      <td>0</td>\n",
       "    </tr>\n",
       "    <tr>\n",
       "      <th>11</th>\n",
       "      <td>2</td>\n",
       "      <td>cook</td>\n",
       "      <td>private</td>\n",
       "      <td>0.777300</td>\n",
       "      <td>0</td>\n",
       "    </tr>\n",
       "    <tr>\n",
       "      <th>12</th>\n",
       "      <td>2</td>\n",
       "      <td>cook</td>\n",
       "      <td>private</td>\n",
       "      <td>0.777300</td>\n",
       "      <td>1</td>\n",
       "    </tr>\n",
       "    <tr>\n",
       "      <th>13</th>\n",
       "      <td>2</td>\n",
       "      <td>cook</td>\n",
       "      <td>private</td>\n",
       "      <td>0.777300</td>\n",
       "      <td>1</td>\n",
       "    </tr>\n",
       "    <tr>\n",
       "      <th>14</th>\n",
       "      <td>2</td>\n",
       "      <td>cook</td>\n",
       "      <td>private</td>\n",
       "      <td>0.777300</td>\n",
       "      <td>1</td>\n",
       "    </tr>\n",
       "    <tr>\n",
       "      <th>15</th>\n",
       "      <td>2</td>\n",
       "      <td>cook</td>\n",
       "      <td>private</td>\n",
       "      <td>0.777300</td>\n",
       "      <td>1</td>\n",
       "    </tr>\n",
       "    <tr>\n",
       "      <th>16</th>\n",
       "      <td>2</td>\n",
       "      <td>cook</td>\n",
       "      <td>private</td>\n",
       "      <td>0.777300</td>\n",
       "      <td>0</td>\n",
       "    </tr>\n",
       "    <tr>\n",
       "      <th>17</th>\n",
       "      <td>3</td>\n",
       "      <td>driver</td>\n",
       "      <td>public</td>\n",
       "      <td>0.731059</td>\n",
       "      <td>1</td>\n",
       "    </tr>\n",
       "    <tr>\n",
       "      <th>18</th>\n",
       "      <td>3</td>\n",
       "      <td>driver</td>\n",
       "      <td>public</td>\n",
       "      <td>0.731059</td>\n",
       "      <td>1</td>\n",
       "    </tr>\n",
       "    <tr>\n",
       "      <th>19</th>\n",
       "      <td>4</td>\n",
       "      <td>cook</td>\n",
       "      <td>public</td>\n",
       "      <td>0.679179</td>\n",
       "      <td>1</td>\n",
       "    </tr>\n",
       "    <tr>\n",
       "      <th>20</th>\n",
       "      <td>4</td>\n",
       "      <td>cook</td>\n",
       "      <td>public</td>\n",
       "      <td>0.679179</td>\n",
       "      <td>1</td>\n",
       "    </tr>\n",
       "    <tr>\n",
       "      <th>21</th>\n",
       "      <td>4</td>\n",
       "      <td>cook</td>\n",
       "      <td>public</td>\n",
       "      <td>0.679179</td>\n",
       "      <td>1</td>\n",
       "    </tr>\n",
       "    <tr>\n",
       "      <th>22</th>\n",
       "      <td>4</td>\n",
       "      <td>cook</td>\n",
       "      <td>public</td>\n",
       "      <td>0.679179</td>\n",
       "      <td>1</td>\n",
       "    </tr>\n",
       "    <tr>\n",
       "      <th>23</th>\n",
       "      <td>4</td>\n",
       "      <td>cook</td>\n",
       "      <td>public</td>\n",
       "      <td>0.679179</td>\n",
       "      <td>1</td>\n",
       "    </tr>\n",
       "    <tr>\n",
       "      <th>24</th>\n",
       "      <td>4</td>\n",
       "      <td>cook</td>\n",
       "      <td>public</td>\n",
       "      <td>0.679179</td>\n",
       "      <td>0</td>\n",
       "    </tr>\n",
       "    <tr>\n",
       "      <th>25</th>\n",
       "      <td>4</td>\n",
       "      <td>cook</td>\n",
       "      <td>public</td>\n",
       "      <td>0.679179</td>\n",
       "      <td>0</td>\n",
       "    </tr>\n",
       "    <tr>\n",
       "      <th>26</th>\n",
       "      <td>4</td>\n",
       "      <td>cook</td>\n",
       "      <td>public</td>\n",
       "      <td>0.679179</td>\n",
       "      <td>1</td>\n",
       "    </tr>\n",
       "    <tr>\n",
       "      <th>27</th>\n",
       "      <td>5</td>\n",
       "      <td>teacher</td>\n",
       "      <td>public</td>\n",
       "      <td>0.777300</td>\n",
       "      <td>1</td>\n",
       "    </tr>\n",
       "    <tr>\n",
       "      <th>28</th>\n",
       "      <td>5</td>\n",
       "      <td>teacher</td>\n",
       "      <td>public</td>\n",
       "      <td>0.777300</td>\n",
       "      <td>1</td>\n",
       "    </tr>\n",
       "    <tr>\n",
       "      <th>29</th>\n",
       "      <td>5</td>\n",
       "      <td>teacher</td>\n",
       "      <td>public</td>\n",
       "      <td>0.777300</td>\n",
       "      <td>0</td>\n",
       "    </tr>\n",
       "    <tr>\n",
       "      <th>30</th>\n",
       "      <td>5</td>\n",
       "      <td>teacher</td>\n",
       "      <td>public</td>\n",
       "      <td>0.777300</td>\n",
       "      <td>1</td>\n",
       "    </tr>\n",
       "    <tr>\n",
       "      <th>31</th>\n",
       "      <td>5</td>\n",
       "      <td>teacher</td>\n",
       "      <td>public</td>\n",
       "      <td>0.777300</td>\n",
       "      <td>1</td>\n",
       "    </tr>\n",
       "    <tr>\n",
       "      <th>32</th>\n",
       "      <td>5</td>\n",
       "      <td>teacher</td>\n",
       "      <td>public</td>\n",
       "      <td>0.777300</td>\n",
       "      <td>1</td>\n",
       "    </tr>\n",
       "    <tr>\n",
       "      <th>33</th>\n",
       "      <td>5</td>\n",
       "      <td>teacher</td>\n",
       "      <td>public</td>\n",
       "      <td>0.777300</td>\n",
       "      <td>0</td>\n",
       "    </tr>\n",
       "    <tr>\n",
       "      <th>34</th>\n",
       "      <td>5</td>\n",
       "      <td>teacher</td>\n",
       "      <td>public</td>\n",
       "      <td>0.777300</td>\n",
       "      <td>0</td>\n",
       "    </tr>\n",
       "  </tbody>\n",
       "</table>\n",
       "</div>"
      ],
      "text/plain": [
       "    patient_id occupation insurance        mu  adherence\n",
       "0            0       cook   private  0.777300          1\n",
       "1            0       cook   private  0.777300          1\n",
       "2            0       cook   private  0.777300          0\n",
       "3            0       cook   private  0.777300          1\n",
       "4            0       cook   private  0.777300          1\n",
       "5            1       cook   private  0.777300          1\n",
       "6            1       cook   private  0.777300          1\n",
       "7            1       cook   private  0.777300          1\n",
       "8            2       cook   private  0.777300          0\n",
       "9            2       cook   private  0.777300          1\n",
       "10           2       cook   private  0.777300          0\n",
       "11           2       cook   private  0.777300          0\n",
       "12           2       cook   private  0.777300          1\n",
       "13           2       cook   private  0.777300          1\n",
       "14           2       cook   private  0.777300          1\n",
       "15           2       cook   private  0.777300          1\n",
       "16           2       cook   private  0.777300          0\n",
       "17           3     driver    public  0.731059          1\n",
       "18           3     driver    public  0.731059          1\n",
       "19           4       cook    public  0.679179          1\n",
       "20           4       cook    public  0.679179          1\n",
       "21           4       cook    public  0.679179          1\n",
       "22           4       cook    public  0.679179          1\n",
       "23           4       cook    public  0.679179          1\n",
       "24           4       cook    public  0.679179          0\n",
       "25           4       cook    public  0.679179          0\n",
       "26           4       cook    public  0.679179          1\n",
       "27           5    teacher    public  0.777300          1\n",
       "28           5    teacher    public  0.777300          1\n",
       "29           5    teacher    public  0.777300          0\n",
       "30           5    teacher    public  0.777300          1\n",
       "31           5    teacher    public  0.777300          1\n",
       "32           5    teacher    public  0.777300          1\n",
       "33           5    teacher    public  0.777300          0\n",
       "34           5    teacher    public  0.777300          0"
      ]
     },
     "execution_count": 19,
     "metadata": {},
     "output_type": "execute_result"
    },
    {
     "data": {
      "application/javascript": "\n            setTimeout(function() {\n                var nbb_cell_id = 19;\n                var nbb_unformatted_code = \"df_example = pd.DataFrame({\\n    \\\"patient_id\\\": pid,\\n    \\\"occupation\\\" : occ,\\n    \\\"insurance\\\" : ins_type,\\n    \\\"mu\\\" : expit(mu),\\n    \\\"adherence\\\" : a\\n})\\ndf_example\";\n                var nbb_formatted_code = \"df_example = pd.DataFrame(\\n    {\\n        \\\"patient_id\\\": pid,\\n        \\\"occupation\\\": occ,\\n        \\\"insurance\\\": ins_type,\\n        \\\"mu\\\": expit(mu),\\n        \\\"adherence\\\": a,\\n    }\\n)\\ndf_example\";\n                var nbb_cells = Jupyter.notebook.get_cells();\n                for (var i = 0; i < nbb_cells.length; ++i) {\n                    if (nbb_cells[i].input_prompt_number == nbb_cell_id) {\n                        if (nbb_cells[i].get_text() == nbb_unformatted_code) {\n                             nbb_cells[i].set_text(nbb_formatted_code);\n                        }\n                        break;\n                    }\n                }\n            }, 500);\n            ",
      "text/plain": [
       "<IPython.core.display.Javascript object>"
      ]
     },
     "metadata": {},
     "output_type": "display_data"
    }
   ],
   "source": [
    "df_example = pd.DataFrame(\n",
    "    {\n",
    "        \"patient_id\": pid,\n",
    "        \"occupation\": occ,\n",
    "        \"insurance\": ins_type,\n",
    "        \"mu\": expit(mu),\n",
    "        \"adherence\": a,\n",
    "    }\n",
    ")\n",
    "df_example\n"
   ]
  },
  {
   "cell_type": "markdown",
   "id": "e7bb9889",
   "metadata": {},
   "source": [
    "<center>\n",
    "Model 1\n",
    "</center>\n",
    "<br>\n",
    "\n",
    "$$ A \\sim \\text{Bernoulli}(p_i) $$\n",
    "$$ \\text{logit}(p_i) = \\alpha_{\\text{occ}} $$\n",
    "$$ \\alpha_j \\sim \\text{Normal}(\\bar{\\alpha}, \\sigma) $$\n",
    "$$ \\bar{\\alpha} \\sim \\text{Normal}(0, 1.5) $$\n",
    "$$ \\sigma \\sim \\text{Exponential}(1) $$"
   ]
  },
  {
   "cell_type": "markdown",
   "id": "929aa820",
   "metadata": {},
   "source": [
    "Questions\n",
    "- Let's assume the estimand is the effect of occupation on adherence. How do I deal with repeated observations from a given patient? Some patients have more appointments than others. Some patients have more appointments than others and so there will be variability in the occupations represented.\n",
    "    - Put an alpha parameter for each patient id. `Sigma` will be like an encapsulation of all the variation not explained by other parameters. That is model 1b.\n",
    "- If I had another column (insurance type).\n",
    "    - Is insurance treated as another cluster or is it a feature of the patient cluster?\n",
    "- Should I pool treatments?\n",
    "    - If they have the same prior, then it's usually better to learn the prior from the sample and partially pool.\n",
    "\n",
    "- When adding features within a cluster, you'd want to use one population prior but expand dimensionality (e.g. using a MVN prior)."
   ]
  },
  {
   "cell_type": "markdown",
   "id": "f01dac04",
   "metadata": {},
   "source": [
    "Let's look at a few models:\n",
    "- insurance only (fixed prior)\n",
    "- patient only (heirarchical)\n",
    "- patient (heirarchical) and insurance( fixed)\n",
    "- patient (heirarchical), insurance( f), job(f)\n",
    "\n",
    "<center>\n",
    "Model 1\n",
    "</center>\n",
    "\n",
    "$$ A \\sim \\text{Bernoulli}(p_i) $$\n",
    "$$ \\text{logit}(p_i) = \\gamma_{\\text{ins}} $$\n",
    "$$ \\gamma_j \\sim \\text{Normal}(0, 1.5) $$\n",
    "<br>\n",
    "\n",
    "<center>\n",
    "Model 2\n",
    "</center>\n",
    "\n",
    "$$ A \\sim \\text{Bernoulli}(p_i) $$\n",
    "$$ \\text{logit}(p_i) = \\alpha_{\\text{patient}} $$\n",
    "$$ \\alpha_j \\sim \\text{Normal}(\\bar{\\alpha}, \\sigma) $$\n",
    "$$ \\bar{\\alpha} \\sim \\text{Normal}(0, 1.5) $$\n",
    "$$ \\sigma \\sim \\text{Exponential}(1) $$\n",
    "<br>\n",
    "\n",
    "<center>\n",
    "Model 3\n",
    "</center>\n",
    "\n",
    "$$ A \\sim \\text{Bernoulli}(p_i) $$\n",
    "$$ \\text{logit}(p_i) = \\alpha_{\\text{patient}} + \\gamma_{\\text{ins}} $$\n",
    "$$ \\alpha_j \\sim \\text{Normal}(\\bar{\\alpha}, \\sigma) $$\n",
    "$$ \\bar{\\alpha} \\sim \\text{Normal}(0, 1.5) $$\n",
    "$$ \\sigma \\sim \\text{Exponential}(1) $$\n",
    "$$ \\gamma_j \\sim \\text{Normal}(0, 1.5) $$\n",
    "\n",
    "<br>\n",
    "<center>\n",
    "Model 4\n",
    "</center>\n",
    "\n",
    "$$ A \\sim \\text{Bernoulli}(p_i) $$\n",
    "$$ \\text{logit}(p_i) = \\alpha_{\\text{patient}} + \\gamma_{\\text{ins}} + \\delta_{\\text{occ}} $$\n",
    "$$ \\alpha_j \\sim \\text{Normal}(\\bar{\\alpha}, \\sigma) $$\n",
    "$$ \\bar{\\alpha} \\sim \\text{Normal}(0, 1.5) $$\n",
    "$$ \\sigma \\sim \\text{Exponential}(1) $$\n",
    "$$ \\gamma_j \\sim \\text{Normal}(0, 1.5) $$\n",
    "$$ \\delta_k \\sim \\text{Normal}(0, 1.5) $$"
   ]
  },
  {
   "cell_type": "code",
   "execution_count": 22,
   "id": "c15f9e11",
   "metadata": {},
   "outputs": [
    {
     "data": {
      "text/html": [
       "<div>\n",
       "<style scoped>\n",
       "    .dataframe tbody tr th:only-of-type {\n",
       "        vertical-align: middle;\n",
       "    }\n",
       "\n",
       "    .dataframe tbody tr th {\n",
       "        vertical-align: top;\n",
       "    }\n",
       "\n",
       "    .dataframe thead th {\n",
       "        text-align: right;\n",
       "    }\n",
       "</style>\n",
       "<table border=\"1\" class=\"dataframe\">\n",
       "  <thead>\n",
       "    <tr style=\"text-align: right;\">\n",
       "      <th></th>\n",
       "      <th>patient_id</th>\n",
       "      <th>occupation</th>\n",
       "      <th>insurance</th>\n",
       "      <th>mu</th>\n",
       "      <th>adherence</th>\n",
       "      <th>occ_code</th>\n",
       "      <th>ins_code</th>\n",
       "    </tr>\n",
       "  </thead>\n",
       "  <tbody>\n",
       "    <tr>\n",
       "      <th>0</th>\n",
       "      <td>0</td>\n",
       "      <td>cook</td>\n",
       "      <td>private</td>\n",
       "      <td>0.7773</td>\n",
       "      <td>1</td>\n",
       "      <td>0</td>\n",
       "      <td>0</td>\n",
       "    </tr>\n",
       "    <tr>\n",
       "      <th>1</th>\n",
       "      <td>0</td>\n",
       "      <td>cook</td>\n",
       "      <td>private</td>\n",
       "      <td>0.7773</td>\n",
       "      <td>1</td>\n",
       "      <td>0</td>\n",
       "      <td>0</td>\n",
       "    </tr>\n",
       "    <tr>\n",
       "      <th>2</th>\n",
       "      <td>0</td>\n",
       "      <td>cook</td>\n",
       "      <td>private</td>\n",
       "      <td>0.7773</td>\n",
       "      <td>0</td>\n",
       "      <td>0</td>\n",
       "      <td>0</td>\n",
       "    </tr>\n",
       "    <tr>\n",
       "      <th>3</th>\n",
       "      <td>0</td>\n",
       "      <td>cook</td>\n",
       "      <td>private</td>\n",
       "      <td>0.7773</td>\n",
       "      <td>1</td>\n",
       "      <td>0</td>\n",
       "      <td>0</td>\n",
       "    </tr>\n",
       "    <tr>\n",
       "      <th>4</th>\n",
       "      <td>0</td>\n",
       "      <td>cook</td>\n",
       "      <td>private</td>\n",
       "      <td>0.7773</td>\n",
       "      <td>1</td>\n",
       "      <td>0</td>\n",
       "      <td>0</td>\n",
       "    </tr>\n",
       "  </tbody>\n",
       "</table>\n",
       "</div>"
      ],
      "text/plain": [
       "   patient_id occupation insurance      mu  adherence  occ_code  ins_code\n",
       "0           0       cook   private  0.7773          1         0         0\n",
       "1           0       cook   private  0.7773          1         0         0\n",
       "2           0       cook   private  0.7773          0         0         0\n",
       "3           0       cook   private  0.7773          1         0         0\n",
       "4           0       cook   private  0.7773          1         0         0"
      ]
     },
     "execution_count": 22,
     "metadata": {},
     "output_type": "execute_result"
    },
    {
     "data": {
      "application/javascript": "\n            setTimeout(function() {\n                var nbb_cell_id = 22;\n                var nbb_unformatted_code = \"df_example['ins_code'] = pd.Categorical(df_example['insurance']).codes\\ndf_example.head()\";\n                var nbb_formatted_code = \"df_example[\\\"ins_code\\\"] = pd.Categorical(df_example[\\\"insurance\\\"]).codes\\ndf_example.head()\";\n                var nbb_cells = Jupyter.notebook.get_cells();\n                for (var i = 0; i < nbb_cells.length; ++i) {\n                    if (nbb_cells[i].input_prompt_number == nbb_cell_id) {\n                        if (nbb_cells[i].get_text() == nbb_unformatted_code) {\n                             nbb_cells[i].set_text(nbb_formatted_code);\n                        }\n                        break;\n                    }\n                }\n            }, 500);\n            ",
      "text/plain": [
       "<IPython.core.display.Javascript object>"
      ]
     },
     "metadata": {},
     "output_type": "display_data"
    }
   ],
   "source": [
    "df_example[\"ins_code\"] = pd.Categorical(df_example[\"insurance\"]).codes\n",
    "df_example.head()\n"
   ]
  },
  {
   "cell_type": "code",
   "execution_count": 23,
   "id": "8cca670e",
   "metadata": {},
   "outputs": [
    {
     "data": {
      "text/plain": [
       "array([0, 1], dtype=int8)"
      ]
     },
     "execution_count": 23,
     "metadata": {},
     "output_type": "execute_result"
    },
    {
     "data": {
      "application/javascript": "\n            setTimeout(function() {\n                var nbb_cell_id = 23;\n                var nbb_unformatted_code = \"df_example['ins_code'].unique()\";\n                var nbb_formatted_code = \"df_example[\\\"ins_code\\\"].unique()\";\n                var nbb_cells = Jupyter.notebook.get_cells();\n                for (var i = 0; i < nbb_cells.length; ++i) {\n                    if (nbb_cells[i].input_prompt_number == nbb_cell_id) {\n                        if (nbb_cells[i].get_text() == nbb_unformatted_code) {\n                             nbb_cells[i].set_text(nbb_formatted_code);\n                        }\n                        break;\n                    }\n                }\n            }, 500);\n            ",
      "text/plain": [
       "<IPython.core.display.Javascript object>"
      ]
     },
     "metadata": {},
     "output_type": "display_data"
    }
   ],
   "source": [
    "df_example[\"ins_code\"].unique()\n"
   ]
  },
  {
   "cell_type": "code",
   "execution_count": 25,
   "id": "519ecfe5",
   "metadata": {},
   "outputs": [
    {
     "name": "stderr",
     "output_type": "stream",
     "text": [
      "Auto-assigning NUTS sampler...\n",
      "INFO:pymc3:Auto-assigning NUTS sampler...\n",
      "Initializing NUTS using jitter+adapt_diag...\n",
      "INFO:pymc3:Initializing NUTS using jitter+adapt_diag...\n",
      "Multiprocess sampling (4 chains in 4 jobs)\n",
      "INFO:pymc3:Multiprocess sampling (4 chains in 4 jobs)\n",
      "NUTS: [g]\n",
      "INFO:pymc3:NUTS: [g]\n",
      "Sampling 4 chains for 1_000 tune and 1_000 draw iterations (4_000 + 4_000 draws total) took 22 seconds.\n",
      "INFO:pymc3:Sampling 4 chains for 1_000 tune and 1_000 draw iterations (4_000 + 4_000 draws total) took 22 seconds.\n"
     ]
    },
    {
     "data": {
      "application/javascript": "\n            setTimeout(function() {\n                var nbb_cell_id = 25;\n                var nbb_unformatted_code = \"# insurance only\\nwith pm.Model() as mSim1:\\n\\n    # fixed prior for insurance\\n    g = pm.Normal(\\\"g\\\", 0.0, 1.5, shape=2)\\n\\n    # link function\\n    p = pm.math.invlogit(g[df_example[\\\"ins_code\\\"]])\\n\\n    # likelihood\\n    A = pm.Bernoulli(\\\"A\\\", p=p, observed=df_example[\\\"adherence\\\"])\\n\\n    trace_mSim1 = pm.sample(\\n        draws=1000, random_seed=19, return_inferencedata=False, progressbar=False, target_accept=0.95\\n    )\";\n                var nbb_formatted_code = \"# insurance only\\nwith pm.Model() as mSim1:\\n\\n    # fixed prior for insurance\\n    g = pm.Normal(\\\"g\\\", 0.0, 1.5, shape=2)\\n\\n    # link function\\n    p = pm.math.invlogit(g[df_example[\\\"ins_code\\\"]])\\n\\n    # likelihood\\n    A = pm.Bernoulli(\\\"A\\\", p=p, observed=df_example[\\\"adherence\\\"])\\n\\n    trace_mSim1 = pm.sample(\\n        draws=1000,\\n        random_seed=19,\\n        return_inferencedata=False,\\n        progressbar=False,\\n        target_accept=0.95,\\n    )\";\n                var nbb_cells = Jupyter.notebook.get_cells();\n                for (var i = 0; i < nbb_cells.length; ++i) {\n                    if (nbb_cells[i].input_prompt_number == nbb_cell_id) {\n                        if (nbb_cells[i].get_text() == nbb_unformatted_code) {\n                             nbb_cells[i].set_text(nbb_formatted_code);\n                        }\n                        break;\n                    }\n                }\n            }, 500);\n            ",
      "text/plain": [
       "<IPython.core.display.Javascript object>"
      ]
     },
     "metadata": {},
     "output_type": "display_data"
    }
   ],
   "source": [
    "# insurance only\n",
    "with pm.Model() as mSim1:\n",
    "\n",
    "    # fixed prior for insurance\n",
    "    g = pm.Normal(\"g\", 0.0, 1.5, shape=2)\n",
    "\n",
    "    # link function\n",
    "    p = pm.math.invlogit(g[df_example[\"ins_code\"]])\n",
    "\n",
    "    # likelihood\n",
    "    A = pm.Bernoulli(\"A\", p=p, observed=df_example[\"adherence\"])\n",
    "\n",
    "    trace_mSim1 = pm.sample(\n",
    "        draws=1000,\n",
    "        random_seed=19,\n",
    "        return_inferencedata=False,\n",
    "        progressbar=False,\n",
    "        target_accept=0.95,\n",
    "    )\n"
   ]
  },
  {
   "cell_type": "code",
   "execution_count": 28,
   "id": "187c6176",
   "metadata": {},
   "outputs": [
    {
     "name": "stderr",
     "output_type": "stream",
     "text": [
      "/Users/blacar/opt/anaconda3/envs/stats_rethinking/lib/python3.8/site-packages/arviz/data/io_pymc3.py:88: FutureWarning: Using `from_pymc3` without the model will be deprecated in a future release. Not using the model will return less accurate and less useful results. Make sure you use the model argument or call from_pymc3 within a model context.\n",
      "  warnings.warn(\n"
     ]
    },
    {
     "data": {
      "text/html": [
       "<div>\n",
       "<style scoped>\n",
       "    .dataframe tbody tr th:only-of-type {\n",
       "        vertical-align: middle;\n",
       "    }\n",
       "\n",
       "    .dataframe tbody tr th {\n",
       "        vertical-align: top;\n",
       "    }\n",
       "\n",
       "    .dataframe thead th {\n",
       "        text-align: right;\n",
       "    }\n",
       "</style>\n",
       "<table border=\"1\" class=\"dataframe\">\n",
       "  <thead>\n",
       "    <tr style=\"text-align: right;\">\n",
       "      <th></th>\n",
       "      <th>mean</th>\n",
       "      <th>sd</th>\n",
       "      <th>hdi_2.5%</th>\n",
       "      <th>hdi_97.5%</th>\n",
       "      <th>mcse_mean</th>\n",
       "      <th>mcse_sd</th>\n",
       "      <th>ess_mean</th>\n",
       "      <th>ess_sd</th>\n",
       "      <th>ess_bulk</th>\n",
       "      <th>ess_tail</th>\n",
       "      <th>r_hat</th>\n",
       "    </tr>\n",
       "  </thead>\n",
       "  <tbody>\n",
       "    <tr>\n",
       "      <th>g[0]</th>\n",
       "      <td>0.810</td>\n",
       "      <td>0.489</td>\n",
       "      <td>-0.107</td>\n",
       "      <td>1.781</td>\n",
       "      <td>0.009</td>\n",
       "      <td>0.007</td>\n",
       "      <td>2781.0</td>\n",
       "      <td>2382.0</td>\n",
       "      <td>2801.0</td>\n",
       "      <td>2202.0</td>\n",
       "      <td>1.0</td>\n",
       "    </tr>\n",
       "    <tr>\n",
       "      <th>g[1]</th>\n",
       "      <td>0.915</td>\n",
       "      <td>0.517</td>\n",
       "      <td>-0.072</td>\n",
       "      <td>1.965</td>\n",
       "      <td>0.011</td>\n",
       "      <td>0.009</td>\n",
       "      <td>2162.0</td>\n",
       "      <td>1846.0</td>\n",
       "      <td>2192.0</td>\n",
       "      <td>1914.0</td>\n",
       "      <td>1.0</td>\n",
       "    </tr>\n",
       "  </tbody>\n",
       "</table>\n",
       "</div>"
      ],
      "text/plain": [
       "       mean     sd  hdi_2.5%  hdi_97.5%  mcse_mean  mcse_sd  ess_mean  ess_sd  \\\n",
       "g[0]  0.810  0.489    -0.107      1.781      0.009    0.007    2781.0  2382.0   \n",
       "g[1]  0.915  0.517    -0.072      1.965      0.011    0.009    2162.0  1846.0   \n",
       "\n",
       "      ess_bulk  ess_tail  r_hat  \n",
       "g[0]    2801.0    2202.0    1.0  \n",
       "g[1]    2192.0    1914.0    1.0  "
      ]
     },
     "execution_count": 28,
     "metadata": {},
     "output_type": "execute_result"
    },
    {
     "data": {
      "application/javascript": "\n            setTimeout(function() {\n                var nbb_cell_id = 28;\n                var nbb_unformatted_code = \"az.summary(trace_mSim1)\";\n                var nbb_formatted_code = \"az.summary(trace_mSim1)\";\n                var nbb_cells = Jupyter.notebook.get_cells();\n                for (var i = 0; i < nbb_cells.length; ++i) {\n                    if (nbb_cells[i].input_prompt_number == nbb_cell_id) {\n                        if (nbb_cells[i].get_text() == nbb_unformatted_code) {\n                             nbb_cells[i].set_text(nbb_formatted_code);\n                        }\n                        break;\n                    }\n                }\n            }, 500);\n            ",
      "text/plain": [
       "<IPython.core.display.Javascript object>"
      ]
     },
     "metadata": {},
     "output_type": "display_data"
    }
   ],
   "source": [
    "az.summary(trace_mSim1)\n"
   ]
  },
  {
   "cell_type": "code",
   "execution_count": 27,
   "id": "db7fecfc",
   "metadata": {},
   "outputs": [
    {
     "data": {
      "text/html": [
       "<div>\n",
       "<style scoped>\n",
       "    .dataframe tbody tr th:only-of-type {\n",
       "        vertical-align: middle;\n",
       "    }\n",
       "\n",
       "    .dataframe tbody tr th {\n",
       "        vertical-align: top;\n",
       "    }\n",
       "\n",
       "    .dataframe thead th {\n",
       "        text-align: right;\n",
       "    }\n",
       "</style>\n",
       "<table border=\"1\" class=\"dataframe\">\n",
       "  <thead>\n",
       "    <tr style=\"text-align: right;\">\n",
       "      <th></th>\n",
       "      <th>patient_id</th>\n",
       "      <th>occupation</th>\n",
       "      <th>insurance</th>\n",
       "      <th>mu</th>\n",
       "      <th>adherence</th>\n",
       "      <th>occ_code</th>\n",
       "      <th>ins_code</th>\n",
       "    </tr>\n",
       "  </thead>\n",
       "  <tbody>\n",
       "    <tr>\n",
       "      <th>0</th>\n",
       "      <td>0</td>\n",
       "      <td>cook</td>\n",
       "      <td>private</td>\n",
       "      <td>0.7773</td>\n",
       "      <td>1</td>\n",
       "      <td>0</td>\n",
       "      <td>0</td>\n",
       "    </tr>\n",
       "    <tr>\n",
       "      <th>1</th>\n",
       "      <td>0</td>\n",
       "      <td>cook</td>\n",
       "      <td>private</td>\n",
       "      <td>0.7773</td>\n",
       "      <td>1</td>\n",
       "      <td>0</td>\n",
       "      <td>0</td>\n",
       "    </tr>\n",
       "    <tr>\n",
       "      <th>2</th>\n",
       "      <td>0</td>\n",
       "      <td>cook</td>\n",
       "      <td>private</td>\n",
       "      <td>0.7773</td>\n",
       "      <td>0</td>\n",
       "      <td>0</td>\n",
       "      <td>0</td>\n",
       "    </tr>\n",
       "    <tr>\n",
       "      <th>3</th>\n",
       "      <td>0</td>\n",
       "      <td>cook</td>\n",
       "      <td>private</td>\n",
       "      <td>0.7773</td>\n",
       "      <td>1</td>\n",
       "      <td>0</td>\n",
       "      <td>0</td>\n",
       "    </tr>\n",
       "    <tr>\n",
       "      <th>4</th>\n",
       "      <td>0</td>\n",
       "      <td>cook</td>\n",
       "      <td>private</td>\n",
       "      <td>0.7773</td>\n",
       "      <td>1</td>\n",
       "      <td>0</td>\n",
       "      <td>0</td>\n",
       "    </tr>\n",
       "  </tbody>\n",
       "</table>\n",
       "</div>"
      ],
      "text/plain": [
       "   patient_id occupation insurance      mu  adherence  occ_code  ins_code\n",
       "0           0       cook   private  0.7773          1         0         0\n",
       "1           0       cook   private  0.7773          1         0         0\n",
       "2           0       cook   private  0.7773          0         0         0\n",
       "3           0       cook   private  0.7773          1         0         0\n",
       "4           0       cook   private  0.7773          1         0         0"
      ]
     },
     "execution_count": 27,
     "metadata": {},
     "output_type": "execute_result"
    },
    {
     "data": {
      "application/javascript": "\n            setTimeout(function() {\n                var nbb_cell_id = 27;\n                var nbb_unformatted_code = \"df_example.head()\";\n                var nbb_formatted_code = \"df_example.head()\";\n                var nbb_cells = Jupyter.notebook.get_cells();\n                for (var i = 0; i < nbb_cells.length; ++i) {\n                    if (nbb_cells[i].input_prompt_number == nbb_cell_id) {\n                        if (nbb_cells[i].get_text() == nbb_unformatted_code) {\n                             nbb_cells[i].set_text(nbb_formatted_code);\n                        }\n                        break;\n                    }\n                }\n            }, 500);\n            ",
      "text/plain": [
       "<IPython.core.display.Javascript object>"
      ]
     },
     "metadata": {},
     "output_type": "display_data"
    }
   ],
   "source": [
    "df_example.head()\n"
   ]
  },
  {
   "cell_type": "code",
   "execution_count": 29,
   "id": "d375baaa",
   "metadata": {},
   "outputs": [
    {
     "name": "stderr",
     "output_type": "stream",
     "text": [
      "Auto-assigning NUTS sampler...\n",
      "INFO:pymc3:Auto-assigning NUTS sampler...\n",
      "Initializing NUTS using jitter+adapt_diag...\n",
      "INFO:pymc3:Initializing NUTS using jitter+adapt_diag...\n",
      "Multiprocess sampling (4 chains in 4 jobs)\n",
      "INFO:pymc3:Multiprocess sampling (4 chains in 4 jobs)\n",
      "NUTS: [a, sigma_a, a_bar]\n",
      "INFO:pymc3:NUTS: [a, sigma_a, a_bar]\n",
      "Sampling 4 chains for 1_000 tune and 1_000 draw iterations (4_000 + 4_000 draws total) took 27 seconds.\n",
      "INFO:pymc3:Sampling 4 chains for 1_000 tune and 1_000 draw iterations (4_000 + 4_000 draws total) took 27 seconds.\n",
      "There were 159 divergences after tuning. Increase `target_accept` or reparameterize.\n",
      "ERROR:pymc3:There were 159 divergences after tuning. Increase `target_accept` or reparameterize.\n",
      "The acceptance probability does not match the target. It is 0.5900351481432856, but should be close to 0.95. Try to increase the number of tuning steps.\n",
      "WARNING:pymc3:The acceptance probability does not match the target. It is 0.5900351481432856, but should be close to 0.95. Try to increase the number of tuning steps.\n",
      "There were 30 divergences after tuning. Increase `target_accept` or reparameterize.\n",
      "ERROR:pymc3:There were 30 divergences after tuning. Increase `target_accept` or reparameterize.\n",
      "The acceptance probability does not match the target. It is 0.8948165573617664, but should be close to 0.95. Try to increase the number of tuning steps.\n",
      "WARNING:pymc3:The acceptance probability does not match the target. It is 0.8948165573617664, but should be close to 0.95. Try to increase the number of tuning steps.\n",
      "There were 19 divergences after tuning. Increase `target_accept` or reparameterize.\n",
      "ERROR:pymc3:There were 19 divergences after tuning. Increase `target_accept` or reparameterize.\n",
      "There were 16 divergences after tuning. Increase `target_accept` or reparameterize.\n",
      "ERROR:pymc3:There were 16 divergences after tuning. Increase `target_accept` or reparameterize.\n",
      "The rhat statistic is larger than 1.05 for some parameters. This indicates slight problems during sampling.\n",
      "INFO:pymc3:The rhat statistic is larger than 1.05 for some parameters. This indicates slight problems during sampling.\n",
      "The estimated number of effective samples is smaller than 200 for some parameters.\n",
      "ERROR:pymc3:The estimated number of effective samples is smaller than 200 for some parameters.\n"
     ]
    },
    {
     "data": {
      "application/javascript": "\n            setTimeout(function() {\n                var nbb_cell_id = 29;\n                var nbb_unformatted_code = \"n_patient = len(df_example['patient_id'].unique())\\n\\n# patientid only, heirarchical\\nwith pm.Model() as mSim2:\\n\\n    # heirarchical prior for patient_iid\\n    a_bar = pm.Normal(\\\"a_bar\\\", 0, 1.5)\\n    sigma_a = pm.Exponential(\\\"sigma_a\\\", 1)\\n\\n    # prior for patient_id\\n    a = pm.Normal(\\\"a\\\", a_bar, sigma_a, shape=n_patient)\\n\\n    # link function\\n    p = pm.math.invlogit(a[df_example[\\\"patient_id\\\"]])\\n\\n    # likelihood\\n    A = pm.Bernoulli(\\\"A\\\", p=p, observed=df_example[\\\"adherence\\\"])\\n\\n    trace_mSim2 = pm.sample(\\n        draws=1000, random_seed=19, return_inferencedata=False, progressbar=False, target_accept=0.95\\n    )\";\n                var nbb_formatted_code = \"n_patient = len(df_example[\\\"patient_id\\\"].unique())\\n\\n# patientid only, heirarchical\\nwith pm.Model() as mSim2:\\n\\n    # heirarchical prior for patient_iid\\n    a_bar = pm.Normal(\\\"a_bar\\\", 0, 1.5)\\n    sigma_a = pm.Exponential(\\\"sigma_a\\\", 1)\\n\\n    # prior for patient_id\\n    a = pm.Normal(\\\"a\\\", a_bar, sigma_a, shape=n_patient)\\n\\n    # link function\\n    p = pm.math.invlogit(a[df_example[\\\"patient_id\\\"]])\\n\\n    # likelihood\\n    A = pm.Bernoulli(\\\"A\\\", p=p, observed=df_example[\\\"adherence\\\"])\\n\\n    trace_mSim2 = pm.sample(\\n        draws=1000,\\n        random_seed=19,\\n        return_inferencedata=False,\\n        progressbar=False,\\n        target_accept=0.95,\\n    )\";\n                var nbb_cells = Jupyter.notebook.get_cells();\n                for (var i = 0; i < nbb_cells.length; ++i) {\n                    if (nbb_cells[i].input_prompt_number == nbb_cell_id) {\n                        if (nbb_cells[i].get_text() == nbb_unformatted_code) {\n                             nbb_cells[i].set_text(nbb_formatted_code);\n                        }\n                        break;\n                    }\n                }\n            }, 500);\n            ",
      "text/plain": [
       "<IPython.core.display.Javascript object>"
      ]
     },
     "metadata": {},
     "output_type": "display_data"
    }
   ],
   "source": [
    "n_patient = len(df_example[\"patient_id\"].unique())\n",
    "\n",
    "# patientid only, heirarchical\n",
    "with pm.Model() as mSim2:\n",
    "\n",
    "    # heirarchical prior for patient_iid\n",
    "    a_bar = pm.Normal(\"a_bar\", 0, 1.5)\n",
    "    sigma_a = pm.Exponential(\"sigma_a\", 1)\n",
    "\n",
    "    # prior for patient_id\n",
    "    a = pm.Normal(\"a\", a_bar, sigma_a, shape=n_patient)\n",
    "\n",
    "    # link function\n",
    "    p = pm.math.invlogit(a[df_example[\"patient_id\"]])\n",
    "\n",
    "    # likelihood\n",
    "    A = pm.Bernoulli(\"A\", p=p, observed=df_example[\"adherence\"])\n",
    "\n",
    "    trace_mSim2 = pm.sample(\n",
    "        draws=1000,\n",
    "        random_seed=19,\n",
    "        return_inferencedata=False,\n",
    "        progressbar=False,\n",
    "        target_accept=0.95,\n",
    "    )\n"
   ]
  },
  {
   "cell_type": "code",
   "execution_count": 30,
   "id": "a5ed2842",
   "metadata": {},
   "outputs": [
    {
     "name": "stderr",
     "output_type": "stream",
     "text": [
      "/Users/blacar/opt/anaconda3/envs/stats_rethinking/lib/python3.8/site-packages/arviz/data/io_pymc3.py:88: FutureWarning: Using `from_pymc3` without the model will be deprecated in a future release. Not using the model will return less accurate and less useful results. Make sure you use the model argument or call from_pymc3 within a model context.\n",
      "  warnings.warn(\n"
     ]
    },
    {
     "data": {
      "text/html": [
       "<div>\n",
       "<style scoped>\n",
       "    .dataframe tbody tr th:only-of-type {\n",
       "        vertical-align: middle;\n",
       "    }\n",
       "\n",
       "    .dataframe tbody tr th {\n",
       "        vertical-align: top;\n",
       "    }\n",
       "\n",
       "    .dataframe thead th {\n",
       "        text-align: right;\n",
       "    }\n",
       "</style>\n",
       "<table border=\"1\" class=\"dataframe\">\n",
       "  <thead>\n",
       "    <tr style=\"text-align: right;\">\n",
       "      <th></th>\n",
       "      <th>mean</th>\n",
       "      <th>sd</th>\n",
       "      <th>hdi_2.5%</th>\n",
       "      <th>hdi_97.5%</th>\n",
       "      <th>mcse_mean</th>\n",
       "      <th>mcse_sd</th>\n",
       "      <th>ess_mean</th>\n",
       "      <th>ess_sd</th>\n",
       "      <th>ess_bulk</th>\n",
       "      <th>ess_tail</th>\n",
       "      <th>r_hat</th>\n",
       "    </tr>\n",
       "  </thead>\n",
       "  <tbody>\n",
       "    <tr>\n",
       "      <th>a_bar</th>\n",
       "      <td>1.006</td>\n",
       "      <td>0.465</td>\n",
       "      <td>0.113</td>\n",
       "      <td>1.873</td>\n",
       "      <td>0.020</td>\n",
       "      <td>0.014</td>\n",
       "      <td>530.0</td>\n",
       "      <td>530.0</td>\n",
       "      <td>493.0</td>\n",
       "      <td>1113.0</td>\n",
       "      <td>1.02</td>\n",
       "    </tr>\n",
       "    <tr>\n",
       "      <th>a[0]</th>\n",
       "      <td>1.083</td>\n",
       "      <td>0.581</td>\n",
       "      <td>-0.074</td>\n",
       "      <td>2.232</td>\n",
       "      <td>0.020</td>\n",
       "      <td>0.014</td>\n",
       "      <td>852.0</td>\n",
       "      <td>852.0</td>\n",
       "      <td>747.0</td>\n",
       "      <td>1672.0</td>\n",
       "      <td>1.01</td>\n",
       "    </tr>\n",
       "    <tr>\n",
       "      <th>a[1]</th>\n",
       "      <td>1.238</td>\n",
       "      <td>0.783</td>\n",
       "      <td>-0.097</td>\n",
       "      <td>2.914</td>\n",
       "      <td>0.028</td>\n",
       "      <td>0.020</td>\n",
       "      <td>787.0</td>\n",
       "      <td>787.0</td>\n",
       "      <td>743.0</td>\n",
       "      <td>1084.0</td>\n",
       "      <td>1.06</td>\n",
       "    </tr>\n",
       "    <tr>\n",
       "      <th>a[2]</th>\n",
       "      <td>0.781</td>\n",
       "      <td>0.534</td>\n",
       "      <td>-0.339</td>\n",
       "      <td>1.667</td>\n",
       "      <td>0.066</td>\n",
       "      <td>0.051</td>\n",
       "      <td>65.0</td>\n",
       "      <td>56.0</td>\n",
       "      <td>64.0</td>\n",
       "      <td>1322.0</td>\n",
       "      <td>1.05</td>\n",
       "    </tr>\n",
       "    <tr>\n",
       "      <th>a[3]</th>\n",
       "      <td>1.190</td>\n",
       "      <td>0.763</td>\n",
       "      <td>-0.213</td>\n",
       "      <td>2.632</td>\n",
       "      <td>0.027</td>\n",
       "      <td>0.019</td>\n",
       "      <td>788.0</td>\n",
       "      <td>788.0</td>\n",
       "      <td>727.0</td>\n",
       "      <td>685.0</td>\n",
       "      <td>1.04</td>\n",
       "    </tr>\n",
       "    <tr>\n",
       "      <th>a[4]</th>\n",
       "      <td>1.056</td>\n",
       "      <td>0.533</td>\n",
       "      <td>-0.073</td>\n",
       "      <td>2.046</td>\n",
       "      <td>0.019</td>\n",
       "      <td>0.013</td>\n",
       "      <td>813.0</td>\n",
       "      <td>813.0</td>\n",
       "      <td>703.0</td>\n",
       "      <td>1738.0</td>\n",
       "      <td>1.01</td>\n",
       "    </tr>\n",
       "    <tr>\n",
       "      <th>a[5]</th>\n",
       "      <td>0.881</td>\n",
       "      <td>0.520</td>\n",
       "      <td>-0.213</td>\n",
       "      <td>1.807</td>\n",
       "      <td>0.043</td>\n",
       "      <td>0.031</td>\n",
       "      <td>143.0</td>\n",
       "      <td>143.0</td>\n",
       "      <td>129.0</td>\n",
       "      <td>1661.0</td>\n",
       "      <td>1.03</td>\n",
       "    </tr>\n",
       "    <tr>\n",
       "      <th>sigma_a</th>\n",
       "      <td>0.483</td>\n",
       "      <td>0.445</td>\n",
       "      <td>0.038</td>\n",
       "      <td>1.320</td>\n",
       "      <td>0.066</td>\n",
       "      <td>0.047</td>\n",
       "      <td>46.0</td>\n",
       "      <td>46.0</td>\n",
       "      <td>15.0</td>\n",
       "      <td>13.0</td>\n",
       "      <td>1.19</td>\n",
       "    </tr>\n",
       "  </tbody>\n",
       "</table>\n",
       "</div>"
      ],
      "text/plain": [
       "          mean     sd  hdi_2.5%  hdi_97.5%  mcse_mean  mcse_sd  ess_mean  \\\n",
       "a_bar    1.006  0.465     0.113      1.873      0.020    0.014     530.0   \n",
       "a[0]     1.083  0.581    -0.074      2.232      0.020    0.014     852.0   \n",
       "a[1]     1.238  0.783    -0.097      2.914      0.028    0.020     787.0   \n",
       "a[2]     0.781  0.534    -0.339      1.667      0.066    0.051      65.0   \n",
       "a[3]     1.190  0.763    -0.213      2.632      0.027    0.019     788.0   \n",
       "a[4]     1.056  0.533    -0.073      2.046      0.019    0.013     813.0   \n",
       "a[5]     0.881  0.520    -0.213      1.807      0.043    0.031     143.0   \n",
       "sigma_a  0.483  0.445     0.038      1.320      0.066    0.047      46.0   \n",
       "\n",
       "         ess_sd  ess_bulk  ess_tail  r_hat  \n",
       "a_bar     530.0     493.0    1113.0   1.02  \n",
       "a[0]      852.0     747.0    1672.0   1.01  \n",
       "a[1]      787.0     743.0    1084.0   1.06  \n",
       "a[2]       56.0      64.0    1322.0   1.05  \n",
       "a[3]      788.0     727.0     685.0   1.04  \n",
       "a[4]      813.0     703.0    1738.0   1.01  \n",
       "a[5]      143.0     129.0    1661.0   1.03  \n",
       "sigma_a    46.0      15.0      13.0   1.19  "
      ]
     },
     "execution_count": 30,
     "metadata": {},
     "output_type": "execute_result"
    },
    {
     "data": {
      "application/javascript": "\n            setTimeout(function() {\n                var nbb_cell_id = 30;\n                var nbb_unformatted_code = \"az.summary(trace_mSim2)\";\n                var nbb_formatted_code = \"az.summary(trace_mSim2)\";\n                var nbb_cells = Jupyter.notebook.get_cells();\n                for (var i = 0; i < nbb_cells.length; ++i) {\n                    if (nbb_cells[i].input_prompt_number == nbb_cell_id) {\n                        if (nbb_cells[i].get_text() == nbb_unformatted_code) {\n                             nbb_cells[i].set_text(nbb_formatted_code);\n                        }\n                        break;\n                    }\n                }\n            }, 500);\n            ",
      "text/plain": [
       "<IPython.core.display.Javascript object>"
      ]
     },
     "metadata": {},
     "output_type": "display_data"
    }
   ],
   "source": [
    "az.summary(trace_mSim2)\n"
   ]
  },
  {
   "cell_type": "code",
   "execution_count": 36,
   "id": "d6c9cb08",
   "metadata": {},
   "outputs": [
    {
     "name": "stderr",
     "output_type": "stream",
     "text": [
      "Auto-assigning NUTS sampler...\n",
      "INFO:pymc3:Auto-assigning NUTS sampler...\n",
      "Initializing NUTS using jitter+adapt_diag...\n",
      "INFO:pymc3:Initializing NUTS using jitter+adapt_diag...\n",
      "Multiprocess sampling (4 chains in 4 jobs)\n",
      "INFO:pymc3:Multiprocess sampling (4 chains in 4 jobs)\n",
      "NUTS: [sigma_a, z, a_bar]\n",
      "INFO:pymc3:NUTS: [sigma_a, z, a_bar]\n",
      "Sampling 4 chains for 1_000 tune and 1_000 draw iterations (4_000 + 4_000 draws total) took 22 seconds.\n",
      "INFO:pymc3:Sampling 4 chains for 1_000 tune and 1_000 draw iterations (4_000 + 4_000 draws total) took 22 seconds.\n"
     ]
    },
    {
     "data": {
      "application/javascript": "\n            setTimeout(function() {\n                var nbb_cell_id = 36;\n                var nbb_unformatted_code = \"n_patient = len(df_example['patient_id'].unique())\\n\\n# patientid only, heirarchical\\nwith pm.Model() as mSim2nc:\\n\\n    # heirarchical prior for patient_id\\n    a_bar = pm.Normal(\\\"a_bar\\\", 0, 1.5)\\n    \\n    z = pm.Normal(\\\"z\\\", 0, 1, shape=n_patient)\\n    sigma_a = pm.Exponential(\\\"sigma_a\\\", 1)\\n\\n    # prior for patient_id\\n    # a = pm.Normal(\\\"a\\\", a_bar, sigma_a, shape=n_patient)   # centered version\\n    a = pm.Deterministic(\\\"a\\\", a_bar + z * sigma_a)\\n\\n    # link function\\n    p = pm.math.invlogit(a[df_example[\\\"patient_id\\\"]])\\n\\n    # likelihood\\n    A = pm.Bernoulli(\\\"A\\\", p=p, observed=df_example[\\\"adherence\\\"])\\n\\n    trace_mSim2nc = pm.sample(\\n        draws=1000, random_seed=19, return_inferencedata=False, progressbar=False, target_accept=0.95\\n    )\";\n                var nbb_formatted_code = \"n_patient = len(df_example[\\\"patient_id\\\"].unique())\\n\\n# patientid only, heirarchical\\nwith pm.Model() as mSim2nc:\\n\\n    # heirarchical prior for patient_id\\n    a_bar = pm.Normal(\\\"a_bar\\\", 0, 1.5)\\n\\n    z = pm.Normal(\\\"z\\\", 0, 1, shape=n_patient)\\n    sigma_a = pm.Exponential(\\\"sigma_a\\\", 1)\\n\\n    # prior for patient_id\\n    # a = pm.Normal(\\\"a\\\", a_bar, sigma_a, shape=n_patient)   # centered version\\n    a = pm.Deterministic(\\\"a\\\", a_bar + z * sigma_a)\\n\\n    # link function\\n    p = pm.math.invlogit(a[df_example[\\\"patient_id\\\"]])\\n\\n    # likelihood\\n    A = pm.Bernoulli(\\\"A\\\", p=p, observed=df_example[\\\"adherence\\\"])\\n\\n    trace_mSim2nc = pm.sample(\\n        draws=1000,\\n        random_seed=19,\\n        return_inferencedata=False,\\n        progressbar=False,\\n        target_accept=0.95,\\n    )\";\n                var nbb_cells = Jupyter.notebook.get_cells();\n                for (var i = 0; i < nbb_cells.length; ++i) {\n                    if (nbb_cells[i].input_prompt_number == nbb_cell_id) {\n                        if (nbb_cells[i].get_text() == nbb_unformatted_code) {\n                             nbb_cells[i].set_text(nbb_formatted_code);\n                        }\n                        break;\n                    }\n                }\n            }, 500);\n            ",
      "text/plain": [
       "<IPython.core.display.Javascript object>"
      ]
     },
     "metadata": {},
     "output_type": "display_data"
    }
   ],
   "source": [
    "n_patient = len(df_example[\"patient_id\"].unique())\n",
    "\n",
    "# patientid only, heirarchical\n",
    "with pm.Model() as mSim2nc:\n",
    "\n",
    "    # heirarchical prior for patient_id\n",
    "    a_bar = pm.Normal(\"a_bar\", 0, 1.5)\n",
    "\n",
    "    z = pm.Normal(\"z\", 0, 1, shape=n_patient)\n",
    "    sigma_a = pm.Exponential(\"sigma_a\", 1)\n",
    "\n",
    "    # prior for patient_id\n",
    "    # a = pm.Normal(\"a\", a_bar, sigma_a, shape=n_patient)   # centered version\n",
    "    a = pm.Deterministic(\"a\", a_bar + z * sigma_a)\n",
    "\n",
    "    # link function\n",
    "    p = pm.math.invlogit(a[df_example[\"patient_id\"]])\n",
    "\n",
    "    # likelihood\n",
    "    A = pm.Bernoulli(\"A\", p=p, observed=df_example[\"adherence\"])\n",
    "\n",
    "    trace_mSim2nc = pm.sample(\n",
    "        draws=1000,\n",
    "        random_seed=19,\n",
    "        return_inferencedata=False,\n",
    "        progressbar=False,\n",
    "        target_accept=0.95,\n",
    "    )\n"
   ]
  },
  {
   "cell_type": "code",
   "execution_count": 40,
   "id": "7783bdca",
   "metadata": {},
   "outputs": [
    {
     "name": "stderr",
     "output_type": "stream",
     "text": [
      "/Users/blacar/opt/anaconda3/envs/stats_rethinking/lib/python3.8/site-packages/arviz/data/io_pymc3.py:88: FutureWarning: Using `from_pymc3` without the model will be deprecated in a future release. Not using the model will return less accurate and less useful results. Make sure you use the model argument or call from_pymc3 within a model context.\n",
      "  warnings.warn(\n"
     ]
    },
    {
     "data": {
      "text/html": [
       "<div>\n",
       "<style scoped>\n",
       "    .dataframe tbody tr th:only-of-type {\n",
       "        vertical-align: middle;\n",
       "    }\n",
       "\n",
       "    .dataframe tbody tr th {\n",
       "        vertical-align: top;\n",
       "    }\n",
       "\n",
       "    .dataframe thead th {\n",
       "        text-align: right;\n",
       "    }\n",
       "</style>\n",
       "<table border=\"1\" class=\"dataframe\">\n",
       "  <thead>\n",
       "    <tr style=\"text-align: right;\">\n",
       "      <th></th>\n",
       "      <th>mean</th>\n",
       "      <th>sd</th>\n",
       "      <th>hdi_2.5%</th>\n",
       "      <th>hdi_97.5%</th>\n",
       "      <th>mcse_mean</th>\n",
       "      <th>mcse_sd</th>\n",
       "      <th>ess_mean</th>\n",
       "      <th>ess_sd</th>\n",
       "      <th>ess_bulk</th>\n",
       "      <th>ess_tail</th>\n",
       "      <th>r_hat</th>\n",
       "    </tr>\n",
       "  </thead>\n",
       "  <tbody>\n",
       "    <tr>\n",
       "      <th>a_bar</th>\n",
       "      <td>0.956</td>\n",
       "      <td>0.458</td>\n",
       "      <td>0.124</td>\n",
       "      <td>1.919</td>\n",
       "      <td>0.009</td>\n",
       "      <td>0.007</td>\n",
       "      <td>2418.0</td>\n",
       "      <td>2043.0</td>\n",
       "      <td>2593.0</td>\n",
       "      <td>1904.0</td>\n",
       "      <td>1.0</td>\n",
       "    </tr>\n",
       "    <tr>\n",
       "      <th>sigma_a</th>\n",
       "      <td>0.503</td>\n",
       "      <td>0.468</td>\n",
       "      <td>0.000</td>\n",
       "      <td>1.415</td>\n",
       "      <td>0.011</td>\n",
       "      <td>0.008</td>\n",
       "      <td>1935.0</td>\n",
       "      <td>1935.0</td>\n",
       "      <td>1844.0</td>\n",
       "      <td>2129.0</td>\n",
       "      <td>1.0</td>\n",
       "    </tr>\n",
       "    <tr>\n",
       "      <th>a[0]</th>\n",
       "      <td>1.037</td>\n",
       "      <td>0.606</td>\n",
       "      <td>-0.064</td>\n",
       "      <td>2.266</td>\n",
       "      <td>0.010</td>\n",
       "      <td>0.008</td>\n",
       "      <td>3845.0</td>\n",
       "      <td>3208.0</td>\n",
       "      <td>4048.0</td>\n",
       "      <td>3359.0</td>\n",
       "      <td>1.0</td>\n",
       "    </tr>\n",
       "    <tr>\n",
       "      <th>a[1]</th>\n",
       "      <td>1.214</td>\n",
       "      <td>0.796</td>\n",
       "      <td>-0.160</td>\n",
       "      <td>2.858</td>\n",
       "      <td>0.016</td>\n",
       "      <td>0.012</td>\n",
       "      <td>2617.0</td>\n",
       "      <td>2124.0</td>\n",
       "      <td>3276.0</td>\n",
       "      <td>2394.0</td>\n",
       "      <td>1.0</td>\n",
       "    </tr>\n",
       "    <tr>\n",
       "      <th>a[2]</th>\n",
       "      <td>0.732</td>\n",
       "      <td>0.496</td>\n",
       "      <td>-0.295</td>\n",
       "      <td>1.702</td>\n",
       "      <td>0.007</td>\n",
       "      <td>0.006</td>\n",
       "      <td>4449.0</td>\n",
       "      <td>3610.0</td>\n",
       "      <td>4393.0</td>\n",
       "      <td>2857.0</td>\n",
       "      <td>1.0</td>\n",
       "    </tr>\n",
       "    <tr>\n",
       "      <th>a[3]</th>\n",
       "      <td>1.167</td>\n",
       "      <td>0.787</td>\n",
       "      <td>-0.237</td>\n",
       "      <td>2.759</td>\n",
       "      <td>0.014</td>\n",
       "      <td>0.011</td>\n",
       "      <td>2963.0</td>\n",
       "      <td>2545.0</td>\n",
       "      <td>3468.0</td>\n",
       "      <td>2833.0</td>\n",
       "      <td>1.0</td>\n",
       "    </tr>\n",
       "    <tr>\n",
       "      <th>a[4]</th>\n",
       "      <td>0.990</td>\n",
       "      <td>0.510</td>\n",
       "      <td>0.052</td>\n",
       "      <td>2.039</td>\n",
       "      <td>0.008</td>\n",
       "      <td>0.006</td>\n",
       "      <td>4603.0</td>\n",
       "      <td>3882.0</td>\n",
       "      <td>4747.0</td>\n",
       "      <td>3199.0</td>\n",
       "      <td>1.0</td>\n",
       "    </tr>\n",
       "    <tr>\n",
       "      <th>a[5]</th>\n",
       "      <td>0.828</td>\n",
       "      <td>0.518</td>\n",
       "      <td>-0.136</td>\n",
       "      <td>1.948</td>\n",
       "      <td>0.008</td>\n",
       "      <td>0.006</td>\n",
       "      <td>4729.0</td>\n",
       "      <td>3770.0</td>\n",
       "      <td>4853.0</td>\n",
       "      <td>3220.0</td>\n",
       "      <td>1.0</td>\n",
       "    </tr>\n",
       "  </tbody>\n",
       "</table>\n",
       "</div>"
      ],
      "text/plain": [
       "          mean     sd  hdi_2.5%  hdi_97.5%  mcse_mean  mcse_sd  ess_mean  \\\n",
       "a_bar    0.956  0.458     0.124      1.919      0.009    0.007    2418.0   \n",
       "sigma_a  0.503  0.468     0.000      1.415      0.011    0.008    1935.0   \n",
       "a[0]     1.037  0.606    -0.064      2.266      0.010    0.008    3845.0   \n",
       "a[1]     1.214  0.796    -0.160      2.858      0.016    0.012    2617.0   \n",
       "a[2]     0.732  0.496    -0.295      1.702      0.007    0.006    4449.0   \n",
       "a[3]     1.167  0.787    -0.237      2.759      0.014    0.011    2963.0   \n",
       "a[4]     0.990  0.510     0.052      2.039      0.008    0.006    4603.0   \n",
       "a[5]     0.828  0.518    -0.136      1.948      0.008    0.006    4729.0   \n",
       "\n",
       "         ess_sd  ess_bulk  ess_tail  r_hat  \n",
       "a_bar    2043.0    2593.0    1904.0    1.0  \n",
       "sigma_a  1935.0    1844.0    2129.0    1.0  \n",
       "a[0]     3208.0    4048.0    3359.0    1.0  \n",
       "a[1]     2124.0    3276.0    2394.0    1.0  \n",
       "a[2]     3610.0    4393.0    2857.0    1.0  \n",
       "a[3]     2545.0    3468.0    2833.0    1.0  \n",
       "a[4]     3882.0    4747.0    3199.0    1.0  \n",
       "a[5]     3770.0    4853.0    3220.0    1.0  "
      ]
     },
     "execution_count": 40,
     "metadata": {},
     "output_type": "execute_result"
    },
    {
     "data": {
      "application/javascript": "\n            setTimeout(function() {\n                var nbb_cell_id = 40;\n                var nbb_unformatted_code = \"az.summary(trace_mSim2nc, var_names=\\\"~z\\\")\";\n                var nbb_formatted_code = \"az.summary(trace_mSim2nc, var_names=\\\"~z\\\")\";\n                var nbb_cells = Jupyter.notebook.get_cells();\n                for (var i = 0; i < nbb_cells.length; ++i) {\n                    if (nbb_cells[i].input_prompt_number == nbb_cell_id) {\n                        if (nbb_cells[i].get_text() == nbb_unformatted_code) {\n                             nbb_cells[i].set_text(nbb_formatted_code);\n                        }\n                        break;\n                    }\n                }\n            }, 500);\n            ",
      "text/plain": [
       "<IPython.core.display.Javascript object>"
      ]
     },
     "metadata": {},
     "output_type": "display_data"
    }
   ],
   "source": [
    "az.summary(trace_mSim2nc, var_names=\"~z\")\n"
   ]
  },
  {
   "cell_type": "code",
   "execution_count": 31,
   "id": "239e5387",
   "metadata": {},
   "outputs": [
    {
     "name": "stderr",
     "output_type": "stream",
     "text": [
      "Auto-assigning NUTS sampler...\n",
      "INFO:pymc3:Auto-assigning NUTS sampler...\n",
      "Initializing NUTS using jitter+adapt_diag...\n",
      "INFO:pymc3:Initializing NUTS using jitter+adapt_diag...\n",
      "Multiprocess sampling (4 chains in 4 jobs)\n",
      "INFO:pymc3:Multiprocess sampling (4 chains in 4 jobs)\n",
      "NUTS: [g, a, sigma_a, a_bar]\n",
      "INFO:pymc3:NUTS: [g, a, sigma_a, a_bar]\n",
      "Sampling 4 chains for 1_000 tune and 1_000 draw iterations (4_000 + 4_000 draws total) took 25 seconds.\n",
      "INFO:pymc3:Sampling 4 chains for 1_000 tune and 1_000 draw iterations (4_000 + 4_000 draws total) took 25 seconds.\n",
      "There were 15 divergences after tuning. Increase `target_accept` or reparameterize.\n",
      "ERROR:pymc3:There were 15 divergences after tuning. Increase `target_accept` or reparameterize.\n",
      "There were 32 divergences after tuning. Increase `target_accept` or reparameterize.\n",
      "ERROR:pymc3:There were 32 divergences after tuning. Increase `target_accept` or reparameterize.\n",
      "The acceptance probability does not match the target. It is 0.8909841912079743, but should be close to 0.95. Try to increase the number of tuning steps.\n",
      "WARNING:pymc3:The acceptance probability does not match the target. It is 0.8909841912079743, but should be close to 0.95. Try to increase the number of tuning steps.\n",
      "There were 22 divergences after tuning. Increase `target_accept` or reparameterize.\n",
      "ERROR:pymc3:There were 22 divergences after tuning. Increase `target_accept` or reparameterize.\n",
      "There were 31 divergences after tuning. Increase `target_accept` or reparameterize.\n",
      "ERROR:pymc3:There were 31 divergences after tuning. Increase `target_accept` or reparameterize.\n",
      "The number of effective samples is smaller than 10% for some parameters.\n",
      "WARNING:pymc3:The number of effective samples is smaller than 10% for some parameters.\n"
     ]
    },
    {
     "data": {
      "application/javascript": "\n            setTimeout(function() {\n                var nbb_cell_id = 31;\n                var nbb_unformatted_code = \"# patientid and insurance\\nwith pm.Model() as mSim3:\\n\\n    # heirarchical prior for patient id\\n    a_bar = pm.Normal(\\\"a_bar\\\", 0, 1.5)\\n    sigma_a = pm.Exponential(\\\"sigma_a\\\", 1)\\n\\n    # prior for patient_id\\n    a = pm.Normal(\\\"a\\\", a_bar, sigma_a, shape=n_patient)\\n\\n    # fixed prior for insurance\\n    g = pm.Normal(\\\"g\\\", 0.0, 1.5, shape=2)\\n\\n    # link function\\n    p = pm.math.invlogit(a[df_example[\\\"patient_id\\\"]] + g[df_example[\\\"ins_code\\\"]])\\n\\n    # likelihood\\n    A = pm.Bernoulli(\\\"A\\\", p=p, observed=df_example[\\\"adherence\\\"])\\n\\n    trace_mSim3 = pm.sample(\\n        draws=1000, random_seed=19, return_inferencedata=False, progressbar=False, target_accept=0.95\\n    )\";\n                var nbb_formatted_code = \"# patientid and insurance\\nwith pm.Model() as mSim3:\\n\\n    # heirarchical prior for patient id\\n    a_bar = pm.Normal(\\\"a_bar\\\", 0, 1.5)\\n    sigma_a = pm.Exponential(\\\"sigma_a\\\", 1)\\n\\n    # prior for patient_id\\n    a = pm.Normal(\\\"a\\\", a_bar, sigma_a, shape=n_patient)\\n\\n    # fixed prior for insurance\\n    g = pm.Normal(\\\"g\\\", 0.0, 1.5, shape=2)\\n\\n    # link function\\n    p = pm.math.invlogit(a[df_example[\\\"patient_id\\\"]] + g[df_example[\\\"ins_code\\\"]])\\n\\n    # likelihood\\n    A = pm.Bernoulli(\\\"A\\\", p=p, observed=df_example[\\\"adherence\\\"])\\n\\n    trace_mSim3 = pm.sample(\\n        draws=1000,\\n        random_seed=19,\\n        return_inferencedata=False,\\n        progressbar=False,\\n        target_accept=0.95,\\n    )\";\n                var nbb_cells = Jupyter.notebook.get_cells();\n                for (var i = 0; i < nbb_cells.length; ++i) {\n                    if (nbb_cells[i].input_prompt_number == nbb_cell_id) {\n                        if (nbb_cells[i].get_text() == nbb_unformatted_code) {\n                             nbb_cells[i].set_text(nbb_formatted_code);\n                        }\n                        break;\n                    }\n                }\n            }, 500);\n            ",
      "text/plain": [
       "<IPython.core.display.Javascript object>"
      ]
     },
     "metadata": {},
     "output_type": "display_data"
    }
   ],
   "source": [
    "# patientid and insurance\n",
    "with pm.Model() as mSim3:\n",
    "\n",
    "    # heirarchical prior for patient id\n",
    "    a_bar = pm.Normal(\"a_bar\", 0, 1.5)\n",
    "    sigma_a = pm.Exponential(\"sigma_a\", 1)\n",
    "\n",
    "    # prior for patient_id\n",
    "    a = pm.Normal(\"a\", a_bar, sigma_a, shape=n_patient)\n",
    "\n",
    "    # fixed prior for insurance\n",
    "    g = pm.Normal(\"g\", 0.0, 1.5, shape=2)\n",
    "\n",
    "    # link function\n",
    "    p = pm.math.invlogit(a[df_example[\"patient_id\"]] + g[df_example[\"ins_code\"]])\n",
    "\n",
    "    # likelihood\n",
    "    A = pm.Bernoulli(\"A\", p=p, observed=df_example[\"adherence\"])\n",
    "\n",
    "    trace_mSim3 = pm.sample(\n",
    "        draws=1000,\n",
    "        random_seed=19,\n",
    "        return_inferencedata=False,\n",
    "        progressbar=False,\n",
    "        target_accept=0.95,\n",
    "    )\n"
   ]
  },
  {
   "cell_type": "code",
   "execution_count": 32,
   "id": "ed4ba37a",
   "metadata": {},
   "outputs": [
    {
     "name": "stderr",
     "output_type": "stream",
     "text": [
      "/Users/blacar/opt/anaconda3/envs/stats_rethinking/lib/python3.8/site-packages/arviz/data/io_pymc3.py:88: FutureWarning: Using `from_pymc3` without the model will be deprecated in a future release. Not using the model will return less accurate and less useful results. Make sure you use the model argument or call from_pymc3 within a model context.\n",
      "  warnings.warn(\n"
     ]
    },
    {
     "data": {
      "text/html": [
       "<div>\n",
       "<style scoped>\n",
       "    .dataframe tbody tr th:only-of-type {\n",
       "        vertical-align: middle;\n",
       "    }\n",
       "\n",
       "    .dataframe tbody tr th {\n",
       "        vertical-align: top;\n",
       "    }\n",
       "\n",
       "    .dataframe thead th {\n",
       "        text-align: right;\n",
       "    }\n",
       "</style>\n",
       "<table border=\"1\" class=\"dataframe\">\n",
       "  <thead>\n",
       "    <tr style=\"text-align: right;\">\n",
       "      <th></th>\n",
       "      <th>mean</th>\n",
       "      <th>sd</th>\n",
       "      <th>hdi_2.5%</th>\n",
       "      <th>hdi_97.5%</th>\n",
       "      <th>mcse_mean</th>\n",
       "      <th>mcse_sd</th>\n",
       "      <th>ess_mean</th>\n",
       "      <th>ess_sd</th>\n",
       "      <th>ess_bulk</th>\n",
       "      <th>ess_tail</th>\n",
       "      <th>r_hat</th>\n",
       "    </tr>\n",
       "  </thead>\n",
       "  <tbody>\n",
       "    <tr>\n",
       "      <th>a_bar</th>\n",
       "      <td>0.669</td>\n",
       "      <td>0.901</td>\n",
       "      <td>-1.127</td>\n",
       "      <td>2.473</td>\n",
       "      <td>0.045</td>\n",
       "      <td>0.032</td>\n",
       "      <td>402.0</td>\n",
       "      <td>402.0</td>\n",
       "      <td>400.0</td>\n",
       "      <td>435.0</td>\n",
       "      <td>1.01</td>\n",
       "    </tr>\n",
       "    <tr>\n",
       "      <th>a[0]</th>\n",
       "      <td>0.780</td>\n",
       "      <td>1.061</td>\n",
       "      <td>-1.396</td>\n",
       "      <td>2.817</td>\n",
       "      <td>0.049</td>\n",
       "      <td>0.035</td>\n",
       "      <td>472.0</td>\n",
       "      <td>472.0</td>\n",
       "      <td>463.0</td>\n",
       "      <td>491.0</td>\n",
       "      <td>1.01</td>\n",
       "    </tr>\n",
       "    <tr>\n",
       "      <th>a[1]</th>\n",
       "      <td>0.987</td>\n",
       "      <td>1.194</td>\n",
       "      <td>-1.276</td>\n",
       "      <td>3.317</td>\n",
       "      <td>0.056</td>\n",
       "      <td>0.039</td>\n",
       "      <td>460.0</td>\n",
       "      <td>460.0</td>\n",
       "      <td>432.0</td>\n",
       "      <td>456.0</td>\n",
       "      <td>1.01</td>\n",
       "    </tr>\n",
       "    <tr>\n",
       "      <th>a[2]</th>\n",
       "      <td>0.358</td>\n",
       "      <td>0.985</td>\n",
       "      <td>-1.553</td>\n",
       "      <td>2.294</td>\n",
       "      <td>0.045</td>\n",
       "      <td>0.032</td>\n",
       "      <td>469.0</td>\n",
       "      <td>469.0</td>\n",
       "      <td>467.0</td>\n",
       "      <td>639.0</td>\n",
       "      <td>1.01</td>\n",
       "    </tr>\n",
       "    <tr>\n",
       "      <th>a[3]</th>\n",
       "      <td>0.937</td>\n",
       "      <td>1.239</td>\n",
       "      <td>-1.509</td>\n",
       "      <td>3.233</td>\n",
       "      <td>0.057</td>\n",
       "      <td>0.040</td>\n",
       "      <td>474.0</td>\n",
       "      <td>474.0</td>\n",
       "      <td>450.0</td>\n",
       "      <td>497.0</td>\n",
       "      <td>1.01</td>\n",
       "    </tr>\n",
       "    <tr>\n",
       "      <th>a[4]</th>\n",
       "      <td>0.718</td>\n",
       "      <td>1.006</td>\n",
       "      <td>-1.387</td>\n",
       "      <td>2.551</td>\n",
       "      <td>0.046</td>\n",
       "      <td>0.032</td>\n",
       "      <td>484.0</td>\n",
       "      <td>484.0</td>\n",
       "      <td>478.0</td>\n",
       "      <td>556.0</td>\n",
       "      <td>1.01</td>\n",
       "    </tr>\n",
       "    <tr>\n",
       "      <th>a[5]</th>\n",
       "      <td>0.480</td>\n",
       "      <td>0.993</td>\n",
       "      <td>-1.369</td>\n",
       "      <td>2.519</td>\n",
       "      <td>0.046</td>\n",
       "      <td>0.033</td>\n",
       "      <td>465.0</td>\n",
       "      <td>465.0</td>\n",
       "      <td>462.0</td>\n",
       "      <td>623.0</td>\n",
       "      <td>1.01</td>\n",
       "    </tr>\n",
       "    <tr>\n",
       "      <th>g[0]</th>\n",
       "      <td>0.350</td>\n",
       "      <td>0.979</td>\n",
       "      <td>-1.520</td>\n",
       "      <td>2.333</td>\n",
       "      <td>0.045</td>\n",
       "      <td>0.032</td>\n",
       "      <td>473.0</td>\n",
       "      <td>473.0</td>\n",
       "      <td>473.0</td>\n",
       "      <td>668.0</td>\n",
       "      <td>1.01</td>\n",
       "    </tr>\n",
       "    <tr>\n",
       "      <th>g[1]</th>\n",
       "      <td>0.361</td>\n",
       "      <td>0.969</td>\n",
       "      <td>-1.547</td>\n",
       "      <td>2.120</td>\n",
       "      <td>0.044</td>\n",
       "      <td>0.031</td>\n",
       "      <td>474.0</td>\n",
       "      <td>474.0</td>\n",
       "      <td>474.0</td>\n",
       "      <td>1022.0</td>\n",
       "      <td>1.01</td>\n",
       "    </tr>\n",
       "    <tr>\n",
       "      <th>sigma_a</th>\n",
       "      <td>0.635</td>\n",
       "      <td>0.544</td>\n",
       "      <td>0.069</td>\n",
       "      <td>1.731</td>\n",
       "      <td>0.030</td>\n",
       "      <td>0.021</td>\n",
       "      <td>330.0</td>\n",
       "      <td>330.0</td>\n",
       "      <td>224.0</td>\n",
       "      <td>185.0</td>\n",
       "      <td>1.01</td>\n",
       "    </tr>\n",
       "  </tbody>\n",
       "</table>\n",
       "</div>"
      ],
      "text/plain": [
       "          mean     sd  hdi_2.5%  hdi_97.5%  mcse_mean  mcse_sd  ess_mean  \\\n",
       "a_bar    0.669  0.901    -1.127      2.473      0.045    0.032     402.0   \n",
       "a[0]     0.780  1.061    -1.396      2.817      0.049    0.035     472.0   \n",
       "a[1]     0.987  1.194    -1.276      3.317      0.056    0.039     460.0   \n",
       "a[2]     0.358  0.985    -1.553      2.294      0.045    0.032     469.0   \n",
       "a[3]     0.937  1.239    -1.509      3.233      0.057    0.040     474.0   \n",
       "a[4]     0.718  1.006    -1.387      2.551      0.046    0.032     484.0   \n",
       "a[5]     0.480  0.993    -1.369      2.519      0.046    0.033     465.0   \n",
       "g[0]     0.350  0.979    -1.520      2.333      0.045    0.032     473.0   \n",
       "g[1]     0.361  0.969    -1.547      2.120      0.044    0.031     474.0   \n",
       "sigma_a  0.635  0.544     0.069      1.731      0.030    0.021     330.0   \n",
       "\n",
       "         ess_sd  ess_bulk  ess_tail  r_hat  \n",
       "a_bar     402.0     400.0     435.0   1.01  \n",
       "a[0]      472.0     463.0     491.0   1.01  \n",
       "a[1]      460.0     432.0     456.0   1.01  \n",
       "a[2]      469.0     467.0     639.0   1.01  \n",
       "a[3]      474.0     450.0     497.0   1.01  \n",
       "a[4]      484.0     478.0     556.0   1.01  \n",
       "a[5]      465.0     462.0     623.0   1.01  \n",
       "g[0]      473.0     473.0     668.0   1.01  \n",
       "g[1]      474.0     474.0    1022.0   1.01  \n",
       "sigma_a   330.0     224.0     185.0   1.01  "
      ]
     },
     "execution_count": 32,
     "metadata": {},
     "output_type": "execute_result"
    },
    {
     "data": {
      "application/javascript": "\n            setTimeout(function() {\n                var nbb_cell_id = 32;\n                var nbb_unformatted_code = \"az.summary(trace_mSim3)\";\n                var nbb_formatted_code = \"az.summary(trace_mSim3)\";\n                var nbb_cells = Jupyter.notebook.get_cells();\n                for (var i = 0; i < nbb_cells.length; ++i) {\n                    if (nbb_cells[i].input_prompt_number == nbb_cell_id) {\n                        if (nbb_cells[i].get_text() == nbb_unformatted_code) {\n                             nbb_cells[i].set_text(nbb_formatted_code);\n                        }\n                        break;\n                    }\n                }\n            }, 500);\n            ",
      "text/plain": [
       "<IPython.core.display.Javascript object>"
      ]
     },
     "metadata": {},
     "output_type": "display_data"
    }
   ],
   "source": [
    "az.summary(trace_mSim3)\n"
   ]
  },
  {
   "cell_type": "code",
   "execution_count": 49,
   "id": "6d2227de",
   "metadata": {},
   "outputs": [
    {
     "data": {
      "application/javascript": "\n            setTimeout(function() {\n                var nbb_cell_id = 49;\n                var nbb_unformatted_code = \"df_example['occ_code'] = pd.Categorical(df_example['occupation']).codes\\ndf_example.head()\\n\\nn_ins = len(df_example['ins_code'].unique())\\nn_occ = len(df_example['occ_code'].unique())\";\n                var nbb_formatted_code = \"df_example[\\\"occ_code\\\"] = pd.Categorical(df_example[\\\"occupation\\\"]).codes\\ndf_example.head()\\n\\nn_ins = len(df_example[\\\"ins_code\\\"].unique())\\nn_occ = len(df_example[\\\"occ_code\\\"].unique())\";\n                var nbb_cells = Jupyter.notebook.get_cells();\n                for (var i = 0; i < nbb_cells.length; ++i) {\n                    if (nbb_cells[i].input_prompt_number == nbb_cell_id) {\n                        if (nbb_cells[i].get_text() == nbb_unformatted_code) {\n                             nbb_cells[i].set_text(nbb_formatted_code);\n                        }\n                        break;\n                    }\n                }\n            }, 500);\n            ",
      "text/plain": [
       "<IPython.core.display.Javascript object>"
      ]
     },
     "metadata": {},
     "output_type": "display_data"
    }
   ],
   "source": [
    "df_example[\"occ_code\"] = pd.Categorical(df_example[\"occupation\"]).codes\n",
    "df_example.head()\n",
    "\n",
    "n_ins = len(df_example[\"ins_code\"].unique())\n",
    "n_occ = len(df_example[\"occ_code\"].unique())\n"
   ]
  },
  {
   "cell_type": "code",
   "execution_count": 52,
   "id": "f525511b",
   "metadata": {},
   "outputs": [
    {
     "name": "stderr",
     "output_type": "stream",
     "text": [
      "Auto-assigning NUTS sampler...\n",
      "INFO:pymc3:Auto-assigning NUTS sampler...\n",
      "Initializing NUTS using jitter+adapt_diag...\n",
      "INFO:pymc3:Initializing NUTS using jitter+adapt_diag...\n",
      "Multiprocess sampling (4 chains in 4 jobs)\n",
      "INFO:pymc3:Multiprocess sampling (4 chains in 4 jobs)\n",
      "NUTS: [d, g, sigma_a, z, a_bar]\n",
      "INFO:pymc3:NUTS: [d, g, sigma_a, z, a_bar]\n",
      "Sampling 4 chains for 1_000 tune and 1_000 draw iterations (4_000 + 4_000 draws total) took 26 seconds.\n",
      "INFO:pymc3:Sampling 4 chains for 1_000 tune and 1_000 draw iterations (4_000 + 4_000 draws total) took 26 seconds.\n"
     ]
    },
    {
     "data": {
      "application/javascript": "\n            setTimeout(function() {\n                var nbb_cell_id = 52;\n                var nbb_unformatted_code = \"# patientid and insurance\\nwith pm.Model() as mSim4nc:\\n\\n    # heirarchical prior for patient_id\\n    a_bar = pm.Normal(\\\"a_bar\\\", 0, 1.5)\\n    \\n    z = pm.Normal(\\\"z\\\", 0, 1, shape=n_patient)\\n    sigma_a = pm.Exponential(\\\"sigma_a\\\", 1)\\n\\n    # prior for patient_id\\n    # a = pm.Normal(\\\"a\\\", a_bar, sigma_a, shape=n_patient)   # centered version\\n    a = pm.Deterministic(\\\"a\\\", a_bar + z * sigma_a)\\n\\n    # fixed prior for insurance, occupation\\n    g = pm.Normal(\\\"g\\\", 0.0, 1.5, shape=n_ins)\\n    d = pm.Normal(\\\"d\\\", 0.0, 1.5, shape=n_occ)\\n\\n    # link function\\n    p = pm.math.invlogit(a[df_example[\\\"patient_id\\\"]] + g[df_example[\\\"ins_code\\\"]] + d[df_example[\\\"occ_code\\\"]])\\n\\n    # likelihood\\n    A = pm.Bernoulli(\\\"A\\\", p=p, observed=df_example[\\\"adherence\\\"])\\n\\n    trace_mSim4nc = pm.sample(\\n        draws=1000, random_seed=19, return_inferencedata=False, progressbar=False, target_accept=0.95\\n    )\";\n                var nbb_formatted_code = \"# patientid and insurance\\nwith pm.Model() as mSim4nc:\\n\\n    # heirarchical prior for patient_id\\n    a_bar = pm.Normal(\\\"a_bar\\\", 0, 1.5)\\n\\n    z = pm.Normal(\\\"z\\\", 0, 1, shape=n_patient)\\n    sigma_a = pm.Exponential(\\\"sigma_a\\\", 1)\\n\\n    # prior for patient_id\\n    # a = pm.Normal(\\\"a\\\", a_bar, sigma_a, shape=n_patient)   # centered version\\n    a = pm.Deterministic(\\\"a\\\", a_bar + z * sigma_a)\\n\\n    # fixed prior for insurance, occupation\\n    g = pm.Normal(\\\"g\\\", 0.0, 1.5, shape=n_ins)\\n    d = pm.Normal(\\\"d\\\", 0.0, 1.5, shape=n_occ)\\n\\n    # link function\\n    p = pm.math.invlogit(\\n        a[df_example[\\\"patient_id\\\"]]\\n        + g[df_example[\\\"ins_code\\\"]]\\n        + d[df_example[\\\"occ_code\\\"]]\\n    )\\n\\n    # likelihood\\n    A = pm.Bernoulli(\\\"A\\\", p=p, observed=df_example[\\\"adherence\\\"])\\n\\n    trace_mSim4nc = pm.sample(\\n        draws=1000,\\n        random_seed=19,\\n        return_inferencedata=False,\\n        progressbar=False,\\n        target_accept=0.95,\\n    )\";\n                var nbb_cells = Jupyter.notebook.get_cells();\n                for (var i = 0; i < nbb_cells.length; ++i) {\n                    if (nbb_cells[i].input_prompt_number == nbb_cell_id) {\n                        if (nbb_cells[i].get_text() == nbb_unformatted_code) {\n                             nbb_cells[i].set_text(nbb_formatted_code);\n                        }\n                        break;\n                    }\n                }\n            }, 500);\n            ",
      "text/plain": [
       "<IPython.core.display.Javascript object>"
      ]
     },
     "metadata": {},
     "output_type": "display_data"
    }
   ],
   "source": [
    "# patientid and insurance\n",
    "with pm.Model() as mSim4nc:\n",
    "\n",
    "    # heirarchical prior for patient_id\n",
    "    a_bar = pm.Normal(\"a_bar\", 0, 1.5)\n",
    "\n",
    "    z = pm.Normal(\"z\", 0, 1, shape=n_patient)\n",
    "    sigma_a = pm.Exponential(\"sigma_a\", 1)\n",
    "\n",
    "    # prior for patient_id\n",
    "    # a = pm.Normal(\"a\", a_bar, sigma_a, shape=n_patient)   # centered version\n",
    "    a = pm.Deterministic(\"a\", a_bar + z * sigma_a)\n",
    "\n",
    "    # fixed prior for insurance, occupation\n",
    "    g = pm.Normal(\"g\", 0.0, 1.5, shape=n_ins)\n",
    "    d = pm.Normal(\"d\", 0.0, 1.5, shape=n_occ)\n",
    "\n",
    "    # link function\n",
    "    p = pm.math.invlogit(\n",
    "        a[df_example[\"patient_id\"]]\n",
    "        + g[df_example[\"ins_code\"]]\n",
    "        + d[df_example[\"occ_code\"]]\n",
    "    )\n",
    "\n",
    "    # likelihood\n",
    "    A = pm.Bernoulli(\"A\", p=p, observed=df_example[\"adherence\"])\n",
    "\n",
    "    trace_mSim4nc = pm.sample(\n",
    "        draws=1000,\n",
    "        random_seed=19,\n",
    "        return_inferencedata=False,\n",
    "        progressbar=False,\n",
    "        target_accept=0.95,\n",
    "    )\n"
   ]
  },
  {
   "cell_type": "code",
   "execution_count": 56,
   "id": "37775b8e",
   "metadata": {},
   "outputs": [
    {
     "name": "stderr",
     "output_type": "stream",
     "text": [
      "/Users/blacar/opt/anaconda3/envs/stats_rethinking/lib/python3.8/site-packages/arviz/stats/stats.py:146: UserWarning: The default method used to estimate the weights for each model,has changed from BB-pseudo-BMA to stacking\n",
      "  warnings.warn(\n",
      "/Users/blacar/opt/anaconda3/envs/stats_rethinking/lib/python3.8/site-packages/arviz/data/io_pymc3.py:88: FutureWarning: Using `from_pymc3` without the model will be deprecated in a future release. Not using the model will return less accurate and less useful results. Make sure you use the model argument or call from_pymc3 within a model context.\n",
      "  warnings.warn(\n",
      "/Users/blacar/opt/anaconda3/envs/stats_rethinking/lib/python3.8/site-packages/arviz/data/io_pymc3.py:88: FutureWarning: Using `from_pymc3` without the model will be deprecated in a future release. Not using the model will return less accurate and less useful results. Make sure you use the model argument or call from_pymc3 within a model context.\n",
      "  warnings.warn(\n",
      "/Users/blacar/opt/anaconda3/envs/stats_rethinking/lib/python3.8/site-packages/arviz/data/io_pymc3.py:88: FutureWarning: Using `from_pymc3` without the model will be deprecated in a future release. Not using the model will return less accurate and less useful results. Make sure you use the model argument or call from_pymc3 within a model context.\n",
      "  warnings.warn(\n",
      "/Users/blacar/opt/anaconda3/envs/stats_rethinking/lib/python3.8/site-packages/arviz/data/io_pymc3.py:88: FutureWarning: Using `from_pymc3` without the model will be deprecated in a future release. Not using the model will return less accurate and less useful results. Make sure you use the model argument or call from_pymc3 within a model context.\n",
      "  warnings.warn(\n",
      "/Users/blacar/opt/anaconda3/envs/stats_rethinking/lib/python3.8/site-packages/arviz/data/io_pymc3.py:88: FutureWarning: Using `from_pymc3` without the model will be deprecated in a future release. Not using the model will return less accurate and less useful results. Make sure you use the model argument or call from_pymc3 within a model context.\n",
      "  warnings.warn(\n"
     ]
    },
    {
     "data": {
      "text/html": [
       "<div>\n",
       "<style scoped>\n",
       "    .dataframe tbody tr th:only-of-type {\n",
       "        vertical-align: middle;\n",
       "    }\n",
       "\n",
       "    .dataframe tbody tr th {\n",
       "        vertical-align: top;\n",
       "    }\n",
       "\n",
       "    .dataframe thead th {\n",
       "        text-align: right;\n",
       "    }\n",
       "</style>\n",
       "<table border=\"1\" class=\"dataframe\">\n",
       "  <thead>\n",
       "    <tr style=\"text-align: right;\">\n",
       "      <th></th>\n",
       "      <th>rank</th>\n",
       "      <th>loo</th>\n",
       "      <th>p_loo</th>\n",
       "      <th>d_loo</th>\n",
       "      <th>weight</th>\n",
       "      <th>se</th>\n",
       "      <th>dse</th>\n",
       "      <th>warning</th>\n",
       "      <th>loo_scale</th>\n",
       "    </tr>\n",
       "  </thead>\n",
       "  <tbody>\n",
       "    <tr>\n",
       "      <th>patient only, non-centered</th>\n",
       "      <td>0</td>\n",
       "      <td>-22.374123</td>\n",
       "      <td>2.005743</td>\n",
       "      <td>0.000000</td>\n",
       "      <td>1.000000e+00</td>\n",
       "      <td>2.514161</td>\n",
       "      <td>0.000000</td>\n",
       "      <td>False</td>\n",
       "      <td>log</td>\n",
       "    </tr>\n",
       "    <tr>\n",
       "      <th>patient only, centered</th>\n",
       "      <td>1</td>\n",
       "      <td>-22.463653</td>\n",
       "      <td>2.094190</td>\n",
       "      <td>0.089530</td>\n",
       "      <td>1.375289e-14</td>\n",
       "      <td>2.650797</td>\n",
       "      <td>0.146255</td>\n",
       "      <td>False</td>\n",
       "      <td>log</td>\n",
       "    </tr>\n",
       "    <tr>\n",
       "      <th>ins only</th>\n",
       "      <td>2</td>\n",
       "      <td>-22.830595</td>\n",
       "      <td>1.860344</td>\n",
       "      <td>0.456472</td>\n",
       "      <td>0.000000e+00</td>\n",
       "      <td>2.457318</td>\n",
       "      <td>0.375506</td>\n",
       "      <td>False</td>\n",
       "      <td>log</td>\n",
       "    </tr>\n",
       "    <tr>\n",
       "      <th>ins + patient</th>\n",
       "      <td>3</td>\n",
       "      <td>-23.358177</td>\n",
       "      <td>3.123838</td>\n",
       "      <td>0.984054</td>\n",
       "      <td>0.000000e+00</td>\n",
       "      <td>2.734794</td>\n",
       "      <td>0.275397</td>\n",
       "      <td>False</td>\n",
       "      <td>log</td>\n",
       "    </tr>\n",
       "    <tr>\n",
       "      <th>ins + patient + occupation</th>\n",
       "      <td>4</td>\n",
       "      <td>-23.797574</td>\n",
       "      <td>3.834274</td>\n",
       "      <td>1.423451</td>\n",
       "      <td>0.000000e+00</td>\n",
       "      <td>2.843867</td>\n",
       "      <td>0.537456</td>\n",
       "      <td>False</td>\n",
       "      <td>log</td>\n",
       "    </tr>\n",
       "  </tbody>\n",
       "</table>\n",
       "</div>"
      ],
      "text/plain": [
       "                            rank        loo     p_loo     d_loo        weight  \\\n",
       "patient only, non-centered     0 -22.374123  2.005743  0.000000  1.000000e+00   \n",
       "patient only, centered         1 -22.463653  2.094190  0.089530  1.375289e-14   \n",
       "ins only                       2 -22.830595  1.860344  0.456472  0.000000e+00   \n",
       "ins + patient                  3 -23.358177  3.123838  0.984054  0.000000e+00   \n",
       "ins + patient + occupation     4 -23.797574  3.834274  1.423451  0.000000e+00   \n",
       "\n",
       "                                  se       dse  warning loo_scale  \n",
       "patient only, non-centered  2.514161  0.000000    False       log  \n",
       "patient only, centered      2.650797  0.146255    False       log  \n",
       "ins only                    2.457318  0.375506    False       log  \n",
       "ins + patient               2.734794  0.275397    False       log  \n",
       "ins + patient + occupation  2.843867  0.537456    False       log  "
      ]
     },
     "execution_count": 56,
     "metadata": {},
     "output_type": "execute_result"
    },
    {
     "data": {
      "application/javascript": "\n            setTimeout(function() {\n                var nbb_cell_id = 56;\n                var nbb_unformatted_code = \"az.compare(\\n    {\\n    \\\"ins only\\\":trace_mSim1,\\n    \\\"patient only, centered\\\":trace_mSim2,\\n    \\\"patient only, non-centered\\\":trace_mSim2nc,\\n    \\\"ins + patient\\\":trace_mSim3,\\n    \\\"ins + patient + occupation\\\":trace_mSim4nc\\n    },\\n    ic='loo'\\n    )\";\n                var nbb_formatted_code = \"az.compare(\\n    {\\n        \\\"ins only\\\": trace_mSim1,\\n        \\\"patient only, centered\\\": trace_mSim2,\\n        \\\"patient only, non-centered\\\": trace_mSim2nc,\\n        \\\"ins + patient\\\": trace_mSim3,\\n        \\\"ins + patient + occupation\\\": trace_mSim4nc,\\n    },\\n    ic=\\\"loo\\\",\\n)\";\n                var nbb_cells = Jupyter.notebook.get_cells();\n                for (var i = 0; i < nbb_cells.length; ++i) {\n                    if (nbb_cells[i].input_prompt_number == nbb_cell_id) {\n                        if (nbb_cells[i].get_text() == nbb_unformatted_code) {\n                             nbb_cells[i].set_text(nbb_formatted_code);\n                        }\n                        break;\n                    }\n                }\n            }, 500);\n            ",
      "text/plain": [
       "<IPython.core.display.Javascript object>"
      ]
     },
     "metadata": {},
     "output_type": "display_data"
    }
   ],
   "source": [
    "az.compare(\n",
    "    {\n",
    "        \"ins only\": trace_mSim1,\n",
    "        \"patient only, centered\": trace_mSim2,\n",
    "        \"patient only, non-centered\": trace_mSim2nc,\n",
    "        \"ins + patient\": trace_mSim3,\n",
    "        \"ins + patient + occupation\": trace_mSim4nc,\n",
    "    },\n",
    "    ic=\"loo\",\n",
    ")\n"
   ]
  },
  {
   "cell_type": "code",
   "execution_count": null,
   "id": "5d749615",
   "metadata": {},
   "outputs": [],
   "source": []
  },
  {
   "cell_type": "code",
   "execution_count": 35,
   "id": "fbabe52b",
   "metadata": {},
   "outputs": [
    {
     "name": "stderr",
     "output_type": "stream",
     "text": [
      "/Users/blacar/opt/anaconda3/envs/stats_rethinking/lib/python3.8/site-packages/arviz/data/io_pymc3.py:88: FutureWarning: Using `from_pymc3` without the model will be deprecated in a future release. Not using the model will return less accurate and less useful results. Make sure you use the model argument or call from_pymc3 within a model context.\n",
      "  warnings.warn(\n"
     ]
    },
    {
     "data": {
      "text/plain": [
       "g[0]    0.810\n",
       "g[1]    0.915\n",
       "Name: mean, dtype: float64"
      ]
     },
     "execution_count": 35,
     "metadata": {},
     "output_type": "execute_result"
    },
    {
     "data": {
      "application/javascript": "\n            setTimeout(function() {\n                var nbb_cell_id = 35;\n                var nbb_unformatted_code = \"az.summary(trace_mSim1)['mean']\";\n                var nbb_formatted_code = \"az.summary(trace_mSim1)[\\\"mean\\\"]\";\n                var nbb_cells = Jupyter.notebook.get_cells();\n                for (var i = 0; i < nbb_cells.length; ++i) {\n                    if (nbb_cells[i].input_prompt_number == nbb_cell_id) {\n                        if (nbb_cells[i].get_text() == nbb_unformatted_code) {\n                             nbb_cells[i].set_text(nbb_formatted_code);\n                        }\n                        break;\n                    }\n                }\n            }, 500);\n            ",
      "text/plain": [
       "<IPython.core.display.Javascript object>"
      ]
     },
     "metadata": {},
     "output_type": "display_data"
    }
   ],
   "source": [
    "az.summary(trace_mSim1)[\"mean\"]\n"
   ]
  },
  {
   "cell_type": "code",
   "execution_count": 34,
   "id": "cca7a6f3",
   "metadata": {},
   "outputs": [
    {
     "name": "stderr",
     "output_type": "stream",
     "text": [
      "/Users/blacar/opt/anaconda3/envs/stats_rethinking/lib/python3.8/site-packages/arviz/data/io_pymc3.py:88: FutureWarning: Using `from_pymc3` without the model will be deprecated in a future release. Not using the model will return less accurate and less useful results. Make sure you use the model argument or call from_pymc3 within a model context.\n",
      "  warnings.warn(\n"
     ]
    },
    {
     "data": {
      "text/plain": [
       "a_bar      1.006\n",
       "a[0]       1.083\n",
       "a[1]       1.238\n",
       "a[2]       0.781\n",
       "a[3]       1.190\n",
       "a[4]       1.056\n",
       "a[5]       0.881\n",
       "sigma_a    0.483\n",
       "Name: mean, dtype: float64"
      ]
     },
     "execution_count": 34,
     "metadata": {},
     "output_type": "execute_result"
    },
    {
     "data": {
      "application/javascript": "\n            setTimeout(function() {\n                var nbb_cell_id = 34;\n                var nbb_unformatted_code = \"az.summary(trace_mSim2)['mean']\";\n                var nbb_formatted_code = \"az.summary(trace_mSim2)[\\\"mean\\\"]\";\n                var nbb_cells = Jupyter.notebook.get_cells();\n                for (var i = 0; i < nbb_cells.length; ++i) {\n                    if (nbb_cells[i].input_prompt_number == nbb_cell_id) {\n                        if (nbb_cells[i].get_text() == nbb_unformatted_code) {\n                             nbb_cells[i].set_text(nbb_formatted_code);\n                        }\n                        break;\n                    }\n                }\n            }, 500);\n            ",
      "text/plain": [
       "<IPython.core.display.Javascript object>"
      ]
     },
     "metadata": {},
     "output_type": "display_data"
    }
   ],
   "source": [
    "az.summary(trace_mSim2)[\"mean\"]\n"
   ]
  },
  {
   "cell_type": "code",
   "execution_count": 33,
   "id": "c8e1eae4",
   "metadata": {},
   "outputs": [
    {
     "name": "stderr",
     "output_type": "stream",
     "text": [
      "/Users/blacar/opt/anaconda3/envs/stats_rethinking/lib/python3.8/site-packages/arviz/data/io_pymc3.py:88: FutureWarning: Using `from_pymc3` without the model will be deprecated in a future release. Not using the model will return less accurate and less useful results. Make sure you use the model argument or call from_pymc3 within a model context.\n",
      "  warnings.warn(\n"
     ]
    },
    {
     "data": {
      "text/plain": [
       "a_bar      0.669\n",
       "a[0]       0.780\n",
       "a[1]       0.987\n",
       "a[2]       0.358\n",
       "a[3]       0.937\n",
       "a[4]       0.718\n",
       "a[5]       0.480\n",
       "g[0]       0.350\n",
       "g[1]       0.361\n",
       "sigma_a    0.635\n",
       "Name: mean, dtype: float64"
      ]
     },
     "execution_count": 33,
     "metadata": {},
     "output_type": "execute_result"
    },
    {
     "data": {
      "application/javascript": "\n            setTimeout(function() {\n                var nbb_cell_id = 33;\n                var nbb_unformatted_code = \"az.summary(trace_mSim3)['mean']\";\n                var nbb_formatted_code = \"az.summary(trace_mSim3)[\\\"mean\\\"]\";\n                var nbb_cells = Jupyter.notebook.get_cells();\n                for (var i = 0; i < nbb_cells.length; ++i) {\n                    if (nbb_cells[i].input_prompt_number == nbb_cell_id) {\n                        if (nbb_cells[i].get_text() == nbb_unformatted_code) {\n                             nbb_cells[i].set_text(nbb_formatted_code);\n                        }\n                        break;\n                    }\n                }\n            }, 500);\n            ",
      "text/plain": [
       "<IPython.core.display.Javascript object>"
      ]
     },
     "metadata": {},
     "output_type": "display_data"
    }
   ],
   "source": [
    "az.summary(trace_mSim3)[\"mean\"]\n"
   ]
  },
  {
   "cell_type": "markdown",
   "id": "6dae9091",
   "metadata": {},
   "source": [
    "# Appendix: Discovery of `pymc` bug\n",
    "\n",
    "While working on the above post, I discovered a weird bug that I've narrowed down to `pymc` affecting the behavior of functions outside `pymc`."
   ]
  },
  {
   "cell_type": "code",
   "execution_count": 4,
   "id": "823f890a",
   "metadata": {},
   "outputs": [
    {
     "name": "stdout",
     "output_type": "stream",
     "text": [
      " --- loop 0 --- \n",
      "[ 2.78781918  0.20696795 -0.47400206  2.25240217 -0.30937806]\n",
      "\n",
      " --- loop 1 --- \n",
      "[ 1.50876659  1.8221553  -1.20705219 -0.84927821 -0.8085355 ]\n",
      "\n",
      " --- loop 2 --- \n",
      "[1.69489455 0.88016133 0.36331002 1.06086608 0.66051196]\n",
      "\n",
      " --- loop 3 --- \n",
      "[2.00567726 2.87549063 0.62016998 1.34740385 1.00873457]\n",
      "\n",
      " --- loop 4 --- \n",
      "[ 1.10582285  0.56149565 -0.45163869  1.90397246  3.30575103]\n",
      "\n"
     ]
    }
   ],
   "source": [
    "for i in range(5):\n",
    "    print(f\" --- loop {i} --- \", end='\\n')\n",
    "    test_vals = stats.norm.rvs(loc=1, scale=1, size=5)\n",
    "    print(test_vals, end='\\n\\n')"
   ]
  },
  {
   "cell_type": "code",
   "execution_count": 5,
   "id": "091c15df",
   "metadata": {},
   "outputs": [
    {
     "name": "stderr",
     "output_type": "stream",
     "text": [
      "Only 100 samples in chain.\n"
     ]
    },
    {
     "name": "stdout",
     "output_type": "stream",
     "text": [
      " --- loop0 --- \n",
      "[2.80274505 2.58392764 0.66411826 3.68247745 0.65144538]\n"
     ]
    },
    {
     "name": "stderr",
     "output_type": "stream",
     "text": [
      "Auto-assigning NUTS sampler...\n",
      "Initializing NUTS using jitter+adapt_diag...\n",
      "Multiprocess sampling (4 chains in 4 jobs)\n",
      "NUTS: [dummy]\n",
      "Sampling 4 chains for 1_000 tune and 100 draw iterations (4_000 + 400 draws total) took 15 seconds.\n",
      "Only 100 samples in chain.\n",
      "Auto-assigning NUTS sampler...\n",
      "Initializing NUTS using jitter+adapt_diag...\n"
     ]
    },
    {
     "name": "stdout",
     "output_type": "stream",
     "text": [
      " --- loop1 --- \n",
      "[0.67536384 1.72740423 2.02626766 3.12547542 1.55755134]\n"
     ]
    },
    {
     "name": "stderr",
     "output_type": "stream",
     "text": [
      "Multiprocess sampling (4 chains in 4 jobs)\n",
      "NUTS: [dummy]\n",
      "Sampling 4 chains for 1_000 tune and 100 draw iterations (4_000 + 400 draws total) took 13 seconds.\n",
      "The acceptance probability does not match the target. It is 0.8787, but should be close to 0.8. Try to increase the number of tuning steps.\n",
      "Only 100 samples in chain.\n",
      "Auto-assigning NUTS sampler...\n",
      "Initializing NUTS using jitter+adapt_diag...\n"
     ]
    },
    {
     "name": "stdout",
     "output_type": "stream",
     "text": [
      " --- loop2 --- \n",
      "[1.81629014 1.93631693 2.71444791 1.445055   2.36539921]\n"
     ]
    },
    {
     "name": "stderr",
     "output_type": "stream",
     "text": [
      "Multiprocess sampling (4 chains in 4 jobs)\n",
      "NUTS: [dummy]\n",
      "Sampling 4 chains for 1_000 tune and 100 draw iterations (4_000 + 400 draws total) took 13 seconds.\n",
      "The acceptance probability does not match the target. It is 0.8892, but should be close to 0.8. Try to increase the number of tuning steps.\n",
      "Only 100 samples in chain.\n",
      "Auto-assigning NUTS sampler...\n",
      "Initializing NUTS using jitter+adapt_diag...\n"
     ]
    },
    {
     "name": "stdout",
     "output_type": "stream",
     "text": [
      " --- loop3 --- \n",
      "[1.62564    1.81547907 2.7349837  2.79065454 2.51750992]\n"
     ]
    },
    {
     "name": "stderr",
     "output_type": "stream",
     "text": [
      "Multiprocess sampling (4 chains in 4 jobs)\n",
      "NUTS: [dummy]\n",
      "Sampling 4 chains for 1_000 tune and 100 draw iterations (4_000 + 400 draws total) took 13 seconds.\n",
      "Only 100 samples in chain.\n",
      "Auto-assigning NUTS sampler...\n",
      "Initializing NUTS using jitter+adapt_diag...\n"
     ]
    },
    {
     "name": "stdout",
     "output_type": "stream",
     "text": [
      " --- loop4 --- \n",
      "[2.55248326 1.64696853 0.92084814 1.40946193 2.93765212]\n"
     ]
    },
    {
     "name": "stderr",
     "output_type": "stream",
     "text": [
      "Multiprocess sampling (4 chains in 4 jobs)\n",
      "NUTS: [dummy]\n",
      "Sampling 4 chains for 1_000 tune and 100 draw iterations (4_000 + 400 draws total) took 13 seconds.\n",
      "The acceptance probability does not match the target. It is 0.894, but should be close to 0.8. Try to increase the number of tuning steps.\n",
      "The acceptance probability does not match the target. It is 0.8849, but should be close to 0.8. Try to increase the number of tuning steps.\n"
     ]
    }
   ],
   "source": [
    "for i in range(5):\n",
    "    print(f\" --- loop{i} --- \", end='\\n')\n",
    "    test_vals = stats.norm.rvs(loc=2, scale=1, size=5)\n",
    "    print(test_vals, end='\\n')\n",
    "\n",
    "    with pm.Model() as mS:\n",
    "        dummy = pm.Normal(\"dummy\", 0, 0.5)\n",
    "        trace_test = pm.sample(\n",
    "            draws=100, random_seed=None, return_inferencedata=False, progressbar=False\n",
    "        )\n",
    "\n",
    "        "
   ]
  },
  {
   "cell_type": "code",
   "execution_count": 17,
   "id": "d87222e7",
   "metadata": {},
   "outputs": [],
   "source": [
    "import numpy as np\n",
    "import arviz as az"
   ]
  },
  {
   "cell_type": "code",
   "execution_count": 20,
   "id": "52e4b86b",
   "metadata": {},
   "outputs": [
    {
     "ename": "AttributeError",
     "evalue": "'MultiTrace' object has no attribute 'head'",
     "output_type": "error",
     "traceback": [
      "\u001b[0;31m---------------------------------------------------------------------------\u001b[0m",
      "\u001b[0;31mAttributeError\u001b[0m                            Traceback (most recent call last)",
      "\u001b[1;32m/Users/blacar/Documents/ds_projects/stats_rethinking/repo/blog_entries/stats_rethinking_repeated_obs.ipynb Cell 62'\u001b[0m in \u001b[0;36m<cell line: 1>\u001b[0;34m()\u001b[0m\n\u001b[0;32m----> <a href='vscode-notebook-cell:/Users/blacar/Documents/ds_projects/stats_rethinking/repo/blog_entries/stats_rethinking_repeated_obs.ipynb#ch0000253?line=0'>1</a>\u001b[0m trace_test\u001b[39m.\u001b[39;49mhead()\n",
      "File \u001b[0;32m~/opt/anaconda3/envs/pymc3dev_env/lib/python3.9/site-packages/pymc/backends/base.py:379\u001b[0m, in \u001b[0;36mMultiTrace.__getattr__\u001b[0;34m(self, name)\u001b[0m\n\u001b[1;32m    <a href='file:///Users/blacar/opt/anaconda3/envs/pymc3dev_env/lib/python3.9/site-packages/pymc/backends/base.py?line=376'>377</a>\u001b[0m \u001b[39mif\u001b[39;00m name \u001b[39min\u001b[39;00m \u001b[39mself\u001b[39m\u001b[39m.\u001b[39mstat_names:\n\u001b[1;32m    <a href='file:///Users/blacar/opt/anaconda3/envs/pymc3dev_env/lib/python3.9/site-packages/pymc/backends/base.py?line=377'>378</a>\u001b[0m     \u001b[39mreturn\u001b[39;00m \u001b[39mself\u001b[39m\u001b[39m.\u001b[39mget_sampler_stats(name)\n\u001b[0;32m--> <a href='file:///Users/blacar/opt/anaconda3/envs/pymc3dev_env/lib/python3.9/site-packages/pymc/backends/base.py?line=378'>379</a>\u001b[0m \u001b[39mraise\u001b[39;00m \u001b[39mAttributeError\u001b[39;00m(\u001b[39mf\u001b[39m\u001b[39m\"\u001b[39m\u001b[39m'\u001b[39m\u001b[39m{\u001b[39;00m\u001b[39mtype\u001b[39m(\u001b[39mself\u001b[39m)\u001b[39m.\u001b[39m\u001b[39m__name__\u001b[39m\u001b[39m}\u001b[39;00m\u001b[39m'\u001b[39m\u001b[39m object has no attribute \u001b[39m\u001b[39m'\u001b[39m\u001b[39m{\u001b[39;00mname\u001b[39m}\u001b[39;00m\u001b[39m'\u001b[39m\u001b[39m\"\u001b[39m)\n",
      "\u001b[0;31mAttributeError\u001b[0m: 'MultiTrace' object has no attribute 'head'"
     ]
    }
   ],
   "source": []
  },
  {
   "cell_type": "code",
   "execution_count": 26,
   "id": "74499b48",
   "metadata": {},
   "outputs": [
    {
     "name": "stderr",
     "output_type": "stream",
     "text": [
      "Only 100 samples in chain.\n",
      "Auto-assigning NUTS sampler...\n",
      "Initializing NUTS using jitter+adapt_diag...\n"
     ]
    },
    {
     "name": "stdout",
     "output_type": "stream",
     "text": [
      " --- loop0 --- \n",
      "stats.norm.rvs values:  [ 0.019048   -0.16396249 -1.36197385  1.33321176  1.46444872]\n",
      "\n"
     ]
    },
    {
     "name": "stderr",
     "output_type": "stream",
     "text": [
      "Multiprocess sampling (4 chains in 4 jobs)\n",
      "NUTS: [dummy]\n",
      "Sampling 4 chains for 1_000 tune and 100 draw iterations (4_000 + 400 draws total) took 14 seconds.\n",
      "The acceptance probability does not match the target. It is 0.8853, but should be close to 0.8. Try to increase the number of tuning steps.\n",
      "Only 100 samples in chain.\n",
      "Auto-assigning NUTS sampler...\n",
      "Initializing NUTS using jitter+adapt_diag...\n"
     ]
    },
    {
     "name": "stdout",
     "output_type": "stream",
     "text": [
      "check pymc sampling with random_seed=0\n",
      "[-0.46795611 -0.23220823  0.22529251  0.76628907 -0.71146223]\n",
      "reset random seed\n",
      " --- loop1 --- \n",
      "stats.norm.rvs values:  [ 0.85087594  0.77433995  1.17812175  1.17992299 -0.34280457]\n",
      "\n"
     ]
    },
    {
     "name": "stderr",
     "output_type": "stream",
     "text": [
      "Multiprocess sampling (4 chains in 4 jobs)\n",
      "NUTS: [dummy]\n",
      "Sampling 4 chains for 1_000 tune and 100 draw iterations (4_000 + 400 draws total) took 13 seconds.\n",
      "The acceptance probability does not match the target. It is 0.8853, but should be close to 0.8. Try to increase the number of tuning steps.\n",
      "Only 100 samples in chain.\n",
      "Auto-assigning NUTS sampler...\n",
      "Initializing NUTS using jitter+adapt_diag...\n"
     ]
    },
    {
     "name": "stdout",
     "output_type": "stream",
     "text": [
      "check pymc sampling with random_seed=0\n",
      "[-0.46795611 -0.23220823  0.22529251  0.76628907 -0.71146223]\n",
      "reset random seed\n",
      " --- loop2 --- \n",
      "stats.norm.rvs values:  [ 1.16744827 -1.30708103  2.54481578  1.74631898 -0.66179566]\n",
      "\n"
     ]
    },
    {
     "name": "stderr",
     "output_type": "stream",
     "text": [
      "Multiprocess sampling (4 chains in 4 jobs)\n",
      "NUTS: [dummy]\n",
      "Sampling 4 chains for 1_000 tune and 100 draw iterations (4_000 + 400 draws total) took 13 seconds.\n",
      "The acceptance probability does not match the target. It is 0.8853, but should be close to 0.8. Try to increase the number of tuning steps.\n",
      "Only 100 samples in chain.\n",
      "Auto-assigning NUTS sampler...\n",
      "Initializing NUTS using jitter+adapt_diag...\n"
     ]
    },
    {
     "name": "stdout",
     "output_type": "stream",
     "text": [
      "check pymc sampling with random_seed=0\n",
      "[-0.46795611 -0.23220823  0.22529251  0.76628907 -0.71146223]\n",
      "reset random seed\n",
      " --- loop3 --- \n",
      "stats.norm.rvs values:  [0.03289028 1.4035661  1.56154409 2.43393023 2.47116958]\n",
      "\n"
     ]
    },
    {
     "name": "stderr",
     "output_type": "stream",
     "text": [
      "Multiprocess sampling (4 chains in 4 jobs)\n",
      "NUTS: [dummy]\n",
      "Sampling 4 chains for 1_000 tune and 100 draw iterations (4_000 + 400 draws total) took 13 seconds.\n",
      "The acceptance probability does not match the target. It is 0.8853, but should be close to 0.8. Try to increase the number of tuning steps.\n",
      "Only 100 samples in chain.\n",
      "Auto-assigning NUTS sampler...\n",
      "Initializing NUTS using jitter+adapt_diag...\n"
     ]
    },
    {
     "name": "stdout",
     "output_type": "stream",
     "text": [
      "check pymc sampling with random_seed=0\n",
      "[-0.46795611 -0.23220823  0.22529251  0.76628907 -0.71146223]\n",
      "reset random seed\n",
      " --- loop4 --- \n",
      "stats.norm.rvs values:  [0.11886464 0.61403243 0.16277635 1.78810325 1.53460163]\n",
      "\n"
     ]
    },
    {
     "name": "stderr",
     "output_type": "stream",
     "text": [
      "Multiprocess sampling (4 chains in 4 jobs)\n",
      "NUTS: [dummy]\n",
      "Sampling 4 chains for 1_000 tune and 100 draw iterations (4_000 + 400 draws total) took 12 seconds.\n",
      "The acceptance probability does not match the target. It is 0.8853, but should be close to 0.8. Try to increase the number of tuning steps.\n"
     ]
    },
    {
     "name": "stdout",
     "output_type": "stream",
     "text": [
      "check pymc sampling with random_seed=0\n",
      "[-0.46795611 -0.23220823  0.22529251  0.76628907 -0.71146223]\n",
      "reset random seed\n"
     ]
    }
   ],
   "source": [
    "for i in range(5):\n",
    "    print(f\" --- loop{i} --- \", end='\\n')\n",
    "    test_vals = stats.norm.rvs(loc=1, scale=1, size=5)\n",
    "    print(\"stats.norm.rvs values: \", test_vals, end='\\n\\n')\n",
    "\n",
    "    with pm.Model() as m:\n",
    "        dummy = pm.Normal(\"dummy\", 0, 0.5)\n",
    "        trace_test = pm.sample(\n",
    "            draws=100, random_seed=0, return_inferencedata=False, progressbar=False\n",
    "        )\n",
    "        print(\"check pymc sampling with random_seed=0\")\n",
    "        print(trace_test['dummy'][0:5], end='\\n')\n",
    "\n",
    "        print(\"reset random seed\")\n",
    "        np.random.seed(seed=None)\n",
    "        "
   ]
  },
  {
   "cell_type": "code",
   "execution_count": 21,
   "id": "f3e58775",
   "metadata": {},
   "outputs": [
    {
     "ename": "AttributeError",
     "evalue": "module 'pymc' has no attribute 'trace_to_dataframe'",
     "output_type": "error",
     "traceback": [
      "\u001b[0;31m---------------------------------------------------------------------------\u001b[0m",
      "\u001b[0;31mAttributeError\u001b[0m                            Traceback (most recent call last)",
      "\u001b[1;32m/Users/blacar/Documents/ds_projects/stats_rethinking/repo/blog_entries/stats_rethinking_repeated_obs.ipynb Cell 64'\u001b[0m in \u001b[0;36m<cell line: 1>\u001b[0;34m()\u001b[0m\n\u001b[1;32m      <a href='vscode-notebook-cell:/Users/blacar/Documents/ds_projects/stats_rethinking/repo/blog_entries/stats_rethinking_repeated_obs.ipynb#ch0000241?line=0'>1</a>\u001b[0m \u001b[39mwith\u001b[39;00m m:\n\u001b[0;32m----> <a href='vscode-notebook-cell:/Users/blacar/Documents/ds_projects/stats_rethinking/repo/blog_entries/stats_rethinking_repeated_obs.ipynb#ch0000241?line=1'>2</a>\u001b[0m     trace_test_df \u001b[39m=\u001b[39m pm\u001b[39m.\u001b[39;49mtrace_to_dataframe(trace_test)\n",
      "\u001b[0;31mAttributeError\u001b[0m: module 'pymc' has no attribute 'trace_to_dataframe'"
     ]
    }
   ],
   "source": [
    "with m:\n",
    "    trace_test_df = pm.trace_to_dataframe(trace_test)"
   ]
  },
  {
   "cell_type": "code",
   "execution_count": 25,
   "id": "561b0b5b",
   "metadata": {},
   "outputs": [
    {
     "data": {
      "text/plain": [
       "array([-0.46795611, -0.23220823,  0.22529251,  0.76628907, -0.71146223])"
      ]
     },
     "execution_count": 25,
     "metadata": {},
     "output_type": "execute_result"
    }
   ],
   "source": []
  },
  {
   "cell_type": "code",
   "execution_count": null,
   "id": "1d8bdfc9",
   "metadata": {},
   "outputs": [],
   "source": []
  },
  {
   "cell_type": "code",
   "execution_count": 61,
   "id": "cc0ef288",
   "metadata": {
    "ExecuteTime": {
     "end_time": "2021-09-30T03:45:25.119527Z",
     "start_time": "2021-09-30T03:45:25.053264Z"
    }
   },
   "outputs": [
    {
     "name": "stdout",
     "output_type": "stream",
     "text": [
      "Last updated: Fri Apr 08 2022\n",
      "\n",
      "Python implementation: CPython\n",
      "Python version       : 3.8.6\n",
      "IPython version      : 7.20.0\n",
      "\n",
      "scipy      : 1.6.0\n",
      "statsmodels: 0.12.2\n",
      "arviz      : 0.11.1\n",
      "sys        : 3.8.6 | packaged by conda-forge | (default, Jan 25 2021, 23:22:12) \n",
      "[Clang 11.0.1 ]\n",
      "pandas     : 1.2.1\n",
      "matplotlib : 3.3.4\n",
      "seaborn    : 0.11.1\n",
      "daft       : 0.1.0\n",
      "pymc3      : 3.11.0\n",
      "numpy      : 1.20.1\n",
      "\n",
      "Watermark: 2.1.0\n",
      "\n"
     ]
    },
    {
     "data": {
      "application/javascript": "\n            setTimeout(function() {\n                var nbb_cell_id = 61;\n                var nbb_unformatted_code = \"%watermark -n -u -v -iv -w\";\n                var nbb_formatted_code = \"%watermark -n -u -v -iv -w\";\n                var nbb_cells = Jupyter.notebook.get_cells();\n                for (var i = 0; i < nbb_cells.length; ++i) {\n                    if (nbb_cells[i].input_prompt_number == nbb_cell_id) {\n                        if (nbb_cells[i].get_text() == nbb_unformatted_code) {\n                             nbb_cells[i].set_text(nbb_formatted_code);\n                        }\n                        break;\n                    }\n                }\n            }, 500);\n            ",
      "text/plain": [
       "<IPython.core.display.Javascript object>"
      ]
     },
     "metadata": {},
     "output_type": "display_data"
    }
   ],
   "source": [
    "%watermark -n -u -v -iv -w"
   ]
  },
  {
   "cell_type": "code",
   "execution_count": null,
   "id": "7e38277a",
   "metadata": {},
   "outputs": [],
   "source": []
  }
 ],
 "metadata": {
  "interpreter": {
   "hash": "351f8c5ec179c73af2326b2cd3fbf9b75be4c287a53cc0f1a3f659fcbe910a03"
  },
  "kernelspec": {
   "display_name": "Python 3.8.6 64-bit ('stats_rethinking': conda)",
   "name": "python3"
  },
  "language_info": {
   "codemirror_mode": {
    "name": "ipython",
    "version": 3
   },
   "file_extension": ".py",
   "mimetype": "text/x-python",
   "name": "python",
   "nbconvert_exporter": "python",
   "pygments_lexer": "ipython3",
   "version": "3.8.6"
  },
  "latex_envs": {
   "LaTeX_envs_menu_present": true,
   "autoclose": false,
   "autocomplete": true,
   "bibliofile": "biblio.bib",
   "cite_by": "apalike",
   "current_citInitial": 1,
   "eqLabelWithNumbers": true,
   "eqNumInitial": 1,
   "hotkeys": {
    "equation": "Ctrl-E",
    "itemize": "Ctrl-I"
   },
   "labels_anchors": false,
   "latex_user_defs": false,
   "report_style_numbering": false,
   "user_envs_cfg": false
  },
  "toc": {
   "base_numbering": 1,
   "nav_menu": {},
   "number_sections": true,
   "sideBar": true,
   "skip_h1_title": false,
   "title_cell": "Table of Contents",
   "title_sidebar": "Contents",
   "toc_cell": false,
   "toc_position": {
    "height": "calc(100% - 180px)",
    "left": "10px",
    "top": "150px",
    "width": "223.4px"
   },
   "toc_section_display": true,
   "toc_window_display": true
  },
  "varInspector": {
   "cols": {
    "lenName": 16,
    "lenType": 16,
    "lenVar": 40
   },
   "kernels_config": {
    "python": {
     "delete_cmd_postfix": "",
     "delete_cmd_prefix": "del ",
     "library": "var_list.py",
     "varRefreshCmd": "print(var_dic_list())"
    },
    "r": {
     "delete_cmd_postfix": ") ",
     "delete_cmd_prefix": "rm(",
     "library": "var_list.r",
     "varRefreshCmd": "cat(var_dic_list()) "
    }
   },
   "types_to_exclude": [
    "module",
    "function",
    "builtin_function_or_method",
    "instance",
    "_Feature"
   ],
   "window_display": false
  }
 },
 "nbformat": 4,
 "nbformat_minor": 5
}
