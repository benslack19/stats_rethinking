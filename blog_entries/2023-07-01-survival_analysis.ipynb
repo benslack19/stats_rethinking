{
 "cells": [
  {
   "attachments": {},
   "cell_type": "markdown",
   "metadata": {},
   "source": [
    "**\"Bayesian adaptive prior, is that you?\": Comparing different approaches of mixed effects modeling**\n",
    "\n",
    "Survival analysis\n",
    "\n",
    "- What is survival analysis?\n",
    "- Re-creating McElreath's\n",
    "- Austin Rochford's\n",
    "- \n",
    "- How can we used mixed effects modeling?\n",
    "\n",
    "- Pymc survival analysis [here](https://www.pymc.io/projects/docs/en/v3/pymc-examples/examples/survival_analysis/bayes_param_survival_pymc3.html)\n",
    "\n",
    "- Following Solomon Kurz's version [here](https://bookdown.org/content/4857/god-spiked-the-integers.html#bonus-survival-analysis).\n",
    "\n"
   ]
  },
  {
   "cell_type": "code",
   "execution_count": 71,
   "metadata": {},
   "outputs": [],
   "source": [
    "import arviz as az\n",
    "import matplotlib.pyplot as plt\n",
    "import numpy as np\n",
    "import os\n",
    "import pandas as pd\n",
    "import pymc as pm\n",
    "import pytensor\n",
    "import pytensor.tensor as pt\n",
    "import seaborn as sns\n",
    "from scipy.stats import expon\n",
    "import xarray as xr"
   ]
  },
  {
   "cell_type": "code",
   "execution_count": 7,
   "metadata": {},
   "outputs": [],
   "source": [
    "%config InlineBackend.figure_format = 'retina'\n",
    "az.style.use(\"arviz-darkgrid\")\n",
    "rng = np.random.default_rng(1234)\n",
    "az.rcParams[\"stats.hdi_prob\"] = 0.95 \n",
    "\n",
    "def standardize(x):\n",
    "    x = (x - np.mean(x)) / np.std(x)\n",
    "    return x"
   ]
  },
  {
   "attachments": {},
   "cell_type": "markdown",
   "metadata": {},
   "source": [
    "# Load Austin cat data\n",
    "\n",
    "Data from [here](https://github.com/KjFox/AustinCats/blob/master/data-raw/cats.csv)."
   ]
  },
  {
   "cell_type": "code",
   "execution_count": 10,
   "metadata": {},
   "outputs": [
    {
     "data": {
      "text/html": [
       "<div>\n",
       "<style scoped>\n",
       "    .dataframe tbody tr th:only-of-type {\n",
       "        vertical-align: middle;\n",
       "    }\n",
       "\n",
       "    .dataframe tbody tr th {\n",
       "        vertical-align: top;\n",
       "    }\n",
       "\n",
       "    .dataframe thead th {\n",
       "        text-align: right;\n",
       "    }\n",
       "</style>\n",
       "<table border=\"1\" class=\"dataframe\">\n",
       "  <thead>\n",
       "    <tr style=\"text-align: right;\">\n",
       "      <th></th>\n",
       "      <th>id</th>\n",
       "      <th>days_to_event</th>\n",
       "      <th>date_out</th>\n",
       "      <th>out_event</th>\n",
       "      <th>date_in</th>\n",
       "      <th>in_event</th>\n",
       "      <th>breed</th>\n",
       "      <th>color</th>\n",
       "      <th>intake_age</th>\n",
       "    </tr>\n",
       "  </thead>\n",
       "  <tbody>\n",
       "    <tr>\n",
       "      <th>0</th>\n",
       "      <td>A730601</td>\n",
       "      <td>1</td>\n",
       "      <td>07/08/2016 09:00:00 AM</td>\n",
       "      <td>Transfer</td>\n",
       "      <td>07/07/2016 12:11:00 PM</td>\n",
       "      <td>Stray</td>\n",
       "      <td>Domestic Shorthair Mix</td>\n",
       "      <td>Blue Tabby</td>\n",
       "      <td>7</td>\n",
       "    </tr>\n",
       "    <tr>\n",
       "      <th>1</th>\n",
       "      <td>A679549</td>\n",
       "      <td>25</td>\n",
       "      <td>06/16/2014 01:54:00 PM</td>\n",
       "      <td>Transfer</td>\n",
       "      <td>05/22/2014 03:43:00 PM</td>\n",
       "      <td>Stray</td>\n",
       "      <td>Domestic Shorthair Mix</td>\n",
       "      <td>Black/White</td>\n",
       "      <td>1</td>\n",
       "    </tr>\n",
       "    <tr>\n",
       "      <th>2</th>\n",
       "      <td>A683656</td>\n",
       "      <td>4</td>\n",
       "      <td>07/17/2014 04:57:00 PM</td>\n",
       "      <td>Adoption</td>\n",
       "      <td>07/13/2014 01:20:00 PM</td>\n",
       "      <td>Stray</td>\n",
       "      <td>Snowshoe Mix</td>\n",
       "      <td>Lynx Point</td>\n",
       "      <td>2</td>\n",
       "    </tr>\n",
       "    <tr>\n",
       "      <th>3</th>\n",
       "      <td>A709749</td>\n",
       "      <td>41</td>\n",
       "      <td>09/22/2015 12:49:00 PM</td>\n",
       "      <td>Transfer</td>\n",
       "      <td>08/12/2015 06:29:00 PM</td>\n",
       "      <td>Stray</td>\n",
       "      <td>Domestic Shorthair Mix</td>\n",
       "      <td>Calico</td>\n",
       "      <td>12</td>\n",
       "    </tr>\n",
       "    <tr>\n",
       "      <th>4</th>\n",
       "      <td>A733551</td>\n",
       "      <td>9</td>\n",
       "      <td>09/01/2016 12:00:00 AM</td>\n",
       "      <td>Transfer</td>\n",
       "      <td>08/23/2016 02:35:00 PM</td>\n",
       "      <td>Stray</td>\n",
       "      <td>Domestic Shorthair Mix</td>\n",
       "      <td>Brown Tabby/White</td>\n",
       "      <td>1</td>\n",
       "    </tr>\n",
       "  </tbody>\n",
       "</table>\n",
       "</div>"
      ],
      "text/plain": [
       "        id  days_to_event                date_out out_event  \\\n",
       "0  A730601              1  07/08/2016 09:00:00 AM  Transfer   \n",
       "1  A679549             25  06/16/2014 01:54:00 PM  Transfer   \n",
       "2  A683656              4  07/17/2014 04:57:00 PM  Adoption   \n",
       "3  A709749             41  09/22/2015 12:49:00 PM  Transfer   \n",
       "4  A733551              9  09/01/2016 12:00:00 AM  Transfer   \n",
       "\n",
       "                  date_in in_event                   breed              color  \\\n",
       "0  07/07/2016 12:11:00 PM    Stray  Domestic Shorthair Mix         Blue Tabby   \n",
       "1  05/22/2014 03:43:00 PM    Stray  Domestic Shorthair Mix        Black/White   \n",
       "2  07/13/2014 01:20:00 PM    Stray            Snowshoe Mix         Lynx Point   \n",
       "3  08/12/2015 06:29:00 PM    Stray  Domestic Shorthair Mix             Calico   \n",
       "4  08/23/2016 02:35:00 PM    Stray  Domestic Shorthair Mix  Brown Tabby/White   \n",
       "\n",
       "   intake_age  \n",
       "0           7  \n",
       "1           1  \n",
       "2           2  \n",
       "3          12  \n",
       "4           1  "
      ]
     },
     "execution_count": 10,
     "metadata": {},
     "output_type": "execute_result"
    }
   ],
   "source": [
    "d = pd.read_csv('../other_data/AustinCats.csv')\n",
    "d.head()"
   ]
  },
  {
   "cell_type": "code",
   "execution_count": 15,
   "metadata": {},
   "outputs": [
    {
     "data": {
      "text/plain": [
       "color\n",
       "Agouti                        3\n",
       "Agouti/Brown Tabby            1\n",
       "Agouti/White                  1\n",
       "Apricot                       1\n",
       "Black                      2965\n",
       "Black Smoke                  83\n",
       "Black Smoke/Black Tiger       1\n",
       "Black Smoke/White            21\n",
       "Black Tabby                 119\n",
       "Black Tabby/White            43\n",
       "Name: count, dtype: int64"
      ]
     },
     "execution_count": 15,
     "metadata": {},
     "output_type": "execute_result"
    }
   ],
   "source": [
    "# Look at the distribution of cat colors\n",
    "d['color'].value_counts().sort_index().head(10)"
   ]
  },
  {
   "cell_type": "code",
   "execution_count": 16,
   "metadata": {},
   "outputs": [],
   "source": [
    "# assign the value black to black cats\n",
    "d['black'] = np.where(d['color']=='Black', 'black', 'other')\n",
    "#   d %>% \n",
    "#   mutate(black = ifelse(color == \"Black\", \"black\", \"other\"))\n"
   ]
  },
  {
   "cell_type": "code",
   "execution_count": 28,
   "metadata": {},
   "outputs": [
    {
     "data": {
      "text/plain": [
       "black\n",
       "other    0.867373\n",
       "black    0.132627\n",
       "Name: count, dtype: float64"
      ]
     },
     "execution_count": 28,
     "metadata": {},
     "output_type": "execute_result"
    }
   ],
   "source": [
    "# proportion of each group\n",
    "d['black'].value_counts() / d['black'].count()"
   ]
  },
  {
   "cell_type": "code",
   "execution_count": 29,
   "metadata": {},
   "outputs": [
    {
     "data": {
      "text/plain": [
       "out_event\n",
       "Adoption      11351\n",
       "Censored        549\n",
       "Died            369\n",
       "Disposal          9\n",
       "Euthanasia      636\n",
       "Missing          28\n",
       "Transfer       9414\n",
       "Name: count, dtype: int64"
      ]
     },
     "execution_count": 29,
     "metadata": {},
     "output_type": "execute_result"
    }
   ],
   "source": [
    "d['out_event'].value_counts().sort_index()"
   ]
  },
  {
   "cell_type": "code",
   "execution_count": 32,
   "metadata": {},
   "outputs": [],
   "source": [
    "d['adopted'] = np.where(d['out_event']=='Adoption', 1, 0)\n",
    "d['censored'] = np.where(d['out_event']!='Adoption', 1, 0)\n",
    "\n"
   ]
  },
  {
   "cell_type": "code",
   "execution_count": 46,
   "metadata": {},
   "outputs": [
    {
     "data": {
      "text/plain": [
       "<Axes: xlabel='days_to_event', ylabel='Count'>"
      ]
     },
     "execution_count": 46,
     "metadata": {},
     "output_type": "execute_result"
    },
    {
     "data": {
      "image/png": "[encoded data removed]",
      "text/plain": [
       "<Figure size 720x480 with 1 Axes>"
      ]
     },
     "metadata": {
      "image/png": {
       "height": 491,
       "width": 731
      }
     },
     "output_type": "display_data"
    }
   ],
   "source": [
    "sns.histplot(\n",
    "    data=d.query(\"days_to_event < 300\"),\n",
    "    x='days_to_event',\n",
    "    hue='adopted'\n",
    ")"
   ]
  },
  {
   "attachments": {},
   "cell_type": "markdown",
   "metadata": {},
   "source": [
    "# Fit model with exponential likelihood\n",
    "\n",
    "To produce the probability density function for the exponential distribution:\n",
    "\n",
    "$f(y) = \\lambda e^{-\\lambda y}$\n",
    "\n",
    "where $y$ is non-negative and continuous (the `days_to_event` in our case).\n",
    "\n",
    "\n",
    "The mean of the exponential distribution is the inverse of the rate:\n",
    "\n",
    "(see how to align equations)\n",
    "\n",
    "Check how pymc parameterizes models. If it's via $E[y]$ then you might need a log link.\n",
    "\n",
    "$ E[y] = \\frac{1}{\\lambda} $\n",
    "\n",
    "$ \\text{days\\_to\\_event}_i | \\text{censored}_i = 0 \\sim \\operatorname{Exponential}(\\lambda_i) $\n",
    "\n",
    "$ \\text{days\\_to\\_event}_i | \\text{censored}_i = 1 \\sim \\operatorname{Exponential-CCDF}(\\lambda_i) $\n",
    "\n",
    "$ \\lambda_i = 1 / \\mu_i $\n",
    "\n",
    "$ \\log \\mu_i = \\alpha_{\\text{black}[i]} $\n",
    "\n",
    "$ \\alpha \\sim \\operatorname{Normal}(0,1)$\n",
    "\n"
   ]
  },
  {
   "cell_type": "code",
   "execution_count": 49,
   "metadata": {},
   "outputs": [
    {
     "data": {
      "text/html": [
       "<div>\n",
       "<style scoped>\n",
       "    .dataframe tbody tr th:only-of-type {\n",
       "        vertical-align: middle;\n",
       "    }\n",
       "\n",
       "    .dataframe tbody tr th {\n",
       "        vertical-align: top;\n",
       "    }\n",
       "\n",
       "    .dataframe thead th {\n",
       "        text-align: right;\n",
       "    }\n",
       "</style>\n",
       "<table border=\"1\" class=\"dataframe\">\n",
       "  <thead>\n",
       "    <tr style=\"text-align: right;\">\n",
       "      <th></th>\n",
       "      <th>id</th>\n",
       "      <th>days_to_event</th>\n",
       "      <th>date_out</th>\n",
       "      <th>out_event</th>\n",
       "      <th>date_in</th>\n",
       "      <th>in_event</th>\n",
       "      <th>breed</th>\n",
       "      <th>color</th>\n",
       "      <th>intake_age</th>\n",
       "      <th>black</th>\n",
       "      <th>adopted</th>\n",
       "      <th>censored</th>\n",
       "    </tr>\n",
       "  </thead>\n",
       "  <tbody>\n",
       "    <tr>\n",
       "      <th>0</th>\n",
       "      <td>A730601</td>\n",
       "      <td>1</td>\n",
       "      <td>07/08/2016 09:00:00 AM</td>\n",
       "      <td>Transfer</td>\n",
       "      <td>07/07/2016 12:11:00 PM</td>\n",
       "      <td>Stray</td>\n",
       "      <td>Domestic Shorthair Mix</td>\n",
       "      <td>Blue Tabby</td>\n",
       "      <td>7</td>\n",
       "      <td>other</td>\n",
       "      <td>0</td>\n",
       "      <td>1</td>\n",
       "    </tr>\n",
       "    <tr>\n",
       "      <th>1</th>\n",
       "      <td>A679549</td>\n",
       "      <td>25</td>\n",
       "      <td>06/16/2014 01:54:00 PM</td>\n",
       "      <td>Transfer</td>\n",
       "      <td>05/22/2014 03:43:00 PM</td>\n",
       "      <td>Stray</td>\n",
       "      <td>Domestic Shorthair Mix</td>\n",
       "      <td>Black/White</td>\n",
       "      <td>1</td>\n",
       "      <td>other</td>\n",
       "      <td>0</td>\n",
       "      <td>1</td>\n",
       "    </tr>\n",
       "    <tr>\n",
       "      <th>2</th>\n",
       "      <td>A683656</td>\n",
       "      <td>4</td>\n",
       "      <td>07/17/2014 04:57:00 PM</td>\n",
       "      <td>Adoption</td>\n",
       "      <td>07/13/2014 01:20:00 PM</td>\n",
       "      <td>Stray</td>\n",
       "      <td>Snowshoe Mix</td>\n",
       "      <td>Lynx Point</td>\n",
       "      <td>2</td>\n",
       "      <td>other</td>\n",
       "      <td>1</td>\n",
       "      <td>0</td>\n",
       "    </tr>\n",
       "    <tr>\n",
       "      <th>3</th>\n",
       "      <td>A709749</td>\n",
       "      <td>41</td>\n",
       "      <td>09/22/2015 12:49:00 PM</td>\n",
       "      <td>Transfer</td>\n",
       "      <td>08/12/2015 06:29:00 PM</td>\n",
       "      <td>Stray</td>\n",
       "      <td>Domestic Shorthair Mix</td>\n",
       "      <td>Calico</td>\n",
       "      <td>12</td>\n",
       "      <td>other</td>\n",
       "      <td>0</td>\n",
       "      <td>1</td>\n",
       "    </tr>\n",
       "    <tr>\n",
       "      <th>4</th>\n",
       "      <td>A733551</td>\n",
       "      <td>9</td>\n",
       "      <td>09/01/2016 12:00:00 AM</td>\n",
       "      <td>Transfer</td>\n",
       "      <td>08/23/2016 02:35:00 PM</td>\n",
       "      <td>Stray</td>\n",
       "      <td>Domestic Shorthair Mix</td>\n",
       "      <td>Brown Tabby/White</td>\n",
       "      <td>1</td>\n",
       "      <td>other</td>\n",
       "      <td>0</td>\n",
       "      <td>1</td>\n",
       "    </tr>\n",
       "  </tbody>\n",
       "</table>\n",
       "</div>"
      ],
      "text/plain": [
       "        id  days_to_event                date_out out_event  \\\n",
       "0  A730601              1  07/08/2016 09:00:00 AM  Transfer   \n",
       "1  A679549             25  06/16/2014 01:54:00 PM  Transfer   \n",
       "2  A683656              4  07/17/2014 04:57:00 PM  Adoption   \n",
       "3  A709749             41  09/22/2015 12:49:00 PM  Transfer   \n",
       "4  A733551              9  09/01/2016 12:00:00 AM  Transfer   \n",
       "\n",
       "                  date_in in_event                   breed              color  \\\n",
       "0  07/07/2016 12:11:00 PM    Stray  Domestic Shorthair Mix         Blue Tabby   \n",
       "1  05/22/2014 03:43:00 PM    Stray  Domestic Shorthair Mix        Black/White   \n",
       "2  07/13/2014 01:20:00 PM    Stray            Snowshoe Mix         Lynx Point   \n",
       "3  08/12/2015 06:29:00 PM    Stray  Domestic Shorthair Mix             Calico   \n",
       "4  08/23/2016 02:35:00 PM    Stray  Domestic Shorthair Mix  Brown Tabby/White   \n",
       "\n",
       "   intake_age  black  adopted  censored  \n",
       "0           7  other        0         1  \n",
       "1           1  other        0         1  \n",
       "2           2  other        1         0  \n",
       "3          12  other        0         1  \n",
       "4           1  other        0         1  "
      ]
     },
     "execution_count": 49,
     "metadata": {},
     "output_type": "execute_result"
    }
   ],
   "source": [
    "d.head()"
   ]
  },
  {
   "cell_type": "code",
   "execution_count": 52,
   "metadata": {},
   "outputs": [
    {
     "data": {
      "text/plain": [
       "black\n",
       "other    19391\n",
       "black     2965\n",
       "Name: count, dtype: int64"
      ]
     },
     "execution_count": 52,
     "metadata": {},
     "output_type": "execute_result"
    }
   ],
   "source": [
    "d['black'].value_counts()"
   ]
  },
  {
   "cell_type": "code",
   "execution_count": 55,
   "metadata": {},
   "outputs": [
    {
     "data": {
      "text/html": [
       "<div>\n",
       "<style scoped>\n",
       "    .dataframe tbody tr th:only-of-type {\n",
       "        vertical-align: middle;\n",
       "    }\n",
       "\n",
       "    .dataframe tbody tr th {\n",
       "        vertical-align: top;\n",
       "    }\n",
       "\n",
       "    .dataframe thead th {\n",
       "        text-align: right;\n",
       "    }\n",
       "</style>\n",
       "<table border=\"1\" class=\"dataframe\">\n",
       "  <thead>\n",
       "    <tr style=\"text-align: right;\">\n",
       "      <th></th>\n",
       "      <th>id</th>\n",
       "      <th>days_to_event</th>\n",
       "      <th>date_out</th>\n",
       "      <th>out_event</th>\n",
       "      <th>date_in</th>\n",
       "      <th>in_event</th>\n",
       "      <th>breed</th>\n",
       "      <th>color</th>\n",
       "      <th>intake_age</th>\n",
       "      <th>black</th>\n",
       "      <th>adopted</th>\n",
       "      <th>censored</th>\n",
       "      <th>black_cat</th>\n",
       "    </tr>\n",
       "  </thead>\n",
       "  <tbody>\n",
       "    <tr>\n",
       "      <th>0</th>\n",
       "      <td>A730601</td>\n",
       "      <td>1</td>\n",
       "      <td>07/08/2016 09:00:00 AM</td>\n",
       "      <td>Transfer</td>\n",
       "      <td>07/07/2016 12:11:00 PM</td>\n",
       "      <td>Stray</td>\n",
       "      <td>Domestic Shorthair Mix</td>\n",
       "      <td>Blue Tabby</td>\n",
       "      <td>7</td>\n",
       "      <td>other</td>\n",
       "      <td>0</td>\n",
       "      <td>1</td>\n",
       "      <td>0</td>\n",
       "    </tr>\n",
       "    <tr>\n",
       "      <th>1</th>\n",
       "      <td>A679549</td>\n",
       "      <td>25</td>\n",
       "      <td>06/16/2014 01:54:00 PM</td>\n",
       "      <td>Transfer</td>\n",
       "      <td>05/22/2014 03:43:00 PM</td>\n",
       "      <td>Stray</td>\n",
       "      <td>Domestic Shorthair Mix</td>\n",
       "      <td>Black/White</td>\n",
       "      <td>1</td>\n",
       "      <td>other</td>\n",
       "      <td>0</td>\n",
       "      <td>1</td>\n",
       "      <td>0</td>\n",
       "    </tr>\n",
       "    <tr>\n",
       "      <th>2</th>\n",
       "      <td>A683656</td>\n",
       "      <td>4</td>\n",
       "      <td>07/17/2014 04:57:00 PM</td>\n",
       "      <td>Adoption</td>\n",
       "      <td>07/13/2014 01:20:00 PM</td>\n",
       "      <td>Stray</td>\n",
       "      <td>Snowshoe Mix</td>\n",
       "      <td>Lynx Point</td>\n",
       "      <td>2</td>\n",
       "      <td>other</td>\n",
       "      <td>1</td>\n",
       "      <td>0</td>\n",
       "      <td>0</td>\n",
       "    </tr>\n",
       "    <tr>\n",
       "      <th>3</th>\n",
       "      <td>A709749</td>\n",
       "      <td>41</td>\n",
       "      <td>09/22/2015 12:49:00 PM</td>\n",
       "      <td>Transfer</td>\n",
       "      <td>08/12/2015 06:29:00 PM</td>\n",
       "      <td>Stray</td>\n",
       "      <td>Domestic Shorthair Mix</td>\n",
       "      <td>Calico</td>\n",
       "      <td>12</td>\n",
       "      <td>other</td>\n",
       "      <td>0</td>\n",
       "      <td>1</td>\n",
       "      <td>0</td>\n",
       "    </tr>\n",
       "    <tr>\n",
       "      <th>4</th>\n",
       "      <td>A733551</td>\n",
       "      <td>9</td>\n",
       "      <td>09/01/2016 12:00:00 AM</td>\n",
       "      <td>Transfer</td>\n",
       "      <td>08/23/2016 02:35:00 PM</td>\n",
       "      <td>Stray</td>\n",
       "      <td>Domestic Shorthair Mix</td>\n",
       "      <td>Brown Tabby/White</td>\n",
       "      <td>1</td>\n",
       "      <td>other</td>\n",
       "      <td>0</td>\n",
       "      <td>1</td>\n",
       "      <td>0</td>\n",
       "    </tr>\n",
       "  </tbody>\n",
       "</table>\n",
       "</div>"
      ],
      "text/plain": [
       "        id  days_to_event                date_out out_event  \\\n",
       "0  A730601              1  07/08/2016 09:00:00 AM  Transfer   \n",
       "1  A679549             25  06/16/2014 01:54:00 PM  Transfer   \n",
       "2  A683656              4  07/17/2014 04:57:00 PM  Adoption   \n",
       "3  A709749             41  09/22/2015 12:49:00 PM  Transfer   \n",
       "4  A733551              9  09/01/2016 12:00:00 AM  Transfer   \n",
       "\n",
       "                  date_in in_event                   breed              color  \\\n",
       "0  07/07/2016 12:11:00 PM    Stray  Domestic Shorthair Mix         Blue Tabby   \n",
       "1  05/22/2014 03:43:00 PM    Stray  Domestic Shorthair Mix        Black/White   \n",
       "2  07/13/2014 01:20:00 PM    Stray            Snowshoe Mix         Lynx Point   \n",
       "3  08/12/2015 06:29:00 PM    Stray  Domestic Shorthair Mix             Calico   \n",
       "4  08/23/2016 02:35:00 PM    Stray  Domestic Shorthair Mix  Brown Tabby/White   \n",
       "\n",
       "   intake_age  black  adopted  censored  black_cat  \n",
       "0           7  other        0         1          0  \n",
       "1           1  other        0         1          0  \n",
       "2           2  other        1         0          0  \n",
       "3          12  other        0         1          0  \n",
       "4           1  other        0         1          0  "
      ]
     },
     "execution_count": 55,
     "metadata": {},
     "output_type": "execute_result"
    }
   ],
   "source": [
    "d['black_cat'] = pd.Categorical(d['black'], categories=['other', 'black']).codes\n",
    "d.head()"
   ]
  },
  {
   "cell_type": "code",
   "execution_count": 56,
   "metadata": {},
   "outputs": [
    {
     "name": "stderr",
     "output_type": "stream",
     "text": [
      "/Users/benlacar/opt/anaconda3/envs/pymc_env_2307/lib/python3.11/site-packages/pymc/data.py:428: UserWarning: The `mutable` kwarg was not specified. Before v4.1.0 it defaulted to `pm.Data(mutable=True)`, which is equivalent to using `pm.MutableData()`. In v4.1.0 the default changed to `pm.Data(mutable=False)`, equivalent to `pm.ConstantData`. Use `pm.ConstantData`/`pm.MutableData` or pass `pm.Data(..., mutable=False/True)` to avoid this warning.\n",
      "  warnings.warn(\n",
      "Auto-assigning NUTS sampler...\n",
      "Initializing NUTS using jitter+adapt_diag...\n",
      "Multiprocess sampling (4 chains in 4 jobs)\n",
      "NUTS: [a]\n"
     ]
    },
    {
     "data": {
      "text/html": [
       "\n",
       "<style>\n",
       "    /* Turns off some styling */\n",
       "    progress {\n",
       "        /* gets rid of default border in Firefox and Opera. */\n",
       "        border: none;\n",
       "        /* Needs to be in here for Safari polyfill so background images work as expected. */\n",
       "        background-size: auto;\n",
       "    }\n",
       "    progress:not([value]), progress:not([value])::-webkit-progress-bar {\n",
       "        background: repeating-linear-gradient(45deg, #7e7e7e, #7e7e7e 10px, #5c5c5c 10px, #5c5c5c 20px);\n",
       "    }\n",
       "    .progress-bar-interrupted, .progress-bar-interrupted::-webkit-progress-bar {\n",
       "        background: #F44336;\n",
       "    }\n",
       "</style>\n"
      ],
      "text/plain": [
       "<IPython.core.display.HTML object>"
      ]
     },
     "metadata": {},
     "output_type": "display_data"
    },
    {
     "data": {
      "text/html": [
       "\n",
       "    <div>\n",
       "      <progress value='8000' class='' max='8000' style='width:300px; height:20px; vertical-align: middle;'></progress>\n",
       "      100.00% [8000/8000 00:16&lt;00:00 Sampling 4 chains, 0 divergences]\n",
       "    </div>\n",
       "    "
      ],
      "text/plain": [
       "<IPython.core.display.HTML object>"
      ]
     },
     "metadata": {},
     "output_type": "display_data"
    },
    {
     "name": "stderr",
     "output_type": "stream",
     "text": [
      "Sampling 4 chains for 1_000 tune and 1_000 draw iterations (4_000 + 4_000 draws total) took 41 seconds.\n"
     ]
    }
   ],
   "source": [
    "# from Rojan\n",
    "\n",
    "def likelihood(lam,obs_value,censored):\n",
    "    return (censored*pt.log(lam) - lam * obs_value)\n",
    "\n",
    "with pm.Model() as m_1:\n",
    "    cid=pm.Data('cid', d['black_cat'])\n",
    "    adopted=pm.intX(pm.Data('adopted',d['adopted']))\n",
    "    a=pm.Normal('a',0,1,shape=2)\n",
    "    mu = pm.math.exp(a[cid])\n",
    "    lam= pm.Deterministic('lam',1/mu)\n",
    "    \n",
    "    D=pm.Potential('D',likelihood(lam=lam,obs_value=d['days_to_event'].values,censored=adopted))\n",
    "    \n",
    "    trace_1=pm.sample()\n"
   ]
  },
  {
   "cell_type": "code",
   "execution_count": 59,
   "metadata": {},
   "outputs": [
    {
     "data": {
      "text/html": [
       "<div>\n",
       "<style scoped>\n",
       "    .dataframe tbody tr th:only-of-type {\n",
       "        vertical-align: middle;\n",
       "    }\n",
       "\n",
       "    .dataframe tbody tr th {\n",
       "        vertical-align: top;\n",
       "    }\n",
       "\n",
       "    .dataframe thead th {\n",
       "        text-align: right;\n",
       "    }\n",
       "</style>\n",
       "<table border=\"1\" class=\"dataframe\">\n",
       "  <thead>\n",
       "    <tr style=\"text-align: right;\">\n",
       "      <th></th>\n",
       "      <th>mean</th>\n",
       "      <th>sd</th>\n",
       "      <th>hdi_2.5%</th>\n",
       "      <th>hdi_97.5%</th>\n",
       "      <th>mcse_mean</th>\n",
       "      <th>mcse_sd</th>\n",
       "      <th>ess_bulk</th>\n",
       "      <th>ess_tail</th>\n",
       "      <th>r_hat</th>\n",
       "    </tr>\n",
       "  </thead>\n",
       "  <tbody>\n",
       "    <tr>\n",
       "      <th>a[0]</th>\n",
       "      <td>3.880</td>\n",
       "      <td>0.010</td>\n",
       "      <td>3.861</td>\n",
       "      <td>3.900</td>\n",
       "      <td>0.0</td>\n",
       "      <td>0.0</td>\n",
       "      <td>4302.0</td>\n",
       "      <td>2733.0</td>\n",
       "      <td>1.0</td>\n",
       "    </tr>\n",
       "    <tr>\n",
       "      <th>a[1]</th>\n",
       "      <td>4.051</td>\n",
       "      <td>0.026</td>\n",
       "      <td>4.003</td>\n",
       "      <td>4.104</td>\n",
       "      <td>0.0</td>\n",
       "      <td>0.0</td>\n",
       "      <td>3999.0</td>\n",
       "      <td>2861.0</td>\n",
       "      <td>1.0</td>\n",
       "    </tr>\n",
       "  </tbody>\n",
       "</table>\n",
       "</div>"
      ],
      "text/plain": [
       "       mean     sd  hdi_2.5%  hdi_97.5%  mcse_mean  mcse_sd  ess_bulk  \\\n",
       "a[0]  3.880  0.010     3.861      3.900        0.0      0.0    4302.0   \n",
       "a[1]  4.051  0.026     4.003      4.104        0.0      0.0    3999.0   \n",
       "\n",
       "      ess_tail  r_hat  \n",
       "a[0]    2733.0    1.0  \n",
       "a[1]    2861.0    1.0  "
      ]
     },
     "execution_count": 59,
     "metadata": {},
     "output_type": "execute_result"
    }
   ],
   "source": [
    "# not specifying var_names will return lambda for each color\n",
    "df_summary_a = az.summary(trace_1, var_names='a')\n",
    "df_summary_a.head()"
   ]
  },
  {
   "attachments": {},
   "cell_type": "markdown",
   "metadata": {},
   "source": [
    "We modeled $\\alpha$ and we want to get the rate $\\lambda$. (Following from Kurz.)\n",
    "\n",
    "\\begin{align*}\n",
    "\\log \\mu             & = \\alpha_\\text{black}, && \\text{and} \\\\\n",
    "\\lambda              & = 1 / \\mu,             && \\text{therefore} \\\\\n",
    "\\lambda_\\text{black} & = 1 / \\exp(\\alpha_\\text{black}).\n",
    "\\end{align*}\n",
    "\n"
   ]
  },
  {
   "cell_type": "code",
   "execution_count": 64,
   "metadata": {},
   "outputs": [
    {
     "data": {
      "text/html": [
       "<div>\n",
       "<style scoped>\n",
       "    .dataframe tbody tr th:only-of-type {\n",
       "        vertical-align: middle;\n",
       "    }\n",
       "\n",
       "    .dataframe tbody tr th {\n",
       "        vertical-align: top;\n",
       "    }\n",
       "\n",
       "    .dataframe thead th {\n",
       "        text-align: right;\n",
       "    }\n",
       "</style>\n",
       "<table border=\"1\" class=\"dataframe\">\n",
       "  <thead>\n",
       "    <tr style=\"text-align: right;\">\n",
       "      <th></th>\n",
       "      <th>mean</th>\n",
       "      <th>hdi_2.5%</th>\n",
       "      <th>hdi_97.5%</th>\n",
       "    </tr>\n",
       "  </thead>\n",
       "  <tbody>\n",
       "    <tr>\n",
       "      <th>a[0]</th>\n",
       "      <td>0.020651</td>\n",
       "      <td>0.021047</td>\n",
       "      <td>0.020242</td>\n",
       "    </tr>\n",
       "    <tr>\n",
       "      <th>a[1]</th>\n",
       "      <td>0.017405</td>\n",
       "      <td>0.018261</td>\n",
       "      <td>0.016507</td>\n",
       "    </tr>\n",
       "  </tbody>\n",
       "</table>\n",
       "</div>"
      ],
      "text/plain": [
       "          mean  hdi_2.5%  hdi_97.5%\n",
       "a[0]  0.020651  0.021047   0.020242\n",
       "a[1]  0.017405  0.018261   0.016507"
      ]
     },
     "execution_count": 64,
     "metadata": {},
     "output_type": "execute_result"
    }
   ],
   "source": [
    "# rates for each color\n",
    "1 / np.exp(df_summary_a.loc[:, ['mean', 'hdi_2.5%', 'hdi_97.5%']])"
   ]
  },
  {
   "attachments": {},
   "cell_type": "markdown",
   "metadata": {},
   "source": [
    "This shows that the mean lambda (rate of adoption) for black cats is slower than cats of other color.\n",
    "\n",
    "Let's visualize by looking at the impact of this over 100 days where the y-axis is the probability of adoption."
   ]
  },
  {
   "cell_type": "code",
   "execution_count": 103,
   "metadata": {},
   "outputs": [
    {
     "data": {
      "text/plain": [
       "mean         0.020651\n",
       "hdi_2.5%     0.021047\n",
       "hdi_97.5%    0.020242\n",
       "Name: a[0], dtype: float64"
      ]
     },
     "execution_count": 103,
     "metadata": {},
     "output_type": "execute_result"
    }
   ],
   "source": [
    "rate_other = 1 / np.exp(df_summary_a.loc['a[0]', ['mean', 'hdi_2.5%', 'hdi_97.5%']])\n",
    "rate_other"
   ]
  },
  {
   "cell_type": "code",
   "execution_count": 70,
   "metadata": {},
   "outputs": [
    {
     "data": {
      "text/plain": [
       "array([  0.        ,   1.01010101,   2.02020202,   3.03030303,\n",
       "         4.04040404,   5.05050505,   6.06060606,   7.07070707,\n",
       "         8.08080808,   9.09090909,  10.1010101 ,  11.11111111,\n",
       "        12.12121212,  13.13131313,  14.14141414,  15.15151515,\n",
       "        16.16161616,  17.17171717,  18.18181818,  19.19191919,\n",
       "        20.2020202 ,  21.21212121,  22.22222222,  23.23232323,\n",
       "        24.24242424,  25.25252525,  26.26262626,  27.27272727,\n",
       "        28.28282828,  29.29292929,  30.3030303 ,  31.31313131,\n",
       "        32.32323232,  33.33333333,  34.34343434,  35.35353535,\n",
       "        36.36363636,  37.37373737,  38.38383838,  39.39393939,\n",
       "        40.4040404 ,  41.41414141,  42.42424242,  43.43434343,\n",
       "        44.44444444,  45.45454545,  46.46464646,  47.47474747,\n",
       "        48.48484848,  49.49494949,  50.50505051,  51.51515152,\n",
       "        52.52525253,  53.53535354,  54.54545455,  55.55555556,\n",
       "        56.56565657,  57.57575758,  58.58585859,  59.5959596 ,\n",
       "        60.60606061,  61.61616162,  62.62626263,  63.63636364,\n",
       "        64.64646465,  65.65656566,  66.66666667,  67.67676768,\n",
       "        68.68686869,  69.6969697 ,  70.70707071,  71.71717172,\n",
       "        72.72727273,  73.73737374,  74.74747475,  75.75757576,\n",
       "        76.76767677,  77.77777778,  78.78787879,  79.7979798 ,\n",
       "        80.80808081,  81.81818182,  82.82828283,  83.83838384,\n",
       "        84.84848485,  85.85858586,  86.86868687,  87.87878788,\n",
       "        88.88888889,  89.8989899 ,  90.90909091,  91.91919192,\n",
       "        92.92929293,  93.93939394,  94.94949495,  95.95959596,\n",
       "        96.96969697,  97.97979798,  98.98989899, 100.        ])"
      ]
     },
     "execution_count": 70,
     "metadata": {},
     "output_type": "execute_result"
    }
   ],
   "source": [
    "time = np.linspace(0, 100, 100)\n",
    "time"
   ]
  },
  {
   "cell_type": "code",
   "execution_count": 82,
   "metadata": {},
   "outputs": [
    {
     "data": {
      "text/plain": [
       "mean   -3.88\n",
       "Name: a[0], dtype: float64"
      ]
     },
     "execution_count": 82,
     "metadata": {},
     "output_type": "execute_result"
    }
   ],
   "source": [
    "-df_summary_a.loc['a[0]', ['mean']]"
   ]
  },
  {
   "cell_type": "code",
   "execution_count": 109,
   "metadata": {},
   "outputs": [
    {
     "data": {
      "text/plain": [
       "Index(['mean', 'hdi_2.5%', 'hdi_97.5%'], dtype='object')"
      ]
     },
     "execution_count": 109,
     "metadata": {},
     "output_type": "execute_result"
    }
   ],
   "source": [
    "rate_other.index"
   ]
  },
  {
   "cell_type": "code",
   "execution_count": 114,
   "metadata": {},
   "outputs": [
    {
     "data": {
      "text/plain": [
       "<matplotlib.legend.Legend at 0x191741250>"
      ]
     },
     "execution_count": 114,
     "metadata": {},
     "output_type": "execute_result"
    },
    {
     "data": {
      "image/png": "[encoded data removed]",
      "text/plain": [
       "<Figure size 1200x500 with 1 Axes>"
      ]
     },
     "metadata": {
      "image/png": {
       "height": 511,
       "width": 1211
      }
     },
     "output_type": "display_data"
    }
   ],
   "source": [
    "# per https://docs.scipy.org/doc/scipy/reference/generated/scipy.stats.expon.html\n",
    "# A common parameterization for expon is in terms of the rate parameter lambda, \n",
    "# such that pdf = lambda * exp(-lambda * x). \n",
    "# This parameterization corresponds to using scale = 1 / lambda.\n",
    "\n",
    "f, ax = plt.subplots(figsize=(12,5))\n",
    "\n",
    "for x in rate_other.index:\n",
    "    rv = expon(scale=(1/rate_other[x]))  # has default loc=0, scale=1, size=1\n",
    "    ax.plot(time, rv.pdf(time), 'k-', lw=2, label=x)\n",
    "\n",
    "ax.legend()\n",
    "\n",
    "\n"
   ]
  },
  {
   "cell_type": "code",
   "execution_count": 96,
   "metadata": {},
   "outputs": [
    {
     "ename": "TypeError",
     "evalue": "rv_continuous_frozen.pdf() missing 1 required positional argument: 'x'",
     "output_type": "error",
     "traceback": [
      "\u001b[0;31m---------------------------------------------------------------------------\u001b[0m",
      "\u001b[0;31mTypeError\u001b[0m                                 Traceback (most recent call last)",
      "Cell \u001b[0;32mIn[96], line 1\u001b[0m\n\u001b[0;32m----> 1\u001b[0m rv1\u001b[39m.\u001b[39;49mpdf()\n",
      "\u001b[0;31mTypeError\u001b[0m: rv_continuous_frozen.pdf() missing 1 required positional argument: 'x'"
     ]
    }
   ],
   "source": [
    "rv1.pdf()"
   ]
  },
  {
   "cell_type": "code",
   "execution_count": 33,
   "metadata": {},
   "outputs": [
    {
     "data": {
      "text/html": [
       "<div>\n",
       "<style scoped>\n",
       "    .dataframe tbody tr th:only-of-type {\n",
       "        vertical-align: middle;\n",
       "    }\n",
       "\n",
       "    .dataframe tbody tr th {\n",
       "        vertical-align: top;\n",
       "    }\n",
       "\n",
       "    .dataframe thead th {\n",
       "        text-align: right;\n",
       "    }\n",
       "</style>\n",
       "<table border=\"1\" class=\"dataframe\">\n",
       "  <thead>\n",
       "    <tr style=\"text-align: right;\">\n",
       "      <th></th>\n",
       "      <th>id</th>\n",
       "      <th>days_to_event</th>\n",
       "      <th>date_out</th>\n",
       "      <th>out_event</th>\n",
       "      <th>date_in</th>\n",
       "      <th>in_event</th>\n",
       "      <th>breed</th>\n",
       "      <th>color</th>\n",
       "      <th>intake_age</th>\n",
       "      <th>black</th>\n",
       "      <th>adopted</th>\n",
       "      <th>censored</th>\n",
       "    </tr>\n",
       "  </thead>\n",
       "  <tbody>\n",
       "    <tr>\n",
       "      <th>0</th>\n",
       "      <td>A730601</td>\n",
       "      <td>1</td>\n",
       "      <td>07/08/2016 09:00:00 AM</td>\n",
       "      <td>Transfer</td>\n",
       "      <td>07/07/2016 12:11:00 PM</td>\n",
       "      <td>Stray</td>\n",
       "      <td>Domestic Shorthair Mix</td>\n",
       "      <td>Blue Tabby</td>\n",
       "      <td>7</td>\n",
       "      <td>other</td>\n",
       "      <td>0</td>\n",
       "      <td>1</td>\n",
       "    </tr>\n",
       "    <tr>\n",
       "      <th>1</th>\n",
       "      <td>A679549</td>\n",
       "      <td>25</td>\n",
       "      <td>06/16/2014 01:54:00 PM</td>\n",
       "      <td>Transfer</td>\n",
       "      <td>05/22/2014 03:43:00 PM</td>\n",
       "      <td>Stray</td>\n",
       "      <td>Domestic Shorthair Mix</td>\n",
       "      <td>Black/White</td>\n",
       "      <td>1</td>\n",
       "      <td>other</td>\n",
       "      <td>0</td>\n",
       "      <td>1</td>\n",
       "    </tr>\n",
       "    <tr>\n",
       "      <th>2</th>\n",
       "      <td>A683656</td>\n",
       "      <td>4</td>\n",
       "      <td>07/17/2014 04:57:00 PM</td>\n",
       "      <td>Adoption</td>\n",
       "      <td>07/13/2014 01:20:00 PM</td>\n",
       "      <td>Stray</td>\n",
       "      <td>Snowshoe Mix</td>\n",
       "      <td>Lynx Point</td>\n",
       "      <td>2</td>\n",
       "      <td>other</td>\n",
       "      <td>1</td>\n",
       "      <td>0</td>\n",
       "    </tr>\n",
       "    <tr>\n",
       "      <th>3</th>\n",
       "      <td>A709749</td>\n",
       "      <td>41</td>\n",
       "      <td>09/22/2015 12:49:00 PM</td>\n",
       "      <td>Transfer</td>\n",
       "      <td>08/12/2015 06:29:00 PM</td>\n",
       "      <td>Stray</td>\n",
       "      <td>Domestic Shorthair Mix</td>\n",
       "      <td>Calico</td>\n",
       "      <td>12</td>\n",
       "      <td>other</td>\n",
       "      <td>0</td>\n",
       "      <td>1</td>\n",
       "    </tr>\n",
       "    <tr>\n",
       "      <th>4</th>\n",
       "      <td>A733551</td>\n",
       "      <td>9</td>\n",
       "      <td>09/01/2016 12:00:00 AM</td>\n",
       "      <td>Transfer</td>\n",
       "      <td>08/23/2016 02:35:00 PM</td>\n",
       "      <td>Stray</td>\n",
       "      <td>Domestic Shorthair Mix</td>\n",
       "      <td>Brown Tabby/White</td>\n",
       "      <td>1</td>\n",
       "      <td>other</td>\n",
       "      <td>0</td>\n",
       "      <td>1</td>\n",
       "    </tr>\n",
       "  </tbody>\n",
       "</table>\n",
       "</div>"
      ],
      "text/plain": [
       "        id  days_to_event                date_out out_event  \\\n",
       "0  A730601              1  07/08/2016 09:00:00 AM  Transfer   \n",
       "1  A679549             25  06/16/2014 01:54:00 PM  Transfer   \n",
       "2  A683656              4  07/17/2014 04:57:00 PM  Adoption   \n",
       "3  A709749             41  09/22/2015 12:49:00 PM  Transfer   \n",
       "4  A733551              9  09/01/2016 12:00:00 AM  Transfer   \n",
       "\n",
       "                  date_in in_event                   breed              color  \\\n",
       "0  07/07/2016 12:11:00 PM    Stray  Domestic Shorthair Mix         Blue Tabby   \n",
       "1  05/22/2014 03:43:00 PM    Stray  Domestic Shorthair Mix        Black/White   \n",
       "2  07/13/2014 01:20:00 PM    Stray            Snowshoe Mix         Lynx Point   \n",
       "3  08/12/2015 06:29:00 PM    Stray  Domestic Shorthair Mix             Calico   \n",
       "4  08/23/2016 02:35:00 PM    Stray  Domestic Shorthair Mix  Brown Tabby/White   \n",
       "\n",
       "   intake_age  black  adopted  censored  \n",
       "0           7  other        0         1  \n",
       "1           1  other        0         1  \n",
       "2           2  other        1         0  \n",
       "3          12  other        0         1  \n",
       "4           1  other        0         1  "
      ]
     },
     "execution_count": 33,
     "metadata": {},
     "output_type": "execute_result"
    }
   ],
   "source": [
    "d.head()"
   ]
  },
  {
   "attachments": {},
   "cell_type": "markdown",
   "metadata": {},
   "source": [
    "# Create synthetic `cafe` dataset\n",
    "\n",
    "The dataset I am using is created from a scenario described in Statistical Rethinking.\n",
    "\n",
    "Here are a few more details of the dataset from Dr. McElreath's book:\n",
    "> Begin by defining the population of cafés that the robot might visit. This means we’ll define the average wait time in the morning and the afternoon, as well as the correlation between them. These numbers are sufficient to define the average properties of the cafés. Let’s define these properties, then we’ll sample cafés from them.\n",
    "\n",
    "Nearly all Python code is taken from the [Statistical Rethinking pymc repo](https://github.com/pymc-devs/pymc-resources/blob/main/Rethinking_2/Chp_14.ipynb) with some minor alterations."
   ]
  },
  {
   "cell_type": "code",
   "execution_count": 5,
   "metadata": {},
   "outputs": [],
   "source": [
    "a = 3.5  # average morning wait time\n",
    "b = -1.0  # average difference afternoon wait time\n",
    "sigma_a = 1.0  # std dev in intercepts\n",
    "sigma_b = 0.5  # std dev in slopes\n",
    "rho = -0.7  # correlation between intercepts and slopes\n",
    "\n",
    "Mu = [a, b]\n",
    "\n",
    "sigmas = [sigma_a, sigma_b]\n",
    "Rho = np.matrix([[1, rho], [rho, 1]])\n",
    "Sigma = np.diag(sigmas) * Rho * np.diag(sigmas)  # covariance matrix\n",
    "\n",
    "N_cafes = 20\n",
    "vary_effects = np.random.multivariate_normal(mean=Mu, cov=Sigma, size=N_cafes)\n",
    "a_cafe = vary_effects[:, 0]\n",
    "b_cafe = vary_effects[:, 1]"
   ]
  },
  {
   "attachments": {},
   "cell_type": "markdown",
   "metadata": {},
   "source": [
    "Now simulate the observations."
   ]
  },
  {
   "cell_type": "code",
   "execution_count": 151,
   "metadata": {},
   "outputs": [],
   "source": [
    "N_visits = 10\n",
    "afternoon = np.tile([0, 1], N_visits * N_cafes // 2)\n",
    "cafe_id = np.repeat(np.arange(0, N_cafes), N_visits)\n",
    "\n",
    "mu = a_cafe[cafe_id] + b_cafe[cafe_id] * afternoon\n",
    "sigma = 0.5  # std dev within cafes\n",
    "\n",
    "wait = np.random.normal(loc=mu, scale=sigma, size=N_visits * N_cafes)\n",
    "df_cafes = pd.DataFrame(dict(cafe=cafe_id, afternoon=afternoon, wait=wait))"
   ]
  },
  {
   "attachments": {},
   "cell_type": "markdown",
   "metadata": {},
   "source": [
    "To get a sense of the data structure we just created, let's take a look at the first and last 5 rows."
   ]
  },
  {
   "cell_type": "code",
   "execution_count": 7,
   "metadata": {},
   "outputs": [
    {
     "data": {
      "text/html": [
       "<div>\n",
       "<style scoped>\n",
       "    .dataframe tbody tr th:only-of-type {\n",
       "        vertical-align: middle;\n",
       "    }\n",
       "\n",
       "    .dataframe tbody tr th {\n",
       "        vertical-align: top;\n",
       "    }\n",
       "\n",
       "    .dataframe thead th {\n",
       "        text-align: right;\n",
       "    }\n",
       "</style>\n",
       "<table border=\"1\" class=\"dataframe\">\n",
       "  <thead>\n",
       "    <tr style=\"text-align: right;\">\n",
       "      <th></th>\n",
       "      <th>cafe</th>\n",
       "      <th>afternoon</th>\n",
       "      <th>wait</th>\n",
       "    </tr>\n",
       "  </thead>\n",
       "  <tbody>\n",
       "    <tr>\n",
       "      <th>0</th>\n",
       "      <td>0</td>\n",
       "      <td>0</td>\n",
       "      <td>2.724888</td>\n",
       "    </tr>\n",
       "    <tr>\n",
       "      <th>1</th>\n",
       "      <td>0</td>\n",
       "      <td>1</td>\n",
       "      <td>1.951626</td>\n",
       "    </tr>\n",
       "    <tr>\n",
       "      <th>2</th>\n",
       "      <td>0</td>\n",
       "      <td>0</td>\n",
       "      <td>2.488389</td>\n",
       "    </tr>\n",
       "    <tr>\n",
       "      <th>3</th>\n",
       "      <td>0</td>\n",
       "      <td>1</td>\n",
       "      <td>1.188077</td>\n",
       "    </tr>\n",
       "    <tr>\n",
       "      <th>4</th>\n",
       "      <td>0</td>\n",
       "      <td>0</td>\n",
       "      <td>2.026425</td>\n",
       "    </tr>\n",
       "  </tbody>\n",
       "</table>\n",
       "</div>"
      ],
      "text/plain": [
       "   cafe  afternoon      wait\n",
       "0     0          0  2.724888\n",
       "1     0          1  1.951626\n",
       "2     0          0  2.488389\n",
       "3     0          1  1.188077\n",
       "4     0          0  2.026425"
      ]
     },
     "execution_count": 7,
     "metadata": {},
     "output_type": "execute_result"
    }
   ],
   "source": [
    "df_cafes.head()"
   ]
  },
  {
   "cell_type": "code",
   "execution_count": 8,
   "metadata": {},
   "outputs": [
    {
     "data": {
      "text/html": [
       "<div>\n",
       "<style scoped>\n",
       "    .dataframe tbody tr th:only-of-type {\n",
       "        vertical-align: middle;\n",
       "    }\n",
       "\n",
       "    .dataframe tbody tr th {\n",
       "        vertical-align: top;\n",
       "    }\n",
       "\n",
       "    .dataframe thead th {\n",
       "        text-align: right;\n",
       "    }\n",
       "</style>\n",
       "<table border=\"1\" class=\"dataframe\">\n",
       "  <thead>\n",
       "    <tr style=\"text-align: right;\">\n",
       "      <th></th>\n",
       "      <th>cafe</th>\n",
       "      <th>afternoon</th>\n",
       "      <th>wait</th>\n",
       "    </tr>\n",
       "  </thead>\n",
       "  <tbody>\n",
       "    <tr>\n",
       "      <th>195</th>\n",
       "      <td>19</td>\n",
       "      <td>1</td>\n",
       "      <td>3.394933</td>\n",
       "    </tr>\n",
       "    <tr>\n",
       "      <th>196</th>\n",
       "      <td>19</td>\n",
       "      <td>0</td>\n",
       "      <td>4.544430</td>\n",
       "    </tr>\n",
       "    <tr>\n",
       "      <th>197</th>\n",
       "      <td>19</td>\n",
       "      <td>1</td>\n",
       "      <td>2.719524</td>\n",
       "    </tr>\n",
       "    <tr>\n",
       "      <th>198</th>\n",
       "      <td>19</td>\n",
       "      <td>0</td>\n",
       "      <td>3.379111</td>\n",
       "    </tr>\n",
       "    <tr>\n",
       "      <th>199</th>\n",
       "      <td>19</td>\n",
       "      <td>1</td>\n",
       "      <td>2.459750</td>\n",
       "    </tr>\n",
       "  </tbody>\n",
       "</table>\n",
       "</div>"
      ],
      "text/plain": [
       "     cafe  afternoon      wait\n",
       "195    19          1  3.394933\n",
       "196    19          0  4.544430\n",
       "197    19          1  2.719524\n",
       "198    19          0  3.379111\n",
       "199    19          1  2.459750"
      ]
     },
     "execution_count": 8,
     "metadata": {},
     "output_type": "execute_result"
    }
   ],
   "source": [
    "df_cafes.tail()"
   ]
  },
  {
   "attachments": {},
   "cell_type": "markdown",
   "metadata": {},
   "source": [
    "Note that this dataset is balanced, meaning that each group (cafe) has the same number of observations. Mixed effects / multilevel models shine with unbalanced data where it can leverage partial pooling."
   ]
  },
  {
   "attachments": {},
   "cell_type": "markdown",
   "metadata": {},
   "source": [
    "# Visualize data\n",
    "\n",
    "Let's plot the raw data and see how the effect of afternoon influences wait time. Instead of plotting in order of the arbitrarily named cafes (0 to 19), I'll show in order of increasing average morning wait time so that we can appreciate the variability across the dataset."
   ]
  },
  {
   "cell_type": "code",
   "execution_count": 212,
   "metadata": {},
   "outputs": [
    {
     "data": {
      "text/html": [
       "<div>\n",
       "<style scoped>\n",
       "    .dataframe tbody tr th:only-of-type {\n",
       "        vertical-align: middle;\n",
       "    }\n",
       "\n",
       "    .dataframe tbody tr th {\n",
       "        vertical-align: top;\n",
       "    }\n",
       "\n",
       "    .dataframe thead th {\n",
       "        text-align: right;\n",
       "    }\n",
       "</style>\n",
       "<table border=\"1\" class=\"dataframe\">\n",
       "  <thead>\n",
       "    <tr style=\"text-align: right;\">\n",
       "      <th></th>\n",
       "      <th>cafe</th>\n",
       "      <th>afternoon</th>\n",
       "      <th>wait</th>\n",
       "    </tr>\n",
       "  </thead>\n",
       "  <tbody>\n",
       "    <tr>\n",
       "      <th>0</th>\n",
       "      <td>0</td>\n",
       "      <td>0</td>\n",
       "      <td>2.644592</td>\n",
       "    </tr>\n",
       "    <tr>\n",
       "      <th>1</th>\n",
       "      <td>0</td>\n",
       "      <td>1</td>\n",
       "      <td>2.126485</td>\n",
       "    </tr>\n",
       "    <tr>\n",
       "      <th>2</th>\n",
       "      <td>0</td>\n",
       "      <td>0</td>\n",
       "      <td>2.596465</td>\n",
       "    </tr>\n",
       "    <tr>\n",
       "      <th>3</th>\n",
       "      <td>0</td>\n",
       "      <td>1</td>\n",
       "      <td>2.250297</td>\n",
       "    </tr>\n",
       "    <tr>\n",
       "      <th>4</th>\n",
       "      <td>0</td>\n",
       "      <td>0</td>\n",
       "      <td>3.310709</td>\n",
       "    </tr>\n",
       "  </tbody>\n",
       "</table>\n",
       "</div>"
      ],
      "text/plain": [
       "   cafe  afternoon      wait\n",
       "0     0          0  2.644592\n",
       "1     0          1  2.126485\n",
       "2     0          0  2.596465\n",
       "3     0          1  2.250297\n",
       "4     0          0  3.310709"
      ]
     },
     "execution_count": 212,
     "metadata": {},
     "output_type": "execute_result"
    }
   ],
   "source": [
    "df_cafes.head()"
   ]
  },
  {
   "attachments": {},
   "cell_type": "markdown",
   "metadata": {},
   "source": [
    "As you can see we get very similar intercepts and slopes for the cafe-specific estimates (varying effects) for the intercept and slope between the `lmer` and `pymc` approaches.\n",
    "\n",
    "# Summary\n",
    "\n",
    "Here in this post, I set out to compare different mixed model approaches. I looked at the equations and the programmatic implementations. I concluded by showing how the two methods can arrive at the same answer. It required a careful understanding of the differences in equations and coding language- and package-specific implementations. There were various points of writing this post that confused me but it provided opportunities for deeper understanding."
   ]
  },
  {
   "attachments": {},
   "cell_type": "markdown",
   "metadata": {},
   "source": [
    "# Acknowledgements and references\n",
    "\n",
    "Acknowledgements\n",
    "\n",
    "\n",
    "References\n"
   ]
  },
  {
   "cell_type": "code",
   "execution_count": 8,
   "metadata": {},
   "outputs": [
    {
     "name": "stdout",
     "output_type": "stream",
     "text": [
      "The watermark extension is already loaded. To reload it, use:\n",
      "  %reload_ext watermark\n",
      "Last updated: Sat Jul 01 2023\n",
      "\n",
      "Python implementation: CPython\n",
      "Python version       : 3.11.4\n",
      "IPython version      : 8.14.0\n",
      "\n",
      "arviz     : 0.15.1\n",
      "numpy     : 1.25.0\n",
      "pandas    : 2.0.3\n",
      "matplotlib: 3.7.1\n",
      "pymc      : 5.5.0\n",
      "xarray    : 2023.6.0\n",
      "\n",
      "Watermark: 2.4.2\n",
      "\n"
     ]
    }
   ],
   "source": [
    "%load_ext watermark\n",
    "%watermark -n -u -v -iv -w"
   ]
  },
  {
   "cell_type": "code",
   "execution_count": null,
   "metadata": {},
   "outputs": [],
   "source": []
  }
 ],
 "metadata": {
  "kernelspec": {
   "display_name": "Python 3.10.6 ('pymc_env2')",
   "language": "python",
   "name": "python3"
  },
  "language_info": {
   "codemirror_mode": {
    "name": "ipython",
    "version": 3
   },
   "file_extension": ".py",
   "mimetype": "text/x-python",
   "name": "python",
   "nbconvert_exporter": "python",
   "pygments_lexer": "ipython3",
   "version": "3.11.4"
  },
  "orig_nbformat": 4,
  "vscode": {
   "interpreter": {
    "hash": "fae87943fb85df74f5186de912cabfbd971e3ef3ae0d0bfbfe5cd07a432ed3a9"
   }
  }
 },
 "nbformat": 4,
 "nbformat_minor": 2
}
