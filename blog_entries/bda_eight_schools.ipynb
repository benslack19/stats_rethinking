{
 "cells": [
  {
   "cell_type": "markdown",
   "id": "5e18daa4",
   "metadata": {},
   "source": [
    "**Getting a different perspective on heirarchical models with the 8 schools dataset**\n",
    "\n",
    "What is the impact of having a heirarchical model on the coefficients of other predictor variables.\n"
   ]
  },
  {
   "cell_type": "code",
   "execution_count": 1,
   "id": "41e78d92",
   "metadata": {
    "ExecuteTime": {
     "end_time": "2021-09-29T15:06:51.874736Z",
     "start_time": "2021-09-29T15:06:39.918487Z"
    }
   },
   "outputs": [],
   "source": [
    "import arviz as az\n",
    "from datetime import timedelta\n",
    "import matplotlib.pyplot as plt\n",
    "import numpy as np\n",
    "import os\n",
    "from pathlib import Path\n",
    "import pandas as pd\n",
    "import pymc3 as pm\n",
    "import scipy.stats as stats\n",
    "import seaborn as sns\n",
    "from scipy.special import expit, logit\n",
    "from scipy.optimize import curve_fit\n",
    "import statsmodels.api as sm\n",
    "import daft\n",
    "from causalgraphicalmodels import CausalGraphicalModel\n",
    "%matplotlib inline"
   ]
  },
  {
   "cell_type": "code",
   "execution_count": 2,
   "id": "cef2325e",
   "metadata": {
    "ExecuteTime": {
     "end_time": "2021-09-29T15:07:50.634498Z",
     "start_time": "2021-09-29T15:07:50.614684Z"
    }
   },
   "outputs": [
    {
     "data": {
      "application/javascript": "\n            setTimeout(function() {\n                var nbb_cell_id = 2;\n                var nbb_unformatted_code = \"%load_ext nb_black\\n%config InlineBackend.figure_format = 'retina'\\n%load_ext watermark\\nRANDOM_SEED = 8927\\nnp.random.seed(RANDOM_SEED)\\naz.style.use(\\\"arviz-darkgrid\\\")\\naz.rcParams[\\\"stats.hdi_prob\\\"] = 0.95  # sets default credible interval used by arviz\\n\\nsns.set_context(\\\"talk\\\")\\n\\ndef standardize(x):\\n    x = (x - np.mean(x)) / np.std(x)\\n    return x\";\n                var nbb_formatted_code = \"%load_ext nb_black\\n%config InlineBackend.figure_format = 'retina'\\n%load_ext watermark\\nRANDOM_SEED = 8927\\nnp.random.seed(RANDOM_SEED)\\naz.style.use(\\\"arviz-darkgrid\\\")\\naz.rcParams[\\\"stats.hdi_prob\\\"] = 0.95  # sets default credible interval used by arviz\\n\\nsns.set_context(\\\"talk\\\")\\n\\n\\ndef standardize(x):\\n    x = (x - np.mean(x)) / np.std(x)\\n    return x\";\n                var nbb_cells = Jupyter.notebook.get_cells();\n                for (var i = 0; i < nbb_cells.length; ++i) {\n                    if (nbb_cells[i].input_prompt_number == nbb_cell_id) {\n                        if (nbb_cells[i].get_text() == nbb_unformatted_code) {\n                             nbb_cells[i].set_text(nbb_formatted_code);\n                        }\n                        break;\n                    }\n                }\n            }, 500);\n            ",
      "text/plain": [
       "<IPython.core.display.Javascript object>"
      ]
     },
     "metadata": {},
     "output_type": "display_data"
    }
   ],
   "source": [
    "%load_ext nb_black\n",
    "%config InlineBackend.figure_format = 'retina'\n",
    "%load_ext watermark\n",
    "RANDOM_SEED = 8927\n",
    "np.random.seed(RANDOM_SEED)\n",
    "az.style.use(\"arviz-darkgrid\")\n",
    "az.rcParams[\"stats.hdi_prob\"] = 0.95  # sets default credible interval used by arviz\n",
    "\n",
    "sns.set_context(\"talk\")\n",
    "\n",
    "def standardize(x):\n",
    "    x = (x - np.mean(x)) / np.std(x)\n",
    "    return x"
   ]
  },
  {
   "cell_type": "markdown",
   "id": "e237d902",
   "metadata": {},
   "source": [
    "# Approach\n",
    "\n",
    "- get dataset, see if it's available online\n",
    "- mimic another post with deeper exploration\n",
    "- add other lessons from the book"
   ]
  },
  {
   "cell_type": "markdown",
   "id": "93fae8bc",
   "metadata": {},
   "source": [
    "# Data with only the intercept, no repeat observations"
   ]
  },
  {
   "cell_type": "markdown",
   "id": "8d415382",
   "metadata": {},
   "source": [
    "A ridiculous looking DAG."
   ]
  },
  {
   "cell_type": "code",
   "execution_count": 3,
   "id": "5543ee9a",
   "metadata": {},
   "outputs": [
    {
     "data": {
      "text/plain": [
       "<matplotlib.axes._axes.Axes at 0x7fe2a08a9ac0>"
      ]
     },
     "execution_count": 3,
     "metadata": {},
     "output_type": "execute_result"
    },
    {
     "name": "stderr",
     "output_type": "stream",
     "text": [
      "/Users/blacar/opt/anaconda3/envs/stats_rethinking/lib/python3.8/site-packages/IPython/core/pylabtools.py:132: UserWarning: Calling figure.constrained_layout, but figure not setup to do constrained layout.  You either called GridSpec without the fig keyword, you are using plt.subplot, or you need to call figure or subplots with the constrained_layout=True kwarg.\n",
      "  fig.canvas.print_figure(bytes_io, **kw)\n"
     ]
    },
    {
     "data": {
      "image/png": "[encoded data removed]",
      "text/plain": [
       "<Figure size 55.1181x55.1181 with 1 Axes>"
      ]
     },
     "metadata": {
      "image/png": {
       "height": 75,
       "width": 75
      }
     },
     "output_type": "display_data"
    },
    {
     "data": {
      "application/javascript": "\n            setTimeout(function() {\n                var nbb_cell_id = 3;\n                var nbb_unformatted_code = \"dag = CausalGraphicalModel(\\n    nodes=[\\\"A\\\"],\\n    edges=[],\\n)\\npgm = daft.PGM()\\ncoordinates = {\\n    \\\"A\\\": (0, 1),\\n}\\nfor node in dag.dag.nodes:\\n    pgm.add_node(node, node, *coordinates[node])\\nfor edge in dag.dag.edges:\\n    pgm.add_edge(*edge)\\n\\npgm.render()\";\n                var nbb_formatted_code = \"dag = CausalGraphicalModel(\\n    nodes=[\\\"A\\\"],\\n    edges=[],\\n)\\npgm = daft.PGM()\\ncoordinates = {\\n    \\\"A\\\": (0, 1),\\n}\\nfor node in dag.dag.nodes:\\n    pgm.add_node(node, node, *coordinates[node])\\nfor edge in dag.dag.edges:\\n    pgm.add_edge(*edge)\\n\\npgm.render()\";\n                var nbb_cells = Jupyter.notebook.get_cells();\n                for (var i = 0; i < nbb_cells.length; ++i) {\n                    if (nbb_cells[i].input_prompt_number == nbb_cell_id) {\n                        if (nbb_cells[i].get_text() == nbb_unformatted_code) {\n                             nbb_cells[i].set_text(nbb_formatted_code);\n                        }\n                        break;\n                    }\n                }\n            }, 500);\n            ",
      "text/plain": [
       "<IPython.core.display.Javascript object>"
      ]
     },
     "metadata": {},
     "output_type": "display_data"
    }
   ],
   "source": [
    "dag = CausalGraphicalModel(\n",
    "    nodes=[\"A\"],\n",
    "    edges=[],\n",
    ")\n",
    "pgm = daft.PGM()\n",
    "coordinates = {\n",
    "    \"A\": (0, 1),\n",
    "}\n",
    "for node in dag.dag.nodes:\n",
    "    pgm.add_node(node, node, *coordinates[node])\n",
    "for edge in dag.dag.edges:\n",
    "    pgm.add_edge(*edge)\n",
    "\n",
    "pgm.render()\n"
   ]
  },
  {
   "cell_type": "code",
   "execution_count": null,
   "id": "1d8bdfc9",
   "metadata": {},
   "outputs": [],
   "source": []
  },
  {
   "cell_type": "code",
   "execution_count": 61,
   "id": "cc0ef288",
   "metadata": {
    "ExecuteTime": {
     "end_time": "2021-09-30T03:45:25.119527Z",
     "start_time": "2021-09-30T03:45:25.053264Z"
    }
   },
   "outputs": [
    {
     "name": "stdout",
     "output_type": "stream",
     "text": [
      "Last updated: Fri Apr 08 2022\n",
      "\n",
      "Python implementation: CPython\n",
      "Python version       : 3.8.6\n",
      "IPython version      : 7.20.0\n",
      "\n",
      "scipy      : 1.6.0\n",
      "statsmodels: 0.12.2\n",
      "arviz      : 0.11.1\n",
      "sys        : 3.8.6 | packaged by conda-forge | (default, Jan 25 2021, 23:22:12) \n",
      "[Clang 11.0.1 ]\n",
      "pandas     : 1.2.1\n",
      "matplotlib : 3.3.4\n",
      "seaborn    : 0.11.1\n",
      "daft       : 0.1.0\n",
      "pymc3      : 3.11.0\n",
      "numpy      : 1.20.1\n",
      "\n",
      "Watermark: 2.1.0\n",
      "\n"
     ]
    },
    {
     "data": {
      "application/javascript": "\n            setTimeout(function() {\n                var nbb_cell_id = 61;\n                var nbb_unformatted_code = \"%watermark -n -u -v -iv -w\";\n                var nbb_formatted_code = \"%watermark -n -u -v -iv -w\";\n                var nbb_cells = Jupyter.notebook.get_cells();\n                for (var i = 0; i < nbb_cells.length; ++i) {\n                    if (nbb_cells[i].input_prompt_number == nbb_cell_id) {\n                        if (nbb_cells[i].get_text() == nbb_unformatted_code) {\n                             nbb_cells[i].set_text(nbb_formatted_code);\n                        }\n                        break;\n                    }\n                }\n            }, 500);\n            ",
      "text/plain": [
       "<IPython.core.display.Javascript object>"
      ]
     },
     "metadata": {},
     "output_type": "display_data"
    }
   ],
   "source": [
    "%watermark -n -u -v -iv -w"
   ]
  },
  {
   "cell_type": "code",
   "execution_count": null,
   "id": "7e38277a",
   "metadata": {},
   "outputs": [],
   "source": []
  }
 ],
 "metadata": {
  "interpreter": {
   "hash": "e92bb7a9aacd9667df20255a0d1807f00b256076d24753ff832859a09e84cc67"
  },
  "kernelspec": {
   "display_name": "Python 3.8.6 ('stats_rethinking')",
   "language": "python",
   "name": "python3"
  },
  "language_info": {
   "codemirror_mode": {
    "name": "ipython",
    "version": 3
   },
   "file_extension": ".py",
   "mimetype": "text/x-python",
   "name": "python",
   "nbconvert_exporter": "python",
   "pygments_lexer": "ipython3",
   "version": "3.8.6"
  },
  "latex_envs": {
   "LaTeX_envs_menu_present": true,
   "autoclose": false,
   "autocomplete": true,
   "bibliofile": "biblio.bib",
   "cite_by": "apalike",
   "current_citInitial": 1,
   "eqLabelWithNumbers": true,
   "eqNumInitial": 1,
   "hotkeys": {
    "equation": "Ctrl-E",
    "itemize": "Ctrl-I"
   },
   "labels_anchors": false,
   "latex_user_defs": false,
   "report_style_numbering": false,
   "user_envs_cfg": false
  },
  "toc": {
   "base_numbering": 1,
   "nav_menu": {},
   "number_sections": true,
   "sideBar": true,
   "skip_h1_title": false,
   "title_cell": "Table of Contents",
   "title_sidebar": "Contents",
   "toc_cell": false,
   "toc_position": {
    "height": "calc(100% - 180px)",
    "left": "10px",
    "top": "150px",
    "width": "223.4px"
   },
   "toc_section_display": true,
   "toc_window_display": true
  },
  "varInspector": {
   "cols": {
    "lenName": 16,
    "lenType": 16,
    "lenVar": 40
   },
   "kernels_config": {
    "python": {
     "delete_cmd_postfix": "",
     "delete_cmd_prefix": "del ",
     "library": "var_list.py",
     "varRefreshCmd": "print(var_dic_list())"
    },
    "r": {
     "delete_cmd_postfix": ") ",
     "delete_cmd_prefix": "rm(",
     "library": "var_list.r",
     "varRefreshCmd": "cat(var_dic_list()) "
    }
   },
   "types_to_exclude": [
    "module",
    "function",
    "builtin_function_or_method",
    "instance",
    "_Feature"
   ],
   "window_display": false
  }
 },
 "nbformat": 4,
 "nbformat_minor": 5
}
