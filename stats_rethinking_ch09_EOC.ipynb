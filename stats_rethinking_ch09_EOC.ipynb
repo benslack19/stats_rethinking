{
 "cells": [
  {
   "cell_type": "markdown",
   "id": "thirty-zambia",
   "metadata": {},
   "source": [
    "This is for Chapter 9 [Winter 2020 of Statistical Rethinking](https://github.com/rmcelreath/stat_rethinking_2020/tree/main/homework) using Python. A public repo using `pmyc3` has been created [here](https://github.com/pymc-devs/resources/tree/master/Rethinking_2) that also uses Python. It will helpful for me to do these exercises myself, but that repo will serve as a helpful reference."
   ]
  },
  {
   "cell_type": "code",
   "execution_count": 1,
   "id": "neural-bachelor",
   "metadata": {
    "ExecuteTime": {
     "end_time": "2021-07-10T14:50:06.988197Z",
     "start_time": "2021-07-10T14:50:04.744585Z"
    }
   },
   "outputs": [],
   "source": [
    "import arviz as az\n",
    "import matplotlib.pyplot as plt\n",
    "import numpy as np\n",
    "import os\n",
    "import pandas as pd\n",
    "import pymc3 as pm\n",
    "import scipy.stats as stats\n",
    "import seaborn as sns\n",
    "\n",
    "from scipy.optimize import curve_fit"
   ]
  },
  {
   "cell_type": "code",
   "execution_count": 2,
   "id": "municipal-casino",
   "metadata": {
    "ExecuteTime": {
     "end_time": "2021-07-10T14:50:07.093569Z",
     "start_time": "2021-07-10T14:50:06.995501Z"
    }
   },
   "outputs": [
    {
     "data": {
      "application/javascript": [
       "\n",
       "            setTimeout(function() {\n",
       "                var nbb_cell_id = 2;\n",
       "                var nbb_unformatted_code = \"%load_ext nb_black\\n%config InlineBackend.figure_format = 'retina'\\n%load_ext watermark\\nRANDOM_SEED = 8927\\nnp.random.seed(RANDOM_SEED)\\naz.style.use(\\\"arviz-darkgrid\\\")\\naz.rcParams[\\\"stats.hdi_prob\\\"] = 0.89  # sets default credible interval used by arviz\";\n",
       "                var nbb_formatted_code = \"%load_ext nb_black\\n%config InlineBackend.figure_format = 'retina'\\n%load_ext watermark\\nRANDOM_SEED = 8927\\nnp.random.seed(RANDOM_SEED)\\naz.style.use(\\\"arviz-darkgrid\\\")\\naz.rcParams[\\\"stats.hdi_prob\\\"] = 0.89  # sets default credible interval used by arviz\";\n",
       "                var nbb_cells = Jupyter.notebook.get_cells();\n",
       "                for (var i = 0; i < nbb_cells.length; ++i) {\n",
       "                    if (nbb_cells[i].input_prompt_number == nbb_cell_id) {\n",
       "                        if (nbb_cells[i].get_text() == nbb_unformatted_code) {\n",
       "                             nbb_cells[i].set_text(nbb_formatted_code);\n",
       "                        }\n",
       "                        break;\n",
       "                    }\n",
       "                }\n",
       "            }, 500);\n",
       "            "
      ],
      "text/plain": [
       "<IPython.core.display.Javascript object>"
      ]
     },
     "metadata": {},
     "output_type": "display_data"
    }
   ],
   "source": [
    "%load_ext nb_black\n",
    "%config InlineBackend.figure_format = 'retina'\n",
    "%load_ext watermark\n",
    "RANDOM_SEED = 8927\n",
    "np.random.seed(RANDOM_SEED)\n",
    "az.style.use(\"arviz-darkgrid\")\n",
    "az.rcParams[\"stats.hdi_prob\"] = 0.89  # sets default credible interval used by arviz"
   ]
  },
  {
   "cell_type": "code",
   "execution_count": 3,
   "id": "martial-effect",
   "metadata": {
    "ExecuteTime": {
     "end_time": "2021-07-10T14:50:07.110611Z",
     "start_time": "2021-07-10T14:50:07.104941Z"
    }
   },
   "outputs": [
    {
     "data": {
      "text/plain": [
       "'/Users/blacar/Documents/ds_projects/stats_rethinking/repo'"
      ]
     },
     "execution_count": 3,
     "metadata": {},
     "output_type": "execute_result"
    },
    {
     "data": {
      "application/javascript": [
       "\n",
       "            setTimeout(function() {\n",
       "                var nbb_cell_id = 3;\n",
       "                var nbb_unformatted_code = \"sns.set_context(\\\"talk\\\")\\nos.getcwd()\";\n",
       "                var nbb_formatted_code = \"sns.set_context(\\\"talk\\\")\\nos.getcwd()\";\n",
       "                var nbb_cells = Jupyter.notebook.get_cells();\n",
       "                for (var i = 0; i < nbb_cells.length; ++i) {\n",
       "                    if (nbb_cells[i].input_prompt_number == nbb_cell_id) {\n",
       "                        if (nbb_cells[i].get_text() == nbb_unformatted_code) {\n",
       "                             nbb_cells[i].set_text(nbb_formatted_code);\n",
       "                        }\n",
       "                        break;\n",
       "                    }\n",
       "                }\n",
       "            }, 500);\n",
       "            "
      ],
      "text/plain": [
       "<IPython.core.display.Javascript object>"
      ]
     },
     "metadata": {},
     "output_type": "display_data"
    }
   ],
   "source": [
    "sns.set_context(\"talk\")\n",
    "os.getcwd()"
   ]
  },
  {
   "cell_type": "code",
   "execution_count": 4,
   "id": "51ec0ba6",
   "metadata": {
    "ExecuteTime": {
     "end_time": "2021-07-10T14:50:07.124240Z",
     "start_time": "2021-07-10T14:50:07.118432Z"
    }
   },
   "outputs": [
    {
     "data": {
      "application/javascript": [
       "\n",
       "            setTimeout(function() {\n",
       "                var nbb_cell_id = 4;\n",
       "                var nbb_unformatted_code = \"def standardize(x):\\n    x = (x - np.mean(x)) / np.std(x)\\n    return x\";\n",
       "                var nbb_formatted_code = \"def standardize(x):\\n    x = (x - np.mean(x)) / np.std(x)\\n    return x\";\n",
       "                var nbb_cells = Jupyter.notebook.get_cells();\n",
       "                for (var i = 0; i < nbb_cells.length; ++i) {\n",
       "                    if (nbb_cells[i].input_prompt_number == nbb_cell_id) {\n",
       "                        if (nbb_cells[i].get_text() == nbb_unformatted_code) {\n",
       "                             nbb_cells[i].set_text(nbb_formatted_code);\n",
       "                        }\n",
       "                        break;\n",
       "                    }\n",
       "                }\n",
       "            }, 500);\n",
       "            "
      ],
      "text/plain": [
       "<IPython.core.display.Javascript object>"
      ]
     },
     "metadata": {},
     "output_type": "display_data"
    }
   ],
   "source": [
    "def standardize(x):\n",
    "    x = (x - np.mean(x)) / np.std(x)\n",
    "    return x"
   ]
  },
  {
   "cell_type": "markdown",
   "id": "e5ebf1cf",
   "metadata": {},
   "source": [
    "# Easy problems"
   ]
  },
  {
   "cell_type": "markdown",
   "id": "07ed067e",
   "metadata": {},
   "source": [
    "9E1. Which of the following is a requirement of the simple Metropolis algorithm?\n",
    "\n",
    "1. The parameters must be discrete. (no)\n",
    "2. The likelihood function must be Gaussian. (no - none of the MC algorithms have this assumption)\n",
    "3. The proposal distribution must be symmetric. (yes, Gibbs can do asymmetric)"
   ]
  },
  {
   "cell_type": "markdown",
   "id": "occupied-jonathan",
   "metadata": {},
   "source": [
    "9E2. Gibbs sampling is more efficient than the Metropolis algorithm. How does it achieve this extra\n",
    "efficiency? Are there any limitations to the Gibbs sampling strategy?\n",
    "\n",
    "\n",
    "Gibbs is basically gradient descent\n",
    "\n",
    "(McElreath's words - re-word)\n",
    "\n",
    "By “efficient,”Imeanthatyoucangetagood\n",
    "estimateoftheposteriorfromGibbssamplingwithmanyfewersamplesthanacomparable\n",
    "Metropolisapproach.Theimprovementarisesfrom adaptiveproposals in whichthedistribu-\n",
    "tionofproposedparametervaluesadjustsitselfintelligently,dependingupontheparameter\n",
    "valuesatthemoment.\n",
    "\n",
    "HowGibbssamplingcomputestheseadaptiveproposalsdependsuponusingparticu-\n",
    "larcombinationsofpriordistributionsandlikelihoodsknownas conjugatepairs. Conjugate\n",
    "pairshaveanalyticalsolutionsfortheposteriordistributionofanindividualparameter.And\n",
    "thesesolutionsarewhatallowGibbssamplingtomakesmartjumpsaroundthejointposte-\n",
    "riordistributionofallparameters.\n",
    "\n",
    "ButtherearesomeseverelimitationstoGibbssam-\n",
    "pling.First,maybeyoudon’twanttouseconjugatepriors.Someconjugatepriorsareac-\n",
    "tuallypathologicalinshape,onceyoustartbuildingmultilevelmodelsandneedpriorsfor\n",
    "entirecovariancematrixes.\n",
    "\n",
    "Second, as models become more complex and containhundredsorthousandsortens\n",
    "ofthousandsofparameters,bothMetropolisandGibbssamplingbecomeshockinglyineffi-\n",
    "cient.Thereasonisthattheytendtogetstuckinsmallregionsoftheposteriorforpotentially\n",
    "a longtime. Thehighnumberofparametersisn’ttheproblemsomuchasthefactthatmod-\n",
    "elswithmanyparametersnearlyalwayshaveregionsofhighcorrelationintheposterior.\n",
    "Thismeansthattwoormoreparametersarehighlycorrelatedwithoneanotherinthepos-\n",
    "teriorsamples.You’veseenthisbeforewith,forexample,thetwolegsexamplein Chapter6.\n",
    "Whyisthisaproblem?Becausehighcorrelationmeansanarrowridgeofhighprobability\n",
    "combinations,andbothMetropolisandGibbsmaketoomanydumbproposalsofwhereto\n",
    "gonext.Sotheygetstuck."
   ]
  },
  {
   "cell_type": "markdown",
   "id": "e80b4840",
   "metadata": {
    "ExecuteTime": {
     "end_time": "2021-07-10T14:47:18.287657Z",
     "start_time": "2021-07-10T14:47:18.266532Z"
    }
   },
   "source": [
    "9E3. Which sort of parameters can Hamiltonian Monte Carlo not handle? Can you explain why?\n",
    "\n",
    "Basically what above cannot handle?\n",
    "\n",
    "Can't work with discrete parameters!\n",
    "\n",
    "\n",
    "**Limitations.** As always, there are some limitations. HMC requires continuous parameters. It can’t glide through a discrete parameter. **In practice, this means that certain techniques, like the imputation of discrete missing data, have to be done differently with HMC.**\n",
    "\n",
    "**Remember its the parameters not the outputs that have to be discrete.**\n",
    "\n",
    "HMC can certainly sample from such models, often much more efficientlythana\n",
    "Gibbssamplercould.Butyouhavetochangehowyoucodethem.Therewillbeexamples\n",
    "in Chapter15 and Chapter16.\n",
    "ItisalsoimportanttokeepinmindthatHMCisnotmagic.Someposteriordistributions\n",
    "arejustverydifficulttosamplefrom,foranyalgorithm.We’llseeexamplesinlaterchapters.\n",
    "Inthesecases,HMCwillencountersomethingcalleda divergenttransition. We’lltalk\n",
    "a lotaboutthese,whatcausesthem,andhowtofixthem,lateron."
   ]
  },
  {
   "cell_type": "markdown",
   "id": "831335dc",
   "metadata": {
    "ExecuteTime": {
     "end_time": "2021-07-10T14:47:18.287657Z",
     "start_time": "2021-07-10T14:47:18.266532Z"
    }
   },
   "source": [
    "9E4. Explain the difference between the effective number of samples, n_eff as calculated by Stan,\n",
    "and the actual number of samples.\n",
    "\n",
    "9E5. Which value should Rhat approach, when a chain is sampling the posterior distributioncor-\n",
    "rectly?\n",
    "\n",
    "9E6. SketchagoodtraceplotforaMarkovchain,onethatiseffectivelysamplingfromtheposterior\n",
    "distribution.Whatisgoodaboutitsshape?ThensketchatraceplotforamalfunctioningMarkov\n",
    "chain.Whataboutitsshapeindicatesmalfunction?\n",
    "9E7. Repeattheproblemabove,butnowforatracerankplot."
   ]
  },
  {
   "cell_type": "markdown",
   "id": "dd5d5fe4",
   "metadata": {},
   "source": [
    "9M1.\n",
    "\n",
    "The sigma doesn't really change in the posterior. The idea is that the real sigma parameter is in both uniform and exponential.\n",
    "\n",
    "\n",
    "9M2.\n",
    "\n",
    "The new prior does matter for beta. It doesn't allow negative values like the previous priors."
   ]
  },
  {
   "cell_type": "markdown",
   "id": "seeing-overall",
   "metadata": {},
   "source": [
    "Appendix: Environment and system parameters"
   ]
  },
  {
   "cell_type": "code",
   "execution_count": 3,
   "id": "ethical-template",
   "metadata": {
    "ExecuteTime": {
     "end_time": "2021-05-26T15:05:12.224233Z",
     "start_time": "2021-05-26T15:05:12.203517Z"
    }
   },
   "outputs": [
    {
     "name": "stdout",
     "output_type": "stream",
     "text": [
      "Last updated: Wed May 26 2021\n",
      "\n",
      "Python implementation: CPython\n",
      "Python version       : 3.8.6\n",
      "IPython version      : 7.20.0\n",
      "\n",
      "scipy     : 1.6.0\n",
      "pandas    : 1.2.1\n",
      "arviz     : 0.11.1\n",
      "json      : 2.0.9\n",
      "matplotlib: 3.3.4\n",
      "pymc3     : 3.11.0\n",
      "seaborn   : 0.11.1\n",
      "numpy     : 1.20.1\n",
      "\n",
      "Watermark: 2.1.0\n",
      "\n"
     ]
    },
    {
     "data": {
      "application/javascript": [
       "\n",
       "            setTimeout(function() {\n",
       "                var nbb_cell_id = 3;\n",
       "                var nbb_unformatted_code = \"%watermark -n -u -v -iv -w\";\n",
       "                var nbb_formatted_code = \"%watermark -n -u -v -iv -w\";\n",
       "                var nbb_cells = Jupyter.notebook.get_cells();\n",
       "                for (var i = 0; i < nbb_cells.length; ++i) {\n",
       "                    if (nbb_cells[i].input_prompt_number == nbb_cell_id) {\n",
       "                        if (nbb_cells[i].get_text() == nbb_unformatted_code) {\n",
       "                             nbb_cells[i].set_text(nbb_formatted_code);\n",
       "                        }\n",
       "                        break;\n",
       "                    }\n",
       "                }\n",
       "            }, 500);\n",
       "            "
      ],
      "text/plain": [
       "<IPython.core.display.Javascript object>"
      ]
     },
     "metadata": {},
     "output_type": "display_data"
    }
   ],
   "source": [
    "%watermark -n -u -v -iv -w"
   ]
  }
 ],
 "metadata": {
  "kernelspec": {
   "display_name": "Python 3",
   "language": "python",
   "name": "python3"
  },
  "language_info": {
   "codemirror_mode": {
    "name": "ipython",
    "version": 3
   },
   "file_extension": ".py",
   "mimetype": "text/x-python",
   "name": "python",
   "nbconvert_exporter": "python",
   "pygments_lexer": "ipython3",
   "version": "3.8.6"
  },
  "latex_envs": {
   "LaTeX_envs_menu_present": true,
   "autoclose": false,
   "autocomplete": true,
   "bibliofile": "biblio.bib",
   "cite_by": "apalike",
   "current_citInitial": 1,
   "eqLabelWithNumbers": true,
   "eqNumInitial": 1,
   "hotkeys": {
    "equation": "Ctrl-E",
    "itemize": "Ctrl-I"
   },
   "labels_anchors": false,
   "latex_user_defs": false,
   "report_style_numbering": false,
   "user_envs_cfg": false
  },
  "toc": {
   "base_numbering": 1,
   "nav_menu": {},
   "number_sections": true,
   "sideBar": true,
   "skip_h1_title": false,
   "title_cell": "Table of Contents",
   "title_sidebar": "Contents",
   "toc_cell": false,
   "toc_position": {
    "height": "calc(100% - 180px)",
    "left": "10px",
    "top": "150px",
    "width": "224px"
   },
   "toc_section_display": true,
   "toc_window_display": true
  },
  "varInspector": {
   "cols": {
    "lenName": 16,
    "lenType": 16,
    "lenVar": 40
   },
   "kernels_config": {
    "python": {
     "delete_cmd_postfix": "",
     "delete_cmd_prefix": "del ",
     "library": "var_list.py",
     "varRefreshCmd": "print(var_dic_list())"
    },
    "r": {
     "delete_cmd_postfix": ") ",
     "delete_cmd_prefix": "rm(",
     "library": "var_list.r",
     "varRefreshCmd": "cat(var_dic_list()) "
    }
   },
   "types_to_exclude": [
    "module",
    "function",
    "builtin_function_or_method",
    "instance",
    "_Feature"
   ],
   "window_display": false
  }
 },
 "nbformat": 4,
 "nbformat_minor": 5
}
